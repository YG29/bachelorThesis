{
 "cells": [
  {
   "cell_type": "code",
   "execution_count": 8,
   "outputs": [],
   "source": [
    "import itertools"
   ],
   "metadata": {
    "collapsed": false,
    "ExecuteTime": {
     "end_time": "2024-04-16T14:16:42.401216Z",
     "start_time": "2024-04-16T14:16:42.393584Z"
    }
   },
   "id": "7ac30ca417417f7"
  },
  {
   "cell_type": "code",
   "execution_count": 9,
   "outputs": [],
   "source": [
    "n_trees_values = [25, 50, 80]\n",
    "max_depth_values = [3, 5, 7]\n",
    "n_estimators_values = [30, 50, 80]\n",
    "subportion_values = [0.5, 0.7, 0.9]\n",
    "n_runs_values = [20, 50, 80]\n",
    "\n",
    "# Define divisor values based on n_estimators\n",
    "divisors_by_n_estimators = {\n",
    "    30: [3, 5, 7],\n",
    "    50: [3, 5, 7],\n",
    "    80: [3, 5, 7],\n",
    "    120: [3, 5, 7]\n",
    "}\n",
    "\n",
    "# Generate parameter combinations\n",
    "parameter_combinations = []\n",
    "for n_trees, max_depth, n_estimators, subportion, n_runs in itertools.product(\n",
    "    n_trees_values, max_depth_values, n_estimators_values, subportion_values, n_runs_values\n",
    "):\n",
    "    if n_estimators in divisors_by_n_estimators:\n",
    "        divisors = divisors_by_n_estimators[n_estimators]\n",
    "        for divisor in divisors:\n",
    "            n_samples = n_estimators // divisor\n",
    "            parameter_combinations.append((n_trees, max_depth, n_estimators, subportion, n_samples, n_runs))\n"
   ],
   "metadata": {
    "collapsed": false,
    "ExecuteTime": {
     "end_time": "2024-04-16T14:16:44.025293Z",
     "start_time": "2024-04-16T14:16:44.021258Z"
    }
   },
   "id": "initial_id"
  },
  {
   "cell_type": "code",
   "execution_count": 11,
   "outputs": [
    {
     "name": "stdout",
     "output_type": "stream",
     "text": [
      "12.15\n"
     ]
    }
   ],
   "source": [
    "print(len(parameter_combinations)/60)"
   ],
   "metadata": {
    "collapsed": false,
    "ExecuteTime": {
     "end_time": "2024-04-16T14:16:59.639042Z",
     "start_time": "2024-04-16T14:16:59.624769Z"
    }
   },
   "id": "7244022a627256b3"
  },
  {
   "cell_type": "code",
   "execution_count": null,
   "outputs": [],
   "source": [],
   "metadata": {
    "collapsed": false
   },
   "id": "914d8e86592ab95"
  }
 ],
 "metadata": {
  "kernelspec": {
   "display_name": "Python 3",
   "language": "python",
   "name": "python3"
  },
  "language_info": {
   "codemirror_mode": {
    "name": "ipython",
    "version": 2
   },
   "file_extension": ".py",
   "mimetype": "text/x-python",
   "name": "python",
   "nbconvert_exporter": "python",
   "pygments_lexer": "ipython2",
   "version": "2.7.6"
  }
 },
 "nbformat": 4,
 "nbformat_minor": 5
}
