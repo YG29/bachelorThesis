{
 "cells": [
  {
   "cell_type": "code",
   "execution_count": 123,
   "id": "initial_id",
   "metadata": {
    "collapsed": true,
    "ExecuteTime": {
     "end_time": "2024-05-08T16:11:27.188227Z",
     "start_time": "2024-05-08T16:11:27.175029Z"
    }
   },
   "outputs": [],
   "source": [
    "import tensorflow as tf\n",
    "import tensorflow_decision_forests as tfdf\n",
    "import numpy as np\n",
    "from sklearn.datasets import make_regression\n",
    "from sklearn.model_selection import train_test_split\n",
    "from sklearn.metrics import mean_squared_error\n",
    "import matplotlib.pyplot as plt\n",
    "import pandas as pd"
   ]
  },
  {
   "cell_type": "code",
   "execution_count": 3,
   "outputs": [],
   "source": [
    "cali_housing_path = '../data/California_Houses.csv'\n",
    "RANDOM_SEED = 492"
   ],
   "metadata": {
    "collapsed": false,
    "ExecuteTime": {
     "end_time": "2024-05-08T14:07:09.131946Z",
     "start_time": "2024-05-08T14:07:09.127860Z"
    }
   },
   "id": "7d034f24c61b4ead"
  },
  {
   "cell_type": "code",
   "execution_count": 4,
   "outputs": [],
   "source": [
    "cali_df = pd.read_csv(cali_housing_path)"
   ],
   "metadata": {
    "collapsed": false,
    "ExecuteTime": {
     "end_time": "2024-05-08T14:07:09.151138Z",
     "start_time": "2024-05-08T14:07:09.131028Z"
    }
   },
   "id": "e67f3515498765c5"
  },
  {
   "cell_type": "code",
   "execution_count": 5,
   "outputs": [
    {
     "name": "stdout",
     "output_type": "stream",
     "text": [
      "   Median_House_Value  Median_Income  Median_Age  Tot_Rooms  Tot_Bedrooms  \\\n",
      "0            452600.0         8.3252          41        880           129   \n",
      "1            358500.0         8.3014          21       7099          1106   \n",
      "2            352100.0         7.2574          52       1467           190   \n",
      "3            341300.0         5.6431          52       1274           235   \n",
      "4            342200.0         3.8462          52       1627           280   \n",
      "\n",
      "   Population  Households  Latitude  Longitude  Distance_to_coast  \\\n",
      "0         322         126     37.88    -122.23        9263.040773   \n",
      "1        2401        1138     37.86    -122.22       10225.733072   \n",
      "2         496         177     37.85    -122.24        8259.085109   \n",
      "3         558         219     37.85    -122.25        7768.086571   \n",
      "4         565         259     37.85    -122.25        7768.086571   \n",
      "\n",
      "   Distance_to_LA  Distance_to_SanDiego  Distance_to_SanJose  \\\n",
      "0   556529.158342         735501.806984         67432.517001   \n",
      "1   554279.850069         733236.884360         65049.908574   \n",
      "2   554610.717069         733525.682937         64867.289833   \n",
      "3   555194.266086         734095.290744         65287.138412   \n",
      "4   555194.266086         734095.290744         65287.138412   \n",
      "\n",
      "   Distance_to_SanFrancisco  \n",
      "0              21250.213767  \n",
      "1              20880.600400  \n",
      "2              18811.487450  \n",
      "3              18031.047568  \n",
      "4              18031.047568  \n"
     ]
    }
   ],
   "source": [
    "print(cali_df.head())"
   ],
   "metadata": {
    "collapsed": false,
    "ExecuteTime": {
     "end_time": "2024-05-08T14:07:09.161186Z",
     "start_time": "2024-05-08T14:07:09.152071Z"
    }
   },
   "id": "dd3a9aebe1b6f202"
  },
  {
   "cell_type": "code",
   "execution_count": 6,
   "outputs": [],
   "source": [
    "y_series = cali_df['Median_House_Value']\n",
    "y = pd.DataFrame(y_series, columns=['Median_House_Value'])\n",
    "features = [col for col in cali_df.columns if col != 'Median_House_Value']\n",
    "X = cali_df[features]"
   ],
   "metadata": {
    "collapsed": false,
    "ExecuteTime": {
     "end_time": "2024-05-08T14:07:09.165114Z",
     "start_time": "2024-05-08T14:07:09.158925Z"
    }
   },
   "id": "6ac9273c8f8fd518"
  },
  {
   "cell_type": "code",
   "execution_count": 7,
   "outputs": [],
   "source": [
    "X_train, X_test, y_train, y_test = train_test_split(X, y, test_size=0.2, random_state=RANDOM_SEED)"
   ],
   "metadata": {
    "collapsed": false,
    "ExecuteTime": {
     "end_time": "2024-05-08T14:07:09.169109Z",
     "start_time": "2024-05-08T14:07:09.164950Z"
    }
   },
   "id": "aecb071343afa4b4"
  },
  {
   "cell_type": "code",
   "execution_count": 8,
   "outputs": [],
   "source": [
    "X_train = X_train.reset_index(drop=True)\n",
    "y_train = y_train.reset_index(drop=True)"
   ],
   "metadata": {
    "collapsed": false,
    "ExecuteTime": {
     "end_time": "2024-05-08T14:07:09.197577Z",
     "start_time": "2024-05-08T14:07:09.169213Z"
    }
   },
   "id": "c4eb199e83a8880"
  },
  {
   "cell_type": "code",
   "execution_count": 43,
   "outputs": [
    {
     "name": "stdout",
     "output_type": "stream",
     "text": [
      "[15049 12568 12860 ... 15802   591 12730]\n",
      "       Median_Income  Median_Age  Tot_Rooms  Tot_Bedrooms  Population  \\\n",
      "15049         4.0625          48       2015           356        1020   \n",
      "12568         2.5954          47       2403           517        1144   \n",
      "12860         7.0897          52       1389           191         514   \n",
      "11299         2.6048          17       2863           665         715   \n",
      "4539          3.1196          16       3311           702        1627   \n",
      "\n",
      "       Households  Latitude  Longitude  Distance_to_coast  Distance_to_LA  \\\n",
      "15049         338     33.96    -118.31       13656.731428    11939.653265   \n",
      "12568         455     36.98    -122.01       12366.089126   471280.367986   \n",
      "12860         202     37.86    -122.25        8377.321293   556025.107891   \n",
      "11299         467     33.02    -117.07       20135.412209   158136.524917   \n",
      "4539          624     32.84    -116.76       32631.382446   192658.787002   \n",
      "\n",
      "       Distance_to_SanDiego  Distance_to_SanJose  Distance_to_SanFrancisco  \n",
      "15049         174735.948817        495588.231553             563578.495328  \n",
      "12568         648355.875295         40864.194043              95812.927978  \n",
      "12860         734941.479475         66262.711478              18577.443337  \n",
      "11299          34885.757521        649733.361410             717767.977489  \n",
      "4539           39962.394340        683869.612943             751902.354913  \n",
      "       Median_House_Value\n",
      "15049            138700.0\n",
      "12568            229400.0\n",
      "12860            446200.0\n",
      "11299            148200.0\n",
      "4539             187200.0\n"
     ]
    }
   ],
   "source": [
    "subset_indices = np.random.choice(X_train.index, size=len(X_train), replace=False)\n",
    "print(subset_indices)\n",
    "X_train_subset = X_train.loc[subset_indices]\n",
    "y_train_subset = y_train.loc[subset_indices]\n",
    "print(X_train_subset.head())\n",
    "print(y_train_subset.head())"
   ],
   "metadata": {
    "collapsed": false,
    "ExecuteTime": {
     "end_time": "2024-05-08T15:01:38.738421Z",
     "start_time": "2024-05-08T15:01:38.727461Z"
    }
   },
   "id": "5fa58ed3dcaec060"
  },
  {
   "cell_type": "code",
   "execution_count": 44,
   "outputs": [],
   "source": [
    "X_train_subset = X_train_subset.reset_index(drop=True)\n",
    "y_train_subset = y_train_subset.reset_index(drop=True)"
   ],
   "metadata": {
    "collapsed": false,
    "ExecuteTime": {
     "end_time": "2024-05-08T15:01:40.610051Z",
     "start_time": "2024-05-08T15:01:40.604177Z"
    }
   },
   "id": "f7e6aed86b6f4b0f"
  },
  {
   "cell_type": "code",
   "execution_count": 50,
   "outputs": [
    {
     "name": "stdout",
     "output_type": "stream",
     "text": [
      "(16512, 1)\n"
     ]
    }
   ],
   "source": [
    "X_train_tensor = tf.constant(X_train_subset.values, dtype=tf.float32)\n",
    "y_train_tensor = tf.constant(y_train_subset.values, dtype=tf.float32)\n",
    "print(y_train_tensor.shape)"
   ],
   "metadata": {
    "collapsed": false,
    "ExecuteTime": {
     "end_time": "2024-05-08T15:05:04.875731Z",
     "start_time": "2024-05-08T15:05:04.863985Z"
    }
   },
   "id": "39c93bb427b3e986"
  },
  {
   "cell_type": "code",
   "execution_count": 111,
   "outputs": [],
   "source": [
    "class GradientBoostedTreesEnsembleRegressor(tf.keras.Model):\n",
    "    def __init__(self, n_trees=100, max_depth=3, n_estimators=100, subportion = 0.8, sample_method='RANDOM'): \n",
    "        super(GradientBoostedTreesEnsembleRegressor, self).__init__()\n",
    "        self.n_trees = n_trees\n",
    "        self.n_estimators = n_estimators\n",
    "        self.max_depth = max_depth\n",
    "        self.subportion = subportion\n",
    "        self.sample_method = sample_method\n",
    "        self.estimators = []\n",
    "\n",
    "    def build_estimator(self):\n",
    "        model = tfdf.keras.GradientBoostedTreesModel(\n",
    "            task=tfdf.keras.Task.REGRESSION,\n",
    "            num_trees=np.random.randint(self.n_trees/5, self.n_trees+1), # self.n_trees, #\n",
    "            max_depth=self.max_depth, #np.random.randint(self.max_depth/2, self.max_depth+1), # self.max_depth, # \n",
    "            validation_ratio=0.1,\n",
    "            subsample=self.subportion,\n",
    "            sampling_method=self.sample_method,\n",
    "            random_seed=self.seed # try to set this first. Maybe this is enough\n",
    "        )\n",
    "        return model\n",
    "    \n",
    "    # if not, the number of trees/depth different for each estimator\n",
    "\n",
    "    def fit(self, X, y):\n",
    "        \n",
    "        for seed in np.random.randint(0, 1000000, size=self.n_estimators):\n",
    "            self.seed = int(seed)\n",
    "            subset_size = int(self.subportion * len(X))\n",
    "            \n",
    "            # Create a subset of the dataset using sampled indices\n",
    "            subset_indices = np.random.choice(X.index, size=subset_size, replace=False)\n",
    "            X_train = X.loc[subset_indices].reset_index(drop=True)\n",
    "            y_train = y.loc[subset_indices].reset_index(drop=True)\n",
    "            \n",
    "            X_tensor = tf.constant(X_train.values, dtype=tf.float32)\n",
    "            y_tensor = tf.constant(y_train.values, dtype=tf.float32)\n",
    "        \n",
    "            \n",
    "            # subset_dataset = (X_tensor, y_tensor)\n",
    "            \n",
    "            # building each estimator\n",
    "            estimator = self.build_estimator()\n",
    "            estimator.fit(X_tensor,y_tensor)\n",
    "            self.estimators.append(estimator)\n",
    "    \n",
    "    #something's not right here\n",
    "    def predict(self, X): # use all estimators\n",
    "        predictions = []\n",
    "        # sampled_estimators = np.random.choice(self.estimators, size=n_samples, replace=False)\n",
    "        for estimator in self.estimators:\n",
    "            estimator_predictions = []\n",
    "            estimator_predictions.append(estimator.predict(X))\n",
    "            estimator_predictions = tf.stack(estimator_predictions, axis=-1)\n",
    "            predictions.append(tf.reduce_mean(estimator_predictions, axis=-1))\n",
    "        predictions = tf.stack(predictions, axis=0)\n",
    "        \n",
    "        mean_prediction = tf.reduce_mean(predictions, axis=0)\n",
    "        variance_prediction = tf.math.reduce_std(predictions, axis=0)\n",
    "        return mean_prediction, variance_prediction\n"
   ],
   "metadata": {
    "collapsed": false,
    "ExecuteTime": {
     "end_time": "2024-05-08T16:03:58.303945Z",
     "start_time": "2024-05-08T16:03:58.296818Z"
    }
   },
   "id": "919970c901a09027"
  },
  {
   "cell_type": "code",
   "execution_count": 112,
   "outputs": [],
   "source": [
    "gbt_model = GradientBoostedTreesEnsembleRegressor(\n",
    "    n_trees=50, \n",
    "    max_depth=5, \n",
    "    n_estimators=80, \n",
    "    subportion=0.8, \n",
    "    sample_method='RANDOM'\n",
    ")"
   ],
   "metadata": {
    "collapsed": false,
    "ExecuteTime": {
     "end_time": "2024-05-08T16:03:58.883186Z",
     "start_time": "2024-05-08T16:03:58.879223Z"
    }
   },
   "id": "29337526f5a1fc2b"
  },
  {
   "cell_type": "code",
   "execution_count": 113,
   "outputs": [
    {
     "name": "stdout",
     "output_type": "stream",
     "text": [
      "Use /var/folders/3r/pzt2_p_x2xdfl2057nxkp3nm0000gn/T/tmpid_47dib as temporary training directory\n",
      "Reading training dataset...\n",
      "Training dataset read in 0:00:00.142548. Found 13209 examples.\n",
      "Training model...\n"
     ]
    },
    {
     "name": "stderr",
     "output_type": "stream",
     "text": [
      "[WARNING 24-05-08 18:03:59.4539 CEST gradient_boosted_trees.cc:1840] \"goss_alpha\" set but \"sampling_method\" not equal to \"GOSS\".\n",
      "[WARNING 24-05-08 18:03:59.4539 CEST gradient_boosted_trees.cc:1851] \"goss_beta\" set but \"sampling_method\" not equal to \"GOSS\".\n",
      "[WARNING 24-05-08 18:03:59.4539 CEST gradient_boosted_trees.cc:1865] \"selective_gradient_boosting_ratio\" set but \"sampling_method\" not equal to \"SELGB\".\n"
     ]
    },
    {
     "name": "stdout",
     "output_type": "stream",
     "text": [
      "Model trained in 0:00:00.115825\n",
      "Compiling model...\n",
      "Model compiled.\n",
      "Use /var/folders/3r/pzt2_p_x2xdfl2057nxkp3nm0000gn/T/tmp4kwmrnhi as temporary training directory\n",
      "Reading training dataset...\n"
     ]
    },
    {
     "name": "stderr",
     "output_type": "stream",
     "text": [
      "[INFO 24-05-08 18:03:59.7147 CEST kernel.cc:1233] Loading model from path /var/folders/3r/pzt2_p_x2xdfl2057nxkp3nm0000gn/T/tmpid_47dib/model/ with prefix d90295a100fd4830\n",
      "[INFO 24-05-08 18:03:59.7155 CEST abstract_model.cc:1344] Engine \"GradientBoostedTreesQuickScorerExtended\" built\n",
      "[INFO 24-05-08 18:03:59.7155 CEST kernel.cc:1061] Use fast generic engine\n",
      "[WARNING 24-05-08 18:03:59.7876 CEST gradient_boosted_trees.cc:1840] \"goss_alpha\" set but \"sampling_method\" not equal to \"GOSS\".\n",
      "[WARNING 24-05-08 18:03:59.7876 CEST gradient_boosted_trees.cc:1851] \"goss_beta\" set but \"sampling_method\" not equal to \"GOSS\".\n",
      "[WARNING 24-05-08 18:03:59.7876 CEST gradient_boosted_trees.cc:1865] \"selective_gradient_boosting_ratio\" set but \"sampling_method\" not equal to \"SELGB\".\n"
     ]
    },
    {
     "name": "stdout",
     "output_type": "stream",
     "text": [
      "Training dataset read in 0:00:00.130025. Found 13209 examples.\n",
      "Training model...\n",
      "Model trained in 0:00:00.153294\n",
      "Compiling model...\n",
      "Model compiled.\n",
      "Use /var/folders/3r/pzt2_p_x2xdfl2057nxkp3nm0000gn/T/tmpits1h7ns as temporary training directory\n",
      "Reading training dataset...\n"
     ]
    },
    {
     "name": "stderr",
     "output_type": "stream",
     "text": [
      "[INFO 24-05-08 18:04:00.0733 CEST kernel.cc:1233] Loading model from path /var/folders/3r/pzt2_p_x2xdfl2057nxkp3nm0000gn/T/tmp4kwmrnhi/model/ with prefix 92d61e66b1fd44a1\n",
      "[INFO 24-05-08 18:04:00.0743 CEST kernel.cc:1061] Use fast generic engine\n",
      "[WARNING 24-05-08 18:04:00.1460 CEST gradient_boosted_trees.cc:1840] \"goss_alpha\" set but \"sampling_method\" not equal to \"GOSS\".\n",
      "[WARNING 24-05-08 18:04:00.1461 CEST gradient_boosted_trees.cc:1851] \"goss_beta\" set but \"sampling_method\" not equal to \"GOSS\".\n",
      "[WARNING 24-05-08 18:04:00.1461 CEST gradient_boosted_trees.cc:1865] \"selective_gradient_boosting_ratio\" set but \"sampling_method\" not equal to \"SELGB\".\n"
     ]
    },
    {
     "name": "stdout",
     "output_type": "stream",
     "text": [
      "Training dataset read in 0:00:00.127963. Found 13209 examples.\n",
      "Training model...\n",
      "Model trained in 0:00:00.166794\n",
      "Compiling model...\n",
      "Model compiled.\n",
      "Use /var/folders/3r/pzt2_p_x2xdfl2057nxkp3nm0000gn/T/tmpurhdcjde as temporary training directory\n",
      "Reading training dataset...\n"
     ]
    },
    {
     "name": "stderr",
     "output_type": "stream",
     "text": [
      "[INFO 24-05-08 18:04:00.4417 CEST kernel.cc:1233] Loading model from path /var/folders/3r/pzt2_p_x2xdfl2057nxkp3nm0000gn/T/tmpits1h7ns/model/ with prefix 66ab16d9b780422e\n",
      "[INFO 24-05-08 18:04:00.4429 CEST kernel.cc:1061] Use fast generic engine\n",
      "[WARNING 24-05-08 18:04:00.5139 CEST gradient_boosted_trees.cc:1840] \"goss_alpha\" set but \"sampling_method\" not equal to \"GOSS\".\n",
      "[WARNING 24-05-08 18:04:00.5140 CEST gradient_boosted_trees.cc:1851] \"goss_beta\" set but \"sampling_method\" not equal to \"GOSS\".\n",
      "[WARNING 24-05-08 18:04:00.5140 CEST gradient_boosted_trees.cc:1865] \"selective_gradient_boosting_ratio\" set but \"sampling_method\" not equal to \"SELGB\".\n"
     ]
    },
    {
     "name": "stdout",
     "output_type": "stream",
     "text": [
      "Training dataset read in 0:00:00.132988. Found 13209 examples.\n",
      "Training model...\n",
      "Model trained in 0:00:00.283960\n",
      "Compiling model...\n",
      "Model compiled.\n",
      "Use /var/folders/3r/pzt2_p_x2xdfl2057nxkp3nm0000gn/T/tmp62wews6g as temporary training directory\n",
      "Reading training dataset...\n"
     ]
    },
    {
     "name": "stderr",
     "output_type": "stream",
     "text": [
      "[INFO 24-05-08 18:04:00.9324 CEST kernel.cc:1233] Loading model from path /var/folders/3r/pzt2_p_x2xdfl2057nxkp3nm0000gn/T/tmpurhdcjde/model/ with prefix 6d8d49dc24aa421b\n",
      "[INFO 24-05-08 18:04:00.9341 CEST kernel.cc:1061] Use fast generic engine\n",
      "[WARNING 24-05-08 18:04:01.0070 CEST gradient_boosted_trees.cc:1840] \"goss_alpha\" set but \"sampling_method\" not equal to \"GOSS\".\n",
      "[WARNING 24-05-08 18:04:01.0070 CEST gradient_boosted_trees.cc:1851] \"goss_beta\" set but \"sampling_method\" not equal to \"GOSS\".\n",
      "[WARNING 24-05-08 18:04:01.0071 CEST gradient_boosted_trees.cc:1865] \"selective_gradient_boosting_ratio\" set but \"sampling_method\" not equal to \"SELGB\".\n"
     ]
    },
    {
     "name": "stdout",
     "output_type": "stream",
     "text": [
      "Training dataset read in 0:00:00.129287. Found 13209 examples.\n",
      "Training model...\n",
      "Model trained in 0:00:00.165141\n",
      "Compiling model...\n",
      "Model compiled.\n",
      "Use /var/folders/3r/pzt2_p_x2xdfl2057nxkp3nm0000gn/T/tmpuq3bahkf as temporary training directory\n",
      "Reading training dataset...\n"
     ]
    },
    {
     "name": "stderr",
     "output_type": "stream",
     "text": [
      "[INFO 24-05-08 18:04:01.3025 CEST kernel.cc:1233] Loading model from path /var/folders/3r/pzt2_p_x2xdfl2057nxkp3nm0000gn/T/tmp62wews6g/model/ with prefix 2d8af7a04bcd41c4\n",
      "[INFO 24-05-08 18:04:01.3035 CEST kernel.cc:1061] Use fast generic engine\n",
      "[WARNING 24-05-08 18:04:01.3762 CEST gradient_boosted_trees.cc:1840] \"goss_alpha\" set but \"sampling_method\" not equal to \"GOSS\".\n",
      "[WARNING 24-05-08 18:04:01.3762 CEST gradient_boosted_trees.cc:1851] \"goss_beta\" set but \"sampling_method\" not equal to \"GOSS\".\n",
      "[WARNING 24-05-08 18:04:01.3762 CEST gradient_boosted_trees.cc:1865] \"selective_gradient_boosting_ratio\" set but \"sampling_method\" not equal to \"SELGB\".\n"
     ]
    },
    {
     "name": "stdout",
     "output_type": "stream",
     "text": [
      "Training dataset read in 0:00:00.128107. Found 13209 examples.\n",
      "Training model...\n",
      "Model trained in 0:00:00.091703\n",
      "Compiling model...\n",
      "Model compiled.\n",
      "Use /var/folders/3r/pzt2_p_x2xdfl2057nxkp3nm0000gn/T/tmpr6fmhsr7 as temporary training directory\n",
      "Reading training dataset...\n",
      "Training dataset read in 0:00:00.124168. Found 13209 examples.\n",
      "Training model...\n"
     ]
    },
    {
     "name": "stderr",
     "output_type": "stream",
     "text": [
      "[INFO 24-05-08 18:04:01.5975 CEST kernel.cc:1233] Loading model from path /var/folders/3r/pzt2_p_x2xdfl2057nxkp3nm0000gn/T/tmpuq3bahkf/model/ with prefix c827ad0bc47b4ea3\n",
      "[INFO 24-05-08 18:04:01.5981 CEST kernel.cc:1061] Use fast generic engine\n",
      "[WARNING 24-05-08 18:04:01.6693 CEST gradient_boosted_trees.cc:1840] \"goss_alpha\" set but \"sampling_method\" not equal to \"GOSS\".\n",
      "[WARNING 24-05-08 18:04:01.6693 CEST gradient_boosted_trees.cc:1851] \"goss_beta\" set but \"sampling_method\" not equal to \"GOSS\".\n",
      "[WARNING 24-05-08 18:04:01.6693 CEST gradient_boosted_trees.cc:1865] \"selective_gradient_boosting_ratio\" set but \"sampling_method\" not equal to \"SELGB\".\n"
     ]
    },
    {
     "name": "stdout",
     "output_type": "stream",
     "text": [
      "Model trained in 0:00:00.124222\n",
      "Compiling model...\n",
      "Model compiled.\n",
      "Use /var/folders/3r/pzt2_p_x2xdfl2057nxkp3nm0000gn/T/tmpb1uier76 as temporary training directory\n",
      "Reading training dataset...\n"
     ]
    },
    {
     "name": "stderr",
     "output_type": "stream",
     "text": [
      "[INFO 24-05-08 18:04:01.9202 CEST kernel.cc:1233] Loading model from path /var/folders/3r/pzt2_p_x2xdfl2057nxkp3nm0000gn/T/tmpr6fmhsr7/model/ with prefix fe6ee54ba18b4b15\n",
      "[INFO 24-05-08 18:04:01.9211 CEST kernel.cc:1061] Use fast generic engine\n",
      "[WARNING 24-05-08 18:04:01.9947 CEST gradient_boosted_trees.cc:1840] \"goss_alpha\" set but \"sampling_method\" not equal to \"GOSS\".\n",
      "[WARNING 24-05-08 18:04:01.9947 CEST gradient_boosted_trees.cc:1851] \"goss_beta\" set but \"sampling_method\" not equal to \"GOSS\".\n",
      "[WARNING 24-05-08 18:04:01.9947 CEST gradient_boosted_trees.cc:1865] \"selective_gradient_boosting_ratio\" set but \"sampling_method\" not equal to \"SELGB\".\n"
     ]
    },
    {
     "name": "stdout",
     "output_type": "stream",
     "text": [
      "Training dataset read in 0:00:00.128660. Found 13209 examples.\n",
      "Training model...\n",
      "Model trained in 0:00:00.270687\n",
      "Compiling model...\n",
      "Model compiled.\n",
      "Use /var/folders/3r/pzt2_p_x2xdfl2057nxkp3nm0000gn/T/tmplmum4fx3 as temporary training directory\n",
      "Reading training dataset...\n"
     ]
    },
    {
     "name": "stderr",
     "output_type": "stream",
     "text": [
      "[INFO 24-05-08 18:04:02.3945 CEST kernel.cc:1233] Loading model from path /var/folders/3r/pzt2_p_x2xdfl2057nxkp3nm0000gn/T/tmpb1uier76/model/ with prefix 5c52b8e6b9a44cdf\n",
      "[INFO 24-05-08 18:04:02.3962 CEST kernel.cc:1061] Use fast generic engine\n",
      "[WARNING 24-05-08 18:04:02.4679 CEST gradient_boosted_trees.cc:1840] \"goss_alpha\" set but \"sampling_method\" not equal to \"GOSS\".\n",
      "[WARNING 24-05-08 18:04:02.4680 CEST gradient_boosted_trees.cc:1851] \"goss_beta\" set but \"sampling_method\" not equal to \"GOSS\".\n",
      "[WARNING 24-05-08 18:04:02.4680 CEST gradient_boosted_trees.cc:1865] \"selective_gradient_boosting_ratio\" set but \"sampling_method\" not equal to \"SELGB\".\n"
     ]
    },
    {
     "name": "stdout",
     "output_type": "stream",
     "text": [
      "Training dataset read in 0:00:00.137974. Found 13209 examples.\n",
      "Training model...\n",
      "Model trained in 0:00:00.161953\n",
      "Compiling model...\n",
      "Model compiled.\n",
      "Use /var/folders/3r/pzt2_p_x2xdfl2057nxkp3nm0000gn/T/tmp4gb1gr_h as temporary training directory\n",
      "Reading training dataset...\n"
     ]
    },
    {
     "name": "stderr",
     "output_type": "stream",
     "text": [
      "[INFO 24-05-08 18:04:02.7699 CEST kernel.cc:1233] Loading model from path /var/folders/3r/pzt2_p_x2xdfl2057nxkp3nm0000gn/T/tmplmum4fx3/model/ with prefix efbae41b96cc44ff\n",
      "[INFO 24-05-08 18:04:02.7711 CEST kernel.cc:1061] Use fast generic engine\n",
      "[WARNING 24-05-08 18:04:02.8435 CEST gradient_boosted_trees.cc:1840] \"goss_alpha\" set but \"sampling_method\" not equal to \"GOSS\".\n",
      "[WARNING 24-05-08 18:04:02.8435 CEST gradient_boosted_trees.cc:1851] \"goss_beta\" set but \"sampling_method\" not equal to \"GOSS\".\n",
      "[WARNING 24-05-08 18:04:02.8435 CEST gradient_boosted_trees.cc:1865] \"selective_gradient_boosting_ratio\" set but \"sampling_method\" not equal to \"SELGB\".\n"
     ]
    },
    {
     "name": "stdout",
     "output_type": "stream",
     "text": [
      "Training dataset read in 0:00:00.127561. Found 13209 examples.\n",
      "Training model...\n",
      "Model trained in 0:00:00.237891\n",
      "Compiling model...\n",
      "Model compiled.\n",
      "Use /var/folders/3r/pzt2_p_x2xdfl2057nxkp3nm0000gn/T/tmpc4o5trir as temporary training directory\n",
      "Reading training dataset...\n"
     ]
    },
    {
     "name": "stderr",
     "output_type": "stream",
     "text": [
      "[INFO 24-05-08 18:04:03.2098 CEST kernel.cc:1233] Loading model from path /var/folders/3r/pzt2_p_x2xdfl2057nxkp3nm0000gn/T/tmp4gb1gr_h/model/ with prefix f2e0a29fa2fb46c4\n",
      "[INFO 24-05-08 18:04:03.2112 CEST kernel.cc:1061] Use fast generic engine\n",
      "[WARNING 24-05-08 18:04:03.2827 CEST gradient_boosted_trees.cc:1840] \"goss_alpha\" set but \"sampling_method\" not equal to \"GOSS\".\n",
      "[WARNING 24-05-08 18:04:03.2827 CEST gradient_boosted_trees.cc:1851] \"goss_beta\" set but \"sampling_method\" not equal to \"GOSS\".\n",
      "[WARNING 24-05-08 18:04:03.2827 CEST gradient_boosted_trees.cc:1865] \"selective_gradient_boosting_ratio\" set but \"sampling_method\" not equal to \"SELGB\".\n"
     ]
    },
    {
     "name": "stdout",
     "output_type": "stream",
     "text": [
      "Training dataset read in 0:00:00.126433. Found 13209 examples.\n",
      "Training model...\n",
      "Model trained in 0:00:00.088391\n",
      "Compiling model...\n"
     ]
    },
    {
     "name": "stderr",
     "output_type": "stream",
     "text": [
      "[INFO 24-05-08 18:04:03.4994 CEST kernel.cc:1233] Loading model from path /var/folders/3r/pzt2_p_x2xdfl2057nxkp3nm0000gn/T/tmpc4o5trir/model/ with prefix ea812cf033234f68\n",
      "[INFO 24-05-08 18:04:03.5000 CEST kernel.cc:1061] Use fast generic engine\n"
     ]
    },
    {
     "name": "stdout",
     "output_type": "stream",
     "text": [
      "Model compiled.\n",
      "Use /var/folders/3r/pzt2_p_x2xdfl2057nxkp3nm0000gn/T/tmpjyg1jfn4 as temporary training directory\n",
      "Reading training dataset...\n",
      "Training dataset read in 0:00:00.135111. Found 13209 examples.\n",
      "Training model...\n"
     ]
    },
    {
     "name": "stderr",
     "output_type": "stream",
     "text": [
      "[WARNING 24-05-08 18:04:04.2275 CEST gradient_boosted_trees.cc:1840] \"goss_alpha\" set but \"sampling_method\" not equal to \"GOSS\".\n",
      "[WARNING 24-05-08 18:04:04.2275 CEST gradient_boosted_trees.cc:1851] \"goss_beta\" set but \"sampling_method\" not equal to \"GOSS\".\n",
      "[WARNING 24-05-08 18:04:04.2275 CEST gradient_boosted_trees.cc:1865] \"selective_gradient_boosting_ratio\" set but \"sampling_method\" not equal to \"SELGB\".\n"
     ]
    },
    {
     "name": "stdout",
     "output_type": "stream",
     "text": [
      "Model trained in 0:00:00.296165\n",
      "Compiling model...\n",
      "Model compiled.\n",
      "Use /var/folders/3r/pzt2_p_x2xdfl2057nxkp3nm0000gn/T/tmpnc9fd754 as temporary training directory\n",
      "Reading training dataset...\n"
     ]
    },
    {
     "name": "stderr",
     "output_type": "stream",
     "text": [
      "[INFO 24-05-08 18:04:04.6595 CEST kernel.cc:1233] Loading model from path /var/folders/3r/pzt2_p_x2xdfl2057nxkp3nm0000gn/T/tmpjyg1jfn4/model/ with prefix eca29965b92146ba\n",
      "[INFO 24-05-08 18:04:04.6612 CEST kernel.cc:1061] Use fast generic engine\n",
      "[WARNING 24-05-08 18:04:04.7356 CEST gradient_boosted_trees.cc:1840] \"goss_alpha\" set but \"sampling_method\" not equal to \"GOSS\".\n",
      "[WARNING 24-05-08 18:04:04.7356 CEST gradient_boosted_trees.cc:1851] \"goss_beta\" set but \"sampling_method\" not equal to \"GOSS\".\n",
      "[WARNING 24-05-08 18:04:04.7356 CEST gradient_boosted_trees.cc:1865] \"selective_gradient_boosting_ratio\" set but \"sampling_method\" not equal to \"SELGB\".\n"
     ]
    },
    {
     "name": "stdout",
     "output_type": "stream",
     "text": [
      "Training dataset read in 0:00:00.132054. Found 13209 examples.\n",
      "Training model...\n",
      "Model trained in 0:00:00.195994\n",
      "Compiling model...\n",
      "Model compiled.\n",
      "Use /var/folders/3r/pzt2_p_x2xdfl2057nxkp3nm0000gn/T/tmpdn0fcsqx as temporary training directory\n",
      "Reading training dataset...\n"
     ]
    },
    {
     "name": "stderr",
     "output_type": "stream",
     "text": [
      "[INFO 24-05-08 18:04:05.0649 CEST kernel.cc:1233] Loading model from path /var/folders/3r/pzt2_p_x2xdfl2057nxkp3nm0000gn/T/tmpnc9fd754/model/ with prefix 3f186600074949eb\n",
      "[INFO 24-05-08 18:04:05.0661 CEST kernel.cc:1061] Use fast generic engine\n",
      "[WARNING 24-05-08 18:04:05.1380 CEST gradient_boosted_trees.cc:1840] \"goss_alpha\" set but \"sampling_method\" not equal to \"GOSS\".\n",
      "[WARNING 24-05-08 18:04:05.1380 CEST gradient_boosted_trees.cc:1851] \"goss_beta\" set but \"sampling_method\" not equal to \"GOSS\".\n",
      "[WARNING 24-05-08 18:04:05.1380 CEST gradient_boosted_trees.cc:1865] \"selective_gradient_boosting_ratio\" set but \"sampling_method\" not equal to \"SELGB\".\n"
     ]
    },
    {
     "name": "stdout",
     "output_type": "stream",
     "text": [
      "Training dataset read in 0:00:00.129336. Found 13209 examples.\n",
      "Training model...\n",
      "Model trained in 0:00:00.141225\n",
      "Compiling model...\n",
      "Model compiled.\n",
      "Use /var/folders/3r/pzt2_p_x2xdfl2057nxkp3nm0000gn/T/tmp3us7t9hk as temporary training directory\n",
      "Reading training dataset...\n"
     ]
    },
    {
     "name": "stderr",
     "output_type": "stream",
     "text": [
      "[INFO 24-05-08 18:04:05.4099 CEST kernel.cc:1233] Loading model from path /var/folders/3r/pzt2_p_x2xdfl2057nxkp3nm0000gn/T/tmpdn0fcsqx/model/ with prefix dfc749f6eba44adc\n",
      "[INFO 24-05-08 18:04:05.4109 CEST kernel.cc:1061] Use fast generic engine\n",
      "[WARNING 24-05-08 18:04:05.4826 CEST gradient_boosted_trees.cc:1840] \"goss_alpha\" set but \"sampling_method\" not equal to \"GOSS\".\n",
      "[WARNING 24-05-08 18:04:05.4827 CEST gradient_boosted_trees.cc:1851] \"goss_beta\" set but \"sampling_method\" not equal to \"GOSS\".\n",
      "[WARNING 24-05-08 18:04:05.4827 CEST gradient_boosted_trees.cc:1865] \"selective_gradient_boosting_ratio\" set but \"sampling_method\" not equal to \"SELGB\".\n"
     ]
    },
    {
     "name": "stdout",
     "output_type": "stream",
     "text": [
      "Training dataset read in 0:00:00.127616. Found 13209 examples.\n",
      "Training model...\n",
      "Model trained in 0:00:00.177478\n",
      "Compiling model...\n",
      "Model compiled.\n",
      "Use /var/folders/3r/pzt2_p_x2xdfl2057nxkp3nm0000gn/T/tmpjgpu4atv as temporary training directory\n",
      "Reading training dataset...\n"
     ]
    },
    {
     "name": "stderr",
     "output_type": "stream",
     "text": [
      "[INFO 24-05-08 18:04:05.7888 CEST kernel.cc:1233] Loading model from path /var/folders/3r/pzt2_p_x2xdfl2057nxkp3nm0000gn/T/tmp3us7t9hk/model/ with prefix 460f47f84a5741e4\n",
      "[INFO 24-05-08 18:04:05.7900 CEST kernel.cc:1061] Use fast generic engine\n",
      "[WARNING 24-05-08 18:04:05.8630 CEST gradient_boosted_trees.cc:1840] \"goss_alpha\" set but \"sampling_method\" not equal to \"GOSS\".\n",
      "[WARNING 24-05-08 18:04:05.8630 CEST gradient_boosted_trees.cc:1851] \"goss_beta\" set but \"sampling_method\" not equal to \"GOSS\".\n",
      "[WARNING 24-05-08 18:04:05.8630 CEST gradient_boosted_trees.cc:1865] \"selective_gradient_boosting_ratio\" set but \"sampling_method\" not equal to \"SELGB\".\n"
     ]
    },
    {
     "name": "stdout",
     "output_type": "stream",
     "text": [
      "Training dataset read in 0:00:00.127468. Found 13209 examples.\n",
      "Training model...\n",
      "Model trained in 0:00:00.174690\n",
      "Compiling model...\n",
      "Model compiled.\n",
      "Use /var/folders/3r/pzt2_p_x2xdfl2057nxkp3nm0000gn/T/tmpzfc5an_1 as temporary training directory\n",
      "Reading training dataset...\n"
     ]
    },
    {
     "name": "stderr",
     "output_type": "stream",
     "text": [
      "[INFO 24-05-08 18:04:06.1663 CEST kernel.cc:1233] Loading model from path /var/folders/3r/pzt2_p_x2xdfl2057nxkp3nm0000gn/T/tmpjgpu4atv/model/ with prefix c55bcbb19d8544a2\n",
      "[INFO 24-05-08 18:04:06.1675 CEST kernel.cc:1061] Use fast generic engine\n",
      "[WARNING 24-05-08 18:04:06.2393 CEST gradient_boosted_trees.cc:1840] \"goss_alpha\" set but \"sampling_method\" not equal to \"GOSS\".\n",
      "[WARNING 24-05-08 18:04:06.2393 CEST gradient_boosted_trees.cc:1851] \"goss_beta\" set but \"sampling_method\" not equal to \"GOSS\".\n",
      "[WARNING 24-05-08 18:04:06.2393 CEST gradient_boosted_trees.cc:1865] \"selective_gradient_boosting_ratio\" set but \"sampling_method\" not equal to \"SELGB\".\n"
     ]
    },
    {
     "name": "stdout",
     "output_type": "stream",
     "text": [
      "Training dataset read in 0:00:00.126420. Found 13209 examples.\n",
      "Training model...\n",
      "Model trained in 0:00:00.211414\n",
      "Compiling model...\n",
      "Model compiled.\n",
      "Use /var/folders/3r/pzt2_p_x2xdfl2057nxkp3nm0000gn/T/tmpuudm2h0i as temporary training directory\n",
      "Reading training dataset...\n"
     ]
    },
    {
     "name": "stderr",
     "output_type": "stream",
     "text": [
      "[INFO 24-05-08 18:04:06.5781 CEST kernel.cc:1233] Loading model from path /var/folders/3r/pzt2_p_x2xdfl2057nxkp3nm0000gn/T/tmpzfc5an_1/model/ with prefix c089694995914c88\n",
      "[INFO 24-05-08 18:04:06.5795 CEST kernel.cc:1061] Use fast generic engine\n",
      "[WARNING 24-05-08 18:04:06.6510 CEST gradient_boosted_trees.cc:1840] \"goss_alpha\" set but \"sampling_method\" not equal to \"GOSS\".\n",
      "[WARNING 24-05-08 18:04:06.6510 CEST gradient_boosted_trees.cc:1851] \"goss_beta\" set but \"sampling_method\" not equal to \"GOSS\".\n",
      "[WARNING 24-05-08 18:04:06.6510 CEST gradient_boosted_trees.cc:1865] \"selective_gradient_boosting_ratio\" set but \"sampling_method\" not equal to \"SELGB\".\n"
     ]
    },
    {
     "name": "stdout",
     "output_type": "stream",
     "text": [
      "Training dataset read in 0:00:00.126989. Found 13209 examples.\n",
      "Training model...\n",
      "Model trained in 0:00:00.064940\n",
      "Compiling model...\n",
      "Model compiled.\n",
      "Use /var/folders/3r/pzt2_p_x2xdfl2057nxkp3nm0000gn/T/tmp0psx02_s as temporary training directory\n",
      "Reading training dataset...\n"
     ]
    },
    {
     "name": "stderr",
     "output_type": "stream",
     "text": [
      "[INFO 24-05-08 18:04:06.8447 CEST kernel.cc:1233] Loading model from path /var/folders/3r/pzt2_p_x2xdfl2057nxkp3nm0000gn/T/tmpuudm2h0i/model/ with prefix 8329d1ee69e24f1b\n",
      "[INFO 24-05-08 18:04:06.8453 CEST kernel.cc:1061] Use fast generic engine\n",
      "[WARNING 24-05-08 18:04:06.9157 CEST gradient_boosted_trees.cc:1840] \"goss_alpha\" set but \"sampling_method\" not equal to \"GOSS\".\n",
      "[WARNING 24-05-08 18:04:06.9157 CEST gradient_boosted_trees.cc:1851] \"goss_beta\" set but \"sampling_method\" not equal to \"GOSS\".\n",
      "[WARNING 24-05-08 18:04:06.9157 CEST gradient_boosted_trees.cc:1865] \"selective_gradient_boosting_ratio\" set but \"sampling_method\" not equal to \"SELGB\".\n"
     ]
    },
    {
     "name": "stdout",
     "output_type": "stream",
     "text": [
      "Training dataset read in 0:00:00.128346. Found 13209 examples.\n",
      "Training model...\n",
      "Model trained in 0:00:00.271957\n",
      "Compiling model...\n",
      "Model compiled.\n",
      "Use /var/folders/3r/pzt2_p_x2xdfl2057nxkp3nm0000gn/T/tmpbq1xdt0g as temporary training directory\n",
      "Reading training dataset...\n"
     ]
    },
    {
     "name": "stderr",
     "output_type": "stream",
     "text": [
      "[INFO 24-05-08 18:04:07.3164 CEST kernel.cc:1233] Loading model from path /var/folders/3r/pzt2_p_x2xdfl2057nxkp3nm0000gn/T/tmp0psx02_s/model/ with prefix 22030767d3a041c3\n",
      "[INFO 24-05-08 18:04:07.3182 CEST kernel.cc:1061] Use fast generic engine\n",
      "[WARNING 24-05-08 18:04:07.3894 CEST gradient_boosted_trees.cc:1840] \"goss_alpha\" set but \"sampling_method\" not equal to \"GOSS\".\n",
      "[WARNING 24-05-08 18:04:07.3894 CEST gradient_boosted_trees.cc:1851] \"goss_beta\" set but \"sampling_method\" not equal to \"GOSS\".\n",
      "[WARNING 24-05-08 18:04:07.3894 CEST gradient_boosted_trees.cc:1865] \"selective_gradient_boosting_ratio\" set but \"sampling_method\" not equal to \"SELGB\".\n"
     ]
    },
    {
     "name": "stdout",
     "output_type": "stream",
     "text": [
      "Training dataset read in 0:00:00.126581. Found 13209 examples.\n",
      "Training model...\n",
      "Model trained in 0:00:00.184700\n",
      "Compiling model...\n",
      "Model compiled.\n",
      "Use /var/folders/3r/pzt2_p_x2xdfl2057nxkp3nm0000gn/T/tmpnjz4wca3 as temporary training directory\n",
      "Reading training dataset...\n",
      "Training dataset read in 0:00:00.126102. Found 13209 examples.\n"
     ]
    },
    {
     "name": "stderr",
     "output_type": "stream",
     "text": [
      "[INFO 24-05-08 18:04:07.7018 CEST kernel.cc:1233] Loading model from path /var/folders/3r/pzt2_p_x2xdfl2057nxkp3nm0000gn/T/tmpbq1xdt0g/model/ with prefix 8f676e197efb42d9\n",
      "[INFO 24-05-08 18:04:07.7030 CEST kernel.cc:1061] Use fast generic engine\n",
      "[WARNING 24-05-08 18:04:07.7744 CEST gradient_boosted_trees.cc:1840] \"goss_alpha\" set but \"sampling_method\" not equal to \"GOSS\".\n",
      "[WARNING 24-05-08 18:04:07.7744 CEST gradient_boosted_trees.cc:1851] \"goss_beta\" set but \"sampling_method\" not equal to \"GOSS\".\n",
      "[WARNING 24-05-08 18:04:07.7744 CEST gradient_boosted_trees.cc:1865] \"selective_gradient_boosting_ratio\" set but \"sampling_method\" not equal to \"SELGB\".\n"
     ]
    },
    {
     "name": "stdout",
     "output_type": "stream",
     "text": [
      "Training model...\n",
      "Model trained in 0:00:00.124752\n",
      "Compiling model...\n",
      "Model compiled.\n",
      "Use /var/folders/3r/pzt2_p_x2xdfl2057nxkp3nm0000gn/T/tmpi93rxts_ as temporary training directory\n",
      "Reading training dataset...\n"
     ]
    },
    {
     "name": "stderr",
     "output_type": "stream",
     "text": [
      "[INFO 24-05-08 18:04:08.0270 CEST kernel.cc:1233] Loading model from path /var/folders/3r/pzt2_p_x2xdfl2057nxkp3nm0000gn/T/tmpnjz4wca3/model/ with prefix ab865943c6c94565\n",
      "[INFO 24-05-08 18:04:08.0279 CEST kernel.cc:1061] Use fast generic engine\n",
      "[WARNING 24-05-08 18:04:08.1008 CEST gradient_boosted_trees.cc:1840] \"goss_alpha\" set but \"sampling_method\" not equal to \"GOSS\".\n",
      "[WARNING 24-05-08 18:04:08.1008 CEST gradient_boosted_trees.cc:1851] \"goss_beta\" set but \"sampling_method\" not equal to \"GOSS\".\n",
      "[WARNING 24-05-08 18:04:08.1008 CEST gradient_boosted_trees.cc:1865] \"selective_gradient_boosting_ratio\" set but \"sampling_method\" not equal to \"SELGB\".\n"
     ]
    },
    {
     "name": "stdout",
     "output_type": "stream",
     "text": [
      "Training dataset read in 0:00:00.128622. Found 13209 examples.\n",
      "Training model...\n",
      "Model trained in 0:00:00.226870\n",
      "Compiling model...\n",
      "Model compiled.\n",
      "Use /var/folders/3r/pzt2_p_x2xdfl2057nxkp3nm0000gn/T/tmpdqna5eoc as temporary training directory\n",
      "Reading training dataset...\n"
     ]
    },
    {
     "name": "stderr",
     "output_type": "stream",
     "text": [
      "[INFO 24-05-08 18:04:08.4569 CEST kernel.cc:1233] Loading model from path /var/folders/3r/pzt2_p_x2xdfl2057nxkp3nm0000gn/T/tmpi93rxts_/model/ with prefix e2ddf2488af343ac\n",
      "[INFO 24-05-08 18:04:08.4584 CEST kernel.cc:1061] Use fast generic engine\n",
      "[WARNING 24-05-08 18:04:08.5298 CEST gradient_boosted_trees.cc:1840] \"goss_alpha\" set but \"sampling_method\" not equal to \"GOSS\".\n",
      "[WARNING 24-05-08 18:04:08.5298 CEST gradient_boosted_trees.cc:1851] \"goss_beta\" set but \"sampling_method\" not equal to \"GOSS\".\n",
      "[WARNING 24-05-08 18:04:08.5298 CEST gradient_boosted_trees.cc:1865] \"selective_gradient_boosting_ratio\" set but \"sampling_method\" not equal to \"SELGB\".\n"
     ]
    },
    {
     "name": "stdout",
     "output_type": "stream",
     "text": [
      "Training dataset read in 0:00:00.127653. Found 13209 examples.\n",
      "Training model...\n",
      "Model trained in 0:00:00.141050\n",
      "Compiling model...\n",
      "Model compiled.\n",
      "Use /var/folders/3r/pzt2_p_x2xdfl2057nxkp3nm0000gn/T/tmpsndu93bi as temporary training directory\n",
      "Reading training dataset...\n"
     ]
    },
    {
     "name": "stderr",
     "output_type": "stream",
     "text": [
      "[INFO 24-05-08 18:04:08.7998 CEST kernel.cc:1233] Loading model from path /var/folders/3r/pzt2_p_x2xdfl2057nxkp3nm0000gn/T/tmpdqna5eoc/model/ with prefix d9c1a35c3b0249e4\n",
      "[INFO 24-05-08 18:04:08.8008 CEST kernel.cc:1061] Use fast generic engine\n",
      "[WARNING 24-05-08 18:04:08.8723 CEST gradient_boosted_trees.cc:1840] \"goss_alpha\" set but \"sampling_method\" not equal to \"GOSS\".\n",
      "[WARNING 24-05-08 18:04:08.8723 CEST gradient_boosted_trees.cc:1851] \"goss_beta\" set but \"sampling_method\" not equal to \"GOSS\".\n",
      "[WARNING 24-05-08 18:04:08.8723 CEST gradient_boosted_trees.cc:1865] \"selective_gradient_boosting_ratio\" set but \"sampling_method\" not equal to \"SELGB\".\n"
     ]
    },
    {
     "name": "stdout",
     "output_type": "stream",
     "text": [
      "Training dataset read in 0:00:00.127594. Found 13209 examples.\n",
      "Training model...\n",
      "Model trained in 0:00:00.168271\n",
      "Compiling model...\n",
      "Model compiled.\n",
      "Use /var/folders/3r/pzt2_p_x2xdfl2057nxkp3nm0000gn/T/tmpz8_4jwz2 as temporary training directory\n",
      "Reading training dataset...\n"
     ]
    },
    {
     "name": "stderr",
     "output_type": "stream",
     "text": [
      "[INFO 24-05-08 18:04:09.1690 CEST kernel.cc:1233] Loading model from path /var/folders/3r/pzt2_p_x2xdfl2057nxkp3nm0000gn/T/tmpsndu93bi/model/ with prefix f6c47089b1cd471d\n",
      "[INFO 24-05-08 18:04:09.1701 CEST kernel.cc:1061] Use fast generic engine\n",
      "[WARNING 24-05-08 18:04:09.2418 CEST gradient_boosted_trees.cc:1840] \"goss_alpha\" set but \"sampling_method\" not equal to \"GOSS\".\n",
      "[WARNING 24-05-08 18:04:09.2418 CEST gradient_boosted_trees.cc:1851] \"goss_beta\" set but \"sampling_method\" not equal to \"GOSS\".\n",
      "[WARNING 24-05-08 18:04:09.2418 CEST gradient_boosted_trees.cc:1865] \"selective_gradient_boosting_ratio\" set but \"sampling_method\" not equal to \"SELGB\".\n"
     ]
    },
    {
     "name": "stdout",
     "output_type": "stream",
     "text": [
      "Training dataset read in 0:00:00.128229. Found 13209 examples.\n",
      "Training model...\n",
      "Model trained in 0:00:00.255721\n",
      "Compiling model...\n",
      "Model compiled.\n",
      "Use /var/folders/3r/pzt2_p_x2xdfl2057nxkp3nm0000gn/T/tmpk9r2u_l0 as temporary training directory\n",
      "Reading training dataset...\n"
     ]
    },
    {
     "name": "stderr",
     "output_type": "stream",
     "text": [
      "[INFO 24-05-08 18:04:09.6261 CEST kernel.cc:1233] Loading model from path /var/folders/3r/pzt2_p_x2xdfl2057nxkp3nm0000gn/T/tmpz8_4jwz2/model/ with prefix b273258a7d994eeb\n",
      "[INFO 24-05-08 18:04:09.6278 CEST kernel.cc:1061] Use fast generic engine\n",
      "[WARNING 24-05-08 18:04:09.6994 CEST gradient_boosted_trees.cc:1840] \"goss_alpha\" set but \"sampling_method\" not equal to \"GOSS\".\n",
      "[WARNING 24-05-08 18:04:09.6995 CEST gradient_boosted_trees.cc:1851] \"goss_beta\" set but \"sampling_method\" not equal to \"GOSS\".\n",
      "[WARNING 24-05-08 18:04:09.6995 CEST gradient_boosted_trees.cc:1865] \"selective_gradient_boosting_ratio\" set but \"sampling_method\" not equal to \"SELGB\".\n"
     ]
    },
    {
     "name": "stdout",
     "output_type": "stream",
     "text": [
      "Training dataset read in 0:00:00.129281. Found 13209 examples.\n",
      "Training model...\n",
      "Model trained in 0:00:00.178327\n",
      "Compiling model...\n",
      "Model compiled.\n",
      "Use /var/folders/3r/pzt2_p_x2xdfl2057nxkp3nm0000gn/T/tmpmx6c0yay as temporary training directory\n",
      "Reading training dataset...\n"
     ]
    },
    {
     "name": "stderr",
     "output_type": "stream",
     "text": [
      "[INFO 24-05-08 18:04:10.0082 CEST kernel.cc:1233] Loading model from path /var/folders/3r/pzt2_p_x2xdfl2057nxkp3nm0000gn/T/tmpk9r2u_l0/model/ with prefix 9ae439d2978b4611\n",
      "[INFO 24-05-08 18:04:10.0094 CEST abstract_model.cc:1344] Engine \"GradientBoostedTreesQuickScorerExtended\" built\n",
      "[INFO 24-05-08 18:04:10.0094 CEST kernel.cc:1061] Use fast generic engine\n",
      "[WARNING 24-05-08 18:04:10.0808 CEST gradient_boosted_trees.cc:1840] \"goss_alpha\" set but \"sampling_method\" not equal to \"GOSS\".\n",
      "[WARNING 24-05-08 18:04:10.0808 CEST gradient_boosted_trees.cc:1851] \"goss_beta\" set but \"sampling_method\" not equal to \"GOSS\".\n",
      "[WARNING 24-05-08 18:04:10.0808 CEST gradient_boosted_trees.cc:1865] \"selective_gradient_boosting_ratio\" set but \"sampling_method\" not equal to \"SELGB\".\n"
     ]
    },
    {
     "name": "stdout",
     "output_type": "stream",
     "text": [
      "Training dataset read in 0:00:00.127368. Found 13209 examples.\n",
      "Training model...\n",
      "Model trained in 0:00:00.151607\n",
      "Compiling model...\n",
      "Model compiled.\n",
      "Use /var/folders/3r/pzt2_p_x2xdfl2057nxkp3nm0000gn/T/tmpet67gb6c as temporary training directory\n",
      "Reading training dataset...\n",
      "Training dataset read in 0:00:00.125935. Found 13209 examples.\n",
      "Training model...\n"
     ]
    },
    {
     "name": "stderr",
     "output_type": "stream",
     "text": [
      "[INFO 24-05-08 18:04:10.3611 CEST kernel.cc:1233] Loading model from path /var/folders/3r/pzt2_p_x2xdfl2057nxkp3nm0000gn/T/tmpmx6c0yay/model/ with prefix 6aa062ac435b4546\n",
      "[INFO 24-05-08 18:04:10.3621 CEST kernel.cc:1061] Use fast generic engine\n",
      "[WARNING 24-05-08 18:04:10.4330 CEST gradient_boosted_trees.cc:1840] \"goss_alpha\" set but \"sampling_method\" not equal to \"GOSS\".\n",
      "[WARNING 24-05-08 18:04:10.4331 CEST gradient_boosted_trees.cc:1851] \"goss_beta\" set but \"sampling_method\" not equal to \"GOSS\".\n",
      "[WARNING 24-05-08 18:04:10.4331 CEST gradient_boosted_trees.cc:1865] \"selective_gradient_boosting_ratio\" set but \"sampling_method\" not equal to \"SELGB\".\n"
     ]
    },
    {
     "name": "stdout",
     "output_type": "stream",
     "text": [
      "Model trained in 0:00:00.153383\n",
      "Compiling model...\n",
      "Model compiled.\n",
      "Use /var/folders/3r/pzt2_p_x2xdfl2057nxkp3nm0000gn/T/tmpivm7buk_ as temporary training directory\n",
      "Reading training dataset...\n"
     ]
    },
    {
     "name": "stderr",
     "output_type": "stream",
     "text": [
      "[INFO 24-05-08 18:04:10.7135 CEST kernel.cc:1233] Loading model from path /var/folders/3r/pzt2_p_x2xdfl2057nxkp3nm0000gn/T/tmpet67gb6c/model/ with prefix 220bbf63c69b41e3\n",
      "[INFO 24-05-08 18:04:10.7145 CEST kernel.cc:1061] Use fast generic engine\n",
      "[WARNING 24-05-08 18:04:10.7864 CEST gradient_boosted_trees.cc:1840] \"goss_alpha\" set but \"sampling_method\" not equal to \"GOSS\".\n",
      "[WARNING 24-05-08 18:04:10.7864 CEST gradient_boosted_trees.cc:1851] \"goss_beta\" set but \"sampling_method\" not equal to \"GOSS\".\n",
      "[WARNING 24-05-08 18:04:10.7864 CEST gradient_boosted_trees.cc:1865] \"selective_gradient_boosting_ratio\" set but \"sampling_method\" not equal to \"SELGB\".\n"
     ]
    },
    {
     "name": "stdout",
     "output_type": "stream",
     "text": [
      "Training dataset read in 0:00:00.126781. Found 13209 examples.\n",
      "Training model...\n",
      "Model trained in 0:00:00.240005\n",
      "Compiling model...\n",
      "Model compiled.\n",
      "Use /var/folders/3r/pzt2_p_x2xdfl2057nxkp3nm0000gn/T/tmp7i_ydx4z as temporary training directory\n",
      "Reading training dataset...\n"
     ]
    },
    {
     "name": "stderr",
     "output_type": "stream",
     "text": [
      "[INFO 24-05-08 18:04:11.1539 CEST kernel.cc:1233] Loading model from path /var/folders/3r/pzt2_p_x2xdfl2057nxkp3nm0000gn/T/tmpivm7buk_/model/ with prefix b86d3ec8bb9d40f0\n",
      "[INFO 24-05-08 18:04:11.1554 CEST kernel.cc:1061] Use fast generic engine\n",
      "[WARNING 24-05-08 18:04:11.2267 CEST gradient_boosted_trees.cc:1840] \"goss_alpha\" set but \"sampling_method\" not equal to \"GOSS\".\n",
      "[WARNING 24-05-08 18:04:11.2268 CEST gradient_boosted_trees.cc:1851] \"goss_beta\" set but \"sampling_method\" not equal to \"GOSS\".\n",
      "[WARNING 24-05-08 18:04:11.2268 CEST gradient_boosted_trees.cc:1865] \"selective_gradient_boosting_ratio\" set but \"sampling_method\" not equal to \"SELGB\".\n"
     ]
    },
    {
     "name": "stdout",
     "output_type": "stream",
     "text": [
      "Training dataset read in 0:00:00.127078. Found 13209 examples.\n",
      "Training model...\n",
      "Model trained in 0:00:00.070077\n",
      "Compiling model...\n",
      "Model compiled.\n",
      "Use /var/folders/3r/pzt2_p_x2xdfl2057nxkp3nm0000gn/T/tmpj46uu4m2 as temporary training directory\n",
      "Reading training dataset...\n"
     ]
    },
    {
     "name": "stderr",
     "output_type": "stream",
     "text": [
      "[INFO 24-05-08 18:04:11.4259 CEST kernel.cc:1233] Loading model from path /var/folders/3r/pzt2_p_x2xdfl2057nxkp3nm0000gn/T/tmp7i_ydx4z/model/ with prefix ade6575fb5b242b5\n",
      "[INFO 24-05-08 18:04:11.4264 CEST kernel.cc:1061] Use fast generic engine\n",
      "[WARNING 24-05-08 18:04:11.4977 CEST gradient_boosted_trees.cc:1840] \"goss_alpha\" set but \"sampling_method\" not equal to \"GOSS\".\n",
      "[WARNING 24-05-08 18:04:11.4977 CEST gradient_boosted_trees.cc:1851] \"goss_beta\" set but \"sampling_method\" not equal to \"GOSS\".\n",
      "[WARNING 24-05-08 18:04:11.4977 CEST gradient_boosted_trees.cc:1865] \"selective_gradient_boosting_ratio\" set but \"sampling_method\" not equal to \"SELGB\".\n"
     ]
    },
    {
     "name": "stdout",
     "output_type": "stream",
     "text": [
      "Training dataset read in 0:00:00.127784. Found 13209 examples.\n",
      "Training model...\n",
      "Model trained in 0:00:00.140566\n",
      "Compiling model...\n",
      "Model compiled.\n",
      "Use /var/folders/3r/pzt2_p_x2xdfl2057nxkp3nm0000gn/T/tmprnw7ef8r as temporary training directory\n",
      "Reading training dataset...\n",
      "Training dataset read in 0:00:00.126820. Found 13209 examples.\n"
     ]
    },
    {
     "name": "stderr",
     "output_type": "stream",
     "text": [
      "[INFO 24-05-08 18:04:11.7674 CEST kernel.cc:1233] Loading model from path /var/folders/3r/pzt2_p_x2xdfl2057nxkp3nm0000gn/T/tmpj46uu4m2/model/ with prefix 4350bb9a9e5b4da2\n",
      "[INFO 24-05-08 18:04:11.7684 CEST kernel.cc:1061] Use fast generic engine\n",
      "[WARNING 24-05-08 18:04:11.8392 CEST gradient_boosted_trees.cc:1840] \"goss_alpha\" set but \"sampling_method\" not equal to \"GOSS\".\n",
      "[WARNING 24-05-08 18:04:11.8392 CEST gradient_boosted_trees.cc:1851] \"goss_beta\" set but \"sampling_method\" not equal to \"GOSS\".\n",
      "[WARNING 24-05-08 18:04:11.8392 CEST gradient_boosted_trees.cc:1865] \"selective_gradient_boosting_ratio\" set but \"sampling_method\" not equal to \"SELGB\".\n"
     ]
    },
    {
     "name": "stdout",
     "output_type": "stream",
     "text": [
      "Training model...\n",
      "Model trained in 0:00:00.254629\n",
      "Compiling model...\n",
      "Model compiled.\n",
      "Use /var/folders/3r/pzt2_p_x2xdfl2057nxkp3nm0000gn/T/tmpcul45nuu as temporary training directory\n",
      "Reading training dataset...\n"
     ]
    },
    {
     "name": "stderr",
     "output_type": "stream",
     "text": [
      "[INFO 24-05-08 18:04:12.2211 CEST kernel.cc:1233] Loading model from path /var/folders/3r/pzt2_p_x2xdfl2057nxkp3nm0000gn/T/tmprnw7ef8r/model/ with prefix a457243984f04637\n",
      "[INFO 24-05-08 18:04:12.2227 CEST kernel.cc:1061] Use fast generic engine\n",
      "[WARNING 24-05-08 18:04:12.2942 CEST gradient_boosted_trees.cc:1840] \"goss_alpha\" set but \"sampling_method\" not equal to \"GOSS\".\n",
      "[WARNING 24-05-08 18:04:12.2942 CEST gradient_boosted_trees.cc:1851] \"goss_beta\" set but \"sampling_method\" not equal to \"GOSS\".\n",
      "[WARNING 24-05-08 18:04:12.2942 CEST gradient_boosted_trees.cc:1865] \"selective_gradient_boosting_ratio\" set but \"sampling_method\" not equal to \"SELGB\".\n"
     ]
    },
    {
     "name": "stdout",
     "output_type": "stream",
     "text": [
      "Training dataset read in 0:00:00.126811. Found 13209 examples.\n",
      "Training model...\n",
      "Model trained in 0:00:00.270950\n",
      "Compiling model...\n",
      "Model compiled.\n",
      "Use /var/folders/3r/pzt2_p_x2xdfl2057nxkp3nm0000gn/T/tmp6ev4j5na as temporary training directory\n",
      "Reading training dataset...\n"
     ]
    },
    {
     "name": "stderr",
     "output_type": "stream",
     "text": [
      "[INFO 24-05-08 18:04:12.6926 CEST kernel.cc:1233] Loading model from path /var/folders/3r/pzt2_p_x2xdfl2057nxkp3nm0000gn/T/tmpcul45nuu/model/ with prefix 311644eef0b3479b\n",
      "[INFO 24-05-08 18:04:12.6942 CEST kernel.cc:1061] Use fast generic engine\n",
      "[WARNING 24-05-08 18:04:12.7662 CEST gradient_boosted_trees.cc:1840] \"goss_alpha\" set but \"sampling_method\" not equal to \"GOSS\".\n",
      "[WARNING 24-05-08 18:04:12.7662 CEST gradient_boosted_trees.cc:1851] \"goss_beta\" set but \"sampling_method\" not equal to \"GOSS\".\n",
      "[WARNING 24-05-08 18:04:12.7662 CEST gradient_boosted_trees.cc:1865] \"selective_gradient_boosting_ratio\" set but \"sampling_method\" not equal to \"SELGB\".\n"
     ]
    },
    {
     "name": "stdout",
     "output_type": "stream",
     "text": [
      "Training dataset read in 0:00:00.126680. Found 13209 examples.\n",
      "Training model...\n",
      "Model trained in 0:00:00.228938\n",
      "Compiling model...\n",
      "Model compiled.\n",
      "Use /var/folders/3r/pzt2_p_x2xdfl2057nxkp3nm0000gn/T/tmped0y5kaw as temporary training directory\n",
      "Reading training dataset...\n"
     ]
    },
    {
     "name": "stderr",
     "output_type": "stream",
     "text": [
      "[INFO 24-05-08 18:04:13.1226 CEST kernel.cc:1233] Loading model from path /var/folders/3r/pzt2_p_x2xdfl2057nxkp3nm0000gn/T/tmp6ev4j5na/model/ with prefix 1a8a914e2c4a4861\n",
      "[INFO 24-05-08 18:04:13.1240 CEST kernel.cc:1061] Use fast generic engine\n",
      "[WARNING 24-05-08 18:04:13.1949 CEST gradient_boosted_trees.cc:1840] \"goss_alpha\" set but \"sampling_method\" not equal to \"GOSS\".\n",
      "[WARNING 24-05-08 18:04:13.1949 CEST gradient_boosted_trees.cc:1851] \"goss_beta\" set but \"sampling_method\" not equal to \"GOSS\".\n",
      "[WARNING 24-05-08 18:04:13.1950 CEST gradient_boosted_trees.cc:1865] \"selective_gradient_boosting_ratio\" set but \"sampling_method\" not equal to \"SELGB\".\n"
     ]
    },
    {
     "name": "stdout",
     "output_type": "stream",
     "text": [
      "Training dataset read in 0:00:00.127426. Found 13209 examples.\n",
      "Training model...\n",
      "Model trained in 0:00:00.200069\n",
      "Compiling model...\n",
      "Model compiled.\n",
      "Use /var/folders/3r/pzt2_p_x2xdfl2057nxkp3nm0000gn/T/tmp9t6ha01e as temporary training directory\n",
      "Reading training dataset...\n"
     ]
    },
    {
     "name": "stderr",
     "output_type": "stream",
     "text": [
      "[INFO 24-05-08 18:04:13.5233 CEST kernel.cc:1233] Loading model from path /var/folders/3r/pzt2_p_x2xdfl2057nxkp3nm0000gn/T/tmped0y5kaw/model/ with prefix 9acad8431dbc4c8e\n",
      "[INFO 24-05-08 18:04:13.5245 CEST kernel.cc:1061] Use fast generic engine\n",
      "[WARNING 24-05-08 18:04:13.5960 CEST gradient_boosted_trees.cc:1840] \"goss_alpha\" set but \"sampling_method\" not equal to \"GOSS\".\n",
      "[WARNING 24-05-08 18:04:13.5960 CEST gradient_boosted_trees.cc:1851] \"goss_beta\" set but \"sampling_method\" not equal to \"GOSS\".\n",
      "[WARNING 24-05-08 18:04:13.5960 CEST gradient_boosted_trees.cc:1865] \"selective_gradient_boosting_ratio\" set but \"sampling_method\" not equal to \"SELGB\".\n"
     ]
    },
    {
     "name": "stdout",
     "output_type": "stream",
     "text": [
      "Training dataset read in 0:00:00.126848. Found 13209 examples.\n",
      "Training model...\n",
      "Model trained in 0:00:00.241589\n",
      "Compiling model...\n",
      "Model compiled.\n",
      "Use /var/folders/3r/pzt2_p_x2xdfl2057nxkp3nm0000gn/T/tmpqprfltrf as temporary training directory\n",
      "Reading training dataset...\n"
     ]
    },
    {
     "name": "stderr",
     "output_type": "stream",
     "text": [
      "[INFO 24-05-08 18:04:13.9650 CEST kernel.cc:1233] Loading model from path /var/folders/3r/pzt2_p_x2xdfl2057nxkp3nm0000gn/T/tmp9t6ha01e/model/ with prefix 3ad5b45a42024a40\n",
      "[INFO 24-05-08 18:04:13.9665 CEST kernel.cc:1061] Use fast generic engine\n",
      "[WARNING 24-05-08 18:04:14.0364 CEST gradient_boosted_trees.cc:1840] \"goss_alpha\" set but \"sampling_method\" not equal to \"GOSS\".\n",
      "[WARNING 24-05-08 18:04:14.0364 CEST gradient_boosted_trees.cc:1851] \"goss_beta\" set but \"sampling_method\" not equal to \"GOSS\".\n",
      "[WARNING 24-05-08 18:04:14.0364 CEST gradient_boosted_trees.cc:1865] \"selective_gradient_boosting_ratio\" set but \"sampling_method\" not equal to \"SELGB\".\n"
     ]
    },
    {
     "name": "stdout",
     "output_type": "stream",
     "text": [
      "Training dataset read in 0:00:00.128524. Found 13209 examples.\n",
      "Training model...\n",
      "Model trained in 0:00:00.109113\n",
      "Compiling model...\n",
      "Model compiled.\n",
      "Use /var/folders/3r/pzt2_p_x2xdfl2057nxkp3nm0000gn/T/tmpkznzfnlt as temporary training directory\n",
      "Reading training dataset...\n"
     ]
    },
    {
     "name": "stderr",
     "output_type": "stream",
     "text": [
      "[INFO 24-05-08 18:04:14.2756 CEST kernel.cc:1233] Loading model from path /var/folders/3r/pzt2_p_x2xdfl2057nxkp3nm0000gn/T/tmpqprfltrf/model/ with prefix 8509fc36b9e24ccf\n",
      "[INFO 24-05-08 18:04:14.2764 CEST kernel.cc:1061] Use fast generic engine\n",
      "[WARNING 24-05-08 18:04:14.3485 CEST gradient_boosted_trees.cc:1840] \"goss_alpha\" set but \"sampling_method\" not equal to \"GOSS\".\n",
      "[WARNING 24-05-08 18:04:14.3485 CEST gradient_boosted_trees.cc:1851] \"goss_beta\" set but \"sampling_method\" not equal to \"GOSS\".\n",
      "[WARNING 24-05-08 18:04:14.3485 CEST gradient_boosted_trees.cc:1865] \"selective_gradient_boosting_ratio\" set but \"sampling_method\" not equal to \"SELGB\".\n"
     ]
    },
    {
     "name": "stdout",
     "output_type": "stream",
     "text": [
      "Training dataset read in 0:00:00.128968. Found 13209 examples.\n",
      "Training model...\n",
      "Model trained in 0:00:00.113701\n",
      "Compiling model...\n",
      "Model compiled.\n",
      "Use /var/folders/3r/pzt2_p_x2xdfl2057nxkp3nm0000gn/T/tmpplo5985y as temporary training directory\n",
      "Reading training dataset...\n"
     ]
    },
    {
     "name": "stderr",
     "output_type": "stream",
     "text": [
      "[INFO 24-05-08 18:04:14.5927 CEST kernel.cc:1233] Loading model from path /var/folders/3r/pzt2_p_x2xdfl2057nxkp3nm0000gn/T/tmpkznzfnlt/model/ with prefix f7dc0563cdd54eba\n",
      "[INFO 24-05-08 18:04:14.5935 CEST kernel.cc:1061] Use fast generic engine\n",
      "[WARNING 24-05-08 18:04:14.6647 CEST gradient_boosted_trees.cc:1840] \"goss_alpha\" set but \"sampling_method\" not equal to \"GOSS\".\n",
      "[WARNING 24-05-08 18:04:14.6647 CEST gradient_boosted_trees.cc:1851] \"goss_beta\" set but \"sampling_method\" not equal to \"GOSS\".\n",
      "[WARNING 24-05-08 18:04:14.6648 CEST gradient_boosted_trees.cc:1865] \"selective_gradient_boosting_ratio\" set but \"sampling_method\" not equal to \"SELGB\".\n"
     ]
    },
    {
     "name": "stdout",
     "output_type": "stream",
     "text": [
      "Training dataset read in 0:00:00.128406. Found 13209 examples.\n",
      "Training model...\n",
      "Model trained in 0:00:00.265391\n",
      "Compiling model...\n",
      "Model compiled.\n",
      "Use /var/folders/3r/pzt2_p_x2xdfl2057nxkp3nm0000gn/T/tmpqhwdfc4w as temporary training directory\n",
      "Reading training dataset...\n"
     ]
    },
    {
     "name": "stderr",
     "output_type": "stream",
     "text": [
      "[INFO 24-05-08 18:04:15.0602 CEST kernel.cc:1233] Loading model from path /var/folders/3r/pzt2_p_x2xdfl2057nxkp3nm0000gn/T/tmpplo5985y/model/ with prefix dee5126daed942b1\n",
      "[INFO 24-05-08 18:04:15.0618 CEST kernel.cc:1061] Use fast generic engine\n",
      "[WARNING 24-05-08 18:04:15.1339 CEST gradient_boosted_trees.cc:1840] \"goss_alpha\" set but \"sampling_method\" not equal to \"GOSS\".\n",
      "[WARNING 24-05-08 18:04:15.1340 CEST gradient_boosted_trees.cc:1851] \"goss_beta\" set but \"sampling_method\" not equal to \"GOSS\".\n",
      "[WARNING 24-05-08 18:04:15.1340 CEST gradient_boosted_trees.cc:1865] \"selective_gradient_boosting_ratio\" set but \"sampling_method\" not equal to \"SELGB\".\n"
     ]
    },
    {
     "name": "stdout",
     "output_type": "stream",
     "text": [
      "Training dataset read in 0:00:00.129084. Found 13209 examples.\n",
      "Training model...\n",
      "Model trained in 0:00:00.119761\n",
      "Compiling model...\n",
      "Model compiled.\n",
      "Use /var/folders/3r/pzt2_p_x2xdfl2057nxkp3nm0000gn/T/tmpgwsw86t0 as temporary training directory\n",
      "Reading training dataset...\n"
     ]
    },
    {
     "name": "stderr",
     "output_type": "stream",
     "text": [
      "[INFO 24-05-08 18:04:15.3853 CEST kernel.cc:1233] Loading model from path /var/folders/3r/pzt2_p_x2xdfl2057nxkp3nm0000gn/T/tmpqhwdfc4w/model/ with prefix 34e322a87c5d482e\n",
      "[INFO 24-05-08 18:04:15.3861 CEST kernel.cc:1061] Use fast generic engine\n",
      "[WARNING 24-05-08 18:04:15.4573 CEST gradient_boosted_trees.cc:1840] \"goss_alpha\" set but \"sampling_method\" not equal to \"GOSS\".\n",
      "[WARNING 24-05-08 18:04:15.4573 CEST gradient_boosted_trees.cc:1851] \"goss_beta\" set but \"sampling_method\" not equal to \"GOSS\".\n",
      "[WARNING 24-05-08 18:04:15.4573 CEST gradient_boosted_trees.cc:1865] \"selective_gradient_boosting_ratio\" set but \"sampling_method\" not equal to \"SELGB\".\n"
     ]
    },
    {
     "name": "stdout",
     "output_type": "stream",
     "text": [
      "Training dataset read in 0:00:00.129728. Found 13209 examples.\n",
      "Training model...\n",
      "Model trained in 0:00:00.216505\n",
      "Compiling model...\n",
      "Model compiled.\n",
      "Use /var/folders/3r/pzt2_p_x2xdfl2057nxkp3nm0000gn/T/tmp8t3xl0ei as temporary training directory\n",
      "Reading training dataset...\n"
     ]
    },
    {
     "name": "stderr",
     "output_type": "stream",
     "text": [
      "[INFO 24-05-08 18:04:15.8051 CEST kernel.cc:1233] Loading model from path /var/folders/3r/pzt2_p_x2xdfl2057nxkp3nm0000gn/T/tmpgwsw86t0/model/ with prefix 54c2c52e5a8b4450\n",
      "[INFO 24-05-08 18:04:15.8065 CEST kernel.cc:1061] Use fast generic engine\n",
      "[WARNING 24-05-08 18:04:15.8769 CEST gradient_boosted_trees.cc:1840] \"goss_alpha\" set but \"sampling_method\" not equal to \"GOSS\".\n",
      "[WARNING 24-05-08 18:04:15.8769 CEST gradient_boosted_trees.cc:1851] \"goss_beta\" set but \"sampling_method\" not equal to \"GOSS\".\n",
      "[WARNING 24-05-08 18:04:15.8769 CEST gradient_boosted_trees.cc:1865] \"selective_gradient_boosting_ratio\" set but \"sampling_method\" not equal to \"SELGB\".\n"
     ]
    },
    {
     "name": "stdout",
     "output_type": "stream",
     "text": [
      "Training dataset read in 0:00:00.130637. Found 13209 examples.\n",
      "Training model...\n",
      "Model trained in 0:00:00.152797\n",
      "Compiling model...\n",
      "Model compiled.\n",
      "Use /var/folders/3r/pzt2_p_x2xdfl2057nxkp3nm0000gn/T/tmp8ntqp6lt as temporary training directory\n",
      "Reading training dataset...\n"
     ]
    },
    {
     "name": "stderr",
     "output_type": "stream",
     "text": [
      "[INFO 24-05-08 18:04:16.1626 CEST kernel.cc:1233] Loading model from path /var/folders/3r/pzt2_p_x2xdfl2057nxkp3nm0000gn/T/tmp8t3xl0ei/model/ with prefix 70205630cb9448fa\n",
      "[INFO 24-05-08 18:04:16.1637 CEST kernel.cc:1061] Use fast generic engine\n",
      "[WARNING 24-05-08 18:04:16.2348 CEST gradient_boosted_trees.cc:1840] \"goss_alpha\" set but \"sampling_method\" not equal to \"GOSS\".\n",
      "[WARNING 24-05-08 18:04:16.2348 CEST gradient_boosted_trees.cc:1851] \"goss_beta\" set but \"sampling_method\" not equal to \"GOSS\".\n",
      "[WARNING 24-05-08 18:04:16.2348 CEST gradient_boosted_trees.cc:1865] \"selective_gradient_boosting_ratio\" set but \"sampling_method\" not equal to \"SELGB\".\n"
     ]
    },
    {
     "name": "stdout",
     "output_type": "stream",
     "text": [
      "Training dataset read in 0:00:00.129283. Found 13209 examples.\n",
      "Training model...\n",
      "Model trained in 0:00:00.283492\n",
      "Compiling model...\n",
      "Model compiled.\n",
      "Use /var/folders/3r/pzt2_p_x2xdfl2057nxkp3nm0000gn/T/tmps9e8d64l as temporary training directory\n",
      "Reading training dataset...\n"
     ]
    },
    {
     "name": "stderr",
     "output_type": "stream",
     "text": [
      "[INFO 24-05-08 18:04:16.6494 CEST kernel.cc:1233] Loading model from path /var/folders/3r/pzt2_p_x2xdfl2057nxkp3nm0000gn/T/tmp8ntqp6lt/model/ with prefix ecfeee2ddf2240ae\n",
      "[INFO 24-05-08 18:04:16.6511 CEST kernel.cc:1061] Use fast generic engine\n",
      "[WARNING 24-05-08 18:04:16.7208 CEST gradient_boosted_trees.cc:1840] \"goss_alpha\" set but \"sampling_method\" not equal to \"GOSS\".\n",
      "[WARNING 24-05-08 18:04:16.7208 CEST gradient_boosted_trees.cc:1851] \"goss_beta\" set but \"sampling_method\" not equal to \"GOSS\".\n",
      "[WARNING 24-05-08 18:04:16.7208 CEST gradient_boosted_trees.cc:1865] \"selective_gradient_boosting_ratio\" set but \"sampling_method\" not equal to \"SELGB\".\n"
     ]
    },
    {
     "name": "stdout",
     "output_type": "stream",
     "text": [
      "Training dataset read in 0:00:00.128481. Found 13209 examples.\n",
      "Training model...\n",
      "Model trained in 0:00:00.086783\n",
      "Compiling model...\n",
      "Model compiled.\n",
      "Use /var/folders/3r/pzt2_p_x2xdfl2057nxkp3nm0000gn/T/tmpbqhjqthy as temporary training directory\n",
      "Reading training dataset...\n"
     ]
    },
    {
     "name": "stderr",
     "output_type": "stream",
     "text": [
      "[INFO 24-05-08 18:04:16.9391 CEST kernel.cc:1233] Loading model from path /var/folders/3r/pzt2_p_x2xdfl2057nxkp3nm0000gn/T/tmps9e8d64l/model/ with prefix 47658502137f4ad1\n",
      "[INFO 24-05-08 18:04:16.9397 CEST kernel.cc:1061] Use fast generic engine\n",
      "[WARNING 24-05-08 18:04:17.0093 CEST gradient_boosted_trees.cc:1840] \"goss_alpha\" set but \"sampling_method\" not equal to \"GOSS\".\n",
      "[WARNING 24-05-08 18:04:17.0094 CEST gradient_boosted_trees.cc:1851] \"goss_beta\" set but \"sampling_method\" not equal to \"GOSS\".\n",
      "[WARNING 24-05-08 18:04:17.0094 CEST gradient_boosted_trees.cc:1865] \"selective_gradient_boosting_ratio\" set but \"sampling_method\" not equal to \"SELGB\".\n"
     ]
    },
    {
     "name": "stdout",
     "output_type": "stream",
     "text": [
      "Training dataset read in 0:00:00.128562. Found 13209 examples.\n",
      "Training model...\n",
      "Model trained in 0:00:00.097509\n",
      "Compiling model...\n",
      "Model compiled.\n",
      "Use /var/folders/3r/pzt2_p_x2xdfl2057nxkp3nm0000gn/T/tmpvhpsly4m as temporary training directory\n",
      "Reading training dataset...\n"
     ]
    },
    {
     "name": "stderr",
     "output_type": "stream",
     "text": [
      "[INFO 24-05-08 18:04:17.2380 CEST kernel.cc:1233] Loading model from path /var/folders/3r/pzt2_p_x2xdfl2057nxkp3nm0000gn/T/tmpbqhjqthy/model/ with prefix bf37d71f462f4d8b\n",
      "[INFO 24-05-08 18:04:17.2387 CEST kernel.cc:1061] Use fast generic engine\n",
      "[WARNING 24-05-08 18:04:17.3105 CEST gradient_boosted_trees.cc:1840] \"goss_alpha\" set but \"sampling_method\" not equal to \"GOSS\".\n",
      "[WARNING 24-05-08 18:04:17.3106 CEST gradient_boosted_trees.cc:1851] \"goss_beta\" set but \"sampling_method\" not equal to \"GOSS\".\n",
      "[WARNING 24-05-08 18:04:17.3106 CEST gradient_boosted_trees.cc:1865] \"selective_gradient_boosting_ratio\" set but \"sampling_method\" not equal to \"SELGB\".\n"
     ]
    },
    {
     "name": "stdout",
     "output_type": "stream",
     "text": [
      "Training dataset read in 0:00:00.128402. Found 13209 examples.\n",
      "Training model...\n",
      "Model trained in 0:00:00.080677\n",
      "Compiling model...\n",
      "Model compiled.\n",
      "Use /var/folders/3r/pzt2_p_x2xdfl2057nxkp3nm0000gn/T/tmp4257j63u as temporary training directory\n",
      "Reading training dataset...\n"
     ]
    },
    {
     "name": "stderr",
     "output_type": "stream",
     "text": [
      "[INFO 24-05-08 18:04:17.5222 CEST kernel.cc:1233] Loading model from path /var/folders/3r/pzt2_p_x2xdfl2057nxkp3nm0000gn/T/tmpvhpsly4m/model/ with prefix 496970c2dc2949cc\n",
      "[INFO 24-05-08 18:04:17.5229 CEST kernel.cc:1061] Use fast generic engine\n",
      "[WARNING 24-05-08 18:04:17.5967 CEST gradient_boosted_trees.cc:1840] \"goss_alpha\" set but \"sampling_method\" not equal to \"GOSS\".\n",
      "[WARNING 24-05-08 18:04:17.5967 CEST gradient_boosted_trees.cc:1851] \"goss_beta\" set but \"sampling_method\" not equal to \"GOSS\".\n",
      "[WARNING 24-05-08 18:04:17.5967 CEST gradient_boosted_trees.cc:1865] \"selective_gradient_boosting_ratio\" set but \"sampling_method\" not equal to \"SELGB\".\n"
     ]
    },
    {
     "name": "stdout",
     "output_type": "stream",
     "text": [
      "Training dataset read in 0:00:00.129300. Found 13209 examples.\n",
      "Training model...\n",
      "Model trained in 0:00:00.152900\n",
      "Compiling model...\n",
      "Model compiled.\n",
      "Use /var/folders/3r/pzt2_p_x2xdfl2057nxkp3nm0000gn/T/tmp4ackdmbb as temporary training directory\n",
      "Reading training dataset...\n"
     ]
    },
    {
     "name": "stderr",
     "output_type": "stream",
     "text": [
      "[INFO 24-05-08 18:04:17.8815 CEST kernel.cc:1233] Loading model from path /var/folders/3r/pzt2_p_x2xdfl2057nxkp3nm0000gn/T/tmp4257j63u/model/ with prefix 8281ebe00fcd4123\n",
      "[INFO 24-05-08 18:04:17.8825 CEST kernel.cc:1061] Use fast generic engine\n",
      "[WARNING 24-05-08 18:04:17.9530 CEST gradient_boosted_trees.cc:1840] \"goss_alpha\" set but \"sampling_method\" not equal to \"GOSS\".\n",
      "[WARNING 24-05-08 18:04:17.9530 CEST gradient_boosted_trees.cc:1851] \"goss_beta\" set but \"sampling_method\" not equal to \"GOSS\".\n",
      "[WARNING 24-05-08 18:04:17.9530 CEST gradient_boosted_trees.cc:1865] \"selective_gradient_boosting_ratio\" set but \"sampling_method\" not equal to \"SELGB\".\n"
     ]
    },
    {
     "name": "stdout",
     "output_type": "stream",
     "text": [
      "Training dataset read in 0:00:00.131027. Found 13209 examples.\n",
      "Training model...\n",
      "Model trained in 0:00:00.148640\n",
      "Compiling model...\n",
      "Model compiled.\n",
      "Use /var/folders/3r/pzt2_p_x2xdfl2057nxkp3nm0000gn/T/tmp347h35v0 as temporary training directory\n",
      "Reading training dataset...\n"
     ]
    },
    {
     "name": "stderr",
     "output_type": "stream",
     "text": [
      "[INFO 24-05-08 18:04:18.2351 CEST kernel.cc:1233] Loading model from path /var/folders/3r/pzt2_p_x2xdfl2057nxkp3nm0000gn/T/tmp4ackdmbb/model/ with prefix 2fd8595756ab4f52\n",
      "[INFO 24-05-08 18:04:18.2360 CEST kernel.cc:1061] Use fast generic engine\n",
      "[WARNING 24-05-08 18:04:18.3042 CEST gradient_boosted_trees.cc:1840] \"goss_alpha\" set but \"sampling_method\" not equal to \"GOSS\".\n",
      "[WARNING 24-05-08 18:04:18.3043 CEST gradient_boosted_trees.cc:1851] \"goss_beta\" set but \"sampling_method\" not equal to \"GOSS\".\n",
      "[WARNING 24-05-08 18:04:18.3043 CEST gradient_boosted_trees.cc:1865] \"selective_gradient_boosting_ratio\" set but \"sampling_method\" not equal to \"SELGB\".\n"
     ]
    },
    {
     "name": "stdout",
     "output_type": "stream",
     "text": [
      "Training dataset read in 0:00:00.130055. Found 13209 examples.\n",
      "Training model...\n",
      "Model trained in 0:00:00.186485\n",
      "Compiling model...\n",
      "Model compiled.\n",
      "Use /var/folders/3r/pzt2_p_x2xdfl2057nxkp3nm0000gn/T/tmpz0u2yawd as temporary training directory\n",
      "Reading training dataset...\n"
     ]
    },
    {
     "name": "stderr",
     "output_type": "stream",
     "text": [
      "[INFO 24-05-08 18:04:18.6227 CEST kernel.cc:1233] Loading model from path /var/folders/3r/pzt2_p_x2xdfl2057nxkp3nm0000gn/T/tmp347h35v0/model/ with prefix b4d68e401633463d\n",
      "[INFO 24-05-08 18:04:18.6238 CEST kernel.cc:1061] Use fast generic engine\n",
      "[WARNING 24-05-08 18:04:18.6949 CEST gradient_boosted_trees.cc:1840] \"goss_alpha\" set but \"sampling_method\" not equal to \"GOSS\".\n",
      "[WARNING 24-05-08 18:04:18.6949 CEST gradient_boosted_trees.cc:1851] \"goss_beta\" set but \"sampling_method\" not equal to \"GOSS\".\n",
      "[WARNING 24-05-08 18:04:18.6949 CEST gradient_boosted_trees.cc:1865] \"selective_gradient_boosting_ratio\" set but \"sampling_method\" not equal to \"SELGB\".\n"
     ]
    },
    {
     "name": "stdout",
     "output_type": "stream",
     "text": [
      "Training dataset read in 0:00:00.131212. Found 13209 examples.\n",
      "Training model...\n",
      "Model trained in 0:00:00.092637\n",
      "Compiling model...\n",
      "Model compiled.\n",
      "Use /var/folders/3r/pzt2_p_x2xdfl2057nxkp3nm0000gn/T/tmpde1eql0j as temporary training directory\n",
      "Reading training dataset...\n"
     ]
    },
    {
     "name": "stderr",
     "output_type": "stream",
     "text": [
      "[INFO 24-05-08 18:04:18.9214 CEST kernel.cc:1233] Loading model from path /var/folders/3r/pzt2_p_x2xdfl2057nxkp3nm0000gn/T/tmpz0u2yawd/model/ with prefix 86114244acc04430\n",
      "[INFO 24-05-08 18:04:18.9221 CEST kernel.cc:1061] Use fast generic engine\n",
      "[WARNING 24-05-08 18:04:18.9941 CEST gradient_boosted_trees.cc:1840] \"goss_alpha\" set but \"sampling_method\" not equal to \"GOSS\".\n",
      "[WARNING 24-05-08 18:04:18.9941 CEST gradient_boosted_trees.cc:1851] \"goss_beta\" set but \"sampling_method\" not equal to \"GOSS\".\n",
      "[WARNING 24-05-08 18:04:18.9941 CEST gradient_boosted_trees.cc:1865] \"selective_gradient_boosting_ratio\" set but \"sampling_method\" not equal to \"SELGB\".\n"
     ]
    },
    {
     "name": "stdout",
     "output_type": "stream",
     "text": [
      "Training dataset read in 0:00:00.133848. Found 13209 examples.\n",
      "Training model...\n",
      "Model trained in 0:00:00.082036\n",
      "Compiling model...\n",
      "Model compiled.\n",
      "Use /var/folders/3r/pzt2_p_x2xdfl2057nxkp3nm0000gn/T/tmpym1y8mvh as temporary training directory\n",
      "Reading training dataset...\n"
     ]
    },
    {
     "name": "stderr",
     "output_type": "stream",
     "text": [
      "[INFO 24-05-08 18:04:19.2128 CEST kernel.cc:1233] Loading model from path /var/folders/3r/pzt2_p_x2xdfl2057nxkp3nm0000gn/T/tmpde1eql0j/model/ with prefix 3801fb15f81c415b\n",
      "[INFO 24-05-08 18:04:19.2134 CEST kernel.cc:1061] Use fast generic engine\n",
      "[WARNING 24-05-08 18:04:19.2851 CEST gradient_boosted_trees.cc:1840] \"goss_alpha\" set but \"sampling_method\" not equal to \"GOSS\".\n",
      "[WARNING 24-05-08 18:04:19.2851 CEST gradient_boosted_trees.cc:1851] \"goss_beta\" set but \"sampling_method\" not equal to \"GOSS\".\n",
      "[WARNING 24-05-08 18:04:19.2851 CEST gradient_boosted_trees.cc:1865] \"selective_gradient_boosting_ratio\" set but \"sampling_method\" not equal to \"SELGB\".\n"
     ]
    },
    {
     "name": "stdout",
     "output_type": "stream",
     "text": [
      "Training dataset read in 0:00:00.130561. Found 13209 examples.\n",
      "Training model...\n",
      "Model trained in 0:00:00.136076\n",
      "Compiling model...\n",
      "Model compiled.\n",
      "Use /var/folders/3r/pzt2_p_x2xdfl2057nxkp3nm0000gn/T/tmpw_ydznip as temporary training directory\n",
      "Reading training dataset...\n"
     ]
    },
    {
     "name": "stderr",
     "output_type": "stream",
     "text": [
      "[INFO 24-05-08 18:04:19.5544 CEST kernel.cc:1233] Loading model from path /var/folders/3r/pzt2_p_x2xdfl2057nxkp3nm0000gn/T/tmpym1y8mvh/model/ with prefix 6a0c25e229a24c28\n",
      "[INFO 24-05-08 18:04:19.5553 CEST kernel.cc:1061] Use fast generic engine\n",
      "[WARNING 24-05-08 18:04:19.6272 CEST gradient_boosted_trees.cc:1840] \"goss_alpha\" set but \"sampling_method\" not equal to \"GOSS\".\n",
      "[WARNING 24-05-08 18:04:19.6272 CEST gradient_boosted_trees.cc:1851] \"goss_beta\" set but \"sampling_method\" not equal to \"GOSS\".\n",
      "[WARNING 24-05-08 18:04:19.6272 CEST gradient_boosted_trees.cc:1865] \"selective_gradient_boosting_ratio\" set but \"sampling_method\" not equal to \"SELGB\".\n"
     ]
    },
    {
     "name": "stdout",
     "output_type": "stream",
     "text": [
      "Training dataset read in 0:00:00.130531. Found 13209 examples.\n",
      "Training model...\n",
      "Model trained in 0:00:00.189560\n",
      "Compiling model...\n",
      "Model compiled.\n",
      "Use /var/folders/3r/pzt2_p_x2xdfl2057nxkp3nm0000gn/T/tmppi99k2tm as temporary training directory\n",
      "Reading training dataset...\n"
     ]
    },
    {
     "name": "stderr",
     "output_type": "stream",
     "text": [
      "[INFO 24-05-08 18:04:19.9495 CEST kernel.cc:1233] Loading model from path /var/folders/3r/pzt2_p_x2xdfl2057nxkp3nm0000gn/T/tmpw_ydznip/model/ with prefix 96a65a0e5eec45ec\n",
      "[INFO 24-05-08 18:04:19.9507 CEST kernel.cc:1061] Use fast generic engine\n",
      "[WARNING 24-05-08 18:04:20.0211 CEST gradient_boosted_trees.cc:1840] \"goss_alpha\" set but \"sampling_method\" not equal to \"GOSS\".\n",
      "[WARNING 24-05-08 18:04:20.0211 CEST gradient_boosted_trees.cc:1851] \"goss_beta\" set but \"sampling_method\" not equal to \"GOSS\".\n",
      "[WARNING 24-05-08 18:04:20.0211 CEST gradient_boosted_trees.cc:1865] \"selective_gradient_boosting_ratio\" set but \"sampling_method\" not equal to \"SELGB\".\n"
     ]
    },
    {
     "name": "stdout",
     "output_type": "stream",
     "text": [
      "Training dataset read in 0:00:00.131498. Found 13209 examples.\n",
      "Training model...\n",
      "Model trained in 0:00:00.081188\n",
      "Compiling model...\n",
      "Model compiled.\n",
      "Use /var/folders/3r/pzt2_p_x2xdfl2057nxkp3nm0000gn/T/tmp8kr1uz5o as temporary training directory\n",
      "Reading training dataset...\n"
     ]
    },
    {
     "name": "stderr",
     "output_type": "stream",
     "text": [
      "[INFO 24-05-08 18:04:20.2375 CEST kernel.cc:1233] Loading model from path /var/folders/3r/pzt2_p_x2xdfl2057nxkp3nm0000gn/T/tmppi99k2tm/model/ with prefix 18aa6cf61f4e4ec5\n",
      "[INFO 24-05-08 18:04:20.2381 CEST abstract_model.cc:1344] Engine \"GradientBoostedTreesQuickScorerExtended\" built\n",
      "[INFO 24-05-08 18:04:20.2382 CEST kernel.cc:1061] Use fast generic engine\n",
      "[WARNING 24-05-08 18:04:20.3103 CEST gradient_boosted_trees.cc:1840] \"goss_alpha\" set but \"sampling_method\" not equal to \"GOSS\".\n",
      "[WARNING 24-05-08 18:04:20.3103 CEST gradient_boosted_trees.cc:1851] \"goss_beta\" set but \"sampling_method\" not equal to \"GOSS\".\n",
      "[WARNING 24-05-08 18:04:20.3103 CEST gradient_boosted_trees.cc:1865] \"selective_gradient_boosting_ratio\" set but \"sampling_method\" not equal to \"SELGB\".\n"
     ]
    },
    {
     "name": "stdout",
     "output_type": "stream",
     "text": [
      "Training dataset read in 0:00:00.129485. Found 13209 examples.\n",
      "Training model...\n",
      "Model trained in 0:00:00.213937\n",
      "Compiling model...\n",
      "Model compiled.\n",
      "Use /var/folders/3r/pzt2_p_x2xdfl2057nxkp3nm0000gn/T/tmpw5ixey5v as temporary training directory\n",
      "Reading training dataset...\n"
     ]
    },
    {
     "name": "stderr",
     "output_type": "stream",
     "text": [
      "[INFO 24-05-08 18:04:20.6557 CEST kernel.cc:1233] Loading model from path /var/folders/3r/pzt2_p_x2xdfl2057nxkp3nm0000gn/T/tmp8kr1uz5o/model/ with prefix 8606fb57eb5d46cf\n",
      "[INFO 24-05-08 18:04:20.6570 CEST kernel.cc:1061] Use fast generic engine\n",
      "[WARNING 24-05-08 18:04:20.7266 CEST gradient_boosted_trees.cc:1840] \"goss_alpha\" set but \"sampling_method\" not equal to \"GOSS\".\n",
      "[WARNING 24-05-08 18:04:20.7266 CEST gradient_boosted_trees.cc:1851] \"goss_beta\" set but \"sampling_method\" not equal to \"GOSS\".\n",
      "[WARNING 24-05-08 18:04:20.7266 CEST gradient_boosted_trees.cc:1865] \"selective_gradient_boosting_ratio\" set but \"sampling_method\" not equal to \"SELGB\".\n"
     ]
    },
    {
     "name": "stdout",
     "output_type": "stream",
     "text": [
      "Training dataset read in 0:00:00.129422. Found 13209 examples.\n",
      "Training model...\n",
      "Model trained in 0:00:00.070690\n",
      "Compiling model...\n",
      "Model compiled.\n",
      "Use /var/folders/3r/pzt2_p_x2xdfl2057nxkp3nm0000gn/T/tmp2w1oprao as temporary training directory\n",
      "Reading training dataset...\n"
     ]
    },
    {
     "name": "stderr",
     "output_type": "stream",
     "text": [
      "[INFO 24-05-08 18:04:20.9297 CEST kernel.cc:1233] Loading model from path /var/folders/3r/pzt2_p_x2xdfl2057nxkp3nm0000gn/T/tmpw5ixey5v/model/ with prefix c24a6bd886aa41d2\n",
      "[INFO 24-05-08 18:04:20.9302 CEST kernel.cc:1061] Use fast generic engine\n",
      "[WARNING 24-05-08 18:04:20.9994 CEST gradient_boosted_trees.cc:1840] \"goss_alpha\" set but \"sampling_method\" not equal to \"GOSS\".\n",
      "[WARNING 24-05-08 18:04:20.9994 CEST gradient_boosted_trees.cc:1851] \"goss_beta\" set but \"sampling_method\" not equal to \"GOSS\".\n",
      "[WARNING 24-05-08 18:04:20.9994 CEST gradient_boosted_trees.cc:1865] \"selective_gradient_boosting_ratio\" set but \"sampling_method\" not equal to \"SELGB\".\n"
     ]
    },
    {
     "name": "stdout",
     "output_type": "stream",
     "text": [
      "Training dataset read in 0:00:00.134324. Found 13209 examples.\n",
      "Training model...\n",
      "Model trained in 0:00:00.119565\n",
      "Compiling model...\n",
      "Model compiled.\n",
      "Use /var/folders/3r/pzt2_p_x2xdfl2057nxkp3nm0000gn/T/tmp0pdongf6 as temporary training directory\n",
      "Reading training dataset...\n"
     ]
    },
    {
     "name": "stderr",
     "output_type": "stream",
     "text": [
      "[INFO 24-05-08 18:04:21.2560 CEST kernel.cc:1233] Loading model from path /var/folders/3r/pzt2_p_x2xdfl2057nxkp3nm0000gn/T/tmp2w1oprao/model/ with prefix fe7ec679623f4f51\n",
      "[INFO 24-05-08 18:04:21.2568 CEST kernel.cc:1061] Use fast generic engine\n",
      "[WARNING 24-05-08 18:04:21.3274 CEST gradient_boosted_trees.cc:1840] \"goss_alpha\" set but \"sampling_method\" not equal to \"GOSS\".\n",
      "[WARNING 24-05-08 18:04:21.3274 CEST gradient_boosted_trees.cc:1851] \"goss_beta\" set but \"sampling_method\" not equal to \"GOSS\".\n",
      "[WARNING 24-05-08 18:04:21.3274 CEST gradient_boosted_trees.cc:1865] \"selective_gradient_boosting_ratio\" set but \"sampling_method\" not equal to \"SELGB\".\n"
     ]
    },
    {
     "name": "stdout",
     "output_type": "stream",
     "text": [
      "Training dataset read in 0:00:00.130918. Found 13209 examples.\n",
      "Training model...\n",
      "Model trained in 0:00:00.266791\n",
      "Compiling model...\n",
      "Model compiled.\n",
      "Use /var/folders/3r/pzt2_p_x2xdfl2057nxkp3nm0000gn/T/tmp5qyrve8w as temporary training directory\n",
      "Reading training dataset...\n"
     ]
    },
    {
     "name": "stderr",
     "output_type": "stream",
     "text": [
      "[INFO 24-05-08 18:04:21.7268 CEST kernel.cc:1233] Loading model from path /var/folders/3r/pzt2_p_x2xdfl2057nxkp3nm0000gn/T/tmp0pdongf6/model/ with prefix 75f6b92aa8d14b8d\n",
      "[INFO 24-05-08 18:04:21.7284 CEST kernel.cc:1061] Use fast generic engine\n",
      "[WARNING 24-05-08 18:04:21.7999 CEST gradient_boosted_trees.cc:1840] \"goss_alpha\" set but \"sampling_method\" not equal to \"GOSS\".\n",
      "[WARNING 24-05-08 18:04:21.8000 CEST gradient_boosted_trees.cc:1851] \"goss_beta\" set but \"sampling_method\" not equal to \"GOSS\".\n",
      "[WARNING 24-05-08 18:04:21.8000 CEST gradient_boosted_trees.cc:1865] \"selective_gradient_boosting_ratio\" set but \"sampling_method\" not equal to \"SELGB\".\n"
     ]
    },
    {
     "name": "stdout",
     "output_type": "stream",
     "text": [
      "Training dataset read in 0:00:00.131510. Found 13209 examples.\n",
      "Training model...\n",
      "Model trained in 0:00:00.108534\n",
      "Compiling model...\n",
      "Model compiled.\n",
      "Use /var/folders/3r/pzt2_p_x2xdfl2057nxkp3nm0000gn/T/tmpfemc7x9a as temporary training directory\n",
      "Reading training dataset...\n"
     ]
    },
    {
     "name": "stderr",
     "output_type": "stream",
     "text": [
      "[INFO 24-05-08 18:04:22.0430 CEST kernel.cc:1233] Loading model from path /var/folders/3r/pzt2_p_x2xdfl2057nxkp3nm0000gn/T/tmp5qyrve8w/model/ with prefix dc3bb384d8434539\n",
      "[INFO 24-05-08 18:04:22.0437 CEST kernel.cc:1061] Use fast generic engine\n",
      "[WARNING 24-05-08 18:04:22.1158 CEST gradient_boosted_trees.cc:1840] \"goss_alpha\" set but \"sampling_method\" not equal to \"GOSS\".\n",
      "[WARNING 24-05-08 18:04:22.1159 CEST gradient_boosted_trees.cc:1851] \"goss_beta\" set but \"sampling_method\" not equal to \"GOSS\".\n",
      "[WARNING 24-05-08 18:04:22.1159 CEST gradient_boosted_trees.cc:1865] \"selective_gradient_boosting_ratio\" set but \"sampling_method\" not equal to \"SELGB\".\n"
     ]
    },
    {
     "name": "stdout",
     "output_type": "stream",
     "text": [
      "Training dataset read in 0:00:00.129897. Found 13209 examples.\n",
      "Training model...\n",
      "Model trained in 0:00:00.119577\n",
      "Compiling model...\n",
      "Model compiled.\n",
      "Use /var/folders/3r/pzt2_p_x2xdfl2057nxkp3nm0000gn/T/tmpt_xfdlt3 as temporary training directory\n",
      "Reading training dataset...\n"
     ]
    },
    {
     "name": "stderr",
     "output_type": "stream",
     "text": [
      "[INFO 24-05-08 18:04:22.3679 CEST kernel.cc:1233] Loading model from path /var/folders/3r/pzt2_p_x2xdfl2057nxkp3nm0000gn/T/tmpfemc7x9a/model/ with prefix 4c3069639ad844e7\n",
      "[INFO 24-05-08 18:04:22.3687 CEST kernel.cc:1061] Use fast generic engine\n",
      "[WARNING 24-05-08 18:04:22.4401 CEST gradient_boosted_trees.cc:1840] \"goss_alpha\" set but \"sampling_method\" not equal to \"GOSS\".\n",
      "[WARNING 24-05-08 18:04:22.4401 CEST gradient_boosted_trees.cc:1851] \"goss_beta\" set but \"sampling_method\" not equal to \"GOSS\".\n",
      "[WARNING 24-05-08 18:04:22.4402 CEST gradient_boosted_trees.cc:1865] \"selective_gradient_boosting_ratio\" set but \"sampling_method\" not equal to \"SELGB\".\n"
     ]
    },
    {
     "name": "stdout",
     "output_type": "stream",
     "text": [
      "Training dataset read in 0:00:00.131397. Found 13209 examples.\n",
      "Training model...\n",
      "Model trained in 0:00:00.067550\n",
      "Compiling model...\n",
      "Model compiled.\n",
      "Use /var/folders/3r/pzt2_p_x2xdfl2057nxkp3nm0000gn/T/tmppz45h11n as temporary training directory\n",
      "Reading training dataset...\n"
     ]
    },
    {
     "name": "stderr",
     "output_type": "stream",
     "text": [
      "[INFO 24-05-08 18:04:22.6422 CEST kernel.cc:1233] Loading model from path /var/folders/3r/pzt2_p_x2xdfl2057nxkp3nm0000gn/T/tmpt_xfdlt3/model/ with prefix 9105b15e8e1a462f\n",
      "[INFO 24-05-08 18:04:22.6427 CEST kernel.cc:1061] Use fast generic engine\n",
      "[WARNING 24-05-08 18:04:22.7135 CEST gradient_boosted_trees.cc:1840] \"goss_alpha\" set but \"sampling_method\" not equal to \"GOSS\".\n",
      "[WARNING 24-05-08 18:04:22.7135 CEST gradient_boosted_trees.cc:1851] \"goss_beta\" set but \"sampling_method\" not equal to \"GOSS\".\n",
      "[WARNING 24-05-08 18:04:22.7135 CEST gradient_boosted_trees.cc:1865] \"selective_gradient_boosting_ratio\" set but \"sampling_method\" not equal to \"SELGB\".\n"
     ]
    },
    {
     "name": "stdout",
     "output_type": "stream",
     "text": [
      "Training dataset read in 0:00:00.130275. Found 13209 examples.\n",
      "Training model...\n",
      "Model trained in 0:00:00.092764\n",
      "Compiling model...\n",
      "Model compiled.\n",
      "Use /var/folders/3r/pzt2_p_x2xdfl2057nxkp3nm0000gn/T/tmp35tyiwee as temporary training directory\n",
      "Reading training dataset...\n"
     ]
    },
    {
     "name": "stderr",
     "output_type": "stream",
     "text": [
      "[INFO 24-05-08 18:04:22.9392 CEST kernel.cc:1233] Loading model from path /var/folders/3r/pzt2_p_x2xdfl2057nxkp3nm0000gn/T/tmppz45h11n/model/ with prefix bd2d22bc481b44d2\n",
      "[INFO 24-05-08 18:04:22.9399 CEST kernel.cc:1061] Use fast generic engine\n",
      "[WARNING 24-05-08 18:04:23.0107 CEST gradient_boosted_trees.cc:1840] \"goss_alpha\" set but \"sampling_method\" not equal to \"GOSS\".\n",
      "[WARNING 24-05-08 18:04:23.0107 CEST gradient_boosted_trees.cc:1851] \"goss_beta\" set but \"sampling_method\" not equal to \"GOSS\".\n",
      "[WARNING 24-05-08 18:04:23.0107 CEST gradient_boosted_trees.cc:1865] \"selective_gradient_boosting_ratio\" set but \"sampling_method\" not equal to \"SELGB\".\n"
     ]
    },
    {
     "name": "stdout",
     "output_type": "stream",
     "text": [
      "Training dataset read in 0:00:00.129689. Found 13209 examples.\n",
      "Training model...\n",
      "Model trained in 0:00:00.103560\n",
      "Compiling model...\n",
      "Model compiled.\n",
      "Use /var/folders/3r/pzt2_p_x2xdfl2057nxkp3nm0000gn/T/tmp6nxe_yj9 as temporary training directory\n",
      "Reading training dataset...\n"
     ]
    },
    {
     "name": "stderr",
     "output_type": "stream",
     "text": [
      "[INFO 24-05-08 18:04:23.2469 CEST kernel.cc:1233] Loading model from path /var/folders/3r/pzt2_p_x2xdfl2057nxkp3nm0000gn/T/tmp35tyiwee/model/ with prefix d6bec75e17284780\n",
      "[INFO 24-05-08 18:04:23.2476 CEST kernel.cc:1061] Use fast generic engine\n",
      "[WARNING 24-05-08 18:04:23.3177 CEST gradient_boosted_trees.cc:1840] \"goss_alpha\" set but \"sampling_method\" not equal to \"GOSS\".\n",
      "[WARNING 24-05-08 18:04:23.3177 CEST gradient_boosted_trees.cc:1851] \"goss_beta\" set but \"sampling_method\" not equal to \"GOSS\".\n",
      "[WARNING 24-05-08 18:04:23.3177 CEST gradient_boosted_trees.cc:1865] \"selective_gradient_boosting_ratio\" set but \"sampling_method\" not equal to \"SELGB\".\n"
     ]
    },
    {
     "name": "stdout",
     "output_type": "stream",
     "text": [
      "Training dataset read in 0:00:00.128749. Found 13209 examples.\n",
      "Training model...\n",
      "Model trained in 0:00:00.146600\n",
      "Compiling model...\n"
     ]
    },
    {
     "name": "stderr",
     "output_type": "stream",
     "text": [
      "[INFO 24-05-08 18:04:23.5955 CEST kernel.cc:1233] Loading model from path /var/folders/3r/pzt2_p_x2xdfl2057nxkp3nm0000gn/T/tmp6nxe_yj9/model/ with prefix 13c4cd4b99794223\n",
      "[INFO 24-05-08 18:04:23.5965 CEST kernel.cc:1061] Use fast generic engine\n"
     ]
    },
    {
     "name": "stdout",
     "output_type": "stream",
     "text": [
      "Model compiled.\n",
      "Use /var/folders/3r/pzt2_p_x2xdfl2057nxkp3nm0000gn/T/tmpxv86juy0 as temporary training directory\n",
      "Reading training dataset...\n",
      "Training dataset read in 0:00:00.133792. Found 13209 examples.\n",
      "Training model...\n"
     ]
    },
    {
     "name": "stderr",
     "output_type": "stream",
     "text": [
      "[WARNING 24-05-08 18:04:24.1051 CEST gradient_boosted_trees.cc:1840] \"goss_alpha\" set but \"sampling_method\" not equal to \"GOSS\".\n",
      "[WARNING 24-05-08 18:04:24.1052 CEST gradient_boosted_trees.cc:1851] \"goss_beta\" set but \"sampling_method\" not equal to \"GOSS\".\n",
      "[WARNING 24-05-08 18:04:24.1052 CEST gradient_boosted_trees.cc:1865] \"selective_gradient_boosting_ratio\" set but \"sampling_method\" not equal to \"SELGB\".\n"
     ]
    },
    {
     "name": "stdout",
     "output_type": "stream",
     "text": [
      "Model trained in 0:00:00.282647\n",
      "Compiling model...\n",
      "Model compiled.\n",
      "Use /var/folders/3r/pzt2_p_x2xdfl2057nxkp3nm0000gn/T/tmpxv9gy955 as temporary training directory\n",
      "Reading training dataset...\n"
     ]
    },
    {
     "name": "stderr",
     "output_type": "stream",
     "text": [
      "[INFO 24-05-08 18:04:24.5222 CEST kernel.cc:1233] Loading model from path /var/folders/3r/pzt2_p_x2xdfl2057nxkp3nm0000gn/T/tmpxv86juy0/model/ with prefix fc14515b8d7141d5\n",
      "[INFO 24-05-08 18:04:24.5239 CEST kernel.cc:1061] Use fast generic engine\n",
      "[WARNING 24-05-08 18:04:24.5991 CEST gradient_boosted_trees.cc:1840] \"goss_alpha\" set but \"sampling_method\" not equal to \"GOSS\".\n",
      "[WARNING 24-05-08 18:04:24.5992 CEST gradient_boosted_trees.cc:1851] \"goss_beta\" set but \"sampling_method\" not equal to \"GOSS\".\n",
      "[WARNING 24-05-08 18:04:24.5992 CEST gradient_boosted_trees.cc:1865] \"selective_gradient_boosting_ratio\" set but \"sampling_method\" not equal to \"SELGB\".\n"
     ]
    },
    {
     "name": "stdout",
     "output_type": "stream",
     "text": [
      "Training dataset read in 0:00:00.133430. Found 13209 examples.\n",
      "Training model...\n",
      "Model trained in 0:00:00.130179\n",
      "Compiling model...\n",
      "Model compiled.\n",
      "Use /var/folders/3r/pzt2_p_x2xdfl2057nxkp3nm0000gn/T/tmpzskvtrtw as temporary training directory\n",
      "Reading training dataset...\n"
     ]
    },
    {
     "name": "stderr",
     "output_type": "stream",
     "text": [
      "[INFO 24-05-08 18:04:24.8643 CEST kernel.cc:1233] Loading model from path /var/folders/3r/pzt2_p_x2xdfl2057nxkp3nm0000gn/T/tmpxv9gy955/model/ with prefix 5fed8edee52f455a\n",
      "[INFO 24-05-08 18:04:24.8652 CEST kernel.cc:1061] Use fast generic engine\n",
      "[WARNING 24-05-08 18:04:24.9378 CEST gradient_boosted_trees.cc:1840] \"goss_alpha\" set but \"sampling_method\" not equal to \"GOSS\".\n",
      "[WARNING 24-05-08 18:04:24.9378 CEST gradient_boosted_trees.cc:1851] \"goss_beta\" set but \"sampling_method\" not equal to \"GOSS\".\n",
      "[WARNING 24-05-08 18:04:24.9378 CEST gradient_boosted_trees.cc:1865] \"selective_gradient_boosting_ratio\" set but \"sampling_method\" not equal to \"SELGB\".\n"
     ]
    },
    {
     "name": "stdout",
     "output_type": "stream",
     "text": [
      "Training dataset read in 0:00:00.132716. Found 13209 examples.\n",
      "Training model...\n",
      "Model trained in 0:00:00.084922\n",
      "Compiling model...\n",
      "Model compiled.\n",
      "Use /var/folders/3r/pzt2_p_x2xdfl2057nxkp3nm0000gn/T/tmp53p9e_wz as temporary training directory\n",
      "Reading training dataset...\n"
     ]
    },
    {
     "name": "stderr",
     "output_type": "stream",
     "text": [
      "[INFO 24-05-08 18:04:25.1570 CEST kernel.cc:1233] Loading model from path /var/folders/3r/pzt2_p_x2xdfl2057nxkp3nm0000gn/T/tmpzskvtrtw/model/ with prefix 3e96168d99404ea2\n",
      "[INFO 24-05-08 18:04:25.1576 CEST kernel.cc:1061] Use fast generic engine\n",
      "[WARNING 24-05-08 18:04:25.2307 CEST gradient_boosted_trees.cc:1840] \"goss_alpha\" set but \"sampling_method\" not equal to \"GOSS\".\n",
      "[WARNING 24-05-08 18:04:25.2307 CEST gradient_boosted_trees.cc:1851] \"goss_beta\" set but \"sampling_method\" not equal to \"GOSS\".\n",
      "[WARNING 24-05-08 18:04:25.2307 CEST gradient_boosted_trees.cc:1865] \"selective_gradient_boosting_ratio\" set but \"sampling_method\" not equal to \"SELGB\".\n"
     ]
    },
    {
     "name": "stdout",
     "output_type": "stream",
     "text": [
      "Training dataset read in 0:00:00.132392. Found 13209 examples.\n",
      "Training model...\n",
      "Model trained in 0:00:00.195122\n",
      "Compiling model...\n",
      "Model compiled.\n",
      "Use /var/folders/3r/pzt2_p_x2xdfl2057nxkp3nm0000gn/T/tmp0v1jkkpv as temporary training directory\n",
      "Reading training dataset...\n"
     ]
    },
    {
     "name": "stderr",
     "output_type": "stream",
     "text": [
      "[INFO 24-05-08 18:04:25.5591 CEST kernel.cc:1233] Loading model from path /var/folders/3r/pzt2_p_x2xdfl2057nxkp3nm0000gn/T/tmp53p9e_wz/model/ with prefix 7937a8ca9e91468c\n",
      "[INFO 24-05-08 18:04:25.5604 CEST kernel.cc:1061] Use fast generic engine\n",
      "[WARNING 24-05-08 18:04:25.6364 CEST gradient_boosted_trees.cc:1840] \"goss_alpha\" set but \"sampling_method\" not equal to \"GOSS\".\n",
      "[WARNING 24-05-08 18:04:25.6364 CEST gradient_boosted_trees.cc:1851] \"goss_beta\" set but \"sampling_method\" not equal to \"GOSS\".\n",
      "[WARNING 24-05-08 18:04:25.6364 CEST gradient_boosted_trees.cc:1865] \"selective_gradient_boosting_ratio\" set but \"sampling_method\" not equal to \"SELGB\".\n"
     ]
    },
    {
     "name": "stdout",
     "output_type": "stream",
     "text": [
      "Training dataset read in 0:00:00.132704. Found 13209 examples.\n",
      "Training model...\n",
      "Model trained in 0:00:00.142467\n",
      "Compiling model...\n",
      "Model compiled.\n",
      "Use /var/folders/3r/pzt2_p_x2xdfl2057nxkp3nm0000gn/T/tmp49ag6wte as temporary training directory\n",
      "Reading training dataset...\n"
     ]
    },
    {
     "name": "stderr",
     "output_type": "stream",
     "text": [
      "[INFO 24-05-08 18:04:25.9129 CEST kernel.cc:1233] Loading model from path /var/folders/3r/pzt2_p_x2xdfl2057nxkp3nm0000gn/T/tmp0v1jkkpv/model/ with prefix 01690f8ca3f64fb8\n",
      "[INFO 24-05-08 18:04:25.9138 CEST kernel.cc:1061] Use fast generic engine\n",
      "[WARNING 24-05-08 18:04:25.9861 CEST gradient_boosted_trees.cc:1840] \"goss_alpha\" set but \"sampling_method\" not equal to \"GOSS\".\n",
      "[WARNING 24-05-08 18:04:25.9861 CEST gradient_boosted_trees.cc:1851] \"goss_beta\" set but \"sampling_method\" not equal to \"GOSS\".\n",
      "[WARNING 24-05-08 18:04:25.9861 CEST gradient_boosted_trees.cc:1865] \"selective_gradient_boosting_ratio\" set but \"sampling_method\" not equal to \"SELGB\".\n"
     ]
    },
    {
     "name": "stdout",
     "output_type": "stream",
     "text": [
      "Training dataset read in 0:00:00.135617. Found 13209 examples.\n",
      "Training model...\n",
      "Model trained in 0:00:00.174581\n",
      "Compiling model...\n",
      "Model compiled.\n",
      "Use /var/folders/3r/pzt2_p_x2xdfl2057nxkp3nm0000gn/T/tmp8mllx32j as temporary training directory\n",
      "Reading training dataset...\n"
     ]
    },
    {
     "name": "stderr",
     "output_type": "stream",
     "text": [
      "[INFO 24-05-08 18:04:26.2976 CEST kernel.cc:1233] Loading model from path /var/folders/3r/pzt2_p_x2xdfl2057nxkp3nm0000gn/T/tmp49ag6wte/model/ with prefix 56a2cfe0c3e04240\n",
      "[INFO 24-05-08 18:04:26.2988 CEST kernel.cc:1061] Use fast generic engine\n",
      "[WARNING 24-05-08 18:04:26.3712 CEST gradient_boosted_trees.cc:1840] \"goss_alpha\" set but \"sampling_method\" not equal to \"GOSS\".\n",
      "[WARNING 24-05-08 18:04:26.3712 CEST gradient_boosted_trees.cc:1851] \"goss_beta\" set but \"sampling_method\" not equal to \"GOSS\".\n",
      "[WARNING 24-05-08 18:04:26.3712 CEST gradient_boosted_trees.cc:1865] \"selective_gradient_boosting_ratio\" set but \"sampling_method\" not equal to \"SELGB\".\n"
     ]
    },
    {
     "name": "stdout",
     "output_type": "stream",
     "text": [
      "Training dataset read in 0:00:00.131721. Found 13209 examples.\n",
      "Training model...\n",
      "Model trained in 0:00:00.108620\n",
      "Compiling model...\n",
      "Model compiled.\n",
      "Use /var/folders/3r/pzt2_p_x2xdfl2057nxkp3nm0000gn/T/tmp19j2fo13 as temporary training directory\n",
      "Reading training dataset...\n"
     ]
    },
    {
     "name": "stderr",
     "output_type": "stream",
     "text": [
      "[INFO 24-05-08 18:04:26.6129 CEST kernel.cc:1233] Loading model from path /var/folders/3r/pzt2_p_x2xdfl2057nxkp3nm0000gn/T/tmp8mllx32j/model/ with prefix 1199dfcb366a4fc7\n",
      "[INFO 24-05-08 18:04:26.6137 CEST kernel.cc:1061] Use fast generic engine\n",
      "[WARNING 24-05-08 18:04:26.6868 CEST gradient_boosted_trees.cc:1840] \"goss_alpha\" set but \"sampling_method\" not equal to \"GOSS\".\n",
      "[WARNING 24-05-08 18:04:26.6868 CEST gradient_boosted_trees.cc:1851] \"goss_beta\" set but \"sampling_method\" not equal to \"GOSS\".\n",
      "[WARNING 24-05-08 18:04:26.6869 CEST gradient_boosted_trees.cc:1865] \"selective_gradient_boosting_ratio\" set but \"sampling_method\" not equal to \"SELGB\".\n"
     ]
    },
    {
     "name": "stdout",
     "output_type": "stream",
     "text": [
      "Training dataset read in 0:00:00.131703. Found 13209 examples.\n",
      "Training model...\n",
      "Model trained in 0:00:00.087965\n",
      "Compiling model...\n",
      "Model compiled.\n",
      "Use /var/folders/3r/pzt2_p_x2xdfl2057nxkp3nm0000gn/T/tmp54_b0v41 as temporary training directory\n",
      "Reading training dataset...\n"
     ]
    },
    {
     "name": "stderr",
     "output_type": "stream",
     "text": [
      "[INFO 24-05-08 18:04:26.9081 CEST kernel.cc:1233] Loading model from path /var/folders/3r/pzt2_p_x2xdfl2057nxkp3nm0000gn/T/tmp19j2fo13/model/ with prefix aeabf50ad2dc46e3\n",
      "[INFO 24-05-08 18:04:26.9088 CEST kernel.cc:1061] Use fast generic engine\n",
      "[WARNING 24-05-08 18:04:26.9818 CEST gradient_boosted_trees.cc:1840] \"goss_alpha\" set but \"sampling_method\" not equal to \"GOSS\".\n",
      "[WARNING 24-05-08 18:04:26.9818 CEST gradient_boosted_trees.cc:1851] \"goss_beta\" set but \"sampling_method\" not equal to \"GOSS\".\n",
      "[WARNING 24-05-08 18:04:26.9818 CEST gradient_boosted_trees.cc:1865] \"selective_gradient_boosting_ratio\" set but \"sampling_method\" not equal to \"SELGB\".\n"
     ]
    },
    {
     "name": "stdout",
     "output_type": "stream",
     "text": [
      "Training dataset read in 0:00:00.131981. Found 13209 examples.\n",
      "Training model...\n",
      "Model trained in 0:00:00.270484\n",
      "Compiling model...\n",
      "Model compiled.\n",
      "Use /var/folders/3r/pzt2_p_x2xdfl2057nxkp3nm0000gn/T/tmp_z5flip3 as temporary training directory\n",
      "Reading training dataset...\n"
     ]
    },
    {
     "name": "stderr",
     "output_type": "stream",
     "text": [
      "[INFO 24-05-08 18:04:27.3850 CEST kernel.cc:1233] Loading model from path /var/folders/3r/pzt2_p_x2xdfl2057nxkp3nm0000gn/T/tmp54_b0v41/model/ with prefix aff4fe29c9ac4a43\n",
      "[INFO 24-05-08 18:04:27.3867 CEST kernel.cc:1061] Use fast generic engine\n",
      "[WARNING 24-05-08 18:04:27.4591 CEST gradient_boosted_trees.cc:1840] \"goss_alpha\" set but \"sampling_method\" not equal to \"GOSS\".\n",
      "[WARNING 24-05-08 18:04:27.4592 CEST gradient_boosted_trees.cc:1851] \"goss_beta\" set but \"sampling_method\" not equal to \"GOSS\".\n",
      "[WARNING 24-05-08 18:04:27.4592 CEST gradient_boosted_trees.cc:1865] \"selective_gradient_boosting_ratio\" set but \"sampling_method\" not equal to \"SELGB\".\n"
     ]
    },
    {
     "name": "stdout",
     "output_type": "stream",
     "text": [
      "Training dataset read in 0:00:00.133019. Found 13209 examples.\n",
      "Training model...\n",
      "Model trained in 0:00:00.278742\n",
      "Compiling model...\n",
      "Model compiled.\n",
      "Use /var/folders/3r/pzt2_p_x2xdfl2057nxkp3nm0000gn/T/tmpnhed3laj as temporary training directory\n",
      "Reading training dataset...\n"
     ]
    },
    {
     "name": "stderr",
     "output_type": "stream",
     "text": [
      "[INFO 24-05-08 18:04:27.8715 CEST kernel.cc:1233] Loading model from path /var/folders/3r/pzt2_p_x2xdfl2057nxkp3nm0000gn/T/tmp_z5flip3/model/ with prefix d9b226a8ec284da7\n",
      "[INFO 24-05-08 18:04:27.8731 CEST kernel.cc:1061] Use fast generic engine\n",
      "[WARNING 24-05-08 18:04:27.9462 CEST gradient_boosted_trees.cc:1840] \"goss_alpha\" set but \"sampling_method\" not equal to \"GOSS\".\n",
      "[WARNING 24-05-08 18:04:27.9462 CEST gradient_boosted_trees.cc:1851] \"goss_beta\" set but \"sampling_method\" not equal to \"GOSS\".\n",
      "[WARNING 24-05-08 18:04:27.9462 CEST gradient_boosted_trees.cc:1865] \"selective_gradient_boosting_ratio\" set but \"sampling_method\" not equal to \"SELGB\".\n"
     ]
    },
    {
     "name": "stdout",
     "output_type": "stream",
     "text": [
      "Training dataset read in 0:00:00.131860. Found 13209 examples.\n",
      "Training model...\n",
      "Model trained in 0:00:00.286659\n",
      "Compiling model...\n",
      "Model compiled.\n",
      "Use /var/folders/3r/pzt2_p_x2xdfl2057nxkp3nm0000gn/T/tmpm3gbv3ng as temporary training directory\n",
      "Reading training dataset...\n"
     ]
    },
    {
     "name": "stderr",
     "output_type": "stream",
     "text": [
      "[INFO 24-05-08 18:04:28.3654 CEST kernel.cc:1233] Loading model from path /var/folders/3r/pzt2_p_x2xdfl2057nxkp3nm0000gn/T/tmpnhed3laj/model/ with prefix 62a08404ead24731\n",
      "[INFO 24-05-08 18:04:28.3671 CEST kernel.cc:1061] Use fast generic engine\n",
      "[WARNING 24-05-08 18:04:28.4400 CEST gradient_boosted_trees.cc:1840] \"goss_alpha\" set but \"sampling_method\" not equal to \"GOSS\".\n",
      "[WARNING 24-05-08 18:04:28.4401 CEST gradient_boosted_trees.cc:1851] \"goss_beta\" set but \"sampling_method\" not equal to \"GOSS\".\n",
      "[WARNING 24-05-08 18:04:28.4401 CEST gradient_boosted_trees.cc:1865] \"selective_gradient_boosting_ratio\" set but \"sampling_method\" not equal to \"SELGB\".\n"
     ]
    },
    {
     "name": "stdout",
     "output_type": "stream",
     "text": [
      "Training dataset read in 0:00:00.131870. Found 13209 examples.\n",
      "Training model...\n",
      "Model trained in 0:00:00.264755\n",
      "Compiling model...\n",
      "Model compiled.\n",
      "Use /var/folders/3r/pzt2_p_x2xdfl2057nxkp3nm0000gn/T/tmpjxja7liq as temporary training directory\n",
      "Reading training dataset...\n"
     ]
    },
    {
     "name": "stderr",
     "output_type": "stream",
     "text": [
      "[INFO 24-05-08 18:04:28.8374 CEST kernel.cc:1233] Loading model from path /var/folders/3r/pzt2_p_x2xdfl2057nxkp3nm0000gn/T/tmpm3gbv3ng/model/ with prefix 654dee42cbe842a9\n",
      "[INFO 24-05-08 18:04:28.8390 CEST kernel.cc:1061] Use fast generic engine\n",
      "[WARNING 24-05-08 18:04:28.9122 CEST gradient_boosted_trees.cc:1840] \"goss_alpha\" set but \"sampling_method\" not equal to \"GOSS\".\n",
      "[WARNING 24-05-08 18:04:28.9122 CEST gradient_boosted_trees.cc:1851] \"goss_beta\" set but \"sampling_method\" not equal to \"GOSS\".\n",
      "[WARNING 24-05-08 18:04:28.9122 CEST gradient_boosted_trees.cc:1865] \"selective_gradient_boosting_ratio\" set but \"sampling_method\" not equal to \"SELGB\".\n"
     ]
    },
    {
     "name": "stdout",
     "output_type": "stream",
     "text": [
      "Training dataset read in 0:00:00.132966. Found 13209 examples.\n",
      "Training model...\n",
      "Model trained in 0:00:00.199271\n",
      "Compiling model...\n",
      "Model compiled.\n",
      "Use /var/folders/3r/pzt2_p_x2xdfl2057nxkp3nm0000gn/T/tmpfjqizito as temporary training directory\n",
      "Reading training dataset...\n"
     ]
    },
    {
     "name": "stderr",
     "output_type": "stream",
     "text": [
      "[INFO 24-05-08 18:04:29.2451 CEST kernel.cc:1233] Loading model from path /var/folders/3r/pzt2_p_x2xdfl2057nxkp3nm0000gn/T/tmpjxja7liq/model/ with prefix 578371181dd345df\n",
      "[INFO 24-05-08 18:04:29.2464 CEST kernel.cc:1061] Use fast generic engine\n",
      "[WARNING 24-05-08 18:04:29.3179 CEST gradient_boosted_trees.cc:1840] \"goss_alpha\" set but \"sampling_method\" not equal to \"GOSS\".\n",
      "[WARNING 24-05-08 18:04:29.3179 CEST gradient_boosted_trees.cc:1851] \"goss_beta\" set but \"sampling_method\" not equal to \"GOSS\".\n",
      "[WARNING 24-05-08 18:04:29.3179 CEST gradient_boosted_trees.cc:1865] \"selective_gradient_boosting_ratio\" set but \"sampling_method\" not equal to \"SELGB\".\n"
     ]
    },
    {
     "name": "stdout",
     "output_type": "stream",
     "text": [
      "Training dataset read in 0:00:00.132334. Found 13209 examples.\n",
      "Training model...\n",
      "Model trained in 0:00:00.232886\n",
      "Compiling model...\n",
      "Model compiled.\n",
      "Use /var/folders/3r/pzt2_p_x2xdfl2057nxkp3nm0000gn/T/tmp5uly9501 as temporary training directory\n",
      "Reading training dataset...\n"
     ]
    },
    {
     "name": "stderr",
     "output_type": "stream",
     "text": [
      "[INFO 24-05-08 18:04:29.6836 CEST kernel.cc:1233] Loading model from path /var/folders/3r/pzt2_p_x2xdfl2057nxkp3nm0000gn/T/tmpfjqizito/model/ with prefix d276d627f77144cc\n",
      "[INFO 24-05-08 18:04:29.6851 CEST kernel.cc:1061] Use fast generic engine\n",
      "[WARNING 24-05-08 18:04:29.7568 CEST gradient_boosted_trees.cc:1840] \"goss_alpha\" set but \"sampling_method\" not equal to \"GOSS\".\n",
      "[WARNING 24-05-08 18:04:29.7568 CEST gradient_boosted_trees.cc:1851] \"goss_beta\" set but \"sampling_method\" not equal to \"GOSS\".\n",
      "[WARNING 24-05-08 18:04:29.7569 CEST gradient_boosted_trees.cc:1865] \"selective_gradient_boosting_ratio\" set but \"sampling_method\" not equal to \"SELGB\".\n"
     ]
    },
    {
     "name": "stdout",
     "output_type": "stream",
     "text": [
      "Training dataset read in 0:00:00.132571. Found 13209 examples.\n",
      "Training model...\n",
      "Model trained in 0:00:00.254197\n",
      "Compiling model...\n",
      "Model compiled.\n",
      "Use /var/folders/3r/pzt2_p_x2xdfl2057nxkp3nm0000gn/T/tmpazu4r2ri as temporary training directory\n",
      "Reading training dataset...\n"
     ]
    },
    {
     "name": "stderr",
     "output_type": "stream",
     "text": [
      "[INFO 24-05-08 18:04:30.1443 CEST kernel.cc:1233] Loading model from path /var/folders/3r/pzt2_p_x2xdfl2057nxkp3nm0000gn/T/tmp5uly9501/model/ with prefix bd3329ec21d040b4\n",
      "[INFO 24-05-08 18:04:30.1459 CEST kernel.cc:1061] Use fast generic engine\n",
      "[WARNING 24-05-08 18:04:30.2187 CEST gradient_boosted_trees.cc:1840] \"goss_alpha\" set but \"sampling_method\" not equal to \"GOSS\".\n",
      "[WARNING 24-05-08 18:04:30.2187 CEST gradient_boosted_trees.cc:1851] \"goss_beta\" set but \"sampling_method\" not equal to \"GOSS\".\n",
      "[WARNING 24-05-08 18:04:30.2187 CEST gradient_boosted_trees.cc:1865] \"selective_gradient_boosting_ratio\" set but \"sampling_method\" not equal to \"SELGB\".\n"
     ]
    },
    {
     "name": "stdout",
     "output_type": "stream",
     "text": [
      "Training dataset read in 0:00:00.131990. Found 13209 examples.\n",
      "Training model...\n",
      "Model trained in 0:00:00.125846\n",
      "Compiling model...\n",
      "Model compiled.\n"
     ]
    },
    {
     "name": "stderr",
     "output_type": "stream",
     "text": [
      "[INFO 24-05-08 18:04:30.4779 CEST kernel.cc:1233] Loading model from path /var/folders/3r/pzt2_p_x2xdfl2057nxkp3nm0000gn/T/tmpazu4r2ri/model/ with prefix bf2a45a3d8a34775\n",
      "[INFO 24-05-08 18:04:30.4787 CEST abstract_model.cc:1344] Engine \"GradientBoostedTreesQuickScorerExtended\" built\n",
      "[INFO 24-05-08 18:04:30.4787 CEST kernel.cc:1061] Use fast generic engine\n"
     ]
    }
   ],
   "source": [
    "gbt_model.fit(X_train, y_train)"
   ],
   "metadata": {
    "collapsed": false,
    "ExecuteTime": {
     "end_time": "2024-05-08T16:04:30.549702Z",
     "start_time": "2024-05-08T16:03:59.448345Z"
    }
   },
   "id": "863d540db7ca3707"
  },
  {
   "cell_type": "code",
   "execution_count": 114,
   "outputs": [
    {
     "name": "stdout",
     "output_type": "stream",
     "text": [
      "129/129 [==============================] - 0s 453us/step\n",
      "129/129 [==============================] - 0s 436us/step\n",
      "129/129 [==============================] - 0s 439us/step\n",
      "129/129 [==============================] - 0s 432us/step\n",
      "129/129 [==============================] - 0s 434us/step\n",
      "129/129 [==============================] - 0s 602us/step\n",
      "129/129 [==============================] - 0s 440us/step\n",
      "129/129 [==============================] - 0s 432us/step\n",
      "129/129 [==============================] - 0s 427us/step\n",
      "129/129 [==============================] - 0s 434us/step\n",
      "129/129 [==============================] - 0s 443us/step\n",
      "129/129 [==============================] - 0s 439us/step\n",
      "129/129 [==============================] - 0s 432us/step\n",
      "129/129 [==============================] - 0s 424us/step\n",
      "129/129 [==============================] - 0s 428us/step\n",
      "129/129 [==============================] - 0s 446us/step\n",
      "129/129 [==============================] - 0s 420us/step\n",
      "129/129 [==============================] - 0s 444us/step\n",
      "129/129 [==============================] - 0s 441us/step\n",
      "129/129 [==============================] - 0s 445us/step\n",
      "129/129 [==============================] - 0s 435us/step\n",
      "129/129 [==============================] - 0s 446us/step\n",
      "129/129 [==============================] - 0s 439us/step\n",
      "129/129 [==============================] - 0s 436us/step\n",
      "129/129 [==============================] - 0s 434us/step\n",
      "129/129 [==============================] - 0s 435us/step\n",
      "129/129 [==============================] - 0s 434us/step\n",
      "129/129 [==============================] - 0s 451us/step\n",
      "129/129 [==============================] - 0s 448us/step\n",
      "129/129 [==============================] - 0s 434us/step\n",
      "129/129 [==============================] - 0s 435us/step\n",
      "129/129 [==============================] - 0s 434us/step\n",
      "129/129 [==============================] - 0s 424us/step\n",
      "129/129 [==============================] - 0s 467us/step\n",
      "129/129 [==============================] - 0s 416us/step\n",
      "129/129 [==============================] - 0s 432us/step\n",
      "129/129 [==============================] - 0s 438us/step\n",
      "129/129 [==============================] - 0s 431us/step\n",
      "129/129 [==============================] - 0s 441us/step\n",
      "129/129 [==============================] - 0s 453us/step\n",
      "129/129 [==============================] - 0s 433us/step\n",
      "129/129 [==============================] - 0s 441us/step\n",
      "129/129 [==============================] - 0s 448us/step\n",
      "129/129 [==============================] - 0s 439us/step\n",
      "129/129 [==============================] - 0s 432us/step\n",
      "129/129 [==============================] - 0s 457us/step\n",
      "129/129 [==============================] - 0s 442us/step\n",
      "129/129 [==============================] - 0s 453us/step\n",
      "129/129 [==============================] - 0s 434us/step\n",
      "129/129 [==============================] - 0s 428us/step\n",
      "129/129 [==============================] - 0s 434us/step\n",
      "129/129 [==============================] - 0s 449us/step\n",
      "129/129 [==============================] - 0s 430us/step\n",
      "129/129 [==============================] - 0s 437us/step\n",
      "129/129 [==============================] - 0s 427us/step\n",
      "129/129 [==============================] - 0s 439us/step\n",
      "129/129 [==============================] - 0s 429us/step\n",
      "129/129 [==============================] - 0s 454us/step\n",
      "129/129 [==============================] - 0s 424us/step\n",
      "129/129 [==============================] - 0s 446us/step\n",
      "129/129 [==============================] - 0s 438us/step\n",
      "129/129 [==============================] - 0s 455us/step\n",
      "129/129 [==============================] - 0s 428us/step\n",
      "129/129 [==============================] - 0s 435us/step\n",
      "129/129 [==============================] - 0s 429us/step\n",
      "129/129 [==============================] - 0s 437us/step\n",
      "129/129 [==============================] - 0s 442us/step\n",
      "129/129 [==============================] - 0s 440us/step\n",
      "129/129 [==============================] - 0s 437us/step\n",
      "129/129 [==============================] - 0s 450us/step\n",
      "129/129 [==============================] - 0s 454us/step\n",
      "129/129 [==============================] - 0s 442us/step\n",
      "129/129 [==============================] - 0s 446us/step\n",
      "129/129 [==============================] - 0s 415us/step\n",
      "129/129 [==============================] - 0s 425us/step\n",
      "129/129 [==============================] - 0s 470us/step\n",
      "129/129 [==============================] - 0s 431us/step\n",
      "129/129 [==============================] - 0s 424us/step\n",
      "129/129 [==============================] - 0s 441us/step\n",
      "129/129 [==============================] - 0s 441us/step\n"
     ]
    }
   ],
   "source": [
    "mean_predict, variance_predict = gbt_model.predict(X_test)"
   ],
   "metadata": {
    "collapsed": false,
    "ExecuteTime": {
     "end_time": "2024-05-08T16:05:13.186010Z",
     "start_time": "2024-05-08T16:05:04.552807Z"
    }
   },
   "id": "7f14d9cb64beec5e"
  },
  {
   "cell_type": "code",
   "execution_count": 136,
   "outputs": [],
   "source": [
    "y_test_eval = np.array(y_test).flatten()\n",
    "y_pred_eval = mean_predict.numpy().flatten()"
   ],
   "metadata": {
    "collapsed": false,
    "ExecuteTime": {
     "end_time": "2024-05-08T16:28:09.744716Z",
     "start_time": "2024-05-08T16:28:09.727309Z"
    }
   },
   "id": "f41f786fdbdef1e0"
  },
  {
   "cell_type": "code",
   "execution_count": 137,
   "outputs": [
    {
     "name": "stdout",
     "output_type": "stream",
     "text": [
      "61868.72834150195\n"
     ]
    }
   ],
   "source": [
    "root_mse = np.sqrt(mean_squared_error(y_test_eval, y_pred_eval))\n",
    "print(root_mse)"
   ],
   "metadata": {
    "collapsed": false,
    "ExecuteTime": {
     "end_time": "2024-05-08T16:28:10.246131Z",
     "start_time": "2024-05-08T16:28:10.241900Z"
    }
   },
   "id": "c9c556db95d4d615"
  },
  {
   "cell_type": "code",
   "execution_count": 138,
   "outputs": [],
   "source": [
    "PLOT = 30"
   ],
   "metadata": {
    "collapsed": false,
    "ExecuteTime": {
     "end_time": "2024-05-08T16:29:40.643845Z",
     "start_time": "2024-05-08T16:29:40.628305Z"
    }
   },
   "id": "25a6a9d6cbbb6090"
  },
  {
   "cell_type": "code",
   "execution_count": 139,
   "outputs": [],
   "source": [
    "y_plot = y_test[:PLOT]\n",
    "x_axis = np.arange(len(y_plot))\n",
    "y_mean_predict = mean_predict[:PLOT].numpy()\n",
    "y_var_predict = variance_predict[:PLOT].numpy()"
   ],
   "metadata": {
    "collapsed": false,
    "ExecuteTime": {
     "end_time": "2024-05-08T16:29:41.156305Z",
     "start_time": "2024-05-08T16:29:41.151986Z"
    }
   },
   "id": "74fd541fd36ec6aa"
  },
  {
   "cell_type": "code",
   "execution_count": 143,
   "outputs": [
    {
     "data": {
      "text/plain": "<Figure size 800x600 with 1 Axes>",
      "image/png": "[encoded data removed]"
     },
     "metadata": {},
     "output_type": "display_data"
    }
   ],
   "source": [
    "plt.figure(figsize=(8, 6))\n",
    "plt.xlim(-1,PLOT)\n",
    "plt.scatter(x_axis, y_plot, color='lightblue', label=\"Ground Truth\")\n",
    "plt.scatter(x_axis, y_mean_predict.flatten(), color='pink', alpha=0.8, label='Mean Prediction')\n",
    "plt.errorbar(x_axis, y_mean_predict.flatten(), yerr=root_mse, fmt='none', ecolor='pink', label=\"Root MSE\")\n",
    "plt.errorbar(x_axis, y_mean_predict.flatten(), yerr=y_var_predict.flatten(), fmt='none', color='darkred', alpha=0.8, label=\"Uncertainty\")\n",
    "plt.ylabel('prices')\n",
    "plt.legend()\n",
    "plt.grid(True)  # Enable grid for better visualization\n",
    "plt.show()"
   ],
   "metadata": {
    "collapsed": false,
    "ExecuteTime": {
     "end_time": "2024-05-08T16:32:48.489818Z",
     "start_time": "2024-05-08T16:32:48.388213Z"
    }
   },
   "id": "2b6be11b4c924954"
  },
  {
   "cell_type": "code",
   "execution_count": null,
   "outputs": [],
   "source": [],
   "metadata": {
    "collapsed": false
   },
   "id": "8c2ef3ff296154aa"
  }
 ],
 "metadata": {
  "kernelspec": {
   "display_name": "Python 3",
   "language": "python",
   "name": "python3"
  },
  "language_info": {
   "codemirror_mode": {
    "name": "ipython",
    "version": 2
   },
   "file_extension": ".py",
   "mimetype": "text/x-python",
   "name": "python",
   "nbconvert_exporter": "python",
   "pygments_lexer": "ipython2",
   "version": "2.7.6"
  }
 },
 "nbformat": 4,
 "nbformat_minor": 5
}
