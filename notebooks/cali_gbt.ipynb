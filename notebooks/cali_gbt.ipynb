{
 "cells": [
  {
   "cell_type": "code",
   "execution_count": 399,
   "id": "initial_id",
   "metadata": {
    "collapsed": true,
    "ExecuteTime": {
     "end_time": "2024-06-03T13:08:27.845566Z",
     "start_time": "2024-06-03T13:08:27.834264Z"
    }
   },
   "outputs": [],
   "source": [
    "import tensorflow as tf\n",
    "import tensorflow_decision_forests as tfdf\n",
    "import numpy as np\n",
    "from sklearn.datasets import make_regression\n",
    "from sklearn.model_selection import train_test_split\n",
    "from sklearn.metrics import mean_squared_error\n",
    "from sklearn.preprocessing import StandardScaler\n",
    "\n",
    "import matplotlib.pyplot as plt\n",
    "import pandas as pd\n",
    "from lime.lime_tabular import LimeTabularExplainer\n",
    "import shap\n",
    "from collections import defaultdict"
   ]
  },
  {
   "cell_type": "code",
   "execution_count": 400,
   "outputs": [],
   "source": [
    "cali_housing_path = '../data/California_Houses.csv'\n",
    "RANDOM_SEED = 492"
   ],
   "metadata": {
    "collapsed": false,
    "ExecuteTime": {
     "end_time": "2024-06-03T13:08:28.386273Z",
     "start_time": "2024-06-03T13:08:28.376174Z"
    }
   },
   "id": "7d034f24c61b4ead"
  },
  {
   "cell_type": "code",
   "execution_count": 401,
   "outputs": [],
   "source": [
    "cali_df = pd.read_csv(cali_housing_path)"
   ],
   "metadata": {
    "collapsed": false,
    "ExecuteTime": {
     "end_time": "2024-06-03T13:08:29.140082Z",
     "start_time": "2024-06-03T13:08:29.099231Z"
    }
   },
   "id": "e67f3515498765c5"
  },
  {
   "cell_type": "code",
   "execution_count": 402,
   "outputs": [
    {
     "name": "stdout",
     "output_type": "stream",
     "text": [
      "   Median_House_Value  Median_Income  Median_Age  Tot_Rooms  Tot_Bedrooms  \\\n",
      "0            452600.0         8.3252          41        880           129   \n",
      "1            358500.0         8.3014          21       7099          1106   \n",
      "2            352100.0         7.2574          52       1467           190   \n",
      "3            341300.0         5.6431          52       1274           235   \n",
      "4            342200.0         3.8462          52       1627           280   \n",
      "\n",
      "   Population  Households  Latitude  Longitude  Distance_to_coast  \\\n",
      "0         322         126     37.88    -122.23        9263.040773   \n",
      "1        2401        1138     37.86    -122.22       10225.733072   \n",
      "2         496         177     37.85    -122.24        8259.085109   \n",
      "3         558         219     37.85    -122.25        7768.086571   \n",
      "4         565         259     37.85    -122.25        7768.086571   \n",
      "\n",
      "   Distance_to_LA  Distance_to_SanDiego  Distance_to_SanJose  \\\n",
      "0   556529.158342         735501.806984         67432.517001   \n",
      "1   554279.850069         733236.884360         65049.908574   \n",
      "2   554610.717069         733525.682937         64867.289833   \n",
      "3   555194.266086         734095.290744         65287.138412   \n",
      "4   555194.266086         734095.290744         65287.138412   \n",
      "\n",
      "   Distance_to_SanFrancisco  \n",
      "0              21250.213767  \n",
      "1              20880.600400  \n",
      "2              18811.487450  \n",
      "3              18031.047568  \n",
      "4              18031.047568  \n"
     ]
    }
   ],
   "source": [
    "print(cali_df.head())"
   ],
   "metadata": {
    "collapsed": false,
    "ExecuteTime": {
     "end_time": "2024-06-03T13:08:29.725240Z",
     "start_time": "2024-06-03T13:08:29.716888Z"
    }
   },
   "id": "dd3a9aebe1b6f202"
  },
  {
   "cell_type": "code",
   "execution_count": 403,
   "outputs": [],
   "source": [
    "y_series = cali_df['Median_House_Value']\n",
    "y = pd.DataFrame(y_series, columns=['Median_House_Value'])\n",
    "features = [col for col in cali_df.columns if col != 'Median_House_Value']\n",
    "X = cali_df[features]"
   ],
   "metadata": {
    "collapsed": false,
    "ExecuteTime": {
     "end_time": "2024-06-03T13:08:30.816276Z",
     "start_time": "2024-06-03T13:08:30.804576Z"
    }
   },
   "id": "6ac9273c8f8fd518"
  },
  {
   "cell_type": "code",
   "execution_count": 404,
   "outputs": [],
   "source": [
    "X_train, X_test, y_train, y_test = train_test_split(X, y, test_size=0.2, random_state=RANDOM_SEED)"
   ],
   "metadata": {
    "collapsed": false,
    "ExecuteTime": {
     "end_time": "2024-06-03T13:08:31.495899Z",
     "start_time": "2024-06-03T13:08:31.486947Z"
    }
   },
   "id": "aecb071343afa4b4"
  },
  {
   "cell_type": "code",
   "execution_count": 405,
   "outputs": [],
   "source": [
    "X_train = X_train.reset_index(drop=True)\n",
    "y_train = y_train.reset_index(drop=True)\n",
    "X_test = X_test.reset_index(drop=True)\n",
    "y_test = y_test.reset_index(drop=True)"
   ],
   "metadata": {
    "collapsed": false,
    "ExecuteTime": {
     "end_time": "2024-06-03T13:08:35.257326Z",
     "start_time": "2024-06-03T13:08:35.242005Z"
    }
   },
   "id": "c4eb199e83a8880"
  },
  {
   "cell_type": "code",
   "execution_count": 406,
   "outputs": [],
   "source": [
    "scaler = StandardScaler()\n",
    "X_train_scaled = scaler.fit_transform(X_train)\n",
    "X_test_scaled = scaler.transform(X_test)\n",
    "\n",
    "X_train_scaled = pd.DataFrame(X_train_scaled, columns=X_train.columns)\n",
    "X_test_scaled = pd.DataFrame(X_test_scaled, columns=X_test.columns)"
   ],
   "metadata": {
    "collapsed": false,
    "ExecuteTime": {
     "end_time": "2024-06-03T13:08:44.570232Z",
     "start_time": "2024-06-03T13:08:44.554628Z"
    }
   },
   "id": "99bd273ec5a86d17"
  },
  {
   "cell_type": "code",
   "execution_count": 407,
   "outputs": [
    {
     "name": "stdout",
     "output_type": "stream",
     "text": [
      "   Median_Income  Median_Age  Tot_Rooms  Tot_Bedrooms  Population  Households  \\\n",
      "0      -0.220234    0.183029  -0.505330     -0.583271   -0.625333   -0.554684   \n",
      "1       1.131720   -0.453352  -0.451797     -0.319166   -0.779725   -0.428479   \n",
      "2       0.635054   -0.930638   0.592095      0.475528    1.118858    0.649526   \n",
      "3       0.737734   -1.248828  -0.828835     -0.968722   -0.899710   -0.977998   \n",
      "4      -0.158268   -1.169280  -0.095988     -0.114544   -0.374776   -0.381152   \n",
      "\n",
      "   Latitude  Longitude  Distance_to_coast  Distance_to_LA  \\\n",
      "0  1.311518  -1.639785          -0.391522        1.490960   \n",
      "1  1.054222  -1.455058          -0.700199        1.220967   \n",
      "2  0.764180  -1.110565          -0.144717        0.850569   \n",
      "3  0.591090  -1.050653          -0.568215        0.701779   \n",
      "4  1.723191  -0.296764           2.921674        1.372870   \n",
      "\n",
      "   Distance_to_SanDiego  Distance_to_SanJose  Distance_to_SanFrancisco  \n",
      "0              1.449301            -0.918829                 -1.210694  \n",
      "1              1.216888            -1.233202                 -1.486886  \n",
      "2              0.899621            -1.555896                 -1.226765  \n",
      "3              0.769540            -1.367071                 -1.072064  \n",
      "4              1.324620            -0.376627                 -0.498782  \n"
     ]
    }
   ],
   "source": [
    "subset_indices = np.random.choice(X_train.index, size=len(X_train), replace=False)\n",
    "\n",
    "X_train_subset = X_train.loc[subset_indices]\n",
    "y_train_subset = y_train.loc[subset_indices]\n",
    "\n",
    "print(X_train_scaled.head())"
   ],
   "metadata": {
    "collapsed": false,
    "ExecuteTime": {
     "end_time": "2024-06-03T13:08:46.650564Z",
     "start_time": "2024-06-03T13:08:46.635407Z"
    }
   },
   "id": "5fa58ed3dcaec060"
  },
  {
   "cell_type": "code",
   "execution_count": 408,
   "outputs": [],
   "source": [
    "X_train_subset = X_train_subset.reset_index(drop=True)\n",
    "y_train_subset = y_train_subset.reset_index(drop=True)"
   ],
   "metadata": {
    "collapsed": false,
    "ExecuteTime": {
     "end_time": "2024-06-03T13:08:49.067146Z",
     "start_time": "2024-06-03T13:08:49.051161Z"
    }
   },
   "id": "f7e6aed86b6f4b0f"
  },
  {
   "cell_type": "code",
   "execution_count": 409,
   "outputs": [
    {
     "name": "stdout",
     "output_type": "stream",
     "text": [
      "(16512, 1)\n"
     ]
    }
   ],
   "source": [
    "X_train_tensor = tf.constant(X_train_subset.values, dtype=tf.float32)\n",
    "y_train_tensor = tf.constant(y_train_subset.values, dtype=tf.float32)\n",
    "print(y_train_tensor.shape)"
   ],
   "metadata": {
    "collapsed": false,
    "ExecuteTime": {
     "end_time": "2024-06-03T13:09:09.593755Z",
     "start_time": "2024-06-03T13:09:09.582306Z"
    }
   },
   "id": "39c93bb427b3e986"
  },
  {
   "cell_type": "code",
   "execution_count": 435,
   "outputs": [],
   "source": [
    "class GradientBoostedTreesEnsembleRegressor(tf.keras.Model):\n",
    "    def __init__(self, n_trees=100, max_depth=3, n_estimators=100, subportion = 0.8, sample_method='RANDOM'): \n",
    "        super(GradientBoostedTreesEnsembleRegressor, self).__init__()\n",
    "        self.n_trees = n_trees\n",
    "        self.n_estimators = n_estimators\n",
    "        self.max_depth = max_depth\n",
    "        self.subportion = subportion\n",
    "        self.sample_method = sample_method\n",
    "        self.estimators = []\n",
    "        self.lime_explainers = []\n",
    "        self.shap_explainers = []\n",
    "\n",
    "    def build_estimator(self):\n",
    "        model = tfdf.keras.GradientBoostedTreesModel(\n",
    "            task=tfdf.keras.Task.REGRESSION,\n",
    "            num_trees=np.random.randint(self.n_trees/5, self.n_trees+1), # self.n_trees, #\n",
    "            max_depth=self.max_depth, #np.random.randint(self.max_depth/2, self.max_depth+1), # self.max_depth, # \n",
    "            validation_ratio=0.1,\n",
    "            subsample=self.subportion,\n",
    "            sampling_method=self.sample_method,\n",
    "            random_seed=self.seed # try to set this first. Maybe this is enough\n",
    "        )\n",
    "        return model\n",
    "    \n",
    "    # if not, the number of trees/depth different for each estimator\n",
    "\n",
    "    def fit(self, X, y):\n",
    "        \n",
    "        for seed in np.random.randint(0, 1000000, size=self.n_estimators):\n",
    "            self.seed = int(seed)\n",
    "            subset_size = int(self.subportion * len(X))\n",
    "            \n",
    "            # Create a subset of the dataset using sampled indices\n",
    "            subset_indices = np.random.choice(X.index, size=subset_size, replace=False)\n",
    "            X_train = X.loc[subset_indices].reset_index(drop=True)\n",
    "            y_train = y.loc[subset_indices].reset_index(drop=True)\n",
    "            \n",
    "            X_tensor = tf.constant(X_train.values, dtype=tf.float32)\n",
    "            y_tensor = tf.constant(y_train.values, dtype=tf.float32)\n",
    "        \n",
    "            \n",
    "            # subset_dataset = (X_tensor, y_tensor)\n",
    "            \n",
    "            # building each estimator\n",
    "            estimator = self.build_estimator()\n",
    "            estimator.fit(X_tensor,y_tensor)\n",
    "            self.estimators.append(estimator)\n",
    "            \n",
    "        # initiate explainers\n",
    "        for model in self.estimators:\n",
    "            lime_explainer = LimeTabularExplainer(X.values, feature_names=X.columns.tolist(), mode='regression')\n",
    "            self.lime_explainers.append(lime_explainer)\n",
    "            masker = shap.maskers.Independent(data = X_train.values)\n",
    "            shap_explainer = shap.Explainer(model, masker=masker, feature_names=X.columns.tolist())\n",
    "            self.shap_explainers.append(shap_explainer)\n",
    "    \n",
    "    #something's not right here\n",
    "    def predict_mean(self, X):\n",
    "        predictions = []\n",
    "        \n",
    "        for estimator in self.estimators:\n",
    "            estimator_predictions = estimator.predict(X)  # Get predictions from the current estimator\n",
    "            predictions.append(estimator_predictions)\n",
    "        \n",
    "        # Stack all predictions along the last axis (-1)\n",
    "        predictions_stacked = tf.stack(predictions, axis=-1)\n",
    "        \n",
    "        # Compute mean and variance across the stacked predictions\n",
    "        mean_prediction = tf.reduce_mean(predictions_stacked, axis=-1)\n",
    "        sd_prediction = tf.math.reduce_std(predictions_stacked, axis=-1)\n",
    "        \n",
    "        return mean_prediction, sd_prediction\n",
    "    \n",
    "    def explain_lime(self, X):\n",
    "        lime_explanations = []\n",
    "        \n",
    "        for estimator, explainer in zip(self.estimators, self.lime_explainers):\n",
    "            for i in range(len(X)): \n",
    "                instance_explanation = explainer.explain_instance(X.iloc[i], estimator.predict, num_features=X.shape[1])\n",
    "                lime_explanations.append(instance_explanation)\n",
    "        return lime_explanations\n",
    "    \n",
    "    def explain_shap(self, X):\n",
    "        shap_values = []\n",
    "        \n",
    "        for estimator, explainer in zip(self.estimators, self.shap_explainers):\n",
    "            shap_value = explainer(X)\n",
    "            shap_values.append(shap_value)\n",
    "        \n",
    "        return shap_values\n",
    "    "
   ],
   "metadata": {
    "collapsed": false,
    "ExecuteTime": {
     "end_time": "2024-06-03T14:02:19.645676Z",
     "start_time": "2024-06-03T14:02:19.642685Z"
    }
   },
   "id": "919970c901a09027"
  },
  {
   "cell_type": "code",
   "execution_count": 436,
   "outputs": [],
   "source": [
    "gbt_model = GradientBoostedTreesEnsembleRegressor(\n",
    "    n_trees=50, \n",
    "    max_depth=5, \n",
    "    n_estimators=80, \n",
    "    subportion=0.8, \n",
    "    sample_method='RANDOM'\n",
    ")"
   ],
   "metadata": {
    "collapsed": false,
    "ExecuteTime": {
     "end_time": "2024-06-03T14:02:20.887276Z",
     "start_time": "2024-06-03T14:02:20.872514Z"
    }
   },
   "id": "29337526f5a1fc2b"
  },
  {
   "cell_type": "code",
   "execution_count": 437,
   "outputs": [
    {
     "name": "stdout",
     "output_type": "stream",
     "text": [
      "Use /var/folders/3r/pzt2_p_x2xdfl2057nxkp3nm0000gn/T/tmpr8gtsht6 as temporary training directory\n",
      "Reading training dataset...\n"
     ]
    },
    {
     "name": "stderr",
     "output_type": "stream",
     "text": [
      "[WARNING 24-06-03 16:02:21.6528 CEST gradient_boosted_trees.cc:1840] \"goss_alpha\" set but \"sampling_method\" not equal to \"GOSS\".\n",
      "[WARNING 24-06-03 16:02:21.6528 CEST gradient_boosted_trees.cc:1851] \"goss_beta\" set but \"sampling_method\" not equal to \"GOSS\".\n",
      "[WARNING 24-06-03 16:02:21.6528 CEST gradient_boosted_trees.cc:1865] \"selective_gradient_boosting_ratio\" set but \"sampling_method\" not equal to \"SELGB\".\n"
     ]
    },
    {
     "name": "stdout",
     "output_type": "stream",
     "text": [
      "Training dataset read in 0:00:00.617319. Found 13209 examples.\n",
      "Training model...\n",
      "Model trained in 0:00:00.378103\n",
      "Compiling model...\n",
      "Model compiled.\n",
      "Use /var/folders/3r/pzt2_p_x2xdfl2057nxkp3nm0000gn/T/tmphgab7sxm as temporary training directory\n",
      "Reading training dataset...\n"
     ]
    },
    {
     "name": "stderr",
     "output_type": "stream",
     "text": [
      "[INFO 24-06-03 16:02:22.6502 CEST kernel.cc:1233] Loading model from path /var/folders/3r/pzt2_p_x2xdfl2057nxkp3nm0000gn/T/tmpr8gtsht6/model/ with prefix 2aeca7e40f4d4c4a\n",
      "[INFO 24-06-03 16:02:22.6526 CEST abstract_model.cc:1344] Engine \"GradientBoostedTreesQuickScorerExtended\" built\n",
      "[INFO 24-06-03 16:02:22.6527 CEST kernel.cc:1061] Use fast generic engine\n",
      "[WARNING 24-06-03 16:02:22.7879 CEST gradient_boosted_trees.cc:1840] \"goss_alpha\" set but \"sampling_method\" not equal to \"GOSS\".\n",
      "[WARNING 24-06-03 16:02:22.7879 CEST gradient_boosted_trees.cc:1851] \"goss_beta\" set but \"sampling_method\" not equal to \"GOSS\".\n",
      "[WARNING 24-06-03 16:02:22.7879 CEST gradient_boosted_trees.cc:1865] \"selective_gradient_boosting_ratio\" set but \"sampling_method\" not equal to \"SELGB\".\n"
     ]
    },
    {
     "name": "stdout",
     "output_type": "stream",
     "text": [
      "Training dataset read in 0:00:00.287544. Found 13209 examples.\n",
      "Training model...\n",
      "Model trained in 0:00:00.404657\n",
      "Compiling model...\n",
      "Model compiled.\n",
      "Use /var/folders/3r/pzt2_p_x2xdfl2057nxkp3nm0000gn/T/tmp002g5xy_ as temporary training directory\n",
      "Reading training dataset...\n"
     ]
    },
    {
     "name": "stderr",
     "output_type": "stream",
     "text": [
      "[INFO 24-06-03 16:02:23.4806 CEST kernel.cc:1233] Loading model from path /var/folders/3r/pzt2_p_x2xdfl2057nxkp3nm0000gn/T/tmphgab7sxm/model/ with prefix 8b0be402c6004e66\n",
      "[INFO 24-06-03 16:02:23.4820 CEST kernel.cc:1061] Use fast generic engine\n",
      "[WARNING 24-06-03 16:02:23.5949 CEST gradient_boosted_trees.cc:1840] \"goss_alpha\" set but \"sampling_method\" not equal to \"GOSS\".\n",
      "[WARNING 24-06-03 16:02:23.5949 CEST gradient_boosted_trees.cc:1851] \"goss_beta\" set but \"sampling_method\" not equal to \"GOSS\".\n",
      "[WARNING 24-06-03 16:02:23.5949 CEST gradient_boosted_trees.cc:1865] \"selective_gradient_boosting_ratio\" set but \"sampling_method\" not equal to \"SELGB\".\n"
     ]
    },
    {
     "name": "stdout",
     "output_type": "stream",
     "text": [
      "Training dataset read in 0:00:00.280056. Found 13209 examples.\n",
      "Training model...\n",
      "Model trained in 0:00:00.156704\n",
      "Compiling model...\n",
      "Model compiled.\n",
      "Use /var/folders/3r/pzt2_p_x2xdfl2057nxkp3nm0000gn/T/tmpm2wg6l8o as temporary training directory\n",
      "Reading training dataset...\n"
     ]
    },
    {
     "name": "stderr",
     "output_type": "stream",
     "text": [
      "[INFO 24-06-03 16:02:24.0333 CEST kernel.cc:1233] Loading model from path /var/folders/3r/pzt2_p_x2xdfl2057nxkp3nm0000gn/T/tmp002g5xy_/model/ with prefix f71ef4921a4d4b6d\n",
      "[INFO 24-06-03 16:02:24.0340 CEST kernel.cc:1061] Use fast generic engine\n",
      "[WARNING 24-06-03 16:02:24.1110 CEST gradient_boosted_trees.cc:1840] \"goss_alpha\" set but \"sampling_method\" not equal to \"GOSS\".\n",
      "[WARNING 24-06-03 16:02:24.1110 CEST gradient_boosted_trees.cc:1851] \"goss_beta\" set but \"sampling_method\" not equal to \"GOSS\".\n",
      "[WARNING 24-06-03 16:02:24.1111 CEST gradient_boosted_trees.cc:1865] \"selective_gradient_boosting_ratio\" set but \"sampling_method\" not equal to \"SELGB\".\n"
     ]
    },
    {
     "name": "stdout",
     "output_type": "stream",
     "text": [
      "Training dataset read in 0:00:00.271448. Found 13209 examples.\n",
      "Training model...\n",
      "Model trained in 0:00:00.185662\n",
      "Compiling model...\n",
      "Model compiled.\n",
      "Use /var/folders/3r/pzt2_p_x2xdfl2057nxkp3nm0000gn/T/tmpkls3d4r0 as temporary training directory\n",
      "Reading training dataset...\n"
     ]
    },
    {
     "name": "stderr",
     "output_type": "stream",
     "text": [
      "[INFO 24-06-03 16:02:24.5757 CEST kernel.cc:1233] Loading model from path /var/folders/3r/pzt2_p_x2xdfl2057nxkp3nm0000gn/T/tmpm2wg6l8o/model/ with prefix d2d4bfc0376149a2\n",
      "[INFO 24-06-03 16:02:24.5764 CEST kernel.cc:1061] Use fast generic engine\n",
      "[WARNING 24-06-03 16:02:24.6611 CEST gradient_boosted_trees.cc:1840] \"goss_alpha\" set but \"sampling_method\" not equal to \"GOSS\".\n",
      "[WARNING 24-06-03 16:02:24.6612 CEST gradient_boosted_trees.cc:1851] \"goss_beta\" set but \"sampling_method\" not equal to \"GOSS\".\n",
      "[WARNING 24-06-03 16:02:24.6612 CEST gradient_boosted_trees.cc:1865] \"selective_gradient_boosting_ratio\" set but \"sampling_method\" not equal to \"SELGB\".\n"
     ]
    },
    {
     "name": "stdout",
     "output_type": "stream",
     "text": [
      "Training dataset read in 0:00:00.268109. Found 13209 examples.\n",
      "Training model...\n",
      "Model trained in 0:00:00.167112\n",
      "Compiling model...\n",
      "Model compiled.\n",
      "Use /var/folders/3r/pzt2_p_x2xdfl2057nxkp3nm0000gn/T/tmp4zhhn2ac as temporary training directory\n",
      "Reading training dataset...\n"
     ]
    },
    {
     "name": "stderr",
     "output_type": "stream",
     "text": [
      "[INFO 24-06-03 16:02:25.0978 CEST kernel.cc:1233] Loading model from path /var/folders/3r/pzt2_p_x2xdfl2057nxkp3nm0000gn/T/tmpkls3d4r0/model/ with prefix 42008d354727483c\n",
      "[INFO 24-06-03 16:02:25.0985 CEST kernel.cc:1061] Use fast generic engine\n",
      "[WARNING 24-06-03 16:02:25.1810 CEST gradient_boosted_trees.cc:1840] \"goss_alpha\" set but \"sampling_method\" not equal to \"GOSS\".\n",
      "[WARNING 24-06-03 16:02:25.1810 CEST gradient_boosted_trees.cc:1851] \"goss_beta\" set but \"sampling_method\" not equal to \"GOSS\".\n",
      "[WARNING 24-06-03 16:02:25.1810 CEST gradient_boosted_trees.cc:1865] \"selective_gradient_boosting_ratio\" set but \"sampling_method\" not equal to \"SELGB\".\n"
     ]
    },
    {
     "name": "stdout",
     "output_type": "stream",
     "text": [
      "Training dataset read in 0:00:00.268204. Found 13209 examples.\n",
      "Training model...\n",
      "Model trained in 0:00:00.154361\n",
      "Compiling model...\n",
      "Model compiled.\n",
      "Use /var/folders/3r/pzt2_p_x2xdfl2057nxkp3nm0000gn/T/tmp_8_ueq4a as temporary training directory\n",
      "Reading training dataset...\n"
     ]
    },
    {
     "name": "stderr",
     "output_type": "stream",
     "text": [
      "[INFO 24-06-03 16:02:25.6053 CEST kernel.cc:1233] Loading model from path /var/folders/3r/pzt2_p_x2xdfl2057nxkp3nm0000gn/T/tmp4zhhn2ac/model/ with prefix 6c873bea10ab46eb\n",
      "[INFO 24-06-03 16:02:25.6060 CEST kernel.cc:1061] Use fast generic engine\n",
      "[WARNING 24-06-03 16:02:25.6831 CEST gradient_boosted_trees.cc:1840] \"goss_alpha\" set but \"sampling_method\" not equal to \"GOSS\".\n",
      "[WARNING 24-06-03 16:02:25.6831 CEST gradient_boosted_trees.cc:1851] \"goss_beta\" set but \"sampling_method\" not equal to \"GOSS\".\n",
      "[WARNING 24-06-03 16:02:25.6832 CEST gradient_boosted_trees.cc:1865] \"selective_gradient_boosting_ratio\" set but \"sampling_method\" not equal to \"SELGB\".\n"
     ]
    },
    {
     "name": "stdout",
     "output_type": "stream",
     "text": [
      "Training dataset read in 0:00:00.272806. Found 13209 examples.\n",
      "Training model...\n",
      "Model trained in 0:00:00.566679\n",
      "Compiling model...\n",
      "Model compiled.\n",
      "Use /var/folders/3r/pzt2_p_x2xdfl2057nxkp3nm0000gn/T/tmpc1q5jykn as temporary training directory\n",
      "Reading training dataset...\n"
     ]
    },
    {
     "name": "stderr",
     "output_type": "stream",
     "text": [
      "[INFO 24-06-03 16:02:26.5289 CEST kernel.cc:1233] Loading model from path /var/folders/3r/pzt2_p_x2xdfl2057nxkp3nm0000gn/T/tmp_8_ueq4a/model/ with prefix 324a01b2a72d49af\n",
      "[INFO 24-06-03 16:02:26.5308 CEST kernel.cc:1061] Use fast generic engine\n",
      "[WARNING 24-06-03 16:02:26.6298 CEST gradient_boosted_trees.cc:1840] \"goss_alpha\" set but \"sampling_method\" not equal to \"GOSS\".\n",
      "[WARNING 24-06-03 16:02:26.6298 CEST gradient_boosted_trees.cc:1851] \"goss_beta\" set but \"sampling_method\" not equal to \"GOSS\".\n",
      "[WARNING 24-06-03 16:02:26.6298 CEST gradient_boosted_trees.cc:1865] \"selective_gradient_boosting_ratio\" set but \"sampling_method\" not equal to \"SELGB\".\n"
     ]
    },
    {
     "name": "stdout",
     "output_type": "stream",
     "text": [
      "Training dataset read in 0:00:00.292402. Found 13209 examples.\n",
      "Training model...\n",
      "Model trained in 0:00:00.169057\n",
      "Compiling model...\n",
      "Model compiled.\n",
      "Use /var/folders/3r/pzt2_p_x2xdfl2057nxkp3nm0000gn/T/tmpy3m8pj33 as temporary training directory\n",
      "Reading training dataset...\n"
     ]
    },
    {
     "name": "stderr",
     "output_type": "stream",
     "text": [
      "[INFO 24-06-03 16:02:27.0928 CEST kernel.cc:1233] Loading model from path /var/folders/3r/pzt2_p_x2xdfl2057nxkp3nm0000gn/T/tmpc1q5jykn/model/ with prefix 8e2e2bc04a534eef\n",
      "[INFO 24-06-03 16:02:27.0936 CEST kernel.cc:1061] Use fast generic engine\n",
      "[WARNING 24-06-03 16:02:27.2188 CEST gradient_boosted_trees.cc:1840] \"goss_alpha\" set but \"sampling_method\" not equal to \"GOSS\".\n",
      "[WARNING 24-06-03 16:02:27.2188 CEST gradient_boosted_trees.cc:1851] \"goss_beta\" set but \"sampling_method\" not equal to \"GOSS\".\n",
      "[WARNING 24-06-03 16:02:27.2188 CEST gradient_boosted_trees.cc:1865] \"selective_gradient_boosting_ratio\" set but \"sampling_method\" not equal to \"SELGB\".\n"
     ]
    },
    {
     "name": "stdout",
     "output_type": "stream",
     "text": [
      "Training dataset read in 0:00:00.275621. Found 13209 examples.\n",
      "Training model...\n",
      "Model trained in 0:00:00.461174\n",
      "Compiling model...\n",
      "Model compiled.\n",
      "Use /var/folders/3r/pzt2_p_x2xdfl2057nxkp3nm0000gn/T/tmpuij0071o as temporary training directory\n",
      "Reading training dataset...\n"
     ]
    },
    {
     "name": "stderr",
     "output_type": "stream",
     "text": [
      "[INFO 24-06-03 16:02:27.9563 CEST kernel.cc:1233] Loading model from path /var/folders/3r/pzt2_p_x2xdfl2057nxkp3nm0000gn/T/tmpy3m8pj33/model/ with prefix b9e0b345d45a4158\n",
      "[INFO 24-06-03 16:02:27.9579 CEST kernel.cc:1061] Use fast generic engine\n",
      "[WARNING 24-06-03 16:02:28.0360 CEST gradient_boosted_trees.cc:1840] \"goss_alpha\" set but \"sampling_method\" not equal to \"GOSS\".\n",
      "[WARNING 24-06-03 16:02:28.0360 CEST gradient_boosted_trees.cc:1851] \"goss_beta\" set but \"sampling_method\" not equal to \"GOSS\".\n",
      "[WARNING 24-06-03 16:02:28.0360 CEST gradient_boosted_trees.cc:1865] \"selective_gradient_boosting_ratio\" set but \"sampling_method\" not equal to \"SELGB\".\n"
     ]
    },
    {
     "name": "stdout",
     "output_type": "stream",
     "text": [
      "Training dataset read in 0:00:00.268012. Found 13209 examples.\n",
      "Training model...\n",
      "Model trained in 0:00:00.214466\n",
      "Compiling model...\n",
      "Model compiled.\n",
      "Use /var/folders/3r/pzt2_p_x2xdfl2057nxkp3nm0000gn/T/tmp5f4n042b as temporary training directory\n",
      "Reading training dataset...\n"
     ]
    },
    {
     "name": "stderr",
     "output_type": "stream",
     "text": [
      "[INFO 24-06-03 16:02:28.5260 CEST kernel.cc:1233] Loading model from path /var/folders/3r/pzt2_p_x2xdfl2057nxkp3nm0000gn/T/tmpuij0071o/model/ with prefix 4564249b19714a9e\n",
      "[INFO 24-06-03 16:02:28.5269 CEST kernel.cc:1061] Use fast generic engine\n",
      "[WARNING 24-06-03 16:02:28.6085 CEST gradient_boosted_trees.cc:1840] \"goss_alpha\" set but \"sampling_method\" not equal to \"GOSS\".\n",
      "[WARNING 24-06-03 16:02:28.6085 CEST gradient_boosted_trees.cc:1851] \"goss_beta\" set but \"sampling_method\" not equal to \"GOSS\".\n",
      "[WARNING 24-06-03 16:02:28.6085 CEST gradient_boosted_trees.cc:1865] \"selective_gradient_boosting_ratio\" set but \"sampling_method\" not equal to \"SELGB\".\n"
     ]
    },
    {
     "name": "stdout",
     "output_type": "stream",
     "text": [
      "Training dataset read in 0:00:00.262934. Found 13209 examples.\n",
      "Training model...\n",
      "Model trained in 0:00:00.154407\n",
      "Compiling model...\n",
      "Model compiled.\n",
      "Use /var/folders/3r/pzt2_p_x2xdfl2057nxkp3nm0000gn/T/tmp22f7_zba as temporary training directory\n",
      "Reading training dataset...\n"
     ]
    },
    {
     "name": "stderr",
     "output_type": "stream",
     "text": [
      "[INFO 24-06-03 16:02:29.0273 CEST kernel.cc:1233] Loading model from path /var/folders/3r/pzt2_p_x2xdfl2057nxkp3nm0000gn/T/tmp5f4n042b/model/ with prefix 36a4c485078542b8\n",
      "[INFO 24-06-03 16:02:29.0281 CEST kernel.cc:1061] Use fast generic engine\n",
      "[WARNING 24-06-03 16:02:29.1108 CEST gradient_boosted_trees.cc:1840] \"goss_alpha\" set but \"sampling_method\" not equal to \"GOSS\".\n",
      "[WARNING 24-06-03 16:02:29.1108 CEST gradient_boosted_trees.cc:1851] \"goss_beta\" set but \"sampling_method\" not equal to \"GOSS\".\n",
      "[WARNING 24-06-03 16:02:29.1108 CEST gradient_boosted_trees.cc:1865] \"selective_gradient_boosting_ratio\" set but \"sampling_method\" not equal to \"SELGB\".\n"
     ]
    },
    {
     "name": "stdout",
     "output_type": "stream",
     "text": [
      "Training dataset read in 0:00:00.267364. Found 13209 examples.\n",
      "Training model...\n",
      "Model trained in 0:00:00.183232\n",
      "Compiling model...\n",
      "Model compiled.\n",
      "Use /var/folders/3r/pzt2_p_x2xdfl2057nxkp3nm0000gn/T/tmpfp1l5mfp as temporary training directory\n",
      "Reading training dataset...\n"
     ]
    },
    {
     "name": "stderr",
     "output_type": "stream",
     "text": [
      "[INFO 24-06-03 16:02:29.5631 CEST kernel.cc:1233] Loading model from path /var/folders/3r/pzt2_p_x2xdfl2057nxkp3nm0000gn/T/tmp22f7_zba/model/ with prefix ff3ed28d8ca24423\n",
      "[INFO 24-06-03 16:02:29.5638 CEST kernel.cc:1061] Use fast generic engine\n",
      "[WARNING 24-06-03 16:02:29.6387 CEST gradient_boosted_trees.cc:1840] \"goss_alpha\" set but \"sampling_method\" not equal to \"GOSS\".\n",
      "[WARNING 24-06-03 16:02:29.6387 CEST gradient_boosted_trees.cc:1851] \"goss_beta\" set but \"sampling_method\" not equal to \"GOSS\".\n",
      "[WARNING 24-06-03 16:02:29.6387 CEST gradient_boosted_trees.cc:1865] \"selective_gradient_boosting_ratio\" set but \"sampling_method\" not equal to \"SELGB\".\n"
     ]
    },
    {
     "name": "stdout",
     "output_type": "stream",
     "text": [
      "Training dataset read in 0:00:00.266504. Found 13209 examples.\n",
      "Training model...\n",
      "Model trained in 0:00:00.234097\n",
      "Compiling model...\n",
      "Model compiled.\n",
      "Use /var/folders/3r/pzt2_p_x2xdfl2057nxkp3nm0000gn/T/tmphukiv78m as temporary training directory\n",
      "Reading training dataset...\n"
     ]
    },
    {
     "name": "stderr",
     "output_type": "stream",
     "text": [
      "[INFO 24-06-03 16:02:30.1464 CEST kernel.cc:1233] Loading model from path /var/folders/3r/pzt2_p_x2xdfl2057nxkp3nm0000gn/T/tmpfp1l5mfp/model/ with prefix db3840d933b24f79\n",
      "[INFO 24-06-03 16:02:30.1473 CEST kernel.cc:1061] Use fast generic engine\n",
      "[WARNING 24-06-03 16:02:30.2269 CEST gradient_boosted_trees.cc:1840] \"goss_alpha\" set but \"sampling_method\" not equal to \"GOSS\".\n",
      "[WARNING 24-06-03 16:02:30.2269 CEST gradient_boosted_trees.cc:1851] \"goss_beta\" set but \"sampling_method\" not equal to \"GOSS\".\n",
      "[WARNING 24-06-03 16:02:30.2269 CEST gradient_boosted_trees.cc:1865] \"selective_gradient_boosting_ratio\" set but \"sampling_method\" not equal to \"SELGB\".\n"
     ]
    },
    {
     "name": "stdout",
     "output_type": "stream",
     "text": [
      "Training dataset read in 0:00:00.264633. Found 13209 examples.\n",
      "Training model...\n",
      "Model trained in 0:00:00.453974\n",
      "Compiling model...\n",
      "Model compiled.\n",
      "Use /var/folders/3r/pzt2_p_x2xdfl2057nxkp3nm0000gn/T/tmpopgwiccr as temporary training directory\n",
      "Reading training dataset...\n"
     ]
    },
    {
     "name": "stderr",
     "output_type": "stream",
     "text": [
      "[INFO 24-06-03 16:02:30.9458 CEST kernel.cc:1233] Loading model from path /var/folders/3r/pzt2_p_x2xdfl2057nxkp3nm0000gn/T/tmphukiv78m/model/ with prefix 41156674bbc64945\n",
      "[INFO 24-06-03 16:02:30.9476 CEST kernel.cc:1061] Use fast generic engine\n",
      "[WARNING 24-06-03 16:02:31.0457 CEST gradient_boosted_trees.cc:1840] \"goss_alpha\" set but \"sampling_method\" not equal to \"GOSS\".\n",
      "[WARNING 24-06-03 16:02:31.0457 CEST gradient_boosted_trees.cc:1851] \"goss_beta\" set but \"sampling_method\" not equal to \"GOSS\".\n",
      "[WARNING 24-06-03 16:02:31.0457 CEST gradient_boosted_trees.cc:1865] \"selective_gradient_boosting_ratio\" set but \"sampling_method\" not equal to \"SELGB\".\n"
     ]
    },
    {
     "name": "stdout",
     "output_type": "stream",
     "text": [
      "Training dataset read in 0:00:00.423209. Found 13209 examples.\n",
      "Training model...\n",
      "Model trained in 0:00:00.391886\n",
      "Compiling model...\n",
      "Model compiled.\n",
      "Use /var/folders/3r/pzt2_p_x2xdfl2057nxkp3nm0000gn/T/tmpxzewp7f2 as temporary training directory\n",
      "Reading training dataset...\n"
     ]
    },
    {
     "name": "stderr",
     "output_type": "stream",
     "text": [
      "[INFO 24-06-03 16:02:31.8618 CEST kernel.cc:1233] Loading model from path /var/folders/3r/pzt2_p_x2xdfl2057nxkp3nm0000gn/T/tmpopgwiccr/model/ with prefix 9a35064454934c4f\n",
      "[INFO 24-06-03 16:02:31.8636 CEST kernel.cc:1061] Use fast generic engine\n",
      "[WARNING 24-06-03 16:02:31.9627 CEST gradient_boosted_trees.cc:1840] \"goss_alpha\" set but \"sampling_method\" not equal to \"GOSS\".\n",
      "[WARNING 24-06-03 16:02:31.9627 CEST gradient_boosted_trees.cc:1851] \"goss_beta\" set but \"sampling_method\" not equal to \"GOSS\".\n",
      "[WARNING 24-06-03 16:02:31.9627 CEST gradient_boosted_trees.cc:1865] \"selective_gradient_boosting_ratio\" set but \"sampling_method\" not equal to \"SELGB\".\n"
     ]
    },
    {
     "name": "stdout",
     "output_type": "stream",
     "text": [
      "Training dataset read in 0:00:00.277415. Found 13209 examples.\n",
      "Training model...\n",
      "Model trained in 0:00:00.236608\n",
      "Compiling model...\n",
      "Model compiled.\n",
      "Use /var/folders/3r/pzt2_p_x2xdfl2057nxkp3nm0000gn/T/tmpooeht7b3 as temporary training directory\n",
      "Reading training dataset...\n"
     ]
    },
    {
     "name": "stderr",
     "output_type": "stream",
     "text": [
      "[INFO 24-06-03 16:02:32.4852 CEST kernel.cc:1233] Loading model from path /var/folders/3r/pzt2_p_x2xdfl2057nxkp3nm0000gn/T/tmpxzewp7f2/model/ with prefix 869a1934142b4527\n",
      "[INFO 24-06-03 16:02:32.4862 CEST kernel.cc:1061] Use fast generic engine\n",
      "[WARNING 24-06-03 16:02:32.5622 CEST gradient_boosted_trees.cc:1840] \"goss_alpha\" set but \"sampling_method\" not equal to \"GOSS\".\n",
      "[WARNING 24-06-03 16:02:32.5622 CEST gradient_boosted_trees.cc:1851] \"goss_beta\" set but \"sampling_method\" not equal to \"GOSS\".\n",
      "[WARNING 24-06-03 16:02:32.5622 CEST gradient_boosted_trees.cc:1865] \"selective_gradient_boosting_ratio\" set but \"sampling_method\" not equal to \"SELGB\".\n"
     ]
    },
    {
     "name": "stdout",
     "output_type": "stream",
     "text": [
      "Training dataset read in 0:00:00.274497. Found 13209 examples.\n",
      "Training model...\n",
      "Model trained in 0:00:00.267632\n",
      "Compiling model...\n",
      "Model compiled.\n",
      "Use /var/folders/3r/pzt2_p_x2xdfl2057nxkp3nm0000gn/T/tmpvaeimh19 as temporary training directory\n",
      "Reading training dataset...\n"
     ]
    },
    {
     "name": "stderr",
     "output_type": "stream",
     "text": [
      "[INFO 24-06-03 16:02:33.1130 CEST kernel.cc:1233] Loading model from path /var/folders/3r/pzt2_p_x2xdfl2057nxkp3nm0000gn/T/tmpooeht7b3/model/ with prefix 43c831d9b0bb4b7f\n",
      "[INFO 24-06-03 16:02:33.1140 CEST abstract_model.cc:1344] Engine \"GradientBoostedTreesQuickScorerExtended\" built\n",
      "[INFO 24-06-03 16:02:33.1140 CEST kernel.cc:1061] Use fast generic engine\n",
      "[WARNING 24-06-03 16:02:33.1907 CEST gradient_boosted_trees.cc:1840] \"goss_alpha\" set but \"sampling_method\" not equal to \"GOSS\".\n",
      "[WARNING 24-06-03 16:02:33.1907 CEST gradient_boosted_trees.cc:1851] \"goss_beta\" set but \"sampling_method\" not equal to \"GOSS\".\n",
      "[WARNING 24-06-03 16:02:33.1907 CEST gradient_boosted_trees.cc:1865] \"selective_gradient_boosting_ratio\" set but \"sampling_method\" not equal to \"SELGB\".\n"
     ]
    },
    {
     "name": "stdout",
     "output_type": "stream",
     "text": [
      "Training dataset read in 0:00:00.271053. Found 13209 examples.\n",
      "Training model...\n",
      "Model trained in 0:00:00.317875\n",
      "Compiling model...\n",
      "Model compiled.\n",
      "Use /var/folders/3r/pzt2_p_x2xdfl2057nxkp3nm0000gn/T/tmp8vr89mpa as temporary training directory\n",
      "Reading training dataset...\n"
     ]
    },
    {
     "name": "stderr",
     "output_type": "stream",
     "text": [
      "[INFO 24-06-03 16:02:33.7878 CEST kernel.cc:1233] Loading model from path /var/folders/3r/pzt2_p_x2xdfl2057nxkp3nm0000gn/T/tmpvaeimh19/model/ with prefix 25820e7967314c75\n",
      "[INFO 24-06-03 16:02:33.7890 CEST kernel.cc:1061] Use fast generic engine\n",
      "[WARNING 24-06-03 16:02:33.8611 CEST gradient_boosted_trees.cc:1840] \"goss_alpha\" set but \"sampling_method\" not equal to \"GOSS\".\n",
      "[WARNING 24-06-03 16:02:33.8611 CEST gradient_boosted_trees.cc:1851] \"goss_beta\" set but \"sampling_method\" not equal to \"GOSS\".\n",
      "[WARNING 24-06-03 16:02:33.8611 CEST gradient_boosted_trees.cc:1865] \"selective_gradient_boosting_ratio\" set but \"sampling_method\" not equal to \"SELGB\".\n"
     ]
    },
    {
     "name": "stdout",
     "output_type": "stream",
     "text": [
      "Training dataset read in 0:00:00.283339. Found 13209 examples.\n",
      "Training model...\n",
      "Model trained in 0:00:00.112191\n",
      "Compiling model...\n",
      "Model compiled.\n",
      "Use /var/folders/3r/pzt2_p_x2xdfl2057nxkp3nm0000gn/T/tmpdz1m3kko as temporary training directory\n",
      "Reading training dataset...\n"
     ]
    },
    {
     "name": "stderr",
     "output_type": "stream",
     "text": [
      "[INFO 24-06-03 16:02:34.2655 CEST kernel.cc:1233] Loading model from path /var/folders/3r/pzt2_p_x2xdfl2057nxkp3nm0000gn/T/tmp8vr89mpa/model/ with prefix 6ee11d2f17f14b66\n",
      "[INFO 24-06-03 16:02:34.2660 CEST kernel.cc:1061] Use fast generic engine\n",
      "[WARNING 24-06-03 16:02:34.3396 CEST gradient_boosted_trees.cc:1840] \"goss_alpha\" set but \"sampling_method\" not equal to \"GOSS\".\n",
      "[WARNING 24-06-03 16:02:34.3396 CEST gradient_boosted_trees.cc:1851] \"goss_beta\" set but \"sampling_method\" not equal to \"GOSS\".\n",
      "[WARNING 24-06-03 16:02:34.3396 CEST gradient_boosted_trees.cc:1865] \"selective_gradient_boosting_ratio\" set but \"sampling_method\" not equal to \"SELGB\".\n"
     ]
    },
    {
     "name": "stdout",
     "output_type": "stream",
     "text": [
      "Training dataset read in 0:00:00.281773. Found 13209 examples.\n",
      "Training model...\n",
      "Model trained in 0:00:00.272672\n",
      "Compiling model...\n",
      "Model compiled.\n",
      "Use /var/folders/3r/pzt2_p_x2xdfl2057nxkp3nm0000gn/T/tmpgfhuhs8d as temporary training directory\n",
      "Reading training dataset...\n"
     ]
    },
    {
     "name": "stderr",
     "output_type": "stream",
     "text": [
      "[INFO 24-06-03 16:02:34.9024 CEST kernel.cc:1233] Loading model from path /var/folders/3r/pzt2_p_x2xdfl2057nxkp3nm0000gn/T/tmpdz1m3kko/model/ with prefix 7ae4371610d24356\n",
      "[INFO 24-06-03 16:02:34.9035 CEST kernel.cc:1061] Use fast generic engine\n",
      "[WARNING 24-06-03 16:02:34.9770 CEST gradient_boosted_trees.cc:1840] \"goss_alpha\" set but \"sampling_method\" not equal to \"GOSS\".\n",
      "[WARNING 24-06-03 16:02:34.9770 CEST gradient_boosted_trees.cc:1851] \"goss_beta\" set but \"sampling_method\" not equal to \"GOSS\".\n",
      "[WARNING 24-06-03 16:02:34.9770 CEST gradient_boosted_trees.cc:1865] \"selective_gradient_boosting_ratio\" set but \"sampling_method\" not equal to \"SELGB\".\n"
     ]
    },
    {
     "name": "stdout",
     "output_type": "stream",
     "text": [
      "Training dataset read in 0:00:00.289180. Found 13209 examples.\n",
      "Training model...\n",
      "Model trained in 0:00:00.483098\n",
      "Compiling model...\n",
      "Model compiled.\n",
      "Use /var/folders/3r/pzt2_p_x2xdfl2057nxkp3nm0000gn/T/tmpgvejmnzn as temporary training directory\n",
      "Reading training dataset...\n"
     ]
    },
    {
     "name": "stderr",
     "output_type": "stream",
     "text": [
      "[INFO 24-06-03 16:02:35.7601 CEST kernel.cc:1233] Loading model from path /var/folders/3r/pzt2_p_x2xdfl2057nxkp3nm0000gn/T/tmpgfhuhs8d/model/ with prefix 07fab93270f44cfc\n",
      "[INFO 24-06-03 16:02:35.7621 CEST kernel.cc:1061] Use fast generic engine\n",
      "[WARNING 24-06-03 16:02:35.8402 CEST gradient_boosted_trees.cc:1840] \"goss_alpha\" set but \"sampling_method\" not equal to \"GOSS\".\n",
      "[WARNING 24-06-03 16:02:35.8402 CEST gradient_boosted_trees.cc:1851] \"goss_beta\" set but \"sampling_method\" not equal to \"GOSS\".\n",
      "[WARNING 24-06-03 16:02:35.8402 CEST gradient_boosted_trees.cc:1865] \"selective_gradient_boosting_ratio\" set but \"sampling_method\" not equal to \"SELGB\".\n"
     ]
    },
    {
     "name": "stdout",
     "output_type": "stream",
     "text": [
      "Training dataset read in 0:00:00.276231. Found 13209 examples.\n",
      "Training model...\n",
      "Model trained in 0:00:00.388932\n",
      "Compiling model...\n",
      "Model compiled.\n",
      "Use /var/folders/3r/pzt2_p_x2xdfl2057nxkp3nm0000gn/T/tmpu47hh9_g as temporary training directory\n",
      "Reading training dataset...\n"
     ]
    },
    {
     "name": "stderr",
     "output_type": "stream",
     "text": [
      "[INFO 24-06-03 16:02:36.5131 CEST kernel.cc:1233] Loading model from path /var/folders/3r/pzt2_p_x2xdfl2057nxkp3nm0000gn/T/tmpgvejmnzn/model/ with prefix e96ae3db9b6740ef\n",
      "[INFO 24-06-03 16:02:36.5145 CEST kernel.cc:1061] Use fast generic engine\n",
      "[WARNING 24-06-03 16:02:36.5900 CEST gradient_boosted_trees.cc:1840] \"goss_alpha\" set but \"sampling_method\" not equal to \"GOSS\".\n",
      "[WARNING 24-06-03 16:02:36.5900 CEST gradient_boosted_trees.cc:1851] \"goss_beta\" set but \"sampling_method\" not equal to \"GOSS\".\n",
      "[WARNING 24-06-03 16:02:36.5900 CEST gradient_boosted_trees.cc:1865] \"selective_gradient_boosting_ratio\" set but \"sampling_method\" not equal to \"SELGB\".\n"
     ]
    },
    {
     "name": "stdout",
     "output_type": "stream",
     "text": [
      "Training dataset read in 0:00:00.279403. Found 13209 examples.\n",
      "Training model...\n",
      "Model trained in 0:00:00.184388\n",
      "Compiling model...\n",
      "Model compiled.\n",
      "Use /var/folders/3r/pzt2_p_x2xdfl2057nxkp3nm0000gn/T/tmpjb4of1xy as temporary training directory\n",
      "Reading training dataset...\n"
     ]
    },
    {
     "name": "stderr",
     "output_type": "stream",
     "text": [
      "[INFO 24-06-03 16:02:37.0627 CEST kernel.cc:1233] Loading model from path /var/folders/3r/pzt2_p_x2xdfl2057nxkp3nm0000gn/T/tmpu47hh9_g/model/ with prefix 4089191f306d4e2e\n",
      "[INFO 24-06-03 16:02:37.0634 CEST kernel.cc:1061] Use fast generic engine\n",
      "[WARNING 24-06-03 16:02:37.1392 CEST gradient_boosted_trees.cc:1840] \"goss_alpha\" set but \"sampling_method\" not equal to \"GOSS\".\n",
      "[WARNING 24-06-03 16:02:37.1392 CEST gradient_boosted_trees.cc:1851] \"goss_beta\" set but \"sampling_method\" not equal to \"GOSS\".\n",
      "[WARNING 24-06-03 16:02:37.1392 CEST gradient_boosted_trees.cc:1865] \"selective_gradient_boosting_ratio\" set but \"sampling_method\" not equal to \"SELGB\".\n"
     ]
    },
    {
     "name": "stdout",
     "output_type": "stream",
     "text": [
      "Training dataset read in 0:00:00.269636. Found 13209 examples.\n",
      "Training model...\n",
      "Model trained in 0:00:00.137406\n",
      "Compiling model...\n",
      "Model compiled.\n",
      "Use /var/folders/3r/pzt2_p_x2xdfl2057nxkp3nm0000gn/T/tmp916vp7is as temporary training directory\n",
      "Reading training dataset...\n"
     ]
    },
    {
     "name": "stderr",
     "output_type": "stream",
     "text": [
      "[INFO 24-06-03 16:02:37.5557 CEST kernel.cc:1233] Loading model from path /var/folders/3r/pzt2_p_x2xdfl2057nxkp3nm0000gn/T/tmpjb4of1xy/model/ with prefix a99be2ff1e9a4b28\n",
      "[INFO 24-06-03 16:02:37.5563 CEST kernel.cc:1061] Use fast generic engine\n",
      "[WARNING 24-06-03 16:02:37.6320 CEST gradient_boosted_trees.cc:1840] \"goss_alpha\" set but \"sampling_method\" not equal to \"GOSS\".\n",
      "[WARNING 24-06-03 16:02:37.6321 CEST gradient_boosted_trees.cc:1851] \"goss_beta\" set but \"sampling_method\" not equal to \"GOSS\".\n",
      "[WARNING 24-06-03 16:02:37.6321 CEST gradient_boosted_trees.cc:1865] \"selective_gradient_boosting_ratio\" set but \"sampling_method\" not equal to \"SELGB\".\n"
     ]
    },
    {
     "name": "stdout",
     "output_type": "stream",
     "text": [
      "Training dataset read in 0:00:00.272827. Found 13209 examples.\n",
      "Training model...\n",
      "Model trained in 0:00:00.315998\n",
      "Compiling model...\n",
      "Model compiled.\n",
      "Use /var/folders/3r/pzt2_p_x2xdfl2057nxkp3nm0000gn/T/tmpvhd1zdu7 as temporary training directory\n",
      "Reading training dataset...\n"
     ]
    },
    {
     "name": "stderr",
     "output_type": "stream",
     "text": [
      "[INFO 24-06-03 16:02:38.2293 CEST kernel.cc:1233] Loading model from path /var/folders/3r/pzt2_p_x2xdfl2057nxkp3nm0000gn/T/tmp916vp7is/model/ with prefix a9999805dc5c4fb2\n",
      "[INFO 24-06-03 16:02:38.2305 CEST kernel.cc:1061] Use fast generic engine\n",
      "[WARNING 24-06-03 16:02:38.3021 CEST gradient_boosted_trees.cc:1840] \"goss_alpha\" set but \"sampling_method\" not equal to \"GOSS\".\n",
      "[WARNING 24-06-03 16:02:38.3021 CEST gradient_boosted_trees.cc:1851] \"goss_beta\" set but \"sampling_method\" not equal to \"GOSS\".\n",
      "[WARNING 24-06-03 16:02:38.3021 CEST gradient_boosted_trees.cc:1865] \"selective_gradient_boosting_ratio\" set but \"sampling_method\" not equal to \"SELGB\".\n"
     ]
    },
    {
     "name": "stdout",
     "output_type": "stream",
     "text": [
      "Training dataset read in 0:00:00.268640. Found 13209 examples.\n",
      "Training model...\n",
      "Model trained in 0:00:00.329695\n",
      "Compiling model...\n",
      "Model compiled.\n",
      "Use /var/folders/3r/pzt2_p_x2xdfl2057nxkp3nm0000gn/T/tmpglbo_ag0 as temporary training directory\n",
      "Reading training dataset...\n"
     ]
    },
    {
     "name": "stderr",
     "output_type": "stream",
     "text": [
      "[INFO 24-06-03 16:02:38.9087 CEST kernel.cc:1233] Loading model from path /var/folders/3r/pzt2_p_x2xdfl2057nxkp3nm0000gn/T/tmpvhd1zdu7/model/ with prefix 2123125bdbb14a21\n",
      "[INFO 24-06-03 16:02:38.9101 CEST kernel.cc:1061] Use fast generic engine\n",
      "[WARNING 24-06-03 16:02:38.9831 CEST gradient_boosted_trees.cc:1840] \"goss_alpha\" set but \"sampling_method\" not equal to \"GOSS\".\n",
      "[WARNING 24-06-03 16:02:38.9832 CEST gradient_boosted_trees.cc:1851] \"goss_beta\" set but \"sampling_method\" not equal to \"GOSS\".\n",
      "[WARNING 24-06-03 16:02:38.9832 CEST gradient_boosted_trees.cc:1865] \"selective_gradient_boosting_ratio\" set but \"sampling_method\" not equal to \"SELGB\".\n"
     ]
    },
    {
     "name": "stdout",
     "output_type": "stream",
     "text": [
      "Training dataset read in 0:00:00.268064. Found 13209 examples.\n",
      "Training model...\n",
      "Model trained in 0:00:00.268347\n",
      "Compiling model...\n",
      "Model compiled.\n",
      "Use /var/folders/3r/pzt2_p_x2xdfl2057nxkp3nm0000gn/T/tmpl8izy1iv as temporary training directory\n",
      "Reading training dataset...\n"
     ]
    },
    {
     "name": "stderr",
     "output_type": "stream",
     "text": [
      "[INFO 24-06-03 16:02:39.5275 CEST kernel.cc:1233] Loading model from path /var/folders/3r/pzt2_p_x2xdfl2057nxkp3nm0000gn/T/tmpglbo_ag0/model/ with prefix 1acb1bd2dd0a46c5\n",
      "[INFO 24-06-03 16:02:39.5287 CEST kernel.cc:1061] Use fast generic engine\n",
      "[WARNING 24-06-03 16:02:39.6042 CEST gradient_boosted_trees.cc:1840] \"goss_alpha\" set but \"sampling_method\" not equal to \"GOSS\".\n",
      "[WARNING 24-06-03 16:02:39.6042 CEST gradient_boosted_trees.cc:1851] \"goss_beta\" set but \"sampling_method\" not equal to \"GOSS\".\n",
      "[WARNING 24-06-03 16:02:39.6042 CEST gradient_boosted_trees.cc:1865] \"selective_gradient_boosting_ratio\" set but \"sampling_method\" not equal to \"SELGB\".\n"
     ]
    },
    {
     "name": "stdout",
     "output_type": "stream",
     "text": [
      "Training dataset read in 0:00:00.266767. Found 13209 examples.\n",
      "Training model...\n",
      "Model trained in 0:00:00.473130\n",
      "Compiling model...\n",
      "Model compiled.\n",
      "Use /var/folders/3r/pzt2_p_x2xdfl2057nxkp3nm0000gn/T/tmp_9idqhm9 as temporary training directory\n",
      "Reading training dataset...\n"
     ]
    },
    {
     "name": "stderr",
     "output_type": "stream",
     "text": [
      "[INFO 24-06-03 16:02:40.3521 CEST kernel.cc:1233] Loading model from path /var/folders/3r/pzt2_p_x2xdfl2057nxkp3nm0000gn/T/tmpl8izy1iv/model/ with prefix 3c6de57ffcd9467a\n",
      "[INFO 24-06-03 16:02:40.3537 CEST kernel.cc:1061] Use fast generic engine\n",
      "[WARNING 24-06-03 16:02:40.4254 CEST gradient_boosted_trees.cc:1840] \"goss_alpha\" set but \"sampling_method\" not equal to \"GOSS\".\n",
      "[WARNING 24-06-03 16:02:40.4254 CEST gradient_boosted_trees.cc:1851] \"goss_beta\" set but \"sampling_method\" not equal to \"GOSS\".\n",
      "[WARNING 24-06-03 16:02:40.4254 CEST gradient_boosted_trees.cc:1865] \"selective_gradient_boosting_ratio\" set but \"sampling_method\" not equal to \"SELGB\".\n"
     ]
    },
    {
     "name": "stdout",
     "output_type": "stream",
     "text": [
      "Training dataset read in 0:00:00.272711. Found 13209 examples.\n",
      "Training model...\n",
      "Model trained in 0:00:00.162646\n",
      "Compiling model...\n",
      "Model compiled.\n",
      "Use /var/folders/3r/pzt2_p_x2xdfl2057nxkp3nm0000gn/T/tmpiwedjlrn as temporary training directory\n",
      "Reading training dataset...\n"
     ]
    },
    {
     "name": "stderr",
     "output_type": "stream",
     "text": [
      "[INFO 24-06-03 16:02:40.8696 CEST kernel.cc:1233] Loading model from path /var/folders/3r/pzt2_p_x2xdfl2057nxkp3nm0000gn/T/tmp_9idqhm9/model/ with prefix bc17e0dc290c46e5\n",
      "[INFO 24-06-03 16:02:40.8703 CEST kernel.cc:1061] Use fast generic engine\n",
      "[WARNING 24-06-03 16:02:40.9422 CEST gradient_boosted_trees.cc:1840] \"goss_alpha\" set but \"sampling_method\" not equal to \"GOSS\".\n",
      "[WARNING 24-06-03 16:02:40.9422 CEST gradient_boosted_trees.cc:1851] \"goss_beta\" set but \"sampling_method\" not equal to \"GOSS\".\n",
      "[WARNING 24-06-03 16:02:40.9422 CEST gradient_boosted_trees.cc:1865] \"selective_gradient_boosting_ratio\" set but \"sampling_method\" not equal to \"SELGB\".\n"
     ]
    },
    {
     "name": "stdout",
     "output_type": "stream",
     "text": [
      "Training dataset read in 0:00:00.279997. Found 13209 examples.\n",
      "Training model...\n",
      "Model trained in 0:00:00.269710\n",
      "Compiling model...\n",
      "Model compiled.\n",
      "Use /var/folders/3r/pzt2_p_x2xdfl2057nxkp3nm0000gn/T/tmpxbxjzh6u as temporary training directory\n",
      "Reading training dataset...\n"
     ]
    },
    {
     "name": "stderr",
     "output_type": "stream",
     "text": [
      "[INFO 24-06-03 16:02:41.5002 CEST kernel.cc:1233] Loading model from path /var/folders/3r/pzt2_p_x2xdfl2057nxkp3nm0000gn/T/tmpiwedjlrn/model/ with prefix d2eeea15183c4302\n",
      "[INFO 24-06-03 16:02:41.5012 CEST kernel.cc:1061] Use fast generic engine\n",
      "[WARNING 24-06-03 16:02:41.5787 CEST gradient_boosted_trees.cc:1840] \"goss_alpha\" set but \"sampling_method\" not equal to \"GOSS\".\n",
      "[WARNING 24-06-03 16:02:41.5787 CEST gradient_boosted_trees.cc:1851] \"goss_beta\" set but \"sampling_method\" not equal to \"GOSS\".\n",
      "[WARNING 24-06-03 16:02:41.5787 CEST gradient_boosted_trees.cc:1865] \"selective_gradient_boosting_ratio\" set but \"sampling_method\" not equal to \"SELGB\".\n"
     ]
    },
    {
     "name": "stdout",
     "output_type": "stream",
     "text": [
      "Training dataset read in 0:00:00.270180. Found 13209 examples.\n",
      "Training model...\n",
      "Model trained in 0:00:00.408377\n",
      "Compiling model...\n",
      "Model compiled.\n",
      "Use /var/folders/3r/pzt2_p_x2xdfl2057nxkp3nm0000gn/T/tmpvqc6pyhv as temporary training directory\n",
      "Reading training dataset...\n"
     ]
    },
    {
     "name": "stderr",
     "output_type": "stream",
     "text": [
      "[INFO 24-06-03 16:02:42.2650 CEST kernel.cc:1233] Loading model from path /var/folders/3r/pzt2_p_x2xdfl2057nxkp3nm0000gn/T/tmpxbxjzh6u/model/ with prefix a96e8b6ab6674164\n",
      "[INFO 24-06-03 16:02:42.2666 CEST kernel.cc:1061] Use fast generic engine\n",
      "[WARNING 24-06-03 16:02:42.3407 CEST gradient_boosted_trees.cc:1840] \"goss_alpha\" set but \"sampling_method\" not equal to \"GOSS\".\n",
      "[WARNING 24-06-03 16:02:42.3407 CEST gradient_boosted_trees.cc:1851] \"goss_beta\" set but \"sampling_method\" not equal to \"GOSS\".\n",
      "[WARNING 24-06-03 16:02:42.3407 CEST gradient_boosted_trees.cc:1865] \"selective_gradient_boosting_ratio\" set but \"sampling_method\" not equal to \"SELGB\".\n"
     ]
    },
    {
     "name": "stdout",
     "output_type": "stream",
     "text": [
      "Training dataset read in 0:00:00.280537. Found 13209 examples.\n",
      "Training model...\n",
      "Model trained in 0:00:00.116366\n",
      "Compiling model...\n",
      "Model compiled.\n",
      "Use /var/folders/3r/pzt2_p_x2xdfl2057nxkp3nm0000gn/T/tmpszzam97k as temporary training directory\n",
      "Reading training dataset...\n"
     ]
    },
    {
     "name": "stderr",
     "output_type": "stream",
     "text": [
      "[INFO 24-06-03 16:02:42.7464 CEST kernel.cc:1233] Loading model from path /var/folders/3r/pzt2_p_x2xdfl2057nxkp3nm0000gn/T/tmpvqc6pyhv/model/ with prefix db87fabbae974732\n",
      "[INFO 24-06-03 16:02:42.7470 CEST kernel.cc:1061] Use fast generic engine\n",
      "[WARNING 24-06-03 16:02:42.9237 CEST gradient_boosted_trees.cc:1840] \"goss_alpha\" set but \"sampling_method\" not equal to \"GOSS\".\n",
      "[WARNING 24-06-03 16:02:42.9237 CEST gradient_boosted_trees.cc:1851] \"goss_beta\" set but \"sampling_method\" not equal to \"GOSS\".\n",
      "[WARNING 24-06-03 16:02:42.9237 CEST gradient_boosted_trees.cc:1865] \"selective_gradient_boosting_ratio\" set but \"sampling_method\" not equal to \"SELGB\".\n"
     ]
    },
    {
     "name": "stdout",
     "output_type": "stream",
     "text": [
      "Training dataset read in 0:00:00.276497. Found 13209 examples.\n",
      "Training model...\n",
      "Model trained in 0:00:00.372369\n",
      "Compiling model...\n",
      "Model compiled.\n",
      "Use /var/folders/3r/pzt2_p_x2xdfl2057nxkp3nm0000gn/T/tmprn56wrxr as temporary training directory\n",
      "Reading training dataset...\n"
     ]
    },
    {
     "name": "stderr",
     "output_type": "stream",
     "text": [
      "[INFO 24-06-03 16:02:43.5813 CEST kernel.cc:1233] Loading model from path /var/folders/3r/pzt2_p_x2xdfl2057nxkp3nm0000gn/T/tmpszzam97k/model/ with prefix 28eab5ab7e2742e7\n",
      "[INFO 24-06-03 16:02:43.5829 CEST abstract_model.cc:1344] Engine \"GradientBoostedTreesQuickScorerExtended\" built\n",
      "[INFO 24-06-03 16:02:43.5829 CEST kernel.cc:1061] Use fast generic engine\n",
      "[WARNING 24-06-03 16:02:43.6607 CEST gradient_boosted_trees.cc:1840] \"goss_alpha\" set but \"sampling_method\" not equal to \"GOSS\".\n",
      "[WARNING 24-06-03 16:02:43.6608 CEST gradient_boosted_trees.cc:1851] \"goss_beta\" set but \"sampling_method\" not equal to \"GOSS\".\n",
      "[WARNING 24-06-03 16:02:43.6608 CEST gradient_boosted_trees.cc:1865] \"selective_gradient_boosting_ratio\" set but \"sampling_method\" not equal to \"SELGB\".\n"
     ]
    },
    {
     "name": "stdout",
     "output_type": "stream",
     "text": [
      "Training dataset read in 0:00:00.273606. Found 13209 examples.\n",
      "Training model...\n",
      "Model trained in 0:00:00.267997\n",
      "Compiling model...\n",
      "Model compiled.\n",
      "Use /var/folders/3r/pzt2_p_x2xdfl2057nxkp3nm0000gn/T/tmpyzm2xlng as temporary training directory\n",
      "Reading training dataset...\n"
     ]
    },
    {
     "name": "stderr",
     "output_type": "stream",
     "text": [
      "[INFO 24-06-03 16:02:44.2113 CEST kernel.cc:1233] Loading model from path /var/folders/3r/pzt2_p_x2xdfl2057nxkp3nm0000gn/T/tmprn56wrxr/model/ with prefix 99168cfa869d417e\n",
      "[INFO 24-06-03 16:02:44.2123 CEST kernel.cc:1061] Use fast generic engine\n",
      "[WARNING 24-06-03 16:02:44.2842 CEST gradient_boosted_trees.cc:1840] \"goss_alpha\" set but \"sampling_method\" not equal to \"GOSS\".\n",
      "[WARNING 24-06-03 16:02:44.2842 CEST gradient_boosted_trees.cc:1851] \"goss_beta\" set but \"sampling_method\" not equal to \"GOSS\".\n",
      "[WARNING 24-06-03 16:02:44.2842 CEST gradient_boosted_trees.cc:1865] \"selective_gradient_boosting_ratio\" set but \"sampling_method\" not equal to \"SELGB\".\n"
     ]
    },
    {
     "name": "stdout",
     "output_type": "stream",
     "text": [
      "Training dataset read in 0:00:00.271835. Found 13209 examples.\n",
      "Training model...\n",
      "Model trained in 0:00:00.236027\n",
      "Compiling model...\n",
      "Model compiled.\n",
      "Use /var/folders/3r/pzt2_p_x2xdfl2057nxkp3nm0000gn/T/tmp81uc5c_x as temporary training directory\n",
      "Reading training dataset...\n"
     ]
    },
    {
     "name": "stderr",
     "output_type": "stream",
     "text": [
      "[INFO 24-06-03 16:02:44.8007 CEST kernel.cc:1233] Loading model from path /var/folders/3r/pzt2_p_x2xdfl2057nxkp3nm0000gn/T/tmpyzm2xlng/model/ with prefix 64f9d69cda6c4a64\n",
      "[INFO 24-06-03 16:02:44.8017 CEST kernel.cc:1061] Use fast generic engine\n",
      "[WARNING 24-06-03 16:02:44.8744 CEST gradient_boosted_trees.cc:1840] \"goss_alpha\" set but \"sampling_method\" not equal to \"GOSS\".\n",
      "[WARNING 24-06-03 16:02:44.8744 CEST gradient_boosted_trees.cc:1851] \"goss_beta\" set but \"sampling_method\" not equal to \"GOSS\".\n",
      "[WARNING 24-06-03 16:02:44.8744 CEST gradient_boosted_trees.cc:1865] \"selective_gradient_boosting_ratio\" set but \"sampling_method\" not equal to \"SELGB\".\n"
     ]
    },
    {
     "name": "stdout",
     "output_type": "stream",
     "text": [
      "Training dataset read in 0:00:00.277650. Found 13209 examples.\n",
      "Training model...\n",
      "Model trained in 0:00:00.304854\n",
      "Compiling model...\n",
      "Model compiled.\n",
      "Use /var/folders/3r/pzt2_p_x2xdfl2057nxkp3nm0000gn/T/tmpbw9o8ib4 as temporary training directory\n",
      "Reading training dataset...\n"
     ]
    },
    {
     "name": "stderr",
     "output_type": "stream",
     "text": [
      "[INFO 24-06-03 16:02:45.4650 CEST kernel.cc:1233] Loading model from path /var/folders/3r/pzt2_p_x2xdfl2057nxkp3nm0000gn/T/tmp81uc5c_x/model/ with prefix e716b7272a8b411f\n",
      "[INFO 24-06-03 16:02:45.4663 CEST kernel.cc:1061] Use fast generic engine\n",
      "[WARNING 24-06-03 16:02:45.5381 CEST gradient_boosted_trees.cc:1840] \"goss_alpha\" set but \"sampling_method\" not equal to \"GOSS\".\n",
      "[WARNING 24-06-03 16:02:45.5381 CEST gradient_boosted_trees.cc:1851] \"goss_beta\" set but \"sampling_method\" not equal to \"GOSS\".\n",
      "[WARNING 24-06-03 16:02:45.5381 CEST gradient_boosted_trees.cc:1865] \"selective_gradient_boosting_ratio\" set but \"sampling_method\" not equal to \"SELGB\".\n"
     ]
    },
    {
     "name": "stdout",
     "output_type": "stream",
     "text": [
      "Training dataset read in 0:00:00.281286. Found 13209 examples.\n",
      "Training model...\n",
      "Model trained in 0:00:00.179197\n",
      "Compiling model...\n",
      "Model compiled.\n",
      "Use /var/folders/3r/pzt2_p_x2xdfl2057nxkp3nm0000gn/T/tmptfitwg3k as temporary training directory\n",
      "Reading training dataset...\n"
     ]
    },
    {
     "name": "stderr",
     "output_type": "stream",
     "text": [
      "[INFO 24-06-03 16:02:46.0068 CEST kernel.cc:1233] Loading model from path /var/folders/3r/pzt2_p_x2xdfl2057nxkp3nm0000gn/T/tmpbw9o8ib4/model/ with prefix e00682c8fcf3418d\n",
      "[INFO 24-06-03 16:02:46.0076 CEST kernel.cc:1061] Use fast generic engine\n",
      "[WARNING 24-06-03 16:02:46.0835 CEST gradient_boosted_trees.cc:1840] \"goss_alpha\" set but \"sampling_method\" not equal to \"GOSS\".\n",
      "[WARNING 24-06-03 16:02:46.0836 CEST gradient_boosted_trees.cc:1851] \"goss_beta\" set but \"sampling_method\" not equal to \"GOSS\".\n",
      "[WARNING 24-06-03 16:02:46.0836 CEST gradient_boosted_trees.cc:1865] \"selective_gradient_boosting_ratio\" set but \"sampling_method\" not equal to \"SELGB\".\n"
     ]
    },
    {
     "name": "stdout",
     "output_type": "stream",
     "text": [
      "Training dataset read in 0:00:00.272040. Found 13209 examples.\n",
      "Training model...\n",
      "Model trained in 0:00:00.353302\n",
      "Compiling model...\n",
      "Model compiled.\n",
      "Use /var/folders/3r/pzt2_p_x2xdfl2057nxkp3nm0000gn/T/tmp_ou3_vwl as temporary training directory\n",
      "Reading training dataset...\n"
     ]
    },
    {
     "name": "stderr",
     "output_type": "stream",
     "text": [
      "[INFO 24-06-03 16:02:46.7170 CEST kernel.cc:1233] Loading model from path /var/folders/3r/pzt2_p_x2xdfl2057nxkp3nm0000gn/T/tmptfitwg3k/model/ with prefix 5735024255e7488e\n",
      "[INFO 24-06-03 16:02:46.7183 CEST kernel.cc:1061] Use fast generic engine\n",
      "[WARNING 24-06-03 16:02:46.7914 CEST gradient_boosted_trees.cc:1840] \"goss_alpha\" set but \"sampling_method\" not equal to \"GOSS\".\n",
      "[WARNING 24-06-03 16:02:46.7915 CEST gradient_boosted_trees.cc:1851] \"goss_beta\" set but \"sampling_method\" not equal to \"GOSS\".\n",
      "[WARNING 24-06-03 16:02:46.7915 CEST gradient_boosted_trees.cc:1865] \"selective_gradient_boosting_ratio\" set but \"sampling_method\" not equal to \"SELGB\".\n"
     ]
    },
    {
     "name": "stdout",
     "output_type": "stream",
     "text": [
      "Training dataset read in 0:00:00.275979. Found 13209 examples.\n",
      "Training model...\n",
      "Model trained in 0:00:00.464751\n",
      "Compiling model...\n",
      "Model compiled.\n",
      "Use /var/folders/3r/pzt2_p_x2xdfl2057nxkp3nm0000gn/T/tmpm727fge8 as temporary training directory\n",
      "Reading training dataset...\n"
     ]
    },
    {
     "name": "stderr",
     "output_type": "stream",
     "text": [
      "[INFO 24-06-03 16:02:47.5395 CEST kernel.cc:1233] Loading model from path /var/folders/3r/pzt2_p_x2xdfl2057nxkp3nm0000gn/T/tmp_ou3_vwl/model/ with prefix b72aec40782646f9\n",
      "[INFO 24-06-03 16:02:47.5413 CEST kernel.cc:1061] Use fast generic engine\n",
      "[WARNING 24-06-03 16:02:47.6234 CEST gradient_boosted_trees.cc:1840] \"goss_alpha\" set but \"sampling_method\" not equal to \"GOSS\".\n",
      "[WARNING 24-06-03 16:02:47.6234 CEST gradient_boosted_trees.cc:1851] \"goss_beta\" set but \"sampling_method\" not equal to \"GOSS\".\n",
      "[WARNING 24-06-03 16:02:47.6234 CEST gradient_boosted_trees.cc:1865] \"selective_gradient_boosting_ratio\" set but \"sampling_method\" not equal to \"SELGB\".\n"
     ]
    },
    {
     "name": "stdout",
     "output_type": "stream",
     "text": [
      "Training dataset read in 0:00:00.268228. Found 13209 examples.\n",
      "Training model...\n",
      "Model trained in 0:00:00.176561\n",
      "Compiling model...\n",
      "Model compiled.\n",
      "Use /var/folders/3r/pzt2_p_x2xdfl2057nxkp3nm0000gn/T/tmpz1kzl3q8 as temporary training directory\n",
      "Reading training dataset...\n"
     ]
    },
    {
     "name": "stderr",
     "output_type": "stream",
     "text": [
      "[INFO 24-06-03 16:02:48.0773 CEST kernel.cc:1233] Loading model from path /var/folders/3r/pzt2_p_x2xdfl2057nxkp3nm0000gn/T/tmpm727fge8/model/ with prefix 1dcdbb7e9ea1463d\n",
      "[INFO 24-06-03 16:02:48.0781 CEST kernel.cc:1061] Use fast generic engine\n",
      "[WARNING 24-06-03 16:02:48.1522 CEST gradient_boosted_trees.cc:1840] \"goss_alpha\" set but \"sampling_method\" not equal to \"GOSS\".\n",
      "[WARNING 24-06-03 16:02:48.1522 CEST gradient_boosted_trees.cc:1851] \"goss_beta\" set but \"sampling_method\" not equal to \"GOSS\".\n",
      "[WARNING 24-06-03 16:02:48.1522 CEST gradient_boosted_trees.cc:1865] \"selective_gradient_boosting_ratio\" set but \"sampling_method\" not equal to \"SELGB\".\n"
     ]
    },
    {
     "name": "stdout",
     "output_type": "stream",
     "text": [
      "Training dataset read in 0:00:00.272367. Found 13209 examples.\n",
      "Training model...\n",
      "Model trained in 0:00:00.316746\n",
      "Compiling model...\n",
      "Model compiled.\n",
      "Use /var/folders/3r/pzt2_p_x2xdfl2057nxkp3nm0000gn/T/tmpunu9m4x0 as temporary training directory\n",
      "Reading training dataset...\n"
     ]
    },
    {
     "name": "stderr",
     "output_type": "stream",
     "text": [
      "[INFO 24-06-03 16:02:48.7500 CEST kernel.cc:1233] Loading model from path /var/folders/3r/pzt2_p_x2xdfl2057nxkp3nm0000gn/T/tmpz1kzl3q8/model/ with prefix 306f18718b3d4829\n",
      "[INFO 24-06-03 16:02:48.7511 CEST kernel.cc:1061] Use fast generic engine\n",
      "[WARNING 24-06-03 16:02:48.8244 CEST gradient_boosted_trees.cc:1840] \"goss_alpha\" set but \"sampling_method\" not equal to \"GOSS\".\n",
      "[WARNING 24-06-03 16:02:48.8244 CEST gradient_boosted_trees.cc:1851] \"goss_beta\" set but \"sampling_method\" not equal to \"GOSS\".\n",
      "[WARNING 24-06-03 16:02:48.8244 CEST gradient_boosted_trees.cc:1865] \"selective_gradient_boosting_ratio\" set but \"sampling_method\" not equal to \"SELGB\".\n"
     ]
    },
    {
     "name": "stdout",
     "output_type": "stream",
     "text": [
      "Training dataset read in 0:00:00.274247. Found 13209 examples.\n",
      "Training model...\n",
      "Model trained in 0:00:00.476445\n",
      "Compiling model...\n",
      "Model compiled.\n",
      "Use /var/folders/3r/pzt2_p_x2xdfl2057nxkp3nm0000gn/T/tmpny1evt8p as temporary training directory\n",
      "Reading training dataset...\n"
     ]
    },
    {
     "name": "stderr",
     "output_type": "stream",
     "text": [
      "[INFO 24-06-03 16:02:49.5837 CEST kernel.cc:1233] Loading model from path /var/folders/3r/pzt2_p_x2xdfl2057nxkp3nm0000gn/T/tmpunu9m4x0/model/ with prefix 69ac00aaad174a30\n",
      "[INFO 24-06-03 16:02:49.5851 CEST kernel.cc:1061] Use fast generic engine\n",
      "[WARNING 24-06-03 16:02:49.6606 CEST gradient_boosted_trees.cc:1840] \"goss_alpha\" set but \"sampling_method\" not equal to \"GOSS\".\n",
      "[WARNING 24-06-03 16:02:49.6606 CEST gradient_boosted_trees.cc:1851] \"goss_beta\" set but \"sampling_method\" not equal to \"GOSS\".\n",
      "[WARNING 24-06-03 16:02:49.6606 CEST gradient_boosted_trees.cc:1865] \"selective_gradient_boosting_ratio\" set but \"sampling_method\" not equal to \"SELGB\".\n"
     ]
    },
    {
     "name": "stdout",
     "output_type": "stream",
     "text": [
      "Training dataset read in 0:00:00.272488. Found 13209 examples.\n",
      "Training model...\n",
      "Model trained in 0:00:00.390619\n",
      "Compiling model...\n",
      "Model compiled.\n",
      "Use /var/folders/3r/pzt2_p_x2xdfl2057nxkp3nm0000gn/T/tmp1elhvse2 as temporary training directory\n",
      "Reading training dataset...\n"
     ]
    },
    {
     "name": "stderr",
     "output_type": "stream",
     "text": [
      "[INFO 24-06-03 16:02:50.3321 CEST kernel.cc:1233] Loading model from path /var/folders/3r/pzt2_p_x2xdfl2057nxkp3nm0000gn/T/tmpny1evt8p/model/ with prefix fa7fdfeb0a5a4276\n",
      "[INFO 24-06-03 16:02:50.3335 CEST kernel.cc:1061] Use fast generic engine\n",
      "[WARNING 24-06-03 16:02:50.4067 CEST gradient_boosted_trees.cc:1840] \"goss_alpha\" set but \"sampling_method\" not equal to \"GOSS\".\n",
      "[WARNING 24-06-03 16:02:50.4067 CEST gradient_boosted_trees.cc:1851] \"goss_beta\" set but \"sampling_method\" not equal to \"GOSS\".\n",
      "[WARNING 24-06-03 16:02:50.4067 CEST gradient_boosted_trees.cc:1865] \"selective_gradient_boosting_ratio\" set but \"sampling_method\" not equal to \"SELGB\".\n"
     ]
    },
    {
     "name": "stdout",
     "output_type": "stream",
     "text": [
      "Training dataset read in 0:00:00.272229. Found 13209 examples.\n",
      "Training model...\n",
      "Model trained in 0:00:00.414422\n",
      "Compiling model...\n",
      "Model compiled.\n",
      "Use /var/folders/3r/pzt2_p_x2xdfl2057nxkp3nm0000gn/T/tmpjy4qok6r as temporary training directory\n",
      "Reading training dataset...\n"
     ]
    },
    {
     "name": "stderr",
     "output_type": "stream",
     "text": [
      "[INFO 24-06-03 16:02:51.1017 CEST kernel.cc:1233] Loading model from path /var/folders/3r/pzt2_p_x2xdfl2057nxkp3nm0000gn/T/tmp1elhvse2/model/ with prefix bc05a8e634984579\n",
      "[INFO 24-06-03 16:02:51.1031 CEST kernel.cc:1061] Use fast generic engine\n",
      "[WARNING 24-06-03 16:02:51.1778 CEST gradient_boosted_trees.cc:1840] \"goss_alpha\" set but \"sampling_method\" not equal to \"GOSS\".\n",
      "[WARNING 24-06-03 16:02:51.1778 CEST gradient_boosted_trees.cc:1851] \"goss_beta\" set but \"sampling_method\" not equal to \"GOSS\".\n",
      "[WARNING 24-06-03 16:02:51.1778 CEST gradient_boosted_trees.cc:1865] \"selective_gradient_boosting_ratio\" set but \"sampling_method\" not equal to \"SELGB\".\n"
     ]
    },
    {
     "name": "stdout",
     "output_type": "stream",
     "text": [
      "Training dataset read in 0:00:00.271126. Found 13209 examples.\n",
      "Training model...\n",
      "Model trained in 0:00:00.190532\n",
      "Compiling model...\n",
      "Model compiled.\n",
      "Use /var/folders/3r/pzt2_p_x2xdfl2057nxkp3nm0000gn/T/tmpox3d0itm as temporary training directory\n",
      "Reading training dataset...\n"
     ]
    },
    {
     "name": "stderr",
     "output_type": "stream",
     "text": [
      "[INFO 24-06-03 16:02:51.6480 CEST kernel.cc:1233] Loading model from path /var/folders/3r/pzt2_p_x2xdfl2057nxkp3nm0000gn/T/tmpjy4qok6r/model/ with prefix 0d69ced87d634756\n",
      "[INFO 24-06-03 16:02:51.6488 CEST kernel.cc:1061] Use fast generic engine\n",
      "[WARNING 24-06-03 16:02:51.7223 CEST gradient_boosted_trees.cc:1840] \"goss_alpha\" set but \"sampling_method\" not equal to \"GOSS\".\n",
      "[WARNING 24-06-03 16:02:51.7223 CEST gradient_boosted_trees.cc:1851] \"goss_beta\" set but \"sampling_method\" not equal to \"GOSS\".\n",
      "[WARNING 24-06-03 16:02:51.7223 CEST gradient_boosted_trees.cc:1865] \"selective_gradient_boosting_ratio\" set but \"sampling_method\" not equal to \"SELGB\".\n"
     ]
    },
    {
     "name": "stdout",
     "output_type": "stream",
     "text": [
      "Training dataset read in 0:00:00.272244. Found 13209 examples.\n",
      "Training model...\n",
      "Model trained in 0:00:00.305719\n",
      "Compiling model...\n",
      "Model compiled.\n",
      "Use /var/folders/3r/pzt2_p_x2xdfl2057nxkp3nm0000gn/T/tmpxyne4_1c as temporary training directory\n",
      "Reading training dataset...\n"
     ]
    },
    {
     "name": "stderr",
     "output_type": "stream",
     "text": [
      "[INFO 24-06-03 16:02:52.3089 CEST kernel.cc:1233] Loading model from path /var/folders/3r/pzt2_p_x2xdfl2057nxkp3nm0000gn/T/tmpox3d0itm/model/ with prefix 9ab228a4d96b4b90\n",
      "[INFO 24-06-03 16:02:52.3101 CEST kernel.cc:1061] Use fast generic engine\n",
      "[WARNING 24-06-03 16:02:52.3829 CEST gradient_boosted_trees.cc:1840] \"goss_alpha\" set but \"sampling_method\" not equal to \"GOSS\".\n",
      "[WARNING 24-06-03 16:02:52.3829 CEST gradient_boosted_trees.cc:1851] \"goss_beta\" set but \"sampling_method\" not equal to \"GOSS\".\n",
      "[WARNING 24-06-03 16:02:52.3829 CEST gradient_boosted_trees.cc:1865] \"selective_gradient_boosting_ratio\" set but \"sampling_method\" not equal to \"SELGB\".\n"
     ]
    },
    {
     "name": "stdout",
     "output_type": "stream",
     "text": [
      "Training dataset read in 0:00:00.273438. Found 13209 examples.\n",
      "Training model...\n",
      "Model trained in 0:00:00.381324\n",
      "Compiling model...\n",
      "Model compiled.\n",
      "Use /var/folders/3r/pzt2_p_x2xdfl2057nxkp3nm0000gn/T/tmpp1u3d_t7 as temporary training directory\n",
      "Reading training dataset...\n"
     ]
    },
    {
     "name": "stderr",
     "output_type": "stream",
     "text": [
      "[INFO 24-06-03 16:02:53.0460 CEST kernel.cc:1233] Loading model from path /var/folders/3r/pzt2_p_x2xdfl2057nxkp3nm0000gn/T/tmpxyne4_1c/model/ with prefix bf2b4509d8aa46f2\n",
      "[INFO 24-06-03 16:02:53.0473 CEST kernel.cc:1061] Use fast generic engine\n",
      "[WARNING 24-06-03 16:02:53.1228 CEST gradient_boosted_trees.cc:1840] \"goss_alpha\" set but \"sampling_method\" not equal to \"GOSS\".\n",
      "[WARNING 24-06-03 16:02:53.1228 CEST gradient_boosted_trees.cc:1851] \"goss_beta\" set but \"sampling_method\" not equal to \"GOSS\".\n",
      "[WARNING 24-06-03 16:02:53.1228 CEST gradient_boosted_trees.cc:1865] \"selective_gradient_boosting_ratio\" set but \"sampling_method\" not equal to \"SELGB\".\n"
     ]
    },
    {
     "name": "stdout",
     "output_type": "stream",
     "text": [
      "Training dataset read in 0:00:00.268373. Found 13209 examples.\n",
      "Training model...\n",
      "Model trained in 0:00:00.319639\n",
      "Compiling model...\n",
      "Model compiled.\n",
      "Use /var/folders/3r/pzt2_p_x2xdfl2057nxkp3nm0000gn/T/tmp6rox0r3o as temporary training directory\n",
      "Reading training dataset...\n"
     ]
    },
    {
     "name": "stderr",
     "output_type": "stream",
     "text": [
      "[INFO 24-06-03 16:02:53.7197 CEST kernel.cc:1233] Loading model from path /var/folders/3r/pzt2_p_x2xdfl2057nxkp3nm0000gn/T/tmpp1u3d_t7/model/ with prefix 065feec38e5f4c39\n",
      "[INFO 24-06-03 16:02:53.7209 CEST abstract_model.cc:1344] Engine \"GradientBoostedTreesQuickScorerExtended\" built\n",
      "[INFO 24-06-03 16:02:53.7209 CEST kernel.cc:1061] Use fast generic engine\n",
      "[WARNING 24-06-03 16:02:53.7938 CEST gradient_boosted_trees.cc:1840] \"goss_alpha\" set but \"sampling_method\" not equal to \"GOSS\".\n",
      "[WARNING 24-06-03 16:02:53.7938 CEST gradient_boosted_trees.cc:1851] \"goss_beta\" set but \"sampling_method\" not equal to \"GOSS\".\n",
      "[WARNING 24-06-03 16:02:53.7938 CEST gradient_boosted_trees.cc:1865] \"selective_gradient_boosting_ratio\" set but \"sampling_method\" not equal to \"SELGB\".\n"
     ]
    },
    {
     "name": "stdout",
     "output_type": "stream",
     "text": [
      "Training dataset read in 0:00:00.270544. Found 13209 examples.\n",
      "Training model...\n",
      "Model trained in 0:00:00.268603\n",
      "Compiling model...\n",
      "Model compiled.\n",
      "Use /var/folders/3r/pzt2_p_x2xdfl2057nxkp3nm0000gn/T/tmp4n32p3ty as temporary training directory\n",
      "Reading training dataset...\n"
     ]
    },
    {
     "name": "stderr",
     "output_type": "stream",
     "text": [
      "[INFO 24-06-03 16:02:54.3416 CEST kernel.cc:1233] Loading model from path /var/folders/3r/pzt2_p_x2xdfl2057nxkp3nm0000gn/T/tmp6rox0r3o/model/ with prefix 3c78dbc9ad194a91\n",
      "[INFO 24-06-03 16:02:54.3426 CEST kernel.cc:1061] Use fast generic engine\n",
      "[WARNING 24-06-03 16:02:54.4147 CEST gradient_boosted_trees.cc:1840] \"goss_alpha\" set but \"sampling_method\" not equal to \"GOSS\".\n",
      "[WARNING 24-06-03 16:02:54.4148 CEST gradient_boosted_trees.cc:1851] \"goss_beta\" set but \"sampling_method\" not equal to \"GOSS\".\n",
      "[WARNING 24-06-03 16:02:54.4148 CEST gradient_boosted_trees.cc:1865] \"selective_gradient_boosting_ratio\" set but \"sampling_method\" not equal to \"SELGB\".\n"
     ]
    },
    {
     "name": "stdout",
     "output_type": "stream",
     "text": [
      "Training dataset read in 0:00:00.274809. Found 13209 examples.\n",
      "Training model...\n",
      "Model trained in 0:00:00.107395\n",
      "Compiling model...\n",
      "Model compiled.\n",
      "Use /var/folders/3r/pzt2_p_x2xdfl2057nxkp3nm0000gn/T/tmpi8y_ndsw as temporary training directory\n",
      "Reading training dataset...\n"
     ]
    },
    {
     "name": "stderr",
     "output_type": "stream",
     "text": [
      "[INFO 24-06-03 16:02:54.8060 CEST kernel.cc:1233] Loading model from path /var/folders/3r/pzt2_p_x2xdfl2057nxkp3nm0000gn/T/tmp4n32p3ty/model/ with prefix ee3a563342664f9d\n",
      "[INFO 24-06-03 16:02:54.8065 CEST kernel.cc:1061] Use fast generic engine\n",
      "[WARNING 24-06-03 16:02:54.8789 CEST gradient_boosted_trees.cc:1840] \"goss_alpha\" set but \"sampling_method\" not equal to \"GOSS\".\n",
      "[WARNING 24-06-03 16:02:54.8789 CEST gradient_boosted_trees.cc:1851] \"goss_beta\" set but \"sampling_method\" not equal to \"GOSS\".\n",
      "[WARNING 24-06-03 16:02:54.8789 CEST gradient_boosted_trees.cc:1865] \"selective_gradient_boosting_ratio\" set but \"sampling_method\" not equal to \"SELGB\".\n"
     ]
    },
    {
     "name": "stdout",
     "output_type": "stream",
     "text": [
      "Training dataset read in 0:00:00.275290. Found 13209 examples.\n",
      "Training model...\n",
      "Model trained in 0:00:00.381111\n",
      "Compiling model...\n",
      "Model compiled.\n",
      "Use /var/folders/3r/pzt2_p_x2xdfl2057nxkp3nm0000gn/T/tmpbdz27qgk as temporary training directory\n",
      "Reading training dataset...\n"
     ]
    },
    {
     "name": "stderr",
     "output_type": "stream",
     "text": [
      "[INFO 24-06-03 16:02:55.5433 CEST kernel.cc:1233] Loading model from path /var/folders/3r/pzt2_p_x2xdfl2057nxkp3nm0000gn/T/tmpi8y_ndsw/model/ with prefix c68a79c00eaa4057\n",
      "[INFO 24-06-03 16:02:55.5447 CEST kernel.cc:1061] Use fast generic engine\n",
      "[WARNING 24-06-03 16:02:55.6268 CEST gradient_boosted_trees.cc:1840] \"goss_alpha\" set but \"sampling_method\" not equal to \"GOSS\".\n",
      "[WARNING 24-06-03 16:02:55.6268 CEST gradient_boosted_trees.cc:1851] \"goss_beta\" set but \"sampling_method\" not equal to \"GOSS\".\n",
      "[WARNING 24-06-03 16:02:55.6268 CEST gradient_boosted_trees.cc:1865] \"selective_gradient_boosting_ratio\" set but \"sampling_method\" not equal to \"SELGB\".\n"
     ]
    },
    {
     "name": "stdout",
     "output_type": "stream",
     "text": [
      "Training dataset read in 0:00:00.270930. Found 13209 examples.\n",
      "Training model...\n",
      "Model trained in 0:00:00.374480\n",
      "Compiling model...\n",
      "Model compiled.\n",
      "Use /var/folders/3r/pzt2_p_x2xdfl2057nxkp3nm0000gn/T/tmpal9qwq4q as temporary training directory\n",
      "Reading training dataset...\n"
     ]
    },
    {
     "name": "stderr",
     "output_type": "stream",
     "text": [
      "[INFO 24-06-03 16:02:56.2729 CEST kernel.cc:1233] Loading model from path /var/folders/3r/pzt2_p_x2xdfl2057nxkp3nm0000gn/T/tmpbdz27qgk/model/ with prefix e3bc3e50c03644a8\n",
      "[INFO 24-06-03 16:02:56.2744 CEST kernel.cc:1061] Use fast generic engine\n",
      "[WARNING 24-06-03 16:02:56.3481 CEST gradient_boosted_trees.cc:1840] \"goss_alpha\" set but \"sampling_method\" not equal to \"GOSS\".\n",
      "[WARNING 24-06-03 16:02:56.3481 CEST gradient_boosted_trees.cc:1851] \"goss_beta\" set but \"sampling_method\" not equal to \"GOSS\".\n",
      "[WARNING 24-06-03 16:02:56.3481 CEST gradient_boosted_trees.cc:1865] \"selective_gradient_boosting_ratio\" set but \"sampling_method\" not equal to \"SELGB\".\n"
     ]
    },
    {
     "name": "stdout",
     "output_type": "stream",
     "text": [
      "Training dataset read in 0:00:00.280234. Found 13209 examples.\n",
      "Training model...\n",
      "Model trained in 0:00:00.464929\n",
      "Compiling model...\n",
      "Model compiled.\n",
      "Use /var/folders/3r/pzt2_p_x2xdfl2057nxkp3nm0000gn/T/tmp2sdevdbn as temporary training directory\n",
      "Reading training dataset...\n"
     ]
    },
    {
     "name": "stderr",
     "output_type": "stream",
     "text": [
      "[INFO 24-06-03 16:02:57.0998 CEST kernel.cc:1233] Loading model from path /var/folders/3r/pzt2_p_x2xdfl2057nxkp3nm0000gn/T/tmpal9qwq4q/model/ with prefix 8ffd17a8a75849c1\n",
      "[INFO 24-06-03 16:02:57.1015 CEST kernel.cc:1061] Use fast generic engine\n",
      "[WARNING 24-06-03 16:02:57.1760 CEST gradient_boosted_trees.cc:1840] \"goss_alpha\" set but \"sampling_method\" not equal to \"GOSS\".\n",
      "[WARNING 24-06-03 16:02:57.1760 CEST gradient_boosted_trees.cc:1851] \"goss_beta\" set but \"sampling_method\" not equal to \"GOSS\".\n",
      "[WARNING 24-06-03 16:02:57.1760 CEST gradient_boosted_trees.cc:1865] \"selective_gradient_boosting_ratio\" set but \"sampling_method\" not equal to \"SELGB\".\n"
     ]
    },
    {
     "name": "stdout",
     "output_type": "stream",
     "text": [
      "Training dataset read in 0:00:00.273475. Found 13209 examples.\n",
      "Training model...\n",
      "Model trained in 0:00:00.255174\n",
      "Compiling model...\n",
      "Model compiled.\n",
      "Use /var/folders/3r/pzt2_p_x2xdfl2057nxkp3nm0000gn/T/tmp6gqntaz1 as temporary training directory\n",
      "Reading training dataset...\n"
     ]
    },
    {
     "name": "stderr",
     "output_type": "stream",
     "text": [
      "[INFO 24-06-03 16:02:57.7124 CEST kernel.cc:1233] Loading model from path /var/folders/3r/pzt2_p_x2xdfl2057nxkp3nm0000gn/T/tmp2sdevdbn/model/ with prefix 5aa5ad1a1b5f45c8\n",
      "[INFO 24-06-03 16:02:57.7134 CEST kernel.cc:1061] Use fast generic engine\n",
      "[WARNING 24-06-03 16:02:57.7863 CEST gradient_boosted_trees.cc:1840] \"goss_alpha\" set but \"sampling_method\" not equal to \"GOSS\".\n",
      "[WARNING 24-06-03 16:02:57.7863 CEST gradient_boosted_trees.cc:1851] \"goss_beta\" set but \"sampling_method\" not equal to \"GOSS\".\n",
      "[WARNING 24-06-03 16:02:57.7863 CEST gradient_boosted_trees.cc:1865] \"selective_gradient_boosting_ratio\" set but \"sampling_method\" not equal to \"SELGB\".\n"
     ]
    },
    {
     "name": "stdout",
     "output_type": "stream",
     "text": [
      "Training dataset read in 0:00:00.269182. Found 13209 examples.\n",
      "Training model...\n",
      "Model trained in 0:00:00.403025\n",
      "Compiling model...\n",
      "Model compiled.\n",
      "Use /var/folders/3r/pzt2_p_x2xdfl2057nxkp3nm0000gn/T/tmp_d62hgrg as temporary training directory\n",
      "Reading training dataset...\n"
     ]
    },
    {
     "name": "stderr",
     "output_type": "stream",
     "text": [
      "[INFO 24-06-03 16:02:58.4651 CEST kernel.cc:1233] Loading model from path /var/folders/3r/pzt2_p_x2xdfl2057nxkp3nm0000gn/T/tmp6gqntaz1/model/ with prefix 9951ffe5dafe4c8e\n",
      "[INFO 24-06-03 16:02:58.4666 CEST kernel.cc:1061] Use fast generic engine\n",
      "[WARNING 24-06-03 16:02:58.5395 CEST gradient_boosted_trees.cc:1840] \"goss_alpha\" set but \"sampling_method\" not equal to \"GOSS\".\n",
      "[WARNING 24-06-03 16:02:58.5396 CEST gradient_boosted_trees.cc:1851] \"goss_beta\" set but \"sampling_method\" not equal to \"GOSS\".\n",
      "[WARNING 24-06-03 16:02:58.5396 CEST gradient_boosted_trees.cc:1865] \"selective_gradient_boosting_ratio\" set but \"sampling_method\" not equal to \"SELGB\".\n"
     ]
    },
    {
     "name": "stdout",
     "output_type": "stream",
     "text": [
      "Training dataset read in 0:00:00.277045. Found 13209 examples.\n",
      "Training model...\n",
      "Model trained in 0:00:00.154862\n",
      "Compiling model...\n",
      "Model compiled.\n",
      "Use /var/folders/3r/pzt2_p_x2xdfl2057nxkp3nm0000gn/T/tmp61cs3rug as temporary training directory\n",
      "Reading training dataset...\n"
     ]
    },
    {
     "name": "stderr",
     "output_type": "stream",
     "text": [
      "[INFO 24-06-03 16:02:58.9791 CEST kernel.cc:1233] Loading model from path /var/folders/3r/pzt2_p_x2xdfl2057nxkp3nm0000gn/T/tmp_d62hgrg/model/ with prefix 8fe5a0010c74400e\n",
      "[INFO 24-06-03 16:02:58.9797 CEST kernel.cc:1061] Use fast generic engine\n",
      "[WARNING 24-06-03 16:02:59.0527 CEST gradient_boosted_trees.cc:1840] \"goss_alpha\" set but \"sampling_method\" not equal to \"GOSS\".\n",
      "[WARNING 24-06-03 16:02:59.0527 CEST gradient_boosted_trees.cc:1851] \"goss_beta\" set but \"sampling_method\" not equal to \"GOSS\".\n",
      "[WARNING 24-06-03 16:02:59.0527 CEST gradient_boosted_trees.cc:1865] \"selective_gradient_boosting_ratio\" set but \"sampling_method\" not equal to \"SELGB\".\n"
     ]
    },
    {
     "name": "stdout",
     "output_type": "stream",
     "text": [
      "Training dataset read in 0:00:00.274247. Found 13209 examples.\n",
      "Training model...\n",
      "Model trained in 0:00:00.203692\n",
      "Compiling model...\n",
      "Model compiled.\n",
      "Use /var/folders/3r/pzt2_p_x2xdfl2057nxkp3nm0000gn/T/tmp8yys1m9p as temporary training directory\n",
      "Reading training dataset...\n"
     ]
    },
    {
     "name": "stderr",
     "output_type": "stream",
     "text": [
      "[INFO 24-06-03 16:02:59.5377 CEST kernel.cc:1233] Loading model from path /var/folders/3r/pzt2_p_x2xdfl2057nxkp3nm0000gn/T/tmp61cs3rug/model/ with prefix 6185fa652f014b7d\n",
      "[INFO 24-06-03 16:02:59.5385 CEST kernel.cc:1061] Use fast generic engine\n",
      "[WARNING 24-06-03 16:02:59.6187 CEST gradient_boosted_trees.cc:1840] \"goss_alpha\" set but \"sampling_method\" not equal to \"GOSS\".\n",
      "[WARNING 24-06-03 16:02:59.6188 CEST gradient_boosted_trees.cc:1851] \"goss_beta\" set but \"sampling_method\" not equal to \"GOSS\".\n",
      "[WARNING 24-06-03 16:02:59.6188 CEST gradient_boosted_trees.cc:1865] \"selective_gradient_boosting_ratio\" set but \"sampling_method\" not equal to \"SELGB\".\n"
     ]
    },
    {
     "name": "stdout",
     "output_type": "stream",
     "text": [
      "Training dataset read in 0:00:00.272004. Found 13209 examples.\n",
      "Training model...\n",
      "Model trained in 0:00:00.422813\n",
      "Compiling model...\n",
      "Model compiled.\n",
      "Use /var/folders/3r/pzt2_p_x2xdfl2057nxkp3nm0000gn/T/tmpreqzw9oe as temporary training directory\n",
      "Reading training dataset...\n"
     ]
    },
    {
     "name": "stderr",
     "output_type": "stream",
     "text": [
      "[INFO 24-06-03 16:03:00.3201 CEST kernel.cc:1233] Loading model from path /var/folders/3r/pzt2_p_x2xdfl2057nxkp3nm0000gn/T/tmp8yys1m9p/model/ with prefix 46f0d9721fe54bbf\n",
      "[INFO 24-06-03 16:03:00.3217 CEST kernel.cc:1061] Use fast generic engine\n",
      "[WARNING 24-06-03 16:03:00.3942 CEST gradient_boosted_trees.cc:1840] \"goss_alpha\" set but \"sampling_method\" not equal to \"GOSS\".\n",
      "[WARNING 24-06-03 16:03:00.3943 CEST gradient_boosted_trees.cc:1851] \"goss_beta\" set but \"sampling_method\" not equal to \"GOSS\".\n",
      "[WARNING 24-06-03 16:03:00.3943 CEST gradient_boosted_trees.cc:1865] \"selective_gradient_boosting_ratio\" set but \"sampling_method\" not equal to \"SELGB\".\n"
     ]
    },
    {
     "name": "stdout",
     "output_type": "stream",
     "text": [
      "Training dataset read in 0:00:00.274142. Found 13209 examples.\n",
      "Training model...\n",
      "Model trained in 0:00:00.388424\n",
      "Compiling model...\n",
      "Model compiled.\n",
      "Use /var/folders/3r/pzt2_p_x2xdfl2057nxkp3nm0000gn/T/tmprhak_xf_ as temporary training directory\n",
      "Reading training dataset...\n"
     ]
    },
    {
     "name": "stderr",
     "output_type": "stream",
     "text": [
      "[INFO 24-06-03 16:03:01.0639 CEST kernel.cc:1233] Loading model from path /var/folders/3r/pzt2_p_x2xdfl2057nxkp3nm0000gn/T/tmpreqzw9oe/model/ with prefix a29ad3bfc2a14cd9\n",
      "[INFO 24-06-03 16:03:01.0654 CEST kernel.cc:1061] Use fast generic engine\n",
      "[WARNING 24-06-03 16:03:01.1406 CEST gradient_boosted_trees.cc:1840] \"goss_alpha\" set but \"sampling_method\" not equal to \"GOSS\".\n",
      "[WARNING 24-06-03 16:03:01.1406 CEST gradient_boosted_trees.cc:1851] \"goss_beta\" set but \"sampling_method\" not equal to \"GOSS\".\n",
      "[WARNING 24-06-03 16:03:01.1406 CEST gradient_boosted_trees.cc:1865] \"selective_gradient_boosting_ratio\" set but \"sampling_method\" not equal to \"SELGB\".\n"
     ]
    },
    {
     "name": "stdout",
     "output_type": "stream",
     "text": [
      "Training dataset read in 0:00:00.270583. Found 13209 examples.\n",
      "Training model...\n",
      "Model trained in 0:00:00.290415\n",
      "Compiling model...\n",
      "Model compiled.\n",
      "Use /var/folders/3r/pzt2_p_x2xdfl2057nxkp3nm0000gn/T/tmpbjq3ontu as temporary training directory\n",
      "Reading training dataset...\n"
     ]
    },
    {
     "name": "stderr",
     "output_type": "stream",
     "text": [
      "[INFO 24-06-03 16:03:01.7089 CEST kernel.cc:1233] Loading model from path /var/folders/3r/pzt2_p_x2xdfl2057nxkp3nm0000gn/T/tmprhak_xf_/model/ with prefix da49b14df2b54085\n",
      "[INFO 24-06-03 16:03:01.7100 CEST kernel.cc:1061] Use fast generic engine\n",
      "[WARNING 24-06-03 16:03:01.7824 CEST gradient_boosted_trees.cc:1840] \"goss_alpha\" set but \"sampling_method\" not equal to \"GOSS\".\n",
      "[WARNING 24-06-03 16:03:01.7824 CEST gradient_boosted_trees.cc:1851] \"goss_beta\" set but \"sampling_method\" not equal to \"GOSS\".\n",
      "[WARNING 24-06-03 16:03:01.7824 CEST gradient_boosted_trees.cc:1865] \"selective_gradient_boosting_ratio\" set but \"sampling_method\" not equal to \"SELGB\".\n"
     ]
    },
    {
     "name": "stdout",
     "output_type": "stream",
     "text": [
      "Training dataset read in 0:00:00.270160. Found 13209 examples.\n",
      "Training model...\n",
      "Model trained in 0:00:00.398886\n",
      "Compiling model...\n",
      "Model compiled.\n",
      "Use /var/folders/3r/pzt2_p_x2xdfl2057nxkp3nm0000gn/T/tmpfphi19lo as temporary training directory\n",
      "Reading training dataset...\n"
     ]
    },
    {
     "name": "stderr",
     "output_type": "stream",
     "text": [
      "[INFO 24-06-03 16:03:02.4585 CEST kernel.cc:1233] Loading model from path /var/folders/3r/pzt2_p_x2xdfl2057nxkp3nm0000gn/T/tmpbjq3ontu/model/ with prefix 21fb5850f9f04421\n",
      "[INFO 24-06-03 16:03:02.4599 CEST kernel.cc:1061] Use fast generic engine\n",
      "[WARNING 24-06-03 16:03:02.5324 CEST gradient_boosted_trees.cc:1840] \"goss_alpha\" set but \"sampling_method\" not equal to \"GOSS\".\n",
      "[WARNING 24-06-03 16:03:02.5324 CEST gradient_boosted_trees.cc:1851] \"goss_beta\" set but \"sampling_method\" not equal to \"GOSS\".\n",
      "[WARNING 24-06-03 16:03:02.5324 CEST gradient_boosted_trees.cc:1865] \"selective_gradient_boosting_ratio\" set but \"sampling_method\" not equal to \"SELGB\".\n"
     ]
    },
    {
     "name": "stdout",
     "output_type": "stream",
     "text": [
      "Training dataset read in 0:00:00.277060. Found 13209 examples.\n",
      "Training model...\n",
      "Model trained in 0:00:00.381845\n",
      "Compiling model...\n",
      "Model compiled.\n",
      "Use /var/folders/3r/pzt2_p_x2xdfl2057nxkp3nm0000gn/T/tmptvfny3sb as temporary training directory\n",
      "Reading training dataset...\n"
     ]
    },
    {
     "name": "stderr",
     "output_type": "stream",
     "text": [
      "[INFO 24-06-03 16:03:03.1983 CEST kernel.cc:1233] Loading model from path /var/folders/3r/pzt2_p_x2xdfl2057nxkp3nm0000gn/T/tmpfphi19lo/model/ with prefix 256c2c0efa2c461b\n",
      "[INFO 24-06-03 16:03:03.1997 CEST kernel.cc:1061] Use fast generic engine\n",
      "[WARNING 24-06-03 16:03:03.2726 CEST gradient_boosted_trees.cc:1840] \"goss_alpha\" set but \"sampling_method\" not equal to \"GOSS\".\n",
      "[WARNING 24-06-03 16:03:03.2726 CEST gradient_boosted_trees.cc:1851] \"goss_beta\" set but \"sampling_method\" not equal to \"GOSS\".\n",
      "[WARNING 24-06-03 16:03:03.2726 CEST gradient_boosted_trees.cc:1865] \"selective_gradient_boosting_ratio\" set but \"sampling_method\" not equal to \"SELGB\".\n"
     ]
    },
    {
     "name": "stdout",
     "output_type": "stream",
     "text": [
      "Training dataset read in 0:00:00.270047. Found 13209 examples.\n",
      "Training model...\n",
      "Model trained in 0:00:00.218653\n",
      "Compiling model...\n",
      "Model compiled.\n",
      "Use /var/folders/3r/pzt2_p_x2xdfl2057nxkp3nm0000gn/T/tmpt3v9v7az as temporary training directory\n",
      "Reading training dataset...\n"
     ]
    },
    {
     "name": "stderr",
     "output_type": "stream",
     "text": [
      "[INFO 24-06-03 16:03:03.7687 CEST kernel.cc:1233] Loading model from path /var/folders/3r/pzt2_p_x2xdfl2057nxkp3nm0000gn/T/tmptvfny3sb/model/ with prefix c3170a357e77489f\n",
      "[INFO 24-06-03 16:03:03.7695 CEST abstract_model.cc:1344] Engine \"GradientBoostedTreesQuickScorerExtended\" built\n",
      "[INFO 24-06-03 16:03:03.7695 CEST kernel.cc:1061] Use fast generic engine\n",
      "[WARNING 24-06-03 16:03:03.8428 CEST gradient_boosted_trees.cc:1840] \"goss_alpha\" set but \"sampling_method\" not equal to \"GOSS\".\n",
      "[WARNING 24-06-03 16:03:03.8429 CEST gradient_boosted_trees.cc:1851] \"goss_beta\" set but \"sampling_method\" not equal to \"GOSS\".\n",
      "[WARNING 24-06-03 16:03:03.8429 CEST gradient_boosted_trees.cc:1865] \"selective_gradient_boosting_ratio\" set but \"sampling_method\" not equal to \"SELGB\".\n"
     ]
    },
    {
     "name": "stdout",
     "output_type": "stream",
     "text": [
      "Training dataset read in 0:00:00.278456. Found 13209 examples.\n",
      "Training model...\n",
      "Model trained in 0:00:00.118900\n",
      "Compiling model...\n",
      "Model compiled.\n",
      "Use /var/folders/3r/pzt2_p_x2xdfl2057nxkp3nm0000gn/T/tmpp6n4z37r as temporary training directory\n",
      "Reading training dataset...\n"
     ]
    },
    {
     "name": "stderr",
     "output_type": "stream",
     "text": [
      "[INFO 24-06-03 16:03:04.2477 CEST kernel.cc:1233] Loading model from path /var/folders/3r/pzt2_p_x2xdfl2057nxkp3nm0000gn/T/tmpt3v9v7az/model/ with prefix 1eb79ba463e742c7\n",
      "[INFO 24-06-03 16:03:04.2483 CEST kernel.cc:1061] Use fast generic engine\n",
      "[WARNING 24-06-03 16:03:04.3206 CEST gradient_boosted_trees.cc:1840] \"goss_alpha\" set but \"sampling_method\" not equal to \"GOSS\".\n",
      "[WARNING 24-06-03 16:03:04.3206 CEST gradient_boosted_trees.cc:1851] \"goss_beta\" set but \"sampling_method\" not equal to \"GOSS\".\n",
      "[WARNING 24-06-03 16:03:04.3206 CEST gradient_boosted_trees.cc:1865] \"selective_gradient_boosting_ratio\" set but \"sampling_method\" not equal to \"SELGB\".\n"
     ]
    },
    {
     "name": "stdout",
     "output_type": "stream",
     "text": [
      "Training dataset read in 0:00:00.279040. Found 13209 examples.\n",
      "Training model...\n",
      "Model trained in 0:00:00.202860\n",
      "Compiling model...\n",
      "Model compiled.\n",
      "Use /var/folders/3r/pzt2_p_x2xdfl2057nxkp3nm0000gn/T/tmpa1a9gip6 as temporary training directory\n",
      "Reading training dataset...\n"
     ]
    },
    {
     "name": "stderr",
     "output_type": "stream",
     "text": [
      "[INFO 24-06-03 16:03:04.8103 CEST kernel.cc:1233] Loading model from path /var/folders/3r/pzt2_p_x2xdfl2057nxkp3nm0000gn/T/tmpp6n4z37r/model/ with prefix dda86ca474274c18\n",
      "[INFO 24-06-03 16:03:04.8111 CEST kernel.cc:1061] Use fast generic engine\n",
      "[WARNING 24-06-03 16:03:04.8840 CEST gradient_boosted_trees.cc:1840] \"goss_alpha\" set but \"sampling_method\" not equal to \"GOSS\".\n",
      "[WARNING 24-06-03 16:03:04.8841 CEST gradient_boosted_trees.cc:1851] \"goss_beta\" set but \"sampling_method\" not equal to \"GOSS\".\n",
      "[WARNING 24-06-03 16:03:04.8841 CEST gradient_boosted_trees.cc:1865] \"selective_gradient_boosting_ratio\" set but \"sampling_method\" not equal to \"SELGB\".\n"
     ]
    },
    {
     "name": "stdout",
     "output_type": "stream",
     "text": [
      "Training dataset read in 0:00:00.283130. Found 13209 examples.\n",
      "Training model...\n",
      "Model trained in 0:00:00.159635\n",
      "Compiling model...\n",
      "Model compiled.\n",
      "Use /var/folders/3r/pzt2_p_x2xdfl2057nxkp3nm0000gn/T/tmpig7r0g71 as temporary training directory\n",
      "Reading training dataset...\n"
     ]
    },
    {
     "name": "stderr",
     "output_type": "stream",
     "text": [
      "[INFO 24-06-03 16:03:05.3346 CEST kernel.cc:1233] Loading model from path /var/folders/3r/pzt2_p_x2xdfl2057nxkp3nm0000gn/T/tmpa1a9gip6/model/ with prefix 9753f2ed60444dc3\n",
      "[INFO 24-06-03 16:03:05.3352 CEST kernel.cc:1061] Use fast generic engine\n",
      "[WARNING 24-06-03 16:03:05.4083 CEST gradient_boosted_trees.cc:1840] \"goss_alpha\" set but \"sampling_method\" not equal to \"GOSS\".\n",
      "[WARNING 24-06-03 16:03:05.4083 CEST gradient_boosted_trees.cc:1851] \"goss_beta\" set but \"sampling_method\" not equal to \"GOSS\".\n",
      "[WARNING 24-06-03 16:03:05.4083 CEST gradient_boosted_trees.cc:1865] \"selective_gradient_boosting_ratio\" set but \"sampling_method\" not equal to \"SELGB\".\n"
     ]
    },
    {
     "name": "stdout",
     "output_type": "stream",
     "text": [
      "Training dataset read in 0:00:00.275064. Found 13209 examples.\n",
      "Training model...\n",
      "Model trained in 0:00:00.108258\n",
      "Compiling model...\n",
      "Model compiled.\n",
      "Use /var/folders/3r/pzt2_p_x2xdfl2057nxkp3nm0000gn/T/tmpzlcu_fkm as temporary training directory\n",
      "Reading training dataset...\n"
     ]
    },
    {
     "name": "stderr",
     "output_type": "stream",
     "text": [
      "[INFO 24-06-03 16:03:05.7996 CEST kernel.cc:1233] Loading model from path /var/folders/3r/pzt2_p_x2xdfl2057nxkp3nm0000gn/T/tmpig7r0g71/model/ with prefix eb3d1aa698b84314\n",
      "[INFO 24-06-03 16:03:05.8001 CEST kernel.cc:1061] Use fast generic engine\n",
      "[WARNING 24-06-03 16:03:05.8729 CEST gradient_boosted_trees.cc:1840] \"goss_alpha\" set but \"sampling_method\" not equal to \"GOSS\".\n",
      "[WARNING 24-06-03 16:03:05.8729 CEST gradient_boosted_trees.cc:1851] \"goss_beta\" set but \"sampling_method\" not equal to \"GOSS\".\n",
      "[WARNING 24-06-03 16:03:05.8729 CEST gradient_boosted_trees.cc:1865] \"selective_gradient_boosting_ratio\" set but \"sampling_method\" not equal to \"SELGB\".\n"
     ]
    },
    {
     "name": "stdout",
     "output_type": "stream",
     "text": [
      "Training dataset read in 0:00:00.281728. Found 13209 examples.\n",
      "Training model...\n",
      "Model trained in 0:00:00.372339\n",
      "Compiling model...\n",
      "Model compiled.\n",
      "Use /var/folders/3r/pzt2_p_x2xdfl2057nxkp3nm0000gn/T/tmp5dqcsx1c as temporary training directory\n",
      "Reading training dataset...\n"
     ]
    },
    {
     "name": "stderr",
     "output_type": "stream",
     "text": [
      "[INFO 24-06-03 16:03:06.5344 CEST kernel.cc:1233] Loading model from path /var/folders/3r/pzt2_p_x2xdfl2057nxkp3nm0000gn/T/tmpzlcu_fkm/model/ with prefix c13a72b0d62a452a\n",
      "[INFO 24-06-03 16:03:06.5358 CEST kernel.cc:1061] Use fast generic engine\n",
      "[WARNING 24-06-03 16:03:06.6120 CEST gradient_boosted_trees.cc:1840] \"goss_alpha\" set but \"sampling_method\" not equal to \"GOSS\".\n",
      "[WARNING 24-06-03 16:03:06.6121 CEST gradient_boosted_trees.cc:1851] \"goss_beta\" set but \"sampling_method\" not equal to \"GOSS\".\n",
      "[WARNING 24-06-03 16:03:06.6121 CEST gradient_boosted_trees.cc:1865] \"selective_gradient_boosting_ratio\" set but \"sampling_method\" not equal to \"SELGB\".\n"
     ]
    },
    {
     "name": "stdout",
     "output_type": "stream",
     "text": [
      "Training dataset read in 0:00:00.277306. Found 13209 examples.\n",
      "Training model...\n",
      "Model trained in 0:00:00.470514\n",
      "Compiling model...\n",
      "Model compiled.\n",
      "Use /var/folders/3r/pzt2_p_x2xdfl2057nxkp3nm0000gn/T/tmpztabcdk4 as temporary training directory\n",
      "Reading training dataset...\n"
     ]
    },
    {
     "name": "stderr",
     "output_type": "stream",
     "text": [
      "[INFO 24-06-03 16:03:07.3670 CEST kernel.cc:1233] Loading model from path /var/folders/3r/pzt2_p_x2xdfl2057nxkp3nm0000gn/T/tmp5dqcsx1c/model/ with prefix f97537a27cf54282\n",
      "[INFO 24-06-03 16:03:07.3686 CEST kernel.cc:1061] Use fast generic engine\n",
      "[WARNING 24-06-03 16:03:07.4424 CEST gradient_boosted_trees.cc:1840] \"goss_alpha\" set but \"sampling_method\" not equal to \"GOSS\".\n",
      "[WARNING 24-06-03 16:03:07.4424 CEST gradient_boosted_trees.cc:1851] \"goss_beta\" set but \"sampling_method\" not equal to \"GOSS\".\n",
      "[WARNING 24-06-03 16:03:07.4424 CEST gradient_boosted_trees.cc:1865] \"selective_gradient_boosting_ratio\" set but \"sampling_method\" not equal to \"SELGB\".\n"
     ]
    },
    {
     "name": "stdout",
     "output_type": "stream",
     "text": [
      "Training dataset read in 0:00:00.278323. Found 13209 examples.\n",
      "Training model...\n",
      "Model trained in 0:00:00.430890\n",
      "Compiling model...\n",
      "Model compiled.\n",
      "Use /var/folders/3r/pzt2_p_x2xdfl2057nxkp3nm0000gn/T/tmpwr9gqdy8 as temporary training directory\n",
      "Reading training dataset...\n"
     ]
    },
    {
     "name": "stderr",
     "output_type": "stream",
     "text": [
      "[INFO 24-06-03 16:03:08.1585 CEST kernel.cc:1233] Loading model from path /var/folders/3r/pzt2_p_x2xdfl2057nxkp3nm0000gn/T/tmpztabcdk4/model/ with prefix fecade8031144645\n",
      "[INFO 24-06-03 16:03:08.1600 CEST kernel.cc:1061] Use fast generic engine\n",
      "[WARNING 24-06-03 16:03:08.2350 CEST gradient_boosted_trees.cc:1840] \"goss_alpha\" set but \"sampling_method\" not equal to \"GOSS\".\n",
      "[WARNING 24-06-03 16:03:08.2350 CEST gradient_boosted_trees.cc:1851] \"goss_beta\" set but \"sampling_method\" not equal to \"GOSS\".\n",
      "[WARNING 24-06-03 16:03:08.2350 CEST gradient_boosted_trees.cc:1865] \"selective_gradient_boosting_ratio\" set but \"sampling_method\" not equal to \"SELGB\".\n"
     ]
    },
    {
     "name": "stdout",
     "output_type": "stream",
     "text": [
      "Training dataset read in 0:00:00.275657. Found 13209 examples.\n",
      "Training model...\n",
      "Model trained in 0:00:00.223236\n",
      "Compiling model...\n",
      "Model compiled.\n",
      "Use /var/folders/3r/pzt2_p_x2xdfl2057nxkp3nm0000gn/T/tmp6fvxfpx4 as temporary training directory\n",
      "Reading training dataset...\n"
     ]
    },
    {
     "name": "stderr",
     "output_type": "stream",
     "text": [
      "[INFO 24-06-03 16:03:08.7417 CEST kernel.cc:1233] Loading model from path /var/folders/3r/pzt2_p_x2xdfl2057nxkp3nm0000gn/T/tmpwr9gqdy8/model/ with prefix 45ba5531e81e43af\n",
      "[INFO 24-06-03 16:03:08.7425 CEST kernel.cc:1061] Use fast generic engine\n",
      "[WARNING 24-06-03 16:03:08.8196 CEST gradient_boosted_trees.cc:1840] \"goss_alpha\" set but \"sampling_method\" not equal to \"GOSS\".\n",
      "[WARNING 24-06-03 16:03:08.8196 CEST gradient_boosted_trees.cc:1851] \"goss_beta\" set but \"sampling_method\" not equal to \"GOSS\".\n",
      "[WARNING 24-06-03 16:03:08.8196 CEST gradient_boosted_trees.cc:1865] \"selective_gradient_boosting_ratio\" set but \"sampling_method\" not equal to \"SELGB\".\n"
     ]
    },
    {
     "name": "stdout",
     "output_type": "stream",
     "text": [
      "Training dataset read in 0:00:00.272467. Found 13209 examples.\n",
      "Training model...\n",
      "Model trained in 0:00:00.250390\n",
      "Compiling model...\n",
      "Model compiled.\n",
      "Use /var/folders/3r/pzt2_p_x2xdfl2057nxkp3nm0000gn/T/tmpqsqtt_w_ as temporary training directory\n",
      "Reading training dataset...\n"
     ]
    },
    {
     "name": "stderr",
     "output_type": "stream",
     "text": [
      "[INFO 24-06-03 16:03:09.3500 CEST kernel.cc:1233] Loading model from path /var/folders/3r/pzt2_p_x2xdfl2057nxkp3nm0000gn/T/tmp6fvxfpx4/model/ with prefix ad1e231386f749cb\n",
      "[INFO 24-06-03 16:03:09.3510 CEST kernel.cc:1061] Use fast generic engine\n",
      "[WARNING 24-06-03 16:03:09.4235 CEST gradient_boosted_trees.cc:1840] \"goss_alpha\" set but \"sampling_method\" not equal to \"GOSS\".\n",
      "[WARNING 24-06-03 16:03:09.4236 CEST gradient_boosted_trees.cc:1851] \"goss_beta\" set but \"sampling_method\" not equal to \"GOSS\".\n",
      "[WARNING 24-06-03 16:03:09.4236 CEST gradient_boosted_trees.cc:1865] \"selective_gradient_boosting_ratio\" set but \"sampling_method\" not equal to \"SELGB\".\n"
     ]
    },
    {
     "name": "stdout",
     "output_type": "stream",
     "text": [
      "Training dataset read in 0:00:00.274258. Found 13209 examples.\n",
      "Training model...\n",
      "Model trained in 0:00:00.319516\n",
      "Compiling model...\n",
      "Model compiled.\n",
      "Use /var/folders/3r/pzt2_p_x2xdfl2057nxkp3nm0000gn/T/tmpnfy7ric5 as temporary training directory\n",
      "Reading training dataset...\n"
     ]
    },
    {
     "name": "stderr",
     "output_type": "stream",
     "text": [
      "[INFO 24-06-03 16:03:10.0245 CEST kernel.cc:1233] Loading model from path /var/folders/3r/pzt2_p_x2xdfl2057nxkp3nm0000gn/T/tmpqsqtt_w_/model/ with prefix 3b009a59b94b4413\n",
      "[INFO 24-06-03 16:03:10.0257 CEST kernel.cc:1061] Use fast generic engine\n",
      "[WARNING 24-06-03 16:03:10.1008 CEST gradient_boosted_trees.cc:1840] \"goss_alpha\" set but \"sampling_method\" not equal to \"GOSS\".\n",
      "[WARNING 24-06-03 16:03:10.1008 CEST gradient_boosted_trees.cc:1851] \"goss_beta\" set but \"sampling_method\" not equal to \"GOSS\".\n",
      "[WARNING 24-06-03 16:03:10.1008 CEST gradient_boosted_trees.cc:1865] \"selective_gradient_boosting_ratio\" set but \"sampling_method\" not equal to \"SELGB\".\n"
     ]
    },
    {
     "name": "stdout",
     "output_type": "stream",
     "text": [
      "Training dataset read in 0:00:00.278252. Found 13209 examples.\n",
      "Training model...\n",
      "Model trained in 0:00:00.350494\n",
      "Compiling model...\n",
      "Model compiled.\n",
      "Use /var/folders/3r/pzt2_p_x2xdfl2057nxkp3nm0000gn/T/tmp6xbcb0_k as temporary training directory\n",
      "Reading training dataset...\n"
     ]
    },
    {
     "name": "stderr",
     "output_type": "stream",
     "text": [
      "[INFO 24-06-03 16:03:10.7363 CEST kernel.cc:1233] Loading model from path /var/folders/3r/pzt2_p_x2xdfl2057nxkp3nm0000gn/T/tmpnfy7ric5/model/ with prefix d634711c7a9144ae\n",
      "[INFO 24-06-03 16:03:10.7375 CEST kernel.cc:1061] Use fast generic engine\n",
      "[WARNING 24-06-03 16:03:10.8111 CEST gradient_boosted_trees.cc:1840] \"goss_alpha\" set but \"sampling_method\" not equal to \"GOSS\".\n",
      "[WARNING 24-06-03 16:03:10.8111 CEST gradient_boosted_trees.cc:1851] \"goss_beta\" set but \"sampling_method\" not equal to \"GOSS\".\n",
      "[WARNING 24-06-03 16:03:10.8111 CEST gradient_boosted_trees.cc:1865] \"selective_gradient_boosting_ratio\" set but \"sampling_method\" not equal to \"SELGB\".\n"
     ]
    },
    {
     "name": "stdout",
     "output_type": "stream",
     "text": [
      "Training dataset read in 0:00:00.393149. Found 13209 examples.\n",
      "Training model...\n",
      "Model trained in 0:00:00.487214\n",
      "Compiling model...\n",
      "Model compiled.\n",
      "Use /var/folders/3r/pzt2_p_x2xdfl2057nxkp3nm0000gn/T/tmpmz2utumn as temporary training directory\n",
      "Reading training dataset...\n"
     ]
    },
    {
     "name": "stderr",
     "output_type": "stream",
     "text": [
      "[INFO 24-06-03 16:03:11.6988 CEST kernel.cc:1233] Loading model from path /var/folders/3r/pzt2_p_x2xdfl2057nxkp3nm0000gn/T/tmp6xbcb0_k/model/ with prefix e6d363bde0d44e1a\n",
      "[INFO 24-06-03 16:03:11.7005 CEST kernel.cc:1061] Use fast generic engine\n",
      "[WARNING 24-06-03 16:03:11.7758 CEST gradient_boosted_trees.cc:1840] \"goss_alpha\" set but \"sampling_method\" not equal to \"GOSS\".\n",
      "[WARNING 24-06-03 16:03:11.7758 CEST gradient_boosted_trees.cc:1851] \"goss_beta\" set but \"sampling_method\" not equal to \"GOSS\".\n",
      "[WARNING 24-06-03 16:03:11.7758 CEST gradient_boosted_trees.cc:1865] \"selective_gradient_boosting_ratio\" set but \"sampling_method\" not equal to \"SELGB\".\n"
     ]
    },
    {
     "name": "stdout",
     "output_type": "stream",
     "text": [
      "Training dataset read in 0:00:00.279835. Found 13209 examples.\n",
      "Training model...\n",
      "Model trained in 0:00:00.284809\n",
      "Compiling model...\n",
      "Model compiled.\n",
      "Use /var/folders/3r/pzt2_p_x2xdfl2057nxkp3nm0000gn/T/tmpobho3l63 as temporary training directory\n",
      "Reading training dataset...\n"
     ]
    },
    {
     "name": "stderr",
     "output_type": "stream",
     "text": [
      "[INFO 24-06-03 16:03:12.3477 CEST kernel.cc:1233] Loading model from path /var/folders/3r/pzt2_p_x2xdfl2057nxkp3nm0000gn/T/tmpmz2utumn/model/ with prefix 32ecd3b9159e403a\n",
      "[INFO 24-06-03 16:03:12.3488 CEST kernel.cc:1061] Use fast generic engine\n",
      "[WARNING 24-06-03 16:03:12.4220 CEST gradient_boosted_trees.cc:1840] \"goss_alpha\" set but \"sampling_method\" not equal to \"GOSS\".\n",
      "[WARNING 24-06-03 16:03:12.4220 CEST gradient_boosted_trees.cc:1851] \"goss_beta\" set but \"sampling_method\" not equal to \"GOSS\".\n",
      "[WARNING 24-06-03 16:03:12.4220 CEST gradient_boosted_trees.cc:1865] \"selective_gradient_boosting_ratio\" set but \"sampling_method\" not equal to \"SELGB\".\n"
     ]
    },
    {
     "name": "stdout",
     "output_type": "stream",
     "text": [
      "Training dataset read in 0:00:00.275092. Found 13209 examples.\n",
      "Training model...\n",
      "Model trained in 0:00:00.215188\n",
      "Compiling model...\n",
      "Model compiled.\n",
      "Use /var/folders/3r/pzt2_p_x2xdfl2057nxkp3nm0000gn/T/tmpslomo14d as temporary training directory\n",
      "Reading training dataset...\n"
     ]
    },
    {
     "name": "stderr",
     "output_type": "stream",
     "text": [
      "[INFO 24-06-03 16:03:12.9198 CEST kernel.cc:1233] Loading model from path /var/folders/3r/pzt2_p_x2xdfl2057nxkp3nm0000gn/T/tmpobho3l63/model/ with prefix 647d2356ab4e4943\n",
      "[INFO 24-06-03 16:03:12.9207 CEST kernel.cc:1061] Use fast generic engine\n",
      "[WARNING 24-06-03 16:03:12.9931 CEST gradient_boosted_trees.cc:1840] \"goss_alpha\" set but \"sampling_method\" not equal to \"GOSS\".\n",
      "[WARNING 24-06-03 16:03:12.9931 CEST gradient_boosted_trees.cc:1851] \"goss_beta\" set but \"sampling_method\" not equal to \"GOSS\".\n",
      "[WARNING 24-06-03 16:03:12.9931 CEST gradient_boosted_trees.cc:1865] \"selective_gradient_boosting_ratio\" set but \"sampling_method\" not equal to \"SELGB\".\n"
     ]
    },
    {
     "name": "stdout",
     "output_type": "stream",
     "text": [
      "Training dataset read in 0:00:00.281572. Found 13209 examples.\n",
      "Training model...\n",
      "Model trained in 0:00:00.246718\n",
      "Compiling model...\n",
      "Model compiled.\n",
      "Use /var/folders/3r/pzt2_p_x2xdfl2057nxkp3nm0000gn/T/tmplpjoxar8 as temporary training directory\n",
      "Reading training dataset...\n"
     ]
    },
    {
     "name": "stderr",
     "output_type": "stream",
     "text": [
      "[INFO 24-06-03 16:03:13.5289 CEST kernel.cc:1233] Loading model from path /var/folders/3r/pzt2_p_x2xdfl2057nxkp3nm0000gn/T/tmpslomo14d/model/ with prefix 8c9aaad2d23d4c7b\n",
      "[INFO 24-06-03 16:03:13.5299 CEST kernel.cc:1061] Use fast generic engine\n",
      "[WARNING 24-06-03 16:03:13.6035 CEST gradient_boosted_trees.cc:1840] \"goss_alpha\" set but \"sampling_method\" not equal to \"GOSS\".\n",
      "[WARNING 24-06-03 16:03:13.6035 CEST gradient_boosted_trees.cc:1851] \"goss_beta\" set but \"sampling_method\" not equal to \"GOSS\".\n",
      "[WARNING 24-06-03 16:03:13.6035 CEST gradient_boosted_trees.cc:1865] \"selective_gradient_boosting_ratio\" set but \"sampling_method\" not equal to \"SELGB\".\n"
     ]
    },
    {
     "name": "stdout",
     "output_type": "stream",
     "text": [
      "Training dataset read in 0:00:00.276553. Found 13209 examples.\n",
      "Training model...\n",
      "Model trained in 0:00:00.236326\n",
      "Compiling model...\n",
      "Model compiled.\n",
      "Use /var/folders/3r/pzt2_p_x2xdfl2057nxkp3nm0000gn/T/tmpvm5br2t4 as temporary training directory\n",
      "Reading training dataset...\n"
     ]
    },
    {
     "name": "stderr",
     "output_type": "stream",
     "text": [
      "[INFO 24-06-03 16:03:14.1231 CEST kernel.cc:1233] Loading model from path /var/folders/3r/pzt2_p_x2xdfl2057nxkp3nm0000gn/T/tmplpjoxar8/model/ with prefix 6c0547b0f7f945d9\n",
      "[INFO 24-06-03 16:03:14.1249 CEST abstract_model.cc:1344] Engine \"GradientBoostedTreesQuickScorerExtended\" built\n",
      "[INFO 24-06-03 16:03:14.1250 CEST kernel.cc:1061] Use fast generic engine\n",
      "[WARNING 24-06-03 16:03:14.2072 CEST gradient_boosted_trees.cc:1840] \"goss_alpha\" set but \"sampling_method\" not equal to \"GOSS\".\n",
      "[WARNING 24-06-03 16:03:14.2073 CEST gradient_boosted_trees.cc:1851] \"goss_beta\" set but \"sampling_method\" not equal to \"GOSS\".\n",
      "[WARNING 24-06-03 16:03:14.2073 CEST gradient_boosted_trees.cc:1865] \"selective_gradient_boosting_ratio\" set but \"sampling_method\" not equal to \"SELGB\".\n"
     ]
    },
    {
     "name": "stdout",
     "output_type": "stream",
     "text": [
      "Training dataset read in 0:00:00.292567. Found 13209 examples.\n",
      "Training model...\n",
      "Model trained in 0:00:00.132485\n",
      "Compiling model...\n",
      "Model compiled.\n"
     ]
    },
    {
     "name": "stderr",
     "output_type": "stream",
     "text": [
      "[INFO 24-06-03 16:03:14.6415 CEST kernel.cc:1233] Loading model from path /var/folders/3r/pzt2_p_x2xdfl2057nxkp3nm0000gn/T/tmpvm5br2t4/model/ with prefix d3b952f4a7d84740\n",
      "[INFO 24-06-03 16:03:14.6421 CEST kernel.cc:1061] Use fast generic engine\n"
     ]
    }
   ],
   "source": [
    "gbt_model.fit(X_train_scaled, y_train)"
   ],
   "metadata": {
    "collapsed": false,
    "ExecuteTime": {
     "end_time": "2024-06-03T14:03:17.170919Z",
     "start_time": "2024-06-03T14:02:21.639993Z"
    }
   },
   "id": "863d540db7ca3707"
  },
  {
   "cell_type": "code",
   "execution_count": 438,
   "outputs": [
    {
     "name": "stdout",
     "output_type": "stream",
     "text": [
      "129/129 [==============================] - 0s 523us/step\n",
      "129/129 [==============================] - 0s 530us/step\n",
      "129/129 [==============================] - 0s 540us/step\n",
      "129/129 [==============================] - 0s 588us/step\n",
      "129/129 [==============================] - 0s 561us/step\n",
      "129/129 [==============================] - 0s 532us/step\n",
      "129/129 [==============================] - 0s 532us/step\n",
      "129/129 [==============================] - 0s 534us/step\n",
      "129/129 [==============================] - 0s 517us/step\n",
      "129/129 [==============================] - 0s 531us/step\n",
      "129/129 [==============================] - 0s 523us/step\n",
      "129/129 [==============================] - 0s 543us/step\n",
      "129/129 [==============================] - 0s 536us/step\n",
      "129/129 [==============================] - 0s 535us/step\n",
      "129/129 [==============================] - 0s 1ms/step\n",
      "129/129 [==============================] - 0s 708us/step\n",
      "129/129 [==============================] - 0s 605us/step\n",
      "129/129 [==============================] - 0s 556us/step\n",
      "129/129 [==============================] - 0s 564us/step\n",
      "129/129 [==============================] - 0s 530us/step\n",
      "129/129 [==============================] - 0s 526us/step\n",
      "129/129 [==============================] - 0s 523us/step\n",
      "129/129 [==============================] - 0s 568us/step\n",
      "129/129 [==============================] - 0s 533us/step\n",
      "129/129 [==============================] - 0s 523us/step\n",
      "129/129 [==============================] - 0s 527us/step\n",
      "129/129 [==============================] - 0s 569us/step\n",
      "129/129 [==============================] - 0s 522us/step\n",
      "129/129 [==============================] - 0s 525us/step\n",
      "129/129 [==============================] - 0s 544us/step\n",
      "129/129 [==============================] - 0s 570us/step\n",
      "129/129 [==============================] - 0s 527us/step\n",
      "129/129 [==============================] - 0s 527us/step\n",
      "129/129 [==============================] - 0s 522us/step\n",
      "129/129 [==============================] - 0s 536us/step\n",
      "129/129 [==============================] - 0s 539us/step\n",
      "129/129 [==============================] - 0s 527us/step\n",
      "129/129 [==============================] - 0s 529us/step\n",
      "129/129 [==============================] - 0s 548us/step\n",
      "129/129 [==============================] - 0s 525us/step\n",
      "129/129 [==============================] - 0s 526us/step\n",
      "129/129 [==============================] - 0s 547us/step\n",
      "129/129 [==============================] - 0s 520us/step\n",
      "129/129 [==============================] - 0s 532us/step\n",
      "129/129 [==============================] - 0s 523us/step\n",
      "129/129 [==============================] - 0s 519us/step\n",
      "129/129 [==============================] - 0s 541us/step\n",
      "129/129 [==============================] - 0s 545us/step\n",
      "129/129 [==============================] - 0s 528us/step\n",
      "129/129 [==============================] - 0s 521us/step\n",
      "129/129 [==============================] - 0s 530us/step\n",
      "129/129 [==============================] - 0s 522us/step\n",
      "129/129 [==============================] - 0s 524us/step\n",
      "129/129 [==============================] - 0s 534us/step\n",
      "129/129 [==============================] - 0s 565us/step\n",
      "129/129 [==============================] - 0s 523us/step\n",
      "129/129 [==============================] - 0s 515us/step\n",
      "129/129 [==============================] - 0s 527us/step\n",
      "129/129 [==============================] - 0s 517us/step\n",
      "129/129 [==============================] - 0s 543us/step\n",
      "129/129 [==============================] - 0s 527us/step\n",
      "129/129 [==============================] - 0s 523us/step\n",
      "129/129 [==============================] - 0s 532us/step\n",
      "129/129 [==============================] - 0s 523us/step\n",
      "129/129 [==============================] - 0s 515us/step\n",
      "129/129 [==============================] - 0s 537us/step\n",
      "129/129 [==============================] - 0s 529us/step\n",
      "129/129 [==============================] - 0s 536us/step\n",
      "129/129 [==============================] - 0s 522us/step\n",
      "129/129 [==============================] - 0s 526us/step\n",
      "129/129 [==============================] - 0s 542us/step\n",
      "129/129 [==============================] - 0s 547us/step\n",
      "129/129 [==============================] - 0s 526us/step\n",
      "129/129 [==============================] - 0s 536us/step\n",
      "129/129 [==============================] - 0s 613us/step\n",
      "129/129 [==============================] - 0s 524us/step\n",
      "129/129 [==============================] - 0s 520us/step\n",
      "129/129 [==============================] - 0s 539us/step\n",
      "129/129 [==============================] - 0s 521us/step\n",
      "129/129 [==============================] - 0s 523us/step\n"
     ]
    }
   ],
   "source": [
    "mean_predict, variance_predict = gbt_model.predict_mean(X_test_scaled)"
   ],
   "metadata": {
    "collapsed": false,
    "ExecuteTime": {
     "end_time": "2024-06-03T14:03:38.408969Z",
     "start_time": "2024-06-03T14:03:28.027973Z"
    }
   },
   "id": "7f14d9cb64beec5e"
  },
  {
   "cell_type": "code",
   "execution_count": 439,
   "outputs": [],
   "source": [
    "y_test_eval = np.array(y_test).flatten()\n",
    "y_pred_eval = mean_predict.numpy().flatten()"
   ],
   "metadata": {
    "collapsed": false,
    "ExecuteTime": {
     "end_time": "2024-06-03T14:03:54.976716Z",
     "start_time": "2024-06-03T14:03:54.969762Z"
    }
   },
   "id": "f41f786fdbdef1e0"
  },
  {
   "cell_type": "code",
   "execution_count": 441,
   "outputs": [
    {
     "name": "stdout",
     "output_type": "stream",
     "text": [
      "61773.95131837605\n"
     ]
    }
   ],
   "source": [
    "root_mse = np.sqrt(mean_squared_error(y_test_eval, y_pred_eval))\n",
    "print(root_mse)"
   ],
   "metadata": {
    "collapsed": false,
    "ExecuteTime": {
     "end_time": "2024-06-03T14:04:06.426682Z",
     "start_time": "2024-06-03T14:04:06.394479Z"
    }
   },
   "id": "c9c556db95d4d615"
  },
  {
   "cell_type": "code",
   "execution_count": 488,
   "outputs": [],
   "source": [
    "indices_max = tf.where(tf.equal(variance_predict, max(variance_predict)))\n",
    "index_max_uncertainty = indices_max[0][0]\n",
    "indices_min = tf.where(tf.equal(variance_predict, min(variance_predict)))\n",
    "index_min_uncertainty = indices_min[0][0]"
   ],
   "metadata": {
    "collapsed": false,
    "ExecuteTime": {
     "end_time": "2024-06-03T15:04:47.771163Z",
     "start_time": "2024-06-03T15:04:47.135980Z"
    }
   },
   "id": "2b7aeb41766bd293"
  },
  {
   "cell_type": "code",
   "execution_count": 489,
   "outputs": [
    {
     "name": "stdout",
     "output_type": "stream",
     "text": [
      "tf.Tensor(128, shape=(), dtype=int64)\n"
     ]
    }
   ],
   "source": [
    "print(index_max_uncertainty)"
   ],
   "metadata": {
    "collapsed": false,
    "ExecuteTime": {
     "end_time": "2024-06-03T15:04:59.913612Z",
     "start_time": "2024-06-03T15:04:59.908933Z"
    }
   },
   "id": "c7a3ddc2d1d18479"
  },
  {
   "cell_type": "code",
   "execution_count": 171,
   "outputs": [
    {
     "ename": "InvalidIndexError",
     "evalue": "tf.Tensor(2886, shape=(), dtype=int64)",
     "output_type": "error",
     "traceback": [
      "\u001B[0;31m---------------------------------------------------------------------------\u001B[0m",
      "\u001B[0;31mTypeError\u001B[0m                                 Traceback (most recent call last)",
      "File \u001B[0;32m~/Library/Caches/pypoetry/virtualenvs/program-i-Fez0zm-py3.10/lib/python3.10/site-packages/pandas/core/indexes/base.py:3805\u001B[0m, in \u001B[0;36mIndex.get_loc\u001B[0;34m(self, key)\u001B[0m\n\u001B[1;32m   3804\u001B[0m \u001B[38;5;28;01mtry\u001B[39;00m:\n\u001B[0;32m-> 3805\u001B[0m     \u001B[38;5;28;01mreturn\u001B[39;00m \u001B[38;5;28;43mself\u001B[39;49m\u001B[38;5;241;43m.\u001B[39;49m\u001B[43m_engine\u001B[49m\u001B[38;5;241;43m.\u001B[39;49m\u001B[43mget_loc\u001B[49m\u001B[43m(\u001B[49m\u001B[43mcasted_key\u001B[49m\u001B[43m)\u001B[49m\n\u001B[1;32m   3806\u001B[0m \u001B[38;5;28;01mexcept\u001B[39;00m \u001B[38;5;167;01mKeyError\u001B[39;00m \u001B[38;5;28;01mas\u001B[39;00m err:\n",
      "File \u001B[0;32mindex.pyx:167\u001B[0m, in \u001B[0;36mpandas._libs.index.IndexEngine.get_loc\u001B[0;34m()\u001B[0m\n",
      "File \u001B[0;32mindex.pyx:173\u001B[0m, in \u001B[0;36mpandas._libs.index.IndexEngine.get_loc\u001B[0;34m()\u001B[0m\n",
      "\u001B[0;31mTypeError\u001B[0m: '2886' is an invalid key",
      "\nDuring handling of the above exception, another exception occurred:\n",
      "\u001B[0;31mInvalidIndexError\u001B[0m                         Traceback (most recent call last)",
      "Cell \u001B[0;32mIn[171], line 1\u001B[0m\n\u001B[0;32m----> 1\u001B[0m y_plot_m \u001B[38;5;241m=\u001B[39m [\u001B[43my_test\u001B[49m\u001B[43m[\u001B[49m\u001B[43mindex_min_uncertainty\u001B[49m\u001B[43m]\u001B[49m,y_test[index_max_uncertainty]]\n\u001B[1;32m      2\u001B[0m x_axis \u001B[38;5;241m=\u001B[39m np\u001B[38;5;241m.\u001B[39marange(\u001B[38;5;28mlen\u001B[39m(y_plot_m))\n\u001B[1;32m      3\u001B[0m y_mean_predict_m \u001B[38;5;241m=\u001B[39m [mean_predict[index_min_uncertainty], mean_predict[index_max_uncertainty]]\n",
      "File \u001B[0;32m~/Library/Caches/pypoetry/virtualenvs/program-i-Fez0zm-py3.10/lib/python3.10/site-packages/pandas/core/frame.py:4102\u001B[0m, in \u001B[0;36mDataFrame.__getitem__\u001B[0;34m(self, key)\u001B[0m\n\u001B[1;32m   4100\u001B[0m \u001B[38;5;28;01mif\u001B[39;00m \u001B[38;5;28mself\u001B[39m\u001B[38;5;241m.\u001B[39mcolumns\u001B[38;5;241m.\u001B[39mnlevels \u001B[38;5;241m>\u001B[39m \u001B[38;5;241m1\u001B[39m:\n\u001B[1;32m   4101\u001B[0m     \u001B[38;5;28;01mreturn\u001B[39;00m \u001B[38;5;28mself\u001B[39m\u001B[38;5;241m.\u001B[39m_getitem_multilevel(key)\n\u001B[0;32m-> 4102\u001B[0m indexer \u001B[38;5;241m=\u001B[39m \u001B[38;5;28;43mself\u001B[39;49m\u001B[38;5;241;43m.\u001B[39;49m\u001B[43mcolumns\u001B[49m\u001B[38;5;241;43m.\u001B[39;49m\u001B[43mget_loc\u001B[49m\u001B[43m(\u001B[49m\u001B[43mkey\u001B[49m\u001B[43m)\u001B[49m\n\u001B[1;32m   4103\u001B[0m \u001B[38;5;28;01mif\u001B[39;00m is_integer(indexer):\n\u001B[1;32m   4104\u001B[0m     indexer \u001B[38;5;241m=\u001B[39m [indexer]\n",
      "File \u001B[0;32m~/Library/Caches/pypoetry/virtualenvs/program-i-Fez0zm-py3.10/lib/python3.10/site-packages/pandas/core/indexes/base.py:3817\u001B[0m, in \u001B[0;36mIndex.get_loc\u001B[0;34m(self, key)\u001B[0m\n\u001B[1;32m   3812\u001B[0m     \u001B[38;5;28;01mraise\u001B[39;00m \u001B[38;5;167;01mKeyError\u001B[39;00m(key) \u001B[38;5;28;01mfrom\u001B[39;00m \u001B[38;5;21;01merr\u001B[39;00m\n\u001B[1;32m   3813\u001B[0m \u001B[38;5;28;01mexcept\u001B[39;00m \u001B[38;5;167;01mTypeError\u001B[39;00m:\n\u001B[1;32m   3814\u001B[0m     \u001B[38;5;66;03m# If we have a listlike key, _check_indexing_error will raise\u001B[39;00m\n\u001B[1;32m   3815\u001B[0m     \u001B[38;5;66;03m#  InvalidIndexError. Otherwise we fall through and re-raise\u001B[39;00m\n\u001B[1;32m   3816\u001B[0m     \u001B[38;5;66;03m#  the TypeError.\u001B[39;00m\n\u001B[0;32m-> 3817\u001B[0m     \u001B[38;5;28;43mself\u001B[39;49m\u001B[38;5;241;43m.\u001B[39;49m\u001B[43m_check_indexing_error\u001B[49m\u001B[43m(\u001B[49m\u001B[43mkey\u001B[49m\u001B[43m)\u001B[49m\n\u001B[1;32m   3818\u001B[0m     \u001B[38;5;28;01mraise\u001B[39;00m\n",
      "File \u001B[0;32m~/Library/Caches/pypoetry/virtualenvs/program-i-Fez0zm-py3.10/lib/python3.10/site-packages/pandas/core/indexes/base.py:6059\u001B[0m, in \u001B[0;36mIndex._check_indexing_error\u001B[0;34m(self, key)\u001B[0m\n\u001B[1;32m   6055\u001B[0m \u001B[38;5;28;01mdef\u001B[39;00m \u001B[38;5;21m_check_indexing_error\u001B[39m(\u001B[38;5;28mself\u001B[39m, key):\n\u001B[1;32m   6056\u001B[0m     \u001B[38;5;28;01mif\u001B[39;00m \u001B[38;5;129;01mnot\u001B[39;00m is_scalar(key):\n\u001B[1;32m   6057\u001B[0m         \u001B[38;5;66;03m# if key is not a scalar, directly raise an error (the code below\u001B[39;00m\n\u001B[1;32m   6058\u001B[0m         \u001B[38;5;66;03m# would convert to numpy arrays and raise later any way) - GH29926\u001B[39;00m\n\u001B[0;32m-> 6059\u001B[0m         \u001B[38;5;28;01mraise\u001B[39;00m InvalidIndexError(key)\n",
      "\u001B[0;31mInvalidIndexError\u001B[0m: tf.Tensor(2886, shape=(), dtype=int64)"
     ]
    }
   ],
   "source": [
    "y_plot_m = [y_test[index_min_uncertainty],y_test[index_max_uncertainty]]\n",
    "x_axis = np.arange(len(y_plot_m))\n",
    "y_mean_predict_m = [mean_predict[index_min_uncertainty], mean_predict[index_max_uncertainty]]\n",
    "y_std_predict_m = [variance_predict[index_min_uncertainty],variance_predict[index_max_uncertainty]]"
   ],
   "metadata": {
    "collapsed": false,
    "ExecuteTime": {
     "end_time": "2024-05-16T11:56:49.706405Z",
     "start_time": "2024-05-16T11:56:48.467410Z"
    }
   },
   "id": "21e9f72268ef6dfe"
  },
  {
   "cell_type": "code",
   "execution_count": 442,
   "outputs": [],
   "source": [
    "PLOT = 30"
   ],
   "metadata": {
    "collapsed": false,
    "ExecuteTime": {
     "end_time": "2024-06-03T14:04:18.060939Z",
     "start_time": "2024-06-03T14:04:18.055793Z"
    }
   },
   "id": "25a6a9d6cbbb6090"
  },
  {
   "cell_type": "code",
   "execution_count": 443,
   "outputs": [],
   "source": [
    "y_plot = y_test[:PLOT]\n",
    "x_axis = np.arange(len(y_plot))\n",
    "y_mean_predict = mean_predict[:PLOT].numpy()\n",
    "y_var_predict = variance_predict[:PLOT].numpy()"
   ],
   "metadata": {
    "collapsed": false,
    "ExecuteTime": {
     "end_time": "2024-06-03T14:04:18.580464Z",
     "start_time": "2024-06-03T14:04:18.575098Z"
    }
   },
   "id": "74fd541fd36ec6aa"
  },
  {
   "cell_type": "code",
   "execution_count": 444,
   "outputs": [
    {
     "data": {
      "text/plain": "<Figure size 800x600 with 1 Axes>",
      "image/png": "[encoded data removed]"
     },
     "metadata": {},
     "output_type": "display_data"
    }
   ],
   "source": [
    "plt.figure(figsize=(8, 6))\n",
    "plt.xlim(-1,PLOT)\n",
    "plt.scatter(x_axis, y_plot, color='lightblue', label=\"Ground Truth\")\n",
    "plt.scatter(x_axis, y_mean_predict.flatten(), color='pink', alpha=0.8, label='Mean Prediction')\n",
    "plt.errorbar(x_axis, y_mean_predict.flatten(), yerr=root_mse, fmt='none', ecolor='pink', label=\"Root MSE\")\n",
    "plt.errorbar(x_axis, y_mean_predict.flatten(), yerr=y_var_predict.flatten(), fmt='none', color='darkred', alpha=0.8, label=\"Uncertainty\")\n",
    "plt.ylabel('prices')\n",
    "plt.legend()\n",
    "plt.grid(True)  # Enable grid for better visualization\n",
    "plt.show()"
   ],
   "metadata": {
    "collapsed": false,
    "ExecuteTime": {
     "end_time": "2024-06-03T14:04:19.333081Z",
     "start_time": "2024-06-03T14:04:19.227206Z"
    }
   },
   "id": "2b6be11b4c924954"
  },
  {
   "cell_type": "code",
   "execution_count": 445,
   "outputs": [],
   "source": [
    "# find the data points with the largest and smallest difference"
   ],
   "metadata": {
    "collapsed": false,
    "ExecuteTime": {
     "end_time": "2024-06-03T14:04:25.629564Z",
     "start_time": "2024-06-03T14:04:25.618554Z"
    }
   },
   "id": "8c2ef3ff296154aa"
  },
  {
   "cell_type": "code",
   "execution_count": 490,
   "outputs": [
    {
     "name": "stdout",
     "output_type": "stream",
     "text": [
      "     Median_House_Value\n",
      "128            500001.0\n"
     ]
    }
   ],
   "source": [
    "print(y_test.loc[[128]])"
   ],
   "metadata": {
    "collapsed": false,
    "ExecuteTime": {
     "end_time": "2024-06-03T15:05:46.623783Z",
     "start_time": "2024-06-03T15:05:46.613888Z"
    }
   },
   "id": "79a34fc3453ae2d3"
  },
  {
   "cell_type": "code",
   "execution_count": 491,
   "outputs": [
    {
     "name": "stdout",
     "output_type": "stream",
     "text": [
      " 41/157 [======>.......................] - ETA: 0s"
     ]
    },
    {
     "name": "stderr",
     "output_type": "stream",
     "text": [
      "/Users/ygao/Library/Caches/pypoetry/virtualenvs/program-i-Fez0zm-py3.10/lib/python3.10/site-packages/lime/discretize.py:110: FutureWarning: Series.__getitem__ treating keys as positions is deprecated. In a future version, integer keys will always be treated as labels (consistent with DataFrame behavior). To access a value by position, use `ser.iloc[pos]`\n",
      "  ret[feature] = int(self.lambdas[feature](ret[feature]))\n",
      "/Users/ygao/Library/Caches/pypoetry/virtualenvs/program-i-Fez0zm-py3.10/lib/python3.10/site-packages/lime/discretize.py:110: FutureWarning: Series.__setitem__ treating keys as positions is deprecated. In a future version, integer keys will always be treated as labels (consistent with DataFrame behavior). To set a value by position, use `ser.iloc[pos] = value`\n",
      "  ret[feature] = int(self.lambdas[feature](ret[feature]))\n",
      "/Users/ygao/Library/Caches/pypoetry/virtualenvs/program-i-Fez0zm-py3.10/lib/python3.10/site-packages/lime/lime_tabular.py:544: FutureWarning: Series.__getitem__ treating keys as positions is deprecated. In a future version, integer keys will always be treated as labels (consistent with DataFrame behavior). To access a value by position, use `ser.iloc[pos]`\n",
      "  binary_column = (inverse_column == first_row[column]).astype(int)\n"
     ]
    },
    {
     "name": "stdout",
     "output_type": "stream",
     "text": [
      "157/157 [==============================] - 0s 1ms/step\n",
      "  1/157 [..............................] - ETA: 14s"
     ]
    },
    {
     "name": "stderr",
     "output_type": "stream",
     "text": [
      "/Users/ygao/Library/Caches/pypoetry/virtualenvs/program-i-Fez0zm-py3.10/lib/python3.10/site-packages/lime/discretize.py:110: FutureWarning: Series.__getitem__ treating keys as positions is deprecated. In a future version, integer keys will always be treated as labels (consistent with DataFrame behavior). To access a value by position, use `ser.iloc[pos]`\n",
      "  ret[feature] = int(self.lambdas[feature](ret[feature]))\n",
      "/Users/ygao/Library/Caches/pypoetry/virtualenvs/program-i-Fez0zm-py3.10/lib/python3.10/site-packages/lime/discretize.py:110: FutureWarning: Series.__setitem__ treating keys as positions is deprecated. In a future version, integer keys will always be treated as labels (consistent with DataFrame behavior). To set a value by position, use `ser.iloc[pos] = value`\n",
      "  ret[feature] = int(self.lambdas[feature](ret[feature]))\n",
      "/Users/ygao/Library/Caches/pypoetry/virtualenvs/program-i-Fez0zm-py3.10/lib/python3.10/site-packages/lime/lime_tabular.py:427: FutureWarning: Series.__getitem__ treating keys as positions is deprecated. In a future version, integer keys will always be treated as labels (consistent with DataFrame behavior). To access a value by position, use `ser.iloc[pos]`\n",
      "  discretized_instance[f])]\n",
      "/Users/ygao/Library/Caches/pypoetry/virtualenvs/program-i-Fez0zm-py3.10/lib/python3.10/site-packages/lime/discretize.py:110: FutureWarning: Series.__getitem__ treating keys as positions is deprecated. In a future version, integer keys will always be treated as labels (consistent with DataFrame behavior). To access a value by position, use `ser.iloc[pos]`\n",
      "  ret[feature] = int(self.lambdas[feature](ret[feature]))\n",
      "/Users/ygao/Library/Caches/pypoetry/virtualenvs/program-i-Fez0zm-py3.10/lib/python3.10/site-packages/lime/discretize.py:110: FutureWarning: Series.__setitem__ treating keys as positions is deprecated. In a future version, integer keys will always be treated as labels (consistent with DataFrame behavior). To set a value by position, use `ser.iloc[pos] = value`\n",
      "  ret[feature] = int(self.lambdas[feature](ret[feature]))\n",
      "/Users/ygao/Library/Caches/pypoetry/virtualenvs/program-i-Fez0zm-py3.10/lib/python3.10/site-packages/lime/lime_tabular.py:544: FutureWarning: Series.__getitem__ treating keys as positions is deprecated. In a future version, integer keys will always be treated as labels (consistent with DataFrame behavior). To access a value by position, use `ser.iloc[pos]`\n",
      "  binary_column = (inverse_column == first_row[column]).astype(int)\n"
     ]
    },
    {
     "name": "stdout",
     "output_type": "stream",
     "text": [
      "157/157 [==============================] - 0s 1ms/step\n",
      " 41/157 [======>.......................] - ETA: 0s"
     ]
    },
    {
     "name": "stderr",
     "output_type": "stream",
     "text": [
      "/Users/ygao/Library/Caches/pypoetry/virtualenvs/program-i-Fez0zm-py3.10/lib/python3.10/site-packages/lime/discretize.py:110: FutureWarning: Series.__getitem__ treating keys as positions is deprecated. In a future version, integer keys will always be treated as labels (consistent with DataFrame behavior). To access a value by position, use `ser.iloc[pos]`\n",
      "  ret[feature] = int(self.lambdas[feature](ret[feature]))\n",
      "/Users/ygao/Library/Caches/pypoetry/virtualenvs/program-i-Fez0zm-py3.10/lib/python3.10/site-packages/lime/discretize.py:110: FutureWarning: Series.__setitem__ treating keys as positions is deprecated. In a future version, integer keys will always be treated as labels (consistent with DataFrame behavior). To set a value by position, use `ser.iloc[pos] = value`\n",
      "  ret[feature] = int(self.lambdas[feature](ret[feature]))\n",
      "/Users/ygao/Library/Caches/pypoetry/virtualenvs/program-i-Fez0zm-py3.10/lib/python3.10/site-packages/lime/lime_tabular.py:427: FutureWarning: Series.__getitem__ treating keys as positions is deprecated. In a future version, integer keys will always be treated as labels (consistent with DataFrame behavior). To access a value by position, use `ser.iloc[pos]`\n",
      "  discretized_instance[f])]\n",
      "/Users/ygao/Library/Caches/pypoetry/virtualenvs/program-i-Fez0zm-py3.10/lib/python3.10/site-packages/lime/discretize.py:110: FutureWarning: Series.__getitem__ treating keys as positions is deprecated. In a future version, integer keys will always be treated as labels (consistent with DataFrame behavior). To access a value by position, use `ser.iloc[pos]`\n",
      "  ret[feature] = int(self.lambdas[feature](ret[feature]))\n",
      "/Users/ygao/Library/Caches/pypoetry/virtualenvs/program-i-Fez0zm-py3.10/lib/python3.10/site-packages/lime/discretize.py:110: FutureWarning: Series.__setitem__ treating keys as positions is deprecated. In a future version, integer keys will always be treated as labels (consistent with DataFrame behavior). To set a value by position, use `ser.iloc[pos] = value`\n",
      "  ret[feature] = int(self.lambdas[feature](ret[feature]))\n",
      "/Users/ygao/Library/Caches/pypoetry/virtualenvs/program-i-Fez0zm-py3.10/lib/python3.10/site-packages/lime/lime_tabular.py:544: FutureWarning: Series.__getitem__ treating keys as positions is deprecated. In a future version, integer keys will always be treated as labels (consistent with DataFrame behavior). To access a value by position, use `ser.iloc[pos]`\n",
      "  binary_column = (inverse_column == first_row[column]).astype(int)\n"
     ]
    },
    {
     "name": "stdout",
     "output_type": "stream",
     "text": [
      "157/157 [==============================] - 0s 1ms/step\n",
      " 36/157 [=====>........................] - ETA: 0s"
     ]
    },
    {
     "name": "stderr",
     "output_type": "stream",
     "text": [
      "/Users/ygao/Library/Caches/pypoetry/virtualenvs/program-i-Fez0zm-py3.10/lib/python3.10/site-packages/lime/discretize.py:110: FutureWarning: Series.__getitem__ treating keys as positions is deprecated. In a future version, integer keys will always be treated as labels (consistent with DataFrame behavior). To access a value by position, use `ser.iloc[pos]`\n",
      "  ret[feature] = int(self.lambdas[feature](ret[feature]))\n",
      "/Users/ygao/Library/Caches/pypoetry/virtualenvs/program-i-Fez0zm-py3.10/lib/python3.10/site-packages/lime/discretize.py:110: FutureWarning: Series.__setitem__ treating keys as positions is deprecated. In a future version, integer keys will always be treated as labels (consistent with DataFrame behavior). To set a value by position, use `ser.iloc[pos] = value`\n",
      "  ret[feature] = int(self.lambdas[feature](ret[feature]))\n",
      "/Users/ygao/Library/Caches/pypoetry/virtualenvs/program-i-Fez0zm-py3.10/lib/python3.10/site-packages/lime/lime_tabular.py:427: FutureWarning: Series.__getitem__ treating keys as positions is deprecated. In a future version, integer keys will always be treated as labels (consistent with DataFrame behavior). To access a value by position, use `ser.iloc[pos]`\n",
      "  discretized_instance[f])]\n",
      "/Users/ygao/Library/Caches/pypoetry/virtualenvs/program-i-Fez0zm-py3.10/lib/python3.10/site-packages/lime/discretize.py:110: FutureWarning: Series.__getitem__ treating keys as positions is deprecated. In a future version, integer keys will always be treated as labels (consistent with DataFrame behavior). To access a value by position, use `ser.iloc[pos]`\n",
      "  ret[feature] = int(self.lambdas[feature](ret[feature]))\n",
      "/Users/ygao/Library/Caches/pypoetry/virtualenvs/program-i-Fez0zm-py3.10/lib/python3.10/site-packages/lime/discretize.py:110: FutureWarning: Series.__setitem__ treating keys as positions is deprecated. In a future version, integer keys will always be treated as labels (consistent with DataFrame behavior). To set a value by position, use `ser.iloc[pos] = value`\n",
      "  ret[feature] = int(self.lambdas[feature](ret[feature]))\n",
      "/Users/ygao/Library/Caches/pypoetry/virtualenvs/program-i-Fez0zm-py3.10/lib/python3.10/site-packages/lime/lime_tabular.py:544: FutureWarning: Series.__getitem__ treating keys as positions is deprecated. In a future version, integer keys will always be treated as labels (consistent with DataFrame behavior). To access a value by position, use `ser.iloc[pos]`\n",
      "  binary_column = (inverse_column == first_row[column]).astype(int)\n"
     ]
    },
    {
     "name": "stdout",
     "output_type": "stream",
     "text": [
      "157/157 [==============================] - 0s 1ms/step\n",
      " 44/157 [=======>......................] - ETA: 0s"
     ]
    },
    {
     "name": "stderr",
     "output_type": "stream",
     "text": [
      "/Users/ygao/Library/Caches/pypoetry/virtualenvs/program-i-Fez0zm-py3.10/lib/python3.10/site-packages/lime/discretize.py:110: FutureWarning: Series.__getitem__ treating keys as positions is deprecated. In a future version, integer keys will always be treated as labels (consistent with DataFrame behavior). To access a value by position, use `ser.iloc[pos]`\n",
      "  ret[feature] = int(self.lambdas[feature](ret[feature]))\n",
      "/Users/ygao/Library/Caches/pypoetry/virtualenvs/program-i-Fez0zm-py3.10/lib/python3.10/site-packages/lime/discretize.py:110: FutureWarning: Series.__setitem__ treating keys as positions is deprecated. In a future version, integer keys will always be treated as labels (consistent with DataFrame behavior). To set a value by position, use `ser.iloc[pos] = value`\n",
      "  ret[feature] = int(self.lambdas[feature](ret[feature]))\n",
      "/Users/ygao/Library/Caches/pypoetry/virtualenvs/program-i-Fez0zm-py3.10/lib/python3.10/site-packages/lime/lime_tabular.py:427: FutureWarning: Series.__getitem__ treating keys as positions is deprecated. In a future version, integer keys will always be treated as labels (consistent with DataFrame behavior). To access a value by position, use `ser.iloc[pos]`\n",
      "  discretized_instance[f])]\n",
      "/Users/ygao/Library/Caches/pypoetry/virtualenvs/program-i-Fez0zm-py3.10/lib/python3.10/site-packages/lime/discretize.py:110: FutureWarning: Series.__getitem__ treating keys as positions is deprecated. In a future version, integer keys will always be treated as labels (consistent with DataFrame behavior). To access a value by position, use `ser.iloc[pos]`\n",
      "  ret[feature] = int(self.lambdas[feature](ret[feature]))\n",
      "/Users/ygao/Library/Caches/pypoetry/virtualenvs/program-i-Fez0zm-py3.10/lib/python3.10/site-packages/lime/discretize.py:110: FutureWarning: Series.__setitem__ treating keys as positions is deprecated. In a future version, integer keys will always be treated as labels (consistent with DataFrame behavior). To set a value by position, use `ser.iloc[pos] = value`\n",
      "  ret[feature] = int(self.lambdas[feature](ret[feature]))\n",
      "/Users/ygao/Library/Caches/pypoetry/virtualenvs/program-i-Fez0zm-py3.10/lib/python3.10/site-packages/lime/lime_tabular.py:544: FutureWarning: Series.__getitem__ treating keys as positions is deprecated. In a future version, integer keys will always be treated as labels (consistent with DataFrame behavior). To access a value by position, use `ser.iloc[pos]`\n",
      "  binary_column = (inverse_column == first_row[column]).astype(int)\n"
     ]
    },
    {
     "name": "stdout",
     "output_type": "stream",
     "text": [
      "157/157 [==============================] - 0s 1ms/step\n",
      " 75/157 [=============>................] - ETA: 0s"
     ]
    },
    {
     "name": "stderr",
     "output_type": "stream",
     "text": [
      "/Users/ygao/Library/Caches/pypoetry/virtualenvs/program-i-Fez0zm-py3.10/lib/python3.10/site-packages/lime/discretize.py:110: FutureWarning: Series.__getitem__ treating keys as positions is deprecated. In a future version, integer keys will always be treated as labels (consistent with DataFrame behavior). To access a value by position, use `ser.iloc[pos]`\n",
      "  ret[feature] = int(self.lambdas[feature](ret[feature]))\n",
      "/Users/ygao/Library/Caches/pypoetry/virtualenvs/program-i-Fez0zm-py3.10/lib/python3.10/site-packages/lime/discretize.py:110: FutureWarning: Series.__setitem__ treating keys as positions is deprecated. In a future version, integer keys will always be treated as labels (consistent with DataFrame behavior). To set a value by position, use `ser.iloc[pos] = value`\n",
      "  ret[feature] = int(self.lambdas[feature](ret[feature]))\n",
      "/Users/ygao/Library/Caches/pypoetry/virtualenvs/program-i-Fez0zm-py3.10/lib/python3.10/site-packages/lime/lime_tabular.py:427: FutureWarning: Series.__getitem__ treating keys as positions is deprecated. In a future version, integer keys will always be treated as labels (consistent with DataFrame behavior). To access a value by position, use `ser.iloc[pos]`\n",
      "  discretized_instance[f])]\n",
      "/Users/ygao/Library/Caches/pypoetry/virtualenvs/program-i-Fez0zm-py3.10/lib/python3.10/site-packages/lime/discretize.py:110: FutureWarning: Series.__getitem__ treating keys as positions is deprecated. In a future version, integer keys will always be treated as labels (consistent with DataFrame behavior). To access a value by position, use `ser.iloc[pos]`\n",
      "  ret[feature] = int(self.lambdas[feature](ret[feature]))\n",
      "/Users/ygao/Library/Caches/pypoetry/virtualenvs/program-i-Fez0zm-py3.10/lib/python3.10/site-packages/lime/discretize.py:110: FutureWarning: Series.__setitem__ treating keys as positions is deprecated. In a future version, integer keys will always be treated as labels (consistent with DataFrame behavior). To set a value by position, use `ser.iloc[pos] = value`\n",
      "  ret[feature] = int(self.lambdas[feature](ret[feature]))\n",
      "/Users/ygao/Library/Caches/pypoetry/virtualenvs/program-i-Fez0zm-py3.10/lib/python3.10/site-packages/lime/lime_tabular.py:544: FutureWarning: Series.__getitem__ treating keys as positions is deprecated. In a future version, integer keys will always be treated as labels (consistent with DataFrame behavior). To access a value by position, use `ser.iloc[pos]`\n",
      "  binary_column = (inverse_column == first_row[column]).astype(int)\n"
     ]
    },
    {
     "name": "stdout",
     "output_type": "stream",
     "text": [
      "157/157 [==============================] - 0s 1ms/step\n",
      " 76/157 [=============>................] - ETA: 0s"
     ]
    },
    {
     "name": "stderr",
     "output_type": "stream",
     "text": [
      "/Users/ygao/Library/Caches/pypoetry/virtualenvs/program-i-Fez0zm-py3.10/lib/python3.10/site-packages/lime/discretize.py:110: FutureWarning: Series.__getitem__ treating keys as positions is deprecated. In a future version, integer keys will always be treated as labels (consistent with DataFrame behavior). To access a value by position, use `ser.iloc[pos]`\n",
      "  ret[feature] = int(self.lambdas[feature](ret[feature]))\n",
      "/Users/ygao/Library/Caches/pypoetry/virtualenvs/program-i-Fez0zm-py3.10/lib/python3.10/site-packages/lime/discretize.py:110: FutureWarning: Series.__setitem__ treating keys as positions is deprecated. In a future version, integer keys will always be treated as labels (consistent with DataFrame behavior). To set a value by position, use `ser.iloc[pos] = value`\n",
      "  ret[feature] = int(self.lambdas[feature](ret[feature]))\n",
      "/Users/ygao/Library/Caches/pypoetry/virtualenvs/program-i-Fez0zm-py3.10/lib/python3.10/site-packages/lime/lime_tabular.py:427: FutureWarning: Series.__getitem__ treating keys as positions is deprecated. In a future version, integer keys will always be treated as labels (consistent with DataFrame behavior). To access a value by position, use `ser.iloc[pos]`\n",
      "  discretized_instance[f])]\n",
      "/Users/ygao/Library/Caches/pypoetry/virtualenvs/program-i-Fez0zm-py3.10/lib/python3.10/site-packages/lime/discretize.py:110: FutureWarning: Series.__getitem__ treating keys as positions is deprecated. In a future version, integer keys will always be treated as labels (consistent with DataFrame behavior). To access a value by position, use `ser.iloc[pos]`\n",
      "  ret[feature] = int(self.lambdas[feature](ret[feature]))\n",
      "/Users/ygao/Library/Caches/pypoetry/virtualenvs/program-i-Fez0zm-py3.10/lib/python3.10/site-packages/lime/discretize.py:110: FutureWarning: Series.__setitem__ treating keys as positions is deprecated. In a future version, integer keys will always be treated as labels (consistent with DataFrame behavior). To set a value by position, use `ser.iloc[pos] = value`\n",
      "  ret[feature] = int(self.lambdas[feature](ret[feature]))\n",
      "/Users/ygao/Library/Caches/pypoetry/virtualenvs/program-i-Fez0zm-py3.10/lib/python3.10/site-packages/lime/lime_tabular.py:544: FutureWarning: Series.__getitem__ treating keys as positions is deprecated. In a future version, integer keys will always be treated as labels (consistent with DataFrame behavior). To access a value by position, use `ser.iloc[pos]`\n",
      "  binary_column = (inverse_column == first_row[column]).astype(int)\n"
     ]
    },
    {
     "name": "stdout",
     "output_type": "stream",
     "text": [
      "157/157 [==============================] - 0s 1ms/step\n",
      " 70/157 [============>.................] - ETA: 0s"
     ]
    },
    {
     "name": "stderr",
     "output_type": "stream",
     "text": [
      "/Users/ygao/Library/Caches/pypoetry/virtualenvs/program-i-Fez0zm-py3.10/lib/python3.10/site-packages/lime/discretize.py:110: FutureWarning: Series.__getitem__ treating keys as positions is deprecated. In a future version, integer keys will always be treated as labels (consistent with DataFrame behavior). To access a value by position, use `ser.iloc[pos]`\n",
      "  ret[feature] = int(self.lambdas[feature](ret[feature]))\n",
      "/Users/ygao/Library/Caches/pypoetry/virtualenvs/program-i-Fez0zm-py3.10/lib/python3.10/site-packages/lime/discretize.py:110: FutureWarning: Series.__setitem__ treating keys as positions is deprecated. In a future version, integer keys will always be treated as labels (consistent with DataFrame behavior). To set a value by position, use `ser.iloc[pos] = value`\n",
      "  ret[feature] = int(self.lambdas[feature](ret[feature]))\n",
      "/Users/ygao/Library/Caches/pypoetry/virtualenvs/program-i-Fez0zm-py3.10/lib/python3.10/site-packages/lime/lime_tabular.py:427: FutureWarning: Series.__getitem__ treating keys as positions is deprecated. In a future version, integer keys will always be treated as labels (consistent with DataFrame behavior). To access a value by position, use `ser.iloc[pos]`\n",
      "  discretized_instance[f])]\n",
      "/Users/ygao/Library/Caches/pypoetry/virtualenvs/program-i-Fez0zm-py3.10/lib/python3.10/site-packages/lime/discretize.py:110: FutureWarning: Series.__getitem__ treating keys as positions is deprecated. In a future version, integer keys will always be treated as labels (consistent with DataFrame behavior). To access a value by position, use `ser.iloc[pos]`\n",
      "  ret[feature] = int(self.lambdas[feature](ret[feature]))\n",
      "/Users/ygao/Library/Caches/pypoetry/virtualenvs/program-i-Fez0zm-py3.10/lib/python3.10/site-packages/lime/discretize.py:110: FutureWarning: Series.__setitem__ treating keys as positions is deprecated. In a future version, integer keys will always be treated as labels (consistent with DataFrame behavior). To set a value by position, use `ser.iloc[pos] = value`\n",
      "  ret[feature] = int(self.lambdas[feature](ret[feature]))\n",
      "/Users/ygao/Library/Caches/pypoetry/virtualenvs/program-i-Fez0zm-py3.10/lib/python3.10/site-packages/lime/lime_tabular.py:544: FutureWarning: Series.__getitem__ treating keys as positions is deprecated. In a future version, integer keys will always be treated as labels (consistent with DataFrame behavior). To access a value by position, use `ser.iloc[pos]`\n",
      "  binary_column = (inverse_column == first_row[column]).astype(int)\n"
     ]
    },
    {
     "name": "stdout",
     "output_type": "stream",
     "text": [
      "157/157 [==============================] - 0s 1ms/step\n",
      " 69/157 [============>.................] - ETA: 0s"
     ]
    },
    {
     "name": "stderr",
     "output_type": "stream",
     "text": [
      "/Users/ygao/Library/Caches/pypoetry/virtualenvs/program-i-Fez0zm-py3.10/lib/python3.10/site-packages/lime/discretize.py:110: FutureWarning: Series.__getitem__ treating keys as positions is deprecated. In a future version, integer keys will always be treated as labels (consistent with DataFrame behavior). To access a value by position, use `ser.iloc[pos]`\n",
      "  ret[feature] = int(self.lambdas[feature](ret[feature]))\n",
      "/Users/ygao/Library/Caches/pypoetry/virtualenvs/program-i-Fez0zm-py3.10/lib/python3.10/site-packages/lime/discretize.py:110: FutureWarning: Series.__setitem__ treating keys as positions is deprecated. In a future version, integer keys will always be treated as labels (consistent with DataFrame behavior). To set a value by position, use `ser.iloc[pos] = value`\n",
      "  ret[feature] = int(self.lambdas[feature](ret[feature]))\n",
      "/Users/ygao/Library/Caches/pypoetry/virtualenvs/program-i-Fez0zm-py3.10/lib/python3.10/site-packages/lime/lime_tabular.py:427: FutureWarning: Series.__getitem__ treating keys as positions is deprecated. In a future version, integer keys will always be treated as labels (consistent with DataFrame behavior). To access a value by position, use `ser.iloc[pos]`\n",
      "  discretized_instance[f])]\n",
      "/Users/ygao/Library/Caches/pypoetry/virtualenvs/program-i-Fez0zm-py3.10/lib/python3.10/site-packages/lime/discretize.py:110: FutureWarning: Series.__getitem__ treating keys as positions is deprecated. In a future version, integer keys will always be treated as labels (consistent with DataFrame behavior). To access a value by position, use `ser.iloc[pos]`\n",
      "  ret[feature] = int(self.lambdas[feature](ret[feature]))\n",
      "/Users/ygao/Library/Caches/pypoetry/virtualenvs/program-i-Fez0zm-py3.10/lib/python3.10/site-packages/lime/discretize.py:110: FutureWarning: Series.__setitem__ treating keys as positions is deprecated. In a future version, integer keys will always be treated as labels (consistent with DataFrame behavior). To set a value by position, use `ser.iloc[pos] = value`\n",
      "  ret[feature] = int(self.lambdas[feature](ret[feature]))\n",
      "/Users/ygao/Library/Caches/pypoetry/virtualenvs/program-i-Fez0zm-py3.10/lib/python3.10/site-packages/lime/lime_tabular.py:544: FutureWarning: Series.__getitem__ treating keys as positions is deprecated. In a future version, integer keys will always be treated as labels (consistent with DataFrame behavior). To access a value by position, use `ser.iloc[pos]`\n",
      "  binary_column = (inverse_column == first_row[column]).astype(int)\n"
     ]
    },
    {
     "name": "stdout",
     "output_type": "stream",
     "text": [
      "157/157 [==============================] - 0s 1ms/step\n",
      " 67/157 [===========>..................] - ETA: 0s"
     ]
    },
    {
     "name": "stderr",
     "output_type": "stream",
     "text": [
      "/Users/ygao/Library/Caches/pypoetry/virtualenvs/program-i-Fez0zm-py3.10/lib/python3.10/site-packages/lime/discretize.py:110: FutureWarning: Series.__getitem__ treating keys as positions is deprecated. In a future version, integer keys will always be treated as labels (consistent with DataFrame behavior). To access a value by position, use `ser.iloc[pos]`\n",
      "  ret[feature] = int(self.lambdas[feature](ret[feature]))\n",
      "/Users/ygao/Library/Caches/pypoetry/virtualenvs/program-i-Fez0zm-py3.10/lib/python3.10/site-packages/lime/discretize.py:110: FutureWarning: Series.__setitem__ treating keys as positions is deprecated. In a future version, integer keys will always be treated as labels (consistent with DataFrame behavior). To set a value by position, use `ser.iloc[pos] = value`\n",
      "  ret[feature] = int(self.lambdas[feature](ret[feature]))\n",
      "/Users/ygao/Library/Caches/pypoetry/virtualenvs/program-i-Fez0zm-py3.10/lib/python3.10/site-packages/lime/lime_tabular.py:427: FutureWarning: Series.__getitem__ treating keys as positions is deprecated. In a future version, integer keys will always be treated as labels (consistent with DataFrame behavior). To access a value by position, use `ser.iloc[pos]`\n",
      "  discretized_instance[f])]\n",
      "/Users/ygao/Library/Caches/pypoetry/virtualenvs/program-i-Fez0zm-py3.10/lib/python3.10/site-packages/lime/discretize.py:110: FutureWarning: Series.__getitem__ treating keys as positions is deprecated. In a future version, integer keys will always be treated as labels (consistent with DataFrame behavior). To access a value by position, use `ser.iloc[pos]`\n",
      "  ret[feature] = int(self.lambdas[feature](ret[feature]))\n",
      "/Users/ygao/Library/Caches/pypoetry/virtualenvs/program-i-Fez0zm-py3.10/lib/python3.10/site-packages/lime/discretize.py:110: FutureWarning: Series.__setitem__ treating keys as positions is deprecated. In a future version, integer keys will always be treated as labels (consistent with DataFrame behavior). To set a value by position, use `ser.iloc[pos] = value`\n",
      "  ret[feature] = int(self.lambdas[feature](ret[feature]))\n",
      "/Users/ygao/Library/Caches/pypoetry/virtualenvs/program-i-Fez0zm-py3.10/lib/python3.10/site-packages/lime/lime_tabular.py:544: FutureWarning: Series.__getitem__ treating keys as positions is deprecated. In a future version, integer keys will always be treated as labels (consistent with DataFrame behavior). To access a value by position, use `ser.iloc[pos]`\n",
      "  binary_column = (inverse_column == first_row[column]).astype(int)\n"
     ]
    },
    {
     "name": "stdout",
     "output_type": "stream",
     "text": [
      "157/157 [==============================] - 0s 1ms/step\n",
      " 63/157 [===========>..................] - ETA: 0s"
     ]
    },
    {
     "name": "stderr",
     "output_type": "stream",
     "text": [
      "/Users/ygao/Library/Caches/pypoetry/virtualenvs/program-i-Fez0zm-py3.10/lib/python3.10/site-packages/lime/discretize.py:110: FutureWarning: Series.__getitem__ treating keys as positions is deprecated. In a future version, integer keys will always be treated as labels (consistent with DataFrame behavior). To access a value by position, use `ser.iloc[pos]`\n",
      "  ret[feature] = int(self.lambdas[feature](ret[feature]))\n",
      "/Users/ygao/Library/Caches/pypoetry/virtualenvs/program-i-Fez0zm-py3.10/lib/python3.10/site-packages/lime/discretize.py:110: FutureWarning: Series.__setitem__ treating keys as positions is deprecated. In a future version, integer keys will always be treated as labels (consistent with DataFrame behavior). To set a value by position, use `ser.iloc[pos] = value`\n",
      "  ret[feature] = int(self.lambdas[feature](ret[feature]))\n",
      "/Users/ygao/Library/Caches/pypoetry/virtualenvs/program-i-Fez0zm-py3.10/lib/python3.10/site-packages/lime/lime_tabular.py:427: FutureWarning: Series.__getitem__ treating keys as positions is deprecated. In a future version, integer keys will always be treated as labels (consistent with DataFrame behavior). To access a value by position, use `ser.iloc[pos]`\n",
      "  discretized_instance[f])]\n",
      "/Users/ygao/Library/Caches/pypoetry/virtualenvs/program-i-Fez0zm-py3.10/lib/python3.10/site-packages/lime/discretize.py:110: FutureWarning: Series.__getitem__ treating keys as positions is deprecated. In a future version, integer keys will always be treated as labels (consistent with DataFrame behavior). To access a value by position, use `ser.iloc[pos]`\n",
      "  ret[feature] = int(self.lambdas[feature](ret[feature]))\n",
      "/Users/ygao/Library/Caches/pypoetry/virtualenvs/program-i-Fez0zm-py3.10/lib/python3.10/site-packages/lime/discretize.py:110: FutureWarning: Series.__setitem__ treating keys as positions is deprecated. In a future version, integer keys will always be treated as labels (consistent with DataFrame behavior). To set a value by position, use `ser.iloc[pos] = value`\n",
      "  ret[feature] = int(self.lambdas[feature](ret[feature]))\n",
      "/Users/ygao/Library/Caches/pypoetry/virtualenvs/program-i-Fez0zm-py3.10/lib/python3.10/site-packages/lime/lime_tabular.py:544: FutureWarning: Series.__getitem__ treating keys as positions is deprecated. In a future version, integer keys will always be treated as labels (consistent with DataFrame behavior). To access a value by position, use `ser.iloc[pos]`\n",
      "  binary_column = (inverse_column == first_row[column]).astype(int)\n"
     ]
    },
    {
     "name": "stdout",
     "output_type": "stream",
     "text": [
      "157/157 [==============================] - 0s 2ms/step\n",
      " 69/157 [============>.................] - ETA: 0s"
     ]
    },
    {
     "name": "stderr",
     "output_type": "stream",
     "text": [
      "/Users/ygao/Library/Caches/pypoetry/virtualenvs/program-i-Fez0zm-py3.10/lib/python3.10/site-packages/lime/discretize.py:110: FutureWarning: Series.__getitem__ treating keys as positions is deprecated. In a future version, integer keys will always be treated as labels (consistent with DataFrame behavior). To access a value by position, use `ser.iloc[pos]`\n",
      "  ret[feature] = int(self.lambdas[feature](ret[feature]))\n",
      "/Users/ygao/Library/Caches/pypoetry/virtualenvs/program-i-Fez0zm-py3.10/lib/python3.10/site-packages/lime/discretize.py:110: FutureWarning: Series.__setitem__ treating keys as positions is deprecated. In a future version, integer keys will always be treated as labels (consistent with DataFrame behavior). To set a value by position, use `ser.iloc[pos] = value`\n",
      "  ret[feature] = int(self.lambdas[feature](ret[feature]))\n",
      "/Users/ygao/Library/Caches/pypoetry/virtualenvs/program-i-Fez0zm-py3.10/lib/python3.10/site-packages/lime/lime_tabular.py:427: FutureWarning: Series.__getitem__ treating keys as positions is deprecated. In a future version, integer keys will always be treated as labels (consistent with DataFrame behavior). To access a value by position, use `ser.iloc[pos]`\n",
      "  discretized_instance[f])]\n",
      "/Users/ygao/Library/Caches/pypoetry/virtualenvs/program-i-Fez0zm-py3.10/lib/python3.10/site-packages/lime/discretize.py:110: FutureWarning: Series.__getitem__ treating keys as positions is deprecated. In a future version, integer keys will always be treated as labels (consistent with DataFrame behavior). To access a value by position, use `ser.iloc[pos]`\n",
      "  ret[feature] = int(self.lambdas[feature](ret[feature]))\n",
      "/Users/ygao/Library/Caches/pypoetry/virtualenvs/program-i-Fez0zm-py3.10/lib/python3.10/site-packages/lime/discretize.py:110: FutureWarning: Series.__setitem__ treating keys as positions is deprecated. In a future version, integer keys will always be treated as labels (consistent with DataFrame behavior). To set a value by position, use `ser.iloc[pos] = value`\n",
      "  ret[feature] = int(self.lambdas[feature](ret[feature]))\n",
      "/Users/ygao/Library/Caches/pypoetry/virtualenvs/program-i-Fez0zm-py3.10/lib/python3.10/site-packages/lime/lime_tabular.py:544: FutureWarning: Series.__getitem__ treating keys as positions is deprecated. In a future version, integer keys will always be treated as labels (consistent with DataFrame behavior). To access a value by position, use `ser.iloc[pos]`\n",
      "  binary_column = (inverse_column == first_row[column]).astype(int)\n"
     ]
    },
    {
     "name": "stdout",
     "output_type": "stream",
     "text": [
      "157/157 [==============================] - 0s 1ms/step\n",
      " 37/157 [======>.......................] - ETA: 0s"
     ]
    },
    {
     "name": "stderr",
     "output_type": "stream",
     "text": [
      "/Users/ygao/Library/Caches/pypoetry/virtualenvs/program-i-Fez0zm-py3.10/lib/python3.10/site-packages/lime/discretize.py:110: FutureWarning: Series.__getitem__ treating keys as positions is deprecated. In a future version, integer keys will always be treated as labels (consistent with DataFrame behavior). To access a value by position, use `ser.iloc[pos]`\n",
      "  ret[feature] = int(self.lambdas[feature](ret[feature]))\n",
      "/Users/ygao/Library/Caches/pypoetry/virtualenvs/program-i-Fez0zm-py3.10/lib/python3.10/site-packages/lime/discretize.py:110: FutureWarning: Series.__setitem__ treating keys as positions is deprecated. In a future version, integer keys will always be treated as labels (consistent with DataFrame behavior). To set a value by position, use `ser.iloc[pos] = value`\n",
      "  ret[feature] = int(self.lambdas[feature](ret[feature]))\n",
      "/Users/ygao/Library/Caches/pypoetry/virtualenvs/program-i-Fez0zm-py3.10/lib/python3.10/site-packages/lime/lime_tabular.py:427: FutureWarning: Series.__getitem__ treating keys as positions is deprecated. In a future version, integer keys will always be treated as labels (consistent with DataFrame behavior). To access a value by position, use `ser.iloc[pos]`\n",
      "  discretized_instance[f])]\n",
      "/Users/ygao/Library/Caches/pypoetry/virtualenvs/program-i-Fez0zm-py3.10/lib/python3.10/site-packages/lime/discretize.py:110: FutureWarning: Series.__getitem__ treating keys as positions is deprecated. In a future version, integer keys will always be treated as labels (consistent with DataFrame behavior). To access a value by position, use `ser.iloc[pos]`\n",
      "  ret[feature] = int(self.lambdas[feature](ret[feature]))\n",
      "/Users/ygao/Library/Caches/pypoetry/virtualenvs/program-i-Fez0zm-py3.10/lib/python3.10/site-packages/lime/discretize.py:110: FutureWarning: Series.__setitem__ treating keys as positions is deprecated. In a future version, integer keys will always be treated as labels (consistent with DataFrame behavior). To set a value by position, use `ser.iloc[pos] = value`\n",
      "  ret[feature] = int(self.lambdas[feature](ret[feature]))\n",
      "/Users/ygao/Library/Caches/pypoetry/virtualenvs/program-i-Fez0zm-py3.10/lib/python3.10/site-packages/lime/lime_tabular.py:544: FutureWarning: Series.__getitem__ treating keys as positions is deprecated. In a future version, integer keys will always be treated as labels (consistent with DataFrame behavior). To access a value by position, use `ser.iloc[pos]`\n",
      "  binary_column = (inverse_column == first_row[column]).astype(int)\n"
     ]
    },
    {
     "name": "stdout",
     "output_type": "stream",
     "text": [
      "157/157 [==============================] - 0s 1ms/step\n",
      " 64/157 [===========>..................] - ETA: 0s"
     ]
    },
    {
     "name": "stderr",
     "output_type": "stream",
     "text": [
      "/Users/ygao/Library/Caches/pypoetry/virtualenvs/program-i-Fez0zm-py3.10/lib/python3.10/site-packages/lime/discretize.py:110: FutureWarning: Series.__getitem__ treating keys as positions is deprecated. In a future version, integer keys will always be treated as labels (consistent with DataFrame behavior). To access a value by position, use `ser.iloc[pos]`\n",
      "  ret[feature] = int(self.lambdas[feature](ret[feature]))\n",
      "/Users/ygao/Library/Caches/pypoetry/virtualenvs/program-i-Fez0zm-py3.10/lib/python3.10/site-packages/lime/discretize.py:110: FutureWarning: Series.__setitem__ treating keys as positions is deprecated. In a future version, integer keys will always be treated as labels (consistent with DataFrame behavior). To set a value by position, use `ser.iloc[pos] = value`\n",
      "  ret[feature] = int(self.lambdas[feature](ret[feature]))\n",
      "/Users/ygao/Library/Caches/pypoetry/virtualenvs/program-i-Fez0zm-py3.10/lib/python3.10/site-packages/lime/lime_tabular.py:427: FutureWarning: Series.__getitem__ treating keys as positions is deprecated. In a future version, integer keys will always be treated as labels (consistent with DataFrame behavior). To access a value by position, use `ser.iloc[pos]`\n",
      "  discretized_instance[f])]\n",
      "/Users/ygao/Library/Caches/pypoetry/virtualenvs/program-i-Fez0zm-py3.10/lib/python3.10/site-packages/lime/discretize.py:110: FutureWarning: Series.__getitem__ treating keys as positions is deprecated. In a future version, integer keys will always be treated as labels (consistent with DataFrame behavior). To access a value by position, use `ser.iloc[pos]`\n",
      "  ret[feature] = int(self.lambdas[feature](ret[feature]))\n",
      "/Users/ygao/Library/Caches/pypoetry/virtualenvs/program-i-Fez0zm-py3.10/lib/python3.10/site-packages/lime/discretize.py:110: FutureWarning: Series.__setitem__ treating keys as positions is deprecated. In a future version, integer keys will always be treated as labels (consistent with DataFrame behavior). To set a value by position, use `ser.iloc[pos] = value`\n",
      "  ret[feature] = int(self.lambdas[feature](ret[feature]))\n",
      "/Users/ygao/Library/Caches/pypoetry/virtualenvs/program-i-Fez0zm-py3.10/lib/python3.10/site-packages/lime/lime_tabular.py:544: FutureWarning: Series.__getitem__ treating keys as positions is deprecated. In a future version, integer keys will always be treated as labels (consistent with DataFrame behavior). To access a value by position, use `ser.iloc[pos]`\n",
      "  binary_column = (inverse_column == first_row[column]).astype(int)\n"
     ]
    },
    {
     "name": "stdout",
     "output_type": "stream",
     "text": [
      "157/157 [==============================] - 0s 1ms/step\n",
      " 49/157 [========>.....................] - ETA: 0s"
     ]
    },
    {
     "name": "stderr",
     "output_type": "stream",
     "text": [
      "/Users/ygao/Library/Caches/pypoetry/virtualenvs/program-i-Fez0zm-py3.10/lib/python3.10/site-packages/lime/discretize.py:110: FutureWarning: Series.__getitem__ treating keys as positions is deprecated. In a future version, integer keys will always be treated as labels (consistent with DataFrame behavior). To access a value by position, use `ser.iloc[pos]`\n",
      "  ret[feature] = int(self.lambdas[feature](ret[feature]))\n",
      "/Users/ygao/Library/Caches/pypoetry/virtualenvs/program-i-Fez0zm-py3.10/lib/python3.10/site-packages/lime/discretize.py:110: FutureWarning: Series.__setitem__ treating keys as positions is deprecated. In a future version, integer keys will always be treated as labels (consistent with DataFrame behavior). To set a value by position, use `ser.iloc[pos] = value`\n",
      "  ret[feature] = int(self.lambdas[feature](ret[feature]))\n",
      "/Users/ygao/Library/Caches/pypoetry/virtualenvs/program-i-Fez0zm-py3.10/lib/python3.10/site-packages/lime/lime_tabular.py:427: FutureWarning: Series.__getitem__ treating keys as positions is deprecated. In a future version, integer keys will always be treated as labels (consistent with DataFrame behavior). To access a value by position, use `ser.iloc[pos]`\n",
      "  discretized_instance[f])]\n",
      "/Users/ygao/Library/Caches/pypoetry/virtualenvs/program-i-Fez0zm-py3.10/lib/python3.10/site-packages/lime/discretize.py:110: FutureWarning: Series.__getitem__ treating keys as positions is deprecated. In a future version, integer keys will always be treated as labels (consistent with DataFrame behavior). To access a value by position, use `ser.iloc[pos]`\n",
      "  ret[feature] = int(self.lambdas[feature](ret[feature]))\n",
      "/Users/ygao/Library/Caches/pypoetry/virtualenvs/program-i-Fez0zm-py3.10/lib/python3.10/site-packages/lime/discretize.py:110: FutureWarning: Series.__setitem__ treating keys as positions is deprecated. In a future version, integer keys will always be treated as labels (consistent with DataFrame behavior). To set a value by position, use `ser.iloc[pos] = value`\n",
      "  ret[feature] = int(self.lambdas[feature](ret[feature]))\n",
      "/Users/ygao/Library/Caches/pypoetry/virtualenvs/program-i-Fez0zm-py3.10/lib/python3.10/site-packages/lime/lime_tabular.py:544: FutureWarning: Series.__getitem__ treating keys as positions is deprecated. In a future version, integer keys will always be treated as labels (consistent with DataFrame behavior). To access a value by position, use `ser.iloc[pos]`\n",
      "  binary_column = (inverse_column == first_row[column]).astype(int)\n"
     ]
    },
    {
     "name": "stdout",
     "output_type": "stream",
     "text": [
      "157/157 [==============================] - 0s 1ms/step\n",
      " 39/157 [======>.......................] - ETA: 0s"
     ]
    },
    {
     "name": "stderr",
     "output_type": "stream",
     "text": [
      "/Users/ygao/Library/Caches/pypoetry/virtualenvs/program-i-Fez0zm-py3.10/lib/python3.10/site-packages/lime/discretize.py:110: FutureWarning: Series.__getitem__ treating keys as positions is deprecated. In a future version, integer keys will always be treated as labels (consistent with DataFrame behavior). To access a value by position, use `ser.iloc[pos]`\n",
      "  ret[feature] = int(self.lambdas[feature](ret[feature]))\n",
      "/Users/ygao/Library/Caches/pypoetry/virtualenvs/program-i-Fez0zm-py3.10/lib/python3.10/site-packages/lime/discretize.py:110: FutureWarning: Series.__setitem__ treating keys as positions is deprecated. In a future version, integer keys will always be treated as labels (consistent with DataFrame behavior). To set a value by position, use `ser.iloc[pos] = value`\n",
      "  ret[feature] = int(self.lambdas[feature](ret[feature]))\n",
      "/Users/ygao/Library/Caches/pypoetry/virtualenvs/program-i-Fez0zm-py3.10/lib/python3.10/site-packages/lime/lime_tabular.py:427: FutureWarning: Series.__getitem__ treating keys as positions is deprecated. In a future version, integer keys will always be treated as labels (consistent with DataFrame behavior). To access a value by position, use `ser.iloc[pos]`\n",
      "  discretized_instance[f])]\n",
      "/Users/ygao/Library/Caches/pypoetry/virtualenvs/program-i-Fez0zm-py3.10/lib/python3.10/site-packages/lime/discretize.py:110: FutureWarning: Series.__getitem__ treating keys as positions is deprecated. In a future version, integer keys will always be treated as labels (consistent with DataFrame behavior). To access a value by position, use `ser.iloc[pos]`\n",
      "  ret[feature] = int(self.lambdas[feature](ret[feature]))\n",
      "/Users/ygao/Library/Caches/pypoetry/virtualenvs/program-i-Fez0zm-py3.10/lib/python3.10/site-packages/lime/discretize.py:110: FutureWarning: Series.__setitem__ treating keys as positions is deprecated. In a future version, integer keys will always be treated as labels (consistent with DataFrame behavior). To set a value by position, use `ser.iloc[pos] = value`\n",
      "  ret[feature] = int(self.lambdas[feature](ret[feature]))\n",
      "/Users/ygao/Library/Caches/pypoetry/virtualenvs/program-i-Fez0zm-py3.10/lib/python3.10/site-packages/lime/lime_tabular.py:544: FutureWarning: Series.__getitem__ treating keys as positions is deprecated. In a future version, integer keys will always be treated as labels (consistent with DataFrame behavior). To access a value by position, use `ser.iloc[pos]`\n",
      "  binary_column = (inverse_column == first_row[column]).astype(int)\n"
     ]
    },
    {
     "name": "stdout",
     "output_type": "stream",
     "text": [
      "157/157 [==============================] - 0s 1ms/step\n",
      " 33/157 [=====>........................] - ETA: 0s"
     ]
    },
    {
     "name": "stderr",
     "output_type": "stream",
     "text": [
      "/Users/ygao/Library/Caches/pypoetry/virtualenvs/program-i-Fez0zm-py3.10/lib/python3.10/site-packages/lime/discretize.py:110: FutureWarning: Series.__getitem__ treating keys as positions is deprecated. In a future version, integer keys will always be treated as labels (consistent with DataFrame behavior). To access a value by position, use `ser.iloc[pos]`\n",
      "  ret[feature] = int(self.lambdas[feature](ret[feature]))\n",
      "/Users/ygao/Library/Caches/pypoetry/virtualenvs/program-i-Fez0zm-py3.10/lib/python3.10/site-packages/lime/discretize.py:110: FutureWarning: Series.__setitem__ treating keys as positions is deprecated. In a future version, integer keys will always be treated as labels (consistent with DataFrame behavior). To set a value by position, use `ser.iloc[pos] = value`\n",
      "  ret[feature] = int(self.lambdas[feature](ret[feature]))\n",
      "/Users/ygao/Library/Caches/pypoetry/virtualenvs/program-i-Fez0zm-py3.10/lib/python3.10/site-packages/lime/lime_tabular.py:427: FutureWarning: Series.__getitem__ treating keys as positions is deprecated. In a future version, integer keys will always be treated as labels (consistent with DataFrame behavior). To access a value by position, use `ser.iloc[pos]`\n",
      "  discretized_instance[f])]\n",
      "/Users/ygao/Library/Caches/pypoetry/virtualenvs/program-i-Fez0zm-py3.10/lib/python3.10/site-packages/lime/discretize.py:110: FutureWarning: Series.__getitem__ treating keys as positions is deprecated. In a future version, integer keys will always be treated as labels (consistent with DataFrame behavior). To access a value by position, use `ser.iloc[pos]`\n",
      "  ret[feature] = int(self.lambdas[feature](ret[feature]))\n",
      "/Users/ygao/Library/Caches/pypoetry/virtualenvs/program-i-Fez0zm-py3.10/lib/python3.10/site-packages/lime/discretize.py:110: FutureWarning: Series.__setitem__ treating keys as positions is deprecated. In a future version, integer keys will always be treated as labels (consistent with DataFrame behavior). To set a value by position, use `ser.iloc[pos] = value`\n",
      "  ret[feature] = int(self.lambdas[feature](ret[feature]))\n",
      "/Users/ygao/Library/Caches/pypoetry/virtualenvs/program-i-Fez0zm-py3.10/lib/python3.10/site-packages/lime/lime_tabular.py:544: FutureWarning: Series.__getitem__ treating keys as positions is deprecated. In a future version, integer keys will always be treated as labels (consistent with DataFrame behavior). To access a value by position, use `ser.iloc[pos]`\n",
      "  binary_column = (inverse_column == first_row[column]).astype(int)\n"
     ]
    },
    {
     "name": "stdout",
     "output_type": "stream",
     "text": [
      "157/157 [==============================] - 0s 1ms/step\n",
      " 59/157 [==========>...................] - ETA: 0s"
     ]
    },
    {
     "name": "stderr",
     "output_type": "stream",
     "text": [
      "/Users/ygao/Library/Caches/pypoetry/virtualenvs/program-i-Fez0zm-py3.10/lib/python3.10/site-packages/lime/discretize.py:110: FutureWarning: Series.__getitem__ treating keys as positions is deprecated. In a future version, integer keys will always be treated as labels (consistent with DataFrame behavior). To access a value by position, use `ser.iloc[pos]`\n",
      "  ret[feature] = int(self.lambdas[feature](ret[feature]))\n",
      "/Users/ygao/Library/Caches/pypoetry/virtualenvs/program-i-Fez0zm-py3.10/lib/python3.10/site-packages/lime/discretize.py:110: FutureWarning: Series.__setitem__ treating keys as positions is deprecated. In a future version, integer keys will always be treated as labels (consistent with DataFrame behavior). To set a value by position, use `ser.iloc[pos] = value`\n",
      "  ret[feature] = int(self.lambdas[feature](ret[feature]))\n",
      "/Users/ygao/Library/Caches/pypoetry/virtualenvs/program-i-Fez0zm-py3.10/lib/python3.10/site-packages/lime/lime_tabular.py:427: FutureWarning: Series.__getitem__ treating keys as positions is deprecated. In a future version, integer keys will always be treated as labels (consistent with DataFrame behavior). To access a value by position, use `ser.iloc[pos]`\n",
      "  discretized_instance[f])]\n",
      "/Users/ygao/Library/Caches/pypoetry/virtualenvs/program-i-Fez0zm-py3.10/lib/python3.10/site-packages/lime/discretize.py:110: FutureWarning: Series.__getitem__ treating keys as positions is deprecated. In a future version, integer keys will always be treated as labels (consistent with DataFrame behavior). To access a value by position, use `ser.iloc[pos]`\n",
      "  ret[feature] = int(self.lambdas[feature](ret[feature]))\n",
      "/Users/ygao/Library/Caches/pypoetry/virtualenvs/program-i-Fez0zm-py3.10/lib/python3.10/site-packages/lime/discretize.py:110: FutureWarning: Series.__setitem__ treating keys as positions is deprecated. In a future version, integer keys will always be treated as labels (consistent with DataFrame behavior). To set a value by position, use `ser.iloc[pos] = value`\n",
      "  ret[feature] = int(self.lambdas[feature](ret[feature]))\n",
      "/Users/ygao/Library/Caches/pypoetry/virtualenvs/program-i-Fez0zm-py3.10/lib/python3.10/site-packages/lime/lime_tabular.py:544: FutureWarning: Series.__getitem__ treating keys as positions is deprecated. In a future version, integer keys will always be treated as labels (consistent with DataFrame behavior). To access a value by position, use `ser.iloc[pos]`\n",
      "  binary_column = (inverse_column == first_row[column]).astype(int)\n"
     ]
    },
    {
     "name": "stdout",
     "output_type": "stream",
     "text": [
      "157/157 [==============================] - 0s 1ms/step\n",
      " 73/157 [============>.................] - ETA: 0s"
     ]
    },
    {
     "name": "stderr",
     "output_type": "stream",
     "text": [
      "/Users/ygao/Library/Caches/pypoetry/virtualenvs/program-i-Fez0zm-py3.10/lib/python3.10/site-packages/lime/discretize.py:110: FutureWarning: Series.__getitem__ treating keys as positions is deprecated. In a future version, integer keys will always be treated as labels (consistent with DataFrame behavior). To access a value by position, use `ser.iloc[pos]`\n",
      "  ret[feature] = int(self.lambdas[feature](ret[feature]))\n",
      "/Users/ygao/Library/Caches/pypoetry/virtualenvs/program-i-Fez0zm-py3.10/lib/python3.10/site-packages/lime/discretize.py:110: FutureWarning: Series.__setitem__ treating keys as positions is deprecated. In a future version, integer keys will always be treated as labels (consistent with DataFrame behavior). To set a value by position, use `ser.iloc[pos] = value`\n",
      "  ret[feature] = int(self.lambdas[feature](ret[feature]))\n",
      "/Users/ygao/Library/Caches/pypoetry/virtualenvs/program-i-Fez0zm-py3.10/lib/python3.10/site-packages/lime/lime_tabular.py:427: FutureWarning: Series.__getitem__ treating keys as positions is deprecated. In a future version, integer keys will always be treated as labels (consistent with DataFrame behavior). To access a value by position, use `ser.iloc[pos]`\n",
      "  discretized_instance[f])]\n",
      "/Users/ygao/Library/Caches/pypoetry/virtualenvs/program-i-Fez0zm-py3.10/lib/python3.10/site-packages/lime/discretize.py:110: FutureWarning: Series.__getitem__ treating keys as positions is deprecated. In a future version, integer keys will always be treated as labels (consistent with DataFrame behavior). To access a value by position, use `ser.iloc[pos]`\n",
      "  ret[feature] = int(self.lambdas[feature](ret[feature]))\n",
      "/Users/ygao/Library/Caches/pypoetry/virtualenvs/program-i-Fez0zm-py3.10/lib/python3.10/site-packages/lime/discretize.py:110: FutureWarning: Series.__setitem__ treating keys as positions is deprecated. In a future version, integer keys will always be treated as labels (consistent with DataFrame behavior). To set a value by position, use `ser.iloc[pos] = value`\n",
      "  ret[feature] = int(self.lambdas[feature](ret[feature]))\n",
      "/Users/ygao/Library/Caches/pypoetry/virtualenvs/program-i-Fez0zm-py3.10/lib/python3.10/site-packages/lime/lime_tabular.py:544: FutureWarning: Series.__getitem__ treating keys as positions is deprecated. In a future version, integer keys will always be treated as labels (consistent with DataFrame behavior). To access a value by position, use `ser.iloc[pos]`\n",
      "  binary_column = (inverse_column == first_row[column]).astype(int)\n"
     ]
    },
    {
     "name": "stdout",
     "output_type": "stream",
     "text": [
      "157/157 [==============================] - 0s 1ms/step\n",
      " 72/157 [============>.................] - ETA: 0s"
     ]
    },
    {
     "name": "stderr",
     "output_type": "stream",
     "text": [
      "/Users/ygao/Library/Caches/pypoetry/virtualenvs/program-i-Fez0zm-py3.10/lib/python3.10/site-packages/lime/discretize.py:110: FutureWarning: Series.__getitem__ treating keys as positions is deprecated. In a future version, integer keys will always be treated as labels (consistent with DataFrame behavior). To access a value by position, use `ser.iloc[pos]`\n",
      "  ret[feature] = int(self.lambdas[feature](ret[feature]))\n",
      "/Users/ygao/Library/Caches/pypoetry/virtualenvs/program-i-Fez0zm-py3.10/lib/python3.10/site-packages/lime/discretize.py:110: FutureWarning: Series.__setitem__ treating keys as positions is deprecated. In a future version, integer keys will always be treated as labels (consistent with DataFrame behavior). To set a value by position, use `ser.iloc[pos] = value`\n",
      "  ret[feature] = int(self.lambdas[feature](ret[feature]))\n",
      "/Users/ygao/Library/Caches/pypoetry/virtualenvs/program-i-Fez0zm-py3.10/lib/python3.10/site-packages/lime/lime_tabular.py:427: FutureWarning: Series.__getitem__ treating keys as positions is deprecated. In a future version, integer keys will always be treated as labels (consistent with DataFrame behavior). To access a value by position, use `ser.iloc[pos]`\n",
      "  discretized_instance[f])]\n",
      "/Users/ygao/Library/Caches/pypoetry/virtualenvs/program-i-Fez0zm-py3.10/lib/python3.10/site-packages/lime/discretize.py:110: FutureWarning: Series.__getitem__ treating keys as positions is deprecated. In a future version, integer keys will always be treated as labels (consistent with DataFrame behavior). To access a value by position, use `ser.iloc[pos]`\n",
      "  ret[feature] = int(self.lambdas[feature](ret[feature]))\n",
      "/Users/ygao/Library/Caches/pypoetry/virtualenvs/program-i-Fez0zm-py3.10/lib/python3.10/site-packages/lime/discretize.py:110: FutureWarning: Series.__setitem__ treating keys as positions is deprecated. In a future version, integer keys will always be treated as labels (consistent with DataFrame behavior). To set a value by position, use `ser.iloc[pos] = value`\n",
      "  ret[feature] = int(self.lambdas[feature](ret[feature]))\n",
      "/Users/ygao/Library/Caches/pypoetry/virtualenvs/program-i-Fez0zm-py3.10/lib/python3.10/site-packages/lime/lime_tabular.py:544: FutureWarning: Series.__getitem__ treating keys as positions is deprecated. In a future version, integer keys will always be treated as labels (consistent with DataFrame behavior). To access a value by position, use `ser.iloc[pos]`\n",
      "  binary_column = (inverse_column == first_row[column]).astype(int)\n"
     ]
    },
    {
     "name": "stdout",
     "output_type": "stream",
     "text": [
      "157/157 [==============================] - 0s 1ms/step\n",
      " 77/157 [=============>................] - ETA: 0s"
     ]
    },
    {
     "name": "stderr",
     "output_type": "stream",
     "text": [
      "/Users/ygao/Library/Caches/pypoetry/virtualenvs/program-i-Fez0zm-py3.10/lib/python3.10/site-packages/lime/discretize.py:110: FutureWarning: Series.__getitem__ treating keys as positions is deprecated. In a future version, integer keys will always be treated as labels (consistent with DataFrame behavior). To access a value by position, use `ser.iloc[pos]`\n",
      "  ret[feature] = int(self.lambdas[feature](ret[feature]))\n",
      "/Users/ygao/Library/Caches/pypoetry/virtualenvs/program-i-Fez0zm-py3.10/lib/python3.10/site-packages/lime/discretize.py:110: FutureWarning: Series.__setitem__ treating keys as positions is deprecated. In a future version, integer keys will always be treated as labels (consistent with DataFrame behavior). To set a value by position, use `ser.iloc[pos] = value`\n",
      "  ret[feature] = int(self.lambdas[feature](ret[feature]))\n",
      "/Users/ygao/Library/Caches/pypoetry/virtualenvs/program-i-Fez0zm-py3.10/lib/python3.10/site-packages/lime/lime_tabular.py:427: FutureWarning: Series.__getitem__ treating keys as positions is deprecated. In a future version, integer keys will always be treated as labels (consistent with DataFrame behavior). To access a value by position, use `ser.iloc[pos]`\n",
      "  discretized_instance[f])]\n",
      "/Users/ygao/Library/Caches/pypoetry/virtualenvs/program-i-Fez0zm-py3.10/lib/python3.10/site-packages/lime/discretize.py:110: FutureWarning: Series.__getitem__ treating keys as positions is deprecated. In a future version, integer keys will always be treated as labels (consistent with DataFrame behavior). To access a value by position, use `ser.iloc[pos]`\n",
      "  ret[feature] = int(self.lambdas[feature](ret[feature]))\n",
      "/Users/ygao/Library/Caches/pypoetry/virtualenvs/program-i-Fez0zm-py3.10/lib/python3.10/site-packages/lime/discretize.py:110: FutureWarning: Series.__setitem__ treating keys as positions is deprecated. In a future version, integer keys will always be treated as labels (consistent with DataFrame behavior). To set a value by position, use `ser.iloc[pos] = value`\n",
      "  ret[feature] = int(self.lambdas[feature](ret[feature]))\n",
      "/Users/ygao/Library/Caches/pypoetry/virtualenvs/program-i-Fez0zm-py3.10/lib/python3.10/site-packages/lime/lime_tabular.py:544: FutureWarning: Series.__getitem__ treating keys as positions is deprecated. In a future version, integer keys will always be treated as labels (consistent with DataFrame behavior). To access a value by position, use `ser.iloc[pos]`\n",
      "  binary_column = (inverse_column == first_row[column]).astype(int)\n"
     ]
    },
    {
     "name": "stdout",
     "output_type": "stream",
     "text": [
      "157/157 [==============================] - 0s 1ms/step\n",
      " 80/157 [==============>...............] - ETA: 0s"
     ]
    },
    {
     "name": "stderr",
     "output_type": "stream",
     "text": [
      "/Users/ygao/Library/Caches/pypoetry/virtualenvs/program-i-Fez0zm-py3.10/lib/python3.10/site-packages/lime/discretize.py:110: FutureWarning: Series.__getitem__ treating keys as positions is deprecated. In a future version, integer keys will always be treated as labels (consistent with DataFrame behavior). To access a value by position, use `ser.iloc[pos]`\n",
      "  ret[feature] = int(self.lambdas[feature](ret[feature]))\n",
      "/Users/ygao/Library/Caches/pypoetry/virtualenvs/program-i-Fez0zm-py3.10/lib/python3.10/site-packages/lime/discretize.py:110: FutureWarning: Series.__setitem__ treating keys as positions is deprecated. In a future version, integer keys will always be treated as labels (consistent with DataFrame behavior). To set a value by position, use `ser.iloc[pos] = value`\n",
      "  ret[feature] = int(self.lambdas[feature](ret[feature]))\n",
      "/Users/ygao/Library/Caches/pypoetry/virtualenvs/program-i-Fez0zm-py3.10/lib/python3.10/site-packages/lime/lime_tabular.py:427: FutureWarning: Series.__getitem__ treating keys as positions is deprecated. In a future version, integer keys will always be treated as labels (consistent with DataFrame behavior). To access a value by position, use `ser.iloc[pos]`\n",
      "  discretized_instance[f])]\n",
      "/Users/ygao/Library/Caches/pypoetry/virtualenvs/program-i-Fez0zm-py3.10/lib/python3.10/site-packages/lime/discretize.py:110: FutureWarning: Series.__getitem__ treating keys as positions is deprecated. In a future version, integer keys will always be treated as labels (consistent with DataFrame behavior). To access a value by position, use `ser.iloc[pos]`\n",
      "  ret[feature] = int(self.lambdas[feature](ret[feature]))\n",
      "/Users/ygao/Library/Caches/pypoetry/virtualenvs/program-i-Fez0zm-py3.10/lib/python3.10/site-packages/lime/discretize.py:110: FutureWarning: Series.__setitem__ treating keys as positions is deprecated. In a future version, integer keys will always be treated as labels (consistent with DataFrame behavior). To set a value by position, use `ser.iloc[pos] = value`\n",
      "  ret[feature] = int(self.lambdas[feature](ret[feature]))\n",
      "/Users/ygao/Library/Caches/pypoetry/virtualenvs/program-i-Fez0zm-py3.10/lib/python3.10/site-packages/lime/lime_tabular.py:544: FutureWarning: Series.__getitem__ treating keys as positions is deprecated. In a future version, integer keys will always be treated as labels (consistent with DataFrame behavior). To access a value by position, use `ser.iloc[pos]`\n",
      "  binary_column = (inverse_column == first_row[column]).astype(int)\n"
     ]
    },
    {
     "name": "stdout",
     "output_type": "stream",
     "text": [
      "157/157 [==============================] - 0s 1ms/step\n",
      " 74/157 [=============>................] - ETA: 0s"
     ]
    },
    {
     "name": "stderr",
     "output_type": "stream",
     "text": [
      "/Users/ygao/Library/Caches/pypoetry/virtualenvs/program-i-Fez0zm-py3.10/lib/python3.10/site-packages/lime/discretize.py:110: FutureWarning: Series.__getitem__ treating keys as positions is deprecated. In a future version, integer keys will always be treated as labels (consistent with DataFrame behavior). To access a value by position, use `ser.iloc[pos]`\n",
      "  ret[feature] = int(self.lambdas[feature](ret[feature]))\n",
      "/Users/ygao/Library/Caches/pypoetry/virtualenvs/program-i-Fez0zm-py3.10/lib/python3.10/site-packages/lime/discretize.py:110: FutureWarning: Series.__setitem__ treating keys as positions is deprecated. In a future version, integer keys will always be treated as labels (consistent with DataFrame behavior). To set a value by position, use `ser.iloc[pos] = value`\n",
      "  ret[feature] = int(self.lambdas[feature](ret[feature]))\n",
      "/Users/ygao/Library/Caches/pypoetry/virtualenvs/program-i-Fez0zm-py3.10/lib/python3.10/site-packages/lime/lime_tabular.py:427: FutureWarning: Series.__getitem__ treating keys as positions is deprecated. In a future version, integer keys will always be treated as labels (consistent with DataFrame behavior). To access a value by position, use `ser.iloc[pos]`\n",
      "  discretized_instance[f])]\n",
      "/Users/ygao/Library/Caches/pypoetry/virtualenvs/program-i-Fez0zm-py3.10/lib/python3.10/site-packages/lime/discretize.py:110: FutureWarning: Series.__getitem__ treating keys as positions is deprecated. In a future version, integer keys will always be treated as labels (consistent with DataFrame behavior). To access a value by position, use `ser.iloc[pos]`\n",
      "  ret[feature] = int(self.lambdas[feature](ret[feature]))\n",
      "/Users/ygao/Library/Caches/pypoetry/virtualenvs/program-i-Fez0zm-py3.10/lib/python3.10/site-packages/lime/discretize.py:110: FutureWarning: Series.__setitem__ treating keys as positions is deprecated. In a future version, integer keys will always be treated as labels (consistent with DataFrame behavior). To set a value by position, use `ser.iloc[pos] = value`\n",
      "  ret[feature] = int(self.lambdas[feature](ret[feature]))\n",
      "/Users/ygao/Library/Caches/pypoetry/virtualenvs/program-i-Fez0zm-py3.10/lib/python3.10/site-packages/lime/lime_tabular.py:544: FutureWarning: Series.__getitem__ treating keys as positions is deprecated. In a future version, integer keys will always be treated as labels (consistent with DataFrame behavior). To access a value by position, use `ser.iloc[pos]`\n",
      "  binary_column = (inverse_column == first_row[column]).astype(int)\n"
     ]
    },
    {
     "name": "stdout",
     "output_type": "stream",
     "text": [
      "157/157 [==============================] - 0s 1ms/step\n",
      " 61/157 [==========>...................] - ETA: 0s"
     ]
    },
    {
     "name": "stderr",
     "output_type": "stream",
     "text": [
      "/Users/ygao/Library/Caches/pypoetry/virtualenvs/program-i-Fez0zm-py3.10/lib/python3.10/site-packages/lime/discretize.py:110: FutureWarning: Series.__getitem__ treating keys as positions is deprecated. In a future version, integer keys will always be treated as labels (consistent with DataFrame behavior). To access a value by position, use `ser.iloc[pos]`\n",
      "  ret[feature] = int(self.lambdas[feature](ret[feature]))\n",
      "/Users/ygao/Library/Caches/pypoetry/virtualenvs/program-i-Fez0zm-py3.10/lib/python3.10/site-packages/lime/discretize.py:110: FutureWarning: Series.__setitem__ treating keys as positions is deprecated. In a future version, integer keys will always be treated as labels (consistent with DataFrame behavior). To set a value by position, use `ser.iloc[pos] = value`\n",
      "  ret[feature] = int(self.lambdas[feature](ret[feature]))\n",
      "/Users/ygao/Library/Caches/pypoetry/virtualenvs/program-i-Fez0zm-py3.10/lib/python3.10/site-packages/lime/lime_tabular.py:427: FutureWarning: Series.__getitem__ treating keys as positions is deprecated. In a future version, integer keys will always be treated as labels (consistent with DataFrame behavior). To access a value by position, use `ser.iloc[pos]`\n",
      "  discretized_instance[f])]\n",
      "/Users/ygao/Library/Caches/pypoetry/virtualenvs/program-i-Fez0zm-py3.10/lib/python3.10/site-packages/lime/discretize.py:110: FutureWarning: Series.__getitem__ treating keys as positions is deprecated. In a future version, integer keys will always be treated as labels (consistent with DataFrame behavior). To access a value by position, use `ser.iloc[pos]`\n",
      "  ret[feature] = int(self.lambdas[feature](ret[feature]))\n",
      "/Users/ygao/Library/Caches/pypoetry/virtualenvs/program-i-Fez0zm-py3.10/lib/python3.10/site-packages/lime/discretize.py:110: FutureWarning: Series.__setitem__ treating keys as positions is deprecated. In a future version, integer keys will always be treated as labels (consistent with DataFrame behavior). To set a value by position, use `ser.iloc[pos] = value`\n",
      "  ret[feature] = int(self.lambdas[feature](ret[feature]))\n",
      "/Users/ygao/Library/Caches/pypoetry/virtualenvs/program-i-Fez0zm-py3.10/lib/python3.10/site-packages/lime/lime_tabular.py:544: FutureWarning: Series.__getitem__ treating keys as positions is deprecated. In a future version, integer keys will always be treated as labels (consistent with DataFrame behavior). To access a value by position, use `ser.iloc[pos]`\n",
      "  binary_column = (inverse_column == first_row[column]).astype(int)\n"
     ]
    },
    {
     "name": "stdout",
     "output_type": "stream",
     "text": [
      "157/157 [==============================] - 0s 1ms/step\n",
      " 75/157 [=============>................] - ETA: 0s"
     ]
    },
    {
     "name": "stderr",
     "output_type": "stream",
     "text": [
      "/Users/ygao/Library/Caches/pypoetry/virtualenvs/program-i-Fez0zm-py3.10/lib/python3.10/site-packages/lime/discretize.py:110: FutureWarning: Series.__getitem__ treating keys as positions is deprecated. In a future version, integer keys will always be treated as labels (consistent with DataFrame behavior). To access a value by position, use `ser.iloc[pos]`\n",
      "  ret[feature] = int(self.lambdas[feature](ret[feature]))\n",
      "/Users/ygao/Library/Caches/pypoetry/virtualenvs/program-i-Fez0zm-py3.10/lib/python3.10/site-packages/lime/discretize.py:110: FutureWarning: Series.__setitem__ treating keys as positions is deprecated. In a future version, integer keys will always be treated as labels (consistent with DataFrame behavior). To set a value by position, use `ser.iloc[pos] = value`\n",
      "  ret[feature] = int(self.lambdas[feature](ret[feature]))\n",
      "/Users/ygao/Library/Caches/pypoetry/virtualenvs/program-i-Fez0zm-py3.10/lib/python3.10/site-packages/lime/lime_tabular.py:427: FutureWarning: Series.__getitem__ treating keys as positions is deprecated. In a future version, integer keys will always be treated as labels (consistent with DataFrame behavior). To access a value by position, use `ser.iloc[pos]`\n",
      "  discretized_instance[f])]\n",
      "/Users/ygao/Library/Caches/pypoetry/virtualenvs/program-i-Fez0zm-py3.10/lib/python3.10/site-packages/lime/discretize.py:110: FutureWarning: Series.__getitem__ treating keys as positions is deprecated. In a future version, integer keys will always be treated as labels (consistent with DataFrame behavior). To access a value by position, use `ser.iloc[pos]`\n",
      "  ret[feature] = int(self.lambdas[feature](ret[feature]))\n",
      "/Users/ygao/Library/Caches/pypoetry/virtualenvs/program-i-Fez0zm-py3.10/lib/python3.10/site-packages/lime/discretize.py:110: FutureWarning: Series.__setitem__ treating keys as positions is deprecated. In a future version, integer keys will always be treated as labels (consistent with DataFrame behavior). To set a value by position, use `ser.iloc[pos] = value`\n",
      "  ret[feature] = int(self.lambdas[feature](ret[feature]))\n",
      "/Users/ygao/Library/Caches/pypoetry/virtualenvs/program-i-Fez0zm-py3.10/lib/python3.10/site-packages/lime/lime_tabular.py:544: FutureWarning: Series.__getitem__ treating keys as positions is deprecated. In a future version, integer keys will always be treated as labels (consistent with DataFrame behavior). To access a value by position, use `ser.iloc[pos]`\n",
      "  binary_column = (inverse_column == first_row[column]).astype(int)\n"
     ]
    },
    {
     "name": "stdout",
     "output_type": "stream",
     "text": [
      "157/157 [==============================] - 0s 1ms/step\n",
      " 66/157 [===========>..................] - ETA: 0s"
     ]
    },
    {
     "name": "stderr",
     "output_type": "stream",
     "text": [
      "/Users/ygao/Library/Caches/pypoetry/virtualenvs/program-i-Fez0zm-py3.10/lib/python3.10/site-packages/lime/discretize.py:110: FutureWarning: Series.__getitem__ treating keys as positions is deprecated. In a future version, integer keys will always be treated as labels (consistent with DataFrame behavior). To access a value by position, use `ser.iloc[pos]`\n",
      "  ret[feature] = int(self.lambdas[feature](ret[feature]))\n",
      "/Users/ygao/Library/Caches/pypoetry/virtualenvs/program-i-Fez0zm-py3.10/lib/python3.10/site-packages/lime/discretize.py:110: FutureWarning: Series.__setitem__ treating keys as positions is deprecated. In a future version, integer keys will always be treated as labels (consistent with DataFrame behavior). To set a value by position, use `ser.iloc[pos] = value`\n",
      "  ret[feature] = int(self.lambdas[feature](ret[feature]))\n",
      "/Users/ygao/Library/Caches/pypoetry/virtualenvs/program-i-Fez0zm-py3.10/lib/python3.10/site-packages/lime/lime_tabular.py:427: FutureWarning: Series.__getitem__ treating keys as positions is deprecated. In a future version, integer keys will always be treated as labels (consistent with DataFrame behavior). To access a value by position, use `ser.iloc[pos]`\n",
      "  discretized_instance[f])]\n",
      "/Users/ygao/Library/Caches/pypoetry/virtualenvs/program-i-Fez0zm-py3.10/lib/python3.10/site-packages/lime/discretize.py:110: FutureWarning: Series.__getitem__ treating keys as positions is deprecated. In a future version, integer keys will always be treated as labels (consistent with DataFrame behavior). To access a value by position, use `ser.iloc[pos]`\n",
      "  ret[feature] = int(self.lambdas[feature](ret[feature]))\n",
      "/Users/ygao/Library/Caches/pypoetry/virtualenvs/program-i-Fez0zm-py3.10/lib/python3.10/site-packages/lime/discretize.py:110: FutureWarning: Series.__setitem__ treating keys as positions is deprecated. In a future version, integer keys will always be treated as labels (consistent with DataFrame behavior). To set a value by position, use `ser.iloc[pos] = value`\n",
      "  ret[feature] = int(self.lambdas[feature](ret[feature]))\n",
      "/Users/ygao/Library/Caches/pypoetry/virtualenvs/program-i-Fez0zm-py3.10/lib/python3.10/site-packages/lime/lime_tabular.py:544: FutureWarning: Series.__getitem__ treating keys as positions is deprecated. In a future version, integer keys will always be treated as labels (consistent with DataFrame behavior). To access a value by position, use `ser.iloc[pos]`\n",
      "  binary_column = (inverse_column == first_row[column]).astype(int)\n"
     ]
    },
    {
     "name": "stdout",
     "output_type": "stream",
     "text": [
      "157/157 [==============================] - 0s 1ms/step\n",
      " 81/157 [==============>...............] - ETA: 0s"
     ]
    },
    {
     "name": "stderr",
     "output_type": "stream",
     "text": [
      "/Users/ygao/Library/Caches/pypoetry/virtualenvs/program-i-Fez0zm-py3.10/lib/python3.10/site-packages/lime/discretize.py:110: FutureWarning: Series.__getitem__ treating keys as positions is deprecated. In a future version, integer keys will always be treated as labels (consistent with DataFrame behavior). To access a value by position, use `ser.iloc[pos]`\n",
      "  ret[feature] = int(self.lambdas[feature](ret[feature]))\n",
      "/Users/ygao/Library/Caches/pypoetry/virtualenvs/program-i-Fez0zm-py3.10/lib/python3.10/site-packages/lime/discretize.py:110: FutureWarning: Series.__setitem__ treating keys as positions is deprecated. In a future version, integer keys will always be treated as labels (consistent with DataFrame behavior). To set a value by position, use `ser.iloc[pos] = value`\n",
      "  ret[feature] = int(self.lambdas[feature](ret[feature]))\n",
      "/Users/ygao/Library/Caches/pypoetry/virtualenvs/program-i-Fez0zm-py3.10/lib/python3.10/site-packages/lime/lime_tabular.py:427: FutureWarning: Series.__getitem__ treating keys as positions is deprecated. In a future version, integer keys will always be treated as labels (consistent with DataFrame behavior). To access a value by position, use `ser.iloc[pos]`\n",
      "  discretized_instance[f])]\n",
      "/Users/ygao/Library/Caches/pypoetry/virtualenvs/program-i-Fez0zm-py3.10/lib/python3.10/site-packages/lime/discretize.py:110: FutureWarning: Series.__getitem__ treating keys as positions is deprecated. In a future version, integer keys will always be treated as labels (consistent with DataFrame behavior). To access a value by position, use `ser.iloc[pos]`\n",
      "  ret[feature] = int(self.lambdas[feature](ret[feature]))\n",
      "/Users/ygao/Library/Caches/pypoetry/virtualenvs/program-i-Fez0zm-py3.10/lib/python3.10/site-packages/lime/discretize.py:110: FutureWarning: Series.__setitem__ treating keys as positions is deprecated. In a future version, integer keys will always be treated as labels (consistent with DataFrame behavior). To set a value by position, use `ser.iloc[pos] = value`\n",
      "  ret[feature] = int(self.lambdas[feature](ret[feature]))\n",
      "/Users/ygao/Library/Caches/pypoetry/virtualenvs/program-i-Fez0zm-py3.10/lib/python3.10/site-packages/lime/lime_tabular.py:544: FutureWarning: Series.__getitem__ treating keys as positions is deprecated. In a future version, integer keys will always be treated as labels (consistent with DataFrame behavior). To access a value by position, use `ser.iloc[pos]`\n",
      "  binary_column = (inverse_column == first_row[column]).astype(int)\n"
     ]
    },
    {
     "name": "stdout",
     "output_type": "stream",
     "text": [
      "157/157 [==============================] - 0s 1ms/step\n",
      " 82/157 [==============>...............] - ETA: 0s"
     ]
    },
    {
     "name": "stderr",
     "output_type": "stream",
     "text": [
      "/Users/ygao/Library/Caches/pypoetry/virtualenvs/program-i-Fez0zm-py3.10/lib/python3.10/site-packages/lime/discretize.py:110: FutureWarning: Series.__getitem__ treating keys as positions is deprecated. In a future version, integer keys will always be treated as labels (consistent with DataFrame behavior). To access a value by position, use `ser.iloc[pos]`\n",
      "  ret[feature] = int(self.lambdas[feature](ret[feature]))\n",
      "/Users/ygao/Library/Caches/pypoetry/virtualenvs/program-i-Fez0zm-py3.10/lib/python3.10/site-packages/lime/discretize.py:110: FutureWarning: Series.__setitem__ treating keys as positions is deprecated. In a future version, integer keys will always be treated as labels (consistent with DataFrame behavior). To set a value by position, use `ser.iloc[pos] = value`\n",
      "  ret[feature] = int(self.lambdas[feature](ret[feature]))\n",
      "/Users/ygao/Library/Caches/pypoetry/virtualenvs/program-i-Fez0zm-py3.10/lib/python3.10/site-packages/lime/lime_tabular.py:427: FutureWarning: Series.__getitem__ treating keys as positions is deprecated. In a future version, integer keys will always be treated as labels (consistent with DataFrame behavior). To access a value by position, use `ser.iloc[pos]`\n",
      "  discretized_instance[f])]\n",
      "/Users/ygao/Library/Caches/pypoetry/virtualenvs/program-i-Fez0zm-py3.10/lib/python3.10/site-packages/lime/discretize.py:110: FutureWarning: Series.__getitem__ treating keys as positions is deprecated. In a future version, integer keys will always be treated as labels (consistent with DataFrame behavior). To access a value by position, use `ser.iloc[pos]`\n",
      "  ret[feature] = int(self.lambdas[feature](ret[feature]))\n",
      "/Users/ygao/Library/Caches/pypoetry/virtualenvs/program-i-Fez0zm-py3.10/lib/python3.10/site-packages/lime/discretize.py:110: FutureWarning: Series.__setitem__ treating keys as positions is deprecated. In a future version, integer keys will always be treated as labels (consistent with DataFrame behavior). To set a value by position, use `ser.iloc[pos] = value`\n",
      "  ret[feature] = int(self.lambdas[feature](ret[feature]))\n",
      "/Users/ygao/Library/Caches/pypoetry/virtualenvs/program-i-Fez0zm-py3.10/lib/python3.10/site-packages/lime/lime_tabular.py:544: FutureWarning: Series.__getitem__ treating keys as positions is deprecated. In a future version, integer keys will always be treated as labels (consistent with DataFrame behavior). To access a value by position, use `ser.iloc[pos]`\n",
      "  binary_column = (inverse_column == first_row[column]).astype(int)\n"
     ]
    },
    {
     "name": "stdout",
     "output_type": "stream",
     "text": [
      "157/157 [==============================] - 0s 1ms/step\n",
      " 81/157 [==============>...............] - ETA: 0s"
     ]
    },
    {
     "name": "stderr",
     "output_type": "stream",
     "text": [
      "/Users/ygao/Library/Caches/pypoetry/virtualenvs/program-i-Fez0zm-py3.10/lib/python3.10/site-packages/lime/discretize.py:110: FutureWarning: Series.__getitem__ treating keys as positions is deprecated. In a future version, integer keys will always be treated as labels (consistent with DataFrame behavior). To access a value by position, use `ser.iloc[pos]`\n",
      "  ret[feature] = int(self.lambdas[feature](ret[feature]))\n",
      "/Users/ygao/Library/Caches/pypoetry/virtualenvs/program-i-Fez0zm-py3.10/lib/python3.10/site-packages/lime/discretize.py:110: FutureWarning: Series.__setitem__ treating keys as positions is deprecated. In a future version, integer keys will always be treated as labels (consistent with DataFrame behavior). To set a value by position, use `ser.iloc[pos] = value`\n",
      "  ret[feature] = int(self.lambdas[feature](ret[feature]))\n",
      "/Users/ygao/Library/Caches/pypoetry/virtualenvs/program-i-Fez0zm-py3.10/lib/python3.10/site-packages/lime/lime_tabular.py:427: FutureWarning: Series.__getitem__ treating keys as positions is deprecated. In a future version, integer keys will always be treated as labels (consistent with DataFrame behavior). To access a value by position, use `ser.iloc[pos]`\n",
      "  discretized_instance[f])]\n",
      "/Users/ygao/Library/Caches/pypoetry/virtualenvs/program-i-Fez0zm-py3.10/lib/python3.10/site-packages/lime/discretize.py:110: FutureWarning: Series.__getitem__ treating keys as positions is deprecated. In a future version, integer keys will always be treated as labels (consistent with DataFrame behavior). To access a value by position, use `ser.iloc[pos]`\n",
      "  ret[feature] = int(self.lambdas[feature](ret[feature]))\n",
      "/Users/ygao/Library/Caches/pypoetry/virtualenvs/program-i-Fez0zm-py3.10/lib/python3.10/site-packages/lime/discretize.py:110: FutureWarning: Series.__setitem__ treating keys as positions is deprecated. In a future version, integer keys will always be treated as labels (consistent with DataFrame behavior). To set a value by position, use `ser.iloc[pos] = value`\n",
      "  ret[feature] = int(self.lambdas[feature](ret[feature]))\n",
      "/Users/ygao/Library/Caches/pypoetry/virtualenvs/program-i-Fez0zm-py3.10/lib/python3.10/site-packages/lime/lime_tabular.py:544: FutureWarning: Series.__getitem__ treating keys as positions is deprecated. In a future version, integer keys will always be treated as labels (consistent with DataFrame behavior). To access a value by position, use `ser.iloc[pos]`\n",
      "  binary_column = (inverse_column == first_row[column]).astype(int)\n"
     ]
    },
    {
     "name": "stdout",
     "output_type": "stream",
     "text": [
      "157/157 [==============================] - 0s 1ms/step\n",
      " 64/157 [===========>..................] - ETA: 0s"
     ]
    },
    {
     "name": "stderr",
     "output_type": "stream",
     "text": [
      "/Users/ygao/Library/Caches/pypoetry/virtualenvs/program-i-Fez0zm-py3.10/lib/python3.10/site-packages/lime/discretize.py:110: FutureWarning: Series.__getitem__ treating keys as positions is deprecated. In a future version, integer keys will always be treated as labels (consistent with DataFrame behavior). To access a value by position, use `ser.iloc[pos]`\n",
      "  ret[feature] = int(self.lambdas[feature](ret[feature]))\n",
      "/Users/ygao/Library/Caches/pypoetry/virtualenvs/program-i-Fez0zm-py3.10/lib/python3.10/site-packages/lime/discretize.py:110: FutureWarning: Series.__setitem__ treating keys as positions is deprecated. In a future version, integer keys will always be treated as labels (consistent with DataFrame behavior). To set a value by position, use `ser.iloc[pos] = value`\n",
      "  ret[feature] = int(self.lambdas[feature](ret[feature]))\n",
      "/Users/ygao/Library/Caches/pypoetry/virtualenvs/program-i-Fez0zm-py3.10/lib/python3.10/site-packages/lime/lime_tabular.py:427: FutureWarning: Series.__getitem__ treating keys as positions is deprecated. In a future version, integer keys will always be treated as labels (consistent with DataFrame behavior). To access a value by position, use `ser.iloc[pos]`\n",
      "  discretized_instance[f])]\n",
      "/Users/ygao/Library/Caches/pypoetry/virtualenvs/program-i-Fez0zm-py3.10/lib/python3.10/site-packages/lime/discretize.py:110: FutureWarning: Series.__getitem__ treating keys as positions is deprecated. In a future version, integer keys will always be treated as labels (consistent with DataFrame behavior). To access a value by position, use `ser.iloc[pos]`\n",
      "  ret[feature] = int(self.lambdas[feature](ret[feature]))\n",
      "/Users/ygao/Library/Caches/pypoetry/virtualenvs/program-i-Fez0zm-py3.10/lib/python3.10/site-packages/lime/discretize.py:110: FutureWarning: Series.__setitem__ treating keys as positions is deprecated. In a future version, integer keys will always be treated as labels (consistent with DataFrame behavior). To set a value by position, use `ser.iloc[pos] = value`\n",
      "  ret[feature] = int(self.lambdas[feature](ret[feature]))\n",
      "/Users/ygao/Library/Caches/pypoetry/virtualenvs/program-i-Fez0zm-py3.10/lib/python3.10/site-packages/lime/lime_tabular.py:544: FutureWarning: Series.__getitem__ treating keys as positions is deprecated. In a future version, integer keys will always be treated as labels (consistent with DataFrame behavior). To access a value by position, use `ser.iloc[pos]`\n",
      "  binary_column = (inverse_column == first_row[column]).astype(int)\n"
     ]
    },
    {
     "name": "stdout",
     "output_type": "stream",
     "text": [
      "157/157 [==============================] - 0s 1ms/step\n",
      " 53/157 [=========>....................] - ETA: 0s"
     ]
    },
    {
     "name": "stderr",
     "output_type": "stream",
     "text": [
      "/Users/ygao/Library/Caches/pypoetry/virtualenvs/program-i-Fez0zm-py3.10/lib/python3.10/site-packages/lime/discretize.py:110: FutureWarning: Series.__getitem__ treating keys as positions is deprecated. In a future version, integer keys will always be treated as labels (consistent with DataFrame behavior). To access a value by position, use `ser.iloc[pos]`\n",
      "  ret[feature] = int(self.lambdas[feature](ret[feature]))\n",
      "/Users/ygao/Library/Caches/pypoetry/virtualenvs/program-i-Fez0zm-py3.10/lib/python3.10/site-packages/lime/discretize.py:110: FutureWarning: Series.__setitem__ treating keys as positions is deprecated. In a future version, integer keys will always be treated as labels (consistent with DataFrame behavior). To set a value by position, use `ser.iloc[pos] = value`\n",
      "  ret[feature] = int(self.lambdas[feature](ret[feature]))\n",
      "/Users/ygao/Library/Caches/pypoetry/virtualenvs/program-i-Fez0zm-py3.10/lib/python3.10/site-packages/lime/lime_tabular.py:427: FutureWarning: Series.__getitem__ treating keys as positions is deprecated. In a future version, integer keys will always be treated as labels (consistent with DataFrame behavior). To access a value by position, use `ser.iloc[pos]`\n",
      "  discretized_instance[f])]\n",
      "/Users/ygao/Library/Caches/pypoetry/virtualenvs/program-i-Fez0zm-py3.10/lib/python3.10/site-packages/lime/discretize.py:110: FutureWarning: Series.__getitem__ treating keys as positions is deprecated. In a future version, integer keys will always be treated as labels (consistent with DataFrame behavior). To access a value by position, use `ser.iloc[pos]`\n",
      "  ret[feature] = int(self.lambdas[feature](ret[feature]))\n",
      "/Users/ygao/Library/Caches/pypoetry/virtualenvs/program-i-Fez0zm-py3.10/lib/python3.10/site-packages/lime/discretize.py:110: FutureWarning: Series.__setitem__ treating keys as positions is deprecated. In a future version, integer keys will always be treated as labels (consistent with DataFrame behavior). To set a value by position, use `ser.iloc[pos] = value`\n",
      "  ret[feature] = int(self.lambdas[feature](ret[feature]))\n",
      "/Users/ygao/Library/Caches/pypoetry/virtualenvs/program-i-Fez0zm-py3.10/lib/python3.10/site-packages/lime/lime_tabular.py:544: FutureWarning: Series.__getitem__ treating keys as positions is deprecated. In a future version, integer keys will always be treated as labels (consistent with DataFrame behavior). To access a value by position, use `ser.iloc[pos]`\n",
      "  binary_column = (inverse_column == first_row[column]).astype(int)\n"
     ]
    },
    {
     "name": "stdout",
     "output_type": "stream",
     "text": [
      "157/157 [==============================] - 0s 2ms/step\n",
      "  1/157 [..............................] - ETA: 14s"
     ]
    },
    {
     "name": "stderr",
     "output_type": "stream",
     "text": [
      "/Users/ygao/Library/Caches/pypoetry/virtualenvs/program-i-Fez0zm-py3.10/lib/python3.10/site-packages/lime/discretize.py:110: FutureWarning: Series.__getitem__ treating keys as positions is deprecated. In a future version, integer keys will always be treated as labels (consistent with DataFrame behavior). To access a value by position, use `ser.iloc[pos]`\n",
      "  ret[feature] = int(self.lambdas[feature](ret[feature]))\n",
      "/Users/ygao/Library/Caches/pypoetry/virtualenvs/program-i-Fez0zm-py3.10/lib/python3.10/site-packages/lime/discretize.py:110: FutureWarning: Series.__setitem__ treating keys as positions is deprecated. In a future version, integer keys will always be treated as labels (consistent with DataFrame behavior). To set a value by position, use `ser.iloc[pos] = value`\n",
      "  ret[feature] = int(self.lambdas[feature](ret[feature]))\n",
      "/Users/ygao/Library/Caches/pypoetry/virtualenvs/program-i-Fez0zm-py3.10/lib/python3.10/site-packages/lime/lime_tabular.py:427: FutureWarning: Series.__getitem__ treating keys as positions is deprecated. In a future version, integer keys will always be treated as labels (consistent with DataFrame behavior). To access a value by position, use `ser.iloc[pos]`\n",
      "  discretized_instance[f])]\n",
      "/Users/ygao/Library/Caches/pypoetry/virtualenvs/program-i-Fez0zm-py3.10/lib/python3.10/site-packages/lime/discretize.py:110: FutureWarning: Series.__getitem__ treating keys as positions is deprecated. In a future version, integer keys will always be treated as labels (consistent with DataFrame behavior). To access a value by position, use `ser.iloc[pos]`\n",
      "  ret[feature] = int(self.lambdas[feature](ret[feature]))\n",
      "/Users/ygao/Library/Caches/pypoetry/virtualenvs/program-i-Fez0zm-py3.10/lib/python3.10/site-packages/lime/discretize.py:110: FutureWarning: Series.__setitem__ treating keys as positions is deprecated. In a future version, integer keys will always be treated as labels (consistent with DataFrame behavior). To set a value by position, use `ser.iloc[pos] = value`\n",
      "  ret[feature] = int(self.lambdas[feature](ret[feature]))\n",
      "/Users/ygao/Library/Caches/pypoetry/virtualenvs/program-i-Fez0zm-py3.10/lib/python3.10/site-packages/lime/lime_tabular.py:544: FutureWarning: Series.__getitem__ treating keys as positions is deprecated. In a future version, integer keys will always be treated as labels (consistent with DataFrame behavior). To access a value by position, use `ser.iloc[pos]`\n",
      "  binary_column = (inverse_column == first_row[column]).astype(int)\n"
     ]
    },
    {
     "name": "stdout",
     "output_type": "stream",
     "text": [
      "157/157 [==============================] - 0s 1ms/step\n",
      " 59/157 [==========>...................] - ETA: 0s"
     ]
    },
    {
     "name": "stderr",
     "output_type": "stream",
     "text": [
      "/Users/ygao/Library/Caches/pypoetry/virtualenvs/program-i-Fez0zm-py3.10/lib/python3.10/site-packages/lime/discretize.py:110: FutureWarning: Series.__getitem__ treating keys as positions is deprecated. In a future version, integer keys will always be treated as labels (consistent with DataFrame behavior). To access a value by position, use `ser.iloc[pos]`\n",
      "  ret[feature] = int(self.lambdas[feature](ret[feature]))\n",
      "/Users/ygao/Library/Caches/pypoetry/virtualenvs/program-i-Fez0zm-py3.10/lib/python3.10/site-packages/lime/discretize.py:110: FutureWarning: Series.__setitem__ treating keys as positions is deprecated. In a future version, integer keys will always be treated as labels (consistent with DataFrame behavior). To set a value by position, use `ser.iloc[pos] = value`\n",
      "  ret[feature] = int(self.lambdas[feature](ret[feature]))\n",
      "/Users/ygao/Library/Caches/pypoetry/virtualenvs/program-i-Fez0zm-py3.10/lib/python3.10/site-packages/lime/lime_tabular.py:427: FutureWarning: Series.__getitem__ treating keys as positions is deprecated. In a future version, integer keys will always be treated as labels (consistent with DataFrame behavior). To access a value by position, use `ser.iloc[pos]`\n",
      "  discretized_instance[f])]\n",
      "/Users/ygao/Library/Caches/pypoetry/virtualenvs/program-i-Fez0zm-py3.10/lib/python3.10/site-packages/lime/discretize.py:110: FutureWarning: Series.__getitem__ treating keys as positions is deprecated. In a future version, integer keys will always be treated as labels (consistent with DataFrame behavior). To access a value by position, use `ser.iloc[pos]`\n",
      "  ret[feature] = int(self.lambdas[feature](ret[feature]))\n",
      "/Users/ygao/Library/Caches/pypoetry/virtualenvs/program-i-Fez0zm-py3.10/lib/python3.10/site-packages/lime/discretize.py:110: FutureWarning: Series.__setitem__ treating keys as positions is deprecated. In a future version, integer keys will always be treated as labels (consistent with DataFrame behavior). To set a value by position, use `ser.iloc[pos] = value`\n",
      "  ret[feature] = int(self.lambdas[feature](ret[feature]))\n",
      "/Users/ygao/Library/Caches/pypoetry/virtualenvs/program-i-Fez0zm-py3.10/lib/python3.10/site-packages/lime/lime_tabular.py:544: FutureWarning: Series.__getitem__ treating keys as positions is deprecated. In a future version, integer keys will always be treated as labels (consistent with DataFrame behavior). To access a value by position, use `ser.iloc[pos]`\n",
      "  binary_column = (inverse_column == first_row[column]).astype(int)\n"
     ]
    },
    {
     "name": "stdout",
     "output_type": "stream",
     "text": [
      "157/157 [==============================] - 0s 1ms/step\n",
      " 72/157 [============>.................] - ETA: 0s"
     ]
    },
    {
     "name": "stderr",
     "output_type": "stream",
     "text": [
      "/Users/ygao/Library/Caches/pypoetry/virtualenvs/program-i-Fez0zm-py3.10/lib/python3.10/site-packages/lime/discretize.py:110: FutureWarning: Series.__getitem__ treating keys as positions is deprecated. In a future version, integer keys will always be treated as labels (consistent with DataFrame behavior). To access a value by position, use `ser.iloc[pos]`\n",
      "  ret[feature] = int(self.lambdas[feature](ret[feature]))\n",
      "/Users/ygao/Library/Caches/pypoetry/virtualenvs/program-i-Fez0zm-py3.10/lib/python3.10/site-packages/lime/discretize.py:110: FutureWarning: Series.__setitem__ treating keys as positions is deprecated. In a future version, integer keys will always be treated as labels (consistent with DataFrame behavior). To set a value by position, use `ser.iloc[pos] = value`\n",
      "  ret[feature] = int(self.lambdas[feature](ret[feature]))\n",
      "/Users/ygao/Library/Caches/pypoetry/virtualenvs/program-i-Fez0zm-py3.10/lib/python3.10/site-packages/lime/lime_tabular.py:427: FutureWarning: Series.__getitem__ treating keys as positions is deprecated. In a future version, integer keys will always be treated as labels (consistent with DataFrame behavior). To access a value by position, use `ser.iloc[pos]`\n",
      "  discretized_instance[f])]\n",
      "/Users/ygao/Library/Caches/pypoetry/virtualenvs/program-i-Fez0zm-py3.10/lib/python3.10/site-packages/lime/discretize.py:110: FutureWarning: Series.__getitem__ treating keys as positions is deprecated. In a future version, integer keys will always be treated as labels (consistent with DataFrame behavior). To access a value by position, use `ser.iloc[pos]`\n",
      "  ret[feature] = int(self.lambdas[feature](ret[feature]))\n",
      "/Users/ygao/Library/Caches/pypoetry/virtualenvs/program-i-Fez0zm-py3.10/lib/python3.10/site-packages/lime/discretize.py:110: FutureWarning: Series.__setitem__ treating keys as positions is deprecated. In a future version, integer keys will always be treated as labels (consistent with DataFrame behavior). To set a value by position, use `ser.iloc[pos] = value`\n",
      "  ret[feature] = int(self.lambdas[feature](ret[feature]))\n",
      "/Users/ygao/Library/Caches/pypoetry/virtualenvs/program-i-Fez0zm-py3.10/lib/python3.10/site-packages/lime/lime_tabular.py:544: FutureWarning: Series.__getitem__ treating keys as positions is deprecated. In a future version, integer keys will always be treated as labels (consistent with DataFrame behavior). To access a value by position, use `ser.iloc[pos]`\n",
      "  binary_column = (inverse_column == first_row[column]).astype(int)\n"
     ]
    },
    {
     "name": "stdout",
     "output_type": "stream",
     "text": [
      "157/157 [==============================] - 0s 1ms/step\n",
      " 72/157 [============>.................] - ETA: 0s"
     ]
    },
    {
     "name": "stderr",
     "output_type": "stream",
     "text": [
      "/Users/ygao/Library/Caches/pypoetry/virtualenvs/program-i-Fez0zm-py3.10/lib/python3.10/site-packages/lime/discretize.py:110: FutureWarning: Series.__getitem__ treating keys as positions is deprecated. In a future version, integer keys will always be treated as labels (consistent with DataFrame behavior). To access a value by position, use `ser.iloc[pos]`\n",
      "  ret[feature] = int(self.lambdas[feature](ret[feature]))\n",
      "/Users/ygao/Library/Caches/pypoetry/virtualenvs/program-i-Fez0zm-py3.10/lib/python3.10/site-packages/lime/discretize.py:110: FutureWarning: Series.__setitem__ treating keys as positions is deprecated. In a future version, integer keys will always be treated as labels (consistent with DataFrame behavior). To set a value by position, use `ser.iloc[pos] = value`\n",
      "  ret[feature] = int(self.lambdas[feature](ret[feature]))\n",
      "/Users/ygao/Library/Caches/pypoetry/virtualenvs/program-i-Fez0zm-py3.10/lib/python3.10/site-packages/lime/lime_tabular.py:427: FutureWarning: Series.__getitem__ treating keys as positions is deprecated. In a future version, integer keys will always be treated as labels (consistent with DataFrame behavior). To access a value by position, use `ser.iloc[pos]`\n",
      "  discretized_instance[f])]\n",
      "/Users/ygao/Library/Caches/pypoetry/virtualenvs/program-i-Fez0zm-py3.10/lib/python3.10/site-packages/lime/discretize.py:110: FutureWarning: Series.__getitem__ treating keys as positions is deprecated. In a future version, integer keys will always be treated as labels (consistent with DataFrame behavior). To access a value by position, use `ser.iloc[pos]`\n",
      "  ret[feature] = int(self.lambdas[feature](ret[feature]))\n",
      "/Users/ygao/Library/Caches/pypoetry/virtualenvs/program-i-Fez0zm-py3.10/lib/python3.10/site-packages/lime/discretize.py:110: FutureWarning: Series.__setitem__ treating keys as positions is deprecated. In a future version, integer keys will always be treated as labels (consistent with DataFrame behavior). To set a value by position, use `ser.iloc[pos] = value`\n",
      "  ret[feature] = int(self.lambdas[feature](ret[feature]))\n",
      "/Users/ygao/Library/Caches/pypoetry/virtualenvs/program-i-Fez0zm-py3.10/lib/python3.10/site-packages/lime/lime_tabular.py:544: FutureWarning: Series.__getitem__ treating keys as positions is deprecated. In a future version, integer keys will always be treated as labels (consistent with DataFrame behavior). To access a value by position, use `ser.iloc[pos]`\n",
      "  binary_column = (inverse_column == first_row[column]).astype(int)\n"
     ]
    },
    {
     "name": "stdout",
     "output_type": "stream",
     "text": [
      "157/157 [==============================] - 0s 2ms/step\n",
      " 61/157 [==========>...................] - ETA: 0s"
     ]
    },
    {
     "name": "stderr",
     "output_type": "stream",
     "text": [
      "/Users/ygao/Library/Caches/pypoetry/virtualenvs/program-i-Fez0zm-py3.10/lib/python3.10/site-packages/lime/discretize.py:110: FutureWarning: Series.__getitem__ treating keys as positions is deprecated. In a future version, integer keys will always be treated as labels (consistent with DataFrame behavior). To access a value by position, use `ser.iloc[pos]`\n",
      "  ret[feature] = int(self.lambdas[feature](ret[feature]))\n",
      "/Users/ygao/Library/Caches/pypoetry/virtualenvs/program-i-Fez0zm-py3.10/lib/python3.10/site-packages/lime/discretize.py:110: FutureWarning: Series.__setitem__ treating keys as positions is deprecated. In a future version, integer keys will always be treated as labels (consistent with DataFrame behavior). To set a value by position, use `ser.iloc[pos] = value`\n",
      "  ret[feature] = int(self.lambdas[feature](ret[feature]))\n",
      "/Users/ygao/Library/Caches/pypoetry/virtualenvs/program-i-Fez0zm-py3.10/lib/python3.10/site-packages/lime/lime_tabular.py:427: FutureWarning: Series.__getitem__ treating keys as positions is deprecated. In a future version, integer keys will always be treated as labels (consistent with DataFrame behavior). To access a value by position, use `ser.iloc[pos]`\n",
      "  discretized_instance[f])]\n",
      "/Users/ygao/Library/Caches/pypoetry/virtualenvs/program-i-Fez0zm-py3.10/lib/python3.10/site-packages/lime/discretize.py:110: FutureWarning: Series.__getitem__ treating keys as positions is deprecated. In a future version, integer keys will always be treated as labels (consistent with DataFrame behavior). To access a value by position, use `ser.iloc[pos]`\n",
      "  ret[feature] = int(self.lambdas[feature](ret[feature]))\n",
      "/Users/ygao/Library/Caches/pypoetry/virtualenvs/program-i-Fez0zm-py3.10/lib/python3.10/site-packages/lime/discretize.py:110: FutureWarning: Series.__setitem__ treating keys as positions is deprecated. In a future version, integer keys will always be treated as labels (consistent with DataFrame behavior). To set a value by position, use `ser.iloc[pos] = value`\n",
      "  ret[feature] = int(self.lambdas[feature](ret[feature]))\n",
      "/Users/ygao/Library/Caches/pypoetry/virtualenvs/program-i-Fez0zm-py3.10/lib/python3.10/site-packages/lime/lime_tabular.py:544: FutureWarning: Series.__getitem__ treating keys as positions is deprecated. In a future version, integer keys will always be treated as labels (consistent with DataFrame behavior). To access a value by position, use `ser.iloc[pos]`\n",
      "  binary_column = (inverse_column == first_row[column]).astype(int)\n"
     ]
    },
    {
     "name": "stdout",
     "output_type": "stream",
     "text": [
      "157/157 [==============================] - 0s 1ms/step\n",
      " 58/157 [==========>...................] - ETA: 0s"
     ]
    },
    {
     "name": "stderr",
     "output_type": "stream",
     "text": [
      "/Users/ygao/Library/Caches/pypoetry/virtualenvs/program-i-Fez0zm-py3.10/lib/python3.10/site-packages/lime/discretize.py:110: FutureWarning: Series.__getitem__ treating keys as positions is deprecated. In a future version, integer keys will always be treated as labels (consistent with DataFrame behavior). To access a value by position, use `ser.iloc[pos]`\n",
      "  ret[feature] = int(self.lambdas[feature](ret[feature]))\n",
      "/Users/ygao/Library/Caches/pypoetry/virtualenvs/program-i-Fez0zm-py3.10/lib/python3.10/site-packages/lime/discretize.py:110: FutureWarning: Series.__setitem__ treating keys as positions is deprecated. In a future version, integer keys will always be treated as labels (consistent with DataFrame behavior). To set a value by position, use `ser.iloc[pos] = value`\n",
      "  ret[feature] = int(self.lambdas[feature](ret[feature]))\n",
      "/Users/ygao/Library/Caches/pypoetry/virtualenvs/program-i-Fez0zm-py3.10/lib/python3.10/site-packages/lime/lime_tabular.py:427: FutureWarning: Series.__getitem__ treating keys as positions is deprecated. In a future version, integer keys will always be treated as labels (consistent with DataFrame behavior). To access a value by position, use `ser.iloc[pos]`\n",
      "  discretized_instance[f])]\n",
      "/Users/ygao/Library/Caches/pypoetry/virtualenvs/program-i-Fez0zm-py3.10/lib/python3.10/site-packages/lime/discretize.py:110: FutureWarning: Series.__getitem__ treating keys as positions is deprecated. In a future version, integer keys will always be treated as labels (consistent with DataFrame behavior). To access a value by position, use `ser.iloc[pos]`\n",
      "  ret[feature] = int(self.lambdas[feature](ret[feature]))\n",
      "/Users/ygao/Library/Caches/pypoetry/virtualenvs/program-i-Fez0zm-py3.10/lib/python3.10/site-packages/lime/discretize.py:110: FutureWarning: Series.__setitem__ treating keys as positions is deprecated. In a future version, integer keys will always be treated as labels (consistent with DataFrame behavior). To set a value by position, use `ser.iloc[pos] = value`\n",
      "  ret[feature] = int(self.lambdas[feature](ret[feature]))\n",
      "/Users/ygao/Library/Caches/pypoetry/virtualenvs/program-i-Fez0zm-py3.10/lib/python3.10/site-packages/lime/lime_tabular.py:544: FutureWarning: Series.__getitem__ treating keys as positions is deprecated. In a future version, integer keys will always be treated as labels (consistent with DataFrame behavior). To access a value by position, use `ser.iloc[pos]`\n",
      "  binary_column = (inverse_column == first_row[column]).astype(int)\n"
     ]
    },
    {
     "name": "stdout",
     "output_type": "stream",
     "text": [
      "157/157 [==============================] - 0s 1ms/step\n",
      " 72/157 [============>.................] - ETA: 0s"
     ]
    },
    {
     "name": "stderr",
     "output_type": "stream",
     "text": [
      "/Users/ygao/Library/Caches/pypoetry/virtualenvs/program-i-Fez0zm-py3.10/lib/python3.10/site-packages/lime/discretize.py:110: FutureWarning: Series.__getitem__ treating keys as positions is deprecated. In a future version, integer keys will always be treated as labels (consistent with DataFrame behavior). To access a value by position, use `ser.iloc[pos]`\n",
      "  ret[feature] = int(self.lambdas[feature](ret[feature]))\n",
      "/Users/ygao/Library/Caches/pypoetry/virtualenvs/program-i-Fez0zm-py3.10/lib/python3.10/site-packages/lime/discretize.py:110: FutureWarning: Series.__setitem__ treating keys as positions is deprecated. In a future version, integer keys will always be treated as labels (consistent with DataFrame behavior). To set a value by position, use `ser.iloc[pos] = value`\n",
      "  ret[feature] = int(self.lambdas[feature](ret[feature]))\n",
      "/Users/ygao/Library/Caches/pypoetry/virtualenvs/program-i-Fez0zm-py3.10/lib/python3.10/site-packages/lime/lime_tabular.py:427: FutureWarning: Series.__getitem__ treating keys as positions is deprecated. In a future version, integer keys will always be treated as labels (consistent with DataFrame behavior). To access a value by position, use `ser.iloc[pos]`\n",
      "  discretized_instance[f])]\n",
      "/Users/ygao/Library/Caches/pypoetry/virtualenvs/program-i-Fez0zm-py3.10/lib/python3.10/site-packages/lime/discretize.py:110: FutureWarning: Series.__getitem__ treating keys as positions is deprecated. In a future version, integer keys will always be treated as labels (consistent with DataFrame behavior). To access a value by position, use `ser.iloc[pos]`\n",
      "  ret[feature] = int(self.lambdas[feature](ret[feature]))\n",
      "/Users/ygao/Library/Caches/pypoetry/virtualenvs/program-i-Fez0zm-py3.10/lib/python3.10/site-packages/lime/discretize.py:110: FutureWarning: Series.__setitem__ treating keys as positions is deprecated. In a future version, integer keys will always be treated as labels (consistent with DataFrame behavior). To set a value by position, use `ser.iloc[pos] = value`\n",
      "  ret[feature] = int(self.lambdas[feature](ret[feature]))\n",
      "/Users/ygao/Library/Caches/pypoetry/virtualenvs/program-i-Fez0zm-py3.10/lib/python3.10/site-packages/lime/lime_tabular.py:544: FutureWarning: Series.__getitem__ treating keys as positions is deprecated. In a future version, integer keys will always be treated as labels (consistent with DataFrame behavior). To access a value by position, use `ser.iloc[pos]`\n",
      "  binary_column = (inverse_column == first_row[column]).astype(int)\n"
     ]
    },
    {
     "name": "stdout",
     "output_type": "stream",
     "text": [
      "157/157 [==============================] - 0s 1ms/step\n",
      " 51/157 [========>.....................] - ETA: 0s"
     ]
    },
    {
     "name": "stderr",
     "output_type": "stream",
     "text": [
      "/Users/ygao/Library/Caches/pypoetry/virtualenvs/program-i-Fez0zm-py3.10/lib/python3.10/site-packages/lime/discretize.py:110: FutureWarning: Series.__getitem__ treating keys as positions is deprecated. In a future version, integer keys will always be treated as labels (consistent with DataFrame behavior). To access a value by position, use `ser.iloc[pos]`\n",
      "  ret[feature] = int(self.lambdas[feature](ret[feature]))\n",
      "/Users/ygao/Library/Caches/pypoetry/virtualenvs/program-i-Fez0zm-py3.10/lib/python3.10/site-packages/lime/discretize.py:110: FutureWarning: Series.__setitem__ treating keys as positions is deprecated. In a future version, integer keys will always be treated as labels (consistent with DataFrame behavior). To set a value by position, use `ser.iloc[pos] = value`\n",
      "  ret[feature] = int(self.lambdas[feature](ret[feature]))\n",
      "/Users/ygao/Library/Caches/pypoetry/virtualenvs/program-i-Fez0zm-py3.10/lib/python3.10/site-packages/lime/lime_tabular.py:427: FutureWarning: Series.__getitem__ treating keys as positions is deprecated. In a future version, integer keys will always be treated as labels (consistent with DataFrame behavior). To access a value by position, use `ser.iloc[pos]`\n",
      "  discretized_instance[f])]\n",
      "/Users/ygao/Library/Caches/pypoetry/virtualenvs/program-i-Fez0zm-py3.10/lib/python3.10/site-packages/lime/discretize.py:110: FutureWarning: Series.__getitem__ treating keys as positions is deprecated. In a future version, integer keys will always be treated as labels (consistent with DataFrame behavior). To access a value by position, use `ser.iloc[pos]`\n",
      "  ret[feature] = int(self.lambdas[feature](ret[feature]))\n",
      "/Users/ygao/Library/Caches/pypoetry/virtualenvs/program-i-Fez0zm-py3.10/lib/python3.10/site-packages/lime/discretize.py:110: FutureWarning: Series.__setitem__ treating keys as positions is deprecated. In a future version, integer keys will always be treated as labels (consistent with DataFrame behavior). To set a value by position, use `ser.iloc[pos] = value`\n",
      "  ret[feature] = int(self.lambdas[feature](ret[feature]))\n",
      "/Users/ygao/Library/Caches/pypoetry/virtualenvs/program-i-Fez0zm-py3.10/lib/python3.10/site-packages/lime/lime_tabular.py:544: FutureWarning: Series.__getitem__ treating keys as positions is deprecated. In a future version, integer keys will always be treated as labels (consistent with DataFrame behavior). To access a value by position, use `ser.iloc[pos]`\n",
      "  binary_column = (inverse_column == first_row[column]).astype(int)\n"
     ]
    },
    {
     "name": "stdout",
     "output_type": "stream",
     "text": [
      "157/157 [==============================] - 0s 2ms/step\n",
      " 33/157 [=====>........................] - ETA: 0s"
     ]
    },
    {
     "name": "stderr",
     "output_type": "stream",
     "text": [
      "/Users/ygao/Library/Caches/pypoetry/virtualenvs/program-i-Fez0zm-py3.10/lib/python3.10/site-packages/lime/discretize.py:110: FutureWarning: Series.__getitem__ treating keys as positions is deprecated. In a future version, integer keys will always be treated as labels (consistent with DataFrame behavior). To access a value by position, use `ser.iloc[pos]`\n",
      "  ret[feature] = int(self.lambdas[feature](ret[feature]))\n",
      "/Users/ygao/Library/Caches/pypoetry/virtualenvs/program-i-Fez0zm-py3.10/lib/python3.10/site-packages/lime/discretize.py:110: FutureWarning: Series.__setitem__ treating keys as positions is deprecated. In a future version, integer keys will always be treated as labels (consistent with DataFrame behavior). To set a value by position, use `ser.iloc[pos] = value`\n",
      "  ret[feature] = int(self.lambdas[feature](ret[feature]))\n",
      "/Users/ygao/Library/Caches/pypoetry/virtualenvs/program-i-Fez0zm-py3.10/lib/python3.10/site-packages/lime/lime_tabular.py:427: FutureWarning: Series.__getitem__ treating keys as positions is deprecated. In a future version, integer keys will always be treated as labels (consistent with DataFrame behavior). To access a value by position, use `ser.iloc[pos]`\n",
      "  discretized_instance[f])]\n",
      "/Users/ygao/Library/Caches/pypoetry/virtualenvs/program-i-Fez0zm-py3.10/lib/python3.10/site-packages/lime/discretize.py:110: FutureWarning: Series.__getitem__ treating keys as positions is deprecated. In a future version, integer keys will always be treated as labels (consistent with DataFrame behavior). To access a value by position, use `ser.iloc[pos]`\n",
      "  ret[feature] = int(self.lambdas[feature](ret[feature]))\n",
      "/Users/ygao/Library/Caches/pypoetry/virtualenvs/program-i-Fez0zm-py3.10/lib/python3.10/site-packages/lime/discretize.py:110: FutureWarning: Series.__setitem__ treating keys as positions is deprecated. In a future version, integer keys will always be treated as labels (consistent with DataFrame behavior). To set a value by position, use `ser.iloc[pos] = value`\n",
      "  ret[feature] = int(self.lambdas[feature](ret[feature]))\n",
      "/Users/ygao/Library/Caches/pypoetry/virtualenvs/program-i-Fez0zm-py3.10/lib/python3.10/site-packages/lime/lime_tabular.py:544: FutureWarning: Series.__getitem__ treating keys as positions is deprecated. In a future version, integer keys will always be treated as labels (consistent with DataFrame behavior). To access a value by position, use `ser.iloc[pos]`\n",
      "  binary_column = (inverse_column == first_row[column]).astype(int)\n"
     ]
    },
    {
     "name": "stdout",
     "output_type": "stream",
     "text": [
      "157/157 [==============================] - 0s 1ms/step\n",
      " 71/157 [============>.................] - ETA: 0s"
     ]
    },
    {
     "name": "stderr",
     "output_type": "stream",
     "text": [
      "/Users/ygao/Library/Caches/pypoetry/virtualenvs/program-i-Fez0zm-py3.10/lib/python3.10/site-packages/lime/discretize.py:110: FutureWarning: Series.__getitem__ treating keys as positions is deprecated. In a future version, integer keys will always be treated as labels (consistent with DataFrame behavior). To access a value by position, use `ser.iloc[pos]`\n",
      "  ret[feature] = int(self.lambdas[feature](ret[feature]))\n",
      "/Users/ygao/Library/Caches/pypoetry/virtualenvs/program-i-Fez0zm-py3.10/lib/python3.10/site-packages/lime/discretize.py:110: FutureWarning: Series.__setitem__ treating keys as positions is deprecated. In a future version, integer keys will always be treated as labels (consistent with DataFrame behavior). To set a value by position, use `ser.iloc[pos] = value`\n",
      "  ret[feature] = int(self.lambdas[feature](ret[feature]))\n",
      "/Users/ygao/Library/Caches/pypoetry/virtualenvs/program-i-Fez0zm-py3.10/lib/python3.10/site-packages/lime/lime_tabular.py:427: FutureWarning: Series.__getitem__ treating keys as positions is deprecated. In a future version, integer keys will always be treated as labels (consistent with DataFrame behavior). To access a value by position, use `ser.iloc[pos]`\n",
      "  discretized_instance[f])]\n",
      "/Users/ygao/Library/Caches/pypoetry/virtualenvs/program-i-Fez0zm-py3.10/lib/python3.10/site-packages/lime/discretize.py:110: FutureWarning: Series.__getitem__ treating keys as positions is deprecated. In a future version, integer keys will always be treated as labels (consistent with DataFrame behavior). To access a value by position, use `ser.iloc[pos]`\n",
      "  ret[feature] = int(self.lambdas[feature](ret[feature]))\n",
      "/Users/ygao/Library/Caches/pypoetry/virtualenvs/program-i-Fez0zm-py3.10/lib/python3.10/site-packages/lime/discretize.py:110: FutureWarning: Series.__setitem__ treating keys as positions is deprecated. In a future version, integer keys will always be treated as labels (consistent with DataFrame behavior). To set a value by position, use `ser.iloc[pos] = value`\n",
      "  ret[feature] = int(self.lambdas[feature](ret[feature]))\n",
      "/Users/ygao/Library/Caches/pypoetry/virtualenvs/program-i-Fez0zm-py3.10/lib/python3.10/site-packages/lime/lime_tabular.py:544: FutureWarning: Series.__getitem__ treating keys as positions is deprecated. In a future version, integer keys will always be treated as labels (consistent with DataFrame behavior). To access a value by position, use `ser.iloc[pos]`\n",
      "  binary_column = (inverse_column == first_row[column]).astype(int)\n"
     ]
    },
    {
     "name": "stdout",
     "output_type": "stream",
     "text": [
      "157/157 [==============================] - 0s 1ms/step\n",
      " 27/157 [====>.........................] - ETA: 0s"
     ]
    },
    {
     "name": "stderr",
     "output_type": "stream",
     "text": [
      "/Users/ygao/Library/Caches/pypoetry/virtualenvs/program-i-Fez0zm-py3.10/lib/python3.10/site-packages/lime/discretize.py:110: FutureWarning: Series.__getitem__ treating keys as positions is deprecated. In a future version, integer keys will always be treated as labels (consistent with DataFrame behavior). To access a value by position, use `ser.iloc[pos]`\n",
      "  ret[feature] = int(self.lambdas[feature](ret[feature]))\n",
      "/Users/ygao/Library/Caches/pypoetry/virtualenvs/program-i-Fez0zm-py3.10/lib/python3.10/site-packages/lime/discretize.py:110: FutureWarning: Series.__setitem__ treating keys as positions is deprecated. In a future version, integer keys will always be treated as labels (consistent with DataFrame behavior). To set a value by position, use `ser.iloc[pos] = value`\n",
      "  ret[feature] = int(self.lambdas[feature](ret[feature]))\n",
      "/Users/ygao/Library/Caches/pypoetry/virtualenvs/program-i-Fez0zm-py3.10/lib/python3.10/site-packages/lime/lime_tabular.py:427: FutureWarning: Series.__getitem__ treating keys as positions is deprecated. In a future version, integer keys will always be treated as labels (consistent with DataFrame behavior). To access a value by position, use `ser.iloc[pos]`\n",
      "  discretized_instance[f])]\n",
      "/Users/ygao/Library/Caches/pypoetry/virtualenvs/program-i-Fez0zm-py3.10/lib/python3.10/site-packages/lime/discretize.py:110: FutureWarning: Series.__getitem__ treating keys as positions is deprecated. In a future version, integer keys will always be treated as labels (consistent with DataFrame behavior). To access a value by position, use `ser.iloc[pos]`\n",
      "  ret[feature] = int(self.lambdas[feature](ret[feature]))\n",
      "/Users/ygao/Library/Caches/pypoetry/virtualenvs/program-i-Fez0zm-py3.10/lib/python3.10/site-packages/lime/discretize.py:110: FutureWarning: Series.__setitem__ treating keys as positions is deprecated. In a future version, integer keys will always be treated as labels (consistent with DataFrame behavior). To set a value by position, use `ser.iloc[pos] = value`\n",
      "  ret[feature] = int(self.lambdas[feature](ret[feature]))\n",
      "/Users/ygao/Library/Caches/pypoetry/virtualenvs/program-i-Fez0zm-py3.10/lib/python3.10/site-packages/lime/lime_tabular.py:544: FutureWarning: Series.__getitem__ treating keys as positions is deprecated. In a future version, integer keys will always be treated as labels (consistent with DataFrame behavior). To access a value by position, use `ser.iloc[pos]`\n",
      "  binary_column = (inverse_column == first_row[column]).astype(int)\n"
     ]
    },
    {
     "name": "stdout",
     "output_type": "stream",
     "text": [
      "157/157 [==============================] - 0s 1ms/step\n",
      " 39/157 [======>.......................] - ETA: 0s"
     ]
    },
    {
     "name": "stderr",
     "output_type": "stream",
     "text": [
      "/Users/ygao/Library/Caches/pypoetry/virtualenvs/program-i-Fez0zm-py3.10/lib/python3.10/site-packages/lime/discretize.py:110: FutureWarning: Series.__getitem__ treating keys as positions is deprecated. In a future version, integer keys will always be treated as labels (consistent with DataFrame behavior). To access a value by position, use `ser.iloc[pos]`\n",
      "  ret[feature] = int(self.lambdas[feature](ret[feature]))\n",
      "/Users/ygao/Library/Caches/pypoetry/virtualenvs/program-i-Fez0zm-py3.10/lib/python3.10/site-packages/lime/discretize.py:110: FutureWarning: Series.__setitem__ treating keys as positions is deprecated. In a future version, integer keys will always be treated as labels (consistent with DataFrame behavior). To set a value by position, use `ser.iloc[pos] = value`\n",
      "  ret[feature] = int(self.lambdas[feature](ret[feature]))\n",
      "/Users/ygao/Library/Caches/pypoetry/virtualenvs/program-i-Fez0zm-py3.10/lib/python3.10/site-packages/lime/lime_tabular.py:427: FutureWarning: Series.__getitem__ treating keys as positions is deprecated. In a future version, integer keys will always be treated as labels (consistent with DataFrame behavior). To access a value by position, use `ser.iloc[pos]`\n",
      "  discretized_instance[f])]\n",
      "/Users/ygao/Library/Caches/pypoetry/virtualenvs/program-i-Fez0zm-py3.10/lib/python3.10/site-packages/lime/discretize.py:110: FutureWarning: Series.__getitem__ treating keys as positions is deprecated. In a future version, integer keys will always be treated as labels (consistent with DataFrame behavior). To access a value by position, use `ser.iloc[pos]`\n",
      "  ret[feature] = int(self.lambdas[feature](ret[feature]))\n",
      "/Users/ygao/Library/Caches/pypoetry/virtualenvs/program-i-Fez0zm-py3.10/lib/python3.10/site-packages/lime/discretize.py:110: FutureWarning: Series.__setitem__ treating keys as positions is deprecated. In a future version, integer keys will always be treated as labels (consistent with DataFrame behavior). To set a value by position, use `ser.iloc[pos] = value`\n",
      "  ret[feature] = int(self.lambdas[feature](ret[feature]))\n",
      "/Users/ygao/Library/Caches/pypoetry/virtualenvs/program-i-Fez0zm-py3.10/lib/python3.10/site-packages/lime/lime_tabular.py:544: FutureWarning: Series.__getitem__ treating keys as positions is deprecated. In a future version, integer keys will always be treated as labels (consistent with DataFrame behavior). To access a value by position, use `ser.iloc[pos]`\n",
      "  binary_column = (inverse_column == first_row[column]).astype(int)\n"
     ]
    },
    {
     "name": "stdout",
     "output_type": "stream",
     "text": [
      "157/157 [==============================] - 0s 1ms/step\n",
      " 62/157 [==========>...................] - ETA: 0s"
     ]
    },
    {
     "name": "stderr",
     "output_type": "stream",
     "text": [
      "/Users/ygao/Library/Caches/pypoetry/virtualenvs/program-i-Fez0zm-py3.10/lib/python3.10/site-packages/lime/discretize.py:110: FutureWarning: Series.__getitem__ treating keys as positions is deprecated. In a future version, integer keys will always be treated as labels (consistent with DataFrame behavior). To access a value by position, use `ser.iloc[pos]`\n",
      "  ret[feature] = int(self.lambdas[feature](ret[feature]))\n",
      "/Users/ygao/Library/Caches/pypoetry/virtualenvs/program-i-Fez0zm-py3.10/lib/python3.10/site-packages/lime/discretize.py:110: FutureWarning: Series.__setitem__ treating keys as positions is deprecated. In a future version, integer keys will always be treated as labels (consistent with DataFrame behavior). To set a value by position, use `ser.iloc[pos] = value`\n",
      "  ret[feature] = int(self.lambdas[feature](ret[feature]))\n",
      "/Users/ygao/Library/Caches/pypoetry/virtualenvs/program-i-Fez0zm-py3.10/lib/python3.10/site-packages/lime/lime_tabular.py:427: FutureWarning: Series.__getitem__ treating keys as positions is deprecated. In a future version, integer keys will always be treated as labels (consistent with DataFrame behavior). To access a value by position, use `ser.iloc[pos]`\n",
      "  discretized_instance[f])]\n",
      "/Users/ygao/Library/Caches/pypoetry/virtualenvs/program-i-Fez0zm-py3.10/lib/python3.10/site-packages/lime/discretize.py:110: FutureWarning: Series.__getitem__ treating keys as positions is deprecated. In a future version, integer keys will always be treated as labels (consistent with DataFrame behavior). To access a value by position, use `ser.iloc[pos]`\n",
      "  ret[feature] = int(self.lambdas[feature](ret[feature]))\n",
      "/Users/ygao/Library/Caches/pypoetry/virtualenvs/program-i-Fez0zm-py3.10/lib/python3.10/site-packages/lime/discretize.py:110: FutureWarning: Series.__setitem__ treating keys as positions is deprecated. In a future version, integer keys will always be treated as labels (consistent with DataFrame behavior). To set a value by position, use `ser.iloc[pos] = value`\n",
      "  ret[feature] = int(self.lambdas[feature](ret[feature]))\n",
      "/Users/ygao/Library/Caches/pypoetry/virtualenvs/program-i-Fez0zm-py3.10/lib/python3.10/site-packages/lime/lime_tabular.py:544: FutureWarning: Series.__getitem__ treating keys as positions is deprecated. In a future version, integer keys will always be treated as labels (consistent with DataFrame behavior). To access a value by position, use `ser.iloc[pos]`\n",
      "  binary_column = (inverse_column == first_row[column]).astype(int)\n"
     ]
    },
    {
     "name": "stdout",
     "output_type": "stream",
     "text": [
      "157/157 [==============================] - 0s 1ms/step\n",
      " 75/157 [=============>................] - ETA: 0s"
     ]
    },
    {
     "name": "stderr",
     "output_type": "stream",
     "text": [
      "/Users/ygao/Library/Caches/pypoetry/virtualenvs/program-i-Fez0zm-py3.10/lib/python3.10/site-packages/lime/discretize.py:110: FutureWarning: Series.__getitem__ treating keys as positions is deprecated. In a future version, integer keys will always be treated as labels (consistent with DataFrame behavior). To access a value by position, use `ser.iloc[pos]`\n",
      "  ret[feature] = int(self.lambdas[feature](ret[feature]))\n",
      "/Users/ygao/Library/Caches/pypoetry/virtualenvs/program-i-Fez0zm-py3.10/lib/python3.10/site-packages/lime/discretize.py:110: FutureWarning: Series.__setitem__ treating keys as positions is deprecated. In a future version, integer keys will always be treated as labels (consistent with DataFrame behavior). To set a value by position, use `ser.iloc[pos] = value`\n",
      "  ret[feature] = int(self.lambdas[feature](ret[feature]))\n",
      "/Users/ygao/Library/Caches/pypoetry/virtualenvs/program-i-Fez0zm-py3.10/lib/python3.10/site-packages/lime/lime_tabular.py:427: FutureWarning: Series.__getitem__ treating keys as positions is deprecated. In a future version, integer keys will always be treated as labels (consistent with DataFrame behavior). To access a value by position, use `ser.iloc[pos]`\n",
      "  discretized_instance[f])]\n",
      "/Users/ygao/Library/Caches/pypoetry/virtualenvs/program-i-Fez0zm-py3.10/lib/python3.10/site-packages/lime/discretize.py:110: FutureWarning: Series.__getitem__ treating keys as positions is deprecated. In a future version, integer keys will always be treated as labels (consistent with DataFrame behavior). To access a value by position, use `ser.iloc[pos]`\n",
      "  ret[feature] = int(self.lambdas[feature](ret[feature]))\n",
      "/Users/ygao/Library/Caches/pypoetry/virtualenvs/program-i-Fez0zm-py3.10/lib/python3.10/site-packages/lime/discretize.py:110: FutureWarning: Series.__setitem__ treating keys as positions is deprecated. In a future version, integer keys will always be treated as labels (consistent with DataFrame behavior). To set a value by position, use `ser.iloc[pos] = value`\n",
      "  ret[feature] = int(self.lambdas[feature](ret[feature]))\n",
      "/Users/ygao/Library/Caches/pypoetry/virtualenvs/program-i-Fez0zm-py3.10/lib/python3.10/site-packages/lime/lime_tabular.py:544: FutureWarning: Series.__getitem__ treating keys as positions is deprecated. In a future version, integer keys will always be treated as labels (consistent with DataFrame behavior). To access a value by position, use `ser.iloc[pos]`\n",
      "  binary_column = (inverse_column == first_row[column]).astype(int)\n"
     ]
    },
    {
     "name": "stdout",
     "output_type": "stream",
     "text": [
      "157/157 [==============================] - 0s 1ms/step\n",
      " 76/157 [=============>................] - ETA: 0s"
     ]
    },
    {
     "name": "stderr",
     "output_type": "stream",
     "text": [
      "/Users/ygao/Library/Caches/pypoetry/virtualenvs/program-i-Fez0zm-py3.10/lib/python3.10/site-packages/lime/discretize.py:110: FutureWarning: Series.__getitem__ treating keys as positions is deprecated. In a future version, integer keys will always be treated as labels (consistent with DataFrame behavior). To access a value by position, use `ser.iloc[pos]`\n",
      "  ret[feature] = int(self.lambdas[feature](ret[feature]))\n",
      "/Users/ygao/Library/Caches/pypoetry/virtualenvs/program-i-Fez0zm-py3.10/lib/python3.10/site-packages/lime/discretize.py:110: FutureWarning: Series.__setitem__ treating keys as positions is deprecated. In a future version, integer keys will always be treated as labels (consistent with DataFrame behavior). To set a value by position, use `ser.iloc[pos] = value`\n",
      "  ret[feature] = int(self.lambdas[feature](ret[feature]))\n",
      "/Users/ygao/Library/Caches/pypoetry/virtualenvs/program-i-Fez0zm-py3.10/lib/python3.10/site-packages/lime/lime_tabular.py:427: FutureWarning: Series.__getitem__ treating keys as positions is deprecated. In a future version, integer keys will always be treated as labels (consistent with DataFrame behavior). To access a value by position, use `ser.iloc[pos]`\n",
      "  discretized_instance[f])]\n",
      "/Users/ygao/Library/Caches/pypoetry/virtualenvs/program-i-Fez0zm-py3.10/lib/python3.10/site-packages/lime/discretize.py:110: FutureWarning: Series.__getitem__ treating keys as positions is deprecated. In a future version, integer keys will always be treated as labels (consistent with DataFrame behavior). To access a value by position, use `ser.iloc[pos]`\n",
      "  ret[feature] = int(self.lambdas[feature](ret[feature]))\n",
      "/Users/ygao/Library/Caches/pypoetry/virtualenvs/program-i-Fez0zm-py3.10/lib/python3.10/site-packages/lime/discretize.py:110: FutureWarning: Series.__setitem__ treating keys as positions is deprecated. In a future version, integer keys will always be treated as labels (consistent with DataFrame behavior). To set a value by position, use `ser.iloc[pos] = value`\n",
      "  ret[feature] = int(self.lambdas[feature](ret[feature]))\n",
      "/Users/ygao/Library/Caches/pypoetry/virtualenvs/program-i-Fez0zm-py3.10/lib/python3.10/site-packages/lime/lime_tabular.py:544: FutureWarning: Series.__getitem__ treating keys as positions is deprecated. In a future version, integer keys will always be treated as labels (consistent with DataFrame behavior). To access a value by position, use `ser.iloc[pos]`\n",
      "  binary_column = (inverse_column == first_row[column]).astype(int)\n"
     ]
    },
    {
     "name": "stdout",
     "output_type": "stream",
     "text": [
      "157/157 [==============================] - 0s 1ms/step\n",
      " 79/157 [==============>...............] - ETA: 0s"
     ]
    },
    {
     "name": "stderr",
     "output_type": "stream",
     "text": [
      "/Users/ygao/Library/Caches/pypoetry/virtualenvs/program-i-Fez0zm-py3.10/lib/python3.10/site-packages/lime/discretize.py:110: FutureWarning: Series.__getitem__ treating keys as positions is deprecated. In a future version, integer keys will always be treated as labels (consistent with DataFrame behavior). To access a value by position, use `ser.iloc[pos]`\n",
      "  ret[feature] = int(self.lambdas[feature](ret[feature]))\n",
      "/Users/ygao/Library/Caches/pypoetry/virtualenvs/program-i-Fez0zm-py3.10/lib/python3.10/site-packages/lime/discretize.py:110: FutureWarning: Series.__setitem__ treating keys as positions is deprecated. In a future version, integer keys will always be treated as labels (consistent with DataFrame behavior). To set a value by position, use `ser.iloc[pos] = value`\n",
      "  ret[feature] = int(self.lambdas[feature](ret[feature]))\n",
      "/Users/ygao/Library/Caches/pypoetry/virtualenvs/program-i-Fez0zm-py3.10/lib/python3.10/site-packages/lime/lime_tabular.py:427: FutureWarning: Series.__getitem__ treating keys as positions is deprecated. In a future version, integer keys will always be treated as labels (consistent with DataFrame behavior). To access a value by position, use `ser.iloc[pos]`\n",
      "  discretized_instance[f])]\n",
      "/Users/ygao/Library/Caches/pypoetry/virtualenvs/program-i-Fez0zm-py3.10/lib/python3.10/site-packages/lime/discretize.py:110: FutureWarning: Series.__getitem__ treating keys as positions is deprecated. In a future version, integer keys will always be treated as labels (consistent with DataFrame behavior). To access a value by position, use `ser.iloc[pos]`\n",
      "  ret[feature] = int(self.lambdas[feature](ret[feature]))\n",
      "/Users/ygao/Library/Caches/pypoetry/virtualenvs/program-i-Fez0zm-py3.10/lib/python3.10/site-packages/lime/discretize.py:110: FutureWarning: Series.__setitem__ treating keys as positions is deprecated. In a future version, integer keys will always be treated as labels (consistent with DataFrame behavior). To set a value by position, use `ser.iloc[pos] = value`\n",
      "  ret[feature] = int(self.lambdas[feature](ret[feature]))\n",
      "/Users/ygao/Library/Caches/pypoetry/virtualenvs/program-i-Fez0zm-py3.10/lib/python3.10/site-packages/lime/lime_tabular.py:544: FutureWarning: Series.__getitem__ treating keys as positions is deprecated. In a future version, integer keys will always be treated as labels (consistent with DataFrame behavior). To access a value by position, use `ser.iloc[pos]`\n",
      "  binary_column = (inverse_column == first_row[column]).astype(int)\n"
     ]
    },
    {
     "name": "stdout",
     "output_type": "stream",
     "text": [
      "157/157 [==============================] - 0s 1ms/step\n",
      " 53/157 [=========>....................] - ETA: 0s"
     ]
    },
    {
     "name": "stderr",
     "output_type": "stream",
     "text": [
      "/Users/ygao/Library/Caches/pypoetry/virtualenvs/program-i-Fez0zm-py3.10/lib/python3.10/site-packages/lime/discretize.py:110: FutureWarning: Series.__getitem__ treating keys as positions is deprecated. In a future version, integer keys will always be treated as labels (consistent with DataFrame behavior). To access a value by position, use `ser.iloc[pos]`\n",
      "  ret[feature] = int(self.lambdas[feature](ret[feature]))\n",
      "/Users/ygao/Library/Caches/pypoetry/virtualenvs/program-i-Fez0zm-py3.10/lib/python3.10/site-packages/lime/discretize.py:110: FutureWarning: Series.__setitem__ treating keys as positions is deprecated. In a future version, integer keys will always be treated as labels (consistent with DataFrame behavior). To set a value by position, use `ser.iloc[pos] = value`\n",
      "  ret[feature] = int(self.lambdas[feature](ret[feature]))\n",
      "/Users/ygao/Library/Caches/pypoetry/virtualenvs/program-i-Fez0zm-py3.10/lib/python3.10/site-packages/lime/lime_tabular.py:427: FutureWarning: Series.__getitem__ treating keys as positions is deprecated. In a future version, integer keys will always be treated as labels (consistent with DataFrame behavior). To access a value by position, use `ser.iloc[pos]`\n",
      "  discretized_instance[f])]\n",
      "/Users/ygao/Library/Caches/pypoetry/virtualenvs/program-i-Fez0zm-py3.10/lib/python3.10/site-packages/lime/discretize.py:110: FutureWarning: Series.__getitem__ treating keys as positions is deprecated. In a future version, integer keys will always be treated as labels (consistent with DataFrame behavior). To access a value by position, use `ser.iloc[pos]`\n",
      "  ret[feature] = int(self.lambdas[feature](ret[feature]))\n",
      "/Users/ygao/Library/Caches/pypoetry/virtualenvs/program-i-Fez0zm-py3.10/lib/python3.10/site-packages/lime/discretize.py:110: FutureWarning: Series.__setitem__ treating keys as positions is deprecated. In a future version, integer keys will always be treated as labels (consistent with DataFrame behavior). To set a value by position, use `ser.iloc[pos] = value`\n",
      "  ret[feature] = int(self.lambdas[feature](ret[feature]))\n",
      "/Users/ygao/Library/Caches/pypoetry/virtualenvs/program-i-Fez0zm-py3.10/lib/python3.10/site-packages/lime/lime_tabular.py:544: FutureWarning: Series.__getitem__ treating keys as positions is deprecated. In a future version, integer keys will always be treated as labels (consistent with DataFrame behavior). To access a value by position, use `ser.iloc[pos]`\n",
      "  binary_column = (inverse_column == first_row[column]).astype(int)\n"
     ]
    },
    {
     "name": "stdout",
     "output_type": "stream",
     "text": [
      "157/157 [==============================] - 0s 2ms/step\n",
      " 75/157 [=============>................] - ETA: 0s"
     ]
    },
    {
     "name": "stderr",
     "output_type": "stream",
     "text": [
      "/Users/ygao/Library/Caches/pypoetry/virtualenvs/program-i-Fez0zm-py3.10/lib/python3.10/site-packages/lime/discretize.py:110: FutureWarning: Series.__getitem__ treating keys as positions is deprecated. In a future version, integer keys will always be treated as labels (consistent with DataFrame behavior). To access a value by position, use `ser.iloc[pos]`\n",
      "  ret[feature] = int(self.lambdas[feature](ret[feature]))\n",
      "/Users/ygao/Library/Caches/pypoetry/virtualenvs/program-i-Fez0zm-py3.10/lib/python3.10/site-packages/lime/discretize.py:110: FutureWarning: Series.__setitem__ treating keys as positions is deprecated. In a future version, integer keys will always be treated as labels (consistent with DataFrame behavior). To set a value by position, use `ser.iloc[pos] = value`\n",
      "  ret[feature] = int(self.lambdas[feature](ret[feature]))\n",
      "/Users/ygao/Library/Caches/pypoetry/virtualenvs/program-i-Fez0zm-py3.10/lib/python3.10/site-packages/lime/lime_tabular.py:427: FutureWarning: Series.__getitem__ treating keys as positions is deprecated. In a future version, integer keys will always be treated as labels (consistent with DataFrame behavior). To access a value by position, use `ser.iloc[pos]`\n",
      "  discretized_instance[f])]\n",
      "/Users/ygao/Library/Caches/pypoetry/virtualenvs/program-i-Fez0zm-py3.10/lib/python3.10/site-packages/lime/discretize.py:110: FutureWarning: Series.__getitem__ treating keys as positions is deprecated. In a future version, integer keys will always be treated as labels (consistent with DataFrame behavior). To access a value by position, use `ser.iloc[pos]`\n",
      "  ret[feature] = int(self.lambdas[feature](ret[feature]))\n",
      "/Users/ygao/Library/Caches/pypoetry/virtualenvs/program-i-Fez0zm-py3.10/lib/python3.10/site-packages/lime/discretize.py:110: FutureWarning: Series.__setitem__ treating keys as positions is deprecated. In a future version, integer keys will always be treated as labels (consistent with DataFrame behavior). To set a value by position, use `ser.iloc[pos] = value`\n",
      "  ret[feature] = int(self.lambdas[feature](ret[feature]))\n",
      "/Users/ygao/Library/Caches/pypoetry/virtualenvs/program-i-Fez0zm-py3.10/lib/python3.10/site-packages/lime/lime_tabular.py:544: FutureWarning: Series.__getitem__ treating keys as positions is deprecated. In a future version, integer keys will always be treated as labels (consistent with DataFrame behavior). To access a value by position, use `ser.iloc[pos]`\n",
      "  binary_column = (inverse_column == first_row[column]).astype(int)\n"
     ]
    },
    {
     "name": "stdout",
     "output_type": "stream",
     "text": [
      "157/157 [==============================] - 0s 1ms/step\n",
      " 88/157 [===============>..............] - ETA: 0s"
     ]
    },
    {
     "name": "stderr",
     "output_type": "stream",
     "text": [
      "/Users/ygao/Library/Caches/pypoetry/virtualenvs/program-i-Fez0zm-py3.10/lib/python3.10/site-packages/lime/discretize.py:110: FutureWarning: Series.__getitem__ treating keys as positions is deprecated. In a future version, integer keys will always be treated as labels (consistent with DataFrame behavior). To access a value by position, use `ser.iloc[pos]`\n",
      "  ret[feature] = int(self.lambdas[feature](ret[feature]))\n",
      "/Users/ygao/Library/Caches/pypoetry/virtualenvs/program-i-Fez0zm-py3.10/lib/python3.10/site-packages/lime/discretize.py:110: FutureWarning: Series.__setitem__ treating keys as positions is deprecated. In a future version, integer keys will always be treated as labels (consistent with DataFrame behavior). To set a value by position, use `ser.iloc[pos] = value`\n",
      "  ret[feature] = int(self.lambdas[feature](ret[feature]))\n",
      "/Users/ygao/Library/Caches/pypoetry/virtualenvs/program-i-Fez0zm-py3.10/lib/python3.10/site-packages/lime/lime_tabular.py:427: FutureWarning: Series.__getitem__ treating keys as positions is deprecated. In a future version, integer keys will always be treated as labels (consistent with DataFrame behavior). To access a value by position, use `ser.iloc[pos]`\n",
      "  discretized_instance[f])]\n",
      "/Users/ygao/Library/Caches/pypoetry/virtualenvs/program-i-Fez0zm-py3.10/lib/python3.10/site-packages/lime/discretize.py:110: FutureWarning: Series.__getitem__ treating keys as positions is deprecated. In a future version, integer keys will always be treated as labels (consistent with DataFrame behavior). To access a value by position, use `ser.iloc[pos]`\n",
      "  ret[feature] = int(self.lambdas[feature](ret[feature]))\n",
      "/Users/ygao/Library/Caches/pypoetry/virtualenvs/program-i-Fez0zm-py3.10/lib/python3.10/site-packages/lime/discretize.py:110: FutureWarning: Series.__setitem__ treating keys as positions is deprecated. In a future version, integer keys will always be treated as labels (consistent with DataFrame behavior). To set a value by position, use `ser.iloc[pos] = value`\n",
      "  ret[feature] = int(self.lambdas[feature](ret[feature]))\n",
      "/Users/ygao/Library/Caches/pypoetry/virtualenvs/program-i-Fez0zm-py3.10/lib/python3.10/site-packages/lime/lime_tabular.py:544: FutureWarning: Series.__getitem__ treating keys as positions is deprecated. In a future version, integer keys will always be treated as labels (consistent with DataFrame behavior). To access a value by position, use `ser.iloc[pos]`\n",
      "  binary_column = (inverse_column == first_row[column]).astype(int)\n"
     ]
    },
    {
     "name": "stdout",
     "output_type": "stream",
     "text": [
      "157/157 [==============================] - 0s 2ms/step\n",
      " 81/157 [==============>...............] - ETA: 0s"
     ]
    },
    {
     "name": "stderr",
     "output_type": "stream",
     "text": [
      "/Users/ygao/Library/Caches/pypoetry/virtualenvs/program-i-Fez0zm-py3.10/lib/python3.10/site-packages/lime/discretize.py:110: FutureWarning: Series.__getitem__ treating keys as positions is deprecated. In a future version, integer keys will always be treated as labels (consistent with DataFrame behavior). To access a value by position, use `ser.iloc[pos]`\n",
      "  ret[feature] = int(self.lambdas[feature](ret[feature]))\n",
      "/Users/ygao/Library/Caches/pypoetry/virtualenvs/program-i-Fez0zm-py3.10/lib/python3.10/site-packages/lime/discretize.py:110: FutureWarning: Series.__setitem__ treating keys as positions is deprecated. In a future version, integer keys will always be treated as labels (consistent with DataFrame behavior). To set a value by position, use `ser.iloc[pos] = value`\n",
      "  ret[feature] = int(self.lambdas[feature](ret[feature]))\n",
      "/Users/ygao/Library/Caches/pypoetry/virtualenvs/program-i-Fez0zm-py3.10/lib/python3.10/site-packages/lime/lime_tabular.py:427: FutureWarning: Series.__getitem__ treating keys as positions is deprecated. In a future version, integer keys will always be treated as labels (consistent with DataFrame behavior). To access a value by position, use `ser.iloc[pos]`\n",
      "  discretized_instance[f])]\n",
      "/Users/ygao/Library/Caches/pypoetry/virtualenvs/program-i-Fez0zm-py3.10/lib/python3.10/site-packages/lime/discretize.py:110: FutureWarning: Series.__getitem__ treating keys as positions is deprecated. In a future version, integer keys will always be treated as labels (consistent with DataFrame behavior). To access a value by position, use `ser.iloc[pos]`\n",
      "  ret[feature] = int(self.lambdas[feature](ret[feature]))\n",
      "/Users/ygao/Library/Caches/pypoetry/virtualenvs/program-i-Fez0zm-py3.10/lib/python3.10/site-packages/lime/discretize.py:110: FutureWarning: Series.__setitem__ treating keys as positions is deprecated. In a future version, integer keys will always be treated as labels (consistent with DataFrame behavior). To set a value by position, use `ser.iloc[pos] = value`\n",
      "  ret[feature] = int(self.lambdas[feature](ret[feature]))\n",
      "/Users/ygao/Library/Caches/pypoetry/virtualenvs/program-i-Fez0zm-py3.10/lib/python3.10/site-packages/lime/lime_tabular.py:544: FutureWarning: Series.__getitem__ treating keys as positions is deprecated. In a future version, integer keys will always be treated as labels (consistent with DataFrame behavior). To access a value by position, use `ser.iloc[pos]`\n",
      "  binary_column = (inverse_column == first_row[column]).astype(int)\n"
     ]
    },
    {
     "name": "stdout",
     "output_type": "stream",
     "text": [
      "157/157 [==============================] - 0s 1ms/step\n",
      " 76/157 [=============>................] - ETA: 0s"
     ]
    },
    {
     "name": "stderr",
     "output_type": "stream",
     "text": [
      "/Users/ygao/Library/Caches/pypoetry/virtualenvs/program-i-Fez0zm-py3.10/lib/python3.10/site-packages/lime/discretize.py:110: FutureWarning: Series.__getitem__ treating keys as positions is deprecated. In a future version, integer keys will always be treated as labels (consistent with DataFrame behavior). To access a value by position, use `ser.iloc[pos]`\n",
      "  ret[feature] = int(self.lambdas[feature](ret[feature]))\n",
      "/Users/ygao/Library/Caches/pypoetry/virtualenvs/program-i-Fez0zm-py3.10/lib/python3.10/site-packages/lime/discretize.py:110: FutureWarning: Series.__setitem__ treating keys as positions is deprecated. In a future version, integer keys will always be treated as labels (consistent with DataFrame behavior). To set a value by position, use `ser.iloc[pos] = value`\n",
      "  ret[feature] = int(self.lambdas[feature](ret[feature]))\n",
      "/Users/ygao/Library/Caches/pypoetry/virtualenvs/program-i-Fez0zm-py3.10/lib/python3.10/site-packages/lime/lime_tabular.py:427: FutureWarning: Series.__getitem__ treating keys as positions is deprecated. In a future version, integer keys will always be treated as labels (consistent with DataFrame behavior). To access a value by position, use `ser.iloc[pos]`\n",
      "  discretized_instance[f])]\n",
      "/Users/ygao/Library/Caches/pypoetry/virtualenvs/program-i-Fez0zm-py3.10/lib/python3.10/site-packages/lime/discretize.py:110: FutureWarning: Series.__getitem__ treating keys as positions is deprecated. In a future version, integer keys will always be treated as labels (consistent with DataFrame behavior). To access a value by position, use `ser.iloc[pos]`\n",
      "  ret[feature] = int(self.lambdas[feature](ret[feature]))\n",
      "/Users/ygao/Library/Caches/pypoetry/virtualenvs/program-i-Fez0zm-py3.10/lib/python3.10/site-packages/lime/discretize.py:110: FutureWarning: Series.__setitem__ treating keys as positions is deprecated. In a future version, integer keys will always be treated as labels (consistent with DataFrame behavior). To set a value by position, use `ser.iloc[pos] = value`\n",
      "  ret[feature] = int(self.lambdas[feature](ret[feature]))\n",
      "/Users/ygao/Library/Caches/pypoetry/virtualenvs/program-i-Fez0zm-py3.10/lib/python3.10/site-packages/lime/lime_tabular.py:544: FutureWarning: Series.__getitem__ treating keys as positions is deprecated. In a future version, integer keys will always be treated as labels (consistent with DataFrame behavior). To access a value by position, use `ser.iloc[pos]`\n",
      "  binary_column = (inverse_column == first_row[column]).astype(int)\n"
     ]
    },
    {
     "name": "stdout",
     "output_type": "stream",
     "text": [
      "157/157 [==============================] - 0s 1ms/step\n",
      " 80/157 [==============>...............] - ETA: 0s"
     ]
    },
    {
     "name": "stderr",
     "output_type": "stream",
     "text": [
      "/Users/ygao/Library/Caches/pypoetry/virtualenvs/program-i-Fez0zm-py3.10/lib/python3.10/site-packages/lime/discretize.py:110: FutureWarning: Series.__getitem__ treating keys as positions is deprecated. In a future version, integer keys will always be treated as labels (consistent with DataFrame behavior). To access a value by position, use `ser.iloc[pos]`\n",
      "  ret[feature] = int(self.lambdas[feature](ret[feature]))\n",
      "/Users/ygao/Library/Caches/pypoetry/virtualenvs/program-i-Fez0zm-py3.10/lib/python3.10/site-packages/lime/discretize.py:110: FutureWarning: Series.__setitem__ treating keys as positions is deprecated. In a future version, integer keys will always be treated as labels (consistent with DataFrame behavior). To set a value by position, use `ser.iloc[pos] = value`\n",
      "  ret[feature] = int(self.lambdas[feature](ret[feature]))\n",
      "/Users/ygao/Library/Caches/pypoetry/virtualenvs/program-i-Fez0zm-py3.10/lib/python3.10/site-packages/lime/lime_tabular.py:427: FutureWarning: Series.__getitem__ treating keys as positions is deprecated. In a future version, integer keys will always be treated as labels (consistent with DataFrame behavior). To access a value by position, use `ser.iloc[pos]`\n",
      "  discretized_instance[f])]\n",
      "/Users/ygao/Library/Caches/pypoetry/virtualenvs/program-i-Fez0zm-py3.10/lib/python3.10/site-packages/lime/discretize.py:110: FutureWarning: Series.__getitem__ treating keys as positions is deprecated. In a future version, integer keys will always be treated as labels (consistent with DataFrame behavior). To access a value by position, use `ser.iloc[pos]`\n",
      "  ret[feature] = int(self.lambdas[feature](ret[feature]))\n",
      "/Users/ygao/Library/Caches/pypoetry/virtualenvs/program-i-Fez0zm-py3.10/lib/python3.10/site-packages/lime/discretize.py:110: FutureWarning: Series.__setitem__ treating keys as positions is deprecated. In a future version, integer keys will always be treated as labels (consistent with DataFrame behavior). To set a value by position, use `ser.iloc[pos] = value`\n",
      "  ret[feature] = int(self.lambdas[feature](ret[feature]))\n",
      "/Users/ygao/Library/Caches/pypoetry/virtualenvs/program-i-Fez0zm-py3.10/lib/python3.10/site-packages/lime/lime_tabular.py:544: FutureWarning: Series.__getitem__ treating keys as positions is deprecated. In a future version, integer keys will always be treated as labels (consistent with DataFrame behavior). To access a value by position, use `ser.iloc[pos]`\n",
      "  binary_column = (inverse_column == first_row[column]).astype(int)\n"
     ]
    },
    {
     "name": "stdout",
     "output_type": "stream",
     "text": [
      "157/157 [==============================] - 0s 1ms/step\n",
      " 71/157 [============>.................] - ETA: 0s"
     ]
    },
    {
     "name": "stderr",
     "output_type": "stream",
     "text": [
      "/Users/ygao/Library/Caches/pypoetry/virtualenvs/program-i-Fez0zm-py3.10/lib/python3.10/site-packages/lime/discretize.py:110: FutureWarning: Series.__getitem__ treating keys as positions is deprecated. In a future version, integer keys will always be treated as labels (consistent with DataFrame behavior). To access a value by position, use `ser.iloc[pos]`\n",
      "  ret[feature] = int(self.lambdas[feature](ret[feature]))\n",
      "/Users/ygao/Library/Caches/pypoetry/virtualenvs/program-i-Fez0zm-py3.10/lib/python3.10/site-packages/lime/discretize.py:110: FutureWarning: Series.__setitem__ treating keys as positions is deprecated. In a future version, integer keys will always be treated as labels (consistent with DataFrame behavior). To set a value by position, use `ser.iloc[pos] = value`\n",
      "  ret[feature] = int(self.lambdas[feature](ret[feature]))\n",
      "/Users/ygao/Library/Caches/pypoetry/virtualenvs/program-i-Fez0zm-py3.10/lib/python3.10/site-packages/lime/lime_tabular.py:427: FutureWarning: Series.__getitem__ treating keys as positions is deprecated. In a future version, integer keys will always be treated as labels (consistent with DataFrame behavior). To access a value by position, use `ser.iloc[pos]`\n",
      "  discretized_instance[f])]\n",
      "/Users/ygao/Library/Caches/pypoetry/virtualenvs/program-i-Fez0zm-py3.10/lib/python3.10/site-packages/lime/discretize.py:110: FutureWarning: Series.__getitem__ treating keys as positions is deprecated. In a future version, integer keys will always be treated as labels (consistent with DataFrame behavior). To access a value by position, use `ser.iloc[pos]`\n",
      "  ret[feature] = int(self.lambdas[feature](ret[feature]))\n",
      "/Users/ygao/Library/Caches/pypoetry/virtualenvs/program-i-Fez0zm-py3.10/lib/python3.10/site-packages/lime/discretize.py:110: FutureWarning: Series.__setitem__ treating keys as positions is deprecated. In a future version, integer keys will always be treated as labels (consistent with DataFrame behavior). To set a value by position, use `ser.iloc[pos] = value`\n",
      "  ret[feature] = int(self.lambdas[feature](ret[feature]))\n",
      "/Users/ygao/Library/Caches/pypoetry/virtualenvs/program-i-Fez0zm-py3.10/lib/python3.10/site-packages/lime/lime_tabular.py:544: FutureWarning: Series.__getitem__ treating keys as positions is deprecated. In a future version, integer keys will always be treated as labels (consistent with DataFrame behavior). To access a value by position, use `ser.iloc[pos]`\n",
      "  binary_column = (inverse_column == first_row[column]).astype(int)\n"
     ]
    },
    {
     "name": "stdout",
     "output_type": "stream",
     "text": [
      "157/157 [==============================] - 0s 1ms/step\n",
      " 80/157 [==============>...............] - ETA: 0s"
     ]
    },
    {
     "name": "stderr",
     "output_type": "stream",
     "text": [
      "/Users/ygao/Library/Caches/pypoetry/virtualenvs/program-i-Fez0zm-py3.10/lib/python3.10/site-packages/lime/discretize.py:110: FutureWarning: Series.__getitem__ treating keys as positions is deprecated. In a future version, integer keys will always be treated as labels (consistent with DataFrame behavior). To access a value by position, use `ser.iloc[pos]`\n",
      "  ret[feature] = int(self.lambdas[feature](ret[feature]))\n",
      "/Users/ygao/Library/Caches/pypoetry/virtualenvs/program-i-Fez0zm-py3.10/lib/python3.10/site-packages/lime/discretize.py:110: FutureWarning: Series.__setitem__ treating keys as positions is deprecated. In a future version, integer keys will always be treated as labels (consistent with DataFrame behavior). To set a value by position, use `ser.iloc[pos] = value`\n",
      "  ret[feature] = int(self.lambdas[feature](ret[feature]))\n",
      "/Users/ygao/Library/Caches/pypoetry/virtualenvs/program-i-Fez0zm-py3.10/lib/python3.10/site-packages/lime/lime_tabular.py:427: FutureWarning: Series.__getitem__ treating keys as positions is deprecated. In a future version, integer keys will always be treated as labels (consistent with DataFrame behavior). To access a value by position, use `ser.iloc[pos]`\n",
      "  discretized_instance[f])]\n",
      "/Users/ygao/Library/Caches/pypoetry/virtualenvs/program-i-Fez0zm-py3.10/lib/python3.10/site-packages/lime/discretize.py:110: FutureWarning: Series.__getitem__ treating keys as positions is deprecated. In a future version, integer keys will always be treated as labels (consistent with DataFrame behavior). To access a value by position, use `ser.iloc[pos]`\n",
      "  ret[feature] = int(self.lambdas[feature](ret[feature]))\n",
      "/Users/ygao/Library/Caches/pypoetry/virtualenvs/program-i-Fez0zm-py3.10/lib/python3.10/site-packages/lime/discretize.py:110: FutureWarning: Series.__setitem__ treating keys as positions is deprecated. In a future version, integer keys will always be treated as labels (consistent with DataFrame behavior). To set a value by position, use `ser.iloc[pos] = value`\n",
      "  ret[feature] = int(self.lambdas[feature](ret[feature]))\n",
      "/Users/ygao/Library/Caches/pypoetry/virtualenvs/program-i-Fez0zm-py3.10/lib/python3.10/site-packages/lime/lime_tabular.py:544: FutureWarning: Series.__getitem__ treating keys as positions is deprecated. In a future version, integer keys will always be treated as labels (consistent with DataFrame behavior). To access a value by position, use `ser.iloc[pos]`\n",
      "  binary_column = (inverse_column == first_row[column]).astype(int)\n"
     ]
    },
    {
     "name": "stdout",
     "output_type": "stream",
     "text": [
      "157/157 [==============================] - 0s 1ms/step\n",
      " 38/157 [======>.......................] - ETA: 0s"
     ]
    },
    {
     "name": "stderr",
     "output_type": "stream",
     "text": [
      "/Users/ygao/Library/Caches/pypoetry/virtualenvs/program-i-Fez0zm-py3.10/lib/python3.10/site-packages/lime/discretize.py:110: FutureWarning: Series.__getitem__ treating keys as positions is deprecated. In a future version, integer keys will always be treated as labels (consistent with DataFrame behavior). To access a value by position, use `ser.iloc[pos]`\n",
      "  ret[feature] = int(self.lambdas[feature](ret[feature]))\n",
      "/Users/ygao/Library/Caches/pypoetry/virtualenvs/program-i-Fez0zm-py3.10/lib/python3.10/site-packages/lime/discretize.py:110: FutureWarning: Series.__setitem__ treating keys as positions is deprecated. In a future version, integer keys will always be treated as labels (consistent with DataFrame behavior). To set a value by position, use `ser.iloc[pos] = value`\n",
      "  ret[feature] = int(self.lambdas[feature](ret[feature]))\n",
      "/Users/ygao/Library/Caches/pypoetry/virtualenvs/program-i-Fez0zm-py3.10/lib/python3.10/site-packages/lime/lime_tabular.py:427: FutureWarning: Series.__getitem__ treating keys as positions is deprecated. In a future version, integer keys will always be treated as labels (consistent with DataFrame behavior). To access a value by position, use `ser.iloc[pos]`\n",
      "  discretized_instance[f])]\n",
      "/Users/ygao/Library/Caches/pypoetry/virtualenvs/program-i-Fez0zm-py3.10/lib/python3.10/site-packages/lime/discretize.py:110: FutureWarning: Series.__getitem__ treating keys as positions is deprecated. In a future version, integer keys will always be treated as labels (consistent with DataFrame behavior). To access a value by position, use `ser.iloc[pos]`\n",
      "  ret[feature] = int(self.lambdas[feature](ret[feature]))\n",
      "/Users/ygao/Library/Caches/pypoetry/virtualenvs/program-i-Fez0zm-py3.10/lib/python3.10/site-packages/lime/discretize.py:110: FutureWarning: Series.__setitem__ treating keys as positions is deprecated. In a future version, integer keys will always be treated as labels (consistent with DataFrame behavior). To set a value by position, use `ser.iloc[pos] = value`\n",
      "  ret[feature] = int(self.lambdas[feature](ret[feature]))\n",
      "/Users/ygao/Library/Caches/pypoetry/virtualenvs/program-i-Fez0zm-py3.10/lib/python3.10/site-packages/lime/lime_tabular.py:544: FutureWarning: Series.__getitem__ treating keys as positions is deprecated. In a future version, integer keys will always be treated as labels (consistent with DataFrame behavior). To access a value by position, use `ser.iloc[pos]`\n",
      "  binary_column = (inverse_column == first_row[column]).astype(int)\n"
     ]
    },
    {
     "name": "stdout",
     "output_type": "stream",
     "text": [
      "157/157 [==============================] - 0s 1ms/step\n",
      " 61/157 [==========>...................] - ETA: 0s"
     ]
    },
    {
     "name": "stderr",
     "output_type": "stream",
     "text": [
      "/Users/ygao/Library/Caches/pypoetry/virtualenvs/program-i-Fez0zm-py3.10/lib/python3.10/site-packages/lime/discretize.py:110: FutureWarning: Series.__getitem__ treating keys as positions is deprecated. In a future version, integer keys will always be treated as labels (consistent with DataFrame behavior). To access a value by position, use `ser.iloc[pos]`\n",
      "  ret[feature] = int(self.lambdas[feature](ret[feature]))\n",
      "/Users/ygao/Library/Caches/pypoetry/virtualenvs/program-i-Fez0zm-py3.10/lib/python3.10/site-packages/lime/discretize.py:110: FutureWarning: Series.__setitem__ treating keys as positions is deprecated. In a future version, integer keys will always be treated as labels (consistent with DataFrame behavior). To set a value by position, use `ser.iloc[pos] = value`\n",
      "  ret[feature] = int(self.lambdas[feature](ret[feature]))\n",
      "/Users/ygao/Library/Caches/pypoetry/virtualenvs/program-i-Fez0zm-py3.10/lib/python3.10/site-packages/lime/lime_tabular.py:427: FutureWarning: Series.__getitem__ treating keys as positions is deprecated. In a future version, integer keys will always be treated as labels (consistent with DataFrame behavior). To access a value by position, use `ser.iloc[pos]`\n",
      "  discretized_instance[f])]\n",
      "/Users/ygao/Library/Caches/pypoetry/virtualenvs/program-i-Fez0zm-py3.10/lib/python3.10/site-packages/lime/discretize.py:110: FutureWarning: Series.__getitem__ treating keys as positions is deprecated. In a future version, integer keys will always be treated as labels (consistent with DataFrame behavior). To access a value by position, use `ser.iloc[pos]`\n",
      "  ret[feature] = int(self.lambdas[feature](ret[feature]))\n",
      "/Users/ygao/Library/Caches/pypoetry/virtualenvs/program-i-Fez0zm-py3.10/lib/python3.10/site-packages/lime/discretize.py:110: FutureWarning: Series.__setitem__ treating keys as positions is deprecated. In a future version, integer keys will always be treated as labels (consistent with DataFrame behavior). To set a value by position, use `ser.iloc[pos] = value`\n",
      "  ret[feature] = int(self.lambdas[feature](ret[feature]))\n",
      "/Users/ygao/Library/Caches/pypoetry/virtualenvs/program-i-Fez0zm-py3.10/lib/python3.10/site-packages/lime/lime_tabular.py:544: FutureWarning: Series.__getitem__ treating keys as positions is deprecated. In a future version, integer keys will always be treated as labels (consistent with DataFrame behavior). To access a value by position, use `ser.iloc[pos]`\n",
      "  binary_column = (inverse_column == first_row[column]).astype(int)\n"
     ]
    },
    {
     "name": "stdout",
     "output_type": "stream",
     "text": [
      "157/157 [==============================] - 0s 1ms/step\n",
      " 68/157 [===========>..................] - ETA: 0s"
     ]
    },
    {
     "name": "stderr",
     "output_type": "stream",
     "text": [
      "/Users/ygao/Library/Caches/pypoetry/virtualenvs/program-i-Fez0zm-py3.10/lib/python3.10/site-packages/lime/discretize.py:110: FutureWarning: Series.__getitem__ treating keys as positions is deprecated. In a future version, integer keys will always be treated as labels (consistent with DataFrame behavior). To access a value by position, use `ser.iloc[pos]`\n",
      "  ret[feature] = int(self.lambdas[feature](ret[feature]))\n",
      "/Users/ygao/Library/Caches/pypoetry/virtualenvs/program-i-Fez0zm-py3.10/lib/python3.10/site-packages/lime/discretize.py:110: FutureWarning: Series.__setitem__ treating keys as positions is deprecated. In a future version, integer keys will always be treated as labels (consistent with DataFrame behavior). To set a value by position, use `ser.iloc[pos] = value`\n",
      "  ret[feature] = int(self.lambdas[feature](ret[feature]))\n",
      "/Users/ygao/Library/Caches/pypoetry/virtualenvs/program-i-Fez0zm-py3.10/lib/python3.10/site-packages/lime/lime_tabular.py:427: FutureWarning: Series.__getitem__ treating keys as positions is deprecated. In a future version, integer keys will always be treated as labels (consistent with DataFrame behavior). To access a value by position, use `ser.iloc[pos]`\n",
      "  discretized_instance[f])]\n",
      "/Users/ygao/Library/Caches/pypoetry/virtualenvs/program-i-Fez0zm-py3.10/lib/python3.10/site-packages/lime/discretize.py:110: FutureWarning: Series.__getitem__ treating keys as positions is deprecated. In a future version, integer keys will always be treated as labels (consistent with DataFrame behavior). To access a value by position, use `ser.iloc[pos]`\n",
      "  ret[feature] = int(self.lambdas[feature](ret[feature]))\n",
      "/Users/ygao/Library/Caches/pypoetry/virtualenvs/program-i-Fez0zm-py3.10/lib/python3.10/site-packages/lime/discretize.py:110: FutureWarning: Series.__setitem__ treating keys as positions is deprecated. In a future version, integer keys will always be treated as labels (consistent with DataFrame behavior). To set a value by position, use `ser.iloc[pos] = value`\n",
      "  ret[feature] = int(self.lambdas[feature](ret[feature]))\n",
      "/Users/ygao/Library/Caches/pypoetry/virtualenvs/program-i-Fez0zm-py3.10/lib/python3.10/site-packages/lime/lime_tabular.py:544: FutureWarning: Series.__getitem__ treating keys as positions is deprecated. In a future version, integer keys will always be treated as labels (consistent with DataFrame behavior). To access a value by position, use `ser.iloc[pos]`\n",
      "  binary_column = (inverse_column == first_row[column]).astype(int)\n"
     ]
    },
    {
     "name": "stdout",
     "output_type": "stream",
     "text": [
      "157/157 [==============================] - 0s 1ms/step\n",
      " 28/157 [====>.........................] - ETA: 0s "
     ]
    },
    {
     "name": "stderr",
     "output_type": "stream",
     "text": [
      "/Users/ygao/Library/Caches/pypoetry/virtualenvs/program-i-Fez0zm-py3.10/lib/python3.10/site-packages/lime/discretize.py:110: FutureWarning: Series.__getitem__ treating keys as positions is deprecated. In a future version, integer keys will always be treated as labels (consistent with DataFrame behavior). To access a value by position, use `ser.iloc[pos]`\n",
      "  ret[feature] = int(self.lambdas[feature](ret[feature]))\n",
      "/Users/ygao/Library/Caches/pypoetry/virtualenvs/program-i-Fez0zm-py3.10/lib/python3.10/site-packages/lime/discretize.py:110: FutureWarning: Series.__setitem__ treating keys as positions is deprecated. In a future version, integer keys will always be treated as labels (consistent with DataFrame behavior). To set a value by position, use `ser.iloc[pos] = value`\n",
      "  ret[feature] = int(self.lambdas[feature](ret[feature]))\n",
      "/Users/ygao/Library/Caches/pypoetry/virtualenvs/program-i-Fez0zm-py3.10/lib/python3.10/site-packages/lime/lime_tabular.py:427: FutureWarning: Series.__getitem__ treating keys as positions is deprecated. In a future version, integer keys will always be treated as labels (consistent with DataFrame behavior). To access a value by position, use `ser.iloc[pos]`\n",
      "  discretized_instance[f])]\n",
      "/Users/ygao/Library/Caches/pypoetry/virtualenvs/program-i-Fez0zm-py3.10/lib/python3.10/site-packages/lime/discretize.py:110: FutureWarning: Series.__getitem__ treating keys as positions is deprecated. In a future version, integer keys will always be treated as labels (consistent with DataFrame behavior). To access a value by position, use `ser.iloc[pos]`\n",
      "  ret[feature] = int(self.lambdas[feature](ret[feature]))\n",
      "/Users/ygao/Library/Caches/pypoetry/virtualenvs/program-i-Fez0zm-py3.10/lib/python3.10/site-packages/lime/discretize.py:110: FutureWarning: Series.__setitem__ treating keys as positions is deprecated. In a future version, integer keys will always be treated as labels (consistent with DataFrame behavior). To set a value by position, use `ser.iloc[pos] = value`\n",
      "  ret[feature] = int(self.lambdas[feature](ret[feature]))\n",
      "/Users/ygao/Library/Caches/pypoetry/virtualenvs/program-i-Fez0zm-py3.10/lib/python3.10/site-packages/lime/lime_tabular.py:544: FutureWarning: Series.__getitem__ treating keys as positions is deprecated. In a future version, integer keys will always be treated as labels (consistent with DataFrame behavior). To access a value by position, use `ser.iloc[pos]`\n",
      "  binary_column = (inverse_column == first_row[column]).astype(int)\n"
     ]
    },
    {
     "name": "stdout",
     "output_type": "stream",
     "text": [
      "157/157 [==============================] - 0s 1ms/step\n",
      " 65/157 [===========>..................] - ETA: 0s"
     ]
    },
    {
     "name": "stderr",
     "output_type": "stream",
     "text": [
      "/Users/ygao/Library/Caches/pypoetry/virtualenvs/program-i-Fez0zm-py3.10/lib/python3.10/site-packages/lime/discretize.py:110: FutureWarning: Series.__getitem__ treating keys as positions is deprecated. In a future version, integer keys will always be treated as labels (consistent with DataFrame behavior). To access a value by position, use `ser.iloc[pos]`\n",
      "  ret[feature] = int(self.lambdas[feature](ret[feature]))\n",
      "/Users/ygao/Library/Caches/pypoetry/virtualenvs/program-i-Fez0zm-py3.10/lib/python3.10/site-packages/lime/discretize.py:110: FutureWarning: Series.__setitem__ treating keys as positions is deprecated. In a future version, integer keys will always be treated as labels (consistent with DataFrame behavior). To set a value by position, use `ser.iloc[pos] = value`\n",
      "  ret[feature] = int(self.lambdas[feature](ret[feature]))\n",
      "/Users/ygao/Library/Caches/pypoetry/virtualenvs/program-i-Fez0zm-py3.10/lib/python3.10/site-packages/lime/lime_tabular.py:427: FutureWarning: Series.__getitem__ treating keys as positions is deprecated. In a future version, integer keys will always be treated as labels (consistent with DataFrame behavior). To access a value by position, use `ser.iloc[pos]`\n",
      "  discretized_instance[f])]\n",
      "/Users/ygao/Library/Caches/pypoetry/virtualenvs/program-i-Fez0zm-py3.10/lib/python3.10/site-packages/lime/discretize.py:110: FutureWarning: Series.__getitem__ treating keys as positions is deprecated. In a future version, integer keys will always be treated as labels (consistent with DataFrame behavior). To access a value by position, use `ser.iloc[pos]`\n",
      "  ret[feature] = int(self.lambdas[feature](ret[feature]))\n",
      "/Users/ygao/Library/Caches/pypoetry/virtualenvs/program-i-Fez0zm-py3.10/lib/python3.10/site-packages/lime/discretize.py:110: FutureWarning: Series.__setitem__ treating keys as positions is deprecated. In a future version, integer keys will always be treated as labels (consistent with DataFrame behavior). To set a value by position, use `ser.iloc[pos] = value`\n",
      "  ret[feature] = int(self.lambdas[feature](ret[feature]))\n",
      "/Users/ygao/Library/Caches/pypoetry/virtualenvs/program-i-Fez0zm-py3.10/lib/python3.10/site-packages/lime/lime_tabular.py:544: FutureWarning: Series.__getitem__ treating keys as positions is deprecated. In a future version, integer keys will always be treated as labels (consistent with DataFrame behavior). To access a value by position, use `ser.iloc[pos]`\n",
      "  binary_column = (inverse_column == first_row[column]).astype(int)\n"
     ]
    },
    {
     "name": "stdout",
     "output_type": "stream",
     "text": [
      "157/157 [==============================] - 0s 2ms/step\n",
      " 29/157 [====>.........................] - ETA: 0s"
     ]
    },
    {
     "name": "stderr",
     "output_type": "stream",
     "text": [
      "/Users/ygao/Library/Caches/pypoetry/virtualenvs/program-i-Fez0zm-py3.10/lib/python3.10/site-packages/lime/discretize.py:110: FutureWarning: Series.__getitem__ treating keys as positions is deprecated. In a future version, integer keys will always be treated as labels (consistent with DataFrame behavior). To access a value by position, use `ser.iloc[pos]`\n",
      "  ret[feature] = int(self.lambdas[feature](ret[feature]))\n",
      "/Users/ygao/Library/Caches/pypoetry/virtualenvs/program-i-Fez0zm-py3.10/lib/python3.10/site-packages/lime/discretize.py:110: FutureWarning: Series.__setitem__ treating keys as positions is deprecated. In a future version, integer keys will always be treated as labels (consistent with DataFrame behavior). To set a value by position, use `ser.iloc[pos] = value`\n",
      "  ret[feature] = int(self.lambdas[feature](ret[feature]))\n",
      "/Users/ygao/Library/Caches/pypoetry/virtualenvs/program-i-Fez0zm-py3.10/lib/python3.10/site-packages/lime/lime_tabular.py:427: FutureWarning: Series.__getitem__ treating keys as positions is deprecated. In a future version, integer keys will always be treated as labels (consistent with DataFrame behavior). To access a value by position, use `ser.iloc[pos]`\n",
      "  discretized_instance[f])]\n",
      "/Users/ygao/Library/Caches/pypoetry/virtualenvs/program-i-Fez0zm-py3.10/lib/python3.10/site-packages/lime/discretize.py:110: FutureWarning: Series.__getitem__ treating keys as positions is deprecated. In a future version, integer keys will always be treated as labels (consistent with DataFrame behavior). To access a value by position, use `ser.iloc[pos]`\n",
      "  ret[feature] = int(self.lambdas[feature](ret[feature]))\n",
      "/Users/ygao/Library/Caches/pypoetry/virtualenvs/program-i-Fez0zm-py3.10/lib/python3.10/site-packages/lime/discretize.py:110: FutureWarning: Series.__setitem__ treating keys as positions is deprecated. In a future version, integer keys will always be treated as labels (consistent with DataFrame behavior). To set a value by position, use `ser.iloc[pos] = value`\n",
      "  ret[feature] = int(self.lambdas[feature](ret[feature]))\n",
      "/Users/ygao/Library/Caches/pypoetry/virtualenvs/program-i-Fez0zm-py3.10/lib/python3.10/site-packages/lime/lime_tabular.py:544: FutureWarning: Series.__getitem__ treating keys as positions is deprecated. In a future version, integer keys will always be treated as labels (consistent with DataFrame behavior). To access a value by position, use `ser.iloc[pos]`\n",
      "  binary_column = (inverse_column == first_row[column]).astype(int)\n"
     ]
    },
    {
     "name": "stdout",
     "output_type": "stream",
     "text": [
      "157/157 [==============================] - 0s 1ms/step\n",
      "  1/157 [..............................] - ETA: 8s"
     ]
    },
    {
     "name": "stderr",
     "output_type": "stream",
     "text": [
      "/Users/ygao/Library/Caches/pypoetry/virtualenvs/program-i-Fez0zm-py3.10/lib/python3.10/site-packages/lime/discretize.py:110: FutureWarning: Series.__getitem__ treating keys as positions is deprecated. In a future version, integer keys will always be treated as labels (consistent with DataFrame behavior). To access a value by position, use `ser.iloc[pos]`\n",
      "  ret[feature] = int(self.lambdas[feature](ret[feature]))\n",
      "/Users/ygao/Library/Caches/pypoetry/virtualenvs/program-i-Fez0zm-py3.10/lib/python3.10/site-packages/lime/discretize.py:110: FutureWarning: Series.__setitem__ treating keys as positions is deprecated. In a future version, integer keys will always be treated as labels (consistent with DataFrame behavior). To set a value by position, use `ser.iloc[pos] = value`\n",
      "  ret[feature] = int(self.lambdas[feature](ret[feature]))\n",
      "/Users/ygao/Library/Caches/pypoetry/virtualenvs/program-i-Fez0zm-py3.10/lib/python3.10/site-packages/lime/lime_tabular.py:427: FutureWarning: Series.__getitem__ treating keys as positions is deprecated. In a future version, integer keys will always be treated as labels (consistent with DataFrame behavior). To access a value by position, use `ser.iloc[pos]`\n",
      "  discretized_instance[f])]\n",
      "/Users/ygao/Library/Caches/pypoetry/virtualenvs/program-i-Fez0zm-py3.10/lib/python3.10/site-packages/lime/discretize.py:110: FutureWarning: Series.__getitem__ treating keys as positions is deprecated. In a future version, integer keys will always be treated as labels (consistent with DataFrame behavior). To access a value by position, use `ser.iloc[pos]`\n",
      "  ret[feature] = int(self.lambdas[feature](ret[feature]))\n",
      "/Users/ygao/Library/Caches/pypoetry/virtualenvs/program-i-Fez0zm-py3.10/lib/python3.10/site-packages/lime/discretize.py:110: FutureWarning: Series.__setitem__ treating keys as positions is deprecated. In a future version, integer keys will always be treated as labels (consistent with DataFrame behavior). To set a value by position, use `ser.iloc[pos] = value`\n",
      "  ret[feature] = int(self.lambdas[feature](ret[feature]))\n",
      "/Users/ygao/Library/Caches/pypoetry/virtualenvs/program-i-Fez0zm-py3.10/lib/python3.10/site-packages/lime/lime_tabular.py:544: FutureWarning: Series.__getitem__ treating keys as positions is deprecated. In a future version, integer keys will always be treated as labels (consistent with DataFrame behavior). To access a value by position, use `ser.iloc[pos]`\n",
      "  binary_column = (inverse_column == first_row[column]).astype(int)\n"
     ]
    },
    {
     "name": "stdout",
     "output_type": "stream",
     "text": [
      "157/157 [==============================] - 0s 1ms/step\n",
      "  1/157 [..............................] - ETA: 16s"
     ]
    },
    {
     "name": "stderr",
     "output_type": "stream",
     "text": [
      "/Users/ygao/Library/Caches/pypoetry/virtualenvs/program-i-Fez0zm-py3.10/lib/python3.10/site-packages/lime/discretize.py:110: FutureWarning: Series.__getitem__ treating keys as positions is deprecated. In a future version, integer keys will always be treated as labels (consistent with DataFrame behavior). To access a value by position, use `ser.iloc[pos]`\n",
      "  ret[feature] = int(self.lambdas[feature](ret[feature]))\n",
      "/Users/ygao/Library/Caches/pypoetry/virtualenvs/program-i-Fez0zm-py3.10/lib/python3.10/site-packages/lime/discretize.py:110: FutureWarning: Series.__setitem__ treating keys as positions is deprecated. In a future version, integer keys will always be treated as labels (consistent with DataFrame behavior). To set a value by position, use `ser.iloc[pos] = value`\n",
      "  ret[feature] = int(self.lambdas[feature](ret[feature]))\n",
      "/Users/ygao/Library/Caches/pypoetry/virtualenvs/program-i-Fez0zm-py3.10/lib/python3.10/site-packages/lime/lime_tabular.py:427: FutureWarning: Series.__getitem__ treating keys as positions is deprecated. In a future version, integer keys will always be treated as labels (consistent with DataFrame behavior). To access a value by position, use `ser.iloc[pos]`\n",
      "  discretized_instance[f])]\n",
      "/Users/ygao/Library/Caches/pypoetry/virtualenvs/program-i-Fez0zm-py3.10/lib/python3.10/site-packages/lime/discretize.py:110: FutureWarning: Series.__getitem__ treating keys as positions is deprecated. In a future version, integer keys will always be treated as labels (consistent with DataFrame behavior). To access a value by position, use `ser.iloc[pos]`\n",
      "  ret[feature] = int(self.lambdas[feature](ret[feature]))\n",
      "/Users/ygao/Library/Caches/pypoetry/virtualenvs/program-i-Fez0zm-py3.10/lib/python3.10/site-packages/lime/discretize.py:110: FutureWarning: Series.__setitem__ treating keys as positions is deprecated. In a future version, integer keys will always be treated as labels (consistent with DataFrame behavior). To set a value by position, use `ser.iloc[pos] = value`\n",
      "  ret[feature] = int(self.lambdas[feature](ret[feature]))\n",
      "/Users/ygao/Library/Caches/pypoetry/virtualenvs/program-i-Fez0zm-py3.10/lib/python3.10/site-packages/lime/lime_tabular.py:544: FutureWarning: Series.__getitem__ treating keys as positions is deprecated. In a future version, integer keys will always be treated as labels (consistent with DataFrame behavior). To access a value by position, use `ser.iloc[pos]`\n",
      "  binary_column = (inverse_column == first_row[column]).astype(int)\n"
     ]
    },
    {
     "name": "stdout",
     "output_type": "stream",
     "text": [
      "157/157 [==============================] - 0s 1ms/step\n",
      "  1/157 [..............................] - ETA: 12s"
     ]
    },
    {
     "name": "stderr",
     "output_type": "stream",
     "text": [
      "/Users/ygao/Library/Caches/pypoetry/virtualenvs/program-i-Fez0zm-py3.10/lib/python3.10/site-packages/lime/discretize.py:110: FutureWarning: Series.__getitem__ treating keys as positions is deprecated. In a future version, integer keys will always be treated as labels (consistent with DataFrame behavior). To access a value by position, use `ser.iloc[pos]`\n",
      "  ret[feature] = int(self.lambdas[feature](ret[feature]))\n",
      "/Users/ygao/Library/Caches/pypoetry/virtualenvs/program-i-Fez0zm-py3.10/lib/python3.10/site-packages/lime/discretize.py:110: FutureWarning: Series.__setitem__ treating keys as positions is deprecated. In a future version, integer keys will always be treated as labels (consistent with DataFrame behavior). To set a value by position, use `ser.iloc[pos] = value`\n",
      "  ret[feature] = int(self.lambdas[feature](ret[feature]))\n",
      "/Users/ygao/Library/Caches/pypoetry/virtualenvs/program-i-Fez0zm-py3.10/lib/python3.10/site-packages/lime/lime_tabular.py:427: FutureWarning: Series.__getitem__ treating keys as positions is deprecated. In a future version, integer keys will always be treated as labels (consistent with DataFrame behavior). To access a value by position, use `ser.iloc[pos]`\n",
      "  discretized_instance[f])]\n",
      "/Users/ygao/Library/Caches/pypoetry/virtualenvs/program-i-Fez0zm-py3.10/lib/python3.10/site-packages/lime/discretize.py:110: FutureWarning: Series.__getitem__ treating keys as positions is deprecated. In a future version, integer keys will always be treated as labels (consistent with DataFrame behavior). To access a value by position, use `ser.iloc[pos]`\n",
      "  ret[feature] = int(self.lambdas[feature](ret[feature]))\n",
      "/Users/ygao/Library/Caches/pypoetry/virtualenvs/program-i-Fez0zm-py3.10/lib/python3.10/site-packages/lime/discretize.py:110: FutureWarning: Series.__setitem__ treating keys as positions is deprecated. In a future version, integer keys will always be treated as labels (consistent with DataFrame behavior). To set a value by position, use `ser.iloc[pos] = value`\n",
      "  ret[feature] = int(self.lambdas[feature](ret[feature]))\n",
      "/Users/ygao/Library/Caches/pypoetry/virtualenvs/program-i-Fez0zm-py3.10/lib/python3.10/site-packages/lime/lime_tabular.py:544: FutureWarning: Series.__getitem__ treating keys as positions is deprecated. In a future version, integer keys will always be treated as labels (consistent with DataFrame behavior). To access a value by position, use `ser.iloc[pos]`\n",
      "  binary_column = (inverse_column == first_row[column]).astype(int)\n"
     ]
    },
    {
     "name": "stdout",
     "output_type": "stream",
     "text": [
      "157/157 [==============================] - 0s 1ms/step\n",
      " 43/157 [=======>......................] - ETA: 0s"
     ]
    },
    {
     "name": "stderr",
     "output_type": "stream",
     "text": [
      "/Users/ygao/Library/Caches/pypoetry/virtualenvs/program-i-Fez0zm-py3.10/lib/python3.10/site-packages/lime/discretize.py:110: FutureWarning: Series.__getitem__ treating keys as positions is deprecated. In a future version, integer keys will always be treated as labels (consistent with DataFrame behavior). To access a value by position, use `ser.iloc[pos]`\n",
      "  ret[feature] = int(self.lambdas[feature](ret[feature]))\n",
      "/Users/ygao/Library/Caches/pypoetry/virtualenvs/program-i-Fez0zm-py3.10/lib/python3.10/site-packages/lime/discretize.py:110: FutureWarning: Series.__setitem__ treating keys as positions is deprecated. In a future version, integer keys will always be treated as labels (consistent with DataFrame behavior). To set a value by position, use `ser.iloc[pos] = value`\n",
      "  ret[feature] = int(self.lambdas[feature](ret[feature]))\n",
      "/Users/ygao/Library/Caches/pypoetry/virtualenvs/program-i-Fez0zm-py3.10/lib/python3.10/site-packages/lime/lime_tabular.py:427: FutureWarning: Series.__getitem__ treating keys as positions is deprecated. In a future version, integer keys will always be treated as labels (consistent with DataFrame behavior). To access a value by position, use `ser.iloc[pos]`\n",
      "  discretized_instance[f])]\n",
      "/Users/ygao/Library/Caches/pypoetry/virtualenvs/program-i-Fez0zm-py3.10/lib/python3.10/site-packages/lime/discretize.py:110: FutureWarning: Series.__getitem__ treating keys as positions is deprecated. In a future version, integer keys will always be treated as labels (consistent with DataFrame behavior). To access a value by position, use `ser.iloc[pos]`\n",
      "  ret[feature] = int(self.lambdas[feature](ret[feature]))\n",
      "/Users/ygao/Library/Caches/pypoetry/virtualenvs/program-i-Fez0zm-py3.10/lib/python3.10/site-packages/lime/discretize.py:110: FutureWarning: Series.__setitem__ treating keys as positions is deprecated. In a future version, integer keys will always be treated as labels (consistent with DataFrame behavior). To set a value by position, use `ser.iloc[pos] = value`\n",
      "  ret[feature] = int(self.lambdas[feature](ret[feature]))\n",
      "/Users/ygao/Library/Caches/pypoetry/virtualenvs/program-i-Fez0zm-py3.10/lib/python3.10/site-packages/lime/lime_tabular.py:544: FutureWarning: Series.__getitem__ treating keys as positions is deprecated. In a future version, integer keys will always be treated as labels (consistent with DataFrame behavior). To access a value by position, use `ser.iloc[pos]`\n",
      "  binary_column = (inverse_column == first_row[column]).astype(int)\n"
     ]
    },
    {
     "name": "stdout",
     "output_type": "stream",
     "text": [
      "157/157 [==============================] - 0s 1ms/step\n",
      " 28/157 [====>.........................] - ETA: 0s"
     ]
    },
    {
     "name": "stderr",
     "output_type": "stream",
     "text": [
      "/Users/ygao/Library/Caches/pypoetry/virtualenvs/program-i-Fez0zm-py3.10/lib/python3.10/site-packages/lime/discretize.py:110: FutureWarning: Series.__getitem__ treating keys as positions is deprecated. In a future version, integer keys will always be treated as labels (consistent with DataFrame behavior). To access a value by position, use `ser.iloc[pos]`\n",
      "  ret[feature] = int(self.lambdas[feature](ret[feature]))\n",
      "/Users/ygao/Library/Caches/pypoetry/virtualenvs/program-i-Fez0zm-py3.10/lib/python3.10/site-packages/lime/discretize.py:110: FutureWarning: Series.__setitem__ treating keys as positions is deprecated. In a future version, integer keys will always be treated as labels (consistent with DataFrame behavior). To set a value by position, use `ser.iloc[pos] = value`\n",
      "  ret[feature] = int(self.lambdas[feature](ret[feature]))\n",
      "/Users/ygao/Library/Caches/pypoetry/virtualenvs/program-i-Fez0zm-py3.10/lib/python3.10/site-packages/lime/lime_tabular.py:427: FutureWarning: Series.__getitem__ treating keys as positions is deprecated. In a future version, integer keys will always be treated as labels (consistent with DataFrame behavior). To access a value by position, use `ser.iloc[pos]`\n",
      "  discretized_instance[f])]\n",
      "/Users/ygao/Library/Caches/pypoetry/virtualenvs/program-i-Fez0zm-py3.10/lib/python3.10/site-packages/lime/discretize.py:110: FutureWarning: Series.__getitem__ treating keys as positions is deprecated. In a future version, integer keys will always be treated as labels (consistent with DataFrame behavior). To access a value by position, use `ser.iloc[pos]`\n",
      "  ret[feature] = int(self.lambdas[feature](ret[feature]))\n",
      "/Users/ygao/Library/Caches/pypoetry/virtualenvs/program-i-Fez0zm-py3.10/lib/python3.10/site-packages/lime/discretize.py:110: FutureWarning: Series.__setitem__ treating keys as positions is deprecated. In a future version, integer keys will always be treated as labels (consistent with DataFrame behavior). To set a value by position, use `ser.iloc[pos] = value`\n",
      "  ret[feature] = int(self.lambdas[feature](ret[feature]))\n",
      "/Users/ygao/Library/Caches/pypoetry/virtualenvs/program-i-Fez0zm-py3.10/lib/python3.10/site-packages/lime/lime_tabular.py:544: FutureWarning: Series.__getitem__ treating keys as positions is deprecated. In a future version, integer keys will always be treated as labels (consistent with DataFrame behavior). To access a value by position, use `ser.iloc[pos]`\n",
      "  binary_column = (inverse_column == first_row[column]).astype(int)\n"
     ]
    },
    {
     "name": "stdout",
     "output_type": "stream",
     "text": [
      "157/157 [==============================] - 0s 1ms/step\n",
      " 56/157 [=========>....................] - ETA: 0s"
     ]
    },
    {
     "name": "stderr",
     "output_type": "stream",
     "text": [
      "/Users/ygao/Library/Caches/pypoetry/virtualenvs/program-i-Fez0zm-py3.10/lib/python3.10/site-packages/lime/discretize.py:110: FutureWarning: Series.__getitem__ treating keys as positions is deprecated. In a future version, integer keys will always be treated as labels (consistent with DataFrame behavior). To access a value by position, use `ser.iloc[pos]`\n",
      "  ret[feature] = int(self.lambdas[feature](ret[feature]))\n",
      "/Users/ygao/Library/Caches/pypoetry/virtualenvs/program-i-Fez0zm-py3.10/lib/python3.10/site-packages/lime/discretize.py:110: FutureWarning: Series.__setitem__ treating keys as positions is deprecated. In a future version, integer keys will always be treated as labels (consistent with DataFrame behavior). To set a value by position, use `ser.iloc[pos] = value`\n",
      "  ret[feature] = int(self.lambdas[feature](ret[feature]))\n",
      "/Users/ygao/Library/Caches/pypoetry/virtualenvs/program-i-Fez0zm-py3.10/lib/python3.10/site-packages/lime/lime_tabular.py:427: FutureWarning: Series.__getitem__ treating keys as positions is deprecated. In a future version, integer keys will always be treated as labels (consistent with DataFrame behavior). To access a value by position, use `ser.iloc[pos]`\n",
      "  discretized_instance[f])]\n",
      "/Users/ygao/Library/Caches/pypoetry/virtualenvs/program-i-Fez0zm-py3.10/lib/python3.10/site-packages/lime/discretize.py:110: FutureWarning: Series.__getitem__ treating keys as positions is deprecated. In a future version, integer keys will always be treated as labels (consistent with DataFrame behavior). To access a value by position, use `ser.iloc[pos]`\n",
      "  ret[feature] = int(self.lambdas[feature](ret[feature]))\n",
      "/Users/ygao/Library/Caches/pypoetry/virtualenvs/program-i-Fez0zm-py3.10/lib/python3.10/site-packages/lime/discretize.py:110: FutureWarning: Series.__setitem__ treating keys as positions is deprecated. In a future version, integer keys will always be treated as labels (consistent with DataFrame behavior). To set a value by position, use `ser.iloc[pos] = value`\n",
      "  ret[feature] = int(self.lambdas[feature](ret[feature]))\n",
      "/Users/ygao/Library/Caches/pypoetry/virtualenvs/program-i-Fez0zm-py3.10/lib/python3.10/site-packages/lime/lime_tabular.py:544: FutureWarning: Series.__getitem__ treating keys as positions is deprecated. In a future version, integer keys will always be treated as labels (consistent with DataFrame behavior). To access a value by position, use `ser.iloc[pos]`\n",
      "  binary_column = (inverse_column == first_row[column]).astype(int)\n"
     ]
    },
    {
     "name": "stdout",
     "output_type": "stream",
     "text": [
      "157/157 [==============================] - 0s 1ms/step\n",
      " 39/157 [======>.......................] - ETA: 0s"
     ]
    },
    {
     "name": "stderr",
     "output_type": "stream",
     "text": [
      "/Users/ygao/Library/Caches/pypoetry/virtualenvs/program-i-Fez0zm-py3.10/lib/python3.10/site-packages/lime/discretize.py:110: FutureWarning: Series.__getitem__ treating keys as positions is deprecated. In a future version, integer keys will always be treated as labels (consistent with DataFrame behavior). To access a value by position, use `ser.iloc[pos]`\n",
      "  ret[feature] = int(self.lambdas[feature](ret[feature]))\n",
      "/Users/ygao/Library/Caches/pypoetry/virtualenvs/program-i-Fez0zm-py3.10/lib/python3.10/site-packages/lime/discretize.py:110: FutureWarning: Series.__setitem__ treating keys as positions is deprecated. In a future version, integer keys will always be treated as labels (consistent with DataFrame behavior). To set a value by position, use `ser.iloc[pos] = value`\n",
      "  ret[feature] = int(self.lambdas[feature](ret[feature]))\n",
      "/Users/ygao/Library/Caches/pypoetry/virtualenvs/program-i-Fez0zm-py3.10/lib/python3.10/site-packages/lime/lime_tabular.py:427: FutureWarning: Series.__getitem__ treating keys as positions is deprecated. In a future version, integer keys will always be treated as labels (consistent with DataFrame behavior). To access a value by position, use `ser.iloc[pos]`\n",
      "  discretized_instance[f])]\n",
      "/Users/ygao/Library/Caches/pypoetry/virtualenvs/program-i-Fez0zm-py3.10/lib/python3.10/site-packages/lime/discretize.py:110: FutureWarning: Series.__getitem__ treating keys as positions is deprecated. In a future version, integer keys will always be treated as labels (consistent with DataFrame behavior). To access a value by position, use `ser.iloc[pos]`\n",
      "  ret[feature] = int(self.lambdas[feature](ret[feature]))\n",
      "/Users/ygao/Library/Caches/pypoetry/virtualenvs/program-i-Fez0zm-py3.10/lib/python3.10/site-packages/lime/discretize.py:110: FutureWarning: Series.__setitem__ treating keys as positions is deprecated. In a future version, integer keys will always be treated as labels (consistent with DataFrame behavior). To set a value by position, use `ser.iloc[pos] = value`\n",
      "  ret[feature] = int(self.lambdas[feature](ret[feature]))\n",
      "/Users/ygao/Library/Caches/pypoetry/virtualenvs/program-i-Fez0zm-py3.10/lib/python3.10/site-packages/lime/lime_tabular.py:544: FutureWarning: Series.__getitem__ treating keys as positions is deprecated. In a future version, integer keys will always be treated as labels (consistent with DataFrame behavior). To access a value by position, use `ser.iloc[pos]`\n",
      "  binary_column = (inverse_column == first_row[column]).astype(int)\n"
     ]
    },
    {
     "name": "stdout",
     "output_type": "stream",
     "text": [
      "157/157 [==============================] - 0s 1ms/step\n",
      " 64/157 [===========>..................] - ETA: 0s"
     ]
    },
    {
     "name": "stderr",
     "output_type": "stream",
     "text": [
      "/Users/ygao/Library/Caches/pypoetry/virtualenvs/program-i-Fez0zm-py3.10/lib/python3.10/site-packages/lime/discretize.py:110: FutureWarning: Series.__getitem__ treating keys as positions is deprecated. In a future version, integer keys will always be treated as labels (consistent with DataFrame behavior). To access a value by position, use `ser.iloc[pos]`\n",
      "  ret[feature] = int(self.lambdas[feature](ret[feature]))\n",
      "/Users/ygao/Library/Caches/pypoetry/virtualenvs/program-i-Fez0zm-py3.10/lib/python3.10/site-packages/lime/discretize.py:110: FutureWarning: Series.__setitem__ treating keys as positions is deprecated. In a future version, integer keys will always be treated as labels (consistent with DataFrame behavior). To set a value by position, use `ser.iloc[pos] = value`\n",
      "  ret[feature] = int(self.lambdas[feature](ret[feature]))\n",
      "/Users/ygao/Library/Caches/pypoetry/virtualenvs/program-i-Fez0zm-py3.10/lib/python3.10/site-packages/lime/lime_tabular.py:427: FutureWarning: Series.__getitem__ treating keys as positions is deprecated. In a future version, integer keys will always be treated as labels (consistent with DataFrame behavior). To access a value by position, use `ser.iloc[pos]`\n",
      "  discretized_instance[f])]\n",
      "/Users/ygao/Library/Caches/pypoetry/virtualenvs/program-i-Fez0zm-py3.10/lib/python3.10/site-packages/lime/discretize.py:110: FutureWarning: Series.__getitem__ treating keys as positions is deprecated. In a future version, integer keys will always be treated as labels (consistent with DataFrame behavior). To access a value by position, use `ser.iloc[pos]`\n",
      "  ret[feature] = int(self.lambdas[feature](ret[feature]))\n",
      "/Users/ygao/Library/Caches/pypoetry/virtualenvs/program-i-Fez0zm-py3.10/lib/python3.10/site-packages/lime/discretize.py:110: FutureWarning: Series.__setitem__ treating keys as positions is deprecated. In a future version, integer keys will always be treated as labels (consistent with DataFrame behavior). To set a value by position, use `ser.iloc[pos] = value`\n",
      "  ret[feature] = int(self.lambdas[feature](ret[feature]))\n",
      "/Users/ygao/Library/Caches/pypoetry/virtualenvs/program-i-Fez0zm-py3.10/lib/python3.10/site-packages/lime/lime_tabular.py:544: FutureWarning: Series.__getitem__ treating keys as positions is deprecated. In a future version, integer keys will always be treated as labels (consistent with DataFrame behavior). To access a value by position, use `ser.iloc[pos]`\n",
      "  binary_column = (inverse_column == first_row[column]).astype(int)\n"
     ]
    },
    {
     "name": "stdout",
     "output_type": "stream",
     "text": [
      "157/157 [==============================] - 0s 1ms/step\n",
      " 59/157 [==========>...................] - ETA: 0s"
     ]
    },
    {
     "name": "stderr",
     "output_type": "stream",
     "text": [
      "/Users/ygao/Library/Caches/pypoetry/virtualenvs/program-i-Fez0zm-py3.10/lib/python3.10/site-packages/lime/discretize.py:110: FutureWarning: Series.__getitem__ treating keys as positions is deprecated. In a future version, integer keys will always be treated as labels (consistent with DataFrame behavior). To access a value by position, use `ser.iloc[pos]`\n",
      "  ret[feature] = int(self.lambdas[feature](ret[feature]))\n",
      "/Users/ygao/Library/Caches/pypoetry/virtualenvs/program-i-Fez0zm-py3.10/lib/python3.10/site-packages/lime/discretize.py:110: FutureWarning: Series.__setitem__ treating keys as positions is deprecated. In a future version, integer keys will always be treated as labels (consistent with DataFrame behavior). To set a value by position, use `ser.iloc[pos] = value`\n",
      "  ret[feature] = int(self.lambdas[feature](ret[feature]))\n",
      "/Users/ygao/Library/Caches/pypoetry/virtualenvs/program-i-Fez0zm-py3.10/lib/python3.10/site-packages/lime/lime_tabular.py:427: FutureWarning: Series.__getitem__ treating keys as positions is deprecated. In a future version, integer keys will always be treated as labels (consistent with DataFrame behavior). To access a value by position, use `ser.iloc[pos]`\n",
      "  discretized_instance[f])]\n",
      "/Users/ygao/Library/Caches/pypoetry/virtualenvs/program-i-Fez0zm-py3.10/lib/python3.10/site-packages/lime/discretize.py:110: FutureWarning: Series.__getitem__ treating keys as positions is deprecated. In a future version, integer keys will always be treated as labels (consistent with DataFrame behavior). To access a value by position, use `ser.iloc[pos]`\n",
      "  ret[feature] = int(self.lambdas[feature](ret[feature]))\n",
      "/Users/ygao/Library/Caches/pypoetry/virtualenvs/program-i-Fez0zm-py3.10/lib/python3.10/site-packages/lime/discretize.py:110: FutureWarning: Series.__setitem__ treating keys as positions is deprecated. In a future version, integer keys will always be treated as labels (consistent with DataFrame behavior). To set a value by position, use `ser.iloc[pos] = value`\n",
      "  ret[feature] = int(self.lambdas[feature](ret[feature]))\n",
      "/Users/ygao/Library/Caches/pypoetry/virtualenvs/program-i-Fez0zm-py3.10/lib/python3.10/site-packages/lime/lime_tabular.py:544: FutureWarning: Series.__getitem__ treating keys as positions is deprecated. In a future version, integer keys will always be treated as labels (consistent with DataFrame behavior). To access a value by position, use `ser.iloc[pos]`\n",
      "  binary_column = (inverse_column == first_row[column]).astype(int)\n"
     ]
    },
    {
     "name": "stdout",
     "output_type": "stream",
     "text": [
      "157/157 [==============================] - 0s 1ms/step\n",
      " 76/157 [=============>................] - ETA: 0s"
     ]
    },
    {
     "name": "stderr",
     "output_type": "stream",
     "text": [
      "/Users/ygao/Library/Caches/pypoetry/virtualenvs/program-i-Fez0zm-py3.10/lib/python3.10/site-packages/lime/discretize.py:110: FutureWarning: Series.__getitem__ treating keys as positions is deprecated. In a future version, integer keys will always be treated as labels (consistent with DataFrame behavior). To access a value by position, use `ser.iloc[pos]`\n",
      "  ret[feature] = int(self.lambdas[feature](ret[feature]))\n",
      "/Users/ygao/Library/Caches/pypoetry/virtualenvs/program-i-Fez0zm-py3.10/lib/python3.10/site-packages/lime/discretize.py:110: FutureWarning: Series.__setitem__ treating keys as positions is deprecated. In a future version, integer keys will always be treated as labels (consistent with DataFrame behavior). To set a value by position, use `ser.iloc[pos] = value`\n",
      "  ret[feature] = int(self.lambdas[feature](ret[feature]))\n",
      "/Users/ygao/Library/Caches/pypoetry/virtualenvs/program-i-Fez0zm-py3.10/lib/python3.10/site-packages/lime/lime_tabular.py:427: FutureWarning: Series.__getitem__ treating keys as positions is deprecated. In a future version, integer keys will always be treated as labels (consistent with DataFrame behavior). To access a value by position, use `ser.iloc[pos]`\n",
      "  discretized_instance[f])]\n",
      "/Users/ygao/Library/Caches/pypoetry/virtualenvs/program-i-Fez0zm-py3.10/lib/python3.10/site-packages/lime/discretize.py:110: FutureWarning: Series.__getitem__ treating keys as positions is deprecated. In a future version, integer keys will always be treated as labels (consistent with DataFrame behavior). To access a value by position, use `ser.iloc[pos]`\n",
      "  ret[feature] = int(self.lambdas[feature](ret[feature]))\n",
      "/Users/ygao/Library/Caches/pypoetry/virtualenvs/program-i-Fez0zm-py3.10/lib/python3.10/site-packages/lime/discretize.py:110: FutureWarning: Series.__setitem__ treating keys as positions is deprecated. In a future version, integer keys will always be treated as labels (consistent with DataFrame behavior). To set a value by position, use `ser.iloc[pos] = value`\n",
      "  ret[feature] = int(self.lambdas[feature](ret[feature]))\n",
      "/Users/ygao/Library/Caches/pypoetry/virtualenvs/program-i-Fez0zm-py3.10/lib/python3.10/site-packages/lime/lime_tabular.py:544: FutureWarning: Series.__getitem__ treating keys as positions is deprecated. In a future version, integer keys will always be treated as labels (consistent with DataFrame behavior). To access a value by position, use `ser.iloc[pos]`\n",
      "  binary_column = (inverse_column == first_row[column]).astype(int)\n"
     ]
    },
    {
     "name": "stdout",
     "output_type": "stream",
     "text": [
      "157/157 [==============================] - 0s 1ms/step\n",
      " 70/157 [============>.................] - ETA: 0s"
     ]
    },
    {
     "name": "stderr",
     "output_type": "stream",
     "text": [
      "/Users/ygao/Library/Caches/pypoetry/virtualenvs/program-i-Fez0zm-py3.10/lib/python3.10/site-packages/lime/discretize.py:110: FutureWarning: Series.__getitem__ treating keys as positions is deprecated. In a future version, integer keys will always be treated as labels (consistent with DataFrame behavior). To access a value by position, use `ser.iloc[pos]`\n",
      "  ret[feature] = int(self.lambdas[feature](ret[feature]))\n",
      "/Users/ygao/Library/Caches/pypoetry/virtualenvs/program-i-Fez0zm-py3.10/lib/python3.10/site-packages/lime/discretize.py:110: FutureWarning: Series.__setitem__ treating keys as positions is deprecated. In a future version, integer keys will always be treated as labels (consistent with DataFrame behavior). To set a value by position, use `ser.iloc[pos] = value`\n",
      "  ret[feature] = int(self.lambdas[feature](ret[feature]))\n",
      "/Users/ygao/Library/Caches/pypoetry/virtualenvs/program-i-Fez0zm-py3.10/lib/python3.10/site-packages/lime/lime_tabular.py:427: FutureWarning: Series.__getitem__ treating keys as positions is deprecated. In a future version, integer keys will always be treated as labels (consistent with DataFrame behavior). To access a value by position, use `ser.iloc[pos]`\n",
      "  discretized_instance[f])]\n",
      "/Users/ygao/Library/Caches/pypoetry/virtualenvs/program-i-Fez0zm-py3.10/lib/python3.10/site-packages/lime/discretize.py:110: FutureWarning: Series.__getitem__ treating keys as positions is deprecated. In a future version, integer keys will always be treated as labels (consistent with DataFrame behavior). To access a value by position, use `ser.iloc[pos]`\n",
      "  ret[feature] = int(self.lambdas[feature](ret[feature]))\n",
      "/Users/ygao/Library/Caches/pypoetry/virtualenvs/program-i-Fez0zm-py3.10/lib/python3.10/site-packages/lime/discretize.py:110: FutureWarning: Series.__setitem__ treating keys as positions is deprecated. In a future version, integer keys will always be treated as labels (consistent with DataFrame behavior). To set a value by position, use `ser.iloc[pos] = value`\n",
      "  ret[feature] = int(self.lambdas[feature](ret[feature]))\n",
      "/Users/ygao/Library/Caches/pypoetry/virtualenvs/program-i-Fez0zm-py3.10/lib/python3.10/site-packages/lime/lime_tabular.py:544: FutureWarning: Series.__getitem__ treating keys as positions is deprecated. In a future version, integer keys will always be treated as labels (consistent with DataFrame behavior). To access a value by position, use `ser.iloc[pos]`\n",
      "  binary_column = (inverse_column == first_row[column]).astype(int)\n"
     ]
    },
    {
     "name": "stdout",
     "output_type": "stream",
     "text": [
      "157/157 [==============================] - 0s 1ms/step\n",
      " 76/157 [=============>................] - ETA: 0s"
     ]
    },
    {
     "name": "stderr",
     "output_type": "stream",
     "text": [
      "/Users/ygao/Library/Caches/pypoetry/virtualenvs/program-i-Fez0zm-py3.10/lib/python3.10/site-packages/lime/discretize.py:110: FutureWarning: Series.__getitem__ treating keys as positions is deprecated. In a future version, integer keys will always be treated as labels (consistent with DataFrame behavior). To access a value by position, use `ser.iloc[pos]`\n",
      "  ret[feature] = int(self.lambdas[feature](ret[feature]))\n",
      "/Users/ygao/Library/Caches/pypoetry/virtualenvs/program-i-Fez0zm-py3.10/lib/python3.10/site-packages/lime/discretize.py:110: FutureWarning: Series.__setitem__ treating keys as positions is deprecated. In a future version, integer keys will always be treated as labels (consistent with DataFrame behavior). To set a value by position, use `ser.iloc[pos] = value`\n",
      "  ret[feature] = int(self.lambdas[feature](ret[feature]))\n",
      "/Users/ygao/Library/Caches/pypoetry/virtualenvs/program-i-Fez0zm-py3.10/lib/python3.10/site-packages/lime/lime_tabular.py:427: FutureWarning: Series.__getitem__ treating keys as positions is deprecated. In a future version, integer keys will always be treated as labels (consistent with DataFrame behavior). To access a value by position, use `ser.iloc[pos]`\n",
      "  discretized_instance[f])]\n",
      "/Users/ygao/Library/Caches/pypoetry/virtualenvs/program-i-Fez0zm-py3.10/lib/python3.10/site-packages/lime/discretize.py:110: FutureWarning: Series.__getitem__ treating keys as positions is deprecated. In a future version, integer keys will always be treated as labels (consistent with DataFrame behavior). To access a value by position, use `ser.iloc[pos]`\n",
      "  ret[feature] = int(self.lambdas[feature](ret[feature]))\n",
      "/Users/ygao/Library/Caches/pypoetry/virtualenvs/program-i-Fez0zm-py3.10/lib/python3.10/site-packages/lime/discretize.py:110: FutureWarning: Series.__setitem__ treating keys as positions is deprecated. In a future version, integer keys will always be treated as labels (consistent with DataFrame behavior). To set a value by position, use `ser.iloc[pos] = value`\n",
      "  ret[feature] = int(self.lambdas[feature](ret[feature]))\n",
      "/Users/ygao/Library/Caches/pypoetry/virtualenvs/program-i-Fez0zm-py3.10/lib/python3.10/site-packages/lime/lime_tabular.py:544: FutureWarning: Series.__getitem__ treating keys as positions is deprecated. In a future version, integer keys will always be treated as labels (consistent with DataFrame behavior). To access a value by position, use `ser.iloc[pos]`\n",
      "  binary_column = (inverse_column == first_row[column]).astype(int)\n"
     ]
    },
    {
     "name": "stdout",
     "output_type": "stream",
     "text": [
      "157/157 [==============================] - 0s 1ms/step\n",
      " 69/157 [============>.................] - ETA: 0s"
     ]
    },
    {
     "name": "stderr",
     "output_type": "stream",
     "text": [
      "/Users/ygao/Library/Caches/pypoetry/virtualenvs/program-i-Fez0zm-py3.10/lib/python3.10/site-packages/lime/discretize.py:110: FutureWarning: Series.__getitem__ treating keys as positions is deprecated. In a future version, integer keys will always be treated as labels (consistent with DataFrame behavior). To access a value by position, use `ser.iloc[pos]`\n",
      "  ret[feature] = int(self.lambdas[feature](ret[feature]))\n",
      "/Users/ygao/Library/Caches/pypoetry/virtualenvs/program-i-Fez0zm-py3.10/lib/python3.10/site-packages/lime/discretize.py:110: FutureWarning: Series.__setitem__ treating keys as positions is deprecated. In a future version, integer keys will always be treated as labels (consistent with DataFrame behavior). To set a value by position, use `ser.iloc[pos] = value`\n",
      "  ret[feature] = int(self.lambdas[feature](ret[feature]))\n",
      "/Users/ygao/Library/Caches/pypoetry/virtualenvs/program-i-Fez0zm-py3.10/lib/python3.10/site-packages/lime/lime_tabular.py:427: FutureWarning: Series.__getitem__ treating keys as positions is deprecated. In a future version, integer keys will always be treated as labels (consistent with DataFrame behavior). To access a value by position, use `ser.iloc[pos]`\n",
      "  discretized_instance[f])]\n",
      "/Users/ygao/Library/Caches/pypoetry/virtualenvs/program-i-Fez0zm-py3.10/lib/python3.10/site-packages/lime/discretize.py:110: FutureWarning: Series.__getitem__ treating keys as positions is deprecated. In a future version, integer keys will always be treated as labels (consistent with DataFrame behavior). To access a value by position, use `ser.iloc[pos]`\n",
      "  ret[feature] = int(self.lambdas[feature](ret[feature]))\n",
      "/Users/ygao/Library/Caches/pypoetry/virtualenvs/program-i-Fez0zm-py3.10/lib/python3.10/site-packages/lime/discretize.py:110: FutureWarning: Series.__setitem__ treating keys as positions is deprecated. In a future version, integer keys will always be treated as labels (consistent with DataFrame behavior). To set a value by position, use `ser.iloc[pos] = value`\n",
      "  ret[feature] = int(self.lambdas[feature](ret[feature]))\n",
      "/Users/ygao/Library/Caches/pypoetry/virtualenvs/program-i-Fez0zm-py3.10/lib/python3.10/site-packages/lime/lime_tabular.py:544: FutureWarning: Series.__getitem__ treating keys as positions is deprecated. In a future version, integer keys will always be treated as labels (consistent with DataFrame behavior). To access a value by position, use `ser.iloc[pos]`\n",
      "  binary_column = (inverse_column == first_row[column]).astype(int)\n"
     ]
    },
    {
     "name": "stdout",
     "output_type": "stream",
     "text": [
      "157/157 [==============================] - 0s 1ms/step\n",
      " 63/157 [===========>..................] - ETA: 0s"
     ]
    },
    {
     "name": "stderr",
     "output_type": "stream",
     "text": [
      "/Users/ygao/Library/Caches/pypoetry/virtualenvs/program-i-Fez0zm-py3.10/lib/python3.10/site-packages/lime/discretize.py:110: FutureWarning: Series.__getitem__ treating keys as positions is deprecated. In a future version, integer keys will always be treated as labels (consistent with DataFrame behavior). To access a value by position, use `ser.iloc[pos]`\n",
      "  ret[feature] = int(self.lambdas[feature](ret[feature]))\n",
      "/Users/ygao/Library/Caches/pypoetry/virtualenvs/program-i-Fez0zm-py3.10/lib/python3.10/site-packages/lime/discretize.py:110: FutureWarning: Series.__setitem__ treating keys as positions is deprecated. In a future version, integer keys will always be treated as labels (consistent with DataFrame behavior). To set a value by position, use `ser.iloc[pos] = value`\n",
      "  ret[feature] = int(self.lambdas[feature](ret[feature]))\n",
      "/Users/ygao/Library/Caches/pypoetry/virtualenvs/program-i-Fez0zm-py3.10/lib/python3.10/site-packages/lime/lime_tabular.py:427: FutureWarning: Series.__getitem__ treating keys as positions is deprecated. In a future version, integer keys will always be treated as labels (consistent with DataFrame behavior). To access a value by position, use `ser.iloc[pos]`\n",
      "  discretized_instance[f])]\n",
      "/Users/ygao/Library/Caches/pypoetry/virtualenvs/program-i-Fez0zm-py3.10/lib/python3.10/site-packages/lime/discretize.py:110: FutureWarning: Series.__getitem__ treating keys as positions is deprecated. In a future version, integer keys will always be treated as labels (consistent with DataFrame behavior). To access a value by position, use `ser.iloc[pos]`\n",
      "  ret[feature] = int(self.lambdas[feature](ret[feature]))\n",
      "/Users/ygao/Library/Caches/pypoetry/virtualenvs/program-i-Fez0zm-py3.10/lib/python3.10/site-packages/lime/discretize.py:110: FutureWarning: Series.__setitem__ treating keys as positions is deprecated. In a future version, integer keys will always be treated as labels (consistent with DataFrame behavior). To set a value by position, use `ser.iloc[pos] = value`\n",
      "  ret[feature] = int(self.lambdas[feature](ret[feature]))\n",
      "/Users/ygao/Library/Caches/pypoetry/virtualenvs/program-i-Fez0zm-py3.10/lib/python3.10/site-packages/lime/lime_tabular.py:544: FutureWarning: Series.__getitem__ treating keys as positions is deprecated. In a future version, integer keys will always be treated as labels (consistent with DataFrame behavior). To access a value by position, use `ser.iloc[pos]`\n",
      "  binary_column = (inverse_column == first_row[column]).astype(int)\n"
     ]
    },
    {
     "name": "stdout",
     "output_type": "stream",
     "text": [
      "157/157 [==============================] - 0s 1ms/step\n",
      " 77/157 [=============>................] - ETA: 0s"
     ]
    },
    {
     "name": "stderr",
     "output_type": "stream",
     "text": [
      "/Users/ygao/Library/Caches/pypoetry/virtualenvs/program-i-Fez0zm-py3.10/lib/python3.10/site-packages/lime/discretize.py:110: FutureWarning: Series.__getitem__ treating keys as positions is deprecated. In a future version, integer keys will always be treated as labels (consistent with DataFrame behavior). To access a value by position, use `ser.iloc[pos]`\n",
      "  ret[feature] = int(self.lambdas[feature](ret[feature]))\n",
      "/Users/ygao/Library/Caches/pypoetry/virtualenvs/program-i-Fez0zm-py3.10/lib/python3.10/site-packages/lime/discretize.py:110: FutureWarning: Series.__setitem__ treating keys as positions is deprecated. In a future version, integer keys will always be treated as labels (consistent with DataFrame behavior). To set a value by position, use `ser.iloc[pos] = value`\n",
      "  ret[feature] = int(self.lambdas[feature](ret[feature]))\n",
      "/Users/ygao/Library/Caches/pypoetry/virtualenvs/program-i-Fez0zm-py3.10/lib/python3.10/site-packages/lime/lime_tabular.py:427: FutureWarning: Series.__getitem__ treating keys as positions is deprecated. In a future version, integer keys will always be treated as labels (consistent with DataFrame behavior). To access a value by position, use `ser.iloc[pos]`\n",
      "  discretized_instance[f])]\n",
      "/Users/ygao/Library/Caches/pypoetry/virtualenvs/program-i-Fez0zm-py3.10/lib/python3.10/site-packages/lime/discretize.py:110: FutureWarning: Series.__getitem__ treating keys as positions is deprecated. In a future version, integer keys will always be treated as labels (consistent with DataFrame behavior). To access a value by position, use `ser.iloc[pos]`\n",
      "  ret[feature] = int(self.lambdas[feature](ret[feature]))\n",
      "/Users/ygao/Library/Caches/pypoetry/virtualenvs/program-i-Fez0zm-py3.10/lib/python3.10/site-packages/lime/discretize.py:110: FutureWarning: Series.__setitem__ treating keys as positions is deprecated. In a future version, integer keys will always be treated as labels (consistent with DataFrame behavior). To set a value by position, use `ser.iloc[pos] = value`\n",
      "  ret[feature] = int(self.lambdas[feature](ret[feature]))\n",
      "/Users/ygao/Library/Caches/pypoetry/virtualenvs/program-i-Fez0zm-py3.10/lib/python3.10/site-packages/lime/lime_tabular.py:544: FutureWarning: Series.__getitem__ treating keys as positions is deprecated. In a future version, integer keys will always be treated as labels (consistent with DataFrame behavior). To access a value by position, use `ser.iloc[pos]`\n",
      "  binary_column = (inverse_column == first_row[column]).astype(int)\n"
     ]
    },
    {
     "name": "stdout",
     "output_type": "stream",
     "text": [
      "157/157 [==============================] - 0s 1ms/step\n",
      " 59/157 [==========>...................] - ETA: 0s"
     ]
    },
    {
     "name": "stderr",
     "output_type": "stream",
     "text": [
      "/Users/ygao/Library/Caches/pypoetry/virtualenvs/program-i-Fez0zm-py3.10/lib/python3.10/site-packages/lime/discretize.py:110: FutureWarning: Series.__getitem__ treating keys as positions is deprecated. In a future version, integer keys will always be treated as labels (consistent with DataFrame behavior). To access a value by position, use `ser.iloc[pos]`\n",
      "  ret[feature] = int(self.lambdas[feature](ret[feature]))\n",
      "/Users/ygao/Library/Caches/pypoetry/virtualenvs/program-i-Fez0zm-py3.10/lib/python3.10/site-packages/lime/discretize.py:110: FutureWarning: Series.__setitem__ treating keys as positions is deprecated. In a future version, integer keys will always be treated as labels (consistent with DataFrame behavior). To set a value by position, use `ser.iloc[pos] = value`\n",
      "  ret[feature] = int(self.lambdas[feature](ret[feature]))\n",
      "/Users/ygao/Library/Caches/pypoetry/virtualenvs/program-i-Fez0zm-py3.10/lib/python3.10/site-packages/lime/lime_tabular.py:427: FutureWarning: Series.__getitem__ treating keys as positions is deprecated. In a future version, integer keys will always be treated as labels (consistent with DataFrame behavior). To access a value by position, use `ser.iloc[pos]`\n",
      "  discretized_instance[f])]\n",
      "/Users/ygao/Library/Caches/pypoetry/virtualenvs/program-i-Fez0zm-py3.10/lib/python3.10/site-packages/lime/discretize.py:110: FutureWarning: Series.__getitem__ treating keys as positions is deprecated. In a future version, integer keys will always be treated as labels (consistent with DataFrame behavior). To access a value by position, use `ser.iloc[pos]`\n",
      "  ret[feature] = int(self.lambdas[feature](ret[feature]))\n",
      "/Users/ygao/Library/Caches/pypoetry/virtualenvs/program-i-Fez0zm-py3.10/lib/python3.10/site-packages/lime/discretize.py:110: FutureWarning: Series.__setitem__ treating keys as positions is deprecated. In a future version, integer keys will always be treated as labels (consistent with DataFrame behavior). To set a value by position, use `ser.iloc[pos] = value`\n",
      "  ret[feature] = int(self.lambdas[feature](ret[feature]))\n",
      "/Users/ygao/Library/Caches/pypoetry/virtualenvs/program-i-Fez0zm-py3.10/lib/python3.10/site-packages/lime/lime_tabular.py:544: FutureWarning: Series.__getitem__ treating keys as positions is deprecated. In a future version, integer keys will always be treated as labels (consistent with DataFrame behavior). To access a value by position, use `ser.iloc[pos]`\n",
      "  binary_column = (inverse_column == first_row[column]).astype(int)\n"
     ]
    },
    {
     "name": "stdout",
     "output_type": "stream",
     "text": [
      "157/157 [==============================] - 0s 1ms/step\n",
      " 86/157 [===============>..............] - ETA: 0s"
     ]
    },
    {
     "name": "stderr",
     "output_type": "stream",
     "text": [
      "/Users/ygao/Library/Caches/pypoetry/virtualenvs/program-i-Fez0zm-py3.10/lib/python3.10/site-packages/lime/discretize.py:110: FutureWarning: Series.__getitem__ treating keys as positions is deprecated. In a future version, integer keys will always be treated as labels (consistent with DataFrame behavior). To access a value by position, use `ser.iloc[pos]`\n",
      "  ret[feature] = int(self.lambdas[feature](ret[feature]))\n",
      "/Users/ygao/Library/Caches/pypoetry/virtualenvs/program-i-Fez0zm-py3.10/lib/python3.10/site-packages/lime/discretize.py:110: FutureWarning: Series.__setitem__ treating keys as positions is deprecated. In a future version, integer keys will always be treated as labels (consistent with DataFrame behavior). To set a value by position, use `ser.iloc[pos] = value`\n",
      "  ret[feature] = int(self.lambdas[feature](ret[feature]))\n",
      "/Users/ygao/Library/Caches/pypoetry/virtualenvs/program-i-Fez0zm-py3.10/lib/python3.10/site-packages/lime/lime_tabular.py:427: FutureWarning: Series.__getitem__ treating keys as positions is deprecated. In a future version, integer keys will always be treated as labels (consistent with DataFrame behavior). To access a value by position, use `ser.iloc[pos]`\n",
      "  discretized_instance[f])]\n",
      "/Users/ygao/Library/Caches/pypoetry/virtualenvs/program-i-Fez0zm-py3.10/lib/python3.10/site-packages/lime/discretize.py:110: FutureWarning: Series.__getitem__ treating keys as positions is deprecated. In a future version, integer keys will always be treated as labels (consistent with DataFrame behavior). To access a value by position, use `ser.iloc[pos]`\n",
      "  ret[feature] = int(self.lambdas[feature](ret[feature]))\n",
      "/Users/ygao/Library/Caches/pypoetry/virtualenvs/program-i-Fez0zm-py3.10/lib/python3.10/site-packages/lime/discretize.py:110: FutureWarning: Series.__setitem__ treating keys as positions is deprecated. In a future version, integer keys will always be treated as labels (consistent with DataFrame behavior). To set a value by position, use `ser.iloc[pos] = value`\n",
      "  ret[feature] = int(self.lambdas[feature](ret[feature]))\n",
      "/Users/ygao/Library/Caches/pypoetry/virtualenvs/program-i-Fez0zm-py3.10/lib/python3.10/site-packages/lime/lime_tabular.py:544: FutureWarning: Series.__getitem__ treating keys as positions is deprecated. In a future version, integer keys will always be treated as labels (consistent with DataFrame behavior). To access a value by position, use `ser.iloc[pos]`\n",
      "  binary_column = (inverse_column == first_row[column]).astype(int)\n"
     ]
    },
    {
     "name": "stdout",
     "output_type": "stream",
     "text": [
      "157/157 [==============================] - 0s 1ms/step\n",
      " 40/157 [======>.......................] - ETA: 0s"
     ]
    },
    {
     "name": "stderr",
     "output_type": "stream",
     "text": [
      "/Users/ygao/Library/Caches/pypoetry/virtualenvs/program-i-Fez0zm-py3.10/lib/python3.10/site-packages/lime/discretize.py:110: FutureWarning: Series.__getitem__ treating keys as positions is deprecated. In a future version, integer keys will always be treated as labels (consistent with DataFrame behavior). To access a value by position, use `ser.iloc[pos]`\n",
      "  ret[feature] = int(self.lambdas[feature](ret[feature]))\n",
      "/Users/ygao/Library/Caches/pypoetry/virtualenvs/program-i-Fez0zm-py3.10/lib/python3.10/site-packages/lime/discretize.py:110: FutureWarning: Series.__setitem__ treating keys as positions is deprecated. In a future version, integer keys will always be treated as labels (consistent with DataFrame behavior). To set a value by position, use `ser.iloc[pos] = value`\n",
      "  ret[feature] = int(self.lambdas[feature](ret[feature]))\n",
      "/Users/ygao/Library/Caches/pypoetry/virtualenvs/program-i-Fez0zm-py3.10/lib/python3.10/site-packages/lime/lime_tabular.py:427: FutureWarning: Series.__getitem__ treating keys as positions is deprecated. In a future version, integer keys will always be treated as labels (consistent with DataFrame behavior). To access a value by position, use `ser.iloc[pos]`\n",
      "  discretized_instance[f])]\n",
      "/Users/ygao/Library/Caches/pypoetry/virtualenvs/program-i-Fez0zm-py3.10/lib/python3.10/site-packages/lime/discretize.py:110: FutureWarning: Series.__getitem__ treating keys as positions is deprecated. In a future version, integer keys will always be treated as labels (consistent with DataFrame behavior). To access a value by position, use `ser.iloc[pos]`\n",
      "  ret[feature] = int(self.lambdas[feature](ret[feature]))\n",
      "/Users/ygao/Library/Caches/pypoetry/virtualenvs/program-i-Fez0zm-py3.10/lib/python3.10/site-packages/lime/discretize.py:110: FutureWarning: Series.__setitem__ treating keys as positions is deprecated. In a future version, integer keys will always be treated as labels (consistent with DataFrame behavior). To set a value by position, use `ser.iloc[pos] = value`\n",
      "  ret[feature] = int(self.lambdas[feature](ret[feature]))\n",
      "/Users/ygao/Library/Caches/pypoetry/virtualenvs/program-i-Fez0zm-py3.10/lib/python3.10/site-packages/lime/lime_tabular.py:544: FutureWarning: Series.__getitem__ treating keys as positions is deprecated. In a future version, integer keys will always be treated as labels (consistent with DataFrame behavior). To access a value by position, use `ser.iloc[pos]`\n",
      "  binary_column = (inverse_column == first_row[column]).astype(int)\n"
     ]
    },
    {
     "name": "stdout",
     "output_type": "stream",
     "text": [
      "157/157 [==============================] - 0s 1ms/step\n",
      " 67/157 [===========>..................] - ETA: 0s"
     ]
    },
    {
     "name": "stderr",
     "output_type": "stream",
     "text": [
      "/Users/ygao/Library/Caches/pypoetry/virtualenvs/program-i-Fez0zm-py3.10/lib/python3.10/site-packages/lime/discretize.py:110: FutureWarning: Series.__getitem__ treating keys as positions is deprecated. In a future version, integer keys will always be treated as labels (consistent with DataFrame behavior). To access a value by position, use `ser.iloc[pos]`\n",
      "  ret[feature] = int(self.lambdas[feature](ret[feature]))\n",
      "/Users/ygao/Library/Caches/pypoetry/virtualenvs/program-i-Fez0zm-py3.10/lib/python3.10/site-packages/lime/discretize.py:110: FutureWarning: Series.__setitem__ treating keys as positions is deprecated. In a future version, integer keys will always be treated as labels (consistent with DataFrame behavior). To set a value by position, use `ser.iloc[pos] = value`\n",
      "  ret[feature] = int(self.lambdas[feature](ret[feature]))\n",
      "/Users/ygao/Library/Caches/pypoetry/virtualenvs/program-i-Fez0zm-py3.10/lib/python3.10/site-packages/lime/lime_tabular.py:427: FutureWarning: Series.__getitem__ treating keys as positions is deprecated. In a future version, integer keys will always be treated as labels (consistent with DataFrame behavior). To access a value by position, use `ser.iloc[pos]`\n",
      "  discretized_instance[f])]\n",
      "/Users/ygao/Library/Caches/pypoetry/virtualenvs/program-i-Fez0zm-py3.10/lib/python3.10/site-packages/lime/discretize.py:110: FutureWarning: Series.__getitem__ treating keys as positions is deprecated. In a future version, integer keys will always be treated as labels (consistent with DataFrame behavior). To access a value by position, use `ser.iloc[pos]`\n",
      "  ret[feature] = int(self.lambdas[feature](ret[feature]))\n",
      "/Users/ygao/Library/Caches/pypoetry/virtualenvs/program-i-Fez0zm-py3.10/lib/python3.10/site-packages/lime/discretize.py:110: FutureWarning: Series.__setitem__ treating keys as positions is deprecated. In a future version, integer keys will always be treated as labels (consistent with DataFrame behavior). To set a value by position, use `ser.iloc[pos] = value`\n",
      "  ret[feature] = int(self.lambdas[feature](ret[feature]))\n",
      "/Users/ygao/Library/Caches/pypoetry/virtualenvs/program-i-Fez0zm-py3.10/lib/python3.10/site-packages/lime/lime_tabular.py:544: FutureWarning: Series.__getitem__ treating keys as positions is deprecated. In a future version, integer keys will always be treated as labels (consistent with DataFrame behavior). To access a value by position, use `ser.iloc[pos]`\n",
      "  binary_column = (inverse_column == first_row[column]).astype(int)\n"
     ]
    },
    {
     "name": "stdout",
     "output_type": "stream",
     "text": [
      "157/157 [==============================] - 0s 1ms/step\n"
     ]
    },
    {
     "name": "stderr",
     "output_type": "stream",
     "text": [
      "/Users/ygao/Library/Caches/pypoetry/virtualenvs/program-i-Fez0zm-py3.10/lib/python3.10/site-packages/lime/discretize.py:110: FutureWarning: Series.__getitem__ treating keys as positions is deprecated. In a future version, integer keys will always be treated as labels (consistent with DataFrame behavior). To access a value by position, use `ser.iloc[pos]`\n",
      "  ret[feature] = int(self.lambdas[feature](ret[feature]))\n",
      "/Users/ygao/Library/Caches/pypoetry/virtualenvs/program-i-Fez0zm-py3.10/lib/python3.10/site-packages/lime/discretize.py:110: FutureWarning: Series.__setitem__ treating keys as positions is deprecated. In a future version, integer keys will always be treated as labels (consistent with DataFrame behavior). To set a value by position, use `ser.iloc[pos] = value`\n",
      "  ret[feature] = int(self.lambdas[feature](ret[feature]))\n",
      "/Users/ygao/Library/Caches/pypoetry/virtualenvs/program-i-Fez0zm-py3.10/lib/python3.10/site-packages/lime/lime_tabular.py:427: FutureWarning: Series.__getitem__ treating keys as positions is deprecated. In a future version, integer keys will always be treated as labels (consistent with DataFrame behavior). To access a value by position, use `ser.iloc[pos]`\n",
      "  discretized_instance[f])]\n"
     ]
    }
   ],
   "source": [
    "gbt_explanation_lime = gbt_model.explain_lime(X_test.loc[[128]])"
   ],
   "metadata": {
    "collapsed": false,
    "ExecuteTime": {
     "end_time": "2024-06-03T15:06:17.624831Z",
     "start_time": "2024-06-03T15:05:51.546822Z"
    }
   },
   "id": "e826b8487fc5276e"
  },
  {
   "cell_type": "code",
   "execution_count": 492,
   "outputs": [
    {
     "name": "stdout",
     "output_type": "stream",
     "text": [
      "     Median_Income  Median_Age  Tot_Rooms  Tot_Bedrooms  Population  \\\n",
      "128         4.2042          52       3219           969        1152   \n",
      "\n",
      "     Households  Latitude  Longitude  Distance_to_coast  Distance_to_LA  \\\n",
      "128         830     37.79    -122.43         1634.62373   560978.041154   \n",
      "\n",
      "     Distance_to_SanDiego  Distance_to_SanJose  Distance_to_SanFrancisco  \n",
      "128         739479.269432         69241.813972               1785.873518  \n"
     ]
    }
   ],
   "source": [
    "print(X_test.loc[[128]])"
   ],
   "metadata": {
    "collapsed": false,
    "ExecuteTime": {
     "end_time": "2024-06-03T15:06:40.830480Z",
     "start_time": "2024-06-03T15:06:40.821102Z"
    }
   },
   "id": "ceeee7456d239485"
  },
  {
   "cell_type": "code",
   "execution_count": 493,
   "outputs": [],
   "source": [
    "gbt_explanation_shap=gbt_model.explain_shap(X_test.loc[[128]])"
   ],
   "metadata": {
    "collapsed": false,
    "ExecuteTime": {
     "end_time": "2024-06-03T15:06:51.841325Z",
     "start_time": "2024-06-03T15:06:49.735591Z"
    }
   },
   "id": "459ceb0264010d07"
  },
  {
   "cell_type": "code",
   "execution_count": 494,
   "outputs": [
    {
     "name": "stdout",
     "output_type": "stream",
     "text": [
      "Explanation 1:\n",
      "As List of Tuples (feature_id, weight):\n",
      "Feature Median_Income > 0.46: 149184.2794693192\n",
      "Feature Distance_to_coast > 0.19: -69637.81124830684\n",
      "Feature Latitude > 0.97: -23096.71443751593\n",
      "Feature Median_Age > 0.66: 11348.49122767892\n",
      "Feature Distance_to_LA > 1.04: -9719.161973100452\n",
      "Feature Tot_Rooms > 0.24: 9399.89909286463\n",
      "Feature Distance_to_SanJose > 0.77: -8539.528215804867\n",
      "Feature Population > 0.27: -6485.960711821462\n",
      "Feature Distance_to_SanFrancisco > 0.79: -3983.15911193899\n",
      "Feature Longitude <= -1.11: 3720.4110487944804\n",
      "Feature Tot_Bedrooms > 0.26: 3080.3531823161584\n",
      "Feature Households > 0.28: 1004.6006516798277\n",
      "Feature Distance_to_SanDiego > 1.06: 814.1424098721277\n",
      "\n",
      "\n",
      "Explanation 2:\n",
      "As List of Tuples (feature_id, weight):\n",
      "Feature Median_Income > 0.46: 150671.50807017693\n",
      "Feature Distance_to_coast > 0.19: -67317.66886638288\n",
      "Feature Latitude > 0.97: -25033.427404391077\n",
      "Feature Tot_Bedrooms > 0.26: 11552.40938738447\n",
      "Feature Distance_to_LA > 1.04: -11191.447276435612\n",
      "Feature Median_Age > 0.66: 9305.313760253848\n",
      "Feature Distance_to_SanJose > 0.77: -7268.822273348152\n",
      "Feature Population > 0.27: -6991.139426441204\n",
      "Feature Tot_Rooms > 0.24: 6772.740293795604\n",
      "Feature Distance_to_SanDiego > 1.06: 4843.421091065298\n",
      "Feature Distance_to_SanFrancisco > 0.79: -4524.925201478808\n",
      "Feature Longitude <= -1.11: 2562.182374087676\n",
      "Feature Households > 0.28: -430.10119264272834\n",
      "\n",
      "\n",
      "Explanation 3:\n",
      "As List of Tuples (feature_id, weight):\n",
      "Feature Median_Income > 0.46: 134206.58254397058\n",
      "Feature Distance_to_coast > 0.19: -57988.45777736363\n",
      "Feature Latitude > 0.97: -11779.61122105141\n",
      "Feature Median_Age > 0.66: 8115.593826214379\n",
      "Feature Distance_to_LA > 1.04: -7472.102753481034\n",
      "Feature Distance_to_SanFrancisco > 0.79: -2650.6369391849385\n",
      "Feature Distance_to_SanJose > 0.77: -2235.665746652096\n",
      "Feature Longitude <= -1.11: 2008.0001879125216\n",
      "Feature Tot_Rooms > 0.24: -1443.3760205444487\n",
      "Feature Distance_to_SanDiego > 1.06: 672.0416655465086\n",
      "Feature Tot_Bedrooms > 0.26: -330.3328099243248\n",
      "Feature Households > 0.28: -225.2902566984065\n",
      "Feature Population > 0.27: -195.79846375729585\n",
      "\n",
      "\n",
      "Explanation 4:\n",
      "As List of Tuples (feature_id, weight):\n",
      "Feature Median_Income > 0.46: 142637.50580741526\n",
      "Feature Distance_to_coast > 0.19: -62187.569662884496\n",
      "Feature Latitude > 0.97: -14487.576613925668\n",
      "Feature Distance_to_SanJose > 0.77: -6807.868640016557\n",
      "Feature Distance_to_LA > 1.04: -6762.599497061891\n",
      "Feature Median_Age > 0.66: 6403.785075439896\n",
      "Feature Longitude <= -1.11: 4077.301713049474\n",
      "Feature Distance_to_SanFrancisco > 0.79: -3540.0278533164415\n",
      "Feature Population > 0.27: -2373.771126488402\n",
      "Feature Tot_Bedrooms > 0.26: 2363.149525247549\n",
      "Feature Distance_to_SanDiego > 1.06: 963.4009182356381\n",
      "Feature Tot_Rooms > 0.24: -749.8089966546679\n",
      "Feature Households > 0.28: 22.68370143880447\n",
      "\n",
      "\n",
      "Explanation 5:\n",
      "As List of Tuples (feature_id, weight):\n",
      "Feature Median_Income > 0.46: 135241.84143802978\n",
      "Feature Distance_to_coast > 0.19: -59615.7919550933\n",
      "Feature Latitude > 0.97: -10587.364195640585\n",
      "Feature Distance_to_LA > 1.04: -9811.833749970583\n",
      "Feature Median_Age > 0.66: 8965.543326129282\n",
      "Feature Distance_to_SanJose > 0.77: -3094.1330857552753\n",
      "Feature Distance_to_SanFrancisco > 0.79: -2241.441957363217\n",
      "Feature Distance_to_SanDiego > 1.06: 2026.8501703690097\n",
      "Feature Longitude <= -1.11: 1670.2732108604846\n",
      "Feature Tot_Rooms > 0.24: 1437.337025374384\n",
      "Feature Households > 0.28: -625.1234705372459\n",
      "Feature Tot_Bedrooms > 0.26: -274.6539567743758\n",
      "Feature Population > 0.27: -262.6158171593847\n",
      "\n",
      "\n",
      "Explanation 6:\n",
      "As List of Tuples (feature_id, weight):\n",
      "Feature Median_Income > 0.46: 132574.2362261648\n",
      "Feature Distance_to_coast > 0.19: -57786.51348925785\n",
      "Feature Latitude > 0.97: -12511.924431323458\n",
      "Feature Median_Age > 0.66: 9406.10833785735\n",
      "Feature Distance_to_SanJose > 0.77: -5794.627352847205\n",
      "Feature Distance_to_LA > 1.04: -3963.3500351488497\n",
      "Feature Tot_Bedrooms > 0.26: 2766.7111775342382\n",
      "Feature Tot_Rooms > 0.24: -1096.3107394019723\n",
      "Feature Distance_to_SanFrancisco > 0.79: 515.9363733982589\n",
      "Feature Distance_to_SanDiego > 1.06: -433.0063015309231\n",
      "Feature Longitude <= -1.11: 347.7644658813303\n",
      "Feature Population > 0.27: -336.57817181099244\n",
      "Feature Households > 0.28: 239.72312499434108\n",
      "\n",
      "\n",
      "Explanation 7:\n",
      "As List of Tuples (feature_id, weight):\n",
      "Feature Median_Income > 0.46: 152174.17348543677\n",
      "Feature Distance_to_coast > 0.19: -73101.66758988111\n",
      "Feature Latitude > 0.97: -31408.226579790877\n",
      "Feature Distance_to_LA > 1.04: -20092.321208064048\n",
      "Feature Tot_Bedrooms > 0.26: 13930.72161609253\n",
      "Feature Population > 0.27: -13181.683914790787\n",
      "Feature Longitude <= -1.11: 12375.126813490757\n",
      "Feature Distance_to_SanJose > 0.77: -10812.867969975994\n",
      "Feature Tot_Rooms > 0.24: 10493.585679546348\n",
      "Feature Median_Age > 0.66: 4173.649329753197\n",
      "Feature Distance_to_SanFrancisco > 0.79: -3116.3296507524556\n",
      "Feature Households > 0.28: 1974.6818803009244\n",
      "Feature Distance_to_SanDiego > 1.06: 1097.6355299666327\n",
      "\n",
      "\n",
      "Explanation 8:\n",
      "As List of Tuples (feature_id, weight):\n",
      "Feature Median_Income > 0.46: 133497.23165492414\n",
      "Feature Distance_to_coast > 0.19: -58181.22168207214\n",
      "Feature Latitude > 0.97: -14290.357708009136\n",
      "Feature Median_Age > 0.66: 9698.588206709454\n",
      "Feature Distance_to_LA > 1.04: -7049.8442837961475\n",
      "Feature Distance_to_SanJose > 0.77: -4890.852892239919\n",
      "Feature Distance_to_SanDiego > 1.06: 2988.878792260717\n",
      "Feature Longitude <= -1.11: 1677.9987357660614\n",
      "Feature Tot_Bedrooms > 0.26: 1484.309252430115\n",
      "Feature Distance_to_SanFrancisco > 0.79: -1087.7071322316112\n",
      "Feature Population > 0.27: -740.7329360076146\n",
      "Feature Households > 0.28: 623.8019844670207\n",
      "Feature Tot_Rooms > 0.24: 292.6502092317034\n",
      "\n",
      "\n",
      "Explanation 9:\n",
      "As List of Tuples (feature_id, weight):\n",
      "Feature Median_Income > 0.46: 149980.17922934613\n",
      "Feature Distance_to_coast > 0.19: -74738.07901176586\n",
      "Feature Latitude > 0.97: -30819.93837450233\n",
      "Feature Distance_to_LA > 1.04: -18128.657358865843\n",
      "Feature Population > 0.27: -16306.697095029007\n",
      "Feature Tot_Bedrooms > 0.26: 14820.930815840697\n",
      "Feature Tot_Rooms > 0.24: 11634.840840037814\n",
      "Feature Longitude <= -1.11: 10495.242525649775\n",
      "Feature Distance_to_SanJose > 0.77: -9108.10111367006\n",
      "Feature Median_Age > 0.66: 8032.228979466706\n",
      "Feature Distance_to_SanFrancisco > 0.79: -3301.96394911633\n",
      "Feature Households > 0.28: 3049.3002820157667\n",
      "Feature Distance_to_SanDiego > 1.06: -2802.9537178096166\n",
      "\n",
      "\n",
      "Explanation 10:\n",
      "As List of Tuples (feature_id, weight):\n",
      "Feature Median_Income > 0.46: 145853.04632162396\n",
      "Feature Distance_to_coast > 0.19: -62185.56404557901\n",
      "Feature Latitude > 0.97: -15491.38827371609\n",
      "Feature Median_Age > 0.66: 10950.075509805178\n",
      "Feature Distance_to_LA > 1.04: -7168.107128682816\n",
      "Feature Distance_to_SanJose > 0.77: -6734.698879801194\n",
      "Feature Tot_Bedrooms > 0.26: 4003.028691238595\n",
      "Feature Distance_to_SanDiego > 1.06: 2556.1416149078887\n",
      "Feature Distance_to_SanFrancisco > 0.79: -2310.0771653349125\n",
      "Feature Longitude <= -1.11: 2231.90769143627\n",
      "Feature Population > 0.27: -780.5871127529317\n",
      "Feature Households > 0.28: -516.6229780154295\n",
      "Feature Tot_Rooms > 0.24: 361.319708338942\n",
      "\n",
      "\n",
      "Explanation 11:\n",
      "As List of Tuples (feature_id, weight):\n",
      "Feature Median_Income > 0.46: 137076.80193927026\n",
      "Feature Distance_to_coast > 0.19: -57109.14191382414\n",
      "Feature Latitude > 0.97: -13769.705586083994\n",
      "Feature Distance_to_LA > 1.04: -7733.270522987728\n",
      "Feature Median_Age > 0.66: 7440.0264609055575\n",
      "Feature Distance_to_SanDiego > 1.06: 3149.410379018649\n",
      "Feature Households > 0.28: 2117.965756766473\n",
      "Feature Distance_to_SanJose > 0.77: -1867.9830131646067\n",
      "Feature Longitude <= -1.11: 1232.0017607675036\n",
      "Feature Population > 0.27: -617.4585213907521\n",
      "Feature Tot_Rooms > 0.24: 594.6304033626411\n",
      "Feature Distance_to_SanFrancisco > 0.79: -461.20616688910206\n",
      "Feature Tot_Bedrooms > 0.26: 111.46266500880691\n",
      "\n",
      "\n",
      "Explanation 12:\n",
      "As List of Tuples (feature_id, weight):\n",
      "Feature Median_Income > 0.46: 140061.0801010889\n",
      "Feature Distance_to_coast > 0.19: -57846.4086482653\n",
      "Feature Latitude > 0.97: -14989.105775225293\n",
      "Feature Distance_to_LA > 1.04: -10791.406767737632\n",
      "Feature Median_Age > 0.66: 6113.405986159135\n",
      "Feature Distance_to_SanFrancisco > 0.79: -5651.002275106239\n",
      "Feature Tot_Bedrooms > 0.26: 2699.28441065354\n",
      "Feature Tot_Rooms > 0.24: -2267.0565675154885\n",
      "Feature Households > 0.28: 1977.3448557139645\n",
      "Feature Population > 0.27: -807.0469801061067\n",
      "Feature Distance_to_SanJose > 0.77: -784.4614566264135\n",
      "Feature Distance_to_SanDiego > 1.06: 643.5487348604672\n",
      "Feature Longitude <= -1.11: 93.53861640858811\n",
      "\n",
      "\n",
      "Explanation 13:\n",
      "As List of Tuples (feature_id, weight):\n",
      "Feature Median_Income > 0.46: 149134.30618376\n",
      "Feature Distance_to_coast > 0.19: -67585.48795915487\n",
      "Feature Latitude > 0.97: -24304.3460165818\n",
      "Feature Median_Age > 0.66: 8284.925244061937\n",
      "Feature Distance_to_LA > 1.04: -7123.789248155879\n",
      "Feature Tot_Bedrooms > 0.26: 6769.545957570715\n",
      "Feature Distance_to_SanJose > 0.77: -4472.856434904025\n",
      "Feature Distance_to_SanFrancisco > 0.79: -3325.688843964492\n",
      "Feature Population > 0.27: -1942.3219870176329\n",
      "Feature Distance_to_SanDiego > 1.06: 1859.7133076667717\n",
      "Feature Tot_Rooms > 0.24: 842.4498718089093\n",
      "Feature Longitude <= -1.11: 324.4361483340418\n",
      "Feature Households > 0.28: 306.1021619923243\n",
      "\n",
      "\n",
      "Explanation 14:\n",
      "As List of Tuples (feature_id, weight):\n",
      "Feature Median_Income > 0.46: 152306.4191552084\n",
      "Feature Distance_to_coast > 0.19: -72275.27899202707\n",
      "Feature Latitude > 0.97: -28572.002280214794\n",
      "Feature Distance_to_LA > 1.04: -17868.686160327477\n",
      "Feature Tot_Bedrooms > 0.26: 13555.852343179997\n",
      "Feature Population > 0.27: -13307.844942211676\n",
      "Feature Longitude <= -1.11: 11372.961139880117\n",
      "Feature Tot_Rooms > 0.24: 11297.92425186076\n",
      "Feature Distance_to_SanJose > 0.77: -8308.234708214128\n",
      "Feature Median_Age > 0.66: 8251.623501535369\n",
      "Feature Distance_to_SanFrancisco > 0.79: -6878.430041638437\n",
      "Feature Households > 0.28: 262.53516151056215\n",
      "Feature Distance_to_SanDiego > 1.06: -9.031298085659321\n",
      "\n",
      "\n",
      "Explanation 15:\n",
      "As List of Tuples (feature_id, weight):\n",
      "Feature Median_Income > 0.46: 150234.9195097137\n",
      "Feature Distance_to_coast > 0.19: -69234.14066725124\n",
      "Feature Latitude > 0.97: -22215.996750428407\n",
      "Feature Distance_to_LA > 1.04: -10108.563306856298\n",
      "Feature Distance_to_SanJose > 0.77: -8414.875454521745\n",
      "Feature Median_Age > 0.66: 6545.923366376331\n",
      "Feature Tot_Bedrooms > 0.26: 5958.893241122505\n",
      "Feature Population > 0.27: -4819.376171605053\n",
      "Feature Longitude <= -1.11: 3909.851951082151\n",
      "Feature Tot_Rooms > 0.24: 2329.0394404377985\n",
      "Feature Distance_to_SanFrancisco > 0.79: 1328.3458202810968\n",
      "Feature Distance_to_SanDiego > 1.06: 1278.365108084684\n",
      "Feature Households > 0.28: 300.568142273944\n",
      "\n",
      "\n",
      "Explanation 16:\n",
      "As List of Tuples (feature_id, weight):\n",
      "Feature Median_Income > 0.46: 150866.92927135123\n",
      "Feature Distance_to_coast > 0.19: -62927.93418758469\n",
      "Feature Latitude > 0.97: -18288.552595174737\n",
      "Feature Distance_to_LA > 1.04: -12900.242954814592\n",
      "Feature Median_Age > 0.66: 8269.903428074784\n",
      "Feature Tot_Bedrooms > 0.26: 6436.434291692346\n",
      "Feature Distance_to_SanFrancisco > 0.79: -5846.245980829658\n",
      "Feature Distance_to_SanDiego > 1.06: 5734.908080533986\n",
      "Feature Distance_to_SanJose > 0.77: -4246.267044547617\n",
      "Feature Households > 0.28: 2117.702464969533\n",
      "Feature Population > 0.27: -1917.4759122432915\n",
      "Feature Tot_Rooms > 0.24: 1498.7794727980179\n",
      "Feature Longitude <= -1.11: 493.19448058823525\n",
      "\n",
      "\n",
      "Explanation 17:\n",
      "As List of Tuples (feature_id, weight):\n",
      "Feature Median_Income > 0.46: 149941.71119903543\n",
      "Feature Distance_to_coast > 0.19: -67136.11670030041\n",
      "Feature Latitude > 0.97: -22644.216990199562\n",
      "Feature Distance_to_LA > 1.04: -10525.549707290487\n",
      "Feature Distance_to_SanJose > 0.77: -10251.066344806659\n",
      "Feature Median_Age > 0.66: 9192.720803243812\n",
      "Feature Tot_Bedrooms > 0.26: 7441.3998916609235\n",
      "Feature Distance_to_SanFrancisco > 0.79: -7249.560033020738\n",
      "Feature Tot_Rooms > 0.24: 2404.4548660074774\n",
      "Feature Population > 0.27: -2328.0066709451253\n",
      "Feature Longitude <= -1.11: 1521.4381447739786\n",
      "Feature Distance_to_SanDiego > 1.06: 1257.0938973890027\n",
      "Feature Households > 0.28: 1040.7308187243782\n",
      "\n",
      "\n",
      "Explanation 18:\n",
      "As List of Tuples (feature_id, weight):\n",
      "Feature Median_Income > 0.46: 154519.33084717303\n",
      "Feature Distance_to_coast > 0.19: -76294.08875855507\n",
      "Feature Latitude > 0.97: -24052.987448652017\n",
      "Feature Distance_to_LA > 1.04: -12896.08271558214\n",
      "Feature Median_Age > 0.66: 11253.224250039179\n",
      "Feature Longitude <= -1.11: 9233.97129872138\n",
      "Feature Tot_Bedrooms > 0.26: 9019.670777421059\n",
      "Feature Population > 0.27: -5812.592200783155\n",
      "Feature Distance_to_SanDiego > 1.06: 4796.590227559668\n",
      "Feature Distance_to_SanJose > 0.77: -4575.130455138984\n",
      "Feature Tot_Rooms > 0.24: 4502.714192155383\n",
      "Feature Distance_to_SanFrancisco > 0.79: -4494.4537670424315\n",
      "Feature Households > 0.28: 1691.060976851133\n",
      "\n",
      "\n",
      "Explanation 19:\n",
      "As List of Tuples (feature_id, weight):\n",
      "Feature Median_Income > 0.46: 113702.06730907717\n",
      "Feature Distance_to_coast > 0.19: -55418.087210715545\n",
      "Feature Latitude > 0.97: -10309.683482475264\n",
      "Feature Median_Age > 0.66: 9531.350799475133\n",
      "Feature Distance_to_LA > 1.04: -4268.375376139685\n",
      "Feature Distance_to_SanJose > 0.77: -4134.5890898563775\n",
      "Feature Longitude <= -1.11: 3240.220311609092\n",
      "Feature Distance_to_SanDiego > 1.06: 2621.8125222599997\n",
      "Feature Distance_to_SanFrancisco > 0.79: -521.785536026885\n",
      "Feature Households > 0.28: 500.1178771252006\n",
      "Feature Tot_Rooms > 0.24: -353.79356926839483\n",
      "Feature Population > 0.27: 98.37892483700318\n",
      "Feature Tot_Bedrooms > 0.26: -58.170162565978266\n",
      "\n",
      "\n",
      "Explanation 20:\n",
      "As List of Tuples (feature_id, weight):\n",
      "Feature Median_Income > 0.46: 145701.91092179847\n",
      "Feature Distance_to_coast > 0.19: -65729.09916660999\n",
      "Feature Latitude > 0.97: -19353.02412260227\n",
      "Feature Distance_to_LA > 1.04: -14092.381641419073\n",
      "Feature Distance_to_SanJose > 0.77: -10148.572134548898\n",
      "Feature Tot_Rooms > 0.24: 6379.481634456519\n",
      "Feature Median_Age > 0.66: 5299.310508151925\n",
      "Feature Tot_Bedrooms > 0.26: 5183.372608855548\n",
      "Feature Population > 0.27: -3094.880036670583\n",
      "Feature Households > 0.28: 3060.31379188069\n",
      "Feature Distance_to_SanFrancisco > 0.79: -2707.9909237173915\n",
      "Feature Distance_to_SanDiego > 1.06: -364.9665828935257\n",
      "Feature Longitude <= -1.11: 145.11806175185467\n",
      "\n",
      "\n",
      "Explanation 21:\n",
      "As List of Tuples (feature_id, weight):\n",
      "Feature Median_Income > 0.46: 153737.44433903674\n",
      "Feature Distance_to_coast > 0.19: -65857.02629117754\n",
      "Feature Latitude > 0.97: -32341.955409050275\n",
      "Feature Distance_to_LA > 1.04: -20342.35921688597\n",
      "Feature Population > 0.27: -15855.572154296913\n",
      "Feature Tot_Bedrooms > 0.26: 15257.401293637127\n",
      "Feature Distance_to_SanJose > 0.77: -10492.392277315792\n",
      "Feature Median_Age > 0.66: 9604.548480895342\n",
      "Feature Longitude <= -1.11: 8586.407070041363\n",
      "Feature Tot_Rooms > 0.24: 8386.534442465316\n",
      "Feature Distance_to_SanDiego > 1.06: 7164.7944529586275\n",
      "Feature Distance_to_SanFrancisco > 0.79: -5922.004973362647\n",
      "Feature Households > 0.28: 2555.8618649547816\n",
      "\n",
      "\n",
      "Explanation 22:\n",
      "As List of Tuples (feature_id, weight):\n",
      "Feature Median_Income > 0.46: 152789.17402280954\n",
      "Feature Distance_to_coast > 0.19: -74126.44536161088\n",
      "Feature Latitude > 0.97: -27075.677781954833\n",
      "Feature Tot_Bedrooms > 0.26: 14354.763460412023\n",
      "Feature Population > 0.27: -14312.370684314556\n",
      "Feature Distance_to_LA > 1.04: -11118.847398633105\n",
      "Feature Median_Age > 0.66: 7875.900607252883\n",
      "Feature Distance_to_SanFrancisco > 0.79: -7126.701103647627\n",
      "Feature Longitude <= -1.11: 6786.780653923588\n",
      "Feature Tot_Rooms > 0.24: 6219.544054727005\n",
      "Feature Distance_to_SanJose > 0.77: -4505.922247690012\n",
      "Feature Distance_to_SanDiego > 1.06: 2163.7992397582184\n",
      "Feature Households > 0.28: 1994.1616569497883\n",
      "\n",
      "\n",
      "Explanation 23:\n",
      "As List of Tuples (feature_id, weight):\n",
      "Feature Median_Income > 0.46: 138733.50397102223\n",
      "Feature Distance_to_coast > 0.19: -66018.32338763161\n",
      "Feature Latitude > 0.97: -13376.967156483353\n",
      "Feature Distance_to_LA > 1.04: -7821.346390253384\n",
      "Feature Distance_to_SanJose > 0.77: -7405.7184294145\n",
      "Feature Median_Age > 0.66: 6556.671731570497\n",
      "Feature Households > 0.28: 2605.7268114756557\n",
      "Feature Longitude <= -1.11: 2056.5821211441908\n",
      "Feature Tot_Bedrooms > 0.26: 1181.481695867041\n",
      "Feature Population > 0.27: -1121.9658568389946\n",
      "Feature Tot_Rooms > 0.24: 774.4363893046498\n",
      "Feature Distance_to_SanFrancisco > 0.79: -240.68874960869897\n",
      "Feature Distance_to_SanDiego > 1.06: -219.65127878261953\n",
      "\n",
      "\n",
      "Explanation 24:\n",
      "As List of Tuples (feature_id, weight):\n",
      "Feature Median_Income > 0.46: 127625.25304214207\n",
      "Feature Distance_to_coast > 0.19: -55044.402981564315\n",
      "Feature Latitude > 0.97: -13481.804125846555\n",
      "Feature Median_Age > 0.66: 9943.45648465845\n",
      "Feature Distance_to_SanFrancisco > 0.79: -3058.4760637462878\n",
      "Feature Distance_to_SanJose > 0.77: -2875.0275000851807\n",
      "Feature Households > 0.28: -2485.8530161761223\n",
      "Feature Tot_Bedrooms > 0.26: 2349.1703237470356\n",
      "Feature Distance_to_LA > 1.04: -1684.138547828043\n",
      "Feature Longitude <= -1.11: 1137.0143215155572\n",
      "Feature Tot_Rooms > 0.24: -1055.425764329889\n",
      "Feature Population > 0.27: 865.5056601822831\n",
      "Feature Distance_to_SanDiego > 1.06: -559.7704279034778\n",
      "\n",
      "\n",
      "Explanation 25:\n",
      "As List of Tuples (feature_id, weight):\n",
      "Feature Median_Income > 0.46: 152435.4025226515\n",
      "Feature Distance_to_coast > 0.19: -65459.87237454585\n",
      "Feature Latitude > 0.97: -23078.59762248814\n",
      "Feature Distance_to_LA > 1.04: -14515.700351186966\n",
      "Feature Population > 0.27: -9240.616423849178\n",
      "Feature Tot_Rooms > 0.24: 8321.704133644547\n",
      "Feature Median_Age > 0.66: 6618.098716328866\n",
      "Feature Distance_to_SanFrancisco > 0.79: -6587.2872141463895\n",
      "Feature Tot_Bedrooms > 0.26: 6458.489510355044\n",
      "Feature Distance_to_SanDiego > 1.06: 4420.7715488631075\n",
      "Feature Longitude <= -1.11: 2768.981690343574\n",
      "Feature Distance_to_SanJose > 0.77: -2554.060401347701\n",
      "Feature Households > 0.28: -2493.1565491480137\n",
      "\n",
      "\n",
      "Explanation 26:\n",
      "As List of Tuples (feature_id, weight):\n",
      "Feature Median_Income > 0.46: 155859.99021308307\n",
      "Feature Distance_to_coast > 0.19: -74384.30275686878\n",
      "Feature Latitude > 0.97: -22569.983829339897\n",
      "Feature Distance_to_LA > 1.04: -13491.605456892836\n",
      "Feature Distance_to_SanJose > 0.77: -9858.990758852484\n",
      "Feature Tot_Rooms > 0.24: 9283.246718721673\n",
      "Feature Median_Age > 0.66: 8814.710743733383\n",
      "Feature Population > 0.27: -8619.012448068657\n",
      "Feature Tot_Bedrooms > 0.26: 7106.657652194568\n",
      "Feature Longitude <= -1.11: 6979.799313834159\n",
      "Feature Distance_to_SanFrancisco > 0.79: -3005.240330262867\n",
      "Feature Distance_to_SanDiego > 1.06: 1620.7568457775135\n",
      "Feature Households > 0.28: 691.4673354825602\n",
      "\n",
      "\n",
      "Explanation 27:\n",
      "As List of Tuples (feature_id, weight):\n",
      "Feature Median_Income > 0.46: 153557.85159230206\n",
      "Feature Distance_to_coast > 0.19: -68300.28729739983\n",
      "Feature Latitude > 0.97: -15962.391043488222\n",
      "Feature Median_Age > 0.66: 10149.066128640203\n",
      "Feature Tot_Bedrooms > 0.26: 9687.898469579246\n",
      "Feature Distance_to_LA > 1.04: -9657.787559611264\n",
      "Feature Distance_to_SanJose > 0.77: -6572.956879615533\n",
      "Feature Population > 0.27: -5683.486969861907\n",
      "Feature Longitude <= -1.11: 5197.781396631959\n",
      "Feature Distance_to_SanFrancisco > 0.79: -2942.2742870298753\n",
      "Feature Tot_Rooms > 0.24: 2634.196141492317\n",
      "Feature Households > 0.28: 1537.2106294061539\n",
      "Feature Distance_to_SanDiego > 1.06: -1371.7202611092528\n",
      "\n",
      "\n",
      "Explanation 28:\n",
      "As List of Tuples (feature_id, weight):\n",
      "Feature Median_Income > 0.46: 151824.74214331526\n",
      "Feature Distance_to_coast > 0.19: -71329.7781917316\n",
      "Feature Latitude > 0.97: -28672.813177131266\n",
      "Feature Distance_to_LA > 1.04: -19278.06934994431\n",
      "Feature Tot_Bedrooms > 0.26: 16227.415200833158\n",
      "Feature Population > 0.27: -15641.735737867255\n",
      "Feature Tot_Rooms > 0.24: 13302.850981066376\n",
      "Feature Median_Age > 0.66: 9250.036301005563\n",
      "Feature Distance_to_SanJose > 0.77: -8428.893453068918\n",
      "Feature Longitude <= -1.11: 7755.0177568746885\n",
      "Feature Distance_to_SanFrancisco > 0.79: -4852.241038098032\n",
      "Feature Distance_to_SanDiego > 1.06: 3355.732443866275\n",
      "Feature Households > 0.28: -98.30726241885158\n",
      "\n",
      "\n",
      "Explanation 29:\n",
      "As List of Tuples (feature_id, weight):\n",
      "Feature Median_Income > 0.46: 133384.97980392873\n",
      "Feature Distance_to_coast > 0.19: -60271.9341867589\n",
      "Feature Latitude > 0.97: -10634.065206712618\n",
      "Feature Distance_to_LA > 1.04: -8418.997882666203\n",
      "Feature Distance_to_SanJose > 0.77: -7081.551981041561\n",
      "Feature Median_Age > 0.66: 5836.060101895983\n",
      "Feature Distance_to_SanFrancisco > 0.79: -3598.0522568189535\n",
      "Feature Distance_to_SanDiego > 1.06: 2336.2711688280347\n",
      "Feature Longitude <= -1.11: 1232.3441805600423\n",
      "Feature Households > 0.28: 994.4858051465154\n",
      "Feature Population > 0.27: -562.6493082619627\n",
      "Feature Tot_Rooms > 0.24: -518.2238267725464\n",
      "Feature Tot_Bedrooms > 0.26: 433.25463175363797\n",
      "\n",
      "\n",
      "Explanation 30:\n",
      "As List of Tuples (feature_id, weight):\n",
      "Feature Median_Income > 0.46: 149825.82018447836\n",
      "Feature Distance_to_coast > 0.19: -66684.89786954013\n",
      "Feature Latitude > 0.97: -18028.568372446392\n",
      "Feature Distance_to_LA > 1.04: -12997.250988836158\n",
      "Feature Tot_Bedrooms > 0.26: 9431.04514238261\n",
      "Feature Median_Age > 0.66: 7255.755525564956\n",
      "Feature Population > 0.27: -4552.761298265209\n",
      "Feature Distance_to_SanDiego > 1.06: 4537.409751252319\n",
      "Feature Households > 0.28: 4254.216617313956\n",
      "Feature Distance_to_SanJose > 0.77: -4221.328563866129\n",
      "Feature Tot_Rooms > 0.24: 3954.197836981406\n",
      "Feature Longitude <= -1.11: 2827.577927599596\n",
      "Feature Distance_to_SanFrancisco > 0.79: -1108.0576657073307\n",
      "\n",
      "\n",
      "Explanation 31:\n",
      "As List of Tuples (feature_id, weight):\n",
      "Feature Median_Income > 0.46: 152682.86356128\n",
      "Feature Distance_to_coast > 0.19: -73979.39181922385\n",
      "Feature Latitude > 0.97: -32458.475041187958\n",
      "Feature Longitude <= -1.11: 16474.161310032938\n",
      "Feature Distance_to_LA > 1.04: -14577.275396470197\n",
      "Feature Tot_Bedrooms > 0.26: 13998.015735438494\n",
      "Feature Population > 0.27: -11408.509507466068\n",
      "Feature Median_Age > 0.66: 8580.3183069193\n",
      "Feature Tot_Rooms > 0.24: 7669.495382618294\n",
      "Feature Distance_to_SanJose > 0.77: -4906.482195087101\n",
      "Feature Distance_to_SanDiego > 1.06: 3441.717780933578\n",
      "Feature Distance_to_SanFrancisco > 0.79: -2801.973901758378\n",
      "Feature Households > 0.28: 1542.0380162613753\n",
      "\n",
      "\n",
      "Explanation 32:\n",
      "As List of Tuples (feature_id, weight):\n",
      "Feature Median_Income > 0.46: 118325.44275157255\n",
      "Feature Distance_to_coast > 0.19: -54428.361221236264\n",
      "Feature Latitude > 0.97: -10232.920885036812\n",
      "Feature Median_Age > 0.66: 6411.947294239695\n",
      "Feature Distance_to_SanJose > 0.77: -5279.234330460693\n",
      "Feature Households > 0.28: 1757.0847571913719\n",
      "Feature Tot_Bedrooms > 0.26: 1630.2623001388924\n",
      "Feature Tot_Rooms > 0.24: -911.6957513339783\n",
      "Feature Longitude <= -1.11: -813.1066666079869\n",
      "Feature Distance_to_SanFrancisco > 0.79: 784.4061276012768\n",
      "Feature Distance_to_LA > 1.04: -573.8535442382447\n",
      "Feature Population > 0.27: 482.73265250480466\n",
      "Feature Distance_to_SanDiego > 1.06: -32.86766034527924\n",
      "\n",
      "\n",
      "Explanation 33:\n",
      "As List of Tuples (feature_id, weight):\n",
      "Feature Median_Income > 0.46: 153642.72438383102\n",
      "Feature Distance_to_coast > 0.19: -70657.89840873747\n",
      "Feature Latitude > 0.97: -28702.241388442828\n",
      "Feature Distance_to_LA > 1.04: -16126.272700312818\n",
      "Feature Tot_Bedrooms > 0.26: 15217.370247596802\n",
      "Feature Population > 0.27: -13398.592811489356\n",
      "Feature Tot_Rooms > 0.24: 7299.833999680128\n",
      "Feature Longitude <= -1.11: 5555.411148014857\n",
      "Feature Median_Age > 0.66: 5126.469070971524\n",
      "Feature Distance_to_SanFrancisco > 0.79: -4015.391325736274\n",
      "Feature Distance_to_SanJose > 0.77: -2739.818361514976\n",
      "Feature Distance_to_SanDiego > 1.06: 1935.1244979418923\n",
      "Feature Households > 0.28: -584.8418289139129\n",
      "\n",
      "\n",
      "Explanation 34:\n",
      "As List of Tuples (feature_id, weight):\n",
      "Feature Median_Income > 0.46: 150926.28406959737\n",
      "Feature Distance_to_coast > 0.19: -67439.71697484763\n",
      "Feature Latitude > 0.97: -21038.386657574014\n",
      "Feature Distance_to_LA > 1.04: -13679.242917380687\n",
      "Feature Median_Age > 0.66: 7771.543141743407\n",
      "Feature Tot_Bedrooms > 0.26: 7129.440650383206\n",
      "Feature Population > 0.27: -5757.619386347035\n",
      "Feature Distance_to_SanFrancisco > 0.79: -5341.341733273949\n",
      "Feature Tot_Rooms > 0.24: 5125.079789579884\n",
      "Feature Distance_to_SanJose > 0.77: -5023.996241934664\n",
      "Feature Distance_to_SanDiego > 1.06: 4362.320171172288\n",
      "Feature Longitude <= -1.11: 1525.3972384112774\n",
      "Feature Households > 0.28: 319.2143318632498\n",
      "\n",
      "\n",
      "Explanation 35:\n",
      "As List of Tuples (feature_id, weight):\n",
      "Feature Median_Income > 0.46: 142130.94121544308\n",
      "Feature Distance_to_coast > 0.19: -68471.9105080261\n",
      "Feature Latitude > 0.97: -23296.02899324118\n",
      "Feature Distance_to_LA > 1.04: -9153.481842600577\n",
      "Feature Distance_to_SanJose > 0.77: -6493.150747280356\n",
      "Feature Tot_Bedrooms > 0.26: 5693.313652845274\n",
      "Feature Median_Age > 0.66: 5447.3345769595\n",
      "Feature Distance_to_SanFrancisco > 0.79: -5339.351977671867\n",
      "Feature Population > 0.27: -3098.6847320598363\n",
      "Feature Households > 0.28: 2854.424973923315\n",
      "Feature Distance_to_SanDiego > 1.06: 2243.4071308834327\n",
      "Feature Longitude <= -1.11: 1109.9670398120877\n",
      "Feature Tot_Rooms > 0.24: -182.0034400269078\n",
      "\n",
      "\n",
      "Explanation 36:\n",
      "As List of Tuples (feature_id, weight):\n",
      "Feature Median_Income > 0.46: 148197.16613205083\n",
      "Feature Distance_to_coast > 0.19: -70495.51012862108\n",
      "Feature Latitude > 0.97: -23336.640158314724\n",
      "Feature Distance_to_LA > 1.04: -11991.026932381346\n",
      "Feature Median_Age > 0.66: 9068.733974602446\n",
      "Feature Tot_Bedrooms > 0.26: 8296.593670068436\n",
      "Feature Distance_to_SanJose > 0.77: -7586.060230274955\n",
      "Feature Population > 0.27: -5944.371999004802\n",
      "Feature Distance_to_SanDiego > 1.06: 5214.8489435212705\n",
      "Feature Distance_to_SanFrancisco > 0.79: -4599.157343954264\n",
      "Feature Tot_Rooms > 0.24: 4266.267091152612\n",
      "Feature Longitude <= -1.11: 3706.4752135403655\n",
      "Feature Households > 0.28: 2994.3866101159233\n",
      "\n",
      "\n",
      "Explanation 37:\n",
      "As List of Tuples (feature_id, weight):\n",
      "Feature Median_Income > 0.46: 131152.941661557\n",
      "Feature Distance_to_coast > 0.19: -67480.56156358006\n",
      "Feature Latitude > 0.97: -16649.325139331904\n",
      "Feature Distance_to_SanJose > 0.77: -7709.284272629129\n",
      "Feature Median_Age > 0.66: 7457.48087345711\n",
      "Feature Distance_to_LA > 1.04: -6341.4238106582025\n",
      "Feature Distance_to_SanFrancisco > 0.79: -2938.531562005337\n",
      "Feature Tot_Bedrooms > 0.26: 2171.736290265676\n",
      "Feature Population > 0.27: -1494.5347377025626\n",
      "Feature Longitude <= -1.11: 1413.0998493751968\n",
      "Feature Distance_to_SanDiego > 1.06: 769.717404732614\n",
      "Feature Households > 0.28: -722.3101395522522\n",
      "Feature Tot_Rooms > 0.24: -538.6613027607563\n",
      "\n",
      "\n",
      "Explanation 38:\n",
      "As List of Tuples (feature_id, weight):\n",
      "Feature Median_Income > 0.46: 145439.47237490866\n",
      "Feature Distance_to_coast > 0.19: -71214.72017212048\n",
      "Feature Latitude > 0.97: -28171.469848462486\n",
      "Feature Distance_to_LA > 1.04: -15534.293154645382\n",
      "Feature Tot_Bedrooms > 0.26: 10393.62892680182\n",
      "Feature Median_Age > 0.66: 8821.880776296612\n",
      "Feature Population > 0.27: -7548.506602225892\n",
      "Feature Tot_Rooms > 0.24: 5877.978800658056\n",
      "Feature Distance_to_SanJose > 0.77: -5609.811317107834\n",
      "Feature Distance_to_SanFrancisco > 0.79: -4913.9628270548255\n",
      "Feature Distance_to_SanDiego > 1.06: 4873.97043524885\n",
      "Feature Households > 0.28: 3886.9224668996094\n",
      "Feature Longitude <= -1.11: 440.3554352057814\n",
      "\n",
      "\n",
      "Explanation 39:\n",
      "As List of Tuples (feature_id, weight):\n",
      "Feature Median_Income > 0.46: 153901.2742209343\n",
      "Feature Distance_to_coast > 0.19: -75634.1593322347\n",
      "Feature Latitude > 0.97: -34240.706008320245\n",
      "Feature Tot_Bedrooms > 0.26: 20097.77063164198\n",
      "Feature Population > 0.27: -17765.503091583407\n",
      "Feature Distance_to_LA > 1.04: -16789.746248325802\n",
      "Feature Longitude <= -1.11: 13086.583080882228\n",
      "Feature Distance_to_SanJose > 0.77: -10210.478966407109\n",
      "Feature Median_Age > 0.66: 9180.707317765187\n",
      "Feature Distance_to_SanDiego > 1.06: 7363.034314038526\n",
      "Feature Tot_Rooms > 0.24: 7169.2141498254505\n",
      "Feature Distance_to_SanFrancisco > 0.79: -4425.489935585903\n",
      "Feature Households > 0.28: 3299.8401615305197\n",
      "\n",
      "\n",
      "Explanation 40:\n",
      "As List of Tuples (feature_id, weight):\n",
      "Feature Median_Income > 0.46: 135776.3787906408\n",
      "Feature Distance_to_coast > 0.19: -60884.84423700206\n",
      "Feature Latitude > 0.97: -13775.085611667098\n",
      "Feature Median_Age > 0.66: 12835.499469252494\n",
      "Feature Distance_to_LA > 1.04: -9085.11758961916\n",
      "Feature Distance_to_SanFrancisco > 0.79: -6155.218311769582\n",
      "Feature Distance_to_SanJose > 0.77: -5131.270424322245\n",
      "Feature Population > 0.27: 2169.9719839050563\n",
      "Feature Longitude <= -1.11: 2110.4136359253025\n",
      "Feature Distance_to_SanDiego > 1.06: -1944.559979389618\n",
      "Feature Households > 0.28: 1133.0276325344778\n",
      "Feature Tot_Bedrooms > 0.26: 1120.6724238012982\n",
      "Feature Tot_Rooms > 0.24: 617.3573865140124\n",
      "\n",
      "\n",
      "Explanation 41:\n",
      "As List of Tuples (feature_id, weight):\n",
      "Feature Median_Income > 0.46: 150808.69015875668\n",
      "Feature Distance_to_coast > 0.19: -68990.71436340446\n",
      "Feature Latitude > 0.97: -31193.80451710378\n",
      "Feature Distance_to_LA > 1.04: -14259.63826715663\n",
      "Feature Tot_Bedrooms > 0.26: 10196.451324091751\n",
      "Feature Population > 0.27: -8810.209861807427\n",
      "Feature Median_Age > 0.66: 7531.199564005906\n",
      "Feature Distance_to_SanJose > 0.77: -6853.920262671769\n",
      "Feature Distance_to_SanFrancisco > 0.79: -5685.133005695447\n",
      "Feature Tot_Rooms > 0.24: 5194.5769309263715\n",
      "Feature Distance_to_SanDiego > 1.06: 4216.650960739469\n",
      "Feature Longitude <= -1.11: 2856.0371319068413\n",
      "Feature Households > 0.28: 2745.8535644581325\n",
      "\n",
      "\n",
      "Explanation 42:\n",
      "As List of Tuples (feature_id, weight):\n",
      "Feature Median_Income > 0.46: 148435.2190241797\n",
      "Feature Distance_to_coast > 0.19: -75713.0000232143\n",
      "Feature Latitude > 0.97: -26788.26400502644\n",
      "Feature Distance_to_LA > 1.04: -15158.82284633424\n",
      "Feature Population > 0.27: -14209.615310156158\n",
      "Feature Tot_Bedrooms > 0.26: 13125.643232463197\n",
      "Feature Distance_to_SanJose > 0.77: -12267.98433253888\n",
      "Feature Tot_Rooms > 0.24: 8447.130737686897\n",
      "Feature Longitude <= -1.11: 8120.551419687308\n",
      "Feature Median_Age > 0.66: 7127.686523960373\n",
      "Feature Households > 0.28: 3262.22404153296\n",
      "Feature Distance_to_SanDiego > 1.06: 2903.363237388459\n",
      "Feature Distance_to_SanFrancisco > 0.79: -2460.1361986283396\n",
      "\n",
      "\n",
      "Explanation 43:\n",
      "As List of Tuples (feature_id, weight):\n",
      "Feature Median_Income > 0.46: 147800.02446997148\n",
      "Feature Distance_to_coast > 0.19: -70047.9813792586\n",
      "Feature Latitude > 0.97: -29000.54095104117\n",
      "Feature Distance_to_LA > 1.04: -13490.140352539163\n",
      "Feature Tot_Bedrooms > 0.26: 12209.506198247325\n",
      "Feature Tot_Rooms > 0.24: 10956.282313795537\n",
      "Feature Population > 0.27: -10196.595923019246\n",
      "Feature Distance_to_SanJose > 0.77: -8736.707213661219\n",
      "Feature Longitude <= -1.11: 7864.339056814103\n",
      "Feature Distance_to_SanFrancisco > 0.79: -7486.553852722327\n",
      "Feature Median_Age > 0.66: 6858.195797089525\n",
      "Feature Distance_to_SanDiego > 1.06: 4142.244964513715\n",
      "Feature Households > 0.28: 1990.7608841924869\n",
      "\n",
      "\n",
      "Explanation 44:\n",
      "As List of Tuples (feature_id, weight):\n",
      "Feature Median_Income > 0.46: 151605.56748346126\n",
      "Feature Distance_to_coast > 0.19: -73936.77915231799\n",
      "Feature Latitude > 0.97: -30492.484143078884\n",
      "Feature Tot_Bedrooms > 0.26: 11602.745596473369\n",
      "Feature Distance_to_LA > 1.04: -11191.925548567822\n",
      "Feature Population > 0.27: -9803.74042040787\n",
      "Feature Distance_to_SanJose > 0.77: -6791.890758203336\n",
      "Feature Median_Age > 0.66: 6392.70362100699\n",
      "Feature Distance_to_SanFrancisco > 0.79: -4923.37530159554\n",
      "Feature Tot_Rooms > 0.24: 4732.114151101121\n",
      "Feature Distance_to_SanDiego > 1.06: 4003.5065264207974\n",
      "Feature Households > 0.28: 2672.6291035677127\n",
      "Feature Longitude <= -1.11: 1625.724293872571\n",
      "\n",
      "\n",
      "Explanation 45:\n",
      "As List of Tuples (feature_id, weight):\n",
      "Feature Median_Income > 0.46: 134150.2975671705\n",
      "Feature Distance_to_coast > 0.19: -59754.18490923466\n",
      "Feature Latitude > 0.97: -12804.82744882648\n",
      "Feature Median_Age > 0.66: 8994.187576968683\n",
      "Feature Distance_to_LA > 1.04: -6376.370245450603\n",
      "Feature Distance_to_SanJose > 0.77: -4789.660833593422\n",
      "Feature Households > 0.28: -2076.407235398639\n",
      "Feature Longitude <= -1.11: 2065.909759645012\n",
      "Feature Distance_to_SanDiego > 1.06: -870.0788858113053\n",
      "Feature Tot_Bedrooms > 0.26: 609.7795559455178\n",
      "Feature Tot_Rooms > 0.24: 498.6538460859974\n",
      "Feature Distance_to_SanFrancisco > 0.79: -407.18643059280225\n",
      "Feature Population > 0.27: -330.071920772412\n",
      "\n",
      "\n",
      "Explanation 46:\n",
      "As List of Tuples (feature_id, weight):\n",
      "Feature Median_Income > 0.46: 145536.72974600713\n",
      "Feature Distance_to_coast > 0.19: -72526.0939626557\n",
      "Feature Latitude > 0.97: -24474.267914084885\n",
      "Feature Distance_to_LA > 1.04: -13334.199158703812\n",
      "Feature Population > 0.27: -9339.363044769752\n",
      "Feature Median_Age > 0.66: 7070.445066087373\n",
      "Feature Tot_Bedrooms > 0.26: 7059.169925062313\n",
      "Feature Tot_Rooms > 0.24: 6584.3223532390175\n",
      "Feature Distance_to_SanFrancisco > 0.79: -4300.625129460432\n",
      "Feature Distance_to_SanDiego > 1.06: 4146.681971214455\n",
      "Feature Distance_to_SanJose > 0.77: -4024.9673751079513\n",
      "Feature Households > 0.28: 3923.066359258547\n",
      "Feature Longitude <= -1.11: 3876.892865905045\n",
      "\n",
      "\n",
      "Explanation 47:\n",
      "As List of Tuples (feature_id, weight):\n",
      "Feature Median_Income > 0.46: 156355.82381897792\n",
      "Feature Distance_to_coast > 0.19: -70456.61929544914\n",
      "Feature Latitude > 0.97: -30967.176863296518\n",
      "Feature Distance_to_LA > 1.04: -14102.248227115882\n",
      "Feature Population > 0.27: -12962.578637873741\n",
      "Feature Tot_Rooms > 0.24: 9387.58096465195\n",
      "Feature Tot_Bedrooms > 0.26: 7769.206150218288\n",
      "Feature Longitude <= -1.11: 7081.333478987305\n",
      "Feature Distance_to_SanFrancisco > 0.79: -6955.471476800756\n",
      "Feature Median_Age > 0.66: 6706.236797215908\n",
      "Feature Distance_to_SanJose > 0.77: -4598.284042504478\n",
      "Feature Households > 0.28: 3618.5110563423004\n",
      "Feature Distance_to_SanDiego > 1.06: -490.1683681842271\n",
      "\n",
      "\n",
      "Explanation 48:\n",
      "As List of Tuples (feature_id, weight):\n",
      "Feature Median_Income > 0.46: 151867.95301737453\n",
      "Feature Distance_to_coast > 0.19: -71019.98638662709\n",
      "Feature Latitude > 0.97: -26057.244231702476\n",
      "Feature Distance_to_LA > 1.04: -9501.647074573877\n",
      "Feature Distance_to_SanJose > 0.77: -7540.378926206583\n",
      "Feature Population > 0.27: -6793.637378845408\n",
      "Feature Distance_to_SanFrancisco > 0.79: -6618.329298600166\n",
      "Feature Households > 0.28: 5925.531681492728\n",
      "Feature Median_Age > 0.66: 5136.637825091781\n",
      "Feature Longitude <= -1.11: 4723.520306846345\n",
      "Feature Tot_Bedrooms > 0.26: 4593.068007257596\n",
      "Feature Tot_Rooms > 0.24: 2503.3495959363618\n",
      "Feature Distance_to_SanDiego > 1.06: 2171.9461233881825\n",
      "\n",
      "\n",
      "Explanation 49:\n",
      "As List of Tuples (feature_id, weight):\n",
      "Feature Median_Income > 0.46: 149587.12470837092\n",
      "Feature Distance_to_coast > 0.19: -72210.46068753023\n",
      "Feature Latitude > 0.97: -23427.89665682298\n",
      "Feature Distance_to_LA > 1.04: -9642.72378825745\n",
      "Feature Distance_to_SanJose > 0.77: -8677.684909014713\n",
      "Feature Median_Age > 0.66: 8665.768858457199\n",
      "Feature Tot_Bedrooms > 0.26: 6128.030547641263\n",
      "Feature Longitude <= -1.11: 3645.817282966642\n",
      "Feature Distance_to_SanFrancisco > 0.79: -1782.007817563154\n",
      "Feature Population > 0.27: -1063.1718543677964\n",
      "Feature Households > 0.28: 1005.6192630039942\n",
      "Feature Distance_to_SanDiego > 1.06: -878.3393956609872\n",
      "Feature Tot_Rooms > 0.24: 370.6074277854334\n",
      "\n",
      "\n",
      "Explanation 50:\n",
      "As List of Tuples (feature_id, weight):\n",
      "Feature Median_Income > 0.46: 111719.78210908435\n",
      "Feature Distance_to_coast > 0.19: -50807.68757966343\n",
      "Feature Latitude > 0.97: -10935.592527903196\n",
      "Feature Median_Age > 0.66: 7623.257371404629\n",
      "Feature Distance_to_SanJose > 0.77: -5120.385338215299\n",
      "Feature Distance_to_SanDiego > 1.06: 1662.581739711996\n",
      "Feature Distance_to_LA > 1.04: -1510.556651850707\n",
      "Feature Population > 0.27: -1086.1929874066423\n",
      "Feature Tot_Rooms > 0.24: 458.0967643867608\n",
      "Feature Longitude <= -1.11: -254.76000905062318\n",
      "Feature Households > 0.28: 127.79645514974202\n",
      "Feature Tot_Bedrooms > 0.26: 70.75877218291251\n",
      "Feature Distance_to_SanFrancisco > 0.79: -53.33018923507508\n",
      "\n",
      "\n",
      "Explanation 51:\n",
      "As List of Tuples (feature_id, weight):\n",
      "Feature Median_Income > 0.46: 151645.14145081516\n",
      "Feature Distance_to_coast > 0.19: -68172.54154961368\n",
      "Feature Latitude > 0.97: -30568.855180944538\n",
      "Feature Distance_to_LA > 1.04: -12945.464606106823\n",
      "Feature Tot_Bedrooms > 0.26: 11172.608005938266\n",
      "Feature Median_Age > 0.66: 9907.609569633736\n",
      "Feature Distance_to_SanJose > 0.77: -8268.174980109205\n",
      "Feature Population > 0.27: -8217.171275369861\n",
      "Feature Tot_Rooms > 0.24: 7749.310301790677\n",
      "Feature Longitude <= -1.11: 6611.144898436265\n",
      "Feature Distance_to_SanFrancisco > 0.79: -5971.051879314801\n",
      "Feature Households > 0.28: 4616.103732497023\n",
      "Feature Distance_to_SanDiego > 1.06: 1075.4276241537177\n",
      "\n",
      "\n",
      "Explanation 52:\n",
      "As List of Tuples (feature_id, weight):\n",
      "Feature Median_Income > 0.46: 153398.2753250302\n",
      "Feature Distance_to_coast > 0.19: -67433.54916366862\n",
      "Feature Latitude > 0.97: -33433.12099565096\n",
      "Feature Distance_to_LA > 1.04: -12885.71494301292\n",
      "Feature Distance_to_SanJose > 0.77: -12340.429166931537\n",
      "Feature Longitude <= -1.11: 11800.648187025668\n",
      "Feature Tot_Bedrooms > 0.26: 10328.798398546118\n",
      "Feature Population > 0.27: -8888.761504991891\n",
      "Feature Median_Age > 0.66: 8708.880770924536\n",
      "Feature Tot_Rooms > 0.24: 7799.693699651223\n",
      "Feature Distance_to_SanFrancisco > 0.79: -4943.497670164681\n",
      "Feature Households > 0.28: 4590.333666740106\n",
      "Feature Distance_to_SanDiego > 1.06: 2709.289986837372\n",
      "\n",
      "\n",
      "Explanation 53:\n",
      "As List of Tuples (feature_id, weight):\n",
      "Feature Median_Income > 0.46: 149003.60643926848\n",
      "Feature Distance_to_coast > 0.19: -73958.16180242288\n",
      "Feature Latitude > 0.97: -29932.386422422387\n",
      "Feature Distance_to_LA > 1.04: -18834.4138479621\n",
      "Feature Population > 0.27: -17304.124626050623\n",
      "Feature Tot_Rooms > 0.24: 14570.44488737745\n",
      "Feature Longitude <= -1.11: 14002.232733120507\n",
      "Feature Tot_Bedrooms > 0.26: 12110.604715652204\n",
      "Feature Median_Age > 0.66: 9623.06811312679\n",
      "Feature Distance_to_SanJose > 0.77: -8915.949284755647\n",
      "Feature Distance_to_SanDiego > 1.06: 4542.169604929427\n",
      "Feature Households > 0.28: 3219.4501830098934\n",
      "Feature Distance_to_SanFrancisco > 0.79: -3040.7676550979336\n",
      "\n",
      "\n",
      "Explanation 54:\n",
      "As List of Tuples (feature_id, weight):\n",
      "Feature Median_Income > 0.46: 149953.41794876044\n",
      "Feature Distance_to_coast > 0.19: -67975.61317837742\n",
      "Feature Latitude > 0.97: -20187.75437641908\n",
      "Feature Distance_to_LA > 1.04: -8563.339006723421\n",
      "Feature Median_Age > 0.66: 7661.521073301207\n",
      "Feature Tot_Bedrooms > 0.26: 6571.918437966447\n",
      "Feature Distance_to_SanFrancisco > 0.79: -5493.472593665135\n",
      "Feature Distance_to_SanDiego > 1.06: 5020.511120470334\n",
      "Feature Distance_to_SanJose > 0.77: -3962.257466738028\n",
      "Feature Households > 0.28: -2728.8624838423566\n",
      "Feature Longitude <= -1.11: 2336.4891827333877\n",
      "Feature Tot_Rooms > 0.24: -2057.049805402438\n",
      "Feature Population > 0.27: 1207.0969251116114\n",
      "\n",
      "\n",
      "Explanation 55:\n",
      "As List of Tuples (feature_id, weight):\n",
      "Feature Median_Income > 0.46: 150374.35326374712\n",
      "Feature Distance_to_coast > 0.19: -72740.9345268348\n",
      "Feature Latitude > 0.97: -29099.394862495843\n",
      "Feature Distance_to_LA > 1.04: -12346.519840354622\n",
      "Feature Tot_Bedrooms > 0.26: 12003.62414383971\n",
      "Feature Population > 0.27: -10322.246104605725\n",
      "Feature Distance_to_SanJose > 0.77: -9845.239169682149\n",
      "Feature Median_Age > 0.66: 8889.619296378263\n",
      "Feature Longitude <= -1.11: 7737.368941479207\n",
      "Feature Distance_to_SanFrancisco > 0.79: -6472.37025286919\n",
      "Feature Tot_Rooms > 0.24: 6445.68230594601\n",
      "Feature Distance_to_SanDiego > 1.06: 5416.517514855043\n",
      "Feature Households > 0.28: 2701.2835138632317\n",
      "\n",
      "\n",
      "Explanation 56:\n",
      "As List of Tuples (feature_id, weight):\n",
      "Feature Median_Income > 0.46: 133764.7788522667\n",
      "Feature Distance_to_coast > 0.19: -54417.71416223295\n",
      "Feature Latitude > 0.97: -12945.231108470178\n",
      "Feature Median_Age > 0.66: 9458.812611652806\n",
      "Feature Distance_to_SanJose > 0.77: -6852.688789265362\n",
      "Feature Distance_to_LA > 1.04: -5366.5624371391505\n",
      "Feature Distance_to_SanFrancisco > 0.79: -2269.680319216449\n",
      "Feature Distance_to_SanDiego > 1.06: 954.0709674704294\n",
      "Feature Households > 0.28: -255.77743889410505\n",
      "Feature Tot_Bedrooms > 0.26: 241.40899090266083\n",
      "Feature Population > 0.27: -212.78495675405145\n",
      "Feature Longitude <= -1.11: 34.44946980924808\n",
      "Feature Tot_Rooms > 0.24: -22.91927621825456\n",
      "\n",
      "\n",
      "Explanation 57:\n",
      "As List of Tuples (feature_id, weight):\n",
      "Feature Median_Income > 0.46: 145151.40219130358\n",
      "Feature Distance_to_coast > 0.19: -66454.03402461765\n",
      "Feature Latitude > 0.97: -12038.61470406715\n",
      "Feature Distance_to_SanJose > 0.77: -9637.508414644135\n",
      "Feature Distance_to_LA > 1.04: -8900.495958991072\n",
      "Feature Median_Age > 0.66: 6157.190486784842\n",
      "Feature Tot_Bedrooms > 0.26: 3604.1081038484645\n",
      "Feature Longitude <= -1.11: 3156.742478874743\n",
      "Feature Population > 0.27: -1288.220475004515\n",
      "Feature Distance_to_SanFrancisco > 0.79: -1247.0291009044122\n",
      "Feature Households > 0.28: -1181.4243934092808\n",
      "Feature Tot_Rooms > 0.24: -710.5672384140547\n",
      "Feature Distance_to_SanDiego > 1.06: 29.4580045231511\n",
      "\n",
      "\n",
      "Explanation 58:\n",
      "As List of Tuples (feature_id, weight):\n",
      "Feature Median_Income > 0.46: 153130.82398215303\n",
      "Feature Distance_to_coast > 0.19: -71185.1004446978\n",
      "Feature Latitude > 0.97: -28932.12396122468\n",
      "Feature Distance_to_LA > 1.04: -16972.54368401831\n",
      "Feature Tot_Bedrooms > 0.26: 16960.4785868929\n",
      "Feature Population > 0.27: -11698.018794747155\n",
      "Feature Tot_Rooms > 0.24: 11221.892286682003\n",
      "Feature Median_Age > 0.66: 8594.862070743015\n",
      "Feature Longitude <= -1.11: 6827.411655273384\n",
      "Feature Distance_to_SanFrancisco > 0.79: -5038.868848045348\n",
      "Feature Distance_to_SanDiego > 1.06: 4858.832011171313\n",
      "Feature Distance_to_SanJose > 0.77: -4316.259359352267\n",
      "Feature Households > 0.28: -2168.2307801582133\n",
      "\n",
      "\n",
      "Explanation 59:\n",
      "As List of Tuples (feature_id, weight):\n",
      "Feature Median_Income > 0.46: 153046.71754825022\n",
      "Feature Distance_to_coast > 0.19: -67432.74430008334\n",
      "Feature Latitude > 0.97: -26899.558528674563\n",
      "Feature Distance_to_LA > 1.04: -15887.552966404515\n",
      "Feature Longitude <= -1.11: 15159.967582888403\n",
      "Feature Tot_Bedrooms > 0.26: 13897.297062241494\n",
      "Feature Population > 0.27: -12210.467519065429\n",
      "Feature Distance_to_SanJose > 0.77: -8951.801909370926\n",
      "Feature Median_Age > 0.66: 8491.368529905798\n",
      "Feature Tot_Rooms > 0.24: 5789.684812277755\n",
      "Feature Distance_to_SanFrancisco > 0.79: -4155.544625455814\n",
      "Feature Distance_to_SanDiego > 1.06: 2689.236615981329\n",
      "Feature Households > 0.28: -422.6235290869713\n",
      "\n",
      "\n",
      "Explanation 60:\n",
      "As List of Tuples (feature_id, weight):\n",
      "Feature Median_Income > 0.46: 153705.36963134725\n",
      "Feature Distance_to_coast > 0.19: -66556.12310161331\n",
      "Feature Latitude > 0.97: -17985.746377450243\n",
      "Feature Distance_to_LA > 1.04: -11648.790044534682\n",
      "Feature Tot_Bedrooms > 0.26: 10990.460515208855\n",
      "Feature Distance_to_SanJose > 0.77: -10698.259016762891\n",
      "Feature Population > 0.27: -8822.512516099692\n",
      "Feature Median_Age > 0.66: 6128.043781529533\n",
      "Feature Longitude <= -1.11: 5870.926308069215\n",
      "Feature Tot_Rooms > 0.24: 4261.1644647201665\n",
      "Feature Distance_to_SanFrancisco > 0.79: -2886.0559994429923\n",
      "Feature Distance_to_SanDiego > 1.06: 2781.4626301508342\n",
      "Feature Households > 0.28: 508.22599569722024\n",
      "\n",
      "\n",
      "Explanation 61:\n",
      "As List of Tuples (feature_id, weight):\n",
      "Feature Median_Income > 0.46: 150195.08947189082\n",
      "Feature Distance_to_coast > 0.19: -70505.95048365244\n",
      "Feature Latitude > 0.97: -27993.947072538645\n",
      "Feature Tot_Bedrooms > 0.26: 14273.703778864872\n",
      "Feature Distance_to_LA > 1.04: -13419.443426126332\n",
      "Feature Median_Age > 0.66: 9867.043744958833\n",
      "Feature Population > 0.27: -9724.06467312225\n",
      "Feature Distance_to_SanJose > 0.77: -7610.061560530504\n",
      "Feature Tot_Rooms > 0.24: 6641.245862187712\n",
      "Feature Longitude <= -1.11: 5949.204395510674\n",
      "Feature Distance_to_SanFrancisco > 0.79: -5149.269982970028\n",
      "Feature Distance_to_SanDiego > 1.06: 1784.9556127987423\n",
      "Feature Households > 0.28: 645.3938616913864\n",
      "\n",
      "\n",
      "Explanation 62:\n",
      "As List of Tuples (feature_id, weight):\n",
      "Feature Median_Income > 0.46: 146689.34104894404\n",
      "Feature Distance_to_coast > 0.19: -75328.35730729539\n",
      "Feature Latitude > 0.97: -36604.33072359762\n",
      "Feature Longitude <= -1.11: 14596.434983457924\n",
      "Feature Distance_to_LA > 1.04: -13541.791087864338\n",
      "Feature Tot_Bedrooms > 0.26: 12052.110118844144\n",
      "Feature Population > 0.27: -10202.423591939532\n",
      "Feature Distance_to_SanFrancisco > 0.79: -8838.309679174254\n",
      "Feature Tot_Rooms > 0.24: 8613.550370103741\n",
      "Feature Median_Age > 0.66: 5266.912869284105\n",
      "Feature Distance_to_SanJose > 0.77: -3154.1564798799113\n",
      "Feature Distance_to_SanDiego > 1.06: -1505.0554519629782\n",
      "Feature Households > 0.28: -1271.3247352511114\n",
      "\n",
      "\n",
      "Explanation 63:\n",
      "As List of Tuples (feature_id, weight):\n",
      "Feature Median_Income > 0.46: 143083.06170352772\n",
      "Feature Distance_to_coast > 0.19: -66756.5318819225\n",
      "Feature Latitude > 0.97: -20748.321372057053\n",
      "Feature Distance_to_SanJose > 0.77: -9821.960558792578\n",
      "Feature Distance_to_LA > 1.04: -9503.03881790982\n",
      "Feature Tot_Bedrooms > 0.26: 5968.915815327379\n",
      "Feature Median_Age > 0.66: 5552.82600346827\n",
      "Feature Distance_to_SanDiego > 1.06: 4432.6773708579185\n",
      "Feature Longitude <= -1.11: 3527.6189907892244\n",
      "Feature Distance_to_SanFrancisco > 0.79: -2846.936644430673\n",
      "Feature Households > 0.28: -1090.3321580875788\n",
      "Feature Population > 0.27: -668.303050546619\n",
      "Feature Tot_Rooms > 0.24: 13.709678628405412\n",
      "\n",
      "\n",
      "Explanation 64:\n",
      "As List of Tuples (feature_id, weight):\n",
      "Feature Median_Income > 0.46: 112705.44941205485\n",
      "Feature Distance_to_coast > 0.19: -54495.515308809896\n",
      "Feature Median_Age > 0.66: 8993.534783299785\n",
      "Feature Latitude > 0.97: -6829.579682737091\n",
      "Feature Distance_to_SanJose > 0.77: -3043.9359628672023\n",
      "Feature Distance_to_LA > 1.04: -2285.2743131949796\n",
      "Feature Households > 0.28: -1940.1006757856976\n",
      "Feature Population > 0.27: 1862.6933082088585\n",
      "Feature Distance_to_SanDiego > 1.06: -1011.7380713008488\n",
      "Feature Tot_Bedrooms > 0.26: 948.3629677034367\n",
      "Feature Tot_Rooms > 0.24: -839.6295496684118\n",
      "Feature Longitude <= -1.11: -475.3580360628777\n",
      "Feature Distance_to_SanFrancisco > 0.79: -108.70371816266017\n",
      "\n",
      "\n",
      "Explanation 65:\n",
      "As List of Tuples (feature_id, weight):\n",
      "Feature Median_Income > 0.46: 140175.28029270118\n",
      "Feature Distance_to_coast > 0.19: -66480.77959847322\n",
      "Feature Latitude > 0.97: -14024.979605847615\n",
      "Feature Distance_to_LA > 1.04: -12860.867255822022\n",
      "Feature Median_Age > 0.66: 6975.278290139213\n",
      "Feature Longitude <= -1.11: 6409.99981103871\n",
      "Feature Distance_to_SanFrancisco > 0.79: -5665.883053279305\n",
      "Feature Distance_to_SanJose > 0.77: -4833.498879392811\n",
      "Feature Tot_Bedrooms > 0.26: 4673.877277665138\n",
      "Feature Tot_Rooms > 0.24: -4215.926763530666\n",
      "Feature Distance_to_SanDiego > 1.06: 3204.965523777882\n",
      "Feature Population > 0.27: -352.73786628948477\n",
      "Feature Households > 0.28: -98.94469488389895\n",
      "\n",
      "\n",
      "Explanation 66:\n",
      "As List of Tuples (feature_id, weight):\n",
      "Feature Median_Income > 0.46: 128946.29779102952\n",
      "Feature Distance_to_coast > 0.19: -56024.46762256333\n",
      "Feature Latitude > 0.97: -12684.744596614326\n",
      "Feature Median_Age > 0.66: 9632.86734480905\n",
      "Feature Distance_to_SanJose > 0.77: -6515.997985747576\n",
      "Feature Distance_to_LA > 1.04: -6240.481905311919\n",
      "Feature Distance_to_SanFrancisco > 0.79: -3531.5715498929058\n",
      "Feature Longitude <= -1.11: 3205.643230793102\n",
      "Feature Distance_to_SanDiego > 1.06: 2419.307833555108\n",
      "Feature Tot_Rooms > 0.24: 1787.4870939650948\n",
      "Feature Tot_Bedrooms > 0.26: 1448.0665216963146\n",
      "Feature Households > 0.28: -1267.7570486027869\n",
      "Feature Population > 0.27: -1231.8499660642683\n",
      "\n",
      "\n",
      "Explanation 67:\n",
      "As List of Tuples (feature_id, weight):\n",
      "Feature Median_Income > 0.46: 106442.38013051763\n",
      "Feature Distance_to_coast > 0.19: -53451.246346867025\n",
      "Feature Latitude > 0.97: -9714.117221416398\n",
      "Feature Median_Age > 0.66: 4865.4626022605125\n",
      "Feature Distance_to_SanFrancisco > 0.79: -1985.9006750886547\n",
      "Feature Distance_to_LA > 1.04: -1872.2918381850682\n",
      "Feature Distance_to_SanDiego > 1.06: -1736.3161460294846\n",
      "Feature Distance_to_SanJose > 0.77: -1344.2689608733344\n",
      "Feature Households > 0.28: -957.0770271418556\n",
      "Feature Tot_Bedrooms > 0.26: 718.7514406475674\n",
      "Feature Tot_Rooms > 0.24: -510.1138402839307\n",
      "Feature Population > 0.27: 39.483697027072296\n",
      "Feature Longitude <= -1.11: 3.7431932402208767\n",
      "\n",
      "\n",
      "Explanation 68:\n",
      "As List of Tuples (feature_id, weight):\n",
      "Feature Median_Income > 0.46: 148120.42463590138\n",
      "Feature Distance_to_coast > 0.19: -72942.59524610826\n",
      "Feature Latitude > 0.97: -29227.470097240202\n",
      "Feature Distance_to_LA > 1.04: -11179.555426916497\n",
      "Feature Population > 0.27: -10425.371583309396\n",
      "Feature Distance_to_SanJose > 0.77: -9757.199543562594\n",
      "Feature Longitude <= -1.11: 9626.912380110121\n",
      "Feature Median_Age > 0.66: 9511.452766020262\n",
      "Feature Tot_Bedrooms > 0.26: 9307.913557179745\n",
      "Feature Tot_Rooms > 0.24: 8586.740719512443\n",
      "Feature Distance_to_SanDiego > 1.06: 3940.120754480176\n",
      "Feature Households > 0.28: 2751.809509555352\n",
      "Feature Distance_to_SanFrancisco > 0.79: -960.7948899839597\n",
      "\n",
      "\n",
      "Explanation 69:\n",
      "As List of Tuples (feature_id, weight):\n",
      "Feature Median_Income > 0.46: 149617.05116542208\n",
      "Feature Distance_to_coast > 0.19: -76081.8679263284\n",
      "Feature Latitude > 0.97: -39126.17831198765\n",
      "Feature Distance_to_LA > 1.04: -15640.106473158205\n",
      "Feature Population > 0.27: -14321.144396936339\n",
      "Feature Tot_Rooms > 0.24: 13329.621304500815\n",
      "Feature Distance_to_SanJose > 0.77: -11393.089890662915\n",
      "Feature Tot_Bedrooms > 0.26: 10852.532834752232\n",
      "Feature Median_Age > 0.66: 10616.89306315301\n",
      "Feature Longitude <= -1.11: 10350.871730759134\n",
      "Feature Distance_to_SanFrancisco > 0.79: -9801.240626552753\n",
      "Feature Households > 0.28: 5216.488758203569\n",
      "Feature Distance_to_SanDiego > 1.06: 2807.823288611355\n",
      "\n",
      "\n",
      "Explanation 70:\n",
      "As List of Tuples (feature_id, weight):\n",
      "Feature Median_Income > 0.46: 150953.34025047006\n",
      "Feature Distance_to_coast > 0.19: -74310.40595666603\n",
      "Feature Latitude > 0.97: -32225.390497086984\n",
      "Feature Distance_to_LA > 1.04: -15812.185580230927\n",
      "Feature Population > 0.27: -12499.608225269314\n",
      "Feature Longitude <= -1.11: 11464.308976834767\n",
      "Feature Tot_Rooms > 0.24: 11005.172707633763\n",
      "Feature Distance_to_SanJose > 0.77: -10295.183979894955\n",
      "Feature Tot_Bedrooms > 0.26: 9994.33805565994\n",
      "Feature Median_Age > 0.66: 9013.967356365663\n",
      "Feature Distance_to_SanFrancisco > 0.79: -6964.19283782689\n",
      "Feature Households > 0.28: 3449.3611657605925\n",
      "Feature Distance_to_SanDiego > 1.06: 176.73195975550738\n",
      "\n",
      "\n",
      "Explanation 71:\n",
      "As List of Tuples (feature_id, weight):\n",
      "Feature Median_Income > 0.46: 143424.2097514169\n",
      "Feature Distance_to_coast > 0.19: -62664.257754265236\n",
      "Feature Latitude > 0.97: -22287.257529358452\n",
      "Feature Distance_to_LA > 1.04: -11445.126339655295\n",
      "Feature Median_Age > 0.66: 9864.617082623263\n",
      "Feature Distance_to_SanJose > 0.77: -6196.806739796172\n",
      "Feature Tot_Bedrooms > 0.26: 3210.779623678192\n",
      "Feature Distance_to_SanDiego > 1.06: 2940.9233735963194\n",
      "Feature Tot_Rooms > 0.24: -1209.4444177032503\n",
      "Feature Distance_to_SanFrancisco > 0.79: 1081.0973862815154\n",
      "Feature Households > 0.28: 689.9230357746642\n",
      "Feature Population > 0.27: -594.2311620151022\n",
      "Feature Longitude <= -1.11: 517.3307218638266\n",
      "\n",
      "\n",
      "Explanation 72:\n",
      "As List of Tuples (feature_id, weight):\n",
      "Feature Median_Income > 0.46: 152820.58954171432\n",
      "Feature Distance_to_coast > 0.19: -68808.78563207114\n",
      "Feature Latitude > 0.97: -19573.152685571462\n",
      "Feature Median_Age > 0.66: 10026.18990419499\n",
      "Feature Distance_to_LA > 1.04: -8325.411991202282\n",
      "Feature Households > 0.28: 6147.874549999346\n",
      "Feature Tot_Bedrooms > 0.26: 5115.718319703794\n",
      "Feature Tot_Rooms > 0.24: 4045.619973242819\n",
      "Feature Distance_to_SanJose > 0.77: -3788.8412257712434\n",
      "Feature Longitude <= -1.11: 3179.017708174263\n",
      "Feature Distance_to_SanDiego > 1.06: 2319.518239808598\n",
      "Feature Distance_to_SanFrancisco > 0.79: -1717.8229910976113\n",
      "Feature Population > 0.27: -1446.5431280375444\n",
      "\n",
      "\n",
      "Explanation 73:\n",
      "As List of Tuples (feature_id, weight):\n",
      "Feature Median_Income > 0.46: 150789.65410496845\n",
      "Feature Distance_to_coast > 0.19: -72375.8333914677\n",
      "Feature Latitude > 0.97: -29101.53949609744\n",
      "Feature Population > 0.27: -8842.22103975187\n",
      "Feature Distance_to_LA > 1.04: -8528.588961573249\n",
      "Feature Median_Age > 0.66: 8158.4000542027325\n",
      "Feature Tot_Bedrooms > 0.26: 6579.702764839788\n",
      "Feature Longitude <= -1.11: 6281.935461281882\n",
      "Feature Distance_to_SanJose > 0.77: -6080.150312134501\n",
      "Feature Tot_Rooms > 0.24: 5841.555295200144\n",
      "Feature Distance_to_SanDiego > 1.06: 2921.692705935382\n",
      "Feature Distance_to_SanFrancisco > 0.79: -2472.672209427455\n",
      "Feature Households > 0.28: -684.7567080268601\n",
      "\n",
      "\n",
      "Explanation 74:\n",
      "As List of Tuples (feature_id, weight):\n",
      "Feature Median_Income > 0.46: 150784.11367767953\n",
      "Feature Distance_to_coast > 0.19: -74930.8045833376\n",
      "Feature Latitude > 0.97: -24364.25081636548\n",
      "Feature Distance_to_LA > 1.04: -15564.818147884504\n",
      "Feature Distance_to_SanJose > 0.77: -9290.244110961858\n",
      "Feature Tot_Bedrooms > 0.26: 8960.491515561662\n",
      "Feature Longitude <= -1.11: 7931.334176238256\n",
      "Feature Population > 0.27: -6149.489965473102\n",
      "Feature Median_Age > 0.66: 5777.696178926866\n",
      "Feature Tot_Rooms > 0.24: 5698.206555423992\n",
      "Feature Distance_to_SanDiego > 1.06: 2461.863479783909\n",
      "Feature Distance_to_SanFrancisco > 0.79: -2275.8077670365587\n",
      "Feature Households > 0.28: 1802.2339382622888\n",
      "\n",
      "\n",
      "Explanation 75:\n",
      "As List of Tuples (feature_id, weight):\n",
      "Feature Median_Income > 0.46: 151543.8781989713\n",
      "Feature Distance_to_coast > 0.19: -69152.2499269202\n",
      "Feature Latitude > 0.97: -31377.683590179255\n",
      "Feature Distance_to_LA > 1.04: -17814.891724373538\n",
      "Feature Tot_Rooms > 0.24: 16691.50642647975\n",
      "Feature Tot_Bedrooms > 0.26: 14245.99109215725\n",
      "Feature Population > 0.27: -13862.678925548798\n",
      "Feature Longitude <= -1.11: 12585.656039566426\n",
      "Feature Median_Age > 0.66: 10653.09721593762\n",
      "Feature Distance_to_SanFrancisco > 0.79: -10150.023200322681\n",
      "Feature Distance_to_SanJose > 0.77: -7488.618298059005\n",
      "Feature Households > 0.28: 3236.225292133748\n",
      "Feature Distance_to_SanDiego > 1.06: 2805.528986539788\n",
      "\n",
      "\n",
      "Explanation 76:\n",
      "As List of Tuples (feature_id, weight):\n",
      "Feature Median_Income > 0.46: 151594.88016808333\n",
      "Feature Distance_to_coast > 0.19: -70206.78813624875\n",
      "Feature Latitude > 0.97: -19145.607824114253\n",
      "Feature Distance_to_LA > 1.04: -11370.52828795566\n",
      "Feature Median_Age > 0.66: 10861.04772561902\n",
      "Feature Tot_Bedrooms > 0.26: 8486.696292312778\n",
      "Feature Longitude <= -1.11: 5787.679699906537\n",
      "Feature Population > 0.27: -5427.4341452194\n",
      "Feature Distance_to_SanJose > 0.77: -5289.633205958901\n",
      "Feature Tot_Rooms > 0.24: 1840.8924751939032\n",
      "Feature Distance_to_SanDiego > 1.06: 1591.6096714771934\n",
      "Feature Distance_to_SanFrancisco > 0.79: -1226.7868948732882\n",
      "Feature Households > 0.28: -97.09289155389197\n",
      "\n",
      "\n",
      "Explanation 77:\n",
      "As List of Tuples (feature_id, weight):\n",
      "Feature Median_Income > 0.46: 142780.48175434952\n",
      "Feature Distance_to_coast > 0.19: -62441.647800750536\n",
      "Feature Latitude > 0.97: -17789.502677261185\n",
      "Feature Distance_to_LA > 1.04: -14518.561653344826\n",
      "Feature Median_Age > 0.66: 9898.147363168897\n",
      "Feature Distance_to_SanFrancisco > 0.79: -6969.02721659939\n",
      "Feature Longitude <= -1.11: 3958.155278119231\n",
      "Feature Tot_Bedrooms > 0.26: 3495.1084924232255\n",
      "Feature Distance_to_SanJose > 0.77: -2028.5121066041597\n",
      "Feature Tot_Rooms > 0.24: -1794.2632249932321\n",
      "Feature Population > 0.27: 1390.0148442312118\n",
      "Feature Distance_to_SanDiego > 1.06: 835.8157234613897\n",
      "Feature Households > 0.28: 35.022966462491205\n",
      "\n",
      "\n",
      "Explanation 78:\n",
      "As List of Tuples (feature_id, weight):\n",
      "Feature Median_Income > 0.46: 146896.7903254093\n",
      "Feature Distance_to_coast > 0.19: -69942.92772474907\n",
      "Feature Latitude > 0.97: -22164.843543172217\n",
      "Feature Distance_to_LA > 1.04: -12561.808694613126\n",
      "Feature Median_Age > 0.66: 9777.12345127706\n",
      "Feature Distance_to_SanJose > 0.77: -7095.843958538289\n",
      "Feature Population > 0.27: -4275.956951454246\n",
      "Feature Tot_Bedrooms > 0.26: 3161.6034554059524\n",
      "Feature Longitude <= -1.11: 3119.619580607604\n",
      "Feature Distance_to_SanDiego > 1.06: 3037.1382977231347\n",
      "Feature Tot_Rooms > 0.24: 1450.963902980677\n",
      "Feature Households > 0.28: 900.8594462643322\n",
      "Feature Distance_to_SanFrancisco > 0.79: -625.0573483846758\n",
      "\n",
      "\n",
      "Explanation 79:\n",
      "As List of Tuples (feature_id, weight):\n",
      "Feature Median_Income > 0.46: 145053.88401922976\n",
      "Feature Distance_to_coast > 0.19: -65006.98008276938\n",
      "Feature Latitude > 0.97: -15601.210616105425\n",
      "Feature Distance_to_LA > 1.04: -10474.165927109576\n",
      "Feature Median_Age > 0.66: 10163.628301179113\n",
      "Feature Distance_to_SanJose > 0.77: -8569.057761388378\n",
      "Feature Distance_to_SanFrancisco > 0.79: -3269.362987984127\n",
      "Feature Tot_Rooms > 0.24: -1991.4022417861015\n",
      "Feature Longitude <= -1.11: -1050.9260125950188\n",
      "Feature Households > 0.28: -802.9806388767427\n",
      "Feature Population > 0.27: 638.6267599618383\n",
      "Feature Distance_to_SanDiego > 1.06: 415.8500830979822\n",
      "Feature Tot_Bedrooms > 0.26: 289.67419380600194\n",
      "\n",
      "\n",
      "Explanation 80:\n",
      "As List of Tuples (feature_id, weight):\n",
      "Feature Median_Income > 0.46: 107948.19849274718\n",
      "Feature Distance_to_coast > 0.19: -55511.76440810387\n",
      "Feature Latitude > 0.97: -10651.786210161392\n",
      "Feature Median_Age > 0.66: 5065.698008039362\n",
      "Feature Distance_to_SanJose > 0.77: -2414.9189487249764\n",
      "Feature Tot_Rooms > 0.24: 1670.4094762355\n",
      "Feature Distance_to_SanDiego > 1.06: -1201.4880593048101\n",
      "Feature Longitude <= -1.11: 1114.6458803621085\n",
      "Feature Tot_Bedrooms > 0.26: 980.6218584647918\n",
      "Feature Distance_to_SanFrancisco > 0.79: 803.3550534136727\n",
      "Feature Households > 0.28: -333.8345296204436\n",
      "Feature Population > 0.27: -238.48954890867225\n",
      "Feature Distance_to_LA > 1.04: -186.26413490229453\n"
     ]
    }
   ],
   "source": [
    "for i, explanation in enumerate(gbt_explanation_lime):\n",
    "    print(f\"Explanation {i + 1}:\")\n",
    "    print(\"As List of Tuples (feature_id, weight):\")\n",
    "    for feature_id, weight in explanation.as_list():\n",
    "        print(f\"Feature {feature_id}: {weight}\")\n",
    "\n",
    "    print(\"\\n\")"
   ],
   "metadata": {
    "collapsed": false,
    "ExecuteTime": {
     "end_time": "2024-06-03T15:06:53.736698Z",
     "start_time": "2024-06-03T15:06:53.724109Z"
    }
   },
   "id": "282ba5919d7c52c9"
  },
  {
   "cell_type": "code",
   "execution_count": 495,
   "outputs": [
    {
     "name": "stdout",
     "output_type": "stream",
     "text": [
      "[[196885.07527778   6386.36630642   7266.45234484   3585.21985352\n",
      "   -4433.51674154   2201.91632921 -11604.45172743   6745.45764865\n",
      "  -83055.5076161   -7430.04786133    317.54682943  -3381.13583984\n",
      "   -9428.95816298]]\n"
     ]
    }
   ],
   "source": [
    "print(gbt_explanation_shap[0].values)"
   ],
   "metadata": {
    "collapsed": false,
    "ExecuteTime": {
     "end_time": "2024-06-03T15:06:57.136983Z",
     "start_time": "2024-06-03T15:06:57.132392Z"
    }
   },
   "id": "e879a704d2d893b8"
  },
  {
   "cell_type": "code",
   "execution_count": 496,
   "outputs": [
    {
     "name": "stdout",
     "output_type": "stream",
     "text": [
      "{'Median_Income > 0.46': {'mean': 144164.01507942245, 'std': 11521.471290379955}, 'Distance_to_coast > 0.19': {'mean': -66770.87819637779, 'std': 6507.236802980988}, 'Latitude > 0.97': {'mean': -21931.637921128025, 'std': 7732.936826643494}, 'Median_Age > 0.66': {'mean': 8193.214887066017, 'std': 1804.278573478916}, 'Distance_to_LA > 1.04': {'mean': -11111.381030355264, 'std': 4608.743843267504}, 'Tot_Rooms > 0.24': {'mean': 4160.792270365359, 'std': 4672.713373229236}, 'Distance_to_SanJose > 0.77': {'mean': -6579.7505488153665, 'std': 2760.9964444587586}, 'Population > 0.27': {'mean': -5867.207381557096, 'std': 5548.248307744061}, 'Distance_to_SanFrancisco > 0.79': {'mean': -3688.7598285921877, 'std': 2530.973864500976}, 'Longitude <= -1.11': {'mean': 4823.7069951649155, 'std': 4271.635024003495}, 'Tot_Bedrooms > 0.26': {'mean': 7184.517263288042, 'std': 5126.7019746362685}, 'Households > 0.28': {'mean': 1161.6593958243075, 'std': 1997.790205077412}, 'Distance_to_SanDiego > 1.06': {'mean': 2113.7049150306175, 'std': 2156.4387713091946}}\n"
     ]
    }
   ],
   "source": [
    "feature_weights = defaultdict(list)\n",
    "\n",
    "for explanation in gbt_explanation_lime:\n",
    "    for feature, weight in explanation.as_list():\n",
    "        feature_weights[feature].append(weight)\n",
    "\n",
    "feature_stats = {}\n",
    "for feature, weights in feature_weights.items():\n",
    "    mean_weight = np.mean(weights)\n",
    "    std_weight = np.std(weights)\n",
    "    feature_stats[feature] = {'mean': mean_weight, 'std': std_weight}\n",
    "\n",
    "print(feature_stats)"
   ],
   "metadata": {
    "collapsed": false,
    "ExecuteTime": {
     "end_time": "2024-06-03T15:06:58.782154Z",
     "start_time": "2024-06-03T15:06:58.778601Z"
    }
   },
   "id": "7d0e01adc51cc877"
  },
  {
   "cell_type": "code",
   "execution_count": 497,
   "outputs": [
    {
     "name": "stdout",
     "output_type": "stream",
     "text": [
      "{'Median_Income > 0.46': {'mean': 144164.01507942245, 'std': 11521.471290379955}, 'Median_Age > 0.66': {'mean': 8193.214887066017, 'std': 1804.278573478916}, 'Tot_Rooms > 0.24': {'mean': 4160.792270365359, 'std': 4672.713373229236}, 'Tot_Bedrooms > 0.26': {'mean': 7184.517263288042, 'std': 5126.7019746362685}, 'Population > 0.27': {'mean': -5867.207381557096, 'std': 5548.248307744061}, 'Households > 0.28': {'mean': 1161.6593958243075, 'std': 1997.790205077412}, 'Latitude > 0.97': {'mean': -21931.637921128025, 'std': 7732.936826643494}, 'Longitude <= -1.11': {'mean': 4823.7069951649155, 'std': 4271.635024003495}, 'Distance_to_coast > 0.19': {'mean': -66770.87819637779, 'std': 6507.236802980988}, 'Distance_to_LA > 1.04': {'mean': -11111.381030355264, 'std': 4608.743843267504}, 'Distance_to_SanDiego > 1.06': {'mean': 2113.7049150306175, 'std': 2156.4387713091946}, 'Distance_to_SanJose > 0.77': {'mean': -6579.7505488153665, 'std': 2760.9964444587586}, 'Distance_to_SanFrancisco > 0.79': {'mean': -3688.7598285921877, 'std': 2530.973864500976}}\n"
     ]
    }
   ],
   "source": [
    "feature_order = X_test.columns.tolist()\n",
    "def sort_key(x):\n",
    "    for op in [' >= ', ' <= ', ' > ', ' < ', ' = ']:\n",
    "        if op in x:\n",
    "            return feature_order.index(x.split(op)[0])\n",
    "        \n",
    "sorted_keys = sorted(feature_stats.keys(), key=sort_key)\n",
    "sorted_feature_stats = {key: feature_stats[key] for key in sorted_keys}\n",
    "\n",
    "print(sorted_feature_stats)"
   ],
   "metadata": {
    "collapsed": false,
    "ExecuteTime": {
     "end_time": "2024-06-03T15:07:00.419386Z",
     "start_time": "2024-06-03T15:07:00.408979Z"
    }
   },
   "id": "73611275acad081c"
  },
  {
   "cell_type": "code",
   "execution_count": 498,
   "outputs": [
    {
     "data": {
      "text/plain": "<Figure size 900x600 with 1 Axes>",
      "image/png": "[encoded data removed]"
     },
     "metadata": {},
     "output_type": "display_data"
    }
   ],
   "source": [
    "features = list(sorted_feature_stats.keys())\n",
    "mean_weights = [sorted_feature_stats[feature]['mean'] for feature in features]\n",
    "std_weights = [sorted_feature_stats[feature]['std'] for feature in features]\n",
    "\n",
    "colors = ['lightblue' if weight > 0 else 'pink' for weight in mean_weights]\n",
    "\n",
    "feature_ids = range(len(mean_weights))\n",
    "plt.figure(figsize=(9, 6))\n",
    "plt.barh(feature_ids, mean_weights, xerr=std_weights, capsize=5, alpha=0.9, color=colors)\n",
    "plt.yticks(feature_ids, features, fontsize=12)\n",
    "plt.xlabel(\"Weight\", fontsize=12)\n",
    "plt.tight_layout()\n",
    "plt.show()"
   ],
   "metadata": {
    "collapsed": false,
    "ExecuteTime": {
     "end_time": "2024-06-03T15:07:01.220738Z",
     "start_time": "2024-06-03T15:07:01.128484Z"
    }
   },
   "id": "d5528da5816c6828"
  },
  {
   "cell_type": "code",
   "execution_count": 499,
   "outputs": [],
   "source": [
    "stacked_shap_values = np.vstack([gbt_explanation_shap[i].values for i in range(len(gbt_explanation_shap))])\n",
    "mean_shap_values = np.mean(stacked_shap_values, axis=0)\n",
    "sd_shap_values = np.std(stacked_shap_values, axis=0)\n",
    "shap_features = X_test.loc[[10]].columns.tolist()"
   ],
   "metadata": {
    "collapsed": false,
    "ExecuteTime": {
     "end_time": "2024-06-03T15:07:06.633890Z",
     "start_time": "2024-06-03T15:07:06.621098Z"
    }
   },
   "id": "86cbb453f25fde0e"
  },
  {
   "cell_type": "code",
   "execution_count": 500,
   "outputs": [
    {
     "data": {
      "text/plain": "<Figure size 900x600 with 1 Axes>",
      "image/png": "[encoded data removed]"
     },
     "metadata": {},
     "output_type": "display_data"
    }
   ],
   "source": [
    "\n",
    "colors = ['lightblue' if weight > 0 else 'pink' for weight in mean_shap_values]\n",
    "\n",
    "feature_ids = range(len(mean_shap_values))\n",
    "plt.figure(figsize=(9, 6))\n",
    "plt.barh(feature_ids, mean_shap_values, xerr=sd_shap_values, capsize=5, alpha=0.9, color=colors)\n",
    "plt.yticks(feature_ids, shap_features, fontsize=12)\n",
    "plt.xlabel(\"Value\", fontsize=12)\n",
    "plt.tight_layout()\n",
    "plt.show()"
   ],
   "metadata": {
    "collapsed": false,
    "ExecuteTime": {
     "end_time": "2024-06-03T15:07:07.844490Z",
     "start_time": "2024-06-03T15:07:07.749277Z"
    }
   },
   "id": "75345871ab4caa89"
  },
  {
   "cell_type": "code",
   "execution_count": null,
   "outputs": [],
   "source": [],
   "metadata": {
    "collapsed": false
   },
   "id": "eb74555de5db2088"
  }
 ],
 "metadata": {
  "kernelspec": {
   "display_name": "Python 3",
   "language": "python",
   "name": "python3"
  },
  "language_info": {
   "codemirror_mode": {
    "name": "ipython",
    "version": 2
   },
   "file_extension": ".py",
   "mimetype": "text/x-python",
   "name": "python",
   "nbconvert_exporter": "python",
   "pygments_lexer": "ipython2",
   "version": "2.7.6"
  }
 },
 "nbformat": 4,
 "nbformat_minor": 5
}
