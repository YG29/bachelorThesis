{
 "cells": [
  {
   "cell_type": "code",
   "execution_count": 380,
   "id": "initial_id",
   "metadata": {
    "collapsed": true,
    "ExecuteTime": {
     "end_time": "2024-05-30T15:30:07.014711Z",
     "start_time": "2024-05-30T15:30:06.989440Z"
    }
   },
   "outputs": [],
   "source": [
    "import tensorflow as tf\n",
    "import tensorflow_decision_forests as tfdf\n",
    "import numpy as np\n",
    "from sklearn.datasets import make_regression\n",
    "from sklearn.model_selection import train_test_split\n",
    "from sklearn.metrics import mean_squared_error\n",
    "from sklearn.preprocessing import StandardScaler\n",
    "\n",
    "import matplotlib.pyplot as plt\n",
    "import pandas as pd\n",
    "from lime.lime_tabular import LimeTabularExplainer\n",
    "from collections import defaultdict"
   ]
  },
  {
   "cell_type": "code",
   "execution_count": 173,
   "outputs": [],
   "source": [
    "cali_housing_path = '../data/California_Houses.csv'\n",
    "RANDOM_SEED = 492"
   ],
   "metadata": {
    "collapsed": false,
    "ExecuteTime": {
     "end_time": "2024-05-30T09:03:24.758730Z",
     "start_time": "2024-05-30T09:03:24.751169Z"
    }
   },
   "id": "7d034f24c61b4ead"
  },
  {
   "cell_type": "code",
   "execution_count": 174,
   "outputs": [],
   "source": [
    "cali_df = pd.read_csv(cali_housing_path)"
   ],
   "metadata": {
    "collapsed": false,
    "ExecuteTime": {
     "end_time": "2024-05-30T09:03:25.323977Z",
     "start_time": "2024-05-30T09:03:25.301782Z"
    }
   },
   "id": "e67f3515498765c5"
  },
  {
   "cell_type": "code",
   "execution_count": 175,
   "outputs": [
    {
     "name": "stdout",
     "output_type": "stream",
     "text": [
      "   Median_House_Value  Median_Income  Median_Age  Tot_Rooms  Tot_Bedrooms  \\\n",
      "0            452600.0         8.3252          41        880           129   \n",
      "1            358500.0         8.3014          21       7099          1106   \n",
      "2            352100.0         7.2574          52       1467           190   \n",
      "3            341300.0         5.6431          52       1274           235   \n",
      "4            342200.0         3.8462          52       1627           280   \n",
      "\n",
      "   Population  Households  Latitude  Longitude  Distance_to_coast  \\\n",
      "0         322         126     37.88    -122.23        9263.040773   \n",
      "1        2401        1138     37.86    -122.22       10225.733072   \n",
      "2         496         177     37.85    -122.24        8259.085109   \n",
      "3         558         219     37.85    -122.25        7768.086571   \n",
      "4         565         259     37.85    -122.25        7768.086571   \n",
      "\n",
      "   Distance_to_LA  Distance_to_SanDiego  Distance_to_SanJose  \\\n",
      "0   556529.158342         735501.806984         67432.517001   \n",
      "1   554279.850069         733236.884360         65049.908574   \n",
      "2   554610.717069         733525.682937         64867.289833   \n",
      "3   555194.266086         734095.290744         65287.138412   \n",
      "4   555194.266086         734095.290744         65287.138412   \n",
      "\n",
      "   Distance_to_SanFrancisco  \n",
      "0              21250.213767  \n",
      "1              20880.600400  \n",
      "2              18811.487450  \n",
      "3              18031.047568  \n",
      "4              18031.047568  \n"
     ]
    }
   ],
   "source": [
    "print(cali_df.head())"
   ],
   "metadata": {
    "collapsed": false,
    "ExecuteTime": {
     "end_time": "2024-05-30T09:03:25.895630Z",
     "start_time": "2024-05-30T09:03:25.890773Z"
    }
   },
   "id": "dd3a9aebe1b6f202"
  },
  {
   "cell_type": "code",
   "execution_count": 176,
   "outputs": [],
   "source": [
    "y_series = cali_df['Median_House_Value']\n",
    "y = pd.DataFrame(y_series, columns=['Median_House_Value'])\n",
    "features = [col for col in cali_df.columns if col != 'Median_House_Value']\n",
    "X = cali_df[features]"
   ],
   "metadata": {
    "collapsed": false,
    "ExecuteTime": {
     "end_time": "2024-05-30T09:03:26.581160Z",
     "start_time": "2024-05-30T09:03:26.575082Z"
    }
   },
   "id": "6ac9273c8f8fd518"
  },
  {
   "cell_type": "code",
   "execution_count": 177,
   "outputs": [],
   "source": [
    "X_train, X_test, y_train, y_test = train_test_split(X, y, test_size=0.2, random_state=RANDOM_SEED)"
   ],
   "metadata": {
    "collapsed": false,
    "ExecuteTime": {
     "end_time": "2024-05-30T09:03:27.139806Z",
     "start_time": "2024-05-30T09:03:27.135654Z"
    }
   },
   "id": "aecb071343afa4b4"
  },
  {
   "cell_type": "code",
   "execution_count": 358,
   "outputs": [],
   "source": [
    "X_train = X_train.reset_index(drop=True)\n",
    "y_train = y_train.reset_index(drop=True)\n",
    "X_test = X_test.reset_index(drop=True)\n",
    "y_test = y_test.reset_index(drop=True)"
   ],
   "metadata": {
    "collapsed": false,
    "ExecuteTime": {
     "end_time": "2024-05-30T15:03:53.044284Z",
     "start_time": "2024-05-30T15:03:53.030415Z"
    }
   },
   "id": "c4eb199e83a8880"
  },
  {
   "cell_type": "code",
   "execution_count": 381,
   "outputs": [],
   "source": [
    "scaler = StandardScaler()\n",
    "X_train_scaled = scaler.fit_transform(X_train)\n",
    "X_test_scaled = scaler.transform(X_test)\n",
    "\n",
    "X_train_scaled = pd.DataFrame(X_train_scaled, columns=X_train.columns)\n",
    "X_test_scaled = pd.DataFrame(X_test_scaled, columns=X_test.columns)"
   ],
   "metadata": {
    "collapsed": false,
    "ExecuteTime": {
     "end_time": "2024-05-30T15:32:04.570276Z",
     "start_time": "2024-05-30T15:32:04.536519Z"
    }
   },
   "id": "99bd273ec5a86d17"
  },
  {
   "cell_type": "code",
   "execution_count": 382,
   "outputs": [
    {
     "name": "stdout",
     "output_type": "stream",
     "text": [
      "   Median_Income  Median_Age  Tot_Rooms  Tot_Bedrooms  Population  Households  \\\n",
      "0      -0.220234    0.183029  -0.505330     -0.583271   -0.625333   -0.554684   \n",
      "1       1.131720   -0.453352  -0.451797     -0.319166   -0.779725   -0.428479   \n",
      "2       0.635054   -0.930638   0.592095      0.475528    1.118858    0.649526   \n",
      "3       0.737734   -1.248828  -0.828835     -0.968722   -0.899710   -0.977998   \n",
      "4      -0.158268   -1.169280  -0.095988     -0.114544   -0.374776   -0.381152   \n",
      "\n",
      "   Latitude  Longitude  Distance_to_coast  Distance_to_LA  \\\n",
      "0  1.311518  -1.639785          -0.391522        1.490960   \n",
      "1  1.054222  -1.455058          -0.700199        1.220967   \n",
      "2  0.764180  -1.110565          -0.144717        0.850569   \n",
      "3  0.591090  -1.050653          -0.568215        0.701779   \n",
      "4  1.723191  -0.296764           2.921674        1.372870   \n",
      "\n",
      "   Distance_to_SanDiego  Distance_to_SanJose  Distance_to_SanFrancisco  \n",
      "0              1.449301            -0.918829                 -1.210694  \n",
      "1              1.216888            -1.233202                 -1.486886  \n",
      "2              0.899621            -1.555896                 -1.226765  \n",
      "3              0.769540            -1.367071                 -1.072064  \n",
      "4              1.324620            -0.376627                 -0.498782  \n"
     ]
    }
   ],
   "source": [
    "subset_indices = np.random.choice(X_train.index, size=len(X_train), replace=False)\n",
    "\n",
    "X_train_subset = X_train.loc[subset_indices]\n",
    "y_train_subset = y_train.loc[subset_indices]\n",
    "\n",
    "print(X_train_scaled.head())"
   ],
   "metadata": {
    "collapsed": false,
    "ExecuteTime": {
     "end_time": "2024-05-30T15:32:26.884257Z",
     "start_time": "2024-05-30T15:32:26.873963Z"
    }
   },
   "id": "5fa58ed3dcaec060"
  },
  {
   "cell_type": "code",
   "execution_count": 180,
   "outputs": [],
   "source": [
    "X_train_subset = X_train_subset.reset_index(drop=True)\n",
    "y_train_subset = y_train_subset.reset_index(drop=True)"
   ],
   "metadata": {
    "collapsed": false,
    "ExecuteTime": {
     "end_time": "2024-05-30T09:03:29.252294Z",
     "start_time": "2024-05-30T09:03:29.244117Z"
    }
   },
   "id": "f7e6aed86b6f4b0f"
  },
  {
   "cell_type": "code",
   "execution_count": 181,
   "outputs": [
    {
     "name": "stdout",
     "output_type": "stream",
     "text": [
      "(16512, 1)\n"
     ]
    }
   ],
   "source": [
    "X_train_tensor = tf.constant(X_train_subset.values, dtype=tf.float32)\n",
    "y_train_tensor = tf.constant(y_train_subset.values, dtype=tf.float32)\n",
    "print(y_train_tensor.shape)"
   ],
   "metadata": {
    "collapsed": false,
    "ExecuteTime": {
     "end_time": "2024-05-30T09:03:30.190347Z",
     "start_time": "2024-05-30T09:03:30.184136Z"
    }
   },
   "id": "39c93bb427b3e986"
  },
  {
   "cell_type": "code",
   "execution_count": 383,
   "outputs": [],
   "source": [
    "class GradientBoostedTreesEnsembleRegressor(tf.keras.Model):\n",
    "    def __init__(self, n_trees=100, max_depth=3, n_estimators=100, subportion = 0.8, sample_method='RANDOM'): \n",
    "        super(GradientBoostedTreesEnsembleRegressor, self).__init__()\n",
    "        self.n_trees = n_trees\n",
    "        self.n_estimators = n_estimators\n",
    "        self.max_depth = max_depth\n",
    "        self.subportion = subportion\n",
    "        self.sample_method = sample_method\n",
    "        self.estimators = []\n",
    "        self.lime_explainer = None\n",
    "\n",
    "    def build_estimator(self):\n",
    "        model = tfdf.keras.GradientBoostedTreesModel(\n",
    "            task=tfdf.keras.Task.REGRESSION,\n",
    "            num_trees=np.random.randint(self.n_trees/5, self.n_trees+1), # self.n_trees, #\n",
    "            max_depth=self.max_depth, #np.random.randint(self.max_depth/2, self.max_depth+1), # self.max_depth, # \n",
    "            validation_ratio=0.1,\n",
    "            subsample=self.subportion,\n",
    "            sampling_method=self.sample_method,\n",
    "            random_seed=self.seed # try to set this first. Maybe this is enough\n",
    "        )\n",
    "        return model\n",
    "    \n",
    "    # if not, the number of trees/depth different for each estimator\n",
    "\n",
    "    def fit(self, X, y):\n",
    "        \n",
    "        for seed in np.random.randint(0, 1000000, size=self.n_estimators):\n",
    "            self.seed = int(seed)\n",
    "            subset_size = int(self.subportion * len(X))\n",
    "            \n",
    "            # Create a subset of the dataset using sampled indices\n",
    "            subset_indices = np.random.choice(X.index, size=subset_size, replace=False)\n",
    "            X_train = X.loc[subset_indices].reset_index(drop=True)\n",
    "            y_train = y.loc[subset_indices].reset_index(drop=True)\n",
    "            \n",
    "            X_tensor = tf.constant(X_train.values, dtype=tf.float32)\n",
    "            y_tensor = tf.constant(y_train.values, dtype=tf.float32)\n",
    "        \n",
    "            \n",
    "            # subset_dataset = (X_tensor, y_tensor)\n",
    "            \n",
    "            # building each estimator\n",
    "            estimator = self.build_estimator()\n",
    "            estimator.fit(X_tensor,y_tensor)\n",
    "            self.estimators.append(estimator)\n",
    "            \n",
    "        self.lime_explainer = LimeTabularExplainer(X.values, feature_names = X.columns.tolist(), mode='regression')\n",
    "    \n",
    "    #something's not right here\n",
    "    def predict_mean(self, X):\n",
    "        predictions = []\n",
    "        \n",
    "        for estimator in self.estimators:\n",
    "            estimator_predictions = estimator.predict(X)  # Get predictions from the current estimator\n",
    "            predictions.append(estimator_predictions)\n",
    "        \n",
    "        # Stack all predictions along the last axis (-1)\n",
    "        predictions_stacked = tf.stack(predictions, axis=-1)\n",
    "        \n",
    "        # Compute mean and variance across the stacked predictions\n",
    "        mean_prediction = tf.reduce_mean(predictions_stacked, axis=-1)\n",
    "        sd_prediction = tf.math.reduce_std(predictions_stacked, axis=-1)\n",
    "        \n",
    "        return mean_prediction, sd_prediction\n",
    "    \n",
    "    def explain_lime(self, X):\n",
    "        explanations = []\n",
    "        \n",
    "        for estimator in self.estimators:\n",
    "            for i in range(len(X)): \n",
    "                instance_explanation = self.lime_explainer.explain_instance(X.iloc[i], estimator.predict, num_features=X.shape[1])\n",
    "                explanations.append(instance_explanation)\n",
    "        return explanations\n",
    "    \n",
    "    "
   ],
   "metadata": {
    "collapsed": false,
    "ExecuteTime": {
     "end_time": "2024-05-30T15:32:38.783Z",
     "start_time": "2024-05-30T15:32:38.774834Z"
    }
   },
   "id": "919970c901a09027"
  },
  {
   "cell_type": "code",
   "execution_count": 384,
   "outputs": [],
   "source": [
    "gbt_model = GradientBoostedTreesEnsembleRegressor(\n",
    "    n_trees=50, \n",
    "    max_depth=5, \n",
    "    n_estimators=80, \n",
    "    subportion=0.8, \n",
    "    sample_method='RANDOM'\n",
    ")"
   ],
   "metadata": {
    "collapsed": false,
    "ExecuteTime": {
     "end_time": "2024-05-30T15:32:40.476047Z",
     "start_time": "2024-05-30T15:32:40.461138Z"
    }
   },
   "id": "29337526f5a1fc2b"
  },
  {
   "cell_type": "code",
   "execution_count": 385,
   "outputs": [
    {
     "name": "stdout",
     "output_type": "stream",
     "text": [
      "Use /var/folders/3r/pzt2_p_x2xdfl2057nxkp3nm0000gn/T/tmpe9bn3hnu as temporary training directory\n",
      "Reading training dataset...\n"
     ]
    },
    {
     "name": "stderr",
     "output_type": "stream",
     "text": [
      "[WARNING 24-05-30 17:32:48.7411 CEST gradient_boosted_trees.cc:1840] \"goss_alpha\" set but \"sampling_method\" not equal to \"GOSS\".\n",
      "[WARNING 24-05-30 17:32:48.7412 CEST gradient_boosted_trees.cc:1851] \"goss_beta\" set but \"sampling_method\" not equal to \"GOSS\".\n",
      "[WARNING 24-05-30 17:32:48.7412 CEST gradient_boosted_trees.cc:1865] \"selective_gradient_boosting_ratio\" set but \"sampling_method\" not equal to \"SELGB\".\n"
     ]
    },
    {
     "name": "stdout",
     "output_type": "stream",
     "text": [
      "Training dataset read in 0:00:00.633424. Found 13209 examples.\n",
      "Training model...\n",
      "Model trained in 0:00:00.454386\n",
      "Compiling model...\n",
      "Model compiled.\n",
      "Use /var/folders/3r/pzt2_p_x2xdfl2057nxkp3nm0000gn/T/tmp6or7t1c7 as temporary training directory\n",
      "Reading training dataset...\n"
     ]
    },
    {
     "name": "stderr",
     "output_type": "stream",
     "text": [
      "[INFO 24-05-30 17:32:49.8324 CEST kernel.cc:1233] Loading model from path /var/folders/3r/pzt2_p_x2xdfl2057nxkp3nm0000gn/T/tmpe9bn3hnu/model/ with prefix 8eface0bd8984ca0\n",
      "[INFO 24-05-30 17:32:49.8340 CEST abstract_model.cc:1344] Engine \"GradientBoostedTreesQuickScorerExtended\" built\n",
      "[INFO 24-05-30 17:32:49.8340 CEST kernel.cc:1061] Use fast generic engine\n",
      "[WARNING 24-05-30 17:32:49.9368 CEST gradient_boosted_trees.cc:1840] \"goss_alpha\" set but \"sampling_method\" not equal to \"GOSS\".\n",
      "[WARNING 24-05-30 17:32:49.9368 CEST gradient_boosted_trees.cc:1851] \"goss_beta\" set but \"sampling_method\" not equal to \"GOSS\".\n",
      "[WARNING 24-05-30 17:32:49.9368 CEST gradient_boosted_trees.cc:1865] \"selective_gradient_boosting_ratio\" set but \"sampling_method\" not equal to \"SELGB\".\n"
     ]
    },
    {
     "name": "stdout",
     "output_type": "stream",
     "text": [
      "Training dataset read in 0:00:00.251135. Found 13209 examples.\n",
      "Training model...\n",
      "Model trained in 0:00:00.133048\n",
      "Compiling model...\n",
      "Model compiled.\n",
      "Use /var/folders/3r/pzt2_p_x2xdfl2057nxkp3nm0000gn/T/tmpzsbvas0s as temporary training directory\n",
      "Reading training dataset...\n"
     ]
    },
    {
     "name": "stderr",
     "output_type": "stream",
     "text": [
      "[INFO 24-05-30 17:32:50.3225 CEST kernel.cc:1233] Loading model from path /var/folders/3r/pzt2_p_x2xdfl2057nxkp3nm0000gn/T/tmp6or7t1c7/model/ with prefix 6541a884282848cd\n",
      "[INFO 24-05-30 17:32:50.3232 CEST kernel.cc:1061] Use fast generic engine\n",
      "[WARNING 24-05-30 17:32:50.4203 CEST gradient_boosted_trees.cc:1840] \"goss_alpha\" set but \"sampling_method\" not equal to \"GOSS\".\n",
      "[WARNING 24-05-30 17:32:50.4203 CEST gradient_boosted_trees.cc:1851] \"goss_beta\" set but \"sampling_method\" not equal to \"GOSS\".\n",
      "[WARNING 24-05-30 17:32:50.4204 CEST gradient_boosted_trees.cc:1865] \"selective_gradient_boosting_ratio\" set but \"sampling_method\" not equal to \"SELGB\".\n"
     ]
    },
    {
     "name": "stdout",
     "output_type": "stream",
     "text": [
      "Training dataset read in 0:00:00.247042. Found 13209 examples.\n",
      "Training model...\n",
      "Model trained in 0:00:00.356401\n",
      "Compiling model...\n",
      "Model compiled.\n",
      "Use /var/folders/3r/pzt2_p_x2xdfl2057nxkp3nm0000gn/T/tmpwc0cda3c as temporary training directory\n",
      "Reading training dataset...\n"
     ]
    },
    {
     "name": "stderr",
     "output_type": "stream",
     "text": [
      "[INFO 24-05-30 17:32:51.0247 CEST kernel.cc:1233] Loading model from path /var/folders/3r/pzt2_p_x2xdfl2057nxkp3nm0000gn/T/tmpzsbvas0s/model/ with prefix 106ae839a6e84d10\n",
      "[INFO 24-05-30 17:32:51.0261 CEST kernel.cc:1061] Use fast generic engine\n",
      "[WARNING 24-05-30 17:32:51.1066 CEST gradient_boosted_trees.cc:1840] \"goss_alpha\" set but \"sampling_method\" not equal to \"GOSS\".\n",
      "[WARNING 24-05-30 17:32:51.1067 CEST gradient_boosted_trees.cc:1851] \"goss_beta\" set but \"sampling_method\" not equal to \"GOSS\".\n",
      "[WARNING 24-05-30 17:32:51.1067 CEST gradient_boosted_trees.cc:1865] \"selective_gradient_boosting_ratio\" set but \"sampling_method\" not equal to \"SELGB\".\n"
     ]
    },
    {
     "name": "stdout",
     "output_type": "stream",
     "text": [
      "Training dataset read in 0:00:00.245717. Found 13209 examples.\n",
      "Training model...\n",
      "Model trained in 0:00:00.275813\n",
      "Compiling model...\n",
      "Model compiled.\n",
      "Use /var/folders/3r/pzt2_p_x2xdfl2057nxkp3nm0000gn/T/tmpsvuy7t0_ as temporary training directory\n",
      "Reading training dataset...\n"
     ]
    },
    {
     "name": "stderr",
     "output_type": "stream",
     "text": [
      "[INFO 24-05-30 17:32:51.6338 CEST kernel.cc:1233] Loading model from path /var/folders/3r/pzt2_p_x2xdfl2057nxkp3nm0000gn/T/tmpwc0cda3c/model/ with prefix de327a1c9a8f4aee\n",
      "[INFO 24-05-30 17:32:51.6350 CEST kernel.cc:1061] Use fast generic engine\n",
      "[WARNING 24-05-30 17:32:51.7173 CEST gradient_boosted_trees.cc:1840] \"goss_alpha\" set but \"sampling_method\" not equal to \"GOSS\".\n",
      "[WARNING 24-05-30 17:32:51.7174 CEST gradient_boosted_trees.cc:1851] \"goss_beta\" set but \"sampling_method\" not equal to \"GOSS\".\n",
      "[WARNING 24-05-30 17:32:51.7174 CEST gradient_boosted_trees.cc:1865] \"selective_gradient_boosting_ratio\" set but \"sampling_method\" not equal to \"SELGB\".\n"
     ]
    },
    {
     "name": "stdout",
     "output_type": "stream",
     "text": [
      "Training dataset read in 0:00:00.242294. Found 13209 examples.\n",
      "Training model...\n",
      "Model trained in 0:00:00.186018\n",
      "Compiling model...\n",
      "Model compiled.\n",
      "Use /var/folders/3r/pzt2_p_x2xdfl2057nxkp3nm0000gn/T/tmprf_v3x5h as temporary training directory\n",
      "Reading training dataset...\n"
     ]
    },
    {
     "name": "stderr",
     "output_type": "stream",
     "text": [
      "[INFO 24-05-30 17:32:52.1473 CEST kernel.cc:1233] Loading model from path /var/folders/3r/pzt2_p_x2xdfl2057nxkp3nm0000gn/T/tmpsvuy7t0_/model/ with prefix 58c8bf086a7d48a2\n",
      "[INFO 24-05-30 17:32:52.1481 CEST kernel.cc:1061] Use fast generic engine\n",
      "[WARNING 24-05-30 17:32:52.2318 CEST gradient_boosted_trees.cc:1840] \"goss_alpha\" set but \"sampling_method\" not equal to \"GOSS\".\n",
      "[WARNING 24-05-30 17:32:52.2319 CEST gradient_boosted_trees.cc:1851] \"goss_beta\" set but \"sampling_method\" not equal to \"GOSS\".\n",
      "[WARNING 24-05-30 17:32:52.2319 CEST gradient_boosted_trees.cc:1865] \"selective_gradient_boosting_ratio\" set but \"sampling_method\" not equal to \"SELGB\".\n"
     ]
    },
    {
     "name": "stdout",
     "output_type": "stream",
     "text": [
      "Training dataset read in 0:00:00.239029. Found 13209 examples.\n",
      "Training model...\n",
      "Model trained in 0:00:00.373204\n",
      "Compiling model...\n",
      "Model compiled.\n",
      "Use /var/folders/3r/pzt2_p_x2xdfl2057nxkp3nm0000gn/T/tmpdtvgc9tp as temporary training directory\n",
      "Reading training dataset...\n"
     ]
    },
    {
     "name": "stderr",
     "output_type": "stream",
     "text": [
      "[INFO 24-05-30 17:32:52.8447 CEST kernel.cc:1233] Loading model from path /var/folders/3r/pzt2_p_x2xdfl2057nxkp3nm0000gn/T/tmprf_v3x5h/model/ with prefix ee94732171a84d58\n",
      "[INFO 24-05-30 17:32:52.8462 CEST kernel.cc:1061] Use fast generic engine\n",
      "[WARNING 24-05-30 17:32:52.9216 CEST gradient_boosted_trees.cc:1840] \"goss_alpha\" set but \"sampling_method\" not equal to \"GOSS\".\n",
      "[WARNING 24-05-30 17:32:52.9216 CEST gradient_boosted_trees.cc:1851] \"goss_beta\" set but \"sampling_method\" not equal to \"GOSS\".\n",
      "[WARNING 24-05-30 17:32:52.9216 CEST gradient_boosted_trees.cc:1865] \"selective_gradient_boosting_ratio\" set but \"sampling_method\" not equal to \"SELGB\".\n"
     ]
    },
    {
     "name": "stdout",
     "output_type": "stream",
     "text": [
      "Training dataset read in 0:00:00.243031. Found 13209 examples.\n",
      "Training model...\n",
      "Model trained in 0:00:00.366908\n",
      "Compiling model...\n",
      "Model compiled.\n",
      "Use /var/folders/3r/pzt2_p_x2xdfl2057nxkp3nm0000gn/T/tmpg8wvor9n as temporary training directory\n",
      "Reading training dataset...\n"
     ]
    },
    {
     "name": "stderr",
     "output_type": "stream",
     "text": [
      "[INFO 24-05-30 17:32:53.5367 CEST kernel.cc:1233] Loading model from path /var/folders/3r/pzt2_p_x2xdfl2057nxkp3nm0000gn/T/tmpdtvgc9tp/model/ with prefix 232d36ad13854c92\n",
      "[INFO 24-05-30 17:32:53.5383 CEST kernel.cc:1061] Use fast generic engine\n",
      "[WARNING 24-05-30 17:32:53.6218 CEST gradient_boosted_trees.cc:1840] \"goss_alpha\" set but \"sampling_method\" not equal to \"GOSS\".\n",
      "[WARNING 24-05-30 17:32:53.6218 CEST gradient_boosted_trees.cc:1851] \"goss_beta\" set but \"sampling_method\" not equal to \"GOSS\".\n",
      "[WARNING 24-05-30 17:32:53.6218 CEST gradient_boosted_trees.cc:1865] \"selective_gradient_boosting_ratio\" set but \"sampling_method\" not equal to \"SELGB\".\n"
     ]
    },
    {
     "name": "stdout",
     "output_type": "stream",
     "text": [
      "Training dataset read in 0:00:00.239254. Found 13209 examples.\n",
      "Training model...\n",
      "Model trained in 0:00:00.317852\n",
      "Compiling model...\n",
      "Model compiled.\n",
      "Use /var/folders/3r/pzt2_p_x2xdfl2057nxkp3nm0000gn/T/tmpsbpo7xgk as temporary training directory\n",
      "Reading training dataset...\n"
     ]
    },
    {
     "name": "stderr",
     "output_type": "stream",
     "text": [
      "[INFO 24-05-30 17:32:54.1798 CEST kernel.cc:1233] Loading model from path /var/folders/3r/pzt2_p_x2xdfl2057nxkp3nm0000gn/T/tmpg8wvor9n/model/ with prefix ce345b04ada64873\n",
      "[INFO 24-05-30 17:32:54.1812 CEST kernel.cc:1061] Use fast generic engine\n",
      "[WARNING 24-05-30 17:32:54.2574 CEST gradient_boosted_trees.cc:1840] \"goss_alpha\" set but \"sampling_method\" not equal to \"GOSS\".\n",
      "[WARNING 24-05-30 17:32:54.2574 CEST gradient_boosted_trees.cc:1851] \"goss_beta\" set but \"sampling_method\" not equal to \"GOSS\".\n",
      "[WARNING 24-05-30 17:32:54.2574 CEST gradient_boosted_trees.cc:1865] \"selective_gradient_boosting_ratio\" set but \"sampling_method\" not equal to \"SELGB\".\n"
     ]
    },
    {
     "name": "stdout",
     "output_type": "stream",
     "text": [
      "Training dataset read in 0:00:00.233527. Found 13209 examples.\n",
      "Training model...\n",
      "Model trained in 0:00:00.227564\n",
      "Compiling model...\n",
      "Model compiled.\n",
      "Use /var/folders/3r/pzt2_p_x2xdfl2057nxkp3nm0000gn/T/tmpquom3x2e as temporary training directory\n",
      "Reading training dataset...\n"
     ]
    },
    {
     "name": "stderr",
     "output_type": "stream",
     "text": [
      "[INFO 24-05-30 17:32:54.7243 CEST kernel.cc:1233] Loading model from path /var/folders/3r/pzt2_p_x2xdfl2057nxkp3nm0000gn/T/tmpsbpo7xgk/model/ with prefix 327ee940a54743bb\n",
      "[INFO 24-05-30 17:32:54.7253 CEST kernel.cc:1061] Use fast generic engine\n",
      "[WARNING 24-05-30 17:32:54.8067 CEST gradient_boosted_trees.cc:1840] \"goss_alpha\" set but \"sampling_method\" not equal to \"GOSS\".\n",
      "[WARNING 24-05-30 17:32:54.8068 CEST gradient_boosted_trees.cc:1851] \"goss_beta\" set but \"sampling_method\" not equal to \"GOSS\".\n",
      "[WARNING 24-05-30 17:32:54.8068 CEST gradient_boosted_trees.cc:1865] \"selective_gradient_boosting_ratio\" set but \"sampling_method\" not equal to \"SELGB\".\n"
     ]
    },
    {
     "name": "stdout",
     "output_type": "stream",
     "text": [
      "Training dataset read in 0:00:00.245288. Found 13209 examples.\n",
      "Training model...\n",
      "Model trained in 0:00:00.339579\n",
      "Compiling model...\n",
      "Model compiled.\n",
      "Use /var/folders/3r/pzt2_p_x2xdfl2057nxkp3nm0000gn/T/tmppv26dlq8 as temporary training directory\n",
      "Reading training dataset...\n"
     ]
    },
    {
     "name": "stderr",
     "output_type": "stream",
     "text": [
      "[INFO 24-05-30 17:32:55.3926 CEST kernel.cc:1233] Loading model from path /var/folders/3r/pzt2_p_x2xdfl2057nxkp3nm0000gn/T/tmpquom3x2e/model/ with prefix 07dadf4b27ab42d8\n",
      "[INFO 24-05-30 17:32:55.3940 CEST kernel.cc:1061] Use fast generic engine\n",
      "[WARNING 24-05-30 17:32:55.4688 CEST gradient_boosted_trees.cc:1840] \"goss_alpha\" set but \"sampling_method\" not equal to \"GOSS\".\n",
      "[WARNING 24-05-30 17:32:55.4688 CEST gradient_boosted_trees.cc:1851] \"goss_beta\" set but \"sampling_method\" not equal to \"GOSS\".\n",
      "[WARNING 24-05-30 17:32:55.4688 CEST gradient_boosted_trees.cc:1865] \"selective_gradient_boosting_ratio\" set but \"sampling_method\" not equal to \"SELGB\".\n"
     ]
    },
    {
     "name": "stdout",
     "output_type": "stream",
     "text": [
      "Training dataset read in 0:00:00.239364. Found 13209 examples.\n",
      "Training model...\n",
      "Model trained in 0:00:00.375659\n",
      "Compiling model...\n",
      "Model compiled.\n",
      "Use /var/folders/3r/pzt2_p_x2xdfl2057nxkp3nm0000gn/T/tmpqfkzsgfk as temporary training directory\n",
      "Reading training dataset...\n"
     ]
    },
    {
     "name": "stderr",
     "output_type": "stream",
     "text": [
      "[INFO 24-05-30 17:32:56.0892 CEST kernel.cc:1233] Loading model from path /var/folders/3r/pzt2_p_x2xdfl2057nxkp3nm0000gn/T/tmppv26dlq8/model/ with prefix eaa866e88ed243c1\n",
      "[INFO 24-05-30 17:32:56.0908 CEST kernel.cc:1061] Use fast generic engine\n",
      "[WARNING 24-05-30 17:32:56.1730 CEST gradient_boosted_trees.cc:1840] \"goss_alpha\" set but \"sampling_method\" not equal to \"GOSS\".\n",
      "[WARNING 24-05-30 17:32:56.1730 CEST gradient_boosted_trees.cc:1851] \"goss_beta\" set but \"sampling_method\" not equal to \"GOSS\".\n",
      "[WARNING 24-05-30 17:32:56.1730 CEST gradient_boosted_trees.cc:1865] \"selective_gradient_boosting_ratio\" set but \"sampling_method\" not equal to \"SELGB\".\n"
     ]
    },
    {
     "name": "stdout",
     "output_type": "stream",
     "text": [
      "Training dataset read in 0:00:00.235812. Found 13209 examples.\n",
      "Training model...\n",
      "Model trained in 0:00:00.344657\n",
      "Compiling model...\n",
      "Model compiled.\n",
      "Use /var/folders/3r/pzt2_p_x2xdfl2057nxkp3nm0000gn/T/tmprytchadr as temporary training directory\n",
      "Reading training dataset...\n"
     ]
    },
    {
     "name": "stderr",
     "output_type": "stream",
     "text": [
      "[INFO 24-05-30 17:32:56.7541 CEST kernel.cc:1233] Loading model from path /var/folders/3r/pzt2_p_x2xdfl2057nxkp3nm0000gn/T/tmpqfkzsgfk/model/ with prefix 162c7b1184134e61\n",
      "[INFO 24-05-30 17:32:56.7556 CEST kernel.cc:1061] Use fast generic engine\n",
      "[WARNING 24-05-30 17:32:56.8291 CEST gradient_boosted_trees.cc:1840] \"goss_alpha\" set but \"sampling_method\" not equal to \"GOSS\".\n",
      "[WARNING 24-05-30 17:32:56.8292 CEST gradient_boosted_trees.cc:1851] \"goss_beta\" set but \"sampling_method\" not equal to \"GOSS\".\n",
      "[WARNING 24-05-30 17:32:56.8292 CEST gradient_boosted_trees.cc:1865] \"selective_gradient_boosting_ratio\" set but \"sampling_method\" not equal to \"SELGB\".\n"
     ]
    },
    {
     "name": "stdout",
     "output_type": "stream",
     "text": [
      "Training dataset read in 0:00:00.239955. Found 13209 examples.\n",
      "Training model...\n",
      "Model trained in 0:00:00.375824\n",
      "Compiling model...\n",
      "Model compiled.\n",
      "Use /var/folders/3r/pzt2_p_x2xdfl2057nxkp3nm0000gn/T/tmpq2vdmw6v as temporary training directory\n",
      "Reading training dataset...\n"
     ]
    },
    {
     "name": "stderr",
     "output_type": "stream",
     "text": [
      "[INFO 24-05-30 17:32:57.4500 CEST kernel.cc:1233] Loading model from path /var/folders/3r/pzt2_p_x2xdfl2057nxkp3nm0000gn/T/tmprytchadr/model/ with prefix ef4c3460d6a34a07\n",
      "[INFO 24-05-30 17:32:57.4516 CEST kernel.cc:1061] Use fast generic engine\n",
      "[WARNING 24-05-30 17:32:57.5300 CEST gradient_boosted_trees.cc:1840] \"goss_alpha\" set but \"sampling_method\" not equal to \"GOSS\".\n",
      "[WARNING 24-05-30 17:32:57.5300 CEST gradient_boosted_trees.cc:1851] \"goss_beta\" set but \"sampling_method\" not equal to \"GOSS\".\n",
      "[WARNING 24-05-30 17:32:57.5300 CEST gradient_boosted_trees.cc:1865] \"selective_gradient_boosting_ratio\" set but \"sampling_method\" not equal to \"SELGB\".\n"
     ]
    },
    {
     "name": "stdout",
     "output_type": "stream",
     "text": [
      "Training dataset read in 0:00:00.237180. Found 13209 examples.\n",
      "Training model...\n",
      "Model trained in 0:00:00.183286\n",
      "Compiling model...\n",
      "Model compiled.\n",
      "Use /var/folders/3r/pzt2_p_x2xdfl2057nxkp3nm0000gn/T/tmpwnjbols2 as temporary training directory\n",
      "Reading training dataset...\n"
     ]
    },
    {
     "name": "stderr",
     "output_type": "stream",
     "text": [
      "[INFO 24-05-30 17:32:57.9515 CEST kernel.cc:1233] Loading model from path /var/folders/3r/pzt2_p_x2xdfl2057nxkp3nm0000gn/T/tmpq2vdmw6v/model/ with prefix b043c494b488478b\n",
      "[INFO 24-05-30 17:32:57.9525 CEST kernel.cc:1061] Use fast generic engine\n",
      "[WARNING 24-05-30 17:32:58.0293 CEST gradient_boosted_trees.cc:1840] \"goss_alpha\" set but \"sampling_method\" not equal to \"GOSS\".\n",
      "[WARNING 24-05-30 17:32:58.0293 CEST gradient_boosted_trees.cc:1851] \"goss_beta\" set but \"sampling_method\" not equal to \"GOSS\".\n",
      "[WARNING 24-05-30 17:32:58.0293 CEST gradient_boosted_trees.cc:1865] \"selective_gradient_boosting_ratio\" set but \"sampling_method\" not equal to \"SELGB\".\n"
     ]
    },
    {
     "name": "stdout",
     "output_type": "stream",
     "text": [
      "Training dataset read in 0:00:00.238235. Found 13209 examples.\n",
      "Training model...\n",
      "Model trained in 0:00:00.178656\n",
      "Compiling model...\n",
      "Model compiled.\n",
      "Use /var/folders/3r/pzt2_p_x2xdfl2057nxkp3nm0000gn/T/tmp50fkimw8 as temporary training directory\n",
      "Reading training dataset...\n"
     ]
    },
    {
     "name": "stderr",
     "output_type": "stream",
     "text": [
      "[INFO 24-05-30 17:32:58.4517 CEST kernel.cc:1233] Loading model from path /var/folders/3r/pzt2_p_x2xdfl2057nxkp3nm0000gn/T/tmpwnjbols2/model/ with prefix 4c5eb55b6c05472d\n",
      "[INFO 24-05-30 17:32:58.4526 CEST kernel.cc:1061] Use fast generic engine\n",
      "[WARNING 24-05-30 17:32:58.5332 CEST gradient_boosted_trees.cc:1840] \"goss_alpha\" set but \"sampling_method\" not equal to \"GOSS\".\n",
      "[WARNING 24-05-30 17:32:58.5333 CEST gradient_boosted_trees.cc:1851] \"goss_beta\" set but \"sampling_method\" not equal to \"GOSS\".\n",
      "[WARNING 24-05-30 17:32:58.5333 CEST gradient_boosted_trees.cc:1865] \"selective_gradient_boosting_ratio\" set but \"sampling_method\" not equal to \"SELGB\".\n"
     ]
    },
    {
     "name": "stdout",
     "output_type": "stream",
     "text": [
      "Training dataset read in 0:00:00.240835. Found 13209 examples.\n",
      "Training model...\n",
      "Model trained in 0:00:00.214111\n",
      "Compiling model...\n",
      "Model compiled.\n",
      "Use /var/folders/3r/pzt2_p_x2xdfl2057nxkp3nm0000gn/T/tmpnnjlby8z as temporary training directory\n",
      "Reading training dataset...\n"
     ]
    },
    {
     "name": "stderr",
     "output_type": "stream",
     "text": [
      "[INFO 24-05-30 17:32:58.9892 CEST kernel.cc:1233] Loading model from path /var/folders/3r/pzt2_p_x2xdfl2057nxkp3nm0000gn/T/tmp50fkimw8/model/ with prefix 61eea62b77714025\n",
      "[INFO 24-05-30 17:32:58.9902 CEST kernel.cc:1061] Use fast generic engine\n",
      "[WARNING 24-05-30 17:32:59.0768 CEST gradient_boosted_trees.cc:1840] \"goss_alpha\" set but \"sampling_method\" not equal to \"GOSS\".\n",
      "[WARNING 24-05-30 17:32:59.0768 CEST gradient_boosted_trees.cc:1851] \"goss_beta\" set but \"sampling_method\" not equal to \"GOSS\".\n",
      "[WARNING 24-05-30 17:32:59.0768 CEST gradient_boosted_trees.cc:1865] \"selective_gradient_boosting_ratio\" set but \"sampling_method\" not equal to \"SELGB\".\n"
     ]
    },
    {
     "name": "stdout",
     "output_type": "stream",
     "text": [
      "Training dataset read in 0:00:00.240036. Found 13209 examples.\n",
      "Training model...\n",
      "Model trained in 0:00:00.328347\n",
      "Compiling model...\n",
      "Model compiled.\n",
      "Use /var/folders/3r/pzt2_p_x2xdfl2057nxkp3nm0000gn/T/tmplvpwfvch as temporary training directory\n",
      "Reading training dataset...\n"
     ]
    },
    {
     "name": "stderr",
     "output_type": "stream",
     "text": [
      "[INFO 24-05-30 17:32:59.6458 CEST kernel.cc:1233] Loading model from path /var/folders/3r/pzt2_p_x2xdfl2057nxkp3nm0000gn/T/tmpnnjlby8z/model/ with prefix 86d705d38c374f5b\n",
      "[INFO 24-05-30 17:32:59.6473 CEST kernel.cc:1061] Use fast generic engine\n",
      "[WARNING 24-05-30 17:32:59.7248 CEST gradient_boosted_trees.cc:1840] \"goss_alpha\" set but \"sampling_method\" not equal to \"GOSS\".\n",
      "[WARNING 24-05-30 17:32:59.7248 CEST gradient_boosted_trees.cc:1851] \"goss_beta\" set but \"sampling_method\" not equal to \"GOSS\".\n",
      "[WARNING 24-05-30 17:32:59.7248 CEST gradient_boosted_trees.cc:1865] \"selective_gradient_boosting_ratio\" set but \"sampling_method\" not equal to \"SELGB\".\n"
     ]
    },
    {
     "name": "stdout",
     "output_type": "stream",
     "text": [
      "Training dataset read in 0:00:00.237577. Found 13209 examples.\n",
      "Training model...\n",
      "Model trained in 0:00:00.245856\n",
      "Compiling model...\n",
      "Model compiled.\n",
      "Use /var/folders/3r/pzt2_p_x2xdfl2057nxkp3nm0000gn/T/tmpsnw6ug1b as temporary training directory\n",
      "Reading training dataset...\n"
     ]
    },
    {
     "name": "stderr",
     "output_type": "stream",
     "text": [
      "[INFO 24-05-30 17:33:00.2143 CEST kernel.cc:1233] Loading model from path /var/folders/3r/pzt2_p_x2xdfl2057nxkp3nm0000gn/T/tmplvpwfvch/model/ with prefix f8c1f2ef58734522\n",
      "[INFO 24-05-30 17:33:00.2154 CEST abstract_model.cc:1344] Engine \"GradientBoostedTreesQuickScorerExtended\" built\n",
      "[INFO 24-05-30 17:33:00.2154 CEST kernel.cc:1061] Use fast generic engine\n",
      "[WARNING 24-05-30 17:33:00.2907 CEST gradient_boosted_trees.cc:1840] \"goss_alpha\" set but \"sampling_method\" not equal to \"GOSS\".\n",
      "[WARNING 24-05-30 17:33:00.2907 CEST gradient_boosted_trees.cc:1851] \"goss_beta\" set but \"sampling_method\" not equal to \"GOSS\".\n",
      "[WARNING 24-05-30 17:33:00.2907 CEST gradient_boosted_trees.cc:1865] \"selective_gradient_boosting_ratio\" set but \"sampling_method\" not equal to \"SELGB\".\n"
     ]
    },
    {
     "name": "stdout",
     "output_type": "stream",
     "text": [
      "Training dataset read in 0:00:00.237982. Found 13209 examples.\n",
      "Training model...\n",
      "Model trained in 0:00:00.270112\n",
      "Compiling model...\n",
      "Model compiled.\n",
      "Use /var/folders/3r/pzt2_p_x2xdfl2057nxkp3nm0000gn/T/tmp6vvhr5dz as temporary training directory\n",
      "Reading training dataset...\n"
     ]
    },
    {
     "name": "stderr",
     "output_type": "stream",
     "text": [
      "[INFO 24-05-30 17:33:00.8044 CEST kernel.cc:1233] Loading model from path /var/folders/3r/pzt2_p_x2xdfl2057nxkp3nm0000gn/T/tmpsnw6ug1b/model/ with prefix 60a6e61d339f4543\n",
      "[INFO 24-05-30 17:33:00.8056 CEST kernel.cc:1061] Use fast generic engine\n",
      "[WARNING 24-05-30 17:33:00.8788 CEST gradient_boosted_trees.cc:1840] \"goss_alpha\" set but \"sampling_method\" not equal to \"GOSS\".\n",
      "[WARNING 24-05-30 17:33:00.8788 CEST gradient_boosted_trees.cc:1851] \"goss_beta\" set but \"sampling_method\" not equal to \"GOSS\".\n",
      "[WARNING 24-05-30 17:33:00.8788 CEST gradient_boosted_trees.cc:1865] \"selective_gradient_boosting_ratio\" set but \"sampling_method\" not equal to \"SELGB\".\n"
     ]
    },
    {
     "name": "stdout",
     "output_type": "stream",
     "text": [
      "Training dataset read in 0:00:00.243614. Found 13209 examples.\n",
      "Training model...\n",
      "Model trained in 0:00:00.326188\n",
      "Compiling model...\n",
      "Model compiled.\n",
      "Use /var/folders/3r/pzt2_p_x2xdfl2057nxkp3nm0000gn/T/tmptx2mf3lm as temporary training directory\n",
      "Reading training dataset...\n"
     ]
    },
    {
     "name": "stderr",
     "output_type": "stream",
     "text": [
      "[INFO 24-05-30 17:33:01.4543 CEST kernel.cc:1233] Loading model from path /var/folders/3r/pzt2_p_x2xdfl2057nxkp3nm0000gn/T/tmp6vvhr5dz/model/ with prefix 3cf1c3907df64f2d\n",
      "[INFO 24-05-30 17:33:01.4557 CEST kernel.cc:1061] Use fast generic engine\n",
      "[WARNING 24-05-30 17:33:01.5309 CEST gradient_boosted_trees.cc:1840] \"goss_alpha\" set but \"sampling_method\" not equal to \"GOSS\".\n",
      "[WARNING 24-05-30 17:33:01.5309 CEST gradient_boosted_trees.cc:1851] \"goss_beta\" set but \"sampling_method\" not equal to \"GOSS\".\n",
      "[WARNING 24-05-30 17:33:01.5309 CEST gradient_boosted_trees.cc:1865] \"selective_gradient_boosting_ratio\" set but \"sampling_method\" not equal to \"SELGB\".\n"
     ]
    },
    {
     "name": "stdout",
     "output_type": "stream",
     "text": [
      "Training dataset read in 0:00:00.234996. Found 13209 examples.\n",
      "Training model...\n",
      "Model trained in 0:00:00.174257\n",
      "Compiling model...\n",
      "Model compiled.\n",
      "Use /var/folders/3r/pzt2_p_x2xdfl2057nxkp3nm0000gn/T/tmp6htnc_c9 as temporary training directory\n",
      "Reading training dataset...\n"
     ]
    },
    {
     "name": "stderr",
     "output_type": "stream",
     "text": [
      "[INFO 24-05-30 17:33:01.9462 CEST kernel.cc:1233] Loading model from path /var/folders/3r/pzt2_p_x2xdfl2057nxkp3nm0000gn/T/tmptx2mf3lm/model/ with prefix e70b8ba62a1547ba\n",
      "[INFO 24-05-30 17:33:01.9470 CEST kernel.cc:1061] Use fast generic engine\n",
      "[WARNING 24-05-30 17:33:02.0212 CEST gradient_boosted_trees.cc:1840] \"goss_alpha\" set but \"sampling_method\" not equal to \"GOSS\".\n",
      "[WARNING 24-05-30 17:33:02.0212 CEST gradient_boosted_trees.cc:1851] \"goss_beta\" set but \"sampling_method\" not equal to \"GOSS\".\n",
      "[WARNING 24-05-30 17:33:02.0212 CEST gradient_boosted_trees.cc:1865] \"selective_gradient_boosting_ratio\" set but \"sampling_method\" not equal to \"SELGB\".\n"
     ]
    },
    {
     "name": "stdout",
     "output_type": "stream",
     "text": [
      "Training dataset read in 0:00:00.235928. Found 13209 examples.\n",
      "Training model...\n",
      "Model trained in 0:00:00.393763\n",
      "Compiling model...\n",
      "Model compiled.\n",
      "Use /var/folders/3r/pzt2_p_x2xdfl2057nxkp3nm0000gn/T/tmpyt_arcar as temporary training directory\n",
      "Reading training dataset...\n"
     ]
    },
    {
     "name": "stderr",
     "output_type": "stream",
     "text": [
      "[INFO 24-05-30 17:33:02.6563 CEST kernel.cc:1233] Loading model from path /var/folders/3r/pzt2_p_x2xdfl2057nxkp3nm0000gn/T/tmp6htnc_c9/model/ with prefix 861c9b8751844a56\n",
      "[INFO 24-05-30 17:33:02.6579 CEST kernel.cc:1061] Use fast generic engine\n",
      "[WARNING 24-05-30 17:33:02.7313 CEST gradient_boosted_trees.cc:1840] \"goss_alpha\" set but \"sampling_method\" not equal to \"GOSS\".\n",
      "[WARNING 24-05-30 17:33:02.7313 CEST gradient_boosted_trees.cc:1851] \"goss_beta\" set but \"sampling_method\" not equal to \"GOSS\".\n",
      "[WARNING 24-05-30 17:33:02.7313 CEST gradient_boosted_trees.cc:1865] \"selective_gradient_boosting_ratio\" set but \"sampling_method\" not equal to \"SELGB\".\n"
     ]
    },
    {
     "name": "stdout",
     "output_type": "stream",
     "text": [
      "Training dataset read in 0:00:00.235883. Found 13209 examples.\n",
      "Training model...\n",
      "Model trained in 0:00:00.257184\n",
      "Compiling model...\n",
      "Model compiled.\n",
      "Use /var/folders/3r/pzt2_p_x2xdfl2057nxkp3nm0000gn/T/tmp6pfxo76f as temporary training directory\n",
      "Reading training dataset...\n"
     ]
    },
    {
     "name": "stderr",
     "output_type": "stream",
     "text": [
      "[INFO 24-05-30 17:33:03.2301 CEST kernel.cc:1233] Loading model from path /var/folders/3r/pzt2_p_x2xdfl2057nxkp3nm0000gn/T/tmpyt_arcar/model/ with prefix 7fea43ddee8e4958\n",
      "[INFO 24-05-30 17:33:03.2313 CEST kernel.cc:1061] Use fast generic engine\n",
      "[WARNING 24-05-30 17:33:03.3058 CEST gradient_boosted_trees.cc:1840] \"goss_alpha\" set but \"sampling_method\" not equal to \"GOSS\".\n",
      "[WARNING 24-05-30 17:33:03.3058 CEST gradient_boosted_trees.cc:1851] \"goss_beta\" set but \"sampling_method\" not equal to \"GOSS\".\n",
      "[WARNING 24-05-30 17:33:03.3058 CEST gradient_boosted_trees.cc:1865] \"selective_gradient_boosting_ratio\" set but \"sampling_method\" not equal to \"SELGB\".\n"
     ]
    },
    {
     "name": "stdout",
     "output_type": "stream",
     "text": [
      "Training dataset read in 0:00:00.235022. Found 13209 examples.\n",
      "Training model...\n",
      "Model trained in 0:00:00.195216\n",
      "Compiling model...\n",
      "Model compiled.\n",
      "Use /var/folders/3r/pzt2_p_x2xdfl2057nxkp3nm0000gn/T/tmpam6gi618 as temporary training directory\n",
      "Reading training dataset...\n"
     ]
    },
    {
     "name": "stderr",
     "output_type": "stream",
     "text": [
      "[INFO 24-05-30 17:33:03.7421 CEST kernel.cc:1233] Loading model from path /var/folders/3r/pzt2_p_x2xdfl2057nxkp3nm0000gn/T/tmp6pfxo76f/model/ with prefix c19b7b019a6b411b\n",
      "[INFO 24-05-30 17:33:03.7430 CEST kernel.cc:1061] Use fast generic engine\n",
      "[WARNING 24-05-30 17:33:03.8179 CEST gradient_boosted_trees.cc:1840] \"goss_alpha\" set but \"sampling_method\" not equal to \"GOSS\".\n",
      "[WARNING 24-05-30 17:33:03.8179 CEST gradient_boosted_trees.cc:1851] \"goss_beta\" set but \"sampling_method\" not equal to \"GOSS\".\n",
      "[WARNING 24-05-30 17:33:03.8179 CEST gradient_boosted_trees.cc:1865] \"selective_gradient_boosting_ratio\" set but \"sampling_method\" not equal to \"SELGB\".\n"
     ]
    },
    {
     "name": "stdout",
     "output_type": "stream",
     "text": [
      "Training dataset read in 0:00:00.231867. Found 13209 examples.\n",
      "Training model...\n",
      "Model trained in 0:00:00.211158\n",
      "Compiling model...\n",
      "Model compiled.\n",
      "Use /var/folders/3r/pzt2_p_x2xdfl2057nxkp3nm0000gn/T/tmp6ggba67b as temporary training directory\n",
      "Reading training dataset...\n"
     ]
    },
    {
     "name": "stderr",
     "output_type": "stream",
     "text": [
      "[INFO 24-05-30 17:33:04.2670 CEST kernel.cc:1233] Loading model from path /var/folders/3r/pzt2_p_x2xdfl2057nxkp3nm0000gn/T/tmpam6gi618/model/ with prefix 653247d1ebfe4c3f\n",
      "[INFO 24-05-30 17:33:04.2680 CEST kernel.cc:1061] Use fast generic engine\n",
      "[WARNING 24-05-30 17:33:04.3428 CEST gradient_boosted_trees.cc:1840] \"goss_alpha\" set but \"sampling_method\" not equal to \"GOSS\".\n",
      "[WARNING 24-05-30 17:33:04.3429 CEST gradient_boosted_trees.cc:1851] \"goss_beta\" set but \"sampling_method\" not equal to \"GOSS\".\n",
      "[WARNING 24-05-30 17:33:04.3429 CEST gradient_boosted_trees.cc:1865] \"selective_gradient_boosting_ratio\" set but \"sampling_method\" not equal to \"SELGB\".\n"
     ]
    },
    {
     "name": "stdout",
     "output_type": "stream",
     "text": [
      "Training dataset read in 0:00:00.242163. Found 13209 examples.\n",
      "Training model...\n",
      "Model trained in 0:00:00.139894\n",
      "Compiling model...\n",
      "Model compiled.\n",
      "Use /var/folders/3r/pzt2_p_x2xdfl2057nxkp3nm0000gn/T/tmpfj_7ph23 as temporary training directory\n",
      "Reading training dataset...\n"
     ]
    },
    {
     "name": "stderr",
     "output_type": "stream",
     "text": [
      "[INFO 24-05-30 17:33:04.7315 CEST kernel.cc:1233] Loading model from path /var/folders/3r/pzt2_p_x2xdfl2057nxkp3nm0000gn/T/tmp6ggba67b/model/ with prefix c42ebb70d03649c5\n",
      "[INFO 24-05-30 17:33:04.7321 CEST kernel.cc:1061] Use fast generic engine\n",
      "[WARNING 24-05-30 17:33:04.8087 CEST gradient_boosted_trees.cc:1840] \"goss_alpha\" set but \"sampling_method\" not equal to \"GOSS\".\n",
      "[WARNING 24-05-30 17:33:04.8087 CEST gradient_boosted_trees.cc:1851] \"goss_beta\" set but \"sampling_method\" not equal to \"GOSS\".\n",
      "[WARNING 24-05-30 17:33:04.8087 CEST gradient_boosted_trees.cc:1865] \"selective_gradient_boosting_ratio\" set but \"sampling_method\" not equal to \"SELGB\".\n"
     ]
    },
    {
     "name": "stdout",
     "output_type": "stream",
     "text": [
      "Training dataset read in 0:00:00.234984. Found 13209 examples.\n",
      "Training model...\n",
      "Model trained in 0:00:00.346901\n",
      "Compiling model...\n",
      "Model compiled.\n",
      "Use /var/folders/3r/pzt2_p_x2xdfl2057nxkp3nm0000gn/T/tmppv58zdoj as temporary training directory\n",
      "Reading training dataset...\n"
     ]
    },
    {
     "name": "stderr",
     "output_type": "stream",
     "text": [
      "[INFO 24-05-30 17:33:05.3967 CEST kernel.cc:1233] Loading model from path /var/folders/3r/pzt2_p_x2xdfl2057nxkp3nm0000gn/T/tmpfj_7ph23/model/ with prefix 2c521a7bbeeb4954\n",
      "[INFO 24-05-30 17:33:05.3982 CEST kernel.cc:1061] Use fast generic engine\n",
      "[WARNING 24-05-30 17:33:05.4750 CEST gradient_boosted_trees.cc:1840] \"goss_alpha\" set but \"sampling_method\" not equal to \"GOSS\".\n",
      "[WARNING 24-05-30 17:33:05.4750 CEST gradient_boosted_trees.cc:1851] \"goss_beta\" set but \"sampling_method\" not equal to \"GOSS\".\n",
      "[WARNING 24-05-30 17:33:05.4750 CEST gradient_boosted_trees.cc:1865] \"selective_gradient_boosting_ratio\" set but \"sampling_method\" not equal to \"SELGB\".\n"
     ]
    },
    {
     "name": "stdout",
     "output_type": "stream",
     "text": [
      "Training dataset read in 0:00:00.254737. Found 13209 examples.\n",
      "Training model...\n",
      "Model trained in 0:00:00.354228\n",
      "Compiling model...\n",
      "Model compiled.\n",
      "Use /var/folders/3r/pzt2_p_x2xdfl2057nxkp3nm0000gn/T/tmpb0pj5ia4 as temporary training directory\n",
      "Reading training dataset...\n"
     ]
    },
    {
     "name": "stderr",
     "output_type": "stream",
     "text": [
      "[INFO 24-05-30 17:33:06.0893 CEST kernel.cc:1233] Loading model from path /var/folders/3r/pzt2_p_x2xdfl2057nxkp3nm0000gn/T/tmppv58zdoj/model/ with prefix 0bf8eec2195044a0\n",
      "[INFO 24-05-30 17:33:06.0908 CEST kernel.cc:1061] Use fast generic engine\n",
      "[WARNING 24-05-30 17:33:06.1662 CEST gradient_boosted_trees.cc:1840] \"goss_alpha\" set but \"sampling_method\" not equal to \"GOSS\".\n",
      "[WARNING 24-05-30 17:33:06.1662 CEST gradient_boosted_trees.cc:1851] \"goss_beta\" set but \"sampling_method\" not equal to \"GOSS\".\n",
      "[WARNING 24-05-30 17:33:06.1662 CEST gradient_boosted_trees.cc:1865] \"selective_gradient_boosting_ratio\" set but \"sampling_method\" not equal to \"SELGB\".\n"
     ]
    },
    {
     "name": "stdout",
     "output_type": "stream",
     "text": [
      "Training dataset read in 0:00:00.234652. Found 13209 examples.\n",
      "Training model...\n",
      "Model trained in 0:00:00.165450\n",
      "Compiling model...\n",
      "Model compiled.\n",
      "Use /var/folders/3r/pzt2_p_x2xdfl2057nxkp3nm0000gn/T/tmpf6xw2n9a as temporary training directory\n",
      "Reading training dataset...\n"
     ]
    },
    {
     "name": "stderr",
     "output_type": "stream",
     "text": [
      "[INFO 24-05-30 17:33:06.5728 CEST kernel.cc:1233] Loading model from path /var/folders/3r/pzt2_p_x2xdfl2057nxkp3nm0000gn/T/tmpb0pj5ia4/model/ with prefix 2fd64da412b64834\n",
      "[INFO 24-05-30 17:33:06.5737 CEST kernel.cc:1061] Use fast generic engine\n",
      "[WARNING 24-05-30 17:33:06.6495 CEST gradient_boosted_trees.cc:1840] \"goss_alpha\" set but \"sampling_method\" not equal to \"GOSS\".\n",
      "[WARNING 24-05-30 17:33:06.6495 CEST gradient_boosted_trees.cc:1851] \"goss_beta\" set but \"sampling_method\" not equal to \"GOSS\".\n",
      "[WARNING 24-05-30 17:33:06.6495 CEST gradient_boosted_trees.cc:1865] \"selective_gradient_boosting_ratio\" set but \"sampling_method\" not equal to \"SELGB\".\n"
     ]
    },
    {
     "name": "stdout",
     "output_type": "stream",
     "text": [
      "Training dataset read in 0:00:00.237956. Found 13209 examples.\n",
      "Training model...\n",
      "Model trained in 0:00:00.096931\n",
      "Compiling model...\n",
      "Model compiled.\n",
      "Use /var/folders/3r/pzt2_p_x2xdfl2057nxkp3nm0000gn/T/tmph9_enaae as temporary training directory\n",
      "Reading training dataset...\n"
     ]
    },
    {
     "name": "stderr",
     "output_type": "stream",
     "text": [
      "[INFO 24-05-30 17:33:06.9909 CEST kernel.cc:1233] Loading model from path /var/folders/3r/pzt2_p_x2xdfl2057nxkp3nm0000gn/T/tmpf6xw2n9a/model/ with prefix 5af2adfb1bb741c1\n",
      "[INFO 24-05-30 17:33:06.9914 CEST kernel.cc:1061] Use fast generic engine\n",
      "[WARNING 24-05-30 17:33:07.0693 CEST gradient_boosted_trees.cc:1840] \"goss_alpha\" set but \"sampling_method\" not equal to \"GOSS\".\n",
      "[WARNING 24-05-30 17:33:07.0693 CEST gradient_boosted_trees.cc:1851] \"goss_beta\" set but \"sampling_method\" not equal to \"GOSS\".\n",
      "[WARNING 24-05-30 17:33:07.0693 CEST gradient_boosted_trees.cc:1865] \"selective_gradient_boosting_ratio\" set but \"sampling_method\" not equal to \"SELGB\".\n"
     ]
    },
    {
     "name": "stdout",
     "output_type": "stream",
     "text": [
      "Training dataset read in 0:00:00.244965. Found 13209 examples.\n",
      "Training model...\n",
      "Model trained in 0:00:00.119155\n",
      "Compiling model...\n",
      "Model compiled.\n",
      "Use /var/folders/3r/pzt2_p_x2xdfl2057nxkp3nm0000gn/T/tmpny1jji5a as temporary training directory\n",
      "Reading training dataset...\n"
     ]
    },
    {
     "name": "stderr",
     "output_type": "stream",
     "text": [
      "[INFO 24-05-30 17:33:07.4402 CEST kernel.cc:1233] Loading model from path /var/folders/3r/pzt2_p_x2xdfl2057nxkp3nm0000gn/T/tmph9_enaae/model/ with prefix 27732c372baa48cc\n",
      "[INFO 24-05-30 17:33:07.4408 CEST kernel.cc:1061] Use fast generic engine\n",
      "[WARNING 24-05-30 17:33:07.5183 CEST gradient_boosted_trees.cc:1840] \"goss_alpha\" set but \"sampling_method\" not equal to \"GOSS\".\n",
      "[WARNING 24-05-30 17:33:07.5183 CEST gradient_boosted_trees.cc:1851] \"goss_beta\" set but \"sampling_method\" not equal to \"GOSS\".\n",
      "[WARNING 24-05-30 17:33:07.5183 CEST gradient_boosted_trees.cc:1865] \"selective_gradient_boosting_ratio\" set but \"sampling_method\" not equal to \"SELGB\".\n"
     ]
    },
    {
     "name": "stdout",
     "output_type": "stream",
     "text": [
      "Training dataset read in 0:00:00.237827. Found 13209 examples.\n",
      "Training model...\n",
      "Model trained in 0:00:00.330571\n",
      "Compiling model...\n",
      "Model compiled.\n",
      "Use /var/folders/3r/pzt2_p_x2xdfl2057nxkp3nm0000gn/T/tmp48qo3uoz as temporary training directory\n",
      "Reading training dataset...\n"
     ]
    },
    {
     "name": "stderr",
     "output_type": "stream",
     "text": [
      "[INFO 24-05-30 17:33:08.0924 CEST kernel.cc:1233] Loading model from path /var/folders/3r/pzt2_p_x2xdfl2057nxkp3nm0000gn/T/tmpny1jji5a/model/ with prefix c0732d1c26554e34\n",
      "[INFO 24-05-30 17:33:08.0938 CEST kernel.cc:1061] Use fast generic engine\n",
      "[WARNING 24-05-30 17:33:08.1884 CEST gradient_boosted_trees.cc:1840] \"goss_alpha\" set but \"sampling_method\" not equal to \"GOSS\".\n",
      "[WARNING 24-05-30 17:33:08.1885 CEST gradient_boosted_trees.cc:1851] \"goss_beta\" set but \"sampling_method\" not equal to \"GOSS\".\n",
      "[WARNING 24-05-30 17:33:08.1885 CEST gradient_boosted_trees.cc:1865] \"selective_gradient_boosting_ratio\" set but \"sampling_method\" not equal to \"SELGB\".\n"
     ]
    },
    {
     "name": "stdout",
     "output_type": "stream",
     "text": [
      "Training dataset read in 0:00:00.239204. Found 13209 examples.\n",
      "Training model...\n",
      "Model trained in 0:00:00.362917\n",
      "Compiling model...\n",
      "Model compiled.\n",
      "Use /var/folders/3r/pzt2_p_x2xdfl2057nxkp3nm0000gn/T/tmpjzt32ayu as temporary training directory\n",
      "Reading training dataset...\n"
     ]
    },
    {
     "name": "stderr",
     "output_type": "stream",
     "text": [
      "[INFO 24-05-30 17:33:08.7964 CEST kernel.cc:1233] Loading model from path /var/folders/3r/pzt2_p_x2xdfl2057nxkp3nm0000gn/T/tmp48qo3uoz/model/ with prefix a784146f11af41b7\n",
      "[INFO 24-05-30 17:33:08.7980 CEST kernel.cc:1061] Use fast generic engine\n",
      "[WARNING 24-05-30 17:33:08.8719 CEST gradient_boosted_trees.cc:1840] \"goss_alpha\" set but \"sampling_method\" not equal to \"GOSS\".\n",
      "[WARNING 24-05-30 17:33:08.8719 CEST gradient_boosted_trees.cc:1851] \"goss_beta\" set but \"sampling_method\" not equal to \"GOSS\".\n",
      "[WARNING 24-05-30 17:33:08.8719 CEST gradient_boosted_trees.cc:1865] \"selective_gradient_boosting_ratio\" set but \"sampling_method\" not equal to \"SELGB\".\n"
     ]
    },
    {
     "name": "stdout",
     "output_type": "stream",
     "text": [
      "Training dataset read in 0:00:00.236960. Found 13209 examples.\n",
      "Training model...\n",
      "Model trained in 0:00:00.157987\n",
      "Compiling model...\n",
      "Model compiled.\n",
      "Use /var/folders/3r/pzt2_p_x2xdfl2057nxkp3nm0000gn/T/tmppgqhc2ux as temporary training directory\n",
      "Reading training dataset...\n"
     ]
    },
    {
     "name": "stderr",
     "output_type": "stream",
     "text": [
      "[INFO 24-05-30 17:33:09.2734 CEST kernel.cc:1233] Loading model from path /var/folders/3r/pzt2_p_x2xdfl2057nxkp3nm0000gn/T/tmpjzt32ayu/model/ with prefix a1a4ee43f3c24bcb\n",
      "[INFO 24-05-30 17:33:09.2742 CEST kernel.cc:1061] Use fast generic engine\n",
      "[WARNING 24-05-30 17:33:09.3480 CEST gradient_boosted_trees.cc:1840] \"goss_alpha\" set but \"sampling_method\" not equal to \"GOSS\".\n",
      "[WARNING 24-05-30 17:33:09.3480 CEST gradient_boosted_trees.cc:1851] \"goss_beta\" set but \"sampling_method\" not equal to \"GOSS\".\n",
      "[WARNING 24-05-30 17:33:09.3480 CEST gradient_boosted_trees.cc:1865] \"selective_gradient_boosting_ratio\" set but \"sampling_method\" not equal to \"SELGB\".\n"
     ]
    },
    {
     "name": "stdout",
     "output_type": "stream",
     "text": [
      "Training dataset read in 0:00:00.237903. Found 13209 examples.\n",
      "Training model...\n",
      "Model trained in 0:00:00.386545\n",
      "Compiling model...\n",
      "Model compiled.\n",
      "Use /var/folders/3r/pzt2_p_x2xdfl2057nxkp3nm0000gn/T/tmpq70ucvbu as temporary training directory\n",
      "Reading training dataset...\n"
     ]
    },
    {
     "name": "stderr",
     "output_type": "stream",
     "text": [
      "[INFO 24-05-30 17:33:09.9773 CEST kernel.cc:1233] Loading model from path /var/folders/3r/pzt2_p_x2xdfl2057nxkp3nm0000gn/T/tmppgqhc2ux/model/ with prefix 1ad168ebdb15442e\n",
      "[INFO 24-05-30 17:33:09.9791 CEST kernel.cc:1061] Use fast generic engine\n",
      "[WARNING 24-05-30 17:33:10.0636 CEST gradient_boosted_trees.cc:1840] \"goss_alpha\" set but \"sampling_method\" not equal to \"GOSS\".\n",
      "[WARNING 24-05-30 17:33:10.0636 CEST gradient_boosted_trees.cc:1851] \"goss_beta\" set but \"sampling_method\" not equal to \"GOSS\".\n",
      "[WARNING 24-05-30 17:33:10.0636 CEST gradient_boosted_trees.cc:1865] \"selective_gradient_boosting_ratio\" set but \"sampling_method\" not equal to \"SELGB\".\n"
     ]
    },
    {
     "name": "stdout",
     "output_type": "stream",
     "text": [
      "Training dataset read in 0:00:00.240824. Found 13209 examples.\n",
      "Training model...\n",
      "Model trained in 0:00:00.209197\n",
      "Compiling model...\n",
      "Model compiled.\n",
      "Use /var/folders/3r/pzt2_p_x2xdfl2057nxkp3nm0000gn/T/tmp5cu2er8y as temporary training directory\n",
      "Reading training dataset...\n"
     ]
    },
    {
     "name": "stderr",
     "output_type": "stream",
     "text": [
      "[INFO 24-05-30 17:33:10.5201 CEST kernel.cc:1233] Loading model from path /var/folders/3r/pzt2_p_x2xdfl2057nxkp3nm0000gn/T/tmpq70ucvbu/model/ with prefix 6de5c54e311546ba\n",
      "[INFO 24-05-30 17:33:10.5211 CEST abstract_model.cc:1344] Engine \"GradientBoostedTreesQuickScorerExtended\" built\n",
      "[INFO 24-05-30 17:33:10.5211 CEST kernel.cc:1061] Use fast generic engine\n",
      "[WARNING 24-05-30 17:33:10.5980 CEST gradient_boosted_trees.cc:1840] \"goss_alpha\" set but \"sampling_method\" not equal to \"GOSS\".\n",
      "[WARNING 24-05-30 17:33:10.5980 CEST gradient_boosted_trees.cc:1851] \"goss_beta\" set but \"sampling_method\" not equal to \"GOSS\".\n",
      "[WARNING 24-05-30 17:33:10.5981 CEST gradient_boosted_trees.cc:1865] \"selective_gradient_boosting_ratio\" set but \"sampling_method\" not equal to \"SELGB\".\n"
     ]
    },
    {
     "name": "stdout",
     "output_type": "stream",
     "text": [
      "Training dataset read in 0:00:00.236608. Found 13209 examples.\n",
      "Training model...\n",
      "Model trained in 0:00:00.409220\n",
      "Compiling model...\n",
      "Model compiled.\n",
      "Use /var/folders/3r/pzt2_p_x2xdfl2057nxkp3nm0000gn/T/tmplv2fliyo as temporary training directory\n",
      "Reading training dataset...\n"
     ]
    },
    {
     "name": "stderr",
     "output_type": "stream",
     "text": [
      "[INFO 24-05-30 17:33:11.2490 CEST kernel.cc:1233] Loading model from path /var/folders/3r/pzt2_p_x2xdfl2057nxkp3nm0000gn/T/tmp5cu2er8y/model/ with prefix 0d0dff7c0b6b46b3\n",
      "[INFO 24-05-30 17:33:11.2507 CEST kernel.cc:1061] Use fast generic engine\n",
      "[WARNING 24-05-30 17:33:11.3233 CEST gradient_boosted_trees.cc:1840] \"goss_alpha\" set but \"sampling_method\" not equal to \"GOSS\".\n",
      "[WARNING 24-05-30 17:33:11.3233 CEST gradient_boosted_trees.cc:1851] \"goss_beta\" set but \"sampling_method\" not equal to \"GOSS\".\n",
      "[WARNING 24-05-30 17:33:11.3233 CEST gradient_boosted_trees.cc:1865] \"selective_gradient_boosting_ratio\" set but \"sampling_method\" not equal to \"SELGB\".\n"
     ]
    },
    {
     "name": "stdout",
     "output_type": "stream",
     "text": [
      "Training dataset read in 0:00:00.233422. Found 13209 examples.\n",
      "Training model...\n",
      "Model trained in 0:00:00.251687\n",
      "Compiling model...\n",
      "Model compiled.\n",
      "Use /var/folders/3r/pzt2_p_x2xdfl2057nxkp3nm0000gn/T/tmpsh_ii5tj as temporary training directory\n",
      "Reading training dataset...\n"
     ]
    },
    {
     "name": "stderr",
     "output_type": "stream",
     "text": [
      "[INFO 24-05-30 17:33:11.8138 CEST kernel.cc:1233] Loading model from path /var/folders/3r/pzt2_p_x2xdfl2057nxkp3nm0000gn/T/tmplv2fliyo/model/ with prefix f17b846ba8c04681\n",
      "[INFO 24-05-30 17:33:11.8150 CEST kernel.cc:1061] Use fast generic engine\n",
      "[WARNING 24-05-30 17:33:11.8887 CEST gradient_boosted_trees.cc:1840] \"goss_alpha\" set but \"sampling_method\" not equal to \"GOSS\".\n",
      "[WARNING 24-05-30 17:33:11.8887 CEST gradient_boosted_trees.cc:1851] \"goss_beta\" set but \"sampling_method\" not equal to \"GOSS\".\n",
      "[WARNING 24-05-30 17:33:11.8887 CEST gradient_boosted_trees.cc:1865] \"selective_gradient_boosting_ratio\" set but \"sampling_method\" not equal to \"SELGB\".\n"
     ]
    },
    {
     "name": "stdout",
     "output_type": "stream",
     "text": [
      "Training dataset read in 0:00:00.242415. Found 13209 examples.\n",
      "Training model...\n",
      "Model trained in 0:00:00.122044\n",
      "Compiling model...\n",
      "Model compiled.\n",
      "Use /var/folders/3r/pzt2_p_x2xdfl2057nxkp3nm0000gn/T/tmp6wg4q4qi as temporary training directory\n",
      "Reading training dataset...\n"
     ]
    },
    {
     "name": "stderr",
     "output_type": "stream",
     "text": [
      "[INFO 24-05-30 17:33:12.2597 CEST kernel.cc:1233] Loading model from path /var/folders/3r/pzt2_p_x2xdfl2057nxkp3nm0000gn/T/tmpsh_ii5tj/model/ with prefix 9461a2e367a340e2\n",
      "[INFO 24-05-30 17:33:12.2604 CEST kernel.cc:1061] Use fast generic engine\n",
      "[WARNING 24-05-30 17:33:12.3348 CEST gradient_boosted_trees.cc:1840] \"goss_alpha\" set but \"sampling_method\" not equal to \"GOSS\".\n",
      "[WARNING 24-05-30 17:33:12.3349 CEST gradient_boosted_trees.cc:1851] \"goss_beta\" set but \"sampling_method\" not equal to \"GOSS\".\n",
      "[WARNING 24-05-30 17:33:12.3349 CEST gradient_boosted_trees.cc:1865] \"selective_gradient_boosting_ratio\" set but \"sampling_method\" not equal to \"SELGB\".\n"
     ]
    },
    {
     "name": "stdout",
     "output_type": "stream",
     "text": [
      "Training dataset read in 0:00:00.232741. Found 13209 examples.\n",
      "Training model...\n",
      "Model trained in 0:00:00.249983\n",
      "Compiling model...\n",
      "Model compiled.\n",
      "Use /var/folders/3r/pzt2_p_x2xdfl2057nxkp3nm0000gn/T/tmpoku5wkhu as temporary training directory\n",
      "Reading training dataset...\n"
     ]
    },
    {
     "name": "stderr",
     "output_type": "stream",
     "text": [
      "[INFO 24-05-30 17:33:12.8236 CEST kernel.cc:1233] Loading model from path /var/folders/3r/pzt2_p_x2xdfl2057nxkp3nm0000gn/T/tmp6wg4q4qi/model/ with prefix 314203c927044529\n",
      "[INFO 24-05-30 17:33:12.8247 CEST kernel.cc:1061] Use fast generic engine\n",
      "[WARNING 24-05-30 17:33:12.8991 CEST gradient_boosted_trees.cc:1840] \"goss_alpha\" set but \"sampling_method\" not equal to \"GOSS\".\n",
      "[WARNING 24-05-30 17:33:12.8991 CEST gradient_boosted_trees.cc:1851] \"goss_beta\" set but \"sampling_method\" not equal to \"GOSS\".\n",
      "[WARNING 24-05-30 17:33:12.8991 CEST gradient_boosted_trees.cc:1865] \"selective_gradient_boosting_ratio\" set but \"sampling_method\" not equal to \"SELGB\".\n"
     ]
    },
    {
     "name": "stdout",
     "output_type": "stream",
     "text": [
      "Training dataset read in 0:00:00.238415. Found 13209 examples.\n",
      "Training model...\n",
      "Model trained in 0:00:00.335049\n",
      "Compiling model...\n",
      "Model compiled.\n",
      "Use /var/folders/3r/pzt2_p_x2xdfl2057nxkp3nm0000gn/T/tmpilh_aujb as temporary training directory\n",
      "Reading training dataset...\n"
     ]
    },
    {
     "name": "stderr",
     "output_type": "stream",
     "text": [
      "[INFO 24-05-30 17:33:13.4783 CEST kernel.cc:1233] Loading model from path /var/folders/3r/pzt2_p_x2xdfl2057nxkp3nm0000gn/T/tmpoku5wkhu/model/ with prefix 0a72f55d895e455b\n",
      "[INFO 24-05-30 17:33:13.4797 CEST kernel.cc:1061] Use fast generic engine\n",
      "[WARNING 24-05-30 17:33:13.5532 CEST gradient_boosted_trees.cc:1840] \"goss_alpha\" set but \"sampling_method\" not equal to \"GOSS\".\n",
      "[WARNING 24-05-30 17:33:13.5532 CEST gradient_boosted_trees.cc:1851] \"goss_beta\" set but \"sampling_method\" not equal to \"GOSS\".\n",
      "[WARNING 24-05-30 17:33:13.5532 CEST gradient_boosted_trees.cc:1865] \"selective_gradient_boosting_ratio\" set but \"sampling_method\" not equal to \"SELGB\".\n"
     ]
    },
    {
     "name": "stdout",
     "output_type": "stream",
     "text": [
      "Training dataset read in 0:00:00.235608. Found 13209 examples.\n",
      "Training model...\n",
      "Model trained in 0:00:00.280818\n",
      "Compiling model...\n",
      "Model compiled.\n",
      "Use /var/folders/3r/pzt2_p_x2xdfl2057nxkp3nm0000gn/T/tmpadmthuv_ as temporary training directory\n",
      "Reading training dataset...\n"
     ]
    },
    {
     "name": "stderr",
     "output_type": "stream",
     "text": [
      "[INFO 24-05-30 17:33:14.0751 CEST kernel.cc:1233] Loading model from path /var/folders/3r/pzt2_p_x2xdfl2057nxkp3nm0000gn/T/tmpilh_aujb/model/ with prefix eb5415762fb34c6f\n",
      "[INFO 24-05-30 17:33:14.0764 CEST kernel.cc:1061] Use fast generic engine\n",
      "[WARNING 24-05-30 17:33:14.1584 CEST gradient_boosted_trees.cc:1840] \"goss_alpha\" set but \"sampling_method\" not equal to \"GOSS\".\n",
      "[WARNING 24-05-30 17:33:14.1584 CEST gradient_boosted_trees.cc:1851] \"goss_beta\" set but \"sampling_method\" not equal to \"GOSS\".\n",
      "[WARNING 24-05-30 17:33:14.1584 CEST gradient_boosted_trees.cc:1865] \"selective_gradient_boosting_ratio\" set but \"sampling_method\" not equal to \"SELGB\".\n"
     ]
    },
    {
     "name": "stdout",
     "output_type": "stream",
     "text": [
      "Training dataset read in 0:00:00.250898. Found 13209 examples.\n",
      "Training model...\n",
      "Model trained in 0:00:00.465533\n",
      "Compiling model...\n",
      "Model compiled.\n",
      "Use /var/folders/3r/pzt2_p_x2xdfl2057nxkp3nm0000gn/T/tmpb9mqgebr as temporary training directory\n",
      "Reading training dataset...\n"
     ]
    },
    {
     "name": "stderr",
     "output_type": "stream",
     "text": [
      "[INFO 24-05-30 17:33:14.8803 CEST kernel.cc:1233] Loading model from path /var/folders/3r/pzt2_p_x2xdfl2057nxkp3nm0000gn/T/tmpadmthuv_/model/ with prefix 2e8cc250ea9a4ac2\n",
      "[INFO 24-05-30 17:33:14.8821 CEST kernel.cc:1061] Use fast generic engine\n",
      "[WARNING 24-05-30 17:33:14.9617 CEST gradient_boosted_trees.cc:1840] \"goss_alpha\" set but \"sampling_method\" not equal to \"GOSS\".\n",
      "[WARNING 24-05-30 17:33:14.9617 CEST gradient_boosted_trees.cc:1851] \"goss_beta\" set but \"sampling_method\" not equal to \"GOSS\".\n",
      "[WARNING 24-05-30 17:33:14.9617 CEST gradient_boosted_trees.cc:1865] \"selective_gradient_boosting_ratio\" set but \"sampling_method\" not equal to \"SELGB\".\n"
     ]
    },
    {
     "name": "stdout",
     "output_type": "stream",
     "text": [
      "Training dataset read in 0:00:00.232953. Found 13209 examples.\n",
      "Training model...\n",
      "Model trained in 0:00:00.277677\n",
      "Compiling model...\n",
      "Model compiled.\n",
      "Use /var/folders/3r/pzt2_p_x2xdfl2057nxkp3nm0000gn/T/tmp2au02lyf as temporary training directory\n",
      "Reading training dataset...\n"
     ]
    },
    {
     "name": "stderr",
     "output_type": "stream",
     "text": [
      "[INFO 24-05-30 17:33:15.4779 CEST kernel.cc:1233] Loading model from path /var/folders/3r/pzt2_p_x2xdfl2057nxkp3nm0000gn/T/tmpb9mqgebr/model/ with prefix 53248346994146eb\n",
      "[INFO 24-05-30 17:33:15.4792 CEST kernel.cc:1061] Use fast generic engine\n",
      "[WARNING 24-05-30 17:33:15.5576 CEST gradient_boosted_trees.cc:1840] \"goss_alpha\" set but \"sampling_method\" not equal to \"GOSS\".\n",
      "[WARNING 24-05-30 17:33:15.5577 CEST gradient_boosted_trees.cc:1851] \"goss_beta\" set but \"sampling_method\" not equal to \"GOSS\".\n",
      "[WARNING 24-05-30 17:33:15.5577 CEST gradient_boosted_trees.cc:1865] \"selective_gradient_boosting_ratio\" set but \"sampling_method\" not equal to \"SELGB\".\n"
     ]
    },
    {
     "name": "stdout",
     "output_type": "stream",
     "text": [
      "Training dataset read in 0:00:00.239812. Found 13209 examples.\n",
      "Training model...\n",
      "Model trained in 0:00:00.299620\n",
      "Compiling model...\n",
      "Model compiled.\n",
      "Use /var/folders/3r/pzt2_p_x2xdfl2057nxkp3nm0000gn/T/tmpnb209kcw as temporary training directory\n",
      "Reading training dataset...\n"
     ]
    },
    {
     "name": "stderr",
     "output_type": "stream",
     "text": [
      "[INFO 24-05-30 17:33:16.1087 CEST kernel.cc:1233] Loading model from path /var/folders/3r/pzt2_p_x2xdfl2057nxkp3nm0000gn/T/tmp2au02lyf/model/ with prefix 22d0aab4a16c4aa4\n",
      "[INFO 24-05-30 17:33:16.1100 CEST kernel.cc:1061] Use fast generic engine\n",
      "[WARNING 24-05-30 17:33:16.1857 CEST gradient_boosted_trees.cc:1840] \"goss_alpha\" set but \"sampling_method\" not equal to \"GOSS\".\n",
      "[WARNING 24-05-30 17:33:16.1858 CEST gradient_boosted_trees.cc:1851] \"goss_beta\" set but \"sampling_method\" not equal to \"GOSS\".\n",
      "[WARNING 24-05-30 17:33:16.1858 CEST gradient_boosted_trees.cc:1865] \"selective_gradient_boosting_ratio\" set but \"sampling_method\" not equal to \"SELGB\".\n"
     ]
    },
    {
     "name": "stdout",
     "output_type": "stream",
     "text": [
      "Training dataset read in 0:00:00.263595. Found 13209 examples.\n",
      "Training model...\n",
      "Model trained in 0:00:00.189893\n",
      "Compiling model...\n",
      "Model compiled.\n",
      "Use /var/folders/3r/pzt2_p_x2xdfl2057nxkp3nm0000gn/T/tmp4pm711f3 as temporary training directory\n",
      "Reading training dataset...\n"
     ]
    },
    {
     "name": "stderr",
     "output_type": "stream",
     "text": [
      "[INFO 24-05-30 17:33:16.6453 CEST kernel.cc:1233] Loading model from path /var/folders/3r/pzt2_p_x2xdfl2057nxkp3nm0000gn/T/tmpnb209kcw/model/ with prefix fa469688bb564e5a\n",
      "[INFO 24-05-30 17:33:16.6462 CEST kernel.cc:1061] Use fast generic engine\n",
      "[WARNING 24-05-30 17:33:16.7249 CEST gradient_boosted_trees.cc:1840] \"goss_alpha\" set but \"sampling_method\" not equal to \"GOSS\".\n",
      "[WARNING 24-05-30 17:33:16.7249 CEST gradient_boosted_trees.cc:1851] \"goss_beta\" set but \"sampling_method\" not equal to \"GOSS\".\n",
      "[WARNING 24-05-30 17:33:16.7249 CEST gradient_boosted_trees.cc:1865] \"selective_gradient_boosting_ratio\" set but \"sampling_method\" not equal to \"SELGB\".\n"
     ]
    },
    {
     "name": "stdout",
     "output_type": "stream",
     "text": [
      "Training dataset read in 0:00:00.236897. Found 13209 examples.\n",
      "Training model...\n",
      "Model trained in 0:00:00.370911\n",
      "Compiling model...\n",
      "Model compiled.\n",
      "Use /var/folders/3r/pzt2_p_x2xdfl2057nxkp3nm0000gn/T/tmpcxz8ag5n as temporary training directory\n",
      "Reading training dataset...\n"
     ]
    },
    {
     "name": "stderr",
     "output_type": "stream",
     "text": [
      "[INFO 24-05-30 17:33:17.3382 CEST kernel.cc:1233] Loading model from path /var/folders/3r/pzt2_p_x2xdfl2057nxkp3nm0000gn/T/tmp4pm711f3/model/ with prefix 3e8089445b2e429c\n",
      "[INFO 24-05-30 17:33:17.3398 CEST kernel.cc:1061] Use fast generic engine\n",
      "[WARNING 24-05-30 17:33:17.4171 CEST gradient_boosted_trees.cc:1840] \"goss_alpha\" set but \"sampling_method\" not equal to \"GOSS\".\n",
      "[WARNING 24-05-30 17:33:17.4171 CEST gradient_boosted_trees.cc:1851] \"goss_beta\" set but \"sampling_method\" not equal to \"GOSS\".\n",
      "[WARNING 24-05-30 17:33:17.4172 CEST gradient_boosted_trees.cc:1865] \"selective_gradient_boosting_ratio\" set but \"sampling_method\" not equal to \"SELGB\".\n"
     ]
    },
    {
     "name": "stdout",
     "output_type": "stream",
     "text": [
      "Training dataset read in 0:00:00.267032. Found 13209 examples.\n",
      "Training model...\n",
      "Model trained in 0:00:00.334643\n",
      "Compiling model...\n",
      "Model compiled.\n",
      "Use /var/folders/3r/pzt2_p_x2xdfl2057nxkp3nm0000gn/T/tmpdtjyk341 as temporary training directory\n",
      "Reading training dataset...\n"
     ]
    },
    {
     "name": "stderr",
     "output_type": "stream",
     "text": [
      "[INFO 24-05-30 17:33:18.0242 CEST kernel.cc:1233] Loading model from path /var/folders/3r/pzt2_p_x2xdfl2057nxkp3nm0000gn/T/tmpcxz8ag5n/model/ with prefix 4cc28e6363dd46fd\n",
      "[INFO 24-05-30 17:33:18.0255 CEST kernel.cc:1061] Use fast generic engine\n",
      "[WARNING 24-05-30 17:33:18.1062 CEST gradient_boosted_trees.cc:1840] \"goss_alpha\" set but \"sampling_method\" not equal to \"GOSS\".\n",
      "[WARNING 24-05-30 17:33:18.1062 CEST gradient_boosted_trees.cc:1851] \"goss_beta\" set but \"sampling_method\" not equal to \"GOSS\".\n",
      "[WARNING 24-05-30 17:33:18.1062 CEST gradient_boosted_trees.cc:1865] \"selective_gradient_boosting_ratio\" set but \"sampling_method\" not equal to \"SELGB\".\n"
     ]
    },
    {
     "name": "stdout",
     "output_type": "stream",
     "text": [
      "Training dataset read in 0:00:00.240571. Found 13209 examples.\n",
      "Training model...\n",
      "Model trained in 0:00:00.163978\n",
      "Compiling model...\n",
      "Model compiled.\n",
      "Use /var/folders/3r/pzt2_p_x2xdfl2057nxkp3nm0000gn/T/tmpmdj4t_0c as temporary training directory\n",
      "Reading training dataset...\n"
     ]
    },
    {
     "name": "stderr",
     "output_type": "stream",
     "text": [
      "[INFO 24-05-30 17:33:18.5171 CEST kernel.cc:1233] Loading model from path /var/folders/3r/pzt2_p_x2xdfl2057nxkp3nm0000gn/T/tmpdtjyk341/model/ with prefix 2fd36817bdfa4e17\n",
      "[INFO 24-05-30 17:33:18.5179 CEST kernel.cc:1061] Use fast generic engine\n",
      "[WARNING 24-05-30 17:33:18.5974 CEST gradient_boosted_trees.cc:1840] \"goss_alpha\" set but \"sampling_method\" not equal to \"GOSS\".\n",
      "[WARNING 24-05-30 17:33:18.5974 CEST gradient_boosted_trees.cc:1851] \"goss_beta\" set but \"sampling_method\" not equal to \"GOSS\".\n",
      "[WARNING 24-05-30 17:33:18.5974 CEST gradient_boosted_trees.cc:1865] \"selective_gradient_boosting_ratio\" set but \"sampling_method\" not equal to \"SELGB\".\n"
     ]
    },
    {
     "name": "stdout",
     "output_type": "stream",
     "text": [
      "Training dataset read in 0:00:00.243474. Found 13209 examples.\n",
      "Training model...\n",
      "Model trained in 0:00:00.290861\n",
      "Compiling model...\n",
      "Model compiled.\n",
      "Use /var/folders/3r/pzt2_p_x2xdfl2057nxkp3nm0000gn/T/tmphgbwga1j as temporary training directory\n",
      "Reading training dataset...\n"
     ]
    },
    {
     "name": "stderr",
     "output_type": "stream",
     "text": [
      "[INFO 24-05-30 17:33:19.1375 CEST kernel.cc:1233] Loading model from path /var/folders/3r/pzt2_p_x2xdfl2057nxkp3nm0000gn/T/tmpmdj4t_0c/model/ with prefix e93067448f914446\n",
      "[INFO 24-05-30 17:33:19.1387 CEST kernel.cc:1061] Use fast generic engine\n",
      "[WARNING 24-05-30 17:33:19.2157 CEST gradient_boosted_trees.cc:1840] \"goss_alpha\" set but \"sampling_method\" not equal to \"GOSS\".\n",
      "[WARNING 24-05-30 17:33:19.2157 CEST gradient_boosted_trees.cc:1851] \"goss_beta\" set but \"sampling_method\" not equal to \"GOSS\".\n",
      "[WARNING 24-05-30 17:33:19.2158 CEST gradient_boosted_trees.cc:1865] \"selective_gradient_boosting_ratio\" set but \"sampling_method\" not equal to \"SELGB\".\n"
     ]
    },
    {
     "name": "stdout",
     "output_type": "stream",
     "text": [
      "Training dataset read in 0:00:00.240194. Found 13209 examples.\n",
      "Training model...\n",
      "Model trained in 0:00:00.268610\n",
      "Compiling model...\n",
      "Model compiled.\n",
      "Use /var/folders/3r/pzt2_p_x2xdfl2057nxkp3nm0000gn/T/tmpeh_9pwdj as temporary training directory\n",
      "Reading training dataset...\n"
     ]
    },
    {
     "name": "stderr",
     "output_type": "stream",
     "text": [
      "[INFO 24-05-30 17:33:19.7304 CEST kernel.cc:1233] Loading model from path /var/folders/3r/pzt2_p_x2xdfl2057nxkp3nm0000gn/T/tmphgbwga1j/model/ with prefix 725411500f994c68\n",
      "[INFO 24-05-30 17:33:19.7316 CEST kernel.cc:1061] Use fast generic engine\n",
      "[WARNING 24-05-30 17:33:19.8083 CEST gradient_boosted_trees.cc:1840] \"goss_alpha\" set but \"sampling_method\" not equal to \"GOSS\".\n",
      "[WARNING 24-05-30 17:33:19.8084 CEST gradient_boosted_trees.cc:1851] \"goss_beta\" set but \"sampling_method\" not equal to \"GOSS\".\n",
      "[WARNING 24-05-30 17:33:19.8084 CEST gradient_boosted_trees.cc:1865] \"selective_gradient_boosting_ratio\" set but \"sampling_method\" not equal to \"SELGB\".\n"
     ]
    },
    {
     "name": "stdout",
     "output_type": "stream",
     "text": [
      "Training dataset read in 0:00:00.241312. Found 13209 examples.\n",
      "Training model...\n",
      "Model trained in 0:00:00.341478\n",
      "Compiling model...\n",
      "Model compiled.\n",
      "Use /var/folders/3r/pzt2_p_x2xdfl2057nxkp3nm0000gn/T/tmp9i9uujld as temporary training directory\n",
      "Reading training dataset...\n"
     ]
    },
    {
     "name": "stderr",
     "output_type": "stream",
     "text": [
      "[INFO 24-05-30 17:33:20.3966 CEST kernel.cc:1233] Loading model from path /var/folders/3r/pzt2_p_x2xdfl2057nxkp3nm0000gn/T/tmpeh_9pwdj/model/ with prefix 23355f1291b34943\n",
      "[INFO 24-05-30 17:33:20.3981 CEST kernel.cc:1061] Use fast generic engine\n",
      "[WARNING 24-05-30 17:33:20.4721 CEST gradient_boosted_trees.cc:1840] \"goss_alpha\" set but \"sampling_method\" not equal to \"GOSS\".\n",
      "[WARNING 24-05-30 17:33:20.4722 CEST gradient_boosted_trees.cc:1851] \"goss_beta\" set but \"sampling_method\" not equal to \"GOSS\".\n",
      "[WARNING 24-05-30 17:33:20.4722 CEST gradient_boosted_trees.cc:1865] \"selective_gradient_boosting_ratio\" set but \"sampling_method\" not equal to \"SELGB\".\n"
     ]
    },
    {
     "name": "stdout",
     "output_type": "stream",
     "text": [
      "Training dataset read in 0:00:00.248474. Found 13209 examples.\n",
      "Training model...\n",
      "Model trained in 0:00:00.141591\n",
      "Compiling model...\n",
      "Model compiled.\n",
      "Use /var/folders/3r/pzt2_p_x2xdfl2057nxkp3nm0000gn/T/tmpjn2c09a_ as temporary training directory\n",
      "Reading training dataset...\n"
     ]
    },
    {
     "name": "stderr",
     "output_type": "stream",
     "text": [
      "[INFO 24-05-30 17:33:20.8689 CEST kernel.cc:1233] Loading model from path /var/folders/3r/pzt2_p_x2xdfl2057nxkp3nm0000gn/T/tmp9i9uujld/model/ with prefix 0d5ba1be08af491f\n",
      "[INFO 24-05-30 17:33:20.8696 CEST abstract_model.cc:1344] Engine \"GradientBoostedTreesQuickScorerExtended\" built\n",
      "[INFO 24-05-30 17:33:20.8696 CEST kernel.cc:1061] Use fast generic engine\n",
      "[WARNING 24-05-30 17:33:20.9451 CEST gradient_boosted_trees.cc:1840] \"goss_alpha\" set but \"sampling_method\" not equal to \"GOSS\".\n",
      "[WARNING 24-05-30 17:33:20.9451 CEST gradient_boosted_trees.cc:1851] \"goss_beta\" set but \"sampling_method\" not equal to \"GOSS\".\n",
      "[WARNING 24-05-30 17:33:20.9451 CEST gradient_boosted_trees.cc:1865] \"selective_gradient_boosting_ratio\" set but \"sampling_method\" not equal to \"SELGB\".\n"
     ]
    },
    {
     "name": "stdout",
     "output_type": "stream",
     "text": [
      "Training dataset read in 0:00:00.238656. Found 13209 examples.\n",
      "Training model...\n",
      "Model trained in 0:00:00.212825\n",
      "Compiling model...\n",
      "Model compiled.\n",
      "Use /var/folders/3r/pzt2_p_x2xdfl2057nxkp3nm0000gn/T/tmpf0_kmfzl as temporary training directory\n",
      "Reading training dataset...\n"
     ]
    },
    {
     "name": "stderr",
     "output_type": "stream",
     "text": [
      "[INFO 24-05-30 17:33:21.4026 CEST kernel.cc:1233] Loading model from path /var/folders/3r/pzt2_p_x2xdfl2057nxkp3nm0000gn/T/tmpjn2c09a_/model/ with prefix 53636ccf51964325\n",
      "[INFO 24-05-30 17:33:21.4036 CEST kernel.cc:1061] Use fast generic engine\n",
      "[WARNING 24-05-30 17:33:21.4775 CEST gradient_boosted_trees.cc:1840] \"goss_alpha\" set but \"sampling_method\" not equal to \"GOSS\".\n",
      "[WARNING 24-05-30 17:33:21.4775 CEST gradient_boosted_trees.cc:1851] \"goss_beta\" set but \"sampling_method\" not equal to \"GOSS\".\n",
      "[WARNING 24-05-30 17:33:21.4775 CEST gradient_boosted_trees.cc:1865] \"selective_gradient_boosting_ratio\" set but \"sampling_method\" not equal to \"SELGB\".\n"
     ]
    },
    {
     "name": "stdout",
     "output_type": "stream",
     "text": [
      "Training dataset read in 0:00:00.238818. Found 13209 examples.\n",
      "Training model...\n",
      "Model trained in 0:00:00.283870\n",
      "Compiling model...\n",
      "Model compiled.\n",
      "Use /var/folders/3r/pzt2_p_x2xdfl2057nxkp3nm0000gn/T/tmp5y7ahphn as temporary training directory\n",
      "Reading training dataset...\n"
     ]
    },
    {
     "name": "stderr",
     "output_type": "stream",
     "text": [
      "[INFO 24-05-30 17:33:22.0062 CEST kernel.cc:1233] Loading model from path /var/folders/3r/pzt2_p_x2xdfl2057nxkp3nm0000gn/T/tmpf0_kmfzl/model/ with prefix 4306e6ad17144ec4\n",
      "[INFO 24-05-30 17:33:22.0075 CEST kernel.cc:1061] Use fast generic engine\n",
      "[WARNING 24-05-30 17:33:22.0808 CEST gradient_boosted_trees.cc:1840] \"goss_alpha\" set but \"sampling_method\" not equal to \"GOSS\".\n",
      "[WARNING 24-05-30 17:33:22.0808 CEST gradient_boosted_trees.cc:1851] \"goss_beta\" set but \"sampling_method\" not equal to \"GOSS\".\n",
      "[WARNING 24-05-30 17:33:22.0808 CEST gradient_boosted_trees.cc:1865] \"selective_gradient_boosting_ratio\" set but \"sampling_method\" not equal to \"SELGB\".\n"
     ]
    },
    {
     "name": "stdout",
     "output_type": "stream",
     "text": [
      "Training dataset read in 0:00:00.233097. Found 13209 examples.\n",
      "Training model...\n",
      "Model trained in 0:00:00.325293\n",
      "Compiling model...\n",
      "Model compiled.\n",
      "Use /var/folders/3r/pzt2_p_x2xdfl2057nxkp3nm0000gn/T/tmprb6u_v4y as temporary training directory\n",
      "Reading training dataset...\n"
     ]
    },
    {
     "name": "stderr",
     "output_type": "stream",
     "text": [
      "[INFO 24-05-30 17:33:22.6450 CEST kernel.cc:1233] Loading model from path /var/folders/3r/pzt2_p_x2xdfl2057nxkp3nm0000gn/T/tmp5y7ahphn/model/ with prefix b27c3e35da4e46c9\n",
      "[INFO 24-05-30 17:33:22.6464 CEST kernel.cc:1061] Use fast generic engine\n",
      "[WARNING 24-05-30 17:33:22.7212 CEST gradient_boosted_trees.cc:1840] \"goss_alpha\" set but \"sampling_method\" not equal to \"GOSS\".\n",
      "[WARNING 24-05-30 17:33:22.7213 CEST gradient_boosted_trees.cc:1851] \"goss_beta\" set but \"sampling_method\" not equal to \"GOSS\".\n",
      "[WARNING 24-05-30 17:33:22.7213 CEST gradient_boosted_trees.cc:1865] \"selective_gradient_boosting_ratio\" set but \"sampling_method\" not equal to \"SELGB\".\n"
     ]
    },
    {
     "name": "stdout",
     "output_type": "stream",
     "text": [
      "Training dataset read in 0:00:00.301518. Found 13209 examples.\n",
      "Training model...\n",
      "Model trained in 0:00:00.198096\n",
      "Compiling model...\n",
      "Model compiled.\n",
      "Use /var/folders/3r/pzt2_p_x2xdfl2057nxkp3nm0000gn/T/tmpn2ph7vu7 as temporary training directory\n",
      "Reading training dataset...\n"
     ]
    },
    {
     "name": "stderr",
     "output_type": "stream",
     "text": [
      "[INFO 24-05-30 17:33:23.2270 CEST kernel.cc:1233] Loading model from path /var/folders/3r/pzt2_p_x2xdfl2057nxkp3nm0000gn/T/tmprb6u_v4y/model/ with prefix f89d48ff240849a5\n",
      "[INFO 24-05-30 17:33:23.2279 CEST kernel.cc:1061] Use fast generic engine\n",
      "[WARNING 24-05-30 17:33:23.3020 CEST gradient_boosted_trees.cc:1840] \"goss_alpha\" set but \"sampling_method\" not equal to \"GOSS\".\n",
      "[WARNING 24-05-30 17:33:23.3020 CEST gradient_boosted_trees.cc:1851] \"goss_beta\" set but \"sampling_method\" not equal to \"GOSS\".\n",
      "[WARNING 24-05-30 17:33:23.3020 CEST gradient_boosted_trees.cc:1865] \"selective_gradient_boosting_ratio\" set but \"sampling_method\" not equal to \"SELGB\".\n"
     ]
    },
    {
     "name": "stdout",
     "output_type": "stream",
     "text": [
      "Training dataset read in 0:00:00.238443. Found 13209 examples.\n",
      "Training model...\n",
      "Model trained in 0:00:00.168517\n",
      "Compiling model...\n",
      "Model compiled.\n",
      "Use /var/folders/3r/pzt2_p_x2xdfl2057nxkp3nm0000gn/T/tmpah_hkdhj as temporary training directory\n",
      "Reading training dataset...\n"
     ]
    },
    {
     "name": "stderr",
     "output_type": "stream",
     "text": [
      "[INFO 24-05-30 17:33:23.7155 CEST kernel.cc:1233] Loading model from path /var/folders/3r/pzt2_p_x2xdfl2057nxkp3nm0000gn/T/tmpn2ph7vu7/model/ with prefix 96a550212a7b4fa2\n",
      "[INFO 24-05-30 17:33:23.7163 CEST kernel.cc:1061] Use fast generic engine\n",
      "[WARNING 24-05-30 17:33:23.7914 CEST gradient_boosted_trees.cc:1840] \"goss_alpha\" set but \"sampling_method\" not equal to \"GOSS\".\n",
      "[WARNING 24-05-30 17:33:23.7914 CEST gradient_boosted_trees.cc:1851] \"goss_beta\" set but \"sampling_method\" not equal to \"GOSS\".\n",
      "[WARNING 24-05-30 17:33:23.7914 CEST gradient_boosted_trees.cc:1865] \"selective_gradient_boosting_ratio\" set but \"sampling_method\" not equal to \"SELGB\".\n"
     ]
    },
    {
     "name": "stdout",
     "output_type": "stream",
     "text": [
      "Training dataset read in 0:00:00.238176. Found 13209 examples.\n",
      "Training model...\n",
      "Model trained in 0:00:00.141542\n",
      "Compiling model...\n",
      "Model compiled.\n",
      "Use /var/folders/3r/pzt2_p_x2xdfl2057nxkp3nm0000gn/T/tmp0dtr0bqn as temporary training directory\n",
      "Reading training dataset...\n"
     ]
    },
    {
     "name": "stderr",
     "output_type": "stream",
     "text": [
      "[INFO 24-05-30 17:33:24.1778 CEST kernel.cc:1233] Loading model from path /var/folders/3r/pzt2_p_x2xdfl2057nxkp3nm0000gn/T/tmpah_hkdhj/model/ with prefix 4a7fde93734649b8\n",
      "[INFO 24-05-30 17:33:24.1785 CEST kernel.cc:1061] Use fast generic engine\n",
      "[WARNING 24-05-30 17:33:24.2528 CEST gradient_boosted_trees.cc:1840] \"goss_alpha\" set but \"sampling_method\" not equal to \"GOSS\".\n",
      "[WARNING 24-05-30 17:33:24.2528 CEST gradient_boosted_trees.cc:1851] \"goss_beta\" set but \"sampling_method\" not equal to \"GOSS\".\n",
      "[WARNING 24-05-30 17:33:24.2528 CEST gradient_boosted_trees.cc:1865] \"selective_gradient_boosting_ratio\" set but \"sampling_method\" not equal to \"SELGB\".\n"
     ]
    },
    {
     "name": "stdout",
     "output_type": "stream",
     "text": [
      "Training dataset read in 0:00:00.234724. Found 13209 examples.\n",
      "Training model...\n",
      "Model trained in 0:00:00.270932\n",
      "Compiling model...\n",
      "Model compiled.\n",
      "Use /var/folders/3r/pzt2_p_x2xdfl2057nxkp3nm0000gn/T/tmpz_ohsefj as temporary training directory\n",
      "Reading training dataset...\n"
     ]
    },
    {
     "name": "stderr",
     "output_type": "stream",
     "text": [
      "[INFO 24-05-30 17:33:24.7648 CEST kernel.cc:1233] Loading model from path /var/folders/3r/pzt2_p_x2xdfl2057nxkp3nm0000gn/T/tmp0dtr0bqn/model/ with prefix b68c22fe7e65430c\n",
      "[INFO 24-05-30 17:33:24.7659 CEST kernel.cc:1061] Use fast generic engine\n",
      "[WARNING 24-05-30 17:33:24.8401 CEST gradient_boosted_trees.cc:1840] \"goss_alpha\" set but \"sampling_method\" not equal to \"GOSS\".\n",
      "[WARNING 24-05-30 17:33:24.8401 CEST gradient_boosted_trees.cc:1851] \"goss_beta\" set but \"sampling_method\" not equal to \"GOSS\".\n",
      "[WARNING 24-05-30 17:33:24.8401 CEST gradient_boosted_trees.cc:1865] \"selective_gradient_boosting_ratio\" set but \"sampling_method\" not equal to \"SELGB\".\n"
     ]
    },
    {
     "name": "stdout",
     "output_type": "stream",
     "text": [
      "Training dataset read in 0:00:00.234468. Found 13209 examples.\n",
      "Training model...\n",
      "Model trained in 0:00:00.255255\n",
      "Compiling model...\n",
      "Model compiled.\n",
      "Use /var/folders/3r/pzt2_p_x2xdfl2057nxkp3nm0000gn/T/tmp_vpyvrhj as temporary training directory\n",
      "Reading training dataset...\n"
     ]
    },
    {
     "name": "stderr",
     "output_type": "stream",
     "text": [
      "[INFO 24-05-30 17:33:25.3355 CEST kernel.cc:1233] Loading model from path /var/folders/3r/pzt2_p_x2xdfl2057nxkp3nm0000gn/T/tmpz_ohsefj/model/ with prefix 15603a6575004633\n",
      "[INFO 24-05-30 17:33:25.3366 CEST kernel.cc:1061] Use fast generic engine\n",
      "[WARNING 24-05-30 17:33:25.4142 CEST gradient_boosted_trees.cc:1840] \"goss_alpha\" set but \"sampling_method\" not equal to \"GOSS\".\n",
      "[WARNING 24-05-30 17:33:25.4142 CEST gradient_boosted_trees.cc:1851] \"goss_beta\" set but \"sampling_method\" not equal to \"GOSS\".\n",
      "[WARNING 24-05-30 17:33:25.4142 CEST gradient_boosted_trees.cc:1865] \"selective_gradient_boosting_ratio\" set but \"sampling_method\" not equal to \"SELGB\".\n"
     ]
    },
    {
     "name": "stdout",
     "output_type": "stream",
     "text": [
      "Training dataset read in 0:00:00.247418. Found 13209 examples.\n",
      "Training model...\n",
      "Model trained in 0:00:00.389643\n",
      "Compiling model...\n",
      "Model compiled.\n",
      "Use /var/folders/3r/pzt2_p_x2xdfl2057nxkp3nm0000gn/T/tmp_pgcirag as temporary training directory\n",
      "Reading training dataset...\n"
     ]
    },
    {
     "name": "stderr",
     "output_type": "stream",
     "text": [
      "[INFO 24-05-30 17:33:26.0567 CEST kernel.cc:1233] Loading model from path /var/folders/3r/pzt2_p_x2xdfl2057nxkp3nm0000gn/T/tmp_vpyvrhj/model/ with prefix 131ed42ca0b8441e\n",
      "[INFO 24-05-30 17:33:26.0583 CEST kernel.cc:1061] Use fast generic engine\n",
      "[WARNING 24-05-30 17:33:26.1379 CEST gradient_boosted_trees.cc:1840] \"goss_alpha\" set but \"sampling_method\" not equal to \"GOSS\".\n",
      "[WARNING 24-05-30 17:33:26.1380 CEST gradient_boosted_trees.cc:1851] \"goss_beta\" set but \"sampling_method\" not equal to \"GOSS\".\n",
      "[WARNING 24-05-30 17:33:26.1380 CEST gradient_boosted_trees.cc:1865] \"selective_gradient_boosting_ratio\" set but \"sampling_method\" not equal to \"SELGB\".\n"
     ]
    },
    {
     "name": "stdout",
     "output_type": "stream",
     "text": [
      "Training dataset read in 0:00:00.239475. Found 13209 examples.\n",
      "Training model...\n",
      "Model trained in 0:00:00.142365\n",
      "Compiling model...\n",
      "Model compiled.\n",
      "Use /var/folders/3r/pzt2_p_x2xdfl2057nxkp3nm0000gn/T/tmpozdffhs8 as temporary training directory\n",
      "Reading training dataset...\n"
     ]
    },
    {
     "name": "stderr",
     "output_type": "stream",
     "text": [
      "[INFO 24-05-30 17:33:26.5264 CEST kernel.cc:1233] Loading model from path /var/folders/3r/pzt2_p_x2xdfl2057nxkp3nm0000gn/T/tmp_pgcirag/model/ with prefix a33508ef5d564d3d\n",
      "[INFO 24-05-30 17:33:26.5271 CEST kernel.cc:1061] Use fast generic engine\n",
      "[WARNING 24-05-30 17:33:26.6021 CEST gradient_boosted_trees.cc:1840] \"goss_alpha\" set but \"sampling_method\" not equal to \"GOSS\".\n",
      "[WARNING 24-05-30 17:33:26.6021 CEST gradient_boosted_trees.cc:1851] \"goss_beta\" set but \"sampling_method\" not equal to \"GOSS\".\n",
      "[WARNING 24-05-30 17:33:26.6021 CEST gradient_boosted_trees.cc:1865] \"selective_gradient_boosting_ratio\" set but \"sampling_method\" not equal to \"SELGB\".\n"
     ]
    },
    {
     "name": "stdout",
     "output_type": "stream",
     "text": [
      "Training dataset read in 0:00:00.237732. Found 13209 examples.\n",
      "Training model...\n",
      "Model trained in 0:00:00.137549\n",
      "Compiling model...\n",
      "Model compiled.\n",
      "Use /var/folders/3r/pzt2_p_x2xdfl2057nxkp3nm0000gn/T/tmpmnu91zbi as temporary training directory\n",
      "Reading training dataset...\n"
     ]
    },
    {
     "name": "stderr",
     "output_type": "stream",
     "text": [
      "[INFO 24-05-30 17:33:26.9839 CEST kernel.cc:1233] Loading model from path /var/folders/3r/pzt2_p_x2xdfl2057nxkp3nm0000gn/T/tmpozdffhs8/model/ with prefix 09a8eae9c2c342ab\n",
      "[INFO 24-05-30 17:33:26.9846 CEST kernel.cc:1061] Use fast generic engine\n",
      "[WARNING 24-05-30 17:33:27.0596 CEST gradient_boosted_trees.cc:1840] \"goss_alpha\" set but \"sampling_method\" not equal to \"GOSS\".\n",
      "[WARNING 24-05-30 17:33:27.0596 CEST gradient_boosted_trees.cc:1851] \"goss_beta\" set but \"sampling_method\" not equal to \"GOSS\".\n",
      "[WARNING 24-05-30 17:33:27.0596 CEST gradient_boosted_trees.cc:1865] \"selective_gradient_boosting_ratio\" set but \"sampling_method\" not equal to \"SELGB\".\n"
     ]
    },
    {
     "name": "stdout",
     "output_type": "stream",
     "text": [
      "Training dataset read in 0:00:00.239577. Found 13209 examples.\n",
      "Training model...\n",
      "Model trained in 0:00:00.114297\n",
      "Compiling model...\n",
      "Model compiled.\n",
      "Use /var/folders/3r/pzt2_p_x2xdfl2057nxkp3nm0000gn/T/tmp1v38mh2a as temporary training directory\n",
      "Reading training dataset...\n"
     ]
    },
    {
     "name": "stderr",
     "output_type": "stream",
     "text": [
      "[INFO 24-05-30 17:33:27.4202 CEST kernel.cc:1233] Loading model from path /var/folders/3r/pzt2_p_x2xdfl2057nxkp3nm0000gn/T/tmpmnu91zbi/model/ with prefix 222021bb35f346fc\n",
      "[INFO 24-05-30 17:33:27.4208 CEST kernel.cc:1061] Use fast generic engine\n",
      "[WARNING 24-05-30 17:33:27.4971 CEST gradient_boosted_trees.cc:1840] \"goss_alpha\" set but \"sampling_method\" not equal to \"GOSS\".\n",
      "[WARNING 24-05-30 17:33:27.4971 CEST gradient_boosted_trees.cc:1851] \"goss_beta\" set but \"sampling_method\" not equal to \"GOSS\".\n",
      "[WARNING 24-05-30 17:33:27.4971 CEST gradient_boosted_trees.cc:1865] \"selective_gradient_boosting_ratio\" set but \"sampling_method\" not equal to \"SELGB\".\n"
     ]
    },
    {
     "name": "stdout",
     "output_type": "stream",
     "text": [
      "Training dataset read in 0:00:00.240969. Found 13209 examples.\n",
      "Training model...\n",
      "Model trained in 0:00:00.100008\n",
      "Compiling model...\n",
      "Model compiled.\n",
      "Use /var/folders/3r/pzt2_p_x2xdfl2057nxkp3nm0000gn/T/tmprn7mwtm7 as temporary training directory\n",
      "Reading training dataset...\n"
     ]
    },
    {
     "name": "stderr",
     "output_type": "stream",
     "text": [
      "[INFO 24-05-30 17:33:27.8446 CEST kernel.cc:1233] Loading model from path /var/folders/3r/pzt2_p_x2xdfl2057nxkp3nm0000gn/T/tmp1v38mh2a/model/ with prefix 000f43d4967642c9\n",
      "[INFO 24-05-30 17:33:27.8452 CEST kernel.cc:1061] Use fast generic engine\n",
      "[WARNING 24-05-30 17:33:27.9189 CEST gradient_boosted_trees.cc:1840] \"goss_alpha\" set but \"sampling_method\" not equal to \"GOSS\".\n",
      "[WARNING 24-05-30 17:33:27.9189 CEST gradient_boosted_trees.cc:1851] \"goss_beta\" set but \"sampling_method\" not equal to \"GOSS\".\n",
      "[WARNING 24-05-30 17:33:27.9189 CEST gradient_boosted_trees.cc:1865] \"selective_gradient_boosting_ratio\" set but \"sampling_method\" not equal to \"SELGB\".\n"
     ]
    },
    {
     "name": "stdout",
     "output_type": "stream",
     "text": [
      "Training dataset read in 0:00:00.253746. Found 13209 examples.\n",
      "Training model...\n",
      "Model trained in 0:00:00.268960\n",
      "Compiling model...\n",
      "Model compiled.\n",
      "Use /var/folders/3r/pzt2_p_x2xdfl2057nxkp3nm0000gn/T/tmpot6eovdk as temporary training directory\n",
      "Reading training dataset...\n"
     ]
    },
    {
     "name": "stderr",
     "output_type": "stream",
     "text": [
      "[INFO 24-05-30 17:33:28.4475 CEST kernel.cc:1233] Loading model from path /var/folders/3r/pzt2_p_x2xdfl2057nxkp3nm0000gn/T/tmprn7mwtm7/model/ with prefix cb0a2799184e41e4\n",
      "[INFO 24-05-30 17:33:28.4487 CEST kernel.cc:1061] Use fast generic engine\n",
      "[WARNING 24-05-30 17:33:28.5263 CEST gradient_boosted_trees.cc:1840] \"goss_alpha\" set but \"sampling_method\" not equal to \"GOSS\".\n",
      "[WARNING 24-05-30 17:33:28.5264 CEST gradient_boosted_trees.cc:1851] \"goss_beta\" set but \"sampling_method\" not equal to \"GOSS\".\n",
      "[WARNING 24-05-30 17:33:28.5264 CEST gradient_boosted_trees.cc:1865] \"selective_gradient_boosting_ratio\" set but \"sampling_method\" not equal to \"SELGB\".\n"
     ]
    },
    {
     "name": "stdout",
     "output_type": "stream",
     "text": [
      "Training dataset read in 0:00:00.258570. Found 13209 examples.\n",
      "Training model...\n",
      "Model trained in 0:00:00.354009\n",
      "Compiling model...\n",
      "Model compiled.\n",
      "Use /var/folders/3r/pzt2_p_x2xdfl2057nxkp3nm0000gn/T/tmpkz1ifv3b as temporary training directory\n",
      "Reading training dataset...\n"
     ]
    },
    {
     "name": "stderr",
     "output_type": "stream",
     "text": [
      "[INFO 24-05-30 17:33:29.1449 CEST kernel.cc:1233] Loading model from path /var/folders/3r/pzt2_p_x2xdfl2057nxkp3nm0000gn/T/tmpot6eovdk/model/ with prefix 590c7a6e9267498c\n",
      "[INFO 24-05-30 17:33:29.1465 CEST kernel.cc:1061] Use fast generic engine\n",
      "[WARNING 24-05-30 17:33:29.2261 CEST gradient_boosted_trees.cc:1840] \"goss_alpha\" set but \"sampling_method\" not equal to \"GOSS\".\n",
      "[WARNING 24-05-30 17:33:29.2261 CEST gradient_boosted_trees.cc:1851] \"goss_beta\" set but \"sampling_method\" not equal to \"GOSS\".\n",
      "[WARNING 24-05-30 17:33:29.2261 CEST gradient_boosted_trees.cc:1865] \"selective_gradient_boosting_ratio\" set but \"sampling_method\" not equal to \"SELGB\".\n"
     ]
    },
    {
     "name": "stdout",
     "output_type": "stream",
     "text": [
      "Training dataset read in 0:00:00.257165. Found 13209 examples.\n",
      "Training model...\n",
      "Model trained in 0:00:00.382417\n",
      "Compiling model...\n",
      "Model compiled.\n",
      "Use /var/folders/3r/pzt2_p_x2xdfl2057nxkp3nm0000gn/T/tmpvbq25vdc as temporary training directory\n",
      "Reading training dataset...\n"
     ]
    },
    {
     "name": "stderr",
     "output_type": "stream",
     "text": [
      "[INFO 24-05-30 17:33:29.8710 CEST kernel.cc:1233] Loading model from path /var/folders/3r/pzt2_p_x2xdfl2057nxkp3nm0000gn/T/tmpkz1ifv3b/model/ with prefix 89a3105c2b25415d\n",
      "[INFO 24-05-30 17:33:29.8726 CEST kernel.cc:1061] Use fast generic engine\n",
      "[WARNING 24-05-30 17:33:29.9511 CEST gradient_boosted_trees.cc:1840] \"goss_alpha\" set but \"sampling_method\" not equal to \"GOSS\".\n",
      "[WARNING 24-05-30 17:33:29.9511 CEST gradient_boosted_trees.cc:1851] \"goss_beta\" set but \"sampling_method\" not equal to \"GOSS\".\n",
      "[WARNING 24-05-30 17:33:29.9511 CEST gradient_boosted_trees.cc:1865] \"selective_gradient_boosting_ratio\" set but \"sampling_method\" not equal to \"SELGB\".\n"
     ]
    },
    {
     "name": "stdout",
     "output_type": "stream",
     "text": [
      "Training dataset read in 0:00:00.250391. Found 13209 examples.\n",
      "Training model...\n",
      "Model trained in 0:00:00.419344\n",
      "Compiling model...\n",
      "Model compiled.\n",
      "Use /var/folders/3r/pzt2_p_x2xdfl2057nxkp3nm0000gn/T/tmpnv8x7_nx as temporary training directory\n",
      "Reading training dataset...\n"
     ]
    },
    {
     "name": "stderr",
     "output_type": "stream",
     "text": [
      "[INFO 24-05-30 17:33:30.6259 CEST kernel.cc:1233] Loading model from path /var/folders/3r/pzt2_p_x2xdfl2057nxkp3nm0000gn/T/tmpvbq25vdc/model/ with prefix 48247809705d4fd0\n",
      "[INFO 24-05-30 17:33:30.6276 CEST kernel.cc:1061] Use fast generic engine\n",
      "[WARNING 24-05-30 17:33:30.7082 CEST gradient_boosted_trees.cc:1840] \"goss_alpha\" set but \"sampling_method\" not equal to \"GOSS\".\n",
      "[WARNING 24-05-30 17:33:30.7082 CEST gradient_boosted_trees.cc:1851] \"goss_beta\" set but \"sampling_method\" not equal to \"GOSS\".\n",
      "[WARNING 24-05-30 17:33:30.7082 CEST gradient_boosted_trees.cc:1865] \"selective_gradient_boosting_ratio\" set but \"sampling_method\" not equal to \"SELGB\".\n"
     ]
    },
    {
     "name": "stdout",
     "output_type": "stream",
     "text": [
      "Training dataset read in 0:00:00.244309. Found 13209 examples.\n",
      "Training model...\n",
      "Model trained in 0:00:00.229228\n",
      "Compiling model...\n",
      "Model compiled.\n",
      "Use /var/folders/3r/pzt2_p_x2xdfl2057nxkp3nm0000gn/T/tmpt5fsbi0k as temporary training directory\n",
      "Reading training dataset...\n"
     ]
    },
    {
     "name": "stderr",
     "output_type": "stream",
     "text": [
      "[INFO 24-05-30 17:33:31.1879 CEST kernel.cc:1233] Loading model from path /var/folders/3r/pzt2_p_x2xdfl2057nxkp3nm0000gn/T/tmpnv8x7_nx/model/ with prefix 1961633bf1164a85\n",
      "[INFO 24-05-30 17:33:31.1889 CEST abstract_model.cc:1344] Engine \"GradientBoostedTreesQuickScorerExtended\" built\n",
      "[INFO 24-05-30 17:33:31.1889 CEST kernel.cc:1061] Use fast generic engine\n",
      "[WARNING 24-05-30 17:33:31.2687 CEST gradient_boosted_trees.cc:1840] \"goss_alpha\" set but \"sampling_method\" not equal to \"GOSS\".\n",
      "[WARNING 24-05-30 17:33:31.2687 CEST gradient_boosted_trees.cc:1851] \"goss_beta\" set but \"sampling_method\" not equal to \"GOSS\".\n",
      "[WARNING 24-05-30 17:33:31.2687 CEST gradient_boosted_trees.cc:1865] \"selective_gradient_boosting_ratio\" set but \"sampling_method\" not equal to \"SELGB\".\n"
     ]
    },
    {
     "name": "stdout",
     "output_type": "stream",
     "text": [
      "Training dataset read in 0:00:00.249502. Found 13209 examples.\n",
      "Training model...\n",
      "Model trained in 0:00:00.366593\n",
      "Compiling model...\n",
      "Model compiled.\n",
      "Use /var/folders/3r/pzt2_p_x2xdfl2057nxkp3nm0000gn/T/tmprm8al_my as temporary training directory\n",
      "Reading training dataset...\n"
     ]
    },
    {
     "name": "stderr",
     "output_type": "stream",
     "text": [
      "[INFO 24-05-30 17:33:31.8909 CEST kernel.cc:1233] Loading model from path /var/folders/3r/pzt2_p_x2xdfl2057nxkp3nm0000gn/T/tmpt5fsbi0k/model/ with prefix b77512ed1fba481a\n",
      "[INFO 24-05-30 17:33:31.8922 CEST kernel.cc:1061] Use fast generic engine\n",
      "[WARNING 24-05-30 17:33:31.9679 CEST gradient_boosted_trees.cc:1840] \"goss_alpha\" set but \"sampling_method\" not equal to \"GOSS\".\n",
      "[WARNING 24-05-30 17:33:31.9679 CEST gradient_boosted_trees.cc:1851] \"goss_beta\" set but \"sampling_method\" not equal to \"GOSS\".\n",
      "[WARNING 24-05-30 17:33:31.9680 CEST gradient_boosted_trees.cc:1865] \"selective_gradient_boosting_ratio\" set but \"sampling_method\" not equal to \"SELGB\".\n"
     ]
    },
    {
     "name": "stdout",
     "output_type": "stream",
     "text": [
      "Training dataset read in 0:00:00.239647. Found 13209 examples.\n",
      "Training model...\n",
      "Model trained in 0:00:00.265222\n",
      "Compiling model...\n",
      "Model compiled.\n",
      "Use /var/folders/3r/pzt2_p_x2xdfl2057nxkp3nm0000gn/T/tmpwj5xn0ng as temporary training directory\n",
      "Reading training dataset...\n"
     ]
    },
    {
     "name": "stderr",
     "output_type": "stream",
     "text": [
      "[INFO 24-05-30 17:33:32.4791 CEST kernel.cc:1233] Loading model from path /var/folders/3r/pzt2_p_x2xdfl2057nxkp3nm0000gn/T/tmprm8al_my/model/ with prefix 0fcdc25440274ab1\n",
      "[INFO 24-05-30 17:33:32.4803 CEST kernel.cc:1061] Use fast generic engine\n",
      "[WARNING 24-05-30 17:33:32.5562 CEST gradient_boosted_trees.cc:1840] \"goss_alpha\" set but \"sampling_method\" not equal to \"GOSS\".\n",
      "[WARNING 24-05-30 17:33:32.5562 CEST gradient_boosted_trees.cc:1851] \"goss_beta\" set but \"sampling_method\" not equal to \"GOSS\".\n",
      "[WARNING 24-05-30 17:33:32.5562 CEST gradient_boosted_trees.cc:1865] \"selective_gradient_boosting_ratio\" set but \"sampling_method\" not equal to \"SELGB\".\n"
     ]
    },
    {
     "name": "stdout",
     "output_type": "stream",
     "text": [
      "Training dataset read in 0:00:00.240978. Found 13209 examples.\n",
      "Training model...\n",
      "Model trained in 0:00:00.343413\n",
      "Compiling model...\n",
      "Model compiled.\n",
      "Use /var/folders/3r/pzt2_p_x2xdfl2057nxkp3nm0000gn/T/tmpb4kmljin as temporary training directory\n",
      "Reading training dataset...\n"
     ]
    },
    {
     "name": "stderr",
     "output_type": "stream",
     "text": [
      "[INFO 24-05-30 17:33:33.1463 CEST kernel.cc:1233] Loading model from path /var/folders/3r/pzt2_p_x2xdfl2057nxkp3nm0000gn/T/tmpwj5xn0ng/model/ with prefix 4a58b865f452400e\n",
      "[INFO 24-05-30 17:33:33.1477 CEST kernel.cc:1061] Use fast generic engine\n",
      "[WARNING 24-05-30 17:33:33.2240 CEST gradient_boosted_trees.cc:1840] \"goss_alpha\" set but \"sampling_method\" not equal to \"GOSS\".\n",
      "[WARNING 24-05-30 17:33:33.2240 CEST gradient_boosted_trees.cc:1851] \"goss_beta\" set but \"sampling_method\" not equal to \"GOSS\".\n",
      "[WARNING 24-05-30 17:33:33.2240 CEST gradient_boosted_trees.cc:1865] \"selective_gradient_boosting_ratio\" set but \"sampling_method\" not equal to \"SELGB\".\n"
     ]
    },
    {
     "name": "stdout",
     "output_type": "stream",
     "text": [
      "Training dataset read in 0:00:00.235481. Found 13209 examples.\n",
      "Training model...\n",
      "Model trained in 0:00:00.348078\n",
      "Compiling model...\n",
      "Model compiled.\n",
      "Use /var/folders/3r/pzt2_p_x2xdfl2057nxkp3nm0000gn/T/tmp2kbpkmri as temporary training directory\n",
      "Reading training dataset...\n"
     ]
    },
    {
     "name": "stderr",
     "output_type": "stream",
     "text": [
      "[INFO 24-05-30 17:33:33.8132 CEST kernel.cc:1233] Loading model from path /var/folders/3r/pzt2_p_x2xdfl2057nxkp3nm0000gn/T/tmpb4kmljin/model/ with prefix 11c84b3eb9b94030\n",
      "[INFO 24-05-30 17:33:33.8147 CEST kernel.cc:1061] Use fast generic engine\n",
      "[WARNING 24-05-30 17:33:33.8886 CEST gradient_boosted_trees.cc:1840] \"goss_alpha\" set but \"sampling_method\" not equal to \"GOSS\".\n",
      "[WARNING 24-05-30 17:33:33.8886 CEST gradient_boosted_trees.cc:1851] \"goss_beta\" set but \"sampling_method\" not equal to \"GOSS\".\n",
      "[WARNING 24-05-30 17:33:33.8886 CEST gradient_boosted_trees.cc:1865] \"selective_gradient_boosting_ratio\" set but \"sampling_method\" not equal to \"SELGB\".\n"
     ]
    },
    {
     "name": "stdout",
     "output_type": "stream",
     "text": [
      "Training dataset read in 0:00:00.248480. Found 13209 examples.\n",
      "Training model...\n",
      "Model trained in 0:00:00.320604\n",
      "Compiling model...\n",
      "Model compiled.\n",
      "Use /var/folders/3r/pzt2_p_x2xdfl2057nxkp3nm0000gn/T/tmpr4aa590f as temporary training directory\n",
      "Reading training dataset...\n"
     ]
    },
    {
     "name": "stderr",
     "output_type": "stream",
     "text": [
      "[INFO 24-05-30 17:33:34.4635 CEST kernel.cc:1233] Loading model from path /var/folders/3r/pzt2_p_x2xdfl2057nxkp3nm0000gn/T/tmp2kbpkmri/model/ with prefix 595c3a4ecc39431d\n",
      "[INFO 24-05-30 17:33:34.4650 CEST kernel.cc:1061] Use fast generic engine\n",
      "[WARNING 24-05-30 17:33:34.5410 CEST gradient_boosted_trees.cc:1840] \"goss_alpha\" set but \"sampling_method\" not equal to \"GOSS\".\n",
      "[WARNING 24-05-30 17:33:34.5410 CEST gradient_boosted_trees.cc:1851] \"goss_beta\" set but \"sampling_method\" not equal to \"GOSS\".\n",
      "[WARNING 24-05-30 17:33:34.5410 CEST gradient_boosted_trees.cc:1865] \"selective_gradient_boosting_ratio\" set but \"sampling_method\" not equal to \"SELGB\".\n"
     ]
    },
    {
     "name": "stdout",
     "output_type": "stream",
     "text": [
      "Training dataset read in 0:00:00.240971. Found 13209 examples.\n",
      "Training model...\n",
      "Model trained in 0:00:00.319361\n",
      "Compiling model...\n",
      "Model compiled.\n",
      "Use /var/folders/3r/pzt2_p_x2xdfl2057nxkp3nm0000gn/T/tmpy2u81nlr as temporary training directory\n",
      "Reading training dataset...\n"
     ]
    },
    {
     "name": "stderr",
     "output_type": "stream",
     "text": [
      "[INFO 24-05-30 17:33:35.1072 CEST kernel.cc:1233] Loading model from path /var/folders/3r/pzt2_p_x2xdfl2057nxkp3nm0000gn/T/tmpr4aa590f/model/ with prefix bdc94a8ba4a7417d\n",
      "[INFO 24-05-30 17:33:35.1086 CEST kernel.cc:1061] Use fast generic engine\n",
      "[WARNING 24-05-30 17:33:35.1863 CEST gradient_boosted_trees.cc:1840] \"goss_alpha\" set but \"sampling_method\" not equal to \"GOSS\".\n",
      "[WARNING 24-05-30 17:33:35.1863 CEST gradient_boosted_trees.cc:1851] \"goss_beta\" set but \"sampling_method\" not equal to \"GOSS\".\n",
      "[WARNING 24-05-30 17:33:35.1863 CEST gradient_boosted_trees.cc:1865] \"selective_gradient_boosting_ratio\" set but \"sampling_method\" not equal to \"SELGB\".\n"
     ]
    },
    {
     "name": "stdout",
     "output_type": "stream",
     "text": [
      "Training dataset read in 0:00:00.239600. Found 13209 examples.\n",
      "Training model...\n",
      "Model trained in 0:00:00.361283\n",
      "Compiling model...\n",
      "Model compiled.\n",
      "Use /var/folders/3r/pzt2_p_x2xdfl2057nxkp3nm0000gn/T/tmpa1rcq62o as temporary training directory\n",
      "Reading training dataset...\n"
     ]
    },
    {
     "name": "stderr",
     "output_type": "stream",
     "text": [
      "[INFO 24-05-30 17:33:35.7932 CEST kernel.cc:1233] Loading model from path /var/folders/3r/pzt2_p_x2xdfl2057nxkp3nm0000gn/T/tmpy2u81nlr/model/ with prefix 58696d38450f4910\n",
      "[INFO 24-05-30 17:33:35.7946 CEST kernel.cc:1061] Use fast generic engine\n",
      "[WARNING 24-05-30 17:33:35.8681 CEST gradient_boosted_trees.cc:1840] \"goss_alpha\" set but \"sampling_method\" not equal to \"GOSS\".\n",
      "[WARNING 24-05-30 17:33:35.8682 CEST gradient_boosted_trees.cc:1851] \"goss_beta\" set but \"sampling_method\" not equal to \"GOSS\".\n",
      "[WARNING 24-05-30 17:33:35.8682 CEST gradient_boosted_trees.cc:1865] \"selective_gradient_boosting_ratio\" set but \"sampling_method\" not equal to \"SELGB\".\n"
     ]
    },
    {
     "name": "stdout",
     "output_type": "stream",
     "text": [
      "Training dataset read in 0:00:00.237154. Found 13209 examples.\n",
      "Training model...\n",
      "Model trained in 0:00:00.182316\n",
      "Compiling model...\n",
      "Model compiled.\n",
      "Use /var/folders/3r/pzt2_p_x2xdfl2057nxkp3nm0000gn/T/tmpmynrlie6 as temporary training directory\n",
      "Reading training dataset...\n"
     ]
    },
    {
     "name": "stderr",
     "output_type": "stream",
     "text": [
      "[INFO 24-05-30 17:33:36.2943 CEST kernel.cc:1233] Loading model from path /var/folders/3r/pzt2_p_x2xdfl2057nxkp3nm0000gn/T/tmpa1rcq62o/model/ with prefix a3c25eee3ab04e8b\n",
      "[INFO 24-05-30 17:33:36.2952 CEST kernel.cc:1061] Use fast generic engine\n",
      "[WARNING 24-05-30 17:33:36.3685 CEST gradient_boosted_trees.cc:1840] \"goss_alpha\" set but \"sampling_method\" not equal to \"GOSS\".\n",
      "[WARNING 24-05-30 17:33:36.3685 CEST gradient_boosted_trees.cc:1851] \"goss_beta\" set but \"sampling_method\" not equal to \"GOSS\".\n",
      "[WARNING 24-05-30 17:33:36.3685 CEST gradient_boosted_trees.cc:1865] \"selective_gradient_boosting_ratio\" set but \"sampling_method\" not equal to \"SELGB\".\n"
     ]
    },
    {
     "name": "stdout",
     "output_type": "stream",
     "text": [
      "Training dataset read in 0:00:00.236004. Found 13209 examples.\n",
      "Training model...\n",
      "Model trained in 0:00:00.305750\n",
      "Compiling model...\n",
      "Model compiled.\n"
     ]
    },
    {
     "name": "stderr",
     "output_type": "stream",
     "text": [
      "[INFO 24-05-30 17:33:36.9164 CEST kernel.cc:1233] Loading model from path /var/folders/3r/pzt2_p_x2xdfl2057nxkp3nm0000gn/T/tmpmynrlie6/model/ with prefix 7a0dc775fd0d4c0b\n",
      "[INFO 24-05-30 17:33:36.9177 CEST kernel.cc:1061] Use fast generic engine\n"
     ]
    }
   ],
   "source": [
    "gbt_model.fit(X_train_scaled, y_train)"
   ],
   "metadata": {
    "collapsed": false,
    "ExecuteTime": {
     "end_time": "2024-05-30T15:33:37.020966Z",
     "start_time": "2024-05-30T15:32:48.729650Z"
    }
   },
   "id": "863d540db7ca3707"
  },
  {
   "cell_type": "code",
   "execution_count": 386,
   "outputs": [
    {
     "name": "stdout",
     "output_type": "stream",
     "text": [
      "129/129 [==============================] - 0s 565us/step\n",
      "129/129 [==============================] - 0s 523us/step\n",
      "129/129 [==============================] - 0s 532us/step\n",
      "129/129 [==============================] - 0s 544us/step\n",
      "129/129 [==============================] - 0s 556us/step\n",
      "129/129 [==============================] - 0s 558us/step\n",
      "129/129 [==============================] - 0s 550us/step\n",
      "129/129 [==============================] - 0s 551us/step\n",
      "129/129 [==============================] - 0s 592us/step\n",
      "129/129 [==============================] - 0s 524us/step\n",
      "129/129 [==============================] - 0s 517us/step\n",
      "129/129 [==============================] - 0s 514us/step\n",
      "129/129 [==============================] - 0s 563us/step\n",
      "129/129 [==============================] - 0s 521us/step\n",
      "129/129 [==============================] - 0s 506us/step\n",
      "129/129 [==============================] - 0s 513us/step\n",
      "129/129 [==============================] - 0s 547us/step\n",
      "129/129 [==============================] - 0s 524us/step\n",
      "129/129 [==============================] - 0s 519us/step\n",
      "129/129 [==============================] - 0s 522us/step\n",
      "129/129 [==============================] - 0s 537us/step\n",
      "129/129 [==============================] - 0s 510us/step\n",
      "129/129 [==============================] - 0s 518us/step\n",
      "129/129 [==============================] - 0s 508us/step\n",
      "129/129 [==============================] - 0s 546us/step\n",
      "129/129 [==============================] - 0s 513us/step\n",
      "129/129 [==============================] - 0s 503us/step\n",
      "129/129 [==============================] - 0s 507us/step\n",
      "129/129 [==============================] - 0s 499us/step\n",
      "129/129 [==============================] - 0s 514us/step\n",
      "129/129 [==============================] - 0s 529us/step\n",
      "129/129 [==============================] - 0s 524us/step\n",
      "129/129 [==============================] - 0s 526us/step\n",
      "129/129 [==============================] - 0s 528us/step\n",
      "129/129 [==============================] - 0s 522us/step\n",
      "129/129 [==============================] - 0s 504us/step\n",
      "129/129 [==============================] - 0s 530us/step\n",
      "129/129 [==============================] - 0s 508us/step\n",
      "129/129 [==============================] - 0s 518us/step\n",
      "129/129 [==============================] - 0s 565us/step\n",
      "129/129 [==============================] - 0s 550us/step\n",
      "129/129 [==============================] - 0s 561us/step\n",
      "129/129 [==============================] - 0s 553us/step\n",
      "129/129 [==============================] - 0s 515us/step\n",
      "129/129 [==============================] - 0s 520us/step\n",
      "129/129 [==============================] - 0s 512us/step\n",
      "129/129 [==============================] - 0s 509us/step\n",
      "129/129 [==============================] - 0s 512us/step\n",
      "129/129 [==============================] - 0s 519us/step\n",
      "129/129 [==============================] - 0s 518us/step\n",
      "129/129 [==============================] - 0s 519us/step\n",
      "129/129 [==============================] - 0s 522us/step\n",
      "129/129 [==============================] - 0s 519us/step\n",
      "129/129 [==============================] - 0s 530us/step\n",
      "129/129 [==============================] - 0s 511us/step\n",
      "129/129 [==============================] - 0s 511us/step\n",
      "129/129 [==============================] - 0s 512us/step\n",
      "129/129 [==============================] - 0s 501us/step\n",
      "129/129 [==============================] - 0s 514us/step\n",
      "129/129 [==============================] - 0s 504us/step\n",
      "129/129 [==============================] - 0s 513us/step\n",
      "129/129 [==============================] - 0s 522us/step\n",
      "129/129 [==============================] - 0s 515us/step\n",
      "129/129 [==============================] - 0s 504us/step\n",
      "129/129 [==============================] - 0s 513us/step\n",
      "129/129 [==============================] - 0s 537us/step\n",
      "129/129 [==============================] - 0s 508us/step\n",
      "129/129 [==============================] - 0s 513us/step\n",
      "129/129 [==============================] - 0s 517us/step\n",
      "129/129 [==============================] - 0s 553us/step\n",
      "129/129 [==============================] - 0s 508us/step\n",
      "129/129 [==============================] - 0s 515us/step\n",
      "129/129 [==============================] - 0s 512us/step\n",
      "129/129 [==============================] - 0s 556us/step\n",
      "129/129 [==============================] - 0s 507us/step\n",
      "129/129 [==============================] - 0s 516us/step\n",
      "129/129 [==============================] - 0s 524us/step\n",
      "129/129 [==============================] - 0s 557us/step\n",
      "129/129 [==============================] - 0s 508us/step\n",
      "129/129 [==============================] - 0s 507us/step\n"
     ]
    }
   ],
   "source": [
    "mean_predict, variance_predict = gbt_model.predict_mean(X_test_scaled)"
   ],
   "metadata": {
    "collapsed": false,
    "ExecuteTime": {
     "end_time": "2024-05-30T15:34:04.966273Z",
     "start_time": "2024-05-30T15:33:55.004570Z"
    }
   },
   "id": "7f14d9cb64beec5e"
  },
  {
   "cell_type": "code",
   "execution_count": 276,
   "outputs": [],
   "source": [
    "y_test_eval = np.array(y_test).flatten()\n",
    "y_pred_eval = mean_predict.numpy().flatten()"
   ],
   "metadata": {
    "collapsed": false,
    "ExecuteTime": {
     "end_time": "2024-05-30T13:15:23.782503Z",
     "start_time": "2024-05-30T13:15:23.772075Z"
    }
   },
   "id": "f41f786fdbdef1e0"
  },
  {
   "cell_type": "code",
   "execution_count": 277,
   "outputs": [
    {
     "name": "stdout",
     "output_type": "stream",
     "text": [
      "<dtype: 'float32'>\n"
     ]
    }
   ],
   "source": [
    "print(mean_predict.dtype)"
   ],
   "metadata": {
    "collapsed": false,
    "ExecuteTime": {
     "end_time": "2024-05-30T13:15:26.876615Z",
     "start_time": "2024-05-30T13:15:26.868804Z"
    }
   },
   "id": "b483a3116275bf4"
  },
  {
   "cell_type": "code",
   "execution_count": 188,
   "outputs": [
    {
     "name": "stdout",
     "output_type": "stream",
     "text": [
      "60781.94715085922\n"
     ]
    }
   ],
   "source": [
    "root_mse = np.sqrt(mean_squared_error(y_test_eval, y_pred_eval))\n",
    "print(root_mse)"
   ],
   "metadata": {
    "collapsed": false,
    "ExecuteTime": {
     "end_time": "2024-05-30T09:14:11.502079Z",
     "start_time": "2024-05-30T09:14:11.495588Z"
    }
   },
   "id": "c9c556db95d4d615"
  },
  {
   "cell_type": "code",
   "execution_count": 170,
   "outputs": [],
   "source": [
    "indices_max = tf.where(tf.equal(variance_predict, max(variance_predict)))\n",
    "index_max_uncertainty = indices_max[0][0]\n",
    "indices_min = tf.where(tf.equal(variance_predict, min(variance_predict)))\n",
    "index_min_uncertainty = indices_min[0][0]"
   ],
   "metadata": {
    "collapsed": false,
    "ExecuteTime": {
     "end_time": "2024-05-16T11:56:47.435946Z",
     "start_time": "2024-05-16T11:56:46.883016Z"
    }
   },
   "id": "2b7aeb41766bd293"
  },
  {
   "cell_type": "code",
   "execution_count": 171,
   "outputs": [
    {
     "ename": "InvalidIndexError",
     "evalue": "tf.Tensor(2886, shape=(), dtype=int64)",
     "output_type": "error",
     "traceback": [
      "\u001B[0;31m---------------------------------------------------------------------------\u001B[0m",
      "\u001B[0;31mTypeError\u001B[0m                                 Traceback (most recent call last)",
      "File \u001B[0;32m~/Library/Caches/pypoetry/virtualenvs/program-i-Fez0zm-py3.10/lib/python3.10/site-packages/pandas/core/indexes/base.py:3805\u001B[0m, in \u001B[0;36mIndex.get_loc\u001B[0;34m(self, key)\u001B[0m\n\u001B[1;32m   3804\u001B[0m \u001B[38;5;28;01mtry\u001B[39;00m:\n\u001B[0;32m-> 3805\u001B[0m     \u001B[38;5;28;01mreturn\u001B[39;00m \u001B[38;5;28;43mself\u001B[39;49m\u001B[38;5;241;43m.\u001B[39;49m\u001B[43m_engine\u001B[49m\u001B[38;5;241;43m.\u001B[39;49m\u001B[43mget_loc\u001B[49m\u001B[43m(\u001B[49m\u001B[43mcasted_key\u001B[49m\u001B[43m)\u001B[49m\n\u001B[1;32m   3806\u001B[0m \u001B[38;5;28;01mexcept\u001B[39;00m \u001B[38;5;167;01mKeyError\u001B[39;00m \u001B[38;5;28;01mas\u001B[39;00m err:\n",
      "File \u001B[0;32mindex.pyx:167\u001B[0m, in \u001B[0;36mpandas._libs.index.IndexEngine.get_loc\u001B[0;34m()\u001B[0m\n",
      "File \u001B[0;32mindex.pyx:173\u001B[0m, in \u001B[0;36mpandas._libs.index.IndexEngine.get_loc\u001B[0;34m()\u001B[0m\n",
      "\u001B[0;31mTypeError\u001B[0m: '2886' is an invalid key",
      "\nDuring handling of the above exception, another exception occurred:\n",
      "\u001B[0;31mInvalidIndexError\u001B[0m                         Traceback (most recent call last)",
      "Cell \u001B[0;32mIn[171], line 1\u001B[0m\n\u001B[0;32m----> 1\u001B[0m y_plot_m \u001B[38;5;241m=\u001B[39m [\u001B[43my_test\u001B[49m\u001B[43m[\u001B[49m\u001B[43mindex_min_uncertainty\u001B[49m\u001B[43m]\u001B[49m,y_test[index_max_uncertainty]]\n\u001B[1;32m      2\u001B[0m x_axis \u001B[38;5;241m=\u001B[39m np\u001B[38;5;241m.\u001B[39marange(\u001B[38;5;28mlen\u001B[39m(y_plot_m))\n\u001B[1;32m      3\u001B[0m y_mean_predict_m \u001B[38;5;241m=\u001B[39m [mean_predict[index_min_uncertainty], mean_predict[index_max_uncertainty]]\n",
      "File \u001B[0;32m~/Library/Caches/pypoetry/virtualenvs/program-i-Fez0zm-py3.10/lib/python3.10/site-packages/pandas/core/frame.py:4102\u001B[0m, in \u001B[0;36mDataFrame.__getitem__\u001B[0;34m(self, key)\u001B[0m\n\u001B[1;32m   4100\u001B[0m \u001B[38;5;28;01mif\u001B[39;00m \u001B[38;5;28mself\u001B[39m\u001B[38;5;241m.\u001B[39mcolumns\u001B[38;5;241m.\u001B[39mnlevels \u001B[38;5;241m>\u001B[39m \u001B[38;5;241m1\u001B[39m:\n\u001B[1;32m   4101\u001B[0m     \u001B[38;5;28;01mreturn\u001B[39;00m \u001B[38;5;28mself\u001B[39m\u001B[38;5;241m.\u001B[39m_getitem_multilevel(key)\n\u001B[0;32m-> 4102\u001B[0m indexer \u001B[38;5;241m=\u001B[39m \u001B[38;5;28;43mself\u001B[39;49m\u001B[38;5;241;43m.\u001B[39;49m\u001B[43mcolumns\u001B[49m\u001B[38;5;241;43m.\u001B[39;49m\u001B[43mget_loc\u001B[49m\u001B[43m(\u001B[49m\u001B[43mkey\u001B[49m\u001B[43m)\u001B[49m\n\u001B[1;32m   4103\u001B[0m \u001B[38;5;28;01mif\u001B[39;00m is_integer(indexer):\n\u001B[1;32m   4104\u001B[0m     indexer \u001B[38;5;241m=\u001B[39m [indexer]\n",
      "File \u001B[0;32m~/Library/Caches/pypoetry/virtualenvs/program-i-Fez0zm-py3.10/lib/python3.10/site-packages/pandas/core/indexes/base.py:3817\u001B[0m, in \u001B[0;36mIndex.get_loc\u001B[0;34m(self, key)\u001B[0m\n\u001B[1;32m   3812\u001B[0m     \u001B[38;5;28;01mraise\u001B[39;00m \u001B[38;5;167;01mKeyError\u001B[39;00m(key) \u001B[38;5;28;01mfrom\u001B[39;00m \u001B[38;5;21;01merr\u001B[39;00m\n\u001B[1;32m   3813\u001B[0m \u001B[38;5;28;01mexcept\u001B[39;00m \u001B[38;5;167;01mTypeError\u001B[39;00m:\n\u001B[1;32m   3814\u001B[0m     \u001B[38;5;66;03m# If we have a listlike key, _check_indexing_error will raise\u001B[39;00m\n\u001B[1;32m   3815\u001B[0m     \u001B[38;5;66;03m#  InvalidIndexError. Otherwise we fall through and re-raise\u001B[39;00m\n\u001B[1;32m   3816\u001B[0m     \u001B[38;5;66;03m#  the TypeError.\u001B[39;00m\n\u001B[0;32m-> 3817\u001B[0m     \u001B[38;5;28;43mself\u001B[39;49m\u001B[38;5;241;43m.\u001B[39;49m\u001B[43m_check_indexing_error\u001B[49m\u001B[43m(\u001B[49m\u001B[43mkey\u001B[49m\u001B[43m)\u001B[49m\n\u001B[1;32m   3818\u001B[0m     \u001B[38;5;28;01mraise\u001B[39;00m\n",
      "File \u001B[0;32m~/Library/Caches/pypoetry/virtualenvs/program-i-Fez0zm-py3.10/lib/python3.10/site-packages/pandas/core/indexes/base.py:6059\u001B[0m, in \u001B[0;36mIndex._check_indexing_error\u001B[0;34m(self, key)\u001B[0m\n\u001B[1;32m   6055\u001B[0m \u001B[38;5;28;01mdef\u001B[39;00m \u001B[38;5;21m_check_indexing_error\u001B[39m(\u001B[38;5;28mself\u001B[39m, key):\n\u001B[1;32m   6056\u001B[0m     \u001B[38;5;28;01mif\u001B[39;00m \u001B[38;5;129;01mnot\u001B[39;00m is_scalar(key):\n\u001B[1;32m   6057\u001B[0m         \u001B[38;5;66;03m# if key is not a scalar, directly raise an error (the code below\u001B[39;00m\n\u001B[1;32m   6058\u001B[0m         \u001B[38;5;66;03m# would convert to numpy arrays and raise later any way) - GH29926\u001B[39;00m\n\u001B[0;32m-> 6059\u001B[0m         \u001B[38;5;28;01mraise\u001B[39;00m InvalidIndexError(key)\n",
      "\u001B[0;31mInvalidIndexError\u001B[0m: tf.Tensor(2886, shape=(), dtype=int64)"
     ]
    }
   ],
   "source": [
    "y_plot_m = [y_test[index_min_uncertainty],y_test[index_max_uncertainty]]\n",
    "x_axis = np.arange(len(y_plot_m))\n",
    "y_mean_predict_m = [mean_predict[index_min_uncertainty], mean_predict[index_max_uncertainty]]\n",
    "y_std_predict_m = [variance_predict[index_min_uncertainty],variance_predict[index_max_uncertainty]]"
   ],
   "metadata": {
    "collapsed": false,
    "ExecuteTime": {
     "end_time": "2024-05-16T11:56:49.706405Z",
     "start_time": "2024-05-16T11:56:48.467410Z"
    }
   },
   "id": "21e9f72268ef6dfe"
  },
  {
   "cell_type": "code",
   "execution_count": 387,
   "outputs": [],
   "source": [
    "PLOT = 30"
   ],
   "metadata": {
    "collapsed": false,
    "ExecuteTime": {
     "end_time": "2024-05-30T15:34:26.005915Z",
     "start_time": "2024-05-30T15:34:25.998861Z"
    }
   },
   "id": "25a6a9d6cbbb6090"
  },
  {
   "cell_type": "code",
   "execution_count": 388,
   "outputs": [],
   "source": [
    "y_plot = y_test[:PLOT]\n",
    "x_axis = np.arange(len(y_plot))\n",
    "y_mean_predict = mean_predict[:PLOT].numpy()\n",
    "y_var_predict = variance_predict[:PLOT].numpy()"
   ],
   "metadata": {
    "collapsed": false,
    "ExecuteTime": {
     "end_time": "2024-05-30T15:34:27.236758Z",
     "start_time": "2024-05-30T15:34:27.217252Z"
    }
   },
   "id": "74fd541fd36ec6aa"
  },
  {
   "cell_type": "code",
   "execution_count": 389,
   "outputs": [
    {
     "data": {
      "text/plain": "<Figure size 800x600 with 1 Axes>",
      "image/png": "[encoded data removed]"
     },
     "metadata": {},
     "output_type": "display_data"
    }
   ],
   "source": [
    "plt.figure(figsize=(8, 6))\n",
    "plt.xlim(-1,PLOT)\n",
    "plt.scatter(x_axis, y_plot, color='lightblue', label=\"Ground Truth\")\n",
    "plt.scatter(x_axis, y_mean_predict.flatten(), color='pink', alpha=0.8, label='Mean Prediction')\n",
    "plt.errorbar(x_axis, y_mean_predict.flatten(), yerr=root_mse, fmt='none', ecolor='pink', label=\"Root MSE\")\n",
    "plt.errorbar(x_axis, y_mean_predict.flatten(), yerr=y_var_predict.flatten(), fmt='none', color='darkred', alpha=0.8, label=\"Uncertainty\")\n",
    "plt.ylabel('prices')\n",
    "plt.legend()\n",
    "plt.grid(True)  # Enable grid for better visualization\n",
    "plt.show()"
   ],
   "metadata": {
    "collapsed": false,
    "ExecuteTime": {
     "end_time": "2024-05-30T15:34:27.994350Z",
     "start_time": "2024-05-30T15:34:27.905256Z"
    }
   },
   "id": "2b6be11b4c924954"
  },
  {
   "cell_type": "code",
   "execution_count": null,
   "outputs": [],
   "source": [
    "# find the data points with the largest and smallest difference"
   ],
   "metadata": {
    "collapsed": false
   },
   "id": "8c2ef3ff296154aa"
  },
  {
   "cell_type": "code",
   "execution_count": 390,
   "outputs": [
    {
     "name": "stdout",
     "output_type": "stream",
     "text": [
      "    Median_House_Value\n",
      "29            366100.0\n"
     ]
    }
   ],
   "source": [
    "print(y_test.loc[[10]])"
   ],
   "metadata": {
    "collapsed": false,
    "ExecuteTime": {
     "end_time": "2024-05-30T15:34:42.768331Z",
     "start_time": "2024-05-30T15:34:42.734180Z"
    }
   },
   "id": "79a34fc3453ae2d3"
  },
  {
   "cell_type": "code",
   "execution_count": 395,
   "outputs": [
    {
     "name": "stdout",
     "output_type": "stream",
     "text": [
      "  1/157 [..............................] - ETA: 9s"
     ]
    },
    {
     "name": "stderr",
     "output_type": "stream",
     "text": [
      "/Users/ygao/Library/Caches/pypoetry/virtualenvs/program-i-Fez0zm-py3.10/lib/python3.10/site-packages/lime/discretize.py:110: FutureWarning: Series.__getitem__ treating keys as positions is deprecated. In a future version, integer keys will always be treated as labels (consistent with DataFrame behavior). To access a value by position, use `ser.iloc[pos]`\n",
      "  ret[feature] = int(self.lambdas[feature](ret[feature]))\n",
      "/Users/ygao/Library/Caches/pypoetry/virtualenvs/program-i-Fez0zm-py3.10/lib/python3.10/site-packages/lime/discretize.py:110: FutureWarning: Series.__setitem__ treating keys as positions is deprecated. In a future version, integer keys will always be treated as labels (consistent with DataFrame behavior). To set a value by position, use `ser.iloc[pos] = value`\n",
      "  ret[feature] = int(self.lambdas[feature](ret[feature]))\n",
      "/Users/ygao/Library/Caches/pypoetry/virtualenvs/program-i-Fez0zm-py3.10/lib/python3.10/site-packages/lime/lime_tabular.py:544: FutureWarning: Series.__getitem__ treating keys as positions is deprecated. In a future version, integer keys will always be treated as labels (consistent with DataFrame behavior). To access a value by position, use `ser.iloc[pos]`\n",
      "  binary_column = (inverse_column == first_row[column]).astype(int)\n"
     ]
    },
    {
     "name": "stdout",
     "output_type": "stream",
     "text": [
      "157/157 [==============================] - 0s 1ms/step\n",
      " 34/157 [=====>........................] - ETA: 0s "
     ]
    },
    {
     "name": "stderr",
     "output_type": "stream",
     "text": [
      "/Users/ygao/Library/Caches/pypoetry/virtualenvs/program-i-Fez0zm-py3.10/lib/python3.10/site-packages/lime/discretize.py:110: FutureWarning: Series.__getitem__ treating keys as positions is deprecated. In a future version, integer keys will always be treated as labels (consistent with DataFrame behavior). To access a value by position, use `ser.iloc[pos]`\n",
      "  ret[feature] = int(self.lambdas[feature](ret[feature]))\n",
      "/Users/ygao/Library/Caches/pypoetry/virtualenvs/program-i-Fez0zm-py3.10/lib/python3.10/site-packages/lime/discretize.py:110: FutureWarning: Series.__setitem__ treating keys as positions is deprecated. In a future version, integer keys will always be treated as labels (consistent with DataFrame behavior). To set a value by position, use `ser.iloc[pos] = value`\n",
      "  ret[feature] = int(self.lambdas[feature](ret[feature]))\n",
      "/Users/ygao/Library/Caches/pypoetry/virtualenvs/program-i-Fez0zm-py3.10/lib/python3.10/site-packages/lime/lime_tabular.py:427: FutureWarning: Series.__getitem__ treating keys as positions is deprecated. In a future version, integer keys will always be treated as labels (consistent with DataFrame behavior). To access a value by position, use `ser.iloc[pos]`\n",
      "  discretized_instance[f])]\n",
      "/Users/ygao/Library/Caches/pypoetry/virtualenvs/program-i-Fez0zm-py3.10/lib/python3.10/site-packages/lime/discretize.py:110: FutureWarning: Series.__getitem__ treating keys as positions is deprecated. In a future version, integer keys will always be treated as labels (consistent with DataFrame behavior). To access a value by position, use `ser.iloc[pos]`\n",
      "  ret[feature] = int(self.lambdas[feature](ret[feature]))\n",
      "/Users/ygao/Library/Caches/pypoetry/virtualenvs/program-i-Fez0zm-py3.10/lib/python3.10/site-packages/lime/discretize.py:110: FutureWarning: Series.__setitem__ treating keys as positions is deprecated. In a future version, integer keys will always be treated as labels (consistent with DataFrame behavior). To set a value by position, use `ser.iloc[pos] = value`\n",
      "  ret[feature] = int(self.lambdas[feature](ret[feature]))\n",
      "/Users/ygao/Library/Caches/pypoetry/virtualenvs/program-i-Fez0zm-py3.10/lib/python3.10/site-packages/lime/lime_tabular.py:544: FutureWarning: Series.__getitem__ treating keys as positions is deprecated. In a future version, integer keys will always be treated as labels (consistent with DataFrame behavior). To access a value by position, use `ser.iloc[pos]`\n",
      "  binary_column = (inverse_column == first_row[column]).astype(int)\n"
     ]
    },
    {
     "name": "stdout",
     "output_type": "stream",
     "text": [
      "157/157 [==============================] - 0s 1ms/step\n",
      "  1/157 [..............................] - ETA: 12s"
     ]
    },
    {
     "name": "stderr",
     "output_type": "stream",
     "text": [
      "/Users/ygao/Library/Caches/pypoetry/virtualenvs/program-i-Fez0zm-py3.10/lib/python3.10/site-packages/lime/discretize.py:110: FutureWarning: Series.__getitem__ treating keys as positions is deprecated. In a future version, integer keys will always be treated as labels (consistent with DataFrame behavior). To access a value by position, use `ser.iloc[pos]`\n",
      "  ret[feature] = int(self.lambdas[feature](ret[feature]))\n",
      "/Users/ygao/Library/Caches/pypoetry/virtualenvs/program-i-Fez0zm-py3.10/lib/python3.10/site-packages/lime/discretize.py:110: FutureWarning: Series.__setitem__ treating keys as positions is deprecated. In a future version, integer keys will always be treated as labels (consistent with DataFrame behavior). To set a value by position, use `ser.iloc[pos] = value`\n",
      "  ret[feature] = int(self.lambdas[feature](ret[feature]))\n",
      "/Users/ygao/Library/Caches/pypoetry/virtualenvs/program-i-Fez0zm-py3.10/lib/python3.10/site-packages/lime/lime_tabular.py:427: FutureWarning: Series.__getitem__ treating keys as positions is deprecated. In a future version, integer keys will always be treated as labels (consistent with DataFrame behavior). To access a value by position, use `ser.iloc[pos]`\n",
      "  discretized_instance[f])]\n",
      "/Users/ygao/Library/Caches/pypoetry/virtualenvs/program-i-Fez0zm-py3.10/lib/python3.10/site-packages/lime/discretize.py:110: FutureWarning: Series.__getitem__ treating keys as positions is deprecated. In a future version, integer keys will always be treated as labels (consistent with DataFrame behavior). To access a value by position, use `ser.iloc[pos]`\n",
      "  ret[feature] = int(self.lambdas[feature](ret[feature]))\n",
      "/Users/ygao/Library/Caches/pypoetry/virtualenvs/program-i-Fez0zm-py3.10/lib/python3.10/site-packages/lime/discretize.py:110: FutureWarning: Series.__setitem__ treating keys as positions is deprecated. In a future version, integer keys will always be treated as labels (consistent with DataFrame behavior). To set a value by position, use `ser.iloc[pos] = value`\n",
      "  ret[feature] = int(self.lambdas[feature](ret[feature]))\n",
      "/Users/ygao/Library/Caches/pypoetry/virtualenvs/program-i-Fez0zm-py3.10/lib/python3.10/site-packages/lime/lime_tabular.py:544: FutureWarning: Series.__getitem__ treating keys as positions is deprecated. In a future version, integer keys will always be treated as labels (consistent with DataFrame behavior). To access a value by position, use `ser.iloc[pos]`\n",
      "  binary_column = (inverse_column == first_row[column]).astype(int)\n"
     ]
    },
    {
     "name": "stdout",
     "output_type": "stream",
     "text": [
      "157/157 [==============================] - 0s 1ms/step\n",
      "  1/157 [..............................] - ETA: 11s"
     ]
    },
    {
     "name": "stderr",
     "output_type": "stream",
     "text": [
      "/Users/ygao/Library/Caches/pypoetry/virtualenvs/program-i-Fez0zm-py3.10/lib/python3.10/site-packages/lime/discretize.py:110: FutureWarning: Series.__getitem__ treating keys as positions is deprecated. In a future version, integer keys will always be treated as labels (consistent with DataFrame behavior). To access a value by position, use `ser.iloc[pos]`\n",
      "  ret[feature] = int(self.lambdas[feature](ret[feature]))\n",
      "/Users/ygao/Library/Caches/pypoetry/virtualenvs/program-i-Fez0zm-py3.10/lib/python3.10/site-packages/lime/discretize.py:110: FutureWarning: Series.__setitem__ treating keys as positions is deprecated. In a future version, integer keys will always be treated as labels (consistent with DataFrame behavior). To set a value by position, use `ser.iloc[pos] = value`\n",
      "  ret[feature] = int(self.lambdas[feature](ret[feature]))\n",
      "/Users/ygao/Library/Caches/pypoetry/virtualenvs/program-i-Fez0zm-py3.10/lib/python3.10/site-packages/lime/lime_tabular.py:427: FutureWarning: Series.__getitem__ treating keys as positions is deprecated. In a future version, integer keys will always be treated as labels (consistent with DataFrame behavior). To access a value by position, use `ser.iloc[pos]`\n",
      "  discretized_instance[f])]\n",
      "/Users/ygao/Library/Caches/pypoetry/virtualenvs/program-i-Fez0zm-py3.10/lib/python3.10/site-packages/lime/discretize.py:110: FutureWarning: Series.__getitem__ treating keys as positions is deprecated. In a future version, integer keys will always be treated as labels (consistent with DataFrame behavior). To access a value by position, use `ser.iloc[pos]`\n",
      "  ret[feature] = int(self.lambdas[feature](ret[feature]))\n",
      "/Users/ygao/Library/Caches/pypoetry/virtualenvs/program-i-Fez0zm-py3.10/lib/python3.10/site-packages/lime/discretize.py:110: FutureWarning: Series.__setitem__ treating keys as positions is deprecated. In a future version, integer keys will always be treated as labels (consistent with DataFrame behavior). To set a value by position, use `ser.iloc[pos] = value`\n",
      "  ret[feature] = int(self.lambdas[feature](ret[feature]))\n",
      "/Users/ygao/Library/Caches/pypoetry/virtualenvs/program-i-Fez0zm-py3.10/lib/python3.10/site-packages/lime/lime_tabular.py:544: FutureWarning: Series.__getitem__ treating keys as positions is deprecated. In a future version, integer keys will always be treated as labels (consistent with DataFrame behavior). To access a value by position, use `ser.iloc[pos]`\n",
      "  binary_column = (inverse_column == first_row[column]).astype(int)\n"
     ]
    },
    {
     "name": "stdout",
     "output_type": "stream",
     "text": [
      "157/157 [==============================] - 0s 1ms/step\n",
      "  1/157 [..............................] - ETA: 15s"
     ]
    },
    {
     "name": "stderr",
     "output_type": "stream",
     "text": [
      "/Users/ygao/Library/Caches/pypoetry/virtualenvs/program-i-Fez0zm-py3.10/lib/python3.10/site-packages/lime/discretize.py:110: FutureWarning: Series.__getitem__ treating keys as positions is deprecated. In a future version, integer keys will always be treated as labels (consistent with DataFrame behavior). To access a value by position, use `ser.iloc[pos]`\n",
      "  ret[feature] = int(self.lambdas[feature](ret[feature]))\n",
      "/Users/ygao/Library/Caches/pypoetry/virtualenvs/program-i-Fez0zm-py3.10/lib/python3.10/site-packages/lime/discretize.py:110: FutureWarning: Series.__setitem__ treating keys as positions is deprecated. In a future version, integer keys will always be treated as labels (consistent with DataFrame behavior). To set a value by position, use `ser.iloc[pos] = value`\n",
      "  ret[feature] = int(self.lambdas[feature](ret[feature]))\n",
      "/Users/ygao/Library/Caches/pypoetry/virtualenvs/program-i-Fez0zm-py3.10/lib/python3.10/site-packages/lime/lime_tabular.py:427: FutureWarning: Series.__getitem__ treating keys as positions is deprecated. In a future version, integer keys will always be treated as labels (consistent with DataFrame behavior). To access a value by position, use `ser.iloc[pos]`\n",
      "  discretized_instance[f])]\n",
      "/Users/ygao/Library/Caches/pypoetry/virtualenvs/program-i-Fez0zm-py3.10/lib/python3.10/site-packages/lime/discretize.py:110: FutureWarning: Series.__getitem__ treating keys as positions is deprecated. In a future version, integer keys will always be treated as labels (consistent with DataFrame behavior). To access a value by position, use `ser.iloc[pos]`\n",
      "  ret[feature] = int(self.lambdas[feature](ret[feature]))\n",
      "/Users/ygao/Library/Caches/pypoetry/virtualenvs/program-i-Fez0zm-py3.10/lib/python3.10/site-packages/lime/discretize.py:110: FutureWarning: Series.__setitem__ treating keys as positions is deprecated. In a future version, integer keys will always be treated as labels (consistent with DataFrame behavior). To set a value by position, use `ser.iloc[pos] = value`\n",
      "  ret[feature] = int(self.lambdas[feature](ret[feature]))\n",
      "/Users/ygao/Library/Caches/pypoetry/virtualenvs/program-i-Fez0zm-py3.10/lib/python3.10/site-packages/lime/lime_tabular.py:544: FutureWarning: Series.__getitem__ treating keys as positions is deprecated. In a future version, integer keys will always be treated as labels (consistent with DataFrame behavior). To access a value by position, use `ser.iloc[pos]`\n",
      "  binary_column = (inverse_column == first_row[column]).astype(int)\n"
     ]
    },
    {
     "name": "stdout",
     "output_type": "stream",
     "text": [
      "157/157 [==============================] - 0s 1ms/step\n",
      "  1/157 [..............................] - ETA: 11s"
     ]
    },
    {
     "name": "stderr",
     "output_type": "stream",
     "text": [
      "/Users/ygao/Library/Caches/pypoetry/virtualenvs/program-i-Fez0zm-py3.10/lib/python3.10/site-packages/lime/discretize.py:110: FutureWarning: Series.__getitem__ treating keys as positions is deprecated. In a future version, integer keys will always be treated as labels (consistent with DataFrame behavior). To access a value by position, use `ser.iloc[pos]`\n",
      "  ret[feature] = int(self.lambdas[feature](ret[feature]))\n",
      "/Users/ygao/Library/Caches/pypoetry/virtualenvs/program-i-Fez0zm-py3.10/lib/python3.10/site-packages/lime/discretize.py:110: FutureWarning: Series.__setitem__ treating keys as positions is deprecated. In a future version, integer keys will always be treated as labels (consistent with DataFrame behavior). To set a value by position, use `ser.iloc[pos] = value`\n",
      "  ret[feature] = int(self.lambdas[feature](ret[feature]))\n",
      "/Users/ygao/Library/Caches/pypoetry/virtualenvs/program-i-Fez0zm-py3.10/lib/python3.10/site-packages/lime/lime_tabular.py:427: FutureWarning: Series.__getitem__ treating keys as positions is deprecated. In a future version, integer keys will always be treated as labels (consistent with DataFrame behavior). To access a value by position, use `ser.iloc[pos]`\n",
      "  discretized_instance[f])]\n",
      "/Users/ygao/Library/Caches/pypoetry/virtualenvs/program-i-Fez0zm-py3.10/lib/python3.10/site-packages/lime/discretize.py:110: FutureWarning: Series.__getitem__ treating keys as positions is deprecated. In a future version, integer keys will always be treated as labels (consistent with DataFrame behavior). To access a value by position, use `ser.iloc[pos]`\n",
      "  ret[feature] = int(self.lambdas[feature](ret[feature]))\n",
      "/Users/ygao/Library/Caches/pypoetry/virtualenvs/program-i-Fez0zm-py3.10/lib/python3.10/site-packages/lime/discretize.py:110: FutureWarning: Series.__setitem__ treating keys as positions is deprecated. In a future version, integer keys will always be treated as labels (consistent with DataFrame behavior). To set a value by position, use `ser.iloc[pos] = value`\n",
      "  ret[feature] = int(self.lambdas[feature](ret[feature]))\n",
      "/Users/ygao/Library/Caches/pypoetry/virtualenvs/program-i-Fez0zm-py3.10/lib/python3.10/site-packages/lime/lime_tabular.py:544: FutureWarning: Series.__getitem__ treating keys as positions is deprecated. In a future version, integer keys will always be treated as labels (consistent with DataFrame behavior). To access a value by position, use `ser.iloc[pos]`\n",
      "  binary_column = (inverse_column == first_row[column]).astype(int)\n"
     ]
    },
    {
     "name": "stdout",
     "output_type": "stream",
     "text": [
      "157/157 [==============================] - 0s 1ms/step\n",
      " 34/157 [=====>........................] - ETA: 0s"
     ]
    },
    {
     "name": "stderr",
     "output_type": "stream",
     "text": [
      "/Users/ygao/Library/Caches/pypoetry/virtualenvs/program-i-Fez0zm-py3.10/lib/python3.10/site-packages/lime/discretize.py:110: FutureWarning: Series.__getitem__ treating keys as positions is deprecated. In a future version, integer keys will always be treated as labels (consistent with DataFrame behavior). To access a value by position, use `ser.iloc[pos]`\n",
      "  ret[feature] = int(self.lambdas[feature](ret[feature]))\n",
      "/Users/ygao/Library/Caches/pypoetry/virtualenvs/program-i-Fez0zm-py3.10/lib/python3.10/site-packages/lime/discretize.py:110: FutureWarning: Series.__setitem__ treating keys as positions is deprecated. In a future version, integer keys will always be treated as labels (consistent with DataFrame behavior). To set a value by position, use `ser.iloc[pos] = value`\n",
      "  ret[feature] = int(self.lambdas[feature](ret[feature]))\n",
      "/Users/ygao/Library/Caches/pypoetry/virtualenvs/program-i-Fez0zm-py3.10/lib/python3.10/site-packages/lime/lime_tabular.py:427: FutureWarning: Series.__getitem__ treating keys as positions is deprecated. In a future version, integer keys will always be treated as labels (consistent with DataFrame behavior). To access a value by position, use `ser.iloc[pos]`\n",
      "  discretized_instance[f])]\n",
      "/Users/ygao/Library/Caches/pypoetry/virtualenvs/program-i-Fez0zm-py3.10/lib/python3.10/site-packages/lime/discretize.py:110: FutureWarning: Series.__getitem__ treating keys as positions is deprecated. In a future version, integer keys will always be treated as labels (consistent with DataFrame behavior). To access a value by position, use `ser.iloc[pos]`\n",
      "  ret[feature] = int(self.lambdas[feature](ret[feature]))\n",
      "/Users/ygao/Library/Caches/pypoetry/virtualenvs/program-i-Fez0zm-py3.10/lib/python3.10/site-packages/lime/discretize.py:110: FutureWarning: Series.__setitem__ treating keys as positions is deprecated. In a future version, integer keys will always be treated as labels (consistent with DataFrame behavior). To set a value by position, use `ser.iloc[pos] = value`\n",
      "  ret[feature] = int(self.lambdas[feature](ret[feature]))\n",
      "/Users/ygao/Library/Caches/pypoetry/virtualenvs/program-i-Fez0zm-py3.10/lib/python3.10/site-packages/lime/lime_tabular.py:544: FutureWarning: Series.__getitem__ treating keys as positions is deprecated. In a future version, integer keys will always be treated as labels (consistent with DataFrame behavior). To access a value by position, use `ser.iloc[pos]`\n",
      "  binary_column = (inverse_column == first_row[column]).astype(int)\n"
     ]
    },
    {
     "name": "stdout",
     "output_type": "stream",
     "text": [
      "157/157 [==============================] - 0s 1ms/step\n",
      " 41/157 [======>.......................] - ETA: 0s"
     ]
    },
    {
     "name": "stderr",
     "output_type": "stream",
     "text": [
      "/Users/ygao/Library/Caches/pypoetry/virtualenvs/program-i-Fez0zm-py3.10/lib/python3.10/site-packages/lime/discretize.py:110: FutureWarning: Series.__getitem__ treating keys as positions is deprecated. In a future version, integer keys will always be treated as labels (consistent with DataFrame behavior). To access a value by position, use `ser.iloc[pos]`\n",
      "  ret[feature] = int(self.lambdas[feature](ret[feature]))\n",
      "/Users/ygao/Library/Caches/pypoetry/virtualenvs/program-i-Fez0zm-py3.10/lib/python3.10/site-packages/lime/discretize.py:110: FutureWarning: Series.__setitem__ treating keys as positions is deprecated. In a future version, integer keys will always be treated as labels (consistent with DataFrame behavior). To set a value by position, use `ser.iloc[pos] = value`\n",
      "  ret[feature] = int(self.lambdas[feature](ret[feature]))\n",
      "/Users/ygao/Library/Caches/pypoetry/virtualenvs/program-i-Fez0zm-py3.10/lib/python3.10/site-packages/lime/lime_tabular.py:427: FutureWarning: Series.__getitem__ treating keys as positions is deprecated. In a future version, integer keys will always be treated as labels (consistent with DataFrame behavior). To access a value by position, use `ser.iloc[pos]`\n",
      "  discretized_instance[f])]\n",
      "/Users/ygao/Library/Caches/pypoetry/virtualenvs/program-i-Fez0zm-py3.10/lib/python3.10/site-packages/lime/discretize.py:110: FutureWarning: Series.__getitem__ treating keys as positions is deprecated. In a future version, integer keys will always be treated as labels (consistent with DataFrame behavior). To access a value by position, use `ser.iloc[pos]`\n",
      "  ret[feature] = int(self.lambdas[feature](ret[feature]))\n",
      "/Users/ygao/Library/Caches/pypoetry/virtualenvs/program-i-Fez0zm-py3.10/lib/python3.10/site-packages/lime/discretize.py:110: FutureWarning: Series.__setitem__ treating keys as positions is deprecated. In a future version, integer keys will always be treated as labels (consistent with DataFrame behavior). To set a value by position, use `ser.iloc[pos] = value`\n",
      "  ret[feature] = int(self.lambdas[feature](ret[feature]))\n",
      "/Users/ygao/Library/Caches/pypoetry/virtualenvs/program-i-Fez0zm-py3.10/lib/python3.10/site-packages/lime/lime_tabular.py:544: FutureWarning: Series.__getitem__ treating keys as positions is deprecated. In a future version, integer keys will always be treated as labels (consistent with DataFrame behavior). To access a value by position, use `ser.iloc[pos]`\n",
      "  binary_column = (inverse_column == first_row[column]).astype(int)\n"
     ]
    },
    {
     "name": "stdout",
     "output_type": "stream",
     "text": [
      "157/157 [==============================] - 0s 1ms/step\n",
      " 38/157 [======>.......................] - ETA: 0s"
     ]
    },
    {
     "name": "stderr",
     "output_type": "stream",
     "text": [
      "/Users/ygao/Library/Caches/pypoetry/virtualenvs/program-i-Fez0zm-py3.10/lib/python3.10/site-packages/lime/discretize.py:110: FutureWarning: Series.__getitem__ treating keys as positions is deprecated. In a future version, integer keys will always be treated as labels (consistent with DataFrame behavior). To access a value by position, use `ser.iloc[pos]`\n",
      "  ret[feature] = int(self.lambdas[feature](ret[feature]))\n",
      "/Users/ygao/Library/Caches/pypoetry/virtualenvs/program-i-Fez0zm-py3.10/lib/python3.10/site-packages/lime/discretize.py:110: FutureWarning: Series.__setitem__ treating keys as positions is deprecated. In a future version, integer keys will always be treated as labels (consistent with DataFrame behavior). To set a value by position, use `ser.iloc[pos] = value`\n",
      "  ret[feature] = int(self.lambdas[feature](ret[feature]))\n",
      "/Users/ygao/Library/Caches/pypoetry/virtualenvs/program-i-Fez0zm-py3.10/lib/python3.10/site-packages/lime/lime_tabular.py:427: FutureWarning: Series.__getitem__ treating keys as positions is deprecated. In a future version, integer keys will always be treated as labels (consistent with DataFrame behavior). To access a value by position, use `ser.iloc[pos]`\n",
      "  discretized_instance[f])]\n",
      "/Users/ygao/Library/Caches/pypoetry/virtualenvs/program-i-Fez0zm-py3.10/lib/python3.10/site-packages/lime/discretize.py:110: FutureWarning: Series.__getitem__ treating keys as positions is deprecated. In a future version, integer keys will always be treated as labels (consistent with DataFrame behavior). To access a value by position, use `ser.iloc[pos]`\n",
      "  ret[feature] = int(self.lambdas[feature](ret[feature]))\n",
      "/Users/ygao/Library/Caches/pypoetry/virtualenvs/program-i-Fez0zm-py3.10/lib/python3.10/site-packages/lime/discretize.py:110: FutureWarning: Series.__setitem__ treating keys as positions is deprecated. In a future version, integer keys will always be treated as labels (consistent with DataFrame behavior). To set a value by position, use `ser.iloc[pos] = value`\n",
      "  ret[feature] = int(self.lambdas[feature](ret[feature]))\n",
      "/Users/ygao/Library/Caches/pypoetry/virtualenvs/program-i-Fez0zm-py3.10/lib/python3.10/site-packages/lime/lime_tabular.py:544: FutureWarning: Series.__getitem__ treating keys as positions is deprecated. In a future version, integer keys will always be treated as labels (consistent with DataFrame behavior). To access a value by position, use `ser.iloc[pos]`\n",
      "  binary_column = (inverse_column == first_row[column]).astype(int)\n"
     ]
    },
    {
     "name": "stdout",
     "output_type": "stream",
     "text": [
      "157/157 [==============================] - 0s 1ms/step\n",
      " 25/157 [===>..........................] - ETA: 0s"
     ]
    },
    {
     "name": "stderr",
     "output_type": "stream",
     "text": [
      "/Users/ygao/Library/Caches/pypoetry/virtualenvs/program-i-Fez0zm-py3.10/lib/python3.10/site-packages/lime/discretize.py:110: FutureWarning: Series.__getitem__ treating keys as positions is deprecated. In a future version, integer keys will always be treated as labels (consistent with DataFrame behavior). To access a value by position, use `ser.iloc[pos]`\n",
      "  ret[feature] = int(self.lambdas[feature](ret[feature]))\n",
      "/Users/ygao/Library/Caches/pypoetry/virtualenvs/program-i-Fez0zm-py3.10/lib/python3.10/site-packages/lime/discretize.py:110: FutureWarning: Series.__setitem__ treating keys as positions is deprecated. In a future version, integer keys will always be treated as labels (consistent with DataFrame behavior). To set a value by position, use `ser.iloc[pos] = value`\n",
      "  ret[feature] = int(self.lambdas[feature](ret[feature]))\n",
      "/Users/ygao/Library/Caches/pypoetry/virtualenvs/program-i-Fez0zm-py3.10/lib/python3.10/site-packages/lime/lime_tabular.py:427: FutureWarning: Series.__getitem__ treating keys as positions is deprecated. In a future version, integer keys will always be treated as labels (consistent with DataFrame behavior). To access a value by position, use `ser.iloc[pos]`\n",
      "  discretized_instance[f])]\n",
      "/Users/ygao/Library/Caches/pypoetry/virtualenvs/program-i-Fez0zm-py3.10/lib/python3.10/site-packages/lime/discretize.py:110: FutureWarning: Series.__getitem__ treating keys as positions is deprecated. In a future version, integer keys will always be treated as labels (consistent with DataFrame behavior). To access a value by position, use `ser.iloc[pos]`\n",
      "  ret[feature] = int(self.lambdas[feature](ret[feature]))\n",
      "/Users/ygao/Library/Caches/pypoetry/virtualenvs/program-i-Fez0zm-py3.10/lib/python3.10/site-packages/lime/discretize.py:110: FutureWarning: Series.__setitem__ treating keys as positions is deprecated. In a future version, integer keys will always be treated as labels (consistent with DataFrame behavior). To set a value by position, use `ser.iloc[pos] = value`\n",
      "  ret[feature] = int(self.lambdas[feature](ret[feature]))\n",
      "/Users/ygao/Library/Caches/pypoetry/virtualenvs/program-i-Fez0zm-py3.10/lib/python3.10/site-packages/lime/lime_tabular.py:544: FutureWarning: Series.__getitem__ treating keys as positions is deprecated. In a future version, integer keys will always be treated as labels (consistent with DataFrame behavior). To access a value by position, use `ser.iloc[pos]`\n",
      "  binary_column = (inverse_column == first_row[column]).astype(int)\n"
     ]
    },
    {
     "name": "stdout",
     "output_type": "stream",
     "text": [
      "157/157 [==============================] - 0s 1ms/step\n",
      "  1/157 [..............................] - ETA: 10s"
     ]
    },
    {
     "name": "stderr",
     "output_type": "stream",
     "text": [
      "/Users/ygao/Library/Caches/pypoetry/virtualenvs/program-i-Fez0zm-py3.10/lib/python3.10/site-packages/lime/discretize.py:110: FutureWarning: Series.__getitem__ treating keys as positions is deprecated. In a future version, integer keys will always be treated as labels (consistent with DataFrame behavior). To access a value by position, use `ser.iloc[pos]`\n",
      "  ret[feature] = int(self.lambdas[feature](ret[feature]))\n",
      "/Users/ygao/Library/Caches/pypoetry/virtualenvs/program-i-Fez0zm-py3.10/lib/python3.10/site-packages/lime/discretize.py:110: FutureWarning: Series.__setitem__ treating keys as positions is deprecated. In a future version, integer keys will always be treated as labels (consistent with DataFrame behavior). To set a value by position, use `ser.iloc[pos] = value`\n",
      "  ret[feature] = int(self.lambdas[feature](ret[feature]))\n",
      "/Users/ygao/Library/Caches/pypoetry/virtualenvs/program-i-Fez0zm-py3.10/lib/python3.10/site-packages/lime/lime_tabular.py:427: FutureWarning: Series.__getitem__ treating keys as positions is deprecated. In a future version, integer keys will always be treated as labels (consistent with DataFrame behavior). To access a value by position, use `ser.iloc[pos]`\n",
      "  discretized_instance[f])]\n",
      "/Users/ygao/Library/Caches/pypoetry/virtualenvs/program-i-Fez0zm-py3.10/lib/python3.10/site-packages/lime/discretize.py:110: FutureWarning: Series.__getitem__ treating keys as positions is deprecated. In a future version, integer keys will always be treated as labels (consistent with DataFrame behavior). To access a value by position, use `ser.iloc[pos]`\n",
      "  ret[feature] = int(self.lambdas[feature](ret[feature]))\n",
      "/Users/ygao/Library/Caches/pypoetry/virtualenvs/program-i-Fez0zm-py3.10/lib/python3.10/site-packages/lime/discretize.py:110: FutureWarning: Series.__setitem__ treating keys as positions is deprecated. In a future version, integer keys will always be treated as labels (consistent with DataFrame behavior). To set a value by position, use `ser.iloc[pos] = value`\n",
      "  ret[feature] = int(self.lambdas[feature](ret[feature]))\n",
      "/Users/ygao/Library/Caches/pypoetry/virtualenvs/program-i-Fez0zm-py3.10/lib/python3.10/site-packages/lime/lime_tabular.py:544: FutureWarning: Series.__getitem__ treating keys as positions is deprecated. In a future version, integer keys will always be treated as labels (consistent with DataFrame behavior). To access a value by position, use `ser.iloc[pos]`\n",
      "  binary_column = (inverse_column == first_row[column]).astype(int)\n"
     ]
    },
    {
     "name": "stdout",
     "output_type": "stream",
     "text": [
      "157/157 [==============================] - 0s 1ms/step\n",
      "  1/157 [..............................] - ETA: 11s"
     ]
    },
    {
     "name": "stderr",
     "output_type": "stream",
     "text": [
      "/Users/ygao/Library/Caches/pypoetry/virtualenvs/program-i-Fez0zm-py3.10/lib/python3.10/site-packages/lime/discretize.py:110: FutureWarning: Series.__getitem__ treating keys as positions is deprecated. In a future version, integer keys will always be treated as labels (consistent with DataFrame behavior). To access a value by position, use `ser.iloc[pos]`\n",
      "  ret[feature] = int(self.lambdas[feature](ret[feature]))\n",
      "/Users/ygao/Library/Caches/pypoetry/virtualenvs/program-i-Fez0zm-py3.10/lib/python3.10/site-packages/lime/discretize.py:110: FutureWarning: Series.__setitem__ treating keys as positions is deprecated. In a future version, integer keys will always be treated as labels (consistent with DataFrame behavior). To set a value by position, use `ser.iloc[pos] = value`\n",
      "  ret[feature] = int(self.lambdas[feature](ret[feature]))\n",
      "/Users/ygao/Library/Caches/pypoetry/virtualenvs/program-i-Fez0zm-py3.10/lib/python3.10/site-packages/lime/lime_tabular.py:427: FutureWarning: Series.__getitem__ treating keys as positions is deprecated. In a future version, integer keys will always be treated as labels (consistent with DataFrame behavior). To access a value by position, use `ser.iloc[pos]`\n",
      "  discretized_instance[f])]\n",
      "/Users/ygao/Library/Caches/pypoetry/virtualenvs/program-i-Fez0zm-py3.10/lib/python3.10/site-packages/lime/discretize.py:110: FutureWarning: Series.__getitem__ treating keys as positions is deprecated. In a future version, integer keys will always be treated as labels (consistent with DataFrame behavior). To access a value by position, use `ser.iloc[pos]`\n",
      "  ret[feature] = int(self.lambdas[feature](ret[feature]))\n",
      "/Users/ygao/Library/Caches/pypoetry/virtualenvs/program-i-Fez0zm-py3.10/lib/python3.10/site-packages/lime/discretize.py:110: FutureWarning: Series.__setitem__ treating keys as positions is deprecated. In a future version, integer keys will always be treated as labels (consistent with DataFrame behavior). To set a value by position, use `ser.iloc[pos] = value`\n",
      "  ret[feature] = int(self.lambdas[feature](ret[feature]))\n",
      "/Users/ygao/Library/Caches/pypoetry/virtualenvs/program-i-Fez0zm-py3.10/lib/python3.10/site-packages/lime/lime_tabular.py:544: FutureWarning: Series.__getitem__ treating keys as positions is deprecated. In a future version, integer keys will always be treated as labels (consistent with DataFrame behavior). To access a value by position, use `ser.iloc[pos]`\n",
      "  binary_column = (inverse_column == first_row[column]).astype(int)\n"
     ]
    },
    {
     "name": "stdout",
     "output_type": "stream",
     "text": [
      "157/157 [==============================] - 0s 1ms/step\n",
      "  1/157 [..............................] - ETA: 9s"
     ]
    },
    {
     "name": "stderr",
     "output_type": "stream",
     "text": [
      "/Users/ygao/Library/Caches/pypoetry/virtualenvs/program-i-Fez0zm-py3.10/lib/python3.10/site-packages/lime/discretize.py:110: FutureWarning: Series.__getitem__ treating keys as positions is deprecated. In a future version, integer keys will always be treated as labels (consistent with DataFrame behavior). To access a value by position, use `ser.iloc[pos]`\n",
      "  ret[feature] = int(self.lambdas[feature](ret[feature]))\n",
      "/Users/ygao/Library/Caches/pypoetry/virtualenvs/program-i-Fez0zm-py3.10/lib/python3.10/site-packages/lime/discretize.py:110: FutureWarning: Series.__setitem__ treating keys as positions is deprecated. In a future version, integer keys will always be treated as labels (consistent with DataFrame behavior). To set a value by position, use `ser.iloc[pos] = value`\n",
      "  ret[feature] = int(self.lambdas[feature](ret[feature]))\n",
      "/Users/ygao/Library/Caches/pypoetry/virtualenvs/program-i-Fez0zm-py3.10/lib/python3.10/site-packages/lime/lime_tabular.py:427: FutureWarning: Series.__getitem__ treating keys as positions is deprecated. In a future version, integer keys will always be treated as labels (consistent with DataFrame behavior). To access a value by position, use `ser.iloc[pos]`\n",
      "  discretized_instance[f])]\n",
      "/Users/ygao/Library/Caches/pypoetry/virtualenvs/program-i-Fez0zm-py3.10/lib/python3.10/site-packages/lime/discretize.py:110: FutureWarning: Series.__getitem__ treating keys as positions is deprecated. In a future version, integer keys will always be treated as labels (consistent with DataFrame behavior). To access a value by position, use `ser.iloc[pos]`\n",
      "  ret[feature] = int(self.lambdas[feature](ret[feature]))\n",
      "/Users/ygao/Library/Caches/pypoetry/virtualenvs/program-i-Fez0zm-py3.10/lib/python3.10/site-packages/lime/discretize.py:110: FutureWarning: Series.__setitem__ treating keys as positions is deprecated. In a future version, integer keys will always be treated as labels (consistent with DataFrame behavior). To set a value by position, use `ser.iloc[pos] = value`\n",
      "  ret[feature] = int(self.lambdas[feature](ret[feature]))\n",
      "/Users/ygao/Library/Caches/pypoetry/virtualenvs/program-i-Fez0zm-py3.10/lib/python3.10/site-packages/lime/lime_tabular.py:544: FutureWarning: Series.__getitem__ treating keys as positions is deprecated. In a future version, integer keys will always be treated as labels (consistent with DataFrame behavior). To access a value by position, use `ser.iloc[pos]`\n",
      "  binary_column = (inverse_column == first_row[column]).astype(int)\n"
     ]
    },
    {
     "name": "stdout",
     "output_type": "stream",
     "text": [
      "157/157 [==============================] - 0s 1ms/step\n",
      "  1/157 [..............................] - ETA: 9s"
     ]
    },
    {
     "name": "stderr",
     "output_type": "stream",
     "text": [
      "/Users/ygao/Library/Caches/pypoetry/virtualenvs/program-i-Fez0zm-py3.10/lib/python3.10/site-packages/lime/discretize.py:110: FutureWarning: Series.__getitem__ treating keys as positions is deprecated. In a future version, integer keys will always be treated as labels (consistent with DataFrame behavior). To access a value by position, use `ser.iloc[pos]`\n",
      "  ret[feature] = int(self.lambdas[feature](ret[feature]))\n",
      "/Users/ygao/Library/Caches/pypoetry/virtualenvs/program-i-Fez0zm-py3.10/lib/python3.10/site-packages/lime/discretize.py:110: FutureWarning: Series.__setitem__ treating keys as positions is deprecated. In a future version, integer keys will always be treated as labels (consistent with DataFrame behavior). To set a value by position, use `ser.iloc[pos] = value`\n",
      "  ret[feature] = int(self.lambdas[feature](ret[feature]))\n",
      "/Users/ygao/Library/Caches/pypoetry/virtualenvs/program-i-Fez0zm-py3.10/lib/python3.10/site-packages/lime/lime_tabular.py:427: FutureWarning: Series.__getitem__ treating keys as positions is deprecated. In a future version, integer keys will always be treated as labels (consistent with DataFrame behavior). To access a value by position, use `ser.iloc[pos]`\n",
      "  discretized_instance[f])]\n",
      "/Users/ygao/Library/Caches/pypoetry/virtualenvs/program-i-Fez0zm-py3.10/lib/python3.10/site-packages/lime/discretize.py:110: FutureWarning: Series.__getitem__ treating keys as positions is deprecated. In a future version, integer keys will always be treated as labels (consistent with DataFrame behavior). To access a value by position, use `ser.iloc[pos]`\n",
      "  ret[feature] = int(self.lambdas[feature](ret[feature]))\n",
      "/Users/ygao/Library/Caches/pypoetry/virtualenvs/program-i-Fez0zm-py3.10/lib/python3.10/site-packages/lime/discretize.py:110: FutureWarning: Series.__setitem__ treating keys as positions is deprecated. In a future version, integer keys will always be treated as labels (consistent with DataFrame behavior). To set a value by position, use `ser.iloc[pos] = value`\n",
      "  ret[feature] = int(self.lambdas[feature](ret[feature]))\n",
      "/Users/ygao/Library/Caches/pypoetry/virtualenvs/program-i-Fez0zm-py3.10/lib/python3.10/site-packages/lime/lime_tabular.py:544: FutureWarning: Series.__getitem__ treating keys as positions is deprecated. In a future version, integer keys will always be treated as labels (consistent with DataFrame behavior). To access a value by position, use `ser.iloc[pos]`\n",
      "  binary_column = (inverse_column == first_row[column]).astype(int)\n"
     ]
    },
    {
     "name": "stdout",
     "output_type": "stream",
     "text": [
      "157/157 [==============================] - 0s 1ms/step\n",
      " 44/157 [=======>......................] - ETA: 0s"
     ]
    },
    {
     "name": "stderr",
     "output_type": "stream",
     "text": [
      "/Users/ygao/Library/Caches/pypoetry/virtualenvs/program-i-Fez0zm-py3.10/lib/python3.10/site-packages/lime/discretize.py:110: FutureWarning: Series.__getitem__ treating keys as positions is deprecated. In a future version, integer keys will always be treated as labels (consistent with DataFrame behavior). To access a value by position, use `ser.iloc[pos]`\n",
      "  ret[feature] = int(self.lambdas[feature](ret[feature]))\n",
      "/Users/ygao/Library/Caches/pypoetry/virtualenvs/program-i-Fez0zm-py3.10/lib/python3.10/site-packages/lime/discretize.py:110: FutureWarning: Series.__setitem__ treating keys as positions is deprecated. In a future version, integer keys will always be treated as labels (consistent with DataFrame behavior). To set a value by position, use `ser.iloc[pos] = value`\n",
      "  ret[feature] = int(self.lambdas[feature](ret[feature]))\n",
      "/Users/ygao/Library/Caches/pypoetry/virtualenvs/program-i-Fez0zm-py3.10/lib/python3.10/site-packages/lime/lime_tabular.py:427: FutureWarning: Series.__getitem__ treating keys as positions is deprecated. In a future version, integer keys will always be treated as labels (consistent with DataFrame behavior). To access a value by position, use `ser.iloc[pos]`\n",
      "  discretized_instance[f])]\n",
      "/Users/ygao/Library/Caches/pypoetry/virtualenvs/program-i-Fez0zm-py3.10/lib/python3.10/site-packages/lime/discretize.py:110: FutureWarning: Series.__getitem__ treating keys as positions is deprecated. In a future version, integer keys will always be treated as labels (consistent with DataFrame behavior). To access a value by position, use `ser.iloc[pos]`\n",
      "  ret[feature] = int(self.lambdas[feature](ret[feature]))\n",
      "/Users/ygao/Library/Caches/pypoetry/virtualenvs/program-i-Fez0zm-py3.10/lib/python3.10/site-packages/lime/discretize.py:110: FutureWarning: Series.__setitem__ treating keys as positions is deprecated. In a future version, integer keys will always be treated as labels (consistent with DataFrame behavior). To set a value by position, use `ser.iloc[pos] = value`\n",
      "  ret[feature] = int(self.lambdas[feature](ret[feature]))\n",
      "/Users/ygao/Library/Caches/pypoetry/virtualenvs/program-i-Fez0zm-py3.10/lib/python3.10/site-packages/lime/lime_tabular.py:544: FutureWarning: Series.__getitem__ treating keys as positions is deprecated. In a future version, integer keys will always be treated as labels (consistent with DataFrame behavior). To access a value by position, use `ser.iloc[pos]`\n",
      "  binary_column = (inverse_column == first_row[column]).astype(int)\n"
     ]
    },
    {
     "name": "stdout",
     "output_type": "stream",
     "text": [
      "157/157 [==============================] - 0s 1ms/step\n",
      " 17/157 [==>...........................] - ETA: 0s"
     ]
    },
    {
     "name": "stderr",
     "output_type": "stream",
     "text": [
      "/Users/ygao/Library/Caches/pypoetry/virtualenvs/program-i-Fez0zm-py3.10/lib/python3.10/site-packages/lime/discretize.py:110: FutureWarning: Series.__getitem__ treating keys as positions is deprecated. In a future version, integer keys will always be treated as labels (consistent with DataFrame behavior). To access a value by position, use `ser.iloc[pos]`\n",
      "  ret[feature] = int(self.lambdas[feature](ret[feature]))\n",
      "/Users/ygao/Library/Caches/pypoetry/virtualenvs/program-i-Fez0zm-py3.10/lib/python3.10/site-packages/lime/discretize.py:110: FutureWarning: Series.__setitem__ treating keys as positions is deprecated. In a future version, integer keys will always be treated as labels (consistent with DataFrame behavior). To set a value by position, use `ser.iloc[pos] = value`\n",
      "  ret[feature] = int(self.lambdas[feature](ret[feature]))\n",
      "/Users/ygao/Library/Caches/pypoetry/virtualenvs/program-i-Fez0zm-py3.10/lib/python3.10/site-packages/lime/lime_tabular.py:427: FutureWarning: Series.__getitem__ treating keys as positions is deprecated. In a future version, integer keys will always be treated as labels (consistent with DataFrame behavior). To access a value by position, use `ser.iloc[pos]`\n",
      "  discretized_instance[f])]\n",
      "/Users/ygao/Library/Caches/pypoetry/virtualenvs/program-i-Fez0zm-py3.10/lib/python3.10/site-packages/lime/discretize.py:110: FutureWarning: Series.__getitem__ treating keys as positions is deprecated. In a future version, integer keys will always be treated as labels (consistent with DataFrame behavior). To access a value by position, use `ser.iloc[pos]`\n",
      "  ret[feature] = int(self.lambdas[feature](ret[feature]))\n",
      "/Users/ygao/Library/Caches/pypoetry/virtualenvs/program-i-Fez0zm-py3.10/lib/python3.10/site-packages/lime/discretize.py:110: FutureWarning: Series.__setitem__ treating keys as positions is deprecated. In a future version, integer keys will always be treated as labels (consistent with DataFrame behavior). To set a value by position, use `ser.iloc[pos] = value`\n",
      "  ret[feature] = int(self.lambdas[feature](ret[feature]))\n",
      "/Users/ygao/Library/Caches/pypoetry/virtualenvs/program-i-Fez0zm-py3.10/lib/python3.10/site-packages/lime/lime_tabular.py:544: FutureWarning: Series.__getitem__ treating keys as positions is deprecated. In a future version, integer keys will always be treated as labels (consistent with DataFrame behavior). To access a value by position, use `ser.iloc[pos]`\n",
      "  binary_column = (inverse_column == first_row[column]).astype(int)\n"
     ]
    },
    {
     "name": "stdout",
     "output_type": "stream",
     "text": [
      "157/157 [==============================] - 0s 1ms/step\n",
      " 32/157 [=====>........................] - ETA: 0s"
     ]
    },
    {
     "name": "stderr",
     "output_type": "stream",
     "text": [
      "/Users/ygao/Library/Caches/pypoetry/virtualenvs/program-i-Fez0zm-py3.10/lib/python3.10/site-packages/lime/discretize.py:110: FutureWarning: Series.__getitem__ treating keys as positions is deprecated. In a future version, integer keys will always be treated as labels (consistent with DataFrame behavior). To access a value by position, use `ser.iloc[pos]`\n",
      "  ret[feature] = int(self.lambdas[feature](ret[feature]))\n",
      "/Users/ygao/Library/Caches/pypoetry/virtualenvs/program-i-Fez0zm-py3.10/lib/python3.10/site-packages/lime/discretize.py:110: FutureWarning: Series.__setitem__ treating keys as positions is deprecated. In a future version, integer keys will always be treated as labels (consistent with DataFrame behavior). To set a value by position, use `ser.iloc[pos] = value`\n",
      "  ret[feature] = int(self.lambdas[feature](ret[feature]))\n",
      "/Users/ygao/Library/Caches/pypoetry/virtualenvs/program-i-Fez0zm-py3.10/lib/python3.10/site-packages/lime/lime_tabular.py:427: FutureWarning: Series.__getitem__ treating keys as positions is deprecated. In a future version, integer keys will always be treated as labels (consistent with DataFrame behavior). To access a value by position, use `ser.iloc[pos]`\n",
      "  discretized_instance[f])]\n",
      "/Users/ygao/Library/Caches/pypoetry/virtualenvs/program-i-Fez0zm-py3.10/lib/python3.10/site-packages/lime/discretize.py:110: FutureWarning: Series.__getitem__ treating keys as positions is deprecated. In a future version, integer keys will always be treated as labels (consistent with DataFrame behavior). To access a value by position, use `ser.iloc[pos]`\n",
      "  ret[feature] = int(self.lambdas[feature](ret[feature]))\n",
      "/Users/ygao/Library/Caches/pypoetry/virtualenvs/program-i-Fez0zm-py3.10/lib/python3.10/site-packages/lime/discretize.py:110: FutureWarning: Series.__setitem__ treating keys as positions is deprecated. In a future version, integer keys will always be treated as labels (consistent with DataFrame behavior). To set a value by position, use `ser.iloc[pos] = value`\n",
      "  ret[feature] = int(self.lambdas[feature](ret[feature]))\n",
      "/Users/ygao/Library/Caches/pypoetry/virtualenvs/program-i-Fez0zm-py3.10/lib/python3.10/site-packages/lime/lime_tabular.py:544: FutureWarning: Series.__getitem__ treating keys as positions is deprecated. In a future version, integer keys will always be treated as labels (consistent with DataFrame behavior). To access a value by position, use `ser.iloc[pos]`\n",
      "  binary_column = (inverse_column == first_row[column]).astype(int)\n"
     ]
    },
    {
     "name": "stdout",
     "output_type": "stream",
     "text": [
      "157/157 [==============================] - 0s 1ms/step\n",
      " 41/157 [======>.......................] - ETA: 0s"
     ]
    },
    {
     "name": "stderr",
     "output_type": "stream",
     "text": [
      "/Users/ygao/Library/Caches/pypoetry/virtualenvs/program-i-Fez0zm-py3.10/lib/python3.10/site-packages/lime/discretize.py:110: FutureWarning: Series.__getitem__ treating keys as positions is deprecated. In a future version, integer keys will always be treated as labels (consistent with DataFrame behavior). To access a value by position, use `ser.iloc[pos]`\n",
      "  ret[feature] = int(self.lambdas[feature](ret[feature]))\n",
      "/Users/ygao/Library/Caches/pypoetry/virtualenvs/program-i-Fez0zm-py3.10/lib/python3.10/site-packages/lime/discretize.py:110: FutureWarning: Series.__setitem__ treating keys as positions is deprecated. In a future version, integer keys will always be treated as labels (consistent with DataFrame behavior). To set a value by position, use `ser.iloc[pos] = value`\n",
      "  ret[feature] = int(self.lambdas[feature](ret[feature]))\n",
      "/Users/ygao/Library/Caches/pypoetry/virtualenvs/program-i-Fez0zm-py3.10/lib/python3.10/site-packages/lime/lime_tabular.py:427: FutureWarning: Series.__getitem__ treating keys as positions is deprecated. In a future version, integer keys will always be treated as labels (consistent with DataFrame behavior). To access a value by position, use `ser.iloc[pos]`\n",
      "  discretized_instance[f])]\n",
      "/Users/ygao/Library/Caches/pypoetry/virtualenvs/program-i-Fez0zm-py3.10/lib/python3.10/site-packages/lime/discretize.py:110: FutureWarning: Series.__getitem__ treating keys as positions is deprecated. In a future version, integer keys will always be treated as labels (consistent with DataFrame behavior). To access a value by position, use `ser.iloc[pos]`\n",
      "  ret[feature] = int(self.lambdas[feature](ret[feature]))\n",
      "/Users/ygao/Library/Caches/pypoetry/virtualenvs/program-i-Fez0zm-py3.10/lib/python3.10/site-packages/lime/discretize.py:110: FutureWarning: Series.__setitem__ treating keys as positions is deprecated. In a future version, integer keys will always be treated as labels (consistent with DataFrame behavior). To set a value by position, use `ser.iloc[pos] = value`\n",
      "  ret[feature] = int(self.lambdas[feature](ret[feature]))\n",
      "/Users/ygao/Library/Caches/pypoetry/virtualenvs/program-i-Fez0zm-py3.10/lib/python3.10/site-packages/lime/lime_tabular.py:544: FutureWarning: Series.__getitem__ treating keys as positions is deprecated. In a future version, integer keys will always be treated as labels (consistent with DataFrame behavior). To access a value by position, use `ser.iloc[pos]`\n",
      "  binary_column = (inverse_column == first_row[column]).astype(int)\n"
     ]
    },
    {
     "name": "stdout",
     "output_type": "stream",
     "text": [
      "157/157 [==============================] - 0s 1ms/step\n",
      " 44/157 [=======>......................] - ETA: 0s "
     ]
    },
    {
     "name": "stderr",
     "output_type": "stream",
     "text": [
      "/Users/ygao/Library/Caches/pypoetry/virtualenvs/program-i-Fez0zm-py3.10/lib/python3.10/site-packages/lime/discretize.py:110: FutureWarning: Series.__getitem__ treating keys as positions is deprecated. In a future version, integer keys will always be treated as labels (consistent with DataFrame behavior). To access a value by position, use `ser.iloc[pos]`\n",
      "  ret[feature] = int(self.lambdas[feature](ret[feature]))\n",
      "/Users/ygao/Library/Caches/pypoetry/virtualenvs/program-i-Fez0zm-py3.10/lib/python3.10/site-packages/lime/discretize.py:110: FutureWarning: Series.__setitem__ treating keys as positions is deprecated. In a future version, integer keys will always be treated as labels (consistent with DataFrame behavior). To set a value by position, use `ser.iloc[pos] = value`\n",
      "  ret[feature] = int(self.lambdas[feature](ret[feature]))\n",
      "/Users/ygao/Library/Caches/pypoetry/virtualenvs/program-i-Fez0zm-py3.10/lib/python3.10/site-packages/lime/lime_tabular.py:427: FutureWarning: Series.__getitem__ treating keys as positions is deprecated. In a future version, integer keys will always be treated as labels (consistent with DataFrame behavior). To access a value by position, use `ser.iloc[pos]`\n",
      "  discretized_instance[f])]\n",
      "/Users/ygao/Library/Caches/pypoetry/virtualenvs/program-i-Fez0zm-py3.10/lib/python3.10/site-packages/lime/discretize.py:110: FutureWarning: Series.__getitem__ treating keys as positions is deprecated. In a future version, integer keys will always be treated as labels (consistent with DataFrame behavior). To access a value by position, use `ser.iloc[pos]`\n",
      "  ret[feature] = int(self.lambdas[feature](ret[feature]))\n",
      "/Users/ygao/Library/Caches/pypoetry/virtualenvs/program-i-Fez0zm-py3.10/lib/python3.10/site-packages/lime/discretize.py:110: FutureWarning: Series.__setitem__ treating keys as positions is deprecated. In a future version, integer keys will always be treated as labels (consistent with DataFrame behavior). To set a value by position, use `ser.iloc[pos] = value`\n",
      "  ret[feature] = int(self.lambdas[feature](ret[feature]))\n",
      "/Users/ygao/Library/Caches/pypoetry/virtualenvs/program-i-Fez0zm-py3.10/lib/python3.10/site-packages/lime/lime_tabular.py:544: FutureWarning: Series.__getitem__ treating keys as positions is deprecated. In a future version, integer keys will always be treated as labels (consistent with DataFrame behavior). To access a value by position, use `ser.iloc[pos]`\n",
      "  binary_column = (inverse_column == first_row[column]).astype(int)\n"
     ]
    },
    {
     "name": "stdout",
     "output_type": "stream",
     "text": [
      "157/157 [==============================] - 0s 1ms/step\n",
      " 29/157 [====>.........................] - ETA: 0s"
     ]
    },
    {
     "name": "stderr",
     "output_type": "stream",
     "text": [
      "/Users/ygao/Library/Caches/pypoetry/virtualenvs/program-i-Fez0zm-py3.10/lib/python3.10/site-packages/lime/discretize.py:110: FutureWarning: Series.__getitem__ treating keys as positions is deprecated. In a future version, integer keys will always be treated as labels (consistent with DataFrame behavior). To access a value by position, use `ser.iloc[pos]`\n",
      "  ret[feature] = int(self.lambdas[feature](ret[feature]))\n",
      "/Users/ygao/Library/Caches/pypoetry/virtualenvs/program-i-Fez0zm-py3.10/lib/python3.10/site-packages/lime/discretize.py:110: FutureWarning: Series.__setitem__ treating keys as positions is deprecated. In a future version, integer keys will always be treated as labels (consistent with DataFrame behavior). To set a value by position, use `ser.iloc[pos] = value`\n",
      "  ret[feature] = int(self.lambdas[feature](ret[feature]))\n",
      "/Users/ygao/Library/Caches/pypoetry/virtualenvs/program-i-Fez0zm-py3.10/lib/python3.10/site-packages/lime/lime_tabular.py:427: FutureWarning: Series.__getitem__ treating keys as positions is deprecated. In a future version, integer keys will always be treated as labels (consistent with DataFrame behavior). To access a value by position, use `ser.iloc[pos]`\n",
      "  discretized_instance[f])]\n",
      "/Users/ygao/Library/Caches/pypoetry/virtualenvs/program-i-Fez0zm-py3.10/lib/python3.10/site-packages/lime/discretize.py:110: FutureWarning: Series.__getitem__ treating keys as positions is deprecated. In a future version, integer keys will always be treated as labels (consistent with DataFrame behavior). To access a value by position, use `ser.iloc[pos]`\n",
      "  ret[feature] = int(self.lambdas[feature](ret[feature]))\n",
      "/Users/ygao/Library/Caches/pypoetry/virtualenvs/program-i-Fez0zm-py3.10/lib/python3.10/site-packages/lime/discretize.py:110: FutureWarning: Series.__setitem__ treating keys as positions is deprecated. In a future version, integer keys will always be treated as labels (consistent with DataFrame behavior). To set a value by position, use `ser.iloc[pos] = value`\n",
      "  ret[feature] = int(self.lambdas[feature](ret[feature]))\n",
      "/Users/ygao/Library/Caches/pypoetry/virtualenvs/program-i-Fez0zm-py3.10/lib/python3.10/site-packages/lime/lime_tabular.py:544: FutureWarning: Series.__getitem__ treating keys as positions is deprecated. In a future version, integer keys will always be treated as labels (consistent with DataFrame behavior). To access a value by position, use `ser.iloc[pos]`\n",
      "  binary_column = (inverse_column == first_row[column]).astype(int)\n"
     ]
    },
    {
     "name": "stdout",
     "output_type": "stream",
     "text": [
      "157/157 [==============================] - 0s 1ms/step\n",
      "  1/157 [..............................] - ETA: 11s"
     ]
    },
    {
     "name": "stderr",
     "output_type": "stream",
     "text": [
      "/Users/ygao/Library/Caches/pypoetry/virtualenvs/program-i-Fez0zm-py3.10/lib/python3.10/site-packages/lime/discretize.py:110: FutureWarning: Series.__getitem__ treating keys as positions is deprecated. In a future version, integer keys will always be treated as labels (consistent with DataFrame behavior). To access a value by position, use `ser.iloc[pos]`\n",
      "  ret[feature] = int(self.lambdas[feature](ret[feature]))\n",
      "/Users/ygao/Library/Caches/pypoetry/virtualenvs/program-i-Fez0zm-py3.10/lib/python3.10/site-packages/lime/discretize.py:110: FutureWarning: Series.__setitem__ treating keys as positions is deprecated. In a future version, integer keys will always be treated as labels (consistent with DataFrame behavior). To set a value by position, use `ser.iloc[pos] = value`\n",
      "  ret[feature] = int(self.lambdas[feature](ret[feature]))\n",
      "/Users/ygao/Library/Caches/pypoetry/virtualenvs/program-i-Fez0zm-py3.10/lib/python3.10/site-packages/lime/lime_tabular.py:427: FutureWarning: Series.__getitem__ treating keys as positions is deprecated. In a future version, integer keys will always be treated as labels (consistent with DataFrame behavior). To access a value by position, use `ser.iloc[pos]`\n",
      "  discretized_instance[f])]\n",
      "/Users/ygao/Library/Caches/pypoetry/virtualenvs/program-i-Fez0zm-py3.10/lib/python3.10/site-packages/lime/discretize.py:110: FutureWarning: Series.__getitem__ treating keys as positions is deprecated. In a future version, integer keys will always be treated as labels (consistent with DataFrame behavior). To access a value by position, use `ser.iloc[pos]`\n",
      "  ret[feature] = int(self.lambdas[feature](ret[feature]))\n",
      "/Users/ygao/Library/Caches/pypoetry/virtualenvs/program-i-Fez0zm-py3.10/lib/python3.10/site-packages/lime/discretize.py:110: FutureWarning: Series.__setitem__ treating keys as positions is deprecated. In a future version, integer keys will always be treated as labels (consistent with DataFrame behavior). To set a value by position, use `ser.iloc[pos] = value`\n",
      "  ret[feature] = int(self.lambdas[feature](ret[feature]))\n",
      "/Users/ygao/Library/Caches/pypoetry/virtualenvs/program-i-Fez0zm-py3.10/lib/python3.10/site-packages/lime/lime_tabular.py:544: FutureWarning: Series.__getitem__ treating keys as positions is deprecated. In a future version, integer keys will always be treated as labels (consistent with DataFrame behavior). To access a value by position, use `ser.iloc[pos]`\n",
      "  binary_column = (inverse_column == first_row[column]).astype(int)\n"
     ]
    },
    {
     "name": "stdout",
     "output_type": "stream",
     "text": [
      "157/157 [==============================] - 0s 1ms/step\n"
     ]
    },
    {
     "name": "stderr",
     "output_type": "stream",
     "text": [
      "/Users/ygao/Library/Caches/pypoetry/virtualenvs/program-i-Fez0zm-py3.10/lib/python3.10/site-packages/lime/discretize.py:110: FutureWarning: Series.__getitem__ treating keys as positions is deprecated. In a future version, integer keys will always be treated as labels (consistent with DataFrame behavior). To access a value by position, use `ser.iloc[pos]`\n",
      "  ret[feature] = int(self.lambdas[feature](ret[feature]))\n",
      "/Users/ygao/Library/Caches/pypoetry/virtualenvs/program-i-Fez0zm-py3.10/lib/python3.10/site-packages/lime/discretize.py:110: FutureWarning: Series.__setitem__ treating keys as positions is deprecated. In a future version, integer keys will always be treated as labels (consistent with DataFrame behavior). To set a value by position, use `ser.iloc[pos] = value`\n",
      "  ret[feature] = int(self.lambdas[feature](ret[feature]))\n",
      "/Users/ygao/Library/Caches/pypoetry/virtualenvs/program-i-Fez0zm-py3.10/lib/python3.10/site-packages/lime/lime_tabular.py:427: FutureWarning: Series.__getitem__ treating keys as positions is deprecated. In a future version, integer keys will always be treated as labels (consistent with DataFrame behavior). To access a value by position, use `ser.iloc[pos]`\n",
      "  discretized_instance[f])]\n",
      "/Users/ygao/Library/Caches/pypoetry/virtualenvs/program-i-Fez0zm-py3.10/lib/python3.10/site-packages/lime/discretize.py:110: FutureWarning: Series.__getitem__ treating keys as positions is deprecated. In a future version, integer keys will always be treated as labels (consistent with DataFrame behavior). To access a value by position, use `ser.iloc[pos]`\n",
      "  ret[feature] = int(self.lambdas[feature](ret[feature]))\n",
      "/Users/ygao/Library/Caches/pypoetry/virtualenvs/program-i-Fez0zm-py3.10/lib/python3.10/site-packages/lime/discretize.py:110: FutureWarning: Series.__setitem__ treating keys as positions is deprecated. In a future version, integer keys will always be treated as labels (consistent with DataFrame behavior). To set a value by position, use `ser.iloc[pos] = value`\n",
      "  ret[feature] = int(self.lambdas[feature](ret[feature]))\n",
      "/Users/ygao/Library/Caches/pypoetry/virtualenvs/program-i-Fez0zm-py3.10/lib/python3.10/site-packages/lime/lime_tabular.py:544: FutureWarning: Series.__getitem__ treating keys as positions is deprecated. In a future version, integer keys will always be treated as labels (consistent with DataFrame behavior). To access a value by position, use `ser.iloc[pos]`\n",
      "  binary_column = (inverse_column == first_row[column]).astype(int)\n"
     ]
    },
    {
     "name": "stdout",
     "output_type": "stream",
     "text": [
      "157/157 [==============================] - 0s 976us/step\n",
      " 33/157 [=====>........................] - ETA: 0s"
     ]
    },
    {
     "name": "stderr",
     "output_type": "stream",
     "text": [
      "/Users/ygao/Library/Caches/pypoetry/virtualenvs/program-i-Fez0zm-py3.10/lib/python3.10/site-packages/lime/discretize.py:110: FutureWarning: Series.__getitem__ treating keys as positions is deprecated. In a future version, integer keys will always be treated as labels (consistent with DataFrame behavior). To access a value by position, use `ser.iloc[pos]`\n",
      "  ret[feature] = int(self.lambdas[feature](ret[feature]))\n",
      "/Users/ygao/Library/Caches/pypoetry/virtualenvs/program-i-Fez0zm-py3.10/lib/python3.10/site-packages/lime/discretize.py:110: FutureWarning: Series.__setitem__ treating keys as positions is deprecated. In a future version, integer keys will always be treated as labels (consistent with DataFrame behavior). To set a value by position, use `ser.iloc[pos] = value`\n",
      "  ret[feature] = int(self.lambdas[feature](ret[feature]))\n",
      "/Users/ygao/Library/Caches/pypoetry/virtualenvs/program-i-Fez0zm-py3.10/lib/python3.10/site-packages/lime/lime_tabular.py:427: FutureWarning: Series.__getitem__ treating keys as positions is deprecated. In a future version, integer keys will always be treated as labels (consistent with DataFrame behavior). To access a value by position, use `ser.iloc[pos]`\n",
      "  discretized_instance[f])]\n",
      "/Users/ygao/Library/Caches/pypoetry/virtualenvs/program-i-Fez0zm-py3.10/lib/python3.10/site-packages/lime/discretize.py:110: FutureWarning: Series.__getitem__ treating keys as positions is deprecated. In a future version, integer keys will always be treated as labels (consistent with DataFrame behavior). To access a value by position, use `ser.iloc[pos]`\n",
      "  ret[feature] = int(self.lambdas[feature](ret[feature]))\n",
      "/Users/ygao/Library/Caches/pypoetry/virtualenvs/program-i-Fez0zm-py3.10/lib/python3.10/site-packages/lime/discretize.py:110: FutureWarning: Series.__setitem__ treating keys as positions is deprecated. In a future version, integer keys will always be treated as labels (consistent with DataFrame behavior). To set a value by position, use `ser.iloc[pos] = value`\n",
      "  ret[feature] = int(self.lambdas[feature](ret[feature]))\n",
      "/Users/ygao/Library/Caches/pypoetry/virtualenvs/program-i-Fez0zm-py3.10/lib/python3.10/site-packages/lime/lime_tabular.py:544: FutureWarning: Series.__getitem__ treating keys as positions is deprecated. In a future version, integer keys will always be treated as labels (consistent with DataFrame behavior). To access a value by position, use `ser.iloc[pos]`\n",
      "  binary_column = (inverse_column == first_row[column]).astype(int)\n"
     ]
    },
    {
     "name": "stdout",
     "output_type": "stream",
     "text": [
      "157/157 [==============================] - 0s 1ms/step\n",
      "  1/157 [..............................] - ETA: 13s"
     ]
    },
    {
     "name": "stderr",
     "output_type": "stream",
     "text": [
      "/Users/ygao/Library/Caches/pypoetry/virtualenvs/program-i-Fez0zm-py3.10/lib/python3.10/site-packages/lime/discretize.py:110: FutureWarning: Series.__getitem__ treating keys as positions is deprecated. In a future version, integer keys will always be treated as labels (consistent with DataFrame behavior). To access a value by position, use `ser.iloc[pos]`\n",
      "  ret[feature] = int(self.lambdas[feature](ret[feature]))\n",
      "/Users/ygao/Library/Caches/pypoetry/virtualenvs/program-i-Fez0zm-py3.10/lib/python3.10/site-packages/lime/discretize.py:110: FutureWarning: Series.__setitem__ treating keys as positions is deprecated. In a future version, integer keys will always be treated as labels (consistent with DataFrame behavior). To set a value by position, use `ser.iloc[pos] = value`\n",
      "  ret[feature] = int(self.lambdas[feature](ret[feature]))\n",
      "/Users/ygao/Library/Caches/pypoetry/virtualenvs/program-i-Fez0zm-py3.10/lib/python3.10/site-packages/lime/lime_tabular.py:427: FutureWarning: Series.__getitem__ treating keys as positions is deprecated. In a future version, integer keys will always be treated as labels (consistent with DataFrame behavior). To access a value by position, use `ser.iloc[pos]`\n",
      "  discretized_instance[f])]\n",
      "/Users/ygao/Library/Caches/pypoetry/virtualenvs/program-i-Fez0zm-py3.10/lib/python3.10/site-packages/lime/discretize.py:110: FutureWarning: Series.__getitem__ treating keys as positions is deprecated. In a future version, integer keys will always be treated as labels (consistent with DataFrame behavior). To access a value by position, use `ser.iloc[pos]`\n",
      "  ret[feature] = int(self.lambdas[feature](ret[feature]))\n",
      "/Users/ygao/Library/Caches/pypoetry/virtualenvs/program-i-Fez0zm-py3.10/lib/python3.10/site-packages/lime/discretize.py:110: FutureWarning: Series.__setitem__ treating keys as positions is deprecated. In a future version, integer keys will always be treated as labels (consistent with DataFrame behavior). To set a value by position, use `ser.iloc[pos] = value`\n",
      "  ret[feature] = int(self.lambdas[feature](ret[feature]))\n",
      "/Users/ygao/Library/Caches/pypoetry/virtualenvs/program-i-Fez0zm-py3.10/lib/python3.10/site-packages/lime/lime_tabular.py:544: FutureWarning: Series.__getitem__ treating keys as positions is deprecated. In a future version, integer keys will always be treated as labels (consistent with DataFrame behavior). To access a value by position, use `ser.iloc[pos]`\n",
      "  binary_column = (inverse_column == first_row[column]).astype(int)\n"
     ]
    },
    {
     "name": "stdout",
     "output_type": "stream",
     "text": [
      "157/157 [==============================] - 0s 1ms/step\n",
      " 39/157 [======>.......................] - ETA: 0s"
     ]
    },
    {
     "name": "stderr",
     "output_type": "stream",
     "text": [
      "/Users/ygao/Library/Caches/pypoetry/virtualenvs/program-i-Fez0zm-py3.10/lib/python3.10/site-packages/lime/discretize.py:110: FutureWarning: Series.__getitem__ treating keys as positions is deprecated. In a future version, integer keys will always be treated as labels (consistent with DataFrame behavior). To access a value by position, use `ser.iloc[pos]`\n",
      "  ret[feature] = int(self.lambdas[feature](ret[feature]))\n",
      "/Users/ygao/Library/Caches/pypoetry/virtualenvs/program-i-Fez0zm-py3.10/lib/python3.10/site-packages/lime/discretize.py:110: FutureWarning: Series.__setitem__ treating keys as positions is deprecated. In a future version, integer keys will always be treated as labels (consistent with DataFrame behavior). To set a value by position, use `ser.iloc[pos] = value`\n",
      "  ret[feature] = int(self.lambdas[feature](ret[feature]))\n",
      "/Users/ygao/Library/Caches/pypoetry/virtualenvs/program-i-Fez0zm-py3.10/lib/python3.10/site-packages/lime/lime_tabular.py:427: FutureWarning: Series.__getitem__ treating keys as positions is deprecated. In a future version, integer keys will always be treated as labels (consistent with DataFrame behavior). To access a value by position, use `ser.iloc[pos]`\n",
      "  discretized_instance[f])]\n",
      "/Users/ygao/Library/Caches/pypoetry/virtualenvs/program-i-Fez0zm-py3.10/lib/python3.10/site-packages/lime/discretize.py:110: FutureWarning: Series.__getitem__ treating keys as positions is deprecated. In a future version, integer keys will always be treated as labels (consistent with DataFrame behavior). To access a value by position, use `ser.iloc[pos]`\n",
      "  ret[feature] = int(self.lambdas[feature](ret[feature]))\n",
      "/Users/ygao/Library/Caches/pypoetry/virtualenvs/program-i-Fez0zm-py3.10/lib/python3.10/site-packages/lime/discretize.py:110: FutureWarning: Series.__setitem__ treating keys as positions is deprecated. In a future version, integer keys will always be treated as labels (consistent with DataFrame behavior). To set a value by position, use `ser.iloc[pos] = value`\n",
      "  ret[feature] = int(self.lambdas[feature](ret[feature]))\n",
      "/Users/ygao/Library/Caches/pypoetry/virtualenvs/program-i-Fez0zm-py3.10/lib/python3.10/site-packages/lime/lime_tabular.py:544: FutureWarning: Series.__getitem__ treating keys as positions is deprecated. In a future version, integer keys will always be treated as labels (consistent with DataFrame behavior). To access a value by position, use `ser.iloc[pos]`\n",
      "  binary_column = (inverse_column == first_row[column]).astype(int)\n"
     ]
    },
    {
     "name": "stdout",
     "output_type": "stream",
     "text": [
      "157/157 [==============================] - 0s 1ms/step\n",
      " 40/157 [======>.......................] - ETA: 0s"
     ]
    },
    {
     "name": "stderr",
     "output_type": "stream",
     "text": [
      "/Users/ygao/Library/Caches/pypoetry/virtualenvs/program-i-Fez0zm-py3.10/lib/python3.10/site-packages/lime/discretize.py:110: FutureWarning: Series.__getitem__ treating keys as positions is deprecated. In a future version, integer keys will always be treated as labels (consistent with DataFrame behavior). To access a value by position, use `ser.iloc[pos]`\n",
      "  ret[feature] = int(self.lambdas[feature](ret[feature]))\n",
      "/Users/ygao/Library/Caches/pypoetry/virtualenvs/program-i-Fez0zm-py3.10/lib/python3.10/site-packages/lime/discretize.py:110: FutureWarning: Series.__setitem__ treating keys as positions is deprecated. In a future version, integer keys will always be treated as labels (consistent with DataFrame behavior). To set a value by position, use `ser.iloc[pos] = value`\n",
      "  ret[feature] = int(self.lambdas[feature](ret[feature]))\n",
      "/Users/ygao/Library/Caches/pypoetry/virtualenvs/program-i-Fez0zm-py3.10/lib/python3.10/site-packages/lime/lime_tabular.py:427: FutureWarning: Series.__getitem__ treating keys as positions is deprecated. In a future version, integer keys will always be treated as labels (consistent with DataFrame behavior). To access a value by position, use `ser.iloc[pos]`\n",
      "  discretized_instance[f])]\n",
      "/Users/ygao/Library/Caches/pypoetry/virtualenvs/program-i-Fez0zm-py3.10/lib/python3.10/site-packages/lime/discretize.py:110: FutureWarning: Series.__getitem__ treating keys as positions is deprecated. In a future version, integer keys will always be treated as labels (consistent with DataFrame behavior). To access a value by position, use `ser.iloc[pos]`\n",
      "  ret[feature] = int(self.lambdas[feature](ret[feature]))\n",
      "/Users/ygao/Library/Caches/pypoetry/virtualenvs/program-i-Fez0zm-py3.10/lib/python3.10/site-packages/lime/discretize.py:110: FutureWarning: Series.__setitem__ treating keys as positions is deprecated. In a future version, integer keys will always be treated as labels (consistent with DataFrame behavior). To set a value by position, use `ser.iloc[pos] = value`\n",
      "  ret[feature] = int(self.lambdas[feature](ret[feature]))\n",
      "/Users/ygao/Library/Caches/pypoetry/virtualenvs/program-i-Fez0zm-py3.10/lib/python3.10/site-packages/lime/lime_tabular.py:544: FutureWarning: Series.__getitem__ treating keys as positions is deprecated. In a future version, integer keys will always be treated as labels (consistent with DataFrame behavior). To access a value by position, use `ser.iloc[pos]`\n",
      "  binary_column = (inverse_column == first_row[column]).astype(int)\n"
     ]
    },
    {
     "name": "stdout",
     "output_type": "stream",
     "text": [
      "157/157 [==============================] - 0s 1ms/step\n"
     ]
    },
    {
     "name": "stderr",
     "output_type": "stream",
     "text": [
      "/Users/ygao/Library/Caches/pypoetry/virtualenvs/program-i-Fez0zm-py3.10/lib/python3.10/site-packages/lime/discretize.py:110: FutureWarning: Series.__getitem__ treating keys as positions is deprecated. In a future version, integer keys will always be treated as labels (consistent with DataFrame behavior). To access a value by position, use `ser.iloc[pos]`\n",
      "  ret[feature] = int(self.lambdas[feature](ret[feature]))\n",
      "/Users/ygao/Library/Caches/pypoetry/virtualenvs/program-i-Fez0zm-py3.10/lib/python3.10/site-packages/lime/discretize.py:110: FutureWarning: Series.__setitem__ treating keys as positions is deprecated. In a future version, integer keys will always be treated as labels (consistent with DataFrame behavior). To set a value by position, use `ser.iloc[pos] = value`\n",
      "  ret[feature] = int(self.lambdas[feature](ret[feature]))\n",
      "/Users/ygao/Library/Caches/pypoetry/virtualenvs/program-i-Fez0zm-py3.10/lib/python3.10/site-packages/lime/lime_tabular.py:427: FutureWarning: Series.__getitem__ treating keys as positions is deprecated. In a future version, integer keys will always be treated as labels (consistent with DataFrame behavior). To access a value by position, use `ser.iloc[pos]`\n",
      "  discretized_instance[f])]\n",
      "/Users/ygao/Library/Caches/pypoetry/virtualenvs/program-i-Fez0zm-py3.10/lib/python3.10/site-packages/lime/discretize.py:110: FutureWarning: Series.__getitem__ treating keys as positions is deprecated. In a future version, integer keys will always be treated as labels (consistent with DataFrame behavior). To access a value by position, use `ser.iloc[pos]`\n",
      "  ret[feature] = int(self.lambdas[feature](ret[feature]))\n",
      "/Users/ygao/Library/Caches/pypoetry/virtualenvs/program-i-Fez0zm-py3.10/lib/python3.10/site-packages/lime/discretize.py:110: FutureWarning: Series.__setitem__ treating keys as positions is deprecated. In a future version, integer keys will always be treated as labels (consistent with DataFrame behavior). To set a value by position, use `ser.iloc[pos] = value`\n",
      "  ret[feature] = int(self.lambdas[feature](ret[feature]))\n",
      "/Users/ygao/Library/Caches/pypoetry/virtualenvs/program-i-Fez0zm-py3.10/lib/python3.10/site-packages/lime/lime_tabular.py:544: FutureWarning: Series.__getitem__ treating keys as positions is deprecated. In a future version, integer keys will always be treated as labels (consistent with DataFrame behavior). To access a value by position, use `ser.iloc[pos]`\n",
      "  binary_column = (inverse_column == first_row[column]).astype(int)\n"
     ]
    },
    {
     "name": "stdout",
     "output_type": "stream",
     "text": [
      "157/157 [==============================] - 0s 845us/step\n",
      "  1/157 [..............................] - ETA: 8s"
     ]
    },
    {
     "name": "stderr",
     "output_type": "stream",
     "text": [
      "/Users/ygao/Library/Caches/pypoetry/virtualenvs/program-i-Fez0zm-py3.10/lib/python3.10/site-packages/lime/discretize.py:110: FutureWarning: Series.__getitem__ treating keys as positions is deprecated. In a future version, integer keys will always be treated as labels (consistent with DataFrame behavior). To access a value by position, use `ser.iloc[pos]`\n",
      "  ret[feature] = int(self.lambdas[feature](ret[feature]))\n",
      "/Users/ygao/Library/Caches/pypoetry/virtualenvs/program-i-Fez0zm-py3.10/lib/python3.10/site-packages/lime/discretize.py:110: FutureWarning: Series.__setitem__ treating keys as positions is deprecated. In a future version, integer keys will always be treated as labels (consistent with DataFrame behavior). To set a value by position, use `ser.iloc[pos] = value`\n",
      "  ret[feature] = int(self.lambdas[feature](ret[feature]))\n",
      "/Users/ygao/Library/Caches/pypoetry/virtualenvs/program-i-Fez0zm-py3.10/lib/python3.10/site-packages/lime/lime_tabular.py:427: FutureWarning: Series.__getitem__ treating keys as positions is deprecated. In a future version, integer keys will always be treated as labels (consistent with DataFrame behavior). To access a value by position, use `ser.iloc[pos]`\n",
      "  discretized_instance[f])]\n",
      "/Users/ygao/Library/Caches/pypoetry/virtualenvs/program-i-Fez0zm-py3.10/lib/python3.10/site-packages/lime/discretize.py:110: FutureWarning: Series.__getitem__ treating keys as positions is deprecated. In a future version, integer keys will always be treated as labels (consistent with DataFrame behavior). To access a value by position, use `ser.iloc[pos]`\n",
      "  ret[feature] = int(self.lambdas[feature](ret[feature]))\n",
      "/Users/ygao/Library/Caches/pypoetry/virtualenvs/program-i-Fez0zm-py3.10/lib/python3.10/site-packages/lime/discretize.py:110: FutureWarning: Series.__setitem__ treating keys as positions is deprecated. In a future version, integer keys will always be treated as labels (consistent with DataFrame behavior). To set a value by position, use `ser.iloc[pos] = value`\n",
      "  ret[feature] = int(self.lambdas[feature](ret[feature]))\n",
      "/Users/ygao/Library/Caches/pypoetry/virtualenvs/program-i-Fez0zm-py3.10/lib/python3.10/site-packages/lime/lime_tabular.py:544: FutureWarning: Series.__getitem__ treating keys as positions is deprecated. In a future version, integer keys will always be treated as labels (consistent with DataFrame behavior). To access a value by position, use `ser.iloc[pos]`\n",
      "  binary_column = (inverse_column == first_row[column]).astype(int)\n"
     ]
    },
    {
     "name": "stdout",
     "output_type": "stream",
     "text": [
      "157/157 [==============================] - 0s 1ms/step\n",
      "  1/157 [..............................] - ETA: 10s"
     ]
    },
    {
     "name": "stderr",
     "output_type": "stream",
     "text": [
      "/Users/ygao/Library/Caches/pypoetry/virtualenvs/program-i-Fez0zm-py3.10/lib/python3.10/site-packages/lime/discretize.py:110: FutureWarning: Series.__getitem__ treating keys as positions is deprecated. In a future version, integer keys will always be treated as labels (consistent with DataFrame behavior). To access a value by position, use `ser.iloc[pos]`\n",
      "  ret[feature] = int(self.lambdas[feature](ret[feature]))\n",
      "/Users/ygao/Library/Caches/pypoetry/virtualenvs/program-i-Fez0zm-py3.10/lib/python3.10/site-packages/lime/discretize.py:110: FutureWarning: Series.__setitem__ treating keys as positions is deprecated. In a future version, integer keys will always be treated as labels (consistent with DataFrame behavior). To set a value by position, use `ser.iloc[pos] = value`\n",
      "  ret[feature] = int(self.lambdas[feature](ret[feature]))\n",
      "/Users/ygao/Library/Caches/pypoetry/virtualenvs/program-i-Fez0zm-py3.10/lib/python3.10/site-packages/lime/lime_tabular.py:427: FutureWarning: Series.__getitem__ treating keys as positions is deprecated. In a future version, integer keys will always be treated as labels (consistent with DataFrame behavior). To access a value by position, use `ser.iloc[pos]`\n",
      "  discretized_instance[f])]\n",
      "/Users/ygao/Library/Caches/pypoetry/virtualenvs/program-i-Fez0zm-py3.10/lib/python3.10/site-packages/lime/discretize.py:110: FutureWarning: Series.__getitem__ treating keys as positions is deprecated. In a future version, integer keys will always be treated as labels (consistent with DataFrame behavior). To access a value by position, use `ser.iloc[pos]`\n",
      "  ret[feature] = int(self.lambdas[feature](ret[feature]))\n",
      "/Users/ygao/Library/Caches/pypoetry/virtualenvs/program-i-Fez0zm-py3.10/lib/python3.10/site-packages/lime/discretize.py:110: FutureWarning: Series.__setitem__ treating keys as positions is deprecated. In a future version, integer keys will always be treated as labels (consistent with DataFrame behavior). To set a value by position, use `ser.iloc[pos] = value`\n",
      "  ret[feature] = int(self.lambdas[feature](ret[feature]))\n",
      "/Users/ygao/Library/Caches/pypoetry/virtualenvs/program-i-Fez0zm-py3.10/lib/python3.10/site-packages/lime/lime_tabular.py:544: FutureWarning: Series.__getitem__ treating keys as positions is deprecated. In a future version, integer keys will always be treated as labels (consistent with DataFrame behavior). To access a value by position, use `ser.iloc[pos]`\n",
      "  binary_column = (inverse_column == first_row[column]).astype(int)\n"
     ]
    },
    {
     "name": "stdout",
     "output_type": "stream",
     "text": [
      "157/157 [==============================] - 0s 1ms/step\n",
      "  1/157 [..............................] - ETA: 9s"
     ]
    },
    {
     "name": "stderr",
     "output_type": "stream",
     "text": [
      "/Users/ygao/Library/Caches/pypoetry/virtualenvs/program-i-Fez0zm-py3.10/lib/python3.10/site-packages/lime/discretize.py:110: FutureWarning: Series.__getitem__ treating keys as positions is deprecated. In a future version, integer keys will always be treated as labels (consistent with DataFrame behavior). To access a value by position, use `ser.iloc[pos]`\n",
      "  ret[feature] = int(self.lambdas[feature](ret[feature]))\n",
      "/Users/ygao/Library/Caches/pypoetry/virtualenvs/program-i-Fez0zm-py3.10/lib/python3.10/site-packages/lime/discretize.py:110: FutureWarning: Series.__setitem__ treating keys as positions is deprecated. In a future version, integer keys will always be treated as labels (consistent with DataFrame behavior). To set a value by position, use `ser.iloc[pos] = value`\n",
      "  ret[feature] = int(self.lambdas[feature](ret[feature]))\n",
      "/Users/ygao/Library/Caches/pypoetry/virtualenvs/program-i-Fez0zm-py3.10/lib/python3.10/site-packages/lime/lime_tabular.py:427: FutureWarning: Series.__getitem__ treating keys as positions is deprecated. In a future version, integer keys will always be treated as labels (consistent with DataFrame behavior). To access a value by position, use `ser.iloc[pos]`\n",
      "  discretized_instance[f])]\n",
      "/Users/ygao/Library/Caches/pypoetry/virtualenvs/program-i-Fez0zm-py3.10/lib/python3.10/site-packages/lime/discretize.py:110: FutureWarning: Series.__getitem__ treating keys as positions is deprecated. In a future version, integer keys will always be treated as labels (consistent with DataFrame behavior). To access a value by position, use `ser.iloc[pos]`\n",
      "  ret[feature] = int(self.lambdas[feature](ret[feature]))\n",
      "/Users/ygao/Library/Caches/pypoetry/virtualenvs/program-i-Fez0zm-py3.10/lib/python3.10/site-packages/lime/discretize.py:110: FutureWarning: Series.__setitem__ treating keys as positions is deprecated. In a future version, integer keys will always be treated as labels (consistent with DataFrame behavior). To set a value by position, use `ser.iloc[pos] = value`\n",
      "  ret[feature] = int(self.lambdas[feature](ret[feature]))\n",
      "/Users/ygao/Library/Caches/pypoetry/virtualenvs/program-i-Fez0zm-py3.10/lib/python3.10/site-packages/lime/lime_tabular.py:544: FutureWarning: Series.__getitem__ treating keys as positions is deprecated. In a future version, integer keys will always be treated as labels (consistent with DataFrame behavior). To access a value by position, use `ser.iloc[pos]`\n",
      "  binary_column = (inverse_column == first_row[column]).astype(int)\n"
     ]
    },
    {
     "name": "stdout",
     "output_type": "stream",
     "text": [
      "157/157 [==============================] - 0s 1ms/step\n",
      " 32/157 [=====>........................] - ETA: 0s"
     ]
    },
    {
     "name": "stderr",
     "output_type": "stream",
     "text": [
      "/Users/ygao/Library/Caches/pypoetry/virtualenvs/program-i-Fez0zm-py3.10/lib/python3.10/site-packages/lime/discretize.py:110: FutureWarning: Series.__getitem__ treating keys as positions is deprecated. In a future version, integer keys will always be treated as labels (consistent with DataFrame behavior). To access a value by position, use `ser.iloc[pos]`\n",
      "  ret[feature] = int(self.lambdas[feature](ret[feature]))\n",
      "/Users/ygao/Library/Caches/pypoetry/virtualenvs/program-i-Fez0zm-py3.10/lib/python3.10/site-packages/lime/discretize.py:110: FutureWarning: Series.__setitem__ treating keys as positions is deprecated. In a future version, integer keys will always be treated as labels (consistent with DataFrame behavior). To set a value by position, use `ser.iloc[pos] = value`\n",
      "  ret[feature] = int(self.lambdas[feature](ret[feature]))\n",
      "/Users/ygao/Library/Caches/pypoetry/virtualenvs/program-i-Fez0zm-py3.10/lib/python3.10/site-packages/lime/lime_tabular.py:427: FutureWarning: Series.__getitem__ treating keys as positions is deprecated. In a future version, integer keys will always be treated as labels (consistent with DataFrame behavior). To access a value by position, use `ser.iloc[pos]`\n",
      "  discretized_instance[f])]\n",
      "/Users/ygao/Library/Caches/pypoetry/virtualenvs/program-i-Fez0zm-py3.10/lib/python3.10/site-packages/lime/discretize.py:110: FutureWarning: Series.__getitem__ treating keys as positions is deprecated. In a future version, integer keys will always be treated as labels (consistent with DataFrame behavior). To access a value by position, use `ser.iloc[pos]`\n",
      "  ret[feature] = int(self.lambdas[feature](ret[feature]))\n",
      "/Users/ygao/Library/Caches/pypoetry/virtualenvs/program-i-Fez0zm-py3.10/lib/python3.10/site-packages/lime/discretize.py:110: FutureWarning: Series.__setitem__ treating keys as positions is deprecated. In a future version, integer keys will always be treated as labels (consistent with DataFrame behavior). To set a value by position, use `ser.iloc[pos] = value`\n",
      "  ret[feature] = int(self.lambdas[feature](ret[feature]))\n",
      "/Users/ygao/Library/Caches/pypoetry/virtualenvs/program-i-Fez0zm-py3.10/lib/python3.10/site-packages/lime/lime_tabular.py:544: FutureWarning: Series.__getitem__ treating keys as positions is deprecated. In a future version, integer keys will always be treated as labels (consistent with DataFrame behavior). To access a value by position, use `ser.iloc[pos]`\n",
      "  binary_column = (inverse_column == first_row[column]).astype(int)\n"
     ]
    },
    {
     "name": "stdout",
     "output_type": "stream",
     "text": [
      "157/157 [==============================] - 0s 1ms/step\n",
      "  1/157 [..............................] - ETA: 10s"
     ]
    },
    {
     "name": "stderr",
     "output_type": "stream",
     "text": [
      "/Users/ygao/Library/Caches/pypoetry/virtualenvs/program-i-Fez0zm-py3.10/lib/python3.10/site-packages/lime/discretize.py:110: FutureWarning: Series.__getitem__ treating keys as positions is deprecated. In a future version, integer keys will always be treated as labels (consistent with DataFrame behavior). To access a value by position, use `ser.iloc[pos]`\n",
      "  ret[feature] = int(self.lambdas[feature](ret[feature]))\n",
      "/Users/ygao/Library/Caches/pypoetry/virtualenvs/program-i-Fez0zm-py3.10/lib/python3.10/site-packages/lime/discretize.py:110: FutureWarning: Series.__setitem__ treating keys as positions is deprecated. In a future version, integer keys will always be treated as labels (consistent with DataFrame behavior). To set a value by position, use `ser.iloc[pos] = value`\n",
      "  ret[feature] = int(self.lambdas[feature](ret[feature]))\n",
      "/Users/ygao/Library/Caches/pypoetry/virtualenvs/program-i-Fez0zm-py3.10/lib/python3.10/site-packages/lime/lime_tabular.py:427: FutureWarning: Series.__getitem__ treating keys as positions is deprecated. In a future version, integer keys will always be treated as labels (consistent with DataFrame behavior). To access a value by position, use `ser.iloc[pos]`\n",
      "  discretized_instance[f])]\n",
      "/Users/ygao/Library/Caches/pypoetry/virtualenvs/program-i-Fez0zm-py3.10/lib/python3.10/site-packages/lime/discretize.py:110: FutureWarning: Series.__getitem__ treating keys as positions is deprecated. In a future version, integer keys will always be treated as labels (consistent with DataFrame behavior). To access a value by position, use `ser.iloc[pos]`\n",
      "  ret[feature] = int(self.lambdas[feature](ret[feature]))\n",
      "/Users/ygao/Library/Caches/pypoetry/virtualenvs/program-i-Fez0zm-py3.10/lib/python3.10/site-packages/lime/discretize.py:110: FutureWarning: Series.__setitem__ treating keys as positions is deprecated. In a future version, integer keys will always be treated as labels (consistent with DataFrame behavior). To set a value by position, use `ser.iloc[pos] = value`\n",
      "  ret[feature] = int(self.lambdas[feature](ret[feature]))\n",
      "/Users/ygao/Library/Caches/pypoetry/virtualenvs/program-i-Fez0zm-py3.10/lib/python3.10/site-packages/lime/lime_tabular.py:544: FutureWarning: Series.__getitem__ treating keys as positions is deprecated. In a future version, integer keys will always be treated as labels (consistent with DataFrame behavior). To access a value by position, use `ser.iloc[pos]`\n",
      "  binary_column = (inverse_column == first_row[column]).astype(int)\n"
     ]
    },
    {
     "name": "stdout",
     "output_type": "stream",
     "text": [
      "157/157 [==============================] - 0s 1ms/step\n",
      "  1/157 [..............................] - ETA: 7s"
     ]
    },
    {
     "name": "stderr",
     "output_type": "stream",
     "text": [
      "/Users/ygao/Library/Caches/pypoetry/virtualenvs/program-i-Fez0zm-py3.10/lib/python3.10/site-packages/lime/discretize.py:110: FutureWarning: Series.__getitem__ treating keys as positions is deprecated. In a future version, integer keys will always be treated as labels (consistent with DataFrame behavior). To access a value by position, use `ser.iloc[pos]`\n",
      "  ret[feature] = int(self.lambdas[feature](ret[feature]))\n",
      "/Users/ygao/Library/Caches/pypoetry/virtualenvs/program-i-Fez0zm-py3.10/lib/python3.10/site-packages/lime/discretize.py:110: FutureWarning: Series.__setitem__ treating keys as positions is deprecated. In a future version, integer keys will always be treated as labels (consistent with DataFrame behavior). To set a value by position, use `ser.iloc[pos] = value`\n",
      "  ret[feature] = int(self.lambdas[feature](ret[feature]))\n",
      "/Users/ygao/Library/Caches/pypoetry/virtualenvs/program-i-Fez0zm-py3.10/lib/python3.10/site-packages/lime/lime_tabular.py:427: FutureWarning: Series.__getitem__ treating keys as positions is deprecated. In a future version, integer keys will always be treated as labels (consistent with DataFrame behavior). To access a value by position, use `ser.iloc[pos]`\n",
      "  discretized_instance[f])]\n",
      "/Users/ygao/Library/Caches/pypoetry/virtualenvs/program-i-Fez0zm-py3.10/lib/python3.10/site-packages/lime/discretize.py:110: FutureWarning: Series.__getitem__ treating keys as positions is deprecated. In a future version, integer keys will always be treated as labels (consistent with DataFrame behavior). To access a value by position, use `ser.iloc[pos]`\n",
      "  ret[feature] = int(self.lambdas[feature](ret[feature]))\n",
      "/Users/ygao/Library/Caches/pypoetry/virtualenvs/program-i-Fez0zm-py3.10/lib/python3.10/site-packages/lime/discretize.py:110: FutureWarning: Series.__setitem__ treating keys as positions is deprecated. In a future version, integer keys will always be treated as labels (consistent with DataFrame behavior). To set a value by position, use `ser.iloc[pos] = value`\n",
      "  ret[feature] = int(self.lambdas[feature](ret[feature]))\n",
      "/Users/ygao/Library/Caches/pypoetry/virtualenvs/program-i-Fez0zm-py3.10/lib/python3.10/site-packages/lime/lime_tabular.py:544: FutureWarning: Series.__getitem__ treating keys as positions is deprecated. In a future version, integer keys will always be treated as labels (consistent with DataFrame behavior). To access a value by position, use `ser.iloc[pos]`\n",
      "  binary_column = (inverse_column == first_row[column]).astype(int)\n"
     ]
    },
    {
     "name": "stdout",
     "output_type": "stream",
     "text": [
      "157/157 [==============================] - 0s 1ms/step\n",
      " 40/157 [======>.......................] - ETA: 0s"
     ]
    },
    {
     "name": "stderr",
     "output_type": "stream",
     "text": [
      "/Users/ygao/Library/Caches/pypoetry/virtualenvs/program-i-Fez0zm-py3.10/lib/python3.10/site-packages/lime/discretize.py:110: FutureWarning: Series.__getitem__ treating keys as positions is deprecated. In a future version, integer keys will always be treated as labels (consistent with DataFrame behavior). To access a value by position, use `ser.iloc[pos]`\n",
      "  ret[feature] = int(self.lambdas[feature](ret[feature]))\n",
      "/Users/ygao/Library/Caches/pypoetry/virtualenvs/program-i-Fez0zm-py3.10/lib/python3.10/site-packages/lime/discretize.py:110: FutureWarning: Series.__setitem__ treating keys as positions is deprecated. In a future version, integer keys will always be treated as labels (consistent with DataFrame behavior). To set a value by position, use `ser.iloc[pos] = value`\n",
      "  ret[feature] = int(self.lambdas[feature](ret[feature]))\n",
      "/Users/ygao/Library/Caches/pypoetry/virtualenvs/program-i-Fez0zm-py3.10/lib/python3.10/site-packages/lime/lime_tabular.py:427: FutureWarning: Series.__getitem__ treating keys as positions is deprecated. In a future version, integer keys will always be treated as labels (consistent with DataFrame behavior). To access a value by position, use `ser.iloc[pos]`\n",
      "  discretized_instance[f])]\n",
      "/Users/ygao/Library/Caches/pypoetry/virtualenvs/program-i-Fez0zm-py3.10/lib/python3.10/site-packages/lime/discretize.py:110: FutureWarning: Series.__getitem__ treating keys as positions is deprecated. In a future version, integer keys will always be treated as labels (consistent with DataFrame behavior). To access a value by position, use `ser.iloc[pos]`\n",
      "  ret[feature] = int(self.lambdas[feature](ret[feature]))\n",
      "/Users/ygao/Library/Caches/pypoetry/virtualenvs/program-i-Fez0zm-py3.10/lib/python3.10/site-packages/lime/discretize.py:110: FutureWarning: Series.__setitem__ treating keys as positions is deprecated. In a future version, integer keys will always be treated as labels (consistent with DataFrame behavior). To set a value by position, use `ser.iloc[pos] = value`\n",
      "  ret[feature] = int(self.lambdas[feature](ret[feature]))\n",
      "/Users/ygao/Library/Caches/pypoetry/virtualenvs/program-i-Fez0zm-py3.10/lib/python3.10/site-packages/lime/lime_tabular.py:544: FutureWarning: Series.__getitem__ treating keys as positions is deprecated. In a future version, integer keys will always be treated as labels (consistent with DataFrame behavior). To access a value by position, use `ser.iloc[pos]`\n",
      "  binary_column = (inverse_column == first_row[column]).astype(int)\n"
     ]
    },
    {
     "name": "stdout",
     "output_type": "stream",
     "text": [
      "157/157 [==============================] - 0s 1ms/step\n",
      " 41/157 [======>.......................] - ETA: 0s"
     ]
    },
    {
     "name": "stderr",
     "output_type": "stream",
     "text": [
      "/Users/ygao/Library/Caches/pypoetry/virtualenvs/program-i-Fez0zm-py3.10/lib/python3.10/site-packages/lime/discretize.py:110: FutureWarning: Series.__getitem__ treating keys as positions is deprecated. In a future version, integer keys will always be treated as labels (consistent with DataFrame behavior). To access a value by position, use `ser.iloc[pos]`\n",
      "  ret[feature] = int(self.lambdas[feature](ret[feature]))\n",
      "/Users/ygao/Library/Caches/pypoetry/virtualenvs/program-i-Fez0zm-py3.10/lib/python3.10/site-packages/lime/discretize.py:110: FutureWarning: Series.__setitem__ treating keys as positions is deprecated. In a future version, integer keys will always be treated as labels (consistent with DataFrame behavior). To set a value by position, use `ser.iloc[pos] = value`\n",
      "  ret[feature] = int(self.lambdas[feature](ret[feature]))\n",
      "/Users/ygao/Library/Caches/pypoetry/virtualenvs/program-i-Fez0zm-py3.10/lib/python3.10/site-packages/lime/lime_tabular.py:427: FutureWarning: Series.__getitem__ treating keys as positions is deprecated. In a future version, integer keys will always be treated as labels (consistent with DataFrame behavior). To access a value by position, use `ser.iloc[pos]`\n",
      "  discretized_instance[f])]\n",
      "/Users/ygao/Library/Caches/pypoetry/virtualenvs/program-i-Fez0zm-py3.10/lib/python3.10/site-packages/lime/discretize.py:110: FutureWarning: Series.__getitem__ treating keys as positions is deprecated. In a future version, integer keys will always be treated as labels (consistent with DataFrame behavior). To access a value by position, use `ser.iloc[pos]`\n",
      "  ret[feature] = int(self.lambdas[feature](ret[feature]))\n",
      "/Users/ygao/Library/Caches/pypoetry/virtualenvs/program-i-Fez0zm-py3.10/lib/python3.10/site-packages/lime/discretize.py:110: FutureWarning: Series.__setitem__ treating keys as positions is deprecated. In a future version, integer keys will always be treated as labels (consistent with DataFrame behavior). To set a value by position, use `ser.iloc[pos] = value`\n",
      "  ret[feature] = int(self.lambdas[feature](ret[feature]))\n",
      "/Users/ygao/Library/Caches/pypoetry/virtualenvs/program-i-Fez0zm-py3.10/lib/python3.10/site-packages/lime/lime_tabular.py:544: FutureWarning: Series.__getitem__ treating keys as positions is deprecated. In a future version, integer keys will always be treated as labels (consistent with DataFrame behavior). To access a value by position, use `ser.iloc[pos]`\n",
      "  binary_column = (inverse_column == first_row[column]).astype(int)\n"
     ]
    },
    {
     "name": "stdout",
     "output_type": "stream",
     "text": [
      "157/157 [==============================] - 0s 1ms/step\n",
      " 37/157 [======>.......................] - ETA: 0s"
     ]
    },
    {
     "name": "stderr",
     "output_type": "stream",
     "text": [
      "/Users/ygao/Library/Caches/pypoetry/virtualenvs/program-i-Fez0zm-py3.10/lib/python3.10/site-packages/lime/discretize.py:110: FutureWarning: Series.__getitem__ treating keys as positions is deprecated. In a future version, integer keys will always be treated as labels (consistent with DataFrame behavior). To access a value by position, use `ser.iloc[pos]`\n",
      "  ret[feature] = int(self.lambdas[feature](ret[feature]))\n",
      "/Users/ygao/Library/Caches/pypoetry/virtualenvs/program-i-Fez0zm-py3.10/lib/python3.10/site-packages/lime/discretize.py:110: FutureWarning: Series.__setitem__ treating keys as positions is deprecated. In a future version, integer keys will always be treated as labels (consistent with DataFrame behavior). To set a value by position, use `ser.iloc[pos] = value`\n",
      "  ret[feature] = int(self.lambdas[feature](ret[feature]))\n",
      "/Users/ygao/Library/Caches/pypoetry/virtualenvs/program-i-Fez0zm-py3.10/lib/python3.10/site-packages/lime/lime_tabular.py:427: FutureWarning: Series.__getitem__ treating keys as positions is deprecated. In a future version, integer keys will always be treated as labels (consistent with DataFrame behavior). To access a value by position, use `ser.iloc[pos]`\n",
      "  discretized_instance[f])]\n",
      "/Users/ygao/Library/Caches/pypoetry/virtualenvs/program-i-Fez0zm-py3.10/lib/python3.10/site-packages/lime/discretize.py:110: FutureWarning: Series.__getitem__ treating keys as positions is deprecated. In a future version, integer keys will always be treated as labels (consistent with DataFrame behavior). To access a value by position, use `ser.iloc[pos]`\n",
      "  ret[feature] = int(self.lambdas[feature](ret[feature]))\n",
      "/Users/ygao/Library/Caches/pypoetry/virtualenvs/program-i-Fez0zm-py3.10/lib/python3.10/site-packages/lime/discretize.py:110: FutureWarning: Series.__setitem__ treating keys as positions is deprecated. In a future version, integer keys will always be treated as labels (consistent with DataFrame behavior). To set a value by position, use `ser.iloc[pos] = value`\n",
      "  ret[feature] = int(self.lambdas[feature](ret[feature]))\n",
      "/Users/ygao/Library/Caches/pypoetry/virtualenvs/program-i-Fez0zm-py3.10/lib/python3.10/site-packages/lime/lime_tabular.py:544: FutureWarning: Series.__getitem__ treating keys as positions is deprecated. In a future version, integer keys will always be treated as labels (consistent with DataFrame behavior). To access a value by position, use `ser.iloc[pos]`\n",
      "  binary_column = (inverse_column == first_row[column]).astype(int)\n"
     ]
    },
    {
     "name": "stdout",
     "output_type": "stream",
     "text": [
      "157/157 [==============================] - 0s 1ms/step\n",
      " 33/157 [=====>........................] - ETA: 0s "
     ]
    },
    {
     "name": "stderr",
     "output_type": "stream",
     "text": [
      "/Users/ygao/Library/Caches/pypoetry/virtualenvs/program-i-Fez0zm-py3.10/lib/python3.10/site-packages/lime/discretize.py:110: FutureWarning: Series.__getitem__ treating keys as positions is deprecated. In a future version, integer keys will always be treated as labels (consistent with DataFrame behavior). To access a value by position, use `ser.iloc[pos]`\n",
      "  ret[feature] = int(self.lambdas[feature](ret[feature]))\n",
      "/Users/ygao/Library/Caches/pypoetry/virtualenvs/program-i-Fez0zm-py3.10/lib/python3.10/site-packages/lime/discretize.py:110: FutureWarning: Series.__setitem__ treating keys as positions is deprecated. In a future version, integer keys will always be treated as labels (consistent with DataFrame behavior). To set a value by position, use `ser.iloc[pos] = value`\n",
      "  ret[feature] = int(self.lambdas[feature](ret[feature]))\n",
      "/Users/ygao/Library/Caches/pypoetry/virtualenvs/program-i-Fez0zm-py3.10/lib/python3.10/site-packages/lime/lime_tabular.py:427: FutureWarning: Series.__getitem__ treating keys as positions is deprecated. In a future version, integer keys will always be treated as labels (consistent with DataFrame behavior). To access a value by position, use `ser.iloc[pos]`\n",
      "  discretized_instance[f])]\n",
      "/Users/ygao/Library/Caches/pypoetry/virtualenvs/program-i-Fez0zm-py3.10/lib/python3.10/site-packages/lime/discretize.py:110: FutureWarning: Series.__getitem__ treating keys as positions is deprecated. In a future version, integer keys will always be treated as labels (consistent with DataFrame behavior). To access a value by position, use `ser.iloc[pos]`\n",
      "  ret[feature] = int(self.lambdas[feature](ret[feature]))\n",
      "/Users/ygao/Library/Caches/pypoetry/virtualenvs/program-i-Fez0zm-py3.10/lib/python3.10/site-packages/lime/discretize.py:110: FutureWarning: Series.__setitem__ treating keys as positions is deprecated. In a future version, integer keys will always be treated as labels (consistent with DataFrame behavior). To set a value by position, use `ser.iloc[pos] = value`\n",
      "  ret[feature] = int(self.lambdas[feature](ret[feature]))\n",
      "/Users/ygao/Library/Caches/pypoetry/virtualenvs/program-i-Fez0zm-py3.10/lib/python3.10/site-packages/lime/lime_tabular.py:544: FutureWarning: Series.__getitem__ treating keys as positions is deprecated. In a future version, integer keys will always be treated as labels (consistent with DataFrame behavior). To access a value by position, use `ser.iloc[pos]`\n",
      "  binary_column = (inverse_column == first_row[column]).astype(int)\n"
     ]
    },
    {
     "name": "stdout",
     "output_type": "stream",
     "text": [
      "157/157 [==============================] - 0s 1ms/step\n",
      " 84/157 [===============>..............] - ETA: 0s"
     ]
    },
    {
     "name": "stderr",
     "output_type": "stream",
     "text": [
      "/Users/ygao/Library/Caches/pypoetry/virtualenvs/program-i-Fez0zm-py3.10/lib/python3.10/site-packages/lime/discretize.py:110: FutureWarning: Series.__getitem__ treating keys as positions is deprecated. In a future version, integer keys will always be treated as labels (consistent with DataFrame behavior). To access a value by position, use `ser.iloc[pos]`\n",
      "  ret[feature] = int(self.lambdas[feature](ret[feature]))\n",
      "/Users/ygao/Library/Caches/pypoetry/virtualenvs/program-i-Fez0zm-py3.10/lib/python3.10/site-packages/lime/discretize.py:110: FutureWarning: Series.__setitem__ treating keys as positions is deprecated. In a future version, integer keys will always be treated as labels (consistent with DataFrame behavior). To set a value by position, use `ser.iloc[pos] = value`\n",
      "  ret[feature] = int(self.lambdas[feature](ret[feature]))\n",
      "/Users/ygao/Library/Caches/pypoetry/virtualenvs/program-i-Fez0zm-py3.10/lib/python3.10/site-packages/lime/lime_tabular.py:427: FutureWarning: Series.__getitem__ treating keys as positions is deprecated. In a future version, integer keys will always be treated as labels (consistent with DataFrame behavior). To access a value by position, use `ser.iloc[pos]`\n",
      "  discretized_instance[f])]\n",
      "/Users/ygao/Library/Caches/pypoetry/virtualenvs/program-i-Fez0zm-py3.10/lib/python3.10/site-packages/lime/discretize.py:110: FutureWarning: Series.__getitem__ treating keys as positions is deprecated. In a future version, integer keys will always be treated as labels (consistent with DataFrame behavior). To access a value by position, use `ser.iloc[pos]`\n",
      "  ret[feature] = int(self.lambdas[feature](ret[feature]))\n",
      "/Users/ygao/Library/Caches/pypoetry/virtualenvs/program-i-Fez0zm-py3.10/lib/python3.10/site-packages/lime/discretize.py:110: FutureWarning: Series.__setitem__ treating keys as positions is deprecated. In a future version, integer keys will always be treated as labels (consistent with DataFrame behavior). To set a value by position, use `ser.iloc[pos] = value`\n",
      "  ret[feature] = int(self.lambdas[feature](ret[feature]))\n",
      "/Users/ygao/Library/Caches/pypoetry/virtualenvs/program-i-Fez0zm-py3.10/lib/python3.10/site-packages/lime/lime_tabular.py:544: FutureWarning: Series.__getitem__ treating keys as positions is deprecated. In a future version, integer keys will always be treated as labels (consistent with DataFrame behavior). To access a value by position, use `ser.iloc[pos]`\n",
      "  binary_column = (inverse_column == first_row[column]).astype(int)\n"
     ]
    },
    {
     "name": "stdout",
     "output_type": "stream",
     "text": [
      "157/157 [==============================] - 0s 1ms/step\n",
      "  1/157 [..............................] - ETA: 10s"
     ]
    },
    {
     "name": "stderr",
     "output_type": "stream",
     "text": [
      "/Users/ygao/Library/Caches/pypoetry/virtualenvs/program-i-Fez0zm-py3.10/lib/python3.10/site-packages/lime/discretize.py:110: FutureWarning: Series.__getitem__ treating keys as positions is deprecated. In a future version, integer keys will always be treated as labels (consistent with DataFrame behavior). To access a value by position, use `ser.iloc[pos]`\n",
      "  ret[feature] = int(self.lambdas[feature](ret[feature]))\n",
      "/Users/ygao/Library/Caches/pypoetry/virtualenvs/program-i-Fez0zm-py3.10/lib/python3.10/site-packages/lime/discretize.py:110: FutureWarning: Series.__setitem__ treating keys as positions is deprecated. In a future version, integer keys will always be treated as labels (consistent with DataFrame behavior). To set a value by position, use `ser.iloc[pos] = value`\n",
      "  ret[feature] = int(self.lambdas[feature](ret[feature]))\n",
      "/Users/ygao/Library/Caches/pypoetry/virtualenvs/program-i-Fez0zm-py3.10/lib/python3.10/site-packages/lime/lime_tabular.py:427: FutureWarning: Series.__getitem__ treating keys as positions is deprecated. In a future version, integer keys will always be treated as labels (consistent with DataFrame behavior). To access a value by position, use `ser.iloc[pos]`\n",
      "  discretized_instance[f])]\n",
      "/Users/ygao/Library/Caches/pypoetry/virtualenvs/program-i-Fez0zm-py3.10/lib/python3.10/site-packages/lime/discretize.py:110: FutureWarning: Series.__getitem__ treating keys as positions is deprecated. In a future version, integer keys will always be treated as labels (consistent with DataFrame behavior). To access a value by position, use `ser.iloc[pos]`\n",
      "  ret[feature] = int(self.lambdas[feature](ret[feature]))\n",
      "/Users/ygao/Library/Caches/pypoetry/virtualenvs/program-i-Fez0zm-py3.10/lib/python3.10/site-packages/lime/discretize.py:110: FutureWarning: Series.__setitem__ treating keys as positions is deprecated. In a future version, integer keys will always be treated as labels (consistent with DataFrame behavior). To set a value by position, use `ser.iloc[pos] = value`\n",
      "  ret[feature] = int(self.lambdas[feature](ret[feature]))\n",
      "/Users/ygao/Library/Caches/pypoetry/virtualenvs/program-i-Fez0zm-py3.10/lib/python3.10/site-packages/lime/lime_tabular.py:544: FutureWarning: Series.__getitem__ treating keys as positions is deprecated. In a future version, integer keys will always be treated as labels (consistent with DataFrame behavior). To access a value by position, use `ser.iloc[pos]`\n",
      "  binary_column = (inverse_column == first_row[column]).astype(int)\n"
     ]
    },
    {
     "name": "stdout",
     "output_type": "stream",
     "text": [
      "157/157 [==============================] - 0s 1ms/step\n",
      " 30/157 [====>.........................] - ETA: 0s"
     ]
    },
    {
     "name": "stderr",
     "output_type": "stream",
     "text": [
      "/Users/ygao/Library/Caches/pypoetry/virtualenvs/program-i-Fez0zm-py3.10/lib/python3.10/site-packages/lime/discretize.py:110: FutureWarning: Series.__getitem__ treating keys as positions is deprecated. In a future version, integer keys will always be treated as labels (consistent with DataFrame behavior). To access a value by position, use `ser.iloc[pos]`\n",
      "  ret[feature] = int(self.lambdas[feature](ret[feature]))\n",
      "/Users/ygao/Library/Caches/pypoetry/virtualenvs/program-i-Fez0zm-py3.10/lib/python3.10/site-packages/lime/discretize.py:110: FutureWarning: Series.__setitem__ treating keys as positions is deprecated. In a future version, integer keys will always be treated as labels (consistent with DataFrame behavior). To set a value by position, use `ser.iloc[pos] = value`\n",
      "  ret[feature] = int(self.lambdas[feature](ret[feature]))\n",
      "/Users/ygao/Library/Caches/pypoetry/virtualenvs/program-i-Fez0zm-py3.10/lib/python3.10/site-packages/lime/lime_tabular.py:427: FutureWarning: Series.__getitem__ treating keys as positions is deprecated. In a future version, integer keys will always be treated as labels (consistent with DataFrame behavior). To access a value by position, use `ser.iloc[pos]`\n",
      "  discretized_instance[f])]\n",
      "/Users/ygao/Library/Caches/pypoetry/virtualenvs/program-i-Fez0zm-py3.10/lib/python3.10/site-packages/lime/discretize.py:110: FutureWarning: Series.__getitem__ treating keys as positions is deprecated. In a future version, integer keys will always be treated as labels (consistent with DataFrame behavior). To access a value by position, use `ser.iloc[pos]`\n",
      "  ret[feature] = int(self.lambdas[feature](ret[feature]))\n",
      "/Users/ygao/Library/Caches/pypoetry/virtualenvs/program-i-Fez0zm-py3.10/lib/python3.10/site-packages/lime/discretize.py:110: FutureWarning: Series.__setitem__ treating keys as positions is deprecated. In a future version, integer keys will always be treated as labels (consistent with DataFrame behavior). To set a value by position, use `ser.iloc[pos] = value`\n",
      "  ret[feature] = int(self.lambdas[feature](ret[feature]))\n",
      "/Users/ygao/Library/Caches/pypoetry/virtualenvs/program-i-Fez0zm-py3.10/lib/python3.10/site-packages/lime/lime_tabular.py:544: FutureWarning: Series.__getitem__ treating keys as positions is deprecated. In a future version, integer keys will always be treated as labels (consistent with DataFrame behavior). To access a value by position, use `ser.iloc[pos]`\n",
      "  binary_column = (inverse_column == first_row[column]).astype(int)\n"
     ]
    },
    {
     "name": "stdout",
     "output_type": "stream",
     "text": [
      "157/157 [==============================] - 0s 1ms/step\n",
      " 38/157 [======>.......................] - ETA: 0s"
     ]
    },
    {
     "name": "stderr",
     "output_type": "stream",
     "text": [
      "/Users/ygao/Library/Caches/pypoetry/virtualenvs/program-i-Fez0zm-py3.10/lib/python3.10/site-packages/lime/discretize.py:110: FutureWarning: Series.__getitem__ treating keys as positions is deprecated. In a future version, integer keys will always be treated as labels (consistent with DataFrame behavior). To access a value by position, use `ser.iloc[pos]`\n",
      "  ret[feature] = int(self.lambdas[feature](ret[feature]))\n",
      "/Users/ygao/Library/Caches/pypoetry/virtualenvs/program-i-Fez0zm-py3.10/lib/python3.10/site-packages/lime/discretize.py:110: FutureWarning: Series.__setitem__ treating keys as positions is deprecated. In a future version, integer keys will always be treated as labels (consistent with DataFrame behavior). To set a value by position, use `ser.iloc[pos] = value`\n",
      "  ret[feature] = int(self.lambdas[feature](ret[feature]))\n",
      "/Users/ygao/Library/Caches/pypoetry/virtualenvs/program-i-Fez0zm-py3.10/lib/python3.10/site-packages/lime/lime_tabular.py:427: FutureWarning: Series.__getitem__ treating keys as positions is deprecated. In a future version, integer keys will always be treated as labels (consistent with DataFrame behavior). To access a value by position, use `ser.iloc[pos]`\n",
      "  discretized_instance[f])]\n",
      "/Users/ygao/Library/Caches/pypoetry/virtualenvs/program-i-Fez0zm-py3.10/lib/python3.10/site-packages/lime/discretize.py:110: FutureWarning: Series.__getitem__ treating keys as positions is deprecated. In a future version, integer keys will always be treated as labels (consistent with DataFrame behavior). To access a value by position, use `ser.iloc[pos]`\n",
      "  ret[feature] = int(self.lambdas[feature](ret[feature]))\n",
      "/Users/ygao/Library/Caches/pypoetry/virtualenvs/program-i-Fez0zm-py3.10/lib/python3.10/site-packages/lime/discretize.py:110: FutureWarning: Series.__setitem__ treating keys as positions is deprecated. In a future version, integer keys will always be treated as labels (consistent with DataFrame behavior). To set a value by position, use `ser.iloc[pos] = value`\n",
      "  ret[feature] = int(self.lambdas[feature](ret[feature]))\n",
      "/Users/ygao/Library/Caches/pypoetry/virtualenvs/program-i-Fez0zm-py3.10/lib/python3.10/site-packages/lime/lime_tabular.py:544: FutureWarning: Series.__getitem__ treating keys as positions is deprecated. In a future version, integer keys will always be treated as labels (consistent with DataFrame behavior). To access a value by position, use `ser.iloc[pos]`\n",
      "  binary_column = (inverse_column == first_row[column]).astype(int)\n"
     ]
    },
    {
     "name": "stdout",
     "output_type": "stream",
     "text": [
      "157/157 [==============================] - 0s 1ms/step\n",
      "  1/157 [..............................] - ETA: 9s"
     ]
    },
    {
     "name": "stderr",
     "output_type": "stream",
     "text": [
      "/Users/ygao/Library/Caches/pypoetry/virtualenvs/program-i-Fez0zm-py3.10/lib/python3.10/site-packages/lime/discretize.py:110: FutureWarning: Series.__getitem__ treating keys as positions is deprecated. In a future version, integer keys will always be treated as labels (consistent with DataFrame behavior). To access a value by position, use `ser.iloc[pos]`\n",
      "  ret[feature] = int(self.lambdas[feature](ret[feature]))\n",
      "/Users/ygao/Library/Caches/pypoetry/virtualenvs/program-i-Fez0zm-py3.10/lib/python3.10/site-packages/lime/discretize.py:110: FutureWarning: Series.__setitem__ treating keys as positions is deprecated. In a future version, integer keys will always be treated as labels (consistent with DataFrame behavior). To set a value by position, use `ser.iloc[pos] = value`\n",
      "  ret[feature] = int(self.lambdas[feature](ret[feature]))\n",
      "/Users/ygao/Library/Caches/pypoetry/virtualenvs/program-i-Fez0zm-py3.10/lib/python3.10/site-packages/lime/lime_tabular.py:427: FutureWarning: Series.__getitem__ treating keys as positions is deprecated. In a future version, integer keys will always be treated as labels (consistent with DataFrame behavior). To access a value by position, use `ser.iloc[pos]`\n",
      "  discretized_instance[f])]\n",
      "/Users/ygao/Library/Caches/pypoetry/virtualenvs/program-i-Fez0zm-py3.10/lib/python3.10/site-packages/lime/discretize.py:110: FutureWarning: Series.__getitem__ treating keys as positions is deprecated. In a future version, integer keys will always be treated as labels (consistent with DataFrame behavior). To access a value by position, use `ser.iloc[pos]`\n",
      "  ret[feature] = int(self.lambdas[feature](ret[feature]))\n",
      "/Users/ygao/Library/Caches/pypoetry/virtualenvs/program-i-Fez0zm-py3.10/lib/python3.10/site-packages/lime/discretize.py:110: FutureWarning: Series.__setitem__ treating keys as positions is deprecated. In a future version, integer keys will always be treated as labels (consistent with DataFrame behavior). To set a value by position, use `ser.iloc[pos] = value`\n",
      "  ret[feature] = int(self.lambdas[feature](ret[feature]))\n",
      "/Users/ygao/Library/Caches/pypoetry/virtualenvs/program-i-Fez0zm-py3.10/lib/python3.10/site-packages/lime/lime_tabular.py:544: FutureWarning: Series.__getitem__ treating keys as positions is deprecated. In a future version, integer keys will always be treated as labels (consistent with DataFrame behavior). To access a value by position, use `ser.iloc[pos]`\n",
      "  binary_column = (inverse_column == first_row[column]).astype(int)\n"
     ]
    },
    {
     "name": "stdout",
     "output_type": "stream",
     "text": [
      "157/157 [==============================] - 0s 1ms/step\n",
      " 25/157 [===>..........................] - ETA: 0s"
     ]
    },
    {
     "name": "stderr",
     "output_type": "stream",
     "text": [
      "/Users/ygao/Library/Caches/pypoetry/virtualenvs/program-i-Fez0zm-py3.10/lib/python3.10/site-packages/lime/discretize.py:110: FutureWarning: Series.__getitem__ treating keys as positions is deprecated. In a future version, integer keys will always be treated as labels (consistent with DataFrame behavior). To access a value by position, use `ser.iloc[pos]`\n",
      "  ret[feature] = int(self.lambdas[feature](ret[feature]))\n",
      "/Users/ygao/Library/Caches/pypoetry/virtualenvs/program-i-Fez0zm-py3.10/lib/python3.10/site-packages/lime/discretize.py:110: FutureWarning: Series.__setitem__ treating keys as positions is deprecated. In a future version, integer keys will always be treated as labels (consistent with DataFrame behavior). To set a value by position, use `ser.iloc[pos] = value`\n",
      "  ret[feature] = int(self.lambdas[feature](ret[feature]))\n",
      "/Users/ygao/Library/Caches/pypoetry/virtualenvs/program-i-Fez0zm-py3.10/lib/python3.10/site-packages/lime/lime_tabular.py:427: FutureWarning: Series.__getitem__ treating keys as positions is deprecated. In a future version, integer keys will always be treated as labels (consistent with DataFrame behavior). To access a value by position, use `ser.iloc[pos]`\n",
      "  discretized_instance[f])]\n",
      "/Users/ygao/Library/Caches/pypoetry/virtualenvs/program-i-Fez0zm-py3.10/lib/python3.10/site-packages/lime/discretize.py:110: FutureWarning: Series.__getitem__ treating keys as positions is deprecated. In a future version, integer keys will always be treated as labels (consistent with DataFrame behavior). To access a value by position, use `ser.iloc[pos]`\n",
      "  ret[feature] = int(self.lambdas[feature](ret[feature]))\n",
      "/Users/ygao/Library/Caches/pypoetry/virtualenvs/program-i-Fez0zm-py3.10/lib/python3.10/site-packages/lime/discretize.py:110: FutureWarning: Series.__setitem__ treating keys as positions is deprecated. In a future version, integer keys will always be treated as labels (consistent with DataFrame behavior). To set a value by position, use `ser.iloc[pos] = value`\n",
      "  ret[feature] = int(self.lambdas[feature](ret[feature]))\n",
      "/Users/ygao/Library/Caches/pypoetry/virtualenvs/program-i-Fez0zm-py3.10/lib/python3.10/site-packages/lime/lime_tabular.py:544: FutureWarning: Series.__getitem__ treating keys as positions is deprecated. In a future version, integer keys will always be treated as labels (consistent with DataFrame behavior). To access a value by position, use `ser.iloc[pos]`\n",
      "  binary_column = (inverse_column == first_row[column]).astype(int)\n"
     ]
    },
    {
     "name": "stdout",
     "output_type": "stream",
     "text": [
      "157/157 [==============================] - 0s 1ms/step\n",
      "  1/157 [..............................] - ETA: 9s"
     ]
    },
    {
     "name": "stderr",
     "output_type": "stream",
     "text": [
      "/Users/ygao/Library/Caches/pypoetry/virtualenvs/program-i-Fez0zm-py3.10/lib/python3.10/site-packages/lime/discretize.py:110: FutureWarning: Series.__getitem__ treating keys as positions is deprecated. In a future version, integer keys will always be treated as labels (consistent with DataFrame behavior). To access a value by position, use `ser.iloc[pos]`\n",
      "  ret[feature] = int(self.lambdas[feature](ret[feature]))\n",
      "/Users/ygao/Library/Caches/pypoetry/virtualenvs/program-i-Fez0zm-py3.10/lib/python3.10/site-packages/lime/discretize.py:110: FutureWarning: Series.__setitem__ treating keys as positions is deprecated. In a future version, integer keys will always be treated as labels (consistent with DataFrame behavior). To set a value by position, use `ser.iloc[pos] = value`\n",
      "  ret[feature] = int(self.lambdas[feature](ret[feature]))\n",
      "/Users/ygao/Library/Caches/pypoetry/virtualenvs/program-i-Fez0zm-py3.10/lib/python3.10/site-packages/lime/lime_tabular.py:427: FutureWarning: Series.__getitem__ treating keys as positions is deprecated. In a future version, integer keys will always be treated as labels (consistent with DataFrame behavior). To access a value by position, use `ser.iloc[pos]`\n",
      "  discretized_instance[f])]\n",
      "/Users/ygao/Library/Caches/pypoetry/virtualenvs/program-i-Fez0zm-py3.10/lib/python3.10/site-packages/lime/discretize.py:110: FutureWarning: Series.__getitem__ treating keys as positions is deprecated. In a future version, integer keys will always be treated as labels (consistent with DataFrame behavior). To access a value by position, use `ser.iloc[pos]`\n",
      "  ret[feature] = int(self.lambdas[feature](ret[feature]))\n",
      "/Users/ygao/Library/Caches/pypoetry/virtualenvs/program-i-Fez0zm-py3.10/lib/python3.10/site-packages/lime/discretize.py:110: FutureWarning: Series.__setitem__ treating keys as positions is deprecated. In a future version, integer keys will always be treated as labels (consistent with DataFrame behavior). To set a value by position, use `ser.iloc[pos] = value`\n",
      "  ret[feature] = int(self.lambdas[feature](ret[feature]))\n",
      "/Users/ygao/Library/Caches/pypoetry/virtualenvs/program-i-Fez0zm-py3.10/lib/python3.10/site-packages/lime/lime_tabular.py:544: FutureWarning: Series.__getitem__ treating keys as positions is deprecated. In a future version, integer keys will always be treated as labels (consistent with DataFrame behavior). To access a value by position, use `ser.iloc[pos]`\n",
      "  binary_column = (inverse_column == first_row[column]).astype(int)\n"
     ]
    },
    {
     "name": "stdout",
     "output_type": "stream",
     "text": [
      "157/157 [==============================] - 0s 1ms/step\n",
      " 26/157 [===>..........................] - ETA: 0s "
     ]
    },
    {
     "name": "stderr",
     "output_type": "stream",
     "text": [
      "/Users/ygao/Library/Caches/pypoetry/virtualenvs/program-i-Fez0zm-py3.10/lib/python3.10/site-packages/lime/discretize.py:110: FutureWarning: Series.__getitem__ treating keys as positions is deprecated. In a future version, integer keys will always be treated as labels (consistent with DataFrame behavior). To access a value by position, use `ser.iloc[pos]`\n",
      "  ret[feature] = int(self.lambdas[feature](ret[feature]))\n",
      "/Users/ygao/Library/Caches/pypoetry/virtualenvs/program-i-Fez0zm-py3.10/lib/python3.10/site-packages/lime/discretize.py:110: FutureWarning: Series.__setitem__ treating keys as positions is deprecated. In a future version, integer keys will always be treated as labels (consistent with DataFrame behavior). To set a value by position, use `ser.iloc[pos] = value`\n",
      "  ret[feature] = int(self.lambdas[feature](ret[feature]))\n",
      "/Users/ygao/Library/Caches/pypoetry/virtualenvs/program-i-Fez0zm-py3.10/lib/python3.10/site-packages/lime/lime_tabular.py:427: FutureWarning: Series.__getitem__ treating keys as positions is deprecated. In a future version, integer keys will always be treated as labels (consistent with DataFrame behavior). To access a value by position, use `ser.iloc[pos]`\n",
      "  discretized_instance[f])]\n",
      "/Users/ygao/Library/Caches/pypoetry/virtualenvs/program-i-Fez0zm-py3.10/lib/python3.10/site-packages/lime/discretize.py:110: FutureWarning: Series.__getitem__ treating keys as positions is deprecated. In a future version, integer keys will always be treated as labels (consistent with DataFrame behavior). To access a value by position, use `ser.iloc[pos]`\n",
      "  ret[feature] = int(self.lambdas[feature](ret[feature]))\n",
      "/Users/ygao/Library/Caches/pypoetry/virtualenvs/program-i-Fez0zm-py3.10/lib/python3.10/site-packages/lime/discretize.py:110: FutureWarning: Series.__setitem__ treating keys as positions is deprecated. In a future version, integer keys will always be treated as labels (consistent with DataFrame behavior). To set a value by position, use `ser.iloc[pos] = value`\n",
      "  ret[feature] = int(self.lambdas[feature](ret[feature]))\n",
      "/Users/ygao/Library/Caches/pypoetry/virtualenvs/program-i-Fez0zm-py3.10/lib/python3.10/site-packages/lime/lime_tabular.py:544: FutureWarning: Series.__getitem__ treating keys as positions is deprecated. In a future version, integer keys will always be treated as labels (consistent with DataFrame behavior). To access a value by position, use `ser.iloc[pos]`\n",
      "  binary_column = (inverse_column == first_row[column]).astype(int)\n"
     ]
    },
    {
     "name": "stdout",
     "output_type": "stream",
     "text": [
      "157/157 [==============================] - 0s 1ms/step\n",
      " 43/157 [=======>......................] - ETA: 0s"
     ]
    },
    {
     "name": "stderr",
     "output_type": "stream",
     "text": [
      "/Users/ygao/Library/Caches/pypoetry/virtualenvs/program-i-Fez0zm-py3.10/lib/python3.10/site-packages/lime/discretize.py:110: FutureWarning: Series.__getitem__ treating keys as positions is deprecated. In a future version, integer keys will always be treated as labels (consistent with DataFrame behavior). To access a value by position, use `ser.iloc[pos]`\n",
      "  ret[feature] = int(self.lambdas[feature](ret[feature]))\n",
      "/Users/ygao/Library/Caches/pypoetry/virtualenvs/program-i-Fez0zm-py3.10/lib/python3.10/site-packages/lime/discretize.py:110: FutureWarning: Series.__setitem__ treating keys as positions is deprecated. In a future version, integer keys will always be treated as labels (consistent with DataFrame behavior). To set a value by position, use `ser.iloc[pos] = value`\n",
      "  ret[feature] = int(self.lambdas[feature](ret[feature]))\n",
      "/Users/ygao/Library/Caches/pypoetry/virtualenvs/program-i-Fez0zm-py3.10/lib/python3.10/site-packages/lime/lime_tabular.py:427: FutureWarning: Series.__getitem__ treating keys as positions is deprecated. In a future version, integer keys will always be treated as labels (consistent with DataFrame behavior). To access a value by position, use `ser.iloc[pos]`\n",
      "  discretized_instance[f])]\n",
      "/Users/ygao/Library/Caches/pypoetry/virtualenvs/program-i-Fez0zm-py3.10/lib/python3.10/site-packages/lime/discretize.py:110: FutureWarning: Series.__getitem__ treating keys as positions is deprecated. In a future version, integer keys will always be treated as labels (consistent with DataFrame behavior). To access a value by position, use `ser.iloc[pos]`\n",
      "  ret[feature] = int(self.lambdas[feature](ret[feature]))\n",
      "/Users/ygao/Library/Caches/pypoetry/virtualenvs/program-i-Fez0zm-py3.10/lib/python3.10/site-packages/lime/discretize.py:110: FutureWarning: Series.__setitem__ treating keys as positions is deprecated. In a future version, integer keys will always be treated as labels (consistent with DataFrame behavior). To set a value by position, use `ser.iloc[pos] = value`\n",
      "  ret[feature] = int(self.lambdas[feature](ret[feature]))\n",
      "/Users/ygao/Library/Caches/pypoetry/virtualenvs/program-i-Fez0zm-py3.10/lib/python3.10/site-packages/lime/lime_tabular.py:544: FutureWarning: Series.__getitem__ treating keys as positions is deprecated. In a future version, integer keys will always be treated as labels (consistent with DataFrame behavior). To access a value by position, use `ser.iloc[pos]`\n",
      "  binary_column = (inverse_column == first_row[column]).astype(int)\n"
     ]
    },
    {
     "name": "stdout",
     "output_type": "stream",
     "text": [
      "157/157 [==============================] - 0s 1ms/step\n",
      " 24/157 [===>..........................] - ETA: 0s"
     ]
    },
    {
     "name": "stderr",
     "output_type": "stream",
     "text": [
      "/Users/ygao/Library/Caches/pypoetry/virtualenvs/program-i-Fez0zm-py3.10/lib/python3.10/site-packages/lime/discretize.py:110: FutureWarning: Series.__getitem__ treating keys as positions is deprecated. In a future version, integer keys will always be treated as labels (consistent with DataFrame behavior). To access a value by position, use `ser.iloc[pos]`\n",
      "  ret[feature] = int(self.lambdas[feature](ret[feature]))\n",
      "/Users/ygao/Library/Caches/pypoetry/virtualenvs/program-i-Fez0zm-py3.10/lib/python3.10/site-packages/lime/discretize.py:110: FutureWarning: Series.__setitem__ treating keys as positions is deprecated. In a future version, integer keys will always be treated as labels (consistent with DataFrame behavior). To set a value by position, use `ser.iloc[pos] = value`\n",
      "  ret[feature] = int(self.lambdas[feature](ret[feature]))\n",
      "/Users/ygao/Library/Caches/pypoetry/virtualenvs/program-i-Fez0zm-py3.10/lib/python3.10/site-packages/lime/lime_tabular.py:427: FutureWarning: Series.__getitem__ treating keys as positions is deprecated. In a future version, integer keys will always be treated as labels (consistent with DataFrame behavior). To access a value by position, use `ser.iloc[pos]`\n",
      "  discretized_instance[f])]\n",
      "/Users/ygao/Library/Caches/pypoetry/virtualenvs/program-i-Fez0zm-py3.10/lib/python3.10/site-packages/lime/discretize.py:110: FutureWarning: Series.__getitem__ treating keys as positions is deprecated. In a future version, integer keys will always be treated as labels (consistent with DataFrame behavior). To access a value by position, use `ser.iloc[pos]`\n",
      "  ret[feature] = int(self.lambdas[feature](ret[feature]))\n",
      "/Users/ygao/Library/Caches/pypoetry/virtualenvs/program-i-Fez0zm-py3.10/lib/python3.10/site-packages/lime/discretize.py:110: FutureWarning: Series.__setitem__ treating keys as positions is deprecated. In a future version, integer keys will always be treated as labels (consistent with DataFrame behavior). To set a value by position, use `ser.iloc[pos] = value`\n",
      "  ret[feature] = int(self.lambdas[feature](ret[feature]))\n",
      "/Users/ygao/Library/Caches/pypoetry/virtualenvs/program-i-Fez0zm-py3.10/lib/python3.10/site-packages/lime/lime_tabular.py:544: FutureWarning: Series.__getitem__ treating keys as positions is deprecated. In a future version, integer keys will always be treated as labels (consistent with DataFrame behavior). To access a value by position, use `ser.iloc[pos]`\n",
      "  binary_column = (inverse_column == first_row[column]).astype(int)\n"
     ]
    },
    {
     "name": "stdout",
     "output_type": "stream",
     "text": [
      "157/157 [==============================] - 0s 1ms/step\n",
      " 42/157 [=======>......................] - ETA: 0s "
     ]
    },
    {
     "name": "stderr",
     "output_type": "stream",
     "text": [
      "/Users/ygao/Library/Caches/pypoetry/virtualenvs/program-i-Fez0zm-py3.10/lib/python3.10/site-packages/lime/discretize.py:110: FutureWarning: Series.__getitem__ treating keys as positions is deprecated. In a future version, integer keys will always be treated as labels (consistent with DataFrame behavior). To access a value by position, use `ser.iloc[pos]`\n",
      "  ret[feature] = int(self.lambdas[feature](ret[feature]))\n",
      "/Users/ygao/Library/Caches/pypoetry/virtualenvs/program-i-Fez0zm-py3.10/lib/python3.10/site-packages/lime/discretize.py:110: FutureWarning: Series.__setitem__ treating keys as positions is deprecated. In a future version, integer keys will always be treated as labels (consistent with DataFrame behavior). To set a value by position, use `ser.iloc[pos] = value`\n",
      "  ret[feature] = int(self.lambdas[feature](ret[feature]))\n",
      "/Users/ygao/Library/Caches/pypoetry/virtualenvs/program-i-Fez0zm-py3.10/lib/python3.10/site-packages/lime/lime_tabular.py:427: FutureWarning: Series.__getitem__ treating keys as positions is deprecated. In a future version, integer keys will always be treated as labels (consistent with DataFrame behavior). To access a value by position, use `ser.iloc[pos]`\n",
      "  discretized_instance[f])]\n",
      "/Users/ygao/Library/Caches/pypoetry/virtualenvs/program-i-Fez0zm-py3.10/lib/python3.10/site-packages/lime/discretize.py:110: FutureWarning: Series.__getitem__ treating keys as positions is deprecated. In a future version, integer keys will always be treated as labels (consistent with DataFrame behavior). To access a value by position, use `ser.iloc[pos]`\n",
      "  ret[feature] = int(self.lambdas[feature](ret[feature]))\n",
      "/Users/ygao/Library/Caches/pypoetry/virtualenvs/program-i-Fez0zm-py3.10/lib/python3.10/site-packages/lime/discretize.py:110: FutureWarning: Series.__setitem__ treating keys as positions is deprecated. In a future version, integer keys will always be treated as labels (consistent with DataFrame behavior). To set a value by position, use `ser.iloc[pos] = value`\n",
      "  ret[feature] = int(self.lambdas[feature](ret[feature]))\n",
      "/Users/ygao/Library/Caches/pypoetry/virtualenvs/program-i-Fez0zm-py3.10/lib/python3.10/site-packages/lime/lime_tabular.py:544: FutureWarning: Series.__getitem__ treating keys as positions is deprecated. In a future version, integer keys will always be treated as labels (consistent with DataFrame behavior). To access a value by position, use `ser.iloc[pos]`\n",
      "  binary_column = (inverse_column == first_row[column]).astype(int)\n"
     ]
    },
    {
     "name": "stdout",
     "output_type": "stream",
     "text": [
      "157/157 [==============================] - 0s 1ms/step\n",
      " 26/157 [===>..........................] - ETA: 0s "
     ]
    },
    {
     "name": "stderr",
     "output_type": "stream",
     "text": [
      "/Users/ygao/Library/Caches/pypoetry/virtualenvs/program-i-Fez0zm-py3.10/lib/python3.10/site-packages/lime/discretize.py:110: FutureWarning: Series.__getitem__ treating keys as positions is deprecated. In a future version, integer keys will always be treated as labels (consistent with DataFrame behavior). To access a value by position, use `ser.iloc[pos]`\n",
      "  ret[feature] = int(self.lambdas[feature](ret[feature]))\n",
      "/Users/ygao/Library/Caches/pypoetry/virtualenvs/program-i-Fez0zm-py3.10/lib/python3.10/site-packages/lime/discretize.py:110: FutureWarning: Series.__setitem__ treating keys as positions is deprecated. In a future version, integer keys will always be treated as labels (consistent with DataFrame behavior). To set a value by position, use `ser.iloc[pos] = value`\n",
      "  ret[feature] = int(self.lambdas[feature](ret[feature]))\n",
      "/Users/ygao/Library/Caches/pypoetry/virtualenvs/program-i-Fez0zm-py3.10/lib/python3.10/site-packages/lime/lime_tabular.py:427: FutureWarning: Series.__getitem__ treating keys as positions is deprecated. In a future version, integer keys will always be treated as labels (consistent with DataFrame behavior). To access a value by position, use `ser.iloc[pos]`\n",
      "  discretized_instance[f])]\n",
      "/Users/ygao/Library/Caches/pypoetry/virtualenvs/program-i-Fez0zm-py3.10/lib/python3.10/site-packages/lime/discretize.py:110: FutureWarning: Series.__getitem__ treating keys as positions is deprecated. In a future version, integer keys will always be treated as labels (consistent with DataFrame behavior). To access a value by position, use `ser.iloc[pos]`\n",
      "  ret[feature] = int(self.lambdas[feature](ret[feature]))\n",
      "/Users/ygao/Library/Caches/pypoetry/virtualenvs/program-i-Fez0zm-py3.10/lib/python3.10/site-packages/lime/discretize.py:110: FutureWarning: Series.__setitem__ treating keys as positions is deprecated. In a future version, integer keys will always be treated as labels (consistent with DataFrame behavior). To set a value by position, use `ser.iloc[pos] = value`\n",
      "  ret[feature] = int(self.lambdas[feature](ret[feature]))\n",
      "/Users/ygao/Library/Caches/pypoetry/virtualenvs/program-i-Fez0zm-py3.10/lib/python3.10/site-packages/lime/lime_tabular.py:544: FutureWarning: Series.__getitem__ treating keys as positions is deprecated. In a future version, integer keys will always be treated as labels (consistent with DataFrame behavior). To access a value by position, use `ser.iloc[pos]`\n",
      "  binary_column = (inverse_column == first_row[column]).astype(int)\n"
     ]
    },
    {
     "name": "stdout",
     "output_type": "stream",
     "text": [
      "157/157 [==============================] - 0s 1ms/step\n",
      " 38/157 [======>.......................] - ETA: 0s"
     ]
    },
    {
     "name": "stderr",
     "output_type": "stream",
     "text": [
      "/Users/ygao/Library/Caches/pypoetry/virtualenvs/program-i-Fez0zm-py3.10/lib/python3.10/site-packages/lime/discretize.py:110: FutureWarning: Series.__getitem__ treating keys as positions is deprecated. In a future version, integer keys will always be treated as labels (consistent with DataFrame behavior). To access a value by position, use `ser.iloc[pos]`\n",
      "  ret[feature] = int(self.lambdas[feature](ret[feature]))\n",
      "/Users/ygao/Library/Caches/pypoetry/virtualenvs/program-i-Fez0zm-py3.10/lib/python3.10/site-packages/lime/discretize.py:110: FutureWarning: Series.__setitem__ treating keys as positions is deprecated. In a future version, integer keys will always be treated as labels (consistent with DataFrame behavior). To set a value by position, use `ser.iloc[pos] = value`\n",
      "  ret[feature] = int(self.lambdas[feature](ret[feature]))\n",
      "/Users/ygao/Library/Caches/pypoetry/virtualenvs/program-i-Fez0zm-py3.10/lib/python3.10/site-packages/lime/lime_tabular.py:427: FutureWarning: Series.__getitem__ treating keys as positions is deprecated. In a future version, integer keys will always be treated as labels (consistent with DataFrame behavior). To access a value by position, use `ser.iloc[pos]`\n",
      "  discretized_instance[f])]\n",
      "/Users/ygao/Library/Caches/pypoetry/virtualenvs/program-i-Fez0zm-py3.10/lib/python3.10/site-packages/lime/discretize.py:110: FutureWarning: Series.__getitem__ treating keys as positions is deprecated. In a future version, integer keys will always be treated as labels (consistent with DataFrame behavior). To access a value by position, use `ser.iloc[pos]`\n",
      "  ret[feature] = int(self.lambdas[feature](ret[feature]))\n",
      "/Users/ygao/Library/Caches/pypoetry/virtualenvs/program-i-Fez0zm-py3.10/lib/python3.10/site-packages/lime/discretize.py:110: FutureWarning: Series.__setitem__ treating keys as positions is deprecated. In a future version, integer keys will always be treated as labels (consistent with DataFrame behavior). To set a value by position, use `ser.iloc[pos] = value`\n",
      "  ret[feature] = int(self.lambdas[feature](ret[feature]))\n",
      "/Users/ygao/Library/Caches/pypoetry/virtualenvs/program-i-Fez0zm-py3.10/lib/python3.10/site-packages/lime/lime_tabular.py:544: FutureWarning: Series.__getitem__ treating keys as positions is deprecated. In a future version, integer keys will always be treated as labels (consistent with DataFrame behavior). To access a value by position, use `ser.iloc[pos]`\n",
      "  binary_column = (inverse_column == first_row[column]).astype(int)\n"
     ]
    },
    {
     "name": "stdout",
     "output_type": "stream",
     "text": [
      "157/157 [==============================] - 0s 1ms/step\n",
      "  1/157 [..............................] - ETA: 10s"
     ]
    },
    {
     "name": "stderr",
     "output_type": "stream",
     "text": [
      "/Users/ygao/Library/Caches/pypoetry/virtualenvs/program-i-Fez0zm-py3.10/lib/python3.10/site-packages/lime/discretize.py:110: FutureWarning: Series.__getitem__ treating keys as positions is deprecated. In a future version, integer keys will always be treated as labels (consistent with DataFrame behavior). To access a value by position, use `ser.iloc[pos]`\n",
      "  ret[feature] = int(self.lambdas[feature](ret[feature]))\n",
      "/Users/ygao/Library/Caches/pypoetry/virtualenvs/program-i-Fez0zm-py3.10/lib/python3.10/site-packages/lime/discretize.py:110: FutureWarning: Series.__setitem__ treating keys as positions is deprecated. In a future version, integer keys will always be treated as labels (consistent with DataFrame behavior). To set a value by position, use `ser.iloc[pos] = value`\n",
      "  ret[feature] = int(self.lambdas[feature](ret[feature]))\n",
      "/Users/ygao/Library/Caches/pypoetry/virtualenvs/program-i-Fez0zm-py3.10/lib/python3.10/site-packages/lime/lime_tabular.py:427: FutureWarning: Series.__getitem__ treating keys as positions is deprecated. In a future version, integer keys will always be treated as labels (consistent with DataFrame behavior). To access a value by position, use `ser.iloc[pos]`\n",
      "  discretized_instance[f])]\n",
      "/Users/ygao/Library/Caches/pypoetry/virtualenvs/program-i-Fez0zm-py3.10/lib/python3.10/site-packages/lime/discretize.py:110: FutureWarning: Series.__getitem__ treating keys as positions is deprecated. In a future version, integer keys will always be treated as labels (consistent with DataFrame behavior). To access a value by position, use `ser.iloc[pos]`\n",
      "  ret[feature] = int(self.lambdas[feature](ret[feature]))\n",
      "/Users/ygao/Library/Caches/pypoetry/virtualenvs/program-i-Fez0zm-py3.10/lib/python3.10/site-packages/lime/discretize.py:110: FutureWarning: Series.__setitem__ treating keys as positions is deprecated. In a future version, integer keys will always be treated as labels (consistent with DataFrame behavior). To set a value by position, use `ser.iloc[pos] = value`\n",
      "  ret[feature] = int(self.lambdas[feature](ret[feature]))\n",
      "/Users/ygao/Library/Caches/pypoetry/virtualenvs/program-i-Fez0zm-py3.10/lib/python3.10/site-packages/lime/lime_tabular.py:544: FutureWarning: Series.__getitem__ treating keys as positions is deprecated. In a future version, integer keys will always be treated as labels (consistent with DataFrame behavior). To access a value by position, use `ser.iloc[pos]`\n",
      "  binary_column = (inverse_column == first_row[column]).astype(int)\n"
     ]
    },
    {
     "name": "stdout",
     "output_type": "stream",
     "text": [
      "157/157 [==============================] - 0s 1ms/step\n",
      "  1/157 [..............................] - ETA: 11s"
     ]
    },
    {
     "name": "stderr",
     "output_type": "stream",
     "text": [
      "/Users/ygao/Library/Caches/pypoetry/virtualenvs/program-i-Fez0zm-py3.10/lib/python3.10/site-packages/lime/discretize.py:110: FutureWarning: Series.__getitem__ treating keys as positions is deprecated. In a future version, integer keys will always be treated as labels (consistent with DataFrame behavior). To access a value by position, use `ser.iloc[pos]`\n",
      "  ret[feature] = int(self.lambdas[feature](ret[feature]))\n",
      "/Users/ygao/Library/Caches/pypoetry/virtualenvs/program-i-Fez0zm-py3.10/lib/python3.10/site-packages/lime/discretize.py:110: FutureWarning: Series.__setitem__ treating keys as positions is deprecated. In a future version, integer keys will always be treated as labels (consistent with DataFrame behavior). To set a value by position, use `ser.iloc[pos] = value`\n",
      "  ret[feature] = int(self.lambdas[feature](ret[feature]))\n",
      "/Users/ygao/Library/Caches/pypoetry/virtualenvs/program-i-Fez0zm-py3.10/lib/python3.10/site-packages/lime/lime_tabular.py:427: FutureWarning: Series.__getitem__ treating keys as positions is deprecated. In a future version, integer keys will always be treated as labels (consistent with DataFrame behavior). To access a value by position, use `ser.iloc[pos]`\n",
      "  discretized_instance[f])]\n",
      "/Users/ygao/Library/Caches/pypoetry/virtualenvs/program-i-Fez0zm-py3.10/lib/python3.10/site-packages/lime/discretize.py:110: FutureWarning: Series.__getitem__ treating keys as positions is deprecated. In a future version, integer keys will always be treated as labels (consistent with DataFrame behavior). To access a value by position, use `ser.iloc[pos]`\n",
      "  ret[feature] = int(self.lambdas[feature](ret[feature]))\n",
      "/Users/ygao/Library/Caches/pypoetry/virtualenvs/program-i-Fez0zm-py3.10/lib/python3.10/site-packages/lime/discretize.py:110: FutureWarning: Series.__setitem__ treating keys as positions is deprecated. In a future version, integer keys will always be treated as labels (consistent with DataFrame behavior). To set a value by position, use `ser.iloc[pos] = value`\n",
      "  ret[feature] = int(self.lambdas[feature](ret[feature]))\n",
      "/Users/ygao/Library/Caches/pypoetry/virtualenvs/program-i-Fez0zm-py3.10/lib/python3.10/site-packages/lime/lime_tabular.py:544: FutureWarning: Series.__getitem__ treating keys as positions is deprecated. In a future version, integer keys will always be treated as labels (consistent with DataFrame behavior). To access a value by position, use `ser.iloc[pos]`\n",
      "  binary_column = (inverse_column == first_row[column]).astype(int)\n"
     ]
    },
    {
     "name": "stdout",
     "output_type": "stream",
     "text": [
      "157/157 [==============================] - 0s 1ms/step\n",
      "  1/157 [..............................] - ETA: 11s"
     ]
    },
    {
     "name": "stderr",
     "output_type": "stream",
     "text": [
      "/Users/ygao/Library/Caches/pypoetry/virtualenvs/program-i-Fez0zm-py3.10/lib/python3.10/site-packages/lime/discretize.py:110: FutureWarning: Series.__getitem__ treating keys as positions is deprecated. In a future version, integer keys will always be treated as labels (consistent with DataFrame behavior). To access a value by position, use `ser.iloc[pos]`\n",
      "  ret[feature] = int(self.lambdas[feature](ret[feature]))\n",
      "/Users/ygao/Library/Caches/pypoetry/virtualenvs/program-i-Fez0zm-py3.10/lib/python3.10/site-packages/lime/discretize.py:110: FutureWarning: Series.__setitem__ treating keys as positions is deprecated. In a future version, integer keys will always be treated as labels (consistent with DataFrame behavior). To set a value by position, use `ser.iloc[pos] = value`\n",
      "  ret[feature] = int(self.lambdas[feature](ret[feature]))\n",
      "/Users/ygao/Library/Caches/pypoetry/virtualenvs/program-i-Fez0zm-py3.10/lib/python3.10/site-packages/lime/lime_tabular.py:427: FutureWarning: Series.__getitem__ treating keys as positions is deprecated. In a future version, integer keys will always be treated as labels (consistent with DataFrame behavior). To access a value by position, use `ser.iloc[pos]`\n",
      "  discretized_instance[f])]\n",
      "/Users/ygao/Library/Caches/pypoetry/virtualenvs/program-i-Fez0zm-py3.10/lib/python3.10/site-packages/lime/discretize.py:110: FutureWarning: Series.__getitem__ treating keys as positions is deprecated. In a future version, integer keys will always be treated as labels (consistent with DataFrame behavior). To access a value by position, use `ser.iloc[pos]`\n",
      "  ret[feature] = int(self.lambdas[feature](ret[feature]))\n",
      "/Users/ygao/Library/Caches/pypoetry/virtualenvs/program-i-Fez0zm-py3.10/lib/python3.10/site-packages/lime/discretize.py:110: FutureWarning: Series.__setitem__ treating keys as positions is deprecated. In a future version, integer keys will always be treated as labels (consistent with DataFrame behavior). To set a value by position, use `ser.iloc[pos] = value`\n",
      "  ret[feature] = int(self.lambdas[feature](ret[feature]))\n",
      "/Users/ygao/Library/Caches/pypoetry/virtualenvs/program-i-Fez0zm-py3.10/lib/python3.10/site-packages/lime/lime_tabular.py:544: FutureWarning: Series.__getitem__ treating keys as positions is deprecated. In a future version, integer keys will always be treated as labels (consistent with DataFrame behavior). To access a value by position, use `ser.iloc[pos]`\n",
      "  binary_column = (inverse_column == first_row[column]).astype(int)\n"
     ]
    },
    {
     "name": "stdout",
     "output_type": "stream",
     "text": [
      "157/157 [==============================] - 0s 1ms/step\n",
      " 20/157 [==>...........................] - ETA: 0s"
     ]
    },
    {
     "name": "stderr",
     "output_type": "stream",
     "text": [
      "/Users/ygao/Library/Caches/pypoetry/virtualenvs/program-i-Fez0zm-py3.10/lib/python3.10/site-packages/lime/discretize.py:110: FutureWarning: Series.__getitem__ treating keys as positions is deprecated. In a future version, integer keys will always be treated as labels (consistent with DataFrame behavior). To access a value by position, use `ser.iloc[pos]`\n",
      "  ret[feature] = int(self.lambdas[feature](ret[feature]))\n",
      "/Users/ygao/Library/Caches/pypoetry/virtualenvs/program-i-Fez0zm-py3.10/lib/python3.10/site-packages/lime/discretize.py:110: FutureWarning: Series.__setitem__ treating keys as positions is deprecated. In a future version, integer keys will always be treated as labels (consistent with DataFrame behavior). To set a value by position, use `ser.iloc[pos] = value`\n",
      "  ret[feature] = int(self.lambdas[feature](ret[feature]))\n",
      "/Users/ygao/Library/Caches/pypoetry/virtualenvs/program-i-Fez0zm-py3.10/lib/python3.10/site-packages/lime/lime_tabular.py:427: FutureWarning: Series.__getitem__ treating keys as positions is deprecated. In a future version, integer keys will always be treated as labels (consistent with DataFrame behavior). To access a value by position, use `ser.iloc[pos]`\n",
      "  discretized_instance[f])]\n",
      "/Users/ygao/Library/Caches/pypoetry/virtualenvs/program-i-Fez0zm-py3.10/lib/python3.10/site-packages/lime/discretize.py:110: FutureWarning: Series.__getitem__ treating keys as positions is deprecated. In a future version, integer keys will always be treated as labels (consistent with DataFrame behavior). To access a value by position, use `ser.iloc[pos]`\n",
      "  ret[feature] = int(self.lambdas[feature](ret[feature]))\n",
      "/Users/ygao/Library/Caches/pypoetry/virtualenvs/program-i-Fez0zm-py3.10/lib/python3.10/site-packages/lime/discretize.py:110: FutureWarning: Series.__setitem__ treating keys as positions is deprecated. In a future version, integer keys will always be treated as labels (consistent with DataFrame behavior). To set a value by position, use `ser.iloc[pos] = value`\n",
      "  ret[feature] = int(self.lambdas[feature](ret[feature]))\n",
      "/Users/ygao/Library/Caches/pypoetry/virtualenvs/program-i-Fez0zm-py3.10/lib/python3.10/site-packages/lime/lime_tabular.py:544: FutureWarning: Series.__getitem__ treating keys as positions is deprecated. In a future version, integer keys will always be treated as labels (consistent with DataFrame behavior). To access a value by position, use `ser.iloc[pos]`\n",
      "  binary_column = (inverse_column == first_row[column]).astype(int)\n"
     ]
    },
    {
     "name": "stdout",
     "output_type": "stream",
     "text": [
      "157/157 [==============================] - 0s 1ms/step\n",
      "  1/157 [..............................] - ETA: 10s"
     ]
    },
    {
     "name": "stderr",
     "output_type": "stream",
     "text": [
      "/Users/ygao/Library/Caches/pypoetry/virtualenvs/program-i-Fez0zm-py3.10/lib/python3.10/site-packages/lime/discretize.py:110: FutureWarning: Series.__getitem__ treating keys as positions is deprecated. In a future version, integer keys will always be treated as labels (consistent with DataFrame behavior). To access a value by position, use `ser.iloc[pos]`\n",
      "  ret[feature] = int(self.lambdas[feature](ret[feature]))\n",
      "/Users/ygao/Library/Caches/pypoetry/virtualenvs/program-i-Fez0zm-py3.10/lib/python3.10/site-packages/lime/discretize.py:110: FutureWarning: Series.__setitem__ treating keys as positions is deprecated. In a future version, integer keys will always be treated as labels (consistent with DataFrame behavior). To set a value by position, use `ser.iloc[pos] = value`\n",
      "  ret[feature] = int(self.lambdas[feature](ret[feature]))\n",
      "/Users/ygao/Library/Caches/pypoetry/virtualenvs/program-i-Fez0zm-py3.10/lib/python3.10/site-packages/lime/lime_tabular.py:427: FutureWarning: Series.__getitem__ treating keys as positions is deprecated. In a future version, integer keys will always be treated as labels (consistent with DataFrame behavior). To access a value by position, use `ser.iloc[pos]`\n",
      "  discretized_instance[f])]\n",
      "/Users/ygao/Library/Caches/pypoetry/virtualenvs/program-i-Fez0zm-py3.10/lib/python3.10/site-packages/lime/discretize.py:110: FutureWarning: Series.__getitem__ treating keys as positions is deprecated. In a future version, integer keys will always be treated as labels (consistent with DataFrame behavior). To access a value by position, use `ser.iloc[pos]`\n",
      "  ret[feature] = int(self.lambdas[feature](ret[feature]))\n",
      "/Users/ygao/Library/Caches/pypoetry/virtualenvs/program-i-Fez0zm-py3.10/lib/python3.10/site-packages/lime/discretize.py:110: FutureWarning: Series.__setitem__ treating keys as positions is deprecated. In a future version, integer keys will always be treated as labels (consistent with DataFrame behavior). To set a value by position, use `ser.iloc[pos] = value`\n",
      "  ret[feature] = int(self.lambdas[feature](ret[feature]))\n",
      "/Users/ygao/Library/Caches/pypoetry/virtualenvs/program-i-Fez0zm-py3.10/lib/python3.10/site-packages/lime/lime_tabular.py:544: FutureWarning: Series.__getitem__ treating keys as positions is deprecated. In a future version, integer keys will always be treated as labels (consistent with DataFrame behavior). To access a value by position, use `ser.iloc[pos]`\n",
      "  binary_column = (inverse_column == first_row[column]).astype(int)\n"
     ]
    },
    {
     "name": "stdout",
     "output_type": "stream",
     "text": [
      "157/157 [==============================] - 0s 1ms/step\n",
      " 45/157 [=======>......................] - ETA: 0s"
     ]
    },
    {
     "name": "stderr",
     "output_type": "stream",
     "text": [
      "/Users/ygao/Library/Caches/pypoetry/virtualenvs/program-i-Fez0zm-py3.10/lib/python3.10/site-packages/lime/discretize.py:110: FutureWarning: Series.__getitem__ treating keys as positions is deprecated. In a future version, integer keys will always be treated as labels (consistent with DataFrame behavior). To access a value by position, use `ser.iloc[pos]`\n",
      "  ret[feature] = int(self.lambdas[feature](ret[feature]))\n",
      "/Users/ygao/Library/Caches/pypoetry/virtualenvs/program-i-Fez0zm-py3.10/lib/python3.10/site-packages/lime/discretize.py:110: FutureWarning: Series.__setitem__ treating keys as positions is deprecated. In a future version, integer keys will always be treated as labels (consistent with DataFrame behavior). To set a value by position, use `ser.iloc[pos] = value`\n",
      "  ret[feature] = int(self.lambdas[feature](ret[feature]))\n",
      "/Users/ygao/Library/Caches/pypoetry/virtualenvs/program-i-Fez0zm-py3.10/lib/python3.10/site-packages/lime/lime_tabular.py:427: FutureWarning: Series.__getitem__ treating keys as positions is deprecated. In a future version, integer keys will always be treated as labels (consistent with DataFrame behavior). To access a value by position, use `ser.iloc[pos]`\n",
      "  discretized_instance[f])]\n",
      "/Users/ygao/Library/Caches/pypoetry/virtualenvs/program-i-Fez0zm-py3.10/lib/python3.10/site-packages/lime/discretize.py:110: FutureWarning: Series.__getitem__ treating keys as positions is deprecated. In a future version, integer keys will always be treated as labels (consistent with DataFrame behavior). To access a value by position, use `ser.iloc[pos]`\n",
      "  ret[feature] = int(self.lambdas[feature](ret[feature]))\n",
      "/Users/ygao/Library/Caches/pypoetry/virtualenvs/program-i-Fez0zm-py3.10/lib/python3.10/site-packages/lime/discretize.py:110: FutureWarning: Series.__setitem__ treating keys as positions is deprecated. In a future version, integer keys will always be treated as labels (consistent with DataFrame behavior). To set a value by position, use `ser.iloc[pos] = value`\n",
      "  ret[feature] = int(self.lambdas[feature](ret[feature]))\n",
      "/Users/ygao/Library/Caches/pypoetry/virtualenvs/program-i-Fez0zm-py3.10/lib/python3.10/site-packages/lime/lime_tabular.py:544: FutureWarning: Series.__getitem__ treating keys as positions is deprecated. In a future version, integer keys will always be treated as labels (consistent with DataFrame behavior). To access a value by position, use `ser.iloc[pos]`\n",
      "  binary_column = (inverse_column == first_row[column]).astype(int)\n"
     ]
    },
    {
     "name": "stdout",
     "output_type": "stream",
     "text": [
      "157/157 [==============================] - 0s 1ms/step\n",
      "  1/157 [..............................] - ETA: 11s"
     ]
    },
    {
     "name": "stderr",
     "output_type": "stream",
     "text": [
      "/Users/ygao/Library/Caches/pypoetry/virtualenvs/program-i-Fez0zm-py3.10/lib/python3.10/site-packages/lime/discretize.py:110: FutureWarning: Series.__getitem__ treating keys as positions is deprecated. In a future version, integer keys will always be treated as labels (consistent with DataFrame behavior). To access a value by position, use `ser.iloc[pos]`\n",
      "  ret[feature] = int(self.lambdas[feature](ret[feature]))\n",
      "/Users/ygao/Library/Caches/pypoetry/virtualenvs/program-i-Fez0zm-py3.10/lib/python3.10/site-packages/lime/discretize.py:110: FutureWarning: Series.__setitem__ treating keys as positions is deprecated. In a future version, integer keys will always be treated as labels (consistent with DataFrame behavior). To set a value by position, use `ser.iloc[pos] = value`\n",
      "  ret[feature] = int(self.lambdas[feature](ret[feature]))\n",
      "/Users/ygao/Library/Caches/pypoetry/virtualenvs/program-i-Fez0zm-py3.10/lib/python3.10/site-packages/lime/lime_tabular.py:427: FutureWarning: Series.__getitem__ treating keys as positions is deprecated. In a future version, integer keys will always be treated as labels (consistent with DataFrame behavior). To access a value by position, use `ser.iloc[pos]`\n",
      "  discretized_instance[f])]\n",
      "/Users/ygao/Library/Caches/pypoetry/virtualenvs/program-i-Fez0zm-py3.10/lib/python3.10/site-packages/lime/discretize.py:110: FutureWarning: Series.__getitem__ treating keys as positions is deprecated. In a future version, integer keys will always be treated as labels (consistent with DataFrame behavior). To access a value by position, use `ser.iloc[pos]`\n",
      "  ret[feature] = int(self.lambdas[feature](ret[feature]))\n",
      "/Users/ygao/Library/Caches/pypoetry/virtualenvs/program-i-Fez0zm-py3.10/lib/python3.10/site-packages/lime/discretize.py:110: FutureWarning: Series.__setitem__ treating keys as positions is deprecated. In a future version, integer keys will always be treated as labels (consistent with DataFrame behavior). To set a value by position, use `ser.iloc[pos] = value`\n",
      "  ret[feature] = int(self.lambdas[feature](ret[feature]))\n",
      "/Users/ygao/Library/Caches/pypoetry/virtualenvs/program-i-Fez0zm-py3.10/lib/python3.10/site-packages/lime/lime_tabular.py:544: FutureWarning: Series.__getitem__ treating keys as positions is deprecated. In a future version, integer keys will always be treated as labels (consistent with DataFrame behavior). To access a value by position, use `ser.iloc[pos]`\n",
      "  binary_column = (inverse_column == first_row[column]).astype(int)\n"
     ]
    },
    {
     "name": "stdout",
     "output_type": "stream",
     "text": [
      "157/157 [==============================] - 0s 1ms/step\n",
      "  1/157 [..............................] - ETA: 9s"
     ]
    },
    {
     "name": "stderr",
     "output_type": "stream",
     "text": [
      "/Users/ygao/Library/Caches/pypoetry/virtualenvs/program-i-Fez0zm-py3.10/lib/python3.10/site-packages/lime/discretize.py:110: FutureWarning: Series.__getitem__ treating keys as positions is deprecated. In a future version, integer keys will always be treated as labels (consistent with DataFrame behavior). To access a value by position, use `ser.iloc[pos]`\n",
      "  ret[feature] = int(self.lambdas[feature](ret[feature]))\n",
      "/Users/ygao/Library/Caches/pypoetry/virtualenvs/program-i-Fez0zm-py3.10/lib/python3.10/site-packages/lime/discretize.py:110: FutureWarning: Series.__setitem__ treating keys as positions is deprecated. In a future version, integer keys will always be treated as labels (consistent with DataFrame behavior). To set a value by position, use `ser.iloc[pos] = value`\n",
      "  ret[feature] = int(self.lambdas[feature](ret[feature]))\n",
      "/Users/ygao/Library/Caches/pypoetry/virtualenvs/program-i-Fez0zm-py3.10/lib/python3.10/site-packages/lime/lime_tabular.py:427: FutureWarning: Series.__getitem__ treating keys as positions is deprecated. In a future version, integer keys will always be treated as labels (consistent with DataFrame behavior). To access a value by position, use `ser.iloc[pos]`\n",
      "  discretized_instance[f])]\n",
      "/Users/ygao/Library/Caches/pypoetry/virtualenvs/program-i-Fez0zm-py3.10/lib/python3.10/site-packages/lime/discretize.py:110: FutureWarning: Series.__getitem__ treating keys as positions is deprecated. In a future version, integer keys will always be treated as labels (consistent with DataFrame behavior). To access a value by position, use `ser.iloc[pos]`\n",
      "  ret[feature] = int(self.lambdas[feature](ret[feature]))\n",
      "/Users/ygao/Library/Caches/pypoetry/virtualenvs/program-i-Fez0zm-py3.10/lib/python3.10/site-packages/lime/discretize.py:110: FutureWarning: Series.__setitem__ treating keys as positions is deprecated. In a future version, integer keys will always be treated as labels (consistent with DataFrame behavior). To set a value by position, use `ser.iloc[pos] = value`\n",
      "  ret[feature] = int(self.lambdas[feature](ret[feature]))\n",
      "/Users/ygao/Library/Caches/pypoetry/virtualenvs/program-i-Fez0zm-py3.10/lib/python3.10/site-packages/lime/lime_tabular.py:544: FutureWarning: Series.__getitem__ treating keys as positions is deprecated. In a future version, integer keys will always be treated as labels (consistent with DataFrame behavior). To access a value by position, use `ser.iloc[pos]`\n",
      "  binary_column = (inverse_column == first_row[column]).astype(int)\n"
     ]
    },
    {
     "name": "stdout",
     "output_type": "stream",
     "text": [
      "157/157 [==============================] - 0s 1ms/step\n",
      " 35/157 [=====>........................] - ETA: 0s"
     ]
    },
    {
     "name": "stderr",
     "output_type": "stream",
     "text": [
      "/Users/ygao/Library/Caches/pypoetry/virtualenvs/program-i-Fez0zm-py3.10/lib/python3.10/site-packages/lime/discretize.py:110: FutureWarning: Series.__getitem__ treating keys as positions is deprecated. In a future version, integer keys will always be treated as labels (consistent with DataFrame behavior). To access a value by position, use `ser.iloc[pos]`\n",
      "  ret[feature] = int(self.lambdas[feature](ret[feature]))\n",
      "/Users/ygao/Library/Caches/pypoetry/virtualenvs/program-i-Fez0zm-py3.10/lib/python3.10/site-packages/lime/discretize.py:110: FutureWarning: Series.__setitem__ treating keys as positions is deprecated. In a future version, integer keys will always be treated as labels (consistent with DataFrame behavior). To set a value by position, use `ser.iloc[pos] = value`\n",
      "  ret[feature] = int(self.lambdas[feature](ret[feature]))\n",
      "/Users/ygao/Library/Caches/pypoetry/virtualenvs/program-i-Fez0zm-py3.10/lib/python3.10/site-packages/lime/lime_tabular.py:427: FutureWarning: Series.__getitem__ treating keys as positions is deprecated. In a future version, integer keys will always be treated as labels (consistent with DataFrame behavior). To access a value by position, use `ser.iloc[pos]`\n",
      "  discretized_instance[f])]\n",
      "/Users/ygao/Library/Caches/pypoetry/virtualenvs/program-i-Fez0zm-py3.10/lib/python3.10/site-packages/lime/discretize.py:110: FutureWarning: Series.__getitem__ treating keys as positions is deprecated. In a future version, integer keys will always be treated as labels (consistent with DataFrame behavior). To access a value by position, use `ser.iloc[pos]`\n",
      "  ret[feature] = int(self.lambdas[feature](ret[feature]))\n",
      "/Users/ygao/Library/Caches/pypoetry/virtualenvs/program-i-Fez0zm-py3.10/lib/python3.10/site-packages/lime/discretize.py:110: FutureWarning: Series.__setitem__ treating keys as positions is deprecated. In a future version, integer keys will always be treated as labels (consistent with DataFrame behavior). To set a value by position, use `ser.iloc[pos] = value`\n",
      "  ret[feature] = int(self.lambdas[feature](ret[feature]))\n",
      "/Users/ygao/Library/Caches/pypoetry/virtualenvs/program-i-Fez0zm-py3.10/lib/python3.10/site-packages/lime/lime_tabular.py:544: FutureWarning: Series.__getitem__ treating keys as positions is deprecated. In a future version, integer keys will always be treated as labels (consistent with DataFrame behavior). To access a value by position, use `ser.iloc[pos]`\n",
      "  binary_column = (inverse_column == first_row[column]).astype(int)\n"
     ]
    },
    {
     "name": "stdout",
     "output_type": "stream",
     "text": [
      "157/157 [==============================] - 0s 1ms/step\n",
      "  1/157 [..............................] - ETA: 6s"
     ]
    },
    {
     "name": "stderr",
     "output_type": "stream",
     "text": [
      "/Users/ygao/Library/Caches/pypoetry/virtualenvs/program-i-Fez0zm-py3.10/lib/python3.10/site-packages/lime/discretize.py:110: FutureWarning: Series.__getitem__ treating keys as positions is deprecated. In a future version, integer keys will always be treated as labels (consistent with DataFrame behavior). To access a value by position, use `ser.iloc[pos]`\n",
      "  ret[feature] = int(self.lambdas[feature](ret[feature]))\n",
      "/Users/ygao/Library/Caches/pypoetry/virtualenvs/program-i-Fez0zm-py3.10/lib/python3.10/site-packages/lime/discretize.py:110: FutureWarning: Series.__setitem__ treating keys as positions is deprecated. In a future version, integer keys will always be treated as labels (consistent with DataFrame behavior). To set a value by position, use `ser.iloc[pos] = value`\n",
      "  ret[feature] = int(self.lambdas[feature](ret[feature]))\n",
      "/Users/ygao/Library/Caches/pypoetry/virtualenvs/program-i-Fez0zm-py3.10/lib/python3.10/site-packages/lime/lime_tabular.py:427: FutureWarning: Series.__getitem__ treating keys as positions is deprecated. In a future version, integer keys will always be treated as labels (consistent with DataFrame behavior). To access a value by position, use `ser.iloc[pos]`\n",
      "  discretized_instance[f])]\n",
      "/Users/ygao/Library/Caches/pypoetry/virtualenvs/program-i-Fez0zm-py3.10/lib/python3.10/site-packages/lime/discretize.py:110: FutureWarning: Series.__getitem__ treating keys as positions is deprecated. In a future version, integer keys will always be treated as labels (consistent with DataFrame behavior). To access a value by position, use `ser.iloc[pos]`\n",
      "  ret[feature] = int(self.lambdas[feature](ret[feature]))\n",
      "/Users/ygao/Library/Caches/pypoetry/virtualenvs/program-i-Fez0zm-py3.10/lib/python3.10/site-packages/lime/discretize.py:110: FutureWarning: Series.__setitem__ treating keys as positions is deprecated. In a future version, integer keys will always be treated as labels (consistent with DataFrame behavior). To set a value by position, use `ser.iloc[pos] = value`\n",
      "  ret[feature] = int(self.lambdas[feature](ret[feature]))\n",
      "/Users/ygao/Library/Caches/pypoetry/virtualenvs/program-i-Fez0zm-py3.10/lib/python3.10/site-packages/lime/lime_tabular.py:544: FutureWarning: Series.__getitem__ treating keys as positions is deprecated. In a future version, integer keys will always be treated as labels (consistent with DataFrame behavior). To access a value by position, use `ser.iloc[pos]`\n",
      "  binary_column = (inverse_column == first_row[column]).astype(int)\n"
     ]
    },
    {
     "name": "stdout",
     "output_type": "stream",
     "text": [
      "157/157 [==============================] - 0s 1ms/step\n",
      " 47/157 [=======>......................] - ETA: 0s"
     ]
    },
    {
     "name": "stderr",
     "output_type": "stream",
     "text": [
      "/Users/ygao/Library/Caches/pypoetry/virtualenvs/program-i-Fez0zm-py3.10/lib/python3.10/site-packages/lime/discretize.py:110: FutureWarning: Series.__getitem__ treating keys as positions is deprecated. In a future version, integer keys will always be treated as labels (consistent with DataFrame behavior). To access a value by position, use `ser.iloc[pos]`\n",
      "  ret[feature] = int(self.lambdas[feature](ret[feature]))\n",
      "/Users/ygao/Library/Caches/pypoetry/virtualenvs/program-i-Fez0zm-py3.10/lib/python3.10/site-packages/lime/discretize.py:110: FutureWarning: Series.__setitem__ treating keys as positions is deprecated. In a future version, integer keys will always be treated as labels (consistent with DataFrame behavior). To set a value by position, use `ser.iloc[pos] = value`\n",
      "  ret[feature] = int(self.lambdas[feature](ret[feature]))\n",
      "/Users/ygao/Library/Caches/pypoetry/virtualenvs/program-i-Fez0zm-py3.10/lib/python3.10/site-packages/lime/lime_tabular.py:427: FutureWarning: Series.__getitem__ treating keys as positions is deprecated. In a future version, integer keys will always be treated as labels (consistent with DataFrame behavior). To access a value by position, use `ser.iloc[pos]`\n",
      "  discretized_instance[f])]\n",
      "/Users/ygao/Library/Caches/pypoetry/virtualenvs/program-i-Fez0zm-py3.10/lib/python3.10/site-packages/lime/discretize.py:110: FutureWarning: Series.__getitem__ treating keys as positions is deprecated. In a future version, integer keys will always be treated as labels (consistent with DataFrame behavior). To access a value by position, use `ser.iloc[pos]`\n",
      "  ret[feature] = int(self.lambdas[feature](ret[feature]))\n",
      "/Users/ygao/Library/Caches/pypoetry/virtualenvs/program-i-Fez0zm-py3.10/lib/python3.10/site-packages/lime/discretize.py:110: FutureWarning: Series.__setitem__ treating keys as positions is deprecated. In a future version, integer keys will always be treated as labels (consistent with DataFrame behavior). To set a value by position, use `ser.iloc[pos] = value`\n",
      "  ret[feature] = int(self.lambdas[feature](ret[feature]))\n",
      "/Users/ygao/Library/Caches/pypoetry/virtualenvs/program-i-Fez0zm-py3.10/lib/python3.10/site-packages/lime/lime_tabular.py:544: FutureWarning: Series.__getitem__ treating keys as positions is deprecated. In a future version, integer keys will always be treated as labels (consistent with DataFrame behavior). To access a value by position, use `ser.iloc[pos]`\n",
      "  binary_column = (inverse_column == first_row[column]).astype(int)\n"
     ]
    },
    {
     "name": "stdout",
     "output_type": "stream",
     "text": [
      "157/157 [==============================] - 0s 1ms/step\n",
      " 31/157 [====>.........................] - ETA: 0s "
     ]
    },
    {
     "name": "stderr",
     "output_type": "stream",
     "text": [
      "/Users/ygao/Library/Caches/pypoetry/virtualenvs/program-i-Fez0zm-py3.10/lib/python3.10/site-packages/lime/discretize.py:110: FutureWarning: Series.__getitem__ treating keys as positions is deprecated. In a future version, integer keys will always be treated as labels (consistent with DataFrame behavior). To access a value by position, use `ser.iloc[pos]`\n",
      "  ret[feature] = int(self.lambdas[feature](ret[feature]))\n",
      "/Users/ygao/Library/Caches/pypoetry/virtualenvs/program-i-Fez0zm-py3.10/lib/python3.10/site-packages/lime/discretize.py:110: FutureWarning: Series.__setitem__ treating keys as positions is deprecated. In a future version, integer keys will always be treated as labels (consistent with DataFrame behavior). To set a value by position, use `ser.iloc[pos] = value`\n",
      "  ret[feature] = int(self.lambdas[feature](ret[feature]))\n",
      "/Users/ygao/Library/Caches/pypoetry/virtualenvs/program-i-Fez0zm-py3.10/lib/python3.10/site-packages/lime/lime_tabular.py:427: FutureWarning: Series.__getitem__ treating keys as positions is deprecated. In a future version, integer keys will always be treated as labels (consistent with DataFrame behavior). To access a value by position, use `ser.iloc[pos]`\n",
      "  discretized_instance[f])]\n",
      "/Users/ygao/Library/Caches/pypoetry/virtualenvs/program-i-Fez0zm-py3.10/lib/python3.10/site-packages/lime/discretize.py:110: FutureWarning: Series.__getitem__ treating keys as positions is deprecated. In a future version, integer keys will always be treated as labels (consistent with DataFrame behavior). To access a value by position, use `ser.iloc[pos]`\n",
      "  ret[feature] = int(self.lambdas[feature](ret[feature]))\n",
      "/Users/ygao/Library/Caches/pypoetry/virtualenvs/program-i-Fez0zm-py3.10/lib/python3.10/site-packages/lime/discretize.py:110: FutureWarning: Series.__setitem__ treating keys as positions is deprecated. In a future version, integer keys will always be treated as labels (consistent with DataFrame behavior). To set a value by position, use `ser.iloc[pos] = value`\n",
      "  ret[feature] = int(self.lambdas[feature](ret[feature]))\n",
      "/Users/ygao/Library/Caches/pypoetry/virtualenvs/program-i-Fez0zm-py3.10/lib/python3.10/site-packages/lime/lime_tabular.py:544: FutureWarning: Series.__getitem__ treating keys as positions is deprecated. In a future version, integer keys will always be treated as labels (consistent with DataFrame behavior). To access a value by position, use `ser.iloc[pos]`\n",
      "  binary_column = (inverse_column == first_row[column]).astype(int)\n"
     ]
    },
    {
     "name": "stdout",
     "output_type": "stream",
     "text": [
      "157/157 [==============================] - 0s 1ms/step\n",
      " 32/157 [=====>........................] - ETA: 0s"
     ]
    },
    {
     "name": "stderr",
     "output_type": "stream",
     "text": [
      "/Users/ygao/Library/Caches/pypoetry/virtualenvs/program-i-Fez0zm-py3.10/lib/python3.10/site-packages/lime/discretize.py:110: FutureWarning: Series.__getitem__ treating keys as positions is deprecated. In a future version, integer keys will always be treated as labels (consistent with DataFrame behavior). To access a value by position, use `ser.iloc[pos]`\n",
      "  ret[feature] = int(self.lambdas[feature](ret[feature]))\n",
      "/Users/ygao/Library/Caches/pypoetry/virtualenvs/program-i-Fez0zm-py3.10/lib/python3.10/site-packages/lime/discretize.py:110: FutureWarning: Series.__setitem__ treating keys as positions is deprecated. In a future version, integer keys will always be treated as labels (consistent with DataFrame behavior). To set a value by position, use `ser.iloc[pos] = value`\n",
      "  ret[feature] = int(self.lambdas[feature](ret[feature]))\n",
      "/Users/ygao/Library/Caches/pypoetry/virtualenvs/program-i-Fez0zm-py3.10/lib/python3.10/site-packages/lime/lime_tabular.py:427: FutureWarning: Series.__getitem__ treating keys as positions is deprecated. In a future version, integer keys will always be treated as labels (consistent with DataFrame behavior). To access a value by position, use `ser.iloc[pos]`\n",
      "  discretized_instance[f])]\n",
      "/Users/ygao/Library/Caches/pypoetry/virtualenvs/program-i-Fez0zm-py3.10/lib/python3.10/site-packages/lime/discretize.py:110: FutureWarning: Series.__getitem__ treating keys as positions is deprecated. In a future version, integer keys will always be treated as labels (consistent with DataFrame behavior). To access a value by position, use `ser.iloc[pos]`\n",
      "  ret[feature] = int(self.lambdas[feature](ret[feature]))\n",
      "/Users/ygao/Library/Caches/pypoetry/virtualenvs/program-i-Fez0zm-py3.10/lib/python3.10/site-packages/lime/discretize.py:110: FutureWarning: Series.__setitem__ treating keys as positions is deprecated. In a future version, integer keys will always be treated as labels (consistent with DataFrame behavior). To set a value by position, use `ser.iloc[pos] = value`\n",
      "  ret[feature] = int(self.lambdas[feature](ret[feature]))\n",
      "/Users/ygao/Library/Caches/pypoetry/virtualenvs/program-i-Fez0zm-py3.10/lib/python3.10/site-packages/lime/lime_tabular.py:544: FutureWarning: Series.__getitem__ treating keys as positions is deprecated. In a future version, integer keys will always be treated as labels (consistent with DataFrame behavior). To access a value by position, use `ser.iloc[pos]`\n",
      "  binary_column = (inverse_column == first_row[column]).astype(int)\n"
     ]
    },
    {
     "name": "stdout",
     "output_type": "stream",
     "text": [
      "157/157 [==============================] - 0s 1ms/step\n",
      " 32/157 [=====>........................] - ETA: 0s "
     ]
    },
    {
     "name": "stderr",
     "output_type": "stream",
     "text": [
      "/Users/ygao/Library/Caches/pypoetry/virtualenvs/program-i-Fez0zm-py3.10/lib/python3.10/site-packages/lime/discretize.py:110: FutureWarning: Series.__getitem__ treating keys as positions is deprecated. In a future version, integer keys will always be treated as labels (consistent with DataFrame behavior). To access a value by position, use `ser.iloc[pos]`\n",
      "  ret[feature] = int(self.lambdas[feature](ret[feature]))\n",
      "/Users/ygao/Library/Caches/pypoetry/virtualenvs/program-i-Fez0zm-py3.10/lib/python3.10/site-packages/lime/discretize.py:110: FutureWarning: Series.__setitem__ treating keys as positions is deprecated. In a future version, integer keys will always be treated as labels (consistent with DataFrame behavior). To set a value by position, use `ser.iloc[pos] = value`\n",
      "  ret[feature] = int(self.lambdas[feature](ret[feature]))\n",
      "/Users/ygao/Library/Caches/pypoetry/virtualenvs/program-i-Fez0zm-py3.10/lib/python3.10/site-packages/lime/lime_tabular.py:427: FutureWarning: Series.__getitem__ treating keys as positions is deprecated. In a future version, integer keys will always be treated as labels (consistent with DataFrame behavior). To access a value by position, use `ser.iloc[pos]`\n",
      "  discretized_instance[f])]\n",
      "/Users/ygao/Library/Caches/pypoetry/virtualenvs/program-i-Fez0zm-py3.10/lib/python3.10/site-packages/lime/discretize.py:110: FutureWarning: Series.__getitem__ treating keys as positions is deprecated. In a future version, integer keys will always be treated as labels (consistent with DataFrame behavior). To access a value by position, use `ser.iloc[pos]`\n",
      "  ret[feature] = int(self.lambdas[feature](ret[feature]))\n",
      "/Users/ygao/Library/Caches/pypoetry/virtualenvs/program-i-Fez0zm-py3.10/lib/python3.10/site-packages/lime/discretize.py:110: FutureWarning: Series.__setitem__ treating keys as positions is deprecated. In a future version, integer keys will always be treated as labels (consistent with DataFrame behavior). To set a value by position, use `ser.iloc[pos] = value`\n",
      "  ret[feature] = int(self.lambdas[feature](ret[feature]))\n",
      "/Users/ygao/Library/Caches/pypoetry/virtualenvs/program-i-Fez0zm-py3.10/lib/python3.10/site-packages/lime/lime_tabular.py:544: FutureWarning: Series.__getitem__ treating keys as positions is deprecated. In a future version, integer keys will always be treated as labels (consistent with DataFrame behavior). To access a value by position, use `ser.iloc[pos]`\n",
      "  binary_column = (inverse_column == first_row[column]).astype(int)\n"
     ]
    },
    {
     "name": "stdout",
     "output_type": "stream",
     "text": [
      "157/157 [==============================] - 0s 1ms/step\n",
      "  1/157 [..............................] - ETA: 9s"
     ]
    },
    {
     "name": "stderr",
     "output_type": "stream",
     "text": [
      "/Users/ygao/Library/Caches/pypoetry/virtualenvs/program-i-Fez0zm-py3.10/lib/python3.10/site-packages/lime/discretize.py:110: FutureWarning: Series.__getitem__ treating keys as positions is deprecated. In a future version, integer keys will always be treated as labels (consistent with DataFrame behavior). To access a value by position, use `ser.iloc[pos]`\n",
      "  ret[feature] = int(self.lambdas[feature](ret[feature]))\n",
      "/Users/ygao/Library/Caches/pypoetry/virtualenvs/program-i-Fez0zm-py3.10/lib/python3.10/site-packages/lime/discretize.py:110: FutureWarning: Series.__setitem__ treating keys as positions is deprecated. In a future version, integer keys will always be treated as labels (consistent with DataFrame behavior). To set a value by position, use `ser.iloc[pos] = value`\n",
      "  ret[feature] = int(self.lambdas[feature](ret[feature]))\n",
      "/Users/ygao/Library/Caches/pypoetry/virtualenvs/program-i-Fez0zm-py3.10/lib/python3.10/site-packages/lime/lime_tabular.py:427: FutureWarning: Series.__getitem__ treating keys as positions is deprecated. In a future version, integer keys will always be treated as labels (consistent with DataFrame behavior). To access a value by position, use `ser.iloc[pos]`\n",
      "  discretized_instance[f])]\n",
      "/Users/ygao/Library/Caches/pypoetry/virtualenvs/program-i-Fez0zm-py3.10/lib/python3.10/site-packages/lime/discretize.py:110: FutureWarning: Series.__getitem__ treating keys as positions is deprecated. In a future version, integer keys will always be treated as labels (consistent with DataFrame behavior). To access a value by position, use `ser.iloc[pos]`\n",
      "  ret[feature] = int(self.lambdas[feature](ret[feature]))\n",
      "/Users/ygao/Library/Caches/pypoetry/virtualenvs/program-i-Fez0zm-py3.10/lib/python3.10/site-packages/lime/discretize.py:110: FutureWarning: Series.__setitem__ treating keys as positions is deprecated. In a future version, integer keys will always be treated as labels (consistent with DataFrame behavior). To set a value by position, use `ser.iloc[pos] = value`\n",
      "  ret[feature] = int(self.lambdas[feature](ret[feature]))\n",
      "/Users/ygao/Library/Caches/pypoetry/virtualenvs/program-i-Fez0zm-py3.10/lib/python3.10/site-packages/lime/lime_tabular.py:544: FutureWarning: Series.__getitem__ treating keys as positions is deprecated. In a future version, integer keys will always be treated as labels (consistent with DataFrame behavior). To access a value by position, use `ser.iloc[pos]`\n",
      "  binary_column = (inverse_column == first_row[column]).astype(int)\n"
     ]
    },
    {
     "name": "stdout",
     "output_type": "stream",
     "text": [
      "157/157 [==============================] - 0s 1ms/step\n",
      " 23/157 [===>..........................] - ETA: 0s"
     ]
    },
    {
     "name": "stderr",
     "output_type": "stream",
     "text": [
      "/Users/ygao/Library/Caches/pypoetry/virtualenvs/program-i-Fez0zm-py3.10/lib/python3.10/site-packages/lime/discretize.py:110: FutureWarning: Series.__getitem__ treating keys as positions is deprecated. In a future version, integer keys will always be treated as labels (consistent with DataFrame behavior). To access a value by position, use `ser.iloc[pos]`\n",
      "  ret[feature] = int(self.lambdas[feature](ret[feature]))\n",
      "/Users/ygao/Library/Caches/pypoetry/virtualenvs/program-i-Fez0zm-py3.10/lib/python3.10/site-packages/lime/discretize.py:110: FutureWarning: Series.__setitem__ treating keys as positions is deprecated. In a future version, integer keys will always be treated as labels (consistent with DataFrame behavior). To set a value by position, use `ser.iloc[pos] = value`\n",
      "  ret[feature] = int(self.lambdas[feature](ret[feature]))\n",
      "/Users/ygao/Library/Caches/pypoetry/virtualenvs/program-i-Fez0zm-py3.10/lib/python3.10/site-packages/lime/lime_tabular.py:427: FutureWarning: Series.__getitem__ treating keys as positions is deprecated. In a future version, integer keys will always be treated as labels (consistent with DataFrame behavior). To access a value by position, use `ser.iloc[pos]`\n",
      "  discretized_instance[f])]\n",
      "/Users/ygao/Library/Caches/pypoetry/virtualenvs/program-i-Fez0zm-py3.10/lib/python3.10/site-packages/lime/discretize.py:110: FutureWarning: Series.__getitem__ treating keys as positions is deprecated. In a future version, integer keys will always be treated as labels (consistent with DataFrame behavior). To access a value by position, use `ser.iloc[pos]`\n",
      "  ret[feature] = int(self.lambdas[feature](ret[feature]))\n",
      "/Users/ygao/Library/Caches/pypoetry/virtualenvs/program-i-Fez0zm-py3.10/lib/python3.10/site-packages/lime/discretize.py:110: FutureWarning: Series.__setitem__ treating keys as positions is deprecated. In a future version, integer keys will always be treated as labels (consistent with DataFrame behavior). To set a value by position, use `ser.iloc[pos] = value`\n",
      "  ret[feature] = int(self.lambdas[feature](ret[feature]))\n",
      "/Users/ygao/Library/Caches/pypoetry/virtualenvs/program-i-Fez0zm-py3.10/lib/python3.10/site-packages/lime/lime_tabular.py:544: FutureWarning: Series.__getitem__ treating keys as positions is deprecated. In a future version, integer keys will always be treated as labels (consistent with DataFrame behavior). To access a value by position, use `ser.iloc[pos]`\n",
      "  binary_column = (inverse_column == first_row[column]).astype(int)\n"
     ]
    },
    {
     "name": "stdout",
     "output_type": "stream",
     "text": [
      "157/157 [==============================] - 0s 1ms/step\n",
      "  1/157 [..............................] - ETA: 16s"
     ]
    },
    {
     "name": "stderr",
     "output_type": "stream",
     "text": [
      "/Users/ygao/Library/Caches/pypoetry/virtualenvs/program-i-Fez0zm-py3.10/lib/python3.10/site-packages/lime/discretize.py:110: FutureWarning: Series.__getitem__ treating keys as positions is deprecated. In a future version, integer keys will always be treated as labels (consistent with DataFrame behavior). To access a value by position, use `ser.iloc[pos]`\n",
      "  ret[feature] = int(self.lambdas[feature](ret[feature]))\n",
      "/Users/ygao/Library/Caches/pypoetry/virtualenvs/program-i-Fez0zm-py3.10/lib/python3.10/site-packages/lime/discretize.py:110: FutureWarning: Series.__setitem__ treating keys as positions is deprecated. In a future version, integer keys will always be treated as labels (consistent with DataFrame behavior). To set a value by position, use `ser.iloc[pos] = value`\n",
      "  ret[feature] = int(self.lambdas[feature](ret[feature]))\n",
      "/Users/ygao/Library/Caches/pypoetry/virtualenvs/program-i-Fez0zm-py3.10/lib/python3.10/site-packages/lime/lime_tabular.py:427: FutureWarning: Series.__getitem__ treating keys as positions is deprecated. In a future version, integer keys will always be treated as labels (consistent with DataFrame behavior). To access a value by position, use `ser.iloc[pos]`\n",
      "  discretized_instance[f])]\n",
      "/Users/ygao/Library/Caches/pypoetry/virtualenvs/program-i-Fez0zm-py3.10/lib/python3.10/site-packages/lime/discretize.py:110: FutureWarning: Series.__getitem__ treating keys as positions is deprecated. In a future version, integer keys will always be treated as labels (consistent with DataFrame behavior). To access a value by position, use `ser.iloc[pos]`\n",
      "  ret[feature] = int(self.lambdas[feature](ret[feature]))\n",
      "/Users/ygao/Library/Caches/pypoetry/virtualenvs/program-i-Fez0zm-py3.10/lib/python3.10/site-packages/lime/discretize.py:110: FutureWarning: Series.__setitem__ treating keys as positions is deprecated. In a future version, integer keys will always be treated as labels (consistent with DataFrame behavior). To set a value by position, use `ser.iloc[pos] = value`\n",
      "  ret[feature] = int(self.lambdas[feature](ret[feature]))\n",
      "/Users/ygao/Library/Caches/pypoetry/virtualenvs/program-i-Fez0zm-py3.10/lib/python3.10/site-packages/lime/lime_tabular.py:544: FutureWarning: Series.__getitem__ treating keys as positions is deprecated. In a future version, integer keys will always be treated as labels (consistent with DataFrame behavior). To access a value by position, use `ser.iloc[pos]`\n",
      "  binary_column = (inverse_column == first_row[column]).astype(int)\n"
     ]
    },
    {
     "name": "stdout",
     "output_type": "stream",
     "text": [
      "157/157 [==============================] - 0s 1ms/step\n",
      " 42/157 [=======>......................] - ETA: 0s"
     ]
    },
    {
     "name": "stderr",
     "output_type": "stream",
     "text": [
      "/Users/ygao/Library/Caches/pypoetry/virtualenvs/program-i-Fez0zm-py3.10/lib/python3.10/site-packages/lime/discretize.py:110: FutureWarning: Series.__getitem__ treating keys as positions is deprecated. In a future version, integer keys will always be treated as labels (consistent with DataFrame behavior). To access a value by position, use `ser.iloc[pos]`\n",
      "  ret[feature] = int(self.lambdas[feature](ret[feature]))\n",
      "/Users/ygao/Library/Caches/pypoetry/virtualenvs/program-i-Fez0zm-py3.10/lib/python3.10/site-packages/lime/discretize.py:110: FutureWarning: Series.__setitem__ treating keys as positions is deprecated. In a future version, integer keys will always be treated as labels (consistent with DataFrame behavior). To set a value by position, use `ser.iloc[pos] = value`\n",
      "  ret[feature] = int(self.lambdas[feature](ret[feature]))\n",
      "/Users/ygao/Library/Caches/pypoetry/virtualenvs/program-i-Fez0zm-py3.10/lib/python3.10/site-packages/lime/lime_tabular.py:427: FutureWarning: Series.__getitem__ treating keys as positions is deprecated. In a future version, integer keys will always be treated as labels (consistent with DataFrame behavior). To access a value by position, use `ser.iloc[pos]`\n",
      "  discretized_instance[f])]\n",
      "/Users/ygao/Library/Caches/pypoetry/virtualenvs/program-i-Fez0zm-py3.10/lib/python3.10/site-packages/lime/discretize.py:110: FutureWarning: Series.__getitem__ treating keys as positions is deprecated. In a future version, integer keys will always be treated as labels (consistent with DataFrame behavior). To access a value by position, use `ser.iloc[pos]`\n",
      "  ret[feature] = int(self.lambdas[feature](ret[feature]))\n",
      "/Users/ygao/Library/Caches/pypoetry/virtualenvs/program-i-Fez0zm-py3.10/lib/python3.10/site-packages/lime/discretize.py:110: FutureWarning: Series.__setitem__ treating keys as positions is deprecated. In a future version, integer keys will always be treated as labels (consistent with DataFrame behavior). To set a value by position, use `ser.iloc[pos] = value`\n",
      "  ret[feature] = int(self.lambdas[feature](ret[feature]))\n",
      "/Users/ygao/Library/Caches/pypoetry/virtualenvs/program-i-Fez0zm-py3.10/lib/python3.10/site-packages/lime/lime_tabular.py:544: FutureWarning: Series.__getitem__ treating keys as positions is deprecated. In a future version, integer keys will always be treated as labels (consistent with DataFrame behavior). To access a value by position, use `ser.iloc[pos]`\n",
      "  binary_column = (inverse_column == first_row[column]).astype(int)\n"
     ]
    },
    {
     "name": "stdout",
     "output_type": "stream",
     "text": [
      "157/157 [==============================] - 0s 1ms/step\n",
      " 40/157 [======>.......................] - ETA: 0s"
     ]
    },
    {
     "name": "stderr",
     "output_type": "stream",
     "text": [
      "/Users/ygao/Library/Caches/pypoetry/virtualenvs/program-i-Fez0zm-py3.10/lib/python3.10/site-packages/lime/discretize.py:110: FutureWarning: Series.__getitem__ treating keys as positions is deprecated. In a future version, integer keys will always be treated as labels (consistent with DataFrame behavior). To access a value by position, use `ser.iloc[pos]`\n",
      "  ret[feature] = int(self.lambdas[feature](ret[feature]))\n",
      "/Users/ygao/Library/Caches/pypoetry/virtualenvs/program-i-Fez0zm-py3.10/lib/python3.10/site-packages/lime/discretize.py:110: FutureWarning: Series.__setitem__ treating keys as positions is deprecated. In a future version, integer keys will always be treated as labels (consistent with DataFrame behavior). To set a value by position, use `ser.iloc[pos] = value`\n",
      "  ret[feature] = int(self.lambdas[feature](ret[feature]))\n",
      "/Users/ygao/Library/Caches/pypoetry/virtualenvs/program-i-Fez0zm-py3.10/lib/python3.10/site-packages/lime/lime_tabular.py:427: FutureWarning: Series.__getitem__ treating keys as positions is deprecated. In a future version, integer keys will always be treated as labels (consistent with DataFrame behavior). To access a value by position, use `ser.iloc[pos]`\n",
      "  discretized_instance[f])]\n",
      "/Users/ygao/Library/Caches/pypoetry/virtualenvs/program-i-Fez0zm-py3.10/lib/python3.10/site-packages/lime/discretize.py:110: FutureWarning: Series.__getitem__ treating keys as positions is deprecated. In a future version, integer keys will always be treated as labels (consistent with DataFrame behavior). To access a value by position, use `ser.iloc[pos]`\n",
      "  ret[feature] = int(self.lambdas[feature](ret[feature]))\n",
      "/Users/ygao/Library/Caches/pypoetry/virtualenvs/program-i-Fez0zm-py3.10/lib/python3.10/site-packages/lime/discretize.py:110: FutureWarning: Series.__setitem__ treating keys as positions is deprecated. In a future version, integer keys will always be treated as labels (consistent with DataFrame behavior). To set a value by position, use `ser.iloc[pos] = value`\n",
      "  ret[feature] = int(self.lambdas[feature](ret[feature]))\n",
      "/Users/ygao/Library/Caches/pypoetry/virtualenvs/program-i-Fez0zm-py3.10/lib/python3.10/site-packages/lime/lime_tabular.py:544: FutureWarning: Series.__getitem__ treating keys as positions is deprecated. In a future version, integer keys will always be treated as labels (consistent with DataFrame behavior). To access a value by position, use `ser.iloc[pos]`\n",
      "  binary_column = (inverse_column == first_row[column]).astype(int)\n"
     ]
    },
    {
     "name": "stdout",
     "output_type": "stream",
     "text": [
      "157/157 [==============================] - 0s 1ms/step\n",
      "  1/157 [..............................] - ETA: 11s"
     ]
    },
    {
     "name": "stderr",
     "output_type": "stream",
     "text": [
      "/Users/ygao/Library/Caches/pypoetry/virtualenvs/program-i-Fez0zm-py3.10/lib/python3.10/site-packages/lime/discretize.py:110: FutureWarning: Series.__getitem__ treating keys as positions is deprecated. In a future version, integer keys will always be treated as labels (consistent with DataFrame behavior). To access a value by position, use `ser.iloc[pos]`\n",
      "  ret[feature] = int(self.lambdas[feature](ret[feature]))\n",
      "/Users/ygao/Library/Caches/pypoetry/virtualenvs/program-i-Fez0zm-py3.10/lib/python3.10/site-packages/lime/discretize.py:110: FutureWarning: Series.__setitem__ treating keys as positions is deprecated. In a future version, integer keys will always be treated as labels (consistent with DataFrame behavior). To set a value by position, use `ser.iloc[pos] = value`\n",
      "  ret[feature] = int(self.lambdas[feature](ret[feature]))\n",
      "/Users/ygao/Library/Caches/pypoetry/virtualenvs/program-i-Fez0zm-py3.10/lib/python3.10/site-packages/lime/lime_tabular.py:427: FutureWarning: Series.__getitem__ treating keys as positions is deprecated. In a future version, integer keys will always be treated as labels (consistent with DataFrame behavior). To access a value by position, use `ser.iloc[pos]`\n",
      "  discretized_instance[f])]\n",
      "/Users/ygao/Library/Caches/pypoetry/virtualenvs/program-i-Fez0zm-py3.10/lib/python3.10/site-packages/lime/discretize.py:110: FutureWarning: Series.__getitem__ treating keys as positions is deprecated. In a future version, integer keys will always be treated as labels (consistent with DataFrame behavior). To access a value by position, use `ser.iloc[pos]`\n",
      "  ret[feature] = int(self.lambdas[feature](ret[feature]))\n",
      "/Users/ygao/Library/Caches/pypoetry/virtualenvs/program-i-Fez0zm-py3.10/lib/python3.10/site-packages/lime/discretize.py:110: FutureWarning: Series.__setitem__ treating keys as positions is deprecated. In a future version, integer keys will always be treated as labels (consistent with DataFrame behavior). To set a value by position, use `ser.iloc[pos] = value`\n",
      "  ret[feature] = int(self.lambdas[feature](ret[feature]))\n",
      "/Users/ygao/Library/Caches/pypoetry/virtualenvs/program-i-Fez0zm-py3.10/lib/python3.10/site-packages/lime/lime_tabular.py:544: FutureWarning: Series.__getitem__ treating keys as positions is deprecated. In a future version, integer keys will always be treated as labels (consistent with DataFrame behavior). To access a value by position, use `ser.iloc[pos]`\n",
      "  binary_column = (inverse_column == first_row[column]).astype(int)\n"
     ]
    },
    {
     "name": "stdout",
     "output_type": "stream",
     "text": [
      "157/157 [==============================] - 0s 1ms/step\n",
      " 40/157 [======>.......................] - ETA: 0s"
     ]
    },
    {
     "name": "stderr",
     "output_type": "stream",
     "text": [
      "/Users/ygao/Library/Caches/pypoetry/virtualenvs/program-i-Fez0zm-py3.10/lib/python3.10/site-packages/lime/discretize.py:110: FutureWarning: Series.__getitem__ treating keys as positions is deprecated. In a future version, integer keys will always be treated as labels (consistent with DataFrame behavior). To access a value by position, use `ser.iloc[pos]`\n",
      "  ret[feature] = int(self.lambdas[feature](ret[feature]))\n",
      "/Users/ygao/Library/Caches/pypoetry/virtualenvs/program-i-Fez0zm-py3.10/lib/python3.10/site-packages/lime/discretize.py:110: FutureWarning: Series.__setitem__ treating keys as positions is deprecated. In a future version, integer keys will always be treated as labels (consistent with DataFrame behavior). To set a value by position, use `ser.iloc[pos] = value`\n",
      "  ret[feature] = int(self.lambdas[feature](ret[feature]))\n",
      "/Users/ygao/Library/Caches/pypoetry/virtualenvs/program-i-Fez0zm-py3.10/lib/python3.10/site-packages/lime/lime_tabular.py:427: FutureWarning: Series.__getitem__ treating keys as positions is deprecated. In a future version, integer keys will always be treated as labels (consistent with DataFrame behavior). To access a value by position, use `ser.iloc[pos]`\n",
      "  discretized_instance[f])]\n",
      "/Users/ygao/Library/Caches/pypoetry/virtualenvs/program-i-Fez0zm-py3.10/lib/python3.10/site-packages/lime/discretize.py:110: FutureWarning: Series.__getitem__ treating keys as positions is deprecated. In a future version, integer keys will always be treated as labels (consistent with DataFrame behavior). To access a value by position, use `ser.iloc[pos]`\n",
      "  ret[feature] = int(self.lambdas[feature](ret[feature]))\n",
      "/Users/ygao/Library/Caches/pypoetry/virtualenvs/program-i-Fez0zm-py3.10/lib/python3.10/site-packages/lime/discretize.py:110: FutureWarning: Series.__setitem__ treating keys as positions is deprecated. In a future version, integer keys will always be treated as labels (consistent with DataFrame behavior). To set a value by position, use `ser.iloc[pos] = value`\n",
      "  ret[feature] = int(self.lambdas[feature](ret[feature]))\n",
      "/Users/ygao/Library/Caches/pypoetry/virtualenvs/program-i-Fez0zm-py3.10/lib/python3.10/site-packages/lime/lime_tabular.py:544: FutureWarning: Series.__getitem__ treating keys as positions is deprecated. In a future version, integer keys will always be treated as labels (consistent with DataFrame behavior). To access a value by position, use `ser.iloc[pos]`\n",
      "  binary_column = (inverse_column == first_row[column]).astype(int)\n"
     ]
    },
    {
     "name": "stdout",
     "output_type": "stream",
     "text": [
      "157/157 [==============================] - 0s 1ms/step\n",
      " 37/157 [======>.......................] - ETA: 0s"
     ]
    },
    {
     "name": "stderr",
     "output_type": "stream",
     "text": [
      "/Users/ygao/Library/Caches/pypoetry/virtualenvs/program-i-Fez0zm-py3.10/lib/python3.10/site-packages/lime/discretize.py:110: FutureWarning: Series.__getitem__ treating keys as positions is deprecated. In a future version, integer keys will always be treated as labels (consistent with DataFrame behavior). To access a value by position, use `ser.iloc[pos]`\n",
      "  ret[feature] = int(self.lambdas[feature](ret[feature]))\n",
      "/Users/ygao/Library/Caches/pypoetry/virtualenvs/program-i-Fez0zm-py3.10/lib/python3.10/site-packages/lime/discretize.py:110: FutureWarning: Series.__setitem__ treating keys as positions is deprecated. In a future version, integer keys will always be treated as labels (consistent with DataFrame behavior). To set a value by position, use `ser.iloc[pos] = value`\n",
      "  ret[feature] = int(self.lambdas[feature](ret[feature]))\n",
      "/Users/ygao/Library/Caches/pypoetry/virtualenvs/program-i-Fez0zm-py3.10/lib/python3.10/site-packages/lime/lime_tabular.py:427: FutureWarning: Series.__getitem__ treating keys as positions is deprecated. In a future version, integer keys will always be treated as labels (consistent with DataFrame behavior). To access a value by position, use `ser.iloc[pos]`\n",
      "  discretized_instance[f])]\n",
      "/Users/ygao/Library/Caches/pypoetry/virtualenvs/program-i-Fez0zm-py3.10/lib/python3.10/site-packages/lime/discretize.py:110: FutureWarning: Series.__getitem__ treating keys as positions is deprecated. In a future version, integer keys will always be treated as labels (consistent with DataFrame behavior). To access a value by position, use `ser.iloc[pos]`\n",
      "  ret[feature] = int(self.lambdas[feature](ret[feature]))\n",
      "/Users/ygao/Library/Caches/pypoetry/virtualenvs/program-i-Fez0zm-py3.10/lib/python3.10/site-packages/lime/discretize.py:110: FutureWarning: Series.__setitem__ treating keys as positions is deprecated. In a future version, integer keys will always be treated as labels (consistent with DataFrame behavior). To set a value by position, use `ser.iloc[pos] = value`\n",
      "  ret[feature] = int(self.lambdas[feature](ret[feature]))\n",
      "/Users/ygao/Library/Caches/pypoetry/virtualenvs/program-i-Fez0zm-py3.10/lib/python3.10/site-packages/lime/lime_tabular.py:544: FutureWarning: Series.__getitem__ treating keys as positions is deprecated. In a future version, integer keys will always be treated as labels (consistent with DataFrame behavior). To access a value by position, use `ser.iloc[pos]`\n",
      "  binary_column = (inverse_column == first_row[column]).astype(int)\n"
     ]
    },
    {
     "name": "stdout",
     "output_type": "stream",
     "text": [
      "157/157 [==============================] - 0s 1ms/step\n",
      " 42/157 [=======>......................] - ETA: 0s"
     ]
    },
    {
     "name": "stderr",
     "output_type": "stream",
     "text": [
      "/Users/ygao/Library/Caches/pypoetry/virtualenvs/program-i-Fez0zm-py3.10/lib/python3.10/site-packages/lime/discretize.py:110: FutureWarning: Series.__getitem__ treating keys as positions is deprecated. In a future version, integer keys will always be treated as labels (consistent with DataFrame behavior). To access a value by position, use `ser.iloc[pos]`\n",
      "  ret[feature] = int(self.lambdas[feature](ret[feature]))\n",
      "/Users/ygao/Library/Caches/pypoetry/virtualenvs/program-i-Fez0zm-py3.10/lib/python3.10/site-packages/lime/discretize.py:110: FutureWarning: Series.__setitem__ treating keys as positions is deprecated. In a future version, integer keys will always be treated as labels (consistent with DataFrame behavior). To set a value by position, use `ser.iloc[pos] = value`\n",
      "  ret[feature] = int(self.lambdas[feature](ret[feature]))\n",
      "/Users/ygao/Library/Caches/pypoetry/virtualenvs/program-i-Fez0zm-py3.10/lib/python3.10/site-packages/lime/lime_tabular.py:427: FutureWarning: Series.__getitem__ treating keys as positions is deprecated. In a future version, integer keys will always be treated as labels (consistent with DataFrame behavior). To access a value by position, use `ser.iloc[pos]`\n",
      "  discretized_instance[f])]\n",
      "/Users/ygao/Library/Caches/pypoetry/virtualenvs/program-i-Fez0zm-py3.10/lib/python3.10/site-packages/lime/discretize.py:110: FutureWarning: Series.__getitem__ treating keys as positions is deprecated. In a future version, integer keys will always be treated as labels (consistent with DataFrame behavior). To access a value by position, use `ser.iloc[pos]`\n",
      "  ret[feature] = int(self.lambdas[feature](ret[feature]))\n",
      "/Users/ygao/Library/Caches/pypoetry/virtualenvs/program-i-Fez0zm-py3.10/lib/python3.10/site-packages/lime/discretize.py:110: FutureWarning: Series.__setitem__ treating keys as positions is deprecated. In a future version, integer keys will always be treated as labels (consistent with DataFrame behavior). To set a value by position, use `ser.iloc[pos] = value`\n",
      "  ret[feature] = int(self.lambdas[feature](ret[feature]))\n",
      "/Users/ygao/Library/Caches/pypoetry/virtualenvs/program-i-Fez0zm-py3.10/lib/python3.10/site-packages/lime/lime_tabular.py:544: FutureWarning: Series.__getitem__ treating keys as positions is deprecated. In a future version, integer keys will always be treated as labels (consistent with DataFrame behavior). To access a value by position, use `ser.iloc[pos]`\n",
      "  binary_column = (inverse_column == first_row[column]).astype(int)\n"
     ]
    },
    {
     "name": "stdout",
     "output_type": "stream",
     "text": [
      "157/157 [==============================] - 0s 1ms/step\n",
      " 31/157 [====>.........................] - ETA: 0s "
     ]
    },
    {
     "name": "stderr",
     "output_type": "stream",
     "text": [
      "/Users/ygao/Library/Caches/pypoetry/virtualenvs/program-i-Fez0zm-py3.10/lib/python3.10/site-packages/lime/discretize.py:110: FutureWarning: Series.__getitem__ treating keys as positions is deprecated. In a future version, integer keys will always be treated as labels (consistent with DataFrame behavior). To access a value by position, use `ser.iloc[pos]`\n",
      "  ret[feature] = int(self.lambdas[feature](ret[feature]))\n",
      "/Users/ygao/Library/Caches/pypoetry/virtualenvs/program-i-Fez0zm-py3.10/lib/python3.10/site-packages/lime/discretize.py:110: FutureWarning: Series.__setitem__ treating keys as positions is deprecated. In a future version, integer keys will always be treated as labels (consistent with DataFrame behavior). To set a value by position, use `ser.iloc[pos] = value`\n",
      "  ret[feature] = int(self.lambdas[feature](ret[feature]))\n",
      "/Users/ygao/Library/Caches/pypoetry/virtualenvs/program-i-Fez0zm-py3.10/lib/python3.10/site-packages/lime/lime_tabular.py:427: FutureWarning: Series.__getitem__ treating keys as positions is deprecated. In a future version, integer keys will always be treated as labels (consistent with DataFrame behavior). To access a value by position, use `ser.iloc[pos]`\n",
      "  discretized_instance[f])]\n",
      "/Users/ygao/Library/Caches/pypoetry/virtualenvs/program-i-Fez0zm-py3.10/lib/python3.10/site-packages/lime/discretize.py:110: FutureWarning: Series.__getitem__ treating keys as positions is deprecated. In a future version, integer keys will always be treated as labels (consistent with DataFrame behavior). To access a value by position, use `ser.iloc[pos]`\n",
      "  ret[feature] = int(self.lambdas[feature](ret[feature]))\n",
      "/Users/ygao/Library/Caches/pypoetry/virtualenvs/program-i-Fez0zm-py3.10/lib/python3.10/site-packages/lime/discretize.py:110: FutureWarning: Series.__setitem__ treating keys as positions is deprecated. In a future version, integer keys will always be treated as labels (consistent with DataFrame behavior). To set a value by position, use `ser.iloc[pos] = value`\n",
      "  ret[feature] = int(self.lambdas[feature](ret[feature]))\n",
      "/Users/ygao/Library/Caches/pypoetry/virtualenvs/program-i-Fez0zm-py3.10/lib/python3.10/site-packages/lime/lime_tabular.py:544: FutureWarning: Series.__getitem__ treating keys as positions is deprecated. In a future version, integer keys will always be treated as labels (consistent with DataFrame behavior). To access a value by position, use `ser.iloc[pos]`\n",
      "  binary_column = (inverse_column == first_row[column]).astype(int)\n"
     ]
    },
    {
     "name": "stdout",
     "output_type": "stream",
     "text": [
      "157/157 [==============================] - 0s 1ms/step\n",
      " 24/157 [===>..........................] - ETA: 0s"
     ]
    },
    {
     "name": "stderr",
     "output_type": "stream",
     "text": [
      "/Users/ygao/Library/Caches/pypoetry/virtualenvs/program-i-Fez0zm-py3.10/lib/python3.10/site-packages/lime/discretize.py:110: FutureWarning: Series.__getitem__ treating keys as positions is deprecated. In a future version, integer keys will always be treated as labels (consistent with DataFrame behavior). To access a value by position, use `ser.iloc[pos]`\n",
      "  ret[feature] = int(self.lambdas[feature](ret[feature]))\n",
      "/Users/ygao/Library/Caches/pypoetry/virtualenvs/program-i-Fez0zm-py3.10/lib/python3.10/site-packages/lime/discretize.py:110: FutureWarning: Series.__setitem__ treating keys as positions is deprecated. In a future version, integer keys will always be treated as labels (consistent with DataFrame behavior). To set a value by position, use `ser.iloc[pos] = value`\n",
      "  ret[feature] = int(self.lambdas[feature](ret[feature]))\n",
      "/Users/ygao/Library/Caches/pypoetry/virtualenvs/program-i-Fez0zm-py3.10/lib/python3.10/site-packages/lime/lime_tabular.py:427: FutureWarning: Series.__getitem__ treating keys as positions is deprecated. In a future version, integer keys will always be treated as labels (consistent with DataFrame behavior). To access a value by position, use `ser.iloc[pos]`\n",
      "  discretized_instance[f])]\n",
      "/Users/ygao/Library/Caches/pypoetry/virtualenvs/program-i-Fez0zm-py3.10/lib/python3.10/site-packages/lime/discretize.py:110: FutureWarning: Series.__getitem__ treating keys as positions is deprecated. In a future version, integer keys will always be treated as labels (consistent with DataFrame behavior). To access a value by position, use `ser.iloc[pos]`\n",
      "  ret[feature] = int(self.lambdas[feature](ret[feature]))\n",
      "/Users/ygao/Library/Caches/pypoetry/virtualenvs/program-i-Fez0zm-py3.10/lib/python3.10/site-packages/lime/discretize.py:110: FutureWarning: Series.__setitem__ treating keys as positions is deprecated. In a future version, integer keys will always be treated as labels (consistent with DataFrame behavior). To set a value by position, use `ser.iloc[pos] = value`\n",
      "  ret[feature] = int(self.lambdas[feature](ret[feature]))\n",
      "/Users/ygao/Library/Caches/pypoetry/virtualenvs/program-i-Fez0zm-py3.10/lib/python3.10/site-packages/lime/lime_tabular.py:544: FutureWarning: Series.__getitem__ treating keys as positions is deprecated. In a future version, integer keys will always be treated as labels (consistent with DataFrame behavior). To access a value by position, use `ser.iloc[pos]`\n",
      "  binary_column = (inverse_column == first_row[column]).astype(int)\n"
     ]
    },
    {
     "name": "stdout",
     "output_type": "stream",
     "text": [
      "157/157 [==============================] - 0s 1ms/step\n",
      " 40/157 [======>.......................] - ETA: 0s"
     ]
    },
    {
     "name": "stderr",
     "output_type": "stream",
     "text": [
      "/Users/ygao/Library/Caches/pypoetry/virtualenvs/program-i-Fez0zm-py3.10/lib/python3.10/site-packages/lime/discretize.py:110: FutureWarning: Series.__getitem__ treating keys as positions is deprecated. In a future version, integer keys will always be treated as labels (consistent with DataFrame behavior). To access a value by position, use `ser.iloc[pos]`\n",
      "  ret[feature] = int(self.lambdas[feature](ret[feature]))\n",
      "/Users/ygao/Library/Caches/pypoetry/virtualenvs/program-i-Fez0zm-py3.10/lib/python3.10/site-packages/lime/discretize.py:110: FutureWarning: Series.__setitem__ treating keys as positions is deprecated. In a future version, integer keys will always be treated as labels (consistent with DataFrame behavior). To set a value by position, use `ser.iloc[pos] = value`\n",
      "  ret[feature] = int(self.lambdas[feature](ret[feature]))\n",
      "/Users/ygao/Library/Caches/pypoetry/virtualenvs/program-i-Fez0zm-py3.10/lib/python3.10/site-packages/lime/lime_tabular.py:427: FutureWarning: Series.__getitem__ treating keys as positions is deprecated. In a future version, integer keys will always be treated as labels (consistent with DataFrame behavior). To access a value by position, use `ser.iloc[pos]`\n",
      "  discretized_instance[f])]\n",
      "/Users/ygao/Library/Caches/pypoetry/virtualenvs/program-i-Fez0zm-py3.10/lib/python3.10/site-packages/lime/discretize.py:110: FutureWarning: Series.__getitem__ treating keys as positions is deprecated. In a future version, integer keys will always be treated as labels (consistent with DataFrame behavior). To access a value by position, use `ser.iloc[pos]`\n",
      "  ret[feature] = int(self.lambdas[feature](ret[feature]))\n",
      "/Users/ygao/Library/Caches/pypoetry/virtualenvs/program-i-Fez0zm-py3.10/lib/python3.10/site-packages/lime/discretize.py:110: FutureWarning: Series.__setitem__ treating keys as positions is deprecated. In a future version, integer keys will always be treated as labels (consistent with DataFrame behavior). To set a value by position, use `ser.iloc[pos] = value`\n",
      "  ret[feature] = int(self.lambdas[feature](ret[feature]))\n",
      "/Users/ygao/Library/Caches/pypoetry/virtualenvs/program-i-Fez0zm-py3.10/lib/python3.10/site-packages/lime/lime_tabular.py:544: FutureWarning: Series.__getitem__ treating keys as positions is deprecated. In a future version, integer keys will always be treated as labels (consistent with DataFrame behavior). To access a value by position, use `ser.iloc[pos]`\n",
      "  binary_column = (inverse_column == first_row[column]).astype(int)\n"
     ]
    },
    {
     "name": "stdout",
     "output_type": "stream",
     "text": [
      "157/157 [==============================] - 0s 1ms/step\n",
      "  1/157 [..............................] - ETA: 14s"
     ]
    },
    {
     "name": "stderr",
     "output_type": "stream",
     "text": [
      "/Users/ygao/Library/Caches/pypoetry/virtualenvs/program-i-Fez0zm-py3.10/lib/python3.10/site-packages/lime/discretize.py:110: FutureWarning: Series.__getitem__ treating keys as positions is deprecated. In a future version, integer keys will always be treated as labels (consistent with DataFrame behavior). To access a value by position, use `ser.iloc[pos]`\n",
      "  ret[feature] = int(self.lambdas[feature](ret[feature]))\n",
      "/Users/ygao/Library/Caches/pypoetry/virtualenvs/program-i-Fez0zm-py3.10/lib/python3.10/site-packages/lime/discretize.py:110: FutureWarning: Series.__setitem__ treating keys as positions is deprecated. In a future version, integer keys will always be treated as labels (consistent with DataFrame behavior). To set a value by position, use `ser.iloc[pos] = value`\n",
      "  ret[feature] = int(self.lambdas[feature](ret[feature]))\n",
      "/Users/ygao/Library/Caches/pypoetry/virtualenvs/program-i-Fez0zm-py3.10/lib/python3.10/site-packages/lime/lime_tabular.py:427: FutureWarning: Series.__getitem__ treating keys as positions is deprecated. In a future version, integer keys will always be treated as labels (consistent with DataFrame behavior). To access a value by position, use `ser.iloc[pos]`\n",
      "  discretized_instance[f])]\n",
      "/Users/ygao/Library/Caches/pypoetry/virtualenvs/program-i-Fez0zm-py3.10/lib/python3.10/site-packages/lime/discretize.py:110: FutureWarning: Series.__getitem__ treating keys as positions is deprecated. In a future version, integer keys will always be treated as labels (consistent with DataFrame behavior). To access a value by position, use `ser.iloc[pos]`\n",
      "  ret[feature] = int(self.lambdas[feature](ret[feature]))\n",
      "/Users/ygao/Library/Caches/pypoetry/virtualenvs/program-i-Fez0zm-py3.10/lib/python3.10/site-packages/lime/discretize.py:110: FutureWarning: Series.__setitem__ treating keys as positions is deprecated. In a future version, integer keys will always be treated as labels (consistent with DataFrame behavior). To set a value by position, use `ser.iloc[pos] = value`\n",
      "  ret[feature] = int(self.lambdas[feature](ret[feature]))\n",
      "/Users/ygao/Library/Caches/pypoetry/virtualenvs/program-i-Fez0zm-py3.10/lib/python3.10/site-packages/lime/lime_tabular.py:544: FutureWarning: Series.__getitem__ treating keys as positions is deprecated. In a future version, integer keys will always be treated as labels (consistent with DataFrame behavior). To access a value by position, use `ser.iloc[pos]`\n",
      "  binary_column = (inverse_column == first_row[column]).astype(int)\n"
     ]
    },
    {
     "name": "stdout",
     "output_type": "stream",
     "text": [
      "157/157 [==============================] - 0s 1ms/step\n",
      "  1/157 [..............................] - ETA: 10s"
     ]
    },
    {
     "name": "stderr",
     "output_type": "stream",
     "text": [
      "/Users/ygao/Library/Caches/pypoetry/virtualenvs/program-i-Fez0zm-py3.10/lib/python3.10/site-packages/lime/discretize.py:110: FutureWarning: Series.__getitem__ treating keys as positions is deprecated. In a future version, integer keys will always be treated as labels (consistent with DataFrame behavior). To access a value by position, use `ser.iloc[pos]`\n",
      "  ret[feature] = int(self.lambdas[feature](ret[feature]))\n",
      "/Users/ygao/Library/Caches/pypoetry/virtualenvs/program-i-Fez0zm-py3.10/lib/python3.10/site-packages/lime/discretize.py:110: FutureWarning: Series.__setitem__ treating keys as positions is deprecated. In a future version, integer keys will always be treated as labels (consistent with DataFrame behavior). To set a value by position, use `ser.iloc[pos] = value`\n",
      "  ret[feature] = int(self.lambdas[feature](ret[feature]))\n",
      "/Users/ygao/Library/Caches/pypoetry/virtualenvs/program-i-Fez0zm-py3.10/lib/python3.10/site-packages/lime/lime_tabular.py:427: FutureWarning: Series.__getitem__ treating keys as positions is deprecated. In a future version, integer keys will always be treated as labels (consistent with DataFrame behavior). To access a value by position, use `ser.iloc[pos]`\n",
      "  discretized_instance[f])]\n",
      "/Users/ygao/Library/Caches/pypoetry/virtualenvs/program-i-Fez0zm-py3.10/lib/python3.10/site-packages/lime/discretize.py:110: FutureWarning: Series.__getitem__ treating keys as positions is deprecated. In a future version, integer keys will always be treated as labels (consistent with DataFrame behavior). To access a value by position, use `ser.iloc[pos]`\n",
      "  ret[feature] = int(self.lambdas[feature](ret[feature]))\n",
      "/Users/ygao/Library/Caches/pypoetry/virtualenvs/program-i-Fez0zm-py3.10/lib/python3.10/site-packages/lime/discretize.py:110: FutureWarning: Series.__setitem__ treating keys as positions is deprecated. In a future version, integer keys will always be treated as labels (consistent with DataFrame behavior). To set a value by position, use `ser.iloc[pos] = value`\n",
      "  ret[feature] = int(self.lambdas[feature](ret[feature]))\n",
      "/Users/ygao/Library/Caches/pypoetry/virtualenvs/program-i-Fez0zm-py3.10/lib/python3.10/site-packages/lime/lime_tabular.py:544: FutureWarning: Series.__getitem__ treating keys as positions is deprecated. In a future version, integer keys will always be treated as labels (consistent with DataFrame behavior). To access a value by position, use `ser.iloc[pos]`\n",
      "  binary_column = (inverse_column == first_row[column]).astype(int)\n"
     ]
    },
    {
     "name": "stdout",
     "output_type": "stream",
     "text": [
      "157/157 [==============================] - 0s 1ms/step\n",
      " 29/157 [====>.........................] - ETA: 0s"
     ]
    },
    {
     "name": "stderr",
     "output_type": "stream",
     "text": [
      "/Users/ygao/Library/Caches/pypoetry/virtualenvs/program-i-Fez0zm-py3.10/lib/python3.10/site-packages/lime/discretize.py:110: FutureWarning: Series.__getitem__ treating keys as positions is deprecated. In a future version, integer keys will always be treated as labels (consistent with DataFrame behavior). To access a value by position, use `ser.iloc[pos]`\n",
      "  ret[feature] = int(self.lambdas[feature](ret[feature]))\n",
      "/Users/ygao/Library/Caches/pypoetry/virtualenvs/program-i-Fez0zm-py3.10/lib/python3.10/site-packages/lime/discretize.py:110: FutureWarning: Series.__setitem__ treating keys as positions is deprecated. In a future version, integer keys will always be treated as labels (consistent with DataFrame behavior). To set a value by position, use `ser.iloc[pos] = value`\n",
      "  ret[feature] = int(self.lambdas[feature](ret[feature]))\n",
      "/Users/ygao/Library/Caches/pypoetry/virtualenvs/program-i-Fez0zm-py3.10/lib/python3.10/site-packages/lime/lime_tabular.py:427: FutureWarning: Series.__getitem__ treating keys as positions is deprecated. In a future version, integer keys will always be treated as labels (consistent with DataFrame behavior). To access a value by position, use `ser.iloc[pos]`\n",
      "  discretized_instance[f])]\n",
      "/Users/ygao/Library/Caches/pypoetry/virtualenvs/program-i-Fez0zm-py3.10/lib/python3.10/site-packages/lime/discretize.py:110: FutureWarning: Series.__getitem__ treating keys as positions is deprecated. In a future version, integer keys will always be treated as labels (consistent with DataFrame behavior). To access a value by position, use `ser.iloc[pos]`\n",
      "  ret[feature] = int(self.lambdas[feature](ret[feature]))\n",
      "/Users/ygao/Library/Caches/pypoetry/virtualenvs/program-i-Fez0zm-py3.10/lib/python3.10/site-packages/lime/discretize.py:110: FutureWarning: Series.__setitem__ treating keys as positions is deprecated. In a future version, integer keys will always be treated as labels (consistent with DataFrame behavior). To set a value by position, use `ser.iloc[pos] = value`\n",
      "  ret[feature] = int(self.lambdas[feature](ret[feature]))\n",
      "/Users/ygao/Library/Caches/pypoetry/virtualenvs/program-i-Fez0zm-py3.10/lib/python3.10/site-packages/lime/lime_tabular.py:544: FutureWarning: Series.__getitem__ treating keys as positions is deprecated. In a future version, integer keys will always be treated as labels (consistent with DataFrame behavior). To access a value by position, use `ser.iloc[pos]`\n",
      "  binary_column = (inverse_column == first_row[column]).astype(int)\n"
     ]
    },
    {
     "name": "stdout",
     "output_type": "stream",
     "text": [
      "157/157 [==============================] - 0s 1ms/step\n",
      "  1/157 [..............................] - ETA: 8s"
     ]
    },
    {
     "name": "stderr",
     "output_type": "stream",
     "text": [
      "/Users/ygao/Library/Caches/pypoetry/virtualenvs/program-i-Fez0zm-py3.10/lib/python3.10/site-packages/lime/discretize.py:110: FutureWarning: Series.__getitem__ treating keys as positions is deprecated. In a future version, integer keys will always be treated as labels (consistent with DataFrame behavior). To access a value by position, use `ser.iloc[pos]`\n",
      "  ret[feature] = int(self.lambdas[feature](ret[feature]))\n",
      "/Users/ygao/Library/Caches/pypoetry/virtualenvs/program-i-Fez0zm-py3.10/lib/python3.10/site-packages/lime/discretize.py:110: FutureWarning: Series.__setitem__ treating keys as positions is deprecated. In a future version, integer keys will always be treated as labels (consistent with DataFrame behavior). To set a value by position, use `ser.iloc[pos] = value`\n",
      "  ret[feature] = int(self.lambdas[feature](ret[feature]))\n",
      "/Users/ygao/Library/Caches/pypoetry/virtualenvs/program-i-Fez0zm-py3.10/lib/python3.10/site-packages/lime/lime_tabular.py:427: FutureWarning: Series.__getitem__ treating keys as positions is deprecated. In a future version, integer keys will always be treated as labels (consistent with DataFrame behavior). To access a value by position, use `ser.iloc[pos]`\n",
      "  discretized_instance[f])]\n",
      "/Users/ygao/Library/Caches/pypoetry/virtualenvs/program-i-Fez0zm-py3.10/lib/python3.10/site-packages/lime/discretize.py:110: FutureWarning: Series.__getitem__ treating keys as positions is deprecated. In a future version, integer keys will always be treated as labels (consistent with DataFrame behavior). To access a value by position, use `ser.iloc[pos]`\n",
      "  ret[feature] = int(self.lambdas[feature](ret[feature]))\n",
      "/Users/ygao/Library/Caches/pypoetry/virtualenvs/program-i-Fez0zm-py3.10/lib/python3.10/site-packages/lime/discretize.py:110: FutureWarning: Series.__setitem__ treating keys as positions is deprecated. In a future version, integer keys will always be treated as labels (consistent with DataFrame behavior). To set a value by position, use `ser.iloc[pos] = value`\n",
      "  ret[feature] = int(self.lambdas[feature](ret[feature]))\n",
      "/Users/ygao/Library/Caches/pypoetry/virtualenvs/program-i-Fez0zm-py3.10/lib/python3.10/site-packages/lime/lime_tabular.py:544: FutureWarning: Series.__getitem__ treating keys as positions is deprecated. In a future version, integer keys will always be treated as labels (consistent with DataFrame behavior). To access a value by position, use `ser.iloc[pos]`\n",
      "  binary_column = (inverse_column == first_row[column]).astype(int)\n"
     ]
    },
    {
     "name": "stdout",
     "output_type": "stream",
     "text": [
      "157/157 [==============================] - 0s 1ms/step\n"
     ]
    },
    {
     "name": "stderr",
     "output_type": "stream",
     "text": [
      "/Users/ygao/Library/Caches/pypoetry/virtualenvs/program-i-Fez0zm-py3.10/lib/python3.10/site-packages/lime/discretize.py:110: FutureWarning: Series.__getitem__ treating keys as positions is deprecated. In a future version, integer keys will always be treated as labels (consistent with DataFrame behavior). To access a value by position, use `ser.iloc[pos]`\n",
      "  ret[feature] = int(self.lambdas[feature](ret[feature]))\n",
      "/Users/ygao/Library/Caches/pypoetry/virtualenvs/program-i-Fez0zm-py3.10/lib/python3.10/site-packages/lime/discretize.py:110: FutureWarning: Series.__setitem__ treating keys as positions is deprecated. In a future version, integer keys will always be treated as labels (consistent with DataFrame behavior). To set a value by position, use `ser.iloc[pos] = value`\n",
      "  ret[feature] = int(self.lambdas[feature](ret[feature]))\n",
      "/Users/ygao/Library/Caches/pypoetry/virtualenvs/program-i-Fez0zm-py3.10/lib/python3.10/site-packages/lime/lime_tabular.py:427: FutureWarning: Series.__getitem__ treating keys as positions is deprecated. In a future version, integer keys will always be treated as labels (consistent with DataFrame behavior). To access a value by position, use `ser.iloc[pos]`\n",
      "  discretized_instance[f])]\n"
     ]
    }
   ],
   "source": [
    "gbt_explanation=gbt_model.explain_lime(X_test.loc[[10]])"
   ],
   "metadata": {
    "collapsed": false,
    "ExecuteTime": {
     "end_time": "2024-05-30T15:45:41.792790Z",
     "start_time": "2024-05-30T15:45:13.418228Z"
    }
   },
   "id": "e826b8487fc5276e"
  },
  {
   "cell_type": "code",
   "execution_count": 371,
   "outputs": [
    {
     "name": "stdout",
     "output_type": "stream",
     "text": [
      "Explanation 1:\n",
      "As List of Tuples (feature_id, weight):\n",
      "Feature Distance_to_LA <= 32276.58: 38206.070944785184\n",
      "Feature Tot_Bedrooms > 648.00: 17938.916571757378\n",
      "Feature 9090.97 < Distance_to_coast <= 20514.18: 15929.48485020582\n",
      "Feature Tot_Rooms > 3157.00: 15609.68659648016\n",
      "Feature 1170.00 < Population <= 1734.00: -10011.0610359285\n",
      "Feature 33.93 < Latitude <= 34.26: 8932.826044516432\n",
      "Feature 29.00 < Median_Age <= 37.00: 7136.599361866089\n",
      "Feature 3.53 < Median_Income <= 4.73: -5408.976643505399\n",
      "Feature 458975.82 < Distance_to_SanJose <= 516638.86: -2935.4796385583873\n",
      "Feature -118.50 < Longitude <= -118.01: -1295.396186489745\n",
      "Feature 525923.80 < Distance_to_SanFrancisco <= 584341.68: -667.28625060089\n",
      "Feature 159313.07 < Distance_to_SanDiego <= 215956.69: 275.814925609609\n",
      "Feature Households > 607.00: -8.052422640376497\n",
      "\n",
      "\n",
      "Explanation 2:\n",
      "As List of Tuples (feature_id, weight):\n",
      "Feature Distance_to_LA <= 32276.58: 20365.754999454257\n",
      "Feature 9090.97 < Distance_to_coast <= 20514.18: 15825.23090835309\n",
      "Feature 33.93 < Latitude <= 34.26: 13004.984982300104\n",
      "Feature Tot_Bedrooms > 648.00: 9797.970833521385\n",
      "Feature 3.53 < Median_Income <= 4.73: -8817.654998115166\n",
      "Feature 458975.82 < Distance_to_SanJose <= 516638.86: -4989.330966751485\n",
      "Feature Tot_Rooms > 3157.00: 3767.6068094449506\n",
      "Feature 29.00 < Median_Age <= 37.00: 3534.3914901161834\n",
      "Feature 525923.80 < Distance_to_SanFrancisco <= 584341.68: -2540.650957999279\n",
      "Feature 159313.07 < Distance_to_SanDiego <= 215956.69: -1485.0308493749496\n",
      "Feature Households > 607.00: -1481.3487980974028\n",
      "Feature 1170.00 < Population <= 1734.00: 1288.1029013503796\n",
      "Feature -118.50 < Longitude <= -118.01: -897.629315071245\n",
      "\n",
      "\n",
      "Explanation 3:\n",
      "As List of Tuples (feature_id, weight):\n",
      "Feature Distance_to_LA <= 32276.58: 19584.33312046886\n",
      "Feature 3.53 < Median_Income <= 4.73: -11599.356067656954\n",
      "Feature 33.93 < Latitude <= 34.26: 8841.821043013002\n",
      "Feature 9090.97 < Distance_to_coast <= 20514.18: 8508.148398374937\n",
      "Feature -118.50 < Longitude <= -118.01: 3253.642492427675\n",
      "Feature 159313.07 < Distance_to_SanDiego <= 215956.69: -3191.2776281059682\n",
      "Feature 29.00 < Median_Age <= 37.00: 2155.528834306286\n",
      "Feature Tot_Rooms > 3157.00: 2098.435699370093\n",
      "Feature Households > 607.00: -2016.070350924688\n",
      "Feature 458975.82 < Distance_to_SanJose <= 516638.86: -1966.8882775107256\n",
      "Feature 1170.00 < Population <= 1734.00: -1950.64209804972\n",
      "Feature Tot_Bedrooms > 648.00: 1564.8296148258771\n",
      "Feature 525923.80 < Distance_to_SanFrancisco <= 584341.68: -781.0377719978617\n",
      "\n",
      "\n",
      "Explanation 4:\n",
      "As List of Tuples (feature_id, weight):\n",
      "Feature Distance_to_LA <= 32276.58: 37382.501262699276\n",
      "Feature 9090.97 < Distance_to_coast <= 20514.18: 17835.315125081946\n",
      "Feature Tot_Rooms > 3157.00: 16907.17750655058\n",
      "Feature Tot_Bedrooms > 648.00: 14285.3925622201\n",
      "Feature 33.93 < Latitude <= 34.26: 10409.572630744757\n",
      "Feature Households > 607.00: 8135.016090967996\n",
      "Feature 3.53 < Median_Income <= 4.73: -7607.6599911604035\n",
      "Feature 458975.82 < Distance_to_SanJose <= 516638.86: -7313.356060723546\n",
      "Feature 1170.00 < Population <= 1734.00: -6276.2128951421\n",
      "Feature 525923.80 < Distance_to_SanFrancisco <= 584341.68: -3894.2875842685444\n",
      "Feature 29.00 < Median_Age <= 37.00: 2843.095805217922\n",
      "Feature 159313.07 < Distance_to_SanDiego <= 215956.69: 1506.644445464717\n",
      "Feature -118.50 < Longitude <= -118.01: -750.8575876583952\n",
      "\n",
      "\n",
      "Explanation 5:\n",
      "As List of Tuples (feature_id, weight):\n",
      "Feature Distance_to_LA <= 32276.58: 29184.349221977256\n",
      "Feature 9090.97 < Distance_to_coast <= 20514.18: 10294.343178681867\n",
      "Feature 33.93 < Latitude <= 34.26: 9813.257482817582\n",
      "Feature 3.53 < Median_Income <= 4.73: -8643.268875118029\n",
      "Feature 159313.07 < Distance_to_SanDiego <= 215956.69: -7606.7085932538575\n",
      "Feature Tot_Bedrooms > 648.00: 6976.95141283578\n",
      "Feature Households > 607.00: 5794.86749605133\n",
      "Feature 458975.82 < Distance_to_SanJose <= 516638.86: -4605.283965040211\n",
      "Feature 1170.00 < Population <= 1734.00: -4426.967237385073\n",
      "Feature Tot_Rooms > 3157.00: 2860.5817543303183\n",
      "Feature 525923.80 < Distance_to_SanFrancisco <= 584341.68: 1077.0370727651537\n",
      "Feature -118.50 < Longitude <= -118.01: -934.2694257047693\n",
      "Feature 29.00 < Median_Age <= 37.00: -402.6710259977749\n",
      "\n",
      "\n",
      "Explanation 6:\n",
      "As List of Tuples (feature_id, weight):\n",
      "Feature Distance_to_LA <= 32276.58: 21648.411329776056\n",
      "Feature 9090.97 < Distance_to_coast <= 20514.18: 13094.189401404778\n",
      "Feature 3.53 < Median_Income <= 4.73: -9262.38224697534\n",
      "Feature 33.93 < Latitude <= 34.26: 7119.568269134718\n",
      "Feature 29.00 < Median_Age <= 37.00: 5743.02089436032\n",
      "Feature 1170.00 < Population <= 1734.00: -5446.984735764987\n",
      "Feature 458975.82 < Distance_to_SanJose <= 516638.86: 5351.127881072851\n",
      "Feature Tot_Bedrooms > 648.00: 5298.664295119482\n",
      "Feature Tot_Rooms > 3157.00: 3513.155810793885\n",
      "Feature 525923.80 < Distance_to_SanFrancisco <= 584341.68: -2018.6648482837345\n",
      "Feature 159313.07 < Distance_to_SanDiego <= 215956.69: 1925.1825547601306\n",
      "Feature -118.50 < Longitude <= -118.01: 694.7351842404066\n",
      "Feature Households > 607.00: 88.07826343294826\n",
      "\n",
      "\n",
      "Explanation 7:\n",
      "As List of Tuples (feature_id, weight):\n",
      "Feature Distance_to_LA <= 32276.58: 33075.73450603208\n",
      "Feature 9090.97 < Distance_to_coast <= 20514.18: 15854.796840962566\n",
      "Feature 33.93 < Latitude <= 34.26: 13727.344701853564\n",
      "Feature Tot_Bedrooms > 648.00: 12609.215723122408\n",
      "Feature 3.53 < Median_Income <= 4.73: -9666.304475893656\n",
      "Feature Tot_Rooms > 3157.00: 7995.0724948512925\n",
      "Feature 458975.82 < Distance_to_SanJose <= 516638.86: -6749.292369734598\n",
      "Feature 29.00 < Median_Age <= 37.00: 5201.778662942491\n",
      "Feature 1170.00 < Population <= 1734.00: -4118.187056398432\n",
      "Feature 159313.07 < Distance_to_SanDiego <= 215956.69: -2742.2449469873704\n",
      "Feature -118.50 < Longitude <= -118.01: -1837.5368455239957\n",
      "Feature Households > 607.00: 1495.487919368191\n",
      "Feature 525923.80 < Distance_to_SanFrancisco <= 584341.68: -995.1656340948731\n",
      "\n",
      "\n",
      "Explanation 8:\n",
      "As List of Tuples (feature_id, weight):\n",
      "Feature Distance_to_LA <= 32276.58: 18481.578769543143\n",
      "Feature 9090.97 < Distance_to_coast <= 20514.18: 14096.354465384964\n",
      "Feature 3.53 < Median_Income <= 4.73: -12114.46537352799\n",
      "Feature 33.93 < Latitude <= 34.26: 8835.081433937947\n",
      "Feature Households > 607.00: -2170.468802029813\n",
      "Feature 29.00 < Median_Age <= 37.00: 2090.199791335427\n",
      "Feature 525923.80 < Distance_to_SanFrancisco <= 584341.68: -1814.4676473796926\n",
      "Feature Tot_Bedrooms > 648.00: 1782.727434954378\n",
      "Feature -118.50 < Longitude <= -118.01: 1730.5525073995852\n",
      "Feature Tot_Rooms > 3157.00: 1700.556254119332\n",
      "Feature 1170.00 < Population <= 1734.00: 1629.7471077772127\n",
      "Feature 458975.82 < Distance_to_SanJose <= 516638.86: 1425.7846878043072\n",
      "Feature 159313.07 < Distance_to_SanDiego <= 215956.69: 618.0044800111493\n",
      "\n",
      "\n",
      "Explanation 9:\n",
      "As List of Tuples (feature_id, weight):\n",
      "Feature Distance_to_LA <= 32276.58: 23653.301616444704\n",
      "Feature 9090.97 < Distance_to_coast <= 20514.18: 13336.731028190692\n",
      "Feature Tot_Bedrooms > 648.00: 13321.918527020182\n",
      "Feature 1170.00 < Population <= 1734.00: -12522.900506206859\n",
      "Feature 33.93 < Latitude <= 34.26: 11929.804649292146\n",
      "Feature Tot_Rooms > 3157.00: 11065.576820882612\n",
      "Feature 29.00 < Median_Age <= 37.00: 8372.952310796165\n",
      "Feature 3.53 < Median_Income <= 4.73: -6676.029298660566\n",
      "Feature 159313.07 < Distance_to_SanDiego <= 215956.69: -6399.476654260446\n",
      "Feature -118.50 < Longitude <= -118.01: -4231.147367674382\n",
      "Feature 525923.80 < Distance_to_SanFrancisco <= 584341.68: -3823.255630562171\n",
      "Feature 458975.82 < Distance_to_SanJose <= 516638.86: -2436.013639405459\n",
      "Feature Households > 607.00: 1645.8214781238705\n",
      "\n",
      "\n",
      "Explanation 10:\n",
      "As List of Tuples (feature_id, weight):\n",
      "Feature Distance_to_LA <= 32276.58: 37032.233834228704\n",
      "Feature Tot_Rooms > 3157.00: 16215.014054176992\n",
      "Feature 9090.97 < Distance_to_coast <= 20514.18: 14398.023435190109\n",
      "Feature Tot_Bedrooms > 648.00: 10822.0309669757\n",
      "Feature 33.93 < Latitude <= 34.26: 9295.679290268015\n",
      "Feature 3.53 < Median_Income <= 4.73: -5527.17649533476\n",
      "Feature 29.00 < Median_Age <= 37.00: 4942.200810620698\n",
      "Feature -118.50 < Longitude <= -118.01: -3456.000104398062\n",
      "Feature 1170.00 < Population <= 1734.00: -3275.519954371294\n",
      "Feature 458975.82 < Distance_to_SanJose <= 516638.86: -3202.0033179667935\n",
      "Feature 159313.07 < Distance_to_SanDiego <= 215956.69: 3064.1322602106206\n",
      "Feature Households > 607.00: 2691.4196752806097\n",
      "Feature 525923.80 < Distance_to_SanFrancisco <= 584341.68: 1767.1845792593376\n",
      "\n",
      "\n",
      "Explanation 11:\n",
      "As List of Tuples (feature_id, weight):\n",
      "Feature Distance_to_LA <= 32276.58: 19886.465286868923\n",
      "Feature 9090.97 < Distance_to_coast <= 20514.18: 12024.47523563141\n",
      "Feature 3.53 < Median_Income <= 4.73: -10099.995064615232\n",
      "Feature Tot_Bedrooms > 648.00: 7913.761033368518\n",
      "Feature -118.50 < Longitude <= -118.01: -5303.169812111845\n",
      "Feature 33.93 < Latitude <= 34.26: 3142.934984008977\n",
      "Feature 1170.00 < Population <= 1734.00: 2754.207829131273\n",
      "Feature Tot_Rooms > 3157.00: -2654.178003362805\n",
      "Feature 159313.07 < Distance_to_SanDiego <= 215956.69: 1324.136445990954\n",
      "Feature 458975.82 < Distance_to_SanJose <= 516638.86: -781.2232674715307\n",
      "Feature 29.00 < Median_Age <= 37.00: -657.5648991329658\n",
      "Feature 525923.80 < Distance_to_SanFrancisco <= 584341.68: -445.61914940096284\n",
      "Feature Households > 607.00: 213.58620156366695\n",
      "\n",
      "\n",
      "Explanation 12:\n",
      "As List of Tuples (feature_id, weight):\n",
      "Feature Distance_to_LA <= 32276.58: 42438.78619253924\n",
      "Feature 33.93 < Latitude <= 34.26: 13691.598261345829\n",
      "Feature 9090.97 < Distance_to_coast <= 20514.18: 13351.263474898655\n",
      "Feature -118.50 < Longitude <= -118.01: -12262.088081445314\n",
      "Feature 3.53 < Median_Income <= 4.73: -10471.669998522526\n",
      "Feature 1170.00 < Population <= 1734.00: -10131.225122482949\n",
      "Feature Tot_Bedrooms > 648.00: 6367.730322526534\n",
      "Feature Tot_Rooms > 3157.00: 6143.0804059033135\n",
      "Feature 458975.82 < Distance_to_SanJose <= 516638.86: -5159.320515325896\n",
      "Feature 29.00 < Median_Age <= 37.00: -2768.2932397978316\n",
      "Feature 159313.07 < Distance_to_SanDiego <= 215956.69: 1575.3140174140838\n",
      "Feature Households > 607.00: 463.3422090990971\n",
      "Feature 525923.80 < Distance_to_SanFrancisco <= 584341.68: 410.3084247133506\n",
      "\n",
      "\n",
      "Explanation 13:\n",
      "As List of Tuples (feature_id, weight):\n",
      "Feature Distance_to_LA <= 32276.58: 29448.221304293973\n",
      "Feature 33.93 < Latitude <= 34.26: 13561.77416394106\n",
      "Feature 9090.97 < Distance_to_coast <= 20514.18: 10815.36247247712\n",
      "Feature 3.53 < Median_Income <= 4.73: -8341.910086029895\n",
      "Feature 525923.80 < Distance_to_SanFrancisco <= 584341.68: -5632.244975536376\n",
      "Feature 29.00 < Median_Age <= 37.00: 3794.498417283617\n",
      "Feature Tot_Rooms > 3157.00: 3716.059489619708\n",
      "Feature Tot_Bedrooms > 648.00: 3608.901982486681\n",
      "Feature -118.50 < Longitude <= -118.01: 2769.2815556243427\n",
      "Feature Households > 607.00: 2469.4475095794437\n",
      "Feature 159313.07 < Distance_to_SanDiego <= 215956.69: -799.1729064975038\n",
      "Feature 458975.82 < Distance_to_SanJose <= 516638.86: 314.01720424287714\n",
      "Feature 1170.00 < Population <= 1734.00: 238.12861560951018\n",
      "\n",
      "\n",
      "Explanation 14:\n",
      "As List of Tuples (feature_id, weight):\n",
      "Feature 3.53 < Median_Income <= 4.73: -12753.738805146968\n",
      "Feature 9090.97 < Distance_to_coast <= 20514.18: 11151.993425049588\n",
      "Feature Distance_to_LA <= 32276.58: 10331.869222459707\n",
      "Feature 33.93 < Latitude <= 34.26: 6931.515210016224\n",
      "Feature Households > 607.00: -6148.702978991921\n",
      "Feature 29.00 < Median_Age <= 37.00: 6009.317913610234\n",
      "Feature 525923.80 < Distance_to_SanFrancisco <= 584341.68: -5527.723697672476\n",
      "Feature Tot_Bedrooms > 648.00: -4233.185737921227\n",
      "Feature 159313.07 < Distance_to_SanDiego <= 215956.69: -3799.711518557568\n",
      "Feature Tot_Rooms > 3157.00: -3402.5352414912936\n",
      "Feature -118.50 < Longitude <= -118.01: 3179.362569233085\n",
      "Feature 1170.00 < Population <= 1734.00: 365.825417067583\n",
      "Feature 458975.82 < Distance_to_SanJose <= 516638.86: -118.54050610622886\n",
      "\n",
      "\n",
      "Explanation 15:\n",
      "As List of Tuples (feature_id, weight):\n",
      "Feature Distance_to_LA <= 32276.58: 27425.47246421904\n",
      "Feature 33.93 < Latitude <= 34.26: 17258.517504976466\n",
      "Feature 9090.97 < Distance_to_coast <= 20514.18: 16212.605146722493\n",
      "Feature Tot_Rooms > 3157.00: 14841.08161039115\n",
      "Feature Tot_Bedrooms > 648.00: 14585.174160983728\n",
      "Feature 1170.00 < Population <= 1734.00: -11940.83295465834\n",
      "Feature 3.53 < Median_Income <= 4.73: -9234.091648902553\n",
      "Feature 458975.82 < Distance_to_SanJose <= 516638.86: -9148.457460159028\n",
      "Feature 525923.80 < Distance_to_SanFrancisco <= 584341.68: -3863.2515543638983\n",
      "Feature 29.00 < Median_Age <= 37.00: 3394.5817196955472\n",
      "Feature -118.50 < Longitude <= -118.01: -2845.1949080631593\n",
      "Feature 159313.07 < Distance_to_SanDiego <= 215956.69: -744.2920936470442\n",
      "Feature Households > 607.00: 539.678500030211\n",
      "\n",
      "\n",
      "Explanation 16:\n",
      "As List of Tuples (feature_id, weight):\n",
      "Feature Distance_to_LA <= 32276.58: 38783.017910168244\n",
      "Feature 9090.97 < Distance_to_coast <= 20514.18: 15705.167321466752\n",
      "Feature Tot_Bedrooms > 648.00: 14286.452010961668\n",
      "Feature Tot_Rooms > 3157.00: 10930.541124894244\n",
      "Feature 1170.00 < Population <= 1734.00: -9284.553929505732\n",
      "Feature 33.93 < Latitude <= 34.26: 8748.894195982875\n",
      "Feature 458975.82 < Distance_to_SanJose <= 516638.86: -4749.450701876783\n",
      "Feature Households > 607.00: 3821.0849511085007\n",
      "Feature 3.53 < Median_Income <= 4.73: -3665.9942814194965\n",
      "Feature 29.00 < Median_Age <= 37.00: 1531.542039296756\n",
      "Feature -118.50 < Longitude <= -118.01: -1396.3410845661458\n",
      "Feature 159313.07 < Distance_to_SanDiego <= 215956.69: -518.2208698619514\n",
      "Feature 525923.80 < Distance_to_SanFrancisco <= 584341.68: -290.315987179946\n",
      "\n",
      "\n",
      "Explanation 17:\n",
      "As List of Tuples (feature_id, weight):\n",
      "Feature Distance_to_LA <= 32276.58: 17737.322132215348\n",
      "Feature 9090.97 < Distance_to_coast <= 20514.18: 14278.578970845163\n",
      "Feature 33.93 < Latitude <= 34.26: 6866.862027045713\n",
      "Feature Tot_Bedrooms > 648.00: 5457.286985158588\n",
      "Feature Households > 607.00: -5023.864467571845\n",
      "Feature 3.53 < Median_Income <= 4.73: -4965.111609923318\n",
      "Feature 458975.82 < Distance_to_SanJose <= 516638.86: -4080.8469803415273\n",
      "Feature 525923.80 < Distance_to_SanFrancisco <= 584341.68: -3685.6845188278367\n",
      "Feature Tot_Rooms > 3157.00: 2563.1047811054177\n",
      "Feature 29.00 < Median_Age <= 37.00: 1649.040322342015\n",
      "Feature -118.50 < Longitude <= -118.01: -1481.3896045834135\n",
      "Feature 159313.07 < Distance_to_SanDiego <= 215956.69: -932.8268735198503\n",
      "Feature 1170.00 < Population <= 1734.00: 226.31474681737384\n",
      "\n",
      "\n",
      "Explanation 18:\n",
      "As List of Tuples (feature_id, weight):\n",
      "Feature Distance_to_LA <= 32276.58: 28966.41604998366\n",
      "Feature Tot_Rooms > 3157.00: 13895.21604667273\n",
      "Feature 9090.97 < Distance_to_coast <= 20514.18: 12026.959545493648\n",
      "Feature 3.53 < Median_Income <= 4.73: -10933.432097477458\n",
      "Feature 33.93 < Latitude <= 34.26: 10651.78607568115\n",
      "Feature Tot_Bedrooms > 648.00: 9552.090804467947\n",
      "Feature Households > 607.00: 9173.03505153857\n",
      "Feature 1170.00 < Population <= 1734.00: -4840.378920020485\n",
      "Feature -118.50 < Longitude <= -118.01: -4666.1303658719435\n",
      "Feature 458975.82 < Distance_to_SanJose <= 516638.86: -4604.342755993443\n",
      "Feature 29.00 < Median_Age <= 37.00: 3959.31506433109\n",
      "Feature 159313.07 < Distance_to_SanDiego <= 215956.69: -3737.8034363620764\n",
      "Feature 525923.80 < Distance_to_SanFrancisco <= 584341.68: -792.7047415875059\n",
      "\n",
      "\n",
      "Explanation 19:\n",
      "As List of Tuples (feature_id, weight):\n",
      "Feature Distance_to_LA <= 32276.58: 27028.746153005584\n",
      "Feature 9090.97 < Distance_to_coast <= 20514.18: 14349.357877869019\n",
      "Feature 3.53 < Median_Income <= 4.73: -10555.718046432146\n",
      "Feature 33.93 < Latitude <= 34.26: 8883.222371177853\n",
      "Feature 29.00 < Median_Age <= 37.00: 7015.586899168313\n",
      "Feature 1170.00 < Population <= 1734.00: -5663.893596762419\n",
      "Feature Tot_Bedrooms > 648.00: 4971.006373723125\n",
      "Feature Households > 607.00: 4914.827037216965\n",
      "Feature Tot_Rooms > 3157.00: 4224.037559706344\n",
      "Feature -118.50 < Longitude <= -118.01: -4082.766528136525\n",
      "Feature 458975.82 < Distance_to_SanJose <= 516638.86: -3067.5882023124577\n",
      "Feature 159313.07 < Distance_to_SanDiego <= 215956.69: 1932.257806571275\n",
      "Feature 525923.80 < Distance_to_SanFrancisco <= 584341.68: 1879.1909914902094\n",
      "\n",
      "\n",
      "Explanation 20:\n",
      "As List of Tuples (feature_id, weight):\n",
      "Feature Distance_to_LA <= 32276.58: 38941.652468811706\n",
      "Feature 9090.97 < Distance_to_coast <= 20514.18: 17312.48220785302\n",
      "Feature 1170.00 < Population <= 1734.00: -12719.012538470319\n",
      "Feature 33.93 < Latitude <= 34.26: 10510.022694204914\n",
      "Feature Tot_Rooms > 3157.00: 10381.377340763584\n",
      "Feature 458975.82 < Distance_to_SanJose <= 516638.86: -9616.256072367796\n",
      "Feature Tot_Bedrooms > 648.00: 7467.95020162728\n",
      "Feature 3.53 < Median_Income <= 4.73: -6178.502948309801\n",
      "Feature 29.00 < Median_Age <= 37.00: 4906.844826136748\n",
      "Feature Households > 607.00: 3867.6199122655485\n",
      "Feature 159313.07 < Distance_to_SanDiego <= 215956.69: -2862.7783214053998\n",
      "Feature 525923.80 < Distance_to_SanFrancisco <= 584341.68: 1622.6409665669817\n",
      "Feature -118.50 < Longitude <= -118.01: -432.2010578461381\n",
      "\n",
      "\n",
      "Explanation 21:\n",
      "As List of Tuples (feature_id, weight):\n",
      "Feature Distance_to_LA <= 32276.58: 35718.445651878574\n",
      "Feature Tot_Bedrooms > 648.00: 14263.153392018852\n",
      "Feature 9090.97 < Distance_to_coast <= 20514.18: 13788.69735401746\n",
      "Feature Tot_Rooms > 3157.00: 12956.418007859833\n",
      "Feature 33.93 < Latitude <= 34.26: 10537.452227998258\n",
      "Feature 29.00 < Median_Age <= 37.00: 9872.106674907047\n",
      "Feature 458975.82 < Distance_to_SanJose <= 516638.86: -8437.753775583218\n",
      "Feature -118.50 < Longitude <= -118.01: -7745.311038889658\n",
      "Feature 1170.00 < Population <= 1734.00: -6755.297102609929\n",
      "Feature 525923.80 < Distance_to_SanFrancisco <= 584341.68: -4730.385457612803\n",
      "Feature 3.53 < Median_Income <= 4.73: -2815.975719282515\n",
      "Feature 159313.07 < Distance_to_SanDiego <= 215956.69: 2623.862382750053\n",
      "Feature Households > 607.00: -1876.7246004094927\n",
      "\n",
      "\n",
      "Explanation 22:\n",
      "As List of Tuples (feature_id, weight):\n",
      "Feature Distance_to_LA <= 32276.58: 35497.54491577426\n",
      "Feature 9090.97 < Distance_to_coast <= 20514.18: 18870.12548811657\n",
      "Feature Tot_Bedrooms > 648.00: 13012.640048548072\n",
      "Feature 33.93 < Latitude <= 34.26: 12012.446232505547\n",
      "Feature 3.53 < Median_Income <= 4.73: -9225.437047851403\n",
      "Feature Tot_Rooms > 3157.00: 7940.702038470276\n",
      "Feature Households > 607.00: 7235.299696403041\n",
      "Feature 458975.82 < Distance_to_SanJose <= 516638.86: -5448.477022259074\n",
      "Feature 159313.07 < Distance_to_SanDiego <= 215956.69: 4144.403272788703\n",
      "Feature -118.50 < Longitude <= -118.01: -3060.8100591898356\n",
      "Feature 29.00 < Median_Age <= 37.00: 1922.8556806021188\n",
      "Feature 525923.80 < Distance_to_SanFrancisco <= 584341.68: 875.6451583415434\n",
      "Feature 1170.00 < Population <= 1734.00: 343.23532985104754\n",
      "\n",
      "\n",
      "Explanation 23:\n",
      "As List of Tuples (feature_id, weight):\n",
      "Feature Distance_to_LA <= 32276.58: 24120.990726264772\n",
      "Feature 9090.97 < Distance_to_coast <= 20514.18: 12183.048717705518\n",
      "Feature 458975.82 < Distance_to_SanJose <= 516638.86: -8581.711258621246\n",
      "Feature 33.93 < Latitude <= 34.26: 7821.7209889835885\n",
      "Feature 29.00 < Median_Age <= 37.00: 6585.1710149639375\n",
      "Feature 3.53 < Median_Income <= 4.73: -6010.101273822522\n",
      "Feature 159313.07 < Distance_to_SanDiego <= 215956.69: -5173.440104716908\n",
      "Feature Tot_Bedrooms > 648.00: 4890.436346923809\n",
      "Feature Households > 607.00: 4638.676588842452\n",
      "Feature -118.50 < Longitude <= -118.01: 4367.467995909009\n",
      "Feature 1170.00 < Population <= 1734.00: -4002.417171493702\n",
      "Feature Tot_Rooms > 3157.00: 2126.205292178599\n",
      "Feature 525923.80 < Distance_to_SanFrancisco <= 584341.68: 408.2889544554868\n",
      "\n",
      "\n",
      "Explanation 24:\n",
      "As List of Tuples (feature_id, weight):\n",
      "Feature Distance_to_LA <= 32276.58: 21260.65006844048\n",
      "Feature 9090.97 < Distance_to_coast <= 20514.18: 14266.693642599186\n",
      "Feature 3.53 < Median_Income <= 4.73: -9330.048607095163\n",
      "Feature 33.93 < Latitude <= 34.26: 6216.761392793896\n",
      "Feature 29.00 < Median_Age <= 37.00: 5960.1971113642285\n",
      "Feature 458975.82 < Distance_to_SanJose <= 516638.86: -3204.782809155044\n",
      "Feature -118.50 < Longitude <= -118.01: 2658.181913213924\n",
      "Feature 525923.80 < Distance_to_SanFrancisco <= 584341.68: -2361.2330731465254\n",
      "Feature Households > 607.00: -1244.8294484816568\n",
      "Feature 159313.07 < Distance_to_SanDiego <= 215956.69: -1082.9708102433985\n",
      "Feature Tot_Rooms > 3157.00: -286.8775770495174\n",
      "Feature 1170.00 < Population <= 1734.00: 177.98315568959106\n",
      "Feature Tot_Bedrooms > 648.00: -43.08894206196925\n",
      "\n",
      "\n",
      "Explanation 25:\n",
      "As List of Tuples (feature_id, weight):\n",
      "Feature 3.53 < Median_Income <= 4.73: -12721.753588521251\n",
      "Feature Distance_to_LA <= 32276.58: 12536.586034950198\n",
      "Feature 9090.97 < Distance_to_coast <= 20514.18: 9555.563094060393\n",
      "Feature Households > 607.00: 4410.536857662965\n",
      "Feature 1170.00 < Population <= 1734.00: -4349.808871026073\n",
      "Feature 29.00 < Median_Age <= 37.00: 4075.7055598302327\n",
      "Feature 458975.82 < Distance_to_SanJose <= 516638.86: 2514.272172396648\n",
      "Feature Tot_Bedrooms > 648.00: 1242.7770452872735\n",
      "Feature 33.93 < Latitude <= 34.26: 1048.2515141371298\n",
      "Feature -118.50 < Longitude <= -118.01: 839.2516333833278\n",
      "Feature 159313.07 < Distance_to_SanDiego <= 215956.69: -680.749555065003\n",
      "Feature Tot_Rooms > 3157.00: -388.5444357687531\n",
      "Feature 525923.80 < Distance_to_SanFrancisco <= 584341.68: -328.95898677884895\n",
      "\n",
      "\n",
      "Explanation 26:\n",
      "As List of Tuples (feature_id, weight):\n",
      "Feature Distance_to_LA <= 32276.58: 20527.159905058885\n",
      "Feature 9090.97 < Distance_to_coast <= 20514.18: 10780.491528157061\n",
      "Feature 525923.80 < Distance_to_SanFrancisco <= 584341.68: 5524.591419534313\n",
      "Feature 33.93 < Latitude <= 34.26: 5279.368691741995\n",
      "Feature 3.53 < Median_Income <= 4.73: -4155.856298717845\n",
      "Feature 458975.82 < Distance_to_SanJose <= 516638.86: -3654.578976080275\n",
      "Feature Tot_Bedrooms > 648.00: 3224.349210966578\n",
      "Feature Tot_Rooms > 3157.00: 1799.616617767651\n",
      "Feature 29.00 < Median_Age <= 37.00: 1738.9027010405478\n",
      "Feature 159313.07 < Distance_to_SanDiego <= 215956.69: -1476.1563884360573\n",
      "Feature -118.50 < Longitude <= -118.01: -1043.7632038699778\n",
      "Feature 1170.00 < Population <= 1734.00: 989.1597651844966\n",
      "Feature Households > 607.00: 402.67181546440435\n",
      "\n",
      "\n",
      "Explanation 27:\n",
      "As List of Tuples (feature_id, weight):\n",
      "Feature Distance_to_LA <= 32276.58: 17006.293789640345\n",
      "Feature 9090.97 < Distance_to_coast <= 20514.18: 8034.657396652715\n",
      "Feature 3.53 < Median_Income <= 4.73: -6193.110850314053\n",
      "Feature 33.93 < Latitude <= 34.26: 2589.577552537268\n",
      "Feature 458975.82 < Distance_to_SanJose <= 516638.86: -2584.9124769886603\n",
      "Feature Tot_Bedrooms > 648.00: 1876.0004915239608\n",
      "Feature 1170.00 < Population <= 1734.00: -1148.063002319105\n",
      "Feature Households > 607.00: 974.8862711447987\n",
      "Feature -118.50 < Longitude <= -118.01: 878.3159218822926\n",
      "Feature 29.00 < Median_Age <= 37.00: 608.2524345237553\n",
      "Feature 159313.07 < Distance_to_SanDiego <= 215956.69: -221.15624316757615\n",
      "Feature 525923.80 < Distance_to_SanFrancisco <= 584341.68: 194.98367366400078\n",
      "Feature Tot_Rooms > 3157.00: 173.1967385967778\n",
      "\n",
      "\n",
      "Explanation 28:\n",
      "As List of Tuples (feature_id, weight):\n",
      "Feature Distance_to_LA <= 32276.58: 24751.163135250168\n",
      "Feature 9090.97 < Distance_to_coast <= 20514.18: 10409.96678886535\n",
      "Feature 3.53 < Median_Income <= 4.73: -8338.700009095646\n",
      "Feature 33.93 < Latitude <= 34.26: 7469.236757597135\n",
      "Feature Tot_Bedrooms > 648.00: 5935.108221854552\n",
      "Feature 458975.82 < Distance_to_SanJose <= 516638.86: -5546.868234737621\n",
      "Feature Households > 607.00: 5529.578298527801\n",
      "Feature 29.00 < Median_Age <= 37.00: 4843.396576417112\n",
      "Feature 525923.80 < Distance_to_SanFrancisco <= 584341.68: 3490.8933368740386\n",
      "Feature 1170.00 < Population <= 1734.00: 3414.6685752864864\n",
      "Feature 159313.07 < Distance_to_SanDiego <= 215956.69: -1027.1609511135603\n",
      "Feature -118.50 < Longitude <= -118.01: 319.86802173303374\n",
      "Feature Tot_Rooms > 3157.00: 308.58886720847863\n",
      "\n",
      "\n",
      "Explanation 29:\n",
      "As List of Tuples (feature_id, weight):\n",
      "Feature Distance_to_LA <= 32276.58: 23602.542837548608\n",
      "Feature 33.93 < Latitude <= 34.26: 17414.16815360407\n",
      "Feature Tot_Bedrooms > 648.00: 13495.60054245527\n",
      "Feature 9090.97 < Distance_to_coast <= 20514.18: 13131.89463736569\n",
      "Feature 3.53 < Median_Income <= 4.73: -9832.955453901635\n",
      "Feature Tot_Rooms > 3157.00: 8752.26838778619\n",
      "Feature 159313.07 < Distance_to_SanDiego <= 215956.69: 5548.60619876802\n",
      "Feature 1170.00 < Population <= 1734.00: -5319.779631418436\n",
      "Feature 29.00 < Median_Age <= 37.00: 4744.36298235836\n",
      "Feature 458975.82 < Distance_to_SanJose <= 516638.86: -4741.1110982790415\n",
      "Feature Households > 607.00: 2206.4119834770618\n",
      "Feature -118.50 < Longitude <= -118.01: 1201.3973022110777\n",
      "Feature 525923.80 < Distance_to_SanFrancisco <= 584341.68: 505.98294871608306\n",
      "\n",
      "\n",
      "Explanation 30:\n",
      "As List of Tuples (feature_id, weight):\n",
      "Feature Distance_to_LA <= 32276.58: 24581.338933739324\n",
      "Feature 9090.97 < Distance_to_coast <= 20514.18: 18155.965098383094\n",
      "Feature 3.53 < Median_Income <= 4.73: -11384.762717404466\n",
      "Feature Tot_Bedrooms > 648.00: 6927.327152459842\n",
      "Feature 458975.82 < Distance_to_SanJose <= 516638.86: -6686.568927350935\n",
      "Feature -118.50 < Longitude <= -118.01: -5379.704186703177\n",
      "Feature 33.93 < Latitude <= 34.26: 4766.380083900325\n",
      "Feature 159313.07 < Distance_to_SanDiego <= 215956.69: -3891.390328812215\n",
      "Feature 29.00 < Median_Age <= 37.00: 3633.714521207749\n",
      "Feature 1170.00 < Population <= 1734.00: -3185.0156682938587\n",
      "Feature 525923.80 < Distance_to_SanFrancisco <= 584341.68: -2084.872190558149\n",
      "Feature Tot_Rooms > 3157.00: -1030.6382210452332\n",
      "Feature Households > 607.00: 229.58057853550508\n",
      "\n",
      "\n",
      "Explanation 31:\n",
      "As List of Tuples (feature_id, weight):\n",
      "Feature Distance_to_LA <= 32276.58: 27539.729121615008\n",
      "Feature 9090.97 < Distance_to_coast <= 20514.18: 12850.590183045306\n",
      "Feature 33.93 < Latitude <= 34.26: 11346.343544191694\n",
      "Feature Tot_Bedrooms > 648.00: 8363.572243176513\n",
      "Feature Tot_Rooms > 3157.00: 7295.914161843529\n",
      "Feature 458975.82 < Distance_to_SanJose <= 516638.86: -5083.5576285824545\n",
      "Feature 1170.00 < Population <= 1734.00: -4684.449352531397\n",
      "Feature 29.00 < Median_Age <= 37.00: 3480.1612244141693\n",
      "Feature -118.50 < Longitude <= -118.01: -2478.5798523510443\n",
      "Feature Households > 607.00: 2297.741558085004\n",
      "Feature 525923.80 < Distance_to_SanFrancisco <= 584341.68: -1577.5868643965166\n",
      "Feature 159313.07 < Distance_to_SanDiego <= 215956.69: 1460.1430917589644\n",
      "Feature 3.53 < Median_Income <= 4.73: 106.53026687675941\n",
      "\n",
      "\n",
      "Explanation 32:\n",
      "As List of Tuples (feature_id, weight):\n",
      "Feature Distance_to_LA <= 32276.58: 34628.643779895756\n",
      "Feature 9090.97 < Distance_to_coast <= 20514.18: 13625.391525547988\n",
      "Feature 3.53 < Median_Income <= 4.73: -13558.429289776635\n",
      "Feature Tot_Bedrooms > 648.00: 10575.768187162364\n",
      "Feature 33.93 < Latitude <= 34.26: 9217.986119595122\n",
      "Feature 29.00 < Median_Age <= 37.00: 5535.930767406912\n",
      "Feature -118.50 < Longitude <= -118.01: -5491.890978222627\n",
      "Feature 1170.00 < Population <= 1734.00: -5295.03166571391\n",
      "Feature Tot_Rooms > 3157.00: 4348.584862260162\n",
      "Feature 458975.82 < Distance_to_SanJose <= 516638.86: -3663.6921976652675\n",
      "Feature 159313.07 < Distance_to_SanDiego <= 215956.69: -2413.202826381539\n",
      "Feature 525923.80 < Distance_to_SanFrancisco <= 584341.68: -470.57253652108193\n",
      "Feature Households > 607.00: 164.0300433120956\n",
      "\n",
      "\n",
      "Explanation 33:\n",
      "As List of Tuples (feature_id, weight):\n",
      "Feature Distance_to_LA <= 32276.58: 34220.43213580758\n",
      "Feature Tot_Bedrooms > 648.00: 20302.582923430393\n",
      "Feature 9090.97 < Distance_to_coast <= 20514.18: 15671.728058002036\n",
      "Feature 33.93 < Latitude <= 34.26: 11657.895478834254\n",
      "Feature 1170.00 < Population <= 1734.00: -10158.844706709548\n",
      "Feature Tot_Rooms > 3157.00: 10000.638656333185\n",
      "Feature 458975.82 < Distance_to_SanJose <= 516638.86: -5663.990891692483\n",
      "Feature 525923.80 < Distance_to_SanFrancisco <= 584341.68: -4822.061461482185\n",
      "Feature -118.50 < Longitude <= -118.01: -4529.171484408192\n",
      "Feature Households > 607.00: 4396.324446206273\n",
      "Feature 3.53 < Median_Income <= 4.73: -3776.3357376265\n",
      "Feature 159313.07 < Distance_to_SanDiego <= 215956.69: -1638.4240433565335\n",
      "Feature 29.00 < Median_Age <= 37.00: -1235.9925333174808\n",
      "\n",
      "\n",
      "Explanation 34:\n",
      "As List of Tuples (feature_id, weight):\n",
      "Feature 9090.97 < Distance_to_coast <= 20514.18: 19927.655760536207\n",
      "Feature Distance_to_LA <= 32276.58: 13132.22165412928\n",
      "Feature 3.53 < Median_Income <= 4.73: -12495.950960500917\n",
      "Feature 33.93 < Latitude <= 34.26: 9018.889309834036\n",
      "Feature 29.00 < Median_Age <= 37.00: 7017.299090836594\n",
      "Feature Tot_Bedrooms > 648.00: 5986.86480142431\n",
      "Feature Tot_Rooms > 3157.00: -3557.5218560646767\n",
      "Feature 458975.82 < Distance_to_SanJose <= 516638.86: -3064.001777009397\n",
      "Feature 525923.80 < Distance_to_SanFrancisco <= 584341.68: -2906.994912609851\n",
      "Feature Households > 607.00: 2902.548730985812\n",
      "Feature 159313.07 < Distance_to_SanDiego <= 215956.69: 1729.9074472039624\n",
      "Feature -118.50 < Longitude <= -118.01: -607.2892498656331\n",
      "Feature 1170.00 < Population <= 1734.00: 163.19282955618138\n",
      "\n",
      "\n",
      "Explanation 35:\n",
      "As List of Tuples (feature_id, weight):\n",
      "Feature 9090.97 < Distance_to_coast <= 20514.18: 16451.743830284024\n",
      "Feature 29.00 < Median_Age <= 37.00: 9897.464243384731\n",
      "Feature Distance_to_LA <= 32276.58: 9888.130420411784\n",
      "Feature 3.53 < Median_Income <= 4.73: -9474.682876505909\n",
      "Feature Tot_Bedrooms > 648.00: 7509.372487070078\n",
      "Feature 33.93 < Latitude <= 34.26: 5815.6373422803\n",
      "Feature 458975.82 < Distance_to_SanJose <= 516638.86: 4586.293750194584\n",
      "Feature 159313.07 < Distance_to_SanDiego <= 215956.69: 3637.1584442835074\n",
      "Feature Tot_Rooms > 3157.00: -2761.208444925277\n",
      "Feature Households > 607.00: -1616.4681503855481\n",
      "Feature -118.50 < Longitude <= -118.01: 1525.2633892799417\n",
      "Feature 1170.00 < Population <= 1734.00: -1512.0363129286968\n",
      "Feature 525923.80 < Distance_to_SanFrancisco <= 584341.68: 166.8003028259443\n",
      "\n",
      "\n",
      "Explanation 36:\n",
      "As List of Tuples (feature_id, weight):\n",
      "Feature Distance_to_LA <= 32276.58: 24007.259451017417\n",
      "Feature 9090.97 < Distance_to_coast <= 20514.18: 15640.445119671815\n",
      "Feature Tot_Rooms > 3157.00: 10834.33537125294\n",
      "Feature 3.53 < Median_Income <= 4.73: -9323.937062812394\n",
      "Feature Tot_Bedrooms > 648.00: 8637.629353891269\n",
      "Feature 33.93 < Latitude <= 34.26: 8290.75046796759\n",
      "Feature -118.50 < Longitude <= -118.01: -5005.446262223483\n",
      "Feature 1170.00 < Population <= 1734.00: -4320.316035412801\n",
      "Feature 159313.07 < Distance_to_SanDiego <= 215956.69: 2625.3201827188614\n",
      "Feature 525923.80 < Distance_to_SanFrancisco <= 584341.68: -2445.611928032206\n",
      "Feature 29.00 < Median_Age <= 37.00: 2259.602522010367\n",
      "Feature 458975.82 < Distance_to_SanJose <= 516638.86: 968.5367597263121\n",
      "Feature Households > 607.00: -874.9384731368149\n",
      "\n",
      "\n",
      "Explanation 37:\n",
      "As List of Tuples (feature_id, weight):\n",
      "Feature Distance_to_LA <= 32276.58: 16756.753347487953\n",
      "Feature 9090.97 < Distance_to_coast <= 20514.18: 14207.199874225214\n",
      "Feature 3.53 < Median_Income <= 4.73: -10139.101100258285\n",
      "Feature 458975.82 < Distance_to_SanJose <= 516638.86: -4763.614815480015\n",
      "Feature 29.00 < Median_Age <= 37.00: 4627.069463455409\n",
      "Feature Households > 607.00: 3949.4059975988316\n",
      "Feature 1170.00 < Population <= 1734.00: -2650.119789268925\n",
      "Feature Tot_Bedrooms > 648.00: -2270.5352471726565\n",
      "Feature -118.50 < Longitude <= -118.01: 1957.3036173345374\n",
      "Feature Tot_Rooms > 3157.00: 1915.6705179895084\n",
      "Feature 159313.07 < Distance_to_SanDiego <= 215956.69: 460.36234852476167\n",
      "Feature 525923.80 < Distance_to_SanFrancisco <= 584341.68: 332.10567495082205\n",
      "Feature 33.93 < Latitude <= 34.26: -104.91006337906258\n",
      "\n",
      "\n",
      "Explanation 38:\n",
      "As List of Tuples (feature_id, weight):\n",
      "Feature Distance_to_LA <= 32276.58: 27703.09758609958\n",
      "Feature 9090.97 < Distance_to_coast <= 20514.18: 14322.39245063062\n",
      "Feature 3.53 < Median_Income <= 4.73: -10254.600433002313\n",
      "Feature 33.93 < Latitude <= 34.26: 9053.754466915158\n",
      "Feature Tot_Bedrooms > 648.00: 7954.577508051178\n",
      "Feature Households > 607.00: 4574.247813168482\n",
      "Feature -118.50 < Longitude <= -118.01: -3244.963259348088\n",
      "Feature 458975.82 < Distance_to_SanJose <= 516638.86: 3238.041070563296\n",
      "Feature 159313.07 < Distance_to_SanDiego <= 215956.69: 3190.1930859694826\n",
      "Feature 1170.00 < Population <= 1734.00: -2054.333616355935\n",
      "Feature 525923.80 < Distance_to_SanFrancisco <= 584341.68: 1598.1239151684206\n",
      "Feature 29.00 < Median_Age <= 37.00: -474.380113021643\n",
      "Feature Tot_Rooms > 3157.00: 417.00053655130233\n",
      "\n",
      "\n",
      "Explanation 39:\n",
      "As List of Tuples (feature_id, weight):\n",
      "Feature Distance_to_LA <= 32276.58: 29642.476357926298\n",
      "Feature 9090.97 < Distance_to_coast <= 20514.18: 15255.699928392209\n",
      "Feature 33.93 < Latitude <= 34.26: 11537.143301415737\n",
      "Feature Tot_Bedrooms > 648.00: 10115.363076885147\n",
      "Feature 3.53 < Median_Income <= 4.73: -5838.703871377025\n",
      "Feature Households > 607.00: 4986.214520218646\n",
      "Feature 525923.80 < Distance_to_SanFrancisco <= 584341.68: -4002.9734155437695\n",
      "Feature 159313.07 < Distance_to_SanDiego <= 215956.69: -3287.8803897992793\n",
      "Feature 29.00 < Median_Age <= 37.00: 3246.2640348775335\n",
      "Feature 458975.82 < Distance_to_SanJose <= 516638.86: -2591.3425677598843\n",
      "Feature -118.50 < Longitude <= -118.01: -2183.5504614600395\n",
      "Feature Tot_Rooms > 3157.00: 1710.4740054567753\n",
      "Feature 1170.00 < Population <= 1734.00: 1474.3018952775938\n",
      "\n",
      "\n",
      "Explanation 40:\n",
      "As List of Tuples (feature_id, weight):\n",
      "Feature 3.53 < Median_Income <= 4.73: -12638.103894962856\n",
      "Feature 9090.97 < Distance_to_coast <= 20514.18: 9889.49799522867\n",
      "Feature Distance_to_LA <= 32276.58: 8252.321473029646\n",
      "Feature 33.93 < Latitude <= 34.26: 4084.544406054545\n",
      "Feature 458975.82 < Distance_to_SanJose <= 516638.86: -2441.4437050788515\n",
      "Feature 525923.80 < Distance_to_SanFrancisco <= 584341.68: -1504.577591661012\n",
      "Feature 159313.07 < Distance_to_SanDiego <= 215956.69: 1502.5856564755704\n",
      "Feature Tot_Bedrooms > 648.00: -1448.545636796528\n",
      "Feature 1170.00 < Population <= 1734.00: -1363.322144214339\n",
      "Feature Households > 607.00: -1266.2870866232686\n",
      "Feature -118.50 < Longitude <= -118.01: 1075.377150676908\n",
      "Feature 29.00 < Median_Age <= 37.00: 804.8041504230213\n",
      "Feature Tot_Rooms > 3157.00: -258.02363231073406\n",
      "\n",
      "\n",
      "Explanation 41:\n",
      "As List of Tuples (feature_id, weight):\n",
      "Feature Distance_to_LA <= 32276.58: 27195.766642138613\n",
      "Feature 9090.97 < Distance_to_coast <= 20514.18: 16538.929893149292\n",
      "Feature 3.53 < Median_Income <= 4.73: -12332.878794158209\n",
      "Feature 458975.82 < Distance_to_SanJose <= 516638.86: -6641.44794394935\n",
      "Feature -118.50 < Longitude <= -118.01: -4865.0040041443835\n",
      "Feature 29.00 < Median_Age <= 37.00: 4389.6030553207465\n",
      "Feature Tot_Bedrooms > 648.00: 3675.2185086272525\n",
      "Feature 33.93 < Latitude <= 34.26: 2500.120432700079\n",
      "Feature Households > 607.00: 2167.453616057172\n",
      "Feature 159313.07 < Distance_to_SanDiego <= 215956.69: 1870.4688187557429\n",
      "Feature 1170.00 < Population <= 1734.00: -1452.0182586194585\n",
      "Feature Tot_Rooms > 3157.00: 737.7170496748345\n",
      "Feature 525923.80 < Distance_to_SanFrancisco <= 584341.68: 150.3392894665926\n",
      "\n",
      "\n",
      "Explanation 42:\n",
      "As List of Tuples (feature_id, weight):\n",
      "Feature Distance_to_LA <= 32276.58: 34522.382056408635\n",
      "Feature Tot_Bedrooms > 648.00: 24188.150994465625\n",
      "Feature 33.93 < Latitude <= 34.26: 19526.753275403997\n",
      "Feature 9090.97 < Distance_to_coast <= 20514.18: 14170.177846982157\n",
      "Feature 458975.82 < Distance_to_SanJose <= 516638.86: -7457.444056798944\n",
      "Feature Tot_Rooms > 3157.00: 7426.25729130369\n",
      "Feature -118.50 < Longitude <= -118.01: -7105.621814738506\n",
      "Feature 1170.00 < Population <= 1734.00: -6560.634198662332\n",
      "Feature 3.53 < Median_Income <= 4.73: -6136.915433963037\n",
      "Feature Households > 607.00: 5927.793254484511\n",
      "Feature 29.00 < Median_Age <= 37.00: 2508.7215940572155\n",
      "Feature 525923.80 < Distance_to_SanFrancisco <= 584341.68: -85.81457189077595\n",
      "Feature 159313.07 < Distance_to_SanDiego <= 215956.69: 5.015532405041257\n",
      "\n",
      "\n",
      "Explanation 43:\n",
      "As List of Tuples (feature_id, weight):\n",
      "Feature Distance_to_LA <= 32276.58: 40666.137954226324\n",
      "Feature 9090.97 < Distance_to_coast <= 20514.18: 17600.43361218779\n",
      "Feature Tot_Bedrooms > 648.00: 15668.562904845961\n",
      "Feature 1170.00 < Population <= 1734.00: -12952.58496675751\n",
      "Feature 33.93 < Latitude <= 34.26: 11543.883496626426\n",
      "Feature Tot_Rooms > 3157.00: 9614.833753915584\n",
      "Feature 3.53 < Median_Income <= 4.73: -8313.546220368567\n",
      "Feature Households > 607.00: 5489.042954426027\n",
      "Feature 29.00 < Median_Age <= 37.00: 4576.192318060172\n",
      "Feature 525923.80 < Distance_to_SanFrancisco <= 584341.68: 3881.4564235731787\n",
      "Feature 458975.82 < Distance_to_SanJose <= 516638.86: -2322.9844619175856\n",
      "Feature 159313.07 < Distance_to_SanDiego <= 215956.69: -1007.4046183161034\n",
      "Feature -118.50 < Longitude <= -118.01: 542.8436392216796\n",
      "\n",
      "\n",
      "Explanation 44:\n",
      "As List of Tuples (feature_id, weight):\n",
      "Feature Distance_to_LA <= 32276.58: 22946.684360792042\n",
      "Feature 9090.97 < Distance_to_coast <= 20514.18: 12476.475280491635\n",
      "Feature 3.53 < Median_Income <= 4.73: -10292.348702534418\n",
      "Feature 33.93 < Latitude <= 34.26: 9042.288457784487\n",
      "Feature 458975.82 < Distance_to_SanJose <= 516638.86: -6709.712180655598\n",
      "Feature Tot_Bedrooms > 648.00: 5195.424909078603\n",
      "Feature -118.50 < Longitude <= -118.01: -2898.805063434003\n",
      "Feature 29.00 < Median_Age <= 37.00: 1507.513261669516\n",
      "Feature 159313.07 < Distance_to_SanDiego <= 215956.69: 1269.0305219420313\n",
      "Feature Tot_Rooms > 3157.00: -1240.5394280065505\n",
      "Feature 525923.80 < Distance_to_SanFrancisco <= 584341.68: 1110.690417425804\n",
      "Feature Households > 607.00: 225.78832208487833\n",
      "Feature 1170.00 < Population <= 1734.00: 25.448317893305276\n",
      "\n",
      "\n",
      "Explanation 45:\n",
      "As List of Tuples (feature_id, weight):\n",
      "Feature Distance_to_LA <= 32276.58: 28350.398881893\n",
      "Feature Tot_Bedrooms > 648.00: 14606.28508279434\n",
      "Feature 9090.97 < Distance_to_coast <= 20514.18: 12304.485444214939\n",
      "Feature 3.53 < Median_Income <= 4.73: -11195.458719897684\n",
      "Feature Tot_Rooms > 3157.00: 10093.995461441447\n",
      "Feature 1170.00 < Population <= 1734.00: -9204.34103023661\n",
      "Feature 33.93 < Latitude <= 34.26: 8237.048050787467\n",
      "Feature -118.50 < Longitude <= -118.01: -6296.495164428475\n",
      "Feature 525923.80 < Distance_to_SanFrancisco <= 584341.68: -4996.077774823989\n",
      "Feature 29.00 < Median_Age <= 37.00: 4391.883677973268\n",
      "Feature 159313.07 < Distance_to_SanDiego <= 215956.69: -4343.563263055314\n",
      "Feature 458975.82 < Distance_to_SanJose <= 516638.86: -4044.775339066889\n",
      "Feature Households > 607.00: -1365.8071665915802\n",
      "\n",
      "\n",
      "Explanation 46:\n",
      "As List of Tuples (feature_id, weight):\n",
      "Feature Distance_to_LA <= 32276.58: 26026.6322858011\n",
      "Feature 9090.97 < Distance_to_coast <= 20514.18: 9922.516207593017\n",
      "Feature 1170.00 < Population <= 1734.00: -7067.314344434716\n",
      "Feature Tot_Bedrooms > 648.00: 6422.891786257684\n",
      "Feature 3.53 < Median_Income <= 4.73: -4953.076396379463\n",
      "Feature Tot_Rooms > 3157.00: 4802.164208821882\n",
      "Feature 29.00 < Median_Age <= 37.00: 4501.3278479463515\n",
      "Feature 458975.82 < Distance_to_SanJose <= 516638.86: -3375.0498425808687\n",
      "Feature 33.93 < Latitude <= 34.26: 3187.8624048200677\n",
      "Feature Households > 607.00: 3037.3052795265544\n",
      "Feature 525923.80 < Distance_to_SanFrancisco <= 584341.68: 1799.7104784245885\n",
      "Feature 159313.07 < Distance_to_SanDiego <= 215956.69: 883.3893349722628\n",
      "Feature -118.50 < Longitude <= -118.01: -230.1662552597283\n",
      "\n",
      "\n",
      "Explanation 47:\n",
      "As List of Tuples (feature_id, weight):\n",
      "Feature Distance_to_LA <= 32276.58: 18072.31809888993\n",
      "Feature 9090.97 < Distance_to_coast <= 20514.18: 10974.840018415267\n",
      "Feature 3.53 < Median_Income <= 4.73: -9403.62538685455\n",
      "Feature 33.93 < Latitude <= 34.26: 6550.65324770747\n",
      "Feature Tot_Bedrooms > 648.00: 4774.471768717657\n",
      "Feature -118.50 < Longitude <= -118.01: 2815.4961645538274\n",
      "Feature Tot_Rooms > 3157.00: -2556.2870305426095\n",
      "Feature 159313.07 < Distance_to_SanDiego <= 215956.69: -2284.4555621651157\n",
      "Feature 458975.82 < Distance_to_SanJose <= 516638.86: -2013.9786116724\n",
      "Feature 29.00 < Median_Age <= 37.00: 1237.0891585441625\n",
      "Feature Households > 607.00: -938.0238356393625\n",
      "Feature 525923.80 < Distance_to_SanFrancisco <= 584341.68: 347.7028312098062\n",
      "Feature 1170.00 < Population <= 1734.00: -323.8166210583161\n",
      "\n",
      "\n",
      "Explanation 48:\n",
      "As List of Tuples (feature_id, weight):\n",
      "Feature Distance_to_LA <= 32276.58: 20447.717246238404\n",
      "Feature 9090.97 < Distance_to_coast <= 20514.18: 16882.477949797645\n",
      "Feature 3.53 < Median_Income <= 4.73: -13449.559391137123\n",
      "Feature Tot_Bedrooms > 648.00: 11333.857389226845\n",
      "Feature 159313.07 < Distance_to_SanDiego <= 215956.69: -3765.164167293825\n",
      "Feature 1170.00 < Population <= 1734.00: -3658.889562499738\n",
      "Feature 33.93 < Latitude <= 34.26: 3319.535234676562\n",
      "Feature 458975.82 < Distance_to_SanJose <= 516638.86: -2720.578576476441\n",
      "Feature 29.00 < Median_Age <= 37.00: -2691.52984687605\n",
      "Feature -118.50 < Longitude <= -118.01: -1500.8836364831245\n",
      "Feature Tot_Rooms > 3157.00: -1452.5927495317617\n",
      "Feature 525923.80 < Distance_to_SanFrancisco <= 584341.68: 1431.8332771529424\n",
      "Feature Households > 607.00: 1166.142412806246\n",
      "\n",
      "\n",
      "Explanation 49:\n",
      "As List of Tuples (feature_id, weight):\n",
      "Feature Distance_to_LA <= 32276.58: 31880.7212627062\n",
      "Feature Tot_Bedrooms > 648.00: 17896.174359469594\n",
      "Feature 33.93 < Latitude <= 34.26: 15717.193802490368\n",
      "Feature 9090.97 < Distance_to_coast <= 20514.18: 13554.70126002106\n",
      "Feature Tot_Rooms > 3157.00: 8618.492065738334\n",
      "Feature 458975.82 < Distance_to_SanJose <= 516638.86: -7948.45828234912\n",
      "Feature -118.50 < Longitude <= -118.01: -5961.063575113397\n",
      "Feature 525923.80 < Distance_to_SanFrancisco <= 584341.68: -4768.734245506847\n",
      "Feature 1170.00 < Population <= 1734.00: -4737.711424617273\n",
      "Feature 3.53 < Median_Income <= 4.73: -3710.4882403753613\n",
      "Feature 159313.07 < Distance_to_SanDiego <= 215956.69: 659.5015865086846\n",
      "Feature Households > 607.00: 218.62093527575624\n",
      "Feature 29.00 < Median_Age <= 37.00: 197.45527536085999\n",
      "\n",
      "\n",
      "Explanation 50:\n",
      "As List of Tuples (feature_id, weight):\n",
      "Feature Distance_to_LA <= 32276.58: 24919.45918977742\n",
      "Feature 9090.97 < Distance_to_coast <= 20514.18: 18540.182932780262\n",
      "Feature Tot_Bedrooms > 648.00: 18012.339227964636\n",
      "Feature 33.93 < Latitude <= 34.26: 12033.571274447162\n",
      "Feature 3.53 < Median_Income <= 4.73: -11445.41665089243\n",
      "Feature 29.00 < Median_Age <= 37.00: 6082.779456090357\n",
      "Feature 1170.00 < Population <= 1734.00: -5689.16094510331\n",
      "Feature Tot_Rooms > 3157.00: 5390.1726019139915\n",
      "Feature Households > 607.00: 4918.965425532866\n",
      "Feature -118.50 < Longitude <= -118.01: -4498.7793061267375\n",
      "Feature 525923.80 < Distance_to_SanFrancisco <= 584341.68: -3322.3466556209396\n",
      "Feature 159313.07 < Distance_to_SanDiego <= 215956.69: 2169.4158193051635\n",
      "Feature 458975.82 < Distance_to_SanJose <= 516638.86: -1354.6794436976515\n",
      "\n",
      "\n",
      "Explanation 51:\n",
      "As List of Tuples (feature_id, weight):\n",
      "Feature Distance_to_LA <= 32276.58: 29021.358592982895\n",
      "Feature Tot_Bedrooms > 648.00: 19848.365149012116\n",
      "Feature 33.93 < Latitude <= 34.26: 8613.705310175656\n",
      "Feature 9090.97 < Distance_to_coast <= 20514.18: 8315.367104172117\n",
      "Feature 3.53 < Median_Income <= 4.73: -8147.129304974234\n",
      "Feature 458975.82 < Distance_to_SanJose <= 516638.86: -5363.22301286865\n",
      "Feature Tot_Rooms > 3157.00: 5260.422171836752\n",
      "Feature 1170.00 < Population <= 1734.00: -3705.271679013645\n",
      "Feature -118.50 < Longitude <= -118.01: -3451.3299462346226\n",
      "Feature 159313.07 < Distance_to_SanDiego <= 215956.69: 3416.4651749751342\n",
      "Feature 29.00 < Median_Age <= 37.00: 3390.4412222146975\n",
      "Feature Households > 607.00: 2887.2284924761525\n",
      "Feature 525923.80 < Distance_to_SanFrancisco <= 584341.68: 864.5031804611651\n",
      "\n",
      "\n",
      "Explanation 52:\n",
      "As List of Tuples (feature_id, weight):\n",
      "Feature 9090.97 < Distance_to_coast <= 20514.18: 10723.794217357574\n",
      "Feature 3.53 < Median_Income <= 4.73: -9602.891562387598\n",
      "Feature Distance_to_LA <= 32276.58: 7047.240574392931\n",
      "Feature 33.93 < Latitude <= 34.26: 5558.330680825156\n",
      "Feature 29.00 < Median_Age <= 37.00: 4321.042771478894\n",
      "Feature 1170.00 < Population <= 1734.00: -1510.2402593942138\n",
      "Feature Tot_Bedrooms > 648.00: -1110.5399952676478\n",
      "Feature 525923.80 < Distance_to_SanFrancisco <= 584341.68: -1071.6786582733096\n",
      "Feature 159313.07 < Distance_to_SanDiego <= 215956.69: 1011.9350987689196\n",
      "Feature 458975.82 < Distance_to_SanJose <= 516638.86: -562.0905790265689\n",
      "Feature Tot_Rooms > 3157.00: 506.67861316131007\n",
      "Feature -118.50 < Longitude <= -118.01: -221.67007876717778\n",
      "Feature Households > 607.00: -199.17760331138726\n",
      "\n",
      "\n",
      "Explanation 53:\n",
      "As List of Tuples (feature_id, weight):\n",
      "Feature Distance_to_LA <= 32276.58: 23149.262203581417\n",
      "Feature 9090.97 < Distance_to_coast <= 20514.18: 11366.87608260041\n",
      "Feature Tot_Bedrooms > 648.00: 10736.44170700069\n",
      "Feature 3.53 < Median_Income <= 4.73: -9816.601558344862\n",
      "Feature 33.93 < Latitude <= 34.26: 7085.3408043769105\n",
      "Feature 29.00 < Median_Age <= 37.00: 5907.378330685233\n",
      "Feature 458975.82 < Distance_to_SanJose <= 516638.86: -4946.785774703264\n",
      "Feature Households > 607.00: -2946.7294350408156\n",
      "Feature -118.50 < Longitude <= -118.01: -1517.3595241715718\n",
      "Feature 159313.07 < Distance_to_SanDiego <= 215956.69: -815.8927234680901\n",
      "Feature 1170.00 < Population <= 1734.00: -490.14963262039157\n",
      "Feature 525923.80 < Distance_to_SanFrancisco <= 584341.68: 216.4925436788657\n",
      "Feature Tot_Rooms > 3157.00: 203.7232984000198\n",
      "\n",
      "\n",
      "Explanation 54:\n",
      "As List of Tuples (feature_id, weight):\n",
      "Feature Distance_to_LA <= 32276.58: 25047.129667000354\n",
      "Feature 9090.97 < Distance_to_coast <= 20514.18: 19985.298454510626\n",
      "Feature 33.93 < Latitude <= 34.26: 10173.391317523601\n",
      "Feature Tot_Rooms > 3157.00: 8341.678843736225\n",
      "Feature Tot_Bedrooms > 648.00: 6877.37399137001\n",
      "Feature 29.00 < Median_Age <= 37.00: 6076.262044990654\n",
      "Feature 159313.07 < Distance_to_SanDiego <= 215956.69: 4923.037429014376\n",
      "Feature -118.50 < Longitude <= -118.01: -4918.829565957835\n",
      "Feature 458975.82 < Distance_to_SanJose <= 516638.86: -4903.583324408298\n",
      "Feature 3.53 < Median_Income <= 4.73: -4422.455504649101\n",
      "Feature Households > 607.00: 1737.8999520246516\n",
      "Feature 1170.00 < Population <= 1734.00: -1180.185442792678\n",
      "Feature 525923.80 < Distance_to_SanFrancisco <= 584341.68: -264.1427311335089\n",
      "\n",
      "\n",
      "Explanation 55:\n",
      "As List of Tuples (feature_id, weight):\n",
      "Feature Distance_to_LA <= 32276.58: 11850.696043283222\n",
      "Feature 3.53 < Median_Income <= 4.73: -10239.254256923694\n",
      "Feature 9090.97 < Distance_to_coast <= 20514.18: 7498.432762013051\n",
      "Feature 29.00 < Median_Age <= 37.00: 5717.2581186262805\n",
      "Feature 159313.07 < Distance_to_SanDiego <= 215956.69: -2811.883643683673\n",
      "Feature Tot_Rooms > 3157.00: 1331.1407294732544\n",
      "Feature Households > 607.00: 1126.158971702553\n",
      "Feature 1170.00 < Population <= 1734.00: -873.5339642888243\n",
      "Feature 525923.80 < Distance_to_SanFrancisco <= 584341.68: -855.8809627300919\n",
      "Feature Tot_Bedrooms > 648.00: 842.5834151483374\n",
      "Feature 33.93 < Latitude <= 34.26: -831.0657142224889\n",
      "Feature 458975.82 < Distance_to_SanJose <= 516638.86: -563.7283431148526\n",
      "Feature -118.50 < Longitude <= -118.01: 455.1890900746701\n",
      "\n",
      "\n",
      "Explanation 56:\n",
      "As List of Tuples (feature_id, weight):\n",
      "Feature Distance_to_LA <= 32276.58: 26316.818330599188\n",
      "Feature 9090.97 < Distance_to_coast <= 20514.18: 14339.004674790662\n",
      "Feature 33.93 < Latitude <= 34.26: 11935.534172255539\n",
      "Feature 3.53 < Median_Income <= 4.73: -9096.057042681641\n",
      "Feature Tot_Bedrooms > 648.00: 6046.9145480693805\n",
      "Feature Tot_Rooms > 3157.00: 4903.920265116347\n",
      "Feature 525923.80 < Distance_to_SanFrancisco <= 584341.68: -4299.104900389568\n",
      "Feature 1170.00 < Population <= 1734.00: -2823.62923718097\n",
      "Feature -118.50 < Longitude <= -118.01: 2696.1323773048794\n",
      "Feature 29.00 < Median_Age <= 37.00: 2676.177281251693\n",
      "Feature 458975.82 < Distance_to_SanJose <= 516638.86: -635.8651834155505\n",
      "Feature Households > 607.00: 625.2373348846577\n",
      "Feature 159313.07 < Distance_to_SanDiego <= 215956.69: 13.94721166641235\n",
      "\n",
      "\n",
      "Explanation 57:\n",
      "As List of Tuples (feature_id, weight):\n",
      "Feature Distance_to_LA <= 32276.58: 26218.278676876787\n",
      "Feature 9090.97 < Distance_to_coast <= 20514.18: 15537.36439600775\n",
      "Feature 29.00 < Median_Age <= 37.00: 7037.305936187647\n",
      "Feature 3.53 < Median_Income <= 4.73: -5365.829624831157\n",
      "Feature Tot_Rooms > 3157.00: 4201.401711607816\n",
      "Feature Tot_Bedrooms > 648.00: 3960.033136094996\n",
      "Feature -118.50 < Longitude <= -118.01: -3857.332993081692\n",
      "Feature 525923.80 < Distance_to_SanFrancisco <= 584341.68: -3705.4795423955975\n",
      "Feature 458975.82 < Distance_to_SanJose <= 516638.86: -3095.244615542898\n",
      "Feature Households > 607.00: -2424.5719360110006\n",
      "Feature 33.93 < Latitude <= 34.26: 1336.076426443912\n",
      "Feature 159313.07 < Distance_to_SanDiego <= 215956.69: -717.5098636541182\n",
      "Feature 1170.00 < Population <= 1734.00: 58.19937724360683\n",
      "\n",
      "\n",
      "Explanation 58:\n",
      "As List of Tuples (feature_id, weight):\n",
      "Feature Distance_to_LA <= 32276.58: 27111.37578008661\n",
      "Feature 3.53 < Median_Income <= 4.73: -11874.20583381986\n",
      "Feature 9090.97 < Distance_to_coast <= 20514.18: 10876.081402696807\n",
      "Feature 33.93 < Latitude <= 34.26: 8152.76807017613\n",
      "Feature 458975.82 < Distance_to_SanJose <= 516638.86: -6094.144184733512\n",
      "Feature Households > 607.00: 4819.152467625181\n",
      "Feature -118.50 < Longitude <= -118.01: 3587.528422175705\n",
      "Feature 29.00 < Median_Age <= 37.00: 3168.677955313337\n",
      "Feature 525923.80 < Distance_to_SanFrancisco <= 584341.68: -2493.349627176133\n",
      "Feature 159313.07 < Distance_to_SanDiego <= 215956.69: -2114.263066663533\n",
      "Feature Tot_Bedrooms > 648.00: 1824.7525535018297\n",
      "Feature 1170.00 < Population <= 1734.00: -902.8017095907229\n",
      "Feature Tot_Rooms > 3157.00: 22.321906274838337\n",
      "\n",
      "\n",
      "Explanation 59:\n",
      "As List of Tuples (feature_id, weight):\n",
      "Feature Distance_to_LA <= 32276.58: 38548.171851197876\n",
      "Feature 9090.97 < Distance_to_coast <= 20514.18: 16181.317642923641\n",
      "Feature Tot_Bedrooms > 648.00: 14200.51995972929\n",
      "Feature 33.93 < Latitude <= 34.26: 11687.030525480772\n",
      "Feature 3.53 < Median_Income <= 4.73: -9947.098126418301\n",
      "Feature 458975.82 < Distance_to_SanJose <= 516638.86: -8876.002538350796\n",
      "Feature Tot_Rooms > 3157.00: 8291.03255919632\n",
      "Feature 29.00 < Median_Age <= 37.00: 8198.746098438893\n",
      "Feature -118.50 < Longitude <= -118.01: -6609.58936878294\n",
      "Feature 1170.00 < Population <= 1734.00: -3458.6220938847528\n",
      "Feature 159313.07 < Distance_to_SanDiego <= 215956.69: -2980.08748912048\n",
      "Feature Households > 607.00: 2500.862946483603\n",
      "Feature 525923.80 < Distance_to_SanFrancisco <= 584341.68: -1950.6642429675476\n",
      "\n",
      "\n",
      "Explanation 60:\n",
      "As List of Tuples (feature_id, weight):\n",
      "Feature Distance_to_LA <= 32276.58: 23849.014561921063\n",
      "Feature 9090.97 < Distance_to_coast <= 20514.18: 19728.755804801833\n",
      "Feature 3.53 < Median_Income <= 4.73: -9183.49531719216\n",
      "Feature 33.93 < Latitude <= 34.26: 7608.770163838969\n",
      "Feature Tot_Bedrooms > 648.00: 7071.009574495561\n",
      "Feature 458975.82 < Distance_to_SanJose <= 516638.86: -6711.203559424655\n",
      "Feature Tot_Rooms > 3157.00: -5121.801647709322\n",
      "Feature Households > 607.00: 2725.690174710105\n",
      "Feature 29.00 < Median_Age <= 37.00: -2368.6994596329505\n",
      "Feature 159313.07 < Distance_to_SanDiego <= 215956.69: -2192.483675578865\n",
      "Feature 1170.00 < Population <= 1734.00: 1724.019130022136\n",
      "Feature 525923.80 < Distance_to_SanFrancisco <= 584341.68: 574.0663055657603\n",
      "Feature -118.50 < Longitude <= -118.01: -93.03251975808394\n",
      "\n",
      "\n",
      "Explanation 61:\n",
      "As List of Tuples (feature_id, weight):\n",
      "Feature Distance_to_LA <= 32276.58: 22029.731325568042\n",
      "Feature 9090.97 < Distance_to_coast <= 20514.18: 18334.44430278739\n",
      "Feature Tot_Bedrooms > 648.00: 10841.527653612568\n",
      "Feature 33.93 < Latitude <= 34.26: 8312.983080420227\n",
      "Feature 3.53 < Median_Income <= 4.73: -7413.184341158519\n",
      "Feature 29.00 < Median_Age <= 37.00: 6808.858034373497\n",
      "Feature -118.50 < Longitude <= -118.01: -4016.1408588918853\n",
      "Feature Tot_Rooms > 3157.00: -2861.777106231928\n",
      "Feature 1170.00 < Population <= 1734.00: -1464.5419303899487\n",
      "Feature 458975.82 < Distance_to_SanJose <= 516638.86: -1263.052179370885\n",
      "Feature Households > 607.00: 661.170043013124\n",
      "Feature 525923.80 < Distance_to_SanFrancisco <= 584341.68: -76.33552501452905\n",
      "Feature 159313.07 < Distance_to_SanDiego <= 215956.69: 75.60317945033303\n",
      "\n",
      "\n",
      "Explanation 62:\n",
      "As List of Tuples (feature_id, weight):\n",
      "Feature 9090.97 < Distance_to_coast <= 20514.18: 7951.670468833154\n",
      "Feature 3.53 < Median_Income <= 4.73: -6860.84918884792\n",
      "Feature Distance_to_LA <= 32276.58: 6463.174702695718\n",
      "Feature 33.93 < Latitude <= 34.26: 3663.9277317868887\n",
      "Feature 29.00 < Median_Age <= 37.00: 3017.301632416064\n",
      "Feature 1170.00 < Population <= 1734.00: -2406.7301527087707\n",
      "Feature 525923.80 < Distance_to_SanFrancisco <= 584341.68: -2057.724045933942\n",
      "Feature Tot_Rooms > 3157.00: -2028.0569403465724\n",
      "Feature 458975.82 < Distance_to_SanJose <= 516638.86: -1573.3385771615651\n",
      "Feature Households > 607.00: -1454.2212117411475\n",
      "Feature -118.50 < Longitude <= -118.01: 1235.7837183927952\n",
      "Feature Tot_Bedrooms > 648.00: 1045.8105116391816\n",
      "Feature 159313.07 < Distance_to_SanDiego <= 215956.69: -1010.4057901746681\n",
      "\n",
      "\n",
      "Explanation 63:\n",
      "As List of Tuples (feature_id, weight):\n",
      "Feature Distance_to_LA <= 32276.58: 36498.14608702973\n",
      "Feature 33.93 < Latitude <= 34.26: 12084.89737648053\n",
      "Feature 9090.97 < Distance_to_coast <= 20514.18: 10072.040098736625\n",
      "Feature Tot_Bedrooms > 648.00: 8501.183513274127\n",
      "Feature 3.53 < Median_Income <= 4.73: -8075.6014393138485\n",
      "Feature Tot_Rooms > 3157.00: 5855.57985521923\n",
      "Feature Households > 607.00: 5485.3930324340145\n",
      "Feature 1170.00 < Population <= 1734.00: -4139.4705428657935\n",
      "Feature 458975.82 < Distance_to_SanJose <= 516638.86: -3962.758009379085\n",
      "Feature 29.00 < Median_Age <= 37.00: 3312.5765637588524\n",
      "Feature 525923.80 < Distance_to_SanFrancisco <= 584341.68: -3134.7668073552936\n",
      "Feature -118.50 < Longitude <= -118.01: -1980.6199256416078\n",
      "Feature 159313.07 < Distance_to_SanDiego <= 215956.69: -180.96404527640283\n",
      "\n",
      "\n",
      "Explanation 64:\n",
      "As List of Tuples (feature_id, weight):\n",
      "Feature Distance_to_LA <= 32276.58: 30128.300565294576\n",
      "Feature 33.93 < Latitude <= 34.26: 11108.87936817481\n",
      "Feature 9090.97 < Distance_to_coast <= 20514.18: 10954.837376871192\n",
      "Feature 3.53 < Median_Income <= 4.73: -9254.875261370227\n",
      "Feature 525923.80 < Distance_to_SanFrancisco <= 584341.68: -7280.33002994\n",
      "Feature Tot_Rooms > 3157.00: 6099.9019080984735\n",
      "Feature 458975.82 < Distance_to_SanJose <= 516638.86: -6058.658185365593\n",
      "Feature 29.00 < Median_Age <= 37.00: 4327.69511121118\n",
      "Feature 1170.00 < Population <= 1734.00: -3628.936862908572\n",
      "Feature 159313.07 < Distance_to_SanDiego <= 215956.69: 3388.159283602392\n",
      "Feature Tot_Bedrooms > 648.00: 3233.828309060035\n",
      "Feature Households > 607.00: 3055.137811992651\n",
      "Feature -118.50 < Longitude <= -118.01: -901.9233468117235\n",
      "\n",
      "\n",
      "Explanation 65:\n",
      "As List of Tuples (feature_id, weight):\n",
      "Feature Distance_to_LA <= 32276.58: 26391.565503817998\n",
      "Feature 9090.97 < Distance_to_coast <= 20514.18: 12989.70645361449\n",
      "Feature 33.93 < Latitude <= 34.26: 12131.89242718461\n",
      "Feature 29.00 < Median_Age <= 37.00: 9576.592601161026\n",
      "Feature 1170.00 < Population <= 1734.00: -7377.707838505242\n",
      "Feature 3.53 < Median_Income <= 4.73: -7313.917592468691\n",
      "Feature Households > 607.00: 6129.55144322783\n",
      "Feature Tot_Bedrooms > 648.00: 5577.606947861077\n",
      "Feature 458975.82 < Distance_to_SanJose <= 516638.86: -4417.289915076587\n",
      "Feature 525923.80 < Distance_to_SanFrancisco <= 584341.68: -3036.9839553030088\n",
      "Feature Tot_Rooms > 3157.00: -1657.1887306506137\n",
      "Feature -118.50 < Longitude <= -118.01: -473.42548426824146\n",
      "Feature 159313.07 < Distance_to_SanDiego <= 215956.69: -458.8052637458189\n",
      "\n",
      "\n",
      "Explanation 66:\n",
      "As List of Tuples (feature_id, weight):\n",
      "Feature Distance_to_LA <= 32276.58: 28217.26124977118\n",
      "Feature 33.93 < Latitude <= 34.26: 15863.244074281763\n",
      "Feature 9090.97 < Distance_to_coast <= 20514.18: 12147.999863619802\n",
      "Feature Tot_Bedrooms > 648.00: 11813.070180205861\n",
      "Feature 1170.00 < Population <= 1734.00: -9432.474378872212\n",
      "Feature Tot_Rooms > 3157.00: 8423.222153194047\n",
      "Feature 3.53 < Median_Income <= 4.73: -7299.546342398393\n",
      "Feature 29.00 < Median_Age <= 37.00: 5402.114437972631\n",
      "Feature Households > 607.00: 4341.6140038039075\n",
      "Feature -118.50 < Longitude <= -118.01: 2454.8029975844406\n",
      "Feature 458975.82 < Distance_to_SanJose <= 516638.86: -1895.2993042337162\n",
      "Feature 525923.80 < Distance_to_SanFrancisco <= 584341.68: -1485.5375978515315\n",
      "Feature 159313.07 < Distance_to_SanDiego <= 215956.69: -232.4298234811846\n",
      "\n",
      "\n",
      "Explanation 67:\n",
      "As List of Tuples (feature_id, weight):\n",
      "Feature Distance_to_LA <= 32276.58: 30482.669159225068\n",
      "Feature 33.93 < Latitude <= 34.26: 15353.834527805517\n",
      "Feature Tot_Rooms > 3157.00: 13566.360434767395\n",
      "Feature 9090.97 < Distance_to_coast <= 20514.18: 13168.166836502367\n",
      "Feature Tot_Bedrooms > 648.00: 8088.506066447168\n",
      "Feature 1170.00 < Population <= 1734.00: -6258.527397837065\n",
      "Feature 3.53 < Median_Income <= 4.73: -5969.942596386854\n",
      "Feature 525923.80 < Distance_to_SanFrancisco <= 584341.68: -3806.251516743928\n",
      "Feature Households > 607.00: 3129.512785467648\n",
      "Feature -118.50 < Longitude <= -118.01: 3017.9872208304973\n",
      "Feature 458975.82 < Distance_to_SanJose <= 516638.86: -2783.9896485800114\n",
      "Feature 159313.07 < Distance_to_SanDiego <= 215956.69: -2624.2212433829714\n",
      "Feature 29.00 < Median_Age <= 37.00: -1118.2845534899889\n",
      "\n",
      "\n",
      "Explanation 68:\n",
      "As List of Tuples (feature_id, weight):\n",
      "Feature Distance_to_LA <= 32276.58: 27371.332085116825\n",
      "Feature 33.93 < Latitude <= 34.26: 16492.74589188642\n",
      "Feature 9090.97 < Distance_to_coast <= 20514.18: 15728.498312263648\n",
      "Feature 3.53 < Median_Income <= 4.73: -11530.281763800695\n",
      "Feature Tot_Bedrooms > 648.00: 9224.718272339152\n",
      "Feature 458975.82 < Distance_to_SanJose <= 516638.86: -8183.6201109951535\n",
      "Feature 29.00 < Median_Age <= 37.00: 7112.046589617067\n",
      "Feature -118.50 < Longitude <= -118.01: -6710.347008607562\n",
      "Feature 1170.00 < Population <= 1734.00: -6106.62816792411\n",
      "Feature Tot_Rooms > 3157.00: 5953.322889840933\n",
      "Feature 525923.80 < Distance_to_SanFrancisco <= 584341.68: -4253.385833522378\n",
      "Feature Households > 607.00: 3454.0547118235886\n",
      "Feature 159313.07 < Distance_to_SanDiego <= 215956.69: 230.89506813277976\n",
      "\n",
      "\n",
      "Explanation 69:\n",
      "As List of Tuples (feature_id, weight):\n",
      "Feature Distance_to_LA <= 32276.58: 19976.070496467244\n",
      "Feature 3.53 < Median_Income <= 4.73: -10257.85054162829\n",
      "Feature 9090.97 < Distance_to_coast <= 20514.18: 10117.54550408371\n",
      "Feature 33.93 < Latitude <= 34.26: 8920.47023413368\n",
      "Feature Tot_Bedrooms > 648.00: 5798.420225042874\n",
      "Feature Households > 607.00: 4340.374118372479\n",
      "Feature 29.00 < Median_Age <= 37.00: 3705.4828180409045\n",
      "Feature 1170.00 < Population <= 1734.00: 3465.5400538924714\n",
      "Feature 159313.07 < Distance_to_SanDiego <= 215956.69: -1544.3103310236152\n",
      "Feature Tot_Rooms > 3157.00: -1218.8709549934238\n",
      "Feature 525923.80 < Distance_to_SanFrancisco <= 584341.68: 1080.0307133926435\n",
      "Feature 458975.82 < Distance_to_SanJose <= 516638.86: -833.5658979937322\n",
      "Feature -118.50 < Longitude <= -118.01: 283.8010681326304\n",
      "\n",
      "\n",
      "Explanation 70:\n",
      "As List of Tuples (feature_id, weight):\n",
      "Feature Distance_to_LA <= 32276.58: 31358.946883906323\n",
      "Feature 9090.97 < Distance_to_coast <= 20514.18: 14102.762688385536\n",
      "Feature 3.53 < Median_Income <= 4.73: -9803.040277186146\n",
      "Feature Tot_Bedrooms > 648.00: 8339.876226025615\n",
      "Feature 33.93 < Latitude <= 34.26: 8269.236125802152\n",
      "Feature Tot_Rooms > 3157.00: 7141.504071435065\n",
      "Feature 29.00 < Median_Age <= 37.00: 6829.475395436421\n",
      "Feature 458975.82 < Distance_to_SanJose <= 516638.86: -5326.547592284049\n",
      "Feature Households > 607.00: 5018.197023095046\n",
      "Feature -118.50 < Longitude <= -118.01: -3980.3887304699238\n",
      "Feature 1170.00 < Population <= 1734.00: -1872.9306619954398\n",
      "Feature 159313.07 < Distance_to_SanDiego <= 215956.69: -734.1890716957963\n",
      "Feature 525923.80 < Distance_to_SanFrancisco <= 584341.68: -140.2175606202076\n",
      "\n",
      "\n",
      "Explanation 71:\n",
      "As List of Tuples (feature_id, weight):\n",
      "Feature Distance_to_LA <= 32276.58: 31979.092768710634\n",
      "Feature 33.93 < Latitude <= 34.26: 15913.631763208989\n",
      "Feature Tot_Bedrooms > 648.00: 15346.362099576168\n",
      "Feature 3.53 < Median_Income <= 4.73: -13473.215885325228\n",
      "Feature 9090.97 < Distance_to_coast <= 20514.18: 12148.296298683556\n",
      "Feature 29.00 < Median_Age <= 37.00: 9755.66294640073\n",
      "Feature Tot_Rooms > 3157.00: 8044.845975044938\n",
      "Feature 458975.82 < Distance_to_SanJose <= 516638.86: -7174.932254598782\n",
      "Feature 1170.00 < Population <= 1734.00: -4727.550105324174\n",
      "Feature -118.50 < Longitude <= -118.01: -4533.931726439493\n",
      "Feature 159313.07 < Distance_to_SanDiego <= 215956.69: 2756.0001949704915\n",
      "Feature 525923.80 < Distance_to_SanFrancisco <= 584341.68: 1592.2519357836106\n",
      "Feature Households > 607.00: 419.4016042707466\n",
      "\n",
      "\n",
      "Explanation 72:\n",
      "As List of Tuples (feature_id, weight):\n",
      "Feature Distance_to_LA <= 32276.58: 22937.774968370933\n",
      "Feature 9090.97 < Distance_to_coast <= 20514.18: 14911.233251281068\n",
      "Feature 3.53 < Median_Income <= 4.73: -10411.688847167236\n",
      "Feature 29.00 < Median_Age <= 37.00: 8925.721014752904\n",
      "Feature 33.93 < Latitude <= 34.26: 8569.587267186398\n",
      "Feature Households > 607.00: 6640.44959209272\n",
      "Feature 525923.80 < Distance_to_SanFrancisco <= 584341.68: -5309.269517942396\n",
      "Feature 1170.00 < Population <= 1734.00: -5288.489351667838\n",
      "Feature -118.50 < Longitude <= -118.01: -3710.035714905546\n",
      "Feature 159313.07 < Distance_to_SanDiego <= 215956.69: 3453.1871134958515\n",
      "Feature 458975.82 < Distance_to_SanJose <= 516638.86: -2498.2218524609643\n",
      "Feature Tot_Rooms > 3157.00: -1766.2775251392757\n",
      "Feature Tot_Bedrooms > 648.00: -555.8346567241923\n",
      "\n",
      "\n",
      "Explanation 73:\n",
      "As List of Tuples (feature_id, weight):\n",
      "Feature Distance_to_LA <= 32276.58: 25442.861133660743\n",
      "Feature Tot_Rooms > 3157.00: 10859.897572450307\n",
      "Feature 3.53 < Median_Income <= 4.73: -10527.950696210046\n",
      "Feature Tot_Bedrooms > 648.00: 9156.713857700537\n",
      "Feature 9090.97 < Distance_to_coast <= 20514.18: 8571.797459071484\n",
      "Feature 33.93 < Latitude <= 34.26: 5895.26592477651\n",
      "Feature 29.00 < Median_Age <= 37.00: 5799.929802192543\n",
      "Feature 525923.80 < Distance_to_SanFrancisco <= 584341.68: -4094.11961920263\n",
      "Feature 458975.82 < Distance_to_SanJose <= 516638.86: -3816.6841189166207\n",
      "Feature 159313.07 < Distance_to_SanDiego <= 215956.69: 2979.780122567238\n",
      "Feature Households > 607.00: 2709.78263260658\n",
      "Feature 1170.00 < Population <= 1734.00: -1287.9465139994848\n",
      "Feature -118.50 < Longitude <= -118.01: 368.6810383981931\n",
      "\n",
      "\n",
      "Explanation 74:\n",
      "As List of Tuples (feature_id, weight):\n",
      "Feature Distance_to_LA <= 32276.58: 34981.57770979343\n",
      "Feature Tot_Bedrooms > 648.00: 15171.060515409596\n",
      "Feature 9090.97 < Distance_to_coast <= 20514.18: 13926.779337902097\n",
      "Feature Tot_Rooms > 3157.00: 11897.293741832675\n",
      "Feature 33.93 < Latitude <= 34.26: 10436.428619319993\n",
      "Feature 1170.00 < Population <= 1734.00: -9486.990194461341\n",
      "Feature 3.53 < Median_Income <= 4.73: -7106.535675250825\n",
      "Feature Households > 607.00: 4665.1278141186185\n",
      "Feature 458975.82 < Distance_to_SanJose <= 516638.86: -4128.117183792288\n",
      "Feature -118.50 < Longitude <= -118.01: -2572.348879379304\n",
      "Feature 525923.80 < Distance_to_SanFrancisco <= 584341.68: -2432.563119135855\n",
      "Feature 29.00 < Median_Age <= 37.00: -816.4669251687546\n",
      "Feature 159313.07 < Distance_to_SanDiego <= 215956.69: -356.4674401639366\n",
      "\n",
      "\n",
      "Explanation 75:\n",
      "As List of Tuples (feature_id, weight):\n",
      "Feature Distance_to_LA <= 32276.58: 22813.556275717965\n",
      "Feature 9090.97 < Distance_to_coast <= 20514.18: 14842.43608189523\n",
      "Feature 29.00 < Median_Age <= 37.00: 5633.054949853122\n",
      "Feature Tot_Bedrooms > 648.00: 4914.930953191311\n",
      "Feature 458975.82 < Distance_to_SanJose <= 516638.86: -4587.146993127013\n",
      "Feature 33.93 < Latitude <= 34.26: 4375.344685135563\n",
      "Feature -118.50 < Longitude <= -118.01: -4205.189303134687\n",
      "Feature Households > 607.00: -2405.9855735760943\n",
      "Feature 3.53 < Median_Income <= 4.73: -2305.6084225189984\n",
      "Feature 525923.80 < Distance_to_SanFrancisco <= 584341.68: -1286.3872628437753\n",
      "Feature 159313.07 < Distance_to_SanDiego <= 215956.69: 1030.4837278466925\n",
      "Feature 1170.00 < Population <= 1734.00: 820.8898058250406\n",
      "Feature Tot_Rooms > 3157.00: -238.2583843382505\n",
      "\n",
      "\n",
      "Explanation 76:\n",
      "As List of Tuples (feature_id, weight):\n",
      "Feature Distance_to_LA <= 32276.58: 27573.545243988672\n",
      "Feature 33.93 < Latitude <= 34.26: 13094.641579909512\n",
      "Feature 9090.97 < Distance_to_coast <= 20514.18: 12572.431127835773\n",
      "Feature 3.53 < Median_Income <= 4.73: -8226.566945878927\n",
      "Feature 1170.00 < Population <= 1734.00: -8127.004472601158\n",
      "Feature Tot_Bedrooms > 648.00: 7975.096910390678\n",
      "Feature 458975.82 < Distance_to_SanJose <= 516638.86: -3863.3750148815907\n",
      "Feature 159313.07 < Distance_to_SanDiego <= 215956.69: 2712.030531337992\n",
      "Feature Tot_Rooms > 3157.00: 2485.3695434450847\n",
      "Feature Households > 607.00: 1917.2797438777488\n",
      "Feature -118.50 < Longitude <= -118.01: 1549.5375970580835\n",
      "Feature 525923.80 < Distance_to_SanFrancisco <= 584341.68: -904.5022026761686\n",
      "Feature 29.00 < Median_Age <= 37.00: 460.17885239768873\n",
      "\n",
      "\n",
      "Explanation 77:\n",
      "As List of Tuples (feature_id, weight):\n",
      "Feature Distance_to_LA <= 32276.58: 22892.371620086957\n",
      "Feature 9090.97 < Distance_to_coast <= 20514.18: 18853.355803676837\n",
      "Feature Tot_Bedrooms > 648.00: 9322.354857957607\n",
      "Feature 33.93 < Latitude <= 34.26: 8003.62699323226\n",
      "Feature 3.53 < Median_Income <= 4.73: -7523.722741124064\n",
      "Feature Households > 607.00: 5771.160742011409\n",
      "Feature 525923.80 < Distance_to_SanFrancisco <= 584341.68: 4152.80280642426\n",
      "Feature 1170.00 < Population <= 1734.00: -3198.599454272738\n",
      "Feature 159313.07 < Distance_to_SanDiego <= 215956.69: -2965.3442732588724\n",
      "Feature 29.00 < Median_Age <= 37.00: 2095.5968613438367\n",
      "Feature 458975.82 < Distance_to_SanJose <= 516638.86: -1392.417360149687\n",
      "Feature Tot_Rooms > 3157.00: 1078.1584172210587\n",
      "Feature -118.50 < Longitude <= -118.01: -143.54542153804059\n",
      "\n",
      "\n",
      "Explanation 78:\n",
      "As List of Tuples (feature_id, weight):\n",
      "Feature 3.53 < Median_Income <= 4.73: -11543.583459413549\n",
      "Feature 9090.97 < Distance_to_coast <= 20514.18: 10113.810481966082\n",
      "Feature 29.00 < Median_Age <= 37.00: 4357.85023774479\n",
      "Feature 33.93 < Latitude <= 34.26: 4175.49960648285\n",
      "Feature Households > 607.00: 3206.2279499820124\n",
      "Feature 525923.80 < Distance_to_SanFrancisco <= 584341.68: -2572.071127577738\n",
      "Feature Tot_Bedrooms > 648.00: -2493.8109863861987\n",
      "Feature 1170.00 < Population <= 1734.00: -1181.7826262637982\n",
      "Feature -118.50 < Longitude <= -118.01: 1041.653882002729\n",
      "Feature Distance_to_LA <= 32276.58: 888.9752562562433\n",
      "Feature 159313.07 < Distance_to_SanDiego <= 215956.69: 510.17102706292167\n",
      "Feature 458975.82 < Distance_to_SanJose <= 516638.86: -450.39086389527927\n",
      "Feature Tot_Rooms > 3157.00: 369.688895319458\n",
      "\n",
      "\n",
      "Explanation 79:\n",
      "As List of Tuples (feature_id, weight):\n",
      "Feature 9090.97 < Distance_to_coast <= 20514.18: 16272.342704576164\n",
      "Feature 3.53 < Median_Income <= 4.73: -8635.206292149996\n",
      "Feature 29.00 < Median_Age <= 37.00: 6848.434806118552\n",
      "Feature Distance_to_LA <= 32276.58: 5925.146433601971\n",
      "Feature 33.93 < Latitude <= 34.26: 4855.612644897892\n",
      "Feature 525923.80 < Distance_to_SanFrancisco <= 584341.68: 3642.6837986775436\n",
      "Feature 1170.00 < Population <= 1734.00: 3077.0135124605663\n",
      "Feature Tot_Bedrooms > 648.00: 1737.638114299521\n",
      "Feature 159313.07 < Distance_to_SanDiego <= 215956.69: -1662.05894006807\n",
      "Feature 458975.82 < Distance_to_SanJose <= 516638.86: -1403.0463190531996\n",
      "Feature Households > 607.00: 1269.7287148322225\n",
      "Feature Tot_Rooms > 3157.00: 951.2573608147756\n",
      "Feature -118.50 < Longitude <= -118.01: 279.6767083617403\n",
      "\n",
      "\n",
      "Explanation 80:\n",
      "As List of Tuples (feature_id, weight):\n",
      "Feature Distance_to_LA <= 32276.58: 19813.53376119848\n",
      "Feature 9090.97 < Distance_to_coast <= 20514.18: 17875.96045754076\n",
      "Feature 33.93 < Latitude <= 34.26: 6383.462799404604\n",
      "Feature 29.00 < Median_Age <= 37.00: 4171.920543106464\n",
      "Feature 3.53 < Median_Income <= 4.73: -4120.412967864405\n",
      "Feature 525923.80 < Distance_to_SanFrancisco <= 584341.68: -4106.213885730535\n",
      "Feature -118.50 < Longitude <= -118.01: -3995.534990041509\n",
      "Feature Tot_Bedrooms > 648.00: 3386.6257371233582\n",
      "Feature 458975.82 < Distance_to_SanJose <= 516638.86: -3167.027033542097\n",
      "Feature Households > 607.00: -2417.578691849058\n",
      "Feature 1170.00 < Population <= 1734.00: 2057.4524182008504\n",
      "Feature Tot_Rooms > 3157.00: -1666.873989018627\n",
      "Feature 159313.07 < Distance_to_SanDiego <= 215956.69: -235.12105403162107\n"
     ]
    }
   ],
   "source": [
    "for i, explanation in enumerate(gbt_explanation):\n",
    "    print(f\"Explanation {i + 1}:\")\n",
    "    print(\"As List of Tuples (feature_id, weight):\")\n",
    "    for feature_id, weight in explanation.as_list():\n",
    "        print(f\"Feature {feature_id}: {weight}\")\n",
    "\n",
    "    print(\"\\n\")"
   ],
   "metadata": {
    "collapsed": false,
    "ExecuteTime": {
     "end_time": "2024-05-30T15:12:46.019504Z",
     "start_time": "2024-05-30T15:12:45.991395Z"
    }
   },
   "id": "282ba5919d7c52c9"
  },
  {
   "cell_type": "code",
   "execution_count": 396,
   "outputs": [
    {
     "name": "stdout",
     "output_type": "stream",
     "text": [
      "{'Median_Income > 0.46': {'mean': 147096.37506307272, 'std': 9053.852184863821}, 'Distance_to_coast > 0.19': {'mean': -68023.32681428803, 'std': 5648.765446104749}, 'Latitude > 0.97': {'mean': -24225.197258490392, 'std': 7088.677867307465}, 'Distance_to_LA > 1.04': {'mean': -12098.841204425542, 'std': 4303.773253343923}, 'Population > 0.27': {'mean': -6781.898405551049, 'std': 5929.4245972663275}, 'Tot_Bedrooms > 0.26': {'mean': 7807.712485636308, 'std': 5140.008529499596}, 'Longitude <= -1.11': {'mean': 5665.329972244105, 'std': 3791.037262612245}, 'Median_Age > 0.66': {'mean': 8830.583280686924, 'std': 2194.0370025858283}, 'Distance_to_SanJose > 0.77': {'mean': -7380.620180582075, 'std': 2917.581858147634}, 'Tot_Rooms > 0.24': {'mean': 5134.867858308828, 'std': 4810.782289748073}, 'Distance_to_SanFrancisco > 0.79': {'mean': -4146.053273279047, 'std': 2494.5827956810276}, 'Households > 0.28': {'mean': 1741.339797700374, 'std': 2271.0280016824927}, 'Distance_to_SanDiego > 1.06': {'mean': 2126.2915780115486, 'std': 2086.4380282313587}}\n"
     ]
    }
   ],
   "source": [
    "feature_weights = defaultdict(list)\n",
    "\n",
    "for explanation in gbt_explanation:\n",
    "    for feature, weight in explanation.as_list():\n",
    "        feature_weights[feature].append(weight)\n",
    "\n",
    "feature_stats = {}\n",
    "for feature, weights in feature_weights.items():\n",
    "    mean_weight = np.mean(weights)\n",
    "    std_weight = np.std(weights)\n",
    "    feature_stats[feature] = {'mean': mean_weight, 'std': std_weight}\n",
    "\n",
    "print(feature_stats)"
   ],
   "metadata": {
    "collapsed": false,
    "ExecuteTime": {
     "end_time": "2024-05-30T15:46:14.442553Z",
     "start_time": "2024-05-30T15:46:14.429594Z"
    }
   },
   "id": "7d0e01adc51cc877"
  },
  {
   "cell_type": "code",
   "execution_count": 397,
   "outputs": [
    {
     "data": {
      "text/plain": "<Figure size 900x600 with 1 Axes>",
      "image/png": "[encoded data removed]"
     },
     "metadata": {},
     "output_type": "display_data"
    }
   ],
   "source": [
    "features = list(feature_stats.keys())\n",
    "mean_weights = [feature_stats[feature]['mean'] for feature in features]\n",
    "std_weights = [feature_stats[feature]['std'] for feature in features]\n",
    "\n",
    "colors = ['lightblue' if weight > 0 else 'pink' for weight in mean_weights]\n",
    "\n",
    "feature_ids = range(len(mean_weights))\n",
    "plt.figure(figsize=(9, 6))\n",
    "plt.barh(feature_ids, mean_weights, xerr=std_weights, capsize=5, alpha=0.9, color=colors)\n",
    "plt.yticks(feature_ids, features, fontsize=12)\n",
    "plt.xlabel(\"Weight\", fontsize=12)\n",
    "plt.tight_layout()\n",
    "plt.show()"
   ],
   "metadata": {
    "collapsed": false,
    "ExecuteTime": {
     "end_time": "2024-05-30T15:46:15.930986Z",
     "start_time": "2024-05-30T15:46:15.825421Z"
    }
   },
   "id": "d5528da5816c6828"
  },
  {
   "cell_type": "code",
   "execution_count": 299,
   "outputs": [],
   "source": [
    "num = len(X_test)"
   ],
   "metadata": {
    "collapsed": false,
    "ExecuteTime": {
     "end_time": "2024-05-30T13:40:03.151096Z",
     "start_time": "2024-05-30T13:40:03.144297Z"
    }
   },
   "id": "75345871ab4caa89"
  },
  {
   "cell_type": "code",
   "execution_count": 300,
   "outputs": [
    {
     "name": "stdout",
     "output_type": "stream",
     "text": [
      "4128\n"
     ]
    }
   ],
   "source": [
    "print(num)"
   ],
   "metadata": {
    "collapsed": false,
    "ExecuteTime": {
     "end_time": "2024-05-30T13:40:03.924607Z",
     "start_time": "2024-05-30T13:40:03.920462Z"
    }
   },
   "id": "b13718917e7e9f44"
  },
  {
   "cell_type": "code",
   "execution_count": null,
   "outputs": [],
   "source": [],
   "metadata": {
    "collapsed": false
   },
   "id": "eb74555de5db2088"
  }
 ],
 "metadata": {
  "kernelspec": {
   "display_name": "Python 3",
   "language": "python",
   "name": "python3"
  },
  "language_info": {
   "codemirror_mode": {
    "name": "ipython",
    "version": 2
   },
   "file_extension": ".py",
   "mimetype": "text/x-python",
   "name": "python",
   "nbconvert_exporter": "python",
   "pygments_lexer": "ipython2",
   "version": "2.7.6"
  }
 },
 "nbformat": 4,
 "nbformat_minor": 5
}
