{
 "cells": [
  {
   "cell_type": "code",
   "execution_count": 1,
   "id": "initial_id",
   "metadata": {
    "collapsed": true,
    "ExecuteTime": {
     "end_time": "2024-06-05T16:12:55.509824Z",
     "start_time": "2024-06-05T16:12:52.173574Z"
    }
   },
   "outputs": [],
   "source": [
    "import tensorflow as tf\n",
    "import tensorflow_decision_forests as tfdf\n",
    "import numpy as np\n",
    "\n",
    "from sklearn.model_selection import train_test_split\n",
    "from sklearn.preprocessing import StandardScaler\n",
    "import matplotlib.pyplot as plt\n",
    "import pandas as pd\n",
    "\n",
    "import shap"
   ]
  },
  {
   "cell_type": "code",
   "execution_count": 2,
   "outputs": [],
   "source": [
    "wine_qt_path = '../data/WineQT.csv'\n",
    "RANDOM_SEED = 492"
   ],
   "metadata": {
    "collapsed": false,
    "ExecuteTime": {
     "end_time": "2024-06-05T16:12:58.671699Z",
     "start_time": "2024-06-05T16:12:58.668185Z"
    }
   },
   "id": "46f3adf38c3b447a"
  },
  {
   "cell_type": "code",
   "execution_count": 3,
   "outputs": [],
   "source": [
    "wine_df = pd.read_csv(wine_qt_path)"
   ],
   "metadata": {
    "collapsed": false,
    "ExecuteTime": {
     "end_time": "2024-06-05T16:13:00.032417Z",
     "start_time": "2024-06-05T16:13:00.027185Z"
    }
   },
   "id": "6969bdd4fdc3445d"
  },
  {
   "cell_type": "code",
   "execution_count": 5,
   "outputs": [
    {
     "name": "stdout",
     "output_type": "stream",
     "text": [
      "   fixed acidity  volatile acidity  citric acid  residual sugar  chlorides  \\\n",
      "0            7.4              0.70         0.00             1.9      0.076   \n",
      "1            7.8              0.88         0.00             2.6      0.098   \n",
      "2            7.8              0.76         0.04             2.3      0.092   \n",
      "3           11.2              0.28         0.56             1.9      0.075   \n",
      "4            7.4              0.70         0.00             1.9      0.076   \n",
      "\n",
      "   free sulfur dioxide  total sulfur dioxide  density    pH  sulphates  \\\n",
      "0                 11.0                  34.0   0.9978  3.51       0.56   \n",
      "1                 25.0                  67.0   0.9968  3.20       0.68   \n",
      "2                 15.0                  54.0   0.9970  3.26       0.65   \n",
      "3                 17.0                  60.0   0.9980  3.16       0.58   \n",
      "4                 11.0                  34.0   0.9978  3.51       0.56   \n",
      "\n",
      "   alcohol  quality  Id  \n",
      "0      9.4        5   0  \n",
      "1      9.8        5   1  \n",
      "2      9.8        5   2  \n",
      "3      9.8        6   3  \n",
      "4      9.4        5   4  \n"
     ]
    }
   ],
   "source": [
    "print(wine_df.head())"
   ],
   "metadata": {
    "collapsed": false,
    "ExecuteTime": {
     "end_time": "2024-06-05T16:13:20.078518Z",
     "start_time": "2024-06-05T16:13:20.069242Z"
    }
   },
   "id": "72ac0a85589b2239"
  },
  {
   "cell_type": "code",
   "execution_count": 6,
   "outputs": [],
   "source": [
    "y_series = wine_df['Id']\n",
    "y = pd.DataFrame(y_series, columns=['Id'])\n",
    "features = [col for col in wine_df.columns if col != 'Id']\n",
    "X = wine_df[features]"
   ],
   "metadata": {
    "collapsed": false,
    "ExecuteTime": {
     "end_time": "2024-06-05T16:13:23.973926Z",
     "start_time": "2024-06-05T16:13:23.968733Z"
    }
   },
   "id": "db877c54bbcfa8f1"
  },
  {
   "cell_type": "code",
   "execution_count": 7,
   "outputs": [],
   "source": [
    "X_train, X_test, y_train, y_test = train_test_split(X, y, test_size=0.2, random_state=RANDOM_SEED)"
   ],
   "metadata": {
    "collapsed": false,
    "ExecuteTime": {
     "end_time": "2024-06-05T16:13:27.092431Z",
     "start_time": "2024-06-05T16:13:27.087314Z"
    }
   },
   "id": "2cf8644f8ba66ba9"
  },
  {
   "cell_type": "code",
   "execution_count": 8,
   "outputs": [],
   "source": [
    "X_train = X_train.reset_index(drop=True)\n",
    "y_train = y_train.reset_index(drop=True)\n",
    "X_test = X_test.reset_index(drop=True)\n",
    "y_test = y_test.reset_index(drop=True)"
   ],
   "metadata": {
    "collapsed": false,
    "ExecuteTime": {
     "end_time": "2024-06-05T16:13:28.590589Z",
     "start_time": "2024-06-05T16:13:28.586879Z"
    }
   },
   "id": "77430f2ed96077fb"
  },
  {
   "cell_type": "code",
   "execution_count": 9,
   "outputs": [],
   "source": [
    "scaler = StandardScaler()\n",
    "X_train_scaled = scaler.fit_transform(X_train)\n",
    "X_test_scaled = scaler.transform(X_test)\n",
    "\n",
    "X_train_scaled = pd.DataFrame(X_train_scaled, columns=X_train.columns)\n",
    "X_test_scaled = pd.DataFrame(X_test_scaled, columns=X_test.columns)"
   ],
   "metadata": {
    "collapsed": false,
    "ExecuteTime": {
     "end_time": "2024-06-05T16:13:30.465288Z",
     "start_time": "2024-06-05T16:13:30.462803Z"
    }
   },
   "id": "5a49a3c97d38c7ad"
  },
  {
   "cell_type": "code",
   "execution_count": 11,
   "outputs": [
    {
     "name": "stdout",
     "output_type": "stream",
     "text": [
      "914\n"
     ]
    }
   ],
   "source": [
    "print(len(X_train_scaled))"
   ],
   "metadata": {
    "collapsed": false,
    "ExecuteTime": {
     "end_time": "2024-06-05T16:13:47.344827Z",
     "start_time": "2024-06-05T16:13:47.340619Z"
    }
   },
   "id": "a89e546c904a1b3a"
  },
  {
   "cell_type": "code",
   "execution_count": 10,
   "outputs": [
    {
     "name": "stdout",
     "output_type": "stream",
     "text": [
      "   fixed acidity  volatile acidity  citric acid  residual sugar  chlorides  \\\n",
      "0       0.105544         -1.379153     1.462888       -0.537610   0.087465   \n",
      "1       0.621720         -1.046416     0.500012       -0.244623  -0.252294   \n",
      "2       0.334956         -1.379153     0.905434       -0.610857  -0.412180   \n",
      "3      -0.640043          0.229075    -1.121673       -0.171377  -0.132379   \n",
      "4      -0.869454          0.173619    -1.223028       -0.610857  -0.072421   \n",
      "\n",
      "   free sulfur dioxide  total sulfur dioxide   density        pH  sulphates  \\\n",
      "0             1.921184              1.727330  0.097116 -0.055335   0.537430   \n",
      "1            -1.030261             -0.990201  0.667681 -0.564916  -0.225502   \n",
      "2            -0.833498             -1.020395 -1.645700 -0.373823  -0.636312   \n",
      "3             0.051936             -0.295721 -0.556440  0.454246  -0.342877   \n",
      "4             0.248699             -0.325915  0.045247  0.836432  -0.166815   \n",
      "\n",
      "    alcohol   quality  \n",
      "0  0.042265  1.653380  \n",
      "1 -1.146834 -0.850662  \n",
      "2  1.688710  1.653380  \n",
      "3 -0.140673  0.401359  \n",
      "4 -0.415081  0.401359  \n"
     ]
    }
   ],
   "source": [
    "subset_indices = np.random.choice(X_train.index, size=len(X_train), replace=False)\n",
    "\n",
    "X_train_subset = X_train.loc[subset_indices]\n",
    "y_train_subset = y_train.loc[subset_indices]\n",
    "\n",
    "print(X_train_scaled.head())"
   ],
   "metadata": {
    "collapsed": false,
    "ExecuteTime": {
     "end_time": "2024-06-05T15:47:31.703773Z",
     "start_time": "2024-06-05T15:47:31.695944Z"
    }
   },
   "id": "ccfc91f64ac8f3ca"
  },
  {
   "cell_type": "code",
   "execution_count": 17,
   "outputs": [
    {
     "name": "stdout",
     "output_type": "stream",
     "text": [
      "   fixed acidity  volatile acidity  citric acid  residual sugar  chlorides  \\\n",
      "0       1.309954          1.670935     0.500012        0.048364  -0.032450   \n",
      "1      -1.213571          0.672724    -1.070995       -0.684104  -0.751939   \n",
      "2      -0.984160         -0.769136     1.108144       -0.610857  -0.352223   \n",
      "3       1.080542          0.783637     0.601368       -0.464363  -0.671996   \n",
      "4      -0.525337          0.506356    -1.121673       -0.464363  -0.392194   \n",
      "\n",
      "   free sulfur dioxide  total sulfur dioxide   density        pH  sulphates  \\\n",
      "0             1.035750              0.730902  0.719551 -0.947101  -0.812374   \n",
      "1            -0.931879             -0.839227 -1.676821  1.664501  -0.694999   \n",
      "2             0.740606              3.116290 -2.340751 -1.201892  -0.929748   \n",
      "3            -0.931879             -0.869421  0.460203 -0.883404  -1.105809   \n",
      "4             0.838987             -0.114552 -0.317840  0.709037  -0.518938   \n",
      "\n",
      "    alcohol   quality  \n",
      "0 -0.506550 -0.850662  \n",
      "1  1.368568 -0.850662  \n",
      "2  0.956957  0.401359  \n",
      "3 -0.415081 -0.850662  \n",
      "4  0.956957  0.401359  \n"
     ]
    }
   ],
   "source": [
    "subset_size = int(0.8 * len(X_train_scaled))\n",
    "            \n",
    "# Create a subset of the dataset using sampled indices\n",
    "subset_indices = np.random.choice(X_train_scaled.index, size=subset_size, replace=False)\n",
    "X_train_test4len = X_train_scaled.loc[subset_indices].reset_index(drop=True)\n",
    "print(X_train_test4len.head())"
   ],
   "metadata": {
    "collapsed": false,
    "ExecuteTime": {
     "end_time": "2024-06-05T16:17:14.695747Z",
     "start_time": "2024-06-05T16:17:14.689900Z"
    }
   },
   "id": "9045826108f67b1a"
  },
  {
   "cell_type": "code",
   "execution_count": 12,
   "outputs": [
    {
     "name": "stdout",
     "output_type": "stream",
     "text": [
      "(914, 1)\n"
     ]
    }
   ],
   "source": [
    "X_train_tensor = tf.constant(X_train_subset.values, dtype=tf.float32)\n",
    "y_train_tensor = tf.constant(y_train_subset.values, dtype=tf.float32)\n",
    "print(y_train_tensor.shape)"
   ],
   "metadata": {
    "collapsed": false,
    "ExecuteTime": {
     "end_time": "2024-06-05T15:47:34.404343Z",
     "start_time": "2024-06-05T15:47:34.393850Z"
    }
   },
   "id": "2e24bf6d858901ba"
  },
  {
   "cell_type": "code",
   "execution_count": 18,
   "outputs": [],
   "source": [
    "class GradientBoostedTreesEnsembleClassifier(tf.keras.Model):\n",
    "    def __init__(self, n_trees=100, max_depth=3, n_estimators=100, subportion = 0.8, sample_method='RANDOM'): \n",
    "        super(GradientBoostedTreesEnsembleClassifier, self).__init__()\n",
    "        self.n_trees = n_trees\n",
    "        self.n_estimators = n_estimators\n",
    "        self.max_depth = max_depth\n",
    "        self.subportion = subportion\n",
    "        self.sample_method = sample_method\n",
    "        self.estimators = []\n",
    "\n",
    "    def build_estimator(self):\n",
    "        model = tfdf.keras.GradientBoostedTreesModel(\n",
    "            task=tfdf.keras.Task.CLASSIFICATION,\n",
    "            num_trees=np.random.randint(self.n_trees//5, self.n_trees+1), # self.n_trees, #\n",
    "            max_depth=self.max_depth, #np.random.randint(self.max_depth/2, self.max_depth+1), # self.max_depth, # \n",
    "            validation_ratio=0.1,\n",
    "            subsample=self.subportion,\n",
    "            sampling_method=self.sample_method,\n",
    "            random_seed=self.seed # try to set this first. Maybe this is enough\n",
    "        )\n",
    "        return model\n",
    "    \n",
    "    # if not, the number of trees/depth different for each estimator\n",
    "\n",
    "    def fit(self, X, y):\n",
    "        \n",
    "        X_tensor = tf.constant(X.values, dtype=tf.float32)\n",
    "        y_tensor = tf.constant(y.values, dtype=tf.float32)\n",
    "        tot_dataset_size = len(X)\n",
    "        \n",
    "        @tf.function\n",
    "        def train_single_estimator(seed):\n",
    "            self.seed = int(seed)\n",
    "            subset_size = int(self.subportion * tot_dataset_size)\n",
    "            \n",
    "            # Create a subset of the dataset using sampled indices\n",
    "            subset_indices = np.random.choice(tot_dataset_size, size=subset_size, replace=False)\n",
    "            \n",
    "            X_subset = tf.gather(X_tensor, subset_indices)\n",
    "            y_subset = tf.gather(y_tensor, subset_indices)\n",
    "            \n",
    "            # Building each estimator\n",
    "            estimator = self.build_estimator()\n",
    "            estimator.fit(X_subset, y_subset, verbose=0)\n",
    "            self.estimators.append(estimator)\n",
    "            \n",
    "        for seed in np.random.randint(0, 1000000, size=self.n_estimators):\n",
    "            train_single_estimator(seed)\n",
    "    \n",
    "    @tf.function\n",
    "    def predict_mean(self, X): # use all estimators\n",
    "        X_tensor = tf.constant(X.values, dtype=tf.float32)\n",
    "        predictions = []\n",
    "        \n",
    "        for i, estimator in enumerate(self.estimators):\n",
    "            estimator_predictions = estimator.predict(X_tensor)  # Get predictions from the current estimator\n",
    "            print(f\"Shape of prediction from estimator {i}: {estimator_predictions.shape}\")  # Print the shape\n",
    "            predictions.append(estimator_predictions)\n",
    "        \n",
    "        # predictions = [pred if len(pred.shape) == 2 else pred[:, np.newaxis] for pred in predictions]\n",
    "\n",
    "        # Stack predictions for mean and standard deviation calculation\n",
    "        # predictions_stacked = np.stack(predictions, axis=-1)\n",
    "        \n",
    "        \n",
    "        # mean_prediction = np.mean(predictions_stacked, axis=-1)\n",
    "        # sd_prediction = np.std(predictions_stacked, axis=-1)\n",
    "        # return mean_prediction, sd_prediction\n",
    "        return predictions\n"
   ],
   "metadata": {
    "collapsed": false,
    "ExecuteTime": {
     "end_time": "2024-06-05T16:23:26.083571Z",
     "start_time": "2024-06-05T16:23:26.064618Z"
    }
   },
   "id": "5874898ce620831b"
  },
  {
   "cell_type": "code",
   "execution_count": 19,
   "outputs": [],
   "source": [
    "gbt_model = GradientBoostedTreesEnsembleClassifier(\n",
    "    n_trees=50, \n",
    "    max_depth=5, \n",
    "    n_estimators=80, \n",
    "    subportion=0.8, \n",
    "    sample_method='RANDOM'\n",
    ")"
   ],
   "metadata": {
    "collapsed": false,
    "ExecuteTime": {
     "end_time": "2024-06-05T16:23:30.283228Z",
     "start_time": "2024-06-05T16:23:30.278290Z"
    }
   },
   "id": "84c975e86ed3a144"
  },
  {
   "cell_type": "code",
   "execution_count": null,
   "outputs": [
    {
     "name": "stdout",
     "output_type": "stream",
     "text": [
      "Use /var/folders/3r/pzt2_p_x2xdfl2057nxkp3nm0000gn/T/tmph4p2v238 as temporary training directory\n"
     ]
    },
    {
     "name": "stderr",
     "output_type": "stream",
     "text": [
      "[WARNING 24-06-05 18:23:33.3730 CEST gradient_boosted_trees.cc:1840] \"goss_alpha\" set but \"sampling_method\" not equal to \"GOSS\".\n",
      "[WARNING 24-06-05 18:23:33.3737 CEST gradient_boosted_trees.cc:1851] \"goss_beta\" set but \"sampling_method\" not equal to \"GOSS\".\n",
      "[WARNING 24-06-05 18:23:33.3737 CEST gradient_boosted_trees.cc:1865] \"selective_gradient_boosting_ratio\" set but \"sampling_method\" not equal to \"SELGB\".\n",
      "[INFO 24-06-05 18:23:56.4142 CEST kernel.cc:1233] Loading model from path /var/folders/3r/pzt2_p_x2xdfl2057nxkp3nm0000gn/T/tmph4p2v238/model/ with prefix d522cd1bf8fd4d02\n",
      "[INFO 24-06-05 18:23:57.0110 CEST decision_forest.cc:734] Model loaded with 17578 root(s), 339034 node(s), and 12 input feature(s).\n",
      "[INFO 24-06-05 18:23:57.0110 CEST abstract_model.cc:1344] Engine \"GradientBoostedTreesGeneric\" built\n",
      "[INFO 24-06-05 18:23:57.0111 CEST kernel.cc:1061] Use fast generic engine\n"
     ]
    },
    {
     "name": "stdout",
     "output_type": "stream",
     "text": [
      "Use /var/folders/3r/pzt2_p_x2xdfl2057nxkp3nm0000gn/T/tmpa83fua_l as temporary training directory\n"
     ]
    },
    {
     "name": "stderr",
     "output_type": "stream",
     "text": [
      "[WARNING 24-06-05 18:23:59.3356 CEST gradient_boosted_trees.cc:1840] \"goss_alpha\" set but \"sampling_method\" not equal to \"GOSS\".\n",
      "[WARNING 24-06-05 18:23:59.3357 CEST gradient_boosted_trees.cc:1851] \"goss_beta\" set but \"sampling_method\" not equal to \"GOSS\".\n",
      "[WARNING 24-06-05 18:23:59.3357 CEST gradient_boosted_trees.cc:1865] \"selective_gradient_boosting_ratio\" set but \"sampling_method\" not equal to \"SELGB\".\n",
      "[INFO 24-06-05 18:24:18.4261 CEST kernel.cc:1233] Loading model from path /var/folders/3r/pzt2_p_x2xdfl2057nxkp3nm0000gn/T/tmpa83fua_l/model/ with prefix 3dae0e753e6a4082\n"
     ]
    },
    {
     "name": "stdout",
     "output_type": "stream",
     "text": [
      "Use /var/folders/3r/pzt2_p_x2xdfl2057nxkp3nm0000gn/T/tmprf_21d9v as temporary training directory\n"
     ]
    },
    {
     "name": "stderr",
     "output_type": "stream",
     "text": [
      "[INFO 24-06-05 18:24:19.0746 CEST decision_forest.cc:734] Model loaded with 17578 root(s), 345740 node(s), and 12 input feature(s).\n",
      "[INFO 24-06-05 18:24:19.0747 CEST abstract_model.cc:1344] Engine \"GradientBoostedTreesGeneric\" built\n",
      "[INFO 24-06-05 18:24:19.0747 CEST kernel.cc:1061] Use fast generic engine\n",
      "[WARNING 24-06-05 18:24:19.2641 CEST gradient_boosted_trees.cc:1840] \"goss_alpha\" set but \"sampling_method\" not equal to \"GOSS\".\n",
      "[WARNING 24-06-05 18:24:19.2641 CEST gradient_boosted_trees.cc:1851] \"goss_beta\" set but \"sampling_method\" not equal to \"GOSS\".\n",
      "[WARNING 24-06-05 18:24:19.2641 CEST gradient_boosted_trees.cc:1865] \"selective_gradient_boosting_ratio\" set but \"sampling_method\" not equal to \"SELGB\".\n",
      "[INFO 24-06-05 18:24:38.3212 CEST kernel.cc:1233] Loading model from path /var/folders/3r/pzt2_p_x2xdfl2057nxkp3nm0000gn/T/tmprf_21d9v/model/ with prefix c473d0dbc8784fa6\n"
     ]
    },
    {
     "name": "stdout",
     "output_type": "stream",
     "text": [
      "Use /var/folders/3r/pzt2_p_x2xdfl2057nxkp3nm0000gn/T/tmplms69szt as temporary training directory\n"
     ]
    },
    {
     "name": "stderr",
     "output_type": "stream",
     "text": [
      "[INFO 24-06-05 18:24:38.9439 CEST decision_forest.cc:734] Model loaded with 17578 root(s), 330002 node(s), and 12 input feature(s).\n",
      "[INFO 24-06-05 18:24:38.9439 CEST abstract_model.cc:1344] Engine \"GradientBoostedTreesGeneric\" built\n",
      "[INFO 24-06-05 18:24:38.9439 CEST kernel.cc:1061] Use fast generic engine\n",
      "[WARNING 24-06-05 18:24:39.1337 CEST gradient_boosted_trees.cc:1840] \"goss_alpha\" set but \"sampling_method\" not equal to \"GOSS\".\n",
      "[WARNING 24-06-05 18:24:39.1337 CEST gradient_boosted_trees.cc:1851] \"goss_beta\" set but \"sampling_method\" not equal to \"GOSS\".\n",
      "[WARNING 24-06-05 18:24:39.1337 CEST gradient_boosted_trees.cc:1865] \"selective_gradient_boosting_ratio\" set but \"sampling_method\" not equal to \"SELGB\".\n",
      "[INFO 24-06-05 18:24:58.1973 CEST kernel.cc:1233] Loading model from path /var/folders/3r/pzt2_p_x2xdfl2057nxkp3nm0000gn/T/tmplms69szt/model/ with prefix 52af7baffe1547b3\n"
     ]
    },
    {
     "name": "stdout",
     "output_type": "stream",
     "text": [
      "Use /var/folders/3r/pzt2_p_x2xdfl2057nxkp3nm0000gn/T/tmplux5i38b as temporary training directory\n"
     ]
    },
    {
     "name": "stderr",
     "output_type": "stream",
     "text": [
      "[INFO 24-06-05 18:24:58.7667 CEST decision_forest.cc:734] Model loaded with 17578 root(s), 327348 node(s), and 12 input feature(s).\n",
      "[INFO 24-06-05 18:24:58.7667 CEST abstract_model.cc:1344] Engine \"GradientBoostedTreesGeneric\" built\n",
      "[INFO 24-06-05 18:24:58.7667 CEST kernel.cc:1061] Use fast generic engine\n",
      "[WARNING 24-06-05 18:24:58.9601 CEST gradient_boosted_trees.cc:1840] \"goss_alpha\" set but \"sampling_method\" not equal to \"GOSS\".\n",
      "[WARNING 24-06-05 18:24:58.9601 CEST gradient_boosted_trees.cc:1851] \"goss_beta\" set but \"sampling_method\" not equal to \"GOSS\".\n",
      "[WARNING 24-06-05 18:24:58.9601 CEST gradient_boosted_trees.cc:1865] \"selective_gradient_boosting_ratio\" set but \"sampling_method\" not equal to \"SELGB\".\n"
     ]
    },
    {
     "name": "stdout",
     "output_type": "stream",
     "text": [
      "WARNING:tensorflow:5 out of the last 5 calls to <function CoreModel._consumes_training_examples_until_eof at 0x2977fb9a0> triggered tf.function retracing. Tracing is expensive and the excessive number of tracings could be due to (1) creating @tf.function repeatedly in a loop, (2) passing tensors with different shapes, (3) passing Python objects instead of tensors. For (1), please define your @tf.function outside of the loop. For (2), @tf.function has reduce_retracing=True option that can avoid unnecessary retracing. For (3), please refer to https://www.tensorflow.org/guide/function#controlling_retracing and https://www.tensorflow.org/api_docs/python/tf/function for  more details.\n"
     ]
    },
    {
     "name": "stderr",
     "output_type": "stream",
     "text": [
      "WARNING:tensorflow:5 out of the last 5 calls to <function CoreModel._consumes_training_examples_until_eof at 0x2977fb9a0> triggered tf.function retracing. Tracing is expensive and the excessive number of tracings could be due to (1) creating @tf.function repeatedly in a loop, (2) passing tensors with different shapes, (3) passing Python objects instead of tensors. For (1), please define your @tf.function outside of the loop. For (2), @tf.function has reduce_retracing=True option that can avoid unnecessary retracing. For (3), please refer to https://www.tensorflow.org/guide/function#controlling_retracing and https://www.tensorflow.org/api_docs/python/tf/function for  more details.\n",
      "[INFO 24-06-05 18:25:18.2203 CEST kernel.cc:1233] Loading model from path /var/folders/3r/pzt2_p_x2xdfl2057nxkp3nm0000gn/T/tmplux5i38b/model/ with prefix e2697805b20d4fea\n"
     ]
    },
    {
     "name": "stdout",
     "output_type": "stream",
     "text": [
      "WARNING:tensorflow:5 out of the last 5 calls to <function InferenceCoreModel.make_predict_function.<locals>.predict_function_trained at 0x2d5ccb0a0> triggered tf.function retracing. Tracing is expensive and the excessive number of tracings could be due to (1) creating @tf.function repeatedly in a loop, (2) passing tensors with different shapes, (3) passing Python objects instead of tensors. For (1), please define your @tf.function outside of the loop. For (2), @tf.function has reduce_retracing=True option that can avoid unnecessary retracing. For (3), please refer to https://www.tensorflow.org/guide/function#controlling_retracing and https://www.tensorflow.org/api_docs/python/tf/function for  more details.\n"
     ]
    },
    {
     "name": "stderr",
     "output_type": "stream",
     "text": [
      "[INFO 24-06-05 18:25:18.8084 CEST decision_forest.cc:734] Model loaded with 17534 root(s), 333360 node(s), and 12 input feature(s).\n",
      "[INFO 24-06-05 18:25:18.8085 CEST abstract_model.cc:1344] Engine \"GradientBoostedTreesGeneric\" built\n",
      "[INFO 24-06-05 18:25:18.8085 CEST kernel.cc:1061] Use fast generic engine\n",
      "WARNING:tensorflow:5 out of the last 5 calls to <function InferenceCoreModel.make_predict_function.<locals>.predict_function_trained at 0x2d5ccb0a0> triggered tf.function retracing. Tracing is expensive and the excessive number of tracings could be due to (1) creating @tf.function repeatedly in a loop, (2) passing tensors with different shapes, (3) passing Python objects instead of tensors. For (1), please define your @tf.function outside of the loop. For (2), @tf.function has reduce_retracing=True option that can avoid unnecessary retracing. For (3), please refer to https://www.tensorflow.org/guide/function#controlling_retracing and https://www.tensorflow.org/api_docs/python/tf/function for  more details.\n"
     ]
    },
    {
     "name": "stdout",
     "output_type": "stream",
     "text": [
      "WARNING:tensorflow:5 out of the last 5 calls to <function InferenceCoreModel.yggdrasil_model_path_tensor at 0x2d5cc83a0> triggered tf.function retracing. Tracing is expensive and the excessive number of tracings could be due to (1) creating @tf.function repeatedly in a loop, (2) passing tensors with different shapes, (3) passing Python objects instead of tensors. For (1), please define your @tf.function outside of the loop. For (2), @tf.function has reduce_retracing=True option that can avoid unnecessary retracing. For (3), please refer to https://www.tensorflow.org/guide/function#controlling_retracing and https://www.tensorflow.org/api_docs/python/tf/function for  more details.\n"
     ]
    },
    {
     "name": "stderr",
     "output_type": "stream",
     "text": [
      "WARNING:tensorflow:5 out of the last 5 calls to <function InferenceCoreModel.yggdrasil_model_path_tensor at 0x2d5cc83a0> triggered tf.function retracing. Tracing is expensive and the excessive number of tracings could be due to (1) creating @tf.function repeatedly in a loop, (2) passing tensors with different shapes, (3) passing Python objects instead of tensors. For (1), please define your @tf.function outside of the loop. For (2), @tf.function has reduce_retracing=True option that can avoid unnecessary retracing. For (3), please refer to https://www.tensorflow.org/guide/function#controlling_retracing and https://www.tensorflow.org/api_docs/python/tf/function for  more details.\n"
     ]
    },
    {
     "name": "stdout",
     "output_type": "stream",
     "text": [
      "Use /var/folders/3r/pzt2_p_x2xdfl2057nxkp3nm0000gn/T/tmpemvd2p2r as temporary training directory\n"
     ]
    },
    {
     "name": "stderr",
     "output_type": "stream",
     "text": [
      "[WARNING 24-06-05 18:25:18.9937 CEST gradient_boosted_trees.cc:1840] \"goss_alpha\" set but \"sampling_method\" not equal to \"GOSS\".\n",
      "[WARNING 24-06-05 18:25:18.9937 CEST gradient_boosted_trees.cc:1851] \"goss_beta\" set but \"sampling_method\" not equal to \"GOSS\".\n",
      "[WARNING 24-06-05 18:25:18.9937 CEST gradient_boosted_trees.cc:1865] \"selective_gradient_boosting_ratio\" set but \"sampling_method\" not equal to \"SELGB\".\n"
     ]
    },
    {
     "name": "stdout",
     "output_type": "stream",
     "text": [
      "WARNING:tensorflow:6 out of the last 6 calls to <function CoreModel._consumes_training_examples_until_eof at 0x2977fb9a0> triggered tf.function retracing. Tracing is expensive and the excessive number of tracings could be due to (1) creating @tf.function repeatedly in a loop, (2) passing tensors with different shapes, (3) passing Python objects instead of tensors. For (1), please define your @tf.function outside of the loop. For (2), @tf.function has reduce_retracing=True option that can avoid unnecessary retracing. For (3), please refer to https://www.tensorflow.org/guide/function#controlling_retracing and https://www.tensorflow.org/api_docs/python/tf/function for  more details.\n"
     ]
    },
    {
     "name": "stderr",
     "output_type": "stream",
     "text": [
      "WARNING:tensorflow:6 out of the last 6 calls to <function CoreModel._consumes_training_examples_until_eof at 0x2977fb9a0> triggered tf.function retracing. Tracing is expensive and the excessive number of tracings could be due to (1) creating @tf.function repeatedly in a loop, (2) passing tensors with different shapes, (3) passing Python objects instead of tensors. For (1), please define your @tf.function outside of the loop. For (2), @tf.function has reduce_retracing=True option that can avoid unnecessary retracing. For (3), please refer to https://www.tensorflow.org/guide/function#controlling_retracing and https://www.tensorflow.org/api_docs/python/tf/function for  more details.\n",
      "[INFO 24-06-05 18:25:37.5782 CEST kernel.cc:1233] Loading model from path /var/folders/3r/pzt2_p_x2xdfl2057nxkp3nm0000gn/T/tmpemvd2p2r/model/ with prefix 136c007d290d4276\n"
     ]
    },
    {
     "name": "stdout",
     "output_type": "stream",
     "text": [
      "WARNING:tensorflow:6 out of the last 6 calls to <function InferenceCoreModel.make_predict_function.<locals>.predict_function_trained at 0x2d5ac3400> triggered tf.function retracing. Tracing is expensive and the excessive number of tracings could be due to (1) creating @tf.function repeatedly in a loop, (2) passing tensors with different shapes, (3) passing Python objects instead of tensors. For (1), please define your @tf.function outside of the loop. For (2), @tf.function has reduce_retracing=True option that can avoid unnecessary retracing. For (3), please refer to https://www.tensorflow.org/guide/function#controlling_retracing and https://www.tensorflow.org/api_docs/python/tf/function for  more details.\n"
     ]
    },
    {
     "name": "stderr",
     "output_type": "stream",
     "text": [
      "[INFO 24-06-05 18:25:38.1258 CEST decision_forest.cc:734] Model loaded with 17578 root(s), 317136 node(s), and 12 input feature(s).\n",
      "[INFO 24-06-05 18:25:38.1258 CEST abstract_model.cc:1344] Engine \"GradientBoostedTreesGeneric\" built\n",
      "[INFO 24-06-05 18:25:38.1258 CEST kernel.cc:1061] Use fast generic engine\n",
      "WARNING:tensorflow:6 out of the last 6 calls to <function InferenceCoreModel.make_predict_function.<locals>.predict_function_trained at 0x2d5ac3400> triggered tf.function retracing. Tracing is expensive and the excessive number of tracings could be due to (1) creating @tf.function repeatedly in a loop, (2) passing tensors with different shapes, (3) passing Python objects instead of tensors. For (1), please define your @tf.function outside of the loop. For (2), @tf.function has reduce_retracing=True option that can avoid unnecessary retracing. For (3), please refer to https://www.tensorflow.org/guide/function#controlling_retracing and https://www.tensorflow.org/api_docs/python/tf/function for  more details.\n"
     ]
    },
    {
     "name": "stdout",
     "output_type": "stream",
     "text": [
      "WARNING:tensorflow:6 out of the last 6 calls to <function InferenceCoreModel.yggdrasil_model_path_tensor at 0x2d5ac3910> triggered tf.function retracing. Tracing is expensive and the excessive number of tracings could be due to (1) creating @tf.function repeatedly in a loop, (2) passing tensors with different shapes, (3) passing Python objects instead of tensors. For (1), please define your @tf.function outside of the loop. For (2), @tf.function has reduce_retracing=True option that can avoid unnecessary retracing. For (3), please refer to https://www.tensorflow.org/guide/function#controlling_retracing and https://www.tensorflow.org/api_docs/python/tf/function for  more details.\n"
     ]
    },
    {
     "name": "stderr",
     "output_type": "stream",
     "text": [
      "WARNING:tensorflow:6 out of the last 6 calls to <function InferenceCoreModel.yggdrasil_model_path_tensor at 0x2d5ac3910> triggered tf.function retracing. Tracing is expensive and the excessive number of tracings could be due to (1) creating @tf.function repeatedly in a loop, (2) passing tensors with different shapes, (3) passing Python objects instead of tensors. For (1), please define your @tf.function outside of the loop. For (2), @tf.function has reduce_retracing=True option that can avoid unnecessary retracing. For (3), please refer to https://www.tensorflow.org/guide/function#controlling_retracing and https://www.tensorflow.org/api_docs/python/tf/function for  more details.\n"
     ]
    },
    {
     "name": "stdout",
     "output_type": "stream",
     "text": [
      "Use /var/folders/3r/pzt2_p_x2xdfl2057nxkp3nm0000gn/T/tmp07c0yo25 as temporary training directory\n"
     ]
    },
    {
     "name": "stderr",
     "output_type": "stream",
     "text": [
      "[WARNING 24-06-05 18:25:38.3166 CEST gradient_boosted_trees.cc:1840] \"goss_alpha\" set but \"sampling_method\" not equal to \"GOSS\".\n",
      "[WARNING 24-06-05 18:25:38.3166 CEST gradient_boosted_trees.cc:1851] \"goss_beta\" set but \"sampling_method\" not equal to \"GOSS\".\n",
      "[WARNING 24-06-05 18:25:38.3166 CEST gradient_boosted_trees.cc:1865] \"selective_gradient_boosting_ratio\" set but \"sampling_method\" not equal to \"SELGB\".\n",
      "[INFO 24-06-05 18:25:56.2776 CEST kernel.cc:1233] Loading model from path /var/folders/3r/pzt2_p_x2xdfl2057nxkp3nm0000gn/T/tmp07c0yo25/model/ with prefix 72c6d6c9c7e74835\n"
     ]
    },
    {
     "name": "stdout",
     "output_type": "stream",
     "text": [
      "Use /var/folders/3r/pzt2_p_x2xdfl2057nxkp3nm0000gn/T/tmp2gj9qs6a as temporary training directory\n"
     ]
    },
    {
     "name": "stderr",
     "output_type": "stream",
     "text": [
      "[INFO 24-06-05 18:25:56.8596 CEST decision_forest.cc:734] Model loaded with 17556 root(s), 354272 node(s), and 12 input feature(s).\n",
      "[INFO 24-06-05 18:25:56.8597 CEST abstract_model.cc:1344] Engine \"GradientBoostedTreesGeneric\" built\n",
      "[INFO 24-06-05 18:25:56.8597 CEST kernel.cc:1061] Use fast generic engine\n",
      "[WARNING 24-06-05 18:25:57.0437 CEST gradient_boosted_trees.cc:1840] \"goss_alpha\" set but \"sampling_method\" not equal to \"GOSS\".\n",
      "[WARNING 24-06-05 18:25:57.0437 CEST gradient_boosted_trees.cc:1851] \"goss_beta\" set but \"sampling_method\" not equal to \"GOSS\".\n",
      "[WARNING 24-06-05 18:25:57.0437 CEST gradient_boosted_trees.cc:1865] \"selective_gradient_boosting_ratio\" set but \"sampling_method\" not equal to \"SELGB\".\n",
      "[INFO 24-06-05 18:26:15.4379 CEST kernel.cc:1233] Loading model from path /var/folders/3r/pzt2_p_x2xdfl2057nxkp3nm0000gn/T/tmp2gj9qs6a/model/ with prefix 265a95d146a04bfd\n"
     ]
    },
    {
     "name": "stdout",
     "output_type": "stream",
     "text": [
      "Use /var/folders/3r/pzt2_p_x2xdfl2057nxkp3nm0000gn/T/tmpbo2tnfrw as temporary training directory\n"
     ]
    },
    {
     "name": "stderr",
     "output_type": "stream",
     "text": [
      "[INFO 24-06-05 18:26:16.0109 CEST decision_forest.cc:734] Model loaded with 17578 root(s), 336862 node(s), and 12 input feature(s).\n",
      "[INFO 24-06-05 18:26:16.0109 CEST abstract_model.cc:1344] Engine \"GradientBoostedTreesGeneric\" built\n",
      "[INFO 24-06-05 18:26:16.0109 CEST kernel.cc:1061] Use fast generic engine\n",
      "[WARNING 24-06-05 18:26:16.1893 CEST gradient_boosted_trees.cc:1840] \"goss_alpha\" set but \"sampling_method\" not equal to \"GOSS\".\n",
      "[WARNING 24-06-05 18:26:16.1893 CEST gradient_boosted_trees.cc:1851] \"goss_beta\" set but \"sampling_method\" not equal to \"GOSS\".\n",
      "[WARNING 24-06-05 18:26:16.1893 CEST gradient_boosted_trees.cc:1865] \"selective_gradient_boosting_ratio\" set but \"sampling_method\" not equal to \"SELGB\".\n",
      "[INFO 24-06-05 18:26:36.1391 CEST kernel.cc:1233] Loading model from path /var/folders/3r/pzt2_p_x2xdfl2057nxkp3nm0000gn/T/tmpbo2tnfrw/model/ with prefix 752986de35184c5b\n"
     ]
    },
    {
     "name": "stdout",
     "output_type": "stream",
     "text": [
      "Use /var/folders/3r/pzt2_p_x2xdfl2057nxkp3nm0000gn/T/tmpapm3j_f1 as temporary training directory\n"
     ]
    },
    {
     "name": "stderr",
     "output_type": "stream",
     "text": [
      "[INFO 24-06-05 18:26:36.6912 CEST decision_forest.cc:734] Model loaded with 17578 root(s), 308436 node(s), and 12 input feature(s).\n",
      "[INFO 24-06-05 18:26:36.6912 CEST abstract_model.cc:1344] Engine \"GradientBoostedTreesGeneric\" built\n",
      "[INFO 24-06-05 18:26:36.6913 CEST kernel.cc:1061] Use fast generic engine\n",
      "[WARNING 24-06-05 18:26:36.8802 CEST gradient_boosted_trees.cc:1840] \"goss_alpha\" set but \"sampling_method\" not equal to \"GOSS\".\n",
      "[WARNING 24-06-05 18:26:36.8802 CEST gradient_boosted_trees.cc:1851] \"goss_beta\" set but \"sampling_method\" not equal to \"GOSS\".\n",
      "[WARNING 24-06-05 18:26:36.8802 CEST gradient_boosted_trees.cc:1865] \"selective_gradient_boosting_ratio\" set but \"sampling_method\" not equal to \"SELGB\".\n",
      "[INFO 24-06-05 18:26:56.6837 CEST kernel.cc:1233] Loading model from path /var/folders/3r/pzt2_p_x2xdfl2057nxkp3nm0000gn/T/tmpapm3j_f1/model/ with prefix 3b3dd754b0ee409e\n"
     ]
    },
    {
     "name": "stdout",
     "output_type": "stream",
     "text": [
      "Use /var/folders/3r/pzt2_p_x2xdfl2057nxkp3nm0000gn/T/tmp6gtdc8jh as temporary training directory\n"
     ]
    },
    {
     "name": "stderr",
     "output_type": "stream",
     "text": [
      "[INFO 24-06-05 18:26:57.2364 CEST decision_forest.cc:734] Model loaded with 17578 root(s), 321286 node(s), and 12 input feature(s).\n",
      "[INFO 24-06-05 18:26:57.2364 CEST abstract_model.cc:1344] Engine \"GradientBoostedTreesGeneric\" built\n",
      "[INFO 24-06-05 18:26:57.2364 CEST kernel.cc:1061] Use fast generic engine\n",
      "[WARNING 24-06-05 18:26:57.4296 CEST gradient_boosted_trees.cc:1840] \"goss_alpha\" set but \"sampling_method\" not equal to \"GOSS\".\n",
      "[WARNING 24-06-05 18:26:57.4296 CEST gradient_boosted_trees.cc:1851] \"goss_beta\" set but \"sampling_method\" not equal to \"GOSS\".\n",
      "[WARNING 24-06-05 18:26:57.4296 CEST gradient_boosted_trees.cc:1865] \"selective_gradient_boosting_ratio\" set but \"sampling_method\" not equal to \"SELGB\".\n",
      "[INFO 24-06-05 18:27:18.3762 CEST kernel.cc:1233] Loading model from path /var/folders/3r/pzt2_p_x2xdfl2057nxkp3nm0000gn/T/tmp6gtdc8jh/model/ with prefix 19df1ae1aa424119\n",
      "[INFO 24-06-05 18:27:18.9501 CEST decision_forest.cc:734] Model loaded with 17578 root(s), 340650 node(s), and 12 input feature(s).\n",
      "[INFO 24-06-05 18:27:18.9501 CEST abstract_model.cc:1344] Engine \"GradientBoostedTreesGeneric\" built\n",
      "[INFO 24-06-05 18:27:18.9501 CEST kernel.cc:1061] Use fast generic engine\n"
     ]
    },
    {
     "name": "stdout",
     "output_type": "stream",
     "text": [
      "Use /var/folders/3r/pzt2_p_x2xdfl2057nxkp3nm0000gn/T/tmpk02siqsh as temporary training directory\n"
     ]
    },
    {
     "name": "stderr",
     "output_type": "stream",
     "text": [
      "[WARNING 24-06-05 18:27:19.2262 CEST gradient_boosted_trees.cc:1840] \"goss_alpha\" set but \"sampling_method\" not equal to \"GOSS\".\n",
      "[WARNING 24-06-05 18:27:19.2262 CEST gradient_boosted_trees.cc:1851] \"goss_beta\" set but \"sampling_method\" not equal to \"GOSS\".\n",
      "[WARNING 24-06-05 18:27:19.2262 CEST gradient_boosted_trees.cc:1865] \"selective_gradient_boosting_ratio\" set but \"sampling_method\" not equal to \"SELGB\".\n",
      "[INFO 24-06-05 18:27:40.0659 CEST kernel.cc:1233] Loading model from path /var/folders/3r/pzt2_p_x2xdfl2057nxkp3nm0000gn/T/tmpk02siqsh/model/ with prefix 862b4c5078f24681\n"
     ]
    },
    {
     "name": "stdout",
     "output_type": "stream",
     "text": [
      "Use /var/folders/3r/pzt2_p_x2xdfl2057nxkp3nm0000gn/T/tmp4x3wpome as temporary training directory\n"
     ]
    },
    {
     "name": "stderr",
     "output_type": "stream",
     "text": [
      "[INFO 24-06-05 18:27:40.6237 CEST decision_forest.cc:734] Model loaded with 17578 root(s), 327524 node(s), and 12 input feature(s).\n",
      "[INFO 24-06-05 18:27:40.6237 CEST abstract_model.cc:1344] Engine \"GradientBoostedTreesGeneric\" built\n",
      "[INFO 24-06-05 18:27:40.6237 CEST kernel.cc:1061] Use fast generic engine\n",
      "[WARNING 24-06-05 18:27:40.8007 CEST gradient_boosted_trees.cc:1840] \"goss_alpha\" set but \"sampling_method\" not equal to \"GOSS\".\n",
      "[WARNING 24-06-05 18:27:40.8007 CEST gradient_boosted_trees.cc:1851] \"goss_beta\" set but \"sampling_method\" not equal to \"GOSS\".\n",
      "[WARNING 24-06-05 18:27:40.8007 CEST gradient_boosted_trees.cc:1865] \"selective_gradient_boosting_ratio\" set but \"sampling_method\" not equal to \"SELGB\".\n",
      "[INFO 24-06-05 18:28:03.1118 CEST kernel.cc:1233] Loading model from path /var/folders/3r/pzt2_p_x2xdfl2057nxkp3nm0000gn/T/tmp4x3wpome/model/ with prefix 0a7e5eca9c704eee\n",
      "[INFO 24-06-05 18:28:03.6598 CEST decision_forest.cc:734] Model loaded with 17578 root(s), 313148 node(s), and 12 input feature(s).\n",
      "[INFO 24-06-05 18:28:03.6598 CEST abstract_model.cc:1344] Engine \"GradientBoostedTreesGeneric\" built\n",
      "[INFO 24-06-05 18:28:03.6598 CEST kernel.cc:1061] Use fast generic engine\n"
     ]
    },
    {
     "name": "stdout",
     "output_type": "stream",
     "text": [
      "Use /var/folders/3r/pzt2_p_x2xdfl2057nxkp3nm0000gn/T/tmpbynikkf9 as temporary training directory\n"
     ]
    },
    {
     "name": "stderr",
     "output_type": "stream",
     "text": [
      "[WARNING 24-06-05 18:28:03.8674 CEST gradient_boosted_trees.cc:1840] \"goss_alpha\" set but \"sampling_method\" not equal to \"GOSS\".\n",
      "[WARNING 24-06-05 18:28:03.8674 CEST gradient_boosted_trees.cc:1851] \"goss_beta\" set but \"sampling_method\" not equal to \"GOSS\".\n",
      "[WARNING 24-06-05 18:28:03.8674 CEST gradient_boosted_trees.cc:1865] \"selective_gradient_boosting_ratio\" set but \"sampling_method\" not equal to \"SELGB\".\n",
      "[INFO 24-06-05 18:28:29.9464 CEST kernel.cc:1233] Loading model from path /var/folders/3r/pzt2_p_x2xdfl2057nxkp3nm0000gn/T/tmpbynikkf9/model/ with prefix 48f21d1a48654ec7\n"
     ]
    },
    {
     "name": "stdout",
     "output_type": "stream",
     "text": [
      "Use /var/folders/3r/pzt2_p_x2xdfl2057nxkp3nm0000gn/T/tmpp4_ajwne as temporary training directory\n"
     ]
    },
    {
     "name": "stderr",
     "output_type": "stream",
     "text": [
      "[INFO 24-06-05 18:28:30.4999 CEST decision_forest.cc:734] Model loaded with 17578 root(s), 331820 node(s), and 12 input feature(s).\n",
      "[INFO 24-06-05 18:28:30.5000 CEST abstract_model.cc:1344] Engine \"GradientBoostedTreesGeneric\" built\n",
      "[INFO 24-06-05 18:28:30.5000 CEST kernel.cc:1061] Use fast generic engine\n",
      "[WARNING 24-06-05 18:28:30.6991 CEST gradient_boosted_trees.cc:1840] \"goss_alpha\" set but \"sampling_method\" not equal to \"GOSS\".\n",
      "[WARNING 24-06-05 18:28:30.6991 CEST gradient_boosted_trees.cc:1851] \"goss_beta\" set but \"sampling_method\" not equal to \"GOSS\".\n",
      "[WARNING 24-06-05 18:28:30.6991 CEST gradient_boosted_trees.cc:1865] \"selective_gradient_boosting_ratio\" set but \"sampling_method\" not equal to \"SELGB\".\n",
      "[INFO 24-06-05 18:28:56.1519 CEST kernel.cc:1233] Loading model from path /var/folders/3r/pzt2_p_x2xdfl2057nxkp3nm0000gn/T/tmpp4_ajwne/model/ with prefix 5f95a1100d9e4f55\n"
     ]
    },
    {
     "name": "stdout",
     "output_type": "stream",
     "text": [
      "Use /var/folders/3r/pzt2_p_x2xdfl2057nxkp3nm0000gn/T/tmp1rpmj_om as temporary training directory\n"
     ]
    },
    {
     "name": "stderr",
     "output_type": "stream",
     "text": [
      "[INFO 24-06-05 18:28:56.7027 CEST decision_forest.cc:734] Model loaded with 17578 root(s), 324728 node(s), and 12 input feature(s).\n",
      "[INFO 24-06-05 18:28:56.7027 CEST abstract_model.cc:1344] Engine \"GradientBoostedTreesGeneric\" built\n",
      "[INFO 24-06-05 18:28:56.7027 CEST kernel.cc:1061] Use fast generic engine\n",
      "[WARNING 24-06-05 18:28:56.8986 CEST gradient_boosted_trees.cc:1840] \"goss_alpha\" set but \"sampling_method\" not equal to \"GOSS\".\n",
      "[WARNING 24-06-05 18:28:56.8986 CEST gradient_boosted_trees.cc:1851] \"goss_beta\" set but \"sampling_method\" not equal to \"GOSS\".\n",
      "[WARNING 24-06-05 18:28:56.8986 CEST gradient_boosted_trees.cc:1865] \"selective_gradient_boosting_ratio\" set but \"sampling_method\" not equal to \"SELGB\".\n",
      "[INFO 24-06-05 18:29:18.4225 CEST kernel.cc:1233] Loading model from path /var/folders/3r/pzt2_p_x2xdfl2057nxkp3nm0000gn/T/tmp1rpmj_om/model/ with prefix f744339ed5594a14\n",
      "[INFO 24-06-05 18:29:19.0046 CEST decision_forest.cc:734] Model loaded with 17578 root(s), 339530 node(s), and 12 input feature(s).\n",
      "[INFO 24-06-05 18:29:19.0046 CEST abstract_model.cc:1344] Engine \"GradientBoostedTreesGeneric\" built\n",
      "[INFO 24-06-05 18:29:19.0046 CEST kernel.cc:1061] Use fast generic engine\n"
     ]
    },
    {
     "name": "stdout",
     "output_type": "stream",
     "text": [
      "Use /var/folders/3r/pzt2_p_x2xdfl2057nxkp3nm0000gn/T/tmp_40d_5qm as temporary training directory\n"
     ]
    },
    {
     "name": "stderr",
     "output_type": "stream",
     "text": [
      "[WARNING 24-06-05 18:29:19.2129 CEST gradient_boosted_trees.cc:1840] \"goss_alpha\" set but \"sampling_method\" not equal to \"GOSS\".\n",
      "[WARNING 24-06-05 18:29:19.2129 CEST gradient_boosted_trees.cc:1851] \"goss_beta\" set but \"sampling_method\" not equal to \"GOSS\".\n",
      "[WARNING 24-06-05 18:29:19.2129 CEST gradient_boosted_trees.cc:1865] \"selective_gradient_boosting_ratio\" set but \"sampling_method\" not equal to \"SELGB\".\n",
      "[INFO 24-06-05 18:29:36.8081 CEST kernel.cc:1233] Loading model from path /var/folders/3r/pzt2_p_x2xdfl2057nxkp3nm0000gn/T/tmp_40d_5qm/model/ with prefix b1401a33271d4a43\n"
     ]
    },
    {
     "name": "stdout",
     "output_type": "stream",
     "text": [
      "Use /var/folders/3r/pzt2_p_x2xdfl2057nxkp3nm0000gn/T/tmpd4yyz4k9 as temporary training directory\n"
     ]
    },
    {
     "name": "stderr",
     "output_type": "stream",
     "text": [
      "[INFO 24-06-05 18:29:37.3756 CEST decision_forest.cc:734] Model loaded with 17556 root(s), 338824 node(s), and 12 input feature(s).\n",
      "[INFO 24-06-05 18:29:37.3756 CEST abstract_model.cc:1344] Engine \"GradientBoostedTreesGeneric\" built\n",
      "[INFO 24-06-05 18:29:37.3756 CEST kernel.cc:1061] Use fast generic engine\n",
      "[WARNING 24-06-05 18:29:37.5594 CEST gradient_boosted_trees.cc:1840] \"goss_alpha\" set but \"sampling_method\" not equal to \"GOSS\".\n",
      "[WARNING 24-06-05 18:29:37.5594 CEST gradient_boosted_trees.cc:1851] \"goss_beta\" set but \"sampling_method\" not equal to \"GOSS\".\n",
      "[WARNING 24-06-05 18:29:37.5594 CEST gradient_boosted_trees.cc:1865] \"selective_gradient_boosting_ratio\" set but \"sampling_method\" not equal to \"SELGB\".\n",
      "[INFO 24-06-05 18:29:55.6834 CEST kernel.cc:1233] Loading model from path /var/folders/3r/pzt2_p_x2xdfl2057nxkp3nm0000gn/T/tmpd4yyz4k9/model/ with prefix fd401274a0044c24\n"
     ]
    },
    {
     "name": "stdout",
     "output_type": "stream",
     "text": [
      "Use /var/folders/3r/pzt2_p_x2xdfl2057nxkp3nm0000gn/T/tmpubks1usj as temporary training directory\n"
     ]
    },
    {
     "name": "stderr",
     "output_type": "stream",
     "text": [
      "[INFO 24-06-05 18:29:56.2461 CEST decision_forest.cc:734] Model loaded with 17578 root(s), 327974 node(s), and 12 input feature(s).\n",
      "[INFO 24-06-05 18:29:56.2461 CEST abstract_model.cc:1344] Engine \"GradientBoostedTreesGeneric\" built\n",
      "[INFO 24-06-05 18:29:56.2461 CEST kernel.cc:1061] Use fast generic engine\n",
      "[WARNING 24-06-05 18:29:56.4285 CEST gradient_boosted_trees.cc:1840] \"goss_alpha\" set but \"sampling_method\" not equal to \"GOSS\".\n",
      "[WARNING 24-06-05 18:29:56.4285 CEST gradient_boosted_trees.cc:1851] \"goss_beta\" set but \"sampling_method\" not equal to \"GOSS\".\n",
      "[WARNING 24-06-05 18:29:56.4285 CEST gradient_boosted_trees.cc:1865] \"selective_gradient_boosting_ratio\" set but \"sampling_method\" not equal to \"SELGB\".\n",
      "[INFO 24-06-05 18:30:15.1976 CEST kernel.cc:1233] Loading model from path /var/folders/3r/pzt2_p_x2xdfl2057nxkp3nm0000gn/T/tmpubks1usj/model/ with prefix 99198365180e4f01\n"
     ]
    },
    {
     "name": "stdout",
     "output_type": "stream",
     "text": [
      "Use /var/folders/3r/pzt2_p_x2xdfl2057nxkp3nm0000gn/T/tmprd9p73hg as temporary training directory\n"
     ]
    },
    {
     "name": "stderr",
     "output_type": "stream",
     "text": [
      "[INFO 24-06-05 18:30:15.7723 CEST decision_forest.cc:734] Model loaded with 17578 root(s), 350046 node(s), and 12 input feature(s).\n",
      "[INFO 24-06-05 18:30:15.7723 CEST abstract_model.cc:1344] Engine \"GradientBoostedTreesGeneric\" built\n",
      "[INFO 24-06-05 18:30:15.7723 CEST kernel.cc:1061] Use fast generic engine\n",
      "[WARNING 24-06-05 18:30:15.9652 CEST gradient_boosted_trees.cc:1840] \"goss_alpha\" set but \"sampling_method\" not equal to \"GOSS\".\n",
      "[WARNING 24-06-05 18:30:15.9652 CEST gradient_boosted_trees.cc:1851] \"goss_beta\" set but \"sampling_method\" not equal to \"GOSS\".\n",
      "[WARNING 24-06-05 18:30:15.9652 CEST gradient_boosted_trees.cc:1865] \"selective_gradient_boosting_ratio\" set but \"sampling_method\" not equal to \"SELGB\".\n",
      "[INFO 24-06-05 18:30:36.8150 CEST kernel.cc:1233] Loading model from path /var/folders/3r/pzt2_p_x2xdfl2057nxkp3nm0000gn/T/tmprd9p73hg/model/ with prefix 2aec26e5e95142f5\n"
     ]
    },
    {
     "name": "stdout",
     "output_type": "stream",
     "text": [
      "Use /var/folders/3r/pzt2_p_x2xdfl2057nxkp3nm0000gn/T/tmpjh6jv3pj as temporary training directory\n"
     ]
    },
    {
     "name": "stderr",
     "output_type": "stream",
     "text": [
      "[INFO 24-06-05 18:30:37.3540 CEST decision_forest.cc:734] Model loaded with 17578 root(s), 318332 node(s), and 12 input feature(s).\n",
      "[INFO 24-06-05 18:30:37.3541 CEST abstract_model.cc:1344] Engine \"GradientBoostedTreesGeneric\" built\n",
      "[INFO 24-06-05 18:30:37.3541 CEST kernel.cc:1061] Use fast generic engine\n",
      "[WARNING 24-06-05 18:30:37.5475 CEST gradient_boosted_trees.cc:1840] \"goss_alpha\" set but \"sampling_method\" not equal to \"GOSS\".\n",
      "[WARNING 24-06-05 18:30:37.5476 CEST gradient_boosted_trees.cc:1851] \"goss_beta\" set but \"sampling_method\" not equal to \"GOSS\".\n",
      "[WARNING 24-06-05 18:30:37.5476 CEST gradient_boosted_trees.cc:1865] \"selective_gradient_boosting_ratio\" set but \"sampling_method\" not equal to \"SELGB\".\n",
      "[INFO 24-06-05 18:30:59.5854 CEST kernel.cc:1233] Loading model from path /var/folders/3r/pzt2_p_x2xdfl2057nxkp3nm0000gn/T/tmpjh6jv3pj/model/ with prefix baec611fd1dd4005\n"
     ]
    },
    {
     "name": "stdout",
     "output_type": "stream",
     "text": [
      "Use /var/folders/3r/pzt2_p_x2xdfl2057nxkp3nm0000gn/T/tmppai42mas as temporary training directory\n"
     ]
    },
    {
     "name": "stderr",
     "output_type": "stream",
     "text": [
      "[INFO 24-06-05 18:31:00.1293 CEST decision_forest.cc:734] Model loaded with 17578 root(s), 315808 node(s), and 12 input feature(s).\n",
      "[INFO 24-06-05 18:31:00.1293 CEST abstract_model.cc:1344] Engine \"GradientBoostedTreesGeneric\" built\n",
      "[INFO 24-06-05 18:31:00.1293 CEST kernel.cc:1061] Use fast generic engine\n",
      "[WARNING 24-06-05 18:31:00.3221 CEST gradient_boosted_trees.cc:1840] \"goss_alpha\" set but \"sampling_method\" not equal to \"GOSS\".\n",
      "[WARNING 24-06-05 18:31:00.3221 CEST gradient_boosted_trees.cc:1851] \"goss_beta\" set but \"sampling_method\" not equal to \"GOSS\".\n",
      "[WARNING 24-06-05 18:31:00.3221 CEST gradient_boosted_trees.cc:1865] \"selective_gradient_boosting_ratio\" set but \"sampling_method\" not equal to \"SELGB\".\n",
      "[INFO 24-06-05 18:31:21.6897 CEST kernel.cc:1233] Loading model from path /var/folders/3r/pzt2_p_x2xdfl2057nxkp3nm0000gn/T/tmppai42mas/model/ with prefix c702500a5c894f6b\n",
      "[INFO 24-06-05 18:31:22.2738 CEST decision_forest.cc:734] Model loaded with 17578 root(s), 353818 node(s), and 12 input feature(s).\n",
      "[INFO 24-06-05 18:31:22.2738 CEST abstract_model.cc:1344] Engine \"GradientBoostedTreesGeneric\" built\n",
      "[INFO 24-06-05 18:31:22.2739 CEST kernel.cc:1061] Use fast generic engine\n"
     ]
    },
    {
     "name": "stdout",
     "output_type": "stream",
     "text": [
      "Use /var/folders/3r/pzt2_p_x2xdfl2057nxkp3nm0000gn/T/tmpomwuvu5u as temporary training directory\n"
     ]
    },
    {
     "name": "stderr",
     "output_type": "stream",
     "text": [
      "[WARNING 24-06-05 18:31:22.4866 CEST gradient_boosted_trees.cc:1840] \"goss_alpha\" set but \"sampling_method\" not equal to \"GOSS\".\n",
      "[WARNING 24-06-05 18:31:22.4866 CEST gradient_boosted_trees.cc:1851] \"goss_beta\" set but \"sampling_method\" not equal to \"GOSS\".\n",
      "[WARNING 24-06-05 18:31:22.4866 CEST gradient_boosted_trees.cc:1865] \"selective_gradient_boosting_ratio\" set but \"sampling_method\" not equal to \"SELGB\".\n",
      "[INFO 24-06-05 18:31:41.4067 CEST kernel.cc:1233] Loading model from path /var/folders/3r/pzt2_p_x2xdfl2057nxkp3nm0000gn/T/tmpomwuvu5u/model/ with prefix ad90e20815314e82\n"
     ]
    },
    {
     "name": "stdout",
     "output_type": "stream",
     "text": [
      "Use /var/folders/3r/pzt2_p_x2xdfl2057nxkp3nm0000gn/T/tmppxefwyxi as temporary training directory\n"
     ]
    },
    {
     "name": "stderr",
     "output_type": "stream",
     "text": [
      "[INFO 24-06-05 18:31:41.9460 CEST decision_forest.cc:734] Model loaded with 17578 root(s), 320342 node(s), and 12 input feature(s).\n",
      "[INFO 24-06-05 18:31:41.9461 CEST abstract_model.cc:1344] Engine \"GradientBoostedTreesGeneric\" built\n",
      "[INFO 24-06-05 18:31:41.9461 CEST kernel.cc:1061] Use fast generic engine\n",
      "[WARNING 24-06-05 18:31:42.1360 CEST gradient_boosted_trees.cc:1840] \"goss_alpha\" set but \"sampling_method\" not equal to \"GOSS\".\n",
      "[WARNING 24-06-05 18:31:42.1361 CEST gradient_boosted_trees.cc:1851] \"goss_beta\" set but \"sampling_method\" not equal to \"GOSS\".\n",
      "[WARNING 24-06-05 18:31:42.1361 CEST gradient_boosted_trees.cc:1865] \"selective_gradient_boosting_ratio\" set but \"sampling_method\" not equal to \"SELGB\".\n",
      "[INFO 24-06-05 18:32:04.3473 CEST kernel.cc:1233] Loading model from path /var/folders/3r/pzt2_p_x2xdfl2057nxkp3nm0000gn/T/tmppxefwyxi/model/ with prefix c43b32142ab34d67\n"
     ]
    },
    {
     "name": "stdout",
     "output_type": "stream",
     "text": [
      "Use /var/folders/3r/pzt2_p_x2xdfl2057nxkp3nm0000gn/T/tmpnqdw5t5d as temporary training directory\n"
     ]
    },
    {
     "name": "stderr",
     "output_type": "stream",
     "text": [
      "[INFO 24-06-05 18:32:04.8901 CEST decision_forest.cc:734] Model loaded with 17578 root(s), 315278 node(s), and 12 input feature(s).\n",
      "[INFO 24-06-05 18:32:04.8901 CEST abstract_model.cc:1344] Engine \"GradientBoostedTreesGeneric\" built\n",
      "[INFO 24-06-05 18:32:04.8901 CEST kernel.cc:1061] Use fast generic engine\n",
      "[WARNING 24-06-05 18:32:05.0810 CEST gradient_boosted_trees.cc:1840] \"goss_alpha\" set but \"sampling_method\" not equal to \"GOSS\".\n",
      "[WARNING 24-06-05 18:32:05.0811 CEST gradient_boosted_trees.cc:1851] \"goss_beta\" set but \"sampling_method\" not equal to \"GOSS\".\n",
      "[WARNING 24-06-05 18:32:05.0811 CEST gradient_boosted_trees.cc:1865] \"selective_gradient_boosting_ratio\" set but \"sampling_method\" not equal to \"SELGB\".\n",
      "[INFO 24-06-05 18:32:25.3956 CEST kernel.cc:1233] Loading model from path /var/folders/3r/pzt2_p_x2xdfl2057nxkp3nm0000gn/T/tmpnqdw5t5d/model/ with prefix 17db70c2fdd74fb8\n"
     ]
    },
    {
     "name": "stdout",
     "output_type": "stream",
     "text": [
      "Use /var/folders/3r/pzt2_p_x2xdfl2057nxkp3nm0000gn/T/tmp8gcehfaj as temporary training directory\n"
     ]
    },
    {
     "name": "stderr",
     "output_type": "stream",
     "text": [
      "[INFO 24-06-05 18:32:25.9474 CEST decision_forest.cc:734] Model loaded with 17578 root(s), 328722 node(s), and 12 input feature(s).\n",
      "[INFO 24-06-05 18:32:25.9474 CEST abstract_model.cc:1344] Engine \"GradientBoostedTreesGeneric\" built\n",
      "[INFO 24-06-05 18:32:25.9474 CEST kernel.cc:1061] Use fast generic engine\n",
      "[WARNING 24-06-05 18:32:26.1371 CEST gradient_boosted_trees.cc:1840] \"goss_alpha\" set but \"sampling_method\" not equal to \"GOSS\".\n",
      "[WARNING 24-06-05 18:32:26.1371 CEST gradient_boosted_trees.cc:1851] \"goss_beta\" set but \"sampling_method\" not equal to \"GOSS\".\n",
      "[WARNING 24-06-05 18:32:26.1371 CEST gradient_boosted_trees.cc:1865] \"selective_gradient_boosting_ratio\" set but \"sampling_method\" not equal to \"SELGB\".\n",
      "[INFO 24-06-05 18:32:46.4480 CEST kernel.cc:1233] Loading model from path /var/folders/3r/pzt2_p_x2xdfl2057nxkp3nm0000gn/T/tmp8gcehfaj/model/ with prefix 450f330706194f20\n",
      "[INFO 24-06-05 18:32:46.9650 CEST decision_forest.cc:734] Model loaded with 17578 root(s), 293456 node(s), and 12 input feature(s).\n",
      "[INFO 24-06-05 18:32:46.9651 CEST abstract_model.cc:1344] Engine \"GradientBoostedTreesGeneric\" built\n",
      "[INFO 24-06-05 18:32:46.9651 CEST kernel.cc:1061] Use fast generic engine\n"
     ]
    },
    {
     "name": "stdout",
     "output_type": "stream",
     "text": [
      "Use /var/folders/3r/pzt2_p_x2xdfl2057nxkp3nm0000gn/T/tmpjl463vx1 as temporary training directory\n"
     ]
    },
    {
     "name": "stderr",
     "output_type": "stream",
     "text": [
      "[WARNING 24-06-05 18:32:47.2675 CEST gradient_boosted_trees.cc:1840] \"goss_alpha\" set but \"sampling_method\" not equal to \"GOSS\".\n",
      "[WARNING 24-06-05 18:32:47.2675 CEST gradient_boosted_trees.cc:1851] \"goss_beta\" set but \"sampling_method\" not equal to \"GOSS\".\n",
      "[WARNING 24-06-05 18:32:47.2675 CEST gradient_boosted_trees.cc:1865] \"selective_gradient_boosting_ratio\" set but \"sampling_method\" not equal to \"SELGB\".\n",
      "[INFO 24-06-05 18:33:07.9020 CEST kernel.cc:1233] Loading model from path /var/folders/3r/pzt2_p_x2xdfl2057nxkp3nm0000gn/T/tmpjl463vx1/model/ with prefix cbea3f7cbeba4a06\n",
      "[INFO 24-06-05 18:33:08.5350 CEST decision_forest.cc:734] Model loaded with 17556 root(s), 356466 node(s), and 12 input feature(s).\n",
      "[INFO 24-06-05 18:33:08.5350 CEST abstract_model.cc:1344] Engine \"GradientBoostedTreesGeneric\" built\n",
      "[INFO 24-06-05 18:33:08.5350 CEST kernel.cc:1061] Use fast generic engine\n"
     ]
    },
    {
     "name": "stdout",
     "output_type": "stream",
     "text": [
      "Use /var/folders/3r/pzt2_p_x2xdfl2057nxkp3nm0000gn/T/tmpkhse6kha as temporary training directory\n"
     ]
    },
    {
     "name": "stderr",
     "output_type": "stream",
     "text": [
      "[WARNING 24-06-05 18:33:08.7393 CEST gradient_boosted_trees.cc:1840] \"goss_alpha\" set but \"sampling_method\" not equal to \"GOSS\".\n",
      "[WARNING 24-06-05 18:33:08.7393 CEST gradient_boosted_trees.cc:1851] \"goss_beta\" set but \"sampling_method\" not equal to \"GOSS\".\n",
      "[WARNING 24-06-05 18:33:08.7393 CEST gradient_boosted_trees.cc:1865] \"selective_gradient_boosting_ratio\" set but \"sampling_method\" not equal to \"SELGB\".\n",
      "[INFO 24-06-05 18:33:30.0771 CEST kernel.cc:1233] Loading model from path /var/folders/3r/pzt2_p_x2xdfl2057nxkp3nm0000gn/T/tmpkhse6kha/model/ with prefix 5576411ee23c486e\n"
     ]
    },
    {
     "name": "stdout",
     "output_type": "stream",
     "text": [
      "Use /var/folders/3r/pzt2_p_x2xdfl2057nxkp3nm0000gn/T/tmprqzy4bym as temporary training directory\n"
     ]
    },
    {
     "name": "stderr",
     "output_type": "stream",
     "text": [
      "[INFO 24-06-05 18:33:30.6482 CEST decision_forest.cc:734] Model loaded with 17578 root(s), 325402 node(s), and 12 input feature(s).\n",
      "[INFO 24-06-05 18:33:30.6482 CEST abstract_model.cc:1344] Engine \"GradientBoostedTreesGeneric\" built\n",
      "[INFO 24-06-05 18:33:30.6482 CEST kernel.cc:1061] Use fast generic engine\n",
      "[WARNING 24-06-05 18:33:30.8473 CEST gradient_boosted_trees.cc:1840] \"goss_alpha\" set but \"sampling_method\" not equal to \"GOSS\".\n",
      "[WARNING 24-06-05 18:33:30.8474 CEST gradient_boosted_trees.cc:1851] \"goss_beta\" set but \"sampling_method\" not equal to \"GOSS\".\n",
      "[WARNING 24-06-05 18:33:30.8474 CEST gradient_boosted_trees.cc:1865] \"selective_gradient_boosting_ratio\" set but \"sampling_method\" not equal to \"SELGB\".\n",
      "[INFO 24-06-05 18:33:51.1805 CEST kernel.cc:1233] Loading model from path /var/folders/3r/pzt2_p_x2xdfl2057nxkp3nm0000gn/T/tmprqzy4bym/model/ with prefix 8a15c7d282614485\n",
      "[INFO 24-06-05 18:33:51.7595 CEST decision_forest.cc:734] Model loaded with 17578 root(s), 346478 node(s), and 12 input feature(s).\n",
      "[INFO 24-06-05 18:33:51.7595 CEST abstract_model.cc:1344] Engine \"GradientBoostedTreesGeneric\" built\n",
      "[INFO 24-06-05 18:33:51.7595 CEST kernel.cc:1061] Use fast generic engine\n"
     ]
    },
    {
     "name": "stdout",
     "output_type": "stream",
     "text": [
      "Use /var/folders/3r/pzt2_p_x2xdfl2057nxkp3nm0000gn/T/tmpe2ssuwqm as temporary training directory\n"
     ]
    },
    {
     "name": "stderr",
     "output_type": "stream",
     "text": [
      "[WARNING 24-06-05 18:33:52.0271 CEST gradient_boosted_trees.cc:1840] \"goss_alpha\" set but \"sampling_method\" not equal to \"GOSS\".\n",
      "[WARNING 24-06-05 18:33:52.0272 CEST gradient_boosted_trees.cc:1851] \"goss_beta\" set but \"sampling_method\" not equal to \"GOSS\".\n",
      "[WARNING 24-06-05 18:33:52.0272 CEST gradient_boosted_trees.cc:1865] \"selective_gradient_boosting_ratio\" set but \"sampling_method\" not equal to \"SELGB\".\n",
      "[INFO 24-06-05 18:34:11.8590 CEST kernel.cc:1233] Loading model from path /var/folders/3r/pzt2_p_x2xdfl2057nxkp3nm0000gn/T/tmpe2ssuwqm/model/ with prefix 8656b48b6ec7483e\n"
     ]
    },
    {
     "name": "stdout",
     "output_type": "stream",
     "text": [
      "Use /var/folders/3r/pzt2_p_x2xdfl2057nxkp3nm0000gn/T/tmpf9fhm_oj as temporary training directory\n"
     ]
    },
    {
     "name": "stderr",
     "output_type": "stream",
     "text": [
      "[INFO 24-06-05 18:34:12.4463 CEST decision_forest.cc:734] Model loaded with 17578 root(s), 333904 node(s), and 12 input feature(s).\n",
      "[INFO 24-06-05 18:34:12.4464 CEST abstract_model.cc:1344] Engine \"GradientBoostedTreesGeneric\" built\n",
      "[INFO 24-06-05 18:34:12.4464 CEST kernel.cc:1061] Use fast generic engine\n",
      "[WARNING 24-06-05 18:34:12.6319 CEST gradient_boosted_trees.cc:1840] \"goss_alpha\" set but \"sampling_method\" not equal to \"GOSS\".\n",
      "[WARNING 24-06-05 18:34:12.6319 CEST gradient_boosted_trees.cc:1851] \"goss_beta\" set but \"sampling_method\" not equal to \"GOSS\".\n",
      "[WARNING 24-06-05 18:34:12.6319 CEST gradient_boosted_trees.cc:1865] \"selective_gradient_boosting_ratio\" set but \"sampling_method\" not equal to \"SELGB\".\n",
      "[INFO 24-06-05 18:34:32.8987 CEST kernel.cc:1233] Loading model from path /var/folders/3r/pzt2_p_x2xdfl2057nxkp3nm0000gn/T/tmpf9fhm_oj/model/ with prefix 13ee6bedc31249e6\n"
     ]
    },
    {
     "name": "stdout",
     "output_type": "stream",
     "text": [
      "Use /var/folders/3r/pzt2_p_x2xdfl2057nxkp3nm0000gn/T/tmpweam7b59 as temporary training directory\n"
     ]
    },
    {
     "name": "stderr",
     "output_type": "stream",
     "text": [
      "[INFO 24-06-05 18:34:33.4605 CEST decision_forest.cc:734] Model loaded with 17556 root(s), 313052 node(s), and 12 input feature(s).\n",
      "[INFO 24-06-05 18:34:33.4605 CEST abstract_model.cc:1344] Engine \"GradientBoostedTreesGeneric\" built\n",
      "[INFO 24-06-05 18:34:33.4605 CEST kernel.cc:1061] Use fast generic engine\n",
      "[WARNING 24-06-05 18:34:33.6440 CEST gradient_boosted_trees.cc:1840] \"goss_alpha\" set but \"sampling_method\" not equal to \"GOSS\".\n",
      "[WARNING 24-06-05 18:34:33.6440 CEST gradient_boosted_trees.cc:1851] \"goss_beta\" set but \"sampling_method\" not equal to \"GOSS\".\n",
      "[WARNING 24-06-05 18:34:33.6440 CEST gradient_boosted_trees.cc:1865] \"selective_gradient_boosting_ratio\" set but \"sampling_method\" not equal to \"SELGB\".\n"
     ]
    }
   ],
   "source": [
    "gbt_model.fit(X_train_scaled, y_train)"
   ],
   "metadata": {
    "collapsed": false,
    "is_executing": true,
    "ExecuteTime": {
     "start_time": "2024-06-05T16:23:33.350308Z"
    }
   },
   "id": "d75aa6cb330d0ec"
  },
  {
   "cell_type": "code",
   "execution_count": null,
   "outputs": [],
   "source": [
    "prediction = gbt_model.predict_mean(X_test_scaled)"
   ],
   "metadata": {
    "collapsed": false
   },
   "id": "3dfb30a3e677956e"
  },
  {
   "cell_type": "code",
   "execution_count": 34,
   "outputs": [
    {
     "name": "stderr",
     "output_type": "stream",
     "text": [
      "2024-06-05 16:00:20.332044: W tensorflow/core/framework/local_rendezvous.cc:404] Local rendezvous is aborting with status: INVALID_ARGUMENT: Shapes of all inputs must match: values[0].shape = [229,1598] != values[6].shape = [229,1596]\n"
     ]
    },
    {
     "ename": "InvalidArgumentError",
     "evalue": "{{function_node __wrapped__Pack_N_80_device_/job:localhost/replica:0/task:0/device:CPU:0}} Shapes of all inputs must match: values[0].shape = [229,1598] != values[6].shape = [229,1596] [Op:Pack] name: stack",
     "output_type": "error",
     "traceback": [
      "\u001B[0;31m---------------------------------------------------------------------------\u001B[0m",
      "\u001B[0;31mInvalidArgumentError\u001B[0m                      Traceback (most recent call last)",
      "Cell \u001B[0;32mIn[34], line 1\u001B[0m\n\u001B[0;32m----> 1\u001B[0m mean_predict, sd_predict \u001B[38;5;241m=\u001B[39m \u001B[43mgbt_model\u001B[49m\u001B[38;5;241;43m.\u001B[39;49m\u001B[43mpredict_mean\u001B[49m\u001B[43m(\u001B[49m\u001B[43mX_test_scaled\u001B[49m\u001B[43m)\u001B[49m\n",
      "Cell \u001B[0;32mIn[31], line 55\u001B[0m, in \u001B[0;36mGradientBoostedTreesEnsembleClassifier.predict_mean\u001B[0;34m(self, X)\u001B[0m\n\u001B[1;32m     52\u001B[0m     estimator_predictions \u001B[38;5;241m=\u001B[39m estimator\u001B[38;5;241m.\u001B[39mpredict(X,verbose\u001B[38;5;241m=\u001B[39m\u001B[38;5;241m0\u001B[39m)  \u001B[38;5;66;03m# Get predictions from the current estimator\u001B[39;00m\n\u001B[1;32m     53\u001B[0m     predictions\u001B[38;5;241m.\u001B[39mappend(estimator_predictions)\n\u001B[0;32m---> 55\u001B[0m predictions_stacked \u001B[38;5;241m=\u001B[39m \u001B[43mtf\u001B[49m\u001B[38;5;241;43m.\u001B[39;49m\u001B[43mstack\u001B[49m\u001B[43m(\u001B[49m\u001B[43mpredictions\u001B[49m\u001B[43m,\u001B[49m\u001B[43m \u001B[49m\u001B[43maxis\u001B[49m\u001B[38;5;241;43m=\u001B[39;49m\u001B[38;5;241;43m-\u001B[39;49m\u001B[38;5;241;43m1\u001B[39;49m\u001B[43m)\u001B[49m\n\u001B[1;32m     57\u001B[0m mean_prediction \u001B[38;5;241m=\u001B[39m tf\u001B[38;5;241m.\u001B[39mreduce_mean(predictions_stacked, axis\u001B[38;5;241m=\u001B[39m\u001B[38;5;241m-\u001B[39m\u001B[38;5;241m1\u001B[39m)\n\u001B[1;32m     58\u001B[0m sd_prediction \u001B[38;5;241m=\u001B[39m tf\u001B[38;5;241m.\u001B[39mmath\u001B[38;5;241m.\u001B[39mreduce_std(predictions_stacked, axis\u001B[38;5;241m=\u001B[39m\u001B[38;5;241m-\u001B[39m\u001B[38;5;241m1\u001B[39m)\n",
      "File \u001B[0;32m~/Library/Caches/pypoetry/virtualenvs/program-i-Fez0zm-py3.10/lib/python3.10/site-packages/tensorflow/python/util/traceback_utils.py:153\u001B[0m, in \u001B[0;36mfilter_traceback.<locals>.error_handler\u001B[0;34m(*args, **kwargs)\u001B[0m\n\u001B[1;32m    151\u001B[0m \u001B[38;5;28;01mexcept\u001B[39;00m \u001B[38;5;167;01mException\u001B[39;00m \u001B[38;5;28;01mas\u001B[39;00m e:\n\u001B[1;32m    152\u001B[0m   filtered_tb \u001B[38;5;241m=\u001B[39m _process_traceback_frames(e\u001B[38;5;241m.\u001B[39m__traceback__)\n\u001B[0;32m--> 153\u001B[0m   \u001B[38;5;28;01mraise\u001B[39;00m e\u001B[38;5;241m.\u001B[39mwith_traceback(filtered_tb) \u001B[38;5;28;01mfrom\u001B[39;00m \u001B[38;5;28;01mNone\u001B[39;00m\n\u001B[1;32m    154\u001B[0m \u001B[38;5;28;01mfinally\u001B[39;00m:\n\u001B[1;32m    155\u001B[0m   \u001B[38;5;28;01mdel\u001B[39;00m filtered_tb\n",
      "File \u001B[0;32m~/Library/Caches/pypoetry/virtualenvs/program-i-Fez0zm-py3.10/lib/python3.10/site-packages/tensorflow/python/framework/ops.py:5983\u001B[0m, in \u001B[0;36mraise_from_not_ok_status\u001B[0;34m(e, name)\u001B[0m\n\u001B[1;32m   5981\u001B[0m \u001B[38;5;28;01mdef\u001B[39;00m \u001B[38;5;21mraise_from_not_ok_status\u001B[39m(e, name) \u001B[38;5;241m-\u001B[39m\u001B[38;5;241m>\u001B[39m NoReturn:\n\u001B[1;32m   5982\u001B[0m   e\u001B[38;5;241m.\u001B[39mmessage \u001B[38;5;241m+\u001B[39m\u001B[38;5;241m=\u001B[39m (\u001B[38;5;124m\"\u001B[39m\u001B[38;5;124m name: \u001B[39m\u001B[38;5;124m\"\u001B[39m \u001B[38;5;241m+\u001B[39m \u001B[38;5;28mstr\u001B[39m(name \u001B[38;5;28;01mif\u001B[39;00m name \u001B[38;5;129;01mis\u001B[39;00m \u001B[38;5;129;01mnot\u001B[39;00m \u001B[38;5;28;01mNone\u001B[39;00m \u001B[38;5;28;01melse\u001B[39;00m \u001B[38;5;124m\"\u001B[39m\u001B[38;5;124m\"\u001B[39m))\n\u001B[0;32m-> 5983\u001B[0m   \u001B[38;5;28;01mraise\u001B[39;00m core\u001B[38;5;241m.\u001B[39m_status_to_exception(e) \u001B[38;5;28;01mfrom\u001B[39;00m \u001B[38;5;28;01mNone\u001B[39;00m\n",
      "\u001B[0;31mInvalidArgumentError\u001B[0m: {{function_node __wrapped__Pack_N_80_device_/job:localhost/replica:0/task:0/device:CPU:0}} Shapes of all inputs must match: values[0].shape = [229,1598] != values[6].shape = [229,1596] [Op:Pack] name: stack"
     ]
    }
   ],
   "source": [
    "mean_predict, sd_predict = gbt_model.predict_mean(X_test_scaled)"
   ],
   "metadata": {
    "collapsed": false,
    "ExecuteTime": {
     "start_time": "2024-06-05T14:00:11.093881Z"
    }
   },
   "id": "c7f7c85503d78daf"
  },
  {
   "cell_type": "code",
   "execution_count": null,
   "outputs": [],
   "source": [
    "y_test_eval = np.array(y_test).flatten()\n",
    "y_pred_eval = mean_predict.numpy().flatten()"
   ],
   "metadata": {
    "collapsed": false
   },
   "id": "13a31dedfc1511b6"
  },
  {
   "cell_type": "code",
   "execution_count": null,
   "outputs": [],
   "source": [
    "PLOT = 30"
   ],
   "metadata": {
    "collapsed": false
   },
   "id": "65670c0305cb2a2f"
  },
  {
   "cell_type": "code",
   "execution_count": null,
   "outputs": [],
   "source": [
    "y_plot = y_test[:PLOT]\n",
    "x_axis = np.arange(len(y_plot))\n",
    "y_mean_predict = mean_predict[:PLOT].numpy()\n",
    "y_var_predict = sd_predict[:PLOT].numpy()"
   ],
   "metadata": {
    "collapsed": false
   },
   "id": "8aa60501781f13e2"
  },
  {
   "cell_type": "code",
   "execution_count": null,
   "outputs": [],
   "source": [
    "plt.figure(figsize=(8, 6))\n",
    "plt.xlim(-1,PLOT)\n",
    "plt.scatter(x_axis, y_plot, color='lightblue', label=\"Ground Truth\")\n",
    "plt.scatter(x_axis, y_mean_predict.flatten(), color='pink', alpha=0.8, label='Mean Prediction')\n",
    "# plt.errorbar(x_axis, y_mean_predict.flatten(), yerr=root_mse, fmt='none', ecolor='pink', label=\"Root MSE\")\n",
    "plt.errorbar(x_axis, y_mean_predict.flatten(), yerr=y_var_predict.flatten(), fmt='none', color='darkred', alpha=0.8, label=\"Uncertainty\")\n",
    "plt.ylabel('prices')\n",
    "plt.legend()\n",
    "plt.grid(True)  # Enable grid for better visualization\n",
    "plt.show()"
   ],
   "metadata": {
    "collapsed": false
   },
   "id": "25a0ef84514b3d7b"
  },
  {
   "cell_type": "code",
   "execution_count": null,
   "outputs": [],
   "source": [
    "# predict gives the class number\n",
    "# make a histogram of the class prediction\n",
    "# entropy to measure the uncertainty"
   ],
   "metadata": {
    "collapsed": false
   },
   "id": "7435d0b3b0de2716"
  }
 ],
 "metadata": {
  "kernelspec": {
   "display_name": "Python 3",
   "language": "python",
   "name": "python3"
  },
  "language_info": {
   "codemirror_mode": {
    "name": "ipython",
    "version": 2
   },
   "file_extension": ".py",
   "mimetype": "text/x-python",
   "name": "python",
   "nbconvert_exporter": "python",
   "pygments_lexer": "ipython2",
   "version": "2.7.6"
  }
 },
 "nbformat": 4,
 "nbformat_minor": 5
}
