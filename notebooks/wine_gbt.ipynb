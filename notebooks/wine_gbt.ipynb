{
 "cells": [
  {
   "cell_type": "code",
   "execution_count": 1,
   "id": "initial_id",
   "metadata": {
    "collapsed": true,
    "ExecuteTime": {
     "end_time": "2024-06-13T01:52:39.678572Z",
     "start_time": "2024-06-13T01:52:36.350028Z"
    }
   },
   "outputs": [],
   "source": [
    "import tensorflow as tf\n",
    "import tensorflow_decision_forests as tfdf\n",
    "import numpy as np\n",
    "\n",
    "from sklearn.model_selection import train_test_split\n",
    "from sklearn.preprocessing import StandardScaler, OneHotEncoder, LabelEncoder\n",
    "import matplotlib.pyplot as plt\n",
    "import pandas as pd\n",
    "\n",
    "from lime.lime_tabular import LimeTabularExplainer\n",
    "import shap\n",
    "from collections import defaultdict"
   ]
  },
  {
   "cell_type": "code",
   "execution_count": 2,
   "outputs": [],
   "source": [
    "wine_qt_path = '../data/WineQT.csv'\n",
    "RANDOM_SEED = 492"
   ],
   "metadata": {
    "collapsed": false,
    "ExecuteTime": {
     "end_time": "2024-06-13T01:52:39.683450Z",
     "start_time": "2024-06-13T01:52:39.679078Z"
    }
   },
   "id": "46f3adf38c3b447a"
  },
  {
   "cell_type": "code",
   "execution_count": 3,
   "outputs": [],
   "source": [
    "wine_df = pd.read_csv(wine_qt_path)"
   ],
   "metadata": {
    "collapsed": false,
    "ExecuteTime": {
     "end_time": "2024-06-13T01:52:39.687950Z",
     "start_time": "2024-06-13T01:52:39.681472Z"
    }
   },
   "id": "6969bdd4fdc3445d"
  },
  {
   "cell_type": "code",
   "execution_count": 4,
   "outputs": [
    {
     "name": "stdout",
     "output_type": "stream",
     "text": [
      "   fixed acidity  volatile acidity  citric acid  residual sugar  chlorides  \\\n",
      "0            7.4              0.70         0.00             1.9      0.076   \n",
      "1            7.8              0.88         0.00             2.6      0.098   \n",
      "2            7.8              0.76         0.04             2.3      0.092   \n",
      "3           11.2              0.28         0.56             1.9      0.075   \n",
      "4            7.4              0.70         0.00             1.9      0.076   \n",
      "\n",
      "   free sulfur dioxide  total sulfur dioxide  density    pH  sulphates  \\\n",
      "0                 11.0                  34.0   0.9978  3.51       0.56   \n",
      "1                 25.0                  67.0   0.9968  3.20       0.68   \n",
      "2                 15.0                  54.0   0.9970  3.26       0.65   \n",
      "3                 17.0                  60.0   0.9980  3.16       0.58   \n",
      "4                 11.0                  34.0   0.9978  3.51       0.56   \n",
      "\n",
      "   alcohol  quality  Id  \n",
      "0      9.4        5   0  \n",
      "1      9.8        5   1  \n",
      "2      9.8        5   2  \n",
      "3      9.8        6   3  \n",
      "4      9.4        5   4  \n"
     ]
    }
   ],
   "source": [
    "print(wine_df.head())"
   ],
   "metadata": {
    "collapsed": false,
    "ExecuteTime": {
     "end_time": "2024-06-13T01:52:39.692195Z",
     "start_time": "2024-06-13T01:52:39.686104Z"
    }
   },
   "id": "72ac0a85589b2239"
  },
  {
   "cell_type": "code",
   "execution_count": 5,
   "outputs": [],
   "source": [
    "y_series = wine_df['quality']\n",
    "y = pd.DataFrame(y_series, columns=['quality'])\n",
    "features = [col for col in wine_df.columns if col != 'Id' and col != 'quality']\n",
    "X = wine_df[features]"
   ],
   "metadata": {
    "collapsed": false,
    "ExecuteTime": {
     "end_time": "2024-06-13T01:52:43.053665Z",
     "start_time": "2024-06-13T01:52:43.040507Z"
    }
   },
   "id": "db877c54bbcfa8f1"
  },
  {
   "cell_type": "code",
   "execution_count": 6,
   "outputs": [
    {
     "name": "stdout",
     "output_type": "stream",
     "text": [
      "      quality\n",
      "0           2\n",
      "1           2\n",
      "2           2\n",
      "3           3\n",
      "4           2\n",
      "...       ...\n",
      "1138        3\n",
      "1139        3\n",
      "1140        2\n",
      "1141        3\n",
      "1142        2\n",
      "\n",
      "[1143 rows x 1 columns]\n"
     ]
    }
   ],
   "source": [
    "label_encoder = LabelEncoder()\n",
    "y_encoded = label_encoder.fit_transform(y_series)\n",
    "y_encoded = pd.DataFrame(y_encoded, columns=['quality'])\n",
    "print(y_encoded)"
   ],
   "metadata": {
    "collapsed": false,
    "ExecuteTime": {
     "end_time": "2024-06-13T01:52:44.215778Z",
     "start_time": "2024-06-13T01:52:44.211418Z"
    }
   },
   "id": "fcee0c2f95d0acca"
  },
  {
   "cell_type": "code",
   "execution_count": 7,
   "outputs": [
    {
     "data": {
      "text/plain": "<Figure size 640x480 with 1 Axes>",
      "image/png": "[encoded data removed]"
     },
     "metadata": {},
     "output_type": "display_data"
    }
   ],
   "source": [
    "# Plot histogram of y_series\n",
    "plt.hist(y_series, bins=range(0, 12), align='left', edgecolor='black')\n",
    "plt.xlabel('Quality')\n",
    "plt.ylabel('Frequency')\n",
    "plt.title('Distribution of Wine Quality')\n",
    "plt.xticks(range(0, 11))\n",
    "plt.grid(axis='y', linestyle='--', alpha=0.7)\n",
    "plt.show()"
   ],
   "metadata": {
    "collapsed": false,
    "ExecuteTime": {
     "end_time": "2024-06-13T01:52:56.378460Z",
     "start_time": "2024-06-13T01:52:56.282586Z"
    }
   },
   "id": "1deadb5eaad58b84"
  },
  {
   "cell_type": "code",
   "execution_count": 8,
   "outputs": [
    {
     "name": "stdout",
     "output_type": "stream",
     "text": [
      "Minimum quality: 3\n",
      "Maximum quality: 8\n"
     ]
    }
   ],
   "source": [
    "# Get the minimum and maximum values from y_series\n",
    "min_quality = y_series.min()\n",
    "max_quality = y_series.max()\n",
    "\n",
    "print(\"Minimum quality:\", min_quality)\n",
    "print(\"Maximum quality:\", max_quality)"
   ],
   "metadata": {
    "collapsed": false,
    "ExecuteTime": {
     "end_time": "2024-06-13T01:52:57.259209Z",
     "start_time": "2024-06-13T01:52:57.255242Z"
    }
   },
   "id": "b27b6fd73ba0d06"
  },
  {
   "cell_type": "code",
   "execution_count": 9,
   "outputs": [
    {
     "name": "stdout",
     "output_type": "stream",
     "text": [
      "Unique values in y_series: [5 6 7 4 8 3]\n"
     ]
    }
   ],
   "source": [
    "unique_values = y_series.unique()\n",
    "print(\"Unique values in y_series:\", unique_values)"
   ],
   "metadata": {
    "collapsed": false,
    "ExecuteTime": {
     "end_time": "2024-06-13T01:52:58.682512Z",
     "start_time": "2024-06-13T01:52:58.672817Z"
    }
   },
   "id": "afd054a866c093b4"
  },
  {
   "cell_type": "code",
   "execution_count": 10,
   "outputs": [],
   "source": [
    "X_train, X_test, y_train, y_test = train_test_split(X, y_encoded, test_size=0.2, random_state=RANDOM_SEED)"
   ],
   "metadata": {
    "collapsed": false,
    "ExecuteTime": {
     "end_time": "2024-06-13T01:52:59.556359Z",
     "start_time": "2024-06-13T01:52:59.542240Z"
    }
   },
   "id": "2cf8644f8ba66ba9"
  },
  {
   "cell_type": "code",
   "execution_count": 11,
   "outputs": [],
   "source": [
    "X_train = X_train.reset_index(drop=True)\n",
    "y_train = y_train.reset_index(drop=True)\n",
    "X_test = X_test.reset_index(drop=True)\n",
    "y_test = y_test.reset_index(drop=True)"
   ],
   "metadata": {
    "collapsed": false,
    "ExecuteTime": {
     "end_time": "2024-06-13T01:53:00.178028Z",
     "start_time": "2024-06-13T01:53:00.167529Z"
    }
   },
   "id": "77430f2ed96077fb"
  },
  {
   "cell_type": "code",
   "execution_count": 12,
   "outputs": [],
   "source": [
    "scaler = StandardScaler()\n",
    "X_train_scaled = scaler.fit_transform(X_train)\n",
    "X_test_scaled = scaler.transform(X_test)\n",
    "\n",
    "X_train_scaled = pd.DataFrame(X_train_scaled, columns=X_train.columns)\n",
    "X_test_scaled = pd.DataFrame(X_test_scaled, columns=X_test.columns)\n"
   ],
   "metadata": {
    "collapsed": false,
    "ExecuteTime": {
     "end_time": "2024-06-13T01:53:00.992284Z",
     "start_time": "2024-06-13T01:53:00.981941Z"
    }
   },
   "id": "5a49a3c97d38c7ad"
  },
  {
   "cell_type": "code",
   "execution_count": 13,
   "outputs": [],
   "source": [
    "class GradientBoostedTreesEnsembleClassifier(tf.keras.Model):\n",
    "    def __init__(self, n_trees=100, max_depth=3, n_estimators=100, subportion = 0.8, sample_method='RANDOM'): \n",
    "        super(GradientBoostedTreesEnsembleClassifier, self).__init__()\n",
    "        self.n_trees = n_trees\n",
    "        self.n_estimators = n_estimators\n",
    "        self.max_depth = max_depth\n",
    "        self.subportion = subportion\n",
    "        self.sample_method = sample_method\n",
    "        self.estimators = []\n",
    "        self.lime_explainers = []\n",
    "        self.shap_explainers = []\n",
    "\n",
    "    def build_estimator(self):\n",
    "        model = tfdf.keras.GradientBoostedTreesModel(\n",
    "            task=tfdf.keras.Task.CLASSIFICATION,\n",
    "            num_trees=np.random.randint(self.n_trees//5, self.n_trees+1), # self.n_trees, #\n",
    "            max_depth=self.max_depth, #np.random.randint(self.max_depth/2, self.max_depth+1), # self.max_depth, # \n",
    "            validation_ratio=0.1,\n",
    "            subsample=self.subportion,\n",
    "            sampling_method=self.sample_method,\n",
    "            random_seed=self.seed # try to set this first. Maybe this is enough\n",
    "        )\n",
    "        return model\n",
    "\n",
    "    def fit(self, X, y):\n",
    "        \n",
    "        X_tensor = tf.constant(X.values, dtype=tf.float32)\n",
    "        y_tensor = tf.constant(y.values, dtype=tf.float32)\n",
    "        tot_dataset_size = len(X)\n",
    "        \n",
    "        for seed in np.random.randint(0, 1000000, size=self.n_estimators):\n",
    "            self.seed = int(seed)\n",
    "            subset_size = int(self.subportion * tot_dataset_size)\n",
    "            \n",
    "            # Create a subset of the dataset using sampled indices\n",
    "            subset_indices = np.random.choice(tot_dataset_size, size=subset_size, replace=False)\n",
    "            X_subset = tf.gather(X_tensor, subset_indices)\n",
    "            y_subset = tf.gather(y_tensor, subset_indices)\n",
    "            \n",
    "            # subset_dataset = (X_tensor, y_tensor)\n",
    "            \n",
    "            # building each estimator\n",
    "            estimator = self.build_estimator()\n",
    "            estimator.fit(X_subset,y_subset,verbose=0)\n",
    "            self.estimators.append(estimator)\n",
    "        \n",
    "        # initiate explainers\n",
    "        for model in self.estimators:\n",
    "            lime_explainer = LimeTabularExplainer(X.values, feature_names=X.columns.tolist(), mode='classification')\n",
    "            self.lime_explainers.append(lime_explainer)\n",
    "            masker = shap.maskers.Independent(data = X_train.values)\n",
    "            shap_explainer = shap.Explainer(model, masker=masker, feature_names=X.columns.tolist())\n",
    "            self.shap_explainers.append(shap_explainer)\n",
    "    \n",
    "    \n",
    "    def predict_mean(self, X): # use all estimators\n",
    "        X_tensor = tf.constant(X.values, dtype=tf.float32)\n",
    "        predictions = []\n",
    "        \n",
    "        for i, estimator in enumerate(self.estimators):\n",
    "            estimator_predictions = estimator.predict(X_tensor)  # Get predictions from the current estimator\n",
    "            print(f\"Shape of prediction from estimator {i}: {estimator_predictions.shape}\")  # Print the shape\n",
    "            predictions.append(estimator_predictions)\n",
    "            \n",
    "        predictions_stacked = np.stack(predictions, axis=-1)\n",
    "        \n",
    "        mean_prediction = np.mean(predictions_stacked, axis=-1)\n",
    "        sd_prediction = np.std(predictions_stacked, axis=-1)\n",
    "        return mean_prediction, sd_prediction\n",
    "    \n",
    "    def explain_lime(self, X):\n",
    "        lime_explanations = []\n",
    "        \n",
    "        for estimator, explainer in zip(self.estimators, self.lime_explainers):\n",
    "            for i in range(len(X)): \n",
    "                instance_explanation = explainer.explain_instance(X.iloc[i], estimator.predict, num_features=X.shape[1])\n",
    "                lime_explanations.append(instance_explanation)\n",
    "        return lime_explanations\n",
    "    \n",
    "    def explain_shap(self, X):\n",
    "        shap_values = []\n",
    "        \n",
    "        for estimator, explainer in zip(self.estimators, self.shap_explainers):\n",
    "            shap_value = explainer(X)\n",
    "            shap_values.append(shap_value)\n",
    "        \n",
    "        return shap_values\n"
   ],
   "metadata": {
    "collapsed": false,
    "ExecuteTime": {
     "end_time": "2024-06-13T01:53:01.652263Z",
     "start_time": "2024-06-13T01:53:01.646248Z"
    }
   },
   "id": "5874898ce620831b"
  },
  {
   "cell_type": "code",
   "execution_count": 14,
   "outputs": [],
   "source": [
    "gbt_model = GradientBoostedTreesEnsembleClassifier(\n",
    "    n_trees=50, \n",
    "    max_depth=5, \n",
    "    n_estimators=80, \n",
    "    subportion=0.8, \n",
    "    sample_method='RANDOM'\n",
    ")"
   ],
   "metadata": {
    "collapsed": false,
    "ExecuteTime": {
     "end_time": "2024-06-13T01:53:02.543072Z",
     "start_time": "2024-06-13T01:53:02.538300Z"
    }
   },
   "id": "84c975e86ed3a144"
  },
  {
   "cell_type": "code",
   "execution_count": 15,
   "outputs": [
    {
     "name": "stdout",
     "output_type": "stream",
     "text": [
      "Use /var/folders/3r/pzt2_p_x2xdfl2057nxkp3nm0000gn/T/tmpkmes2tks as temporary training directory\n"
     ]
    },
    {
     "name": "stderr",
     "output_type": "stream",
     "text": [
      "[WARNING 24-06-13 03:53:03.5794 CEST gradient_boosted_trees.cc:1840] \"goss_alpha\" set but \"sampling_method\" not equal to \"GOSS\".\n",
      "[WARNING 24-06-13 03:53:03.5800 CEST gradient_boosted_trees.cc:1851] \"goss_beta\" set but \"sampling_method\" not equal to \"GOSS\".\n",
      "[WARNING 24-06-13 03:53:03.5800 CEST gradient_boosted_trees.cc:1865] \"selective_gradient_boosting_ratio\" set but \"sampling_method\" not equal to \"SELGB\".\n",
      "[INFO 24-06-13 03:53:05.8639 CEST kernel.cc:1233] Loading model from path /var/folders/3r/pzt2_p_x2xdfl2057nxkp3nm0000gn/T/tmpkmes2tks/model/ with prefix 3d9da433f584476e\n",
      "[INFO 24-06-13 03:53:05.8672 CEST decision_forest.cc:734] Model loaded with 132 root(s), 2760 node(s), and 11 input feature(s).\n",
      "[INFO 24-06-13 03:53:05.8673 CEST abstract_model.cc:1344] Engine \"GradientBoostedTreesGeneric\" built\n",
      "[INFO 24-06-13 03:53:05.8673 CEST kernel.cc:1061] Use fast generic engine\n"
     ]
    },
    {
     "name": "stdout",
     "output_type": "stream",
     "text": [
      "Use /var/folders/3r/pzt2_p_x2xdfl2057nxkp3nm0000gn/T/tmppeoo4kpo as temporary training directory\n"
     ]
    },
    {
     "name": "stderr",
     "output_type": "stream",
     "text": [
      "[WARNING 24-06-13 03:53:07.9912 CEST gradient_boosted_trees.cc:1840] \"goss_alpha\" set but \"sampling_method\" not equal to \"GOSS\".\n",
      "[WARNING 24-06-13 03:53:07.9912 CEST gradient_boosted_trees.cc:1851] \"goss_beta\" set but \"sampling_method\" not equal to \"GOSS\".\n",
      "[WARNING 24-06-13 03:53:07.9912 CEST gradient_boosted_trees.cc:1865] \"selective_gradient_boosting_ratio\" set but \"sampling_method\" not equal to \"SELGB\".\n"
     ]
    },
    {
     "name": "stdout",
     "output_type": "stream",
     "text": [
      "Use /var/folders/3r/pzt2_p_x2xdfl2057nxkp3nm0000gn/T/tmp9ys_vo7j as temporary training directory\n"
     ]
    },
    {
     "name": "stderr",
     "output_type": "stream",
     "text": [
      "[INFO 24-06-13 03:53:08.2906 CEST kernel.cc:1233] Loading model from path /var/folders/3r/pzt2_p_x2xdfl2057nxkp3nm0000gn/T/tmppeoo4kpo/model/ with prefix 08354e72fe9345c1\n",
      "[INFO 24-06-13 03:53:08.2937 CEST decision_forest.cc:734] Model loaded with 150 root(s), 3032 node(s), and 11 input feature(s).\n",
      "[INFO 24-06-13 03:53:08.2937 CEST kernel.cc:1061] Use fast generic engine\n",
      "[WARNING 24-06-13 03:53:08.3574 CEST gradient_boosted_trees.cc:1840] \"goss_alpha\" set but \"sampling_method\" not equal to \"GOSS\".\n",
      "[WARNING 24-06-13 03:53:08.3575 CEST gradient_boosted_trees.cc:1851] \"goss_beta\" set but \"sampling_method\" not equal to \"GOSS\".\n",
      "[WARNING 24-06-13 03:53:08.3575 CEST gradient_boosted_trees.cc:1865] \"selective_gradient_boosting_ratio\" set but \"sampling_method\" not equal to \"SELGB\".\n"
     ]
    },
    {
     "name": "stdout",
     "output_type": "stream",
     "text": [
      "Use /var/folders/3r/pzt2_p_x2xdfl2057nxkp3nm0000gn/T/tmpnoato7hr as temporary training directory\n"
     ]
    },
    {
     "name": "stderr",
     "output_type": "stream",
     "text": [
      "[INFO 24-06-13 03:53:08.5827 CEST kernel.cc:1233] Loading model from path /var/folders/3r/pzt2_p_x2xdfl2057nxkp3nm0000gn/T/tmp9ys_vo7j/model/ with prefix 12ea5bb881144d08\n",
      "[INFO 24-06-13 03:53:08.5848 CEST decision_forest.cc:734] Model loaded with 90 root(s), 1850 node(s), and 11 input feature(s).\n",
      "[INFO 24-06-13 03:53:08.5848 CEST kernel.cc:1061] Use fast generic engine\n",
      "[WARNING 24-06-13 03:53:08.6480 CEST gradient_boosted_trees.cc:1840] \"goss_alpha\" set but \"sampling_method\" not equal to \"GOSS\".\n",
      "[WARNING 24-06-13 03:53:08.6480 CEST gradient_boosted_trees.cc:1851] \"goss_beta\" set but \"sampling_method\" not equal to \"GOSS\".\n",
      "[WARNING 24-06-13 03:53:08.6480 CEST gradient_boosted_trees.cc:1865] \"selective_gradient_boosting_ratio\" set but \"sampling_method\" not equal to \"SELGB\".\n"
     ]
    },
    {
     "name": "stdout",
     "output_type": "stream",
     "text": [
      "Use /var/folders/3r/pzt2_p_x2xdfl2057nxkp3nm0000gn/T/tmpukxgfzdt as temporary training directory\n",
      "WARNING:tensorflow:5 out of the last 5 calls to <function CoreModel._consumes_training_examples_until_eof at 0x299fc79a0> triggered tf.function retracing. Tracing is expensive and the excessive number of tracings could be due to (1) creating @tf.function repeatedly in a loop, (2) passing tensors with different shapes, (3) passing Python objects instead of tensors. For (1), please define your @tf.function outside of the loop. For (2), @tf.function has reduce_retracing=True option that can avoid unnecessary retracing. For (3), please refer to https://www.tensorflow.org/guide/function#controlling_retracing and https://www.tensorflow.org/api_docs/python/tf/function for  more details.\n"
     ]
    },
    {
     "name": "stderr",
     "output_type": "stream",
     "text": [
      "[INFO 24-06-13 03:53:08.9153 CEST kernel.cc:1233] Loading model from path /var/folders/3r/pzt2_p_x2xdfl2057nxkp3nm0000gn/T/tmpnoato7hr/model/ with prefix 8584451013334ea0\n",
      "[INFO 24-06-13 03:53:08.9178 CEST decision_forest.cc:734] Model loaded with 114 root(s), 2288 node(s), and 11 input feature(s).\n",
      "[INFO 24-06-13 03:53:08.9178 CEST kernel.cc:1061] Use fast generic engine\n",
      "[WARNING 24-06-13 03:53:08.9811 CEST gradient_boosted_trees.cc:1840] \"goss_alpha\" set but \"sampling_method\" not equal to \"GOSS\".\n",
      "[WARNING 24-06-13 03:53:08.9811 CEST gradient_boosted_trees.cc:1851] \"goss_beta\" set but \"sampling_method\" not equal to \"GOSS\".\n",
      "[WARNING 24-06-13 03:53:08.9811 CEST gradient_boosted_trees.cc:1865] \"selective_gradient_boosting_ratio\" set but \"sampling_method\" not equal to \"SELGB\".\n",
      "WARNING:tensorflow:5 out of the last 5 calls to <function CoreModel._consumes_training_examples_until_eof at 0x299fc79a0> triggered tf.function retracing. Tracing is expensive and the excessive number of tracings could be due to (1) creating @tf.function repeatedly in a loop, (2) passing tensors with different shapes, (3) passing Python objects instead of tensors. For (1), please define your @tf.function outside of the loop. For (2), @tf.function has reduce_retracing=True option that can avoid unnecessary retracing. For (3), please refer to https://www.tensorflow.org/guide/function#controlling_retracing and https://www.tensorflow.org/api_docs/python/tf/function for  more details.\n"
     ]
    },
    {
     "name": "stdout",
     "output_type": "stream",
     "text": [
      "WARNING:tensorflow:5 out of the last 5 calls to <function InferenceCoreModel.make_predict_function.<locals>.predict_function_trained at 0x2d56245e0> triggered tf.function retracing. Tracing is expensive and the excessive number of tracings could be due to (1) creating @tf.function repeatedly in a loop, (2) passing tensors with different shapes, (3) passing Python objects instead of tensors. For (1), please define your @tf.function outside of the loop. For (2), @tf.function has reduce_retracing=True option that can avoid unnecessary retracing. For (3), please refer to https://www.tensorflow.org/guide/function#controlling_retracing and https://www.tensorflow.org/api_docs/python/tf/function for  more details.\n"
     ]
    },
    {
     "name": "stderr",
     "output_type": "stream",
     "text": [
      "[INFO 24-06-13 03:53:09.3164 CEST kernel.cc:1233] Loading model from path /var/folders/3r/pzt2_p_x2xdfl2057nxkp3nm0000gn/T/tmpukxgfzdt/model/ with prefix 64d26f70c8cf4da7\n",
      "[INFO 24-06-13 03:53:09.3203 CEST decision_forest.cc:734] Model loaded with 192 root(s), 3882 node(s), and 11 input feature(s).\n",
      "[INFO 24-06-13 03:53:09.3203 CEST kernel.cc:1061] Use fast generic engine\n",
      "WARNING:tensorflow:5 out of the last 5 calls to <function InferenceCoreModel.make_predict_function.<locals>.predict_function_trained at 0x2d56245e0> triggered tf.function retracing. Tracing is expensive and the excessive number of tracings could be due to (1) creating @tf.function repeatedly in a loop, (2) passing tensors with different shapes, (3) passing Python objects instead of tensors. For (1), please define your @tf.function outside of the loop. For (2), @tf.function has reduce_retracing=True option that can avoid unnecessary retracing. For (3), please refer to https://www.tensorflow.org/guide/function#controlling_retracing and https://www.tensorflow.org/api_docs/python/tf/function for  more details.\n"
     ]
    },
    {
     "name": "stdout",
     "output_type": "stream",
     "text": [
      "WARNING:tensorflow:5 out of the last 5 calls to <function InferenceCoreModel.yggdrasil_model_path_tensor at 0x2d56271c0> triggered tf.function retracing. Tracing is expensive and the excessive number of tracings could be due to (1) creating @tf.function repeatedly in a loop, (2) passing tensors with different shapes, (3) passing Python objects instead of tensors. For (1), please define your @tf.function outside of the loop. For (2), @tf.function has reduce_retracing=True option that can avoid unnecessary retracing. For (3), please refer to https://www.tensorflow.org/guide/function#controlling_retracing and https://www.tensorflow.org/api_docs/python/tf/function for  more details.\n"
     ]
    },
    {
     "name": "stderr",
     "output_type": "stream",
     "text": [
      "WARNING:tensorflow:5 out of the last 5 calls to <function InferenceCoreModel.yggdrasil_model_path_tensor at 0x2d56271c0> triggered tf.function retracing. Tracing is expensive and the excessive number of tracings could be due to (1) creating @tf.function repeatedly in a loop, (2) passing tensors with different shapes, (3) passing Python objects instead of tensors. For (1), please define your @tf.function outside of the loop. For (2), @tf.function has reduce_retracing=True option that can avoid unnecessary retracing. For (3), please refer to https://www.tensorflow.org/guide/function#controlling_retracing and https://www.tensorflow.org/api_docs/python/tf/function for  more details.\n"
     ]
    },
    {
     "name": "stdout",
     "output_type": "stream",
     "text": [
      "Use /var/folders/3r/pzt2_p_x2xdfl2057nxkp3nm0000gn/T/tmp1yq2lsrj as temporary training directory\n"
     ]
    },
    {
     "name": "stderr",
     "output_type": "stream",
     "text": [
      "[WARNING 24-06-13 03:53:09.3872 CEST gradient_boosted_trees.cc:1840] \"goss_alpha\" set but \"sampling_method\" not equal to \"GOSS\".\n",
      "[WARNING 24-06-13 03:53:09.3872 CEST gradient_boosted_trees.cc:1851] \"goss_beta\" set but \"sampling_method\" not equal to \"GOSS\".\n",
      "[WARNING 24-06-13 03:53:09.3872 CEST gradient_boosted_trees.cc:1865] \"selective_gradient_boosting_ratio\" set but \"sampling_method\" not equal to \"SELGB\".\n"
     ]
    },
    {
     "name": "stdout",
     "output_type": "stream",
     "text": [
      "WARNING:tensorflow:6 out of the last 6 calls to <function CoreModel._consumes_training_examples_until_eof at 0x299fc79a0> triggered tf.function retracing. Tracing is expensive and the excessive number of tracings could be due to (1) creating @tf.function repeatedly in a loop, (2) passing tensors with different shapes, (3) passing Python objects instead of tensors. For (1), please define your @tf.function outside of the loop. For (2), @tf.function has reduce_retracing=True option that can avoid unnecessary retracing. For (3), please refer to https://www.tensorflow.org/guide/function#controlling_retracing and https://www.tensorflow.org/api_docs/python/tf/function for  more details.\n"
     ]
    },
    {
     "name": "stderr",
     "output_type": "stream",
     "text": [
      "WARNING:tensorflow:6 out of the last 6 calls to <function CoreModel._consumes_training_examples_until_eof at 0x299fc79a0> triggered tf.function retracing. Tracing is expensive and the excessive number of tracings could be due to (1) creating @tf.function repeatedly in a loop, (2) passing tensors with different shapes, (3) passing Python objects instead of tensors. For (1), please define your @tf.function outside of the loop. For (2), @tf.function has reduce_retracing=True option that can avoid unnecessary retracing. For (3), please refer to https://www.tensorflow.org/guide/function#controlling_retracing and https://www.tensorflow.org/api_docs/python/tf/function for  more details.\n"
     ]
    },
    {
     "name": "stdout",
     "output_type": "stream",
     "text": [
      "WARNING:tensorflow:6 out of the last 6 calls to <function InferenceCoreModel.make_predict_function.<locals>.predict_function_trained at 0x2db997910> triggered tf.function retracing. Tracing is expensive and the excessive number of tracings could be due to (1) creating @tf.function repeatedly in a loop, (2) passing tensors with different shapes, (3) passing Python objects instead of tensors. For (1), please define your @tf.function outside of the loop. For (2), @tf.function has reduce_retracing=True option that can avoid unnecessary retracing. For (3), please refer to https://www.tensorflow.org/guide/function#controlling_retracing and https://www.tensorflow.org/api_docs/python/tf/function for  more details.\n"
     ]
    },
    {
     "name": "stderr",
     "output_type": "stream",
     "text": [
      "[INFO 24-06-13 03:53:09.8091 CEST kernel.cc:1233] Loading model from path /var/folders/3r/pzt2_p_x2xdfl2057nxkp3nm0000gn/T/tmp1yq2lsrj/model/ with prefix c83d3364b13b4ee6\n",
      "[INFO 24-06-13 03:53:09.8141 CEST decision_forest.cc:734] Model loaded with 246 root(s), 4964 node(s), and 11 input feature(s).\n",
      "[INFO 24-06-13 03:53:09.8141 CEST kernel.cc:1061] Use fast generic engine\n",
      "WARNING:tensorflow:6 out of the last 6 calls to <function InferenceCoreModel.make_predict_function.<locals>.predict_function_trained at 0x2db997910> triggered tf.function retracing. Tracing is expensive and the excessive number of tracings could be due to (1) creating @tf.function repeatedly in a loop, (2) passing tensors with different shapes, (3) passing Python objects instead of tensors. For (1), please define your @tf.function outside of the loop. For (2), @tf.function has reduce_retracing=True option that can avoid unnecessary retracing. For (3), please refer to https://www.tensorflow.org/guide/function#controlling_retracing and https://www.tensorflow.org/api_docs/python/tf/function for  more details.\n"
     ]
    },
    {
     "name": "stdout",
     "output_type": "stream",
     "text": [
      "WARNING:tensorflow:6 out of the last 6 calls to <function InferenceCoreModel.yggdrasil_model_path_tensor at 0x2db997520> triggered tf.function retracing. Tracing is expensive and the excessive number of tracings could be due to (1) creating @tf.function repeatedly in a loop, (2) passing tensors with different shapes, (3) passing Python objects instead of tensors. For (1), please define your @tf.function outside of the loop. For (2), @tf.function has reduce_retracing=True option that can avoid unnecessary retracing. For (3), please refer to https://www.tensorflow.org/guide/function#controlling_retracing and https://www.tensorflow.org/api_docs/python/tf/function for  more details.\n"
     ]
    },
    {
     "name": "stderr",
     "output_type": "stream",
     "text": [
      "WARNING:tensorflow:6 out of the last 6 calls to <function InferenceCoreModel.yggdrasil_model_path_tensor at 0x2db997520> triggered tf.function retracing. Tracing is expensive and the excessive number of tracings could be due to (1) creating @tf.function repeatedly in a loop, (2) passing tensors with different shapes, (3) passing Python objects instead of tensors. For (1), please define your @tf.function outside of the loop. For (2), @tf.function has reduce_retracing=True option that can avoid unnecessary retracing. For (3), please refer to https://www.tensorflow.org/guide/function#controlling_retracing and https://www.tensorflow.org/api_docs/python/tf/function for  more details.\n"
     ]
    },
    {
     "name": "stdout",
     "output_type": "stream",
     "text": [
      "Use /var/folders/3r/pzt2_p_x2xdfl2057nxkp3nm0000gn/T/tmpmyu1zvb8 as temporary training directory\n"
     ]
    },
    {
     "name": "stderr",
     "output_type": "stream",
     "text": [
      "[WARNING 24-06-13 03:53:09.8802 CEST gradient_boosted_trees.cc:1840] \"goss_alpha\" set but \"sampling_method\" not equal to \"GOSS\".\n",
      "[WARNING 24-06-13 03:53:09.8802 CEST gradient_boosted_trees.cc:1851] \"goss_beta\" set but \"sampling_method\" not equal to \"GOSS\".\n",
      "[WARNING 24-06-13 03:53:09.8802 CEST gradient_boosted_trees.cc:1865] \"selective_gradient_boosting_ratio\" set but \"sampling_method\" not equal to \"SELGB\".\n"
     ]
    },
    {
     "name": "stdout",
     "output_type": "stream",
     "text": [
      "Use /var/folders/3r/pzt2_p_x2xdfl2057nxkp3nm0000gn/T/tmphyncanyt as temporary training directory\n"
     ]
    },
    {
     "name": "stderr",
     "output_type": "stream",
     "text": [
      "[INFO 24-06-13 03:53:10.1362 CEST kernel.cc:1233] Loading model from path /var/folders/3r/pzt2_p_x2xdfl2057nxkp3nm0000gn/T/tmpmyu1zvb8/model/ with prefix f3627645f5de4738\n",
      "[INFO 24-06-13 03:53:10.1388 CEST decision_forest.cc:734] Model loaded with 108 root(s), 2390 node(s), and 11 input feature(s).\n",
      "[INFO 24-06-13 03:53:10.1388 CEST kernel.cc:1061] Use fast generic engine\n",
      "[WARNING 24-06-13 03:53:10.2021 CEST gradient_boosted_trees.cc:1840] \"goss_alpha\" set but \"sampling_method\" not equal to \"GOSS\".\n",
      "[WARNING 24-06-13 03:53:10.2021 CEST gradient_boosted_trees.cc:1851] \"goss_beta\" set but \"sampling_method\" not equal to \"GOSS\".\n",
      "[WARNING 24-06-13 03:53:10.2021 CEST gradient_boosted_trees.cc:1865] \"selective_gradient_boosting_ratio\" set but \"sampling_method\" not equal to \"SELGB\".\n"
     ]
    },
    {
     "name": "stdout",
     "output_type": "stream",
     "text": [
      "Use /var/folders/3r/pzt2_p_x2xdfl2057nxkp3nm0000gn/T/tmpfxo2nvya as temporary training directory\n"
     ]
    },
    {
     "name": "stderr",
     "output_type": "stream",
     "text": [
      "[INFO 24-06-13 03:53:10.4741 CEST kernel.cc:1233] Loading model from path /var/folders/3r/pzt2_p_x2xdfl2057nxkp3nm0000gn/T/tmphyncanyt/model/ with prefix 07b7fed3d0fa4cb2\n",
      "[INFO 24-06-13 03:53:10.4772 CEST decision_forest.cc:734] Model loaded with 144 root(s), 2938 node(s), and 11 input feature(s).\n",
      "[INFO 24-06-13 03:53:10.4772 CEST kernel.cc:1061] Use fast generic engine\n",
      "[WARNING 24-06-13 03:53:10.5403 CEST gradient_boosted_trees.cc:1840] \"goss_alpha\" set but \"sampling_method\" not equal to \"GOSS\".\n",
      "[WARNING 24-06-13 03:53:10.5404 CEST gradient_boosted_trees.cc:1851] \"goss_beta\" set but \"sampling_method\" not equal to \"GOSS\".\n",
      "[WARNING 24-06-13 03:53:10.5404 CEST gradient_boosted_trees.cc:1865] \"selective_gradient_boosting_ratio\" set but \"sampling_method\" not equal to \"SELGB\".\n"
     ]
    },
    {
     "name": "stdout",
     "output_type": "stream",
     "text": [
      "Use /var/folders/3r/pzt2_p_x2xdfl2057nxkp3nm0000gn/T/tmpe3tlu2ds as temporary training directory\n"
     ]
    },
    {
     "name": "stderr",
     "output_type": "stream",
     "text": [
      "[INFO 24-06-13 03:53:10.8225 CEST kernel.cc:1233] Loading model from path /var/folders/3r/pzt2_p_x2xdfl2057nxkp3nm0000gn/T/tmpfxo2nvya/model/ with prefix a16ba34d9b6d49b0\n",
      "[INFO 24-06-13 03:53:10.8256 CEST decision_forest.cc:734] Model loaded with 138 root(s), 2940 node(s), and 11 input feature(s).\n",
      "[INFO 24-06-13 03:53:10.8257 CEST kernel.cc:1061] Use fast generic engine\n",
      "[WARNING 24-06-13 03:53:10.8887 CEST gradient_boosted_trees.cc:1840] \"goss_alpha\" set but \"sampling_method\" not equal to \"GOSS\".\n",
      "[WARNING 24-06-13 03:53:10.8887 CEST gradient_boosted_trees.cc:1851] \"goss_beta\" set but \"sampling_method\" not equal to \"GOSS\".\n",
      "[WARNING 24-06-13 03:53:10.8887 CEST gradient_boosted_trees.cc:1865] \"selective_gradient_boosting_ratio\" set but \"sampling_method\" not equal to \"SELGB\".\n"
     ]
    },
    {
     "name": "stdout",
     "output_type": "stream",
     "text": [
      "Use /var/folders/3r/pzt2_p_x2xdfl2057nxkp3nm0000gn/T/tmpovomnfi7 as temporary training directory\n"
     ]
    },
    {
     "name": "stderr",
     "output_type": "stream",
     "text": [
      "[INFO 24-06-13 03:53:11.1040 CEST kernel.cc:1233] Loading model from path /var/folders/3r/pzt2_p_x2xdfl2057nxkp3nm0000gn/T/tmpe3tlu2ds/model/ with prefix 58c7e0de5ea74592\n",
      "[INFO 24-06-13 03:53:11.1065 CEST decision_forest.cc:734] Model loaded with 108 root(s), 2230 node(s), and 11 input feature(s).\n",
      "[INFO 24-06-13 03:53:11.1065 CEST kernel.cc:1061] Use fast generic engine\n",
      "[WARNING 24-06-13 03:53:11.1696 CEST gradient_boosted_trees.cc:1840] \"goss_alpha\" set but \"sampling_method\" not equal to \"GOSS\".\n",
      "[WARNING 24-06-13 03:53:11.1696 CEST gradient_boosted_trees.cc:1851] \"goss_beta\" set but \"sampling_method\" not equal to \"GOSS\".\n",
      "[WARNING 24-06-13 03:53:11.1696 CEST gradient_boosted_trees.cc:1865] \"selective_gradient_boosting_ratio\" set but \"sampling_method\" not equal to \"SELGB\".\n"
     ]
    },
    {
     "name": "stdout",
     "output_type": "stream",
     "text": [
      "Use /var/folders/3r/pzt2_p_x2xdfl2057nxkp3nm0000gn/T/tmp6bla2oe7 as temporary training directory\n"
     ]
    },
    {
     "name": "stderr",
     "output_type": "stream",
     "text": [
      "[INFO 24-06-13 03:53:11.4477 CEST kernel.cc:1233] Loading model from path /var/folders/3r/pzt2_p_x2xdfl2057nxkp3nm0000gn/T/tmpovomnfi7/model/ with prefix 5415ab6231b74e3f\n",
      "[INFO 24-06-13 03:53:11.4517 CEST decision_forest.cc:734] Model loaded with 186 root(s), 3808 node(s), and 11 input feature(s).\n",
      "[INFO 24-06-13 03:53:11.4518 CEST kernel.cc:1061] Use fast generic engine\n",
      "[WARNING 24-06-13 03:53:11.5137 CEST gradient_boosted_trees.cc:1840] \"goss_alpha\" set but \"sampling_method\" not equal to \"GOSS\".\n",
      "[WARNING 24-06-13 03:53:11.5137 CEST gradient_boosted_trees.cc:1851] \"goss_beta\" set but \"sampling_method\" not equal to \"GOSS\".\n",
      "[WARNING 24-06-13 03:53:11.5138 CEST gradient_boosted_trees.cc:1865] \"selective_gradient_boosting_ratio\" set but \"sampling_method\" not equal to \"SELGB\".\n"
     ]
    },
    {
     "name": "stdout",
     "output_type": "stream",
     "text": [
      "Use /var/folders/3r/pzt2_p_x2xdfl2057nxkp3nm0000gn/T/tmp5am5u9_j as temporary training directory\n"
     ]
    },
    {
     "name": "stderr",
     "output_type": "stream",
     "text": [
      "[INFO 24-06-13 03:53:11.7868 CEST kernel.cc:1233] Loading model from path /var/folders/3r/pzt2_p_x2xdfl2057nxkp3nm0000gn/T/tmp6bla2oe7/model/ with prefix 8f6e2bcdd94e4c87\n",
      "[INFO 24-06-13 03:53:11.7897 CEST decision_forest.cc:734] Model loaded with 126 root(s), 2576 node(s), and 11 input feature(s).\n",
      "[INFO 24-06-13 03:53:11.7897 CEST kernel.cc:1061] Use fast generic engine\n",
      "[WARNING 24-06-13 03:53:11.8518 CEST gradient_boosted_trees.cc:1840] \"goss_alpha\" set but \"sampling_method\" not equal to \"GOSS\".\n",
      "[WARNING 24-06-13 03:53:11.8519 CEST gradient_boosted_trees.cc:1851] \"goss_beta\" set but \"sampling_method\" not equal to \"GOSS\".\n",
      "[WARNING 24-06-13 03:53:11.8519 CEST gradient_boosted_trees.cc:1865] \"selective_gradient_boosting_ratio\" set but \"sampling_method\" not equal to \"SELGB\".\n"
     ]
    },
    {
     "name": "stdout",
     "output_type": "stream",
     "text": [
      "Use /var/folders/3r/pzt2_p_x2xdfl2057nxkp3nm0000gn/T/tmp2qbavmmm as temporary training directory\n"
     ]
    },
    {
     "name": "stderr",
     "output_type": "stream",
     "text": [
      "[INFO 24-06-13 03:53:12.1274 CEST kernel.cc:1233] Loading model from path /var/folders/3r/pzt2_p_x2xdfl2057nxkp3nm0000gn/T/tmp5am5u9_j/model/ with prefix ecd4ccba295340e1\n",
      "[INFO 24-06-13 03:53:12.1307 CEST decision_forest.cc:734] Model loaded with 144 root(s), 3036 node(s), and 11 input feature(s).\n",
      "[INFO 24-06-13 03:53:12.1307 CEST kernel.cc:1061] Use fast generic engine\n",
      "[WARNING 24-06-13 03:53:12.1932 CEST gradient_boosted_trees.cc:1840] \"goss_alpha\" set but \"sampling_method\" not equal to \"GOSS\".\n",
      "[WARNING 24-06-13 03:53:12.1933 CEST gradient_boosted_trees.cc:1851] \"goss_beta\" set but \"sampling_method\" not equal to \"GOSS\".\n",
      "[WARNING 24-06-13 03:53:12.1933 CEST gradient_boosted_trees.cc:1865] \"selective_gradient_boosting_ratio\" set but \"sampling_method\" not equal to \"SELGB\".\n"
     ]
    },
    {
     "name": "stdout",
     "output_type": "stream",
     "text": [
      "Use /var/folders/3r/pzt2_p_x2xdfl2057nxkp3nm0000gn/T/tmp5kro_903 as temporary training directory\n"
     ]
    },
    {
     "name": "stderr",
     "output_type": "stream",
     "text": [
      "[INFO 24-06-13 03:53:12.4461 CEST kernel.cc:1233] Loading model from path /var/folders/3r/pzt2_p_x2xdfl2057nxkp3nm0000gn/T/tmp2qbavmmm/model/ with prefix b6e00f7c94674c83\n",
      "[INFO 24-06-13 03:53:12.4485 CEST decision_forest.cc:734] Model loaded with 114 root(s), 2270 node(s), and 11 input feature(s).\n",
      "[INFO 24-06-13 03:53:12.4486 CEST kernel.cc:1061] Use fast generic engine\n",
      "[WARNING 24-06-13 03:53:12.5126 CEST gradient_boosted_trees.cc:1840] \"goss_alpha\" set but \"sampling_method\" not equal to \"GOSS\".\n",
      "[WARNING 24-06-13 03:53:12.5126 CEST gradient_boosted_trees.cc:1851] \"goss_beta\" set but \"sampling_method\" not equal to \"GOSS\".\n",
      "[WARNING 24-06-13 03:53:12.5126 CEST gradient_boosted_trees.cc:1865] \"selective_gradient_boosting_ratio\" set but \"sampling_method\" not equal to \"SELGB\".\n"
     ]
    },
    {
     "name": "stdout",
     "output_type": "stream",
     "text": [
      "Use /var/folders/3r/pzt2_p_x2xdfl2057nxkp3nm0000gn/T/tmp5tjsk3ut as temporary training directory\n"
     ]
    },
    {
     "name": "stderr",
     "output_type": "stream",
     "text": [
      "[INFO 24-06-13 03:53:12.7034 CEST kernel.cc:1233] Loading model from path /var/folders/3r/pzt2_p_x2xdfl2057nxkp3nm0000gn/T/tmp5kro_903/model/ with prefix 6f2c03de74a643c1\n",
      "[INFO 24-06-13 03:53:12.7053 CEST decision_forest.cc:734] Model loaded with 72 root(s), 1634 node(s), and 11 input feature(s).\n",
      "[INFO 24-06-13 03:53:12.7053 CEST kernel.cc:1061] Use fast generic engine\n",
      "[WARNING 24-06-13 03:53:12.7682 CEST gradient_boosted_trees.cc:1840] \"goss_alpha\" set but \"sampling_method\" not equal to \"GOSS\".\n",
      "[WARNING 24-06-13 03:53:12.7682 CEST gradient_boosted_trees.cc:1851] \"goss_beta\" set but \"sampling_method\" not equal to \"GOSS\".\n",
      "[WARNING 24-06-13 03:53:12.7682 CEST gradient_boosted_trees.cc:1865] \"selective_gradient_boosting_ratio\" set but \"sampling_method\" not equal to \"SELGB\".\n"
     ]
    },
    {
     "name": "stdout",
     "output_type": "stream",
     "text": [
      "Use /var/folders/3r/pzt2_p_x2xdfl2057nxkp3nm0000gn/T/tmppdwygp50 as temporary training directory\n"
     ]
    },
    {
     "name": "stderr",
     "output_type": "stream",
     "text": [
      "[INFO 24-06-13 03:53:13.0138 CEST kernel.cc:1233] Loading model from path /var/folders/3r/pzt2_p_x2xdfl2057nxkp3nm0000gn/T/tmp5tjsk3ut/model/ with prefix bae5ad6930834b6c\n",
      "[INFO 24-06-13 03:53:13.0166 CEST decision_forest.cc:734] Model loaded with 138 root(s), 2662 node(s), and 11 input feature(s).\n",
      "[INFO 24-06-13 03:53:13.0167 CEST kernel.cc:1061] Use fast generic engine\n",
      "[WARNING 24-06-13 03:53:13.0808 CEST gradient_boosted_trees.cc:1840] \"goss_alpha\" set but \"sampling_method\" not equal to \"GOSS\".\n",
      "[WARNING 24-06-13 03:53:13.0808 CEST gradient_boosted_trees.cc:1851] \"goss_beta\" set but \"sampling_method\" not equal to \"GOSS\".\n",
      "[WARNING 24-06-13 03:53:13.0809 CEST gradient_boosted_trees.cc:1865] \"selective_gradient_boosting_ratio\" set but \"sampling_method\" not equal to \"SELGB\".\n"
     ]
    },
    {
     "name": "stdout",
     "output_type": "stream",
     "text": [
      "Use /var/folders/3r/pzt2_p_x2xdfl2057nxkp3nm0000gn/T/tmpwlvc1w50 as temporary training directory\n"
     ]
    },
    {
     "name": "stderr",
     "output_type": "stream",
     "text": [
      "[INFO 24-06-13 03:53:13.3865 CEST kernel.cc:1233] Loading model from path /var/folders/3r/pzt2_p_x2xdfl2057nxkp3nm0000gn/T/tmppdwygp50/model/ with prefix 137b63da8f754bc1\n",
      "[INFO 24-06-13 03:53:13.3906 CEST decision_forest.cc:734] Model loaded with 180 root(s), 3858 node(s), and 11 input feature(s).\n",
      "[INFO 24-06-13 03:53:13.3907 CEST kernel.cc:1061] Use fast generic engine\n",
      "[WARNING 24-06-13 03:53:13.4555 CEST gradient_boosted_trees.cc:1840] \"goss_alpha\" set but \"sampling_method\" not equal to \"GOSS\".\n",
      "[WARNING 24-06-13 03:53:13.4555 CEST gradient_boosted_trees.cc:1851] \"goss_beta\" set but \"sampling_method\" not equal to \"GOSS\".\n",
      "[WARNING 24-06-13 03:53:13.4555 CEST gradient_boosted_trees.cc:1865] \"selective_gradient_boosting_ratio\" set but \"sampling_method\" not equal to \"SELGB\".\n"
     ]
    },
    {
     "name": "stdout",
     "output_type": "stream",
     "text": [
      "Use /var/folders/3r/pzt2_p_x2xdfl2057nxkp3nm0000gn/T/tmpvqchulya as temporary training directory\n"
     ]
    },
    {
     "name": "stderr",
     "output_type": "stream",
     "text": [
      "[INFO 24-06-13 03:53:13.8147 CEST kernel.cc:1233] Loading model from path /var/folders/3r/pzt2_p_x2xdfl2057nxkp3nm0000gn/T/tmpwlvc1w50/model/ with prefix fe3cb38f029249df\n",
      "[INFO 24-06-13 03:53:13.8191 CEST decision_forest.cc:734] Model loaded with 210 root(s), 4104 node(s), and 11 input feature(s).\n",
      "[INFO 24-06-13 03:53:13.8191 CEST kernel.cc:1061] Use fast generic engine\n",
      "[WARNING 24-06-13 03:53:13.8829 CEST gradient_boosted_trees.cc:1840] \"goss_alpha\" set but \"sampling_method\" not equal to \"GOSS\".\n",
      "[WARNING 24-06-13 03:53:13.8829 CEST gradient_boosted_trees.cc:1851] \"goss_beta\" set but \"sampling_method\" not equal to \"GOSS\".\n",
      "[WARNING 24-06-13 03:53:13.8829 CEST gradient_boosted_trees.cc:1865] \"selective_gradient_boosting_ratio\" set but \"sampling_method\" not equal to \"SELGB\".\n"
     ]
    },
    {
     "name": "stdout",
     "output_type": "stream",
     "text": [
      "Use /var/folders/3r/pzt2_p_x2xdfl2057nxkp3nm0000gn/T/tmpwftv988j as temporary training directory\n"
     ]
    },
    {
     "name": "stderr",
     "output_type": "stream",
     "text": [
      "[INFO 24-06-13 03:53:14.0821 CEST kernel.cc:1233] Loading model from path /var/folders/3r/pzt2_p_x2xdfl2057nxkp3nm0000gn/T/tmpvqchulya/model/ with prefix 85c942570fca4170\n",
      "[INFO 24-06-13 03:53:14.0844 CEST decision_forest.cc:734] Model loaded with 96 root(s), 1942 node(s), and 11 input feature(s).\n",
      "[INFO 24-06-13 03:53:14.0844 CEST kernel.cc:1061] Use fast generic engine\n",
      "[WARNING 24-06-13 03:53:14.1462 CEST gradient_boosted_trees.cc:1840] \"goss_alpha\" set but \"sampling_method\" not equal to \"GOSS\".\n",
      "[WARNING 24-06-13 03:53:14.1462 CEST gradient_boosted_trees.cc:1851] \"goss_beta\" set but \"sampling_method\" not equal to \"GOSS\".\n",
      "[WARNING 24-06-13 03:53:14.1462 CEST gradient_boosted_trees.cc:1865] \"selective_gradient_boosting_ratio\" set but \"sampling_method\" not equal to \"SELGB\".\n"
     ]
    },
    {
     "name": "stdout",
     "output_type": "stream",
     "text": [
      "Use /var/folders/3r/pzt2_p_x2xdfl2057nxkp3nm0000gn/T/tmp6gll7ma6 as temporary training directory\n"
     ]
    },
    {
     "name": "stderr",
     "output_type": "stream",
     "text": [
      "[INFO 24-06-13 03:53:14.3258 CEST kernel.cc:1233] Loading model from path /var/folders/3r/pzt2_p_x2xdfl2057nxkp3nm0000gn/T/tmpwftv988j/model/ with prefix e23ec9607dfd414b\n",
      "[INFO 24-06-13 03:53:14.3275 CEST decision_forest.cc:734] Model loaded with 72 root(s), 1496 node(s), and 11 input feature(s).\n",
      "[INFO 24-06-13 03:53:14.3275 CEST kernel.cc:1061] Use fast generic engine\n",
      "[WARNING 24-06-13 03:53:14.3906 CEST gradient_boosted_trees.cc:1840] \"goss_alpha\" set but \"sampling_method\" not equal to \"GOSS\".\n",
      "[WARNING 24-06-13 03:53:14.3907 CEST gradient_boosted_trees.cc:1851] \"goss_beta\" set but \"sampling_method\" not equal to \"GOSS\".\n",
      "[WARNING 24-06-13 03:53:14.3907 CEST gradient_boosted_trees.cc:1865] \"selective_gradient_boosting_ratio\" set but \"sampling_method\" not equal to \"SELGB\".\n"
     ]
    },
    {
     "name": "stdout",
     "output_type": "stream",
     "text": [
      "Use /var/folders/3r/pzt2_p_x2xdfl2057nxkp3nm0000gn/T/tmpj1f1juho as temporary training directory\n"
     ]
    },
    {
     "name": "stderr",
     "output_type": "stream",
     "text": [
      "[INFO 24-06-13 03:53:14.6454 CEST kernel.cc:1233] Loading model from path /var/folders/3r/pzt2_p_x2xdfl2057nxkp3nm0000gn/T/tmp6gll7ma6/model/ with prefix ed3ee1f2079b4abe\n",
      "[INFO 24-06-13 03:53:14.6478 CEST decision_forest.cc:734] Model loaded with 102 root(s), 2076 node(s), and 11 input feature(s).\n",
      "[INFO 24-06-13 03:53:14.6478 CEST kernel.cc:1061] Use fast generic engine\n",
      "[WARNING 24-06-13 03:53:14.7105 CEST gradient_boosted_trees.cc:1840] \"goss_alpha\" set but \"sampling_method\" not equal to \"GOSS\".\n",
      "[WARNING 24-06-13 03:53:14.7105 CEST gradient_boosted_trees.cc:1851] \"goss_beta\" set but \"sampling_method\" not equal to \"GOSS\".\n",
      "[WARNING 24-06-13 03:53:14.7105 CEST gradient_boosted_trees.cc:1865] \"selective_gradient_boosting_ratio\" set but \"sampling_method\" not equal to \"SELGB\".\n"
     ]
    },
    {
     "name": "stdout",
     "output_type": "stream",
     "text": [
      "Use /var/folders/3r/pzt2_p_x2xdfl2057nxkp3nm0000gn/T/tmp27rs00im as temporary training directory\n"
     ]
    },
    {
     "name": "stderr",
     "output_type": "stream",
     "text": [
      "[INFO 24-06-13 03:53:14.9943 CEST kernel.cc:1233] Loading model from path /var/folders/3r/pzt2_p_x2xdfl2057nxkp3nm0000gn/T/tmpj1f1juho/model/ with prefix 49cb72f7ae2f4bb6\n",
      "[INFO 24-06-13 03:53:14.9980 CEST decision_forest.cc:734] Model loaded with 162 root(s), 3276 node(s), and 11 input feature(s).\n",
      "[INFO 24-06-13 03:53:14.9980 CEST kernel.cc:1061] Use fast generic engine\n",
      "[WARNING 24-06-13 03:53:15.0619 CEST gradient_boosted_trees.cc:1840] \"goss_alpha\" set but \"sampling_method\" not equal to \"GOSS\".\n",
      "[WARNING 24-06-13 03:53:15.0620 CEST gradient_boosted_trees.cc:1851] \"goss_beta\" set but \"sampling_method\" not equal to \"GOSS\".\n",
      "[WARNING 24-06-13 03:53:15.0620 CEST gradient_boosted_trees.cc:1865] \"selective_gradient_boosting_ratio\" set but \"sampling_method\" not equal to \"SELGB\".\n"
     ]
    },
    {
     "name": "stdout",
     "output_type": "stream",
     "text": [
      "Use /var/folders/3r/pzt2_p_x2xdfl2057nxkp3nm0000gn/T/tmpkodt62wf as temporary training directory\n"
     ]
    },
    {
     "name": "stderr",
     "output_type": "stream",
     "text": [
      "[INFO 24-06-13 03:53:15.3567 CEST kernel.cc:1233] Loading model from path /var/folders/3r/pzt2_p_x2xdfl2057nxkp3nm0000gn/T/tmp27rs00im/model/ with prefix 48b10d201cc94445\n",
      "[INFO 24-06-13 03:53:15.3599 CEST decision_forest.cc:734] Model loaded with 150 root(s), 2874 node(s), and 11 input feature(s).\n",
      "[INFO 24-06-13 03:53:15.3599 CEST kernel.cc:1061] Use fast generic engine\n",
      "[WARNING 24-06-13 03:53:15.4222 CEST gradient_boosted_trees.cc:1840] \"goss_alpha\" set but \"sampling_method\" not equal to \"GOSS\".\n",
      "[WARNING 24-06-13 03:53:15.4222 CEST gradient_boosted_trees.cc:1851] \"goss_beta\" set but \"sampling_method\" not equal to \"GOSS\".\n",
      "[WARNING 24-06-13 03:53:15.4222 CEST gradient_boosted_trees.cc:1865] \"selective_gradient_boosting_ratio\" set but \"sampling_method\" not equal to \"SELGB\".\n"
     ]
    },
    {
     "name": "stdout",
     "output_type": "stream",
     "text": [
      "Use /var/folders/3r/pzt2_p_x2xdfl2057nxkp3nm0000gn/T/tmp2zmd3xub as temporary training directory\n"
     ]
    },
    {
     "name": "stderr",
     "output_type": "stream",
     "text": [
      "[INFO 24-06-13 03:53:15.6473 CEST kernel.cc:1233] Loading model from path /var/folders/3r/pzt2_p_x2xdfl2057nxkp3nm0000gn/T/tmpkodt62wf/model/ with prefix e0111caa7b824556\n",
      "[INFO 24-06-13 03:53:15.6501 CEST decision_forest.cc:734] Model loaded with 120 root(s), 2512 node(s), and 11 input feature(s).\n",
      "[INFO 24-06-13 03:53:15.6501 CEST kernel.cc:1061] Use fast generic engine\n",
      "[WARNING 24-06-13 03:53:15.7156 CEST gradient_boosted_trees.cc:1840] \"goss_alpha\" set but \"sampling_method\" not equal to \"GOSS\".\n",
      "[WARNING 24-06-13 03:53:15.7156 CEST gradient_boosted_trees.cc:1851] \"goss_beta\" set but \"sampling_method\" not equal to \"GOSS\".\n",
      "[WARNING 24-06-13 03:53:15.7156 CEST gradient_boosted_trees.cc:1865] \"selective_gradient_boosting_ratio\" set but \"sampling_method\" not equal to \"SELGB\".\n"
     ]
    },
    {
     "name": "stdout",
     "output_type": "stream",
     "text": [
      "Use /var/folders/3r/pzt2_p_x2xdfl2057nxkp3nm0000gn/T/tmpcal_ixzb as temporary training directory\n"
     ]
    },
    {
     "name": "stderr",
     "output_type": "stream",
     "text": [
      "[INFO 24-06-13 03:53:16.0241 CEST kernel.cc:1233] Loading model from path /var/folders/3r/pzt2_p_x2xdfl2057nxkp3nm0000gn/T/tmp2zmd3xub/model/ with prefix a688fdaf561b4e8d\n",
      "[INFO 24-06-13 03:53:16.0278 CEST decision_forest.cc:734] Model loaded with 168 root(s), 3246 node(s), and 11 input feature(s).\n",
      "[INFO 24-06-13 03:53:16.0278 CEST abstract_model.cc:1344] Engine \"GradientBoostedTreesGeneric\" built\n",
      "[INFO 24-06-13 03:53:16.0278 CEST kernel.cc:1061] Use fast generic engine\n",
      "[WARNING 24-06-13 03:53:16.0942 CEST gradient_boosted_trees.cc:1840] \"goss_alpha\" set but \"sampling_method\" not equal to \"GOSS\".\n",
      "[WARNING 24-06-13 03:53:16.0942 CEST gradient_boosted_trees.cc:1851] \"goss_beta\" set but \"sampling_method\" not equal to \"GOSS\".\n",
      "[WARNING 24-06-13 03:53:16.0942 CEST gradient_boosted_trees.cc:1865] \"selective_gradient_boosting_ratio\" set but \"sampling_method\" not equal to \"SELGB\".\n"
     ]
    },
    {
     "name": "stdout",
     "output_type": "stream",
     "text": [
      "Use /var/folders/3r/pzt2_p_x2xdfl2057nxkp3nm0000gn/T/tmpcv7ejj4q as temporary training directory\n"
     ]
    },
    {
     "name": "stderr",
     "output_type": "stream",
     "text": [
      "[INFO 24-06-13 03:53:16.4179 CEST kernel.cc:1233] Loading model from path /var/folders/3r/pzt2_p_x2xdfl2057nxkp3nm0000gn/T/tmpcal_ixzb/model/ with prefix 50d8276a42af43fc\n",
      "[INFO 24-06-13 03:53:16.4218 CEST decision_forest.cc:734] Model loaded with 192 root(s), 3754 node(s), and 11 input feature(s).\n",
      "[INFO 24-06-13 03:53:16.4218 CEST kernel.cc:1061] Use fast generic engine\n",
      "[WARNING 24-06-13 03:53:16.4839 CEST gradient_boosted_trees.cc:1840] \"goss_alpha\" set but \"sampling_method\" not equal to \"GOSS\".\n",
      "[WARNING 24-06-13 03:53:16.4839 CEST gradient_boosted_trees.cc:1851] \"goss_beta\" set but \"sampling_method\" not equal to \"GOSS\".\n",
      "[WARNING 24-06-13 03:53:16.4839 CEST gradient_boosted_trees.cc:1865] \"selective_gradient_boosting_ratio\" set but \"sampling_method\" not equal to \"SELGB\".\n"
     ]
    },
    {
     "name": "stdout",
     "output_type": "stream",
     "text": [
      "Use /var/folders/3r/pzt2_p_x2xdfl2057nxkp3nm0000gn/T/tmp6t6bn_5p as temporary training directory\n"
     ]
    },
    {
     "name": "stderr",
     "output_type": "stream",
     "text": [
      "[INFO 24-06-13 03:53:16.8490 CEST kernel.cc:1233] Loading model from path /var/folders/3r/pzt2_p_x2xdfl2057nxkp3nm0000gn/T/tmpcv7ejj4q/model/ with prefix 656a06fad6d249ed\n",
      "[INFO 24-06-13 03:53:16.8521 CEST decision_forest.cc:734] Model loaded with 144 root(s), 2960 node(s), and 11 input feature(s).\n",
      "[INFO 24-06-13 03:53:16.8521 CEST kernel.cc:1061] Use fast generic engine\n",
      "[WARNING 24-06-13 03:53:16.9162 CEST gradient_boosted_trees.cc:1840] \"goss_alpha\" set but \"sampling_method\" not equal to \"GOSS\".\n",
      "[WARNING 24-06-13 03:53:16.9162 CEST gradient_boosted_trees.cc:1851] \"goss_beta\" set but \"sampling_method\" not equal to \"GOSS\".\n",
      "[WARNING 24-06-13 03:53:16.9162 CEST gradient_boosted_trees.cc:1865] \"selective_gradient_boosting_ratio\" set but \"sampling_method\" not equal to \"SELGB\".\n"
     ]
    },
    {
     "name": "stdout",
     "output_type": "stream",
     "text": [
      "Use /var/folders/3r/pzt2_p_x2xdfl2057nxkp3nm0000gn/T/tmp5jmne0an as temporary training directory\n"
     ]
    },
    {
     "name": "stderr",
     "output_type": "stream",
     "text": [
      "[INFO 24-06-13 03:53:17.1518 CEST kernel.cc:1233] Loading model from path /var/folders/3r/pzt2_p_x2xdfl2057nxkp3nm0000gn/T/tmp6t6bn_5p/model/ with prefix 32f313224ccb4b90\n",
      "[INFO 24-06-13 03:53:17.1544 CEST decision_forest.cc:734] Model loaded with 120 root(s), 2404 node(s), and 11 input feature(s).\n",
      "[INFO 24-06-13 03:53:17.1544 CEST kernel.cc:1061] Use fast generic engine\n",
      "[WARNING 24-06-13 03:53:17.2152 CEST gradient_boosted_trees.cc:1840] \"goss_alpha\" set but \"sampling_method\" not equal to \"GOSS\".\n",
      "[WARNING 24-06-13 03:53:17.2152 CEST gradient_boosted_trees.cc:1851] \"goss_beta\" set but \"sampling_method\" not equal to \"GOSS\".\n",
      "[WARNING 24-06-13 03:53:17.2152 CEST gradient_boosted_trees.cc:1865] \"selective_gradient_boosting_ratio\" set but \"sampling_method\" not equal to \"SELGB\".\n"
     ]
    },
    {
     "name": "stdout",
     "output_type": "stream",
     "text": [
      "Use /var/folders/3r/pzt2_p_x2xdfl2057nxkp3nm0000gn/T/tmpwq01m3uo as temporary training directory\n"
     ]
    },
    {
     "name": "stderr",
     "output_type": "stream",
     "text": [
      "[INFO 24-06-13 03:53:17.4883 CEST kernel.cc:1233] Loading model from path /var/folders/3r/pzt2_p_x2xdfl2057nxkp3nm0000gn/T/tmp5jmne0an/model/ with prefix 68b2b232435045b0\n",
      "[INFO 24-06-13 03:53:17.4917 CEST decision_forest.cc:734] Model loaded with 162 root(s), 3240 node(s), and 11 input feature(s).\n",
      "[INFO 24-06-13 03:53:17.4917 CEST kernel.cc:1061] Use fast generic engine\n",
      "[WARNING 24-06-13 03:53:17.5519 CEST gradient_boosted_trees.cc:1840] \"goss_alpha\" set but \"sampling_method\" not equal to \"GOSS\".\n",
      "[WARNING 24-06-13 03:53:17.5519 CEST gradient_boosted_trees.cc:1851] \"goss_beta\" set but \"sampling_method\" not equal to \"GOSS\".\n",
      "[WARNING 24-06-13 03:53:17.5519 CEST gradient_boosted_trees.cc:1865] \"selective_gradient_boosting_ratio\" set but \"sampling_method\" not equal to \"SELGB\".\n"
     ]
    },
    {
     "name": "stdout",
     "output_type": "stream",
     "text": [
      "Use /var/folders/3r/pzt2_p_x2xdfl2057nxkp3nm0000gn/T/tmp8h7ucidk as temporary training directory\n"
     ]
    },
    {
     "name": "stderr",
     "output_type": "stream",
     "text": [
      "[INFO 24-06-13 03:53:17.8193 CEST kernel.cc:1233] Loading model from path /var/folders/3r/pzt2_p_x2xdfl2057nxkp3nm0000gn/T/tmpwq01m3uo/model/ with prefix ae083413ed894614\n",
      "[INFO 24-06-13 03:53:17.8221 CEST decision_forest.cc:734] Model loaded with 126 root(s), 2648 node(s), and 11 input feature(s).\n",
      "[INFO 24-06-13 03:53:17.8221 CEST kernel.cc:1061] Use fast generic engine\n",
      "[WARNING 24-06-13 03:53:17.8828 CEST gradient_boosted_trees.cc:1840] \"goss_alpha\" set but \"sampling_method\" not equal to \"GOSS\".\n",
      "[WARNING 24-06-13 03:53:17.8828 CEST gradient_boosted_trees.cc:1851] \"goss_beta\" set but \"sampling_method\" not equal to \"GOSS\".\n",
      "[WARNING 24-06-13 03:53:17.8828 CEST gradient_boosted_trees.cc:1865] \"selective_gradient_boosting_ratio\" set but \"sampling_method\" not equal to \"SELGB\".\n"
     ]
    },
    {
     "name": "stdout",
     "output_type": "stream",
     "text": [
      "Use /var/folders/3r/pzt2_p_x2xdfl2057nxkp3nm0000gn/T/tmp1es78zal as temporary training directory\n"
     ]
    },
    {
     "name": "stderr",
     "output_type": "stream",
     "text": [
      "[INFO 24-06-13 03:53:18.1305 CEST kernel.cc:1233] Loading model from path /var/folders/3r/pzt2_p_x2xdfl2057nxkp3nm0000gn/T/tmp8h7ucidk/model/ with prefix f3c45154723b4209\n",
      "[INFO 24-06-13 03:53:18.1331 CEST decision_forest.cc:734] Model loaded with 114 root(s), 2468 node(s), and 11 input feature(s).\n",
      "[INFO 24-06-13 03:53:18.1331 CEST kernel.cc:1061] Use fast generic engine\n",
      "[WARNING 24-06-13 03:53:18.1936 CEST gradient_boosted_trees.cc:1840] \"goss_alpha\" set but \"sampling_method\" not equal to \"GOSS\".\n",
      "[WARNING 24-06-13 03:53:18.1936 CEST gradient_boosted_trees.cc:1851] \"goss_beta\" set but \"sampling_method\" not equal to \"GOSS\".\n",
      "[WARNING 24-06-13 03:53:18.1936 CEST gradient_boosted_trees.cc:1865] \"selective_gradient_boosting_ratio\" set but \"sampling_method\" not equal to \"SELGB\".\n"
     ]
    },
    {
     "name": "stdout",
     "output_type": "stream",
     "text": [
      "Use /var/folders/3r/pzt2_p_x2xdfl2057nxkp3nm0000gn/T/tmpug915lgs as temporary training directory\n"
     ]
    },
    {
     "name": "stderr",
     "output_type": "stream",
     "text": [
      "[INFO 24-06-13 03:53:18.4329 CEST kernel.cc:1233] Loading model from path /var/folders/3r/pzt2_p_x2xdfl2057nxkp3nm0000gn/T/tmp1es78zal/model/ with prefix 8755ec4556784aba\n",
      "[INFO 24-06-13 03:53:18.4354 CEST decision_forest.cc:734] Model loaded with 114 root(s), 2372 node(s), and 11 input feature(s).\n",
      "[INFO 24-06-13 03:53:18.4354 CEST kernel.cc:1061] Use fast generic engine\n",
      "[WARNING 24-06-13 03:53:18.4961 CEST gradient_boosted_trees.cc:1840] \"goss_alpha\" set but \"sampling_method\" not equal to \"GOSS\".\n",
      "[WARNING 24-06-13 03:53:18.4961 CEST gradient_boosted_trees.cc:1851] \"goss_beta\" set but \"sampling_method\" not equal to \"GOSS\".\n",
      "[WARNING 24-06-13 03:53:18.4962 CEST gradient_boosted_trees.cc:1865] \"selective_gradient_boosting_ratio\" set but \"sampling_method\" not equal to \"SELGB\".\n"
     ]
    },
    {
     "name": "stdout",
     "output_type": "stream",
     "text": [
      "Use /var/folders/3r/pzt2_p_x2xdfl2057nxkp3nm0000gn/T/tmpg3sm6cjp as temporary training directory\n"
     ]
    },
    {
     "name": "stderr",
     "output_type": "stream",
     "text": [
      "[INFO 24-06-13 03:53:18.7330 CEST kernel.cc:1233] Loading model from path /var/folders/3r/pzt2_p_x2xdfl2057nxkp3nm0000gn/T/tmpug915lgs/model/ with prefix dcbc7e462a8e4217\n",
      "[INFO 24-06-13 03:53:18.7358 CEST decision_forest.cc:734] Model loaded with 126 root(s), 2508 node(s), and 11 input feature(s).\n",
      "[INFO 24-06-13 03:53:18.7358 CEST kernel.cc:1061] Use fast generic engine\n",
      "[WARNING 24-06-13 03:53:18.8010 CEST gradient_boosted_trees.cc:1840] \"goss_alpha\" set but \"sampling_method\" not equal to \"GOSS\".\n",
      "[WARNING 24-06-13 03:53:18.8010 CEST gradient_boosted_trees.cc:1851] \"goss_beta\" set but \"sampling_method\" not equal to \"GOSS\".\n",
      "[WARNING 24-06-13 03:53:18.8010 CEST gradient_boosted_trees.cc:1865] \"selective_gradient_boosting_ratio\" set but \"sampling_method\" not equal to \"SELGB\".\n"
     ]
    },
    {
     "name": "stdout",
     "output_type": "stream",
     "text": [
      "Use /var/folders/3r/pzt2_p_x2xdfl2057nxkp3nm0000gn/T/tmp4ar1qii4 as temporary training directory\n"
     ]
    },
    {
     "name": "stderr",
     "output_type": "stream",
     "text": [
      "[INFO 24-06-13 03:53:19.1232 CEST kernel.cc:1233] Loading model from path /var/folders/3r/pzt2_p_x2xdfl2057nxkp3nm0000gn/T/tmpg3sm6cjp/model/ with prefix d873e544d17d4617\n",
      "[INFO 24-06-13 03:53:19.1270 CEST decision_forest.cc:734] Model loaded with 180 root(s), 3672 node(s), and 11 input feature(s).\n",
      "[INFO 24-06-13 03:53:19.1271 CEST kernel.cc:1061] Use fast generic engine\n",
      "[WARNING 24-06-13 03:53:19.1870 CEST gradient_boosted_trees.cc:1840] \"goss_alpha\" set but \"sampling_method\" not equal to \"GOSS\".\n",
      "[WARNING 24-06-13 03:53:19.1870 CEST gradient_boosted_trees.cc:1851] \"goss_beta\" set but \"sampling_method\" not equal to \"GOSS\".\n",
      "[WARNING 24-06-13 03:53:19.1870 CEST gradient_boosted_trees.cc:1865] \"selective_gradient_boosting_ratio\" set but \"sampling_method\" not equal to \"SELGB\".\n"
     ]
    },
    {
     "name": "stdout",
     "output_type": "stream",
     "text": [
      "Use /var/folders/3r/pzt2_p_x2xdfl2057nxkp3nm0000gn/T/tmpeug1sli0 as temporary training directory\n"
     ]
    },
    {
     "name": "stderr",
     "output_type": "stream",
     "text": [
      "[INFO 24-06-13 03:53:19.4422 CEST kernel.cc:1233] Loading model from path /var/folders/3r/pzt2_p_x2xdfl2057nxkp3nm0000gn/T/tmp4ar1qii4/model/ with prefix 6067fee48fef43d8\n",
      "[INFO 24-06-13 03:53:19.4451 CEST decision_forest.cc:734] Model loaded with 132 root(s), 2762 node(s), and 11 input feature(s).\n",
      "[INFO 24-06-13 03:53:19.4451 CEST kernel.cc:1061] Use fast generic engine\n",
      "[WARNING 24-06-13 03:53:19.5051 CEST gradient_boosted_trees.cc:1840] \"goss_alpha\" set but \"sampling_method\" not equal to \"GOSS\".\n",
      "[WARNING 24-06-13 03:53:19.5052 CEST gradient_boosted_trees.cc:1851] \"goss_beta\" set but \"sampling_method\" not equal to \"GOSS\".\n",
      "[WARNING 24-06-13 03:53:19.5052 CEST gradient_boosted_trees.cc:1865] \"selective_gradient_boosting_ratio\" set but \"sampling_method\" not equal to \"SELGB\".\n"
     ]
    },
    {
     "name": "stdout",
     "output_type": "stream",
     "text": [
      "Use /var/folders/3r/pzt2_p_x2xdfl2057nxkp3nm0000gn/T/tmpyvkal0ie as temporary training directory\n"
     ]
    },
    {
     "name": "stderr",
     "output_type": "stream",
     "text": [
      "[INFO 24-06-13 03:53:19.6943 CEST kernel.cc:1233] Loading model from path /var/folders/3r/pzt2_p_x2xdfl2057nxkp3nm0000gn/T/tmpeug1sli0/model/ with prefix a1a38a5beb76439f\n",
      "[INFO 24-06-13 03:53:19.6962 CEST decision_forest.cc:734] Model loaded with 78 root(s), 1670 node(s), and 11 input feature(s).\n",
      "[INFO 24-06-13 03:53:19.6963 CEST kernel.cc:1061] Use fast generic engine\n",
      "[WARNING 24-06-13 03:53:19.7613 CEST gradient_boosted_trees.cc:1840] \"goss_alpha\" set but \"sampling_method\" not equal to \"GOSS\".\n",
      "[WARNING 24-06-13 03:53:19.7613 CEST gradient_boosted_trees.cc:1851] \"goss_beta\" set but \"sampling_method\" not equal to \"GOSS\".\n",
      "[WARNING 24-06-13 03:53:19.7613 CEST gradient_boosted_trees.cc:1865] \"selective_gradient_boosting_ratio\" set but \"sampling_method\" not equal to \"SELGB\".\n"
     ]
    },
    {
     "name": "stdout",
     "output_type": "stream",
     "text": [
      "Use /var/folders/3r/pzt2_p_x2xdfl2057nxkp3nm0000gn/T/tmpl7tgegwj as temporary training directory\n"
     ]
    },
    {
     "name": "stderr",
     "output_type": "stream",
     "text": [
      "[INFO 24-06-13 03:53:19.9382 CEST kernel.cc:1233] Loading model from path /var/folders/3r/pzt2_p_x2xdfl2057nxkp3nm0000gn/T/tmpyvkal0ie/model/ with prefix fd79b20b3d2c45a3\n",
      "[INFO 24-06-13 03:53:19.9400 CEST decision_forest.cc:734] Model loaded with 72 root(s), 1554 node(s), and 11 input feature(s).\n",
      "[INFO 24-06-13 03:53:19.9400 CEST kernel.cc:1061] Use fast generic engine\n",
      "[WARNING 24-06-13 03:53:19.9991 CEST gradient_boosted_trees.cc:1840] \"goss_alpha\" set but \"sampling_method\" not equal to \"GOSS\".\n",
      "[WARNING 24-06-13 03:53:19.9992 CEST gradient_boosted_trees.cc:1851] \"goss_beta\" set but \"sampling_method\" not equal to \"GOSS\".\n",
      "[WARNING 24-06-13 03:53:19.9992 CEST gradient_boosted_trees.cc:1865] \"selective_gradient_boosting_ratio\" set but \"sampling_method\" not equal to \"SELGB\".\n"
     ]
    },
    {
     "name": "stdout",
     "output_type": "stream",
     "text": [
      "Use /var/folders/3r/pzt2_p_x2xdfl2057nxkp3nm0000gn/T/tmphe4t794j as temporary training directory\n"
     ]
    },
    {
     "name": "stderr",
     "output_type": "stream",
     "text": [
      "[INFO 24-06-13 03:53:20.2575 CEST kernel.cc:1233] Loading model from path /var/folders/3r/pzt2_p_x2xdfl2057nxkp3nm0000gn/T/tmpl7tgegwj/model/ with prefix 81cac0fb8def4db7\n",
      "[INFO 24-06-13 03:53:20.2607 CEST decision_forest.cc:734] Model loaded with 138 root(s), 2874 node(s), and 11 input feature(s).\n",
      "[INFO 24-06-13 03:53:20.2607 CEST kernel.cc:1061] Use fast generic engine\n",
      "[WARNING 24-06-13 03:53:20.3231 CEST gradient_boosted_trees.cc:1840] \"goss_alpha\" set but \"sampling_method\" not equal to \"GOSS\".\n",
      "[WARNING 24-06-13 03:53:20.3231 CEST gradient_boosted_trees.cc:1851] \"goss_beta\" set but \"sampling_method\" not equal to \"GOSS\".\n",
      "[WARNING 24-06-13 03:53:20.3231 CEST gradient_boosted_trees.cc:1865] \"selective_gradient_boosting_ratio\" set but \"sampling_method\" not equal to \"SELGB\".\n"
     ]
    },
    {
     "name": "stdout",
     "output_type": "stream",
     "text": [
      "Use /var/folders/3r/pzt2_p_x2xdfl2057nxkp3nm0000gn/T/tmpztf9xkq0 as temporary training directory\n"
     ]
    },
    {
     "name": "stderr",
     "output_type": "stream",
     "text": [
      "[INFO 24-06-13 03:53:20.5438 CEST kernel.cc:1233] Loading model from path /var/folders/3r/pzt2_p_x2xdfl2057nxkp3nm0000gn/T/tmphe4t794j/model/ with prefix 0a280b8e28324b3b\n",
      "[INFO 24-06-13 03:53:20.5460 CEST decision_forest.cc:734] Model loaded with 102 root(s), 2042 node(s), and 11 input feature(s).\n",
      "[INFO 24-06-13 03:53:20.5460 CEST kernel.cc:1061] Use fast generic engine\n",
      "[WARNING 24-06-13 03:53:20.6083 CEST gradient_boosted_trees.cc:1840] \"goss_alpha\" set but \"sampling_method\" not equal to \"GOSS\".\n",
      "[WARNING 24-06-13 03:53:20.6083 CEST gradient_boosted_trees.cc:1851] \"goss_beta\" set but \"sampling_method\" not equal to \"GOSS\".\n",
      "[WARNING 24-06-13 03:53:20.6083 CEST gradient_boosted_trees.cc:1865] \"selective_gradient_boosting_ratio\" set but \"sampling_method\" not equal to \"SELGB\".\n"
     ]
    },
    {
     "name": "stdout",
     "output_type": "stream",
     "text": [
      "Use /var/folders/3r/pzt2_p_x2xdfl2057nxkp3nm0000gn/T/tmpmihisika as temporary training directory\n"
     ]
    },
    {
     "name": "stderr",
     "output_type": "stream",
     "text": [
      "[INFO 24-06-13 03:53:20.8901 CEST kernel.cc:1233] Loading model from path /var/folders/3r/pzt2_p_x2xdfl2057nxkp3nm0000gn/T/tmpztf9xkq0/model/ with prefix 26022c0cbaa243aa\n",
      "[INFO 24-06-13 03:53:20.8934 CEST decision_forest.cc:734] Model loaded with 156 root(s), 3208 node(s), and 11 input feature(s).\n",
      "[INFO 24-06-13 03:53:20.8934 CEST kernel.cc:1061] Use fast generic engine\n",
      "[WARNING 24-06-13 03:53:20.9594 CEST gradient_boosted_trees.cc:1840] \"goss_alpha\" set but \"sampling_method\" not equal to \"GOSS\".\n",
      "[WARNING 24-06-13 03:53:20.9594 CEST gradient_boosted_trees.cc:1851] \"goss_beta\" set but \"sampling_method\" not equal to \"GOSS\".\n",
      "[WARNING 24-06-13 03:53:20.9594 CEST gradient_boosted_trees.cc:1865] \"selective_gradient_boosting_ratio\" set but \"sampling_method\" not equal to \"SELGB\".\n"
     ]
    },
    {
     "name": "stdout",
     "output_type": "stream",
     "text": [
      "Use /var/folders/3r/pzt2_p_x2xdfl2057nxkp3nm0000gn/T/tmpkdzjtoqq as temporary training directory\n"
     ]
    },
    {
     "name": "stderr",
     "output_type": "stream",
     "text": [
      "[INFO 24-06-13 03:53:21.2815 CEST kernel.cc:1233] Loading model from path /var/folders/3r/pzt2_p_x2xdfl2057nxkp3nm0000gn/T/tmpmihisika/model/ with prefix 86c96649e426438f\n",
      "[INFO 24-06-13 03:53:21.2855 CEST decision_forest.cc:734] Model loaded with 186 root(s), 3708 node(s), and 11 input feature(s).\n",
      "[INFO 24-06-13 03:53:21.2855 CEST kernel.cc:1061] Use fast generic engine\n",
      "[WARNING 24-06-13 03:53:21.3500 CEST gradient_boosted_trees.cc:1840] \"goss_alpha\" set but \"sampling_method\" not equal to \"GOSS\".\n",
      "[WARNING 24-06-13 03:53:21.3500 CEST gradient_boosted_trees.cc:1851] \"goss_beta\" set but \"sampling_method\" not equal to \"GOSS\".\n",
      "[WARNING 24-06-13 03:53:21.3500 CEST gradient_boosted_trees.cc:1865] \"selective_gradient_boosting_ratio\" set but \"sampling_method\" not equal to \"SELGB\".\n"
     ]
    },
    {
     "name": "stdout",
     "output_type": "stream",
     "text": [
      "Use /var/folders/3r/pzt2_p_x2xdfl2057nxkp3nm0000gn/T/tmp_64zpp44 as temporary training directory\n"
     ]
    },
    {
     "name": "stderr",
     "output_type": "stream",
     "text": [
      "[INFO 24-06-13 03:53:21.6896 CEST kernel.cc:1233] Loading model from path /var/folders/3r/pzt2_p_x2xdfl2057nxkp3nm0000gn/T/tmpkdzjtoqq/model/ with prefix 4b93a53ce6ef474e\n",
      "[INFO 24-06-13 03:53:21.6937 CEST decision_forest.cc:734] Model loaded with 192 root(s), 3884 node(s), and 11 input feature(s).\n",
      "[INFO 24-06-13 03:53:21.6937 CEST kernel.cc:1061] Use fast generic engine\n",
      "[WARNING 24-06-13 03:53:21.7584 CEST gradient_boosted_trees.cc:1840] \"goss_alpha\" set but \"sampling_method\" not equal to \"GOSS\".\n",
      "[WARNING 24-06-13 03:53:21.7584 CEST gradient_boosted_trees.cc:1851] \"goss_beta\" set but \"sampling_method\" not equal to \"GOSS\".\n",
      "[WARNING 24-06-13 03:53:21.7584 CEST gradient_boosted_trees.cc:1865] \"selective_gradient_boosting_ratio\" set but \"sampling_method\" not equal to \"SELGB\".\n"
     ]
    },
    {
     "name": "stdout",
     "output_type": "stream",
     "text": [
      "Use /var/folders/3r/pzt2_p_x2xdfl2057nxkp3nm0000gn/T/tmpgkgxtlo8 as temporary training directory\n"
     ]
    },
    {
     "name": "stderr",
     "output_type": "stream",
     "text": [
      "[INFO 24-06-13 03:53:21.9652 CEST kernel.cc:1233] Loading model from path /var/folders/3r/pzt2_p_x2xdfl2057nxkp3nm0000gn/T/tmp_64zpp44/model/ with prefix 07786eb89cbb479e\n",
      "[INFO 24-06-13 03:53:21.9678 CEST decision_forest.cc:734] Model loaded with 120 root(s), 2382 node(s), and 11 input feature(s).\n",
      "[INFO 24-06-13 03:53:21.9678 CEST kernel.cc:1061] Use fast generic engine\n",
      "[WARNING 24-06-13 03:53:22.0269 CEST gradient_boosted_trees.cc:1840] \"goss_alpha\" set but \"sampling_method\" not equal to \"GOSS\".\n",
      "[WARNING 24-06-13 03:53:22.0269 CEST gradient_boosted_trees.cc:1851] \"goss_beta\" set but \"sampling_method\" not equal to \"GOSS\".\n",
      "[WARNING 24-06-13 03:53:22.0270 CEST gradient_boosted_trees.cc:1865] \"selective_gradient_boosting_ratio\" set but \"sampling_method\" not equal to \"SELGB\".\n"
     ]
    },
    {
     "name": "stdout",
     "output_type": "stream",
     "text": [
      "Use /var/folders/3r/pzt2_p_x2xdfl2057nxkp3nm0000gn/T/tmpb8qdruyc as temporary training directory\n"
     ]
    },
    {
     "name": "stderr",
     "output_type": "stream",
     "text": [
      "[INFO 24-06-13 03:53:22.2696 CEST kernel.cc:1233] Loading model from path /var/folders/3r/pzt2_p_x2xdfl2057nxkp3nm0000gn/T/tmpgkgxtlo8/model/ with prefix 4409136a4cf44ce3\n",
      "[INFO 24-06-13 03:53:22.2725 CEST decision_forest.cc:734] Model loaded with 132 root(s), 2818 node(s), and 11 input feature(s).\n",
      "[INFO 24-06-13 03:53:22.2725 CEST kernel.cc:1061] Use fast generic engine\n",
      "[WARNING 24-06-13 03:53:22.3351 CEST gradient_boosted_trees.cc:1840] \"goss_alpha\" set but \"sampling_method\" not equal to \"GOSS\".\n",
      "[WARNING 24-06-13 03:53:22.3351 CEST gradient_boosted_trees.cc:1851] \"goss_beta\" set but \"sampling_method\" not equal to \"GOSS\".\n",
      "[WARNING 24-06-13 03:53:22.3351 CEST gradient_boosted_trees.cc:1865] \"selective_gradient_boosting_ratio\" set but \"sampling_method\" not equal to \"SELGB\".\n"
     ]
    },
    {
     "name": "stdout",
     "output_type": "stream",
     "text": [
      "Use /var/folders/3r/pzt2_p_x2xdfl2057nxkp3nm0000gn/T/tmp5ttrgcig as temporary training directory\n"
     ]
    },
    {
     "name": "stderr",
     "output_type": "stream",
     "text": [
      "[INFO 24-06-13 03:53:22.5006 CEST kernel.cc:1233] Loading model from path /var/folders/3r/pzt2_p_x2xdfl2057nxkp3nm0000gn/T/tmpb8qdruyc/model/ with prefix c417bc17cf6f43bd\n",
      "[INFO 24-06-13 03:53:22.5026 CEST decision_forest.cc:734] Model loaded with 84 root(s), 1768 node(s), and 11 input feature(s).\n",
      "[INFO 24-06-13 03:53:22.5026 CEST kernel.cc:1061] Use fast generic engine\n",
      "[WARNING 24-06-13 03:53:22.5619 CEST gradient_boosted_trees.cc:1840] \"goss_alpha\" set but \"sampling_method\" not equal to \"GOSS\".\n",
      "[WARNING 24-06-13 03:53:22.5619 CEST gradient_boosted_trees.cc:1851] \"goss_beta\" set but \"sampling_method\" not equal to \"GOSS\".\n",
      "[WARNING 24-06-13 03:53:22.5620 CEST gradient_boosted_trees.cc:1865] \"selective_gradient_boosting_ratio\" set but \"sampling_method\" not equal to \"SELGB\".\n"
     ]
    },
    {
     "name": "stdout",
     "output_type": "stream",
     "text": [
      "Use /var/folders/3r/pzt2_p_x2xdfl2057nxkp3nm0000gn/T/tmpllu9r81k as temporary training directory\n"
     ]
    },
    {
     "name": "stderr",
     "output_type": "stream",
     "text": [
      "[INFO 24-06-13 03:53:22.7974 CEST kernel.cc:1233] Loading model from path /var/folders/3r/pzt2_p_x2xdfl2057nxkp3nm0000gn/T/tmp5ttrgcig/model/ with prefix 8dfdde2b016a4b1b\n",
      "[INFO 24-06-13 03:53:22.8001 CEST decision_forest.cc:734] Model loaded with 120 root(s), 2448 node(s), and 11 input feature(s).\n",
      "[INFO 24-06-13 03:53:22.8001 CEST kernel.cc:1061] Use fast generic engine\n",
      "[WARNING 24-06-13 03:53:22.8663 CEST gradient_boosted_trees.cc:1840] \"goss_alpha\" set but \"sampling_method\" not equal to \"GOSS\".\n",
      "[WARNING 24-06-13 03:53:22.8663 CEST gradient_boosted_trees.cc:1851] \"goss_beta\" set but \"sampling_method\" not equal to \"GOSS\".\n",
      "[WARNING 24-06-13 03:53:22.8663 CEST gradient_boosted_trees.cc:1865] \"selective_gradient_boosting_ratio\" set but \"sampling_method\" not equal to \"SELGB\".\n"
     ]
    },
    {
     "name": "stdout",
     "output_type": "stream",
     "text": [
      "Use /var/folders/3r/pzt2_p_x2xdfl2057nxkp3nm0000gn/T/tmpskz3ca5c as temporary training directory\n"
     ]
    },
    {
     "name": "stderr",
     "output_type": "stream",
     "text": [
      "[INFO 24-06-13 03:53:23.1885 CEST kernel.cc:1233] Loading model from path /var/folders/3r/pzt2_p_x2xdfl2057nxkp3nm0000gn/T/tmpllu9r81k/model/ with prefix 4afea7158a334f76\n",
      "[INFO 24-06-13 03:53:23.1919 CEST decision_forest.cc:734] Model loaded with 162 root(s), 3334 node(s), and 11 input feature(s).\n",
      "[INFO 24-06-13 03:53:23.1920 CEST kernel.cc:1061] Use fast generic engine\n",
      "[WARNING 24-06-13 03:53:23.2552 CEST gradient_boosted_trees.cc:1840] \"goss_alpha\" set but \"sampling_method\" not equal to \"GOSS\".\n",
      "[WARNING 24-06-13 03:53:23.2552 CEST gradient_boosted_trees.cc:1851] \"goss_beta\" set but \"sampling_method\" not equal to \"GOSS\".\n",
      "[WARNING 24-06-13 03:53:23.2553 CEST gradient_boosted_trees.cc:1865] \"selective_gradient_boosting_ratio\" set but \"sampling_method\" not equal to \"SELGB\".\n"
     ]
    },
    {
     "name": "stdout",
     "output_type": "stream",
     "text": [
      "Use /var/folders/3r/pzt2_p_x2xdfl2057nxkp3nm0000gn/T/tmpmau8rllz as temporary training directory\n"
     ]
    },
    {
     "name": "stderr",
     "output_type": "stream",
     "text": [
      "[INFO 24-06-13 03:53:23.4990 CEST kernel.cc:1233] Loading model from path /var/folders/3r/pzt2_p_x2xdfl2057nxkp3nm0000gn/T/tmpskz3ca5c/model/ with prefix cfcba60933244ddc\n",
      "[INFO 24-06-13 03:53:23.5018 CEST decision_forest.cc:734] Model loaded with 132 root(s), 2674 node(s), and 11 input feature(s).\n",
      "[INFO 24-06-13 03:53:23.5018 CEST kernel.cc:1061] Use fast generic engine\n",
      "[WARNING 24-06-13 03:53:23.5625 CEST gradient_boosted_trees.cc:1840] \"goss_alpha\" set but \"sampling_method\" not equal to \"GOSS\".\n",
      "[WARNING 24-06-13 03:53:23.5625 CEST gradient_boosted_trees.cc:1851] \"goss_beta\" set but \"sampling_method\" not equal to \"GOSS\".\n",
      "[WARNING 24-06-13 03:53:23.5625 CEST gradient_boosted_trees.cc:1865] \"selective_gradient_boosting_ratio\" set but \"sampling_method\" not equal to \"SELGB\".\n"
     ]
    },
    {
     "name": "stdout",
     "output_type": "stream",
     "text": [
      "Use /var/folders/3r/pzt2_p_x2xdfl2057nxkp3nm0000gn/T/tmpi8w16o3j as temporary training directory\n"
     ]
    },
    {
     "name": "stderr",
     "output_type": "stream",
     "text": [
      "[INFO 24-06-13 03:53:23.8537 CEST kernel.cc:1233] Loading model from path /var/folders/3r/pzt2_p_x2xdfl2057nxkp3nm0000gn/T/tmpmau8rllz/model/ with prefix 38941c96d9824218\n",
      "[INFO 24-06-13 03:53:23.8571 CEST decision_forest.cc:734] Model loaded with 150 root(s), 3144 node(s), and 11 input feature(s).\n",
      "[INFO 24-06-13 03:53:23.8571 CEST kernel.cc:1061] Use fast generic engine\n",
      "[WARNING 24-06-13 03:53:23.9233 CEST gradient_boosted_trees.cc:1840] \"goss_alpha\" set but \"sampling_method\" not equal to \"GOSS\".\n",
      "[WARNING 24-06-13 03:53:23.9233 CEST gradient_boosted_trees.cc:1851] \"goss_beta\" set but \"sampling_method\" not equal to \"GOSS\".\n",
      "[WARNING 24-06-13 03:53:23.9233 CEST gradient_boosted_trees.cc:1865] \"selective_gradient_boosting_ratio\" set but \"sampling_method\" not equal to \"SELGB\".\n"
     ]
    },
    {
     "name": "stdout",
     "output_type": "stream",
     "text": [
      "Use /var/folders/3r/pzt2_p_x2xdfl2057nxkp3nm0000gn/T/tmpnvq44fwe as temporary training directory\n"
     ]
    },
    {
     "name": "stderr",
     "output_type": "stream",
     "text": [
      "[INFO 24-06-13 03:53:24.0981 CEST kernel.cc:1233] Loading model from path /var/folders/3r/pzt2_p_x2xdfl2057nxkp3nm0000gn/T/tmpi8w16o3j/model/ with prefix 8f489583d7d44d67\n",
      "[INFO 24-06-13 03:53:24.0999 CEST decision_forest.cc:734] Model loaded with 72 root(s), 1518 node(s), and 11 input feature(s).\n",
      "[INFO 24-06-13 03:53:24.0999 CEST kernel.cc:1061] Use fast generic engine\n",
      "[WARNING 24-06-13 03:53:24.1663 CEST gradient_boosted_trees.cc:1840] \"goss_alpha\" set but \"sampling_method\" not equal to \"GOSS\".\n",
      "[WARNING 24-06-13 03:53:24.1663 CEST gradient_boosted_trees.cc:1851] \"goss_beta\" set but \"sampling_method\" not equal to \"GOSS\".\n",
      "[WARNING 24-06-13 03:53:24.1663 CEST gradient_boosted_trees.cc:1865] \"selective_gradient_boosting_ratio\" set but \"sampling_method\" not equal to \"SELGB\".\n"
     ]
    },
    {
     "name": "stdout",
     "output_type": "stream",
     "text": [
      "Use /var/folders/3r/pzt2_p_x2xdfl2057nxkp3nm0000gn/T/tmpp8fbvcjf as temporary training directory\n"
     ]
    },
    {
     "name": "stderr",
     "output_type": "stream",
     "text": [
      "[INFO 24-06-13 03:53:24.3438 CEST kernel.cc:1233] Loading model from path /var/folders/3r/pzt2_p_x2xdfl2057nxkp3nm0000gn/T/tmpnvq44fwe/model/ with prefix f744a992d8e44527\n",
      "[INFO 24-06-13 03:53:24.3456 CEST decision_forest.cc:734] Model loaded with 72 root(s), 1502 node(s), and 11 input feature(s).\n",
      "[INFO 24-06-13 03:53:24.3456 CEST kernel.cc:1061] Use fast generic engine\n",
      "[WARNING 24-06-13 03:53:24.4100 CEST gradient_boosted_trees.cc:1840] \"goss_alpha\" set but \"sampling_method\" not equal to \"GOSS\".\n",
      "[WARNING 24-06-13 03:53:24.4101 CEST gradient_boosted_trees.cc:1851] \"goss_beta\" set but \"sampling_method\" not equal to \"GOSS\".\n",
      "[WARNING 24-06-13 03:53:24.4101 CEST gradient_boosted_trees.cc:1865] \"selective_gradient_boosting_ratio\" set but \"sampling_method\" not equal to \"SELGB\".\n"
     ]
    },
    {
     "name": "stdout",
     "output_type": "stream",
     "text": [
      "Use /var/folders/3r/pzt2_p_x2xdfl2057nxkp3nm0000gn/T/tmpr08pof7y as temporary training directory\n"
     ]
    },
    {
     "name": "stderr",
     "output_type": "stream",
     "text": [
      "[INFO 24-06-13 03:53:24.6432 CEST kernel.cc:1233] Loading model from path /var/folders/3r/pzt2_p_x2xdfl2057nxkp3nm0000gn/T/tmpp8fbvcjf/model/ with prefix bf389174f80e48c0\n",
      "[INFO 24-06-13 03:53:24.6453 CEST decision_forest.cc:734] Model loaded with 90 root(s), 1920 node(s), and 11 input feature(s).\n",
      "[INFO 24-06-13 03:53:24.6453 CEST kernel.cc:1061] Use fast generic engine\n",
      "[WARNING 24-06-13 03:53:24.7054 CEST gradient_boosted_trees.cc:1840] \"goss_alpha\" set but \"sampling_method\" not equal to \"GOSS\".\n",
      "[WARNING 24-06-13 03:53:24.7054 CEST gradient_boosted_trees.cc:1851] \"goss_beta\" set but \"sampling_method\" not equal to \"GOSS\".\n",
      "[WARNING 24-06-13 03:53:24.7054 CEST gradient_boosted_trees.cc:1865] \"selective_gradient_boosting_ratio\" set but \"sampling_method\" not equal to \"SELGB\".\n"
     ]
    },
    {
     "name": "stdout",
     "output_type": "stream",
     "text": [
      "Use /var/folders/3r/pzt2_p_x2xdfl2057nxkp3nm0000gn/T/tmp2ihhogrn as temporary training directory\n"
     ]
    },
    {
     "name": "stderr",
     "output_type": "stream",
     "text": [
      "[INFO 24-06-13 03:53:24.9596 CEST kernel.cc:1233] Loading model from path /var/folders/3r/pzt2_p_x2xdfl2057nxkp3nm0000gn/T/tmpr08pof7y/model/ with prefix 1242ac5b3cb14db5\n",
      "[INFO 24-06-13 03:53:24.9627 CEST decision_forest.cc:734] Model loaded with 132 root(s), 2774 node(s), and 11 input feature(s).\n",
      "[INFO 24-06-13 03:53:24.9627 CEST kernel.cc:1061] Use fast generic engine\n",
      "[WARNING 24-06-13 03:53:25.0271 CEST gradient_boosted_trees.cc:1840] \"goss_alpha\" set but \"sampling_method\" not equal to \"GOSS\".\n",
      "[WARNING 24-06-13 03:53:25.0271 CEST gradient_boosted_trees.cc:1851] \"goss_beta\" set but \"sampling_method\" not equal to \"GOSS\".\n",
      "[WARNING 24-06-13 03:53:25.0271 CEST gradient_boosted_trees.cc:1865] \"selective_gradient_boosting_ratio\" set but \"sampling_method\" not equal to \"SELGB\".\n"
     ]
    },
    {
     "name": "stdout",
     "output_type": "stream",
     "text": [
      "Use /var/folders/3r/pzt2_p_x2xdfl2057nxkp3nm0000gn/T/tmpyqxv1vr4 as temporary training directory\n"
     ]
    },
    {
     "name": "stderr",
     "output_type": "stream",
     "text": [
      "[INFO 24-06-13 03:53:25.3552 CEST kernel.cc:1233] Loading model from path /var/folders/3r/pzt2_p_x2xdfl2057nxkp3nm0000gn/T/tmp2ihhogrn/model/ with prefix 97d89e960c07467b\n",
      "[INFO 24-06-13 03:53:25.3573 CEST decision_forest.cc:734] Model loaded with 84 root(s), 1838 node(s), and 11 input feature(s).\n",
      "[INFO 24-06-13 03:53:25.3574 CEST kernel.cc:1061] Use fast generic engine\n",
      "[WARNING 24-06-13 03:53:25.4209 CEST gradient_boosted_trees.cc:1840] \"goss_alpha\" set but \"sampling_method\" not equal to \"GOSS\".\n",
      "[WARNING 24-06-13 03:53:25.4209 CEST gradient_boosted_trees.cc:1851] \"goss_beta\" set but \"sampling_method\" not equal to \"GOSS\".\n",
      "[WARNING 24-06-13 03:53:25.4209 CEST gradient_boosted_trees.cc:1865] \"selective_gradient_boosting_ratio\" set but \"sampling_method\" not equal to \"SELGB\".\n"
     ]
    },
    {
     "name": "stdout",
     "output_type": "stream",
     "text": [
      "Use /var/folders/3r/pzt2_p_x2xdfl2057nxkp3nm0000gn/T/tmpkq3d3iy6 as temporary training directory\n"
     ]
    },
    {
     "name": "stderr",
     "output_type": "stream",
     "text": [
      "[INFO 24-06-13 03:53:25.7283 CEST kernel.cc:1233] Loading model from path /var/folders/3r/pzt2_p_x2xdfl2057nxkp3nm0000gn/T/tmpyqxv1vr4/model/ with prefix 65b234f1b94048f5\n",
      "[INFO 24-06-13 03:53:25.7324 CEST decision_forest.cc:734] Model loaded with 192 root(s), 3924 node(s), and 11 input feature(s).\n",
      "[INFO 24-06-13 03:53:25.7324 CEST kernel.cc:1061] Use fast generic engine\n",
      "[WARNING 24-06-13 03:53:25.7961 CEST gradient_boosted_trees.cc:1840] \"goss_alpha\" set but \"sampling_method\" not equal to \"GOSS\".\n",
      "[WARNING 24-06-13 03:53:25.7961 CEST gradient_boosted_trees.cc:1851] \"goss_beta\" set but \"sampling_method\" not equal to \"GOSS\".\n",
      "[WARNING 24-06-13 03:53:25.7961 CEST gradient_boosted_trees.cc:1865] \"selective_gradient_boosting_ratio\" set but \"sampling_method\" not equal to \"SELGB\".\n"
     ]
    },
    {
     "name": "stdout",
     "output_type": "stream",
     "text": [
      "Use /var/folders/3r/pzt2_p_x2xdfl2057nxkp3nm0000gn/T/tmp18rcbrpz as temporary training directory\n"
     ]
    },
    {
     "name": "stderr",
     "output_type": "stream",
     "text": [
      "[INFO 24-06-13 03:53:26.0522 CEST kernel.cc:1233] Loading model from path /var/folders/3r/pzt2_p_x2xdfl2057nxkp3nm0000gn/T/tmpkq3d3iy6/model/ with prefix 68358f82e8e24cf3\n",
      "[INFO 24-06-13 03:53:26.0550 CEST decision_forest.cc:734] Model loaded with 126 root(s), 2574 node(s), and 11 input feature(s).\n",
      "[INFO 24-06-13 03:53:26.0550 CEST abstract_model.cc:1344] Engine \"GradientBoostedTreesGeneric\" built\n",
      "[INFO 24-06-13 03:53:26.0550 CEST kernel.cc:1061] Use fast generic engine\n",
      "[WARNING 24-06-13 03:53:26.1162 CEST gradient_boosted_trees.cc:1840] \"goss_alpha\" set but \"sampling_method\" not equal to \"GOSS\".\n",
      "[WARNING 24-06-13 03:53:26.1162 CEST gradient_boosted_trees.cc:1851] \"goss_beta\" set but \"sampling_method\" not equal to \"GOSS\".\n",
      "[WARNING 24-06-13 03:53:26.1162 CEST gradient_boosted_trees.cc:1865] \"selective_gradient_boosting_ratio\" set but \"sampling_method\" not equal to \"SELGB\".\n"
     ]
    },
    {
     "name": "stdout",
     "output_type": "stream",
     "text": [
      "Use /var/folders/3r/pzt2_p_x2xdfl2057nxkp3nm0000gn/T/tmpq37ynj0s as temporary training directory\n"
     ]
    },
    {
     "name": "stderr",
     "output_type": "stream",
     "text": [
      "[INFO 24-06-13 03:53:26.2953 CEST kernel.cc:1233] Loading model from path /var/folders/3r/pzt2_p_x2xdfl2057nxkp3nm0000gn/T/tmp18rcbrpz/model/ with prefix 3f55d30ef6274dc9\n",
      "[INFO 24-06-13 03:53:26.2969 CEST decision_forest.cc:734] Model loaded with 66 root(s), 1388 node(s), and 11 input feature(s).\n",
      "[INFO 24-06-13 03:53:26.2969 CEST kernel.cc:1061] Use fast generic engine\n",
      "[WARNING 24-06-13 03:53:26.3572 CEST gradient_boosted_trees.cc:1840] \"goss_alpha\" set but \"sampling_method\" not equal to \"GOSS\".\n",
      "[WARNING 24-06-13 03:53:26.3572 CEST gradient_boosted_trees.cc:1851] \"goss_beta\" set but \"sampling_method\" not equal to \"GOSS\".\n",
      "[WARNING 24-06-13 03:53:26.3572 CEST gradient_boosted_trees.cc:1865] \"selective_gradient_boosting_ratio\" set but \"sampling_method\" not equal to \"SELGB\".\n"
     ]
    },
    {
     "name": "stdout",
     "output_type": "stream",
     "text": [
      "Use /var/folders/3r/pzt2_p_x2xdfl2057nxkp3nm0000gn/T/tmpe9p33z9n as temporary training directory\n"
     ]
    },
    {
     "name": "stderr",
     "output_type": "stream",
     "text": [
      "[INFO 24-06-13 03:53:26.6849 CEST kernel.cc:1233] Loading model from path /var/folders/3r/pzt2_p_x2xdfl2057nxkp3nm0000gn/T/tmpq37ynj0s/model/ with prefix db6cca22cf644c24\n",
      "[INFO 24-06-13 03:53:26.6888 CEST decision_forest.cc:734] Model loaded with 168 root(s), 3558 node(s), and 11 input feature(s).\n",
      "[INFO 24-06-13 03:53:26.6888 CEST kernel.cc:1061] Use fast generic engine\n",
      "[WARNING 24-06-13 03:53:26.7514 CEST gradient_boosted_trees.cc:1840] \"goss_alpha\" set but \"sampling_method\" not equal to \"GOSS\".\n",
      "[WARNING 24-06-13 03:53:26.7514 CEST gradient_boosted_trees.cc:1851] \"goss_beta\" set but \"sampling_method\" not equal to \"GOSS\".\n",
      "[WARNING 24-06-13 03:53:26.7515 CEST gradient_boosted_trees.cc:1865] \"selective_gradient_boosting_ratio\" set but \"sampling_method\" not equal to \"SELGB\".\n"
     ]
    },
    {
     "name": "stdout",
     "output_type": "stream",
     "text": [
      "Use /var/folders/3r/pzt2_p_x2xdfl2057nxkp3nm0000gn/T/tmppkfmy61_ as temporary training directory\n"
     ]
    },
    {
     "name": "stderr",
     "output_type": "stream",
     "text": [
      "[INFO 24-06-13 03:53:26.9965 CEST kernel.cc:1233] Loading model from path /var/folders/3r/pzt2_p_x2xdfl2057nxkp3nm0000gn/T/tmpe9p33z9n/model/ with prefix 0d4612c97422422d\n",
      "[INFO 24-06-13 03:53:26.9986 CEST decision_forest.cc:734] Model loaded with 96 root(s), 1930 node(s), and 11 input feature(s).\n",
      "[INFO 24-06-13 03:53:26.9986 CEST kernel.cc:1061] Use fast generic engine\n",
      "[WARNING 24-06-13 03:53:27.0588 CEST gradient_boosted_trees.cc:1840] \"goss_alpha\" set but \"sampling_method\" not equal to \"GOSS\".\n",
      "[WARNING 24-06-13 03:53:27.0588 CEST gradient_boosted_trees.cc:1851] \"goss_beta\" set but \"sampling_method\" not equal to \"GOSS\".\n",
      "[WARNING 24-06-13 03:53:27.0588 CEST gradient_boosted_trees.cc:1865] \"selective_gradient_boosting_ratio\" set but \"sampling_method\" not equal to \"SELGB\".\n"
     ]
    },
    {
     "name": "stdout",
     "output_type": "stream",
     "text": [
      "Use /var/folders/3r/pzt2_p_x2xdfl2057nxkp3nm0000gn/T/tmpsmia42lz as temporary training directory\n"
     ]
    },
    {
     "name": "stderr",
     "output_type": "stream",
     "text": [
      "[INFO 24-06-13 03:53:27.3028 CEST kernel.cc:1233] Loading model from path /var/folders/3r/pzt2_p_x2xdfl2057nxkp3nm0000gn/T/tmppkfmy61_/model/ with prefix f2faecbcea654376\n",
      "[INFO 24-06-13 03:53:27.3057 CEST decision_forest.cc:734] Model loaded with 126 root(s), 2666 node(s), and 11 input feature(s).\n",
      "[INFO 24-06-13 03:53:27.3057 CEST kernel.cc:1061] Use fast generic engine\n",
      "[WARNING 24-06-13 03:53:27.3663 CEST gradient_boosted_trees.cc:1840] \"goss_alpha\" set but \"sampling_method\" not equal to \"GOSS\".\n",
      "[WARNING 24-06-13 03:53:27.3663 CEST gradient_boosted_trees.cc:1851] \"goss_beta\" set but \"sampling_method\" not equal to \"GOSS\".\n",
      "[WARNING 24-06-13 03:53:27.3663 CEST gradient_boosted_trees.cc:1865] \"selective_gradient_boosting_ratio\" set but \"sampling_method\" not equal to \"SELGB\".\n"
     ]
    },
    {
     "name": "stdout",
     "output_type": "stream",
     "text": [
      "Use /var/folders/3r/pzt2_p_x2xdfl2057nxkp3nm0000gn/T/tmp3q91rdwx as temporary training directory\n"
     ]
    },
    {
     "name": "stderr",
     "output_type": "stream",
     "text": [
      "[INFO 24-06-13 03:53:27.5710 CEST kernel.cc:1233] Loading model from path /var/folders/3r/pzt2_p_x2xdfl2057nxkp3nm0000gn/T/tmpsmia42lz/model/ with prefix d05049f300d5428d\n",
      "[INFO 24-06-13 03:53:27.5736 CEST decision_forest.cc:734] Model loaded with 114 root(s), 2410 node(s), and 11 input feature(s).\n",
      "[INFO 24-06-13 03:53:27.5736 CEST kernel.cc:1061] Use fast generic engine\n",
      "[WARNING 24-06-13 03:53:27.6354 CEST gradient_boosted_trees.cc:1840] \"goss_alpha\" set but \"sampling_method\" not equal to \"GOSS\".\n",
      "[WARNING 24-06-13 03:53:27.6355 CEST gradient_boosted_trees.cc:1851] \"goss_beta\" set but \"sampling_method\" not equal to \"GOSS\".\n",
      "[WARNING 24-06-13 03:53:27.6355 CEST gradient_boosted_trees.cc:1865] \"selective_gradient_boosting_ratio\" set but \"sampling_method\" not equal to \"SELGB\".\n"
     ]
    },
    {
     "name": "stdout",
     "output_type": "stream",
     "text": [
      "Use /var/folders/3r/pzt2_p_x2xdfl2057nxkp3nm0000gn/T/tmp434erove as temporary training directory\n"
     ]
    },
    {
     "name": "stderr",
     "output_type": "stream",
     "text": [
      "[INFO 24-06-13 03:53:27.9824 CEST kernel.cc:1233] Loading model from path /var/folders/3r/pzt2_p_x2xdfl2057nxkp3nm0000gn/T/tmp3q91rdwx/model/ with prefix d21c4ed1970b4736\n",
      "[INFO 24-06-13 03:53:27.9873 CEST decision_forest.cc:734] Model loaded with 234 root(s), 4690 node(s), and 11 input feature(s).\n",
      "[INFO 24-06-13 03:53:27.9874 CEST kernel.cc:1061] Use fast generic engine\n",
      "[WARNING 24-06-13 03:53:28.0469 CEST gradient_boosted_trees.cc:1840] \"goss_alpha\" set but \"sampling_method\" not equal to \"GOSS\".\n",
      "[WARNING 24-06-13 03:53:28.0469 CEST gradient_boosted_trees.cc:1851] \"goss_beta\" set but \"sampling_method\" not equal to \"GOSS\".\n",
      "[WARNING 24-06-13 03:53:28.0469 CEST gradient_boosted_trees.cc:1865] \"selective_gradient_boosting_ratio\" set but \"sampling_method\" not equal to \"SELGB\".\n"
     ]
    },
    {
     "name": "stdout",
     "output_type": "stream",
     "text": [
      "Use /var/folders/3r/pzt2_p_x2xdfl2057nxkp3nm0000gn/T/tmp3_e2owoa as temporary training directory\n"
     ]
    },
    {
     "name": "stderr",
     "output_type": "stream",
     "text": [
      "[INFO 24-06-13 03:53:28.2854 CEST kernel.cc:1233] Loading model from path /var/folders/3r/pzt2_p_x2xdfl2057nxkp3nm0000gn/T/tmp434erove/model/ with prefix 9cf88441bf2443da\n",
      "[INFO 24-06-13 03:53:28.2877 CEST decision_forest.cc:734] Model loaded with 96 root(s), 2028 node(s), and 11 input feature(s).\n",
      "[INFO 24-06-13 03:53:28.2877 CEST kernel.cc:1061] Use fast generic engine\n",
      "[WARNING 24-06-13 03:53:28.3476 CEST gradient_boosted_trees.cc:1840] \"goss_alpha\" set but \"sampling_method\" not equal to \"GOSS\".\n",
      "[WARNING 24-06-13 03:53:28.3476 CEST gradient_boosted_trees.cc:1851] \"goss_beta\" set but \"sampling_method\" not equal to \"GOSS\".\n",
      "[WARNING 24-06-13 03:53:28.3476 CEST gradient_boosted_trees.cc:1865] \"selective_gradient_boosting_ratio\" set but \"sampling_method\" not equal to \"SELGB\".\n"
     ]
    },
    {
     "name": "stdout",
     "output_type": "stream",
     "text": [
      "Use /var/folders/3r/pzt2_p_x2xdfl2057nxkp3nm0000gn/T/tmpbkuu43jo as temporary training directory\n"
     ]
    },
    {
     "name": "stderr",
     "output_type": "stream",
     "text": [
      "[INFO 24-06-13 03:53:28.6870 CEST kernel.cc:1233] Loading model from path /var/folders/3r/pzt2_p_x2xdfl2057nxkp3nm0000gn/T/tmp3_e2owoa/model/ with prefix e5aa4b789b53441e\n",
      "[INFO 24-06-13 03:53:28.6911 CEST decision_forest.cc:734] Model loaded with 198 root(s), 3976 node(s), and 11 input feature(s).\n",
      "[INFO 24-06-13 03:53:28.6911 CEST kernel.cc:1061] Use fast generic engine\n",
      "[WARNING 24-06-13 03:53:28.7499 CEST gradient_boosted_trees.cc:1840] \"goss_alpha\" set but \"sampling_method\" not equal to \"GOSS\".\n",
      "[WARNING 24-06-13 03:53:28.7499 CEST gradient_boosted_trees.cc:1851] \"goss_beta\" set but \"sampling_method\" not equal to \"GOSS\".\n",
      "[WARNING 24-06-13 03:53:28.7499 CEST gradient_boosted_trees.cc:1865] \"selective_gradient_boosting_ratio\" set but \"sampling_method\" not equal to \"SELGB\".\n"
     ]
    },
    {
     "name": "stdout",
     "output_type": "stream",
     "text": [
      "Use /var/folders/3r/pzt2_p_x2xdfl2057nxkp3nm0000gn/T/tmpqz3sfj_p as temporary training directory\n"
     ]
    },
    {
     "name": "stderr",
     "output_type": "stream",
     "text": [
      "[INFO 24-06-13 03:53:29.0733 CEST kernel.cc:1233] Loading model from path /var/folders/3r/pzt2_p_x2xdfl2057nxkp3nm0000gn/T/tmpbkuu43jo/model/ with prefix a19f94a582f04fcc\n",
      "[INFO 24-06-13 03:53:29.0767 CEST decision_forest.cc:734] Model loaded with 156 root(s), 3346 node(s), and 11 input feature(s).\n",
      "[INFO 24-06-13 03:53:29.0768 CEST kernel.cc:1061] Use fast generic engine\n",
      "[WARNING 24-06-13 03:53:29.1361 CEST gradient_boosted_trees.cc:1840] \"goss_alpha\" set but \"sampling_method\" not equal to \"GOSS\".\n",
      "[WARNING 24-06-13 03:53:29.1361 CEST gradient_boosted_trees.cc:1851] \"goss_beta\" set but \"sampling_method\" not equal to \"GOSS\".\n",
      "[WARNING 24-06-13 03:53:29.1361 CEST gradient_boosted_trees.cc:1865] \"selective_gradient_boosting_ratio\" set but \"sampling_method\" not equal to \"SELGB\".\n"
     ]
    },
    {
     "name": "stdout",
     "output_type": "stream",
     "text": [
      "Use /var/folders/3r/pzt2_p_x2xdfl2057nxkp3nm0000gn/T/tmpbzf8zn3q as temporary training directory\n"
     ]
    },
    {
     "name": "stderr",
     "output_type": "stream",
     "text": [
      "[INFO 24-06-13 03:53:29.4502 CEST kernel.cc:1233] Loading model from path /var/folders/3r/pzt2_p_x2xdfl2057nxkp3nm0000gn/T/tmpqz3sfj_p/model/ with prefix ead498803d0540a8\n",
      "[INFO 24-06-13 03:53:29.4539 CEST decision_forest.cc:734] Model loaded with 168 root(s), 3478 node(s), and 11 input feature(s).\n",
      "[INFO 24-06-13 03:53:29.4540 CEST kernel.cc:1061] Use fast generic engine\n",
      "[WARNING 24-06-13 03:53:29.5138 CEST gradient_boosted_trees.cc:1840] \"goss_alpha\" set but \"sampling_method\" not equal to \"GOSS\".\n",
      "[WARNING 24-06-13 03:53:29.5139 CEST gradient_boosted_trees.cc:1851] \"goss_beta\" set but \"sampling_method\" not equal to \"GOSS\".\n",
      "[WARNING 24-06-13 03:53:29.5139 CEST gradient_boosted_trees.cc:1865] \"selective_gradient_boosting_ratio\" set but \"sampling_method\" not equal to \"SELGB\".\n"
     ]
    },
    {
     "name": "stdout",
     "output_type": "stream",
     "text": [
      "Use /var/folders/3r/pzt2_p_x2xdfl2057nxkp3nm0000gn/T/tmpokuwwx56 as temporary training directory\n"
     ]
    },
    {
     "name": "stderr",
     "output_type": "stream",
     "text": [
      "[INFO 24-06-13 03:53:29.8507 CEST kernel.cc:1233] Loading model from path /var/folders/3r/pzt2_p_x2xdfl2057nxkp3nm0000gn/T/tmpbzf8zn3q/model/ with prefix 6e4398e40b6a4af2\n",
      "[INFO 24-06-13 03:53:29.8551 CEST decision_forest.cc:734] Model loaded with 210 root(s), 4220 node(s), and 11 input feature(s).\n",
      "[INFO 24-06-13 03:53:29.8551 CEST kernel.cc:1061] Use fast generic engine\n",
      "[WARNING 24-06-13 03:53:29.9157 CEST gradient_boosted_trees.cc:1840] \"goss_alpha\" set but \"sampling_method\" not equal to \"GOSS\".\n",
      "[WARNING 24-06-13 03:53:29.9157 CEST gradient_boosted_trees.cc:1851] \"goss_beta\" set but \"sampling_method\" not equal to \"GOSS\".\n",
      "[WARNING 24-06-13 03:53:29.9157 CEST gradient_boosted_trees.cc:1865] \"selective_gradient_boosting_ratio\" set but \"sampling_method\" not equal to \"SELGB\".\n"
     ]
    },
    {
     "name": "stdout",
     "output_type": "stream",
     "text": [
      "Use /var/folders/3r/pzt2_p_x2xdfl2057nxkp3nm0000gn/T/tmpcymcvrdw as temporary training directory\n"
     ]
    },
    {
     "name": "stderr",
     "output_type": "stream",
     "text": [
      "[INFO 24-06-13 03:53:30.0788 CEST kernel.cc:1233] Loading model from path /var/folders/3r/pzt2_p_x2xdfl2057nxkp3nm0000gn/T/tmpokuwwx56/model/ with prefix 8d44181097304970\n",
      "[INFO 24-06-13 03:53:30.0803 CEST decision_forest.cc:734] Model loaded with 60 root(s), 1228 node(s), and 11 input feature(s).\n",
      "[INFO 24-06-13 03:53:30.0803 CEST kernel.cc:1061] Use fast generic engine\n",
      "[WARNING 24-06-13 03:53:30.1402 CEST gradient_boosted_trees.cc:1840] \"goss_alpha\" set but \"sampling_method\" not equal to \"GOSS\".\n",
      "[WARNING 24-06-13 03:53:30.1402 CEST gradient_boosted_trees.cc:1851] \"goss_beta\" set but \"sampling_method\" not equal to \"GOSS\".\n",
      "[WARNING 24-06-13 03:53:30.1402 CEST gradient_boosted_trees.cc:1865] \"selective_gradient_boosting_ratio\" set but \"sampling_method\" not equal to \"SELGB\".\n"
     ]
    },
    {
     "name": "stdout",
     "output_type": "stream",
     "text": [
      "Use /var/folders/3r/pzt2_p_x2xdfl2057nxkp3nm0000gn/T/tmp5z3um4lo as temporary training directory\n"
     ]
    },
    {
     "name": "stderr",
     "output_type": "stream",
     "text": [
      "[INFO 24-06-13 03:53:30.4106 CEST kernel.cc:1233] Loading model from path /var/folders/3r/pzt2_p_x2xdfl2057nxkp3nm0000gn/T/tmpcymcvrdw/model/ with prefix 544dc7ce7887452d\n",
      "[INFO 24-06-13 03:53:30.4136 CEST decision_forest.cc:734] Model loaded with 144 root(s), 2894 node(s), and 11 input feature(s).\n",
      "[INFO 24-06-13 03:53:30.4136 CEST kernel.cc:1061] Use fast generic engine\n",
      "[WARNING 24-06-13 03:53:30.4742 CEST gradient_boosted_trees.cc:1840] \"goss_alpha\" set but \"sampling_method\" not equal to \"GOSS\".\n",
      "[WARNING 24-06-13 03:53:30.4742 CEST gradient_boosted_trees.cc:1851] \"goss_beta\" set but \"sampling_method\" not equal to \"GOSS\".\n",
      "[WARNING 24-06-13 03:53:30.4742 CEST gradient_boosted_trees.cc:1865] \"selective_gradient_boosting_ratio\" set but \"sampling_method\" not equal to \"SELGB\".\n"
     ]
    },
    {
     "name": "stdout",
     "output_type": "stream",
     "text": [
      "Use /var/folders/3r/pzt2_p_x2xdfl2057nxkp3nm0000gn/T/tmpxts6wt79 as temporary training directory\n"
     ]
    },
    {
     "name": "stderr",
     "output_type": "stream",
     "text": [
      "[INFO 24-06-13 03:53:30.6376 CEST kernel.cc:1233] Loading model from path /var/folders/3r/pzt2_p_x2xdfl2057nxkp3nm0000gn/T/tmp5z3um4lo/model/ with prefix 66cfa34abf294801\n",
      "[INFO 24-06-13 03:53:30.6390 CEST decision_forest.cc:734] Model loaded with 60 root(s), 1228 node(s), and 11 input feature(s).\n",
      "[INFO 24-06-13 03:53:30.6391 CEST kernel.cc:1061] Use fast generic engine\n",
      "[WARNING 24-06-13 03:53:30.7002 CEST gradient_boosted_trees.cc:1840] \"goss_alpha\" set but \"sampling_method\" not equal to \"GOSS\".\n",
      "[WARNING 24-06-13 03:53:30.7002 CEST gradient_boosted_trees.cc:1851] \"goss_beta\" set but \"sampling_method\" not equal to \"GOSS\".\n",
      "[WARNING 24-06-13 03:53:30.7002 CEST gradient_boosted_trees.cc:1865] \"selective_gradient_boosting_ratio\" set but \"sampling_method\" not equal to \"SELGB\".\n"
     ]
    },
    {
     "name": "stdout",
     "output_type": "stream",
     "text": [
      "Use /var/folders/3r/pzt2_p_x2xdfl2057nxkp3nm0000gn/T/tmppl_a08v0 as temporary training directory\n"
     ]
    },
    {
     "name": "stderr",
     "output_type": "stream",
     "text": [
      "[INFO 24-06-13 03:53:30.9397 CEST kernel.cc:1233] Loading model from path /var/folders/3r/pzt2_p_x2xdfl2057nxkp3nm0000gn/T/tmpxts6wt79/model/ with prefix 6f974788ea874adb\n",
      "[INFO 24-06-13 03:53:30.9420 CEST decision_forest.cc:734] Model loaded with 108 root(s), 2158 node(s), and 11 input feature(s).\n",
      "[INFO 24-06-13 03:53:30.9421 CEST kernel.cc:1061] Use fast generic engine\n",
      "[WARNING 24-06-13 03:53:31.0032 CEST gradient_boosted_trees.cc:1840] \"goss_alpha\" set but \"sampling_method\" not equal to \"GOSS\".\n",
      "[WARNING 24-06-13 03:53:31.0033 CEST gradient_boosted_trees.cc:1851] \"goss_beta\" set but \"sampling_method\" not equal to \"GOSS\".\n",
      "[WARNING 24-06-13 03:53:31.0033 CEST gradient_boosted_trees.cc:1865] \"selective_gradient_boosting_ratio\" set but \"sampling_method\" not equal to \"SELGB\".\n"
     ]
    },
    {
     "name": "stdout",
     "output_type": "stream",
     "text": [
      "Use /var/folders/3r/pzt2_p_x2xdfl2057nxkp3nm0000gn/T/tmpp9f8nrnt as temporary training directory\n"
     ]
    },
    {
     "name": "stderr",
     "output_type": "stream",
     "text": [
      "[INFO 24-06-13 03:53:31.1620 CEST kernel.cc:1233] Loading model from path /var/folders/3r/pzt2_p_x2xdfl2057nxkp3nm0000gn/T/tmppl_a08v0/model/ with prefix 69552f6cd6fe4ca7\n",
      "[INFO 24-06-13 03:53:31.1637 CEST decision_forest.cc:734] Model loaded with 66 root(s), 1396 node(s), and 11 input feature(s).\n",
      "[INFO 24-06-13 03:53:31.1637 CEST kernel.cc:1061] Use fast generic engine\n",
      "[WARNING 24-06-13 03:53:31.2239 CEST gradient_boosted_trees.cc:1840] \"goss_alpha\" set but \"sampling_method\" not equal to \"GOSS\".\n",
      "[WARNING 24-06-13 03:53:31.2239 CEST gradient_boosted_trees.cc:1851] \"goss_beta\" set but \"sampling_method\" not equal to \"GOSS\".\n",
      "[WARNING 24-06-13 03:53:31.2239 CEST gradient_boosted_trees.cc:1865] \"selective_gradient_boosting_ratio\" set but \"sampling_method\" not equal to \"SELGB\".\n"
     ]
    },
    {
     "name": "stdout",
     "output_type": "stream",
     "text": [
      "Use /var/folders/3r/pzt2_p_x2xdfl2057nxkp3nm0000gn/T/tmpmzma8ine as temporary training directory\n"
     ]
    },
    {
     "name": "stderr",
     "output_type": "stream",
     "text": [
      "[INFO 24-06-13 03:53:31.4584 CEST kernel.cc:1233] Loading model from path /var/folders/3r/pzt2_p_x2xdfl2057nxkp3nm0000gn/T/tmpp9f8nrnt/model/ with prefix 8d7d662caf10440c\n",
      "[INFO 24-06-13 03:53:31.4609 CEST decision_forest.cc:734] Model loaded with 114 root(s), 2314 node(s), and 11 input feature(s).\n",
      "[INFO 24-06-13 03:53:31.4610 CEST kernel.cc:1061] Use fast generic engine\n",
      "[WARNING 24-06-13 03:53:31.5214 CEST gradient_boosted_trees.cc:1840] \"goss_alpha\" set but \"sampling_method\" not equal to \"GOSS\".\n",
      "[WARNING 24-06-13 03:53:31.5214 CEST gradient_boosted_trees.cc:1851] \"goss_beta\" set but \"sampling_method\" not equal to \"GOSS\".\n",
      "[WARNING 24-06-13 03:53:31.5214 CEST gradient_boosted_trees.cc:1865] \"selective_gradient_boosting_ratio\" set but \"sampling_method\" not equal to \"SELGB\".\n"
     ]
    },
    {
     "name": "stdout",
     "output_type": "stream",
     "text": [
      "Use /var/folders/3r/pzt2_p_x2xdfl2057nxkp3nm0000gn/T/tmpboky_jel as temporary training directory\n"
     ]
    },
    {
     "name": "stderr",
     "output_type": "stream",
     "text": [
      "[INFO 24-06-13 03:53:31.7351 CEST kernel.cc:1233] Loading model from path /var/folders/3r/pzt2_p_x2xdfl2057nxkp3nm0000gn/T/tmpmzma8ine/model/ with prefix e796c0c092bc4b64\n",
      "[INFO 24-06-13 03:53:31.7377 CEST decision_forest.cc:734] Model loaded with 114 root(s), 2438 node(s), and 11 input feature(s).\n",
      "[INFO 24-06-13 03:53:31.7378 CEST kernel.cc:1061] Use fast generic engine\n",
      "[WARNING 24-06-13 03:53:31.8001 CEST gradient_boosted_trees.cc:1840] \"goss_alpha\" set but \"sampling_method\" not equal to \"GOSS\".\n",
      "[WARNING 24-06-13 03:53:31.8001 CEST gradient_boosted_trees.cc:1851] \"goss_beta\" set but \"sampling_method\" not equal to \"GOSS\".\n",
      "[WARNING 24-06-13 03:53:31.8001 CEST gradient_boosted_trees.cc:1865] \"selective_gradient_boosting_ratio\" set but \"sampling_method\" not equal to \"SELGB\".\n"
     ]
    },
    {
     "name": "stdout",
     "output_type": "stream",
     "text": [
      "Use /var/folders/3r/pzt2_p_x2xdfl2057nxkp3nm0000gn/T/tmpn7k0xq1l as temporary training directory\n"
     ]
    },
    {
     "name": "stderr",
     "output_type": "stream",
     "text": [
      "[INFO 24-06-13 03:53:31.9823 CEST kernel.cc:1233] Loading model from path /var/folders/3r/pzt2_p_x2xdfl2057nxkp3nm0000gn/T/tmpboky_jel/model/ with prefix 0c65e7efc9e04296\n",
      "[INFO 24-06-13 03:53:31.9843 CEST decision_forest.cc:734] Model loaded with 78 root(s), 1720 node(s), and 11 input feature(s).\n",
      "[INFO 24-06-13 03:53:31.9843 CEST kernel.cc:1061] Use fast generic engine\n",
      "[WARNING 24-06-13 03:53:32.0432 CEST gradient_boosted_trees.cc:1840] \"goss_alpha\" set but \"sampling_method\" not equal to \"GOSS\".\n",
      "[WARNING 24-06-13 03:53:32.0432 CEST gradient_boosted_trees.cc:1851] \"goss_beta\" set but \"sampling_method\" not equal to \"GOSS\".\n",
      "[WARNING 24-06-13 03:53:32.0432 CEST gradient_boosted_trees.cc:1865] \"selective_gradient_boosting_ratio\" set but \"sampling_method\" not equal to \"SELGB\".\n"
     ]
    },
    {
     "name": "stdout",
     "output_type": "stream",
     "text": [
      "Use /var/folders/3r/pzt2_p_x2xdfl2057nxkp3nm0000gn/T/tmpq4__q9ax as temporary training directory\n"
     ]
    },
    {
     "name": "stderr",
     "output_type": "stream",
     "text": [
      "[INFO 24-06-13 03:53:32.2872 CEST kernel.cc:1233] Loading model from path /var/folders/3r/pzt2_p_x2xdfl2057nxkp3nm0000gn/T/tmpn7k0xq1l/model/ with prefix b1d5d178ee694d62\n",
      "[INFO 24-06-13 03:53:32.2897 CEST decision_forest.cc:734] Model loaded with 108 root(s), 2274 node(s), and 11 input feature(s).\n",
      "[INFO 24-06-13 03:53:32.2897 CEST kernel.cc:1061] Use fast generic engine\n",
      "[WARNING 24-06-13 03:53:32.3531 CEST gradient_boosted_trees.cc:1840] \"goss_alpha\" set but \"sampling_method\" not equal to \"GOSS\".\n",
      "[WARNING 24-06-13 03:53:32.3532 CEST gradient_boosted_trees.cc:1851] \"goss_beta\" set but \"sampling_method\" not equal to \"GOSS\".\n",
      "[WARNING 24-06-13 03:53:32.3532 CEST gradient_boosted_trees.cc:1865] \"selective_gradient_boosting_ratio\" set but \"sampling_method\" not equal to \"SELGB\".\n"
     ]
    },
    {
     "name": "stdout",
     "output_type": "stream",
     "text": [
      "Use /var/folders/3r/pzt2_p_x2xdfl2057nxkp3nm0000gn/T/tmp0jfzv5q8 as temporary training directory\n"
     ]
    },
    {
     "name": "stderr",
     "output_type": "stream",
     "text": [
      "[INFO 24-06-13 03:53:32.6018 CEST kernel.cc:1233] Loading model from path /var/folders/3r/pzt2_p_x2xdfl2057nxkp3nm0000gn/T/tmpq4__q9ax/model/ with prefix 96975503f3024ad0\n",
      "[INFO 24-06-13 03:53:32.6041 CEST decision_forest.cc:734] Model loaded with 102 root(s), 2092 node(s), and 11 input feature(s).\n",
      "[INFO 24-06-13 03:53:32.6041 CEST kernel.cc:1061] Use fast generic engine\n",
      "[WARNING 24-06-13 03:53:32.6696 CEST gradient_boosted_trees.cc:1840] \"goss_alpha\" set but \"sampling_method\" not equal to \"GOSS\".\n",
      "[WARNING 24-06-13 03:53:32.6696 CEST gradient_boosted_trees.cc:1851] \"goss_beta\" set but \"sampling_method\" not equal to \"GOSS\".\n",
      "[WARNING 24-06-13 03:53:32.6696 CEST gradient_boosted_trees.cc:1865] \"selective_gradient_boosting_ratio\" set but \"sampling_method\" not equal to \"SELGB\".\n"
     ]
    },
    {
     "name": "stdout",
     "output_type": "stream",
     "text": [
      "Use /var/folders/3r/pzt2_p_x2xdfl2057nxkp3nm0000gn/T/tmpelfdjj2r as temporary training directory\n"
     ]
    },
    {
     "name": "stderr",
     "output_type": "stream",
     "text": [
      "[INFO 24-06-13 03:53:32.9100 CEST kernel.cc:1233] Loading model from path /var/folders/3r/pzt2_p_x2xdfl2057nxkp3nm0000gn/T/tmp0jfzv5q8/model/ with prefix 9339d9b4cc994552\n",
      "[INFO 24-06-13 03:53:32.9123 CEST decision_forest.cc:734] Model loaded with 102 root(s), 2202 node(s), and 11 input feature(s).\n",
      "[INFO 24-06-13 03:53:32.9124 CEST kernel.cc:1061] Use fast generic engine\n",
      "[WARNING 24-06-13 03:53:32.9720 CEST gradient_boosted_trees.cc:1840] \"goss_alpha\" set but \"sampling_method\" not equal to \"GOSS\".\n",
      "[WARNING 24-06-13 03:53:32.9720 CEST gradient_boosted_trees.cc:1851] \"goss_beta\" set but \"sampling_method\" not equal to \"GOSS\".\n",
      "[WARNING 24-06-13 03:53:32.9720 CEST gradient_boosted_trees.cc:1865] \"selective_gradient_boosting_ratio\" set but \"sampling_method\" not equal to \"SELGB\".\n"
     ]
    },
    {
     "name": "stdout",
     "output_type": "stream",
     "text": [
      "Use /var/folders/3r/pzt2_p_x2xdfl2057nxkp3nm0000gn/T/tmp29pjlveq as temporary training directory\n"
     ]
    },
    {
     "name": "stderr",
     "output_type": "stream",
     "text": [
      "[INFO 24-06-13 03:53:33.2308 CEST kernel.cc:1233] Loading model from path /var/folders/3r/pzt2_p_x2xdfl2057nxkp3nm0000gn/T/tmpelfdjj2r/model/ with prefix 2af7cc74c57448fd\n",
      "[INFO 24-06-13 03:53:33.2338 CEST decision_forest.cc:734] Model loaded with 132 root(s), 2786 node(s), and 11 input feature(s).\n",
      "[INFO 24-06-13 03:53:33.2338 CEST kernel.cc:1061] Use fast generic engine\n",
      "[WARNING 24-06-13 03:53:33.2960 CEST gradient_boosted_trees.cc:1840] \"goss_alpha\" set but \"sampling_method\" not equal to \"GOSS\".\n",
      "[WARNING 24-06-13 03:53:33.2960 CEST gradient_boosted_trees.cc:1851] \"goss_beta\" set but \"sampling_method\" not equal to \"GOSS\".\n",
      "[WARNING 24-06-13 03:53:33.2960 CEST gradient_boosted_trees.cc:1865] \"selective_gradient_boosting_ratio\" set but \"sampling_method\" not equal to \"SELGB\".\n",
      "[INFO 24-06-13 03:53:33.5749 CEST kernel.cc:1233] Loading model from path /var/folders/3r/pzt2_p_x2xdfl2057nxkp3nm0000gn/T/tmp29pjlveq/model/ with prefix c9b5692bc66949ee\n",
      "[INFO 24-06-13 03:53:33.5780 CEST decision_forest.cc:734] Model loaded with 144 root(s), 2914 node(s), and 11 input feature(s).\n",
      "[INFO 24-06-13 03:53:33.5780 CEST kernel.cc:1061] Use fast generic engine\n"
     ]
    }
   ],
   "source": [
    "gbt_model.fit(X_train_scaled, y_train)"
   ],
   "metadata": {
    "collapsed": false,
    "ExecuteTime": {
     "end_time": "2024-06-13T01:53:33.866975Z",
     "start_time": "2024-06-13T01:53:03.568113Z"
    }
   },
   "id": "d75aa6cb330d0ec"
  },
  {
   "cell_type": "code",
   "execution_count": 16,
   "outputs": [
    {
     "name": "stdout",
     "output_type": "stream",
     "text": [
      "8/8 [==============================] - 0s 733us/step\n",
      "Shape of prediction from estimator 0: (229, 6)\n",
      "8/8 [==============================] - 0s 747us/step\n",
      "Shape of prediction from estimator 1: (229, 6)\n",
      "8/8 [==============================] - 0s 654us/step\n",
      "Shape of prediction from estimator 2: (229, 6)\n",
      "8/8 [==============================] - 0s 699us/step\n",
      "Shape of prediction from estimator 3: (229, 6)\n",
      "8/8 [==============================] - 0s 728us/step\n",
      "Shape of prediction from estimator 4: (229, 6)\n",
      "8/8 [==============================] - 0s 839us/step\n",
      "Shape of prediction from estimator 5: (229, 6)\n",
      "8/8 [==============================] - 0s 676us/step\n",
      "Shape of prediction from estimator 6: (229, 6)\n",
      "8/8 [==============================] - 0s 702us/step\n",
      "Shape of prediction from estimator 7: (229, 6)\n",
      "8/8 [==============================] - 0s 812us/step\n",
      "Shape of prediction from estimator 8: (229, 6)\n",
      "8/8 [==============================] - 0s 751us/step\n",
      "Shape of prediction from estimator 9: (229, 6)\n",
      "8/8 [==============================] - 0s 803us/step\n",
      "Shape of prediction from estimator 10: (229, 6)\n",
      "8/8 [==============================] - 0s 724us/step\n",
      "Shape of prediction from estimator 11: (229, 6)\n",
      "8/8 [==============================] - 0s 707us/step\n",
      "Shape of prediction from estimator 12: (229, 6)\n",
      "8/8 [==============================] - 0s 783us/step\n",
      "Shape of prediction from estimator 13: (229, 6)\n",
      "8/8 [==============================] - 0s 706us/step\n",
      "Shape of prediction from estimator 14: (229, 6)\n",
      "8/8 [==============================] - 0s 719us/step\n",
      "Shape of prediction from estimator 15: (229, 6)\n",
      "8/8 [==============================] - 0s 740us/step\n",
      "Shape of prediction from estimator 16: (229, 6)\n",
      "8/8 [==============================] - 0s 718us/step\n",
      "Shape of prediction from estimator 17: (229, 6)\n",
      "8/8 [==============================] - 0s 604us/step\n",
      "Shape of prediction from estimator 18: (229, 6)\n",
      "8/8 [==============================] - 0s 633us/step\n",
      "Shape of prediction from estimator 19: (229, 6)\n",
      "8/8 [==============================] - 0s 743us/step\n",
      "Shape of prediction from estimator 20: (229, 6)\n",
      "8/8 [==============================] - 0s 699us/step\n",
      "Shape of prediction from estimator 21: (229, 6)\n",
      "8/8 [==============================] - 0s 711us/step\n",
      "Shape of prediction from estimator 22: (229, 6)\n",
      "8/8 [==============================] - 0s 731us/step\n",
      "Shape of prediction from estimator 23: (229, 6)\n",
      "8/8 [==============================] - 0s 769us/step\n",
      "Shape of prediction from estimator 24: (229, 6)\n",
      "8/8 [==============================] - 0s 810us/step\n",
      "Shape of prediction from estimator 25: (229, 6)\n",
      "8/8 [==============================] - 0s 676us/step\n",
      "Shape of prediction from estimator 26: (229, 6)\n",
      "8/8 [==============================] - 0s 672us/step\n",
      "Shape of prediction from estimator 27: (229, 6)\n",
      "8/8 [==============================] - 0s 717us/step\n",
      "Shape of prediction from estimator 28: (229, 6)\n",
      "8/8 [==============================] - 0s 694us/step\n",
      "Shape of prediction from estimator 29: (229, 6)\n",
      "8/8 [==============================] - 0s 638us/step\n",
      "Shape of prediction from estimator 30: (229, 6)\n",
      "8/8 [==============================] - 0s 658us/step\n",
      "Shape of prediction from estimator 31: (229, 6)\n",
      "8/8 [==============================] - 0s 690us/step\n",
      "Shape of prediction from estimator 32: (229, 6)\n",
      "8/8 [==============================] - 0s 731us/step\n",
      "Shape of prediction from estimator 33: (229, 6)\n",
      "8/8 [==============================] - 0s 676us/step\n",
      "Shape of prediction from estimator 34: (229, 6)\n",
      "8/8 [==============================] - 0s 680us/step\n",
      "Shape of prediction from estimator 35: (229, 6)\n",
      "8/8 [==============================] - 0s 606us/step\n",
      "Shape of prediction from estimator 36: (229, 6)\n",
      "8/8 [==============================] - 0s 684us/step\n",
      "Shape of prediction from estimator 37: (229, 6)\n",
      "8/8 [==============================] - 0s 680us/step\n",
      "Shape of prediction from estimator 38: (229, 6)\n",
      "8/8 [==============================] - 0s 736us/step\n",
      "Shape of prediction from estimator 39: (229, 6)\n",
      "8/8 [==============================] - 0s 693us/step\n",
      "Shape of prediction from estimator 40: (229, 6)\n",
      "8/8 [==============================] - 0s 706us/step\n",
      "Shape of prediction from estimator 41: (229, 6)\n",
      "8/8 [==============================] - 0s 657us/step\n",
      "Shape of prediction from estimator 42: (229, 6)\n",
      "8/8 [==============================] - 0s 641us/step\n",
      "Shape of prediction from estimator 43: (229, 6)\n",
      "8/8 [==============================] - 0s 668us/step\n",
      "Shape of prediction from estimator 44: (229, 6)\n",
      "8/8 [==============================] - 0s 646us/step\n",
      "Shape of prediction from estimator 45: (229, 6)\n",
      "8/8 [==============================] - 0s 716us/step\n",
      "Shape of prediction from estimator 46: (229, 6)\n",
      "8/8 [==============================] - 0s 708us/step\n",
      "Shape of prediction from estimator 47: (229, 6)\n",
      "8/8 [==============================] - 0s 712us/step\n",
      "Shape of prediction from estimator 48: (229, 6)\n",
      "8/8 [==============================] - 0s 599us/step\n",
      "Shape of prediction from estimator 49: (229, 6)\n",
      "8/8 [==============================] - 0s 651us/step\n",
      "Shape of prediction from estimator 50: (229, 6)\n",
      "8/8 [==============================] - 0s 652us/step\n",
      "Shape of prediction from estimator 51: (229, 6)\n",
      "8/8 [==============================] - 0s 691us/step\n",
      "Shape of prediction from estimator 52: (229, 6)\n",
      "8/8 [==============================] - 0s 636us/step\n",
      "Shape of prediction from estimator 53: (229, 6)\n",
      "8/8 [==============================] - 0s 738us/step\n",
      "Shape of prediction from estimator 54: (229, 6)\n",
      "8/8 [==============================] - 0s 714us/step\n",
      "Shape of prediction from estimator 55: (229, 6)\n",
      "8/8 [==============================] - 0s 661us/step\n",
      "Shape of prediction from estimator 56: (229, 6)\n",
      "8/8 [==============================] - 0s 678us/step\n",
      "Shape of prediction from estimator 57: (229, 6)\n",
      "8/8 [==============================] - 0s 686us/step\n",
      "Shape of prediction from estimator 58: (229, 6)\n",
      "8/8 [==============================] - 0s 671us/step\n",
      "Shape of prediction from estimator 59: (229, 6)\n",
      "8/8 [==============================] - 0s 697us/step\n",
      "Shape of prediction from estimator 60: (229, 6)\n",
      "8/8 [==============================] - 0s 773us/step\n",
      "Shape of prediction from estimator 61: (229, 6)\n",
      "8/8 [==============================] - 0s 649us/step\n",
      "Shape of prediction from estimator 62: (229, 6)\n",
      "8/8 [==============================] - 0s 704us/step\n",
      "Shape of prediction from estimator 63: (229, 6)\n",
      "8/8 [==============================] - 0s 704us/step\n",
      "Shape of prediction from estimator 64: (229, 6)\n",
      "8/8 [==============================] - 0s 693us/step\n",
      "Shape of prediction from estimator 65: (229, 6)\n",
      "8/8 [==============================] - 0s 713us/step\n",
      "Shape of prediction from estimator 66: (229, 6)\n",
      "8/8 [==============================] - 0s 617us/step\n",
      "Shape of prediction from estimator 67: (229, 6)\n",
      "8/8 [==============================] - 0s 695us/step\n",
      "Shape of prediction from estimator 68: (229, 6)\n",
      "8/8 [==============================] - 0s 600us/step\n",
      "Shape of prediction from estimator 69: (229, 6)\n",
      "8/8 [==============================] - 0s 659us/step\n",
      "Shape of prediction from estimator 70: (229, 6)\n",
      "8/8 [==============================] - 0s 637us/step\n",
      "Shape of prediction from estimator 71: (229, 6)\n",
      "8/8 [==============================] - 0s 674us/step\n",
      "Shape of prediction from estimator 72: (229, 6)\n",
      "8/8 [==============================] - 0s 705us/step\n",
      "Shape of prediction from estimator 73: (229, 6)\n",
      "8/8 [==============================] - 0s 635us/step\n",
      "Shape of prediction from estimator 74: (229, 6)\n",
      "8/8 [==============================] - 0s 657us/step\n",
      "Shape of prediction from estimator 75: (229, 6)\n",
      "8/8 [==============================] - 0s 620us/step\n",
      "Shape of prediction from estimator 76: (229, 6)\n",
      "8/8 [==============================] - 0s 623us/step\n",
      "Shape of prediction from estimator 77: (229, 6)\n",
      "8/8 [==============================] - 0s 661us/step\n",
      "Shape of prediction from estimator 78: (229, 6)\n",
      "8/8 [==============================] - 0s 678us/step\n",
      "Shape of prediction from estimator 79: (229, 6)\n"
     ]
    }
   ],
   "source": [
    "mean_predict, sd_predict = gbt_model.predict_mean(X_test_scaled)"
   ],
   "metadata": {
    "collapsed": false,
    "ExecuteTime": {
     "end_time": "2024-06-13T01:53:45.641349Z",
     "start_time": "2024-06-13T01:53:41.679891Z"
    }
   },
   "id": "c7f7c85503d78daf"
  },
  {
   "cell_type": "code",
   "execution_count": 17,
   "outputs": [
    {
     "name": "stdout",
     "output_type": "stream",
     "text": [
      "[[0.01055485 0.01074987 0.10482594 0.08201751 0.01134324 0.01054445]\n",
      " [0.01053603 0.01050871 0.09416708 0.09588509 0.00969429 0.01048551]\n",
      " [0.0149742  0.0260753  0.09963481 0.08950027 0.01183658 0.01080718]\n",
      " [0.01798016 0.01388981 0.14130515 0.09268229 0.15235776 0.0132328 ]\n",
      " [0.01393152 0.0458886  0.06592511 0.1232949  0.05073325 0.01407763]]\n"
     ]
    }
   ],
   "source": [
    "print(sd_predict[:5])"
   ],
   "metadata": {
    "collapsed": false,
    "ExecuteTime": {
     "end_time": "2024-06-13T01:53:50.193404Z",
     "start_time": "2024-06-13T01:53:50.182250Z"
    }
   },
   "id": "aba62c99acd2509d"
  },
  {
   "cell_type": "code",
   "execution_count": 270,
   "outputs": [
    {
     "ename": "TypeError",
     "evalue": "'numpy.bool_' object is not iterable",
     "output_type": "error",
     "traceback": [
      "\u001B[0;31m---------------------------------------------------------------------------\u001B[0m",
      "\u001B[0;31mTypeError\u001B[0m                                 Traceback (most recent call last)",
      "Cell \u001B[0;32mIn[270], line 1\u001B[0m\n\u001B[0;32m----> 1\u001B[0m indices_max \u001B[38;5;241m=\u001B[39m tf\u001B[38;5;241m.\u001B[39mwhere(tf\u001B[38;5;241m.\u001B[39mequal(sd_predict, \u001B[38;5;28;43mmax\u001B[39;49m\u001B[43m(\u001B[49m\u001B[43msd_predict\u001B[49m\u001B[38;5;241;43m.\u001B[39;49m\u001B[43mall\u001B[49m\u001B[43m(\u001B[49m\u001B[43m)\u001B[49m\u001B[43m)\u001B[49m))\n\u001B[1;32m      2\u001B[0m index_max_uncertainty \u001B[38;5;241m=\u001B[39m indices_max[\u001B[38;5;241m0\u001B[39m][\u001B[38;5;241m0\u001B[39m]\n\u001B[1;32m      3\u001B[0m \u001B[38;5;66;03m# indices_min = tf.where(tf.equal(sd_predict, min(sd_predict)))\u001B[39;00m\n\u001B[1;32m      4\u001B[0m \u001B[38;5;66;03m# index_min_uncertainty = indices_min\u001B[39;00m\n",
      "\u001B[0;31mTypeError\u001B[0m: 'numpy.bool_' object is not iterable"
     ]
    }
   ],
   "source": [
    "indices_max = tf.where(tf.equal(sd_predict, max(sd_predict.all())))\n",
    "index_max_uncertainty = indices_max[0][0]\n",
    "# indices_min = tf.where(tf.equal(sd_predict, min(sd_predict)))\n",
    "# index_min_uncertainty = indices_min\n",
    "print(index_max_uncertainty)"
   ],
   "metadata": {
    "collapsed": false,
    "ExecuteTime": {
     "end_time": "2024-06-13T01:15:00.385916Z",
     "start_time": "2024-06-13T01:15:00.357480Z"
    }
   },
   "id": "9967e2794dfeed31"
  },
  {
   "cell_type": "code",
   "execution_count": 18,
   "outputs": [
    {
     "name": "stdout",
     "output_type": "stream",
     "text": [
      "[0.02796724 0.06021295 0.45304388 0.3844586  0.05238447 0.02193281]\n"
     ]
    }
   ],
   "source": [
    "print(mean_predict[30])"
   ],
   "metadata": {
    "collapsed": false,
    "ExecuteTime": {
     "end_time": "2024-06-13T01:54:14.531633Z",
     "start_time": "2024-06-13T01:54:14.520638Z"
    }
   },
   "id": "67848f8123de7549"
  },
  {
   "cell_type": "code",
   "execution_count": 19,
   "outputs": [
    {
     "name": "stdout",
     "output_type": "stream",
     "text": [
      "tf.Tensor(\n",
      "[[  4   0]\n",
      " [ 18   0]\n",
      " [ 19   0]\n",
      " [ 22   0]\n",
      " [ 31   0]\n",
      " [ 36   0]\n",
      " [ 87   0]\n",
      " [136   0]\n",
      " [139   0]\n",
      " [152   0]\n",
      " [191   0]\n",
      " [197   0]\n",
      " [199   0]\n",
      " [201   0]\n",
      " [226   0]], shape=(15, 2), dtype=int64)\n"
     ]
    }
   ],
   "source": [
    "r = tf.where(tf.equal(y_test,1))\n",
    "t= y_test.loc[87]\n",
    "print(r)"
   ],
   "metadata": {
    "collapsed": false,
    "ExecuteTime": {
     "end_time": "2024-06-13T01:54:16.016104Z",
     "start_time": "2024-06-13T01:54:16.006112Z"
    }
   },
   "id": "3f39ae277264625b"
  },
  {
   "cell_type": "code",
   "execution_count": 78,
   "outputs": [],
   "source": [
    "PLOT = 30"
   ],
   "metadata": {
    "collapsed": false,
    "ExecuteTime": {
     "end_time": "2024-06-13T03:16:59.794452Z",
     "start_time": "2024-06-13T03:16:59.786502Z"
    }
   },
   "id": "65670c0305cb2a2f"
  },
  {
   "cell_type": "code",
   "execution_count": 79,
   "outputs": [
    {
     "data": {
      "text/plain": "<Figure size 640x480 with 1 Axes>",
      "image/png": "[encoded data removed]"
     },
     "metadata": {},
     "output_type": "display_data"
    }
   ],
   "source": [
    "classes = ['Class 1', 'Class 2', 'Class 3', 'Class 4', 'Class 5', 'Class 6']\n",
    "mean_predict_plot = mean_predict[PLOT]\n",
    "std_predict_plot = sd_predict[PLOT]\n",
    "truth_plot = y_test.loc[PLOT].values[0]\n",
    "\n",
    "# Plotting\n",
    "fig, ax = plt.subplots()\n",
    "\n",
    "\n",
    "# Bar plot for mean predicted probabilities\n",
    "bar_width = 0.6\n",
    "bars = ax.bar(classes, mean_predict_plot, yerr=std_predict_plot, capsize=5, color='lightblue', alpha=0.8, width=bar_width)\n",
    "ax.bar(classes[truth_plot], 1, color='pink', alpha=0.3, width=bar_width)\n",
    "\n",
    "# Adding titles and labels\n",
    "ax.set_xlabel('Classes', fontsize=12)\n",
    "ax.set_ylabel('Predicted Probability', fontsize=12)\n",
    "ax.set_ylim(0, 1)  # Ensuring the y-axis ranges from 0 to 1\n",
    "\n",
    "# Show the plot\n",
    "plt.xticks(rotation=45, fontsize=12)\n",
    "plt.yticks(fontsize=12)\n",
    "plt.tight_layout()\n",
    "plt.show()"
   ],
   "metadata": {
    "collapsed": false,
    "ExecuteTime": {
     "end_time": "2024-06-13T03:17:00.740998Z",
     "start_time": "2024-06-13T03:17:00.668185Z"
    }
   },
   "id": "5543cc5a99d20b2f"
  },
  {
   "cell_type": "code",
   "execution_count": 80,
   "outputs": [
    {
     "name": "stdout",
     "output_type": "stream",
     "text": [
      " 50/157 [========>.....................] - ETA: 0s"
     ]
    },
    {
     "name": "stderr",
     "output_type": "stream",
     "text": [
      "/Users/ygao/Library/Caches/pypoetry/virtualenvs/program-i-Fez0zm-py3.10/lib/python3.10/site-packages/lime/discretize.py:110: FutureWarning: Series.__getitem__ treating keys as positions is deprecated. In a future version, integer keys will always be treated as labels (consistent with DataFrame behavior). To access a value by position, use `ser.iloc[pos]`\n",
      "  ret[feature] = int(self.lambdas[feature](ret[feature]))\n",
      "/Users/ygao/Library/Caches/pypoetry/virtualenvs/program-i-Fez0zm-py3.10/lib/python3.10/site-packages/lime/discretize.py:110: FutureWarning: Series.__setitem__ treating keys as positions is deprecated. In a future version, integer keys will always be treated as labels (consistent with DataFrame behavior). To set a value by position, use `ser.iloc[pos] = value`\n",
      "  ret[feature] = int(self.lambdas[feature](ret[feature]))\n",
      "/Users/ygao/Library/Caches/pypoetry/virtualenvs/program-i-Fez0zm-py3.10/lib/python3.10/site-packages/lime/lime_tabular.py:544: FutureWarning: Series.__getitem__ treating keys as positions is deprecated. In a future version, integer keys will always be treated as labels (consistent with DataFrame behavior). To access a value by position, use `ser.iloc[pos]`\n",
      "  binary_column = (inverse_column == first_row[column]).astype(int)\n"
     ]
    },
    {
     "name": "stdout",
     "output_type": "stream",
     "text": [
      "157/157 [==============================] - 0s 1ms/step\n",
      " 66/157 [===========>..................] - ETA: 0s"
     ]
    },
    {
     "name": "stderr",
     "output_type": "stream",
     "text": [
      "/Users/ygao/Library/Caches/pypoetry/virtualenvs/program-i-Fez0zm-py3.10/lib/python3.10/site-packages/lime/discretize.py:110: FutureWarning: Series.__getitem__ treating keys as positions is deprecated. In a future version, integer keys will always be treated as labels (consistent with DataFrame behavior). To access a value by position, use `ser.iloc[pos]`\n",
      "  ret[feature] = int(self.lambdas[feature](ret[feature]))\n",
      "/Users/ygao/Library/Caches/pypoetry/virtualenvs/program-i-Fez0zm-py3.10/lib/python3.10/site-packages/lime/discretize.py:110: FutureWarning: Series.__setitem__ treating keys as positions is deprecated. In a future version, integer keys will always be treated as labels (consistent with DataFrame behavior). To set a value by position, use `ser.iloc[pos] = value`\n",
      "  ret[feature] = int(self.lambdas[feature](ret[feature]))\n",
      "/Users/ygao/Library/Caches/pypoetry/virtualenvs/program-i-Fez0zm-py3.10/lib/python3.10/site-packages/lime/lime_tabular.py:427: FutureWarning: Series.__getitem__ treating keys as positions is deprecated. In a future version, integer keys will always be treated as labels (consistent with DataFrame behavior). To access a value by position, use `ser.iloc[pos]`\n",
      "  discretized_instance[f])]\n",
      "/Users/ygao/Library/Caches/pypoetry/virtualenvs/program-i-Fez0zm-py3.10/lib/python3.10/site-packages/lime/discretize.py:110: FutureWarning: Series.__getitem__ treating keys as positions is deprecated. In a future version, integer keys will always be treated as labels (consistent with DataFrame behavior). To access a value by position, use `ser.iloc[pos]`\n",
      "  ret[feature] = int(self.lambdas[feature](ret[feature]))\n",
      "/Users/ygao/Library/Caches/pypoetry/virtualenvs/program-i-Fez0zm-py3.10/lib/python3.10/site-packages/lime/discretize.py:110: FutureWarning: Series.__setitem__ treating keys as positions is deprecated. In a future version, integer keys will always be treated as labels (consistent with DataFrame behavior). To set a value by position, use `ser.iloc[pos] = value`\n",
      "  ret[feature] = int(self.lambdas[feature](ret[feature]))\n",
      "/Users/ygao/Library/Caches/pypoetry/virtualenvs/program-i-Fez0zm-py3.10/lib/python3.10/site-packages/lime/lime_tabular.py:544: FutureWarning: Series.__getitem__ treating keys as positions is deprecated. In a future version, integer keys will always be treated as labels (consistent with DataFrame behavior). To access a value by position, use `ser.iloc[pos]`\n",
      "  binary_column = (inverse_column == first_row[column]).astype(int)\n"
     ]
    },
    {
     "name": "stdout",
     "output_type": "stream",
     "text": [
      "157/157 [==============================] - 0s 1ms/step\n",
      " 45/157 [=======>......................] - ETA: 0s"
     ]
    },
    {
     "name": "stderr",
     "output_type": "stream",
     "text": [
      "/Users/ygao/Library/Caches/pypoetry/virtualenvs/program-i-Fez0zm-py3.10/lib/python3.10/site-packages/lime/discretize.py:110: FutureWarning: Series.__getitem__ treating keys as positions is deprecated. In a future version, integer keys will always be treated as labels (consistent with DataFrame behavior). To access a value by position, use `ser.iloc[pos]`\n",
      "  ret[feature] = int(self.lambdas[feature](ret[feature]))\n",
      "/Users/ygao/Library/Caches/pypoetry/virtualenvs/program-i-Fez0zm-py3.10/lib/python3.10/site-packages/lime/discretize.py:110: FutureWarning: Series.__setitem__ treating keys as positions is deprecated. In a future version, integer keys will always be treated as labels (consistent with DataFrame behavior). To set a value by position, use `ser.iloc[pos] = value`\n",
      "  ret[feature] = int(self.lambdas[feature](ret[feature]))\n",
      "/Users/ygao/Library/Caches/pypoetry/virtualenvs/program-i-Fez0zm-py3.10/lib/python3.10/site-packages/lime/lime_tabular.py:427: FutureWarning: Series.__getitem__ treating keys as positions is deprecated. In a future version, integer keys will always be treated as labels (consistent with DataFrame behavior). To access a value by position, use `ser.iloc[pos]`\n",
      "  discretized_instance[f])]\n",
      "/Users/ygao/Library/Caches/pypoetry/virtualenvs/program-i-Fez0zm-py3.10/lib/python3.10/site-packages/lime/discretize.py:110: FutureWarning: Series.__getitem__ treating keys as positions is deprecated. In a future version, integer keys will always be treated as labels (consistent with DataFrame behavior). To access a value by position, use `ser.iloc[pos]`\n",
      "  ret[feature] = int(self.lambdas[feature](ret[feature]))\n",
      "/Users/ygao/Library/Caches/pypoetry/virtualenvs/program-i-Fez0zm-py3.10/lib/python3.10/site-packages/lime/discretize.py:110: FutureWarning: Series.__setitem__ treating keys as positions is deprecated. In a future version, integer keys will always be treated as labels (consistent with DataFrame behavior). To set a value by position, use `ser.iloc[pos] = value`\n",
      "  ret[feature] = int(self.lambdas[feature](ret[feature]))\n",
      "/Users/ygao/Library/Caches/pypoetry/virtualenvs/program-i-Fez0zm-py3.10/lib/python3.10/site-packages/lime/lime_tabular.py:544: FutureWarning: Series.__getitem__ treating keys as positions is deprecated. In a future version, integer keys will always be treated as labels (consistent with DataFrame behavior). To access a value by position, use `ser.iloc[pos]`\n",
      "  binary_column = (inverse_column == first_row[column]).astype(int)\n"
     ]
    },
    {
     "name": "stdout",
     "output_type": "stream",
     "text": [
      "157/157 [==============================] - 0s 1ms/step\n",
      " 62/157 [==========>...................] - ETA: 0s"
     ]
    },
    {
     "name": "stderr",
     "output_type": "stream",
     "text": [
      "/Users/ygao/Library/Caches/pypoetry/virtualenvs/program-i-Fez0zm-py3.10/lib/python3.10/site-packages/lime/discretize.py:110: FutureWarning: Series.__getitem__ treating keys as positions is deprecated. In a future version, integer keys will always be treated as labels (consistent with DataFrame behavior). To access a value by position, use `ser.iloc[pos]`\n",
      "  ret[feature] = int(self.lambdas[feature](ret[feature]))\n",
      "/Users/ygao/Library/Caches/pypoetry/virtualenvs/program-i-Fez0zm-py3.10/lib/python3.10/site-packages/lime/discretize.py:110: FutureWarning: Series.__setitem__ treating keys as positions is deprecated. In a future version, integer keys will always be treated as labels (consistent with DataFrame behavior). To set a value by position, use `ser.iloc[pos] = value`\n",
      "  ret[feature] = int(self.lambdas[feature](ret[feature]))\n",
      "/Users/ygao/Library/Caches/pypoetry/virtualenvs/program-i-Fez0zm-py3.10/lib/python3.10/site-packages/lime/lime_tabular.py:427: FutureWarning: Series.__getitem__ treating keys as positions is deprecated. In a future version, integer keys will always be treated as labels (consistent with DataFrame behavior). To access a value by position, use `ser.iloc[pos]`\n",
      "  discretized_instance[f])]\n",
      "/Users/ygao/Library/Caches/pypoetry/virtualenvs/program-i-Fez0zm-py3.10/lib/python3.10/site-packages/lime/discretize.py:110: FutureWarning: Series.__getitem__ treating keys as positions is deprecated. In a future version, integer keys will always be treated as labels (consistent with DataFrame behavior). To access a value by position, use `ser.iloc[pos]`\n",
      "  ret[feature] = int(self.lambdas[feature](ret[feature]))\n",
      "/Users/ygao/Library/Caches/pypoetry/virtualenvs/program-i-Fez0zm-py3.10/lib/python3.10/site-packages/lime/discretize.py:110: FutureWarning: Series.__setitem__ treating keys as positions is deprecated. In a future version, integer keys will always be treated as labels (consistent with DataFrame behavior). To set a value by position, use `ser.iloc[pos] = value`\n",
      "  ret[feature] = int(self.lambdas[feature](ret[feature]))\n",
      "/Users/ygao/Library/Caches/pypoetry/virtualenvs/program-i-Fez0zm-py3.10/lib/python3.10/site-packages/lime/lime_tabular.py:544: FutureWarning: Series.__getitem__ treating keys as positions is deprecated. In a future version, integer keys will always be treated as labels (consistent with DataFrame behavior). To access a value by position, use `ser.iloc[pos]`\n",
      "  binary_column = (inverse_column == first_row[column]).astype(int)\n"
     ]
    },
    {
     "name": "stdout",
     "output_type": "stream",
     "text": [
      "157/157 [==============================] - 0s 1ms/step\n",
      " 86/157 [===============>..............] - ETA: 0s"
     ]
    },
    {
     "name": "stderr",
     "output_type": "stream",
     "text": [
      "/Users/ygao/Library/Caches/pypoetry/virtualenvs/program-i-Fez0zm-py3.10/lib/python3.10/site-packages/lime/discretize.py:110: FutureWarning: Series.__getitem__ treating keys as positions is deprecated. In a future version, integer keys will always be treated as labels (consistent with DataFrame behavior). To access a value by position, use `ser.iloc[pos]`\n",
      "  ret[feature] = int(self.lambdas[feature](ret[feature]))\n",
      "/Users/ygao/Library/Caches/pypoetry/virtualenvs/program-i-Fez0zm-py3.10/lib/python3.10/site-packages/lime/discretize.py:110: FutureWarning: Series.__setitem__ treating keys as positions is deprecated. In a future version, integer keys will always be treated as labels (consistent with DataFrame behavior). To set a value by position, use `ser.iloc[pos] = value`\n",
      "  ret[feature] = int(self.lambdas[feature](ret[feature]))\n",
      "/Users/ygao/Library/Caches/pypoetry/virtualenvs/program-i-Fez0zm-py3.10/lib/python3.10/site-packages/lime/lime_tabular.py:427: FutureWarning: Series.__getitem__ treating keys as positions is deprecated. In a future version, integer keys will always be treated as labels (consistent with DataFrame behavior). To access a value by position, use `ser.iloc[pos]`\n",
      "  discretized_instance[f])]\n",
      "/Users/ygao/Library/Caches/pypoetry/virtualenvs/program-i-Fez0zm-py3.10/lib/python3.10/site-packages/lime/discretize.py:110: FutureWarning: Series.__getitem__ treating keys as positions is deprecated. In a future version, integer keys will always be treated as labels (consistent with DataFrame behavior). To access a value by position, use `ser.iloc[pos]`\n",
      "  ret[feature] = int(self.lambdas[feature](ret[feature]))\n",
      "/Users/ygao/Library/Caches/pypoetry/virtualenvs/program-i-Fez0zm-py3.10/lib/python3.10/site-packages/lime/discretize.py:110: FutureWarning: Series.__setitem__ treating keys as positions is deprecated. In a future version, integer keys will always be treated as labels (consistent with DataFrame behavior). To set a value by position, use `ser.iloc[pos] = value`\n",
      "  ret[feature] = int(self.lambdas[feature](ret[feature]))\n",
      "/Users/ygao/Library/Caches/pypoetry/virtualenvs/program-i-Fez0zm-py3.10/lib/python3.10/site-packages/lime/lime_tabular.py:544: FutureWarning: Series.__getitem__ treating keys as positions is deprecated. In a future version, integer keys will always be treated as labels (consistent with DataFrame behavior). To access a value by position, use `ser.iloc[pos]`\n",
      "  binary_column = (inverse_column == first_row[column]).astype(int)\n"
     ]
    },
    {
     "name": "stdout",
     "output_type": "stream",
     "text": [
      "157/157 [==============================] - 0s 1ms/step\n",
      " 46/157 [=======>......................] - ETA: 0s"
     ]
    },
    {
     "name": "stderr",
     "output_type": "stream",
     "text": [
      "/Users/ygao/Library/Caches/pypoetry/virtualenvs/program-i-Fez0zm-py3.10/lib/python3.10/site-packages/lime/discretize.py:110: FutureWarning: Series.__getitem__ treating keys as positions is deprecated. In a future version, integer keys will always be treated as labels (consistent with DataFrame behavior). To access a value by position, use `ser.iloc[pos]`\n",
      "  ret[feature] = int(self.lambdas[feature](ret[feature]))\n",
      "/Users/ygao/Library/Caches/pypoetry/virtualenvs/program-i-Fez0zm-py3.10/lib/python3.10/site-packages/lime/discretize.py:110: FutureWarning: Series.__setitem__ treating keys as positions is deprecated. In a future version, integer keys will always be treated as labels (consistent with DataFrame behavior). To set a value by position, use `ser.iloc[pos] = value`\n",
      "  ret[feature] = int(self.lambdas[feature](ret[feature]))\n",
      "/Users/ygao/Library/Caches/pypoetry/virtualenvs/program-i-Fez0zm-py3.10/lib/python3.10/site-packages/lime/lime_tabular.py:427: FutureWarning: Series.__getitem__ treating keys as positions is deprecated. In a future version, integer keys will always be treated as labels (consistent with DataFrame behavior). To access a value by position, use `ser.iloc[pos]`\n",
      "  discretized_instance[f])]\n",
      "/Users/ygao/Library/Caches/pypoetry/virtualenvs/program-i-Fez0zm-py3.10/lib/python3.10/site-packages/lime/discretize.py:110: FutureWarning: Series.__getitem__ treating keys as positions is deprecated. In a future version, integer keys will always be treated as labels (consistent with DataFrame behavior). To access a value by position, use `ser.iloc[pos]`\n",
      "  ret[feature] = int(self.lambdas[feature](ret[feature]))\n",
      "/Users/ygao/Library/Caches/pypoetry/virtualenvs/program-i-Fez0zm-py3.10/lib/python3.10/site-packages/lime/discretize.py:110: FutureWarning: Series.__setitem__ treating keys as positions is deprecated. In a future version, integer keys will always be treated as labels (consistent with DataFrame behavior). To set a value by position, use `ser.iloc[pos] = value`\n",
      "  ret[feature] = int(self.lambdas[feature](ret[feature]))\n",
      "/Users/ygao/Library/Caches/pypoetry/virtualenvs/program-i-Fez0zm-py3.10/lib/python3.10/site-packages/lime/lime_tabular.py:544: FutureWarning: Series.__getitem__ treating keys as positions is deprecated. In a future version, integer keys will always be treated as labels (consistent with DataFrame behavior). To access a value by position, use `ser.iloc[pos]`\n",
      "  binary_column = (inverse_column == first_row[column]).astype(int)\n"
     ]
    },
    {
     "name": "stdout",
     "output_type": "stream",
     "text": [
      "157/157 [==============================] - 0s 1ms/step\n",
      " 86/157 [===============>..............] - ETA: 0s"
     ]
    },
    {
     "name": "stderr",
     "output_type": "stream",
     "text": [
      "/Users/ygao/Library/Caches/pypoetry/virtualenvs/program-i-Fez0zm-py3.10/lib/python3.10/site-packages/lime/discretize.py:110: FutureWarning: Series.__getitem__ treating keys as positions is deprecated. In a future version, integer keys will always be treated as labels (consistent with DataFrame behavior). To access a value by position, use `ser.iloc[pos]`\n",
      "  ret[feature] = int(self.lambdas[feature](ret[feature]))\n",
      "/Users/ygao/Library/Caches/pypoetry/virtualenvs/program-i-Fez0zm-py3.10/lib/python3.10/site-packages/lime/discretize.py:110: FutureWarning: Series.__setitem__ treating keys as positions is deprecated. In a future version, integer keys will always be treated as labels (consistent with DataFrame behavior). To set a value by position, use `ser.iloc[pos] = value`\n",
      "  ret[feature] = int(self.lambdas[feature](ret[feature]))\n",
      "/Users/ygao/Library/Caches/pypoetry/virtualenvs/program-i-Fez0zm-py3.10/lib/python3.10/site-packages/lime/lime_tabular.py:427: FutureWarning: Series.__getitem__ treating keys as positions is deprecated. In a future version, integer keys will always be treated as labels (consistent with DataFrame behavior). To access a value by position, use `ser.iloc[pos]`\n",
      "  discretized_instance[f])]\n",
      "/Users/ygao/Library/Caches/pypoetry/virtualenvs/program-i-Fez0zm-py3.10/lib/python3.10/site-packages/lime/discretize.py:110: FutureWarning: Series.__getitem__ treating keys as positions is deprecated. In a future version, integer keys will always be treated as labels (consistent with DataFrame behavior). To access a value by position, use `ser.iloc[pos]`\n",
      "  ret[feature] = int(self.lambdas[feature](ret[feature]))\n",
      "/Users/ygao/Library/Caches/pypoetry/virtualenvs/program-i-Fez0zm-py3.10/lib/python3.10/site-packages/lime/discretize.py:110: FutureWarning: Series.__setitem__ treating keys as positions is deprecated. In a future version, integer keys will always be treated as labels (consistent with DataFrame behavior). To set a value by position, use `ser.iloc[pos] = value`\n",
      "  ret[feature] = int(self.lambdas[feature](ret[feature]))\n",
      "/Users/ygao/Library/Caches/pypoetry/virtualenvs/program-i-Fez0zm-py3.10/lib/python3.10/site-packages/lime/lime_tabular.py:544: FutureWarning: Series.__getitem__ treating keys as positions is deprecated. In a future version, integer keys will always be treated as labels (consistent with DataFrame behavior). To access a value by position, use `ser.iloc[pos]`\n",
      "  binary_column = (inverse_column == first_row[column]).astype(int)\n"
     ]
    },
    {
     "name": "stdout",
     "output_type": "stream",
     "text": [
      "157/157 [==============================] - 0s 1ms/step\n",
      " 94/157 [================>.............] - ETA: 0s"
     ]
    },
    {
     "name": "stderr",
     "output_type": "stream",
     "text": [
      "/Users/ygao/Library/Caches/pypoetry/virtualenvs/program-i-Fez0zm-py3.10/lib/python3.10/site-packages/lime/discretize.py:110: FutureWarning: Series.__getitem__ treating keys as positions is deprecated. In a future version, integer keys will always be treated as labels (consistent with DataFrame behavior). To access a value by position, use `ser.iloc[pos]`\n",
      "  ret[feature] = int(self.lambdas[feature](ret[feature]))\n",
      "/Users/ygao/Library/Caches/pypoetry/virtualenvs/program-i-Fez0zm-py3.10/lib/python3.10/site-packages/lime/discretize.py:110: FutureWarning: Series.__setitem__ treating keys as positions is deprecated. In a future version, integer keys will always be treated as labels (consistent with DataFrame behavior). To set a value by position, use `ser.iloc[pos] = value`\n",
      "  ret[feature] = int(self.lambdas[feature](ret[feature]))\n",
      "/Users/ygao/Library/Caches/pypoetry/virtualenvs/program-i-Fez0zm-py3.10/lib/python3.10/site-packages/lime/lime_tabular.py:427: FutureWarning: Series.__getitem__ treating keys as positions is deprecated. In a future version, integer keys will always be treated as labels (consistent with DataFrame behavior). To access a value by position, use `ser.iloc[pos]`\n",
      "  discretized_instance[f])]\n",
      "/Users/ygao/Library/Caches/pypoetry/virtualenvs/program-i-Fez0zm-py3.10/lib/python3.10/site-packages/lime/discretize.py:110: FutureWarning: Series.__getitem__ treating keys as positions is deprecated. In a future version, integer keys will always be treated as labels (consistent with DataFrame behavior). To access a value by position, use `ser.iloc[pos]`\n",
      "  ret[feature] = int(self.lambdas[feature](ret[feature]))\n",
      "/Users/ygao/Library/Caches/pypoetry/virtualenvs/program-i-Fez0zm-py3.10/lib/python3.10/site-packages/lime/discretize.py:110: FutureWarning: Series.__setitem__ treating keys as positions is deprecated. In a future version, integer keys will always be treated as labels (consistent with DataFrame behavior). To set a value by position, use `ser.iloc[pos] = value`\n",
      "  ret[feature] = int(self.lambdas[feature](ret[feature]))\n",
      "/Users/ygao/Library/Caches/pypoetry/virtualenvs/program-i-Fez0zm-py3.10/lib/python3.10/site-packages/lime/lime_tabular.py:544: FutureWarning: Series.__getitem__ treating keys as positions is deprecated. In a future version, integer keys will always be treated as labels (consistent with DataFrame behavior). To access a value by position, use `ser.iloc[pos]`\n",
      "  binary_column = (inverse_column == first_row[column]).astype(int)\n"
     ]
    },
    {
     "name": "stdout",
     "output_type": "stream",
     "text": [
      "157/157 [==============================] - 0s 1ms/step\n",
      " 95/157 [=================>............] - ETA: 0s"
     ]
    },
    {
     "name": "stderr",
     "output_type": "stream",
     "text": [
      "/Users/ygao/Library/Caches/pypoetry/virtualenvs/program-i-Fez0zm-py3.10/lib/python3.10/site-packages/lime/discretize.py:110: FutureWarning: Series.__getitem__ treating keys as positions is deprecated. In a future version, integer keys will always be treated as labels (consistent with DataFrame behavior). To access a value by position, use `ser.iloc[pos]`\n",
      "  ret[feature] = int(self.lambdas[feature](ret[feature]))\n",
      "/Users/ygao/Library/Caches/pypoetry/virtualenvs/program-i-Fez0zm-py3.10/lib/python3.10/site-packages/lime/discretize.py:110: FutureWarning: Series.__setitem__ treating keys as positions is deprecated. In a future version, integer keys will always be treated as labels (consistent with DataFrame behavior). To set a value by position, use `ser.iloc[pos] = value`\n",
      "  ret[feature] = int(self.lambdas[feature](ret[feature]))\n",
      "/Users/ygao/Library/Caches/pypoetry/virtualenvs/program-i-Fez0zm-py3.10/lib/python3.10/site-packages/lime/lime_tabular.py:427: FutureWarning: Series.__getitem__ treating keys as positions is deprecated. In a future version, integer keys will always be treated as labels (consistent with DataFrame behavior). To access a value by position, use `ser.iloc[pos]`\n",
      "  discretized_instance[f])]\n",
      "/Users/ygao/Library/Caches/pypoetry/virtualenvs/program-i-Fez0zm-py3.10/lib/python3.10/site-packages/lime/discretize.py:110: FutureWarning: Series.__getitem__ treating keys as positions is deprecated. In a future version, integer keys will always be treated as labels (consistent with DataFrame behavior). To access a value by position, use `ser.iloc[pos]`\n",
      "  ret[feature] = int(self.lambdas[feature](ret[feature]))\n",
      "/Users/ygao/Library/Caches/pypoetry/virtualenvs/program-i-Fez0zm-py3.10/lib/python3.10/site-packages/lime/discretize.py:110: FutureWarning: Series.__setitem__ treating keys as positions is deprecated. In a future version, integer keys will always be treated as labels (consistent with DataFrame behavior). To set a value by position, use `ser.iloc[pos] = value`\n",
      "  ret[feature] = int(self.lambdas[feature](ret[feature]))\n",
      "/Users/ygao/Library/Caches/pypoetry/virtualenvs/program-i-Fez0zm-py3.10/lib/python3.10/site-packages/lime/lime_tabular.py:544: FutureWarning: Series.__getitem__ treating keys as positions is deprecated. In a future version, integer keys will always be treated as labels (consistent with DataFrame behavior). To access a value by position, use `ser.iloc[pos]`\n",
      "  binary_column = (inverse_column == first_row[column]).astype(int)\n"
     ]
    },
    {
     "name": "stdout",
     "output_type": "stream",
     "text": [
      "157/157 [==============================] - 0s 1ms/step\n",
      " 97/157 [=================>............] - ETA: 0s"
     ]
    },
    {
     "name": "stderr",
     "output_type": "stream",
     "text": [
      "/Users/ygao/Library/Caches/pypoetry/virtualenvs/program-i-Fez0zm-py3.10/lib/python3.10/site-packages/lime/discretize.py:110: FutureWarning: Series.__getitem__ treating keys as positions is deprecated. In a future version, integer keys will always be treated as labels (consistent with DataFrame behavior). To access a value by position, use `ser.iloc[pos]`\n",
      "  ret[feature] = int(self.lambdas[feature](ret[feature]))\n",
      "/Users/ygao/Library/Caches/pypoetry/virtualenvs/program-i-Fez0zm-py3.10/lib/python3.10/site-packages/lime/discretize.py:110: FutureWarning: Series.__setitem__ treating keys as positions is deprecated. In a future version, integer keys will always be treated as labels (consistent with DataFrame behavior). To set a value by position, use `ser.iloc[pos] = value`\n",
      "  ret[feature] = int(self.lambdas[feature](ret[feature]))\n",
      "/Users/ygao/Library/Caches/pypoetry/virtualenvs/program-i-Fez0zm-py3.10/lib/python3.10/site-packages/lime/lime_tabular.py:427: FutureWarning: Series.__getitem__ treating keys as positions is deprecated. In a future version, integer keys will always be treated as labels (consistent with DataFrame behavior). To access a value by position, use `ser.iloc[pos]`\n",
      "  discretized_instance[f])]\n",
      "/Users/ygao/Library/Caches/pypoetry/virtualenvs/program-i-Fez0zm-py3.10/lib/python3.10/site-packages/lime/discretize.py:110: FutureWarning: Series.__getitem__ treating keys as positions is deprecated. In a future version, integer keys will always be treated as labels (consistent with DataFrame behavior). To access a value by position, use `ser.iloc[pos]`\n",
      "  ret[feature] = int(self.lambdas[feature](ret[feature]))\n",
      "/Users/ygao/Library/Caches/pypoetry/virtualenvs/program-i-Fez0zm-py3.10/lib/python3.10/site-packages/lime/discretize.py:110: FutureWarning: Series.__setitem__ treating keys as positions is deprecated. In a future version, integer keys will always be treated as labels (consistent with DataFrame behavior). To set a value by position, use `ser.iloc[pos] = value`\n",
      "  ret[feature] = int(self.lambdas[feature](ret[feature]))\n",
      "/Users/ygao/Library/Caches/pypoetry/virtualenvs/program-i-Fez0zm-py3.10/lib/python3.10/site-packages/lime/lime_tabular.py:544: FutureWarning: Series.__getitem__ treating keys as positions is deprecated. In a future version, integer keys will always be treated as labels (consistent with DataFrame behavior). To access a value by position, use `ser.iloc[pos]`\n",
      "  binary_column = (inverse_column == first_row[column]).astype(int)\n"
     ]
    },
    {
     "name": "stdout",
     "output_type": "stream",
     "text": [
      "157/157 [==============================] - 0s 1ms/step\n",
      " 88/157 [===============>..............] - ETA: 0s"
     ]
    },
    {
     "name": "stderr",
     "output_type": "stream",
     "text": [
      "/Users/ygao/Library/Caches/pypoetry/virtualenvs/program-i-Fez0zm-py3.10/lib/python3.10/site-packages/lime/discretize.py:110: FutureWarning: Series.__getitem__ treating keys as positions is deprecated. In a future version, integer keys will always be treated as labels (consistent with DataFrame behavior). To access a value by position, use `ser.iloc[pos]`\n",
      "  ret[feature] = int(self.lambdas[feature](ret[feature]))\n",
      "/Users/ygao/Library/Caches/pypoetry/virtualenvs/program-i-Fez0zm-py3.10/lib/python3.10/site-packages/lime/discretize.py:110: FutureWarning: Series.__setitem__ treating keys as positions is deprecated. In a future version, integer keys will always be treated as labels (consistent with DataFrame behavior). To set a value by position, use `ser.iloc[pos] = value`\n",
      "  ret[feature] = int(self.lambdas[feature](ret[feature]))\n",
      "/Users/ygao/Library/Caches/pypoetry/virtualenvs/program-i-Fez0zm-py3.10/lib/python3.10/site-packages/lime/lime_tabular.py:427: FutureWarning: Series.__getitem__ treating keys as positions is deprecated. In a future version, integer keys will always be treated as labels (consistent with DataFrame behavior). To access a value by position, use `ser.iloc[pos]`\n",
      "  discretized_instance[f])]\n",
      "/Users/ygao/Library/Caches/pypoetry/virtualenvs/program-i-Fez0zm-py3.10/lib/python3.10/site-packages/lime/discretize.py:110: FutureWarning: Series.__getitem__ treating keys as positions is deprecated. In a future version, integer keys will always be treated as labels (consistent with DataFrame behavior). To access a value by position, use `ser.iloc[pos]`\n",
      "  ret[feature] = int(self.lambdas[feature](ret[feature]))\n",
      "/Users/ygao/Library/Caches/pypoetry/virtualenvs/program-i-Fez0zm-py3.10/lib/python3.10/site-packages/lime/discretize.py:110: FutureWarning: Series.__setitem__ treating keys as positions is deprecated. In a future version, integer keys will always be treated as labels (consistent with DataFrame behavior). To set a value by position, use `ser.iloc[pos] = value`\n",
      "  ret[feature] = int(self.lambdas[feature](ret[feature]))\n",
      "/Users/ygao/Library/Caches/pypoetry/virtualenvs/program-i-Fez0zm-py3.10/lib/python3.10/site-packages/lime/lime_tabular.py:544: FutureWarning: Series.__getitem__ treating keys as positions is deprecated. In a future version, integer keys will always be treated as labels (consistent with DataFrame behavior). To access a value by position, use `ser.iloc[pos]`\n",
      "  binary_column = (inverse_column == first_row[column]).astype(int)\n"
     ]
    },
    {
     "name": "stdout",
     "output_type": "stream",
     "text": [
      "157/157 [==============================] - 0s 1ms/step\n",
      " 74/157 [=============>................] - ETA: 0s"
     ]
    },
    {
     "name": "stderr",
     "output_type": "stream",
     "text": [
      "/Users/ygao/Library/Caches/pypoetry/virtualenvs/program-i-Fez0zm-py3.10/lib/python3.10/site-packages/lime/discretize.py:110: FutureWarning: Series.__getitem__ treating keys as positions is deprecated. In a future version, integer keys will always be treated as labels (consistent with DataFrame behavior). To access a value by position, use `ser.iloc[pos]`\n",
      "  ret[feature] = int(self.lambdas[feature](ret[feature]))\n",
      "/Users/ygao/Library/Caches/pypoetry/virtualenvs/program-i-Fez0zm-py3.10/lib/python3.10/site-packages/lime/discretize.py:110: FutureWarning: Series.__setitem__ treating keys as positions is deprecated. In a future version, integer keys will always be treated as labels (consistent with DataFrame behavior). To set a value by position, use `ser.iloc[pos] = value`\n",
      "  ret[feature] = int(self.lambdas[feature](ret[feature]))\n",
      "/Users/ygao/Library/Caches/pypoetry/virtualenvs/program-i-Fez0zm-py3.10/lib/python3.10/site-packages/lime/lime_tabular.py:427: FutureWarning: Series.__getitem__ treating keys as positions is deprecated. In a future version, integer keys will always be treated as labels (consistent with DataFrame behavior). To access a value by position, use `ser.iloc[pos]`\n",
      "  discretized_instance[f])]\n",
      "/Users/ygao/Library/Caches/pypoetry/virtualenvs/program-i-Fez0zm-py3.10/lib/python3.10/site-packages/lime/discretize.py:110: FutureWarning: Series.__getitem__ treating keys as positions is deprecated. In a future version, integer keys will always be treated as labels (consistent with DataFrame behavior). To access a value by position, use `ser.iloc[pos]`\n",
      "  ret[feature] = int(self.lambdas[feature](ret[feature]))\n",
      "/Users/ygao/Library/Caches/pypoetry/virtualenvs/program-i-Fez0zm-py3.10/lib/python3.10/site-packages/lime/discretize.py:110: FutureWarning: Series.__setitem__ treating keys as positions is deprecated. In a future version, integer keys will always be treated as labels (consistent with DataFrame behavior). To set a value by position, use `ser.iloc[pos] = value`\n",
      "  ret[feature] = int(self.lambdas[feature](ret[feature]))\n",
      "/Users/ygao/Library/Caches/pypoetry/virtualenvs/program-i-Fez0zm-py3.10/lib/python3.10/site-packages/lime/lime_tabular.py:544: FutureWarning: Series.__getitem__ treating keys as positions is deprecated. In a future version, integer keys will always be treated as labels (consistent with DataFrame behavior). To access a value by position, use `ser.iloc[pos]`\n",
      "  binary_column = (inverse_column == first_row[column]).astype(int)\n"
     ]
    },
    {
     "name": "stdout",
     "output_type": "stream",
     "text": [
      "157/157 [==============================] - 0s 1ms/step\n",
      " 94/157 [================>.............] - ETA: 0s"
     ]
    },
    {
     "name": "stderr",
     "output_type": "stream",
     "text": [
      "/Users/ygao/Library/Caches/pypoetry/virtualenvs/program-i-Fez0zm-py3.10/lib/python3.10/site-packages/lime/discretize.py:110: FutureWarning: Series.__getitem__ treating keys as positions is deprecated. In a future version, integer keys will always be treated as labels (consistent with DataFrame behavior). To access a value by position, use `ser.iloc[pos]`\n",
      "  ret[feature] = int(self.lambdas[feature](ret[feature]))\n",
      "/Users/ygao/Library/Caches/pypoetry/virtualenvs/program-i-Fez0zm-py3.10/lib/python3.10/site-packages/lime/discretize.py:110: FutureWarning: Series.__setitem__ treating keys as positions is deprecated. In a future version, integer keys will always be treated as labels (consistent with DataFrame behavior). To set a value by position, use `ser.iloc[pos] = value`\n",
      "  ret[feature] = int(self.lambdas[feature](ret[feature]))\n",
      "/Users/ygao/Library/Caches/pypoetry/virtualenvs/program-i-Fez0zm-py3.10/lib/python3.10/site-packages/lime/lime_tabular.py:427: FutureWarning: Series.__getitem__ treating keys as positions is deprecated. In a future version, integer keys will always be treated as labels (consistent with DataFrame behavior). To access a value by position, use `ser.iloc[pos]`\n",
      "  discretized_instance[f])]\n",
      "/Users/ygao/Library/Caches/pypoetry/virtualenvs/program-i-Fez0zm-py3.10/lib/python3.10/site-packages/lime/discretize.py:110: FutureWarning: Series.__getitem__ treating keys as positions is deprecated. In a future version, integer keys will always be treated as labels (consistent with DataFrame behavior). To access a value by position, use `ser.iloc[pos]`\n",
      "  ret[feature] = int(self.lambdas[feature](ret[feature]))\n",
      "/Users/ygao/Library/Caches/pypoetry/virtualenvs/program-i-Fez0zm-py3.10/lib/python3.10/site-packages/lime/discretize.py:110: FutureWarning: Series.__setitem__ treating keys as positions is deprecated. In a future version, integer keys will always be treated as labels (consistent with DataFrame behavior). To set a value by position, use `ser.iloc[pos] = value`\n",
      "  ret[feature] = int(self.lambdas[feature](ret[feature]))\n",
      "/Users/ygao/Library/Caches/pypoetry/virtualenvs/program-i-Fez0zm-py3.10/lib/python3.10/site-packages/lime/lime_tabular.py:544: FutureWarning: Series.__getitem__ treating keys as positions is deprecated. In a future version, integer keys will always be treated as labels (consistent with DataFrame behavior). To access a value by position, use `ser.iloc[pos]`\n",
      "  binary_column = (inverse_column == first_row[column]).astype(int)\n"
     ]
    },
    {
     "name": "stdout",
     "output_type": "stream",
     "text": [
      "157/157 [==============================] - 0s 1ms/step\n",
      " 97/157 [=================>............] - ETA: 0s"
     ]
    },
    {
     "name": "stderr",
     "output_type": "stream",
     "text": [
      "/Users/ygao/Library/Caches/pypoetry/virtualenvs/program-i-Fez0zm-py3.10/lib/python3.10/site-packages/lime/discretize.py:110: FutureWarning: Series.__getitem__ treating keys as positions is deprecated. In a future version, integer keys will always be treated as labels (consistent with DataFrame behavior). To access a value by position, use `ser.iloc[pos]`\n",
      "  ret[feature] = int(self.lambdas[feature](ret[feature]))\n",
      "/Users/ygao/Library/Caches/pypoetry/virtualenvs/program-i-Fez0zm-py3.10/lib/python3.10/site-packages/lime/discretize.py:110: FutureWarning: Series.__setitem__ treating keys as positions is deprecated. In a future version, integer keys will always be treated as labels (consistent with DataFrame behavior). To set a value by position, use `ser.iloc[pos] = value`\n",
      "  ret[feature] = int(self.lambdas[feature](ret[feature]))\n",
      "/Users/ygao/Library/Caches/pypoetry/virtualenvs/program-i-Fez0zm-py3.10/lib/python3.10/site-packages/lime/lime_tabular.py:427: FutureWarning: Series.__getitem__ treating keys as positions is deprecated. In a future version, integer keys will always be treated as labels (consistent with DataFrame behavior). To access a value by position, use `ser.iloc[pos]`\n",
      "  discretized_instance[f])]\n",
      "/Users/ygao/Library/Caches/pypoetry/virtualenvs/program-i-Fez0zm-py3.10/lib/python3.10/site-packages/lime/discretize.py:110: FutureWarning: Series.__getitem__ treating keys as positions is deprecated. In a future version, integer keys will always be treated as labels (consistent with DataFrame behavior). To access a value by position, use `ser.iloc[pos]`\n",
      "  ret[feature] = int(self.lambdas[feature](ret[feature]))\n",
      "/Users/ygao/Library/Caches/pypoetry/virtualenvs/program-i-Fez0zm-py3.10/lib/python3.10/site-packages/lime/discretize.py:110: FutureWarning: Series.__setitem__ treating keys as positions is deprecated. In a future version, integer keys will always be treated as labels (consistent with DataFrame behavior). To set a value by position, use `ser.iloc[pos] = value`\n",
      "  ret[feature] = int(self.lambdas[feature](ret[feature]))\n",
      "/Users/ygao/Library/Caches/pypoetry/virtualenvs/program-i-Fez0zm-py3.10/lib/python3.10/site-packages/lime/lime_tabular.py:544: FutureWarning: Series.__getitem__ treating keys as positions is deprecated. In a future version, integer keys will always be treated as labels (consistent with DataFrame behavior). To access a value by position, use `ser.iloc[pos]`\n",
      "  binary_column = (inverse_column == first_row[column]).astype(int)\n"
     ]
    },
    {
     "name": "stdout",
     "output_type": "stream",
     "text": [
      "157/157 [==============================] - 0s 1ms/step\n",
      "101/157 [==================>...........] - ETA: 0s"
     ]
    },
    {
     "name": "stderr",
     "output_type": "stream",
     "text": [
      "/Users/ygao/Library/Caches/pypoetry/virtualenvs/program-i-Fez0zm-py3.10/lib/python3.10/site-packages/lime/discretize.py:110: FutureWarning: Series.__getitem__ treating keys as positions is deprecated. In a future version, integer keys will always be treated as labels (consistent with DataFrame behavior). To access a value by position, use `ser.iloc[pos]`\n",
      "  ret[feature] = int(self.lambdas[feature](ret[feature]))\n",
      "/Users/ygao/Library/Caches/pypoetry/virtualenvs/program-i-Fez0zm-py3.10/lib/python3.10/site-packages/lime/discretize.py:110: FutureWarning: Series.__setitem__ treating keys as positions is deprecated. In a future version, integer keys will always be treated as labels (consistent with DataFrame behavior). To set a value by position, use `ser.iloc[pos] = value`\n",
      "  ret[feature] = int(self.lambdas[feature](ret[feature]))\n",
      "/Users/ygao/Library/Caches/pypoetry/virtualenvs/program-i-Fez0zm-py3.10/lib/python3.10/site-packages/lime/lime_tabular.py:427: FutureWarning: Series.__getitem__ treating keys as positions is deprecated. In a future version, integer keys will always be treated as labels (consistent with DataFrame behavior). To access a value by position, use `ser.iloc[pos]`\n",
      "  discretized_instance[f])]\n",
      "/Users/ygao/Library/Caches/pypoetry/virtualenvs/program-i-Fez0zm-py3.10/lib/python3.10/site-packages/lime/discretize.py:110: FutureWarning: Series.__getitem__ treating keys as positions is deprecated. In a future version, integer keys will always be treated as labels (consistent with DataFrame behavior). To access a value by position, use `ser.iloc[pos]`\n",
      "  ret[feature] = int(self.lambdas[feature](ret[feature]))\n",
      "/Users/ygao/Library/Caches/pypoetry/virtualenvs/program-i-Fez0zm-py3.10/lib/python3.10/site-packages/lime/discretize.py:110: FutureWarning: Series.__setitem__ treating keys as positions is deprecated. In a future version, integer keys will always be treated as labels (consistent with DataFrame behavior). To set a value by position, use `ser.iloc[pos] = value`\n",
      "  ret[feature] = int(self.lambdas[feature](ret[feature]))\n",
      "/Users/ygao/Library/Caches/pypoetry/virtualenvs/program-i-Fez0zm-py3.10/lib/python3.10/site-packages/lime/lime_tabular.py:544: FutureWarning: Series.__getitem__ treating keys as positions is deprecated. In a future version, integer keys will always be treated as labels (consistent with DataFrame behavior). To access a value by position, use `ser.iloc[pos]`\n",
      "  binary_column = (inverse_column == first_row[column]).astype(int)\n"
     ]
    },
    {
     "name": "stdout",
     "output_type": "stream",
     "text": [
      "157/157 [==============================] - 0s 1ms/step\n",
      " 93/157 [================>.............] - ETA: 0s"
     ]
    },
    {
     "name": "stderr",
     "output_type": "stream",
     "text": [
      "/Users/ygao/Library/Caches/pypoetry/virtualenvs/program-i-Fez0zm-py3.10/lib/python3.10/site-packages/lime/discretize.py:110: FutureWarning: Series.__getitem__ treating keys as positions is deprecated. In a future version, integer keys will always be treated as labels (consistent with DataFrame behavior). To access a value by position, use `ser.iloc[pos]`\n",
      "  ret[feature] = int(self.lambdas[feature](ret[feature]))\n",
      "/Users/ygao/Library/Caches/pypoetry/virtualenvs/program-i-Fez0zm-py3.10/lib/python3.10/site-packages/lime/discretize.py:110: FutureWarning: Series.__setitem__ treating keys as positions is deprecated. In a future version, integer keys will always be treated as labels (consistent with DataFrame behavior). To set a value by position, use `ser.iloc[pos] = value`\n",
      "  ret[feature] = int(self.lambdas[feature](ret[feature]))\n",
      "/Users/ygao/Library/Caches/pypoetry/virtualenvs/program-i-Fez0zm-py3.10/lib/python3.10/site-packages/lime/lime_tabular.py:427: FutureWarning: Series.__getitem__ treating keys as positions is deprecated. In a future version, integer keys will always be treated as labels (consistent with DataFrame behavior). To access a value by position, use `ser.iloc[pos]`\n",
      "  discretized_instance[f])]\n",
      "/Users/ygao/Library/Caches/pypoetry/virtualenvs/program-i-Fez0zm-py3.10/lib/python3.10/site-packages/lime/discretize.py:110: FutureWarning: Series.__getitem__ treating keys as positions is deprecated. In a future version, integer keys will always be treated as labels (consistent with DataFrame behavior). To access a value by position, use `ser.iloc[pos]`\n",
      "  ret[feature] = int(self.lambdas[feature](ret[feature]))\n",
      "/Users/ygao/Library/Caches/pypoetry/virtualenvs/program-i-Fez0zm-py3.10/lib/python3.10/site-packages/lime/discretize.py:110: FutureWarning: Series.__setitem__ treating keys as positions is deprecated. In a future version, integer keys will always be treated as labels (consistent with DataFrame behavior). To set a value by position, use `ser.iloc[pos] = value`\n",
      "  ret[feature] = int(self.lambdas[feature](ret[feature]))\n",
      "/Users/ygao/Library/Caches/pypoetry/virtualenvs/program-i-Fez0zm-py3.10/lib/python3.10/site-packages/lime/lime_tabular.py:544: FutureWarning: Series.__getitem__ treating keys as positions is deprecated. In a future version, integer keys will always be treated as labels (consistent with DataFrame behavior). To access a value by position, use `ser.iloc[pos]`\n",
      "  binary_column = (inverse_column == first_row[column]).astype(int)\n"
     ]
    },
    {
     "name": "stdout",
     "output_type": "stream",
     "text": [
      "157/157 [==============================] - 0s 1ms/step\n",
      " 52/157 [========>.....................] - ETA: 0s"
     ]
    },
    {
     "name": "stderr",
     "output_type": "stream",
     "text": [
      "/Users/ygao/Library/Caches/pypoetry/virtualenvs/program-i-Fez0zm-py3.10/lib/python3.10/site-packages/lime/discretize.py:110: FutureWarning: Series.__getitem__ treating keys as positions is deprecated. In a future version, integer keys will always be treated as labels (consistent with DataFrame behavior). To access a value by position, use `ser.iloc[pos]`\n",
      "  ret[feature] = int(self.lambdas[feature](ret[feature]))\n",
      "/Users/ygao/Library/Caches/pypoetry/virtualenvs/program-i-Fez0zm-py3.10/lib/python3.10/site-packages/lime/discretize.py:110: FutureWarning: Series.__setitem__ treating keys as positions is deprecated. In a future version, integer keys will always be treated as labels (consistent with DataFrame behavior). To set a value by position, use `ser.iloc[pos] = value`\n",
      "  ret[feature] = int(self.lambdas[feature](ret[feature]))\n",
      "/Users/ygao/Library/Caches/pypoetry/virtualenvs/program-i-Fez0zm-py3.10/lib/python3.10/site-packages/lime/lime_tabular.py:427: FutureWarning: Series.__getitem__ treating keys as positions is deprecated. In a future version, integer keys will always be treated as labels (consistent with DataFrame behavior). To access a value by position, use `ser.iloc[pos]`\n",
      "  discretized_instance[f])]\n",
      "/Users/ygao/Library/Caches/pypoetry/virtualenvs/program-i-Fez0zm-py3.10/lib/python3.10/site-packages/lime/discretize.py:110: FutureWarning: Series.__getitem__ treating keys as positions is deprecated. In a future version, integer keys will always be treated as labels (consistent with DataFrame behavior). To access a value by position, use `ser.iloc[pos]`\n",
      "  ret[feature] = int(self.lambdas[feature](ret[feature]))\n",
      "/Users/ygao/Library/Caches/pypoetry/virtualenvs/program-i-Fez0zm-py3.10/lib/python3.10/site-packages/lime/discretize.py:110: FutureWarning: Series.__setitem__ treating keys as positions is deprecated. In a future version, integer keys will always be treated as labels (consistent with DataFrame behavior). To set a value by position, use `ser.iloc[pos] = value`\n",
      "  ret[feature] = int(self.lambdas[feature](ret[feature]))\n",
      "/Users/ygao/Library/Caches/pypoetry/virtualenvs/program-i-Fez0zm-py3.10/lib/python3.10/site-packages/lime/lime_tabular.py:544: FutureWarning: Series.__getitem__ treating keys as positions is deprecated. In a future version, integer keys will always be treated as labels (consistent with DataFrame behavior). To access a value by position, use `ser.iloc[pos]`\n",
      "  binary_column = (inverse_column == first_row[column]).astype(int)\n"
     ]
    },
    {
     "name": "stdout",
     "output_type": "stream",
     "text": [
      "157/157 [==============================] - 0s 1ms/step\n",
      " 78/157 [=============>................] - ETA: 0s"
     ]
    },
    {
     "name": "stderr",
     "output_type": "stream",
     "text": [
      "/Users/ygao/Library/Caches/pypoetry/virtualenvs/program-i-Fez0zm-py3.10/lib/python3.10/site-packages/lime/discretize.py:110: FutureWarning: Series.__getitem__ treating keys as positions is deprecated. In a future version, integer keys will always be treated as labels (consistent with DataFrame behavior). To access a value by position, use `ser.iloc[pos]`\n",
      "  ret[feature] = int(self.lambdas[feature](ret[feature]))\n",
      "/Users/ygao/Library/Caches/pypoetry/virtualenvs/program-i-Fez0zm-py3.10/lib/python3.10/site-packages/lime/discretize.py:110: FutureWarning: Series.__setitem__ treating keys as positions is deprecated. In a future version, integer keys will always be treated as labels (consistent with DataFrame behavior). To set a value by position, use `ser.iloc[pos] = value`\n",
      "  ret[feature] = int(self.lambdas[feature](ret[feature]))\n",
      "/Users/ygao/Library/Caches/pypoetry/virtualenvs/program-i-Fez0zm-py3.10/lib/python3.10/site-packages/lime/lime_tabular.py:427: FutureWarning: Series.__getitem__ treating keys as positions is deprecated. In a future version, integer keys will always be treated as labels (consistent with DataFrame behavior). To access a value by position, use `ser.iloc[pos]`\n",
      "  discretized_instance[f])]\n",
      "/Users/ygao/Library/Caches/pypoetry/virtualenvs/program-i-Fez0zm-py3.10/lib/python3.10/site-packages/lime/discretize.py:110: FutureWarning: Series.__getitem__ treating keys as positions is deprecated. In a future version, integer keys will always be treated as labels (consistent with DataFrame behavior). To access a value by position, use `ser.iloc[pos]`\n",
      "  ret[feature] = int(self.lambdas[feature](ret[feature]))\n",
      "/Users/ygao/Library/Caches/pypoetry/virtualenvs/program-i-Fez0zm-py3.10/lib/python3.10/site-packages/lime/discretize.py:110: FutureWarning: Series.__setitem__ treating keys as positions is deprecated. In a future version, integer keys will always be treated as labels (consistent with DataFrame behavior). To set a value by position, use `ser.iloc[pos] = value`\n",
      "  ret[feature] = int(self.lambdas[feature](ret[feature]))\n",
      "/Users/ygao/Library/Caches/pypoetry/virtualenvs/program-i-Fez0zm-py3.10/lib/python3.10/site-packages/lime/lime_tabular.py:544: FutureWarning: Series.__getitem__ treating keys as positions is deprecated. In a future version, integer keys will always be treated as labels (consistent with DataFrame behavior). To access a value by position, use `ser.iloc[pos]`\n",
      "  binary_column = (inverse_column == first_row[column]).astype(int)\n"
     ]
    },
    {
     "name": "stdout",
     "output_type": "stream",
     "text": [
      "157/157 [==============================] - 0s 1ms/step\n",
      "101/157 [==================>...........] - ETA: 0s"
     ]
    },
    {
     "name": "stderr",
     "output_type": "stream",
     "text": [
      "/Users/ygao/Library/Caches/pypoetry/virtualenvs/program-i-Fez0zm-py3.10/lib/python3.10/site-packages/lime/discretize.py:110: FutureWarning: Series.__getitem__ treating keys as positions is deprecated. In a future version, integer keys will always be treated as labels (consistent with DataFrame behavior). To access a value by position, use `ser.iloc[pos]`\n",
      "  ret[feature] = int(self.lambdas[feature](ret[feature]))\n",
      "/Users/ygao/Library/Caches/pypoetry/virtualenvs/program-i-Fez0zm-py3.10/lib/python3.10/site-packages/lime/discretize.py:110: FutureWarning: Series.__setitem__ treating keys as positions is deprecated. In a future version, integer keys will always be treated as labels (consistent with DataFrame behavior). To set a value by position, use `ser.iloc[pos] = value`\n",
      "  ret[feature] = int(self.lambdas[feature](ret[feature]))\n",
      "/Users/ygao/Library/Caches/pypoetry/virtualenvs/program-i-Fez0zm-py3.10/lib/python3.10/site-packages/lime/lime_tabular.py:427: FutureWarning: Series.__getitem__ treating keys as positions is deprecated. In a future version, integer keys will always be treated as labels (consistent with DataFrame behavior). To access a value by position, use `ser.iloc[pos]`\n",
      "  discretized_instance[f])]\n",
      "/Users/ygao/Library/Caches/pypoetry/virtualenvs/program-i-Fez0zm-py3.10/lib/python3.10/site-packages/lime/discretize.py:110: FutureWarning: Series.__getitem__ treating keys as positions is deprecated. In a future version, integer keys will always be treated as labels (consistent with DataFrame behavior). To access a value by position, use `ser.iloc[pos]`\n",
      "  ret[feature] = int(self.lambdas[feature](ret[feature]))\n",
      "/Users/ygao/Library/Caches/pypoetry/virtualenvs/program-i-Fez0zm-py3.10/lib/python3.10/site-packages/lime/discretize.py:110: FutureWarning: Series.__setitem__ treating keys as positions is deprecated. In a future version, integer keys will always be treated as labels (consistent with DataFrame behavior). To set a value by position, use `ser.iloc[pos] = value`\n",
      "  ret[feature] = int(self.lambdas[feature](ret[feature]))\n",
      "/Users/ygao/Library/Caches/pypoetry/virtualenvs/program-i-Fez0zm-py3.10/lib/python3.10/site-packages/lime/lime_tabular.py:544: FutureWarning: Series.__getitem__ treating keys as positions is deprecated. In a future version, integer keys will always be treated as labels (consistent with DataFrame behavior). To access a value by position, use `ser.iloc[pos]`\n",
      "  binary_column = (inverse_column == first_row[column]).astype(int)\n"
     ]
    },
    {
     "name": "stdout",
     "output_type": "stream",
     "text": [
      "157/157 [==============================] - 0s 1ms/step\n",
      "105/157 [===================>..........] - ETA: 0s"
     ]
    },
    {
     "name": "stderr",
     "output_type": "stream",
     "text": [
      "/Users/ygao/Library/Caches/pypoetry/virtualenvs/program-i-Fez0zm-py3.10/lib/python3.10/site-packages/lime/discretize.py:110: FutureWarning: Series.__getitem__ treating keys as positions is deprecated. In a future version, integer keys will always be treated as labels (consistent with DataFrame behavior). To access a value by position, use `ser.iloc[pos]`\n",
      "  ret[feature] = int(self.lambdas[feature](ret[feature]))\n",
      "/Users/ygao/Library/Caches/pypoetry/virtualenvs/program-i-Fez0zm-py3.10/lib/python3.10/site-packages/lime/discretize.py:110: FutureWarning: Series.__setitem__ treating keys as positions is deprecated. In a future version, integer keys will always be treated as labels (consistent with DataFrame behavior). To set a value by position, use `ser.iloc[pos] = value`\n",
      "  ret[feature] = int(self.lambdas[feature](ret[feature]))\n",
      "/Users/ygao/Library/Caches/pypoetry/virtualenvs/program-i-Fez0zm-py3.10/lib/python3.10/site-packages/lime/lime_tabular.py:427: FutureWarning: Series.__getitem__ treating keys as positions is deprecated. In a future version, integer keys will always be treated as labels (consistent with DataFrame behavior). To access a value by position, use `ser.iloc[pos]`\n",
      "  discretized_instance[f])]\n",
      "/Users/ygao/Library/Caches/pypoetry/virtualenvs/program-i-Fez0zm-py3.10/lib/python3.10/site-packages/lime/discretize.py:110: FutureWarning: Series.__getitem__ treating keys as positions is deprecated. In a future version, integer keys will always be treated as labels (consistent with DataFrame behavior). To access a value by position, use `ser.iloc[pos]`\n",
      "  ret[feature] = int(self.lambdas[feature](ret[feature]))\n",
      "/Users/ygao/Library/Caches/pypoetry/virtualenvs/program-i-Fez0zm-py3.10/lib/python3.10/site-packages/lime/discretize.py:110: FutureWarning: Series.__setitem__ treating keys as positions is deprecated. In a future version, integer keys will always be treated as labels (consistent with DataFrame behavior). To set a value by position, use `ser.iloc[pos] = value`\n",
      "  ret[feature] = int(self.lambdas[feature](ret[feature]))\n",
      "/Users/ygao/Library/Caches/pypoetry/virtualenvs/program-i-Fez0zm-py3.10/lib/python3.10/site-packages/lime/lime_tabular.py:544: FutureWarning: Series.__getitem__ treating keys as positions is deprecated. In a future version, integer keys will always be treated as labels (consistent with DataFrame behavior). To access a value by position, use `ser.iloc[pos]`\n",
      "  binary_column = (inverse_column == first_row[column]).astype(int)\n"
     ]
    },
    {
     "name": "stdout",
     "output_type": "stream",
     "text": [
      "157/157 [==============================] - 0s 987us/step\n",
      " 79/157 [==============>...............] - ETA: 0s"
     ]
    },
    {
     "name": "stderr",
     "output_type": "stream",
     "text": [
      "/Users/ygao/Library/Caches/pypoetry/virtualenvs/program-i-Fez0zm-py3.10/lib/python3.10/site-packages/lime/discretize.py:110: FutureWarning: Series.__getitem__ treating keys as positions is deprecated. In a future version, integer keys will always be treated as labels (consistent with DataFrame behavior). To access a value by position, use `ser.iloc[pos]`\n",
      "  ret[feature] = int(self.lambdas[feature](ret[feature]))\n",
      "/Users/ygao/Library/Caches/pypoetry/virtualenvs/program-i-Fez0zm-py3.10/lib/python3.10/site-packages/lime/discretize.py:110: FutureWarning: Series.__setitem__ treating keys as positions is deprecated. In a future version, integer keys will always be treated as labels (consistent with DataFrame behavior). To set a value by position, use `ser.iloc[pos] = value`\n",
      "  ret[feature] = int(self.lambdas[feature](ret[feature]))\n",
      "/Users/ygao/Library/Caches/pypoetry/virtualenvs/program-i-Fez0zm-py3.10/lib/python3.10/site-packages/lime/lime_tabular.py:427: FutureWarning: Series.__getitem__ treating keys as positions is deprecated. In a future version, integer keys will always be treated as labels (consistent with DataFrame behavior). To access a value by position, use `ser.iloc[pos]`\n",
      "  discretized_instance[f])]\n",
      "/Users/ygao/Library/Caches/pypoetry/virtualenvs/program-i-Fez0zm-py3.10/lib/python3.10/site-packages/lime/discretize.py:110: FutureWarning: Series.__getitem__ treating keys as positions is deprecated. In a future version, integer keys will always be treated as labels (consistent with DataFrame behavior). To access a value by position, use `ser.iloc[pos]`\n",
      "  ret[feature] = int(self.lambdas[feature](ret[feature]))\n",
      "/Users/ygao/Library/Caches/pypoetry/virtualenvs/program-i-Fez0zm-py3.10/lib/python3.10/site-packages/lime/discretize.py:110: FutureWarning: Series.__setitem__ treating keys as positions is deprecated. In a future version, integer keys will always be treated as labels (consistent with DataFrame behavior). To set a value by position, use `ser.iloc[pos] = value`\n",
      "  ret[feature] = int(self.lambdas[feature](ret[feature]))\n",
      "/Users/ygao/Library/Caches/pypoetry/virtualenvs/program-i-Fez0zm-py3.10/lib/python3.10/site-packages/lime/lime_tabular.py:544: FutureWarning: Series.__getitem__ treating keys as positions is deprecated. In a future version, integer keys will always be treated as labels (consistent with DataFrame behavior). To access a value by position, use `ser.iloc[pos]`\n",
      "  binary_column = (inverse_column == first_row[column]).astype(int)\n"
     ]
    },
    {
     "name": "stdout",
     "output_type": "stream",
     "text": [
      "157/157 [==============================] - 0s 1ms/step\n",
      " 89/157 [================>.............] - ETA: 0s"
     ]
    },
    {
     "name": "stderr",
     "output_type": "stream",
     "text": [
      "/Users/ygao/Library/Caches/pypoetry/virtualenvs/program-i-Fez0zm-py3.10/lib/python3.10/site-packages/lime/discretize.py:110: FutureWarning: Series.__getitem__ treating keys as positions is deprecated. In a future version, integer keys will always be treated as labels (consistent with DataFrame behavior). To access a value by position, use `ser.iloc[pos]`\n",
      "  ret[feature] = int(self.lambdas[feature](ret[feature]))\n",
      "/Users/ygao/Library/Caches/pypoetry/virtualenvs/program-i-Fez0zm-py3.10/lib/python3.10/site-packages/lime/discretize.py:110: FutureWarning: Series.__setitem__ treating keys as positions is deprecated. In a future version, integer keys will always be treated as labels (consistent with DataFrame behavior). To set a value by position, use `ser.iloc[pos] = value`\n",
      "  ret[feature] = int(self.lambdas[feature](ret[feature]))\n",
      "/Users/ygao/Library/Caches/pypoetry/virtualenvs/program-i-Fez0zm-py3.10/lib/python3.10/site-packages/lime/lime_tabular.py:427: FutureWarning: Series.__getitem__ treating keys as positions is deprecated. In a future version, integer keys will always be treated as labels (consistent with DataFrame behavior). To access a value by position, use `ser.iloc[pos]`\n",
      "  discretized_instance[f])]\n",
      "/Users/ygao/Library/Caches/pypoetry/virtualenvs/program-i-Fez0zm-py3.10/lib/python3.10/site-packages/lime/discretize.py:110: FutureWarning: Series.__getitem__ treating keys as positions is deprecated. In a future version, integer keys will always be treated as labels (consistent with DataFrame behavior). To access a value by position, use `ser.iloc[pos]`\n",
      "  ret[feature] = int(self.lambdas[feature](ret[feature]))\n",
      "/Users/ygao/Library/Caches/pypoetry/virtualenvs/program-i-Fez0zm-py3.10/lib/python3.10/site-packages/lime/discretize.py:110: FutureWarning: Series.__setitem__ treating keys as positions is deprecated. In a future version, integer keys will always be treated as labels (consistent with DataFrame behavior). To set a value by position, use `ser.iloc[pos] = value`\n",
      "  ret[feature] = int(self.lambdas[feature](ret[feature]))\n",
      "/Users/ygao/Library/Caches/pypoetry/virtualenvs/program-i-Fez0zm-py3.10/lib/python3.10/site-packages/lime/lime_tabular.py:544: FutureWarning: Series.__getitem__ treating keys as positions is deprecated. In a future version, integer keys will always be treated as labels (consistent with DataFrame behavior). To access a value by position, use `ser.iloc[pos]`\n",
      "  binary_column = (inverse_column == first_row[column]).astype(int)\n"
     ]
    },
    {
     "name": "stdout",
     "output_type": "stream",
     "text": [
      "157/157 [==============================] - 0s 1ms/step\n",
      " 56/157 [=========>....................] - ETA: 0s"
     ]
    },
    {
     "name": "stderr",
     "output_type": "stream",
     "text": [
      "/Users/ygao/Library/Caches/pypoetry/virtualenvs/program-i-Fez0zm-py3.10/lib/python3.10/site-packages/lime/discretize.py:110: FutureWarning: Series.__getitem__ treating keys as positions is deprecated. In a future version, integer keys will always be treated as labels (consistent with DataFrame behavior). To access a value by position, use `ser.iloc[pos]`\n",
      "  ret[feature] = int(self.lambdas[feature](ret[feature]))\n",
      "/Users/ygao/Library/Caches/pypoetry/virtualenvs/program-i-Fez0zm-py3.10/lib/python3.10/site-packages/lime/discretize.py:110: FutureWarning: Series.__setitem__ treating keys as positions is deprecated. In a future version, integer keys will always be treated as labels (consistent with DataFrame behavior). To set a value by position, use `ser.iloc[pos] = value`\n",
      "  ret[feature] = int(self.lambdas[feature](ret[feature]))\n",
      "/Users/ygao/Library/Caches/pypoetry/virtualenvs/program-i-Fez0zm-py3.10/lib/python3.10/site-packages/lime/lime_tabular.py:427: FutureWarning: Series.__getitem__ treating keys as positions is deprecated. In a future version, integer keys will always be treated as labels (consistent with DataFrame behavior). To access a value by position, use `ser.iloc[pos]`\n",
      "  discretized_instance[f])]\n",
      "/Users/ygao/Library/Caches/pypoetry/virtualenvs/program-i-Fez0zm-py3.10/lib/python3.10/site-packages/lime/discretize.py:110: FutureWarning: Series.__getitem__ treating keys as positions is deprecated. In a future version, integer keys will always be treated as labels (consistent with DataFrame behavior). To access a value by position, use `ser.iloc[pos]`\n",
      "  ret[feature] = int(self.lambdas[feature](ret[feature]))\n",
      "/Users/ygao/Library/Caches/pypoetry/virtualenvs/program-i-Fez0zm-py3.10/lib/python3.10/site-packages/lime/discretize.py:110: FutureWarning: Series.__setitem__ treating keys as positions is deprecated. In a future version, integer keys will always be treated as labels (consistent with DataFrame behavior). To set a value by position, use `ser.iloc[pos] = value`\n",
      "  ret[feature] = int(self.lambdas[feature](ret[feature]))\n",
      "/Users/ygao/Library/Caches/pypoetry/virtualenvs/program-i-Fez0zm-py3.10/lib/python3.10/site-packages/lime/lime_tabular.py:544: FutureWarning: Series.__getitem__ treating keys as positions is deprecated. In a future version, integer keys will always be treated as labels (consistent with DataFrame behavior). To access a value by position, use `ser.iloc[pos]`\n",
      "  binary_column = (inverse_column == first_row[column]).astype(int)\n"
     ]
    },
    {
     "name": "stdout",
     "output_type": "stream",
     "text": [
      "157/157 [==============================] - 0s 1ms/step\n",
      " 97/157 [=================>............] - ETA: 0s"
     ]
    },
    {
     "name": "stderr",
     "output_type": "stream",
     "text": [
      "/Users/ygao/Library/Caches/pypoetry/virtualenvs/program-i-Fez0zm-py3.10/lib/python3.10/site-packages/lime/discretize.py:110: FutureWarning: Series.__getitem__ treating keys as positions is deprecated. In a future version, integer keys will always be treated as labels (consistent with DataFrame behavior). To access a value by position, use `ser.iloc[pos]`\n",
      "  ret[feature] = int(self.lambdas[feature](ret[feature]))\n",
      "/Users/ygao/Library/Caches/pypoetry/virtualenvs/program-i-Fez0zm-py3.10/lib/python3.10/site-packages/lime/discretize.py:110: FutureWarning: Series.__setitem__ treating keys as positions is deprecated. In a future version, integer keys will always be treated as labels (consistent with DataFrame behavior). To set a value by position, use `ser.iloc[pos] = value`\n",
      "  ret[feature] = int(self.lambdas[feature](ret[feature]))\n",
      "/Users/ygao/Library/Caches/pypoetry/virtualenvs/program-i-Fez0zm-py3.10/lib/python3.10/site-packages/lime/lime_tabular.py:427: FutureWarning: Series.__getitem__ treating keys as positions is deprecated. In a future version, integer keys will always be treated as labels (consistent with DataFrame behavior). To access a value by position, use `ser.iloc[pos]`\n",
      "  discretized_instance[f])]\n",
      "/Users/ygao/Library/Caches/pypoetry/virtualenvs/program-i-Fez0zm-py3.10/lib/python3.10/site-packages/lime/discretize.py:110: FutureWarning: Series.__getitem__ treating keys as positions is deprecated. In a future version, integer keys will always be treated as labels (consistent with DataFrame behavior). To access a value by position, use `ser.iloc[pos]`\n",
      "  ret[feature] = int(self.lambdas[feature](ret[feature]))\n",
      "/Users/ygao/Library/Caches/pypoetry/virtualenvs/program-i-Fez0zm-py3.10/lib/python3.10/site-packages/lime/discretize.py:110: FutureWarning: Series.__setitem__ treating keys as positions is deprecated. In a future version, integer keys will always be treated as labels (consistent with DataFrame behavior). To set a value by position, use `ser.iloc[pos] = value`\n",
      "  ret[feature] = int(self.lambdas[feature](ret[feature]))\n",
      "/Users/ygao/Library/Caches/pypoetry/virtualenvs/program-i-Fez0zm-py3.10/lib/python3.10/site-packages/lime/lime_tabular.py:544: FutureWarning: Series.__getitem__ treating keys as positions is deprecated. In a future version, integer keys will always be treated as labels (consistent with DataFrame behavior). To access a value by position, use `ser.iloc[pos]`\n",
      "  binary_column = (inverse_column == first_row[column]).astype(int)\n"
     ]
    },
    {
     "name": "stdout",
     "output_type": "stream",
     "text": [
      "157/157 [==============================] - 0s 1ms/step\n",
      " 89/157 [================>.............] - ETA: 0s"
     ]
    },
    {
     "name": "stderr",
     "output_type": "stream",
     "text": [
      "/Users/ygao/Library/Caches/pypoetry/virtualenvs/program-i-Fez0zm-py3.10/lib/python3.10/site-packages/lime/discretize.py:110: FutureWarning: Series.__getitem__ treating keys as positions is deprecated. In a future version, integer keys will always be treated as labels (consistent with DataFrame behavior). To access a value by position, use `ser.iloc[pos]`\n",
      "  ret[feature] = int(self.lambdas[feature](ret[feature]))\n",
      "/Users/ygao/Library/Caches/pypoetry/virtualenvs/program-i-Fez0zm-py3.10/lib/python3.10/site-packages/lime/discretize.py:110: FutureWarning: Series.__setitem__ treating keys as positions is deprecated. In a future version, integer keys will always be treated as labels (consistent with DataFrame behavior). To set a value by position, use `ser.iloc[pos] = value`\n",
      "  ret[feature] = int(self.lambdas[feature](ret[feature]))\n",
      "/Users/ygao/Library/Caches/pypoetry/virtualenvs/program-i-Fez0zm-py3.10/lib/python3.10/site-packages/lime/lime_tabular.py:427: FutureWarning: Series.__getitem__ treating keys as positions is deprecated. In a future version, integer keys will always be treated as labels (consistent with DataFrame behavior). To access a value by position, use `ser.iloc[pos]`\n",
      "  discretized_instance[f])]\n",
      "/Users/ygao/Library/Caches/pypoetry/virtualenvs/program-i-Fez0zm-py3.10/lib/python3.10/site-packages/lime/discretize.py:110: FutureWarning: Series.__getitem__ treating keys as positions is deprecated. In a future version, integer keys will always be treated as labels (consistent with DataFrame behavior). To access a value by position, use `ser.iloc[pos]`\n",
      "  ret[feature] = int(self.lambdas[feature](ret[feature]))\n",
      "/Users/ygao/Library/Caches/pypoetry/virtualenvs/program-i-Fez0zm-py3.10/lib/python3.10/site-packages/lime/discretize.py:110: FutureWarning: Series.__setitem__ treating keys as positions is deprecated. In a future version, integer keys will always be treated as labels (consistent with DataFrame behavior). To set a value by position, use `ser.iloc[pos] = value`\n",
      "  ret[feature] = int(self.lambdas[feature](ret[feature]))\n",
      "/Users/ygao/Library/Caches/pypoetry/virtualenvs/program-i-Fez0zm-py3.10/lib/python3.10/site-packages/lime/lime_tabular.py:544: FutureWarning: Series.__getitem__ treating keys as positions is deprecated. In a future version, integer keys will always be treated as labels (consistent with DataFrame behavior). To access a value by position, use `ser.iloc[pos]`\n",
      "  binary_column = (inverse_column == first_row[column]).astype(int)\n"
     ]
    },
    {
     "name": "stdout",
     "output_type": "stream",
     "text": [
      "157/157 [==============================] - 0s 1ms/step\n",
      " 60/157 [==========>...................] - ETA: 0s"
     ]
    },
    {
     "name": "stderr",
     "output_type": "stream",
     "text": [
      "/Users/ygao/Library/Caches/pypoetry/virtualenvs/program-i-Fez0zm-py3.10/lib/python3.10/site-packages/lime/discretize.py:110: FutureWarning: Series.__getitem__ treating keys as positions is deprecated. In a future version, integer keys will always be treated as labels (consistent with DataFrame behavior). To access a value by position, use `ser.iloc[pos]`\n",
      "  ret[feature] = int(self.lambdas[feature](ret[feature]))\n",
      "/Users/ygao/Library/Caches/pypoetry/virtualenvs/program-i-Fez0zm-py3.10/lib/python3.10/site-packages/lime/discretize.py:110: FutureWarning: Series.__setitem__ treating keys as positions is deprecated. In a future version, integer keys will always be treated as labels (consistent with DataFrame behavior). To set a value by position, use `ser.iloc[pos] = value`\n",
      "  ret[feature] = int(self.lambdas[feature](ret[feature]))\n",
      "/Users/ygao/Library/Caches/pypoetry/virtualenvs/program-i-Fez0zm-py3.10/lib/python3.10/site-packages/lime/lime_tabular.py:427: FutureWarning: Series.__getitem__ treating keys as positions is deprecated. In a future version, integer keys will always be treated as labels (consistent with DataFrame behavior). To access a value by position, use `ser.iloc[pos]`\n",
      "  discretized_instance[f])]\n",
      "/Users/ygao/Library/Caches/pypoetry/virtualenvs/program-i-Fez0zm-py3.10/lib/python3.10/site-packages/lime/discretize.py:110: FutureWarning: Series.__getitem__ treating keys as positions is deprecated. In a future version, integer keys will always be treated as labels (consistent with DataFrame behavior). To access a value by position, use `ser.iloc[pos]`\n",
      "  ret[feature] = int(self.lambdas[feature](ret[feature]))\n",
      "/Users/ygao/Library/Caches/pypoetry/virtualenvs/program-i-Fez0zm-py3.10/lib/python3.10/site-packages/lime/discretize.py:110: FutureWarning: Series.__setitem__ treating keys as positions is deprecated. In a future version, integer keys will always be treated as labels (consistent with DataFrame behavior). To set a value by position, use `ser.iloc[pos] = value`\n",
      "  ret[feature] = int(self.lambdas[feature](ret[feature]))\n",
      "/Users/ygao/Library/Caches/pypoetry/virtualenvs/program-i-Fez0zm-py3.10/lib/python3.10/site-packages/lime/lime_tabular.py:544: FutureWarning: Series.__getitem__ treating keys as positions is deprecated. In a future version, integer keys will always be treated as labels (consistent with DataFrame behavior). To access a value by position, use `ser.iloc[pos]`\n",
      "  binary_column = (inverse_column == first_row[column]).astype(int)\n"
     ]
    },
    {
     "name": "stdout",
     "output_type": "stream",
     "text": [
      "157/157 [==============================] - 0s 1ms/step\n",
      " 70/157 [============>.................] - ETA: 0s"
     ]
    },
    {
     "name": "stderr",
     "output_type": "stream",
     "text": [
      "/Users/ygao/Library/Caches/pypoetry/virtualenvs/program-i-Fez0zm-py3.10/lib/python3.10/site-packages/lime/discretize.py:110: FutureWarning: Series.__getitem__ treating keys as positions is deprecated. In a future version, integer keys will always be treated as labels (consistent with DataFrame behavior). To access a value by position, use `ser.iloc[pos]`\n",
      "  ret[feature] = int(self.lambdas[feature](ret[feature]))\n",
      "/Users/ygao/Library/Caches/pypoetry/virtualenvs/program-i-Fez0zm-py3.10/lib/python3.10/site-packages/lime/discretize.py:110: FutureWarning: Series.__setitem__ treating keys as positions is deprecated. In a future version, integer keys will always be treated as labels (consistent with DataFrame behavior). To set a value by position, use `ser.iloc[pos] = value`\n",
      "  ret[feature] = int(self.lambdas[feature](ret[feature]))\n",
      "/Users/ygao/Library/Caches/pypoetry/virtualenvs/program-i-Fez0zm-py3.10/lib/python3.10/site-packages/lime/lime_tabular.py:427: FutureWarning: Series.__getitem__ treating keys as positions is deprecated. In a future version, integer keys will always be treated as labels (consistent with DataFrame behavior). To access a value by position, use `ser.iloc[pos]`\n",
      "  discretized_instance[f])]\n",
      "/Users/ygao/Library/Caches/pypoetry/virtualenvs/program-i-Fez0zm-py3.10/lib/python3.10/site-packages/lime/discretize.py:110: FutureWarning: Series.__getitem__ treating keys as positions is deprecated. In a future version, integer keys will always be treated as labels (consistent with DataFrame behavior). To access a value by position, use `ser.iloc[pos]`\n",
      "  ret[feature] = int(self.lambdas[feature](ret[feature]))\n",
      "/Users/ygao/Library/Caches/pypoetry/virtualenvs/program-i-Fez0zm-py3.10/lib/python3.10/site-packages/lime/discretize.py:110: FutureWarning: Series.__setitem__ treating keys as positions is deprecated. In a future version, integer keys will always be treated as labels (consistent with DataFrame behavior). To set a value by position, use `ser.iloc[pos] = value`\n",
      "  ret[feature] = int(self.lambdas[feature](ret[feature]))\n",
      "/Users/ygao/Library/Caches/pypoetry/virtualenvs/program-i-Fez0zm-py3.10/lib/python3.10/site-packages/lime/lime_tabular.py:544: FutureWarning: Series.__getitem__ treating keys as positions is deprecated. In a future version, integer keys will always be treated as labels (consistent with DataFrame behavior). To access a value by position, use `ser.iloc[pos]`\n",
      "  binary_column = (inverse_column == first_row[column]).astype(int)\n"
     ]
    },
    {
     "name": "stdout",
     "output_type": "stream",
     "text": [
      "157/157 [==============================] - 0s 1ms/step\n",
      " 97/157 [=================>............] - ETA: 0s"
     ]
    },
    {
     "name": "stderr",
     "output_type": "stream",
     "text": [
      "/Users/ygao/Library/Caches/pypoetry/virtualenvs/program-i-Fez0zm-py3.10/lib/python3.10/site-packages/lime/discretize.py:110: FutureWarning: Series.__getitem__ treating keys as positions is deprecated. In a future version, integer keys will always be treated as labels (consistent with DataFrame behavior). To access a value by position, use `ser.iloc[pos]`\n",
      "  ret[feature] = int(self.lambdas[feature](ret[feature]))\n",
      "/Users/ygao/Library/Caches/pypoetry/virtualenvs/program-i-Fez0zm-py3.10/lib/python3.10/site-packages/lime/discretize.py:110: FutureWarning: Series.__setitem__ treating keys as positions is deprecated. In a future version, integer keys will always be treated as labels (consistent with DataFrame behavior). To set a value by position, use `ser.iloc[pos] = value`\n",
      "  ret[feature] = int(self.lambdas[feature](ret[feature]))\n",
      "/Users/ygao/Library/Caches/pypoetry/virtualenvs/program-i-Fez0zm-py3.10/lib/python3.10/site-packages/lime/lime_tabular.py:427: FutureWarning: Series.__getitem__ treating keys as positions is deprecated. In a future version, integer keys will always be treated as labels (consistent with DataFrame behavior). To access a value by position, use `ser.iloc[pos]`\n",
      "  discretized_instance[f])]\n",
      "/Users/ygao/Library/Caches/pypoetry/virtualenvs/program-i-Fez0zm-py3.10/lib/python3.10/site-packages/lime/discretize.py:110: FutureWarning: Series.__getitem__ treating keys as positions is deprecated. In a future version, integer keys will always be treated as labels (consistent with DataFrame behavior). To access a value by position, use `ser.iloc[pos]`\n",
      "  ret[feature] = int(self.lambdas[feature](ret[feature]))\n",
      "/Users/ygao/Library/Caches/pypoetry/virtualenvs/program-i-Fez0zm-py3.10/lib/python3.10/site-packages/lime/discretize.py:110: FutureWarning: Series.__setitem__ treating keys as positions is deprecated. In a future version, integer keys will always be treated as labels (consistent with DataFrame behavior). To set a value by position, use `ser.iloc[pos] = value`\n",
      "  ret[feature] = int(self.lambdas[feature](ret[feature]))\n",
      "/Users/ygao/Library/Caches/pypoetry/virtualenvs/program-i-Fez0zm-py3.10/lib/python3.10/site-packages/lime/lime_tabular.py:544: FutureWarning: Series.__getitem__ treating keys as positions is deprecated. In a future version, integer keys will always be treated as labels (consistent with DataFrame behavior). To access a value by position, use `ser.iloc[pos]`\n",
      "  binary_column = (inverse_column == first_row[column]).astype(int)\n"
     ]
    },
    {
     "name": "stdout",
     "output_type": "stream",
     "text": [
      "157/157 [==============================] - 0s 1ms/step\n",
      " 93/157 [================>.............] - ETA: 0s"
     ]
    },
    {
     "name": "stderr",
     "output_type": "stream",
     "text": [
      "/Users/ygao/Library/Caches/pypoetry/virtualenvs/program-i-Fez0zm-py3.10/lib/python3.10/site-packages/lime/discretize.py:110: FutureWarning: Series.__getitem__ treating keys as positions is deprecated. In a future version, integer keys will always be treated as labels (consistent with DataFrame behavior). To access a value by position, use `ser.iloc[pos]`\n",
      "  ret[feature] = int(self.lambdas[feature](ret[feature]))\n",
      "/Users/ygao/Library/Caches/pypoetry/virtualenvs/program-i-Fez0zm-py3.10/lib/python3.10/site-packages/lime/discretize.py:110: FutureWarning: Series.__setitem__ treating keys as positions is deprecated. In a future version, integer keys will always be treated as labels (consistent with DataFrame behavior). To set a value by position, use `ser.iloc[pos] = value`\n",
      "  ret[feature] = int(self.lambdas[feature](ret[feature]))\n",
      "/Users/ygao/Library/Caches/pypoetry/virtualenvs/program-i-Fez0zm-py3.10/lib/python3.10/site-packages/lime/lime_tabular.py:427: FutureWarning: Series.__getitem__ treating keys as positions is deprecated. In a future version, integer keys will always be treated as labels (consistent with DataFrame behavior). To access a value by position, use `ser.iloc[pos]`\n",
      "  discretized_instance[f])]\n",
      "/Users/ygao/Library/Caches/pypoetry/virtualenvs/program-i-Fez0zm-py3.10/lib/python3.10/site-packages/lime/discretize.py:110: FutureWarning: Series.__getitem__ treating keys as positions is deprecated. In a future version, integer keys will always be treated as labels (consistent with DataFrame behavior). To access a value by position, use `ser.iloc[pos]`\n",
      "  ret[feature] = int(self.lambdas[feature](ret[feature]))\n",
      "/Users/ygao/Library/Caches/pypoetry/virtualenvs/program-i-Fez0zm-py3.10/lib/python3.10/site-packages/lime/discretize.py:110: FutureWarning: Series.__setitem__ treating keys as positions is deprecated. In a future version, integer keys will always be treated as labels (consistent with DataFrame behavior). To set a value by position, use `ser.iloc[pos] = value`\n",
      "  ret[feature] = int(self.lambdas[feature](ret[feature]))\n",
      "/Users/ygao/Library/Caches/pypoetry/virtualenvs/program-i-Fez0zm-py3.10/lib/python3.10/site-packages/lime/lime_tabular.py:544: FutureWarning: Series.__getitem__ treating keys as positions is deprecated. In a future version, integer keys will always be treated as labels (consistent with DataFrame behavior). To access a value by position, use `ser.iloc[pos]`\n",
      "  binary_column = (inverse_column == first_row[column]).astype(int)\n"
     ]
    },
    {
     "name": "stdout",
     "output_type": "stream",
     "text": [
      "157/157 [==============================] - 0s 1ms/step\n",
      " 58/157 [==========>...................] - ETA: 0s"
     ]
    },
    {
     "name": "stderr",
     "output_type": "stream",
     "text": [
      "/Users/ygao/Library/Caches/pypoetry/virtualenvs/program-i-Fez0zm-py3.10/lib/python3.10/site-packages/lime/discretize.py:110: FutureWarning: Series.__getitem__ treating keys as positions is deprecated. In a future version, integer keys will always be treated as labels (consistent with DataFrame behavior). To access a value by position, use `ser.iloc[pos]`\n",
      "  ret[feature] = int(self.lambdas[feature](ret[feature]))\n",
      "/Users/ygao/Library/Caches/pypoetry/virtualenvs/program-i-Fez0zm-py3.10/lib/python3.10/site-packages/lime/discretize.py:110: FutureWarning: Series.__setitem__ treating keys as positions is deprecated. In a future version, integer keys will always be treated as labels (consistent with DataFrame behavior). To set a value by position, use `ser.iloc[pos] = value`\n",
      "  ret[feature] = int(self.lambdas[feature](ret[feature]))\n",
      "/Users/ygao/Library/Caches/pypoetry/virtualenvs/program-i-Fez0zm-py3.10/lib/python3.10/site-packages/lime/lime_tabular.py:427: FutureWarning: Series.__getitem__ treating keys as positions is deprecated. In a future version, integer keys will always be treated as labels (consistent with DataFrame behavior). To access a value by position, use `ser.iloc[pos]`\n",
      "  discretized_instance[f])]\n",
      "/Users/ygao/Library/Caches/pypoetry/virtualenvs/program-i-Fez0zm-py3.10/lib/python3.10/site-packages/lime/discretize.py:110: FutureWarning: Series.__getitem__ treating keys as positions is deprecated. In a future version, integer keys will always be treated as labels (consistent with DataFrame behavior). To access a value by position, use `ser.iloc[pos]`\n",
      "  ret[feature] = int(self.lambdas[feature](ret[feature]))\n",
      "/Users/ygao/Library/Caches/pypoetry/virtualenvs/program-i-Fez0zm-py3.10/lib/python3.10/site-packages/lime/discretize.py:110: FutureWarning: Series.__setitem__ treating keys as positions is deprecated. In a future version, integer keys will always be treated as labels (consistent with DataFrame behavior). To set a value by position, use `ser.iloc[pos] = value`\n",
      "  ret[feature] = int(self.lambdas[feature](ret[feature]))\n",
      "/Users/ygao/Library/Caches/pypoetry/virtualenvs/program-i-Fez0zm-py3.10/lib/python3.10/site-packages/lime/lime_tabular.py:544: FutureWarning: Series.__getitem__ treating keys as positions is deprecated. In a future version, integer keys will always be treated as labels (consistent with DataFrame behavior). To access a value by position, use `ser.iloc[pos]`\n",
      "  binary_column = (inverse_column == first_row[column]).astype(int)\n"
     ]
    },
    {
     "name": "stdout",
     "output_type": "stream",
     "text": [
      "157/157 [==============================] - 0s 1ms/step\n",
      " 56/157 [=========>....................] - ETA: 0s"
     ]
    },
    {
     "name": "stderr",
     "output_type": "stream",
     "text": [
      "/Users/ygao/Library/Caches/pypoetry/virtualenvs/program-i-Fez0zm-py3.10/lib/python3.10/site-packages/lime/discretize.py:110: FutureWarning: Series.__getitem__ treating keys as positions is deprecated. In a future version, integer keys will always be treated as labels (consistent with DataFrame behavior). To access a value by position, use `ser.iloc[pos]`\n",
      "  ret[feature] = int(self.lambdas[feature](ret[feature]))\n",
      "/Users/ygao/Library/Caches/pypoetry/virtualenvs/program-i-Fez0zm-py3.10/lib/python3.10/site-packages/lime/discretize.py:110: FutureWarning: Series.__setitem__ treating keys as positions is deprecated. In a future version, integer keys will always be treated as labels (consistent with DataFrame behavior). To set a value by position, use `ser.iloc[pos] = value`\n",
      "  ret[feature] = int(self.lambdas[feature](ret[feature]))\n",
      "/Users/ygao/Library/Caches/pypoetry/virtualenvs/program-i-Fez0zm-py3.10/lib/python3.10/site-packages/lime/lime_tabular.py:427: FutureWarning: Series.__getitem__ treating keys as positions is deprecated. In a future version, integer keys will always be treated as labels (consistent with DataFrame behavior). To access a value by position, use `ser.iloc[pos]`\n",
      "  discretized_instance[f])]\n",
      "/Users/ygao/Library/Caches/pypoetry/virtualenvs/program-i-Fez0zm-py3.10/lib/python3.10/site-packages/lime/discretize.py:110: FutureWarning: Series.__getitem__ treating keys as positions is deprecated. In a future version, integer keys will always be treated as labels (consistent with DataFrame behavior). To access a value by position, use `ser.iloc[pos]`\n",
      "  ret[feature] = int(self.lambdas[feature](ret[feature]))\n",
      "/Users/ygao/Library/Caches/pypoetry/virtualenvs/program-i-Fez0zm-py3.10/lib/python3.10/site-packages/lime/discretize.py:110: FutureWarning: Series.__setitem__ treating keys as positions is deprecated. In a future version, integer keys will always be treated as labels (consistent with DataFrame behavior). To set a value by position, use `ser.iloc[pos] = value`\n",
      "  ret[feature] = int(self.lambdas[feature](ret[feature]))\n",
      "/Users/ygao/Library/Caches/pypoetry/virtualenvs/program-i-Fez0zm-py3.10/lib/python3.10/site-packages/lime/lime_tabular.py:544: FutureWarning: Series.__getitem__ treating keys as positions is deprecated. In a future version, integer keys will always be treated as labels (consistent with DataFrame behavior). To access a value by position, use `ser.iloc[pos]`\n",
      "  binary_column = (inverse_column == first_row[column]).astype(int)\n"
     ]
    },
    {
     "name": "stdout",
     "output_type": "stream",
     "text": [
      "157/157 [==============================] - 0s 1ms/step\n",
      " 90/157 [================>.............] - ETA: 0s"
     ]
    },
    {
     "name": "stderr",
     "output_type": "stream",
     "text": [
      "/Users/ygao/Library/Caches/pypoetry/virtualenvs/program-i-Fez0zm-py3.10/lib/python3.10/site-packages/lime/discretize.py:110: FutureWarning: Series.__getitem__ treating keys as positions is deprecated. In a future version, integer keys will always be treated as labels (consistent with DataFrame behavior). To access a value by position, use `ser.iloc[pos]`\n",
      "  ret[feature] = int(self.lambdas[feature](ret[feature]))\n",
      "/Users/ygao/Library/Caches/pypoetry/virtualenvs/program-i-Fez0zm-py3.10/lib/python3.10/site-packages/lime/discretize.py:110: FutureWarning: Series.__setitem__ treating keys as positions is deprecated. In a future version, integer keys will always be treated as labels (consistent with DataFrame behavior). To set a value by position, use `ser.iloc[pos] = value`\n",
      "  ret[feature] = int(self.lambdas[feature](ret[feature]))\n",
      "/Users/ygao/Library/Caches/pypoetry/virtualenvs/program-i-Fez0zm-py3.10/lib/python3.10/site-packages/lime/lime_tabular.py:427: FutureWarning: Series.__getitem__ treating keys as positions is deprecated. In a future version, integer keys will always be treated as labels (consistent with DataFrame behavior). To access a value by position, use `ser.iloc[pos]`\n",
      "  discretized_instance[f])]\n",
      "/Users/ygao/Library/Caches/pypoetry/virtualenvs/program-i-Fez0zm-py3.10/lib/python3.10/site-packages/lime/discretize.py:110: FutureWarning: Series.__getitem__ treating keys as positions is deprecated. In a future version, integer keys will always be treated as labels (consistent with DataFrame behavior). To access a value by position, use `ser.iloc[pos]`\n",
      "  ret[feature] = int(self.lambdas[feature](ret[feature]))\n",
      "/Users/ygao/Library/Caches/pypoetry/virtualenvs/program-i-Fez0zm-py3.10/lib/python3.10/site-packages/lime/discretize.py:110: FutureWarning: Series.__setitem__ treating keys as positions is deprecated. In a future version, integer keys will always be treated as labels (consistent with DataFrame behavior). To set a value by position, use `ser.iloc[pos] = value`\n",
      "  ret[feature] = int(self.lambdas[feature](ret[feature]))\n",
      "/Users/ygao/Library/Caches/pypoetry/virtualenvs/program-i-Fez0zm-py3.10/lib/python3.10/site-packages/lime/lime_tabular.py:544: FutureWarning: Series.__getitem__ treating keys as positions is deprecated. In a future version, integer keys will always be treated as labels (consistent with DataFrame behavior). To access a value by position, use `ser.iloc[pos]`\n",
      "  binary_column = (inverse_column == first_row[column]).astype(int)\n"
     ]
    },
    {
     "name": "stdout",
     "output_type": "stream",
     "text": [
      "157/157 [==============================] - 0s 1ms/step\n",
      " 98/157 [=================>............] - ETA: 0s"
     ]
    },
    {
     "name": "stderr",
     "output_type": "stream",
     "text": [
      "/Users/ygao/Library/Caches/pypoetry/virtualenvs/program-i-Fez0zm-py3.10/lib/python3.10/site-packages/lime/discretize.py:110: FutureWarning: Series.__getitem__ treating keys as positions is deprecated. In a future version, integer keys will always be treated as labels (consistent with DataFrame behavior). To access a value by position, use `ser.iloc[pos]`\n",
      "  ret[feature] = int(self.lambdas[feature](ret[feature]))\n",
      "/Users/ygao/Library/Caches/pypoetry/virtualenvs/program-i-Fez0zm-py3.10/lib/python3.10/site-packages/lime/discretize.py:110: FutureWarning: Series.__setitem__ treating keys as positions is deprecated. In a future version, integer keys will always be treated as labels (consistent with DataFrame behavior). To set a value by position, use `ser.iloc[pos] = value`\n",
      "  ret[feature] = int(self.lambdas[feature](ret[feature]))\n",
      "/Users/ygao/Library/Caches/pypoetry/virtualenvs/program-i-Fez0zm-py3.10/lib/python3.10/site-packages/lime/lime_tabular.py:427: FutureWarning: Series.__getitem__ treating keys as positions is deprecated. In a future version, integer keys will always be treated as labels (consistent with DataFrame behavior). To access a value by position, use `ser.iloc[pos]`\n",
      "  discretized_instance[f])]\n",
      "/Users/ygao/Library/Caches/pypoetry/virtualenvs/program-i-Fez0zm-py3.10/lib/python3.10/site-packages/lime/discretize.py:110: FutureWarning: Series.__getitem__ treating keys as positions is deprecated. In a future version, integer keys will always be treated as labels (consistent with DataFrame behavior). To access a value by position, use `ser.iloc[pos]`\n",
      "  ret[feature] = int(self.lambdas[feature](ret[feature]))\n",
      "/Users/ygao/Library/Caches/pypoetry/virtualenvs/program-i-Fez0zm-py3.10/lib/python3.10/site-packages/lime/discretize.py:110: FutureWarning: Series.__setitem__ treating keys as positions is deprecated. In a future version, integer keys will always be treated as labels (consistent with DataFrame behavior). To set a value by position, use `ser.iloc[pos] = value`\n",
      "  ret[feature] = int(self.lambdas[feature](ret[feature]))\n",
      "/Users/ygao/Library/Caches/pypoetry/virtualenvs/program-i-Fez0zm-py3.10/lib/python3.10/site-packages/lime/lime_tabular.py:544: FutureWarning: Series.__getitem__ treating keys as positions is deprecated. In a future version, integer keys will always be treated as labels (consistent with DataFrame behavior). To access a value by position, use `ser.iloc[pos]`\n",
      "  binary_column = (inverse_column == first_row[column]).astype(int)\n"
     ]
    },
    {
     "name": "stdout",
     "output_type": "stream",
     "text": [
      "157/157 [==============================] - 0s 1ms/step\n",
      " 88/157 [===============>..............] - ETA: 0s"
     ]
    },
    {
     "name": "stderr",
     "output_type": "stream",
     "text": [
      "/Users/ygao/Library/Caches/pypoetry/virtualenvs/program-i-Fez0zm-py3.10/lib/python3.10/site-packages/lime/discretize.py:110: FutureWarning: Series.__getitem__ treating keys as positions is deprecated. In a future version, integer keys will always be treated as labels (consistent with DataFrame behavior). To access a value by position, use `ser.iloc[pos]`\n",
      "  ret[feature] = int(self.lambdas[feature](ret[feature]))\n",
      "/Users/ygao/Library/Caches/pypoetry/virtualenvs/program-i-Fez0zm-py3.10/lib/python3.10/site-packages/lime/discretize.py:110: FutureWarning: Series.__setitem__ treating keys as positions is deprecated. In a future version, integer keys will always be treated as labels (consistent with DataFrame behavior). To set a value by position, use `ser.iloc[pos] = value`\n",
      "  ret[feature] = int(self.lambdas[feature](ret[feature]))\n",
      "/Users/ygao/Library/Caches/pypoetry/virtualenvs/program-i-Fez0zm-py3.10/lib/python3.10/site-packages/lime/lime_tabular.py:427: FutureWarning: Series.__getitem__ treating keys as positions is deprecated. In a future version, integer keys will always be treated as labels (consistent with DataFrame behavior). To access a value by position, use `ser.iloc[pos]`\n",
      "  discretized_instance[f])]\n",
      "/Users/ygao/Library/Caches/pypoetry/virtualenvs/program-i-Fez0zm-py3.10/lib/python3.10/site-packages/lime/discretize.py:110: FutureWarning: Series.__getitem__ treating keys as positions is deprecated. In a future version, integer keys will always be treated as labels (consistent with DataFrame behavior). To access a value by position, use `ser.iloc[pos]`\n",
      "  ret[feature] = int(self.lambdas[feature](ret[feature]))\n",
      "/Users/ygao/Library/Caches/pypoetry/virtualenvs/program-i-Fez0zm-py3.10/lib/python3.10/site-packages/lime/discretize.py:110: FutureWarning: Series.__setitem__ treating keys as positions is deprecated. In a future version, integer keys will always be treated as labels (consistent with DataFrame behavior). To set a value by position, use `ser.iloc[pos] = value`\n",
      "  ret[feature] = int(self.lambdas[feature](ret[feature]))\n",
      "/Users/ygao/Library/Caches/pypoetry/virtualenvs/program-i-Fez0zm-py3.10/lib/python3.10/site-packages/lime/lime_tabular.py:544: FutureWarning: Series.__getitem__ treating keys as positions is deprecated. In a future version, integer keys will always be treated as labels (consistent with DataFrame behavior). To access a value by position, use `ser.iloc[pos]`\n",
      "  binary_column = (inverse_column == first_row[column]).astype(int)\n"
     ]
    },
    {
     "name": "stdout",
     "output_type": "stream",
     "text": [
      "157/157 [==============================] - 0s 1ms/step\n",
      " 52/157 [========>.....................] - ETA: 0s"
     ]
    },
    {
     "name": "stderr",
     "output_type": "stream",
     "text": [
      "/Users/ygao/Library/Caches/pypoetry/virtualenvs/program-i-Fez0zm-py3.10/lib/python3.10/site-packages/lime/discretize.py:110: FutureWarning: Series.__getitem__ treating keys as positions is deprecated. In a future version, integer keys will always be treated as labels (consistent with DataFrame behavior). To access a value by position, use `ser.iloc[pos]`\n",
      "  ret[feature] = int(self.lambdas[feature](ret[feature]))\n",
      "/Users/ygao/Library/Caches/pypoetry/virtualenvs/program-i-Fez0zm-py3.10/lib/python3.10/site-packages/lime/discretize.py:110: FutureWarning: Series.__setitem__ treating keys as positions is deprecated. In a future version, integer keys will always be treated as labels (consistent with DataFrame behavior). To set a value by position, use `ser.iloc[pos] = value`\n",
      "  ret[feature] = int(self.lambdas[feature](ret[feature]))\n",
      "/Users/ygao/Library/Caches/pypoetry/virtualenvs/program-i-Fez0zm-py3.10/lib/python3.10/site-packages/lime/lime_tabular.py:427: FutureWarning: Series.__getitem__ treating keys as positions is deprecated. In a future version, integer keys will always be treated as labels (consistent with DataFrame behavior). To access a value by position, use `ser.iloc[pos]`\n",
      "  discretized_instance[f])]\n",
      "/Users/ygao/Library/Caches/pypoetry/virtualenvs/program-i-Fez0zm-py3.10/lib/python3.10/site-packages/lime/discretize.py:110: FutureWarning: Series.__getitem__ treating keys as positions is deprecated. In a future version, integer keys will always be treated as labels (consistent with DataFrame behavior). To access a value by position, use `ser.iloc[pos]`\n",
      "  ret[feature] = int(self.lambdas[feature](ret[feature]))\n",
      "/Users/ygao/Library/Caches/pypoetry/virtualenvs/program-i-Fez0zm-py3.10/lib/python3.10/site-packages/lime/discretize.py:110: FutureWarning: Series.__setitem__ treating keys as positions is deprecated. In a future version, integer keys will always be treated as labels (consistent with DataFrame behavior). To set a value by position, use `ser.iloc[pos] = value`\n",
      "  ret[feature] = int(self.lambdas[feature](ret[feature]))\n",
      "/Users/ygao/Library/Caches/pypoetry/virtualenvs/program-i-Fez0zm-py3.10/lib/python3.10/site-packages/lime/lime_tabular.py:544: FutureWarning: Series.__getitem__ treating keys as positions is deprecated. In a future version, integer keys will always be treated as labels (consistent with DataFrame behavior). To access a value by position, use `ser.iloc[pos]`\n",
      "  binary_column = (inverse_column == first_row[column]).astype(int)\n"
     ]
    },
    {
     "name": "stdout",
     "output_type": "stream",
     "text": [
      "157/157 [==============================] - 0s 1ms/step\n",
      " 78/157 [=============>................] - ETA: 0s"
     ]
    },
    {
     "name": "stderr",
     "output_type": "stream",
     "text": [
      "/Users/ygao/Library/Caches/pypoetry/virtualenvs/program-i-Fez0zm-py3.10/lib/python3.10/site-packages/lime/discretize.py:110: FutureWarning: Series.__getitem__ treating keys as positions is deprecated. In a future version, integer keys will always be treated as labels (consistent with DataFrame behavior). To access a value by position, use `ser.iloc[pos]`\n",
      "  ret[feature] = int(self.lambdas[feature](ret[feature]))\n",
      "/Users/ygao/Library/Caches/pypoetry/virtualenvs/program-i-Fez0zm-py3.10/lib/python3.10/site-packages/lime/discretize.py:110: FutureWarning: Series.__setitem__ treating keys as positions is deprecated. In a future version, integer keys will always be treated as labels (consistent with DataFrame behavior). To set a value by position, use `ser.iloc[pos] = value`\n",
      "  ret[feature] = int(self.lambdas[feature](ret[feature]))\n",
      "/Users/ygao/Library/Caches/pypoetry/virtualenvs/program-i-Fez0zm-py3.10/lib/python3.10/site-packages/lime/lime_tabular.py:427: FutureWarning: Series.__getitem__ treating keys as positions is deprecated. In a future version, integer keys will always be treated as labels (consistent with DataFrame behavior). To access a value by position, use `ser.iloc[pos]`\n",
      "  discretized_instance[f])]\n",
      "/Users/ygao/Library/Caches/pypoetry/virtualenvs/program-i-Fez0zm-py3.10/lib/python3.10/site-packages/lime/discretize.py:110: FutureWarning: Series.__getitem__ treating keys as positions is deprecated. In a future version, integer keys will always be treated as labels (consistent with DataFrame behavior). To access a value by position, use `ser.iloc[pos]`\n",
      "  ret[feature] = int(self.lambdas[feature](ret[feature]))\n",
      "/Users/ygao/Library/Caches/pypoetry/virtualenvs/program-i-Fez0zm-py3.10/lib/python3.10/site-packages/lime/discretize.py:110: FutureWarning: Series.__setitem__ treating keys as positions is deprecated. In a future version, integer keys will always be treated as labels (consistent with DataFrame behavior). To set a value by position, use `ser.iloc[pos] = value`\n",
      "  ret[feature] = int(self.lambdas[feature](ret[feature]))\n",
      "/Users/ygao/Library/Caches/pypoetry/virtualenvs/program-i-Fez0zm-py3.10/lib/python3.10/site-packages/lime/lime_tabular.py:544: FutureWarning: Series.__getitem__ treating keys as positions is deprecated. In a future version, integer keys will always be treated as labels (consistent with DataFrame behavior). To access a value by position, use `ser.iloc[pos]`\n",
      "  binary_column = (inverse_column == first_row[column]).astype(int)\n"
     ]
    },
    {
     "name": "stdout",
     "output_type": "stream",
     "text": [
      "157/157 [==============================] - 0s 1ms/step\n",
      " 95/157 [=================>............] - ETA: 0s"
     ]
    },
    {
     "name": "stderr",
     "output_type": "stream",
     "text": [
      "/Users/ygao/Library/Caches/pypoetry/virtualenvs/program-i-Fez0zm-py3.10/lib/python3.10/site-packages/lime/discretize.py:110: FutureWarning: Series.__getitem__ treating keys as positions is deprecated. In a future version, integer keys will always be treated as labels (consistent with DataFrame behavior). To access a value by position, use `ser.iloc[pos]`\n",
      "  ret[feature] = int(self.lambdas[feature](ret[feature]))\n",
      "/Users/ygao/Library/Caches/pypoetry/virtualenvs/program-i-Fez0zm-py3.10/lib/python3.10/site-packages/lime/discretize.py:110: FutureWarning: Series.__setitem__ treating keys as positions is deprecated. In a future version, integer keys will always be treated as labels (consistent with DataFrame behavior). To set a value by position, use `ser.iloc[pos] = value`\n",
      "  ret[feature] = int(self.lambdas[feature](ret[feature]))\n",
      "/Users/ygao/Library/Caches/pypoetry/virtualenvs/program-i-Fez0zm-py3.10/lib/python3.10/site-packages/lime/lime_tabular.py:427: FutureWarning: Series.__getitem__ treating keys as positions is deprecated. In a future version, integer keys will always be treated as labels (consistent with DataFrame behavior). To access a value by position, use `ser.iloc[pos]`\n",
      "  discretized_instance[f])]\n",
      "/Users/ygao/Library/Caches/pypoetry/virtualenvs/program-i-Fez0zm-py3.10/lib/python3.10/site-packages/lime/discretize.py:110: FutureWarning: Series.__getitem__ treating keys as positions is deprecated. In a future version, integer keys will always be treated as labels (consistent with DataFrame behavior). To access a value by position, use `ser.iloc[pos]`\n",
      "  ret[feature] = int(self.lambdas[feature](ret[feature]))\n",
      "/Users/ygao/Library/Caches/pypoetry/virtualenvs/program-i-Fez0zm-py3.10/lib/python3.10/site-packages/lime/discretize.py:110: FutureWarning: Series.__setitem__ treating keys as positions is deprecated. In a future version, integer keys will always be treated as labels (consistent with DataFrame behavior). To set a value by position, use `ser.iloc[pos] = value`\n",
      "  ret[feature] = int(self.lambdas[feature](ret[feature]))\n",
      "/Users/ygao/Library/Caches/pypoetry/virtualenvs/program-i-Fez0zm-py3.10/lib/python3.10/site-packages/lime/lime_tabular.py:544: FutureWarning: Series.__getitem__ treating keys as positions is deprecated. In a future version, integer keys will always be treated as labels (consistent with DataFrame behavior). To access a value by position, use `ser.iloc[pos]`\n",
      "  binary_column = (inverse_column == first_row[column]).astype(int)\n"
     ]
    },
    {
     "name": "stdout",
     "output_type": "stream",
     "text": [
      "157/157 [==============================] - 0s 1ms/step\n",
      " 95/157 [=================>............] - ETA: 0s"
     ]
    },
    {
     "name": "stderr",
     "output_type": "stream",
     "text": [
      "/Users/ygao/Library/Caches/pypoetry/virtualenvs/program-i-Fez0zm-py3.10/lib/python3.10/site-packages/lime/discretize.py:110: FutureWarning: Series.__getitem__ treating keys as positions is deprecated. In a future version, integer keys will always be treated as labels (consistent with DataFrame behavior). To access a value by position, use `ser.iloc[pos]`\n",
      "  ret[feature] = int(self.lambdas[feature](ret[feature]))\n",
      "/Users/ygao/Library/Caches/pypoetry/virtualenvs/program-i-Fez0zm-py3.10/lib/python3.10/site-packages/lime/discretize.py:110: FutureWarning: Series.__setitem__ treating keys as positions is deprecated. In a future version, integer keys will always be treated as labels (consistent with DataFrame behavior). To set a value by position, use `ser.iloc[pos] = value`\n",
      "  ret[feature] = int(self.lambdas[feature](ret[feature]))\n",
      "/Users/ygao/Library/Caches/pypoetry/virtualenvs/program-i-Fez0zm-py3.10/lib/python3.10/site-packages/lime/lime_tabular.py:427: FutureWarning: Series.__getitem__ treating keys as positions is deprecated. In a future version, integer keys will always be treated as labels (consistent with DataFrame behavior). To access a value by position, use `ser.iloc[pos]`\n",
      "  discretized_instance[f])]\n",
      "/Users/ygao/Library/Caches/pypoetry/virtualenvs/program-i-Fez0zm-py3.10/lib/python3.10/site-packages/lime/discretize.py:110: FutureWarning: Series.__getitem__ treating keys as positions is deprecated. In a future version, integer keys will always be treated as labels (consistent with DataFrame behavior). To access a value by position, use `ser.iloc[pos]`\n",
      "  ret[feature] = int(self.lambdas[feature](ret[feature]))\n",
      "/Users/ygao/Library/Caches/pypoetry/virtualenvs/program-i-Fez0zm-py3.10/lib/python3.10/site-packages/lime/discretize.py:110: FutureWarning: Series.__setitem__ treating keys as positions is deprecated. In a future version, integer keys will always be treated as labels (consistent with DataFrame behavior). To set a value by position, use `ser.iloc[pos] = value`\n",
      "  ret[feature] = int(self.lambdas[feature](ret[feature]))\n",
      "/Users/ygao/Library/Caches/pypoetry/virtualenvs/program-i-Fez0zm-py3.10/lib/python3.10/site-packages/lime/lime_tabular.py:544: FutureWarning: Series.__getitem__ treating keys as positions is deprecated. In a future version, integer keys will always be treated as labels (consistent with DataFrame behavior). To access a value by position, use `ser.iloc[pos]`\n",
      "  binary_column = (inverse_column == first_row[column]).astype(int)\n"
     ]
    },
    {
     "name": "stdout",
     "output_type": "stream",
     "text": [
      "157/157 [==============================] - 0s 1ms/step\n",
      " 83/157 [==============>...............] - ETA: 0s"
     ]
    },
    {
     "name": "stderr",
     "output_type": "stream",
     "text": [
      "/Users/ygao/Library/Caches/pypoetry/virtualenvs/program-i-Fez0zm-py3.10/lib/python3.10/site-packages/lime/discretize.py:110: FutureWarning: Series.__getitem__ treating keys as positions is deprecated. In a future version, integer keys will always be treated as labels (consistent with DataFrame behavior). To access a value by position, use `ser.iloc[pos]`\n",
      "  ret[feature] = int(self.lambdas[feature](ret[feature]))\n",
      "/Users/ygao/Library/Caches/pypoetry/virtualenvs/program-i-Fez0zm-py3.10/lib/python3.10/site-packages/lime/discretize.py:110: FutureWarning: Series.__setitem__ treating keys as positions is deprecated. In a future version, integer keys will always be treated as labels (consistent with DataFrame behavior). To set a value by position, use `ser.iloc[pos] = value`\n",
      "  ret[feature] = int(self.lambdas[feature](ret[feature]))\n",
      "/Users/ygao/Library/Caches/pypoetry/virtualenvs/program-i-Fez0zm-py3.10/lib/python3.10/site-packages/lime/lime_tabular.py:427: FutureWarning: Series.__getitem__ treating keys as positions is deprecated. In a future version, integer keys will always be treated as labels (consistent with DataFrame behavior). To access a value by position, use `ser.iloc[pos]`\n",
      "  discretized_instance[f])]\n",
      "/Users/ygao/Library/Caches/pypoetry/virtualenvs/program-i-Fez0zm-py3.10/lib/python3.10/site-packages/lime/discretize.py:110: FutureWarning: Series.__getitem__ treating keys as positions is deprecated. In a future version, integer keys will always be treated as labels (consistent with DataFrame behavior). To access a value by position, use `ser.iloc[pos]`\n",
      "  ret[feature] = int(self.lambdas[feature](ret[feature]))\n",
      "/Users/ygao/Library/Caches/pypoetry/virtualenvs/program-i-Fez0zm-py3.10/lib/python3.10/site-packages/lime/discretize.py:110: FutureWarning: Series.__setitem__ treating keys as positions is deprecated. In a future version, integer keys will always be treated as labels (consistent with DataFrame behavior). To set a value by position, use `ser.iloc[pos] = value`\n",
      "  ret[feature] = int(self.lambdas[feature](ret[feature]))\n",
      "/Users/ygao/Library/Caches/pypoetry/virtualenvs/program-i-Fez0zm-py3.10/lib/python3.10/site-packages/lime/lime_tabular.py:544: FutureWarning: Series.__getitem__ treating keys as positions is deprecated. In a future version, integer keys will always be treated as labels (consistent with DataFrame behavior). To access a value by position, use `ser.iloc[pos]`\n",
      "  binary_column = (inverse_column == first_row[column]).astype(int)\n"
     ]
    },
    {
     "name": "stdout",
     "output_type": "stream",
     "text": [
      "157/157 [==============================] - 0s 1ms/step\n",
      " 51/157 [========>.....................] - ETA: 0s"
     ]
    },
    {
     "name": "stderr",
     "output_type": "stream",
     "text": [
      "/Users/ygao/Library/Caches/pypoetry/virtualenvs/program-i-Fez0zm-py3.10/lib/python3.10/site-packages/lime/discretize.py:110: FutureWarning: Series.__getitem__ treating keys as positions is deprecated. In a future version, integer keys will always be treated as labels (consistent with DataFrame behavior). To access a value by position, use `ser.iloc[pos]`\n",
      "  ret[feature] = int(self.lambdas[feature](ret[feature]))\n",
      "/Users/ygao/Library/Caches/pypoetry/virtualenvs/program-i-Fez0zm-py3.10/lib/python3.10/site-packages/lime/discretize.py:110: FutureWarning: Series.__setitem__ treating keys as positions is deprecated. In a future version, integer keys will always be treated as labels (consistent with DataFrame behavior). To set a value by position, use `ser.iloc[pos] = value`\n",
      "  ret[feature] = int(self.lambdas[feature](ret[feature]))\n",
      "/Users/ygao/Library/Caches/pypoetry/virtualenvs/program-i-Fez0zm-py3.10/lib/python3.10/site-packages/lime/lime_tabular.py:427: FutureWarning: Series.__getitem__ treating keys as positions is deprecated. In a future version, integer keys will always be treated as labels (consistent with DataFrame behavior). To access a value by position, use `ser.iloc[pos]`\n",
      "  discretized_instance[f])]\n",
      "/Users/ygao/Library/Caches/pypoetry/virtualenvs/program-i-Fez0zm-py3.10/lib/python3.10/site-packages/lime/discretize.py:110: FutureWarning: Series.__getitem__ treating keys as positions is deprecated. In a future version, integer keys will always be treated as labels (consistent with DataFrame behavior). To access a value by position, use `ser.iloc[pos]`\n",
      "  ret[feature] = int(self.lambdas[feature](ret[feature]))\n",
      "/Users/ygao/Library/Caches/pypoetry/virtualenvs/program-i-Fez0zm-py3.10/lib/python3.10/site-packages/lime/discretize.py:110: FutureWarning: Series.__setitem__ treating keys as positions is deprecated. In a future version, integer keys will always be treated as labels (consistent with DataFrame behavior). To set a value by position, use `ser.iloc[pos] = value`\n",
      "  ret[feature] = int(self.lambdas[feature](ret[feature]))\n",
      "/Users/ygao/Library/Caches/pypoetry/virtualenvs/program-i-Fez0zm-py3.10/lib/python3.10/site-packages/lime/lime_tabular.py:544: FutureWarning: Series.__getitem__ treating keys as positions is deprecated. In a future version, integer keys will always be treated as labels (consistent with DataFrame behavior). To access a value by position, use `ser.iloc[pos]`\n",
      "  binary_column = (inverse_column == first_row[column]).astype(int)\n"
     ]
    },
    {
     "name": "stdout",
     "output_type": "stream",
     "text": [
      "157/157 [==============================] - 0s 1ms/step\n",
      " 43/157 [=======>......................] - ETA: 0s "
     ]
    },
    {
     "name": "stderr",
     "output_type": "stream",
     "text": [
      "/Users/ygao/Library/Caches/pypoetry/virtualenvs/program-i-Fez0zm-py3.10/lib/python3.10/site-packages/lime/discretize.py:110: FutureWarning: Series.__getitem__ treating keys as positions is deprecated. In a future version, integer keys will always be treated as labels (consistent with DataFrame behavior). To access a value by position, use `ser.iloc[pos]`\n",
      "  ret[feature] = int(self.lambdas[feature](ret[feature]))\n",
      "/Users/ygao/Library/Caches/pypoetry/virtualenvs/program-i-Fez0zm-py3.10/lib/python3.10/site-packages/lime/discretize.py:110: FutureWarning: Series.__setitem__ treating keys as positions is deprecated. In a future version, integer keys will always be treated as labels (consistent with DataFrame behavior). To set a value by position, use `ser.iloc[pos] = value`\n",
      "  ret[feature] = int(self.lambdas[feature](ret[feature]))\n",
      "/Users/ygao/Library/Caches/pypoetry/virtualenvs/program-i-Fez0zm-py3.10/lib/python3.10/site-packages/lime/lime_tabular.py:427: FutureWarning: Series.__getitem__ treating keys as positions is deprecated. In a future version, integer keys will always be treated as labels (consistent with DataFrame behavior). To access a value by position, use `ser.iloc[pos]`\n",
      "  discretized_instance[f])]\n",
      "/Users/ygao/Library/Caches/pypoetry/virtualenvs/program-i-Fez0zm-py3.10/lib/python3.10/site-packages/lime/discretize.py:110: FutureWarning: Series.__getitem__ treating keys as positions is deprecated. In a future version, integer keys will always be treated as labels (consistent with DataFrame behavior). To access a value by position, use `ser.iloc[pos]`\n",
      "  ret[feature] = int(self.lambdas[feature](ret[feature]))\n",
      "/Users/ygao/Library/Caches/pypoetry/virtualenvs/program-i-Fez0zm-py3.10/lib/python3.10/site-packages/lime/discretize.py:110: FutureWarning: Series.__setitem__ treating keys as positions is deprecated. In a future version, integer keys will always be treated as labels (consistent with DataFrame behavior). To set a value by position, use `ser.iloc[pos] = value`\n",
      "  ret[feature] = int(self.lambdas[feature](ret[feature]))\n",
      "/Users/ygao/Library/Caches/pypoetry/virtualenvs/program-i-Fez0zm-py3.10/lib/python3.10/site-packages/lime/lime_tabular.py:544: FutureWarning: Series.__getitem__ treating keys as positions is deprecated. In a future version, integer keys will always be treated as labels (consistent with DataFrame behavior). To access a value by position, use `ser.iloc[pos]`\n",
      "  binary_column = (inverse_column == first_row[column]).astype(int)\n"
     ]
    },
    {
     "name": "stdout",
     "output_type": "stream",
     "text": [
      "157/157 [==============================] - 0s 1ms/step\n",
      " 70/157 [============>.................] - ETA: 0s"
     ]
    },
    {
     "name": "stderr",
     "output_type": "stream",
     "text": [
      "/Users/ygao/Library/Caches/pypoetry/virtualenvs/program-i-Fez0zm-py3.10/lib/python3.10/site-packages/lime/discretize.py:110: FutureWarning: Series.__getitem__ treating keys as positions is deprecated. In a future version, integer keys will always be treated as labels (consistent with DataFrame behavior). To access a value by position, use `ser.iloc[pos]`\n",
      "  ret[feature] = int(self.lambdas[feature](ret[feature]))\n",
      "/Users/ygao/Library/Caches/pypoetry/virtualenvs/program-i-Fez0zm-py3.10/lib/python3.10/site-packages/lime/discretize.py:110: FutureWarning: Series.__setitem__ treating keys as positions is deprecated. In a future version, integer keys will always be treated as labels (consistent with DataFrame behavior). To set a value by position, use `ser.iloc[pos] = value`\n",
      "  ret[feature] = int(self.lambdas[feature](ret[feature]))\n",
      "/Users/ygao/Library/Caches/pypoetry/virtualenvs/program-i-Fez0zm-py3.10/lib/python3.10/site-packages/lime/lime_tabular.py:427: FutureWarning: Series.__getitem__ treating keys as positions is deprecated. In a future version, integer keys will always be treated as labels (consistent with DataFrame behavior). To access a value by position, use `ser.iloc[pos]`\n",
      "  discretized_instance[f])]\n",
      "/Users/ygao/Library/Caches/pypoetry/virtualenvs/program-i-Fez0zm-py3.10/lib/python3.10/site-packages/lime/discretize.py:110: FutureWarning: Series.__getitem__ treating keys as positions is deprecated. In a future version, integer keys will always be treated as labels (consistent with DataFrame behavior). To access a value by position, use `ser.iloc[pos]`\n",
      "  ret[feature] = int(self.lambdas[feature](ret[feature]))\n",
      "/Users/ygao/Library/Caches/pypoetry/virtualenvs/program-i-Fez0zm-py3.10/lib/python3.10/site-packages/lime/discretize.py:110: FutureWarning: Series.__setitem__ treating keys as positions is deprecated. In a future version, integer keys will always be treated as labels (consistent with DataFrame behavior). To set a value by position, use `ser.iloc[pos] = value`\n",
      "  ret[feature] = int(self.lambdas[feature](ret[feature]))\n",
      "/Users/ygao/Library/Caches/pypoetry/virtualenvs/program-i-Fez0zm-py3.10/lib/python3.10/site-packages/lime/lime_tabular.py:544: FutureWarning: Series.__getitem__ treating keys as positions is deprecated. In a future version, integer keys will always be treated as labels (consistent with DataFrame behavior). To access a value by position, use `ser.iloc[pos]`\n",
      "  binary_column = (inverse_column == first_row[column]).astype(int)\n"
     ]
    },
    {
     "name": "stdout",
     "output_type": "stream",
     "text": [
      "157/157 [==============================] - 0s 1ms/step\n",
      " 68/157 [===========>..................] - ETA: 0s"
     ]
    },
    {
     "name": "stderr",
     "output_type": "stream",
     "text": [
      "/Users/ygao/Library/Caches/pypoetry/virtualenvs/program-i-Fez0zm-py3.10/lib/python3.10/site-packages/lime/discretize.py:110: FutureWarning: Series.__getitem__ treating keys as positions is deprecated. In a future version, integer keys will always be treated as labels (consistent with DataFrame behavior). To access a value by position, use `ser.iloc[pos]`\n",
      "  ret[feature] = int(self.lambdas[feature](ret[feature]))\n",
      "/Users/ygao/Library/Caches/pypoetry/virtualenvs/program-i-Fez0zm-py3.10/lib/python3.10/site-packages/lime/discretize.py:110: FutureWarning: Series.__setitem__ treating keys as positions is deprecated. In a future version, integer keys will always be treated as labels (consistent with DataFrame behavior). To set a value by position, use `ser.iloc[pos] = value`\n",
      "  ret[feature] = int(self.lambdas[feature](ret[feature]))\n",
      "/Users/ygao/Library/Caches/pypoetry/virtualenvs/program-i-Fez0zm-py3.10/lib/python3.10/site-packages/lime/lime_tabular.py:427: FutureWarning: Series.__getitem__ treating keys as positions is deprecated. In a future version, integer keys will always be treated as labels (consistent with DataFrame behavior). To access a value by position, use `ser.iloc[pos]`\n",
      "  discretized_instance[f])]\n",
      "/Users/ygao/Library/Caches/pypoetry/virtualenvs/program-i-Fez0zm-py3.10/lib/python3.10/site-packages/lime/discretize.py:110: FutureWarning: Series.__getitem__ treating keys as positions is deprecated. In a future version, integer keys will always be treated as labels (consistent with DataFrame behavior). To access a value by position, use `ser.iloc[pos]`\n",
      "  ret[feature] = int(self.lambdas[feature](ret[feature]))\n",
      "/Users/ygao/Library/Caches/pypoetry/virtualenvs/program-i-Fez0zm-py3.10/lib/python3.10/site-packages/lime/discretize.py:110: FutureWarning: Series.__setitem__ treating keys as positions is deprecated. In a future version, integer keys will always be treated as labels (consistent with DataFrame behavior). To set a value by position, use `ser.iloc[pos] = value`\n",
      "  ret[feature] = int(self.lambdas[feature](ret[feature]))\n",
      "/Users/ygao/Library/Caches/pypoetry/virtualenvs/program-i-Fez0zm-py3.10/lib/python3.10/site-packages/lime/lime_tabular.py:544: FutureWarning: Series.__getitem__ treating keys as positions is deprecated. In a future version, integer keys will always be treated as labels (consistent with DataFrame behavior). To access a value by position, use `ser.iloc[pos]`\n",
      "  binary_column = (inverse_column == first_row[column]).astype(int)\n"
     ]
    },
    {
     "name": "stdout",
     "output_type": "stream",
     "text": [
      "157/157 [==============================] - 0s 1ms/step\n",
      " 96/157 [=================>............] - ETA: 0s"
     ]
    },
    {
     "name": "stderr",
     "output_type": "stream",
     "text": [
      "/Users/ygao/Library/Caches/pypoetry/virtualenvs/program-i-Fez0zm-py3.10/lib/python3.10/site-packages/lime/discretize.py:110: FutureWarning: Series.__getitem__ treating keys as positions is deprecated. In a future version, integer keys will always be treated as labels (consistent with DataFrame behavior). To access a value by position, use `ser.iloc[pos]`\n",
      "  ret[feature] = int(self.lambdas[feature](ret[feature]))\n",
      "/Users/ygao/Library/Caches/pypoetry/virtualenvs/program-i-Fez0zm-py3.10/lib/python3.10/site-packages/lime/discretize.py:110: FutureWarning: Series.__setitem__ treating keys as positions is deprecated. In a future version, integer keys will always be treated as labels (consistent with DataFrame behavior). To set a value by position, use `ser.iloc[pos] = value`\n",
      "  ret[feature] = int(self.lambdas[feature](ret[feature]))\n",
      "/Users/ygao/Library/Caches/pypoetry/virtualenvs/program-i-Fez0zm-py3.10/lib/python3.10/site-packages/lime/lime_tabular.py:427: FutureWarning: Series.__getitem__ treating keys as positions is deprecated. In a future version, integer keys will always be treated as labels (consistent with DataFrame behavior). To access a value by position, use `ser.iloc[pos]`\n",
      "  discretized_instance[f])]\n",
      "/Users/ygao/Library/Caches/pypoetry/virtualenvs/program-i-Fez0zm-py3.10/lib/python3.10/site-packages/lime/discretize.py:110: FutureWarning: Series.__getitem__ treating keys as positions is deprecated. In a future version, integer keys will always be treated as labels (consistent with DataFrame behavior). To access a value by position, use `ser.iloc[pos]`\n",
      "  ret[feature] = int(self.lambdas[feature](ret[feature]))\n",
      "/Users/ygao/Library/Caches/pypoetry/virtualenvs/program-i-Fez0zm-py3.10/lib/python3.10/site-packages/lime/discretize.py:110: FutureWarning: Series.__setitem__ treating keys as positions is deprecated. In a future version, integer keys will always be treated as labels (consistent with DataFrame behavior). To set a value by position, use `ser.iloc[pos] = value`\n",
      "  ret[feature] = int(self.lambdas[feature](ret[feature]))\n",
      "/Users/ygao/Library/Caches/pypoetry/virtualenvs/program-i-Fez0zm-py3.10/lib/python3.10/site-packages/lime/lime_tabular.py:544: FutureWarning: Series.__getitem__ treating keys as positions is deprecated. In a future version, integer keys will always be treated as labels (consistent with DataFrame behavior). To access a value by position, use `ser.iloc[pos]`\n",
      "  binary_column = (inverse_column == first_row[column]).astype(int)\n"
     ]
    },
    {
     "name": "stdout",
     "output_type": "stream",
     "text": [
      "157/157 [==============================] - 0s 1ms/step\n",
      "102/157 [==================>...........] - ETA: 0s"
     ]
    },
    {
     "name": "stderr",
     "output_type": "stream",
     "text": [
      "/Users/ygao/Library/Caches/pypoetry/virtualenvs/program-i-Fez0zm-py3.10/lib/python3.10/site-packages/lime/discretize.py:110: FutureWarning: Series.__getitem__ treating keys as positions is deprecated. In a future version, integer keys will always be treated as labels (consistent with DataFrame behavior). To access a value by position, use `ser.iloc[pos]`\n",
      "  ret[feature] = int(self.lambdas[feature](ret[feature]))\n",
      "/Users/ygao/Library/Caches/pypoetry/virtualenvs/program-i-Fez0zm-py3.10/lib/python3.10/site-packages/lime/discretize.py:110: FutureWarning: Series.__setitem__ treating keys as positions is deprecated. In a future version, integer keys will always be treated as labels (consistent with DataFrame behavior). To set a value by position, use `ser.iloc[pos] = value`\n",
      "  ret[feature] = int(self.lambdas[feature](ret[feature]))\n",
      "/Users/ygao/Library/Caches/pypoetry/virtualenvs/program-i-Fez0zm-py3.10/lib/python3.10/site-packages/lime/lime_tabular.py:427: FutureWarning: Series.__getitem__ treating keys as positions is deprecated. In a future version, integer keys will always be treated as labels (consistent with DataFrame behavior). To access a value by position, use `ser.iloc[pos]`\n",
      "  discretized_instance[f])]\n",
      "/Users/ygao/Library/Caches/pypoetry/virtualenvs/program-i-Fez0zm-py3.10/lib/python3.10/site-packages/lime/discretize.py:110: FutureWarning: Series.__getitem__ treating keys as positions is deprecated. In a future version, integer keys will always be treated as labels (consistent with DataFrame behavior). To access a value by position, use `ser.iloc[pos]`\n",
      "  ret[feature] = int(self.lambdas[feature](ret[feature]))\n",
      "/Users/ygao/Library/Caches/pypoetry/virtualenvs/program-i-Fez0zm-py3.10/lib/python3.10/site-packages/lime/discretize.py:110: FutureWarning: Series.__setitem__ treating keys as positions is deprecated. In a future version, integer keys will always be treated as labels (consistent with DataFrame behavior). To set a value by position, use `ser.iloc[pos] = value`\n",
      "  ret[feature] = int(self.lambdas[feature](ret[feature]))\n",
      "/Users/ygao/Library/Caches/pypoetry/virtualenvs/program-i-Fez0zm-py3.10/lib/python3.10/site-packages/lime/lime_tabular.py:544: FutureWarning: Series.__getitem__ treating keys as positions is deprecated. In a future version, integer keys will always be treated as labels (consistent with DataFrame behavior). To access a value by position, use `ser.iloc[pos]`\n",
      "  binary_column = (inverse_column == first_row[column]).astype(int)\n"
     ]
    },
    {
     "name": "stdout",
     "output_type": "stream",
     "text": [
      "157/157 [==============================] - 0s 1ms/step\n",
      " 98/157 [=================>............] - ETA: 0s"
     ]
    },
    {
     "name": "stderr",
     "output_type": "stream",
     "text": [
      "/Users/ygao/Library/Caches/pypoetry/virtualenvs/program-i-Fez0zm-py3.10/lib/python3.10/site-packages/lime/discretize.py:110: FutureWarning: Series.__getitem__ treating keys as positions is deprecated. In a future version, integer keys will always be treated as labels (consistent with DataFrame behavior). To access a value by position, use `ser.iloc[pos]`\n",
      "  ret[feature] = int(self.lambdas[feature](ret[feature]))\n",
      "/Users/ygao/Library/Caches/pypoetry/virtualenvs/program-i-Fez0zm-py3.10/lib/python3.10/site-packages/lime/discretize.py:110: FutureWarning: Series.__setitem__ treating keys as positions is deprecated. In a future version, integer keys will always be treated as labels (consistent with DataFrame behavior). To set a value by position, use `ser.iloc[pos] = value`\n",
      "  ret[feature] = int(self.lambdas[feature](ret[feature]))\n",
      "/Users/ygao/Library/Caches/pypoetry/virtualenvs/program-i-Fez0zm-py3.10/lib/python3.10/site-packages/lime/lime_tabular.py:427: FutureWarning: Series.__getitem__ treating keys as positions is deprecated. In a future version, integer keys will always be treated as labels (consistent with DataFrame behavior). To access a value by position, use `ser.iloc[pos]`\n",
      "  discretized_instance[f])]\n",
      "/Users/ygao/Library/Caches/pypoetry/virtualenvs/program-i-Fez0zm-py3.10/lib/python3.10/site-packages/lime/discretize.py:110: FutureWarning: Series.__getitem__ treating keys as positions is deprecated. In a future version, integer keys will always be treated as labels (consistent with DataFrame behavior). To access a value by position, use `ser.iloc[pos]`\n",
      "  ret[feature] = int(self.lambdas[feature](ret[feature]))\n",
      "/Users/ygao/Library/Caches/pypoetry/virtualenvs/program-i-Fez0zm-py3.10/lib/python3.10/site-packages/lime/discretize.py:110: FutureWarning: Series.__setitem__ treating keys as positions is deprecated. In a future version, integer keys will always be treated as labels (consistent with DataFrame behavior). To set a value by position, use `ser.iloc[pos] = value`\n",
      "  ret[feature] = int(self.lambdas[feature](ret[feature]))\n",
      "/Users/ygao/Library/Caches/pypoetry/virtualenvs/program-i-Fez0zm-py3.10/lib/python3.10/site-packages/lime/lime_tabular.py:544: FutureWarning: Series.__getitem__ treating keys as positions is deprecated. In a future version, integer keys will always be treated as labels (consistent with DataFrame behavior). To access a value by position, use `ser.iloc[pos]`\n",
      "  binary_column = (inverse_column == first_row[column]).astype(int)\n"
     ]
    },
    {
     "name": "stdout",
     "output_type": "stream",
     "text": [
      "157/157 [==============================] - 0s 1ms/step\n",
      " 67/157 [===========>..................] - ETA: 0s"
     ]
    },
    {
     "name": "stderr",
     "output_type": "stream",
     "text": [
      "/Users/ygao/Library/Caches/pypoetry/virtualenvs/program-i-Fez0zm-py3.10/lib/python3.10/site-packages/lime/discretize.py:110: FutureWarning: Series.__getitem__ treating keys as positions is deprecated. In a future version, integer keys will always be treated as labels (consistent with DataFrame behavior). To access a value by position, use `ser.iloc[pos]`\n",
      "  ret[feature] = int(self.lambdas[feature](ret[feature]))\n",
      "/Users/ygao/Library/Caches/pypoetry/virtualenvs/program-i-Fez0zm-py3.10/lib/python3.10/site-packages/lime/discretize.py:110: FutureWarning: Series.__setitem__ treating keys as positions is deprecated. In a future version, integer keys will always be treated as labels (consistent with DataFrame behavior). To set a value by position, use `ser.iloc[pos] = value`\n",
      "  ret[feature] = int(self.lambdas[feature](ret[feature]))\n",
      "/Users/ygao/Library/Caches/pypoetry/virtualenvs/program-i-Fez0zm-py3.10/lib/python3.10/site-packages/lime/lime_tabular.py:427: FutureWarning: Series.__getitem__ treating keys as positions is deprecated. In a future version, integer keys will always be treated as labels (consistent with DataFrame behavior). To access a value by position, use `ser.iloc[pos]`\n",
      "  discretized_instance[f])]\n",
      "/Users/ygao/Library/Caches/pypoetry/virtualenvs/program-i-Fez0zm-py3.10/lib/python3.10/site-packages/lime/discretize.py:110: FutureWarning: Series.__getitem__ treating keys as positions is deprecated. In a future version, integer keys will always be treated as labels (consistent with DataFrame behavior). To access a value by position, use `ser.iloc[pos]`\n",
      "  ret[feature] = int(self.lambdas[feature](ret[feature]))\n",
      "/Users/ygao/Library/Caches/pypoetry/virtualenvs/program-i-Fez0zm-py3.10/lib/python3.10/site-packages/lime/discretize.py:110: FutureWarning: Series.__setitem__ treating keys as positions is deprecated. In a future version, integer keys will always be treated as labels (consistent with DataFrame behavior). To set a value by position, use `ser.iloc[pos] = value`\n",
      "  ret[feature] = int(self.lambdas[feature](ret[feature]))\n",
      "/Users/ygao/Library/Caches/pypoetry/virtualenvs/program-i-Fez0zm-py3.10/lib/python3.10/site-packages/lime/lime_tabular.py:544: FutureWarning: Series.__getitem__ treating keys as positions is deprecated. In a future version, integer keys will always be treated as labels (consistent with DataFrame behavior). To access a value by position, use `ser.iloc[pos]`\n",
      "  binary_column = (inverse_column == first_row[column]).astype(int)\n"
     ]
    },
    {
     "name": "stdout",
     "output_type": "stream",
     "text": [
      "157/157 [==============================] - 0s 1ms/step\n",
      " 95/157 [=================>............] - ETA: 0s"
     ]
    },
    {
     "name": "stderr",
     "output_type": "stream",
     "text": [
      "/Users/ygao/Library/Caches/pypoetry/virtualenvs/program-i-Fez0zm-py3.10/lib/python3.10/site-packages/lime/discretize.py:110: FutureWarning: Series.__getitem__ treating keys as positions is deprecated. In a future version, integer keys will always be treated as labels (consistent with DataFrame behavior). To access a value by position, use `ser.iloc[pos]`\n",
      "  ret[feature] = int(self.lambdas[feature](ret[feature]))\n",
      "/Users/ygao/Library/Caches/pypoetry/virtualenvs/program-i-Fez0zm-py3.10/lib/python3.10/site-packages/lime/discretize.py:110: FutureWarning: Series.__setitem__ treating keys as positions is deprecated. In a future version, integer keys will always be treated as labels (consistent with DataFrame behavior). To set a value by position, use `ser.iloc[pos] = value`\n",
      "  ret[feature] = int(self.lambdas[feature](ret[feature]))\n",
      "/Users/ygao/Library/Caches/pypoetry/virtualenvs/program-i-Fez0zm-py3.10/lib/python3.10/site-packages/lime/lime_tabular.py:427: FutureWarning: Series.__getitem__ treating keys as positions is deprecated. In a future version, integer keys will always be treated as labels (consistent with DataFrame behavior). To access a value by position, use `ser.iloc[pos]`\n",
      "  discretized_instance[f])]\n",
      "/Users/ygao/Library/Caches/pypoetry/virtualenvs/program-i-Fez0zm-py3.10/lib/python3.10/site-packages/lime/discretize.py:110: FutureWarning: Series.__getitem__ treating keys as positions is deprecated. In a future version, integer keys will always be treated as labels (consistent with DataFrame behavior). To access a value by position, use `ser.iloc[pos]`\n",
      "  ret[feature] = int(self.lambdas[feature](ret[feature]))\n",
      "/Users/ygao/Library/Caches/pypoetry/virtualenvs/program-i-Fez0zm-py3.10/lib/python3.10/site-packages/lime/discretize.py:110: FutureWarning: Series.__setitem__ treating keys as positions is deprecated. In a future version, integer keys will always be treated as labels (consistent with DataFrame behavior). To set a value by position, use `ser.iloc[pos] = value`\n",
      "  ret[feature] = int(self.lambdas[feature](ret[feature]))\n",
      "/Users/ygao/Library/Caches/pypoetry/virtualenvs/program-i-Fez0zm-py3.10/lib/python3.10/site-packages/lime/lime_tabular.py:544: FutureWarning: Series.__getitem__ treating keys as positions is deprecated. In a future version, integer keys will always be treated as labels (consistent with DataFrame behavior). To access a value by position, use `ser.iloc[pos]`\n",
      "  binary_column = (inverse_column == first_row[column]).astype(int)\n"
     ]
    },
    {
     "name": "stdout",
     "output_type": "stream",
     "text": [
      "157/157 [==============================] - 0s 1ms/step\n",
      " 80/157 [==============>...............] - ETA: 0s"
     ]
    },
    {
     "name": "stderr",
     "output_type": "stream",
     "text": [
      "/Users/ygao/Library/Caches/pypoetry/virtualenvs/program-i-Fez0zm-py3.10/lib/python3.10/site-packages/lime/discretize.py:110: FutureWarning: Series.__getitem__ treating keys as positions is deprecated. In a future version, integer keys will always be treated as labels (consistent with DataFrame behavior). To access a value by position, use `ser.iloc[pos]`\n",
      "  ret[feature] = int(self.lambdas[feature](ret[feature]))\n",
      "/Users/ygao/Library/Caches/pypoetry/virtualenvs/program-i-Fez0zm-py3.10/lib/python3.10/site-packages/lime/discretize.py:110: FutureWarning: Series.__setitem__ treating keys as positions is deprecated. In a future version, integer keys will always be treated as labels (consistent with DataFrame behavior). To set a value by position, use `ser.iloc[pos] = value`\n",
      "  ret[feature] = int(self.lambdas[feature](ret[feature]))\n",
      "/Users/ygao/Library/Caches/pypoetry/virtualenvs/program-i-Fez0zm-py3.10/lib/python3.10/site-packages/lime/lime_tabular.py:427: FutureWarning: Series.__getitem__ treating keys as positions is deprecated. In a future version, integer keys will always be treated as labels (consistent with DataFrame behavior). To access a value by position, use `ser.iloc[pos]`\n",
      "  discretized_instance[f])]\n",
      "/Users/ygao/Library/Caches/pypoetry/virtualenvs/program-i-Fez0zm-py3.10/lib/python3.10/site-packages/lime/discretize.py:110: FutureWarning: Series.__getitem__ treating keys as positions is deprecated. In a future version, integer keys will always be treated as labels (consistent with DataFrame behavior). To access a value by position, use `ser.iloc[pos]`\n",
      "  ret[feature] = int(self.lambdas[feature](ret[feature]))\n",
      "/Users/ygao/Library/Caches/pypoetry/virtualenvs/program-i-Fez0zm-py3.10/lib/python3.10/site-packages/lime/discretize.py:110: FutureWarning: Series.__setitem__ treating keys as positions is deprecated. In a future version, integer keys will always be treated as labels (consistent with DataFrame behavior). To set a value by position, use `ser.iloc[pos] = value`\n",
      "  ret[feature] = int(self.lambdas[feature](ret[feature]))\n",
      "/Users/ygao/Library/Caches/pypoetry/virtualenvs/program-i-Fez0zm-py3.10/lib/python3.10/site-packages/lime/lime_tabular.py:544: FutureWarning: Series.__getitem__ treating keys as positions is deprecated. In a future version, integer keys will always be treated as labels (consistent with DataFrame behavior). To access a value by position, use `ser.iloc[pos]`\n",
      "  binary_column = (inverse_column == first_row[column]).astype(int)\n"
     ]
    },
    {
     "name": "stdout",
     "output_type": "stream",
     "text": [
      "157/157 [==============================] - 0s 1ms/step\n",
      " 83/157 [==============>...............] - ETA: 0s"
     ]
    },
    {
     "name": "stderr",
     "output_type": "stream",
     "text": [
      "/Users/ygao/Library/Caches/pypoetry/virtualenvs/program-i-Fez0zm-py3.10/lib/python3.10/site-packages/lime/discretize.py:110: FutureWarning: Series.__getitem__ treating keys as positions is deprecated. In a future version, integer keys will always be treated as labels (consistent with DataFrame behavior). To access a value by position, use `ser.iloc[pos]`\n",
      "  ret[feature] = int(self.lambdas[feature](ret[feature]))\n",
      "/Users/ygao/Library/Caches/pypoetry/virtualenvs/program-i-Fez0zm-py3.10/lib/python3.10/site-packages/lime/discretize.py:110: FutureWarning: Series.__setitem__ treating keys as positions is deprecated. In a future version, integer keys will always be treated as labels (consistent with DataFrame behavior). To set a value by position, use `ser.iloc[pos] = value`\n",
      "  ret[feature] = int(self.lambdas[feature](ret[feature]))\n",
      "/Users/ygao/Library/Caches/pypoetry/virtualenvs/program-i-Fez0zm-py3.10/lib/python3.10/site-packages/lime/lime_tabular.py:427: FutureWarning: Series.__getitem__ treating keys as positions is deprecated. In a future version, integer keys will always be treated as labels (consistent with DataFrame behavior). To access a value by position, use `ser.iloc[pos]`\n",
      "  discretized_instance[f])]\n",
      "/Users/ygao/Library/Caches/pypoetry/virtualenvs/program-i-Fez0zm-py3.10/lib/python3.10/site-packages/lime/discretize.py:110: FutureWarning: Series.__getitem__ treating keys as positions is deprecated. In a future version, integer keys will always be treated as labels (consistent with DataFrame behavior). To access a value by position, use `ser.iloc[pos]`\n",
      "  ret[feature] = int(self.lambdas[feature](ret[feature]))\n",
      "/Users/ygao/Library/Caches/pypoetry/virtualenvs/program-i-Fez0zm-py3.10/lib/python3.10/site-packages/lime/discretize.py:110: FutureWarning: Series.__setitem__ treating keys as positions is deprecated. In a future version, integer keys will always be treated as labels (consistent with DataFrame behavior). To set a value by position, use `ser.iloc[pos] = value`\n",
      "  ret[feature] = int(self.lambdas[feature](ret[feature]))\n",
      "/Users/ygao/Library/Caches/pypoetry/virtualenvs/program-i-Fez0zm-py3.10/lib/python3.10/site-packages/lime/lime_tabular.py:544: FutureWarning: Series.__getitem__ treating keys as positions is deprecated. In a future version, integer keys will always be treated as labels (consistent with DataFrame behavior). To access a value by position, use `ser.iloc[pos]`\n",
      "  binary_column = (inverse_column == first_row[column]).astype(int)\n"
     ]
    },
    {
     "name": "stdout",
     "output_type": "stream",
     "text": [
      "157/157 [==============================] - 0s 1ms/step\n",
      "102/157 [==================>...........] - ETA: 0s"
     ]
    },
    {
     "name": "stderr",
     "output_type": "stream",
     "text": [
      "/Users/ygao/Library/Caches/pypoetry/virtualenvs/program-i-Fez0zm-py3.10/lib/python3.10/site-packages/lime/discretize.py:110: FutureWarning: Series.__getitem__ treating keys as positions is deprecated. In a future version, integer keys will always be treated as labels (consistent with DataFrame behavior). To access a value by position, use `ser.iloc[pos]`\n",
      "  ret[feature] = int(self.lambdas[feature](ret[feature]))\n",
      "/Users/ygao/Library/Caches/pypoetry/virtualenvs/program-i-Fez0zm-py3.10/lib/python3.10/site-packages/lime/discretize.py:110: FutureWarning: Series.__setitem__ treating keys as positions is deprecated. In a future version, integer keys will always be treated as labels (consistent with DataFrame behavior). To set a value by position, use `ser.iloc[pos] = value`\n",
      "  ret[feature] = int(self.lambdas[feature](ret[feature]))\n",
      "/Users/ygao/Library/Caches/pypoetry/virtualenvs/program-i-Fez0zm-py3.10/lib/python3.10/site-packages/lime/lime_tabular.py:427: FutureWarning: Series.__getitem__ treating keys as positions is deprecated. In a future version, integer keys will always be treated as labels (consistent with DataFrame behavior). To access a value by position, use `ser.iloc[pos]`\n",
      "  discretized_instance[f])]\n",
      "/Users/ygao/Library/Caches/pypoetry/virtualenvs/program-i-Fez0zm-py3.10/lib/python3.10/site-packages/lime/discretize.py:110: FutureWarning: Series.__getitem__ treating keys as positions is deprecated. In a future version, integer keys will always be treated as labels (consistent with DataFrame behavior). To access a value by position, use `ser.iloc[pos]`\n",
      "  ret[feature] = int(self.lambdas[feature](ret[feature]))\n",
      "/Users/ygao/Library/Caches/pypoetry/virtualenvs/program-i-Fez0zm-py3.10/lib/python3.10/site-packages/lime/discretize.py:110: FutureWarning: Series.__setitem__ treating keys as positions is deprecated. In a future version, integer keys will always be treated as labels (consistent with DataFrame behavior). To set a value by position, use `ser.iloc[pos] = value`\n",
      "  ret[feature] = int(self.lambdas[feature](ret[feature]))\n",
      "/Users/ygao/Library/Caches/pypoetry/virtualenvs/program-i-Fez0zm-py3.10/lib/python3.10/site-packages/lime/lime_tabular.py:544: FutureWarning: Series.__getitem__ treating keys as positions is deprecated. In a future version, integer keys will always be treated as labels (consistent with DataFrame behavior). To access a value by position, use `ser.iloc[pos]`\n",
      "  binary_column = (inverse_column == first_row[column]).astype(int)\n"
     ]
    },
    {
     "name": "stdout",
     "output_type": "stream",
     "text": [
      "157/157 [==============================] - 0s 1ms/step\n",
      " 91/157 [================>.............] - ETA: 0s"
     ]
    },
    {
     "name": "stderr",
     "output_type": "stream",
     "text": [
      "/Users/ygao/Library/Caches/pypoetry/virtualenvs/program-i-Fez0zm-py3.10/lib/python3.10/site-packages/lime/discretize.py:110: FutureWarning: Series.__getitem__ treating keys as positions is deprecated. In a future version, integer keys will always be treated as labels (consistent with DataFrame behavior). To access a value by position, use `ser.iloc[pos]`\n",
      "  ret[feature] = int(self.lambdas[feature](ret[feature]))\n",
      "/Users/ygao/Library/Caches/pypoetry/virtualenvs/program-i-Fez0zm-py3.10/lib/python3.10/site-packages/lime/discretize.py:110: FutureWarning: Series.__setitem__ treating keys as positions is deprecated. In a future version, integer keys will always be treated as labels (consistent with DataFrame behavior). To set a value by position, use `ser.iloc[pos] = value`\n",
      "  ret[feature] = int(self.lambdas[feature](ret[feature]))\n",
      "/Users/ygao/Library/Caches/pypoetry/virtualenvs/program-i-Fez0zm-py3.10/lib/python3.10/site-packages/lime/lime_tabular.py:427: FutureWarning: Series.__getitem__ treating keys as positions is deprecated. In a future version, integer keys will always be treated as labels (consistent with DataFrame behavior). To access a value by position, use `ser.iloc[pos]`\n",
      "  discretized_instance[f])]\n",
      "/Users/ygao/Library/Caches/pypoetry/virtualenvs/program-i-Fez0zm-py3.10/lib/python3.10/site-packages/lime/discretize.py:110: FutureWarning: Series.__getitem__ treating keys as positions is deprecated. In a future version, integer keys will always be treated as labels (consistent with DataFrame behavior). To access a value by position, use `ser.iloc[pos]`\n",
      "  ret[feature] = int(self.lambdas[feature](ret[feature]))\n",
      "/Users/ygao/Library/Caches/pypoetry/virtualenvs/program-i-Fez0zm-py3.10/lib/python3.10/site-packages/lime/discretize.py:110: FutureWarning: Series.__setitem__ treating keys as positions is deprecated. In a future version, integer keys will always be treated as labels (consistent with DataFrame behavior). To set a value by position, use `ser.iloc[pos] = value`\n",
      "  ret[feature] = int(self.lambdas[feature](ret[feature]))\n",
      "/Users/ygao/Library/Caches/pypoetry/virtualenvs/program-i-Fez0zm-py3.10/lib/python3.10/site-packages/lime/lime_tabular.py:544: FutureWarning: Series.__getitem__ treating keys as positions is deprecated. In a future version, integer keys will always be treated as labels (consistent with DataFrame behavior). To access a value by position, use `ser.iloc[pos]`\n",
      "  binary_column = (inverse_column == first_row[column]).astype(int)\n"
     ]
    },
    {
     "name": "stdout",
     "output_type": "stream",
     "text": [
      "157/157 [==============================] - 0s 1ms/step\n",
      " 65/157 [===========>..................] - ETA: 0s"
     ]
    },
    {
     "name": "stderr",
     "output_type": "stream",
     "text": [
      "/Users/ygao/Library/Caches/pypoetry/virtualenvs/program-i-Fez0zm-py3.10/lib/python3.10/site-packages/lime/discretize.py:110: FutureWarning: Series.__getitem__ treating keys as positions is deprecated. In a future version, integer keys will always be treated as labels (consistent with DataFrame behavior). To access a value by position, use `ser.iloc[pos]`\n",
      "  ret[feature] = int(self.lambdas[feature](ret[feature]))\n",
      "/Users/ygao/Library/Caches/pypoetry/virtualenvs/program-i-Fez0zm-py3.10/lib/python3.10/site-packages/lime/discretize.py:110: FutureWarning: Series.__setitem__ treating keys as positions is deprecated. In a future version, integer keys will always be treated as labels (consistent with DataFrame behavior). To set a value by position, use `ser.iloc[pos] = value`\n",
      "  ret[feature] = int(self.lambdas[feature](ret[feature]))\n",
      "/Users/ygao/Library/Caches/pypoetry/virtualenvs/program-i-Fez0zm-py3.10/lib/python3.10/site-packages/lime/lime_tabular.py:427: FutureWarning: Series.__getitem__ treating keys as positions is deprecated. In a future version, integer keys will always be treated as labels (consistent with DataFrame behavior). To access a value by position, use `ser.iloc[pos]`\n",
      "  discretized_instance[f])]\n",
      "/Users/ygao/Library/Caches/pypoetry/virtualenvs/program-i-Fez0zm-py3.10/lib/python3.10/site-packages/lime/discretize.py:110: FutureWarning: Series.__getitem__ treating keys as positions is deprecated. In a future version, integer keys will always be treated as labels (consistent with DataFrame behavior). To access a value by position, use `ser.iloc[pos]`\n",
      "  ret[feature] = int(self.lambdas[feature](ret[feature]))\n",
      "/Users/ygao/Library/Caches/pypoetry/virtualenvs/program-i-Fez0zm-py3.10/lib/python3.10/site-packages/lime/discretize.py:110: FutureWarning: Series.__setitem__ treating keys as positions is deprecated. In a future version, integer keys will always be treated as labels (consistent with DataFrame behavior). To set a value by position, use `ser.iloc[pos] = value`\n",
      "  ret[feature] = int(self.lambdas[feature](ret[feature]))\n",
      "/Users/ygao/Library/Caches/pypoetry/virtualenvs/program-i-Fez0zm-py3.10/lib/python3.10/site-packages/lime/lime_tabular.py:544: FutureWarning: Series.__getitem__ treating keys as positions is deprecated. In a future version, integer keys will always be treated as labels (consistent with DataFrame behavior). To access a value by position, use `ser.iloc[pos]`\n",
      "  binary_column = (inverse_column == first_row[column]).astype(int)\n"
     ]
    },
    {
     "name": "stdout",
     "output_type": "stream",
     "text": [
      "157/157 [==============================] - 0s 1ms/step\n",
      " 26/157 [===>..........................] - ETA: 0s"
     ]
    },
    {
     "name": "stderr",
     "output_type": "stream",
     "text": [
      "/Users/ygao/Library/Caches/pypoetry/virtualenvs/program-i-Fez0zm-py3.10/lib/python3.10/site-packages/lime/discretize.py:110: FutureWarning: Series.__getitem__ treating keys as positions is deprecated. In a future version, integer keys will always be treated as labels (consistent with DataFrame behavior). To access a value by position, use `ser.iloc[pos]`\n",
      "  ret[feature] = int(self.lambdas[feature](ret[feature]))\n",
      "/Users/ygao/Library/Caches/pypoetry/virtualenvs/program-i-Fez0zm-py3.10/lib/python3.10/site-packages/lime/discretize.py:110: FutureWarning: Series.__setitem__ treating keys as positions is deprecated. In a future version, integer keys will always be treated as labels (consistent with DataFrame behavior). To set a value by position, use `ser.iloc[pos] = value`\n",
      "  ret[feature] = int(self.lambdas[feature](ret[feature]))\n",
      "/Users/ygao/Library/Caches/pypoetry/virtualenvs/program-i-Fez0zm-py3.10/lib/python3.10/site-packages/lime/lime_tabular.py:427: FutureWarning: Series.__getitem__ treating keys as positions is deprecated. In a future version, integer keys will always be treated as labels (consistent with DataFrame behavior). To access a value by position, use `ser.iloc[pos]`\n",
      "  discretized_instance[f])]\n",
      "/Users/ygao/Library/Caches/pypoetry/virtualenvs/program-i-Fez0zm-py3.10/lib/python3.10/site-packages/lime/discretize.py:110: FutureWarning: Series.__getitem__ treating keys as positions is deprecated. In a future version, integer keys will always be treated as labels (consistent with DataFrame behavior). To access a value by position, use `ser.iloc[pos]`\n",
      "  ret[feature] = int(self.lambdas[feature](ret[feature]))\n",
      "/Users/ygao/Library/Caches/pypoetry/virtualenvs/program-i-Fez0zm-py3.10/lib/python3.10/site-packages/lime/discretize.py:110: FutureWarning: Series.__setitem__ treating keys as positions is deprecated. In a future version, integer keys will always be treated as labels (consistent with DataFrame behavior). To set a value by position, use `ser.iloc[pos] = value`\n",
      "  ret[feature] = int(self.lambdas[feature](ret[feature]))\n",
      "/Users/ygao/Library/Caches/pypoetry/virtualenvs/program-i-Fez0zm-py3.10/lib/python3.10/site-packages/lime/lime_tabular.py:544: FutureWarning: Series.__getitem__ treating keys as positions is deprecated. In a future version, integer keys will always be treated as labels (consistent with DataFrame behavior). To access a value by position, use `ser.iloc[pos]`\n",
      "  binary_column = (inverse_column == first_row[column]).astype(int)\n"
     ]
    },
    {
     "name": "stdout",
     "output_type": "stream",
     "text": [
      "157/157 [==============================] - 0s 1ms/step\n",
      " 82/157 [==============>...............] - ETA: 0s"
     ]
    },
    {
     "name": "stderr",
     "output_type": "stream",
     "text": [
      "/Users/ygao/Library/Caches/pypoetry/virtualenvs/program-i-Fez0zm-py3.10/lib/python3.10/site-packages/lime/discretize.py:110: FutureWarning: Series.__getitem__ treating keys as positions is deprecated. In a future version, integer keys will always be treated as labels (consistent with DataFrame behavior). To access a value by position, use `ser.iloc[pos]`\n",
      "  ret[feature] = int(self.lambdas[feature](ret[feature]))\n",
      "/Users/ygao/Library/Caches/pypoetry/virtualenvs/program-i-Fez0zm-py3.10/lib/python3.10/site-packages/lime/discretize.py:110: FutureWarning: Series.__setitem__ treating keys as positions is deprecated. In a future version, integer keys will always be treated as labels (consistent with DataFrame behavior). To set a value by position, use `ser.iloc[pos] = value`\n",
      "  ret[feature] = int(self.lambdas[feature](ret[feature]))\n",
      "/Users/ygao/Library/Caches/pypoetry/virtualenvs/program-i-Fez0zm-py3.10/lib/python3.10/site-packages/lime/lime_tabular.py:427: FutureWarning: Series.__getitem__ treating keys as positions is deprecated. In a future version, integer keys will always be treated as labels (consistent with DataFrame behavior). To access a value by position, use `ser.iloc[pos]`\n",
      "  discretized_instance[f])]\n",
      "/Users/ygao/Library/Caches/pypoetry/virtualenvs/program-i-Fez0zm-py3.10/lib/python3.10/site-packages/lime/discretize.py:110: FutureWarning: Series.__getitem__ treating keys as positions is deprecated. In a future version, integer keys will always be treated as labels (consistent with DataFrame behavior). To access a value by position, use `ser.iloc[pos]`\n",
      "  ret[feature] = int(self.lambdas[feature](ret[feature]))\n",
      "/Users/ygao/Library/Caches/pypoetry/virtualenvs/program-i-Fez0zm-py3.10/lib/python3.10/site-packages/lime/discretize.py:110: FutureWarning: Series.__setitem__ treating keys as positions is deprecated. In a future version, integer keys will always be treated as labels (consistent with DataFrame behavior). To set a value by position, use `ser.iloc[pos] = value`\n",
      "  ret[feature] = int(self.lambdas[feature](ret[feature]))\n",
      "/Users/ygao/Library/Caches/pypoetry/virtualenvs/program-i-Fez0zm-py3.10/lib/python3.10/site-packages/lime/lime_tabular.py:544: FutureWarning: Series.__getitem__ treating keys as positions is deprecated. In a future version, integer keys will always be treated as labels (consistent with DataFrame behavior). To access a value by position, use `ser.iloc[pos]`\n",
      "  binary_column = (inverse_column == first_row[column]).astype(int)\n"
     ]
    },
    {
     "name": "stdout",
     "output_type": "stream",
     "text": [
      "157/157 [==============================] - 0s 1ms/step\n",
      " 96/157 [=================>............] - ETA: 0s"
     ]
    },
    {
     "name": "stderr",
     "output_type": "stream",
     "text": [
      "/Users/ygao/Library/Caches/pypoetry/virtualenvs/program-i-Fez0zm-py3.10/lib/python3.10/site-packages/lime/discretize.py:110: FutureWarning: Series.__getitem__ treating keys as positions is deprecated. In a future version, integer keys will always be treated as labels (consistent with DataFrame behavior). To access a value by position, use `ser.iloc[pos]`\n",
      "  ret[feature] = int(self.lambdas[feature](ret[feature]))\n",
      "/Users/ygao/Library/Caches/pypoetry/virtualenvs/program-i-Fez0zm-py3.10/lib/python3.10/site-packages/lime/discretize.py:110: FutureWarning: Series.__setitem__ treating keys as positions is deprecated. In a future version, integer keys will always be treated as labels (consistent with DataFrame behavior). To set a value by position, use `ser.iloc[pos] = value`\n",
      "  ret[feature] = int(self.lambdas[feature](ret[feature]))\n",
      "/Users/ygao/Library/Caches/pypoetry/virtualenvs/program-i-Fez0zm-py3.10/lib/python3.10/site-packages/lime/lime_tabular.py:427: FutureWarning: Series.__getitem__ treating keys as positions is deprecated. In a future version, integer keys will always be treated as labels (consistent with DataFrame behavior). To access a value by position, use `ser.iloc[pos]`\n",
      "  discretized_instance[f])]\n",
      "/Users/ygao/Library/Caches/pypoetry/virtualenvs/program-i-Fez0zm-py3.10/lib/python3.10/site-packages/lime/discretize.py:110: FutureWarning: Series.__getitem__ treating keys as positions is deprecated. In a future version, integer keys will always be treated as labels (consistent with DataFrame behavior). To access a value by position, use `ser.iloc[pos]`\n",
      "  ret[feature] = int(self.lambdas[feature](ret[feature]))\n",
      "/Users/ygao/Library/Caches/pypoetry/virtualenvs/program-i-Fez0zm-py3.10/lib/python3.10/site-packages/lime/discretize.py:110: FutureWarning: Series.__setitem__ treating keys as positions is deprecated. In a future version, integer keys will always be treated as labels (consistent with DataFrame behavior). To set a value by position, use `ser.iloc[pos] = value`\n",
      "  ret[feature] = int(self.lambdas[feature](ret[feature]))\n",
      "/Users/ygao/Library/Caches/pypoetry/virtualenvs/program-i-Fez0zm-py3.10/lib/python3.10/site-packages/lime/lime_tabular.py:544: FutureWarning: Series.__getitem__ treating keys as positions is deprecated. In a future version, integer keys will always be treated as labels (consistent with DataFrame behavior). To access a value by position, use `ser.iloc[pos]`\n",
      "  binary_column = (inverse_column == first_row[column]).astype(int)\n"
     ]
    },
    {
     "name": "stdout",
     "output_type": "stream",
     "text": [
      "157/157 [==============================] - 0s 1ms/step\n",
      "104/157 [==================>...........] - ETA: 0s"
     ]
    },
    {
     "name": "stderr",
     "output_type": "stream",
     "text": [
      "/Users/ygao/Library/Caches/pypoetry/virtualenvs/program-i-Fez0zm-py3.10/lib/python3.10/site-packages/lime/discretize.py:110: FutureWarning: Series.__getitem__ treating keys as positions is deprecated. In a future version, integer keys will always be treated as labels (consistent with DataFrame behavior). To access a value by position, use `ser.iloc[pos]`\n",
      "  ret[feature] = int(self.lambdas[feature](ret[feature]))\n",
      "/Users/ygao/Library/Caches/pypoetry/virtualenvs/program-i-Fez0zm-py3.10/lib/python3.10/site-packages/lime/discretize.py:110: FutureWarning: Series.__setitem__ treating keys as positions is deprecated. In a future version, integer keys will always be treated as labels (consistent with DataFrame behavior). To set a value by position, use `ser.iloc[pos] = value`\n",
      "  ret[feature] = int(self.lambdas[feature](ret[feature]))\n",
      "/Users/ygao/Library/Caches/pypoetry/virtualenvs/program-i-Fez0zm-py3.10/lib/python3.10/site-packages/lime/lime_tabular.py:427: FutureWarning: Series.__getitem__ treating keys as positions is deprecated. In a future version, integer keys will always be treated as labels (consistent with DataFrame behavior). To access a value by position, use `ser.iloc[pos]`\n",
      "  discretized_instance[f])]\n",
      "/Users/ygao/Library/Caches/pypoetry/virtualenvs/program-i-Fez0zm-py3.10/lib/python3.10/site-packages/lime/discretize.py:110: FutureWarning: Series.__getitem__ treating keys as positions is deprecated. In a future version, integer keys will always be treated as labels (consistent with DataFrame behavior). To access a value by position, use `ser.iloc[pos]`\n",
      "  ret[feature] = int(self.lambdas[feature](ret[feature]))\n",
      "/Users/ygao/Library/Caches/pypoetry/virtualenvs/program-i-Fez0zm-py3.10/lib/python3.10/site-packages/lime/discretize.py:110: FutureWarning: Series.__setitem__ treating keys as positions is deprecated. In a future version, integer keys will always be treated as labels (consistent with DataFrame behavior). To set a value by position, use `ser.iloc[pos] = value`\n",
      "  ret[feature] = int(self.lambdas[feature](ret[feature]))\n",
      "/Users/ygao/Library/Caches/pypoetry/virtualenvs/program-i-Fez0zm-py3.10/lib/python3.10/site-packages/lime/lime_tabular.py:544: FutureWarning: Series.__getitem__ treating keys as positions is deprecated. In a future version, integer keys will always be treated as labels (consistent with DataFrame behavior). To access a value by position, use `ser.iloc[pos]`\n",
      "  binary_column = (inverse_column == first_row[column]).astype(int)\n"
     ]
    },
    {
     "name": "stdout",
     "output_type": "stream",
     "text": [
      "157/157 [==============================] - 0s 1ms/step\n",
      " 89/157 [================>.............] - ETA: 0s"
     ]
    },
    {
     "name": "stderr",
     "output_type": "stream",
     "text": [
      "/Users/ygao/Library/Caches/pypoetry/virtualenvs/program-i-Fez0zm-py3.10/lib/python3.10/site-packages/lime/discretize.py:110: FutureWarning: Series.__getitem__ treating keys as positions is deprecated. In a future version, integer keys will always be treated as labels (consistent with DataFrame behavior). To access a value by position, use `ser.iloc[pos]`\n",
      "  ret[feature] = int(self.lambdas[feature](ret[feature]))\n",
      "/Users/ygao/Library/Caches/pypoetry/virtualenvs/program-i-Fez0zm-py3.10/lib/python3.10/site-packages/lime/discretize.py:110: FutureWarning: Series.__setitem__ treating keys as positions is deprecated. In a future version, integer keys will always be treated as labels (consistent with DataFrame behavior). To set a value by position, use `ser.iloc[pos] = value`\n",
      "  ret[feature] = int(self.lambdas[feature](ret[feature]))\n",
      "/Users/ygao/Library/Caches/pypoetry/virtualenvs/program-i-Fez0zm-py3.10/lib/python3.10/site-packages/lime/lime_tabular.py:427: FutureWarning: Series.__getitem__ treating keys as positions is deprecated. In a future version, integer keys will always be treated as labels (consistent with DataFrame behavior). To access a value by position, use `ser.iloc[pos]`\n",
      "  discretized_instance[f])]\n",
      "/Users/ygao/Library/Caches/pypoetry/virtualenvs/program-i-Fez0zm-py3.10/lib/python3.10/site-packages/lime/discretize.py:110: FutureWarning: Series.__getitem__ treating keys as positions is deprecated. In a future version, integer keys will always be treated as labels (consistent with DataFrame behavior). To access a value by position, use `ser.iloc[pos]`\n",
      "  ret[feature] = int(self.lambdas[feature](ret[feature]))\n",
      "/Users/ygao/Library/Caches/pypoetry/virtualenvs/program-i-Fez0zm-py3.10/lib/python3.10/site-packages/lime/discretize.py:110: FutureWarning: Series.__setitem__ treating keys as positions is deprecated. In a future version, integer keys will always be treated as labels (consistent with DataFrame behavior). To set a value by position, use `ser.iloc[pos] = value`\n",
      "  ret[feature] = int(self.lambdas[feature](ret[feature]))\n",
      "/Users/ygao/Library/Caches/pypoetry/virtualenvs/program-i-Fez0zm-py3.10/lib/python3.10/site-packages/lime/lime_tabular.py:544: FutureWarning: Series.__getitem__ treating keys as positions is deprecated. In a future version, integer keys will always be treated as labels (consistent with DataFrame behavior). To access a value by position, use `ser.iloc[pos]`\n",
      "  binary_column = (inverse_column == first_row[column]).astype(int)\n"
     ]
    },
    {
     "name": "stdout",
     "output_type": "stream",
     "text": [
      "157/157 [==============================] - 0s 1ms/step\n",
      " 96/157 [=================>............] - ETA: 0s"
     ]
    },
    {
     "name": "stderr",
     "output_type": "stream",
     "text": [
      "/Users/ygao/Library/Caches/pypoetry/virtualenvs/program-i-Fez0zm-py3.10/lib/python3.10/site-packages/lime/discretize.py:110: FutureWarning: Series.__getitem__ treating keys as positions is deprecated. In a future version, integer keys will always be treated as labels (consistent with DataFrame behavior). To access a value by position, use `ser.iloc[pos]`\n",
      "  ret[feature] = int(self.lambdas[feature](ret[feature]))\n",
      "/Users/ygao/Library/Caches/pypoetry/virtualenvs/program-i-Fez0zm-py3.10/lib/python3.10/site-packages/lime/discretize.py:110: FutureWarning: Series.__setitem__ treating keys as positions is deprecated. In a future version, integer keys will always be treated as labels (consistent with DataFrame behavior). To set a value by position, use `ser.iloc[pos] = value`\n",
      "  ret[feature] = int(self.lambdas[feature](ret[feature]))\n",
      "/Users/ygao/Library/Caches/pypoetry/virtualenvs/program-i-Fez0zm-py3.10/lib/python3.10/site-packages/lime/lime_tabular.py:427: FutureWarning: Series.__getitem__ treating keys as positions is deprecated. In a future version, integer keys will always be treated as labels (consistent with DataFrame behavior). To access a value by position, use `ser.iloc[pos]`\n",
      "  discretized_instance[f])]\n",
      "/Users/ygao/Library/Caches/pypoetry/virtualenvs/program-i-Fez0zm-py3.10/lib/python3.10/site-packages/lime/discretize.py:110: FutureWarning: Series.__getitem__ treating keys as positions is deprecated. In a future version, integer keys will always be treated as labels (consistent with DataFrame behavior). To access a value by position, use `ser.iloc[pos]`\n",
      "  ret[feature] = int(self.lambdas[feature](ret[feature]))\n",
      "/Users/ygao/Library/Caches/pypoetry/virtualenvs/program-i-Fez0zm-py3.10/lib/python3.10/site-packages/lime/discretize.py:110: FutureWarning: Series.__setitem__ treating keys as positions is deprecated. In a future version, integer keys will always be treated as labels (consistent with DataFrame behavior). To set a value by position, use `ser.iloc[pos] = value`\n",
      "  ret[feature] = int(self.lambdas[feature](ret[feature]))\n",
      "/Users/ygao/Library/Caches/pypoetry/virtualenvs/program-i-Fez0zm-py3.10/lib/python3.10/site-packages/lime/lime_tabular.py:544: FutureWarning: Series.__getitem__ treating keys as positions is deprecated. In a future version, integer keys will always be treated as labels (consistent with DataFrame behavior). To access a value by position, use `ser.iloc[pos]`\n",
      "  binary_column = (inverse_column == first_row[column]).astype(int)\n"
     ]
    },
    {
     "name": "stdout",
     "output_type": "stream",
     "text": [
      "157/157 [==============================] - 0s 1ms/step\n",
      " 78/157 [=============>................] - ETA: 0s"
     ]
    },
    {
     "name": "stderr",
     "output_type": "stream",
     "text": [
      "/Users/ygao/Library/Caches/pypoetry/virtualenvs/program-i-Fez0zm-py3.10/lib/python3.10/site-packages/lime/discretize.py:110: FutureWarning: Series.__getitem__ treating keys as positions is deprecated. In a future version, integer keys will always be treated as labels (consistent with DataFrame behavior). To access a value by position, use `ser.iloc[pos]`\n",
      "  ret[feature] = int(self.lambdas[feature](ret[feature]))\n",
      "/Users/ygao/Library/Caches/pypoetry/virtualenvs/program-i-Fez0zm-py3.10/lib/python3.10/site-packages/lime/discretize.py:110: FutureWarning: Series.__setitem__ treating keys as positions is deprecated. In a future version, integer keys will always be treated as labels (consistent with DataFrame behavior). To set a value by position, use `ser.iloc[pos] = value`\n",
      "  ret[feature] = int(self.lambdas[feature](ret[feature]))\n",
      "/Users/ygao/Library/Caches/pypoetry/virtualenvs/program-i-Fez0zm-py3.10/lib/python3.10/site-packages/lime/lime_tabular.py:427: FutureWarning: Series.__getitem__ treating keys as positions is deprecated. In a future version, integer keys will always be treated as labels (consistent with DataFrame behavior). To access a value by position, use `ser.iloc[pos]`\n",
      "  discretized_instance[f])]\n",
      "/Users/ygao/Library/Caches/pypoetry/virtualenvs/program-i-Fez0zm-py3.10/lib/python3.10/site-packages/lime/discretize.py:110: FutureWarning: Series.__getitem__ treating keys as positions is deprecated. In a future version, integer keys will always be treated as labels (consistent with DataFrame behavior). To access a value by position, use `ser.iloc[pos]`\n",
      "  ret[feature] = int(self.lambdas[feature](ret[feature]))\n",
      "/Users/ygao/Library/Caches/pypoetry/virtualenvs/program-i-Fez0zm-py3.10/lib/python3.10/site-packages/lime/discretize.py:110: FutureWarning: Series.__setitem__ treating keys as positions is deprecated. In a future version, integer keys will always be treated as labels (consistent with DataFrame behavior). To set a value by position, use `ser.iloc[pos] = value`\n",
      "  ret[feature] = int(self.lambdas[feature](ret[feature]))\n",
      "/Users/ygao/Library/Caches/pypoetry/virtualenvs/program-i-Fez0zm-py3.10/lib/python3.10/site-packages/lime/lime_tabular.py:544: FutureWarning: Series.__getitem__ treating keys as positions is deprecated. In a future version, integer keys will always be treated as labels (consistent with DataFrame behavior). To access a value by position, use `ser.iloc[pos]`\n",
      "  binary_column = (inverse_column == first_row[column]).astype(int)\n"
     ]
    },
    {
     "name": "stdout",
     "output_type": "stream",
     "text": [
      "157/157 [==============================] - 0s 1ms/step\n",
      " 96/157 [=================>............] - ETA: 0s"
     ]
    },
    {
     "name": "stderr",
     "output_type": "stream",
     "text": [
      "/Users/ygao/Library/Caches/pypoetry/virtualenvs/program-i-Fez0zm-py3.10/lib/python3.10/site-packages/lime/discretize.py:110: FutureWarning: Series.__getitem__ treating keys as positions is deprecated. In a future version, integer keys will always be treated as labels (consistent with DataFrame behavior). To access a value by position, use `ser.iloc[pos]`\n",
      "  ret[feature] = int(self.lambdas[feature](ret[feature]))\n",
      "/Users/ygao/Library/Caches/pypoetry/virtualenvs/program-i-Fez0zm-py3.10/lib/python3.10/site-packages/lime/discretize.py:110: FutureWarning: Series.__setitem__ treating keys as positions is deprecated. In a future version, integer keys will always be treated as labels (consistent with DataFrame behavior). To set a value by position, use `ser.iloc[pos] = value`\n",
      "  ret[feature] = int(self.lambdas[feature](ret[feature]))\n",
      "/Users/ygao/Library/Caches/pypoetry/virtualenvs/program-i-Fez0zm-py3.10/lib/python3.10/site-packages/lime/lime_tabular.py:427: FutureWarning: Series.__getitem__ treating keys as positions is deprecated. In a future version, integer keys will always be treated as labels (consistent with DataFrame behavior). To access a value by position, use `ser.iloc[pos]`\n",
      "  discretized_instance[f])]\n",
      "/Users/ygao/Library/Caches/pypoetry/virtualenvs/program-i-Fez0zm-py3.10/lib/python3.10/site-packages/lime/discretize.py:110: FutureWarning: Series.__getitem__ treating keys as positions is deprecated. In a future version, integer keys will always be treated as labels (consistent with DataFrame behavior). To access a value by position, use `ser.iloc[pos]`\n",
      "  ret[feature] = int(self.lambdas[feature](ret[feature]))\n",
      "/Users/ygao/Library/Caches/pypoetry/virtualenvs/program-i-Fez0zm-py3.10/lib/python3.10/site-packages/lime/discretize.py:110: FutureWarning: Series.__setitem__ treating keys as positions is deprecated. In a future version, integer keys will always be treated as labels (consistent with DataFrame behavior). To set a value by position, use `ser.iloc[pos] = value`\n",
      "  ret[feature] = int(self.lambdas[feature](ret[feature]))\n",
      "/Users/ygao/Library/Caches/pypoetry/virtualenvs/program-i-Fez0zm-py3.10/lib/python3.10/site-packages/lime/lime_tabular.py:544: FutureWarning: Series.__getitem__ treating keys as positions is deprecated. In a future version, integer keys will always be treated as labels (consistent with DataFrame behavior). To access a value by position, use `ser.iloc[pos]`\n",
      "  binary_column = (inverse_column == first_row[column]).astype(int)\n"
     ]
    },
    {
     "name": "stdout",
     "output_type": "stream",
     "text": [
      "157/157 [==============================] - 0s 1ms/step\n",
      " 65/157 [===========>..................] - ETA: 0s"
     ]
    },
    {
     "name": "stderr",
     "output_type": "stream",
     "text": [
      "/Users/ygao/Library/Caches/pypoetry/virtualenvs/program-i-Fez0zm-py3.10/lib/python3.10/site-packages/lime/discretize.py:110: FutureWarning: Series.__getitem__ treating keys as positions is deprecated. In a future version, integer keys will always be treated as labels (consistent with DataFrame behavior). To access a value by position, use `ser.iloc[pos]`\n",
      "  ret[feature] = int(self.lambdas[feature](ret[feature]))\n",
      "/Users/ygao/Library/Caches/pypoetry/virtualenvs/program-i-Fez0zm-py3.10/lib/python3.10/site-packages/lime/discretize.py:110: FutureWarning: Series.__setitem__ treating keys as positions is deprecated. In a future version, integer keys will always be treated as labels (consistent with DataFrame behavior). To set a value by position, use `ser.iloc[pos] = value`\n",
      "  ret[feature] = int(self.lambdas[feature](ret[feature]))\n",
      "/Users/ygao/Library/Caches/pypoetry/virtualenvs/program-i-Fez0zm-py3.10/lib/python3.10/site-packages/lime/lime_tabular.py:427: FutureWarning: Series.__getitem__ treating keys as positions is deprecated. In a future version, integer keys will always be treated as labels (consistent with DataFrame behavior). To access a value by position, use `ser.iloc[pos]`\n",
      "  discretized_instance[f])]\n",
      "/Users/ygao/Library/Caches/pypoetry/virtualenvs/program-i-Fez0zm-py3.10/lib/python3.10/site-packages/lime/discretize.py:110: FutureWarning: Series.__getitem__ treating keys as positions is deprecated. In a future version, integer keys will always be treated as labels (consistent with DataFrame behavior). To access a value by position, use `ser.iloc[pos]`\n",
      "  ret[feature] = int(self.lambdas[feature](ret[feature]))\n",
      "/Users/ygao/Library/Caches/pypoetry/virtualenvs/program-i-Fez0zm-py3.10/lib/python3.10/site-packages/lime/discretize.py:110: FutureWarning: Series.__setitem__ treating keys as positions is deprecated. In a future version, integer keys will always be treated as labels (consistent with DataFrame behavior). To set a value by position, use `ser.iloc[pos] = value`\n",
      "  ret[feature] = int(self.lambdas[feature](ret[feature]))\n",
      "/Users/ygao/Library/Caches/pypoetry/virtualenvs/program-i-Fez0zm-py3.10/lib/python3.10/site-packages/lime/lime_tabular.py:544: FutureWarning: Series.__getitem__ treating keys as positions is deprecated. In a future version, integer keys will always be treated as labels (consistent with DataFrame behavior). To access a value by position, use `ser.iloc[pos]`\n",
      "  binary_column = (inverse_column == first_row[column]).astype(int)\n"
     ]
    },
    {
     "name": "stdout",
     "output_type": "stream",
     "text": [
      "157/157 [==============================] - 0s 1ms/step\n",
      " 94/157 [================>.............] - ETA: 0s"
     ]
    },
    {
     "name": "stderr",
     "output_type": "stream",
     "text": [
      "/Users/ygao/Library/Caches/pypoetry/virtualenvs/program-i-Fez0zm-py3.10/lib/python3.10/site-packages/lime/discretize.py:110: FutureWarning: Series.__getitem__ treating keys as positions is deprecated. In a future version, integer keys will always be treated as labels (consistent with DataFrame behavior). To access a value by position, use `ser.iloc[pos]`\n",
      "  ret[feature] = int(self.lambdas[feature](ret[feature]))\n",
      "/Users/ygao/Library/Caches/pypoetry/virtualenvs/program-i-Fez0zm-py3.10/lib/python3.10/site-packages/lime/discretize.py:110: FutureWarning: Series.__setitem__ treating keys as positions is deprecated. In a future version, integer keys will always be treated as labels (consistent with DataFrame behavior). To set a value by position, use `ser.iloc[pos] = value`\n",
      "  ret[feature] = int(self.lambdas[feature](ret[feature]))\n",
      "/Users/ygao/Library/Caches/pypoetry/virtualenvs/program-i-Fez0zm-py3.10/lib/python3.10/site-packages/lime/lime_tabular.py:427: FutureWarning: Series.__getitem__ treating keys as positions is deprecated. In a future version, integer keys will always be treated as labels (consistent with DataFrame behavior). To access a value by position, use `ser.iloc[pos]`\n",
      "  discretized_instance[f])]\n",
      "/Users/ygao/Library/Caches/pypoetry/virtualenvs/program-i-Fez0zm-py3.10/lib/python3.10/site-packages/lime/discretize.py:110: FutureWarning: Series.__getitem__ treating keys as positions is deprecated. In a future version, integer keys will always be treated as labels (consistent with DataFrame behavior). To access a value by position, use `ser.iloc[pos]`\n",
      "  ret[feature] = int(self.lambdas[feature](ret[feature]))\n",
      "/Users/ygao/Library/Caches/pypoetry/virtualenvs/program-i-Fez0zm-py3.10/lib/python3.10/site-packages/lime/discretize.py:110: FutureWarning: Series.__setitem__ treating keys as positions is deprecated. In a future version, integer keys will always be treated as labels (consistent with DataFrame behavior). To set a value by position, use `ser.iloc[pos] = value`\n",
      "  ret[feature] = int(self.lambdas[feature](ret[feature]))\n",
      "/Users/ygao/Library/Caches/pypoetry/virtualenvs/program-i-Fez0zm-py3.10/lib/python3.10/site-packages/lime/lime_tabular.py:544: FutureWarning: Series.__getitem__ treating keys as positions is deprecated. In a future version, integer keys will always be treated as labels (consistent with DataFrame behavior). To access a value by position, use `ser.iloc[pos]`\n",
      "  binary_column = (inverse_column == first_row[column]).astype(int)\n"
     ]
    },
    {
     "name": "stdout",
     "output_type": "stream",
     "text": [
      "157/157 [==============================] - 0s 1ms/step\n",
      " 87/157 [===============>..............] - ETA: 0s"
     ]
    },
    {
     "name": "stderr",
     "output_type": "stream",
     "text": [
      "/Users/ygao/Library/Caches/pypoetry/virtualenvs/program-i-Fez0zm-py3.10/lib/python3.10/site-packages/lime/discretize.py:110: FutureWarning: Series.__getitem__ treating keys as positions is deprecated. In a future version, integer keys will always be treated as labels (consistent with DataFrame behavior). To access a value by position, use `ser.iloc[pos]`\n",
      "  ret[feature] = int(self.lambdas[feature](ret[feature]))\n",
      "/Users/ygao/Library/Caches/pypoetry/virtualenvs/program-i-Fez0zm-py3.10/lib/python3.10/site-packages/lime/discretize.py:110: FutureWarning: Series.__setitem__ treating keys as positions is deprecated. In a future version, integer keys will always be treated as labels (consistent with DataFrame behavior). To set a value by position, use `ser.iloc[pos] = value`\n",
      "  ret[feature] = int(self.lambdas[feature](ret[feature]))\n",
      "/Users/ygao/Library/Caches/pypoetry/virtualenvs/program-i-Fez0zm-py3.10/lib/python3.10/site-packages/lime/lime_tabular.py:427: FutureWarning: Series.__getitem__ treating keys as positions is deprecated. In a future version, integer keys will always be treated as labels (consistent with DataFrame behavior). To access a value by position, use `ser.iloc[pos]`\n",
      "  discretized_instance[f])]\n",
      "/Users/ygao/Library/Caches/pypoetry/virtualenvs/program-i-Fez0zm-py3.10/lib/python3.10/site-packages/lime/discretize.py:110: FutureWarning: Series.__getitem__ treating keys as positions is deprecated. In a future version, integer keys will always be treated as labels (consistent with DataFrame behavior). To access a value by position, use `ser.iloc[pos]`\n",
      "  ret[feature] = int(self.lambdas[feature](ret[feature]))\n",
      "/Users/ygao/Library/Caches/pypoetry/virtualenvs/program-i-Fez0zm-py3.10/lib/python3.10/site-packages/lime/discretize.py:110: FutureWarning: Series.__setitem__ treating keys as positions is deprecated. In a future version, integer keys will always be treated as labels (consistent with DataFrame behavior). To set a value by position, use `ser.iloc[pos] = value`\n",
      "  ret[feature] = int(self.lambdas[feature](ret[feature]))\n",
      "/Users/ygao/Library/Caches/pypoetry/virtualenvs/program-i-Fez0zm-py3.10/lib/python3.10/site-packages/lime/lime_tabular.py:544: FutureWarning: Series.__getitem__ treating keys as positions is deprecated. In a future version, integer keys will always be treated as labels (consistent with DataFrame behavior). To access a value by position, use `ser.iloc[pos]`\n",
      "  binary_column = (inverse_column == first_row[column]).astype(int)\n"
     ]
    },
    {
     "name": "stdout",
     "output_type": "stream",
     "text": [
      "157/157 [==============================] - 0s 1ms/step\n",
      " 76/157 [=============>................] - ETA: 0s"
     ]
    },
    {
     "name": "stderr",
     "output_type": "stream",
     "text": [
      "/Users/ygao/Library/Caches/pypoetry/virtualenvs/program-i-Fez0zm-py3.10/lib/python3.10/site-packages/lime/discretize.py:110: FutureWarning: Series.__getitem__ treating keys as positions is deprecated. In a future version, integer keys will always be treated as labels (consistent with DataFrame behavior). To access a value by position, use `ser.iloc[pos]`\n",
      "  ret[feature] = int(self.lambdas[feature](ret[feature]))\n",
      "/Users/ygao/Library/Caches/pypoetry/virtualenvs/program-i-Fez0zm-py3.10/lib/python3.10/site-packages/lime/discretize.py:110: FutureWarning: Series.__setitem__ treating keys as positions is deprecated. In a future version, integer keys will always be treated as labels (consistent with DataFrame behavior). To set a value by position, use `ser.iloc[pos] = value`\n",
      "  ret[feature] = int(self.lambdas[feature](ret[feature]))\n",
      "/Users/ygao/Library/Caches/pypoetry/virtualenvs/program-i-Fez0zm-py3.10/lib/python3.10/site-packages/lime/lime_tabular.py:427: FutureWarning: Series.__getitem__ treating keys as positions is deprecated. In a future version, integer keys will always be treated as labels (consistent with DataFrame behavior). To access a value by position, use `ser.iloc[pos]`\n",
      "  discretized_instance[f])]\n",
      "/Users/ygao/Library/Caches/pypoetry/virtualenvs/program-i-Fez0zm-py3.10/lib/python3.10/site-packages/lime/discretize.py:110: FutureWarning: Series.__getitem__ treating keys as positions is deprecated. In a future version, integer keys will always be treated as labels (consistent with DataFrame behavior). To access a value by position, use `ser.iloc[pos]`\n",
      "  ret[feature] = int(self.lambdas[feature](ret[feature]))\n",
      "/Users/ygao/Library/Caches/pypoetry/virtualenvs/program-i-Fez0zm-py3.10/lib/python3.10/site-packages/lime/discretize.py:110: FutureWarning: Series.__setitem__ treating keys as positions is deprecated. In a future version, integer keys will always be treated as labels (consistent with DataFrame behavior). To set a value by position, use `ser.iloc[pos] = value`\n",
      "  ret[feature] = int(self.lambdas[feature](ret[feature]))\n",
      "/Users/ygao/Library/Caches/pypoetry/virtualenvs/program-i-Fez0zm-py3.10/lib/python3.10/site-packages/lime/lime_tabular.py:544: FutureWarning: Series.__getitem__ treating keys as positions is deprecated. In a future version, integer keys will always be treated as labels (consistent with DataFrame behavior). To access a value by position, use `ser.iloc[pos]`\n",
      "  binary_column = (inverse_column == first_row[column]).astype(int)\n"
     ]
    },
    {
     "name": "stdout",
     "output_type": "stream",
     "text": [
      "157/157 [==============================] - 0s 1ms/step\n",
      " 37/157 [======>.......................] - ETA: 0s "
     ]
    },
    {
     "name": "stderr",
     "output_type": "stream",
     "text": [
      "/Users/ygao/Library/Caches/pypoetry/virtualenvs/program-i-Fez0zm-py3.10/lib/python3.10/site-packages/lime/discretize.py:110: FutureWarning: Series.__getitem__ treating keys as positions is deprecated. In a future version, integer keys will always be treated as labels (consistent with DataFrame behavior). To access a value by position, use `ser.iloc[pos]`\n",
      "  ret[feature] = int(self.lambdas[feature](ret[feature]))\n",
      "/Users/ygao/Library/Caches/pypoetry/virtualenvs/program-i-Fez0zm-py3.10/lib/python3.10/site-packages/lime/discretize.py:110: FutureWarning: Series.__setitem__ treating keys as positions is deprecated. In a future version, integer keys will always be treated as labels (consistent with DataFrame behavior). To set a value by position, use `ser.iloc[pos] = value`\n",
      "  ret[feature] = int(self.lambdas[feature](ret[feature]))\n",
      "/Users/ygao/Library/Caches/pypoetry/virtualenvs/program-i-Fez0zm-py3.10/lib/python3.10/site-packages/lime/lime_tabular.py:427: FutureWarning: Series.__getitem__ treating keys as positions is deprecated. In a future version, integer keys will always be treated as labels (consistent with DataFrame behavior). To access a value by position, use `ser.iloc[pos]`\n",
      "  discretized_instance[f])]\n",
      "/Users/ygao/Library/Caches/pypoetry/virtualenvs/program-i-Fez0zm-py3.10/lib/python3.10/site-packages/lime/discretize.py:110: FutureWarning: Series.__getitem__ treating keys as positions is deprecated. In a future version, integer keys will always be treated as labels (consistent with DataFrame behavior). To access a value by position, use `ser.iloc[pos]`\n",
      "  ret[feature] = int(self.lambdas[feature](ret[feature]))\n",
      "/Users/ygao/Library/Caches/pypoetry/virtualenvs/program-i-Fez0zm-py3.10/lib/python3.10/site-packages/lime/discretize.py:110: FutureWarning: Series.__setitem__ treating keys as positions is deprecated. In a future version, integer keys will always be treated as labels (consistent with DataFrame behavior). To set a value by position, use `ser.iloc[pos] = value`\n",
      "  ret[feature] = int(self.lambdas[feature](ret[feature]))\n",
      "/Users/ygao/Library/Caches/pypoetry/virtualenvs/program-i-Fez0zm-py3.10/lib/python3.10/site-packages/lime/lime_tabular.py:544: FutureWarning: Series.__getitem__ treating keys as positions is deprecated. In a future version, integer keys will always be treated as labels (consistent with DataFrame behavior). To access a value by position, use `ser.iloc[pos]`\n",
      "  binary_column = (inverse_column == first_row[column]).astype(int)\n"
     ]
    },
    {
     "name": "stdout",
     "output_type": "stream",
     "text": [
      "157/157 [==============================] - 0s 1ms/step\n",
      " 73/157 [============>.................] - ETA: 0s"
     ]
    },
    {
     "name": "stderr",
     "output_type": "stream",
     "text": [
      "/Users/ygao/Library/Caches/pypoetry/virtualenvs/program-i-Fez0zm-py3.10/lib/python3.10/site-packages/lime/discretize.py:110: FutureWarning: Series.__getitem__ treating keys as positions is deprecated. In a future version, integer keys will always be treated as labels (consistent with DataFrame behavior). To access a value by position, use `ser.iloc[pos]`\n",
      "  ret[feature] = int(self.lambdas[feature](ret[feature]))\n",
      "/Users/ygao/Library/Caches/pypoetry/virtualenvs/program-i-Fez0zm-py3.10/lib/python3.10/site-packages/lime/discretize.py:110: FutureWarning: Series.__setitem__ treating keys as positions is deprecated. In a future version, integer keys will always be treated as labels (consistent with DataFrame behavior). To set a value by position, use `ser.iloc[pos] = value`\n",
      "  ret[feature] = int(self.lambdas[feature](ret[feature]))\n",
      "/Users/ygao/Library/Caches/pypoetry/virtualenvs/program-i-Fez0zm-py3.10/lib/python3.10/site-packages/lime/lime_tabular.py:427: FutureWarning: Series.__getitem__ treating keys as positions is deprecated. In a future version, integer keys will always be treated as labels (consistent with DataFrame behavior). To access a value by position, use `ser.iloc[pos]`\n",
      "  discretized_instance[f])]\n",
      "/Users/ygao/Library/Caches/pypoetry/virtualenvs/program-i-Fez0zm-py3.10/lib/python3.10/site-packages/lime/discretize.py:110: FutureWarning: Series.__getitem__ treating keys as positions is deprecated. In a future version, integer keys will always be treated as labels (consistent with DataFrame behavior). To access a value by position, use `ser.iloc[pos]`\n",
      "  ret[feature] = int(self.lambdas[feature](ret[feature]))\n",
      "/Users/ygao/Library/Caches/pypoetry/virtualenvs/program-i-Fez0zm-py3.10/lib/python3.10/site-packages/lime/discretize.py:110: FutureWarning: Series.__setitem__ treating keys as positions is deprecated. In a future version, integer keys will always be treated as labels (consistent with DataFrame behavior). To set a value by position, use `ser.iloc[pos] = value`\n",
      "  ret[feature] = int(self.lambdas[feature](ret[feature]))\n",
      "/Users/ygao/Library/Caches/pypoetry/virtualenvs/program-i-Fez0zm-py3.10/lib/python3.10/site-packages/lime/lime_tabular.py:544: FutureWarning: Series.__getitem__ treating keys as positions is deprecated. In a future version, integer keys will always be treated as labels (consistent with DataFrame behavior). To access a value by position, use `ser.iloc[pos]`\n",
      "  binary_column = (inverse_column == first_row[column]).astype(int)\n"
     ]
    },
    {
     "name": "stdout",
     "output_type": "stream",
     "text": [
      "157/157 [==============================] - 0s 1ms/step\n",
      " 91/157 [================>.............] - ETA: 0s"
     ]
    },
    {
     "name": "stderr",
     "output_type": "stream",
     "text": [
      "/Users/ygao/Library/Caches/pypoetry/virtualenvs/program-i-Fez0zm-py3.10/lib/python3.10/site-packages/lime/discretize.py:110: FutureWarning: Series.__getitem__ treating keys as positions is deprecated. In a future version, integer keys will always be treated as labels (consistent with DataFrame behavior). To access a value by position, use `ser.iloc[pos]`\n",
      "  ret[feature] = int(self.lambdas[feature](ret[feature]))\n",
      "/Users/ygao/Library/Caches/pypoetry/virtualenvs/program-i-Fez0zm-py3.10/lib/python3.10/site-packages/lime/discretize.py:110: FutureWarning: Series.__setitem__ treating keys as positions is deprecated. In a future version, integer keys will always be treated as labels (consistent with DataFrame behavior). To set a value by position, use `ser.iloc[pos] = value`\n",
      "  ret[feature] = int(self.lambdas[feature](ret[feature]))\n",
      "/Users/ygao/Library/Caches/pypoetry/virtualenvs/program-i-Fez0zm-py3.10/lib/python3.10/site-packages/lime/lime_tabular.py:427: FutureWarning: Series.__getitem__ treating keys as positions is deprecated. In a future version, integer keys will always be treated as labels (consistent with DataFrame behavior). To access a value by position, use `ser.iloc[pos]`\n",
      "  discretized_instance[f])]\n",
      "/Users/ygao/Library/Caches/pypoetry/virtualenvs/program-i-Fez0zm-py3.10/lib/python3.10/site-packages/lime/discretize.py:110: FutureWarning: Series.__getitem__ treating keys as positions is deprecated. In a future version, integer keys will always be treated as labels (consistent with DataFrame behavior). To access a value by position, use `ser.iloc[pos]`\n",
      "  ret[feature] = int(self.lambdas[feature](ret[feature]))\n",
      "/Users/ygao/Library/Caches/pypoetry/virtualenvs/program-i-Fez0zm-py3.10/lib/python3.10/site-packages/lime/discretize.py:110: FutureWarning: Series.__setitem__ treating keys as positions is deprecated. In a future version, integer keys will always be treated as labels (consistent with DataFrame behavior). To set a value by position, use `ser.iloc[pos] = value`\n",
      "  ret[feature] = int(self.lambdas[feature](ret[feature]))\n",
      "/Users/ygao/Library/Caches/pypoetry/virtualenvs/program-i-Fez0zm-py3.10/lib/python3.10/site-packages/lime/lime_tabular.py:544: FutureWarning: Series.__getitem__ treating keys as positions is deprecated. In a future version, integer keys will always be treated as labels (consistent with DataFrame behavior). To access a value by position, use `ser.iloc[pos]`\n",
      "  binary_column = (inverse_column == first_row[column]).astype(int)\n"
     ]
    },
    {
     "name": "stdout",
     "output_type": "stream",
     "text": [
      "157/157 [==============================] - 0s 1ms/step\n",
      " 80/157 [==============>...............] - ETA: 0s"
     ]
    },
    {
     "name": "stderr",
     "output_type": "stream",
     "text": [
      "/Users/ygao/Library/Caches/pypoetry/virtualenvs/program-i-Fez0zm-py3.10/lib/python3.10/site-packages/lime/discretize.py:110: FutureWarning: Series.__getitem__ treating keys as positions is deprecated. In a future version, integer keys will always be treated as labels (consistent with DataFrame behavior). To access a value by position, use `ser.iloc[pos]`\n",
      "  ret[feature] = int(self.lambdas[feature](ret[feature]))\n",
      "/Users/ygao/Library/Caches/pypoetry/virtualenvs/program-i-Fez0zm-py3.10/lib/python3.10/site-packages/lime/discretize.py:110: FutureWarning: Series.__setitem__ treating keys as positions is deprecated. In a future version, integer keys will always be treated as labels (consistent with DataFrame behavior). To set a value by position, use `ser.iloc[pos] = value`\n",
      "  ret[feature] = int(self.lambdas[feature](ret[feature]))\n",
      "/Users/ygao/Library/Caches/pypoetry/virtualenvs/program-i-Fez0zm-py3.10/lib/python3.10/site-packages/lime/lime_tabular.py:427: FutureWarning: Series.__getitem__ treating keys as positions is deprecated. In a future version, integer keys will always be treated as labels (consistent with DataFrame behavior). To access a value by position, use `ser.iloc[pos]`\n",
      "  discretized_instance[f])]\n",
      "/Users/ygao/Library/Caches/pypoetry/virtualenvs/program-i-Fez0zm-py3.10/lib/python3.10/site-packages/lime/discretize.py:110: FutureWarning: Series.__getitem__ treating keys as positions is deprecated. In a future version, integer keys will always be treated as labels (consistent with DataFrame behavior). To access a value by position, use `ser.iloc[pos]`\n",
      "  ret[feature] = int(self.lambdas[feature](ret[feature]))\n",
      "/Users/ygao/Library/Caches/pypoetry/virtualenvs/program-i-Fez0zm-py3.10/lib/python3.10/site-packages/lime/discretize.py:110: FutureWarning: Series.__setitem__ treating keys as positions is deprecated. In a future version, integer keys will always be treated as labels (consistent with DataFrame behavior). To set a value by position, use `ser.iloc[pos] = value`\n",
      "  ret[feature] = int(self.lambdas[feature](ret[feature]))\n",
      "/Users/ygao/Library/Caches/pypoetry/virtualenvs/program-i-Fez0zm-py3.10/lib/python3.10/site-packages/lime/lime_tabular.py:544: FutureWarning: Series.__getitem__ treating keys as positions is deprecated. In a future version, integer keys will always be treated as labels (consistent with DataFrame behavior). To access a value by position, use `ser.iloc[pos]`\n",
      "  binary_column = (inverse_column == first_row[column]).astype(int)\n"
     ]
    },
    {
     "name": "stdout",
     "output_type": "stream",
     "text": [
      "157/157 [==============================] - 0s 1ms/step\n",
      " 95/157 [=================>............] - ETA: 0s"
     ]
    },
    {
     "name": "stderr",
     "output_type": "stream",
     "text": [
      "/Users/ygao/Library/Caches/pypoetry/virtualenvs/program-i-Fez0zm-py3.10/lib/python3.10/site-packages/lime/discretize.py:110: FutureWarning: Series.__getitem__ treating keys as positions is deprecated. In a future version, integer keys will always be treated as labels (consistent with DataFrame behavior). To access a value by position, use `ser.iloc[pos]`\n",
      "  ret[feature] = int(self.lambdas[feature](ret[feature]))\n",
      "/Users/ygao/Library/Caches/pypoetry/virtualenvs/program-i-Fez0zm-py3.10/lib/python3.10/site-packages/lime/discretize.py:110: FutureWarning: Series.__setitem__ treating keys as positions is deprecated. In a future version, integer keys will always be treated as labels (consistent with DataFrame behavior). To set a value by position, use `ser.iloc[pos] = value`\n",
      "  ret[feature] = int(self.lambdas[feature](ret[feature]))\n",
      "/Users/ygao/Library/Caches/pypoetry/virtualenvs/program-i-Fez0zm-py3.10/lib/python3.10/site-packages/lime/lime_tabular.py:427: FutureWarning: Series.__getitem__ treating keys as positions is deprecated. In a future version, integer keys will always be treated as labels (consistent with DataFrame behavior). To access a value by position, use `ser.iloc[pos]`\n",
      "  discretized_instance[f])]\n",
      "/Users/ygao/Library/Caches/pypoetry/virtualenvs/program-i-Fez0zm-py3.10/lib/python3.10/site-packages/lime/discretize.py:110: FutureWarning: Series.__getitem__ treating keys as positions is deprecated. In a future version, integer keys will always be treated as labels (consistent with DataFrame behavior). To access a value by position, use `ser.iloc[pos]`\n",
      "  ret[feature] = int(self.lambdas[feature](ret[feature]))\n",
      "/Users/ygao/Library/Caches/pypoetry/virtualenvs/program-i-Fez0zm-py3.10/lib/python3.10/site-packages/lime/discretize.py:110: FutureWarning: Series.__setitem__ treating keys as positions is deprecated. In a future version, integer keys will always be treated as labels (consistent with DataFrame behavior). To set a value by position, use `ser.iloc[pos] = value`\n",
      "  ret[feature] = int(self.lambdas[feature](ret[feature]))\n",
      "/Users/ygao/Library/Caches/pypoetry/virtualenvs/program-i-Fez0zm-py3.10/lib/python3.10/site-packages/lime/lime_tabular.py:544: FutureWarning: Series.__getitem__ treating keys as positions is deprecated. In a future version, integer keys will always be treated as labels (consistent with DataFrame behavior). To access a value by position, use `ser.iloc[pos]`\n",
      "  binary_column = (inverse_column == first_row[column]).astype(int)\n"
     ]
    },
    {
     "name": "stdout",
     "output_type": "stream",
     "text": [
      "157/157 [==============================] - 0s 1ms/step\n",
      " 89/157 [================>.............] - ETA: 0s"
     ]
    },
    {
     "name": "stderr",
     "output_type": "stream",
     "text": [
      "/Users/ygao/Library/Caches/pypoetry/virtualenvs/program-i-Fez0zm-py3.10/lib/python3.10/site-packages/lime/discretize.py:110: FutureWarning: Series.__getitem__ treating keys as positions is deprecated. In a future version, integer keys will always be treated as labels (consistent with DataFrame behavior). To access a value by position, use `ser.iloc[pos]`\n",
      "  ret[feature] = int(self.lambdas[feature](ret[feature]))\n",
      "/Users/ygao/Library/Caches/pypoetry/virtualenvs/program-i-Fez0zm-py3.10/lib/python3.10/site-packages/lime/discretize.py:110: FutureWarning: Series.__setitem__ treating keys as positions is deprecated. In a future version, integer keys will always be treated as labels (consistent with DataFrame behavior). To set a value by position, use `ser.iloc[pos] = value`\n",
      "  ret[feature] = int(self.lambdas[feature](ret[feature]))\n",
      "/Users/ygao/Library/Caches/pypoetry/virtualenvs/program-i-Fez0zm-py3.10/lib/python3.10/site-packages/lime/lime_tabular.py:427: FutureWarning: Series.__getitem__ treating keys as positions is deprecated. In a future version, integer keys will always be treated as labels (consistent with DataFrame behavior). To access a value by position, use `ser.iloc[pos]`\n",
      "  discretized_instance[f])]\n",
      "/Users/ygao/Library/Caches/pypoetry/virtualenvs/program-i-Fez0zm-py3.10/lib/python3.10/site-packages/lime/discretize.py:110: FutureWarning: Series.__getitem__ treating keys as positions is deprecated. In a future version, integer keys will always be treated as labels (consistent with DataFrame behavior). To access a value by position, use `ser.iloc[pos]`\n",
      "  ret[feature] = int(self.lambdas[feature](ret[feature]))\n",
      "/Users/ygao/Library/Caches/pypoetry/virtualenvs/program-i-Fez0zm-py3.10/lib/python3.10/site-packages/lime/discretize.py:110: FutureWarning: Series.__setitem__ treating keys as positions is deprecated. In a future version, integer keys will always be treated as labels (consistent with DataFrame behavior). To set a value by position, use `ser.iloc[pos] = value`\n",
      "  ret[feature] = int(self.lambdas[feature](ret[feature]))\n",
      "/Users/ygao/Library/Caches/pypoetry/virtualenvs/program-i-Fez0zm-py3.10/lib/python3.10/site-packages/lime/lime_tabular.py:544: FutureWarning: Series.__getitem__ treating keys as positions is deprecated. In a future version, integer keys will always be treated as labels (consistent with DataFrame behavior). To access a value by position, use `ser.iloc[pos]`\n",
      "  binary_column = (inverse_column == first_row[column]).astype(int)\n"
     ]
    },
    {
     "name": "stdout",
     "output_type": "stream",
     "text": [
      "157/157 [==============================] - 0s 1ms/step\n",
      "105/157 [===================>..........] - ETA: 0s"
     ]
    },
    {
     "name": "stderr",
     "output_type": "stream",
     "text": [
      "/Users/ygao/Library/Caches/pypoetry/virtualenvs/program-i-Fez0zm-py3.10/lib/python3.10/site-packages/lime/discretize.py:110: FutureWarning: Series.__getitem__ treating keys as positions is deprecated. In a future version, integer keys will always be treated as labels (consistent with DataFrame behavior). To access a value by position, use `ser.iloc[pos]`\n",
      "  ret[feature] = int(self.lambdas[feature](ret[feature]))\n",
      "/Users/ygao/Library/Caches/pypoetry/virtualenvs/program-i-Fez0zm-py3.10/lib/python3.10/site-packages/lime/discretize.py:110: FutureWarning: Series.__setitem__ treating keys as positions is deprecated. In a future version, integer keys will always be treated as labels (consistent with DataFrame behavior). To set a value by position, use `ser.iloc[pos] = value`\n",
      "  ret[feature] = int(self.lambdas[feature](ret[feature]))\n",
      "/Users/ygao/Library/Caches/pypoetry/virtualenvs/program-i-Fez0zm-py3.10/lib/python3.10/site-packages/lime/lime_tabular.py:427: FutureWarning: Series.__getitem__ treating keys as positions is deprecated. In a future version, integer keys will always be treated as labels (consistent with DataFrame behavior). To access a value by position, use `ser.iloc[pos]`\n",
      "  discretized_instance[f])]\n",
      "/Users/ygao/Library/Caches/pypoetry/virtualenvs/program-i-Fez0zm-py3.10/lib/python3.10/site-packages/lime/discretize.py:110: FutureWarning: Series.__getitem__ treating keys as positions is deprecated. In a future version, integer keys will always be treated as labels (consistent with DataFrame behavior). To access a value by position, use `ser.iloc[pos]`\n",
      "  ret[feature] = int(self.lambdas[feature](ret[feature]))\n",
      "/Users/ygao/Library/Caches/pypoetry/virtualenvs/program-i-Fez0zm-py3.10/lib/python3.10/site-packages/lime/discretize.py:110: FutureWarning: Series.__setitem__ treating keys as positions is deprecated. In a future version, integer keys will always be treated as labels (consistent with DataFrame behavior). To set a value by position, use `ser.iloc[pos] = value`\n",
      "  ret[feature] = int(self.lambdas[feature](ret[feature]))\n",
      "/Users/ygao/Library/Caches/pypoetry/virtualenvs/program-i-Fez0zm-py3.10/lib/python3.10/site-packages/lime/lime_tabular.py:544: FutureWarning: Series.__getitem__ treating keys as positions is deprecated. In a future version, integer keys will always be treated as labels (consistent with DataFrame behavior). To access a value by position, use `ser.iloc[pos]`\n",
      "  binary_column = (inverse_column == first_row[column]).astype(int)\n"
     ]
    },
    {
     "name": "stdout",
     "output_type": "stream",
     "text": [
      "157/157 [==============================] - 0s 986us/step\n",
      " 95/157 [=================>............] - ETA: 0s"
     ]
    },
    {
     "name": "stderr",
     "output_type": "stream",
     "text": [
      "/Users/ygao/Library/Caches/pypoetry/virtualenvs/program-i-Fez0zm-py3.10/lib/python3.10/site-packages/lime/discretize.py:110: FutureWarning: Series.__getitem__ treating keys as positions is deprecated. In a future version, integer keys will always be treated as labels (consistent with DataFrame behavior). To access a value by position, use `ser.iloc[pos]`\n",
      "  ret[feature] = int(self.lambdas[feature](ret[feature]))\n",
      "/Users/ygao/Library/Caches/pypoetry/virtualenvs/program-i-Fez0zm-py3.10/lib/python3.10/site-packages/lime/discretize.py:110: FutureWarning: Series.__setitem__ treating keys as positions is deprecated. In a future version, integer keys will always be treated as labels (consistent with DataFrame behavior). To set a value by position, use `ser.iloc[pos] = value`\n",
      "  ret[feature] = int(self.lambdas[feature](ret[feature]))\n",
      "/Users/ygao/Library/Caches/pypoetry/virtualenvs/program-i-Fez0zm-py3.10/lib/python3.10/site-packages/lime/lime_tabular.py:427: FutureWarning: Series.__getitem__ treating keys as positions is deprecated. In a future version, integer keys will always be treated as labels (consistent with DataFrame behavior). To access a value by position, use `ser.iloc[pos]`\n",
      "  discretized_instance[f])]\n",
      "/Users/ygao/Library/Caches/pypoetry/virtualenvs/program-i-Fez0zm-py3.10/lib/python3.10/site-packages/lime/discretize.py:110: FutureWarning: Series.__getitem__ treating keys as positions is deprecated. In a future version, integer keys will always be treated as labels (consistent with DataFrame behavior). To access a value by position, use `ser.iloc[pos]`\n",
      "  ret[feature] = int(self.lambdas[feature](ret[feature]))\n",
      "/Users/ygao/Library/Caches/pypoetry/virtualenvs/program-i-Fez0zm-py3.10/lib/python3.10/site-packages/lime/discretize.py:110: FutureWarning: Series.__setitem__ treating keys as positions is deprecated. In a future version, integer keys will always be treated as labels (consistent with DataFrame behavior). To set a value by position, use `ser.iloc[pos] = value`\n",
      "  ret[feature] = int(self.lambdas[feature](ret[feature]))\n",
      "/Users/ygao/Library/Caches/pypoetry/virtualenvs/program-i-Fez0zm-py3.10/lib/python3.10/site-packages/lime/lime_tabular.py:544: FutureWarning: Series.__getitem__ treating keys as positions is deprecated. In a future version, integer keys will always be treated as labels (consistent with DataFrame behavior). To access a value by position, use `ser.iloc[pos]`\n",
      "  binary_column = (inverse_column == first_row[column]).astype(int)\n"
     ]
    },
    {
     "name": "stdout",
     "output_type": "stream",
     "text": [
      "157/157 [==============================] - 0s 1ms/step\n",
      " 85/157 [===============>..............] - ETA: 0s"
     ]
    },
    {
     "name": "stderr",
     "output_type": "stream",
     "text": [
      "/Users/ygao/Library/Caches/pypoetry/virtualenvs/program-i-Fez0zm-py3.10/lib/python3.10/site-packages/lime/discretize.py:110: FutureWarning: Series.__getitem__ treating keys as positions is deprecated. In a future version, integer keys will always be treated as labels (consistent with DataFrame behavior). To access a value by position, use `ser.iloc[pos]`\n",
      "  ret[feature] = int(self.lambdas[feature](ret[feature]))\n",
      "/Users/ygao/Library/Caches/pypoetry/virtualenvs/program-i-Fez0zm-py3.10/lib/python3.10/site-packages/lime/discretize.py:110: FutureWarning: Series.__setitem__ treating keys as positions is deprecated. In a future version, integer keys will always be treated as labels (consistent with DataFrame behavior). To set a value by position, use `ser.iloc[pos] = value`\n",
      "  ret[feature] = int(self.lambdas[feature](ret[feature]))\n",
      "/Users/ygao/Library/Caches/pypoetry/virtualenvs/program-i-Fez0zm-py3.10/lib/python3.10/site-packages/lime/lime_tabular.py:427: FutureWarning: Series.__getitem__ treating keys as positions is deprecated. In a future version, integer keys will always be treated as labels (consistent with DataFrame behavior). To access a value by position, use `ser.iloc[pos]`\n",
      "  discretized_instance[f])]\n",
      "/Users/ygao/Library/Caches/pypoetry/virtualenvs/program-i-Fez0zm-py3.10/lib/python3.10/site-packages/lime/discretize.py:110: FutureWarning: Series.__getitem__ treating keys as positions is deprecated. In a future version, integer keys will always be treated as labels (consistent with DataFrame behavior). To access a value by position, use `ser.iloc[pos]`\n",
      "  ret[feature] = int(self.lambdas[feature](ret[feature]))\n",
      "/Users/ygao/Library/Caches/pypoetry/virtualenvs/program-i-Fez0zm-py3.10/lib/python3.10/site-packages/lime/discretize.py:110: FutureWarning: Series.__setitem__ treating keys as positions is deprecated. In a future version, integer keys will always be treated as labels (consistent with DataFrame behavior). To set a value by position, use `ser.iloc[pos] = value`\n",
      "  ret[feature] = int(self.lambdas[feature](ret[feature]))\n",
      "/Users/ygao/Library/Caches/pypoetry/virtualenvs/program-i-Fez0zm-py3.10/lib/python3.10/site-packages/lime/lime_tabular.py:544: FutureWarning: Series.__getitem__ treating keys as positions is deprecated. In a future version, integer keys will always be treated as labels (consistent with DataFrame behavior). To access a value by position, use `ser.iloc[pos]`\n",
      "  binary_column = (inverse_column == first_row[column]).astype(int)\n"
     ]
    },
    {
     "name": "stdout",
     "output_type": "stream",
     "text": [
      "157/157 [==============================] - 0s 1ms/step\n",
      " 87/157 [===============>..............] - ETA: 0s"
     ]
    },
    {
     "name": "stderr",
     "output_type": "stream",
     "text": [
      "/Users/ygao/Library/Caches/pypoetry/virtualenvs/program-i-Fez0zm-py3.10/lib/python3.10/site-packages/lime/discretize.py:110: FutureWarning: Series.__getitem__ treating keys as positions is deprecated. In a future version, integer keys will always be treated as labels (consistent with DataFrame behavior). To access a value by position, use `ser.iloc[pos]`\n",
      "  ret[feature] = int(self.lambdas[feature](ret[feature]))\n",
      "/Users/ygao/Library/Caches/pypoetry/virtualenvs/program-i-Fez0zm-py3.10/lib/python3.10/site-packages/lime/discretize.py:110: FutureWarning: Series.__setitem__ treating keys as positions is deprecated. In a future version, integer keys will always be treated as labels (consistent with DataFrame behavior). To set a value by position, use `ser.iloc[pos] = value`\n",
      "  ret[feature] = int(self.lambdas[feature](ret[feature]))\n",
      "/Users/ygao/Library/Caches/pypoetry/virtualenvs/program-i-Fez0zm-py3.10/lib/python3.10/site-packages/lime/lime_tabular.py:427: FutureWarning: Series.__getitem__ treating keys as positions is deprecated. In a future version, integer keys will always be treated as labels (consistent with DataFrame behavior). To access a value by position, use `ser.iloc[pos]`\n",
      "  discretized_instance[f])]\n",
      "/Users/ygao/Library/Caches/pypoetry/virtualenvs/program-i-Fez0zm-py3.10/lib/python3.10/site-packages/lime/discretize.py:110: FutureWarning: Series.__getitem__ treating keys as positions is deprecated. In a future version, integer keys will always be treated as labels (consistent with DataFrame behavior). To access a value by position, use `ser.iloc[pos]`\n",
      "  ret[feature] = int(self.lambdas[feature](ret[feature]))\n",
      "/Users/ygao/Library/Caches/pypoetry/virtualenvs/program-i-Fez0zm-py3.10/lib/python3.10/site-packages/lime/discretize.py:110: FutureWarning: Series.__setitem__ treating keys as positions is deprecated. In a future version, integer keys will always be treated as labels (consistent with DataFrame behavior). To set a value by position, use `ser.iloc[pos] = value`\n",
      "  ret[feature] = int(self.lambdas[feature](ret[feature]))\n",
      "/Users/ygao/Library/Caches/pypoetry/virtualenvs/program-i-Fez0zm-py3.10/lib/python3.10/site-packages/lime/lime_tabular.py:544: FutureWarning: Series.__getitem__ treating keys as positions is deprecated. In a future version, integer keys will always be treated as labels (consistent with DataFrame behavior). To access a value by position, use `ser.iloc[pos]`\n",
      "  binary_column = (inverse_column == first_row[column]).astype(int)\n"
     ]
    },
    {
     "name": "stdout",
     "output_type": "stream",
     "text": [
      "157/157 [==============================] - 0s 1ms/step\n",
      " 30/157 [====>.........................] - ETA: 0s"
     ]
    },
    {
     "name": "stderr",
     "output_type": "stream",
     "text": [
      "/Users/ygao/Library/Caches/pypoetry/virtualenvs/program-i-Fez0zm-py3.10/lib/python3.10/site-packages/lime/discretize.py:110: FutureWarning: Series.__getitem__ treating keys as positions is deprecated. In a future version, integer keys will always be treated as labels (consistent with DataFrame behavior). To access a value by position, use `ser.iloc[pos]`\n",
      "  ret[feature] = int(self.lambdas[feature](ret[feature]))\n",
      "/Users/ygao/Library/Caches/pypoetry/virtualenvs/program-i-Fez0zm-py3.10/lib/python3.10/site-packages/lime/discretize.py:110: FutureWarning: Series.__setitem__ treating keys as positions is deprecated. In a future version, integer keys will always be treated as labels (consistent with DataFrame behavior). To set a value by position, use `ser.iloc[pos] = value`\n",
      "  ret[feature] = int(self.lambdas[feature](ret[feature]))\n",
      "/Users/ygao/Library/Caches/pypoetry/virtualenvs/program-i-Fez0zm-py3.10/lib/python3.10/site-packages/lime/lime_tabular.py:427: FutureWarning: Series.__getitem__ treating keys as positions is deprecated. In a future version, integer keys will always be treated as labels (consistent with DataFrame behavior). To access a value by position, use `ser.iloc[pos]`\n",
      "  discretized_instance[f])]\n",
      "/Users/ygao/Library/Caches/pypoetry/virtualenvs/program-i-Fez0zm-py3.10/lib/python3.10/site-packages/lime/discretize.py:110: FutureWarning: Series.__getitem__ treating keys as positions is deprecated. In a future version, integer keys will always be treated as labels (consistent with DataFrame behavior). To access a value by position, use `ser.iloc[pos]`\n",
      "  ret[feature] = int(self.lambdas[feature](ret[feature]))\n",
      "/Users/ygao/Library/Caches/pypoetry/virtualenvs/program-i-Fez0zm-py3.10/lib/python3.10/site-packages/lime/discretize.py:110: FutureWarning: Series.__setitem__ treating keys as positions is deprecated. In a future version, integer keys will always be treated as labels (consistent with DataFrame behavior). To set a value by position, use `ser.iloc[pos] = value`\n",
      "  ret[feature] = int(self.lambdas[feature](ret[feature]))\n",
      "/Users/ygao/Library/Caches/pypoetry/virtualenvs/program-i-Fez0zm-py3.10/lib/python3.10/site-packages/lime/lime_tabular.py:544: FutureWarning: Series.__getitem__ treating keys as positions is deprecated. In a future version, integer keys will always be treated as labels (consistent with DataFrame behavior). To access a value by position, use `ser.iloc[pos]`\n",
      "  binary_column = (inverse_column == first_row[column]).astype(int)\n"
     ]
    },
    {
     "name": "stdout",
     "output_type": "stream",
     "text": [
      "157/157 [==============================] - 0s 1ms/step\n",
      " 60/157 [==========>...................] - ETA: 0s"
     ]
    },
    {
     "name": "stderr",
     "output_type": "stream",
     "text": [
      "/Users/ygao/Library/Caches/pypoetry/virtualenvs/program-i-Fez0zm-py3.10/lib/python3.10/site-packages/lime/discretize.py:110: FutureWarning: Series.__getitem__ treating keys as positions is deprecated. In a future version, integer keys will always be treated as labels (consistent with DataFrame behavior). To access a value by position, use `ser.iloc[pos]`\n",
      "  ret[feature] = int(self.lambdas[feature](ret[feature]))\n",
      "/Users/ygao/Library/Caches/pypoetry/virtualenvs/program-i-Fez0zm-py3.10/lib/python3.10/site-packages/lime/discretize.py:110: FutureWarning: Series.__setitem__ treating keys as positions is deprecated. In a future version, integer keys will always be treated as labels (consistent with DataFrame behavior). To set a value by position, use `ser.iloc[pos] = value`\n",
      "  ret[feature] = int(self.lambdas[feature](ret[feature]))\n",
      "/Users/ygao/Library/Caches/pypoetry/virtualenvs/program-i-Fez0zm-py3.10/lib/python3.10/site-packages/lime/lime_tabular.py:427: FutureWarning: Series.__getitem__ treating keys as positions is deprecated. In a future version, integer keys will always be treated as labels (consistent with DataFrame behavior). To access a value by position, use `ser.iloc[pos]`\n",
      "  discretized_instance[f])]\n",
      "/Users/ygao/Library/Caches/pypoetry/virtualenvs/program-i-Fez0zm-py3.10/lib/python3.10/site-packages/lime/discretize.py:110: FutureWarning: Series.__getitem__ treating keys as positions is deprecated. In a future version, integer keys will always be treated as labels (consistent with DataFrame behavior). To access a value by position, use `ser.iloc[pos]`\n",
      "  ret[feature] = int(self.lambdas[feature](ret[feature]))\n",
      "/Users/ygao/Library/Caches/pypoetry/virtualenvs/program-i-Fez0zm-py3.10/lib/python3.10/site-packages/lime/discretize.py:110: FutureWarning: Series.__setitem__ treating keys as positions is deprecated. In a future version, integer keys will always be treated as labels (consistent with DataFrame behavior). To set a value by position, use `ser.iloc[pos] = value`\n",
      "  ret[feature] = int(self.lambdas[feature](ret[feature]))\n",
      "/Users/ygao/Library/Caches/pypoetry/virtualenvs/program-i-Fez0zm-py3.10/lib/python3.10/site-packages/lime/lime_tabular.py:544: FutureWarning: Series.__getitem__ treating keys as positions is deprecated. In a future version, integer keys will always be treated as labels (consistent with DataFrame behavior). To access a value by position, use `ser.iloc[pos]`\n",
      "  binary_column = (inverse_column == first_row[column]).astype(int)\n"
     ]
    },
    {
     "name": "stdout",
     "output_type": "stream",
     "text": [
      "157/157 [==============================] - 0s 1ms/step\n",
      " 58/157 [==========>...................] - ETA: 0s"
     ]
    },
    {
     "name": "stderr",
     "output_type": "stream",
     "text": [
      "/Users/ygao/Library/Caches/pypoetry/virtualenvs/program-i-Fez0zm-py3.10/lib/python3.10/site-packages/lime/discretize.py:110: FutureWarning: Series.__getitem__ treating keys as positions is deprecated. In a future version, integer keys will always be treated as labels (consistent with DataFrame behavior). To access a value by position, use `ser.iloc[pos]`\n",
      "  ret[feature] = int(self.lambdas[feature](ret[feature]))\n",
      "/Users/ygao/Library/Caches/pypoetry/virtualenvs/program-i-Fez0zm-py3.10/lib/python3.10/site-packages/lime/discretize.py:110: FutureWarning: Series.__setitem__ treating keys as positions is deprecated. In a future version, integer keys will always be treated as labels (consistent with DataFrame behavior). To set a value by position, use `ser.iloc[pos] = value`\n",
      "  ret[feature] = int(self.lambdas[feature](ret[feature]))\n",
      "/Users/ygao/Library/Caches/pypoetry/virtualenvs/program-i-Fez0zm-py3.10/lib/python3.10/site-packages/lime/lime_tabular.py:427: FutureWarning: Series.__getitem__ treating keys as positions is deprecated. In a future version, integer keys will always be treated as labels (consistent with DataFrame behavior). To access a value by position, use `ser.iloc[pos]`\n",
      "  discretized_instance[f])]\n",
      "/Users/ygao/Library/Caches/pypoetry/virtualenvs/program-i-Fez0zm-py3.10/lib/python3.10/site-packages/lime/discretize.py:110: FutureWarning: Series.__getitem__ treating keys as positions is deprecated. In a future version, integer keys will always be treated as labels (consistent with DataFrame behavior). To access a value by position, use `ser.iloc[pos]`\n",
      "  ret[feature] = int(self.lambdas[feature](ret[feature]))\n",
      "/Users/ygao/Library/Caches/pypoetry/virtualenvs/program-i-Fez0zm-py3.10/lib/python3.10/site-packages/lime/discretize.py:110: FutureWarning: Series.__setitem__ treating keys as positions is deprecated. In a future version, integer keys will always be treated as labels (consistent with DataFrame behavior). To set a value by position, use `ser.iloc[pos] = value`\n",
      "  ret[feature] = int(self.lambdas[feature](ret[feature]))\n",
      "/Users/ygao/Library/Caches/pypoetry/virtualenvs/program-i-Fez0zm-py3.10/lib/python3.10/site-packages/lime/lime_tabular.py:544: FutureWarning: Series.__getitem__ treating keys as positions is deprecated. In a future version, integer keys will always be treated as labels (consistent with DataFrame behavior). To access a value by position, use `ser.iloc[pos]`\n",
      "  binary_column = (inverse_column == first_row[column]).astype(int)\n"
     ]
    },
    {
     "name": "stdout",
     "output_type": "stream",
     "text": [
      "157/157 [==============================] - 0s 1ms/step\n",
      " 61/157 [==========>...................] - ETA: 0s"
     ]
    },
    {
     "name": "stderr",
     "output_type": "stream",
     "text": [
      "/Users/ygao/Library/Caches/pypoetry/virtualenvs/program-i-Fez0zm-py3.10/lib/python3.10/site-packages/lime/discretize.py:110: FutureWarning: Series.__getitem__ treating keys as positions is deprecated. In a future version, integer keys will always be treated as labels (consistent with DataFrame behavior). To access a value by position, use `ser.iloc[pos]`\n",
      "  ret[feature] = int(self.lambdas[feature](ret[feature]))\n",
      "/Users/ygao/Library/Caches/pypoetry/virtualenvs/program-i-Fez0zm-py3.10/lib/python3.10/site-packages/lime/discretize.py:110: FutureWarning: Series.__setitem__ treating keys as positions is deprecated. In a future version, integer keys will always be treated as labels (consistent with DataFrame behavior). To set a value by position, use `ser.iloc[pos] = value`\n",
      "  ret[feature] = int(self.lambdas[feature](ret[feature]))\n",
      "/Users/ygao/Library/Caches/pypoetry/virtualenvs/program-i-Fez0zm-py3.10/lib/python3.10/site-packages/lime/lime_tabular.py:427: FutureWarning: Series.__getitem__ treating keys as positions is deprecated. In a future version, integer keys will always be treated as labels (consistent with DataFrame behavior). To access a value by position, use `ser.iloc[pos]`\n",
      "  discretized_instance[f])]\n",
      "/Users/ygao/Library/Caches/pypoetry/virtualenvs/program-i-Fez0zm-py3.10/lib/python3.10/site-packages/lime/discretize.py:110: FutureWarning: Series.__getitem__ treating keys as positions is deprecated. In a future version, integer keys will always be treated as labels (consistent with DataFrame behavior). To access a value by position, use `ser.iloc[pos]`\n",
      "  ret[feature] = int(self.lambdas[feature](ret[feature]))\n",
      "/Users/ygao/Library/Caches/pypoetry/virtualenvs/program-i-Fez0zm-py3.10/lib/python3.10/site-packages/lime/discretize.py:110: FutureWarning: Series.__setitem__ treating keys as positions is deprecated. In a future version, integer keys will always be treated as labels (consistent with DataFrame behavior). To set a value by position, use `ser.iloc[pos] = value`\n",
      "  ret[feature] = int(self.lambdas[feature](ret[feature]))\n",
      "/Users/ygao/Library/Caches/pypoetry/virtualenvs/program-i-Fez0zm-py3.10/lib/python3.10/site-packages/lime/lime_tabular.py:544: FutureWarning: Series.__getitem__ treating keys as positions is deprecated. In a future version, integer keys will always be treated as labels (consistent with DataFrame behavior). To access a value by position, use `ser.iloc[pos]`\n",
      "  binary_column = (inverse_column == first_row[column]).astype(int)\n"
     ]
    },
    {
     "name": "stdout",
     "output_type": "stream",
     "text": [
      "157/157 [==============================] - 0s 1ms/step\n",
      " 31/157 [====>.........................] - ETA: 0s"
     ]
    },
    {
     "name": "stderr",
     "output_type": "stream",
     "text": [
      "/Users/ygao/Library/Caches/pypoetry/virtualenvs/program-i-Fez0zm-py3.10/lib/python3.10/site-packages/lime/discretize.py:110: FutureWarning: Series.__getitem__ treating keys as positions is deprecated. In a future version, integer keys will always be treated as labels (consistent with DataFrame behavior). To access a value by position, use `ser.iloc[pos]`\n",
      "  ret[feature] = int(self.lambdas[feature](ret[feature]))\n",
      "/Users/ygao/Library/Caches/pypoetry/virtualenvs/program-i-Fez0zm-py3.10/lib/python3.10/site-packages/lime/discretize.py:110: FutureWarning: Series.__setitem__ treating keys as positions is deprecated. In a future version, integer keys will always be treated as labels (consistent with DataFrame behavior). To set a value by position, use `ser.iloc[pos] = value`\n",
      "  ret[feature] = int(self.lambdas[feature](ret[feature]))\n",
      "/Users/ygao/Library/Caches/pypoetry/virtualenvs/program-i-Fez0zm-py3.10/lib/python3.10/site-packages/lime/lime_tabular.py:427: FutureWarning: Series.__getitem__ treating keys as positions is deprecated. In a future version, integer keys will always be treated as labels (consistent with DataFrame behavior). To access a value by position, use `ser.iloc[pos]`\n",
      "  discretized_instance[f])]\n",
      "/Users/ygao/Library/Caches/pypoetry/virtualenvs/program-i-Fez0zm-py3.10/lib/python3.10/site-packages/lime/discretize.py:110: FutureWarning: Series.__getitem__ treating keys as positions is deprecated. In a future version, integer keys will always be treated as labels (consistent with DataFrame behavior). To access a value by position, use `ser.iloc[pos]`\n",
      "  ret[feature] = int(self.lambdas[feature](ret[feature]))\n",
      "/Users/ygao/Library/Caches/pypoetry/virtualenvs/program-i-Fez0zm-py3.10/lib/python3.10/site-packages/lime/discretize.py:110: FutureWarning: Series.__setitem__ treating keys as positions is deprecated. In a future version, integer keys will always be treated as labels (consistent with DataFrame behavior). To set a value by position, use `ser.iloc[pos] = value`\n",
      "  ret[feature] = int(self.lambdas[feature](ret[feature]))\n",
      "/Users/ygao/Library/Caches/pypoetry/virtualenvs/program-i-Fez0zm-py3.10/lib/python3.10/site-packages/lime/lime_tabular.py:544: FutureWarning: Series.__getitem__ treating keys as positions is deprecated. In a future version, integer keys will always be treated as labels (consistent with DataFrame behavior). To access a value by position, use `ser.iloc[pos]`\n",
      "  binary_column = (inverse_column == first_row[column]).astype(int)\n"
     ]
    },
    {
     "name": "stdout",
     "output_type": "stream",
     "text": [
      "157/157 [==============================] - 0s 1ms/step\n"
     ]
    },
    {
     "name": "stderr",
     "output_type": "stream",
     "text": [
      "/Users/ygao/Library/Caches/pypoetry/virtualenvs/program-i-Fez0zm-py3.10/lib/python3.10/site-packages/lime/discretize.py:110: FutureWarning: Series.__getitem__ treating keys as positions is deprecated. In a future version, integer keys will always be treated as labels (consistent with DataFrame behavior). To access a value by position, use `ser.iloc[pos]`\n",
      "  ret[feature] = int(self.lambdas[feature](ret[feature]))\n",
      "/Users/ygao/Library/Caches/pypoetry/virtualenvs/program-i-Fez0zm-py3.10/lib/python3.10/site-packages/lime/discretize.py:110: FutureWarning: Series.__setitem__ treating keys as positions is deprecated. In a future version, integer keys will always be treated as labels (consistent with DataFrame behavior). To set a value by position, use `ser.iloc[pos] = value`\n",
      "  ret[feature] = int(self.lambdas[feature](ret[feature]))\n",
      "/Users/ygao/Library/Caches/pypoetry/virtualenvs/program-i-Fez0zm-py3.10/lib/python3.10/site-packages/lime/lime_tabular.py:427: FutureWarning: Series.__getitem__ treating keys as positions is deprecated. In a future version, integer keys will always be treated as labels (consistent with DataFrame behavior). To access a value by position, use `ser.iloc[pos]`\n",
      "  discretized_instance[f])]\n"
     ]
    }
   ],
   "source": [
    "gbt_explanation_lime = gbt_model.explain_lime(X_test.loc[[PLOT]])"
   ],
   "metadata": {
    "collapsed": false,
    "ExecuteTime": {
     "end_time": "2024-06-13T03:17:25.754955Z",
     "start_time": "2024-06-13T03:17:02.790621Z"
    }
   },
   "id": "fd5ed4936b6aafad"
  },
  {
   "cell_type": "code",
   "execution_count": 81,
   "outputs": [],
   "source": [
    "gbt_explanation_shap=gbt_model.explain_shap(X_test.loc[[PLOT]])"
   ],
   "metadata": {
    "collapsed": false,
    "ExecuteTime": {
     "end_time": "2024-06-13T03:21:49.727348Z",
     "start_time": "2024-06-13T03:21:44.720059Z"
    }
   },
   "id": "eff3d952fd3aee2b"
  },
  {
   "cell_type": "code",
   "execution_count": 276,
   "outputs": [
    {
     "name": "stdout",
     "output_type": "stream",
     "text": [
      "Explanation 1:\n",
      "As List of Tuples (feature_id, weight):\n",
      "Feature pH > 0.58: 0.017892209584409294\n",
      "Feature fixed acidity > 0.51: 0.008436730834158022\n",
      "Feature sulphates > 0.42: -0.005740592947002896\n",
      "Feature free sulfur dioxide > 0.54: 0.004861332792311368\n",
      "Feature volatile acidity > 0.61: 0.0037410887659170776\n",
      "Feature total sulfur dioxide > 0.46: 0.003492116150480877\n",
      "Feature -0.06 < citric acid <= 0.80: -0.0032255088898253195\n",
      "Feature residual sugar > 0.05: 0.001984101346138859\n",
      "Feature alcohol > 0.59: 0.001333666222415489\n",
      "Feature density > 0.58: -0.0007566092598251247\n",
      "Feature chlorides > 0.05: -0.0004663284558798496\n",
      "\n",
      "\n",
      "Explanation 2:\n",
      "As List of Tuples (feature_id, weight):\n",
      "Feature pH > 0.58: 0.02312904824867024\n",
      "Feature volatile acidity > 0.61: 0.011954582579777833\n",
      "Feature sulphates > 0.42: -0.009955383766836197\n",
      "Feature chlorides > 0.05: -0.007019666963270756\n",
      "Feature fixed acidity > 0.51: 0.006944418285470597\n",
      "Feature -0.06 < citric acid <= 0.80: -0.003761824687769559\n",
      "Feature total sulfur dioxide > 0.46: 0.003412889408316483\n",
      "Feature density > 0.58: 0.002840616516170431\n",
      "Feature residual sugar > 0.05: 0.0026962601696459095\n",
      "Feature free sulfur dioxide > 0.54: 0.0021248784533449212\n",
      "Feature alcohol > 0.59: 0.0020984906934620306\n",
      "\n",
      "\n",
      "Explanation 3:\n",
      "As List of Tuples (feature_id, weight):\n",
      "Feature free sulfur dioxide > 0.54: 0.03189346010777756\n",
      "Feature volatile acidity > 0.61: 0.022166853325000686\n",
      "Feature pH > 0.58: 0.016330277004005064\n",
      "Feature total sulfur dioxide > 0.46: -0.00975871619643088\n",
      "Feature fixed acidity > 0.51: 0.008713677849450992\n",
      "Feature chlorides > 0.05: -0.00613880599734545\n",
      "Feature alcohol > 0.59: -0.006138505963761856\n",
      "Feature density > 0.58: 0.004930938394556737\n",
      "Feature sulphates > 0.42: -0.004324517021313913\n",
      "Feature residual sugar > 0.05: 0.0005574840597064563\n",
      "Feature -0.06 < citric acid <= 0.80: -0.00035068106914853183\n",
      "\n",
      "\n",
      "Explanation 4:\n",
      "As List of Tuples (feature_id, weight):\n",
      "Feature pH > 0.58: 0.024336100073162687\n",
      "Feature sulphates > 0.42: -0.014868891029950811\n",
      "Feature fixed acidity > 0.51: 0.014191040469069941\n",
      "Feature volatile acidity > 0.61: 0.014073232890371871\n",
      "Feature alcohol > 0.59: -0.010266196006648059\n",
      "Feature chlorides > 0.05: -0.00805475560910473\n",
      "Feature -0.06 < citric acid <= 0.80: -0.0062135554010882355\n",
      "Feature density > 0.58: 0.005829746452552364\n",
      "Feature total sulfur dioxide > 0.46: -0.00411041104546706\n",
      "Feature free sulfur dioxide > 0.54: 0.003059568524959657\n",
      "Feature residual sugar > 0.05: 0.00188395415819932\n",
      "\n",
      "\n",
      "Explanation 5:\n",
      "As List of Tuples (feature_id, weight):\n",
      "Feature volatile acidity > 0.61: 0.02014830703389636\n",
      "Feature pH > 0.58: 0.015500419875818844\n",
      "Feature fixed acidity > 0.51: 0.00835374121106468\n",
      "Feature free sulfur dioxide > 0.54: 0.007726406760214791\n",
      "Feature sulphates > 0.42: -0.006006683929032887\n",
      "Feature chlorides > 0.05: -0.005426699969520226\n",
      "Feature density > 0.58: 0.005087468357964755\n",
      "Feature residual sugar > 0.05: 0.003675229943116981\n",
      "Feature total sulfur dioxide > 0.46: -0.003400033632864346\n",
      "Feature alcohol > 0.59: -0.003281657616040855\n",
      "Feature -0.06 < citric acid <= 0.80: -0.00026740726174509163\n",
      "\n",
      "\n",
      "Explanation 6:\n",
      "As List of Tuples (feature_id, weight):\n",
      "Feature pH > 0.58: 0.03361175615504659\n",
      "Feature sulphates > 0.42: -0.011184796184999074\n",
      "Feature residual sugar > 0.05: 0.008895899053612244\n",
      "Feature free sulfur dioxide > 0.54: 0.00871573896904447\n",
      "Feature total sulfur dioxide > 0.46: -0.006355430503487332\n",
      "Feature fixed acidity > 0.51: 0.004093968596762562\n",
      "Feature volatile acidity > 0.61: 0.0037761844127372096\n",
      "Feature alcohol > 0.59: -0.0019504371606343725\n",
      "Feature chlorides > 0.05: -0.001577415401531594\n",
      "Feature density > 0.58: -0.00042869771318990656\n",
      "Feature -0.06 < citric acid <= 0.80: 0.0004232034976498648\n",
      "\n",
      "\n",
      "Explanation 7:\n",
      "As List of Tuples (feature_id, weight):\n",
      "Feature pH > 0.58: 0.013294603285013367\n",
      "Feature fixed acidity > 0.51: 0.013217357801391806\n",
      "Feature volatile acidity > 0.61: 0.011621332140862356\n",
      "Feature sulphates > 0.42: -0.00927117586192302\n",
      "Feature density > 0.58: 0.007888597602035483\n",
      "Feature chlorides > 0.05: -0.007672815540539718\n",
      "Feature -0.06 < citric acid <= 0.80: -0.005954353821136287\n",
      "Feature total sulfur dioxide > 0.46: -0.00582397050929254\n",
      "Feature free sulfur dioxide > 0.54: 0.002468170753330999\n",
      "Feature residual sugar > 0.05: 0.0002512687693090343\n",
      "Feature alcohol > 0.59: -0.00014245240338772746\n",
      "\n",
      "\n",
      "Explanation 8:\n",
      "As List of Tuples (feature_id, weight):\n",
      "Feature volatile acidity > 0.61: 0.013308545091013877\n",
      "Feature pH > 0.58: 0.012198355111353653\n",
      "Feature chlorides > 0.05: -0.004087237011437444\n",
      "Feature -0.06 < citric acid <= 0.80: -0.0017032827975324099\n",
      "Feature fixed acidity > 0.51: -0.0016271184359204986\n",
      "Feature total sulfur dioxide > 0.46: -0.0010710675224746505\n",
      "Feature sulphates > 0.42: -0.0008644923591440069\n",
      "Feature density > 0.58: -0.00042878988593371815\n",
      "Feature residual sugar > 0.05: 0.00010938608892123488\n",
      "Feature free sulfur dioxide > 0.54: -4.583670677372752e-05\n",
      "Feature alcohol > 0.59: -2.0469612631128555e-06\n",
      "\n",
      "\n",
      "Explanation 9:\n",
      "As List of Tuples (feature_id, weight):\n",
      "Feature volatile acidity > 0.61: 0.018748129157798755\n",
      "Feature pH > 0.58: 0.016238620585698773\n",
      "Feature fixed acidity > 0.51: 0.01576887301293482\n",
      "Feature sulphates > 0.42: -0.007741789933184435\n",
      "Feature density > 0.58: 0.006833034409809488\n",
      "Feature free sulfur dioxide > 0.54: 0.004451131469988939\n",
      "Feature total sulfur dioxide > 0.46: -0.004392241506637518\n",
      "Feature alcohol > 0.59: -0.0024079218558877608\n",
      "Feature chlorides > 0.05: -0.002214236444831038\n",
      "Feature -0.06 < citric acid <= 0.80: -0.0021568880146466255\n",
      "Feature residual sugar > 0.05: -0.0013359637829177052\n",
      "\n",
      "\n",
      "Explanation 10:\n",
      "As List of Tuples (feature_id, weight):\n",
      "Feature pH > 0.58: 0.032356097055521144\n",
      "Feature sulphates > 0.42: -0.015896179820847456\n",
      "Feature fixed acidity > 0.51: 0.014645185179332774\n",
      "Feature free sulfur dioxide > 0.54: 0.01340792496293288\n",
      "Feature density > 0.58: 0.01008181557820943\n",
      "Feature volatile acidity > 0.61: 0.008338141547708643\n",
      "Feature alcohol > 0.59: -0.006926695669353291\n",
      "Feature total sulfur dioxide > 0.46: -0.005209351638517504\n",
      "Feature -0.06 < citric acid <= 0.80: -0.0049472637079121815\n",
      "Feature residual sugar > 0.05: 0.0034860234384702696\n",
      "Feature chlorides > 0.05: -0.0006164071579600431\n",
      "\n",
      "\n",
      "Explanation 11:\n",
      "As List of Tuples (feature_id, weight):\n",
      "Feature volatile acidity > 0.61: 0.019545834617631\n",
      "Feature density > 0.58: 0.00798614947897794\n",
      "Feature pH > 0.58: 0.0076449810790273085\n",
      "Feature alcohol > 0.59: -0.006106349296941909\n",
      "Feature free sulfur dioxide > 0.54: 0.004330053326008309\n",
      "Feature residual sugar > 0.05: 0.0028499691848667638\n",
      "Feature -0.06 < citric acid <= 0.80: -0.0024469784518366647\n",
      "Feature total sulfur dioxide > 0.46: -0.0020436788644860116\n",
      "Feature fixed acidity > 0.51: 0.0015886546702544712\n",
      "Feature chlorides > 0.05: -0.0013816267590771331\n",
      "Feature sulphates > 0.42: 0.00022218072708518965\n",
      "\n",
      "\n",
      "Explanation 12:\n",
      "As List of Tuples (feature_id, weight):\n",
      "Feature pH > 0.58: 0.026560478391634668\n",
      "Feature volatile acidity > 0.61: 0.01890861067562365\n",
      "Feature fixed acidity > 0.51: 0.011396312818069222\n",
      "Feature free sulfur dioxide > 0.54: 0.0058015707700575115\n",
      "Feature sulphates > 0.42: -0.005599480085703148\n",
      "Feature alcohol > 0.59: -0.0034095444039454687\n",
      "Feature total sulfur dioxide > 0.46: -0.00331649380985136\n",
      "Feature chlorides > 0.05: 0.0030525909185012694\n",
      "Feature density > 0.58: 0.002693915256396624\n",
      "Feature residual sugar > 0.05: 0.0011169435576702353\n",
      "Feature -0.06 < citric acid <= 0.80: 0.0009178935723084276\n",
      "\n",
      "\n",
      "Explanation 13:\n",
      "As List of Tuples (feature_id, weight):\n",
      "Feature volatile acidity > 0.61: 0.018081656584094632\n",
      "Feature pH > 0.58: 0.0045376306285566425\n",
      "Feature chlorides > 0.05: -0.0034426417957181973\n",
      "Feature alcohol > 0.59: 0.0029508325191234582\n",
      "Feature fixed acidity > 0.51: -0.0027684067438661798\n",
      "Feature sulphates > 0.42: -0.0024574310470338893\n",
      "Feature density > 0.58: -0.0018459950124823732\n",
      "Feature free sulfur dioxide > 0.54: -0.0015957344625959547\n",
      "Feature -0.06 < citric acid <= 0.80: -0.0011687691539234656\n",
      "Feature residual sugar > 0.05: -0.0003238183277712409\n",
      "Feature total sulfur dioxide > 0.46: -0.00031340554091306564\n",
      "\n",
      "\n",
      "Explanation 14:\n",
      "As List of Tuples (feature_id, weight):\n",
      "Feature pH > 0.58: 0.029930202846602957\n",
      "Feature volatile acidity > 0.61: 0.019969357982442194\n",
      "Feature fixed acidity > 0.51: 0.011672426863495053\n",
      "Feature density > 0.58: 0.009319798024551339\n",
      "Feature free sulfur dioxide > 0.54: 0.006298413666672663\n",
      "Feature sulphates > 0.42: -0.0031924611634742603\n",
      "Feature total sulfur dioxide > 0.46: -0.003183381475377822\n",
      "Feature residual sugar > 0.05: 0.0024801911459957126\n",
      "Feature alcohol > 0.59: 0.0015203572440929123\n",
      "Feature -0.06 < citric acid <= 0.80: -0.0010519440759095703\n",
      "Feature chlorides > 0.05: 0.0004836607944424364\n",
      "\n",
      "\n",
      "Explanation 15:\n",
      "As List of Tuples (feature_id, weight):\n",
      "Feature pH > 0.58: 0.01999255016284907\n",
      "Feature fixed acidity > 0.51: 0.013319612541210007\n",
      "Feature free sulfur dioxide > 0.54: 0.011336960068077596\n",
      "Feature sulphates > 0.42: -0.007524466915056872\n",
      "Feature volatile acidity > 0.61: 0.006581389146659189\n",
      "Feature chlorides > 0.05: -0.004348808213471868\n",
      "Feature total sulfur dioxide > 0.46: -0.003814981459550772\n",
      "Feature -0.06 < citric acid <= 0.80: -0.0026998217912184105\n",
      "Feature density > 0.58: -0.002209667066639827\n",
      "Feature alcohol > 0.59: -0.001434665518384988\n",
      "Feature residual sugar > 0.05: -0.0012235309330444286\n",
      "\n",
      "\n",
      "Explanation 16:\n",
      "As List of Tuples (feature_id, weight):\n",
      "Feature pH > 0.58: 0.01867240790582093\n",
      "Feature volatile acidity > 0.61: 0.0115884749509564\n",
      "Feature fixed acidity > 0.51: 0.008696415645480059\n",
      "Feature sulphates > 0.42: -0.005945680537136855\n",
      "Feature -0.06 < citric acid <= 0.80: -0.004993636450101268\n",
      "Feature alcohol > 0.59: 0.004411068750908954\n",
      "Feature free sulfur dioxide > 0.54: 0.00397234000964431\n",
      "Feature residual sugar > 0.05: 0.0030668182051860966\n",
      "Feature chlorides > 0.05: -0.002483108287096324\n",
      "Feature density > 0.58: -0.001693758086287706\n",
      "Feature total sulfur dioxide > 0.46: 0.0009691500267858237\n",
      "\n",
      "\n",
      "Explanation 17:\n",
      "As List of Tuples (feature_id, weight):\n",
      "Feature volatile acidity > 0.61: 0.025994017571796743\n",
      "Feature pH > 0.58: 0.0234861767772301\n",
      "Feature free sulfur dioxide > 0.54: 0.012796296011559277\n",
      "Feature density > 0.58: 0.008082240223857066\n",
      "Feature alcohol > 0.59: -0.00723328519020647\n",
      "Feature total sulfur dioxide > 0.46: -0.005490819698199132\n",
      "Feature sulphates > 0.42: -0.004942014307774024\n",
      "Feature fixed acidity > 0.51: 0.0027849526903132647\n",
      "Feature -0.06 < citric acid <= 0.80: -0.0016656936998058103\n",
      "Feature residual sugar > 0.05: -0.0014377107519281905\n",
      "Feature chlorides > 0.05: -0.0005328921104190906\n",
      "\n",
      "\n",
      "Explanation 18:\n",
      "As List of Tuples (feature_id, weight):\n",
      "Feature volatile acidity > 0.61: 0.022249931525079907\n",
      "Feature pH > 0.58: 0.011333328194056998\n",
      "Feature chlorides > 0.05: -0.00926380531882859\n",
      "Feature fixed acidity > 0.51: 0.008963770152643267\n",
      "Feature sulphates > 0.42: -0.007905164343442808\n",
      "Feature alcohol > 0.59: 0.004938475756181615\n",
      "Feature free sulfur dioxide > 0.54: -0.004237677295994159\n",
      "Feature total sulfur dioxide > 0.46: 0.0020211087626361554\n",
      "Feature density > 0.58: -0.0015793517724064458\n",
      "Feature -0.06 < citric acid <= 0.80: 0.0006827997007150525\n",
      "Feature residual sugar > 0.05: -3.897904852459025e-05\n",
      "\n",
      "\n",
      "Explanation 19:\n",
      "As List of Tuples (feature_id, weight):\n",
      "Feature pH > 0.58: 0.018809991523278183\n",
      "Feature volatile acidity > 0.61: 0.011320816421216512\n",
      "Feature sulphates > 0.42: -0.011173203508367915\n",
      "Feature chlorides > 0.05: -0.009274904245848105\n",
      "Feature fixed acidity > 0.51: 0.007364153389057593\n",
      "Feature residual sugar > 0.05: 0.004792974089146169\n",
      "Feature total sulfur dioxide > 0.46: -0.0031425748536639815\n",
      "Feature -0.06 < citric acid <= 0.80: -0.001886286310865827\n",
      "Feature alcohol > 0.59: -0.0016815400421761211\n",
      "Feature density > 0.58: 0.0010822635230063515\n",
      "Feature free sulfur dioxide > 0.54: 0.0006549147334628443\n",
      "\n",
      "\n",
      "Explanation 20:\n",
      "As List of Tuples (feature_id, weight):\n",
      "Feature free sulfur dioxide > 0.54: 0.023649331530414153\n",
      "Feature pH > 0.58: 0.01725413418695704\n",
      "Feature total sulfur dioxide > 0.46: -0.010511742666670735\n",
      "Feature sulphates > 0.42: -0.007505840924259921\n",
      "Feature volatile acidity > 0.61: 0.0061276670040651396\n",
      "Feature fixed acidity > 0.51: 0.005333762943080225\n",
      "Feature density > 0.58: 0.004396172542453283\n",
      "Feature alcohol > 0.59: -0.002670585987813175\n",
      "Feature -0.06 < citric acid <= 0.80: 0.0012320608287987715\n",
      "Feature chlorides > 0.05: -0.0011861727630253186\n",
      "Feature residual sugar > 0.05: 0.000212932576088731\n",
      "\n",
      "\n",
      "Explanation 21:\n",
      "As List of Tuples (feature_id, weight):\n",
      "Feature pH > 0.58: 0.027720903782853117\n",
      "Feature volatile acidity > 0.61: 0.012069174423888312\n",
      "Feature fixed acidity > 0.51: 0.011816200202744539\n",
      "Feature total sulfur dioxide > 0.46: 0.007358081922418085\n",
      "Feature alcohol > 0.59: -0.007288141181297804\n",
      "Feature sulphates > 0.42: -0.006108312999870603\n",
      "Feature density > 0.58: 0.0027879495851327487\n",
      "Feature chlorides > 0.05: 0.0019133715911036498\n",
      "Feature -0.06 < citric acid <= 0.80: -0.0008815279054638998\n",
      "Feature residual sugar > 0.05: -0.0008001690538335636\n",
      "Feature free sulfur dioxide > 0.54: 0.0006140524290859032\n",
      "\n",
      "\n",
      "Explanation 22:\n",
      "As List of Tuples (feature_id, weight):\n",
      "Feature pH > 0.58: 0.03779821432823058\n",
      "Feature free sulfur dioxide > 0.54: 0.022306358320879325\n",
      "Feature volatile acidity > 0.61: 0.01269004275632593\n",
      "Feature sulphates > 0.42: -0.00791926280909781\n",
      "Feature fixed acidity > 0.51: 0.007075922987628299\n",
      "Feature residual sugar > 0.05: -0.004364043961544443\n",
      "Feature alcohol > 0.59: -0.004027145288560204\n",
      "Feature -0.06 < citric acid <= 0.80: -0.00311077415037603\n",
      "Feature total sulfur dioxide > 0.46: -0.0025894813035730116\n",
      "Feature density > 0.58: 0.0023029031781564378\n",
      "Feature chlorides > 0.05: 0.000962784352878287\n",
      "\n",
      "\n",
      "Explanation 23:\n",
      "As List of Tuples (feature_id, weight):\n",
      "Feature free sulfur dioxide > 0.54: 0.017595094569088043\n",
      "Feature pH > 0.58: 0.01644785592964534\n",
      "Feature volatile acidity > 0.61: 0.015422478122010093\n",
      "Feature sulphates > 0.42: -0.009433698426745803\n",
      "Feature fixed acidity > 0.51: 0.006940070068701619\n",
      "Feature density > 0.58: 0.0066923379664526545\n",
      "Feature alcohol > 0.59: -0.004328528789840477\n",
      "Feature total sulfur dioxide > 0.46: -0.003354914769993209\n",
      "Feature residual sugar > 0.05: 0.003254955185675042\n",
      "Feature chlorides > 0.05: -0.002610152483842579\n",
      "Feature -0.06 < citric acid <= 0.80: -6.358556697542793e-05\n",
      "\n",
      "\n",
      "Explanation 24:\n",
      "As List of Tuples (feature_id, weight):\n",
      "Feature pH > 0.58: 0.053248027357811256\n",
      "Feature free sulfur dioxide > 0.54: 0.02369152238674944\n",
      "Feature sulphates > 0.42: -0.019738878177529826\n",
      "Feature density > 0.58: 0.011416674048656235\n",
      "Feature chlorides > 0.05: 0.00869555670032385\n",
      "Feature total sulfur dioxide > 0.46: -0.007828918354401967\n",
      "Feature -0.06 < citric acid <= 0.80: -0.005352618545206429\n",
      "Feature volatile acidity > 0.61: 0.0044762672521491634\n",
      "Feature fixed acidity > 0.51: 0.0041788069822722654\n",
      "Feature residual sugar > 0.05: -0.003495148998901061\n",
      "Feature alcohol > 0.59: 0.0008179732858336111\n",
      "\n",
      "\n",
      "Explanation 25:\n",
      "As List of Tuples (feature_id, weight):\n",
      "Feature pH > 0.58: 0.00849937654851184\n",
      "Feature free sulfur dioxide > 0.54: 0.007150223263142618\n",
      "Feature volatile acidity > 0.61: 0.0061301707622793845\n",
      "Feature fixed acidity > 0.51: 0.004636789336687082\n",
      "Feature density > 0.58: 0.004582029340360491\n",
      "Feature sulphates > 0.42: -0.004365543859843297\n",
      "Feature chlorides > 0.05: -0.0023607935052339024\n",
      "Feature alcohol > 0.59: 0.0016048979693840354\n",
      "Feature residual sugar > 0.05: 0.0013580670436872278\n",
      "Feature -0.06 < citric acid <= 0.80: -0.0004652201261319367\n",
      "Feature total sulfur dioxide > 0.46: -0.00019402708727148628\n",
      "\n",
      "\n",
      "Explanation 26:\n",
      "As List of Tuples (feature_id, weight):\n",
      "Feature pH > 0.58: 0.0274898926286525\n",
      "Feature residual sugar > 0.05: 0.008451673385381048\n",
      "Feature sulphates > 0.42: -0.008344326479570613\n",
      "Feature fixed acidity > 0.51: 0.006776251606919039\n",
      "Feature chlorides > 0.05: -0.005026577285369212\n",
      "Feature volatile acidity > 0.61: 0.004561348094696833\n",
      "Feature alcohol > 0.59: 0.0031687453212183147\n",
      "Feature -0.06 < citric acid <= 0.80: -0.002472369636921871\n",
      "Feature free sulfur dioxide > 0.54: -0.0024110242107867274\n",
      "Feature total sulfur dioxide > 0.46: -0.0023854885802704878\n",
      "Feature density > 0.58: -1.4695577598819304e-05\n",
      "\n",
      "\n",
      "Explanation 27:\n",
      "As List of Tuples (feature_id, weight):\n",
      "Feature volatile acidity > 0.61: 0.018359890162839083\n",
      "Feature pH > 0.58: 0.018089648845997\n",
      "Feature fixed acidity > 0.51: 0.01652204660380223\n",
      "Feature free sulfur dioxide > 0.54: 0.00792846312014967\n",
      "Feature sulphates > 0.42: -0.0064136871575788046\n",
      "Feature density > 0.58: 0.00558534861554767\n",
      "Feature chlorides > 0.05: -0.004839155037752586\n",
      "Feature residual sugar > 0.05: 0.003986886716051182\n",
      "Feature -0.06 < citric acid <= 0.80: -0.0037051285350972844\n",
      "Feature total sulfur dioxide > 0.46: 0.0031638823135143935\n",
      "Feature alcohol > 0.59: 4.6617986280300836e-05\n",
      "\n",
      "\n",
      "Explanation 28:\n",
      "As List of Tuples (feature_id, weight):\n",
      "Feature volatile acidity > 0.61: 0.018235181198386036\n",
      "Feature free sulfur dioxide > 0.54: 0.014546378948291453\n",
      "Feature pH > 0.58: 0.012855136373214704\n",
      "Feature fixed acidity > 0.51: 0.007904950572492074\n",
      "Feature total sulfur dioxide > 0.46: -0.006579277861096769\n",
      "Feature alcohol > 0.59: -0.00644945468806119\n",
      "Feature sulphates > 0.42: -0.005717823921276704\n",
      "Feature chlorides > 0.05: -0.004817529858703678\n",
      "Feature residual sugar > 0.05: 0.004133240055638248\n",
      "Feature -0.06 < citric acid <= 0.80: -0.0018007093473871544\n",
      "Feature density > 0.58: -0.0001472064717309702\n",
      "\n",
      "\n",
      "Explanation 29:\n",
      "As List of Tuples (feature_id, weight):\n",
      "Feature free sulfur dioxide > 0.54: 0.022174868412409104\n",
      "Feature density > 0.58: 0.013156534644901335\n",
      "Feature pH > 0.58: 0.01136915522072824\n",
      "Feature volatile acidity > 0.61: 0.009528080699572696\n",
      "Feature fixed acidity > 0.51: 0.009233863088336338\n",
      "Feature total sulfur dioxide > 0.46: -0.008391224753229497\n",
      "Feature alcohol > 0.59: -0.006813859482000883\n",
      "Feature -0.06 < citric acid <= 0.80: -0.005501044955796862\n",
      "Feature sulphates > 0.42: -0.005023747291746874\n",
      "Feature residual sugar > 0.05: -0.0007903858802045556\n",
      "Feature chlorides > 0.05: -6.738596287042935e-05\n",
      "\n",
      "\n",
      "Explanation 30:\n",
      "As List of Tuples (feature_id, weight):\n",
      "Feature pH > 0.58: 0.027860390081695035\n",
      "Feature free sulfur dioxide > 0.54: 0.02039080079985377\n",
      "Feature volatile acidity > 0.61: 0.01474572902026516\n",
      "Feature sulphates > 0.42: -0.011474901639025288\n",
      "Feature fixed acidity > 0.51: 0.010418384215267688\n",
      "Feature alcohol > 0.59: 0.009816897476272596\n",
      "Feature density > 0.58: 0.004626677635744552\n",
      "Feature chlorides > 0.05: -0.003480675252318076\n",
      "Feature total sulfur dioxide > 0.46: -0.0026589986534533592\n",
      "Feature residual sugar > 0.05: 0.0015587178701231149\n",
      "Feature -0.06 < citric acid <= 0.80: -0.0012455238574512963\n",
      "\n",
      "\n",
      "Explanation 31:\n",
      "As List of Tuples (feature_id, weight):\n",
      "Feature free sulfur dioxide > 0.54: 0.02314958694691844\n",
      "Feature volatile acidity > 0.61: 0.01567678442053292\n",
      "Feature pH > 0.58: 0.014112395067396042\n",
      "Feature fixed acidity > 0.51: 0.005931077589859394\n",
      "Feature alcohol > 0.59: -0.003676245116096483\n",
      "Feature total sulfur dioxide > 0.46: -0.003097027387771054\n",
      "Feature density > 0.58: 0.0023249075232767793\n",
      "Feature sulphates > 0.42: -0.0017423890628819275\n",
      "Feature residual sugar > 0.05: 0.001728229467826044\n",
      "Feature chlorides > 0.05: -0.0014211380947371406\n",
      "Feature -0.06 < citric acid <= 0.80: -0.0012964822751370519\n",
      "\n",
      "\n",
      "Explanation 32:\n",
      "As List of Tuples (feature_id, weight):\n",
      "Feature residual sugar > 0.05: -0.006849281372114569\n",
      "Feature volatile acidity > 0.61: 0.006570770820947345\n",
      "Feature fixed acidity > 0.51: 0.005452067903635339\n",
      "Feature pH > 0.58: 0.005023190105240125\n",
      "Feature density > 0.58: 0.004379410841467527\n",
      "Feature -0.06 < citric acid <= 0.80: -0.002427669186038329\n",
      "Feature chlorides > 0.05: 0.0018831913671992927\n",
      "Feature sulphates > 0.42: -0.0018126791945625852\n",
      "Feature free sulfur dioxide > 0.54: -0.0015359639572915453\n",
      "Feature total sulfur dioxide > 0.46: -0.00042033360162990784\n",
      "Feature alcohol > 0.59: 0.0001235096635160654\n",
      "\n",
      "\n",
      "Explanation 33:\n",
      "As List of Tuples (feature_id, weight):\n",
      "Feature pH > 0.58: 0.02249483213323171\n",
      "Feature volatile acidity > 0.61: 0.0161933676385822\n",
      "Feature sulphates > 0.42: -0.012100493935474677\n",
      "Feature chlorides > 0.05: -0.00904667283371237\n",
      "Feature total sulfur dioxide > 0.46: -0.006726493977224431\n",
      "Feature residual sugar > 0.05: 0.006443653649725871\n",
      "Feature free sulfur dioxide > 0.54: 0.006433985324702983\n",
      "Feature fixed acidity > 0.51: 0.005617399344552897\n",
      "Feature density > 0.58: -0.0042521642526866495\n",
      "Feature -0.06 < citric acid <= 0.80: -0.001456463237530271\n",
      "Feature alcohol > 0.59: 0.0010590847988573033\n",
      "\n",
      "\n",
      "Explanation 34:\n",
      "As List of Tuples (feature_id, weight):\n",
      "Feature volatile acidity > 0.61: 0.026903105577257003\n",
      "Feature free sulfur dioxide > 0.54: 0.015260617165347682\n",
      "Feature pH > 0.58: 0.013195444824448897\n",
      "Feature density > 0.58: 0.01107863975019403\n",
      "Feature total sulfur dioxide > 0.46: -0.006802163764699138\n",
      "Feature chlorides > 0.05: -0.004259603706579566\n",
      "Feature -0.06 < citric acid <= 0.80: -0.00276269800393985\n",
      "Feature sulphates > 0.42: -0.0016509022187546126\n",
      "Feature alcohol > 0.59: -0.0008240919034880137\n",
      "Feature residual sugar > 0.05: 0.0006202555120749989\n",
      "Feature fixed acidity > 0.51: -2.9961819809703613e-05\n",
      "\n",
      "\n",
      "Explanation 35:\n",
      "As List of Tuples (feature_id, weight):\n",
      "Feature volatile acidity > 0.61: 0.015111085773846756\n",
      "Feature pH > 0.58: 0.007762149921872622\n",
      "Feature fixed acidity > 0.51: 0.0057194930379095175\n",
      "Feature chlorides > 0.05: -0.002921352494658571\n",
      "Feature sulphates > 0.42: 0.002728235022264587\n",
      "Feature free sulfur dioxide > 0.54: 0.0024505912473088117\n",
      "Feature total sulfur dioxide > 0.46: -0.0017272847882854067\n",
      "Feature alcohol > 0.59: 0.0011074408991555839\n",
      "Feature density > 0.58: -0.0008467265624462895\n",
      "Feature residual sugar > 0.05: 0.0006166061413828407\n",
      "Feature -0.06 < citric acid <= 0.80: -0.00024733176102960565\n",
      "\n",
      "\n",
      "Explanation 36:\n",
      "As List of Tuples (feature_id, weight):\n",
      "Feature pH > 0.58: 0.022561524225685275\n",
      "Feature volatile acidity > 0.61: 0.014784251907474504\n",
      "Feature free sulfur dioxide > 0.54: 0.011466936288988101\n",
      "Feature sulphates > 0.42: -0.008446375459374753\n",
      "Feature fixed acidity > 0.51: 0.007518135260267353\n",
      "Feature density > 0.58: 0.0034495558845284197\n",
      "Feature residual sugar > 0.05: 0.002617924043834134\n",
      "Feature total sulfur dioxide > 0.46: -0.0020440610850340603\n",
      "Feature -0.06 < citric acid <= 0.80: -0.0015107233549242801\n",
      "Feature chlorides > 0.05: 0.00040803055911858637\n",
      "Feature alcohol > 0.59: 0.0001022459864154256\n",
      "\n",
      "\n",
      "Explanation 37:\n",
      "As List of Tuples (feature_id, weight):\n",
      "Feature free sulfur dioxide > 0.54: 0.01779819815016792\n",
      "Feature volatile acidity > 0.61: 0.012544636755353682\n",
      "Feature pH > 0.58: 0.012229799404761831\n",
      "Feature total sulfur dioxide > 0.46: -0.005953905388118203\n",
      "Feature sulphates > 0.42: -0.005917058569384605\n",
      "Feature density > 0.58: 0.004622234581885232\n",
      "Feature chlorides > 0.05: 0.0036962849135626975\n",
      "Feature residual sugar > 0.05: -0.0030997411719008265\n",
      "Feature -0.06 < citric acid <= 0.80: -0.002297382260651794\n",
      "Feature fixed acidity > 0.51: 0.0016761012650711442\n",
      "Feature alcohol > 0.59: 0.0014800284022213317\n",
      "\n",
      "\n",
      "Explanation 38:\n",
      "As List of Tuples (feature_id, weight):\n",
      "Feature fixed acidity > 0.51: 0.019055329981701445\n",
      "Feature pH > 0.58: 0.016434986933204766\n",
      "Feature sulphates > 0.42: -0.010261820958794104\n",
      "Feature volatile acidity > 0.61: 0.009426627341456547\n",
      "Feature free sulfur dioxide > 0.54: 0.009088959871610094\n",
      "Feature total sulfur dioxide > 0.46: 0.004465970280549262\n",
      "Feature density > 0.58: -0.003995876675552132\n",
      "Feature -0.06 < citric acid <= 0.80: -0.0019618116710812027\n",
      "Feature residual sugar > 0.05: 0.0016946518968087689\n",
      "Feature chlorides > 0.05: 0.0013828758522480406\n",
      "Feature alcohol > 0.59: -0.0005569765313544843\n",
      "\n",
      "\n",
      "Explanation 39:\n",
      "As List of Tuples (feature_id, weight):\n",
      "Feature density > 0.58: 0.02409102805350012\n",
      "Feature volatile acidity > 0.61: 0.020073637477222094\n",
      "Feature pH > 0.58: 0.019155328928286846\n",
      "Feature residual sugar > 0.05: -0.006221690080604938\n",
      "Feature free sulfur dioxide > 0.54: 0.005257130508965277\n",
      "Feature sulphates > 0.42: -0.004000305679889119\n",
      "Feature -0.06 < citric acid <= 0.80: 0.0010378861451956507\n",
      "Feature total sulfur dioxide > 0.46: 0.0007420022146844347\n",
      "Feature chlorides > 0.05: 0.0005136627708256469\n",
      "Feature fixed acidity > 0.51: 0.0003878354285423043\n",
      "Feature alcohol > 0.59: -0.00027231557320245227\n",
      "\n",
      "\n",
      "Explanation 40:\n",
      "As List of Tuples (feature_id, weight):\n",
      "Feature pH > 0.58: 0.02203503107148165\n",
      "Feature fixed acidity > 0.51: 0.009555421725760562\n",
      "Feature free sulfur dioxide > 0.54: 0.004969047838131968\n",
      "Feature volatile acidity > 0.61: 0.0046558474723123735\n",
      "Feature alcohol > 0.59: -0.0018676502500034433\n",
      "Feature density > 0.58: -0.0015519800437322243\n",
      "Feature -0.06 < citric acid <= 0.80: -0.0014624529771067832\n",
      "Feature residual sugar > 0.05: 0.001443134458470985\n",
      "Feature chlorides > 0.05: -0.0008121656147344504\n",
      "Feature total sulfur dioxide > 0.46: -0.0006990481118820295\n",
      "Feature sulphates > 0.42: 0.000605946169515748\n",
      "\n",
      "\n",
      "Explanation 41:\n",
      "As List of Tuples (feature_id, weight):\n",
      "Feature pH > 0.58: 0.020266808110072875\n",
      "Feature volatile acidity > 0.61: 0.02023123575344468\n",
      "Feature density > 0.58: 0.005028652802942907\n",
      "Feature total sulfur dioxide > 0.46: -0.004651491222093805\n",
      "Feature alcohol > 0.59: -0.004599418277052943\n",
      "Feature residual sugar > 0.05: 0.004396324857633063\n",
      "Feature chlorides > 0.05: 0.004031817895682549\n",
      "Feature fixed acidity > 0.51: 0.003910587209035111\n",
      "Feature free sulfur dioxide > 0.54: 0.0013928750750642693\n",
      "Feature sulphates > 0.42: -0.0008627798643404232\n",
      "Feature -0.06 < citric acid <= 0.80: -0.0003056805971364985\n",
      "\n",
      "\n",
      "Explanation 42:\n",
      "As List of Tuples (feature_id, weight):\n",
      "Feature free sulfur dioxide > 0.54: 0.024293353269765342\n",
      "Feature fixed acidity > 0.51: 0.017627805768595625\n",
      "Feature pH > 0.58: 0.014605418067480102\n",
      "Feature total sulfur dioxide > 0.46: -0.007229634548578451\n",
      "Feature volatile acidity > 0.61: 0.006515266848452304\n",
      "Feature residual sugar > 0.05: 0.005998897424932689\n",
      "Feature sulphates > 0.42: -0.005542064959208215\n",
      "Feature -0.06 < citric acid <= 0.80: -0.0020284206607226215\n",
      "Feature chlorides > 0.05: -0.0017603922157367077\n",
      "Feature alcohol > 0.59: 0.0011558099838951705\n",
      "Feature density > 0.58: -0.0010881516675713767\n",
      "\n",
      "\n",
      "Explanation 43:\n",
      "As List of Tuples (feature_id, weight):\n",
      "Feature fixed acidity > 0.51: 0.014502085785433619\n",
      "Feature volatile acidity > 0.61: 0.01028556105853328\n",
      "Feature pH > 0.58: 0.010044100223187788\n",
      "Feature free sulfur dioxide > 0.54: 0.006465511184126718\n",
      "Feature residual sugar > 0.05: 0.004539978639576825\n",
      "Feature total sulfur dioxide > 0.46: -0.0021085819167924584\n",
      "Feature alcohol > 0.59: 0.0017015881914409228\n",
      "Feature sulphates > 0.42: -0.0013214646002227418\n",
      "Feature chlorides > 0.05: 0.0009391965703771486\n",
      "Feature density > 0.58: -0.0005900999872568716\n",
      "Feature -0.06 < citric acid <= 0.80: 0.00058409802586742\n",
      "\n",
      "\n",
      "Explanation 44:\n",
      "As List of Tuples (feature_id, weight):\n",
      "Feature volatile acidity > 0.61: 0.018117756100323318\n",
      "Feature pH > 0.58: 0.01751991357337102\n",
      "Feature residual sugar > 0.05: 0.003753334827995719\n",
      "Feature alcohol > 0.59: 0.0036433135928169596\n",
      "Feature sulphates > 0.42: -0.003415288289590146\n",
      "Feature free sulfur dioxide > 0.54: -0.002658289065619873\n",
      "Feature chlorides > 0.05: -0.00256999878866893\n",
      "Feature fixed acidity > 0.51: -0.0018104766826574001\n",
      "Feature total sulfur dioxide > 0.46: 0.0006435039515587716\n",
      "Feature density > 0.58: 0.000414940393713644\n",
      "Feature -0.06 < citric acid <= 0.80: -0.00039767969954296393\n",
      "\n",
      "\n",
      "Explanation 45:\n",
      "As List of Tuples (feature_id, weight):\n",
      "Feature volatile acidity > 0.61: 0.023986351659927446\n",
      "Feature pH > 0.58: 0.014142925497998629\n",
      "Feature residual sugar > 0.05: 0.011364963579576306\n",
      "Feature -0.06 < citric acid <= 0.80: -0.004568693950516742\n",
      "Feature sulphates > 0.42: -0.0043762835482979885\n",
      "Feature density > 0.58: 0.003933673929215514\n",
      "Feature alcohol > 0.59: -0.003308901930447847\n",
      "Feature chlorides > 0.05: -0.0031016740172146763\n",
      "Feature total sulfur dioxide > 0.46: -0.0007681284520841648\n",
      "Feature free sulfur dioxide > 0.54: -0.0006616772046624538\n",
      "Feature fixed acidity > 0.51: -1.3726773745812168e-05\n",
      "\n",
      "\n",
      "Explanation 46:\n",
      "As List of Tuples (feature_id, weight):\n",
      "Feature free sulfur dioxide > 0.54: 0.02415333808837375\n",
      "Feature pH > 0.58: 0.022959194208323184\n",
      "Feature volatile acidity > 0.61: 0.010748284344518261\n",
      "Feature total sulfur dioxide > 0.46: -0.00830816730452602\n",
      "Feature sulphates > 0.42: -0.006034996677239865\n",
      "Feature residual sugar > 0.05: 0.0046595776302435915\n",
      "Feature alcohol > 0.59: -0.004052157465779913\n",
      "Feature density > 0.58: 0.0019472154798982218\n",
      "Feature -0.06 < citric acid <= 0.80: -0.0011126321530027239\n",
      "Feature chlorides > 0.05: 0.0005684440261095651\n",
      "Feature fixed acidity > 0.51: -7.792180316957073e-05\n",
      "\n",
      "\n",
      "Explanation 47:\n",
      "As List of Tuples (feature_id, weight):\n",
      "Feature pH > 0.58: 0.025260946573987055\n",
      "Feature free sulfur dioxide > 0.54: 0.015067602945117303\n",
      "Feature volatile acidity > 0.61: 0.010672039318154915\n",
      "Feature sulphates > 0.42: -0.008683456900449861\n",
      "Feature total sulfur dioxide > 0.46: -0.005646218739600782\n",
      "Feature chlorides > 0.05: 0.005576845894236012\n",
      "Feature alcohol > 0.59: 0.003624856925915894\n",
      "Feature fixed acidity > 0.51: 0.0025050909931548363\n",
      "Feature residual sugar > 0.05: 0.002257431271156526\n",
      "Feature density > 0.58: 0.0019017041034575515\n",
      "Feature -0.06 < citric acid <= 0.80: -0.001776684447713111\n",
      "\n",
      "\n",
      "Explanation 48:\n",
      "As List of Tuples (feature_id, weight):\n",
      "Feature pH > 0.58: 0.015356576284975764\n",
      "Feature volatile acidity > 0.61: 0.008941534036339979\n",
      "Feature fixed acidity > 0.51: 0.00878054674050406\n",
      "Feature sulphates > 0.42: -0.006567680168692078\n",
      "Feature residual sugar > 0.05: 0.005218373203446665\n",
      "Feature alcohol > 0.59: 0.004612195531718593\n",
      "Feature -0.06 < citric acid <= 0.80: -0.0030108965513819578\n",
      "Feature total sulfur dioxide > 0.46: 0.0020578270990966405\n",
      "Feature density > 0.58: 0.0007962715386065874\n",
      "Feature chlorides > 0.05: -0.0002847214441331044\n",
      "Feature free sulfur dioxide > 0.54: 3.6207188726602624e-05\n",
      "\n",
      "\n",
      "Explanation 49:\n",
      "As List of Tuples (feature_id, weight):\n",
      "Feature volatile acidity > 0.61: 0.013745856172123986\n",
      "Feature pH > 0.58: 0.01151879677276792\n",
      "Feature sulphates > 0.42: -0.010074158148644182\n",
      "Feature residual sugar > 0.05: 0.007902180808505984\n",
      "Feature alcohol > 0.59: 0.005716180798926845\n",
      "Feature density > 0.58: -0.004964824753116444\n",
      "Feature chlorides > 0.05: -0.0047481677135745685\n",
      "Feature fixed acidity > 0.51: 0.004435738981960147\n",
      "Feature total sulfur dioxide > 0.46: -0.0016174187228158432\n",
      "Feature free sulfur dioxide > 0.54: -0.0004922115259263105\n",
      "Feature -0.06 < citric acid <= 0.80: -0.0001857645696559419\n",
      "\n",
      "\n",
      "Explanation 50:\n",
      "As List of Tuples (feature_id, weight):\n",
      "Feature pH > 0.58: 0.014551907068698985\n",
      "Feature volatile acidity > 0.61: 0.01346416340506595\n",
      "Feature density > 0.58: 0.005905704563220923\n",
      "Feature free sulfur dioxide > 0.54: 0.005107157710170622\n",
      "Feature fixed acidity > 0.51: 0.002745834613857853\n",
      "Feature total sulfur dioxide > 0.46: -0.002704260062387606\n",
      "Feature -0.06 < citric acid <= 0.80: -0.002363662159232336\n",
      "Feature residual sugar > 0.05: -0.0019653098594678165\n",
      "Feature chlorides > 0.05: 0.001607793414152184\n",
      "Feature sulphates > 0.42: -0.00026958807396178556\n",
      "Feature alcohol > 0.59: 0.00024559086688989587\n",
      "\n",
      "\n",
      "Explanation 51:\n",
      "As List of Tuples (feature_id, weight):\n",
      "Feature pH > 0.58: 0.023851664463548247\n",
      "Feature volatile acidity > 0.61: 0.019608219406775474\n",
      "Feature fixed acidity > 0.51: 0.014164391421085979\n",
      "Feature free sulfur dioxide > 0.54: 0.01231389829113585\n",
      "Feature alcohol > 0.59: -0.007778544972592246\n",
      "Feature sulphates > 0.42: -0.006962921550679401\n",
      "Feature density > 0.58: 0.0066433492188486005\n",
      "Feature -0.06 < citric acid <= 0.80: -0.005018315807009615\n",
      "Feature chlorides > 0.05: -0.0035627619653964063\n",
      "Feature residual sugar > 0.05: -0.0006999790186265038\n",
      "Feature total sulfur dioxide > 0.46: -0.0005053722122505947\n",
      "\n",
      "\n",
      "Explanation 52:\n",
      "As List of Tuples (feature_id, weight):\n",
      "Feature pH > 0.58: 0.013503065142096597\n",
      "Feature volatile acidity > 0.61: 0.012932317847138169\n",
      "Feature free sulfur dioxide > 0.54: 0.009273434984797673\n",
      "Feature fixed acidity > 0.51: 0.008814338956553643\n",
      "Feature chlorides > 0.05: -0.007638440144584897\n",
      "Feature sulphates > 0.42: -0.006936040991342955\n",
      "Feature alcohol > 0.59: -0.005613813764175988\n",
      "Feature total sulfur dioxide > 0.46: -0.004980626127222618\n",
      "Feature residual sugar > 0.05: 0.004807140283655685\n",
      "Feature -0.06 < citric acid <= 0.80: -0.004547292682312615\n",
      "Feature density > 0.58: 0.0018619729424590302\n",
      "\n",
      "\n",
      "Explanation 53:\n",
      "As List of Tuples (feature_id, weight):\n",
      "Feature pH > 0.58: 0.019968297131531223\n",
      "Feature free sulfur dioxide > 0.54: 0.01573075490958568\n",
      "Feature sulphates > 0.42: -0.011562689828326011\n",
      "Feature fixed acidity > 0.51: 0.010640244302314474\n",
      "Feature residual sugar > 0.05: 0.007513861199272322\n",
      "Feature volatile acidity > 0.61: 0.005287956650870465\n",
      "Feature total sulfur dioxide > 0.46: -0.00528626152853511\n",
      "Feature -0.06 < citric acid <= 0.80: -0.0042364847380420715\n",
      "Feature chlorides > 0.05: -0.0027893630707322378\n",
      "Feature alcohol > 0.59: 0.0027308002308916108\n",
      "Feature density > 0.58: 0.0010002912166789178\n",
      "\n",
      "\n",
      "Explanation 54:\n",
      "As List of Tuples (feature_id, weight):\n",
      "Feature pH > 0.58: 0.022363028027435995\n",
      "Feature fixed acidity > 0.51: 0.010897612900395552\n",
      "Feature sulphates > 0.42: -0.009982835069821876\n",
      "Feature free sulfur dioxide > 0.54: 0.007512727657780394\n",
      "Feature -0.06 < citric acid <= 0.80: -0.0029121728806950813\n",
      "Feature density > 0.58: 0.0026084897300829844\n",
      "Feature residual sugar > 0.05: 0.0023867850088217747\n",
      "Feature alcohol > 0.59: -0.002338254709817982\n",
      "Feature volatile acidity > 0.61: 0.002328630621229491\n",
      "Feature total sulfur dioxide > 0.46: -0.002312921972882546\n",
      "Feature chlorides > 0.05: -0.0009602518672642893\n",
      "\n",
      "\n",
      "Explanation 55:\n",
      "As List of Tuples (feature_id, weight):\n",
      "Feature pH > 0.58: 0.016637006978952536\n",
      "Feature volatile acidity > 0.61: 0.012428000482013339\n",
      "Feature fixed acidity > 0.51: 0.00758863854441991\n",
      "Feature residual sugar > 0.05: 0.007468664245909119\n",
      "Feature alcohol > 0.59: -0.004167185838954935\n",
      "Feature free sulfur dioxide > 0.54: 0.003727101277888355\n",
      "Feature total sulfur dioxide > 0.46: 0.00360994686400483\n",
      "Feature density > 0.58: -0.0012060235992381672\n",
      "Feature sulphates > 0.42: 0.0011891991834602187\n",
      "Feature chlorides > 0.05: 0.0006215569051219559\n",
      "Feature -0.06 < citric acid <= 0.80: -0.00011311324700094925\n",
      "\n",
      "\n",
      "Explanation 56:\n",
      "As List of Tuples (feature_id, weight):\n",
      "Feature residual sugar > 0.05: 0.006985786801177329\n",
      "Feature volatile acidity > 0.61: 0.006383693019959818\n",
      "Feature sulphates > 0.42: -0.0048281921817971436\n",
      "Feature pH > 0.58: 0.00473987970101667\n",
      "Feature chlorides > 0.05: -0.0036592450089902675\n",
      "Feature -0.06 < citric acid <= 0.80: -0.00280506609869994\n",
      "Feature fixed acidity > 0.51: 0.0015763915170381915\n",
      "Feature alcohol > 0.59: -0.0015575476886241161\n",
      "Feature density > 0.58: -0.0009307194497173255\n",
      "Feature total sulfur dioxide > 0.46: -0.0006325814158097789\n",
      "Feature free sulfur dioxide > 0.54: -0.00042862872723152144\n",
      "\n",
      "\n",
      "Explanation 57:\n",
      "As List of Tuples (feature_id, weight):\n",
      "Feature pH > 0.58: 0.03309190048377858\n",
      "Feature sulphates > 0.42: -0.012308407873996\n",
      "Feature volatile acidity > 0.61: 0.008434078808473721\n",
      "Feature chlorides > 0.05: -0.008347549626012052\n",
      "Feature free sulfur dioxide > 0.54: 0.0074800691187897825\n",
      "Feature fixed acidity > 0.51: 0.007155539192927973\n",
      "Feature density > 0.58: 0.0061040441848839435\n",
      "Feature alcohol > 0.59: -0.004062979503485376\n",
      "Feature total sulfur dioxide > 0.46: -0.0034837278177005985\n",
      "Feature residual sugar > 0.05: 0.0010116142978223283\n",
      "Feature -0.06 < citric acid <= 0.80: -0.00010217296684001827\n",
      "\n",
      "\n",
      "Explanation 58:\n",
      "As List of Tuples (feature_id, weight):\n",
      "Feature free sulfur dioxide > 0.54: 0.018666658204024977\n",
      "Feature pH > 0.58: 0.015891263163845745\n",
      "Feature fixed acidity > 0.51: 0.012037566609529015\n",
      "Feature volatile acidity > 0.61: 0.00916825662839284\n",
      "Feature sulphates > 0.42: -0.0064193063321010225\n",
      "Feature total sulfur dioxide > 0.46: -0.005080531177753291\n",
      "Feature alcohol > 0.59: 0.0048579602691589865\n",
      "Feature residual sugar > 0.05: 0.004435484141065859\n",
      "Feature density > 0.58: 0.0008331321350279648\n",
      "Feature chlorides > 0.05: -0.0006738028467785114\n",
      "Feature -0.06 < citric acid <= 0.80: -0.00033402950904084806\n",
      "\n",
      "\n",
      "Explanation 59:\n",
      "As List of Tuples (feature_id, weight):\n",
      "Feature volatile acidity > 0.61: 0.013516616415398131\n",
      "Feature free sulfur dioxide > 0.54: 0.009753996602437514\n",
      "Feature density > 0.58: 0.006384064853019295\n",
      "Feature pH > 0.58: 0.005979108257600972\n",
      "Feature residual sugar > 0.05: -0.0037572253389965195\n",
      "Feature -0.06 < citric acid <= 0.80: -0.0036904263154190135\n",
      "Feature alcohol > 0.59: -0.003661136986912177\n",
      "Feature chlorides > 0.05: 0.001262421637206309\n",
      "Feature fixed acidity > 0.51: 0.0009783050965417883\n",
      "Feature sulphates > 0.42: 0.00033557472298331525\n",
      "Feature total sulfur dioxide > 0.46: -0.00031069375548391416\n",
      "\n",
      "\n",
      "Explanation 60:\n",
      "As List of Tuples (feature_id, weight):\n",
      "Feature pH > 0.58: 0.02800218308095046\n",
      "Feature free sulfur dioxide > 0.54: 0.016582052480387594\n",
      "Feature volatile acidity > 0.61: 0.009228352805130347\n",
      "Feature -0.06 < citric acid <= 0.80: -0.004373084393270232\n",
      "Feature sulphates > 0.42: -0.003858902404692904\n",
      "Feature alcohol > 0.59: -0.003425946665463655\n",
      "Feature total sulfur dioxide > 0.46: -0.003115907850588906\n",
      "Feature chlorides > 0.05: -0.0027820382318674173\n",
      "Feature density > 0.58: -0.0022028080426953686\n",
      "Feature fixed acidity > 0.51: 0.002040228571669742\n",
      "Feature residual sugar > 0.05: 0.0012646513318888602\n",
      "\n",
      "\n",
      "Explanation 61:\n",
      "As List of Tuples (feature_id, weight):\n",
      "Feature pH > 0.58: 0.01635319836438856\n",
      "Feature volatile acidity > 0.61: 0.015550212056260644\n",
      "Feature fixed acidity > 0.51: 0.011569536469443146\n",
      "Feature density > 0.58: 0.009064655306078489\n",
      "Feature free sulfur dioxide > 0.54: 0.007622574728074935\n",
      "Feature -0.06 < citric acid <= 0.80: -0.005969152211942571\n",
      "Feature sulphates > 0.42: -0.0049551059582248575\n",
      "Feature alcohol > 0.59: -0.004572832808703301\n",
      "Feature chlorides > 0.05: -0.004128442669036485\n",
      "Feature total sulfur dioxide > 0.46: 0.001601762957182612\n",
      "Feature residual sugar > 0.05: 0.0005910019994848342\n",
      "\n",
      "\n",
      "Explanation 62:\n",
      "As List of Tuples (feature_id, weight):\n",
      "Feature pH > 0.58: 0.029671240235145127\n",
      "Feature free sulfur dioxide > 0.54: 0.02259281364898398\n",
      "Feature volatile acidity > 0.61: 0.020281461647801292\n",
      "Feature fixed acidity > 0.51: 0.011864437442991342\n",
      "Feature density > 0.58: 0.010310919926147678\n",
      "Feature chlorides > 0.05: -0.009431299217423621\n",
      "Feature sulphates > 0.42: -0.00921641891477788\n",
      "Feature total sulfur dioxide > 0.46: -0.008620312656890824\n",
      "Feature -0.06 < citric acid <= 0.80: -0.008012398602488752\n",
      "Feature residual sugar > 0.05: 0.00252378514533063\n",
      "Feature alcohol > 0.59: -0.0019726842870797768\n",
      "\n",
      "\n",
      "Explanation 63:\n",
      "As List of Tuples (feature_id, weight):\n",
      "Feature pH > 0.58: 0.032476559411932976\n",
      "Feature volatile acidity > 0.61: 0.014951522522370806\n",
      "Feature sulphates > 0.42: -0.013403092408311643\n",
      "Feature alcohol > 0.59: -0.004626610578553023\n",
      "Feature residual sugar > 0.05: 0.003873124149720568\n",
      "Feature fixed acidity > 0.51: 0.0032499700216339\n",
      "Feature -0.06 < citric acid <= 0.80: -0.003203303152980421\n",
      "Feature total sulfur dioxide > 0.46: -0.0030358413391320884\n",
      "Feature chlorides > 0.05: -0.00286746803260462\n",
      "Feature free sulfur dioxide > 0.54: 0.001441352036730953\n",
      "Feature density > 0.58: -0.0013664174723007345\n",
      "\n",
      "\n",
      "Explanation 64:\n",
      "As List of Tuples (feature_id, weight):\n",
      "Feature volatile acidity > 0.61: 0.022202690655762497\n",
      "Feature free sulfur dioxide > 0.54: 0.012437407689067289\n",
      "Feature sulphates > 0.42: -0.009132449952568164\n",
      "Feature fixed acidity > 0.51: 0.007497634321604386\n",
      "Feature chlorides > 0.05: -0.0073499945964103485\n",
      "Feature pH > 0.58: 0.007334872331148777\n",
      "Feature total sulfur dioxide > 0.46: -0.0061488049126758\n",
      "Feature alcohol > 0.59: 0.005618262141185434\n",
      "Feature -0.06 < citric acid <= 0.80: -0.005451853562910368\n",
      "Feature density > 0.58: 0.004588401694819911\n",
      "Feature residual sugar > 0.05: 0.0011298861776201676\n",
      "\n",
      "\n",
      "Explanation 65:\n",
      "As List of Tuples (feature_id, weight):\n",
      "Feature volatile acidity > 0.61: 0.025775831352983423\n",
      "Feature pH > 0.58: 0.018585435060467025\n",
      "Feature fixed acidity > 0.51: 0.007435979622303334\n",
      "Feature density > 0.58: 0.007082851302971592\n",
      "Feature sulphates > 0.42: -0.005933863618761787\n",
      "Feature -0.06 < citric acid <= 0.80: -0.004539898146260982\n",
      "Feature alcohol > 0.59: -0.00392363971133607\n",
      "Feature free sulfur dioxide > 0.54: 0.0037249802090505036\n",
      "Feature total sulfur dioxide > 0.46: -0.0024121264755238457\n",
      "Feature residual sugar > 0.05: -0.00086242090879592\n",
      "Feature chlorides > 0.05: -0.0005015378084934168\n",
      "\n",
      "\n",
      "Explanation 66:\n",
      "As List of Tuples (feature_id, weight):\n",
      "Feature pH > 0.58: 0.016198675820949963\n",
      "Feature volatile acidity > 0.61: 0.006062967028698745\n",
      "Feature chlorides > 0.05: -0.004816353211896388\n",
      "Feature sulphates > 0.42: -0.003348452956458268\n",
      "Feature alcohol > 0.59: -0.0031710771228010363\n",
      "Feature residual sugar > 0.05: -0.002981668150750877\n",
      "Feature total sulfur dioxide > 0.46: -0.002484068343412779\n",
      "Feature free sulfur dioxide > 0.54: -0.001908527545448288\n",
      "Feature fixed acidity > 0.51: 0.0011149573511395816\n",
      "Feature density > 0.58: -0.0008019246721078525\n",
      "Feature -0.06 < citric acid <= 0.80: -0.0003809229944801451\n",
      "\n",
      "\n",
      "Explanation 67:\n",
      "As List of Tuples (feature_id, weight):\n",
      "Feature volatile acidity > 0.61: 0.019953258149418715\n",
      "Feature pH > 0.58: 0.0152495692262187\n",
      "Feature density > 0.58: 0.00792127226400889\n",
      "Feature total sulfur dioxide > 0.46: -0.005146641047320056\n",
      "Feature free sulfur dioxide > 0.54: 0.004272670901582656\n",
      "Feature -0.06 < citric acid <= 0.80: -0.0021472416752820597\n",
      "Feature chlorides > 0.05: 0.002095118891695768\n",
      "Feature residual sugar > 0.05: -0.0018457795555975754\n",
      "Feature fixed acidity > 0.51: 0.0018096580151349452\n",
      "Feature alcohol > 0.59: -0.0017965512394709517\n",
      "Feature sulphates > 0.42: 9.169177424124909e-05\n",
      "\n",
      "\n",
      "Explanation 68:\n",
      "As List of Tuples (feature_id, weight):\n",
      "Feature free sulfur dioxide > 0.54: 0.012540076628807368\n",
      "Feature pH > 0.58: 0.01230361167273947\n",
      "Feature sulphates > 0.42: -0.007549595754785781\n",
      "Feature chlorides > 0.05: 0.006847894625210781\n",
      "Feature volatile acidity > 0.61: 0.0065125616496136685\n",
      "Feature density > 0.58: 0.006056216637940118\n",
      "Feature alcohol > 0.59: 0.0023402507665637082\n",
      "Feature fixed acidity > 0.51: -0.002029092661545345\n",
      "Feature residual sugar > 0.05: -0.0017611165011160758\n",
      "Feature total sulfur dioxide > 0.46: -0.0017327800620372193\n",
      "Feature -0.06 < citric acid <= 0.80: 0.00041352452169560086\n",
      "\n",
      "\n",
      "Explanation 69:\n",
      "As List of Tuples (feature_id, weight):\n",
      "Feature pH > 0.58: 0.024551042534090337\n",
      "Feature volatile acidity > 0.61: 0.00953661002221108\n",
      "Feature free sulfur dioxide > 0.54: 0.005901511411350771\n",
      "Feature chlorides > 0.05: 0.004167229959481834\n",
      "Feature residual sugar > 0.05: 0.0025249807209649566\n",
      "Feature total sulfur dioxide > 0.46: -0.001874349005194786\n",
      "Feature alcohol > 0.59: -0.0017561993462867549\n",
      "Feature sulphates > 0.42: -0.0014112345619842154\n",
      "Feature fixed acidity > 0.51: 0.0006144435173405616\n",
      "Feature -0.06 < citric acid <= 0.80: 0.00041908071807114476\n",
      "Feature density > 0.58: 0.0003118369772505952\n",
      "\n",
      "\n",
      "Explanation 70:\n",
      "As List of Tuples (feature_id, weight):\n",
      "Feature volatile acidity > 0.61: 0.01653717390030803\n",
      "Feature pH > 0.58: 0.01577497037829544\n",
      "Feature density > 0.58: 0.009815143536801029\n",
      "Feature residual sugar > 0.05: 0.004143272719914116\n",
      "Feature sulphates > 0.42: -0.0037088602940944407\n",
      "Feature -0.06 < citric acid <= 0.80: -0.0036695257145084393\n",
      "Feature chlorides > 0.05: -0.0033081446788732435\n",
      "Feature fixed acidity > 0.51: 0.002988889383084004\n",
      "Feature free sulfur dioxide > 0.54: -0.0023686340131351393\n",
      "Feature total sulfur dioxide > 0.46: 0.0011228247189405617\n",
      "Feature alcohol > 0.59: 0.0007992596841516113\n",
      "\n",
      "\n",
      "Explanation 71:\n",
      "As List of Tuples (feature_id, weight):\n",
      "Feature pH > 0.58: 0.013544304460588989\n",
      "Feature volatile acidity > 0.61: 0.010316347840163923\n",
      "Feature free sulfur dioxide > 0.54: 0.01012947836762879\n",
      "Feature residual sugar > 0.05: 0.008306629395263443\n",
      "Feature sulphates > 0.42: -0.007510809246031213\n",
      "Feature density > 0.58: -0.0061196464400257305\n",
      "Feature chlorides > 0.05: -0.005732235857766543\n",
      "Feature fixed acidity > 0.51: 0.005591317138479865\n",
      "Feature total sulfur dioxide > 0.46: -0.0035125489489071997\n",
      "Feature alcohol > 0.59: -0.0021618036533542816\n",
      "Feature -0.06 < citric acid <= 0.80: -0.0005878044182269959\n",
      "\n",
      "\n",
      "Explanation 72:\n",
      "As List of Tuples (feature_id, weight):\n",
      "Feature pH > 0.58: 0.015777341123857133\n",
      "Feature volatile acidity > 0.61: 0.011170323052344583\n",
      "Feature chlorides > 0.05: -0.006527045052801282\n",
      "Feature sulphates > 0.42: -0.005529228694809103\n",
      "Feature -0.06 < citric acid <= 0.80: -0.0053629638550530675\n",
      "Feature fixed acidity > 0.51: 0.0016244021372432613\n",
      "Feature density > 0.58: 0.0009115601648614414\n",
      "Feature alcohol > 0.59: 0.0006430555281084759\n",
      "Feature total sulfur dioxide > 0.46: -0.0004097497891210875\n",
      "Feature residual sugar > 0.05: -0.00020669804452235605\n",
      "Feature free sulfur dioxide > 0.54: 0.00020026040344907966\n",
      "\n",
      "\n",
      "Explanation 73:\n",
      "As List of Tuples (feature_id, weight):\n",
      "Feature volatile acidity > 0.61: 0.026004414818338893\n",
      "Feature pH > 0.58: 0.018276070909769047\n",
      "Feature free sulfur dioxide > 0.54: 0.018132246064324717\n",
      "Feature density > 0.58: 0.006892270341150561\n",
      "Feature chlorides > 0.05: -0.006813758559999611\n",
      "Feature total sulfur dioxide > 0.46: -0.006376151321828862\n",
      "Feature fixed acidity > 0.51: 0.004564210422849307\n",
      "Feature -0.06 < citric acid <= 0.80: -0.003975080749283523\n",
      "Feature sulphates > 0.42: -0.002172485352326249\n",
      "Feature alcohol > 0.59: -0.002134800186507681\n",
      "Feature residual sugar > 0.05: -0.0010199006168264387\n",
      "\n",
      "\n",
      "Explanation 74:\n",
      "As List of Tuples (feature_id, weight):\n",
      "Feature volatile acidity > 0.61: 0.01580674445460351\n",
      "Feature pH > 0.58: 0.007819649334498158\n",
      "Feature total sulfur dioxide > 0.46: -0.004087980992421893\n",
      "Feature residual sugar > 0.05: -0.0027573010300619006\n",
      "Feature free sulfur dioxide > 0.54: 0.0018981091138829138\n",
      "Feature fixed acidity > 0.51: 0.0018027764800836936\n",
      "Feature -0.06 < citric acid <= 0.80: -0.0013897454133252115\n",
      "Feature sulphates > 0.42: -0.001243635484316081\n",
      "Feature chlorides > 0.05: -0.0009565366409588707\n",
      "Feature density > 0.58: 0.0007877359278363501\n",
      "Feature alcohol > 0.59: 0.0007432997500219437\n",
      "\n",
      "\n",
      "Explanation 75:\n",
      "As List of Tuples (feature_id, weight):\n",
      "Feature free sulfur dioxide > 0.54: 0.02275370019729397\n",
      "Feature volatile acidity > 0.61: 0.018131550000931133\n",
      "Feature pH > 0.58: 0.017221226798656054\n",
      "Feature total sulfur dioxide > 0.46: -0.009786454418498796\n",
      "Feature alcohol > 0.59: -0.009025379874435926\n",
      "Feature density > 0.58: 0.005602297524190586\n",
      "Feature -0.06 < citric acid <= 0.80: -0.003825250713626186\n",
      "Feature fixed acidity > 0.51: 0.0037259141878248307\n",
      "Feature sulphates > 0.42: -0.002864645602875005\n",
      "Feature chlorides > 0.05: 0.0020542160266329886\n",
      "Feature residual sugar > 0.05: 0.0015685958167875505\n",
      "\n",
      "\n",
      "Explanation 76:\n",
      "As List of Tuples (feature_id, weight):\n",
      "Feature density > 0.58: 0.009156377539153389\n",
      "Feature free sulfur dioxide > 0.54: 0.008705613358831273\n",
      "Feature chlorides > 0.05: -0.008007631126826967\n",
      "Feature pH > 0.58: 0.0060743255887219134\n",
      "Feature sulphates > 0.42: -0.005828914834106801\n",
      "Feature volatile acidity > 0.61: 0.0049342125243649875\n",
      "Feature fixed acidity > 0.51: 0.004112305100730354\n",
      "Feature residual sugar > 0.05: -0.003507337737554326\n",
      "Feature total sulfur dioxide > 0.46: -0.003104027985822954\n",
      "Feature -0.06 < citric acid <= 0.80: -0.00026472508583118775\n",
      "Feature alcohol > 0.59: -0.00016741969261046196\n",
      "\n",
      "\n",
      "Explanation 77:\n",
      "As List of Tuples (feature_id, weight):\n",
      "Feature pH > 0.58: 0.012398004493056614\n",
      "Feature fixed acidity > 0.51: 0.010376339449121792\n",
      "Feature volatile acidity > 0.61: 0.007964793313409744\n",
      "Feature -0.06 < citric acid <= 0.80: -0.006788761862546691\n",
      "Feature sulphates > 0.42: -0.00419972945947491\n",
      "Feature density > 0.58: 0.0032723101675025974\n",
      "Feature chlorides > 0.05: -0.0030224846787990887\n",
      "Feature total sulfur dioxide > 0.46: -0.002774657242540343\n",
      "Feature alcohol > 0.59: -0.002531901280255437\n",
      "Feature residual sugar > 0.05: 0.0019657059396514104\n",
      "Feature free sulfur dioxide > 0.54: 0.00020297365128079712\n",
      "\n",
      "\n",
      "Explanation 78:\n",
      "As List of Tuples (feature_id, weight):\n",
      "Feature pH > 0.58: 0.024915033201307033\n",
      "Feature volatile acidity > 0.61: 0.018167175718843766\n",
      "Feature density > 0.58: 0.010451864858342274\n",
      "Feature chlorides > 0.05: 0.00560058819050164\n",
      "Feature fixed acidity > 0.51: 0.005332860568934349\n",
      "Feature residual sugar > 0.05: 0.0041481882345634135\n",
      "Feature sulphates > 0.42: -0.0030595229530731016\n",
      "Feature total sulfur dioxide > 0.46: -0.0027884512394038244\n",
      "Feature free sulfur dioxide > 0.54: 0.0007958767425591183\n",
      "Feature alcohol > 0.59: -0.0006977787193981091\n",
      "Feature -0.06 < citric acid <= 0.80: 5.989630229877307e-05\n",
      "\n",
      "\n",
      "Explanation 79:\n",
      "As List of Tuples (feature_id, weight):\n",
      "Feature pH > 0.58: 0.024537658665449907\n",
      "Feature fixed acidity > 0.51: 0.00899869122907983\n",
      "Feature total sulfur dioxide > 0.46: 0.007694352978792188\n",
      "Feature volatile acidity > 0.61: 0.006792344097809427\n",
      "Feature sulphates > 0.42: -0.005813862506533209\n",
      "Feature density > 0.58: 0.004807214449398622\n",
      "Feature residual sugar > 0.05: 0.0020690955265998392\n",
      "Feature chlorides > 0.05: -0.0018448123065836015\n",
      "Feature free sulfur dioxide > 0.54: -0.0012016201336431634\n",
      "Feature alcohol > 0.59: -0.0004080013925683439\n",
      "Feature -0.06 < citric acid <= 0.80: -0.0003365494509705804\n",
      "\n",
      "\n",
      "Explanation 80:\n",
      "As List of Tuples (feature_id, weight):\n",
      "Feature pH > 0.58: 0.025482912253438836\n",
      "Feature free sulfur dioxide > 0.54: 0.008471258011377665\n",
      "Feature residual sugar > 0.05: 0.006659703157669976\n",
      "Feature sulphates > 0.42: -0.0060399226192915404\n",
      "Feature alcohol > 0.59: -0.004742799300258696\n",
      "Feature density > 0.58: -0.003890630165836106\n",
      "Feature total sulfur dioxide > 0.46: -0.00380442781872436\n",
      "Feature volatile acidity > 0.61: 0.0019562623295010895\n",
      "Feature fixed acidity > 0.51: 0.0018913421335273487\n",
      "Feature chlorides > 0.05: 0.0003017014665703423\n",
      "Feature -0.06 < citric acid <= 0.80: -0.00023339469168194137\n"
     ]
    }
   ],
   "source": [
    "for i, explanation in enumerate(gbt_explanation_lime):\n",
    "    print(f\"Explanation {i + 1}:\")\n",
    "    print(\"As List of Tuples (feature_id, weight):\")\n",
    "    for feature_id, weight in explanation.as_list():\n",
    "        print(f\"Feature {feature_id}: {weight}\")\n",
    "\n",
    "    print(\"\\n\")"
   ],
   "metadata": {
    "collapsed": false,
    "ExecuteTime": {
     "end_time": "2024-06-13T01:25:15.927806Z",
     "start_time": "2024-06-13T01:25:15.924861Z"
    }
   },
   "id": "a5b92303473f0a37"
  },
  {
   "cell_type": "code",
   "execution_count": 45,
   "outputs": [
    {
     "name": "stdout",
     "output_type": "stream",
     "text": [
      ".values =\n",
      "array([[[ 0.00000000e+00,  0.00000000e+00,  0.00000000e+00,\n",
      "          0.00000000e+00,  0.00000000e+00,  0.00000000e+00],\n",
      "        [ 5.85342688e-04,  6.23859985e-02, -7.89320052e-02,\n",
      "          2.49150769e-02, -4.81943137e-03, -4.13498079e-03],\n",
      "        [-1.37394859e-04, -9.72069227e-04,  6.41168593e-03,\n",
      "         -1.90100830e-04, -4.00209614e-03, -1.11002333e-03],\n",
      "        [ 5.68800941e-04, -5.38080246e-03, -2.23806675e-02,\n",
      "          5.39670995e-02, -2.10748604e-02, -5.69955971e-03],\n",
      "        [ 2.18894805e-05,  1.54344749e-04,  6.72355365e-04,\n",
      "         -5.79773936e-04, -4.46620988e-04,  1.77805805e-04],\n",
      "        [ 4.38116624e-06,  2.41569430e-05, -1.10284465e-03,\n",
      "          6.02694991e-05,  9.76497503e-04,  3.75389929e-05],\n",
      "        [ 0.00000000e+00,  0.00000000e+00,  0.00000000e+00,\n",
      "          0.00000000e+00,  0.00000000e+00,  0.00000000e+00],\n",
      "        [ 0.00000000e+00,  0.00000000e+00,  0.00000000e+00,\n",
      "          0.00000000e+00,  0.00000000e+00,  0.00000000e+00],\n",
      "        [ 0.00000000e+00,  0.00000000e+00,  0.00000000e+00,\n",
      "          0.00000000e+00,  0.00000000e+00,  0.00000000e+00],\n",
      "        [-2.50605196e-04, -1.69389909e-03,  1.43720395e-02,\n",
      "         -3.57962033e-03, -6.79258723e-03, -2.05531365e-03],\n",
      "        [ 0.00000000e+00,  0.00000000e+00,  0.00000000e+00,\n",
      "          0.00000000e+00,  0.00000000e+00,  0.00000000e+00]]])\n",
      "\n",
      ".base_values =\n",
      "array([[0.01093333, 0.05212398, 0.39184367, 0.10281771, 0.34694055,\n",
      "        0.09534074]])\n",
      "\n",
      ".data =\n",
      "array([[ 6.8    ,  0.915  ,  0.29   ,  4.8    ,  0.07   , 15.     ,\n",
      "        39.     ,  0.99577,  3.53   ,  0.54   , 11.1    ]])\n",
      "[[[ 0.00000000e+00  0.00000000e+00  0.00000000e+00  0.00000000e+00\n",
      "    0.00000000e+00  0.00000000e+00]\n",
      "  [ 5.85342688e-04  6.23859985e-02 -7.89320052e-02  2.49150769e-02\n",
      "   -4.81943137e-03 -4.13498079e-03]\n",
      "  [-1.37394859e-04 -9.72069227e-04  6.41168593e-03 -1.90100830e-04\n",
      "   -4.00209614e-03 -1.11002333e-03]\n",
      "  [ 5.68800941e-04 -5.38080246e-03 -2.23806675e-02  5.39670995e-02\n",
      "   -2.10748604e-02 -5.69955971e-03]\n",
      "  [ 2.18894805e-05  1.54344749e-04  6.72355365e-04 -5.79773936e-04\n",
      "   -4.46620988e-04  1.77805805e-04]\n",
      "  [ 4.38116624e-06  2.41569430e-05 -1.10284465e-03  6.02694991e-05\n",
      "    9.76497503e-04  3.75389929e-05]\n",
      "  [ 0.00000000e+00  0.00000000e+00  0.00000000e+00  0.00000000e+00\n",
      "    0.00000000e+00  0.00000000e+00]\n",
      "  [ 0.00000000e+00  0.00000000e+00  0.00000000e+00  0.00000000e+00\n",
      "    0.00000000e+00  0.00000000e+00]\n",
      "  [ 0.00000000e+00  0.00000000e+00  0.00000000e+00  0.00000000e+00\n",
      "    0.00000000e+00  0.00000000e+00]\n",
      "  [-2.50605196e-04 -1.69389909e-03  1.43720395e-02 -3.57962033e-03\n",
      "   -6.79258723e-03 -2.05531365e-03]\n",
      "  [ 0.00000000e+00  0.00000000e+00  0.00000000e+00  0.00000000e+00\n",
      "    0.00000000e+00  0.00000000e+00]]]\n"
     ]
    }
   ],
   "source": [
    "print(gbt_explanation_shap[0])\n",
    "values_try = gbt_explanation_shap[0].values\n",
    "print(values_try)"
   ],
   "metadata": {
    "collapsed": false,
    "ExecuteTime": {
     "end_time": "2024-06-13T02:19:12.214152Z",
     "start_time": "2024-06-13T02:19:12.210149Z"
    }
   },
   "id": "b0d91f94ba775664"
  },
  {
   "cell_type": "code",
   "execution_count": 82,
   "outputs": [
    {
     "name": "stdout",
     "output_type": "stream",
     "text": [
      "{'free sulfur dioxide > 0.54': {'mean': 0.008023737277830048, 'std': 0.008256117673045273}, 'volatile acidity > 0.61': {'mean': 0.014664595274656462, 'std': 0.006728423583914425}, 'pH > 0.58': {'mean': 0.01956269885512895, 'std': 0.007526723927276504}, 'density > 0.58': {'mean': 0.004176147394234583, 'std': 0.004925529012997777}, 'total sulfur dioxide > 0.46': {'mean': -0.0029087173876280402, 'std': 0.004005138534902354}, 'chlorides > 0.05': {'mean': -0.003095194980957437, 'std': 0.0043345830975475225}, 'residual sugar > 0.05': {'mean': 0.0016347873127856981, 'std': 0.0032843396579916783}, 'fixed acidity > 0.51': {'mean': 0.006256200583023239, 'std': 0.005063515311316678}, '-0.06 < citric acid <= 0.80': {'mean': -0.0021637025203111865, 'std': 0.0020178219690036784}, 'sulphates > 0.42': {'mean': -0.006573897126449339, 'std': 0.0039053189502456834}, 'alcohol > 0.59': {'mean': 0.0004912554429400712, 'std': 0.004623273345484354}}\n"
     ]
    }
   ],
   "source": [
    "feature_weights = defaultdict(list)\n",
    "\n",
    "for explanation in gbt_explanation_lime:\n",
    "    for feature, weight in explanation.as_list():\n",
    "        feature_weights[feature].append(weight)\n",
    "\n",
    "feature_stats = {}\n",
    "for feature, weights in feature_weights.items():\n",
    "    mean_weight = np.mean(weights)\n",
    "    std_weight = np.std(weights)\n",
    "    feature_stats[feature] = {'mean': mean_weight, 'std': std_weight}\n",
    "\n",
    "print(feature_stats)"
   ],
   "metadata": {
    "collapsed": false,
    "ExecuteTime": {
     "end_time": "2024-06-13T03:23:22.361490Z",
     "start_time": "2024-06-13T03:23:22.320285Z"
    }
   },
   "id": "21f7172627fad1cb"
  },
  {
   "cell_type": "code",
   "execution_count": 83,
   "outputs": [
    {
     "ename": "ValueError",
     "evalue": "'-0.06 < citric acid' is not in list",
     "output_type": "error",
     "traceback": [
      "\u001B[0;31m---------------------------------------------------------------------------\u001B[0m",
      "\u001B[0;31mValueError\u001B[0m                                Traceback (most recent call last)",
      "Cell \u001B[0;32mIn[83], line 7\u001B[0m\n\u001B[1;32m      4\u001B[0m         \u001B[38;5;28;01mif\u001B[39;00m op \u001B[38;5;129;01min\u001B[39;00m x:\n\u001B[1;32m      5\u001B[0m             \u001B[38;5;28;01mreturn\u001B[39;00m feature_order\u001B[38;5;241m.\u001B[39mindex(x\u001B[38;5;241m.\u001B[39msplit(op)[\u001B[38;5;241m0\u001B[39m])\n\u001B[0;32m----> 7\u001B[0m sorted_keys \u001B[38;5;241m=\u001B[39m \u001B[38;5;28;43msorted\u001B[39;49m\u001B[43m(\u001B[49m\u001B[43mfeature_stats\u001B[49m\u001B[38;5;241;43m.\u001B[39;49m\u001B[43mkeys\u001B[49m\u001B[43m(\u001B[49m\u001B[43m)\u001B[49m\u001B[43m,\u001B[49m\u001B[43m \u001B[49m\u001B[43mkey\u001B[49m\u001B[38;5;241;43m=\u001B[39;49m\u001B[43msort_key\u001B[49m\u001B[43m)\u001B[49m\n\u001B[1;32m      8\u001B[0m sorted_feature_stats \u001B[38;5;241m=\u001B[39m {key: feature_stats[key] \u001B[38;5;28;01mfor\u001B[39;00m key \u001B[38;5;129;01min\u001B[39;00m sorted_keys}\n\u001B[1;32m     10\u001B[0m \u001B[38;5;28mprint\u001B[39m(sorted_feature_stats)\n",
      "Cell \u001B[0;32mIn[83], line 5\u001B[0m, in \u001B[0;36msort_key\u001B[0;34m(x)\u001B[0m\n\u001B[1;32m      3\u001B[0m \u001B[38;5;28;01mfor\u001B[39;00m op \u001B[38;5;129;01min\u001B[39;00m [\u001B[38;5;124m'\u001B[39m\u001B[38;5;124m >= \u001B[39m\u001B[38;5;124m'\u001B[39m, \u001B[38;5;124m'\u001B[39m\u001B[38;5;124m <= \u001B[39m\u001B[38;5;124m'\u001B[39m, \u001B[38;5;124m'\u001B[39m\u001B[38;5;124m > \u001B[39m\u001B[38;5;124m'\u001B[39m, \u001B[38;5;124m'\u001B[39m\u001B[38;5;124m < \u001B[39m\u001B[38;5;124m'\u001B[39m, \u001B[38;5;124m'\u001B[39m\u001B[38;5;124m = \u001B[39m\u001B[38;5;124m'\u001B[39m]:\n\u001B[1;32m      4\u001B[0m     \u001B[38;5;28;01mif\u001B[39;00m op \u001B[38;5;129;01min\u001B[39;00m x:\n\u001B[0;32m----> 5\u001B[0m         \u001B[38;5;28;01mreturn\u001B[39;00m \u001B[43mfeature_order\u001B[49m\u001B[38;5;241;43m.\u001B[39;49m\u001B[43mindex\u001B[49m\u001B[43m(\u001B[49m\u001B[43mx\u001B[49m\u001B[38;5;241;43m.\u001B[39;49m\u001B[43msplit\u001B[49m\u001B[43m(\u001B[49m\u001B[43mop\u001B[49m\u001B[43m)\u001B[49m\u001B[43m[\u001B[49m\u001B[38;5;241;43m0\u001B[39;49m\u001B[43m]\u001B[49m\u001B[43m)\u001B[49m\n",
      "\u001B[0;31mValueError\u001B[0m: '-0.06 < citric acid' is not in list"
     ]
    }
   ],
   "source": [
    "feature_order = X_test.columns.tolist()\n",
    "def sort_key(x):\n",
    "    for op in [' >= ', ' <= ', ' > ', ' < ', ' = ']:\n",
    "        if op in x:\n",
    "            return feature_order.index(x.split(op)[0])\n",
    "        \n",
    "sorted_keys = sorted(feature_stats.keys(), key=sort_key)\n",
    "sorted_feature_stats = {key: feature_stats[key] for key in sorted_keys}\n",
    "\n",
    "print(sorted_feature_stats)"
   ],
   "metadata": {
    "collapsed": false,
    "ExecuteTime": {
     "end_time": "2024-06-13T03:23:23.595277Z",
     "start_time": "2024-06-13T03:23:23.586712Z"
    }
   },
   "id": "4283429f7293830b"
  },
  {
   "cell_type": "code",
   "execution_count": 84,
   "outputs": [
    {
     "data": {
      "text/plain": "<Figure size 900x600 with 1 Axes>",
      "image/png": "[encoded data removed]"
     },
     "metadata": {},
     "output_type": "display_data"
    },
    {
     "name": "stdout",
     "output_type": "stream",
     "text": [
      "weights [0.008023737277830048, 0.014664595274656462, 0.01956269885512895, 0.004176147394234583, -0.0029087173876280402, -0.003095194980957437, 0.0016347873127856981, 0.006256200583023239, -0.0021637025203111865, -0.006573897126449339, 0.0004912554429400712] sd [0.008256117673045273, 0.006728423583914425, 0.007526723927276504, 0.004925529012997777, 0.004005138534902354, 0.0043345830975475225, 0.0032843396579916783, 0.005063515311316678, 0.0020178219690036784, 0.0039053189502456834, 0.004623273345484354]\n"
     ]
    }
   ],
   "source": [
    "features = list(feature_stats.keys())\n",
    "mean_weights = [feature_stats[feature]['mean'] for feature in features]\n",
    "std_weights = [feature_stats[feature]['std'] for feature in features]\n",
    "\n",
    "colors = ['lightblue' if weight > 0 else 'pink' for weight in mean_weights]\n",
    "\n",
    "feature_ids = range(len(mean_weights))\n",
    "plt.figure(figsize=(9, 6))\n",
    "plt.barh(feature_ids, mean_weights, xerr=std_weights, capsize=5, alpha=0.9, color=colors)\n",
    "plt.yticks(feature_ids, features, fontsize=12)\n",
    "plt.xlabel(\"Weight\", fontsize=12)\n",
    "plt.tight_layout()\n",
    "plt.show()\n",
    "\n",
    "print(\"weights\", mean_weights, \"sd\", std_weights)"
   ],
   "metadata": {
    "collapsed": false,
    "ExecuteTime": {
     "end_time": "2024-06-13T03:23:25.044087Z",
     "start_time": "2024-06-13T03:23:24.916952Z"
    }
   },
   "id": "ffecedec8e2cb216"
  },
  {
   "cell_type": "code",
   "execution_count": 85,
   "outputs": [],
   "source": [
    "shap_features = X_test.loc[[PLOT]].columns.tolist()"
   ],
   "metadata": {
    "collapsed": false,
    "ExecuteTime": {
     "end_time": "2024-06-13T03:23:27.765723Z",
     "start_time": "2024-06-13T03:23:27.759220Z"
    }
   },
   "id": "4213521aeb5d50fa"
  },
  {
   "cell_type": "code",
   "execution_count": 86,
   "outputs": [
    {
     "name": "stdout",
     "output_type": "stream",
     "text": [
      "Number of SHAP explanation objects: 80\n",
      "Shape of stacked SHAP values: (80, 11, 6)\n",
      "Stacked SHAP values:\n",
      " [[[ 0.00000000e+00  0.00000000e+00  0.00000000e+00  0.00000000e+00\n",
      "    0.00000000e+00  0.00000000e+00]\n",
      "  [ 5.86104186e-04  6.23969773e-02 -7.89318933e-02  2.48799877e-02\n",
      "   -4.79997312e-03 -4.13120489e-03]\n",
      "  [-1.37674467e-04 -9.75127768e-04  6.41109599e-03 -1.79129740e-04\n",
      "   -4.00778018e-03 -1.11138169e-03]\n",
      "  ...\n",
      "  [ 0.00000000e+00  0.00000000e+00  0.00000000e+00  0.00000000e+00\n",
      "    0.00000000e+00  0.00000000e+00]\n",
      "  [-2.52542511e-04 -1.68127421e-03  1.43542517e-02 -3.55521594e-03\n",
      "   -6.80501878e-03 -2.06018513e-03]\n",
      "  [ 0.00000000e+00  0.00000000e+00  0.00000000e+00  0.00000000e+00\n",
      "    0.00000000e+00  0.00000000e+00]]\n",
      "\n",
      " [[ 0.00000000e+00  0.00000000e+00  0.00000000e+00  0.00000000e+00\n",
      "    0.00000000e+00  0.00000000e+00]\n",
      "  [ 1.63745100e-03  1.18485801e-03 -8.52144467e-03  3.92724910e-03\n",
      "    1.49902501e-03  2.72862947e-04]\n",
      "  [ 0.00000000e+00  0.00000000e+00  0.00000000e+00  0.00000000e+00\n",
      "    0.00000000e+00  0.00000000e+00]\n",
      "  ...\n",
      "  [ 0.00000000e+00  0.00000000e+00  0.00000000e+00  0.00000000e+00\n",
      "    0.00000000e+00  0.00000000e+00]\n",
      "  [ 1.23464390e-04  1.24461846e-03 -2.31230400e-03  6.00846657e-03\n",
      "   -3.82777033e-03 -1.23647091e-03]\n",
      "  [ 0.00000000e+00  0.00000000e+00  0.00000000e+00  0.00000000e+00\n",
      "    0.00000000e+00  0.00000000e+00]]\n",
      "\n",
      " [[ 0.00000000e+00  0.00000000e+00  0.00000000e+00  0.00000000e+00\n",
      "    0.00000000e+00  0.00000000e+00]\n",
      "  [ 6.57414811e-03  1.65060816e-03 -2.63754171e-03 -7.52915145e-03\n",
      "    1.60222481e-03  3.39713272e-04]\n",
      "  [ 1.68067980e-04  3.51681172e-04  5.00863644e-03 -7.78443216e-03\n",
      "    1.86688362e-03  3.89168451e-04]\n",
      "  ...\n",
      "  [ 0.00000000e+00  0.00000000e+00  0.00000000e+00  0.00000000e+00\n",
      "    0.00000000e+00  0.00000000e+00]\n",
      "  [-9.38573607e-04 -1.63304712e-03 -2.30130725e-02 -1.67011997e-03\n",
      "    2.85500421e-02 -1.29522978e-03]\n",
      "  [ 0.00000000e+00  0.00000000e+00  0.00000000e+00  0.00000000e+00\n",
      "    0.00000000e+00  0.00000000e+00]]\n",
      "\n",
      " ...\n",
      "\n",
      " [[ 0.00000000e+00  0.00000000e+00  0.00000000e+00  0.00000000e+00\n",
      "    0.00000000e+00  0.00000000e+00]\n",
      "  [-2.86407828e-03 -5.18619965e-03  5.33483267e-02 -1.36131077e-02\n",
      "   -2.88237185e-02 -2.86122277e-03]\n",
      "  [ 5.15790334e-04  1.49569049e-03  7.33799910e-03 -7.85840010e-03\n",
      "   -1.83449031e-03  3.43430896e-04]\n",
      "  ...\n",
      "  [ 0.00000000e+00  0.00000000e+00  0.00000000e+00  0.00000000e+00\n",
      "    0.00000000e+00  0.00000000e+00]\n",
      "  [ 9.86349095e-05  1.03651835e-04  1.45610136e-03  2.26947420e-03\n",
      "   -4.04594990e-03  1.18089281e-04]\n",
      "  [ 0.00000000e+00  0.00000000e+00  0.00000000e+00  0.00000000e+00\n",
      "    0.00000000e+00  0.00000000e+00]]\n",
      "\n",
      " [[ 0.00000000e+00  0.00000000e+00  0.00000000e+00  0.00000000e+00\n",
      "    0.00000000e+00  0.00000000e+00]\n",
      "  [ 1.16927426e-04  3.21341119e-03 -1.34417526e-02  7.56529183e-03\n",
      "    1.65028221e-03  8.95843064e-04]\n",
      "  [ 3.80887220e-04  1.44459265e-03 -2.43520521e-02  4.88636221e-03\n",
      "    1.54620081e-02  2.17820472e-03]\n",
      "  ...\n",
      "  [ 0.00000000e+00  0.00000000e+00  0.00000000e+00  0.00000000e+00\n",
      "    0.00000000e+00  0.00000000e+00]\n",
      "  [ 1.82583225e-03  6.38116815e-03 -7.08242373e-02  2.11554976e-02\n",
      "    2.74171824e-02  1.40445583e-02]\n",
      "  [ 0.00000000e+00  0.00000000e+00  0.00000000e+00  0.00000000e+00\n",
      "    0.00000000e+00  0.00000000e+00]]\n",
      "\n",
      " [[ 0.00000000e+00  0.00000000e+00  0.00000000e+00  0.00000000e+00\n",
      "    0.00000000e+00  0.00000000e+00]\n",
      "  [ 5.68131584e-03  1.49044880e-02 -2.45991370e-02  1.50287354e-02\n",
      "   -2.41279930e-02  1.31125946e-02]\n",
      "  [-1.40934543e-05 -8.70321496e-05 -8.83157409e-04 -3.29273156e-04\n",
      "    1.39014595e-03 -7.65765387e-05]\n",
      "  ...\n",
      "  [ 0.00000000e+00  0.00000000e+00  0.00000000e+00  0.00000000e+00\n",
      "    0.00000000e+00  0.00000000e+00]\n",
      "  [ 1.10233068e-05 -2.24058392e-05  1.99091465e-03 -1.99821851e-04\n",
      "   -1.84304701e-03  6.33461068e-05]\n",
      "  [ 0.00000000e+00  0.00000000e+00  0.00000000e+00  0.00000000e+00\n",
      "    0.00000000e+00  0.00000000e+00]]]\n"
     ]
    }
   ],
   "source": [
    "# Check the length of gbt_explanation_shap\n",
    "print(\"Number of SHAP explanation objects:\", len(gbt_explanation_shap))\n",
    "\n",
    "# Attempt to stack SHAP values\n",
    "stacked_shap_values = np.vstack([gbt_explanation_shap[i].values for i in range(len(gbt_explanation_shap))])\n",
    "\n",
    "# Print the stacked SHAP values\n",
    "print(\"Shape of stacked SHAP values:\", stacked_shap_values.shape)\n",
    "print(\"Stacked SHAP values:\\n\", stacked_shap_values)"
   ],
   "metadata": {
    "collapsed": false,
    "ExecuteTime": {
     "end_time": "2024-06-13T03:23:32.283968Z",
     "start_time": "2024-06-13T03:23:32.272381Z"
    }
   },
   "id": "15147e4b1bc44acc"
  },
  {
   "cell_type": "code",
   "execution_count": 87,
   "outputs": [
    {
     "name": "stdout",
     "output_type": "stream",
     "text": [
      "Mean SHAP values shape: (11, 6)\n",
      "Standard deviation of SHAP values shape: (11, 6)\n",
      "[[ 0.00000000e+00  0.00000000e+00  0.00000000e+00  0.00000000e+00\n",
      "   0.00000000e+00  0.00000000e+00]\n",
      " [ 2.61615333e-04 -1.67985470e-03  3.13273296e-03  6.33866413e-04\n",
      "  -2.15014855e-03 -1.98207379e-04]\n",
      " [ 6.17378328e-05  1.17869885e-04 -2.01851023e-03  6.69848993e-04\n",
      "   3.70500859e-04  7.98555029e-04]\n",
      " [ 4.01430540e-04 -1.69238652e-03 -5.21097849e-03  3.78609772e-04\n",
      "   5.78179775e-03  3.41528809e-04]\n",
      " [-1.96979203e-05 -1.40561190e-04  4.64205053e-04 -3.12033597e-04\n",
      "   4.57502599e-04 -4.49415014e-04]\n",
      " [-2.27393526e-06  2.71693610e-05 -2.30829415e-04 -8.54550378e-05\n",
      "   2.63638888e-04  2.77501186e-05]\n",
      " [ 0.00000000e+00  0.00000000e+00  0.00000000e+00  0.00000000e+00\n",
      "   0.00000000e+00  0.00000000e+00]\n",
      " [-4.17188941e-08 -2.25265527e-07 -5.95028933e-06  9.71956320e-06\n",
      "  -9.33898835e-07 -2.56839514e-06]\n",
      " [ 0.00000000e+00  0.00000000e+00  0.00000000e+00  0.00000000e+00\n",
      "   0.00000000e+00  0.00000000e+00]\n",
      " [ 7.84751155e-05  2.09716523e-04 -6.41477856e-04 -9.78353795e-04\n",
      "   2.32925945e-04  1.09871616e-03]\n",
      " [ 0.00000000e+00  0.00000000e+00  0.00000000e+00  0.00000000e+00\n",
      "   0.00000000e+00  0.00000000e+00]]\n"
     ]
    }
   ],
   "source": [
    "mean_shap_values = np.mean(stacked_shap_values, axis=0)\n",
    "\n",
    "# Calculate standard deviation of SHAP values across the 80 explanations\n",
    "sd_shap_values = np.std(stacked_shap_values, axis=0)\n",
    "\n",
    "# Now you have mean_shap_values and sd_shap_values\n",
    "print(\"Mean SHAP values shape:\", mean_shap_values.shape)\n",
    "print(\"Standard deviation of SHAP values shape:\", sd_shap_values.shape)\n",
    "print(mean_shap_values)"
   ],
   "metadata": {
    "collapsed": false,
    "ExecuteTime": {
     "end_time": "2024-06-13T03:23:33.179957Z",
     "start_time": "2024-06-13T03:23:33.157678Z"
    }
   },
   "id": "88639b88c4047976"
  },
  {
   "cell_type": "code",
   "execution_count": 88,
   "outputs": [
    {
     "data": {
      "text/plain": "<Figure size 800x2000 with 6 Axes>",
      "image/png": "[encoded data removed]"
     },
     "metadata": {},
     "output_type": "display_data"
    }
   ],
   "source": [
    "num_features, num_classes = mean_shap_values.shape\n",
    "colors = np.where(mean_shap_values >= 0, 'lightblue', 'pink')\n",
    "\n",
    "feature_ids = range(len(mean_shap_values))\n",
    "# Plotting each class separately\n",
    "fig, axs = plt.subplots(num_classes, figsize=(8, 20), sharex=True)\n",
    "\n",
    "for cls in range(num_classes):\n",
    "    ax = axs[cls]\n",
    "    ax.barh(np.arange(num_features), mean_shap_values[:, cls], xerr=sd_shap_values[:, cls], align='center', alpha=0.7, capsize=5, color=colors[:, cls])\n",
    "    ax.set_yticks(feature_ids, shap_features, fontsize=12)\n",
    "    ax.set_title(f'Class {cls+1}')\n",
    "    ax.set_xlabel('Mean SHAP Value', fontsize=12)\n",
    "    ax.grid(False)\n",
    "\n",
    "plt.tight_layout()\n",
    "plt.show()"
   ],
   "metadata": {
    "collapsed": false,
    "ExecuteTime": {
     "end_time": "2024-06-13T03:23:35.551571Z",
     "start_time": "2024-06-13T03:23:34.549206Z"
    }
   },
   "id": "26f19998dbf95a54"
  },
  {
   "cell_type": "code",
   "execution_count": 92,
   "outputs": [
    {
     "name": "stdout",
     "output_type": "stream",
     "text": [
      "Shape of absolute sum SHAP values: (80, 11)\n",
      "Mean SHAP values shape: (11,)\n",
      "Standard deviation of SHAP values shape: (11,)\n"
     ]
    }
   ],
   "source": [
    "# Compute absolute sum across classes (axis=2)\n",
    "absolute_sum_shap_values = np.abs(stacked_shap_values).sum(axis=2)\n",
    "\n",
    "# Print the shape of the absolute sum SHAP values\n",
    "print(\"Shape of absolute sum SHAP values:\", absolute_sum_shap_values.shape)\n",
    "\n",
    "mean_shap_sum = np.mean(absolute_sum_shap_values, axis=0)\n",
    "\n",
    "# Calculate standard deviation of SHAP values across the 80 explanations\n",
    "sd_shap_sum = np.std(absolute_sum_shap_values, axis=0)\n",
    "\n",
    "# Now you have mean_shap_values and sd_shap_values\n",
    "print(\"Mean SHAP values shape:\", mean_shap_sum.shape)\n",
    "print(\"Standard deviation of SHAP values shape:\", sd_shap_sum.shape)"
   ],
   "metadata": {
    "collapsed": false,
    "ExecuteTime": {
     "end_time": "2024-06-13T03:24:40.980902Z",
     "start_time": "2024-06-13T03:24:40.937967Z"
    }
   },
   "id": "223aee0df5074548"
  },
  {
   "cell_type": "code",
   "execution_count": 94,
   "outputs": [
    {
     "data": {
      "text/plain": "<Figure size 640x480 with 1 Axes>",
      "image/png": "[encoded data removed]"
     },
     "metadata": {},
     "output_type": "display_data"
    }
   ],
   "source": [
    "# Plotting\n",
    "fig, ax = plt.subplots()\n",
    "\n",
    "# Plot bars for mean SHAP values\n",
    "bars = ax.barh(shap_features, mean_shap_sum, xerr=sd_shap_sum, align='center', color='lightblue',alpha=0.7, capsize=5)\n",
    "\n",
    "# Adding labels and title\n",
    "ax.set_xlabel('Mean SHAP Value')\n",
    "\n",
    "# Show plot\n",
    "plt.tight_layout()\n",
    "plt.show()"
   ],
   "metadata": {
    "collapsed": false,
    "ExecuteTime": {
     "end_time": "2024-06-13T03:24:58.053031Z",
     "start_time": "2024-06-13T03:24:57.974793Z"
    }
   },
   "id": "83e1af051c466121"
  },
  {
   "cell_type": "code",
   "execution_count": null,
   "outputs": [],
   "source": [
    "# predict gives the class number\n",
    "# make a histogram of the class prediction\n",
    "# entropy to measure the uncertainty"
   ],
   "metadata": {
    "collapsed": false
   },
   "id": "7435d0b3b0de2716"
  }
 ],
 "metadata": {
  "kernelspec": {
   "display_name": "Python 3",
   "language": "python",
   "name": "python3"
  },
  "language_info": {
   "codemirror_mode": {
    "name": "ipython",
    "version": 2
   },
   "file_extension": ".py",
   "mimetype": "text/x-python",
   "name": "python",
   "nbconvert_exporter": "python",
   "pygments_lexer": "ipython2",
   "version": "2.7.6"
  }
 },
 "nbformat": 4,
 "nbformat_minor": 5
}
