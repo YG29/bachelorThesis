{
 "cells": [
  {
   "cell_type": "code",
   "execution_count": 53,
   "id": "initial_id",
   "metadata": {
    "collapsed": true,
    "ExecuteTime": {
     "end_time": "2024-06-13T06:25:18.370662Z",
     "start_time": "2024-06-13T06:25:18.362381Z"
    }
   },
   "outputs": [],
   "source": [
    "import tensorflow as tf\n",
    "import numpy as np\n",
    "from tensorflow.keras.layers import Dense, Dropout\n",
    "from tensorflow.keras.models import Model\n",
    "from transformers import TFBertModel, BertTokenizer\n",
    "from sklearn.model_selection import train_test_split\n",
    "from sklearn.preprocessing import StandardScaler\n",
    "import pandas as pd\n",
    "\n",
    "import matplotlib.pyplot as plt\n",
    "from lime.lime_text import LimeTextExplainer\n",
    "import shap\n",
    "from collections import defaultdict\n",
    "import itertools"
   ]
  },
  {
   "cell_type": "code",
   "execution_count": 46,
   "outputs": [
    {
     "name": "stdout",
     "output_type": "stream",
     "text": [
      "Num GPUs Available:  0\n"
     ]
    }
   ],
   "source": [
    "# Check if TensorFlow can detect the GPU\n",
    "print(\"Num GPUs Available: \", len(tf.config.experimental.list_physical_devices('GPU')))"
   ],
   "metadata": {
    "collapsed": false,
    "ExecuteTime": {
     "end_time": "2024-06-13T04:44:00.282958Z",
     "start_time": "2024-06-13T04:44:00.278954Z"
    }
   },
   "id": "d9fd2bf26cf934d4"
  },
  {
   "cell_type": "code",
   "execution_count": 3,
   "outputs": [],
   "source": [
    "# load and preprocess data: cali housing\n",
    "\n",
    "cali_housing_path = '../data/California_Houses.csv'\n",
    "RANDOM_SEED = 492\n",
    "cali_df = pd.read_csv(cali_housing_path)\n",
    "y_series = cali_df['Median_House_Value']\n",
    "y = pd.DataFrame(y_series, columns=['Median_House_Value'])\n",
    "features = [col for col in cali_df.columns if col != 'Median_House_Value']\n",
    "X = cali_df[features]\n",
    "X_train, X_test, y_train, y_test = train_test_split(X, y, test_size=0.2, random_state=RANDOM_SEED)\n",
    "X_train = X_train.reset_index(drop=True)\n",
    "y_train = y_train.reset_index(drop=True)\n",
    "X_test = X_test.reset_index(drop=True)\n",
    "y_test = y_test.reset_index(drop=True)\n",
    "\n",
    "# preprocessing\n",
    "\n",
    "scaler = StandardScaler()\n",
    "X_train_scaled = scaler.fit_transform(X_train)\n",
    "X_test_scaled = scaler.transform(X_test)\n",
    "\n",
    "X_train_scaled = pd.DataFrame(X_train_scaled, columns=X_train.columns)\n",
    "X_test_scaled = pd.DataFrame(X_test_scaled, columns=X_test.columns)"
   ],
   "metadata": {
    "collapsed": false,
    "ExecuteTime": {
     "end_time": "2024-06-13T03:39:20.414171Z",
     "start_time": "2024-06-13T03:39:20.379219Z"
    }
   },
   "id": "9f2da4f40050d9e1"
  },
  {
   "cell_type": "code",
   "execution_count": 54,
   "outputs": [
    {
     "name": "stdout",
     "output_type": "stream",
     "text": [
      "13\n"
     ]
    }
   ],
   "source": [
    "print(len(features))"
   ],
   "metadata": {
    "collapsed": false,
    "ExecuteTime": {
     "end_time": "2024-06-13T06:29:25.849847Z",
     "start_time": "2024-06-13T06:29:25.844287Z"
    }
   },
   "id": "4645a44399bb72fc"
  },
  {
   "cell_type": "code",
   "execution_count": 13,
   "outputs": [],
   "source": [
    "X_train_texts = X_train_scaled.astype(str).apply(' '.join, axis=1).tolist()\n",
    "X_test_texts = X_test_scaled.astype(str).apply(' '.join, axis=1).tolist()"
   ],
   "metadata": {
    "collapsed": false,
    "ExecuteTime": {
     "end_time": "2024-06-13T04:02:43.428392Z",
     "start_time": "2024-06-13T04:02:43.389359Z"
    }
   },
   "id": "2f5f4cdfc6c411a5"
  },
  {
   "cell_type": "code",
   "execution_count": 18,
   "outputs": [
    {
     "name": "stdout",
     "output_type": "stream",
     "text": [
      "-0.22023367473901587 0.18302885044421452 -0.505329788280167 -0.5832710453838817 -0.625332763570887 -0.5546840263301412 1.3115180113240754 -1.6397854101401088 -0.3915220068123694 1.4909602397221111 1.4493012599111588 -0.9188291839326336 -1.2106935875117162\n"
     ]
    }
   ],
   "source": [
    "print(X_train_texts[0])"
   ],
   "metadata": {
    "collapsed": false,
    "ExecuteTime": {
     "end_time": "2024-06-13T04:04:26.662573Z",
     "start_time": "2024-06-13T04:04:26.653184Z"
    }
   },
   "id": "34c06f9d4dfb2202"
  },
  {
   "cell_type": "code",
   "execution_count": 4,
   "outputs": [
    {
     "name": "stderr",
     "output_type": "stream",
     "text": [
      "Some weights of the PyTorch model were not used when initializing the TF 2.0 model TFBertModel: ['cls.predictions.transform.dense.weight', 'cls.seq_relationship.weight', 'cls.predictions.bias', 'cls.predictions.transform.LayerNorm.weight', 'cls.seq_relationship.bias', 'cls.predictions.transform.dense.bias', 'cls.predictions.transform.LayerNorm.bias']\n",
      "- This IS expected if you are initializing TFBertModel from a PyTorch model trained on another task or with another architecture (e.g. initializing a TFBertForSequenceClassification model from a BertForPreTraining model).\n",
      "- This IS NOT expected if you are initializing TFBertModel from a PyTorch model that you expect to be exactly identical (e.g. initializing a TFBertForSequenceClassification model from a BertForSequenceClassification model).\n",
      "All the weights of TFBertModel were initialized from the PyTorch model.\n",
      "If your task is similar to the task the model of the checkpoint was trained on, you can already use TFBertModel for predictions without further training.\n"
     ]
    }
   ],
   "source": [
    "# Load the pre-trained BERT model\n",
    "tokenizer = BertTokenizer.from_pretrained('bert-base-uncased')\n",
    "bert_model = TFBertModel.from_pretrained('bert-base-uncased')\n"
   ],
   "metadata": {
    "collapsed": false,
    "ExecuteTime": {
     "end_time": "2024-06-13T03:39:43.636923Z",
     "start_time": "2024-06-13T03:39:41.679208Z"
    }
   },
   "id": "b62e037fa792a2a1"
  },
  {
   "cell_type": "code",
   "execution_count": 41,
   "outputs": [],
   "source": [
    "class BERTRegression(Model):\n",
    "    def __init__(self, max_length, hidden_size, dropout_rate=0.1, num_mc_samples=10):\n",
    "        super(BERTRegression, self).__init__()\n",
    "        self.max_length = max_length\n",
    "        self.bert_model = TFBertModel.from_pretrained('bert-base-uncased')\n",
    "        self.bert_model.trainable = True\n",
    "        self.dropout = Dropout(dropout_rate)\n",
    "        self.hidden_layer = Dense(hidden_size, activation='relu')\n",
    "        self.mc_dropout = Dropout(dropout_rate)\n",
    "        self.output_layer = Dense(1, activation='linear')\n",
    "        self.num_mc_samples = num_mc_samples\n",
    "\n",
    "    def call(self, inputs, training=False):\n",
    "        input_ids, attention_mask, token_type_ids = inputs\n",
    "        bert_output = self.bert_model(input_ids, attention_mask=attention_mask, token_type_ids=token_type_ids)[1]\n",
    "        dropout_output = self.dropout(bert_output, training=training)\n",
    "        hidden_output = self.hidden_layer(dropout_output)\n",
    "        mc_dropout_output = self.mc_dropout(hidden_output, training=training)\n",
    "        output = self.output_layer(mc_dropout_output)\n",
    "\n",
    "        if training:\n",
    "            # During training, we only need the output\n",
    "            return output\n",
    "        else:\n",
    "            # During inference, we need the output and its sd for uncertainty\n",
    "            output_samples = tf.stack([self(inputs, training=False) for _ in range(self.num_mc_samples)])\n",
    "            output_mean = tf.reduce_mean(output_samples, axis=0)\n",
    "            output_sd = tf.math.reduce_std(output_samples, axis=0)\n",
    "            return output_mean, output_sd\n",
    "\n",
    "\n"
   ],
   "metadata": {
    "collapsed": false,
    "ExecuteTime": {
     "end_time": "2024-06-13T04:34:14.119700Z",
     "start_time": "2024-06-13T04:34:14.110387Z"
    }
   },
   "id": "83319ec425179d69"
  },
  {
   "cell_type": "code",
   "execution_count": 39,
   "outputs": [],
   "source": [
    "max_length = 13  # Adjust according to your input length\n",
    "hidden_size = 256  # Adjust according to your hidden layer size"
   ],
   "metadata": {
    "collapsed": false,
    "ExecuteTime": {
     "end_time": "2024-06-13T04:32:15.305032Z",
     "start_time": "2024-06-13T04:32:15.299042Z"
    }
   },
   "id": "805f7fd990dd842f"
  },
  {
   "cell_type": "code",
   "execution_count": 27,
   "outputs": [],
   "source": [
    "tokenizer = BertTokenizer.from_pretrained('bert-base-uncased')\n",
    "encoded_inputs_train = tokenizer.batch_encode_plus(\n",
    "    X_train_texts,\n",
    "    max_length=max_length,\n",
    "    padding='max_length',\n",
    "    truncation=True,\n",
    "    return_tensors='tf'\n",
    ")"
   ],
   "metadata": {
    "collapsed": false,
    "ExecuteTime": {
     "end_time": "2024-06-13T04:16:39.863093Z",
     "start_time": "2024-06-13T04:16:28.179821Z"
    }
   },
   "id": "6f25610977e61e27"
  },
  {
   "cell_type": "code",
   "execution_count": 34,
   "outputs": [
    {
     "name": "stdout",
     "output_type": "stream",
     "text": [
      "{'input_ids': <tf.Tensor: shape=(16512, 13), dtype=int32, numpy=\n",
      "array([[  101,  1011,  1014, ..., 24096, 27814,   102],\n",
      "       [  101,  1015,  1012, ..., 24096,  1011,   102],\n",
      "       [  101,  1014,  1012, ..., 21084,  2620,   102],\n",
      "       ...,\n",
      "       [  101,  1016,  1012, ..., 22610,  2581,   102],\n",
      "       [  101,  1011,  1014, ...,  2683, 27814,   102],\n",
      "       [  101,  1011,  1014, ...,  2581, 19317,   102]], dtype=int32)>, 'token_type_ids': <tf.Tensor: shape=(16512, 13), dtype=int32, numpy=\n",
      "array([[0, 0, 0, ..., 0, 0, 0],\n",
      "       [0, 0, 0, ..., 0, 0, 0],\n",
      "       [0, 0, 0, ..., 0, 0, 0],\n",
      "       ...,\n",
      "       [0, 0, 0, ..., 0, 0, 0],\n",
      "       [0, 0, 0, ..., 0, 0, 0],\n",
      "       [0, 0, 0, ..., 0, 0, 0]], dtype=int32)>, 'attention_mask': <tf.Tensor: shape=(16512, 13), dtype=int32, numpy=\n",
      "array([[1, 1, 1, ..., 1, 1, 1],\n",
      "       [1, 1, 1, ..., 1, 1, 1],\n",
      "       [1, 1, 1, ..., 1, 1, 1],\n",
      "       ...,\n",
      "       [1, 1, 1, ..., 1, 1, 1],\n",
      "       [1, 1, 1, ..., 1, 1, 1],\n",
      "       [1, 1, 1, ..., 1, 1, 1]], dtype=int32)>}\n"
     ]
    }
   ],
   "source": [
    "print(encoded_inputs_train)"
   ],
   "metadata": {
    "collapsed": false,
    "ExecuteTime": {
     "end_time": "2024-06-13T04:23:44.335286Z",
     "start_time": "2024-06-13T04:23:44.328514Z"
    }
   },
   "id": "27bd367caa40acee"
  },
  {
   "cell_type": "code",
   "execution_count": 43,
   "outputs": [
    {
     "name": "stderr",
     "output_type": "stream",
     "text": [
      "Some weights of the PyTorch model were not used when initializing the TF 2.0 model TFBertModel: ['cls.predictions.transform.dense.weight', 'cls.seq_relationship.weight', 'cls.predictions.bias', 'cls.predictions.transform.LayerNorm.weight', 'cls.seq_relationship.bias', 'cls.predictions.transform.dense.bias', 'cls.predictions.transform.LayerNorm.bias']\n",
      "- This IS expected if you are initializing TFBertModel from a PyTorch model trained on another task or with another architecture (e.g. initializing a TFBertForSequenceClassification model from a BertForPreTraining model).\n",
      "- This IS NOT expected if you are initializing TFBertModel from a PyTorch model that you expect to be exactly identical (e.g. initializing a TFBertForSequenceClassification model from a BertForSequenceClassification model).\n",
      "All the weights of TFBertModel were initialized from the PyTorch model.\n",
      "If your task is similar to the task the model of the checkpoint was trained on, you can already use TFBertModel for predictions without further training.\n"
     ]
    }
   ],
   "source": [
    "bert_model = BERTRegression(max_length=max_length, hidden_size=hidden_size)"
   ],
   "metadata": {
    "collapsed": false,
    "ExecuteTime": {
     "end_time": "2024-06-13T04:35:11.376241Z",
     "start_time": "2024-06-13T04:35:09.566313Z"
    }
   },
   "id": "efd85e9b35e06b4d"
  },
  {
   "cell_type": "code",
   "execution_count": 44,
   "outputs": [],
   "source": [
    "bert_model.compile(optimizer='adam', loss='mean_squared_error')"
   ],
   "metadata": {
    "collapsed": false,
    "ExecuteTime": {
     "end_time": "2024-06-13T04:35:14.222809Z",
     "start_time": "2024-06-13T04:35:14.215718Z"
    }
   },
   "id": "e91803938fac3a1d"
  },
  {
   "cell_type": "code",
   "execution_count": 48,
   "outputs": [
    {
     "name": "stdout",
     "output_type": "stream",
     "text": [
      "Epoch 1/10\n",
      "\u001B[1m413/413\u001B[0m \u001B[32m━━━━━━━━━━━━━━━━━━━━\u001B[0m\u001B[37m\u001B[0m \u001B[1m221s\u001B[0m 535ms/step - loss: 13178360832.0000 - val_loss: 12629756928.0000\n",
      "Epoch 2/10\n",
      "\u001B[1m413/413\u001B[0m \u001B[32m━━━━━━━━━━━━━━━━━━━━\u001B[0m\u001B[37m\u001B[0m \u001B[1m227s\u001B[0m 549ms/step - loss: 12628422656.0000 - val_loss: 12589022208.0000\n",
      "Epoch 3/10\n",
      "\u001B[1m413/413\u001B[0m \u001B[32m━━━━━━━━━━━━━━━━━━━━\u001B[0m\u001B[37m\u001B[0m \u001B[1m236s\u001B[0m 572ms/step - loss: 13012642816.0000 - val_loss: 12570376192.0000\n",
      "Epoch 4/10\n",
      "\u001B[1m413/413\u001B[0m \u001B[32m━━━━━━━━━━━━━━━━━━━━\u001B[0m\u001B[37m\u001B[0m \u001B[1m233s\u001B[0m 565ms/step - loss: 12631139328.0000 - val_loss: 12525213696.0000\n",
      "Epoch 5/10\n",
      "\u001B[1m413/413\u001B[0m \u001B[32m━━━━━━━━━━━━━━━━━━━━\u001B[0m\u001B[37m\u001B[0m \u001B[1m227s\u001B[0m 550ms/step - loss: 12713686016.0000 - val_loss: 12488569856.0000\n",
      "Epoch 6/10\n",
      "\u001B[1m413/413\u001B[0m \u001B[32m━━━━━━━━━━━━━━━━━━━━\u001B[0m\u001B[37m\u001B[0m \u001B[1m231s\u001B[0m 560ms/step - loss: 12822439936.0000 - val_loss: 12454757376.0000\n",
      "Epoch 7/10\n",
      "\u001B[1m413/413\u001B[0m \u001B[32m━━━━━━━━━━━━━━━━━━━━\u001B[0m\u001B[37m\u001B[0m \u001B[1m229s\u001B[0m 554ms/step - loss: 12750013440.0000 - val_loss: 12428469248.0000\n",
      "Epoch 8/10\n",
      "\u001B[1m413/413\u001B[0m \u001B[32m━━━━━━━━━━━━━━━━━━━━\u001B[0m\u001B[37m\u001B[0m \u001B[1m226s\u001B[0m 549ms/step - loss: 12656561152.0000 - val_loss: 12404352000.0000\n",
      "Epoch 9/10\n",
      "\u001B[1m413/413\u001B[0m \u001B[32m━━━━━━━━━━━━━━━━━━━━\u001B[0m\u001B[37m\u001B[0m \u001B[1m225s\u001B[0m 545ms/step - loss: 12824104960.0000 - val_loss: 12379490304.0000\n",
      "Epoch 10/10\n",
      "\u001B[1m413/413\u001B[0m \u001B[32m━━━━━━━━━━━━━━━━━━━━\u001B[0m\u001B[37m\u001B[0m \u001B[1m232s\u001B[0m 563ms/step - loss: 12386105344.0000 - val_loss: 12334415872.0000\n"
     ]
    }
   ],
   "source": [
    "# # Call the model once with dummy inputs to create the variables\n",
    "# dummy_inputs = [\n",
    "#     tf.zeros((1, max_length), dtype=tf.int32),\n",
    "#     tf.zeros((1, max_length), dtype=tf.int32),\n",
    "#     tf.zeros((1, max_length), dtype=tf.int32)\n",
    "# ]\n",
    "# _ = bert_model(dummy_inputs)\n",
    "\n",
    "# Now you can safely call the `fit` method\n",
    "history= bert_model.fit(\n",
    "    [encoded_inputs_train['input_ids'], encoded_inputs_train['attention_mask'], encoded_inputs_train['token_type_ids']],\n",
    "    y_train.values,\n",
    "    epochs=10,\n",
    "    batch_size=32,\n",
    "    validation_split=0.2\n",
    ")"
   ],
   "metadata": {
    "collapsed": false,
    "ExecuteTime": {
     "end_time": "2024-06-13T06:11:46.289229Z",
     "start_time": "2024-06-13T05:33:40.527003Z"
    }
   },
   "id": "fcffdd187a3d47ca"
  },
  {
   "cell_type": "code",
   "execution_count": 51,
   "outputs": [
    {
     "data": {
      "text/plain": "<Figure size 640x480 with 1 Axes>",
      "image/png": "[encoded data removed]"
     },
     "metadata": {},
     "output_type": "display_data"
    }
   ],
   "source": [
    "# Plot training & validation loss values\n",
    "plt.plot(history.history['loss'])\n",
    "plt.plot(history.history['val_loss'])\n",
    "plt.title('Model loss')\n",
    "plt.ylabel('Loss')\n",
    "plt.xlabel('Epoch')\n",
    "plt.legend(['Train', 'Validation'], loc='upper left')\n",
    "plt.show()\n"
   ],
   "metadata": {
    "collapsed": false,
    "ExecuteTime": {
     "end_time": "2024-06-13T06:16:48.127723Z",
     "start_time": "2024-06-13T06:16:47.928613Z"
    }
   },
   "id": "370e198ceea44782"
  },
  {
   "cell_type": "code",
   "execution_count": 49,
   "outputs": [],
   "source": [
    "encoded_inputs_test = tokenizer.batch_encode_plus(\n",
    "    X_test_texts,\n",
    "    max_length=max_length,\n",
    "    padding='max_length',\n",
    "    truncation=True,\n",
    "    return_tensors='tf'\n",
    ")"
   ],
   "metadata": {
    "collapsed": false,
    "ExecuteTime": {
     "start_time": "2024-06-13T06:15:02.704938Z"
    }
   },
   "id": "d81f7429c4227188"
  },
  {
   "cell_type": "code",
   "execution_count": 58,
   "outputs": [
    {
     "name": "stdout",
     "output_type": "stream",
     "text": [
      "{'input_ids': <tf.Tensor: shape=(0, 13), dtype=int32, numpy=array([], shape=(0, 13), dtype=int32)>, 'token_type_ids': <tf.Tensor: shape=(0, 13), dtype=int32, numpy=array([], shape=(0, 13), dtype=int32)>, 'attention_mask': <tf.Tensor: shape=(0, 13), dtype=int32, numpy=array([], shape=(0, 13), dtype=int32)>}\n"
     ]
    }
   ],
   "source": [
    "print(encoded_inputs_test[:0])"
   ],
   "metadata": {
    "collapsed": false,
    "ExecuteTime": {
     "end_time": "2024-06-13T06:31:04.878031Z",
     "start_time": "2024-06-13T06:31:04.866641Z"
    }
   },
   "id": "d90188a21626e3e3"
  },
  {
   "cell_type": "code",
   "execution_count": 55,
   "outputs": [],
   "source": [
    "def predict_function(encoded_inputs_test):\n",
    "    mean_prediction, sd_prediction = bert_model.predict(\n",
    "        [encoded_inputs_test['input_ids'], encoded_inputs_test['attention_mask'], encoded_inputs_test['token_type_ids']], training=False)\n",
    "    return mean_prediction, sd_prediction\n"
   ],
   "metadata": {
    "collapsed": false,
    "ExecuteTime": {
     "end_time": "2024-06-13T06:30:11.150347Z",
     "start_time": "2024-06-13T06:30:11.148378Z"
    }
   },
   "id": "3886a64b13aaef72"
  },
  {
   "cell_type": "code",
   "execution_count": 64,
   "outputs": [
    {
     "name": "stdout",
     "output_type": "stream",
     "text": [
      "\u001B[1m129/129\u001B[0m \u001B[32m━━━━━━━━━━━━━━━━━━━━\u001B[0m\u001B[37m\u001B[0m \u001B[1m176s\u001B[0m 1s/step\n"
     ]
    }
   ],
   "source": [
    "mean_prediction, sd_prediction = bert_model.predict(\n",
    "        [encoded_inputs_test['input_ids'], encoded_inputs_test['attention_mask'], encoded_inputs_test['token_type_ids']])\n"
   ],
   "metadata": {
    "collapsed": false,
    "ExecuteTime": {
     "end_time": "2024-06-13T07:36:48.727368Z",
     "start_time": "2024-06-13T07:33:52.963098Z"
    }
   },
   "id": "4e364d71ba2b0f6b"
  },
  {
   "cell_type": "code",
   "execution_count": 109,
   "outputs": [
    {
     "name": "stdout",
     "output_type": "stream",
     "text": [
      "4128\n"
     ]
    }
   ],
   "source": [
    "print(len(y_test))"
   ],
   "metadata": {
    "collapsed": false,
    "ExecuteTime": {
     "end_time": "2024-06-13T10:33:47.574451Z",
     "start_time": "2024-06-13T10:33:47.569711Z"
    }
   },
   "id": "256177d24635aa9b"
  },
  {
   "cell_type": "code",
   "execution_count": 70,
   "outputs": [],
   "source": [
    "# Example test instance\n",
    "instance_index = 0\n",
    "X_test_instance = X_test_scaled.iloc[instance_index]\n",
    "true_value = y_test.values[instance_index]\n",
    "\n",
    "# Tokenize and encode the instance\n",
    "inputs = tokenizer.encode_plus(\n",
    "    ' '.join(X_test_instance.astype(str).tolist()),\n",
    "    max_length=max_length,\n",
    "    padding='max_length',\n",
    "    truncation=True,\n",
    "    return_tensors='tf'\n",
    ")"
   ],
   "metadata": {
    "collapsed": false,
    "ExecuteTime": {
     "end_time": "2024-06-13T07:45:30.366718Z",
     "start_time": "2024-06-13T07:45:30.355557Z"
    }
   },
   "id": "acd3e1a9222ac91"
  },
  {
   "cell_type": "code",
   "execution_count": 71,
   "outputs": [
    {
     "name": "stdout",
     "output_type": "stream",
     "text": [
      "{'input_ids': <tf.Tensor: shape=(1, 13), dtype=int32, numpy=\n",
      "array([[  101,  1015,  1012,  5187, 28332, 14526, 10790,  2683,  2683,\n",
      "        23499,  2620, 20958,   102]], dtype=int32)>, 'token_type_ids': <tf.Tensor: shape=(1, 13), dtype=int32, numpy=array([[0, 0, 0, 0, 0, 0, 0, 0, 0, 0, 0, 0, 0]], dtype=int32)>, 'attention_mask': <tf.Tensor: shape=(1, 13), dtype=int32, numpy=array([[1, 1, 1, 1, 1, 1, 1, 1, 1, 1, 1, 1, 1]], dtype=int32)>}\n"
     ]
    }
   ],
   "source": [
    "print(inputs)"
   ],
   "metadata": {
    "collapsed": false,
    "ExecuteTime": {
     "end_time": "2024-06-13T07:45:38.567998Z",
     "start_time": "2024-06-13T07:45:38.562313Z"
    }
   },
   "id": "cb95ea0003745c40"
  },
  {
   "cell_type": "code",
   "execution_count": 95,
   "outputs": [
    {
     "ename": "AttributeError",
     "evalue": "'Series' object has no attribute 'iteritems'",
     "output_type": "error",
     "traceback": [
      "\u001B[0;31m---------------------------------------------------------------------------\u001B[0m",
      "\u001B[0;31mAttributeError\u001B[0m                            Traceback (most recent call last)",
      "\u001B[0;32m/var/folders/3r/pzt2_p_x2xdfl2057nxkp3nm0000gn/T/ipykernel_94734/1147664341.py\u001B[0m in \u001B[0;36m?\u001B[0;34m()\u001B[0m\n\u001B[1;32m     32\u001B[0m     \u001B[0mlabel\u001B[0m \u001B[0;34m=\u001B[0m \u001B[0mexp\u001B[0m\u001B[0;34m.\u001B[0m\u001B[0mavailable_labels\u001B[0m\u001B[0;34m(\u001B[0m\u001B[0;34m)\u001B[0m\u001B[0;34m[\u001B[0m\u001B[0;36m0\u001B[0m\u001B[0;34m]\u001B[0m\u001B[0;34m\u001B[0m\u001B[0;34m\u001B[0m\u001B[0m\n\u001B[1;32m     33\u001B[0m     \u001B[0mlocal_exp\u001B[0m \u001B[0;34m=\u001B[0m \u001B[0mexp\u001B[0m\u001B[0;34m.\u001B[0m\u001B[0mlocal_exp\u001B[0m\u001B[0;34m[\u001B[0m\u001B[0mlabel\u001B[0m\u001B[0;34m]\u001B[0m\u001B[0;34m\u001B[0m\u001B[0;34m\u001B[0m\u001B[0m\n\u001B[1;32m     34\u001B[0m \u001B[0;34m\u001B[0m\u001B[0m\n\u001B[1;32m     35\u001B[0m     \u001B[0;32mfor\u001B[0m \u001B[0minstance_index\u001B[0m\u001B[0;34m,\u001B[0m \u001B[0minstance\u001B[0m \u001B[0;32min\u001B[0m \u001B[0mX_test\u001B[0m\u001B[0;34m.\u001B[0m\u001B[0miterrows\u001B[0m\u001B[0;34m(\u001B[0m\u001B[0;34m)\u001B[0m\u001B[0;34m:\u001B[0m\u001B[0;34m\u001B[0m\u001B[0;34m\u001B[0m\u001B[0m\n\u001B[0;32m---> 36\u001B[0;31m         \u001B[0;32mfor\u001B[0m \u001B[0mfeature_index\u001B[0m\u001B[0;34m,\u001B[0m \u001B[0mfeature_value\u001B[0m \u001B[0;32min\u001B[0m \u001B[0minstance\u001B[0m\u001B[0;34m.\u001B[0m\u001B[0miteritems\u001B[0m\u001B[0;34m(\u001B[0m\u001B[0;34m)\u001B[0m\u001B[0;34m:\u001B[0m\u001B[0;34m\u001B[0m\u001B[0;34m\u001B[0m\u001B[0m\n\u001B[0m\u001B[1;32m     37\u001B[0m             \u001B[0mfeature_name\u001B[0m \u001B[0;34m=\u001B[0m \u001B[0mX_test\u001B[0m\u001B[0;34m.\u001B[0m\u001B[0mcolumns\u001B[0m\u001B[0;34m[\u001B[0m\u001B[0mfeature_index\u001B[0m\u001B[0;34m]\u001B[0m\u001B[0;34m\u001B[0m\u001B[0;34m\u001B[0m\u001B[0m\n\u001B[1;32m     38\u001B[0m             \u001B[0;32mif\u001B[0m \u001B[0mfeature_name\u001B[0m \u001B[0;34m==\u001B[0m \u001B[0;34m'Median_House_Value'\u001B[0m\u001B[0;34m:\u001B[0m\u001B[0;34m\u001B[0m\u001B[0;34m\u001B[0m\u001B[0m\n\u001B[1;32m     39\u001B[0m                 \u001B[0;32mcontinue\u001B[0m\u001B[0;34m\u001B[0m\u001B[0;34m\u001B[0m\u001B[0m\n",
      "\u001B[0;32m~/Library/Caches/pypoetry/virtualenvs/program-i-Fez0zm-py3.10/lib/python3.10/site-packages/pandas/core/generic.py\u001B[0m in \u001B[0;36m?\u001B[0;34m(self, name)\u001B[0m\n\u001B[1;32m   6295\u001B[0m             \u001B[0;32mand\u001B[0m \u001B[0mname\u001B[0m \u001B[0;32mnot\u001B[0m \u001B[0;32min\u001B[0m \u001B[0mself\u001B[0m\u001B[0;34m.\u001B[0m\u001B[0m_accessors\u001B[0m\u001B[0;34m\u001B[0m\u001B[0;34m\u001B[0m\u001B[0m\n\u001B[1;32m   6296\u001B[0m             \u001B[0;32mand\u001B[0m \u001B[0mself\u001B[0m\u001B[0;34m.\u001B[0m\u001B[0m_info_axis\u001B[0m\u001B[0;34m.\u001B[0m\u001B[0m_can_hold_identifiers_and_holds_name\u001B[0m\u001B[0;34m(\u001B[0m\u001B[0mname\u001B[0m\u001B[0;34m)\u001B[0m\u001B[0;34m\u001B[0m\u001B[0;34m\u001B[0m\u001B[0m\n\u001B[1;32m   6297\u001B[0m         ):\n\u001B[1;32m   6298\u001B[0m             \u001B[0;32mreturn\u001B[0m \u001B[0mself\u001B[0m\u001B[0;34m[\u001B[0m\u001B[0mname\u001B[0m\u001B[0;34m]\u001B[0m\u001B[0;34m\u001B[0m\u001B[0;34m\u001B[0m\u001B[0m\n\u001B[0;32m-> 6299\u001B[0;31m         \u001B[0;32mreturn\u001B[0m \u001B[0mobject\u001B[0m\u001B[0;34m.\u001B[0m\u001B[0m__getattribute__\u001B[0m\u001B[0;34m(\u001B[0m\u001B[0mself\u001B[0m\u001B[0;34m,\u001B[0m \u001B[0mname\u001B[0m\u001B[0;34m)\u001B[0m\u001B[0;34m\u001B[0m\u001B[0;34m\u001B[0m\u001B[0m\n\u001B[0m",
      "\u001B[0;31mAttributeError\u001B[0m: 'Series' object has no attribute 'iteritems'"
     ]
    }
   ],
   "source": [
    "# List to store weights for each feature\n",
    "feature_weights = {feature: [] for feature in features}\n",
    "# Create LIME explainer\n",
    "explainer = LimeTextExplainer(class_names=features)\n",
    "\n",
    "# Loop over test instances\n",
    "for instance_index in range(len(X_test)):\n",
    "    X_test_instance = X_test_scaled.iloc[instance_index]\n",
    "    true_value = y_test.values[instance_index]\n",
    "\n",
    "    # Tokenize and encode the instance\n",
    "    inputs = tokenizer.encode_plus(\n",
    "        ' '.join(X_test_instance.astype(str).tolist()),\n",
    "        max_length=max_length,\n",
    "        padding='max_length',\n",
    "        truncation=True,\n",
    "        return_tensors='tf'\n",
    "    )\n",
    "\n",
    "    # Convert X_test_instance to a single string format that LIME expects\n",
    "    text_instance = ' '.join(X_test_instance.astype(str).tolist())\n",
    "\n",
    "    # Explain the prediction\n",
    "    exp = explainer.explain_instance(\n",
    "        text_instance,\n",
    "        predict_function,\n",
    "        num_features=len(features),\n",
    "        labels=[0]\n",
    "    )\n",
    "\n",
    "    # Get the explanation for the first label\n",
    "    label = exp.available_labels()[0]\n",
    "    local_exp = exp.local_exp[label]\n",
    "\n",
    "    for instance_index, instance in X_test.iterrows():\n",
    "        for feature_index, feature_value in instance.iteritems():\n",
    "            feature_name = X_test.columns[feature_index]\n",
    "            if feature_name == 'Median_House_Value':\n",
    "                continue\n",
    "            feature_weights[feature_name] = feature_value\n",
    "            if feature_name == 'Median_House_Value':\n",
    "                continue\n",
    "# Calculate the mean and standard deviation of weights for each feature\n",
    "feature_stats = {feature: (np.mean(weights), np.std(weights)) for feature, weights in feature_weights.items()}\n",
    "\n",
    "# Print the mean and standard deviation of weights for each feature\n",
    "for feature, (mean_weight, std_weight) in feature_stats.items():\n",
    "    print(f\"Feature: {feature}, Mean Weight: {mean_weight:.3f}, Standard Deviation: {std_weight:.3f}\")"
   ],
   "metadata": {
    "collapsed": false,
    "ExecuteTime": {
     "end_time": "2024-06-13T08:36:44.936302Z",
     "start_time": "2024-06-13T08:31:49.956681Z"
    }
   },
   "id": "ae994459565addb7"
  },
  {
   "cell_type": "code",
   "execution_count": 81,
   "outputs": [],
   "source": [
    "# Define the prediction function for LIME\n",
    "def predict_function(texts):\n",
    "    # Convert the input texts to tensors\n",
    "    encoded_inputs = tokenizer.batch_encode_plus(\n",
    "        texts,\n",
    "        max_length=max_length,\n",
    "        padding='max_length',\n",
    "        truncation=True,\n",
    "        return_tensors='tf'\n",
    "    )\n",
    "    \n",
    "    # Make predictions using the model\n",
    "    predictions = bert_model([encoded_inputs['input_ids'], encoded_inputs['attention_mask'], encoded_inputs['token_type_ids']])\n",
    "    \n",
    "    return predictions[0].numpy()\n",
    "\n",
    "# Create LIME explainer\n",
    "explainer = LimeTextExplainer(class_names=features)\n",
    "\n",
    "# Convert X_test_instance to a single string format that LIME expects\n",
    "text_instance = ' '.join(X_test_instance.astype(str).tolist())\n",
    "\n",
    "# Explain the prediction\n",
    "exp = explainer.explain_instance(\n",
    "    text_instance,  # Pass the instance as a single string\n",
    "    predict_function,\n",
    "    num_features=len(features),\n",
    "    labels=[0]\n",
    ")"
   ],
   "metadata": {
    "collapsed": false,
    "ExecuteTime": {
     "end_time": "2024-06-13T08:16:01.816175Z",
     "start_time": "2024-06-13T08:11:03.753970Z"
    }
   },
   "id": "dda1095791c487b1"
  },
  {
   "cell_type": "code",
   "execution_count": 92,
   "outputs": [
    {
     "ename": "AttributeError",
     "evalue": "'Explanation' object has no attribute 'show_html'",
     "output_type": "error",
     "traceback": [
      "\u001B[0;31m---------------------------------------------------------------------------\u001B[0m",
      "\u001B[0;31mAttributeError\u001B[0m                            Traceback (most recent call last)",
      "Cell \u001B[0;32mIn[92], line 1\u001B[0m\n\u001B[0;32m----> 1\u001B[0m \u001B[43mexp\u001B[49m\u001B[38;5;241;43m.\u001B[39;49m\u001B[43mshow_html\u001B[49m()\n",
      "\u001B[0;31mAttributeError\u001B[0m: 'Explanation' object has no attribute 'show_html'"
     ]
    }
   ],
   "source": [
    "exp.show_html()"
   ],
   "metadata": {
    "collapsed": false,
    "ExecuteTime": {
     "end_time": "2024-06-13T08:22:15.326919Z",
     "start_time": "2024-06-13T08:22:15.311367Z"
    }
   },
   "id": "d814e09944695da7"
  },
  {
   "cell_type": "code",
   "execution_count": 88,
   "outputs": [
    {
     "name": "stdout",
     "output_type": "stream",
     "text": [
      "Top 10 features for label 0:\n",
      "0: 19273.901\n",
      "1: 10295.338\n",
      "2: -5943.946\n",
      "5: -721.595\n",
      "8: -647.615\n",
      "14: 551.335\n",
      "4: -433.136\n",
      "10: -430.347\n",
      "11: 369.826\n",
      "9: -335.328\n"
     ]
    }
   ],
   "source": [
    "label = exp.available_labels()[0]\n",
    "top_features = exp.local_exp[label][:12]\n",
    "print(f\"Top 10 features for label {label}:\")\n",
    "for feature, weight in top_features:\n",
    "    print(f\"{feature}: {weight:.3f}\")"
   ],
   "metadata": {
    "collapsed": false,
    "ExecuteTime": {
     "end_time": "2024-06-13T08:20:31.348835Z",
     "start_time": "2024-06-13T08:20:31.344996Z"
    }
   },
   "id": "11a27c88c50fdfe6"
  },
  {
   "cell_type": "code",
   "execution_count": 96,
   "outputs": [
    {
     "ename": "TypeError",
     "evalue": "list indices must be integers or slices, not str",
     "output_type": "error",
     "traceback": [
      "\u001B[0;31m---------------------------------------------------------------------------\u001B[0m",
      "\u001B[0;31mTypeError\u001B[0m                                 Traceback (most recent call last)",
      "Cell \u001B[0;32mIn[96], line 36\u001B[0m\n\u001B[1;32m     34\u001B[0m         \u001B[38;5;28;01mif\u001B[39;00m feature_name \u001B[38;5;241m==\u001B[39m \u001B[38;5;124m'\u001B[39m\u001B[38;5;124mMedian_House_Value\u001B[39m\u001B[38;5;124m'\u001B[39m:\n\u001B[1;32m     35\u001B[0m             \u001B[38;5;28;01mcontinue\u001B[39;00m\n\u001B[0;32m---> 36\u001B[0m         feature_weights[feature_name]\u001B[38;5;241m.\u001B[39mappend(\u001B[43mlocal_exp\u001B[49m\u001B[43m[\u001B[49m\u001B[43mfeature_name\u001B[49m\u001B[43m]\u001B[49m)\n\u001B[1;32m     38\u001B[0m \u001B[38;5;66;03m# Calculate the mean and standard deviation of weights for each feature\u001B[39;00m\n\u001B[1;32m     39\u001B[0m feature_stats \u001B[38;5;241m=\u001B[39m {feature: (np\u001B[38;5;241m.\u001B[39mmean(weights), np\u001B[38;5;241m.\u001B[39mstd(weights)) \u001B[38;5;28;01mfor\u001B[39;00m feature, weights \u001B[38;5;129;01min\u001B[39;00m feature_weights\u001B[38;5;241m.\u001B[39mitems()}\n",
      "\u001B[0;31mTypeError\u001B[0m: list indices must be integers or slices, not str"
     ]
    }
   ],
   "source": [
    "# List to store weights for each feature\n",
    "feature_weights = {feature: [] for feature in features}\n",
    "\n",
    "# Loop over test instances\n",
    "for instance_index, instance in X_test.iterrows():\n",
    "    true_value = y_test.iloc[instance_index]\n",
    "\n",
    "    # Tokenize and encode the instance\n",
    "    inputs = tokenizer.encode_plus(\n",
    "        ' '.join(instance.astype(str)),\n",
    "        max_length=max_length,\n",
    "        padding='max_length',\n",
    "        truncation=True,\n",
    "        return_tensors='tf'\n",
    "    )\n",
    "\n",
    "    # Convert X_test_instance to a single string format that LIME expects\n",
    "    text_instance = ' '.join(instance.astype(str))\n",
    "\n",
    "    # Explain the prediction\n",
    "    exp = explainer.explain_instance(\n",
    "        text_instance,\n",
    "        predict_function,\n",
    "        num_features=len(features),\n",
    "        labels=[0]\n",
    "    )\n",
    "\n",
    "    lime_bert = []\n",
    "    lime_bert.append(exp)"
   ],
   "metadata": {
    "collapsed": false,
    "ExecuteTime": {
     "end_time": "2024-06-13T08:44:08.686285Z",
     "start_time": "2024-06-13T08:38:05.496575Z"
    }
   },
   "id": "63f5f37eb84b8355"
  },
  {
   "cell_type": "code",
   "execution_count": 101,
   "outputs": [
    {
     "name": "stdout",
     "output_type": "stream",
     "text": [
      "Predicted value: [194911.24677301]\n",
      "Top features:\n",
      "- 0, weight: -11644.5538\n",
      "- 4, weight: -7237.4925\n",
      "- 3, weight: -4562.9556\n",
      "- 2, weight: -3960.2858\n",
      "- 1, weight: -1903.7930\n",
      "- 5, weight: -1373.4202\n",
      "- 10, weight: 1015.1179\n",
      "- 7, weight: -887.2533\n",
      "- 18, weight: 808.1198\n",
      "- 16, weight: 747.6968\n",
      "- 19, weight: 729.0032\n",
      "- 15, weight: 492.0135\n",
      "- 12, weight: 473.2118\n"
     ]
    }
   ],
   "source": [
    "# Get the predicted value\n",
    "predicted_value = exp.local_pred\n",
    "\n",
    "# Get the local explanation\n",
    "label = exp.available_labels()[0]\n",
    "local_exp = exp.local_exp[label]\n",
    "\n",
    "# Print the predicted value\n",
    "print(f\"Predicted value: {predicted_value}\")\n",
    "\n",
    "# Print the top features and their weights\n",
    "print(\"Top features:\")\n",
    "for feature, weight in local_exp:\n",
    "    print(f\"- {feature}, weight: {weight:.4f}\")"
   ],
   "metadata": {
    "collapsed": false,
    "ExecuteTime": {
     "end_time": "2024-06-13T08:53:11.346828Z",
     "start_time": "2024-06-13T08:53:11.342638Z"
    }
   },
   "id": "adcb051570f2ff41"
  },
  {
   "cell_type": "code",
   "execution_count": 104,
   "outputs": [],
   "source": [
    "def run_multiple_inferences(instance, num_inferences):\n",
    "    predictions = []\n",
    "    for _ in range(num_inferences):\n",
    "        inputs = tokenizer.encode_plus(\n",
    "            ' '.join(instance.astype(str)),\n",
    "            max_length=max_length,\n",
    "            padding='max_length',\n",
    "            truncation=True,\n",
    "            return_tensors='tf'\n",
    "        )\n",
    "        model_output = bert_model([inputs['input_ids'], inputs['attention_mask'], inputs['token_type_ids']])\n",
    "        prediction = model_output[0]  # Assuming the first element is the prediction\n",
    "        predictions.append(prediction.numpy())\n",
    "    return predictions"
   ],
   "metadata": {
    "collapsed": false,
    "ExecuteTime": {
     "end_time": "2024-06-13T09:00:08.746940Z",
     "start_time": "2024-06-13T09:00:08.738973Z"
    }
   },
   "id": "25ca6b0a9e823a92"
  },
  {
   "cell_type": "code",
   "execution_count": 105,
   "outputs": [],
   "source": [
    "instance_index = 0\n",
    "instance = X_test_scaled.iloc[instance_index]\n",
    "num_inferences = 10  # Adjust this value according to your needs\n",
    "\n",
    "# Run multiple inferences\n",
    "predictions = run_multiple_inferences(instance, num_inferences)\n",
    "\n",
    "# Store the weights for each inference\n",
    "instance_weights = []\n",
    "for prediction in predictions:\n",
    "    # Convert the instance to a string format for LIME\n",
    "    text_instance = ' '.join(instance.astype(str))\n",
    "\n",
    "    # Get the explanation\n",
    "    exp = explainer.explain_instance(\n",
    "        text_instance,\n",
    "        predict_function,\n",
    "        num_features=len(features),\n",
    "        labels=[0]\n",
    "    )\n",
    "\n",
    "    # Get the explanation for the first label\n",
    "    label = exp.available_labels()[0]\n",
    "    local_exp = exp.local_exp[label]\n",
    "\n",
    "    # Store the weights for this inference\n",
    "    instance_weights.append([(feature, weight) for feature, weight in local_exp])"
   ],
   "metadata": {
    "collapsed": false,
    "ExecuteTime": {
     "end_time": "2024-06-13T10:23:35.675684Z",
     "start_time": "2024-06-13T09:00:09.304569Z"
    }
   },
   "id": "b1add76dd6cd7ce4"
  },
  {
   "cell_type": "code",
   "execution_count": 106,
   "outputs": [
    {
     "ename": "TypeError",
     "evalue": "list indices must be integers or slices, not str",
     "output_type": "error",
     "traceback": [
      "\u001B[0;31m---------------------------------------------------------------------------\u001B[0m",
      "\u001B[0;31mTypeError\u001B[0m                                 Traceback (most recent call last)",
      "Cell \u001B[0;32mIn[106], line 5\u001B[0m\n\u001B[1;32m      3\u001B[0m std_weights \u001B[38;5;241m=\u001B[39m {}\n\u001B[1;32m      4\u001B[0m \u001B[38;5;28;01mfor\u001B[39;00m feature \u001B[38;5;129;01min\u001B[39;00m features:\n\u001B[0;32m----> 5\u001B[0m     weights \u001B[38;5;241m=\u001B[39m [exp_weights[feature] \u001B[38;5;28;01mfor\u001B[39;00m exp_weights \u001B[38;5;129;01min\u001B[39;00m instance_weights]\n\u001B[1;32m      6\u001B[0m     mean_weights[feature] \u001B[38;5;241m=\u001B[39m np\u001B[38;5;241m.\u001B[39mmean(weights)\n\u001B[1;32m      7\u001B[0m     std_weights[feature] \u001B[38;5;241m=\u001B[39m np\u001B[38;5;241m.\u001B[39mstd(weights)\n",
      "Cell \u001B[0;32mIn[106], line 5\u001B[0m, in \u001B[0;36m<listcomp>\u001B[0;34m(.0)\u001B[0m\n\u001B[1;32m      3\u001B[0m std_weights \u001B[38;5;241m=\u001B[39m {}\n\u001B[1;32m      4\u001B[0m \u001B[38;5;28;01mfor\u001B[39;00m feature \u001B[38;5;129;01min\u001B[39;00m features:\n\u001B[0;32m----> 5\u001B[0m     weights \u001B[38;5;241m=\u001B[39m [\u001B[43mexp_weights\u001B[49m\u001B[43m[\u001B[49m\u001B[43mfeature\u001B[49m\u001B[43m]\u001B[49m \u001B[38;5;28;01mfor\u001B[39;00m exp_weights \u001B[38;5;129;01min\u001B[39;00m instance_weights]\n\u001B[1;32m      6\u001B[0m     mean_weights[feature] \u001B[38;5;241m=\u001B[39m np\u001B[38;5;241m.\u001B[39mmean(weights)\n\u001B[1;32m      7\u001B[0m     std_weights[feature] \u001B[38;5;241m=\u001B[39m np\u001B[38;5;241m.\u001B[39mstd(weights)\n",
      "\u001B[0;31mTypeError\u001B[0m: list indices must be integers or slices, not str"
     ]
    }
   ],
   "source": [
    "# Calculate the mean and standard deviation of weights\n",
    "mean_weights = {}\n",
    "std_weights = {}\n",
    "for feature in features:\n",
    "    weights = [exp_weights[feature] for exp_weights in instance_weights]\n",
    "    mean_weights[feature] = np.mean(weights)\n",
    "    std_weights[feature] = np.std(weights)\n",
    "\n",
    "# Print the mean and standard deviation of weights for this instance\n",
    "for feature in features:\n",
    "    print(f\"Feature: {feature}, Mean Weight: {mean_weights[feature]:.3f}, Standard Deviation: {std_weights[feature]:.3f}\")"
   ],
   "metadata": {
    "collapsed": false,
    "ExecuteTime": {
     "end_time": "2024-06-13T10:23:35.841105Z",
     "start_time": "2024-06-13T10:23:35.744651Z"
    }
   },
   "id": "e1055704d5bd2b6f"
  },
  {
   "cell_type": "code",
   "execution_count": null,
   "outputs": [],
   "source": [
    "# Sort the features by mean weight\n",
    "sorted_features = sorted(mean_weights.items(), key=lambda x: x[1], reverse=True)\n",
    "\n",
    "# Create lists for feature names, mean weights, and standard deviations\n",
    "features = [feature for feature, _ in sorted_features]\n",
    "mean_weights = [weight for _, weight in sorted_features]\n",
    "std_weights = [std_weights[feature] for feature, _ in sorted_features]\n",
    "\n",
    "# Set colors based on the sign of the mean weight\n",
    "colors = ['lightblue' if weight > 0 else 'pink' for weight in mean_weights]\n",
    "\n",
    "# Create a figure and plot the bar chart\n",
    "fig, ax = plt.subplots(figsize=(9, 6))\n",
    "feature_ids = range(len(features))\n",
    "bar_plot = ax.barh(feature_ids, mean_weights, xerr=std_weights, capsize=5, alpha=0.9, color=colors)\n",
    "\n",
    "# Add labels and title\n",
    "ax.set_yticks(feature_ids)\n",
    "ax.set_yticklabels(features, fontsize=12)\n",
    "ax.set_xlabel(\"Weight\", fontsize=12)\n",
    "ax.set_title(f\"Feature Weights for Instance {instance_index}\", fontsize=14)\n",
    "\n",
    "# Rotate y-axis labels for better visibility\n",
    "plt.subplots_adjust(left=0.3)\n",
    "plt.tight_layout()"
   ],
   "metadata": {
    "collapsed": false,
    "ExecuteTime": {
     "start_time": "2024-06-13T10:23:35.814493Z"
    }
   },
   "id": "6c0b62c087f53149"
  },
  {
   "cell_type": "code",
   "execution_count": null,
   "outputs": [],
   "source": [],
   "metadata": {
    "collapsed": false
   },
   "id": "efb9dd29268c6e53"
  }
 ],
 "metadata": {
  "kernelspec": {
   "display_name": "Python 3",
   "language": "python",
   "name": "python3"
  },
  "language_info": {
   "codemirror_mode": {
    "name": "ipython",
    "version": 2
   },
   "file_extension": ".py",
   "mimetype": "text/x-python",
   "name": "python",
   "nbconvert_exporter": "python",
   "pygments_lexer": "ipython2",
   "version": "2.7.6"
  }
 },
 "nbformat": 4,
 "nbformat_minor": 5
}
