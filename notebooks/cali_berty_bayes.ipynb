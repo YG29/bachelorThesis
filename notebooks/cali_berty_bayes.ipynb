{
 "cells": [
  {
   "cell_type": "code",
   "execution_count": 2,
   "id": "initial_id",
   "metadata": {
    "collapsed": true,
    "ExecuteTime": {
     "end_time": "2024-06-17T11:36:08.275263Z",
     "start_time": "2024-06-17T11:35:52.505683Z"
    }
   },
   "outputs": [],
   "source": [
    "import tensorflow as tf\n",
    "import tensorflow_probability as tfp\n",
    "import numpy as np\n",
    "from tensorflow.keras.layers import Dense, Dropout\n",
    "from tensorflow.keras.models import Model, load_model\n",
    "\n",
    "from transformers import TFBertModel, BertTokenizer\n",
    "from sklearn.model_selection import train_test_split\n",
    "from sklearn.preprocessing import StandardScaler\n",
    "import pandas as pd\n",
    "\n",
    "import matplotlib.pyplot as plt\n",
    "from lime.lime_text import LimeTextExplainer\n",
    "import shap\n",
    "from collections import defaultdict\n",
    "import itertools"
   ]
  },
  {
   "cell_type": "code",
   "execution_count": null,
   "outputs": [],
   "source": [
    "# load and preprocess data: cali housing\n",
    "\n",
    "cali_housing_path = '../data/California_Houses.csv'\n",
    "RANDOM_SEED = 492\n",
    "cali_df = pd.read_csv(cali_housing_path)\n",
    "y_series = cali_df['Median_House_Value']\n",
    "y = pd.DataFrame(y_series, columns=['Median_House_Value'])\n",
    "features = [col for col in cali_df.columns if col != 'Median_House_Value']\n",
    "X = cali_df[features]\n",
    "X_train, X_test, y_train, y_test = train_test_split(X, y, test_size=0.2, random_state=RANDOM_SEED)\n",
    "X_train = X_train.reset_index(drop=True)\n",
    "y_train = y_train.reset_index(drop=True)\n",
    "X_test = X_test.reset_index(drop=True)\n",
    "y_test = y_test.reset_index(drop=True)\n"
   ],
   "metadata": {
    "collapsed": false
   },
   "id": "db704ca0e78d782f"
  },
  {
   "cell_type": "code",
   "execution_count": null,
   "outputs": [],
   "source": [
    "# preprocessing\n",
    "\n",
    "scaler = StandardScaler()\n",
    "X_train_scaled = scaler.fit_transform(X_train)\n",
    "X_test_scaled = scaler.transform(X_test)\n",
    "\n",
    "X_train_scaled = pd.DataFrame(X_train_scaled, columns=X_train.columns)\n",
    "X_test_scaled = pd.DataFrame(X_test_scaled, columns=X_test.columns)\n",
    "\n",
    "# make the data into strings\n",
    "X_train_texts = X_train_scaled.astype(str).apply(' '.join, axis=1).tolist()\n",
    "X_test_texts = X_test_scaled.astype(str).apply(' '.join, axis=1).tolist()"
   ],
   "metadata": {
    "collapsed": false
   },
   "id": "ee04a35db31b745a"
  },
  {
   "cell_type": "code",
   "execution_count": null,
   "outputs": [],
   "source": [
    "# Load the pre-trained BERT model\n",
    "tokenizer = BertTokenizer.from_pretrained('bert-base-uncased')\n",
    "bert_model = TFBertModel.from_pretrained('bert-base-uncased')"
   ],
   "metadata": {
    "collapsed": false
   },
   "id": "fd37197fe407ba72"
  },
  {
   "cell_type": "code",
   "execution_count": null,
   "outputs": [],
   "source": [
    "class BayesianDense(tf.keras.layers.Layer):\n",
    "    def __init__(self, units, prior_stddev=1.0, **kwargs):\n",
    "        super(BayesianDense, self).__init__(**kwargs)\n",
    "        self.units = units\n",
    "        self.prior_stddev = prior_stddev\n",
    "        self.dense_flipout = tfp.layers.DenseFlipout(\n",
    "            units,\n",
    "            activation='relu',\n",
    "            kernel_divergence_fn=self.kl_divergence_fn\n",
    "        )\n",
    "        \n",
    "    def kl_divergence_fn(self, q, p, _):\n",
    "        return tfp.distributions.kl_divergence(q, p) / tf.cast(tf.reduce_prod(q.batch_shape), tf.float32)\n",
    "\n",
    "    def call(self, inputs):\n",
    "        return self.dense_flipout(inputs)\n",
    "    "
   ],
   "metadata": {
    "collapsed": false
   },
   "id": "de3199c61d392124"
  },
  {
   "cell_type": "code",
   "execution_count": null,
   "outputs": [],
   "source": [
    "class BERTRegression(Model):\n",
    "    def __init__(self, max_length, dense_size, dropout_rate=0.1, num_samples=10, num_features=13):\n",
    "        super(BERTRegression, self).__init__()\n",
    "        self.max_length = max_length\n",
    "        self.bert_model = TFBertModel.from_pretrained('bert-base-uncased')\n",
    "        self.bert_model.trainable = True\n",
    "        self.dropout = Dropout(dropout_rate)\n",
    "        self.dense_bayes_layer = BayesianDense(dense_size)\n",
    "        self.output_layer = Dense(1, activation='linear')\n",
    "        self.num_mc_samples = num_samples\n",
    "        self.explainer = LimeTextExplainer()\n",
    "        self.num_features = num_features\n",
    "        self.tokenizer = BertTokenizer.from_pretrained('bert-base-uncased')\n",
    "\n",
    "    def call(self, inputs, training=True):\n",
    "        input_ids, attention_mask, token_type_ids = inputs\n",
    "        bert_output = self.bert_model(input_ids, attention_mask=attention_mask, token_type_ids=token_type_ids)[1]\n",
    "        dropout_output = self.dropout(bert_output, training=training)\n",
    "        hidden_output = self.dense_bayes_layer(dropout_output)\n",
    "        output = self.output_layer(hidden_output)\n",
    "        return output\n",
    "    \n",
    "    def predict_with_uncertainty(self, inputs):\n",
    "        predictions = tf.stack([self(inputs) for _ in range(self.num_samples)])\n",
    "        prediction_mean = tf.reduce_mean(predictions, axis=0)\n",
    "        prediction_stddev = tf.math.reduce_std(predictions, axis=0)\n",
    "        return prediction_mean, prediction_stddev\n",
    "\n",
    "    def explain_lime(self, text_instance):\n",
    "        explanations = []\n",
    "\n",
    "        def predict_function(texts):\n",
    "            inputs = self.tokenizer.batch_encode_plus(\n",
    "                texts,\n",
    "                max_length=self.max_length,\n",
    "                padding='max_length',\n",
    "                truncation=True,\n",
    "                return_tensors='tf'\n",
    "            )\n",
    "            outputs = self.predict_with_uncertainty([\n",
    "                inputs['input_ids'],\n",
    "                inputs['attention_mask'],\n",
    "                inputs['token_type_ids']\n",
    "            ])\n",
    "            return outputs[0].numpy()\n",
    "\n",
    "        exp = self.explainer.explain_instance(\n",
    "            text_instance,\n",
    "            predict_function,\n",
    "            num_features=self.num_features\n",
    "        )\n",
    "        explanations.append(exp)\n",
    "        return explanations"
   ],
   "metadata": {
    "collapsed": false
   },
   "id": "1b35ee43c700e918"
  }
 ],
 "metadata": {
  "kernelspec": {
   "display_name": "Python 3",
   "language": "python",
   "name": "python3"
  },
  "language_info": {
   "codemirror_mode": {
    "name": "ipython",
    "version": 2
   },
   "file_extension": ".py",
   "mimetype": "text/x-python",
   "name": "python",
   "nbconvert_exporter": "python",
   "pygments_lexer": "ipython2",
   "version": "2.7.6"
  }
 },
 "nbformat": 4,
 "nbformat_minor": 5
}
